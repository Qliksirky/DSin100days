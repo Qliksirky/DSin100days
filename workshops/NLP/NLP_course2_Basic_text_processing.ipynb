{
 "cells": [
  {
   "cell_type": "markdown",
   "metadata": {},
   "source": [
    "# Natural Language processing - Basic Text Processing"
   ]
  },
  {
   "cell_type": "markdown",
   "metadata": {},
   "source": [
    "## Prerequisites for this course\n",
    "1. Basic Python Programming \n",
    "2. Basic Python Libraries\n",
    "3. Webscraping basics using beautiful soup<br>\n",
    "\n",
    "Incase you do not have the necessary knowledge of these topics kindly check out our Refactored.ai course on the same:\n",
    "1. [Python for Data Scientists](https://refactored.ai/course/python-for-data-scientists/)\n",
    "2. [Web Scraping using Python](https://refactored.ai/learn/web-scraping/b84d97e62c9a4f96bfac48be769e62e5/)\n"
   ]
  },
  {
   "cell_type": "markdown",
   "metadata": {},
   "source": [
    "### Tokenization, Stemming & Lemmatization, Part-of-speech Tagging"
   ]
  },
  {
   "cell_type": "markdown",
   "metadata": {},
   "source": [
    "### Text Normalization\n",
    "Every NLP exrercise requires us to break up words or tokenize them.\n",
    "So before we can effectively count the words or organize in a running text we need to figure out whether we want to normalize those words are not"
   ]
  },
  {
   "cell_type": "markdown",
   "metadata": {},
   "source": [
    "What normalization does is that it breaks down the tokens that are in text or segments the tokens."
   ]
  },
  {
   "cell_type": "markdown",
   "metadata": {},
   "source": [
    "So this can be divided into 3 main categories:\n",
    "1. Segmentation/tokenizing words in running text\n",
    "2. Normalizing word formats \n",
    "3. Segmenting sentences in running text"
   ]
  },
  {
   "cell_type": "markdown",
   "metadata": {},
   "source": [
    "Why do we do Text Normalization?\n",
    "Let us look at an exercise:\n",
    "    \n",
    "__How many words?__ <br>\n",
    "I do uh main- mainly business data processing\n",
    "\n",
    "__Answer__<br>\n",
    "The answer could range from 6-8 words.<br>\n",
    "If one does not count \"uh main-\" as proper words it comes down to 6 words<br>\n",
    "If one counts like a computer it comes down to 8 words<br>\n",
    "\n",
    "Hence Text normalization is very important based on your use case."
   ]
  },
  {
   "cell_type": "markdown",
   "metadata": {},
   "source": [
    "Let us look at another exercise:\n",
    "\n",
    "__Count the number of unique words:__<br>\n",
    "Susan's cat in the hat is different from other cats!\n",
    "\n",
    "__Answer__<br>\n",
    "The answer could range from 9-10 depending on whether we take cat or cats as a single word.<br>\n",
    "This again comes to the fact that if we want to find topics in a paragraph and want to highlight cat we should consider cat and cats as the same and will need to normalize them\n",
    "\n",
    "* Lemma: Same stem, part of speech, rough word sense<br>\n",
    " - cat and cats = same lemma\n",
    "* Wordform: the full inflected surface form\n",
    " - cat and cats = different wordforms"
   ]
  },
  {
   "cell_type": "markdown",
   "metadata": {},
   "source": [
    "* __Type:__ an element of the vocabulary. Example would be unique words\n",
    "* __Token:__ an instance of that type in running text. Example would be every single word in a text"
   ]
  },
  {
   "cell_type": "markdown",
   "metadata": {},
   "source": [
    "## Tokenization in Python"
   ]
  },
  {
   "cell_type": "markdown",
   "metadata": {},
   "source": [
    "Run the code below to download only the popular NLTK library.<br>\n",
    "We will primarily use the NLTK library from google which is Google's natural language toolkit\n"
   ]
  },
  {
   "cell_type": "code",
   "execution_count": 77,
   "metadata": {},
   "outputs": [
    {
     "name": "stderr",
     "output_type": "stream",
     "text": [
      "[nltk_data] Downloading package wordnet to\n",
      "[nltk_data]     C:\\Users\\manas\\AppData\\Roaming\\nltk_data...\n",
      "[nltk_data]   Package wordnet is already up-to-date!\n",
      "[nltk_data] Downloading package averaged_perceptron_tagger to\n",
      "[nltk_data]     C:\\Users\\manas\\AppData\\Roaming\\nltk_data...\n",
      "[nltk_data]   Package averaged_perceptron_tagger is already up-to-\n",
      "[nltk_data]       date!\n",
      "[nltk_data] Downloading package brown to\n",
      "[nltk_data]     C:\\Users\\manas\\AppData\\Roaming\\nltk_data...\n",
      "[nltk_data]   Unzipping corpora\\brown.zip.\n"
     ]
    },
    {
     "data": {
      "text/plain": [
       "True"
      ]
     },
     "execution_count": 77,
     "metadata": {},
     "output_type": "execute_result"
    }
   ],
   "source": [
    "import nltk as nltk\n",
    "import nltk.corpus  \n",
    "from nltk.text import Text\n",
    "import pandas as pd\n",
    "import re\n",
    "import sys\n",
    "nltk.download('wordnet')\n",
    "nltk.download('averaged_perceptron_tagger')\n",
    "nltk.download('brown')"
   ]
  },
  {
   "cell_type": "code",
   "execution_count": 5,
   "metadata": {},
   "outputs": [
    {
     "name": "stdout",
     "output_type": "stream",
     "text": [
      "['Flu', 'season', 'hitting', 'earlier', ',', 'with', 'dozens', 'more', 'outbreaks', '—', 'and', 'more', 'severe', 'symptoms']\n"
     ]
    }
   ],
   "source": [
    "#Tokenizing using nltk function called word_tokenize\n",
    "text = \"Flu season hitting earlier, with dozens more outbreaks — and more severe symptoms\"\n",
    "tokens = nltk.tokenize.word_tokenize(text)\n",
    "print(tokens)"
   ]
  },
  {
   "cell_type": "markdown",
   "metadata": {},
   "source": [
    "#### Exercise\n",
    "\n",
    "Write a simple code to tokenize the following text:\n",
    "\n",
    "'What a pity that youth must be wasted on the young.' - George Bernard Shaw\n"
   ]
  },
  {
   "cell_type": "code",
   "execution_count": 6,
   "metadata": {},
   "outputs": [],
   "source": [
    "# write your code below"
   ]
  },
  {
   "cell_type": "markdown",
   "metadata": {},
   "source": [
    "### Solution"
   ]
  },
  {
   "cell_type": "code",
   "execution_count": 10,
   "metadata": {},
   "outputs": [
    {
     "name": "stdout",
     "output_type": "stream",
     "text": [
      "[\"'What\", 'a', 'pity', 'that', 'youth', 'must', 'be', 'wasted', 'on', 'the', 'young', '.', \"'\", '-', 'George', 'Bernard', 'Shaw']\n"
     ]
    }
   ],
   "source": [
    "text = \"'What a pity that youth must be wasted on the young.' - George Bernard Shaw\"\n",
    "tokens = nltk.tokenize.word_tokenize(text)\n",
    "print(tokens)"
   ]
  },
  {
   "cell_type": "markdown",
   "metadata": {},
   "source": [
    "#### Get most frequent words in a book"
   ]
  },
  {
   "cell_type": "code",
   "execution_count": 11,
   "metadata": {},
   "outputs": [
    {
     "name": "stdout",
     "output_type": "stream",
     "text": [
      "<FreqDist with 7773 samples and 79643 outcomes>\n"
     ]
    },
    {
     "data": {
      "text/plain": [
       "[(',', 5702),\n",
       " ('the', 3338),\n",
       " ('and', 3215),\n",
       " ('.', 3081),\n",
       " ('to', 1748),\n",
       " ('a', 1621),\n",
       " ('of', 1425),\n",
       " ('I', 1208),\n",
       " ('it', 1159),\n",
       " ('in', 931)]"
      ]
     },
     "execution_count": 11,
     "metadata": {},
     "output_type": "execute_result"
    }
   ],
   "source": [
    "#open book called 3boat10\n",
    "book = '3boat10.txt'\n",
    "f = open(book)\n",
    "bk_3boat = f.read()\n",
    "\n",
    "\n",
    "#Tokenize the words in the book\n",
    "words = nltk.tokenize.word_tokenize(bk_3boat)\n",
    "\n",
    "#use FreqDist to retireve token frequency\n",
    "fdist = nltk.FreqDist(words)\n",
    "\n",
    "print(fdist)\n",
    "\n",
    "#print most common words\n",
    "fdist.most_common(10)\n",
    "#fdist.items() - will give all words\n"
   ]
  },
  {
   "cell_type": "markdown",
   "metadata": {},
   "source": [
    "#### The previous output gives us no idea what the book is about beacuse it captures the most common tokens present in the book which are primarily stop words(eg. the and to). Hence we will require to clean our data from these stop words"
   ]
  },
  {
   "cell_type": "markdown",
   "metadata": {},
   "source": [
    "#### Get most frequent clean words in a book"
   ]
  },
  {
   "cell_type": "code",
   "execution_count": 13,
   "metadata": {},
   "outputs": [
    {
     "name": "stdout",
     "output_type": "stream",
     "text": [
      "<FreqDist with 6241 samples and 29843 outcomes>\n"
     ]
    },
    {
     "data": {
      "text/plain": [
       "[('said', 378),\n",
       " ('would', 362),\n",
       " ('harris', 316),\n",
       " ('george', 308),\n",
       " ('one', 246),\n",
       " ('us', 228),\n",
       " ('boat', 186),\n",
       " ('get', 179),\n",
       " ('could', 175),\n",
       " ('got', 163)]"
      ]
     },
     "execution_count": 13,
     "metadata": {},
     "output_type": "execute_result"
    }
   ],
   "source": [
    "#from nltk.corpus import stopwords\n",
    "\n",
    "#default_stopwords = set(nltk.corpus.stopwords.words('english'))\n",
    "\n",
    "words = nltk.tokenize.word_tokenize(bk_3boat)\n",
    "\n",
    "#stopwords = stopwords.words('english')\n",
    "stopwords = set(nltk.corpus.stopwords.words('english'))\n",
    "\n",
    "# Remove single-character tokens (mostly punctuation)\n",
    "words = [word for word in words if len(word) > 1]\n",
    "\n",
    "# Remove numbers\n",
    "#words = [word for word in words if not word.isnumeric()]\n",
    "\n",
    "# Remove punctuation\n",
    "words = [word for word in words if word.isalpha()]\n",
    "\n",
    "# Lowercase all words (default_stopwords are lowercase too)\n",
    "words_lc = [word.lower() for word in words]\n",
    "\n",
    "# Remove stopwords\n",
    "words_lc = [word for word in words_lc if word not in stopwords]\n",
    "\n",
    "# Remove stopwords\n",
    "# words = [word for word in words if word not in stopwords]\n",
    "\n",
    "\n",
    "fdist = nltk.FreqDist(words_lc)\n",
    "\n",
    "print(fdist)\n",
    "\n",
    "#fdist.items() - will give all words\n",
    "fdist.most_common(10)"
   ]
  },
  {
   "cell_type": "markdown",
   "metadata": {},
   "source": [
    "#### We have to instantiate a Text object first, and then call it on that object."
   ]
  },
  {
   "cell_type": "code",
   "execution_count": 16,
   "metadata": {},
   "outputs": [],
   "source": [
    "directory = 'D:/Colaberry/NLP Course/'\n",
    "textList = Text(nltk.corpus.gutenberg.words(directory+book))"
   ]
  },
  {
   "cell_type": "markdown",
   "metadata": {},
   "source": [
    "### Concordance"
   ]
  },
  {
   "cell_type": "markdown",
   "metadata": {},
   "source": [
    "#### A concordance view shows us every occurrence of a given word, together with some context."
   ]
  },
  {
   "cell_type": "markdown",
   "metadata": {},
   "source": [
    "#### It will helps us understand in which context, the water is frequently used."
   ]
  },
  {
   "cell_type": "code",
   "execution_count": 18,
   "metadata": {},
   "outputs": [
    {
     "name": "stdout",
     "output_type": "stream",
     "text": [
      "Displaying 25 of 88 matches:\n",
      " thin , not the captain ) and soda - water ; but , towards Saturday , he got up\n",
      "night ,\" and , lulled by the lapping water and the rustling trees , we fall asl\n",
      " , and there is a good two inches of water in the boat , and all the things are\n",
      "t the boat , and who has spilled the water down his sleeve , and has been cursi\n",
      " good , plain merchandise will stand water . You will have time to think as wel\n",
      "hen they are going anywhere near the water , but that they don ' t bathe much w\n",
      " , shivering , through six inches of water . And when I do get to the sea , it \n",
      " swimming for my life in two feet of water . I hop back and dress , and crawl h\n",
      "of Harris ' s , which you mixed with water and called lemonade , plenty of tea \n",
      "orted . \" Now we shan ' t get on the water till after twelve . I wonder you tak\n",
      "on , and prognosticate drought , and water famine , and sunstroke , and simooms\n",
      "the lower part of the town was under water , owing to the river having overflow\n",
      "ident he was the 9 . 32 for Virginia Water , or the 10 a . m . express for the \n",
      "ngston , where they came down to the water ' s edge , looked quite picturesque \n",
      " cloaked gallants swaggered down the water - steps to cry : \" What Ferry , ho !\n",
      "metimes , when you could not see any water at all , but only a brilliant tangle\n",
      "easant landscape , and the sparkling water , it is one of the gayest sights I k\n",
      "t was my misfortune once to go for a water picnic with two ladies of this kind \n",
      "anywhere near real earth , air , and water . The first thing was that they thou\n",
      "ing , and it appeared that a drop of water ruined those costumes . The mark nev\n",
      "m , and I picked out a smooth bit of water to drop them into again each time . \n",
      "ld not help an occasional flicker of water from going over those dresses . The \n",
      "e . When he spread more than pint of water over one of those dresses , he would\n",
      ", and sloush the things about in the water .\" The elder sister said that she wa\n",
      "n the hamper , and a gallon - jar of water in the nose of the boat , and that t\n"
     ]
    }
   ],
   "source": [
    "textList.concordance(\"water\")"
   ]
  },
  {
   "cell_type": "code",
   "execution_count": null,
   "metadata": {},
   "outputs": [],
   "source": [
    "#### Exercise\n",
    "\n",
    "Write a simple code to find the concordance of the following text:\n",
    "\n",
    "dog\n"
   ]
  },
  {
   "cell_type": "code",
   "execution_count": null,
   "metadata": {},
   "outputs": [],
   "source": [
    "# write your code below"
   ]
  },
  {
   "cell_type": "markdown",
   "metadata": {},
   "source": [
    "### Solution"
   ]
  },
  {
   "cell_type": "code",
   "execution_count": 21,
   "metadata": {},
   "outputs": [
    {
     "name": "stdout",
     "output_type": "stream",
     "text": [
      "Displaying 25 of 31 matches:\n",
      "MEN IN A BOAT ( TO SAY NOTHING OF THE DOG ). Three Men in a Boat by Jerome K . \n",
      "ed up at me , and think : \" Oh , that dog will never live . He will be snatched\n",
      "t door but one for having a ferocious dog at large , that had kept him pinned u\n",
      "e and someone to love you , a cat , a dog , and a pipe or two , enough to eat a\n",
      "ed him . I didn ' t encourage him . A dog like that don ' t want any encouragem\n",
      " with eggs and bacon , irritating the dog , or flirting with the slavey , inste\n",
      "dly . He would take bronchitis in the dog - days , and have hay - fever at Chri\n",
      "by the lady of the house ? That china dog that ornaments the bedroom of my furn\n",
      "my furnished lodgings . It is a white dog . Its eyes blue . Its nose is a delic\n",
      "me it is more than probable that that dog will be dug up from somewhere or othe\n",
      "s age , do not see the beauty of that dog . We are too familiar with it . It is\n",
      "o our eyes . So it is with that china dog . In 2288 people will gush over it . \n",
      " one another , and we beamed upon the dog , too . We loved each other , we love\n",
      "INE TO DRINK THE RIVER . - A PEACEFUL DOG . - STRANGE DISAPPEARANCE OF HARRIS A\n",
      "life , with care . I do not blame the dog ( contenting myself , as a rule , wit\n",
      "but mangy about the middle ; a bull - dog , a few Lowther Arcade sort of animal\n",
      "chained up there , between the bull - dog and the poodle . He sat and looked ab\n",
      "d dignified . He looked at the bull - dog , sleeping dreamlessly on his right .\n",
      "his own place , and caught the bull - dog by the ear , and tried to throw him a\n",
      "ed to throw him away ; and the bull - dog , a curiously impartial animal , went\n",
      "d , and snatched up that sweet little dog of hers ( he had laid the tyke up for\n",
      "have chilled the heart of the boldest dog . He stopped abruptly , and looked ba\n",
      "' s boy , with basket . Long - haired dog . Cheesemonger ' s boy , with basket \n",
      "owards us on the sluggish current , a dog . It was one of the quietest and peac\n",
      "dogs I have ever seen . I never met a dog who seemed more contented - more easy\n"
     ]
    }
   ],
   "source": [
    "textList.concordance(\"dog\")"
   ]
  },
  {
   "cell_type": "markdown",
   "metadata": {},
   "source": [
    "### Using \"similar\" helps us discover what other words appear in a similar range of contexts\n",
    "\n",
    "Almost the same functionality as the concordance, so it determines the word similarity based on the world's at the frequency of appearing to the right and to the left of the world of interest."
   ]
  },
  {
   "cell_type": "code",
   "execution_count": 22,
   "metadata": {},
   "outputs": [
    {
     "name": "stdout",
     "output_type": "stream",
     "text": [
      "river boat thing time room bank morning night man things sea lock it\n",
      "other way place house subject them matter\n"
     ]
    }
   ],
   "source": [
    "textList.similar(\"water\")"
   ]
  },
  {
   "cell_type": "code",
   "execution_count": 23,
   "metadata": {},
   "outputs": [
    {
     "name": "stdout",
     "output_type": "stream",
     "text": [
      "bit man long morning change dream body widow party trout boat harris\n",
      "hundred rest week river mean he out is\n"
     ]
    }
   ],
   "source": [
    "textList.similar(\"dog\")"
   ]
  },
  {
   "cell_type": "markdown",
   "metadata": {},
   "source": [
    "### Positional information helps determine the location of a word in the text: how many words from the beginning it appears"
   ]
  },
  {
   "cell_type": "code",
   "execution_count": 24,
   "metadata": {},
   "outputs": [
    {
     "data": {
      "image/png": "[encoded data removed]",
      "text/plain": [
       "<Figure size 432x288 with 1 Axes>"
      ]
     },
     "metadata": {
      "needs_background": "light"
     },
     "output_type": "display_data"
    }
   ],
   "source": [
    "import matplotlib\n",
    "%matplotlib inline \n",
    "\n",
    "textList.dispersion_plot([\"boat\", \"dog\", \"river\", \"lunch\"])"
   ]
  },
  {
   "cell_type": "markdown",
   "metadata": {},
   "source": [
    "#### By default tokenization includes all surrounting punctuation charachters"
   ]
  },
  {
   "cell_type": "code",
   "execution_count": 25,
   "metadata": {},
   "outputs": [
    {
     "data": {
      "text/plain": [
       "81185"
      ]
     },
     "execution_count": 25,
     "metadata": {},
     "output_type": "execute_result"
    }
   ],
   "source": [
    "len(textList)"
   ]
  },
  {
   "cell_type": "markdown",
   "metadata": {},
   "source": [
    "#### We can invoke RegexpTokenizer to eliminate punctuation"
   ]
  },
  {
   "cell_type": "code",
   "execution_count": 26,
   "metadata": {},
   "outputs": [
    {
     "data": {
      "text/plain": [
       "68364"
      ]
     },
     "execution_count": 26,
     "metadata": {},
     "output_type": "execute_result"
    }
   ],
   "source": [
    "#This will match any word characters until it reaches a non-word character, like a space\n",
    "from nltk.tokenize import RegexpTokenizer\n",
    "tokenizer = RegexpTokenizer(r'\\w+')\n",
    "tokens = tokenizer.tokenize(bk_3boat)\n",
    "\n",
    "len(tokens)"
   ]
  },
  {
   "cell_type": "markdown",
   "metadata": {},
   "source": [
    "#### Measuring lexical diversity: dividing unique words by overall words"
   ]
  },
  {
   "cell_type": "markdown",
   "metadata": {},
   "source": [
    "We can use lexical diversity as a measure to help understand type of text usage. Example would be identifying plagiarism between texts."
   ]
  },
  {
   "cell_type": "code",
   "execution_count": 28,
   "metadata": {},
   "outputs": [
    {
     "data": {
      "text/plain": [
       "9.222146948327893"
      ]
     },
     "execution_count": 28,
     "metadata": {},
     "output_type": "execute_result"
    }
   ],
   "source": [
    "len(set(textList)) / len(textList)*100"
   ]
  },
  {
   "cell_type": "markdown",
   "metadata": {},
   "source": [
    "### Normalization\n",
    "\n",
    "* Need to \"normalize\" terms\n",
    " * Information Reterival: indexed text & query terms must have same form.<br>\n",
    " We want to match __U.S.A.__ and __USA__\n",
    "* We implicitly define equivalence classes of terms\n",
    " * e.eg., deleting periods in a term\n",
    "* Alternative: asymmetric explansion:\n",
    " * Enter: __window__ Search: __window, windows__\n",
    " * Enter __windows__ Search: __Windows, windows, window__\n",
    " * Enter: __Windows__ Search: __Windows__\n",
    " \n",
    "The symmetric expansion is going to give us a huge explosion of data.<br>\n",
    "Versus bringing words to the most common word forum will give us the fastest possible results because we'll be simplifying the words, but there is a little bit of a trade off.\n",
    "\n",
    "Example: __windows__ and __Windows__ might mean, __window__(present in a house or shelter) and __Windows__ which is the operating system.<br>\n",
    "So depending depending on the use case, the semantic expansion can be more powerful, but it requires a lot more data storage."
   ]
  },
  {
   "cell_type": "markdown",
   "metadata": {},
   "source": [
    "### Case folding\n",
    "* Applications like Information Retrival: reduce all letters to lower case\n",
    " * Since users end to use lower case\n",
    " * Possible exception: upper case in mid-sentence?\n",
    "   - e.g. __General Motors__\n",
    "   - __Fed__ vs __fed__\n",
    "   - __SAIL__ vs __sail__\n",
    "* For sentiment analysis, Information Retrival\n",
    " * Case us helpful __US__ versus __us__ is important\n",
    " \n",
    "The other thing is very critical about case folding his name name recognition"
   ]
  },
  {
   "cell_type": "markdown",
   "metadata": {},
   "source": [
    "## Text normalization with stemming and lemmatization\n",
    "\n",
    "The goal of both stemming and lemmatization is to reduce inflectional forms and sometimes derivationally related forms of a word to a common base form. For instance:\n",
    "\n",
    "    am, are, is =>  be\n",
    "    dog, dogs, dog's, dogs' => dog\n",
    "\n",
    "The result of this mapping of text will be something like:\n",
    "\n",
    "    the girl's dogs are different breeds => the girl dog be differ breed \n",
    "    \n",
    "__Lemmatization__: have to find correct dictionary headword form\n",
    "\n",
    "### Morphemes:\n",
    "* The small meaningful units that make up words\n",
    "* Stems: The core meaning-bearing units\n",
    "* Affixes: Bits and pieces that adhere to stems\n",
    " * Often with grammatical functions\n",
    " \n",
    "The idea is that every word contains a stem and stem is the core mean bearing unit in each word. So if we chop the suffixes enough excess of each word we can get back to the stem.\n",
    "\n",
    "### Stemming\n",
    "* Reduce terms to their stems in information retrieval\n",
    "* Stemming is crude chopping of affixes\n",
    " * language dependent\n",
    " * e.g., __automate(s), autmatic,automation__ all reduced to __automat__"
   ]
  },
  {
   "cell_type": "markdown",
   "metadata": {},
   "source": [
    "There are two major words stemming algorithms\n",
    "1. Porter's algorithm\n",
    "2. Lancaster algorithm\n",
    "\n",
    "This algorithm has 2 steps to it:\n",
    "\n",
    "Step 1a<br>\n",
    "sses $\\to$ ss   caresses$\\to$caress<br>\n",
    "les $\\to$ i     ponies$\\to$poni<br>\n",
    "ss $\\to$ ss     caress$\\to$caress<br>\n",
    "s $\\to$ (blank) cats$\\to$cat<br>\n",
    "\n",
    "Step 1b<br>\n",
    "Verbs<br>\n",
    "(*v*)ing $\\to$ (blank) walking $\\to$ walk<br>\n",
    "(*v*)ed $\\to$ (blank) plastered $\\to$ plaster\n",
    "\n",
    "Step 2 (for long stems)<br>\n",
    "ational $\\to$ ate relational $\\to$ relate<br>\n",
    "izer $\\to$ ize digitizer $\\to$ digitize<br>\n",
    "ator $\\to$ ate operator $\\to$ operate<br>\n",
    "\n",
    "Step 3(for longer stems)<br>\n",
    "al $\\to$ (blank) revival $\\to$ reviv<br>\n",
    "able $\\to$ (blank) adjustable $\\to$ adjust<br>\n",
    "ate $\\to$ (blank) activate $\\to$ activ<br>"
   ]
  },
  {
   "cell_type": "code",
   "execution_count": 29,
   "metadata": {},
   "outputs": [],
   "source": [
    "porter = nltk.PorterStemmer()\n",
    "lancaster = nltk.LancasterStemmer()"
   ]
  },
  {
   "cell_type": "markdown",
   "metadata": {},
   "source": [
    "#### Converting lists to strings to simplify displaying / visualization"
   ]
  },
  {
   "cell_type": "code",
   "execution_count": 31,
   "metadata": {},
   "outputs": [],
   "source": [
    "words_l = (words_lc[0:50])\n",
    "words_s = ', '.join(words_l)"
   ]
  },
  {
   "cell_type": "markdown",
   "metadata": {},
   "source": [
    "#### Original tokens"
   ]
  },
  {
   "cell_type": "code",
   "execution_count": 32,
   "metadata": {},
   "outputs": [
    {
     "name": "stdout",
     "output_type": "stream",
     "text": [
      "['three', 'men', 'boat', 'say', 'nothing', 'dog', 'three', 'men', 'boat', 'jerome', 'jerome', 'chapter', 'three', 'invalids', 'sufferings', 'george', 'harris', 'victim', 'one', 'hundred', 'seven', 'fatal', 'maladies', 'useful', 'prescriptions', 'cure', 'liver', 'complaint', 'children', 'agree', 'overworked', 'need', 'rest', 'week', 'rolling', 'deep', 'george', 'suggests', 'river', 'montmorency', 'lodges', 'objection', 'original', 'motion', 'carried', 'majority', 'three', 'one', 'four', 'us']\n"
     ]
    }
   ],
   "source": [
    "print (words_l)"
   ]
  },
  {
   "cell_type": "markdown",
   "metadata": {},
   "source": [
    "#### Stemming usually refers to a crude heuristic process that chops off the ends of words in the hope of achieving this goal correctly most of the time, and often includes the removal of derivational affixes. "
   ]
  },
  {
   "cell_type": "code",
   "execution_count": 36,
   "metadata": {},
   "outputs": [
    {
     "name": "stdout",
     "output_type": "stream",
     "text": [
      "['three', 'men', 'boat', 'say', 'noth', 'dog', 'three', 'men', 'boat', 'jerom', 'jerom', 'chapter', 'three', 'invalid', 'suffer', 'georg', 'harri', 'victim', 'one', 'hundr', 'seven', 'fatal', 'maladi', 'use', 'prescript', 'cure', 'liver', 'complaint', 'children', 'agre', 'overwork', 'need', 'rest', 'week', 'roll', 'deep', 'georg', 'suggest', 'river', 'montmor', 'lodg', 'object', 'origin', 'motion', 'carri', 'major', 'three', 'one', 'four', 'us']\n"
     ]
    }
   ],
   "source": [
    "#Porters stemming\n",
    "\n",
    "print([porter.stem(t) for t in words_lc[0:50]])"
   ]
  },
  {
   "cell_type": "code",
   "execution_count": 37,
   "metadata": {},
   "outputs": [
    {
     "name": "stdout",
     "output_type": "stream",
     "text": [
      "['three', 'men', 'boat', 'say', 'noth', 'dog', 'three', 'men', 'boat', 'jerom', 'jerom', 'chapt', 'three', 'invalid', 'suff', 'georg', 'har', 'victim', 'on', 'hundr', 'sev', 'fat', 'malady', 'us', 'prescrib', 'cur', 'liv', 'complaint', 'childr', 'agr', 'overwork', 'nee', 'rest', 'week', 'rol', 'deep', 'georg', 'suggest', 'riv', 'montm', 'lodg', 'object', 'origin', 'mot', 'carry', 'maj', 'three', 'on', 'four', 'us']\n"
     ]
    }
   ],
   "source": [
    "#lancaster stemming\n",
    "\n",
    "print([lancaster.stem(t) for t in words_lc[0:50]])"
   ]
  },
  {
   "cell_type": "markdown",
   "metadata": {},
   "source": [
    "##### As stemming removed a lot of meaning from many words eg. george became georg, we will try a new method"
   ]
  },
  {
   "cell_type": "markdown",
   "metadata": {},
   "source": [
    "### Lemmatization\n",
    "#### Lemmatization usually refers to doing things properly with the use of a vocabulary and morphological analysis of words, normally aiming to remove inflectional endings only and to return the base or dictionary form of a word, which is known as the lemma.\n",
    "\n",
    "The WordNet lemmatizer only removes affixes if the resulting word is in its dictionary. The dictionary checking makes lemmatizers significantly slower than stemmers"
   ]
  },
  {
   "cell_type": "code",
   "execution_count": 38,
   "metadata": {},
   "outputs": [
    {
     "name": "stdout",
     "output_type": "stream",
     "text": [
      "['three', 'men', 'boat', 'say', 'nothing', 'dog', 'three', 'men', 'boat', 'jerome', 'jerome', 'chapter', 'three', 'invalids', 'sufferings', 'george', 'harris', 'victim', 'one', 'hundred', 'seven', 'fatal', 'maladies', 'useful', 'prescriptions', 'cure', 'liver', 'complaint', 'children', 'agree', 'overworked', 'need', 'rest', 'week', 'rolling', 'deep', 'george', 'suggests', 'river', 'montmorency', 'lodges', 'objection', 'original', 'motion', 'carried', 'majority', 'three', 'one', 'four', 'us']\n"
     ]
    }
   ],
   "source": [
    "print (words_l)"
   ]
  },
  {
   "cell_type": "code",
   "execution_count": 39,
   "metadata": {},
   "outputs": [],
   "source": [
    "wnl = nltk.WordNetLemmatizer()"
   ]
  },
  {
   "cell_type": "code",
   "execution_count": 42,
   "metadata": {},
   "outputs": [
    {
     "name": "stdout",
     "output_type": "stream",
     "text": [
      "['three', 'men', 'boat', 'say', 'nothing', 'dog', 'three', 'men', 'boat', 'jerome', 'jerome', 'chapter', 'three', 'invalid', 'suffering', 'george', 'harris', 'victim', 'one', 'hundred', 'seven', 'fatal', 'malady', 'useful', 'prescription', 'cure', 'liver', 'complaint', 'child', 'agree', 'overworked', 'need', 'rest', 'week', 'rolling', 'deep', 'george', 'suggests', 'river', 'montmorency', 'lodge', 'objection', 'original', 'motion', 'carried', 'majority', 'three', 'one', 'four', 'u']\n"
     ]
    }
   ],
   "source": [
    "print([wnl.lemmatize(t) for t in words_lc[0:50]])"
   ]
  },
  {
   "cell_type": "markdown",
   "metadata": {},
   "source": [
    "#### As WordNetLemmatizer compares each word against a dictionary it is relatively slower than the simple porter and lancaster stemming hence its based on use case which one we want to use eg. for 10,000 records we can use Wordnet but for 500 million tweets we should use simple lemmatization"
   ]
  },
  {
   "cell_type": "markdown",
   "metadata": {},
   "source": [
    "## Part of Speech Tagging"
   ]
  },
  {
   "cell_type": "markdown",
   "metadata": {},
   "source": [
    "Parts of speech tagging is important in NLP because we can use them in the following applications:\n",
    "* Text-to-Speech (how do we pronounce \"lead\"?)\n",
    "* Can write regexps like (Det)Adj* N+ over the output phrases, etc\n",
    "* As inout to or to speed up a full parser\n",
    "* If you know the tag, we can back off to it in other tasks"
   ]
  },
  {
   "cell_type": "markdown",
   "metadata": {},
   "source": [
    "POS tag list:<br>\n",
    "<br>\n",
    "CC coordinating conjunction<br>\n",
    "CD cardinal digit<br>\n",
    "DT determiner<br>\n",
    "EX existential there (like: \"there is\" ... think of it like \"there exists\")<br>\n",
    "FW foreign word<br>\n",
    "IN preposition/subordinating conjunction<br>\n",
    "JJ adjective 'big'<br>\n",
    "JJR adjective, comparative 'bigger'<br>\n",
    "JJS adjective, superlative 'biggest'<br>\n",
    "LS list marker 1)<br>\n",
    "MD modal could, will<br>\n",
    "NN noun, singular 'desk'<br>\n",
    "NNS noun plural 'desks'<br>\n",
    "NNP proper noun, singular 'Harrison'<br>\n",
    "NNPS proper noun, plural 'Americans'<br>\n",
    "PDT predeterminer 'all the kids'<br>\n",
    "POS possessive ending parent's<br>\n",
    "PRP personal pronoun I, he, she<br>\n",
    "PRP possessive pronoun my, his, hers<br>\n",
    "RB adverb very, silently,<br>\n",
    "RBR adverb, comparative better<br>\n",
    "RBS adverb, superlative best<br>\n",
    "RP particle give up<br>\n",
    "TO to go 'to' the store.<br>\n",
    "UH interjection errrrrrrrm<br>\n",
    "VB verb, base form take<br>\n",
    "VBD verb, past tense took<br>\n",
    "VBG verb, gerund/present participle taking<br>\n",
    "VBN verb, past participle taken<br>\n",
    "VBP verb, sing. present, non-3d take<br>\n",
    "VBZ verb, 3rd person sing. present takes<br>\n",
    "WDT wh-determiner which<br>\n",
    "WP wh-pronoun who, what<br>\n",
    "WP possessive wh-pronoun whose<br>\n",
    "WRB wh-abverb where, when<br>"
   ]
  },
  {
   "cell_type": "markdown",
   "metadata": {},
   "source": [
    "#### Can use help function to get explanations of endividual tags"
   ]
  },
  {
   "cell_type": "code",
   "execution_count": 43,
   "metadata": {},
   "outputs": [],
   "source": [
    "uc1 = \"The University of Chicago is a private research university in Chicago, Illinois\"\n",
    "uc2 = \"It is one of the world's leading and most influential institutions of higher learning, with top-ten positions in numerous rankings and measures\""
   ]
  },
  {
   "cell_type": "code",
   "execution_count": 46,
   "metadata": {},
   "outputs": [
    {
     "data": {
      "text/plain": [
       "[('The', 'DT'),\n",
       " ('University', 'NNP'),\n",
       " ('of', 'IN'),\n",
       " ('Chicago', 'NNP'),\n",
       " ('is', 'VBZ'),\n",
       " ('a', 'DT'),\n",
       " ('private', 'JJ'),\n",
       " ('research', 'NN'),\n",
       " ('university', 'NN'),\n",
       " ('in', 'IN'),\n",
       " ('Chicago', 'NNP'),\n",
       " (',', ','),\n",
       " ('Illinois', 'NNP')]"
      ]
     },
     "execution_count": 46,
     "metadata": {},
     "output_type": "execute_result"
    }
   ],
   "source": [
    "text = nltk.tokenize.word_tokenize(uc1)\n",
    "nltk.pos_tag(text)"
   ]
  },
  {
   "cell_type": "code",
   "execution_count": 47,
   "metadata": {},
   "outputs": [
    {
     "data": {
      "text/plain": [
       "[('It', 'PRP'),\n",
       " ('is', 'VBZ'),\n",
       " ('one', 'CD'),\n",
       " ('of', 'IN'),\n",
       " ('the', 'DT'),\n",
       " ('world', 'NN'),\n",
       " (\"'s\", 'POS'),\n",
       " ('leading', 'JJ'),\n",
       " ('and', 'CC'),\n",
       " ('most', 'JJS'),\n",
       " ('influential', 'JJ'),\n",
       " ('institutions', 'NNS'),\n",
       " ('of', 'IN'),\n",
       " ('higher', 'JJR'),\n",
       " ('learning', 'NN'),\n",
       " (',', ','),\n",
       " ('with', 'IN'),\n",
       " ('top-ten', 'JJ'),\n",
       " ('positions', 'NNS'),\n",
       " ('in', 'IN'),\n",
       " ('numerous', 'JJ'),\n",
       " ('rankings', 'NNS'),\n",
       " ('and', 'CC'),\n",
       " ('measures', 'NNS')]"
      ]
     },
     "execution_count": 47,
     "metadata": {},
     "output_type": "execute_result"
    }
   ],
   "source": [
    "text = nltk.tokenize.word_tokenize(uc2)\n",
    "nltk.pos_tag(text)"
   ]
  },
  {
   "cell_type": "markdown",
   "metadata": {},
   "source": [
    "## Reading from URL\n",
    "#### BeautifulSoup to clean up meta-tags "
   ]
  },
  {
   "cell_type": "code",
   "execution_count": 54,
   "metadata": {},
   "outputs": [],
   "source": [
    "url = \"https://en.wikipedia.org/wiki/Harvard_University\"\n",
    "\n",
    "# wget -E  -k -p https://en.wikipedia.org/wiki/University_of_Chicago\n",
    "#url_saved = '/project/msca/kadochnikov/wiki/en.wikipedia.org/wiki/University_of_Chicago.html'\n",
    "\n",
    "from bs4 import BeautifulSoup\n",
    "import urllib.request\n",
    "page = urllib.request.urlopen(url)\n",
    "soup = BeautifulSoup(page.read(), \"lxml\")\n",
    "\n",
    "#with open(url_saved, 'rb') as html:\n",
    "#    soup = BeautifulSoup(html, \"lxml\")"
   ]
  },
  {
   "cell_type": "code",
   "execution_count": 55,
   "metadata": {},
   "outputs": [
    {
     "name": "stdout",
     "output_type": "stream",
     "text": [
      "on, he was motivated not by a desire to secularize education but by Transcendentalist Unitarian convictions influenced by William Ellery Channing and Ralph Waldo Emerson.[29]\n",
      "\n",
      "20th century\n",
      " Richard Rummell's 1906 watercolor landscape view, facing northeast.[30]\n",
      "In the 20th century, Harvard's reputation grew as a burgeoning endowment and prominent professors expanded the university's scope. Rapid enrollment growth continued as new graduate schools were begun and the undergraduate college expanded. Radcliffe College, established in 1879 as the female counterpart of Harvard College, became one of the most prominent schools for women in the United States. Harvard became a founding member of the Association of American Universities in 1900.[10]\n",
      "The student body in the early decades of the century was predominantly \"old-stock, high-status Protestants, especially Episcopalians, Congregationalists, and Presbyterians.\" A 1923 proposal by President A. Lawrence Lowell that Jews be limited to 15% of undergraduates was rejected, but Lowell did ban blacks from freshman dormitories.[31][32][33][34]\n",
      "President James B. Conant reinvigorated creative scholarship to guarantee Harvard's preeminence among research institutions. He saw higher education as a vehicle of opportunity for the talented rather than an entitlement for the wealthy, so Conant devised programs to identify, recruit, and support talented youth. In 1943, he asked the faculty to make a definitive statement about what general education ought to be, at the secondary as well as at the college level. The resulting Report, published in 1945, was one of the most influential manifestos in 20th century American education.[35]\n",
      "Between 1945 and 1960, admissions were opened up to bring in a more diverse group of students. No longer drawing mostly from select New England prep schools, the undergraduate college became accessible to striving middle class students from public schools; many more Jews and Catholics were admitted, but few blacks, Hispanics, or Asians.[36]\n",
      "Throughout the rest of the 20th century, Harvard becam\n"
     ]
    }
   ],
   "source": [
    "uc_wiki = (soup.get_text())\n",
    "#print (type(uc_wiki))\n",
    "print (uc_wiki[6910:9000]) "
   ]
  },
  {
   "cell_type": "markdown",
   "metadata": {},
   "source": [
    "#### Even after BeautifulSoup we are left with a lot of garbade - mostly punctuation"
   ]
  },
  {
   "cell_type": "code",
   "execution_count": 56,
   "metadata": {},
   "outputs": [
    {
     "name": "stdout",
     "output_type": "stream",
     "text": [
      "[\"'s\", 'expansion', 'in', 'Allston', ',', 'Massachusetts', 'Harvard', 'Business', 'School', ',', 'Harvard', 'Innovation', 'Labs', ',', 'and', 'many', 'athletics', 'facilities', ',', 'including', 'Harvard', 'Stadium', ',', 'are', 'located', 'on', 'a', '358-acre', '(', '145', 'ha', ')', 'campus', 'in', 'Allston', ',', '[', '48', ']', 'a', 'Boston', 'neighborhood', 'just', 'across', 'the', 'Charles', 'River', 'from', 'the', 'Cambridge', 'campus', '.', 'The', 'John', 'W.', 'Weeks', 'Bridge', ',', 'a', 'pedestrian', 'bridge', 'over', 'the', 'Charles', 'River', ',', 'connects', 'the', 'two', 'campuses', '.', 'The', 'university', 'is', 'actively', 'expanding', 'into', 'Allston', ',', 'where', 'it', 'now', 'owns', 'more', 'land', 'than', 'in', 'Cambridge', '.', '[', '49', ']', 'Plans', 'include', 'new', 'construction', 'and', 'renovation', 'for', 'the']\n"
     ]
    }
   ],
   "source": [
    "uc_wiki_tokens = nltk.tokenize.word_tokenize(uc_wiki)\n",
    "uc_wiki_tokens_uncleaned = uc_wiki_tokens\n",
    "print (uc_wiki_tokens[2000:2100])"
   ]
  },
  {
   "cell_type": "markdown",
   "metadata": {},
   "source": [
    "#### Exercise\n",
    "\n",
    "Write a simple code to clean data of the scraped text.\n",
    "\n",
    "You will need to create:\n",
    "\n",
    "1. stopwords - using nltk corpus\n",
    "2. uc_wiki_tokens - remove single-character tokens and punctuation\n",
    "3. uc_wiki_tokens_no_stopwords - Remove stopwords\n",
    "4. fdist - run function __FreqDist__ on uc_wiki_tokens_no_stopwords"
   ]
  },
  {
   "cell_type": "code",
   "execution_count": null,
   "metadata": {},
   "outputs": [],
   "source": [
    "# write your code below"
   ]
  },
  {
   "cell_type": "markdown",
   "metadata": {},
   "source": [
    "### Solution"
   ]
  },
  {
   "cell_type": "code",
   "execution_count": 57,
   "metadata": {},
   "outputs": [
    {
     "data": {
      "text/plain": [
       "[('Harvard', 336),\n",
       " ('University', 108),\n",
       " ('The', 106),\n",
       " ('Retrieved', 101),\n",
       " ('College', 84),\n",
       " ('Boston', 52),\n",
       " ('September', 51),\n",
       " ('School', 35),\n",
       " ('John', 34),\n",
       " ('New', 31)]"
      ]
     },
     "execution_count": 57,
     "metadata": {},
     "output_type": "execute_result"
    }
   ],
   "source": [
    "#stopwords = stopwords.words('english')\n",
    "stopwords = set(nltk.corpus.stopwords.words('english'))\n",
    "\n",
    "# Remove single-character tokens (mostly punctuation)\n",
    "uc_wiki_tokens = [word for word in uc_wiki_tokens if len(word) > 1]\n",
    "\n",
    "# Remove punctuation\n",
    "uc_wiki_tokens = [word for word in uc_wiki_tokens if word.isalpha()]\n",
    "\n",
    "# Remove stopwords\n",
    "uc_wiki_tokens_no_stopwords = [word for word in uc_wiki_tokens if word not in stopwords]\n",
    "\n",
    "fdist = nltk.FreqDist(uc_wiki_tokens_no_stopwords)\n",
    "\n",
    "fdist.most_common(10)"
   ]
  },
  {
   "cell_type": "markdown",
   "metadata": {},
   "source": [
    "Notice how __The__ made it to the list even though stop words were removed. This is because __The__ starts with a captial T which makes it a proper noun. We can fix this by lower casing the tokens but then we would lose out on our POS taggin of proper nouns"
   ]
  },
  {
   "cell_type": "markdown",
   "metadata": {},
   "source": [
    "### Comparing the results of our cleaned web scrape"
   ]
  },
  {
   "cell_type": "markdown",
   "metadata": {},
   "source": [
    "#### Cleanest version with all noise and stopwords removed"
   ]
  },
  {
   "cell_type": "code",
   "execution_count": 58,
   "metadata": {},
   "outputs": [
    {
     "name": "stdout",
     "output_type": "stream",
     "text": [
      "['Harvard', 'University', 'Wikipedia', 'Harvard', 'University', 'From', 'Wikipedia', 'free', 'encyclopedia', 'Jump', 'navigation', 'Jump', 'search', 'Private', 'research', 'university', 'Cambridge', 'Massachusetts', 'United', 'States', 'Harvard', 'redirects', 'For', 'uses', 'see', 'Harvard', 'disambiguation', 'It', 'suggested', 'Harvard', 'University', 'Health', 'Services', 'merged', 'article', 'Discuss', 'Proposed', 'since', 'September', 'Harvard', 'UniversityCoat', 'armsLatin', 'Universitas', 'HarvardianaFormer', 'namesHarvard', 'CollegeMottoVeritas', 'Latin', 'Motto', 'years', 'ago', 'Endowment', 'billion', 'PresidentLawrence', 'BacowAcademic', 'faculty', 'members', 'academic', 'appointments', 'affiliated', 'teaching', 'hospitals', 'Fall', 'Fall', 'Fall', 'LocationCambridge', 'Massachusetts', 'United', 'acres', 'ha', 'NewspaperThe', 'Harvard', 'CrimsonColors', 'Crimson', 'AthleticsNCAA', 'Division', 'Ivy', 'LeagueNicknameHarvard', 'Harvard', 'University', 'private', 'Ivy', 'League', 'research', 'university', 'Cambridge', 'Massachusetts', 'Established', 'named', 'first', 'benefactor', 'clergyman', 'John', 'Harvard', 'Harvard', 'oldest', 'institution', 'higher', 'learning', 'United', 'States']\n"
     ]
    }
   ],
   "source": [
    "uc_wiki_text_no_stopwords = nltk.Text(uc_wiki_tokens_no_stopwords)\n",
    "print (uc_wiki_text_no_stopwords[:100])"
   ]
  },
  {
   "cell_type": "markdown",
   "metadata": {},
   "source": [
    "#### Modest cleaning - only punctuation and noise - all stopwords left intact"
   ]
  },
  {
   "cell_type": "code",
   "execution_count": 59,
   "metadata": {},
   "outputs": [
    {
     "name": "stdout",
     "output_type": "stream",
     "text": [
      "['Harvard', 'University', 'Wikipedia', 'Harvard', 'University', 'From', 'Wikipedia', 'the', 'free', 'encyclopedia', 'Jump', 'to', 'navigation', 'Jump', 'to', 'search', 'Private', 'research', 'university', 'in', 'Cambridge', 'Massachusetts', 'United', 'States', 'Harvard', 'redirects', 'here', 'For', 'other', 'uses', 'see', 'Harvard', 'disambiguation', 'It', 'has', 'been', 'suggested', 'that', 'Harvard', 'University', 'Health', 'Services', 'be', 'merged', 'into', 'this', 'article', 'Discuss', 'Proposed', 'since', 'September', 'Harvard', 'UniversityCoat', 'of', 'armsLatin', 'Universitas', 'HarvardianaFormer', 'namesHarvard', 'CollegeMottoVeritas', 'Latin', 'Motto', 'in', 'years', 'ago', 'Endowment', 'billion', 'PresidentLawrence', 'BacowAcademic', 'faculty', 'members', 'and', 'academic', 'appointments', 'in', 'affiliated', 'teaching', 'hospitals', 'Fall', 'Fall', 'Fall', 'LocationCambridge', 'Massachusetts', 'United', 'acres', 'ha', 'NewspaperThe', 'Harvard', 'CrimsonColors', 'Crimson', 'AthleticsNCAA', 'Division', 'Ivy', 'LeagueNicknameHarvard', 'Harvard', 'University', 'is', 'private', 'Ivy', 'League', 'research']\n"
     ]
    }
   ],
   "source": [
    "uc_wiki_text_cleaned = nltk.Text(uc_wiki_tokens)\n",
    "print (uc_wiki_text_cleaned[:100])"
   ]
  },
  {
   "cell_type": "markdown",
   "metadata": {},
   "source": [
    "#### No cleaning done"
   ]
  },
  {
   "cell_type": "code",
   "execution_count": 60,
   "metadata": {},
   "outputs": [
    {
     "name": "stdout",
     "output_type": "stream",
     "text": [
      "['Harvard', 'University', '-', 'Wikipedia', 'Harvard', 'University', 'From', 'Wikipedia', ',', 'the', 'free', 'encyclopedia', 'Jump', 'to', 'navigation', 'Jump', 'to', 'search', 'Private', 'research', 'university', 'in', 'Cambridge', ',', 'Massachusetts', ',', 'United', 'States', \"''\", 'Harvard', \"''\", 'redirects', 'here', '.', 'For', 'other', 'uses', ',', 'see', 'Harvard', '(', 'disambiguation', ')', '.', 'It', 'has', 'been', 'suggested', 'that', 'Harvard', 'University', 'Health', 'Services', 'be', 'merged', 'into', 'this', 'article', '.', '(', 'Discuss', ')', 'Proposed', 'since', 'September', '2020', '.', 'Harvard', 'UniversityCoat', 'of', 'armsLatin', ':', 'Universitas', 'HarvardianaFormer', 'namesHarvard', 'CollegeMottoVeritas', '(', 'Latin', ')', '[', '1', ']', 'Motto', 'in', 'EnglishTruthTypePrivateEstablished1636', ';', '384', 'years', 'ago', '(', '1636', ')', '[', '2', ']', 'Endowment', '$', '41.9', 'billion', '(']\n"
     ]
    }
   ],
   "source": [
    "uc_wiki_text_raw = nltk.Text(uc_wiki_tokens_uncleaned)\n",
    "print (uc_wiki_text_raw[:100])"
   ]
  },
  {
   "cell_type": "markdown",
   "metadata": {},
   "source": [
    "### Applying simlarity function - which option produces best results?"
   ]
  },
  {
   "cell_type": "markdown",
   "metadata": {},
   "source": [
    "#### Exercise\n",
    "\n",
    "Write a simple code to run similar function on:\n",
    "1. uc_wiki_text_no_stopwords\n",
    "2. uc_wiki_text_cleaned\n",
    "3. uc_wiki_text_raw\n"
   ]
  },
  {
   "cell_type": "code",
   "execution_count": null,
   "metadata": {},
   "outputs": [],
   "source": [
    "# write your code below"
   ]
  },
  {
   "cell_type": "markdown",
   "metadata": {},
   "source": [
    "### Solution"
   ]
  },
  {
   "cell_type": "markdown",
   "metadata": {},
   "source": [
    "#### Cleanest version with all noise and stopwords removed"
   ]
  },
  {
   "cell_type": "code",
   "execution_count": 61,
   "metadata": {},
   "outputs": [
    {
     "name": "stdout",
     "output_type": "stream",
     "text": [
      "college gazette harvard crimson graduate cambridge among modern\n",
      "universities students reputation report hall square collection\n",
      "shanghai board number subject spot\n"
     ]
    }
   ],
   "source": [
    "uc_wiki_text_no_stopwords.similar('university')"
   ]
  },
  {
   "cell_type": "markdown",
   "metadata": {},
   "source": [
    "#### Modest cleaning - only punctuation and noise - all stopwords left intact"
   ]
  },
  {
   "cell_type": "code",
   "execution_count": 62,
   "metadata": {},
   "outputs": [
    {
     "name": "stdout",
     "output_type": "stream",
     "text": [
      "harvard college gazette endowment crimson as graduate center number to\n",
      "has of faculty and academic division is among world founding\n"
     ]
    }
   ],
   "source": [
    "uc_wiki_text_cleaned.similar('university')"
   ]
  },
  {
   "cell_type": "markdown",
   "metadata": {},
   "source": [
    "#### No cleaning done"
   ]
  },
  {
   "cell_type": "code",
   "execution_count": 63,
   "metadata": {},
   "outputs": [
    {
     "name": "stdout",
     "output_type": "stream",
     "text": [
      "harvard college gazette endowment crimson graduate center number to\n",
      "has of faculty and academic division is among world founding as\n"
     ]
    }
   ],
   "source": [
    "uc_wiki_text_raw.similar('university')"
   ]
  },
  {
   "cell_type": "markdown",
   "metadata": {},
   "source": [
    "#### Seems that no cleaning provided us with the best result. That is because we remove a lot of context based tokens when we clean aggresively.\n",
    "\n",
    "In this case, what we see are the two critical pieces. If we prepare something for human consumption. If we want to summarize the text and presented for our customers or for executives to read. We perform the the most aggressive cleanup.\n",
    "\n",
    "If we prepare the text as the features for machine learning or any automated algorithms like supervised models built on NLP, we cannot afford to do any cleanups at all, or we mess up the context and the models do not work as intended."
   ]
  },
  {
   "cell_type": "markdown",
   "metadata": {},
   "source": [
    "### Tagging our web page with POS"
   ]
  },
  {
   "cell_type": "markdown",
   "metadata": {},
   "source": [
    "#### In order for the tagger to be effective, it has to tag each word based on the word itself, as well as its context within a sentence. \n",
    "Depending on your corpus, certain taggers perform better the others.  Like with SPSS TA dictionaries, you can start with pre-trained POS Tagger and then try multiple different options to see which one will perform best for you.\n",
    "You can also customize and train your own taggers to match your particular corpus"
   ]
  },
  {
   "cell_type": "code",
   "execution_count": 65,
   "metadata": {},
   "outputs": [],
   "source": [
    "uc_wiki_tagged = nltk.pos_tag(uc_wiki_text_cleaned)"
   ]
  },
  {
   "cell_type": "code",
   "execution_count": 66,
   "metadata": {},
   "outputs": [
    {
     "data": {
      "text/plain": [
       "[('Harvard', 'NNP'),\n",
       " ('University', 'NNP'),\n",
       " ('Wikipedia', 'NNP'),\n",
       " ('Harvard', 'NNP'),\n",
       " ('University', 'NNP'),\n",
       " ('From', 'NNP'),\n",
       " ('Wikipedia', 'NNP'),\n",
       " ('the', 'DT'),\n",
       " ('free', 'JJ'),\n",
       " ('encyclopedia', 'NN')]"
      ]
     },
     "execution_count": 66,
     "metadata": {},
     "output_type": "execute_result"
    }
   ],
   "source": [
    "uc_wiki_tagged[:10]"
   ]
  },
  {
   "cell_type": "markdown",
   "metadata": {},
   "source": [
    "## Exploring alternative text analysis packages: TextBlob"
   ]
  },
  {
   "cell_type": "code",
   "execution_count": 67,
   "metadata": {},
   "outputs": [],
   "source": [
    "from textblob import TextBlob"
   ]
  },
  {
   "cell_type": "code",
   "execution_count": 68,
   "metadata": {},
   "outputs": [],
   "source": [
    "blob = TextBlob(uc_wiki)"
   ]
  },
  {
   "cell_type": "markdown",
   "metadata": {},
   "source": [
    "#### Part of speech tagging"
   ]
  },
  {
   "cell_type": "code",
   "execution_count": 70,
   "metadata": {},
   "outputs": [
    {
     "data": {
      "text/plain": [
       "[(']', 'VBD'),\n",
       " ('The', 'DT'),\n",
       " ('Massachusetts', 'NNP'),\n",
       " ('colonial', 'JJ'),\n",
       " ('legislature', 'NN'),\n",
       " ('the', 'DT'),\n",
       " ('General', 'NNP'),\n",
       " ('Court', 'NNP'),\n",
       " ('authorized', 'VBD'),\n",
       " ('Harvard', 'NNP'),\n",
       " (\"'s\", 'POS'),\n",
       " ('founding', 'NN'),\n",
       " ('In', 'IN'),\n",
       " ('its', 'PRP$'),\n",
       " ('early', 'JJ'),\n",
       " ('years', 'NNS'),\n",
       " ('Harvard', 'NNP'),\n",
       " ('College', 'NNP'),\n",
       " ('primarily', 'RB'),\n",
       " ('trained', 'VBD')]"
      ]
     },
     "execution_count": 70,
     "metadata": {},
     "output_type": "execute_result"
    }
   ],
   "source": [
    "blob.tags[200:220]"
   ]
  },
  {
   "cell_type": "markdown",
   "metadata": {},
   "source": [
    "#### To process  cleaned-up version from NLTK we will have to convert text from nltk.text.Text to String"
   ]
  },
  {
   "cell_type": "code",
   "execution_count": 71,
   "metadata": {},
   "outputs": [
    {
     "name": "stdout",
     "output_type": "stream",
     "text": [
      "<class 'list'>\n",
      "<class 'str'>\n"
     ]
    }
   ],
   "source": [
    "words_list = (uc_wiki_text_cleaned[0:])\n",
    "words_string = ', '.join(words)\n",
    "print(type(words_list))\n",
    "print(type(words_string))"
   ]
  },
  {
   "cell_type": "code",
   "execution_count": 72,
   "metadata": {},
   "outputs": [],
   "source": [
    "blob = TextBlob(words_string)"
   ]
  },
  {
   "cell_type": "markdown",
   "metadata": {},
   "source": [
    "#### POS Tagging with TextBlob"
   ]
  },
  {
   "cell_type": "code",
   "execution_count": 73,
   "metadata": {},
   "outputs": [
    {
     "data": {
      "text/plain": [
       "[('TO', 'NNP'),\n",
       " ('ONE', 'NNP'),\n",
       " ('THERE', 'NNP'),\n",
       " ('were', 'VBD'),\n",
       " ('four', 'CD'),\n",
       " ('of', 'IN'),\n",
       " ('us', 'PRP'),\n",
       " ('George', 'NNP'),\n",
       " ('and', 'CC'),\n",
       " ('William', 'NNP'),\n",
       " ('Samuel', 'NNP'),\n",
       " ('Harris', 'NNP'),\n",
       " ('and', 'CC'),\n",
       " ('myself', 'PRP'),\n",
       " ('and', 'CC'),\n",
       " ('Montmorency', 'NNP'),\n",
       " ('We', 'PRP'),\n",
       " ('were', 'VBD'),\n",
       " ('sitting', 'VBG'),\n",
       " ('in', 'IN')]"
      ]
     },
     "execution_count": 73,
     "metadata": {},
     "output_type": "execute_result"
    }
   ],
   "source": [
    "blob.tags[70:90]"
   ]
  },
  {
   "cell_type": "code",
   "execution_count": 74,
   "metadata": {},
   "outputs": [
    {
     "data": {
      "text/plain": [
       "[('four', 'CD'),\n",
       " ('of', 'IN'),\n",
       " ('us', 'PRP'),\n",
       " ('George', 'NNP'),\n",
       " ('and', 'CC'),\n",
       " ('William', 'NNP'),\n",
       " ('Samuel', 'NNP'),\n",
       " ('Harris', 'NNP'),\n",
       " ('and', 'CC'),\n",
       " ('myself', 'PRP'),\n",
       " ('and', 'CC'),\n",
       " ('Montmorency', 'NNP'),\n",
       " ('We', 'PRP'),\n",
       " ('were', 'VBD'),\n",
       " ('sitting', 'VBG'),\n",
       " ('in', 'IN'),\n",
       " ('my', 'PRP$'),\n",
       " ('room', 'NN'),\n",
       " ('smoking', 'NN'),\n",
       " ('and', 'CC')]"
      ]
     },
     "execution_count": 74,
     "metadata": {},
     "output_type": "execute_result"
    }
   ],
   "source": [
    "words = nltk.tokenize.word_tokenize(bk_3boat)\n",
    "words_string = ', '.join(words)\n",
    "blob = TextBlob(words_string)\n",
    "\n",
    "blob.tags[80:100]"
   ]
  },
  {
   "cell_type": "markdown",
   "metadata": {},
   "source": [
    "#### Tripping on the capitalized header of the book"
   ]
  },
  {
   "cell_type": "code",
   "execution_count": 75,
   "metadata": {},
   "outputs": [
    {
     "data": {
      "text/plain": [
       "[('THREE', 'CD'),\n",
       " ('MEN', 'NNP'),\n",
       " ('IN', 'NNP'),\n",
       " ('A', 'NNP'),\n",
       " ('BOAT', 'NNP'),\n",
       " ('TO', 'NNP'),\n",
       " ('SAY', 'NNP'),\n",
       " ('NOTHING', 'NNP'),\n",
       " ('OF', 'NNP'),\n",
       " ('THE', 'NNP')]"
      ]
     },
     "execution_count": 75,
     "metadata": {},
     "output_type": "execute_result"
    }
   ],
   "source": [
    "blob.tags[:10]"
   ]
  },
  {
   "cell_type": "markdown",
   "metadata": {},
   "source": [
    "We see that because of capitilization on the name of the book the POS tagger confused it for proper nouns"
   ]
  },
  {
   "cell_type": "markdown",
   "metadata": {},
   "source": [
    "#### Extracting Nouns"
   ]
  },
  {
   "cell_type": "code",
   "execution_count": 78,
   "metadata": {},
   "outputs": [
    {
     "data": {
      "text/plain": [
       "WordList(['three', 'men', 'in', 'boat', 'to', 'say', 'nothing', 'of', 'the', 'dog', 'men', 'boat', 'jerome', 'k.', 'jerome', 'chapter', 'three', 'invalids', 'sufferings', 'of', 'george', 'and', 'harris', 'victim', 'to', 'one', 'hundred', 'and', 'seven', 'fatal', 'maladies', 'useful', 'prescriptions', 'cure', 'for', 'liver', 'complaint', 'in', 'children', 'we', 'agree', 'that', 'we', 'are', 'overworked', 'and', 'need', 'rest', 'week', 'on'])"
      ]
     },
     "execution_count": 78,
     "metadata": {},
     "output_type": "execute_result"
    }
   ],
   "source": [
    "blob.noun_phrases[:50]"
   ]
  },
  {
   "cell_type": "markdown",
   "metadata": {},
   "source": [
    "Why do we get about nouns and proper nouns in a text is because that's usually truly shows us the subjects and objects of the text. So you can quickly just get rid of everything else.So if we just look at the top 50 nouns in a text as a given us some information about the text."
   ]
  },
  {
   "cell_type": "markdown",
   "metadata": {},
   "source": [
    "#### We also have embedded functions to pluralize and singularize the words "
   ]
  },
  {
   "cell_type": "code",
   "execution_count": 79,
   "metadata": {},
   "outputs": [],
   "source": [
    "s1 = TextBlob(words_s)"
   ]
  },
  {
   "cell_type": "code",
   "execution_count": 80,
   "metadata": {},
   "outputs": [
    {
     "name": "stdout",
     "output_type": "stream",
     "text": [
      "['three', 'men', 'boat', 'say', 'nothing', 'dog', 'three', 'men', 'boat', 'jerome', 'jerome', 'chapter', 'three', 'invalids', 'sufferings', 'george', 'harris', 'victim', 'one', 'hundred', 'seven', 'fatal', 'maladies', 'useful', 'prescriptions', 'cure', 'liver', 'complaint', 'children', 'agree', 'overworked', 'need', 'rest', 'week', 'rolling', 'deep', 'george', 'suggests', 'river', 'montmorency', 'lodges', 'objection', 'original', 'motion', 'carried', 'majority', 'three', 'one', 'four', 'us']\n"
     ]
    }
   ],
   "source": [
    "print(words_l[:1000])"
   ]
  },
  {
   "cell_type": "code",
   "execution_count": 81,
   "metadata": {},
   "outputs": [
    {
     "data": {
      "text/plain": [
       "WordList(['three', 'man', 'boat', 'say', 'nothing', 'dog', 'three', 'man', 'boat', 'jerome', 'jerome', 'chapter', 'three', 'invalid', 'suffering', 'george', 'harri', 'victim', 'one', 'hundred', 'seven', 'fatal', 'malady', 'useful', 'prescription', 'cure', 'liver', 'complaint', 'child', 'agree', 'overworked', 'need', 'rest', 'week', 'rolling', 'deep', 'george', 'suggest', 'river', 'montmorency', 'lodge', 'objection', 'original', 'motion', 'carried', 'majority', 'three', 'one', 'fmy', 'u'])"
      ]
     },
     "execution_count": 81,
     "metadata": {},
     "output_type": "execute_result"
    }
   ],
   "source": [
    "s1.words[:100].singularize()"
   ]
  },
  {
   "cell_type": "code",
   "execution_count": 82,
   "metadata": {},
   "outputs": [
    {
     "name": "stdout",
     "output_type": "stream",
     "text": [
      "['three', 'men', 'boat', 'say', 'nothing', 'dog', 'three', 'men', 'boat', 'jerome', 'jerome', 'chapter', 'three', 'invalids', 'sufferings', 'george', 'harris', 'victim', 'one', 'hundred', 'seven', 'fatal', 'maladies', 'useful', 'prescriptions', 'cure', 'liver', 'complaint', 'children', 'agree', 'overworked', 'need', 'rest', 'week', 'rolling', 'deep', 'george', 'suggests', 'river', 'montmorency', 'lodges', 'objection', 'original', 'motion', 'carried', 'majority', 'three', 'one', 'four', 'us']\n"
     ]
    }
   ],
   "source": [
    "print(words_l[:1000])"
   ]
  },
  {
   "cell_type": "code",
   "execution_count": 83,
   "metadata": {},
   "outputs": [
    {
     "data": {
      "text/plain": [
       "WordList(['threes', 'mens', 'boats', 'says', 'nothings', 'dogs', 'threes', 'mens', 'boats', 'jeromes', 'jeromes', 'chapters', 'threes', 'invalidss', 'sufferingss', 'georges', 'harriss', 'victims', 'ones', 'hundreds', 'sevens', 'fatals', 'maladiess', 'usefuls', 'prescriptionss', 'cures', 'livers', 'complaints', 'childrens', 'agrees', 'overworkeds', 'needs', 'rests', 'weeks', 'rollings', 'deeps', 'georges', 'suggestss', 'rivers', 'montmorencies', 'lodgess', 'objections', 'originals', 'motions', 'carrieds', 'majorities', 'threes', 'ones', 'fours', 'uss'])"
      ]
     },
     "execution_count": 83,
     "metadata": {},
     "output_type": "execute_result"
    }
   ],
   "source": [
    "s1.words[0:100].pluralize()"
   ]
  },
  {
   "cell_type": "markdown",
   "metadata": {},
   "source": [
    "#### Pluralize and singularize do not do a good job using the NLTK implimentation hence should be avoided most of the times"
   ]
  },
  {
   "cell_type": "markdown",
   "metadata": {},
   "source": [
    "### Split to words"
   ]
  },
  {
   "cell_type": "code",
   "execution_count": 84,
   "metadata": {},
   "outputs": [
    {
     "name": "stdout",
     "output_type": "stream",
     "text": [
      "['29', '20th', 'century', 'Richard', 'Rummell', \"'s\", '1906', 'watercolor', 'landscape', 'view', 'facing', 'northeast', '30', 'In', 'the', '20th', 'century', 'Harvard', \"'s\", 'reputation', 'grew', 'as', 'a', 'burgeoning', 'endowment', 'and', 'prominent', 'professors', 'expanded', 'the', 'university', \"'s\", 'scope', 'Rapid', 'enrollment', 'growth', 'continued', 'as', 'new', 'graduate', 'schools', 'were', 'begun', 'and', 'the', 'undergraduate', 'college', 'expanded', 'Radcliffe', 'College', 'established', 'in', '1879', 'as', 'the', 'female', 'counterpart', 'of', 'Harvard', 'College']\n"
     ]
    }
   ],
   "source": [
    "blob_wiki = TextBlob(uc_wiki)\n",
    "b_words = blob_wiki.words\n",
    "print (b_words[1020:1080])"
   ]
  },
  {
   "cell_type": "code",
   "execution_count": 85,
   "metadata": {},
   "outputs": [
    {
     "name": "stdout",
     "output_type": "stream",
     "text": [
      "['The', 'class', '1.1.3', 'is', 'almost', 'over', 'Time', 'to', 'go', 'party', 'now']\n"
     ]
    }
   ],
   "source": [
    "blob_custom = TextBlob('The class 1.1.3 is almost over!!!  Time to go party now.')\n",
    "b_words = blob_custom.words\n",
    "print (b_words)"
   ]
  },
  {
   "cell_type": "markdown",
   "metadata": {},
   "source": [
    "### Split to sentences"
   ]
  },
  {
   "cell_type": "code",
   "execution_count": 86,
   "metadata": {},
   "outputs": [
    {
     "name": "stdout",
     "output_type": "stream",
     "text": [
      "[Sentence(\"[10] James B. Conant led the university through the Great Depression and World War II; he liberalized admissions after the war.\"), Sentence(\"The university is composed of ten academic faculties plus the Radcliffe Institute for Advanced Study.\"), Sentence(\"Arts and Sciences offers study in a wide range of academic disciplines for undergraduates and for graduates, while the other faculties offer only graduate degrees, mostly professional.\"), Sentence(\"Harvard has three main campuses:[11]\n",
      "the 209-acre (85 ha) Cambridge campus centered on Harvard Yard; an adjoining campus immediately across the Charles River in the Allston neighborhood of Boston; and the medical campus in Boston's Longwood Medical Area.\"), Sentence(\"[12] Harvard's endowment is valued at $41.9 billion, making it the largest of any academic institution.\")]\n"
     ]
    }
   ],
   "source": [
    "b_sentences = blob_wiki.sentences\n",
    "print (b_sentences[10:15])"
   ]
  },
  {
   "cell_type": "code",
   "execution_count": 87,
   "metadata": {},
   "outputs": [
    {
     "name": "stdout",
     "output_type": "stream",
     "text": [
      "[Sentence(\"The class 1, 2, etc.\"), Sentence(\"are almost over!!!\"), Sentence(\"Time to go to Dr. Yuri's party 1.2. now.\")]\n"
     ]
    }
   ],
   "source": [
    "blob_custom = TextBlob('''The class 1, 2, etc. are almost over!!!  Time to go to Dr. Yuri's party 1.2. now.''')\n",
    "b_sentences = blob_custom.sentences\n",
    "print (b_sentences)"
   ]
  },
  {
   "cell_type": "markdown",
   "metadata": {},
   "source": [
    "### These methods are also useful to understand the context of the text"
   ]
  }
 ],
 "metadata": {
  "kernelspec": {
   "display_name": "Python 3",
   "language": "python",
   "name": "python3"
  },
  "language_info": {
   "codemirror_mode": {
    "name": "ipython",
    "version": 3
   },
   "file_extension": ".py",
   "mimetype": "text/x-python",
   "name": "python",
   "nbconvert_exporter": "python",
   "pygments_lexer": "ipython3",
   "version": "3.7.3"
  }
 },
 "nbformat": 4,
 "nbformat_minor": 2
}
