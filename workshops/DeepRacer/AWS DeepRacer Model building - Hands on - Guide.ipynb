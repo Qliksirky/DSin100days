{
 "cells": [
  {
   "cell_type": "markdown",
   "metadata": {},
   "source": [
    "# Exercise 1- Model Training Using AWS DeepRacer Console"
   ]
  },
  {
   "cell_type": "markdown",
   "metadata": {},
   "source": [
    "## Step by step guide to start working on AWS DeepRacer"
   ]
  },
  {
   "cell_type": "markdown",
   "metadata": {},
   "source": [
    "__Note:__ This exercise is designed to be completed in your AWS account. AWS DeepRacer is part of AWS Free Tier, so you can get started with the service at no cost. For the first month after sign-up, you are offered a monthly free tier of 10 hours of Amazon SageMaker training, and 60 simulation units of Amazon RoboMaker (enough to cover 10 hours of training). If you go beyond those free tier limits, you will accrue additional costs. For more information see the AWS DeepRacer Pricing page."
   ]
  },
  {
   "cell_type": "markdown",
   "metadata": {},
   "source": [
    "* ### Step 1: Create AWS Cloud Account"
   ]
  },
  {
   "cell_type": "markdown",
   "metadata": {},
   "source": [
    "Log in and create your own credentials on AWS cloud- https://aws.amazon.com/\n"
   ]
  },
  {
   "cell_type": "markdown",
   "metadata": {},
   "source": [
    "* ### Step 2: Login to your AWS Cloud Account"
   ]
  },
  {
   "cell_type": "markdown",
   "metadata": {},
   "source": [
    "After creating new ID go to sign-in page and select __Root user__"
   ]
  },
  {
   "cell_type": "markdown",
   "metadata": {},
   "source": [
    "<img src=\"images/image1.PNG\">"
   ]
  },
  {
   "cell_type": "markdown",
   "metadata": {},
   "source": [
    "* ### Step 3: Getting introduced to your AWS Management Console"
   ]
  },
  {
   "cell_type": "markdown",
   "metadata": {},
   "source": [
    "* #### Step 3.1:\n",
    "    * Here you will land on the AWS DeepRacer Home screen\n",
    "    * This is AWS Management Console"
   ]
  },
  {
   "cell_type": "markdown",
   "metadata": {},
   "source": [
    "<img src=\"images/image2.PNG\">"
   ]
  },
  {
   "cell_type": "markdown",
   "metadata": {},
   "source": [
    "* #### Step 3.2: \n",
    "Select correct region in your AWS Management Console"
   ]
  },
  {
   "cell_type": "markdown",
   "metadata": {},
   "source": [
    "Choose __us-east-1__ region at the top right corner of the Regions dropdown menu- Found on the top right corner of the page"
   ]
  },
  {
   "cell_type": "markdown",
   "metadata": {},
   "source": [
    "<img src=\"images/image3.PNG\">"
   ]
  },
  {
   "cell_type": "markdown",
   "metadata": {},
   "source": [
    "* #### Step 3.2: \n",
    "    * From the middle of the console, click __\"Find Services\"__, type DeepRacer in the search box, and __AWS DeepRacer__. \n",
    "    * That will open the AWS DeepRacer console\n"
   ]
  },
  {
   "cell_type": "markdown",
   "metadata": {},
   "source": [
    "<img src=\"images/image4.PNG\">"
   ]
  },
  {
   "cell_type": "markdown",
   "metadata": {},
   "source": [
    "* ### Step 4: Getting introduced to your AWS DeepRacer Console and Model initialization"
   ]
  },
  {
   "cell_type": "markdown",
   "metadata": {},
   "source": [
    "The AWS console will present itslef"
   ]
  },
  {
   "cell_type": "markdown",
   "metadata": {},
   "source": [
    "<img src=\"images/image5.PNG\">"
   ]
  },
  {
   "cell_type": "markdown",
   "metadata": {},
   "source": [
    "* #### Step 4.0: \n",
    "Click on __Get Started__ present on the left side of the menu"
   ]
  },
  {
   "cell_type": "markdown",
   "metadata": {},
   "source": [
    "<img src=\"images/image6.PNG\">"
   ]
  },
  {
   "cell_type": "markdown",
   "metadata": {},
   "source": [
    "* #### Step 4.1: \n",
    "Click on __Step 0__: Create account resources(This will take a few minutes)"
   ]
  },
  {
   "cell_type": "markdown",
   "metadata": {},
   "source": [
    "<img src=\"Exercise 1-AWS DeepRacer Images/image7.PNG\">"
   ]
  },
  {
   "cell_type": "markdown",
   "metadata": {},
   "source": [
    "* #### Step 4.2: \n",
    "After completion go to Step 2 and select: __Create a model__ "
   ]
  },
  {
   "cell_type": "markdown",
   "metadata": {},
   "source": [
    "<img src=\"Exercise 1-AWS DeepRacer Images/image8.PNG\">"
   ]
  },
  {
   "cell_type": "markdown",
   "metadata": {},
   "source": [
    "This will take you to the model building phase\n"
   ]
  },
  {
   "cell_type": "markdown",
   "metadata": {},
   "source": [
    "<img src=\"Exercise 1-AWS DeepRacer Images/image9.PNG\">"
   ]
  },
  {
   "cell_type": "markdown",
   "metadata": {},
   "source": [
    "* #### Step 4.3: Account Resources Initilization\n",
    "Click Create resource inside the account resources section"
   ]
  },
  {
   "cell_type": "markdown",
   "metadata": {},
   "source": [
    "<img src=\"Exercise 1-AWS DeepRacer Images/image10.PNG\">"
   ]
  },
  {
   "cell_type": "markdown",
   "metadata": {},
   "source": [
    "* #### Step 4.4: Model Initilization\n",
    "Scroll down and fill in model name and description"
   ]
  },
  {
   "cell_type": "markdown",
   "metadata": {},
   "source": [
    "<img src=\"Exercise 1-AWS DeepRacer Images/image11.PNG\">"
   ]
  },
  {
   "cell_type": "markdown",
   "metadata": {},
   "source": [
    "* #### Step 4.4: Selecting Environment \n",
    "Under Environment simulation, select a track from the list. It’s recommended to start with the “re:Invent 2018 Track” and then explore more tracks from there"
   ]
  },
  {
   "cell_type": "markdown",
   "metadata": {},
   "source": [
    "<img src=\"Exercise 1-AWS DeepRacer Images/image12.PNG\">"
   ]
  },
  {
   "cell_type": "markdown",
   "metadata": {},
   "source": [
    "Select __Next__ on the bottom of the page\n",
    "\n"
   ]
  },
  {
   "cell_type": "markdown",
   "metadata": {},
   "source": [
    "* #### Step 4.4: Choose training type and agent\n",
    "On the new page select __\"Time trial\"__ and the default __\"The Original DeepRacer\"__ agent selected"
   ]
  },
  {
   "cell_type": "markdown",
   "metadata": {},
   "source": [
    "<img src=\"Exercise 1-AWS DeepRacer Images/image13.PNG\">"
   ]
  },
  {
   "cell_type": "markdown",
   "metadata": {},
   "source": [
    "* #### Step 4.5: Customize reward function and training algorithm\n",
    "    * Read through reward functions to familiarize yourself with the code. You can also look at more examples from the __“Reward Function Examples”__.\n",
    "    * Remember this code is editable and we can tweak this to improve the performance of our DeepRacer.\n",
    "    For now, We will select the __default__ settings"
   ]
  },
  {
   "cell_type": "markdown",
   "metadata": {},
   "source": [
    "<img src=\"Exercise 1-AWS DeepRacer Images/image14.PNG\">"
   ]
  },
  {
   "cell_type": "markdown",
   "metadata": {},
   "source": [
    "Below you will find __“Training algorithm and hyperparameters“__. \n",
    "These are tuning parameters which can be tweaked to make our model perform better. \n",
    "They are by default hidden but can be expanded by clicking on the __“Hyerparamters”__ drop down"
   ]
  },
  {
   "cell_type": "markdown",
   "metadata": {},
   "source": [
    "<img src=\"Exercise 1-AWS DeepRacer Images/image15.PNG\">"
   ]
  },
  {
   "cell_type": "markdown",
   "metadata": {},
   "source": [
    "* #### Step 4.6: Stop Conditions\n",
    "    * Set the conditions for your training job to stop. \n",
    "    * To avoid run-away jobs, you can limit the length of a job to within a maximum time period (Maximum time).\n",
    "    * For the Stop conditions go ahead and choose a max time of 10 minutes and click __create model__"
   ]
  },
  {
   "cell_type": "markdown",
   "metadata": {},
   "source": [
    "<img src=\"Exercise 1-AWS DeepRacer Images/image16.PNG\">"
   ]
  },
  {
   "cell_type": "markdown",
   "metadata": {},
   "source": [
    "* ### Step 5: Model Training"
   ]
  },
  {
   "cell_type": "markdown",
   "metadata": {},
   "source": [
    "A new window will open to denote the commencement of our model training. This will take a few minutes to start the visualization of the model performance"
   ]
  },
  {
   "cell_type": "markdown",
   "metadata": {},
   "source": [
    "<img src=\"Exercise 1-AWS DeepRacer Images/image17.PNG\">"
   ]
  },
  {
   "cell_type": "markdown",
   "metadata": {},
   "source": [
    "After the initialization is complete the preview of the model will commence"
   ]
  },
  {
   "cell_type": "markdown",
   "metadata": {},
   "source": [
    "<img src=\"Exercise 1-AWS DeepRacer Images/image18.PNG\">"
   ]
  },
  {
   "cell_type": "markdown",
   "metadata": {},
   "source": [
    "Before the evaluation job completes, take some time to __watch the simulator__ to see how your car’s performing in real-time. \n",
    "Look for things that you might want to tweak in the future and note them down.\n"
   ]
  },
  {
   "cell_type": "markdown",
   "metadata": {},
   "source": [
    "After training is complete the video stream will stop and AWS will start evaluating our model and display the results (this can take up to 5 mins)"
   ]
  },
  {
   "cell_type": "markdown",
   "metadata": {},
   "source": [
    "<img src=\"Exercise 1-AWS DeepRacer Images/image19.PNG\">"
   ]
  },
  {
   "cell_type": "markdown",
   "metadata": {},
   "source": [
    "* ### Step 6: Model Evaluation"
   ]
  },
  {
   "cell_type": "markdown",
   "metadata": {},
   "source": [
    "<img src=\"Exercise 1-AWS DeepRacer Images/image20.PNG\">"
   ]
  },
  {
   "cell_type": "markdown",
   "metadata": {},
   "source": [
    "* #### Step 6.1: Select Evaluation Track\n",
    "Select “Start Evaluation”. \n",
    "    * This will redirect you to the selection of the track. \n",
    "    * Select the same track you used for training “re:Invent 2018 Track”"
   ]
  },
  {
   "cell_type": "markdown",
   "metadata": {},
   "source": [
    "<img src=\"Exercise 1-AWS DeepRacer Images/image21.PNG\">"
   ]
  },
  {
   "cell_type": "markdown",
   "metadata": {},
   "source": [
    "* #### Step 6.1: Select Number of Evaluation Trails\n",
    "    * Scroll down and Set the number of trials to 3. \n",
    "    * Select “Time trail” and leave all submissions to “Virtual Race Submissions” to Blank and unchecked. \n",
    "    * Click on Start evaluation on the bottom right corner"
   ]
  },
  {
   "cell_type": "markdown",
   "metadata": {},
   "source": [
    "<img src=\"Exercise 1-AWS DeepRacer Images/image22.PNG\">"
   ]
  },
  {
   "cell_type": "markdown",
   "metadata": {},
   "source": [
    "The evaluation results will update in approximately 5 minutes"
   ]
  },
  {
   "cell_type": "markdown",
   "metadata": {},
   "source": [
    "<img src=\"Exercise 1-AWS DeepRacer Images/image24.PNG\">"
   ]
  },
  {
   "cell_type": "markdown",
   "metadata": {},
   "source": [
    "After the Evalution console loads we can watch the stream and basic evaluation results on the dashboard"
   ]
  },
  {
   "cell_type": "markdown",
   "metadata": {},
   "source": [
    "<img src=\"Exercise 1-AWS DeepRacer Images/image25.PNG\">"
   ]
  },
  {
   "cell_type": "markdown",
   "metadata": {},
   "source": [
    "After all the number of trails are complete AWS will start preparing a per trail performance evaluation dashboard which might take 5min to create"
   ]
  },
  {
   "cell_type": "markdown",
   "metadata": {},
   "source": [
    "Watch the evaluation results update and write them down. You will use your results from this model as a benchmark that you can compare to as you tweak your model in later exercises.\n"
   ]
  },
  {
   "cell_type": "markdown",
   "metadata": {},
   "source": [
    "### Conculsion"
   ]
  },
  {
   "cell_type": "markdown",
   "metadata": {},
   "source": [
    "Congratulations! You now have successfully:\n",
    "* Accessed and navigated within the AWS DeepRacer console\n",
    "* Identified the steps that go into building a model in the AWS DeepRacer console\n",
    "* Used the basic reward function in AWS DeepRacer to configure a model\n",
    "* Used the AWS DeepRacer simulator to train and evaluate a model\n"
   ]
  }
 ],
 "metadata": {
  "kernelspec": {
   "display_name": "Python 3",
   "language": "python",
   "name": "python3"
  },
  "language_info": {
   "codemirror_mode": {
    "name": "ipython",
    "version": 3
   },
   "file_extension": ".py",
   "mimetype": "text/x-python",
   "name": "python",
   "nbconvert_exporter": "python",
   "pygments_lexer": "ipython3",
   "version": "3.7.3"
  }
 },
 "nbformat": 4,
 "nbformat_minor": 2
}
