{
 "cells": [
  {
   "cell_type": "markdown",
   "metadata": {
    "colab_type": "text",
    "id": "mD7XSU8htexr"
   },
   "source": [
    "# __AWS DeepRacer Micro Course__"
   ]
  },
  {
   "cell_type": "markdown",
   "metadata": {
    "colab_type": "text",
    "id": "nfJ8XisStexs"
   },
   "source": [
    "### What is Machine Learning?\n",
    "\n",
    "<br>\n",
    "\n",
    "<div style=\"text-align: justify\"> Machine Learning (ML) is defined as the subset of Aritificial Intelligence (AI) which helps machines in finding patterns and providing predictions without being explicitly programmed for it. </div>\n",
    "\n",
    "<br>\n",
    "\n",
    "<div style=\"text-align: justify\">\n",
    "Some prominent use cases involving ML are when users are provided with content based recommendations on media streaming platforms like Netflix and Spotify based on their search history. Also, each time we see mobile operating systems (OS) like Apple's IOS or Google's Android OS recognizing people in the pictures in photos application, it uses ML in the background to do that. Even you might not have realised it but on a daily basis you are saved from potential scams as your email client like Gmail, Outlook etc. are capable of distinguishing a spam email from a non-spam email and all this is possible because of Machine Learning.</div>  \n",
    "\n"
   ]
  },
  {
   "cell_type": "markdown",
   "metadata": {
    "colab_type": "text",
    "id": "GxIJ3Shktext"
   },
   "source": [
    "### What are the main types of Machine Learning techniques?\n",
    "There are 3 main types of Machine Learning techniques - \n",
    "\n",
    "__1.Supervised Learning -__  \n",
    "Supervised Learning refers to learning through examples as if during the learning process we have a teacher supervising the whole process and helping out the machine. There are different types of supervised learning algorithms but the two primary ones are:\n",
    "\n",
    "<ins>Classification</ins>: Supervised learning that involves learning to predict a class label (meaning tagging a group of samples with one or more labels) based on examples of prelabeled data.  \n",
    "\n",
    "<ins>Regression</ins>: Supervised learning that involves predicting a numerical label which is nothing but predicting a value for a group of samples based on prelabeled data. \n",
    "    \n",
    "\n",
    "__2.Unsupervised Learning -__ \n",
    "\n",
    "Unsupervised Learning refers to learning without using known or prelabeled data but through inferring patterns from the available data, in contrast to supervised learning here no teacher is present to guide in the learning process. Different types of unsupervised learning techniques are:\n",
    "\n",
    "<ins>Inference-based training</ins>: Unsupervised learning where unlabeled data without known outputs (predictions) is used for training a model to identify related structures or similar patterns within the input data and make predictions.\n",
    "\n",
    "<ins>Clustering</ins>: Unsupervised learning that involves categorizing various data points into groups based on similarities.\n",
    "\n",
    "<ins>Density Estimation</ins>: Unsupervised learning that involves finding the underlying probability distribution of data.\n",
    "\n",
    "\n",
    "__3.Reinforcement Learning -__\n",
    "\n",
    "Reinforcement Learning is a type of machine learning technique, in which an agent which is the component that is responsible for making decisions, explores its environment to learn on how to perform desired tasks by taking actions with predefined good outcomes and avoiding actions with bad outcomes which are also predefined.\n",
    "A reinforcement learning model will learn from its experience and over time will be able to identify which actions lead to the best rewards."
   ]
  },
  {
   "cell_type": "markdown",
   "metadata": {
    "colab_type": "text",
    "id": "XI7WKpk_texu"
   },
   "source": [
    "### Deep Dive into Reinforcement Learning "
   ]
  },
  {
   "cell_type": "markdown",
   "metadata": {
    "colab_type": "text",
    "id": "CSS1GSLutexv"
   },
   "source": [
    "Since AWS DeepRacer is based on Reinforcement Learning lets take a look in detail."
   ]
  },
  {
   "cell_type": "markdown",
   "metadata": {
    "colab_type": "text",
    "id": "_w6QI1U-texw"
   },
   "source": [
    "#### Example of how reinforcement is used for training dogs.\n",
    "\n",
    "Reinforcement means the process of encouraging or establishing a belief or pattern of behaviour, especially by encouragement or reward. Let us take an example of training puppies.\n",
    "\n"
   ]
  },
  {
   "cell_type": "markdown",
   "metadata": {
    "colab_type": "text",
    "id": "asEz1t0Ntexw"
   },
   "source": [
    "<img src=\"images/Fig1.png\">"
   ]
  },
  {
   "cell_type": "markdown",
   "metadata": {
    "colab_type": "text",
    "id": "nq3_bXU9texx"
   },
   "source": [
    "#### Another example can be of how we try to solve a maze. "
   ]
  },
  {
   "cell_type": "markdown",
   "metadata": {
    "colab_type": "text",
    "id": "VL7R0oQRtexy"
   },
   "source": [
    "<img src=\"images/Fig2.png\">"
   ]
  },
  {
   "cell_type": "markdown",
   "metadata": {
    "colab_type": "text",
    "id": "nldFcOG7texy"
   },
   "source": [
    "#### An Insight to this would be:\n",
    "<br>\n",
    "<div style=\"text-align: justify\">In the above example, you are the agent who is trying to complete the maze, which is the environment. Walking is the action the agent performs on the environment. The nearer we are to the maze exit we know we are making the right decisions- this acts as a reward. The agent tries to perform the action in such a way that the reward maximizes. This is how Reinforcement Learning works in a nutshell. </div>"
   ]
  },
  {
   "cell_type": "markdown",
   "metadata": {
    "colab_type": "text",
    "id": "hjCyyruTtexz"
   },
   "source": [
    "#### To put this into a simple diagram:"
   ]
  },
  {
   "cell_type": "markdown",
   "metadata": {
    "colab_type": "text",
    "id": "wu6xABf3tex0"
   },
   "source": [
    "<img src=\"images/Fig3.png\">"
   ]
  },
  {
   "cell_type": "markdown",
   "metadata": {
    "colab_type": "text",
    "id": "rqKdsgjMtex0"
   },
   "source": [
    "#### In terms of computer science we have this same image represented as:"
   ]
  },
  {
   "cell_type": "markdown",
   "metadata": {
    "colab_type": "text",
    "id": "7dP5FZZStex1"
   },
   "source": [
    "<img src=\"images/Fig4.png\">"
   ]
  },
  {
   "cell_type": "markdown",
   "metadata": {
    "colab_type": "text",
    "id": "1eVDim_8tex1"
   },
   "source": [
    "<br>\n",
    "<div style=\"text-align: justify\">In reinforcement learning, an agent interacts with an environment with an objective to maximize its total reward\n",
    "The agent takes an action based on the environment state and the environment returns the reward and the next state. The agent learns from trial and error, initially taking random actions and over time identifying the actions that lead to long-term rewards.</div>\n"
   ]
  },
  {
   "cell_type": "markdown",
   "metadata": {},
   "source": [
    "## AWS DeepRacer Process in detail \n",
    "\n",
    "Let's explore the AWS DeepRacer Process in detail by clicking on this [link](https://d2k9g1efyej86q.cloudfront.net/)\n",
    "\n"
   ]
  },
  {
   "cell_type": "markdown",
   "metadata": {
    "colab_type": "text",
    "id": "AN7nkHVAtex2"
   },
   "source": [
    "### Basics of Computer Science + Neural Networks (Optional Reading)\n",
    "\n",
    "#### What is a Function?\n",
    "Every programming language lets you create blocks of code that, when called, perform certain predefined tasks. In programming, these code blocks are defined as functions.\n",
    "\n",
    "All programming functions have an input and an output. The function contains instructions which specifies how to use the input and generate an expected output. It is similar to when we put cake mix (our input) inside an oven (our function) and we get baked cake ready (our output).\n",
    "\n",
    "For example, programming functions might take any integer or number as an input. The function might create an output by multiplying the input times two (or in any other way as specified). Therefore, the output of the function would be double its input value.\n",
    "\n",
    "It is possible to build entire software applications with only functions. Programming languages which primarily use functions are called functional programming languages.\n"
   ]
  },
  {
   "cell_type": "markdown",
   "metadata": {
    "colab_type": "text",
    "id": "RMas8Qyitex2"
   },
   "source": [
    "#### Let us take a look at a real implementation of a Reinforcement Learning through a function:"
   ]
  },
  {
   "cell_type": "markdown",
   "metadata": {
    "colab_type": "text",
    "id": "RWB-lNOBtex3"
   },
   "source": [
    "<img src=\"images/Fig5.png\">"
   ]
  },
  {
   "cell_type": "markdown",
   "metadata": {
    "colab_type": "text",
    "id": "rk40NGxHtex3"
   },
   "source": [
    "<ins>Return Type</ins> − A function may return a value. The return_type is the data type of the value the function returns. Some functions perform the desired operations without returning a value. In this case, the return_type is the keyword void.\n",
    "\n",
    "<ins>Function Name</ins> − This is the actual name of the function. The function name and the parameter list together constitute the function signature.\n",
    "\n",
    "<br>\n",
    "<div style=\"text-align: justify\">\n",
    "<ins>Parameter List</ins> − A parameter is like a placeholder. When a function is invoked, you pass a value as a parameter. This value is referred to as the actual parameter or argument. The parameter list refers to the type, order, and the number of the parameters of a function. Parameters are optional, which means a function may contain no parameters.</div>\n",
    "\n",
    "<ins>Function Body</ins> − The function body contains a collection of statements that defines what the function does.\n"
   ]
  },
  {
   "cell_type": "markdown",
   "metadata": {
    "colab_type": "text",
    "id": "G2YZGZ8gtex4"
   },
   "source": [
    "### Artificial Neural Network\n",
    "<br>\n",
    "<div style=\"text-align: justify\">Artificial neural networks (ANNs) are computing systems that are loosely modeled after a human brain and are designed to recognize patterns. Such systems \"learn\" to perform tasks by considering examples, generally without being programmed with task-specific rules.</div>\n",
    "    \n",
    "<br>\n",
    "<div style=\"text-align: justify\">    \n",
    "For example, in image recognition ANNs might learn to identify images that contain cats by analyzing sample images that have been manually labeled as \"cat\" or \"no cat\" and using these labeled images they try to identify cats in other unlabeled images. They do this without any prior knowledge about the characteristic features of cats such as information about their fur, tail, whiskers and cat-like faces. Instead, they automatically generate identifying characteristics from the sample images that they process.</div>"
   ]
  },
  {
   "cell_type": "code",
   "execution_count": 1,
   "metadata": {
    "colab": {},
    "colab_type": "code",
    "id": "297hf7oLtex4",
    "outputId": "c52d2697-cf02-4738-accf-d34870f43774"
   },
   "outputs": [
    {
     "name": "stderr",
     "output_type": "stream",
     "text": [
      "C:\\Users\\manas\\Anaconda3\\lib\\site-packages\\IPython\\core\\display.py:689: UserWarning: Consider using IPython.display.IFrame instead\n",
      "  warnings.warn(\"Consider using IPython.display.IFrame instead\")\n"
     ]
    },
    {
     "data": {
      "text/html": [
       "<iframe width=\"560\" height=\"315\" src=\"https://www.youtube.com/embed/bfmFfD2RIcg\" frameborder=\"0\" allow=\"accelerometer; autoplay; encrypted-media; gyroscope; picture-in-picture\" allowfullscreen></iframe>"
      ],
      "text/plain": [
       "<IPython.core.display.HTML object>"
      ]
     },
     "execution_count": 1,
     "metadata": {},
     "output_type": "execute_result"
    }
   ],
   "source": [
    "from IPython.display import HTML\n",
    "HTML('<iframe width=\"560\" height=\"315\" src=\"https://www.youtube.com/embed/bfmFfD2RIcg\" frameborder=\"0\" allow=\"accelerometer; autoplay; encrypted-media; gyroscope; picture-in-picture\" allowfullscreen></iframe>')\n",
    "     "
   ]
  }
 ],
 "metadata": {
  "colab": {
   "name": "Reinforcement learning-Basics.ipynb",
   "provenance": []
  },
  "kernelspec": {
   "display_name": "Python 3",
   "language": "python",
   "name": "python3"
  },
  "language_info": {
   "codemirror_mode": {
    "name": "ipython",
    "version": 3
   },
   "file_extension": ".py",
   "mimetype": "text/x-python",
   "name": "python",
   "nbconvert_exporter": "python",
   "pygments_lexer": "ipython3",
   "version": "3.7.3"
  }
 },
 "nbformat": 4,
 "nbformat_minor": 1
}
