{
 "cells": [
  {
   "cell_type": "markdown",
   "metadata": {},
   "source": [
    "\n",
    "# AWS DeepRacer Vehicle Tuning Micro Course\n",
    "## Introduction\n",
    "\n",
    "Now that you have learned about how the AWS DeepRacer uses Reinforcement Learning to train itself so that it can complete the race course, let’s dive into some of the technology that makes it possible.  We will also go over how you as the programmer can customize different things to make your DeepRacer quicker than your competitors.  You will need to start by selecting the “Your Garage” option on the left hand bar underneath “Reinforcement Learning”.  Next, you will click the “Build New Vehicle”. \n",
    "<br/><br/>\n"
   ]
  },
  {
   "cell_type": "markdown",
   "metadata": {},
   "source": [
    "<img src=\"images/garage screenshot.png\">"
   ]
  },
  {
   "cell_type": "markdown",
   "metadata": {},
   "source": [
    "## Picking the Ideal Camera Setup\n",
    "\n",
    "This will take you to the “Mod Your Own Vehicle” section.  Here you will choose a camera configuration, and learn a little bit about all the potential setups to help you decide which you want to equip your DeepRacer with.\n",
    "\n"
   ]
  },
  {
   "cell_type": "markdown",
   "metadata": {},
   "source": [
    "<img src=\"images/camera selection screenshot.png\">"
   ]
  },
  {
   "cell_type": "markdown",
   "metadata": {},
   "source": [
    "The DeepRacer car uses a camera as its primary means of navigating the race course which allows the DeepRacer determine how it is interacting with the race track.  It does this by taking 15 pictures per second of the track in front of it.  It then feeds each picture into a neural network, which in conjunction with your reward function, trains your DeepRacer.  There are 2 camera options that you, the programmer, can choose from for your DeepRacer.\n",
    "  \n",
    "The first, and standard option, is a traditional single camera.  \n",
    "\n",
    "### Advantages of a singular camera for your DeepRacer:\n",
    "* You can train your model quicker\n",
    "    * This is because there is only a singular stream of inputs into your neural network. \n",
    "* It is the simplest, and cheapest option that will function at a high level on time trials.\n",
    "\n",
    "### Disadvantages of a singluar camera for your DeepRacer:\n",
    "* Only one camera means your set of inputs is smaller\n",
    "\n",
    "The other option that you as the programmer must consider, is a stereo camera.  A stereo camera is composed of two single lense cameras that both simultaneously take pictures.    \n",
    "\n",
    "\n",
    "### Advantages of a stereo camera for your DeepRacer:\n",
    "* Depth can now be percieved easier\n",
    "    * This is especially important for Object Avoidance and Head-to-Head events\n",
    "* There will be more inputs to help train your model\n",
    "\n",
    "### Disadvantages of a stereo camera for your DeepRacer:\n",
    "* Your model will take significantly longer to train\n",
    "    * With twice as many cameras there are twice as many inputs and so computation time increases \n",
    "\n",
    "You as the programmer must decide which camera is best suited for your competition by weighing the advantages and disadvantages to each option.\n",
    "\n",
    "### LIDAR SENSOR\n",
    "One other important part of the DeepRacer that you should learn about as the programmer is the LIDAR Sensor add-on.  The LIDAR Sensor should be used exclusively for events in which other objects populate the track (if you plan on just competing in time trials you can skip this explanation as you will not be using LIDAR).  The LIDAR sensor allows the DeepRacer to always know its distance to all other objects, such as other DeepRacers or obstacles on the course.  This helps the DeepRacer with obstacle avoidance actions, such as passing another DeepRacer in a Head-to-Head race.  The major drawback of LIDAR sensors in real life is how expensive they are.  However for the online simulations of DeepRacer you should 100% equip it for Obstacle Avoidance and Head-to-Head events.\n",
    "\n",
    "After you have selected your camera option, click on the “next” button in the bottom right.  \n"
   ]
  },
  {
   "cell_type": "markdown",
   "metadata": {},
   "source": [
    "## The Action Space\n",
    "This will bring you to the next step in customizing your DeepRacer, the “Action Space” page."
   ]
  },
  {
   "cell_type": "markdown",
   "metadata": {},
   "source": [
    "<img src=\"images/action space screenshot.png\">"
   ]
  },
  {
   "cell_type": "markdown",
   "metadata": {},
   "source": [
    "In addition to choosing the type of camera system your DeepRacer will use, there are 4 values that you also have control over that will greatly impact how your DeepRacer operates.  These four values will determine how many different possible action options your DeepRacer will have at its disposal during training and the events.\n",
    "\n",
    "### Maximum Steering Angle\n",
    "* Steering Angle is the maximum degree that the wheels can turn left or right of the center of the car.  \n",
    "* The higher the value the more the wheels can turn left or right, the lower the value the less so.\n",
    "\n",
    "### Steering Angle Granularity \n",
    "* This is how fine you want the steering angle to be divided.  \n",
    "* For example, a steering angle granularity of 5 will allow the DeepRacer to turn at -30, -15, 0, 15, 30 while a steering angle granularity of 3 allows for only -30, 0, 30.\n",
    "\n",
    "### Maximum Speed\n",
    "* This is pretty self explanatory\n",
    "* An important thing to note is that while you obviously should want your DeepRacer to drive as fast as possible to get the quickest time, remember that the higher your maximum speed the harder it is to slow down and navigate through turns\n",
    "\n",
    "###  Speed Granularity \n",
    "* This is how much you want the DeepRacer’s speed to be divided by.  \n",
    "* With a max speed of 3 and a speed granularity of 2 your DeepRacer will allow actions of solely 3m/s and 1.5m/s, where as if the speed granularity was 1 then your DeepRacer will only allow actions at a speed of 3m/s.\n",
    "\n",
    "## Action List\n",
    "Depending on the values you give for these four options, the Action List at the bottom of the page will change.  The screenshot below is an example in which the maximum steering angle is 30 degrees, the steering angle granularity is 5, maximum speed is 3m/s, and the speed granularity is 2.\n"
   ]
  },
  {
   "cell_type": "markdown",
   "metadata": {},
   "source": [
    "<img src=\"images/action list screenshot.png\">"
   ]
  },
  {
   "cell_type": "markdown",
   "metadata": {},
   "source": [
    "This action list is all of the potential actions that your DeepRacer can choose from while training or racing, and is a combination of all possible steering angles and speeds based on the four input values described above.  This means that the number of actions will be the steering angle granularity multiplied by the speed granularity. \n",
    "\n",
    "### Action Space Tips:\n",
    "In general, a larger number of actions and larger action ranges give your DeepRacer more options to react to more varied track conditions, such as a curved track with irregular turning angles or directions.  As a result, you can expect the trained model to be more widely applicable, even when using a simple reward function.  For example, your DeepRacer can learn quickly to handle straight-line track using a smaller action space with a small number of speeds and steering angles.  On a curved track, this lack of options within the action space is likely to cause the DeepRacer to overshoot and go off the track while it turns.  If you increase the number of speeds or the number of steering angles or both, the DeepRacer should become more capable of maneuvering the curves while keeping on the track.  Similarly, if your agent moves in a zig-zag fashion, you can try to increase the number of steering ranges (this would mean increasing the steering angle granularity) to reduce drastic turns at any given step.  However, it is important to note that while it is good to have more options, it will take longer to train your model the more actions that are on your Action List.  \n",
    "\n",
    "Once you are satisfied with your action list, press the “next” button in the bottom right to bring us to the final step.\n"
   ]
  },
  {
   "cell_type": "markdown",
   "metadata": {},
   "source": [
    "## Final Steps\n",
    "This final page is for you to choose a name and appearance for your DeepRacer. "
   ]
  },
  {
   "cell_type": "markdown",
   "metadata": {},
   "source": [
    "<img src=\"images/customize screenshot.png\">"
   ]
  },
  {
   "cell_type": "markdown",
   "metadata": {},
   "source": [
    "You can name your new customized DeepRacer anything you would like.  You can also pick the color you would like it to be.  Once you finish choosing a name and color you will add your newly customized DeepRacer to your garage by selecting the “Done” button in the bottom right.  \n",
    "\n",
    "Your newly customized DeepRacer is now ready to be trained on one of your models!  "
   ]
  }
 ],
 "metadata": {
  "kernelspec": {
   "display_name": "Python 3",
   "language": "python",
   "name": "python3"
  },
  "language_info": {
   "codemirror_mode": {
    "name": "ipython",
    "version": 3
   },
   "file_extension": ".py",
   "mimetype": "text/x-python",
   "name": "python",
   "nbconvert_exporter": "python",
   "pygments_lexer": "ipython3",
   "version": "3.8.3"
  }
 },
 "nbformat": 4,
 "nbformat_minor": 4
}
