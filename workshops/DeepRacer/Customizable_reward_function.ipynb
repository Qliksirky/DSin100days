{
 "cells": [
  {
   "cell_type": "markdown",
   "metadata": {},
   "source": [
    "# Create Reward function"
   ]
  },
  {
   "cell_type": "markdown",
   "metadata": {},
   "source": [
    "## In this exercise we will create our own simple reward function\n",
    "#### The reward function describes immediate feedback (as a score for reward or penalty) when the vehicle takes an action to move from a given position on the track to a new position. Its purpose is to encourage the vehicle to make moves along the track to reach its destination quickly. The model training process will attempt to find a policy which maximizes the average total reward the vehicle experiences."
   ]
  },
  {
   "cell_type": "markdown",
   "metadata": {},
   "source": [
    "Lets begin designing our reward function based on the principle of __following the centre line__.\n",
    "As our DeepRacer races along the track we would like it to stick to the middle of the track by following the centre line.\n",
    "This can be done by placing __markers__ which rewards the DeepRacer when it drives near the centre line and penalise as it drifts away from the centre line.\n",
    "\n",
    "We will take __3 markers__ to denote these points on the track."
   ]
  },
  {
   "cell_type": "markdown",
   "metadata": {},
   "source": [
    "<img src=\"images/Markers.PNG\">"
   ]
  },
  {
   "cell_type": "markdown",
   "metadata": {},
   "source": [
    "### Setting up Markers"
   ]
  },
  {
   "cell_type": "markdown",
   "metadata": {},
   "source": [
    "Steps to follow:\n",
    "> 1. Marker 1 denotes the area nearest to the centre line. We can calibrate the width of Marker 1 by changing it's value on the slider __Marker 1__ \n",
    ">2. Similarly we do the same for the __Marker 2__(further away from Marker 1) and __Marker 3__(Further away from marker 2)\n",
    "\n",
    "Note: the placement of the marker is calculated by the simple mathematical formula. __Maker value__ is denoted by value chosen by the user(Marker 1, Marker 2, Marker 3)\n",
    "\n",
    "`Marker position = Marker value X Track width`\n",
    "\n",
    "Track width is a preporgrammed standard value inside the DeepRacer"
   ]
  },
  {
   "cell_type": "code",
   "execution_count": 2,
   "metadata": {},
   "outputs": [
    {
     "data": {
      "application/vnd.jupyter.widget-view+json": {
       "model_id": "f27fc163617146c182551ddb08a45f60",
       "version_major": 2,
       "version_minor": 0
      },
      "text/plain": [
       "FloatSlider(value=0.1, continuous_update=False, description='Marker1:', max=0.15, min=0.01, step=0.01)"
      ]
     },
     "metadata": {},
     "output_type": "display_data"
    },
    {
     "data": {
      "application/vnd.jupyter.widget-view+json": {
       "model_id": "f62413e1f25a496880c82944ddc4c0be",
       "version_major": 2,
       "version_minor": 0
      },
      "text/plain": [
       "FloatSlider(value=0.25, continuous_update=False, description='Marker2:', max=0.35, min=0.16, step=0.01)"
      ]
     },
     "metadata": {},
     "output_type": "display_data"
    },
    {
     "data": {
      "application/vnd.jupyter.widget-view+json": {
       "model_id": "bb15a105773043158a9e255b3556ad54",
       "version_major": 2,
       "version_minor": 0
      },
      "text/plain": [
       "FloatSlider(value=0.5, continuous_update=False, description='Marker3:', max=0.5, min=0.36, step=0.01)"
      ]
     },
     "metadata": {},
     "output_type": "display_data"
    }
   ],
   "source": [
    "from myfunctions import sliders_init\n",
    "\n",
    "m1,m2,m3=sliders_init()\n",
    "display(m1)\n",
    "display(m2)\n",
    "display(m3)"
   ]
  },
  {
   "cell_type": "markdown",
   "metadata": {},
   "source": [
    "Tips for selecting Marker values:\n",
    "\n",
    "1. Have a healthy gap between markers\n",
    "2. Do not give very small values to marker 1\n",
    "\n",
    "Reason: Both these actions will give very little room for the DeepRacer to explore better paths for it to go faster around the track\n",
    "\n",
    "Good values for the markers would be:\n",
    "\n",
    "Marker 1: 0.1<br>\n",
    "Marker 2: 0.25<br>\n",
    "Marker 3: 0.5"
   ]
  },
  {
   "cell_type": "markdown",
   "metadata": {},
   "source": [
    "### Setting up Reward Values"
   ]
  },
  {
   "cell_type": "markdown",
   "metadata": {},
   "source": [
    "After setting up the distance markers we will now configure reward points based on how far our DeepRacer is from the centre line. Our aim is to give maximum reward to our DeepRacer when it closer to the centre line and least when it is far away from it.\n",
    "\n",
    "Reward 1 denotes the reward value we will give to our DeepRacer when it is inside the Marker 1 width<br>\n",
    "Reward 2 denotes the reward value we will give to our DeepRacer when it is inside the Marker 2 width but wider than Marker 1<br>\n",
    "Reward 3 denotes the reward value we will give to our DeepRacer when it is inside the Marker 3 width\n",
    "\n",
    "Reward 4 denotes the reward value we will give to our DeepRacer when it is outside the Marker 3 width and has most probably crashed/ close to off track."
   ]
  },
  {
   "cell_type": "code",
   "execution_count": 1,
   "metadata": {},
   "outputs": [
    {
     "data": {
      "application/vnd.jupyter.widget-view+json": {
       "model_id": "83146c8517a340dfa0da9ed9f33ea249",
       "version_major": 2,
       "version_minor": 0
      },
      "text/plain": [
       "FloatSlider(value=0.5, continuous_update=False, description='Reward1:', max=1.0, min=0.1, step=0.01)"
      ]
     },
     "metadata": {},
     "output_type": "display_data"
    },
    {
     "data": {
      "application/vnd.jupyter.widget-view+json": {
       "model_id": "9fa98331e6d64c8d8bc4ab070397f57f",
       "version_major": 2,
       "version_minor": 0
      },
      "text/plain": [
       "FloatSlider(value=0.5, continuous_update=False, description='Reward2:', max=1.0, min=0.1, step=0.01)"
      ]
     },
     "metadata": {},
     "output_type": "display_data"
    },
    {
     "data": {
      "application/vnd.jupyter.widget-view+json": {
       "model_id": "832aaeddbb0941f2ae5b23c2cedc3d0d",
       "version_major": 2,
       "version_minor": 0
      },
      "text/plain": [
       "FloatSlider(value=0.5, continuous_update=False, description='Reward3:', max=1.0, min=0.1, step=0.01)"
      ]
     },
     "metadata": {},
     "output_type": "display_data"
    },
    {
     "data": {
      "application/vnd.jupyter.widget-view+json": {
       "model_id": "e0d80615ba5d4d81b1a06b4367d835a6",
       "version_major": 2,
       "version_minor": 0
      },
      "text/plain": [
       "FloatSlider(value=0.005, continuous_update=False, description='Reward4:', max=0.05, readout_format='.3f', step…"
      ]
     },
     "metadata": {},
     "output_type": "display_data"
    }
   ],
   "source": [
    "from myfunctions_rewards import sliders_init_reward\n",
    "\n",
    "r1,r2,r3,r4=sliders_init_reward()\n",
    "display(r1)\n",
    "display(r2)\n",
    "display(r3)\n",
    "display(r4)"
   ]
  },
  {
   "cell_type": "markdown",
   "metadata": {},
   "source": [
    "### Creating our reward function"
   ]
  },
  {
   "cell_type": "markdown",
   "metadata": {},
   "source": [
    "Run the code present below and the output will generate your customized Reward function based on the values you selected for your reward graph.\n",
    "\n",
    "Copy the output and paste it inside the code editor on your AWS Console."
   ]
  },
  {
   "cell_type": "code",
   "execution_count": 4,
   "metadata": {},
   "outputs": [
    {
     "name": "stdout",
     "output_type": "stream",
     "text": [
      "def reward_function(params): \n",
      "\n",
      "    track_width = params['track_width'] \n",
      "    distance_from_center = params['distance_from_center']\n",
      "\n",
      "    marker_1 = 0.1 * track_width\n",
      "    marker_2 = 0.25 * track_width\n",
      "    marker_3 = 0.5 * track_width\n",
      "\n",
      "    if distance_from_center <= marker_1:\n",
      "        reward = 0.5\n",
      "    elif distance_from_center <= marker_2:\n",
      "        reward = 0.5\n",
      "    elif distance_from_center <= marker_3:\n",
      "        reward = 0.5\n",
      "    else:\n",
      "        reward = 0.0455\n",
      "\n",
      "    return float(reward)\n"
     ]
    }
   ],
   "source": [
    "from print_reward import print_reward_func\n",
    "print_reward_func(m1,m2,m3,r1,r2,r3,r4)"
   ]
  },
  {
   "cell_type": "markdown",
   "metadata": {},
   "source": [
    "<img src=\"images/AWS_Code_editor.PNG\">"
   ]
  },
  {
   "cell_type": "markdown",
   "metadata": {},
   "source": [
    "Make sure to select the __Validate__ button present on your AWS Code editor to make sure the code is correct. \n",
    "\n",
    "If there is an error. Select __Reset__ and rerun your code and paste it again.\n",
    "In case of presistent error kindly reach out to us."
   ]
  }
 ],
 "metadata": {
  "kernelspec": {
   "display_name": "Python 3",
   "language": "python",
   "name": "python3"
  },
  "language_info": {
   "codemirror_mode": {
    "name": "ipython",
    "version": 3
   },
   "file_extension": ".py",
   "mimetype": "text/x-python",
   "name": "python",
   "nbconvert_exporter": "python",
   "pygments_lexer": "ipython3",
   "version": "3.7.3"
  }
 },
 "nbformat": 4,
 "nbformat_minor": 2
}
