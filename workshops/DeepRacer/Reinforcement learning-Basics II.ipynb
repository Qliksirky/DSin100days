{
 "cells": [
  {
   "cell_type": "markdown",
   "metadata": {},
   "source": [
    "# __AWS DeepRacer Micro Course__"
   ]
  },
  {
   "cell_type": "markdown",
   "metadata": {},
   "source": [
    "### Q:What is Machine learning?\n",
    "\n",
    "A: Machine learning is the science of getting computers to act without being explicitly programmed.\n",
    "Each time you do a web search on Google or Bing, that works so well because their machine learning software has figured out how to rank what pages. When Facebook or Apple's photo application recognizes your friends in your pictures, that's also machine learning. Each time you read your email and a spam filter saves you from having to wade through tons of spam, again, that's because your computer has learned to distinguish spam from non-spam email. So, that's machine learning.\n",
    "\n"
   ]
  },
  {
   "cell_type": "markdown",
   "metadata": {},
   "source": [
    "### Q:What are the types of Machine learning?\n",
    "A: There are 3 types of Machine learning technques:\n",
    "\nSupervised learning\n",
    "Supervised learning is the machine learning task of learning a function that maps an input to an output based on example input-output pairs.\n",
    "There are different types of Supervised learning algorithms but the two primary ones are:\n",
    "<br><ins>Classification</ins>: Supervised learning problem that involves predicting a class label\n",
    "<br><ins>Regression</ins>: Supervised learning problem that involves predicting a numerical label\n",
    "    \n",
    "\n",
    "Unsupervised learning\n",
    "<br><ins>Inference-based training</ins> — with unlabeled data without known outputs, a model is trained to identify related structures or similar patterns within the input data.\n",
    "<br><ins>Clustering</ins>: Unsupervised learning problem that involves finding groups in data.\n",
    "<br><ins>Density Estimation</ins>: Unsupervised learning problem that involves summarizing the distribution of data.\n",
    "\n",
    "\n",
    "Reinforcement learning"
   ]
  },
  {
   "cell_type": "markdown",
   "metadata": {},
   "source": [
    "### Reinforcement learning\n",
    "What does Reinforcement mean?\n",
    "<br>Reinforcement means the process of encouraging or establishing a belief or pattern of behaviour, especially by encouragement or reward.\n",
    "Let us take an example of training puppies\n"
   ]
  },
  {
   "cell_type": "markdown",
   "metadata": {},
   "source": [
    "<img src=\"images/Fig1.png\">"
   ]
  },
  {
   "cell_type": "markdown",
   "metadata": {},
   "source": [
    "<ins>Reinforcement learning (RL)</ins> is a type of machine learning, in which an agent explores an environment to learn how to perform desired tasks by taking actions with good outcomes and avoiding actions with bad outcomes\n",
    "<br>A reinforcement learning model will learn from its experience and over time will be able to identify which actions lead to the best rewards."
   ]
  },
  {
   "cell_type": "markdown",
   "metadata": {},
   "source": [
    "#### Another Example can be of how we solve a maze "
   ]
  },
  {
   "cell_type": "markdown",
   "metadata": {},
   "source": [
    "<img src=\"images/Fig2.png\">"
   ]
  },
  {
   "cell_type": "markdown",
   "metadata": {},
   "source": [
    "#### An Insight to this would be:\n",
    "In the above example, you are the agent who is trying to complete the maze, which is the environment. Walking is the action the agent performs on the environment. The nearer we are to the maze exit we know we are making the right decisions- this acts as a reward. The agent tries to perform the action in such a way that the reward maximizes. This is how Reinforcement Learning works in a nutshell."
   ]
  },
  {
   "cell_type": "markdown",
   "metadata": {},
   "source": [
    "#### To put this into a simple diagram:"
   ]
  },
  {
   "cell_type": "markdown",
   "metadata": {},
   "source": [
    "<img src=\"images/Fig3.png\">"
   ]
  },
  {
   "cell_type": "markdown",
   "metadata": {},
   "source": [
    "In terms of computer science we have this same image as"
   ]
  },
  {
   "cell_type": "markdown",
   "metadata": {},
   "source": [
    "<img src=\"images/Fig4.png\">"
   ]
  },
  {
   "cell_type": "markdown",
   "metadata": {},
   "source": [
    "In reinforcement learning, an agent interacts with an environment with an objective to maximize its total reward\n",
    "The agent takes an action based on the environment state and the environment returns the reward and the next state. The agent learns from trial and error, initially taking random actions and over time identifying the actions that lead to long-term rewards\n"
   ]
  },
  {
   "cell_type": "markdown",
   "metadata": {},
   "source": [
    "### Basic of Computer Science + Neural Networks(optional)\n",
    "\n",
    "#### What’s a Function?\n",
    "Every programming language lets you create blocks of code that, when called, perform tasks. In programming, these code blocks are called functions.\n",
    "\n",
    "All programming functions have input and output. The function contains instructions used to create the output from its input. It’s like a cow that eats grass (the input) which its body turns into milk which a dairy farmer then milks (the output).\n",
    "\n",
    "For example, programming functions might take as input any integer or number. The function might create output by multiplying the input times two. Therefore, the output of the function would be double its input.\n",
    "\n",
    "It is possible to build entire software applications with only functions. Programming languages which primarily use functions are called functional programming languages.\n"
   ]
  },
  {
   "cell_type": "markdown",
   "metadata": {},
   "source": [
    "Let us take a look at a real implementation of a reinforcement learning"
   ]
  },
  {
   "cell_type": "markdown",
   "metadata": {},
   "source": [
    "<img src=\"images/Fig5.png\">"
   ]
  },
  {
   "cell_type": "markdown",
   "metadata": {},
   "source": [
    "<ins>Return Type</ins> − A function may return a value. The return_type is the data type of the value the function returns. Some functions perform the desired operations without returning a value. In this case, the return_type is the keyword void.\n",
    "\n",
    "<ins>Function Name</ins>− This is the actual name of the function. The function name and the parameter list together constitute the function signature.\n",
    "\n",
    "<ins>Parameter List</ins> − A parameter is like a placeholder. When a function is invoked, you pass a value as a parameter. This value is referred to as the actual parameter or argument. The parameter list refers to the type, order, and the number of the parameters of a function. Parameters are optional; that is, a function may contain no parameters.\n",
    "\n",
    "<ins>Function Body</ins> − The function body contains a collection of statements that defines what the function does.\n"
   ]
  },
  {
   "cell_type": "markdown",
   "metadata": {},
   "source": [
    "### Artificial Neural Network\n",
    "\n",
    "Artificial neural networks (ANN) or connectionist systems are computing systems vaguely inspired by the biological neural networks that constitute animal brains.<br> Such systems \"learn\" to perform tasks by considering examples, generally without being programmed with task-specific rules.<br> For example, in image recognition, they might learn to identify images that contain cats by analyzing example images that have been manually labeled as \"cat\" or \"no cat\" and using the results to identify cats in other images. They do this without any prior knowledge of cats, for example, that they have fur, tails, whiskers and cat-like faces. Instead, they automatically generate identifying characteristics from the examples that they process."
   ]
  },
  {
   "cell_type": "markdown",
   "metadata": {},
   "source": [
    "## AWS DeepRacer process\n",
    "Let's explore these ideas and how they relate to AWS DeepRacer.\n",
    "Click on the [link](https://d2k9g1efyej86q.cloudfront.net/)\n"
   ]
  }
 ],
 "metadata": {
  "kernelspec": {
   "display_name": "Python 3",
   "language": "python",
   "name": "python3"
  },
  "language_info": {
   "codemirror_mode": {
    "name": "ipython",
    "version": 3
   },
   "file_extension": ".py",
   "mimetype": "text/x-python",
   "name": "python",
   "nbconvert_exporter": "python",
   "pygments_lexer": "ipython3",
   "version": "3.7.3"
  }
 },
 "nbformat": 4,
 "nbformat_minor": 2
}
