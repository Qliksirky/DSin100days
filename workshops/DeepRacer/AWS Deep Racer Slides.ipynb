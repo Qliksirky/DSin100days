{
 "cells": [
  {
   "cell_type": "markdown",
   "metadata": {},
   "source": [
    "<img src=\"images/AIM207-R DeepRacer reInvent 2019 200 level v7_001.png\">\n",
    "<img src=\"images/AIM207-R DeepRacer reInvent 2019 200 level v7_002.png\">\n",
    "<img src=\"images/AIM207-R DeepRacer reInvent 2019 200 level v7_003.png\">\n",
    "<img src=\"images/AIM207-R DeepRacer reInvent 2019 200 level v7_004.png\">\n",
    "<img src=\"images/AIM207-R DeepRacer reInvent 2019 200 level v7_005.png\">\n",
    "<img src=\"images/AIM207-R DeepRacer reInvent 2019 200 level v7_006.png\">\n",
    "<img src=\"images/AIM207-R DeepRacer reInvent 2019 200 level v7_007.png\">\n",
    "<img src=\"images/AIM207-R DeepRacer reInvent 2019 200 level v7_008.png\">\n",
    "<img src=\"images/AIM207-R DeepRacer reInvent 2019 200 level v7_009.png\">\n",
    "<img src=\"images/AIM207-R DeepRacer reInvent 2019 200 level v7_010.png\">\n",
    "<img src=\"images/AIM207-R DeepRacer reInvent 2019 200 level v7_011.png\">\n",
    "<img src=\"images/AIM207-R DeepRacer reInvent 2019 200 level v7_012.png\">\n",
    "<img src=\"images/AIM207-R DeepRacer reInvent 2019 200 level v7_013.png\">\n",
    "<img src=\"images/AIM207-R DeepRacer reInvent 2019 200 level v7_014.png\">\n",
    "<img src=\"images/AIM207-R DeepRacer reInvent 2019 200 level v7_015.png\">\n",
    "<img src=\"images/AIM207-R DeepRacer reInvent 2019 200 level v7_016.png\">\n",
    "<img src=\"images/AIM207-R DeepRacer reInvent 2019 200 level v7_017.png\">\n",
    "<img src=\"images/AIM207-R DeepRacer reInvent 2019 200 level v7_018.png\">\n",
    "<img src=\"images/AIM207-R DeepRacer reInvent 2019 200 level v7_019.png\">\n",
    "<img src=\"images/AIM207-R DeepRacer reInvent 2019 200 level v7_020.png\">\n",
    "<img src=\"images/AIM207-R DeepRacer reInvent 2019 200 level v7_021.png\">\n",
    "<img src=\"images/AIM207-R DeepRacer reInvent 2019 200 level v7_022.png\">\n",
    "<img src=\"images/AIM207-R DeepRacer reInvent 2019 200 level v7_023.png\">\n",
    "<img src=\"images/AIM207-R DeepRacer reInvent 2019 200 level v7_024.png\">\n",
    "<img src=\"images/AIM207-R DeepRacer reInvent 2019 200 level v7_025.png\">\n",
    "<img src=\"images/AIM207-R DeepRacer reInvent 2019 200 level v7_026.png\">\n",
    "<img src=\"images/AIM207-R DeepRacer reInvent 2019 200 level v7_027.png\">\n",
    "<img src=\"images/AIM207-R DeepRacer reInvent 2019 200 level v7_028.png\">\n",
    "<img src=\"images/AIM207-R DeepRacer reInvent 2019 200 level v7_029.png\">\n",
    "<img src=\"images/AIM207-R DeepRacer reInvent 2019 200 level v7_030.png\">\n",
    "<img src=\"images/AIM207-R DeepRacer reInvent 2019 200 level v7_031.png\">\n",
    "<img src=\"images/AIM207-R DeepRacer reInvent 2019 200 level v7_032.png\">\n",
    "<img src=\"images/AIM207-R DeepRacer reInvent 2019 200 level v7_033.png\">\n",
    "<img src=\"images/AIM207-R DeepRacer reInvent 2019 200 level v7_034.png\">\n",
    "<img src=\"images/AIM207-R DeepRacer reInvent 2019 200 level v7_035.png\">\n",
    "<img src=\"images/AIM207-R DeepRacer reInvent 2019 200 level v7_036.png\">\n",
    "<img src=\"images/AIM207-R DeepRacer reInvent 2019 200 level v7_037.png\">\n",
    "<img src=\"images/AIM207-R DeepRacer reInvent 2019 200 level v7_038.png\">\n",
    "<img src=\"images/AIM207-R DeepRacer reInvent 2019 200 level v7_039.png\">\n",
    "<img src=\"images/AIM207-R DeepRacer reInvent 2019 200 level v7_040.png\">\n",
    "<img src=\"images/AIM207-R DeepRacer reInvent 2019 200 level v7_041.png\">\n",
    "<img src=\"images/AIM207-R DeepRacer reInvent 2019 200 level v7_042.png\">\n",
    "<img src=\"images/AIM207-R DeepRacer reInvent 2019 200 level v7_043.png\">\n",
    "<img src=\"images/AIM207-R DeepRacer reInvent 2019 200 level v7_044.png\">\n",
    "<img src=\"images/AIM207-R DeepRacer reInvent 2019 200 level v7_045.png\">\n",
    "<img src=\"images/AIM207-R DeepRacer reInvent 2019 200 level v7_046.png\">\n",
    "<img src=\"images/AIM207-R DeepRacer reInvent 2019 200 level v7_047.png\">"
   ]
  }
 ],
 "metadata": {
  "kernelspec": {
   "display_name": "Python 3",
   "language": "python",
   "name": "python3"
  },
  "language_info": {
   "codemirror_mode": {
    "name": "ipython",
    "version": 3
   },
   "file_extension": ".py",
   "mimetype": "text/x-python",
   "name": "python",
   "nbconvert_exporter": "python",
   "pygments_lexer": "ipython3",
   "version": "3.7.3"
  },
  "latex_envs": {
   "LaTeX_envs_menu_present": true,
   "autoclose": false,
   "autocomplete": true,
   "bibliofile": "biblio.bib",
   "cite_by": "apalike",
   "current_citInitial": 1,
   "eqLabelWithNumbers": true,
   "eqNumInitial": 1,
   "hotkeys": {
    "equation": "Ctrl-E",
    "itemize": "Ctrl-I"
   },
   "labels_anchors": false,
   "latex_user_defs": false,
   "report_style_numbering": false,
   "user_envs_cfg": false
  },
  "toc": {
   "base_numbering": 1,
   "nav_menu": {},
   "number_sections": false,
   "sideBar": true,
   "skip_h1_title": false,
   "title_cell": "Table of Contents",
   "title_sidebar": "Contents",
   "toc_cell": false,
   "toc_position": {},
   "toc_section_display": true,
   "toc_window_display": false
  },
  "varInspector": {
   "cols": {
    "lenName": 16,
    "lenType": 16,
    "lenVar": 40
   },
   "kernels_config": {
    "python": {
     "delete_cmd_postfix": "",
     "delete_cmd_prefix": "del ",
     "library": "var_list.py",
     "varRefreshCmd": "print(var_dic_list())"
    },
    "r": {
     "delete_cmd_postfix": ") ",
     "delete_cmd_prefix": "rm(",
     "library": "var_list.r",
     "varRefreshCmd": "cat(var_dic_list()) "
    }
   },
   "types_to_exclude": [
    "module",
    "function",
    "builtin_function_or_method",
    "instance",
    "_Feature"
   ],
   "window_display": false
  }
 },
 "nbformat": 4,
 "nbformat_minor": 2
}
