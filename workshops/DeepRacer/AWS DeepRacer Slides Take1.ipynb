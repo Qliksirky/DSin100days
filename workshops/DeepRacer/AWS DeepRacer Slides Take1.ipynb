{
 "cells": [
  {
   "attachments": {},
   "cell_type": "markdown",
   "metadata": {},
   "source": [
    "<img src=\"../../../../images/AIM207-R DeepRacer reInvent 2019 200 level v7_001.PNG\">\n",
    "<img src=\"/images/AIM207-R DeepRacer reInvent 2019 200 level v7_002.PNG\">\n",
    "<img src=\"/images/AIM207-R DeepRacer reInvent 2019 200 level v7_003.PNG\">\n",
    "<img src=\"/images/AIM207-R DeepRacer reInvent 2019 200 level v7_004.PNG\">\n",
    "<img src=\"/images/AIM207-R DeepRacer reInvent 2019 200 level v7_005.PNG\">\n",
    "<img src=\"/images/AIM207-R DeepRacer reInvent 2019 200 level v7_006.PNG\">\n",
    "<img src=\"/images/AIM207-R DeepRacer reInvent 2019 200 level v7_007.PNG\">\n",
    "<img src=\"/images/AIM207-R DeepRacer reInvent 2019 200 level v7_008.PNG\">\n",
    "<img src=\"/images/AIM207-R DeepRacer reInvent 2019 200 level v7_009.PNG\">\n",
    "<img src=\"/images/AIM207-R DeepRacer reInvent 2019 200 level v7_010.PNG\">\n",
    "<img src=\"/images/AIM207-R DeepRacer reInvent 2019 200 level v7_011.PNG\">\n",
    "<img src=\"/images/AIM207-R DeepRacer reInvent 2019 200 level v7_012.PNG\">\n",
    "<img src=\"/images/AIM207-R DeepRacer reInvent 2019 200 level v7_013.PNG\">\n",
    "<img src=\"/images/AIM207-R DeepRacer reInvent 2019 200 level v7_014.PNG\">\n",
    "<img src=\"/images/AIM207-R DeepRacer reInvent 2019 200 level v7_015.PNG\">\n",
    "<img src=\"/images/AIM207-R DeepRacer reInvent 2019 200 level v7_016.PNG\">\n",
    "<img src=\"/images/AIM207-R DeepRacer reInvent 2019 200 level v7_017.PNG\">\n",
    "<img src=\"/images/AIM207-R DeepRacer reInvent 2019 200 level v7_018.PNG\">\n",
    "<img src=\"/images/AIM207-R DeepRacer reInvent 2019 200 level v7_019.PNG\">\n",
    "<img src=\"/images/AIM207-R DeepRacer reInvent 2019 200 level v7_020.PNG\">\n",
    "<img src=\"/images/AIM207-R DeepRacer reInvent 2019 200 level v7_021.PNG\">\n",
    "<img src=\"/images/AIM207-R DeepRacer reInvent 2019 200 level v7_022.PNG\">\n",
    "<img src=\"/images/AIM207-R DeepRacer reInvent 2019 200 level v7_023.PNG\">\n",
    "<img src=\"/images/AIM207-R DeepRacer reInvent 2019 200 level v7_024.PNG\">\n",
    "<img src=\"/images/AIM207-R DeepRacer reInvent 2019 200 level v7_025.PNG\">\n",
    "<img src=\"/images/AIM207-R DeepRacer reInvent 2019 200 level v7_026.PNG\">\n",
    "<img src=\"/images/AIM207-R DeepRacer reInvent 2019 200 level v7_027.PNG\">\n",
    "<img src=\"/images/AIM207-R DeepRacer reInvent 2019 200 level v7_028.PNG\">\n",
    "<img src=\"/images/AIM207-R DeepRacer reInvent 2019 200 level v7_029.PNG\">\n",
    "<img src=\"/images/AIM207-R DeepRacer reInvent 2019 200 level v7_030.PNG\">\n",
    "<img src=\"/images/AIM207-R DeepRacer reInvent 2019 200 level v7_031.PNG\">\n",
    "<img src=\"/images/AIM207-R DeepRacer reInvent 2019 200 level v7_032.PNG\">\n",
    "<img src=\"/images/AIM207-R DeepRacer reInvent 2019 200 level v7_033.PNG\">\n",
    "<img src=\"/images/AIM207-R DeepRacer reInvent 2019 200 level v7_034.PNG\">\n",
    "<img src=\"/images/AIM207-R DeepRacer reInvent 2019 200 level v7_035.PNG\">\n",
    "<img src=\"/images/AIM207-R DeepRacer reInvent 2019 200 level v7_036.PNG\">\n",
    "<img src=\"/images/AIM207-R DeepRacer reInvent 2019 200 level v7_037.PNG\">\n",
    "<img src=\"/images/AIM207-R DeepRacer reInvent 2019 200 level v7_038.PNG\">\n",
    "<img src=\"/images/AIM207-R DeepRacer reInvent 2019 200 level v7_039.PNG\">\n",
    "<img src=\"/images/AIM207-R DeepRacer reInvent 2019 200 level v7_040.PNG\">\n",
    "<img src=\"/images/AIM207-R DeepRacer reInvent 2019 200 level v7_041.PNG\">\n",
    "<img src=\"/images/AIM207-R DeepRacer reInvent 2019 200 level v7_042.PNG\">\n",
    "<img src=\"/images/AIM207-R DeepRacer reInvent 2019 200 level v7_043.PNG\">\n",
    "<img src=\"/images/AIM207-R DeepRacer reInvent 2019 200 level v7_044.PNG\">\n",
    "<img src=\"/images/AIM207-R DeepRacer reInvent 2019 200 level v7_045.PNG\">\n",
    "<img src=\"/images/AIM207-R DeepRacer reInvent 2019 200 level v7_046.PNG\">\n",
    "<img src=\"/images/AIM207-R DeepRacer reInvent 2019 200 level v7_047.PNG\">"
   ]
  }
 ],
 "metadata": {
  "kernelspec": {
   "display_name": "Python 3",
   "language": "python",
   "name": "python3"
  },
  "language_info": {
   "codemirror_mode": {
    "name": "ipython",
    "version": 3
   },
   "file_extension": ".py",
   "mimetype": "text/x-python",
   "name": "python",
   "nbconvert_exporter": "python",
   "pygments_lexer": "ipython3",
   "version": "3.7.3"
  }
 },
 "nbformat": 4,
 "nbformat_minor": 2
}
