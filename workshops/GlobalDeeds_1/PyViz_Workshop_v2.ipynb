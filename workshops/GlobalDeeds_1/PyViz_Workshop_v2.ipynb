{
 "cells": [
  {
   "cell_type": "markdown",
   "metadata": {},
   "source": [
    "## Refactored's Visual Wizards Workshop - World Welfare and GDP\n",
    "\n",
    "In this workshop we will try to visualize a dataset that contains information about Gross Domestic Product (GDP) per capita, Population, Child Mortality Rate (children 5 or below) and Life Expectancy (average lifespan) of the 180+ countries of this world, over the span of 1950 to 2017.\n",
    "\n",
    "This data was sourced by the world demographic data repositories of the United Nations (UN) and a website which collates various such valuable demographic data \"Our World in Data\" (https://ourworldindata.org).\n",
    "\n",
    "Before we begin we would like to understand a few terms -\n",
    "1. Gross Domestic Product (GDP): The Gross Domestic Product is the total value (in dollars or any other currency) of goods produced and services provided within a country.\n",
    "2. GDP Per Capita: The GDP per capita is the value derived when the GDP of the country is divided by its population. The number signifies the approximate amount of money (in dollars or other currency) in terms of products or services that is available for each individual within the country.\n",
    "3. Child Mortality Rate (MR): Mortality Rate is given here by the percentage of deaths of child under the age of 5.\n",
    "\n",
    "Child Mortality Rate and Life Expectancy are two of the measures which convey the quality, availability and affordability of food, water, healthcare etc., within a country. When these metrics are combined with the GDP per capita of a country, we can understand whether the economic condition of the country is supportive of basic survival. \n",
    "\n",
    "We will now try to analyze the data collected by building visualization using 'Plotly' - an interactive plotting library that helps visualize multi-dimensional data.\n",
    "\n",
    "### Step 1: Loading the Data\n",
    "\n",
    "The first step within our exercise is to load the data. There are two different datasets - Life Expectancy dataset and Mortality Rate dataset. They can be loaded using below given functions.\n",
    "\n",
    "```python\n",
    "# load life expectancy dataset using this method - function takes no arguments\n",
    "load_le_data()\n",
    "\n",
    "# load mortality rate dataset using this method - function takes no arguments\n",
    "load_mr_data()\n",
    "```\n",
    "\n",
    "The above functions return the dataframe as the answer. Now you are required to store this answer (which is the entire dataset you want to load), into an object which you can later use in your analysis. Hence, create an object and assign it with the value the function would return by equating the new object with the function result. This is simple done as below:\n",
    "\n",
    "```python\n",
    "my_dataframe = load_le_data()\n",
    "```"
   ]
  },
  {
   "cell_type": "code",
   "execution_count": null,
   "metadata": {},
   "outputs": [],
   "source": []
  },
  {
   "cell_type": "markdown",
   "metadata": {},
   "source": [
    "### Step 2: Understanding the Data\n",
    "\n",
    "The next step is to view and understand the data using a few functions:\n",
    "\n",
    "#### To view the whole dataset\n",
    "\n",
    "```python\n",
    "# just type the name of the data frame object into which you had loaded the data\n",
    "my_dataframe\n",
    "```\n",
    "\n",
    "#### To view only the first or last few rows\n",
    "\n",
    "```python\n",
    "# To view the first 5 lines of the dataset use the head function\n",
    "my_dataframe.head()\n",
    "\n",
    "# To view the last 5 lines of the dataset use the tail function\n",
    "my_dataframe.tail()\n",
    "```\n",
    "\n",
    "#### To view the type of data in each column\n",
    "\n",
    "```python\n",
    "# To see the type of object and data type details of each column, use the info function\n",
    "my_dataframe.info()\n",
    "```"
   ]
  },
  {
   "cell_type": "code",
   "execution_count": null,
   "metadata": {},
   "outputs": [],
   "source": []
  },
  {
   "cell_type": "markdown",
   "metadata": {},
   "source": [
    "### Step 3: Selecting the Data\n",
    "\n",
    "Now we can select a slice of the dataset using selector functions:\n",
    "\n",
    "#### Life Expectancy Data Selector Function - le_data_selection(dframe, c_list, y_range):\n",
    "\n",
    "The le_data_selection() function can be used to select a portion of the huge life expectancy dataset. This function accepts 3 parameters - the dataframe object which contains the life expectancy dataset, the list of countries we want to filter data for, the time range, in years, that we would like to filter the dataset by.\n",
    "\n",
    "```python\n",
    "# below is a example of how to use the le_data_selection function\n",
    "le_data_selection(dataframe,['Country1','Country2','Country3',...],[Starting year, Ending year])\n",
    "```\n",
    "\n",
    "#### Mortality Rate Data Selector Function - mr_data_selection(dframe, c_list, y_range):\n",
    "\n",
    "The mr_data_selection() function can be used to select a portion of the huge mortality rate dataset. Similar to the life expectancy data selector function, this function also accepts 3 parameters - the dataframe object which contains the life expectancy dataset, the list of countries we want to filter data for, the time range, in years, that we would like to filter the dataset by.\n",
    "\n",
    "```python\n",
    "# below is a example of how to use the le_data_selection function\n",
    "mr_data_selection(dataframe,['Country1','Country2','Country3',...],[Starting year, Ending year])\n",
    "```\n",
    "\n",
    "These above functions return a filtered dataset as the result which can then be used for focussed analysis."
   ]
  },
  {
   "cell_type": "code",
   "execution_count": null,
   "metadata": {},
   "outputs": [],
   "source": []
  },
  {
   "cell_type": "markdown",
   "metadata": {},
   "source": [
    "### Step 4: Visualizing the Data\n",
    "\n",
    "Data Visualizations help us understand information, identify trends and answer questions quickly. We will now create various visualizations in order to answer certain questions.\n",
    "\n",
    "### Q1 - Showcase the contribution of each continent to World GDP. Which continent contributes the highest in the years -\n",
    "#### a. 1987\n",
    "#### b. 1997\n",
    "#### c. 2007\n",
    "\n",
    "In the above scenario, we are to showcase the contribution of each continent to World GDP. If we imagine the total World GDP to be a hug pie, we then need to show each continent as a slice of that pie. Hence, when a breakup of a total is what is to be visualized, a pie chart is the way to go.\n",
    "\n",
    "We can create a simple pie chart using the following function:\n",
    "\n",
    "```python\n",
    "pie_le_plot(dataframe, year)\n",
    "```\n",
    "\n",
    "The pie_le_plot uses the life expectancy dataset and accepts two parameters - the dataframe object that contains the dataset and the year for which you want to visualize the total GDP breakup."
   ]
  },
  {
   "cell_type": "code",
   "execution_count": null,
   "metadata": {},
   "outputs": [],
   "source": []
  },
  {
   "cell_type": "markdown",
   "metadata": {},
   "source": [
    "### Q2 - What are the trends in GDP per capita of each of the country groups given below, in the year range of 1990-2015?\n",
    "#### a. United Kingdom, Germany, France\n",
    "#### b. India, China, Brazil\n",
    "#### c. Zimbabwe, Nigeria, Afghanistan\n",
    "\n",
    "For the above question, GDP per capita is the main metric whose change is to be observed over time for each individual country. These trends are drawn for each country within the group and then compared with each other to make some observations. In order to visualize the change in a specific metric within the same category, trend line (or line plot) is one of the better charts to build.\n",
    "\n",
    "We can create a simple line plot using the following function:\n",
    "\n",
    "```python\n",
    "gdptrend_mr_plot(dataframe)\n",
    "```\n",
    "\n",
    "The gdptrend_mr_plot utilizes the mortality rate dataset and builds the line plot using a single parameter - the dataframe object that contains the dataset."
   ]
  },
  {
   "cell_type": "code",
   "execution_count": null,
   "metadata": {},
   "outputs": [],
   "source": []
  },
  {
   "cell_type": "markdown",
   "metadata": {},
   "source": [
    "#### Bonus: Q2 - In the above trend plot, compare the GDP trends of countries within your group. Do you observe any interesting patterns? Why are these patterns created? You may conduct external research to understand and answer why these interesting patterns arise."
   ]
  },
  {
   "cell_type": "code",
   "execution_count": null,
   "metadata": {},
   "outputs": [],
   "source": []
  },
  {
   "cell_type": "markdown",
   "metadata": {},
   "source": [
    "### Q3 - Compare the Life Expectancy of countries with each other in the below given groups, for the year 2007\n",
    "#### a. United Kingdom, India, Zimbabwe\n",
    "#### b. Germany, China, Nigeria\n",
    "#### c. France, Brazil, Afghanistan\n",
    "\n",
    "For the above question, Life Expectancy is the main metric whose change is to be observed for each individual country and then compare it with each other. Whenever we are required to compare a same attribute or quality across multiple categories/entities, we can use the bar chart. The length of the bars under each category are representative of the value the specific metric holds. This allows for easy visual comparison.\n",
    "\n",
    "We can create a simple line plot using the following function:\n",
    "\n",
    "```python\n",
    "bar_le_plot(dataframe)\n",
    "```\n",
    "\n",
    "The bar_le_plot utilizes the life expectancy dataset and builds the line plot using a single parameter - the dataframe object that contains the dataset."
   ]
  },
  {
   "cell_type": "code",
   "execution_count": null,
   "metadata": {},
   "outputs": [],
   "source": []
  },
  {
   "cell_type": "markdown",
   "metadata": {},
   "source": [
    "#### Bonus: Q3 - In the above bar plot, compare the Life Expectancy across countries within your group. Do you observe any interesting patterns? Why are these patterns created? You may conduct external research to understand and answer why these interesting patterns arise."
   ]
  },
  {
   "cell_type": "code",
   "execution_count": null,
   "metadata": {},
   "outputs": [],
   "source": []
  },
  {
   "cell_type": "markdown",
   "metadata": {},
   "source": [
    "### Q4 - Present a colorful visualization of GDP per capita for countries in below given group on a map\n",
    "#### 'Afghanistan','China','India','United States','United Kingdom','Brazil','Zimbabwe', 'Namibia',\n",
    "#### 'Nigeria','Somalia','Thailand','France','Germany','Mexico','Australia','New Zealand'\n",
    "\n",
    "For this question, we are required to create a map chart. Map charts are helpful in visualizing data that is changing on a geographical scale - from country to countru/region to region.\n",
    "\n",
    "We can create a map chart by using the following function:\n",
    "\n",
    "```python\n",
    "map_le_plot(dataframe)\n",
    "```\n",
    "\n",
    "Note that this function uses the life expectancy dataset. This is because geographical data about country locations (contained in a variable called 'iso_alpha') is only available in life expectancy dataset."
   ]
  },
  {
   "cell_type": "code",
   "execution_count": null,
   "metadata": {},
   "outputs": [],
   "source": []
  },
  {
   "cell_type": "markdown",
   "metadata": {},
   "source": [
    "#### Bonus: Q4 - In the above map, compare the GDP per capita across countries using their color code. Do you observe any interesting patterns? Why are these patterns created? You may conduct external research to understand and answer why these interesting patterns arise."
   ]
  },
  {
   "cell_type": "code",
   "execution_count": null,
   "metadata": {},
   "outputs": [],
   "source": []
  },
  {
   "cell_type": "markdown",
   "metadata": {},
   "source": [
    "### Q5 - How has life expectancy changed over the years (starting from 1952 to 2007), in countries, across various continents? Build an animated plot to visualize the change in life expectancy over the years for the below given countries\n",
    "#### a. For Asia - India, China, Afghanistan, Thailand, Japan\n",
    "#### b. For Americas - United States, Canada, Mexico, Brazil, Peru\n",
    "#### c. For Africa - Nigeria, Somalia, Namibia, South Africa, Zimbabwe\n",
    "\n",
    "For this animated plot we use a bubble chart. Bubble charts can be used to visualize multi-dimensional (upto 4 dimensions) data.\n",
    "* 1st dimension - X-axis\n",
    "* 2nd dimension - Y- axis\n",
    "* 3rd dimension - Size of the Bubble\n",
    "* 4th dimension - Color of the Bubble\n",
    "\n",
    "In this case, the life expectancy dataset will be used to build this visualization. The chart would have GDP per capita on X-axis, Life Expectancy in years on the Y-axis, the population of the country as the size of the bubble, and the bubbles would be color coded based on the country - so it would be easy to track the moment of a bubble (a country) over time.\n",
    "\n",
    "We can use the below function to create the animated plot\n",
    "\n",
    "```python\n",
    "animated_le_plot(dataframe)\n",
    "```\n",
    "\n",
    "The animated_le_plot() function accepts only 1 parameter - the dataframe object which contains the dataset that we want to visualize."
   ]
  },
  {
   "cell_type": "code",
   "execution_count": null,
   "metadata": {},
   "outputs": [],
   "source": []
  },
  {
   "cell_type": "markdown",
   "metadata": {},
   "source": [
    "#### Bonus: Q5 - For your group, write down and present the trends that you have observed for Life Expectancy in countries over the years? Which countries are progressing? Which countries are getting worse? Why is it happening? Conduct external research to find suitable arguments and justifications to support your presentation."
   ]
  },
  {
   "cell_type": "code",
   "execution_count": null,
   "metadata": {},
   "outputs": [],
   "source": []
  },
  {
   "cell_type": "markdown",
   "metadata": {},
   "source": [
    "### Data Bloopers - The Magical Somalia"
   ]
  },
  {
   "cell_type": "code",
   "execution_count": 13,
   "metadata": {},
   "outputs": [
    {
     "data": {
      "application/vnd.plotly.v1+json": {
       "config": {
        "plotlyServerURL": "https://plot.ly"
       },
       "data": [
        {
         "hoverlabel": {
          "namelength": 0
         },
         "hovertemplate": "Country_or_Area=Afghanistan<br>Year=1990<br>GDP_Per_Capita(USD)=%{x}<br>Mortality_Rate(%)=%{y}<br>Population(mn)=%{marker.size}",
         "legendgroup": "Country_or_Area=Afghanistan",
         "marker": {
          "color": "#636efa",
          "size": [
           12.249114
          ],
          "sizemode": "area",
          "sizeref": 0.05687629546666667,
          "symbol": "circle"
         },
         "mode": "markers",
         "name": "Country_or_Area=Afghanistan",
         "showlegend": true,
         "type": "scatter",
         "x": [
          295.66220110000006
         ],
         "xaxis": "x",
         "y": [
          17.73
         ],
         "yaxis": "y"
        },
        {
         "hoverlabel": {
          "namelength": 0
         },
         "hovertemplate": "Country_or_Area=United States<br>Year=1990<br>GDP_Per_Capita(USD)=%{x}<br>Mortality_Rate(%)=%{y}<br>Population(mn)=%{marker.size}",
         "legendgroup": "Country_or_Area=United States",
         "marker": {
          "color": "#EF553B",
          "size": [
           252.52995
          ],
          "sizemode": "area",
          "sizeref": 0.05687629546666667,
          "symbol": "circle"
         },
         "mode": "markers",
         "name": "Country_or_Area=United States",
         "showlegend": true,
         "type": "scatter",
         "x": [
          23613.61098
         ],
         "xaxis": "x",
         "y": [
          1.12
         ],
         "yaxis": "y"
        },
        {
         "hoverlabel": {
          "namelength": 0
         },
         "hovertemplate": "Country_or_Area=Brazil<br>Year=1990<br>GDP_Per_Capita(USD)=%{x}<br>Mortality_Rate(%)=%{y}<br>Population(mn)=%{marker.size}",
         "legendgroup": "Country_or_Area=Brazil",
         "marker": {
          "color": "#00cc96",
          "size": [
           149.352145
          ],
          "sizemode": "area",
          "sizeref": 0.05687629546666667,
          "symbol": "circle"
         },
         "mode": "markers",
         "name": "Country_or_Area=Brazil",
         "showlegend": true,
         "type": "scatter",
         "x": [
          2724.413582
         ],
         "xaxis": "x",
         "y": [
          6.42
         ],
         "yaxis": "y"
        },
        {
         "hoverlabel": {
          "namelength": 0
         },
         "hovertemplate": "Country_or_Area=Zimbabwe<br>Year=1990<br>GDP_Per_Capita(USD)=%{x}<br>Mortality_Rate(%)=%{y}<br>Population(mn)=%{marker.size}",
         "legendgroup": "Country_or_Area=Zimbabwe",
         "marker": {
          "color": "#ab63fa",
          "size": [
           10.183113
          ],
          "sizemode": "area",
          "sizeref": 0.05687629546666667,
          "symbol": "circle"
         },
         "mode": "markers",
         "name": "Country_or_Area=Zimbabwe",
         "showlegend": true,
         "type": "scatter",
         "x": [
          1152.668564
         ],
         "xaxis": "x",
         "y": [
          7.52
         ],
         "yaxis": "y"
        },
        {
         "hoverlabel": {
          "namelength": 0
         },
         "hovertemplate": "Country_or_Area=Namibia<br>Year=1990<br>GDP_Per_Capita(USD)=%{x}<br>Mortality_Rate(%)=%{y}<br>Population(mn)=%{marker.size}",
         "legendgroup": "Country_or_Area=Namibia",
         "marker": {
          "color": "#FFA15A",
          "size": [
           1.414692
          ],
          "sizemode": "area",
          "sizeref": 0.05687629546666667,
          "symbol": "circle"
         },
         "mode": "markers",
         "name": "Country_or_Area=Namibia",
         "showlegend": true,
         "type": "scatter",
         "x": [
          1969.1509440000002
         ],
         "xaxis": "x",
         "y": [
          7.13
         ],
         "yaxis": "y"
        },
        {
         "hoverlabel": {
          "namelength": 0
         },
         "hovertemplate": "Country_or_Area=Nigeria<br>Year=1990<br>GDP_Per_Capita(USD)=%{x}<br>Mortality_Rate(%)=%{y}<br>Population(mn)=%{marker.size}",
         "legendgroup": "Country_or_Area=Nigeria",
         "marker": {
          "color": "#19d3f3",
          "size": [
           95.269988
          ],
          "sizemode": "area",
          "sizeref": 0.05687629546666667,
          "symbol": "circle"
         },
         "mode": "markers",
         "name": "Country_or_Area=Nigeria",
         "showlegend": true,
         "type": "scatter",
         "x": [
          717.2134194
         ],
         "xaxis": "x",
         "y": [
          21.29
         ],
         "yaxis": "y"
        },
        {
         "hoverlabel": {
          "namelength": 0
         },
         "hovertemplate": "Country_or_Area=Thailand<br>Year=1990<br>GDP_Per_Capita(USD)=%{x}<br>Mortality_Rate(%)=%{y}<br>Population(mn)=%{marker.size}",
         "legendgroup": "Country_or_Area=Thailand",
         "marker": {
          "color": "#B6E880",
          "size": [
           56.582820999999996
          ],
          "sizemode": "area",
          "sizeref": 0.05687629546666667,
          "symbol": "circle"
         },
         "mode": "markers",
         "name": "Country_or_Area=Thailand",
         "showlegend": true,
         "type": "scatter",
         "x": [
          1563.3846199999998
         ],
         "xaxis": "x",
         "y": [
          3.78
         ],
         "yaxis": "y"
        },
        {
         "hoverlabel": {
          "namelength": 0
         },
         "hovertemplate": "Country_or_Area=Mexico<br>Year=1990<br>GDP_Per_Capita(USD)=%{x}<br>Mortality_Rate(%)=%{y}<br>Population(mn)=%{marker.size}",
         "legendgroup": "Country_or_Area=Mexico",
         "marker": {
          "color": "#FF97FF",
          "size": [
           85.357874
          ],
          "sizemode": "area",
          "sizeref": 0.05687629546666667,
          "symbol": "circle"
         },
         "mode": "markers",
         "name": "Country_or_Area=Mexico",
         "showlegend": true,
         "type": "scatter",
         "x": [
          3513.9616100000003
         ],
         "xaxis": "x",
         "y": [
          4.57
         ],
         "yaxis": "y"
        }
       ],
       "frames": [
        {
         "data": [
          {
           "hoverlabel": {
            "namelength": 0
           },
           "hovertemplate": "Country_or_Area=Afghanistan<br>Year=1990<br>GDP_Per_Capita(USD)=%{x}<br>Mortality_Rate(%)=%{y}<br>Population(mn)=%{marker.size}",
           "legendgroup": "Country_or_Area=Afghanistan",
           "marker": {
            "color": "#636efa",
            "size": [
             12.249114
            ],
            "sizemode": "area",
            "sizeref": 0.05687629546666667,
            "symbol": "circle"
           },
           "mode": "markers",
           "name": "Country_or_Area=Afghanistan",
           "showlegend": true,
           "type": "scatter",
           "x": [
            295.66220110000006
           ],
           "xaxis": "x",
           "y": [
            17.73
           ],
           "yaxis": "y"
          },
          {
           "hoverlabel": {
            "namelength": 0
           },
           "hovertemplate": "Country_or_Area=United States<br>Year=1990<br>GDP_Per_Capita(USD)=%{x}<br>Mortality_Rate(%)=%{y}<br>Population(mn)=%{marker.size}",
           "legendgroup": "Country_or_Area=United States",
           "marker": {
            "color": "#EF553B",
            "size": [
             252.52995
            ],
            "sizemode": "area",
            "sizeref": 0.05687629546666667,
            "symbol": "circle"
           },
           "mode": "markers",
           "name": "Country_or_Area=United States",
           "showlegend": true,
           "type": "scatter",
           "x": [
            23613.61098
           ],
           "xaxis": "x",
           "y": [
            1.12
           ],
           "yaxis": "y"
          },
          {
           "hoverlabel": {
            "namelength": 0
           },
           "hovertemplate": "Country_or_Area=Brazil<br>Year=1990<br>GDP_Per_Capita(USD)=%{x}<br>Mortality_Rate(%)=%{y}<br>Population(mn)=%{marker.size}",
           "legendgroup": "Country_or_Area=Brazil",
           "marker": {
            "color": "#00cc96",
            "size": [
             149.352145
            ],
            "sizemode": "area",
            "sizeref": 0.05687629546666667,
            "symbol": "circle"
           },
           "mode": "markers",
           "name": "Country_or_Area=Brazil",
           "showlegend": true,
           "type": "scatter",
           "x": [
            2724.413582
           ],
           "xaxis": "x",
           "y": [
            6.42
           ],
           "yaxis": "y"
          },
          {
           "hoverlabel": {
            "namelength": 0
           },
           "hovertemplate": "Country_or_Area=Zimbabwe<br>Year=1990<br>GDP_Per_Capita(USD)=%{x}<br>Mortality_Rate(%)=%{y}<br>Population(mn)=%{marker.size}",
           "legendgroup": "Country_or_Area=Zimbabwe",
           "marker": {
            "color": "#ab63fa",
            "size": [
             10.183113
            ],
            "sizemode": "area",
            "sizeref": 0.05687629546666667,
            "symbol": "circle"
           },
           "mode": "markers",
           "name": "Country_or_Area=Zimbabwe",
           "showlegend": true,
           "type": "scatter",
           "x": [
            1152.668564
           ],
           "xaxis": "x",
           "y": [
            7.52
           ],
           "yaxis": "y"
          },
          {
           "hoverlabel": {
            "namelength": 0
           },
           "hovertemplate": "Country_or_Area=Namibia<br>Year=1990<br>GDP_Per_Capita(USD)=%{x}<br>Mortality_Rate(%)=%{y}<br>Population(mn)=%{marker.size}",
           "legendgroup": "Country_or_Area=Namibia",
           "marker": {
            "color": "#FFA15A",
            "size": [
             1.414692
            ],
            "sizemode": "area",
            "sizeref": 0.05687629546666667,
            "symbol": "circle"
           },
           "mode": "markers",
           "name": "Country_or_Area=Namibia",
           "showlegend": true,
           "type": "scatter",
           "x": [
            1969.1509440000002
           ],
           "xaxis": "x",
           "y": [
            7.13
           ],
           "yaxis": "y"
          },
          {
           "hoverlabel": {
            "namelength": 0
           },
           "hovertemplate": "Country_or_Area=Nigeria<br>Year=1990<br>GDP_Per_Capita(USD)=%{x}<br>Mortality_Rate(%)=%{y}<br>Population(mn)=%{marker.size}",
           "legendgroup": "Country_or_Area=Nigeria",
           "marker": {
            "color": "#19d3f3",
            "size": [
             95.269988
            ],
            "sizemode": "area",
            "sizeref": 0.05687629546666667,
            "symbol": "circle"
           },
           "mode": "markers",
           "name": "Country_or_Area=Nigeria",
           "showlegend": true,
           "type": "scatter",
           "x": [
            717.2134194
           ],
           "xaxis": "x",
           "y": [
            21.29
           ],
           "yaxis": "y"
          },
          {
           "hoverlabel": {
            "namelength": 0
           },
           "hovertemplate": "Country_or_Area=Thailand<br>Year=1990<br>GDP_Per_Capita(USD)=%{x}<br>Mortality_Rate(%)=%{y}<br>Population(mn)=%{marker.size}",
           "legendgroup": "Country_or_Area=Thailand",
           "marker": {
            "color": "#B6E880",
            "size": [
             56.582820999999996
            ],
            "sizemode": "area",
            "sizeref": 0.05687629546666667,
            "symbol": "circle"
           },
           "mode": "markers",
           "name": "Country_or_Area=Thailand",
           "showlegend": true,
           "type": "scatter",
           "x": [
            1563.3846199999998
           ],
           "xaxis": "x",
           "y": [
            3.78
           ],
           "yaxis": "y"
          },
          {
           "hoverlabel": {
            "namelength": 0
           },
           "hovertemplate": "Country_or_Area=Mexico<br>Year=1990<br>GDP_Per_Capita(USD)=%{x}<br>Mortality_Rate(%)=%{y}<br>Population(mn)=%{marker.size}",
           "legendgroup": "Country_or_Area=Mexico",
           "marker": {
            "color": "#FF97FF",
            "size": [
             85.357874
            ],
            "sizemode": "area",
            "sizeref": 0.05687629546666667,
            "symbol": "circle"
           },
           "mode": "markers",
           "name": "Country_or_Area=Mexico",
           "showlegend": true,
           "type": "scatter",
           "x": [
            3513.9616100000003
           ],
           "xaxis": "x",
           "y": [
            4.57
           ],
           "yaxis": "y"
          }
         ],
         "name": "1990"
        },
        {
         "data": [
          {
           "hoverlabel": {
            "namelength": 0
           },
           "hovertemplate": "Country_or_Area=Afghanistan<br>Year=1991<br>GDP_Per_Capita(USD)=%{x}<br>Mortality_Rate(%)=%{y}<br>Population(mn)=%{marker.size}",
           "legendgroup": "Country_or_Area=Afghanistan",
           "marker": {
            "color": "#636efa",
            "size": [
             12.993657
            ],
            "sizemode": "area",
            "sizeref": 0.05687629546666667,
            "symbol": "circle"
           },
           "mode": "markers",
           "name": "Country_or_Area=Afghanistan",
           "showlegend": true,
           "type": "scatter",
           "x": [
            257.0561933
           ],
           "xaxis": "x",
           "y": [
            17.11
           ],
           "yaxis": "y"
          },
          {
           "hoverlabel": {
            "namelength": 0
           },
           "hovertemplate": "Country_or_Area=United States<br>Year=1991<br>GDP_Per_Capita(USD)=%{x}<br>Mortality_Rate(%)=%{y}<br>Population(mn)=%{marker.size}",
           "legendgroup": "Country_or_Area=United States",
           "marker": {
            "color": "#EF553B",
            "size": [
             254.974819
            ],
            "sizemode": "area",
            "sizeref": 0.05687629546666667,
            "symbol": "circle"
           },
           "mode": "markers",
           "name": "Country_or_Area=United States",
           "showlegend": true,
           "type": "scatter",
           "x": [
            24151.91047
           ],
           "xaxis": "x",
           "y": [
            1.09
           ],
           "yaxis": "y"
          },
          {
           "hoverlabel": {
            "namelength": 0
           },
           "hovertemplate": "Country_or_Area=Brazil<br>Year=1991<br>GDP_Per_Capita(USD)=%{x}<br>Mortality_Rate(%)=%{y}<br>Population(mn)=%{marker.size}",
           "legendgroup": "Country_or_Area=Brazil",
           "marker": {
            "color": "#00cc96",
            "size": [
             151.976577
            ],
            "sizemode": "area",
            "sizeref": 0.05687629546666667,
            "symbol": "circle"
           },
           "mode": "markers",
           "name": "Country_or_Area=Brazil",
           "showlegend": true,
           "type": "scatter",
           "x": [
            2491.050544
           ],
           "xaxis": "x",
           "y": [
            6.14
           ],
           "yaxis": "y"
          },
          {
           "hoverlabel": {
            "namelength": 0
           },
           "hovertemplate": "Country_or_Area=Zimbabwe<br>Year=1991<br>GDP_Per_Capita(USD)=%{x}<br>Mortality_Rate(%)=%{y}<br>Population(mn)=%{marker.size}",
           "legendgroup": "Country_or_Area=Zimbabwe",
           "marker": {
            "color": "#ab63fa",
            "size": [
             10.443043
            ],
            "sizemode": "area",
            "sizeref": 0.05687629546666667,
            "symbol": "circle"
           },
           "mode": "markers",
           "name": "Country_or_Area=Zimbabwe",
           "showlegend": true,
           "type": "scatter",
           "x": [
            1048.74396
           ],
           "xaxis": "x",
           "y": [
            7.74
           ],
           "yaxis": "y"
          },
          {
           "hoverlabel": {
            "namelength": 0
           },
           "hovertemplate": "Country_or_Area=Namibia<br>Year=1991<br>GDP_Per_Capita(USD)=%{x}<br>Mortality_Rate(%)=%{y}<br>Population(mn)=%{marker.size}",
           "legendgroup": "Country_or_Area=Namibia",
           "marker": {
            "color": "#FFA15A",
            "size": [
             1.46574
            ],
            "sizemode": "area",
            "sizeref": 0.05687629546666667,
            "symbol": "circle"
           },
           "mode": "markers",
           "name": "Country_or_Area=Namibia",
           "showlegend": true,
           "type": "scatter",
           "x": [
            2041.7224170000002
           ],
           "xaxis": "x",
           "y": [
            6.92
           ],
           "yaxis": "y"
          },
          {
           "hoverlabel": {
            "namelength": 0
           },
           "hovertemplate": "Country_or_Area=Nigeria<br>Year=1991<br>GDP_Per_Capita(USD)=%{x}<br>Mortality_Rate(%)=%{y}<br>Population(mn)=%{marker.size}",
           "legendgroup": "Country_or_Area=Nigeria",
           "marker": {
            "color": "#19d3f3",
            "size": [
             97.726323
            ],
            "sizemode": "area",
            "sizeref": 0.05687629546666667,
            "symbol": "circle"
           },
           "mode": "markers",
           "name": "Country_or_Area=Nigeria",
           "showlegend": true,
           "type": "scatter",
           "x": [
            654.8880333
           ],
           "xaxis": "x",
           "y": [
            21.25
           ],
           "yaxis": "y"
          },
          {
           "hoverlabel": {
            "namelength": 0
           },
           "hovertemplate": "Country_or_Area=Thailand<br>Year=1991<br>GDP_Per_Capita(USD)=%{x}<br>Mortality_Rate(%)=%{y}<br>Population(mn)=%{marker.size}",
           "legendgroup": "Country_or_Area=Thailand",
           "marker": {
            "color": "#B6E880",
            "size": [
             57.258401
            ],
            "sizemode": "area",
            "sizeref": 0.05687629546666667,
            "symbol": "circle"
           },
           "mode": "markers",
           "name": "Country_or_Area=Thailand",
           "showlegend": true,
           "type": "scatter",
           "x": [
            1768.248527
           ],
           "xaxis": "x",
           "y": [
            3.58
           ],
           "yaxis": "y"
          },
          {
           "hoverlabel": {
            "namelength": 0
           },
           "hovertemplate": "Country_or_Area=Mexico<br>Year=1991<br>GDP_Per_Capita(USD)=%{x}<br>Mortality_Rate(%)=%{y}<br>Population(mn)=%{marker.size}",
           "legendgroup": "Country_or_Area=Mexico",
           "marker": {
            "color": "#FF97FF",
            "size": [
             87.071512
            ],
            "sizemode": "area",
            "sizeref": 0.05687629546666667,
            "symbol": "circle"
           },
           "mode": "markers",
           "name": "Country_or_Area=Mexico",
           "showlegend": true,
           "type": "scatter",
           "x": [
            4123.260843
           ],
           "xaxis": "x",
           "y": [
            4.35
           ],
           "yaxis": "y"
          }
         ],
         "name": "1991"
        },
        {
         "data": [
          {
           "hoverlabel": {
            "namelength": 0
           },
           "hovertemplate": "Country_or_Area=Afghanistan<br>Year=1992<br>GDP_Per_Capita(USD)=%{x}<br>Mortality_Rate(%)=%{y}<br>Population(mn)=%{marker.size}",
           "legendgroup": "Country_or_Area=Afghanistan",
           "marker": {
            "color": "#636efa",
            "size": [
             13.981231
            ],
            "sizemode": "area",
            "sizeref": 0.05687629546666667,
            "symbol": "circle"
           },
           "mode": "markers",
           "name": "Country_or_Area=Afghanistan",
           "showlegend": true,
           "type": "scatter",
           "x": [
            248.5188898
           ],
           "xaxis": "x",
           "y": [
            16.52
           ],
           "yaxis": "y"
          },
          {
           "hoverlabel": {
            "namelength": 0
           },
           "hovertemplate": "Country_or_Area=United States<br>Year=1992<br>GDP_Per_Capita(USD)=%{x}<br>Mortality_Rate(%)=%{y}<br>Population(mn)=%{marker.size}",
           "legendgroup": "Country_or_Area=United States",
           "marker": {
            "color": "#EF553B",
            "size": [
             257.454273
            ],
            "sizemode": "area",
            "sizeref": 0.05687629546666667,
            "symbol": "circle"
           },
           "mode": "markers",
           "name": "Country_or_Area=United States",
           "showlegend": true,
           "type": "scatter",
           "x": [
            25326.15569
           ],
           "xaxis": "x",
           "y": [
            1.05
           ],
           "yaxis": "y"
          },
          {
           "hoverlabel": {
            "namelength": 0
           },
           "hovertemplate": "Country_or_Area=Brazil<br>Year=1992<br>GDP_Per_Capita(USD)=%{x}<br>Mortality_Rate(%)=%{y}<br>Population(mn)=%{marker.size}",
           "legendgroup": "Country_or_Area=Brazil",
           "marker": {
            "color": "#00cc96",
            "size": [
             154.564278
            ],
            "sizemode": "area",
            "sizeref": 0.05687629546666667,
            "symbol": "circle"
           },
           "mode": "markers",
           "name": "Country_or_Area=Brazil",
           "showlegend": true,
           "type": "scatter",
           "x": [
            2346.247849
           ],
           "xaxis": "x",
           "y": [
            5.84
           ],
           "yaxis": "y"
          },
          {
           "hoverlabel": {
            "namelength": 0
           },
           "hovertemplate": "Country_or_Area=Zimbabwe<br>Year=1992<br>GDP_Per_Capita(USD)=%{x}<br>Mortality_Rate(%)=%{y}<br>Population(mn)=%{marker.size}",
           "legendgroup": "Country_or_Area=Zimbabwe",
           "marker": {
            "color": "#ab63fa",
            "size": [
             10.682868
            ],
            "sizemode": "area",
            "sizeref": 0.05687629546666667,
            "symbol": "circle"
           },
           "mode": "markers",
           "name": "Country_or_Area=Zimbabwe",
           "showlegend": true,
           "type": "scatter",
           "x": [
            845.4156346000001
           ],
           "xaxis": "x",
           "y": [
            8.02
           ],
           "yaxis": "y"
          },
          {
           "hoverlabel": {
            "namelength": 0
           },
           "hovertemplate": "Country_or_Area=Namibia<br>Year=1992<br>GDP_Per_Capita(USD)=%{x}<br>Mortality_Rate(%)=%{y}<br>Population(mn)=%{marker.size}",
           "legendgroup": "Country_or_Area=Namibia",
           "marker": {
            "color": "#FFA15A",
            "size": [
             1.5137209999999999
            ],
            "sizemode": "area",
            "sizeref": 0.05687629546666667,
            "symbol": "circle"
           },
           "mode": "markers",
           "name": "Country_or_Area=Namibia",
           "showlegend": true,
           "type": "scatter",
           "x": [
            2262.448974
           ],
           "xaxis": "x",
           "y": [
            6.77
           ],
           "yaxis": "y"
          },
          {
           "hoverlabel": {
            "namelength": 0
           },
           "hovertemplate": "Country_or_Area=Nigeria<br>Year=1992<br>GDP_Per_Capita(USD)=%{x}<br>Mortality_Rate(%)=%{y}<br>Population(mn)=%{marker.size}",
           "legendgroup": "Country_or_Area=Nigeria",
           "marker": {
            "color": "#19d3f3",
            "size": [
             100.221563
            ],
            "sizemode": "area",
            "sizeref": 0.05687629546666667,
            "symbol": "circle"
           },
           "mode": "markers",
           "name": "Country_or_Area=Nigeria",
           "showlegend": true,
           "type": "scatter",
           "x": [
            579.5100708
           ],
           "xaxis": "x",
           "y": [
            21.19
           ],
           "yaxis": "y"
          },
          {
           "hoverlabel": {
            "namelength": 0
           },
           "hovertemplate": "Country_or_Area=Thailand<br>Year=1992<br>GDP_Per_Capita(USD)=%{x}<br>Mortality_Rate(%)=%{y}<br>Population(mn)=%{marker.size}",
           "legendgroup": "Country_or_Area=Thailand",
           "marker": {
            "color": "#B6E880",
            "size": [
             57.837878
            ],
            "sizemode": "area",
            "sizeref": 0.05687629546666667,
            "symbol": "circle"
           },
           "mode": "markers",
           "name": "Country_or_Area=Thailand",
           "showlegend": true,
           "type": "scatter",
           "x": [
            1998.305284
           ],
           "xaxis": "x",
           "y": [
            3.4
           ],
           "yaxis": "y"
          },
          {
           "hoverlabel": {
            "namelength": 0
           },
           "hovertemplate": "Country_or_Area=Mexico<br>Year=1992<br>GDP_Per_Capita(USD)=%{x}<br>Mortality_Rate(%)=%{y}<br>Population(mn)=%{marker.size}",
           "legendgroup": "Country_or_Area=Mexico",
           "marker": {
            "color": "#FF97FF",
            "size": [
             88.82831
            ],
            "sizemode": "area",
            "sizeref": 0.05687629546666667,
            "symbol": "circle"
           },
           "mode": "markers",
           "name": "Country_or_Area=Mexico",
           "showlegend": true,
           "type": "scatter",
           "x": [
            4673.561951
           ],
           "xaxis": "x",
           "y": [
            4.14
           ],
           "yaxis": "y"
          }
         ],
         "name": "1992"
        },
        {
         "data": [
          {
           "hoverlabel": {
            "namelength": 0
           },
           "hovertemplate": "Country_or_Area=Afghanistan<br>Year=1993<br>GDP_Per_Capita(USD)=%{x}<br>Mortality_Rate(%)=%{y}<br>Population(mn)=%{marker.size}",
           "legendgroup": "Country_or_Area=Afghanistan",
           "marker": {
            "color": "#636efa",
            "size": [
             15.095099
            ],
            "sizemode": "area",
            "sizeref": 0.05687629546666667,
            "symbol": "circle"
           },
           "mode": "markers",
           "name": "Country_or_Area=Afghanistan",
           "showlegend": true,
           "type": "scatter",
           "x": [
            176.5076196
           ],
           "xaxis": "x",
           "y": [
            15.96
           ],
           "yaxis": "y"
          },
          {
           "hoverlabel": {
            "namelength": 0
           },
           "hovertemplate": "Country_or_Area=United States<br>Year=1993<br>GDP_Per_Capita(USD)=%{x}<br>Mortality_Rate(%)=%{y}<br>Population(mn)=%{marker.size}",
           "legendgroup": "Country_or_Area=United States",
           "marker": {
            "color": "#EF553B",
            "size": [
             260.02018599999997
            ],
            "sizemode": "area",
            "sizeref": 0.05687629546666667,
            "symbol": "circle"
           },
           "mode": "markers",
           "name": "Country_or_Area=United States",
           "showlegend": true,
           "type": "scatter",
           "x": [
            26377.02521
           ],
           "xaxis": "x",
           "y": [
            1.01
           ],
           "yaxis": "y"
          },
          {
           "hoverlabel": {
            "namelength": 0
           },
           "hovertemplate": "Country_or_Area=Brazil<br>Year=1993<br>GDP_Per_Capita(USD)=%{x}<br>Mortality_Rate(%)=%{y}<br>Population(mn)=%{marker.size}",
           "legendgroup": "Country_or_Area=Brazil",
           "marker": {
            "color": "#00cc96",
            "size": [
             157.13268200000002
            ],
            "sizemode": "area",
            "sizeref": 0.05687629546666667,
            "symbol": "circle"
           },
           "mode": "markers",
           "name": "Country_or_Area=Brazil",
           "showlegend": true,
           "type": "scatter",
           "x": [
            2589.757864
           ],
           "xaxis": "x",
           "y": [
            5.53
           ],
           "yaxis": "y"
          },
          {
           "hoverlabel": {
            "namelength": 0
           },
           "hovertemplate": "Country_or_Area=Zimbabwe<br>Year=1993<br>GDP_Per_Capita(USD)=%{x}<br>Mortality_Rate(%)=%{y}<br>Population(mn)=%{marker.size}",
           "legendgroup": "Country_or_Area=Zimbabwe",
           "marker": {
            "color": "#ab63fa",
            "size": [
             10.905756
            ],
            "sizemode": "area",
            "sizeref": 0.05687629546666667,
            "symbol": "circle"
           },
           "mode": "markers",
           "name": "Country_or_Area=Zimbabwe",
           "showlegend": true,
           "type": "scatter",
           "x": [
            804.4429431
           ],
           "xaxis": "x",
           "y": [
            8.34
           ],
           "yaxis": "y"
          },
          {
           "hoverlabel": {
            "namelength": 0
           },
           "hovertemplate": "Country_or_Area=Namibia<br>Year=1993<br>GDP_Per_Capita(USD)=%{x}<br>Mortality_Rate(%)=%{y}<br>Population(mn)=%{marker.size}",
           "legendgroup": "Country_or_Area=Namibia",
           "marker": {
            "color": "#FFA15A",
            "size": [
             1.559983
            ],
            "sizemode": "area",
            "sizeref": 0.05687629546666667,
            "symbol": "circle"
           },
           "mode": "markers",
           "name": "Country_or_Area=Namibia",
           "showlegend": true,
           "type": "scatter",
           "x": [
            2063.121808
           ],
           "xaxis": "x",
           "y": [
            6.7
           ],
           "yaxis": "y"
          },
          {
           "hoverlabel": {
            "namelength": 0
           },
           "hovertemplate": "Country_or_Area=Nigeria<br>Year=1993<br>GDP_Per_Capita(USD)=%{x}<br>Mortality_Rate(%)=%{y}<br>Population(mn)=%{marker.size}",
           "legendgroup": "Country_or_Area=Nigeria",
           "marker": {
            "color": "#19d3f3",
            "size": [
             102.761737
            ],
            "sizemode": "area",
            "sizeref": 0.05687629546666667,
            "symbol": "circle"
           },
           "mode": "markers",
           "name": "Country_or_Area=Nigeria",
           "showlegend": true,
           "type": "scatter",
           "x": [
            551.413497
           ],
           "xaxis": "x",
           "y": [
            21.12
           ],
           "yaxis": "y"
          },
          {
           "hoverlabel": {
            "namelength": 0
           },
           "hovertemplate": "Country_or_Area=Thailand<br>Year=1993<br>GDP_Per_Capita(USD)=%{x}<br>Mortality_Rate(%)=%{y}<br>Population(mn)=%{marker.size}",
           "legendgroup": "Country_or_Area=Thailand",
           "marker": {
            "color": "#B6E880",
            "size": [
             58.364891
            ],
            "sizemode": "area",
            "sizeref": 0.05687629546666667,
            "symbol": "circle"
           },
           "mode": "markers",
           "name": "Country_or_Area=Thailand",
           "showlegend": true,
           "type": "scatter",
           "x": [
            2208.344328
           ],
           "xaxis": "x",
           "y": [
            3.22
           ],
           "yaxis": "y"
          },
          {
           "hoverlabel": {
            "namelength": 0
           },
           "hovertemplate": "Country_or_Area=Mexico<br>Year=1993<br>GDP_Per_Capita(USD)=%{x}<br>Mortality_Rate(%)=%{y}<br>Population(mn)=%{marker.size}",
           "legendgroup": "Country_or_Area=Mexico",
           "marker": {
            "color": "#FF97FF",
            "size": [
             90.600453
            ],
            "sizemode": "area",
            "sizeref": 0.05687629546666667,
            "symbol": "circle"
           },
           "mode": "markers",
           "name": "Country_or_Area=Mexico",
           "showlegend": true,
           "type": "scatter",
           "x": [
            5526.8309420000005
           ],
           "xaxis": "x",
           "y": [
            3.93
           ],
           "yaxis": "y"
          }
         ],
         "name": "1993"
        },
        {
         "data": [
          {
           "hoverlabel": {
            "namelength": 0
           },
           "hovertemplate": "Country_or_Area=Afghanistan<br>Year=1994<br>GDP_Per_Capita(USD)=%{x}<br>Mortality_Rate(%)=%{y}<br>Population(mn)=%{marker.size}",
           "legendgroup": "Country_or_Area=Afghanistan",
           "marker": {
            "color": "#636efa",
            "size": [
             16.172719
            ],
            "sizemode": "area",
            "sizeref": 0.05687629546666667,
            "symbol": "circle"
           },
           "mode": "markers",
           "name": "Country_or_Area=Afghanistan",
           "showlegend": true,
           "type": "scatter",
           "x": [
            130.7510506
           ],
           "xaxis": "x",
           "y": [
            15.45
           ],
           "yaxis": "y"
          },
          {
           "hoverlabel": {
            "namelength": 0
           },
           "hovertemplate": "Country_or_Area=United States<br>Year=1994<br>GDP_Per_Capita(USD)=%{x}<br>Mortality_Rate(%)=%{y}<br>Population(mn)=%{marker.size}",
           "legendgroup": "Country_or_Area=United States",
           "marker": {
            "color": "#EF553B",
            "size": [
             262.74156600000003
            ],
            "sizemode": "area",
            "sizeref": 0.05687629546666667,
            "symbol": "circle"
           },
           "mode": "markers",
           "name": "Country_or_Area=United States",
           "showlegend": true,
           "type": "scatter",
           "x": [
            27735.37553
           ],
           "xaxis": "x",
           "y": [
            0.98
           ],
           "yaxis": "y"
          },
          {
           "hoverlabel": {
            "namelength": 0
           },
           "hovertemplate": "Country_or_Area=Brazil<br>Year=1994<br>GDP_Per_Capita(USD)=%{x}<br>Mortality_Rate(%)=%{y}<br>Population(mn)=%{marker.size}",
           "legendgroup": "Country_or_Area=Brazil",
           "marker": {
            "color": "#00cc96",
            "size": [
             159.705123
            ],
            "sizemode": "area",
            "sizeref": 0.05687629546666667,
            "symbol": "circle"
           },
           "mode": "markers",
           "name": "Country_or_Area=Brazil",
           "showlegend": true,
           "type": "scatter",
           "x": [
            3634.788625
           ],
           "xaxis": "x",
           "y": [
            5.22
           ],
           "yaxis": "y"
          },
          {
           "hoverlabel": {
            "namelength": 0
           },
           "hovertemplate": "Country_or_Area=Zimbabwe<br>Year=1994<br>GDP_Per_Capita(USD)=%{x}<br>Mortality_Rate(%)=%{y}<br>Population(mn)=%{marker.size}",
           "legendgroup": "Country_or_Area=Zimbabwe",
           "marker": {
            "color": "#ab63fa",
            "size": [
             11.116947999999999
            ],
            "sizemode": "area",
            "sizeref": 0.05687629546666667,
            "symbol": "circle"
           },
           "mode": "markers",
           "name": "Country_or_Area=Zimbabwe",
           "showlegend": true,
           "type": "scatter",
           "x": [
            829.7268767
           ],
           "xaxis": "x",
           "y": [
            8.68
           ],
           "yaxis": "y"
          },
          {
           "hoverlabel": {
            "namelength": 0
           },
           "hovertemplate": "Country_or_Area=Namibia<br>Year=1994<br>GDP_Per_Capita(USD)=%{x}<br>Mortality_Rate(%)=%{y}<br>Population(mn)=%{marker.size}",
           "legendgroup": "Country_or_Area=Namibia",
           "marker": {
            "color": "#FFA15A",
            "size": [
             1.606718
            ],
            "sizemode": "area",
            "sizeref": 0.05687629546666667,
            "symbol": "circle"
           },
           "mode": "markers",
           "name": "Country_or_Area=Namibia",
           "showlegend": true,
           "type": "scatter",
           "x": [
            2263.401362
           ],
           "xaxis": "x",
           "y": [
            6.7
           ],
           "yaxis": "y"
          },
          {
           "hoverlabel": {
            "namelength": 0
           },
           "hovertemplate": "Country_or_Area=Nigeria<br>Year=1994<br>GDP_Per_Capita(USD)=%{x}<br>Mortality_Rate(%)=%{y}<br>Population(mn)=%{marker.size}",
           "legendgroup": "Country_or_Area=Nigeria",
           "marker": {
            "color": "#19d3f3",
            "size": [
             105.355783
            ],
            "sizemode": "area",
            "sizeref": 0.05687629546666667,
            "symbol": "circle"
           },
           "mode": "markers",
           "name": "Country_or_Area=Nigeria",
           "showlegend": true,
           "type": "scatter",
           "x": [
            446.7591039
           ],
           "xaxis": "x",
           "y": [
            21.01
           ],
           "yaxis": "y"
          },
          {
           "hoverlabel": {
            "namelength": 0
           },
           "hovertemplate": "Country_or_Area=Thailand<br>Year=1994<br>GDP_Per_Capita(USD)=%{x}<br>Mortality_Rate(%)=%{y}<br>Population(mn)=%{marker.size}",
           "legendgroup": "Country_or_Area=Thailand",
           "marker": {
            "color": "#B6E880",
            "size": [
             58.901666000000006
            ],
            "sizemode": "area",
            "sizeref": 0.05687629546666667,
            "symbol": "circle"
           },
           "mode": "markers",
           "name": "Country_or_Area=Thailand",
           "showlegend": true,
           "type": "scatter",
           "x": [
            2490.316311
           ],
           "xaxis": "x",
           "y": [
            3.06
           ],
           "yaxis": "y"
          },
          {
           "hoverlabel": {
            "namelength": 0
           },
           "hovertemplate": "Country_or_Area=Mexico<br>Year=1994<br>GDP_Per_Capita(USD)=%{x}<br>Mortality_Rate(%)=%{y}<br>Population(mn)=%{marker.size}",
           "legendgroup": "Country_or_Area=Mexico",
           "marker": {
            "color": "#FF97FF",
            "size": [
             92.349147
            ],
            "sizemode": "area",
            "sizeref": 0.05687629546666667,
            "symbol": "circle"
           },
           "mode": "markers",
           "name": "Country_or_Area=Mexico",
           "showlegend": true,
           "type": "scatter",
           "x": [
            5715.381775
           ],
           "xaxis": "x",
           "y": [
            3.74
           ],
           "yaxis": "y"
          }
         ],
         "name": "1994"
        },
        {
         "data": [
          {
           "hoverlabel": {
            "namelength": 0
           },
           "hovertemplate": "Country_or_Area=Afghanistan<br>Year=1995<br>GDP_Per_Capita(USD)=%{x}<br>Mortality_Rate(%)=%{y}<br>Population(mn)=%{marker.size}",
           "legendgroup": "Country_or_Area=Afghanistan",
           "marker": {
            "color": "#636efa",
            "size": [
             17.099541000000002
            ],
            "sizemode": "area",
            "sizeref": 0.05687629546666667,
            "symbol": "circle"
           },
           "mode": "markers",
           "name": "Country_or_Area=Afghanistan",
           "showlegend": true,
           "type": "scatter",
           "x": [
            189.26239019999997
           ],
           "xaxis": "x",
           "y": [
            14.96
           ],
           "yaxis": "y"
          },
          {
           "hoverlabel": {
            "namelength": 0
           },
           "hovertemplate": "Country_or_Area=United States<br>Year=1995<br>GDP_Per_Capita(USD)=%{x}<br>Mortality_Rate(%)=%{y}<br>Population(mn)=%{marker.size}",
           "legendgroup": "Country_or_Area=United States",
           "marker": {
            "color": "#EF553B",
            "size": [
             265.65884900000003
            ],
            "sizemode": "area",
            "sizeref": 0.05687629546666667,
            "symbol": "circle"
           },
           "mode": "markers",
           "name": "Country_or_Area=United States",
           "showlegend": true,
           "type": "scatter",
           "x": [
            28757.743360000004
           ],
           "xaxis": "x",
           "y": [
            0.95
           ],
           "yaxis": "y"
          },
          {
           "hoverlabel": {
            "namelength": 0
           },
           "hovertemplate": "Country_or_Area=Brazil<br>Year=1995<br>GDP_Per_Capita(USD)=%{x}<br>Mortality_Rate(%)=%{y}<br>Population(mn)=%{marker.size}",
           "legendgroup": "Country_or_Area=Brazil",
           "marker": {
            "color": "#00cc96",
            "size": [
             162.296612
            ],
            "sizemode": "area",
            "sizeref": 0.05687629546666667,
            "symbol": "circle"
           },
           "mode": "markers",
           "name": "Country_or_Area=Brazil",
           "showlegend": true,
           "type": "scatter",
           "x": [
            4794.017645
           ],
           "xaxis": "x",
           "y": [
            4.91
           ],
           "yaxis": "y"
          },
          {
           "hoverlabel": {
            "namelength": 0
           },
           "hovertemplate": "Country_or_Area=Zimbabwe<br>Year=1995<br>GDP_Per_Capita(USD)=%{x}<br>Mortality_Rate(%)=%{y}<br>Population(mn)=%{marker.size}",
           "legendgroup": "Country_or_Area=Zimbabwe",
           "marker": {
            "color": "#ab63fa",
            "size": [
             11.320346
            ],
            "sizemode": "area",
            "sizeref": 0.05687629546666667,
            "symbol": "circle"
           },
           "mode": "markers",
           "name": "Country_or_Area=Zimbabwe",
           "showlegend": true,
           "type": "scatter",
           "x": [
            845.9514872999999
           ],
           "xaxis": "x",
           "y": [
            9.01
           ],
           "yaxis": "y"
          },
          {
           "hoverlabel": {
            "namelength": 0
           },
           "hovertemplate": "Country_or_Area=Namibia<br>Year=1995<br>GDP_Per_Capita(USD)=%{x}<br>Mortality_Rate(%)=%{y}<br>Population(mn)=%{marker.size}",
           "legendgroup": "Country_or_Area=Namibia",
           "marker": {
            "color": "#FFA15A",
            "size": [
             1.655359
            ],
            "sizemode": "area",
            "sizeref": 0.05687629546666667,
            "symbol": "circle"
           },
           "mode": "markers",
           "name": "Country_or_Area=Namibia",
           "showlegend": true,
           "type": "scatter",
           "x": [
            2381.655278
           ],
           "xaxis": "x",
           "y": [
            6.77
           ],
           "yaxis": "y"
          },
          {
           "hoverlabel": {
            "namelength": 0
           },
           "hovertemplate": "Country_or_Area=Nigeria<br>Year=1995<br>GDP_Per_Capita(USD)=%{x}<br>Mortality_Rate(%)=%{y}<br>Population(mn)=%{marker.size}",
           "legendgroup": "Country_or_Area=Nigeria",
           "marker": {
            "color": "#19d3f3",
            "size": [
             108.01146499999999
            ],
            "sizemode": "area",
            "sizeref": 0.05687629546666667,
            "symbol": "circle"
           },
           "mode": "markers",
           "name": "Country_or_Area=Nigeria",
           "showlegend": true,
           "type": "scatter",
           "x": [
            453.93328099999997
           ],
           "xaxis": "x",
           "y": [
            20.83
           ],
           "yaxis": "y"
          },
          {
           "hoverlabel": {
            "namelength": 0
           },
           "hovertemplate": "Country_or_Area=Thailand<br>Year=1995<br>GDP_Per_Capita(USD)=%{x}<br>Mortality_Rate(%)=%{y}<br>Population(mn)=%{marker.size}",
           "legendgroup": "Country_or_Area=Thailand",
           "marker": {
            "color": "#B6E880",
            "size": [
             59.49179
            ],
            "sizemode": "area",
            "sizeref": 0.05687629546666667,
            "symbol": "circle"
           },
           "mode": "markers",
           "name": "Country_or_Area=Thailand",
           "showlegend": true,
           "type": "scatter",
           "x": [
            2845.413088
           ],
           "xaxis": "x",
           "y": [
            2.92
           ],
           "yaxis": "y"
          },
          {
           "hoverlabel": {
            "namelength": 0
           },
           "hovertemplate": "Country_or_Area=Mexico<br>Year=1995<br>GDP_Per_Capita(USD)=%{x}<br>Mortality_Rate(%)=%{y}<br>Population(mn)=%{marker.size}",
           "legendgroup": "Country_or_Area=Mexico",
           "marker": {
            "color": "#FF97FF",
            "size": [
             94.045579
            ],
            "sizemode": "area",
            "sizeref": 0.05687629546666667,
            "symbol": "circle"
           },
           "mode": "markers",
           "name": "Country_or_Area=Mexico",
           "showlegend": true,
           "type": "scatter",
           "x": [
            3828.702112
           ],
           "xaxis": "x",
           "y": [
            3.55
           ],
           "yaxis": "y"
          }
         ],
         "name": "1995"
        },
        {
         "data": [
          {
           "hoverlabel": {
            "namelength": 0
           },
           "hovertemplate": "Country_or_Area=Afghanistan<br>Year=1996<br>GDP_Per_Capita(USD)=%{x}<br>Mortality_Rate(%)=%{y}<br>Population(mn)=%{marker.size}",
           "legendgroup": "Country_or_Area=Afghanistan",
           "marker": {
            "color": "#636efa",
            "size": [
             17.822884
            ],
            "sizemode": "area",
            "sizeref": 0.05687629546666667,
            "symbol": "circle"
           },
           "mode": "markers",
           "name": "Country_or_Area=Afghanistan",
           "showlegend": true,
           "type": "scatter",
           "x": [
            175.30044019999997
           ],
           "xaxis": "x",
           "y": [
            14.51
           ],
           "yaxis": "y"
          },
          {
           "hoverlabel": {
            "namelength": 0
           },
           "hovertemplate": "Country_or_Area=United States<br>Year=1996<br>GDP_Per_Capita(USD)=%{x}<br>Mortality_Rate(%)=%{y}<br>Population(mn)=%{marker.size}",
           "legendgroup": "Country_or_Area=United States",
           "marker": {
            "color": "#EF553B",
            "size": [
             268.803424
            ],
            "sizemode": "area",
            "sizeref": 0.05687629546666667,
            "symbol": "circle"
           },
           "mode": "markers",
           "name": "Country_or_Area=United States",
           "showlegend": true,
           "type": "scatter",
           "x": [
            30033.553439999996
           ],
           "xaxis": "x",
           "y": [
            0.92
           ],
           "yaxis": "y"
          },
          {
           "hoverlabel": {
            "namelength": 0
           },
           "hovertemplate": "Country_or_Area=Brazil<br>Year=1996<br>GDP_Per_Capita(USD)=%{x}<br>Mortality_Rate(%)=%{y}<br>Population(mn)=%{marker.size}",
           "legendgroup": "Country_or_Area=Brazil",
           "marker": {
            "color": "#00cc96",
            "size": [
             164.913306
            ],
            "sizemode": "area",
            "sizeref": 0.05687629546666667,
            "symbol": "circle"
           },
           "mode": "markers",
           "name": "Country_or_Area=Brazil",
           "showlegend": true,
           "type": "scatter",
           "x": [
            5151.933065
           ],
           "xaxis": "x",
           "y": [
            4.6
           ],
           "yaxis": "y"
          },
          {
           "hoverlabel": {
            "namelength": 0
           },
           "hovertemplate": "Country_or_Area=Zimbabwe<br>Year=1996<br>GDP_Per_Capita(USD)=%{x}<br>Mortality_Rate(%)=%{y}<br>Population(mn)=%{marker.size}",
           "legendgroup": "Country_or_Area=Zimbabwe",
           "marker": {
            "color": "#ab63fa",
            "size": [
             11.518262
            ],
            "sizemode": "area",
            "sizeref": 0.05687629546666667,
            "symbol": "circle"
           },
           "mode": "markers",
           "name": "Country_or_Area=Zimbabwe",
           "showlegend": true,
           "type": "scatter",
           "x": [
            1012.011227
           ],
           "xaxis": "x",
           "y": [
            9.28
           ],
           "yaxis": "y"
          },
          {
           "hoverlabel": {
            "namelength": 0
           },
           "hovertemplate": "Country_or_Area=Namibia<br>Year=1996<br>GDP_Per_Capita(USD)=%{x}<br>Mortality_Rate(%)=%{y}<br>Population(mn)=%{marker.size}",
           "legendgroup": "Country_or_Area=Namibia",
           "marker": {
            "color": "#FFA15A",
            "size": [
             1.706489
            ],
            "sizemode": "area",
            "sizeref": 0.05687629546666667,
            "symbol": "circle"
           },
           "mode": "markers",
           "name": "Country_or_Area=Namibia",
           "showlegend": true,
           "type": "scatter",
           "x": [
            2311.9373530000003
           ],
           "xaxis": "x",
           "y": [
            6.89
           ],
           "yaxis": "y"
          },
          {
           "hoverlabel": {
            "namelength": 0
           },
           "hovertemplate": "Country_or_Area=Nigeria<br>Year=1996<br>GDP_Per_Capita(USD)=%{x}<br>Mortality_Rate(%)=%{y}<br>Population(mn)=%{marker.size}",
           "legendgroup": "Country_or_Area=Nigeria",
           "marker": {
            "color": "#19d3f3",
            "size": [
             110.732904
            ],
            "sizemode": "area",
            "sizeref": 0.05687629546666667,
            "symbol": "circle"
           },
           "mode": "markers",
           "name": "Country_or_Area=Nigeria",
           "showlegend": true,
           "type": "scatter",
           "x": [
            469.4904954
           ],
           "xaxis": "x",
           "y": [
            20.57
           ],
           "yaxis": "y"
          },
          {
           "hoverlabel": {
            "namelength": 0
           },
           "hovertemplate": "Country_or_Area=Thailand<br>Year=1996<br>GDP_Per_Capita(USD)=%{x}<br>Mortality_Rate(%)=%{y}<br>Population(mn)=%{marker.size}",
           "legendgroup": "Country_or_Area=Thailand",
           "marker": {
            "color": "#B6E880",
            "size": [
             60.151472
            ],
            "sizemode": "area",
            "sizeref": 0.05687629546666667,
            "symbol": "circle"
           },
           "mode": "markers",
           "name": "Country_or_Area=Thailand",
           "showlegend": true,
           "type": "scatter",
           "x": [
            3042.906047
           ],
           "xaxis": "x",
           "y": [
            2.78
           ],
           "yaxis": "y"
          },
          {
           "hoverlabel": {
            "namelength": 0
           },
           "hovertemplate": "Country_or_Area=Mexico<br>Year=1996<br>GDP_Per_Capita(USD)=%{x}<br>Mortality_Rate(%)=%{y}<br>Population(mn)=%{marker.size}",
           "legendgroup": "Country_or_Area=Mexico",
           "marker": {
            "color": "#FF97FF",
            "size": [
             95.68745200000001
            ],
            "sizemode": "area",
            "sizeref": 0.05687629546666667,
            "symbol": "circle"
           },
           "mode": "markers",
           "name": "Country_or_Area=Mexico",
           "showlegend": true,
           "type": "scatter",
           "x": [
            4294.951620000001
           ],
           "xaxis": "x",
           "y": [
            3.37
           ],
           "yaxis": "y"
          }
         ],
         "name": "1996"
        },
        {
         "data": [
          {
           "hoverlabel": {
            "namelength": 0
           },
           "hovertemplate": "Country_or_Area=Afghanistan<br>Year=1997<br>GDP_Per_Capita(USD)=%{x}<br>Mortality_Rate(%)=%{y}<br>Population(mn)=%{marker.size}",
           "legendgroup": "Country_or_Area=Afghanistan",
           "marker": {
            "color": "#636efa",
            "size": [
             18.381605
            ],
            "sizemode": "area",
            "sizeref": 0.05687629546666667,
            "symbol": "circle"
           },
           "mode": "markers",
           "name": "Country_or_Area=Afghanistan",
           "showlegend": true,
           "type": "scatter",
           "x": [
            164.092893
           ],
           "xaxis": "x",
           "y": [
            14.1
           ],
           "yaxis": "y"
          },
          {
           "hoverlabel": {
            "namelength": 0
           },
           "hovertemplate": "Country_or_Area=United States<br>Year=1997<br>GDP_Per_Capita(USD)=%{x}<br>Mortality_Rate(%)=%{y}<br>Population(mn)=%{marker.size}",
           "legendgroup": "Country_or_Area=United States",
           "marker": {
            "color": "#EF553B",
            "size": [
             272.136551
            ],
            "sizemode": "area",
            "sizeref": 0.05687629546666667,
            "symbol": "circle"
           },
           "mode": "markers",
           "name": "Country_or_Area=United States",
           "showlegend": true,
           "type": "scatter",
           "x": [
            31519.29415
           ],
           "xaxis": "x",
           "y": [
            0.89
           ],
           "yaxis": "y"
          },
          {
           "hoverlabel": {
            "namelength": 0
           },
           "hovertemplate": "Country_or_Area=Brazil<br>Year=1997<br>GDP_Per_Capita(USD)=%{x}<br>Mortality_Rate(%)=%{y}<br>Population(mn)=%{marker.size}",
           "legendgroup": "Country_or_Area=Brazil",
           "marker": {
            "color": "#00cc96",
            "size": [
             167.545164
            ],
            "sizemode": "area",
            "sizeref": 0.05687629546666667,
            "symbol": "circle"
           },
           "mode": "markers",
           "name": "Country_or_Area=Brazil",
           "showlegend": true,
           "type": "scatter",
           "x": [
            5261.341686
           ],
           "xaxis": "x",
           "y": [
            4.32
           ],
           "yaxis": "y"
          },
          {
           "hoverlabel": {
            "namelength": 0
           },
           "hovertemplate": "Country_or_Area=Zimbabwe<br>Year=1997<br>GDP_Per_Capita(USD)=%{x}<br>Mortality_Rate(%)=%{y}<br>Population(mn)=%{marker.size}",
           "legendgroup": "Country_or_Area=Zimbabwe",
           "marker": {
            "color": "#ab63fa",
            "size": [
             11.709997
            ],
            "sizemode": "area",
            "sizeref": 0.05687629546666667,
            "symbol": "circle"
           },
           "mode": "markers",
           "name": "Country_or_Area=Zimbabwe",
           "showlegend": true,
           "type": "scatter",
           "x": [
            1024.1027390000002
           ],
           "xaxis": "x",
           "y": [
            9.47
           ],
           "yaxis": "y"
          },
          {
           "hoverlabel": {
            "namelength": 0
           },
           "hovertemplate": "Country_or_Area=Namibia<br>Year=1997<br>GDP_Per_Capita(USD)=%{x}<br>Mortality_Rate(%)=%{y}<br>Population(mn)=%{marker.size}",
           "legendgroup": "Country_or_Area=Namibia",
           "marker": {
            "color": "#FFA15A",
            "size": [
             1.758994
            ],
            "sizemode": "area",
            "sizeref": 0.05687629546666667,
            "symbol": "circle"
           },
           "mode": "markers",
           "name": "Country_or_Area=Namibia",
           "showlegend": true,
           "type": "scatter",
           "x": [
            2332.402982
           ],
           "xaxis": "x",
           "y": [
            7.04
           ],
           "yaxis": "y"
          },
          {
           "hoverlabel": {
            "namelength": 0
           },
           "hovertemplate": "Country_or_Area=Nigeria<br>Year=1997<br>GDP_Per_Capita(USD)=%{x}<br>Mortality_Rate(%)=%{y}<br>Population(mn)=%{marker.size}",
           "legendgroup": "Country_or_Area=Nigeria",
           "marker": {
            "color": "#19d3f3",
            "size": [
             113.522705
            ],
            "sizemode": "area",
            "sizeref": 0.05687629546666667,
            "symbol": "circle"
           },
           "mode": "markers",
           "name": "Country_or_Area=Nigeria",
           "showlegend": true,
           "type": "scatter",
           "x": [
            479.2522118
           ],
           "xaxis": "x",
           "y": [
            20.21
           ],
           "yaxis": "y"
          },
          {
           "hoverlabel": {
            "namelength": 0
           },
           "hovertemplate": "Country_or_Area=Thailand<br>Year=1997<br>GDP_Per_Capita(USD)=%{x}<br>Mortality_Rate(%)=%{y}<br>Population(mn)=%{marker.size}",
           "legendgroup": "Country_or_Area=Thailand",
           "marker": {
            "color": "#B6E880",
            "size": [
             60.86350600000001
            ],
            "sizemode": "area",
            "sizeref": 0.05687629546666667,
            "symbol": "circle"
           },
           "mode": "markers",
           "name": "Country_or_Area=Thailand",
           "showlegend": true,
           "type": "scatter",
           "x": [
            2467.490185
           ],
           "xaxis": "x",
           "y": [
            2.65
           ],
           "yaxis": "y"
          },
          {
           "hoverlabel": {
            "namelength": 0
           },
           "hovertemplate": "Country_or_Area=Mexico<br>Year=1997<br>GDP_Per_Capita(USD)=%{x}<br>Mortality_Rate(%)=%{y}<br>Population(mn)=%{marker.size}",
           "legendgroup": "Country_or_Area=Mexico",
           "marker": {
            "color": "#FF97FF",
            "size": [
             97.281739
            ],
            "sizemode": "area",
            "sizeref": 0.05687629546666667,
            "symbol": "circle"
           },
           "mode": "markers",
           "name": "Country_or_Area=Mexico",
           "showlegend": true,
           "type": "scatter",
           "x": [
            5143.987105
           ],
           "xaxis": "x",
           "y": [
            3.19
           ],
           "yaxis": "y"
          }
         ],
         "name": "1997"
        },
        {
         "data": [
          {
           "hoverlabel": {
            "namelength": 0
           },
           "hovertemplate": "Country_or_Area=Afghanistan<br>Year=1998<br>GDP_Per_Capita(USD)=%{x}<br>Mortality_Rate(%)=%{y}<br>Population(mn)=%{marker.size}",
           "legendgroup": "Country_or_Area=Afghanistan",
           "marker": {
            "color": "#636efa",
            "size": [
             18.863999
            ],
            "sizemode": "area",
            "sizeref": 0.05687629546666667,
            "symbol": "circle"
           },
           "mode": "markers",
           "name": "Country_or_Area=Afghanistan",
           "showlegend": true,
           "type": "scatter",
           "x": [
            154.366
           ],
           "xaxis": "x",
           "y": [
            13.71
           ],
           "yaxis": "y"
          },
          {
           "hoverlabel": {
            "namelength": 0
           },
           "hovertemplate": "Country_or_Area=United States<br>Year=1998<br>GDP_Per_Capita(USD)=%{x}<br>Mortality_Rate(%)=%{y}<br>Population(mn)=%{marker.size}",
           "legendgroup": "Country_or_Area=United States",
           "marker": {
            "color": "#EF553B",
            "size": [
             275.542603
            ],
            "sizemode": "area",
            "sizeref": 0.05687629546666667,
            "symbol": "circle"
           },
           "mode": "markers",
           "name": "Country_or_Area=United States",
           "showlegend": true,
           "type": "scatter",
           "x": [
            32890.80128
           ],
           "xaxis": "x",
           "y": [
            0.87
           ],
           "yaxis": "y"
          },
          {
           "hoverlabel": {
            "namelength": 0
           },
           "hovertemplate": "Country_or_Area=Brazil<br>Year=1998<br>GDP_Per_Capita(USD)=%{x}<br>Mortality_Rate(%)=%{y}<br>Population(mn)=%{marker.size}",
           "legendgroup": "Country_or_Area=Brazil",
           "marker": {
            "color": "#00cc96",
            "size": [
             170.17064
            ],
            "sizemode": "area",
            "sizeref": 0.05687629546666667,
            "symbol": "circle"
           },
           "mode": "markers",
           "name": "Country_or_Area=Brazil",
           "showlegend": true,
           "type": "scatter",
           "x": [
            5017.40697
           ],
           "xaxis": "x",
           "y": [
            4.06
           ],
           "yaxis": "y"
          },
          {
           "hoverlabel": {
            "namelength": 0
           },
           "hovertemplate": "Country_or_Area=Zimbabwe<br>Year=1998<br>GDP_Per_Capita(USD)=%{x}<br>Mortality_Rate(%)=%{y}<br>Population(mn)=%{marker.size}",
           "legendgroup": "Country_or_Area=Zimbabwe",
           "marker": {
            "color": "#ab63fa",
            "size": [
             11.893272
            ],
            "sizemode": "area",
            "sizeref": 0.05687629546666667,
            "symbol": "circle"
           },
           "mode": "markers",
           "name": "Country_or_Area=Zimbabwe",
           "showlegend": true,
           "type": "scatter",
           "x": [
            706.397499
           ],
           "xaxis": "x",
           "y": [
            9.59
           ],
           "yaxis": "y"
          },
          {
           "hoverlabel": {
            "namelength": 0
           },
           "hovertemplate": "Country_or_Area=Namibia<br>Year=1998<br>GDP_Per_Capita(USD)=%{x}<br>Mortality_Rate(%)=%{y}<br>Population(mn)=%{marker.size}",
           "legendgroup": "Country_or_Area=Namibia",
           "marker": {
            "color": "#FFA15A",
            "size": [
             1.810566
            ],
            "sizemode": "area",
            "sizeref": 0.05687629546666667,
            "symbol": "circle"
           },
           "mode": "markers",
           "name": "Country_or_Area=Namibia",
           "showlegend": true,
           "type": "scatter",
           "x": [
            2113.4488309999997
           ],
           "xaxis": "x",
           "y": [
            7.19
           ],
           "yaxis": "y"
          },
          {
           "hoverlabel": {
            "namelength": 0
           },
           "hovertemplate": "Country_or_Area=Nigeria<br>Year=1998<br>GDP_Per_Capita(USD)=%{x}<br>Mortality_Rate(%)=%{y}<br>Population(mn)=%{marker.size}",
           "legendgroup": "Country_or_Area=Nigeria",
           "marker": {
            "color": "#19d3f3",
            "size": [
             116.38575
            ],
            "sizemode": "area",
            "sizeref": 0.05687629546666667,
            "symbol": "circle"
           },
           "mode": "markers",
           "name": "Country_or_Area=Nigeria",
           "showlegend": true,
           "type": "scatter",
           "x": [
            485.8395598
           ],
           "xaxis": "x",
           "y": [
            19.77
           ],
           "yaxis": "y"
          },
          {
           "hoverlabel": {
            "namelength": 0
           },
           "hovertemplate": "Country_or_Area=Thailand<br>Year=1998<br>GDP_Per_Capita(USD)=%{x}<br>Mortality_Rate(%)=%{y}<br>Population(mn)=%{marker.size}",
           "legendgroup": "Country_or_Area=Thailand",
           "marker": {
            "color": "#B6E880",
            "size": [
             61.597283
            ],
            "sizemode": "area",
            "sizeref": 0.05687629546666667,
            "symbol": "circle"
           },
           "mode": "markers",
           "name": "Country_or_Area=Thailand",
           "showlegend": true,
           "type": "scatter",
           "x": [
            1845.4667960000002
           ],
           "xaxis": "x",
           "y": [
            2.53
           ],
           "yaxis": "y"
          },
          {
           "hoverlabel": {
            "namelength": 0
           },
           "hovertemplate": "Country_or_Area=Mexico<br>Year=1998<br>GDP_Per_Capita(USD)=%{x}<br>Mortality_Rate(%)=%{y}<br>Population(mn)=%{marker.size}",
           "legendgroup": "Country_or_Area=Mexico",
           "marker": {
            "color": "#FF97FF",
            "size": [
             98.82145600000001
            ],
            "sizemode": "area",
            "sizeref": 0.05687629546666667,
            "symbol": "circle"
           },
           "mode": "markers",
           "name": "Country_or_Area=Mexico",
           "showlegend": true,
           "type": "scatter",
           "x": [
            5327.787554
           ],
           "xaxis": "x",
           "y": [
            3.01
           ],
           "yaxis": "y"
          }
         ],
         "name": "1998"
        },
        {
         "data": [
          {
           "hoverlabel": {
            "namelength": 0
           },
           "hovertemplate": "Country_or_Area=Afghanistan<br>Year=1999<br>GDP_Per_Capita(USD)=%{x}<br>Mortality_Rate(%)=%{y}<br>Population(mn)=%{marker.size}",
           "legendgroup": "Country_or_Area=Afghanistan",
           "marker": {
            "color": "#636efa",
            "size": [
             19.403676
            ],
            "sizemode": "area",
            "sizeref": 0.05687629546666667,
            "symbol": "circle"
           },
           "mode": "markers",
           "name": "Country_or_Area=Afghanistan",
           "showlegend": true,
           "type": "scatter",
           "x": [
            140.17922040000002
           ],
           "xaxis": "x",
           "y": [
            13.34
           ],
           "yaxis": "y"
          },
          {
           "hoverlabel": {
            "namelength": 0
           },
           "hovertemplate": "Country_or_Area=United States<br>Year=1999<br>GDP_Per_Capita(USD)=%{x}<br>Mortality_Rate(%)=%{y}<br>Population(mn)=%{marker.size}",
           "legendgroup": "Country_or_Area=United States",
           "marker": {
            "color": "#EF553B",
            "size": [
             278.862277
            ],
            "sizemode": "area",
            "sizeref": 0.05687629546666667,
            "symbol": "circle"
           },
           "mode": "markers",
           "name": "Country_or_Area=United States",
           "showlegend": true,
           "type": "scatter",
           "x": [
            34535.55319
           ],
           "xaxis": "x",
           "y": [
            0.86
           ],
           "yaxis": "y"
          },
          {
           "hoverlabel": {
            "namelength": 0
           },
           "hovertemplate": "Country_or_Area=Brazil<br>Year=1999<br>GDP_Per_Capita(USD)=%{x}<br>Mortality_Rate(%)=%{y}<br>Population(mn)=%{marker.size}",
           "legendgroup": "Country_or_Area=Brazil",
           "marker": {
            "color": "#00cc96",
            "size": [
             172.759243
            ],
            "sizemode": "area",
            "sizeref": 0.05687629546666667,
            "symbol": "circle"
           },
           "mode": "markers",
           "name": "Country_or_Area=Brazil",
           "showlegend": true,
           "type": "scatter",
           "x": [
            3438.724179
           ],
           "xaxis": "x",
           "y": [
            3.81
           ],
           "yaxis": "y"
          },
          {
           "hoverlabel": {
            "namelength": 0
           },
           "hovertemplate": "Country_or_Area=Zimbabwe<br>Year=1999<br>GDP_Per_Capita(USD)=%{x}<br>Mortality_Rate(%)=%{y}<br>Population(mn)=%{marker.size}",
           "legendgroup": "Country_or_Area=Zimbabwe",
           "marker": {
            "color": "#ab63fa",
            "size": [
             12.064537
            ],
            "sizemode": "area",
            "sizeref": 0.05687629546666667,
            "symbol": "circle"
           },
           "mode": "markers",
           "name": "Country_or_Area=Zimbabwe",
           "showlegend": true,
           "type": "scatter",
           "x": [
            661.8820101
           ],
           "xaxis": "x",
           "y": [
            9.64
           ],
           "yaxis": "y"
          },
          {
           "hoverlabel": {
            "namelength": 0
           },
           "hovertemplate": "Country_or_Area=Namibia<br>Year=1999<br>GDP_Per_Capita(USD)=%{x}<br>Mortality_Rate(%)=%{y}<br>Population(mn)=%{marker.size}",
           "legendgroup": "Country_or_Area=Namibia",
           "marker": {
            "color": "#FFA15A",
            "size": [
             1.8580419999999997
            ],
            "sizemode": "area",
            "sizeref": 0.05687629546666667,
            "symbol": "circle"
           },
           "mode": "markers",
           "name": "Country_or_Area=Namibia",
           "showlegend": true,
           "type": "scatter",
           "x": [
            2055.370302
           ],
           "xaxis": "x",
           "y": [
            7.34
           ],
           "yaxis": "y"
          },
          {
           "hoverlabel": {
            "namelength": 0
           },
           "hovertemplate": "Country_or_Area=Nigeria<br>Year=1999<br>GDP_Per_Capita(USD)=%{x}<br>Mortality_Rate(%)=%{y}<br>Population(mn)=%{marker.size}",
           "legendgroup": "Country_or_Area=Nigeria",
           "marker": {
            "color": "#19d3f3",
            "size": [
             119.327073
            ],
            "sizemode": "area",
            "sizeref": 0.05687629546666667,
            "symbol": "circle"
           },
           "mode": "markers",
           "name": "Country_or_Area=Nigeria",
           "showlegend": true,
           "type": "scatter",
           "x": [
            483.3972478
           ],
           "xaxis": "x",
           "y": [
            19.28
           ],
           "yaxis": "y"
          },
          {
           "hoverlabel": {
            "namelength": 0
           },
           "hovertemplate": "Country_or_Area=Thailand<br>Year=1999<br>GDP_Per_Capita(USD)=%{x}<br>Mortality_Rate(%)=%{y}<br>Population(mn)=%{marker.size}",
           "legendgroup": "Country_or_Area=Thailand",
           "marker": {
            "color": "#B6E880",
            "size": [
             62.306651
            ],
            "sizemode": "area",
            "sizeref": 0.05687629546666667,
            "symbol": "circle"
           },
           "mode": "markers",
           "name": "Country_or_Area=Thailand",
           "showlegend": true,
           "type": "scatter",
           "x": [
            2032.994521
           ],
           "xaxis": "x",
           "y": [
            2.42
           ],
           "yaxis": "y"
          },
          {
           "hoverlabel": {
            "namelength": 0
           },
           "hovertemplate": "Country_or_Area=Mexico<br>Year=1999<br>GDP_Per_Capita(USD)=%{x}<br>Mortality_Rate(%)=%{y}<br>Population(mn)=%{marker.size}",
           "legendgroup": "Country_or_Area=Mexico",
           "marker": {
            "color": "#FF97FF",
            "size": [
             100.300579
            ],
            "sizemode": "area",
            "sizeref": 0.05687629546666667,
            "symbol": "circle"
           },
           "mode": "markers",
           "name": "Country_or_Area=Mexico",
           "showlegend": true,
           "type": "scatter",
           "x": [
            5984.342633
           ],
           "xaxis": "x",
           "y": [
            2.84
           ],
           "yaxis": "y"
          }
         ],
         "name": "1999"
        },
        {
         "data": [
          {
           "hoverlabel": {
            "namelength": 0
           },
           "hovertemplate": "Country_or_Area=Afghanistan<br>Year=2000<br>GDP_Per_Capita(USD)=%{x}<br>Mortality_Rate(%)=%{y}<br>Population(mn)=%{marker.size}",
           "legendgroup": "Country_or_Area=Afghanistan",
           "marker": {
            "color": "#636efa",
            "size": [
             20.093756
            ],
            "sizemode": "area",
            "sizeref": 0.05687629546666667,
            "symbol": "circle"
           },
           "mode": "markers",
           "name": "Country_or_Area=Afghanistan",
           "showlegend": true,
           "type": "scatter",
           "x": [
            175.76949530000002
           ],
           "xaxis": "x",
           "y": [
            12.97
           ],
           "yaxis": "y"
          },
          {
           "hoverlabel": {
            "namelength": 0
           },
           "hovertemplate": "Country_or_Area=United States<br>Year=2000<br>GDP_Per_Capita(USD)=%{x}<br>Mortality_Rate(%)=%{y}<br>Population(mn)=%{marker.size}",
           "legendgroup": "Country_or_Area=United States",
           "marker": {
            "color": "#EF553B",
            "size": [
             281.982778
            ],
            "sizemode": "area",
            "sizeref": 0.05687629546666667,
            "symbol": "circle"
           },
           "mode": "markers",
           "name": "Country_or_Area=United States",
           "showlegend": true,
           "type": "scatter",
           "x": [
            36358.06085
           ],
           "xaxis": "x",
           "y": [
            0.84
           ],
           "yaxis": "y"
          },
          {
           "hoverlabel": {
            "namelength": 0
           },
           "hovertemplate": "Country_or_Area=Brazil<br>Year=2000<br>GDP_Per_Capita(USD)=%{x}<br>Mortality_Rate(%)=%{y}<br>Population(mn)=%{marker.size}",
           "legendgroup": "Country_or_Area=Brazil",
           "marker": {
            "color": "#00cc96",
            "size": [
             175.287587
            ],
            "sizemode": "area",
            "sizeref": 0.05687629546666667,
            "symbol": "circle"
           },
           "mode": "markers",
           "name": "Country_or_Area=Brazil",
           "showlegend": true,
           "type": "scatter",
           "x": [
            3721.655958
           ],
           "xaxis": "x",
           "y": [
            3.58
           ],
           "yaxis": "y"
          },
          {
           "hoverlabel": {
            "namelength": 0
           },
           "hovertemplate": "Country_or_Area=Zimbabwe<br>Year=2000<br>GDP_Per_Capita(USD)=%{x}<br>Mortality_Rate(%)=%{y}<br>Population(mn)=%{marker.size}",
           "legendgroup": "Country_or_Area=Zimbabwe",
           "marker": {
            "color": "#ab63fa",
            "size": [
             12.222251
            ],
            "sizemode": "area",
            "sizeref": 0.05687629546666667,
            "symbol": "circle"
           },
           "mode": "markers",
           "name": "Country_or_Area=Zimbabwe",
           "showlegend": true,
           "type": "scatter",
           "x": [
            617.6112731000001
           ],
           "xaxis": "x",
           "y": [
            9.68
           ],
           "yaxis": "y"
          },
          {
           "hoverlabel": {
            "namelength": 0
           },
           "hovertemplate": "Country_or_Area=Namibia<br>Year=2000<br>GDP_Per_Capita(USD)=%{x}<br>Mortality_Rate(%)=%{y}<br>Population(mn)=%{marker.size}",
           "legendgroup": "Country_or_Area=Namibia",
           "marker": {
            "color": "#FFA15A",
            "size": [
             1.899257
            ],
            "sizemode": "area",
            "sizeref": 0.05687629546666667,
            "symbol": "circle"
           },
           "mode": "markers",
           "name": "Country_or_Area=Namibia",
           "showlegend": true,
           "type": "scatter",
           "x": [
            2018.672593
           ],
           "xaxis": "x",
           "y": [
            7.46
           ],
           "yaxis": "y"
          },
          {
           "hoverlabel": {
            "namelength": 0
           },
           "hovertemplate": "Country_or_Area=Nigeria<br>Year=2000<br>GDP_Per_Capita(USD)=%{x}<br>Mortality_Rate(%)=%{y}<br>Population(mn)=%{marker.size}",
           "legendgroup": "Country_or_Area=Nigeria",
           "marker": {
            "color": "#19d3f3",
            "size": [
             122.35200900000001
            ],
            "sizemode": "area",
            "sizeref": 0.05687629546666667,
            "symbol": "circle"
           },
           "mode": "markers",
           "name": "Country_or_Area=Nigeria",
           "showlegend": true,
           "type": "scatter",
           "x": [
            609.6463326
           ],
           "xaxis": "x",
           "y": [
            18.74
           ],
           "yaxis": "y"
          },
          {
           "hoverlabel": {
            "namelength": 0
           },
           "hovertemplate": "Country_or_Area=Thailand<br>Year=2000<br>GDP_Per_Capita(USD)=%{x}<br>Mortality_Rate(%)=%{y}<br>Population(mn)=%{marker.size}",
           "legendgroup": "Country_or_Area=Thailand",
           "marker": {
            "color": "#B6E880",
            "size": [
             62.958020999999995
            ],
            "sizemode": "area",
            "sizeref": 0.05687629546666667,
            "symbol": "circle"
           },
           "mode": "markers",
           "name": "Country_or_Area=Thailand",
           "showlegend": true,
           "type": "scatter",
           "x": [
            2007.5646600000002
           ],
           "xaxis": "x",
           "y": [
            2.31
           ],
           "yaxis": "y"
          },
          {
           "hoverlabel": {
            "namelength": 0
           },
           "hovertemplate": "Country_or_Area=Mexico<br>Year=2000<br>GDP_Per_Capita(USD)=%{x}<br>Mortality_Rate(%)=%{y}<br>Population(mn)=%{marker.size}",
           "legendgroup": "Country_or_Area=Mexico",
           "marker": {
            "color": "#FF97FF",
            "size": [
             101.719673
            ],
            "sizemode": "area",
            "sizeref": 0.05687629546666667,
            "symbol": "circle"
           },
           "mode": "markers",
           "name": "Country_or_Area=Mexico",
           "showlegend": true,
           "type": "scatter",
           "x": [
            6959.419384000001
           ],
           "xaxis": "x",
           "y": [
            2.68
           ],
           "yaxis": "y"
          }
         ],
         "name": "2000"
        },
        {
         "data": [
          {
           "hoverlabel": {
            "namelength": 0
           },
           "hovertemplate": "Country_or_Area=Afghanistan<br>Year=2001<br>GDP_Per_Capita(USD)=%{x}<br>Mortality_Rate(%)=%{y}<br>Population(mn)=%{marker.size}",
           "legendgroup": "Country_or_Area=Afghanistan",
           "marker": {
            "color": "#636efa",
            "size": [
             20.966463
            ],
            "sizemode": "area",
            "sizeref": 0.05687629546666667,
            "symbol": "circle"
           },
           "mode": "markers",
           "name": "Country_or_Area=Afghanistan",
           "showlegend": true,
           "type": "scatter",
           "x": [
            172.681737
           ],
           "xaxis": "x",
           "y": [
            12.6
           ],
           "yaxis": "y"
          },
          {
           "hoverlabel": {
            "namelength": 0
           },
           "hovertemplate": "Country_or_Area=United States<br>Year=2001<br>GDP_Per_Capita(USD)=%{x}<br>Mortality_Rate(%)=%{y}<br>Population(mn)=%{marker.size}",
           "legendgroup": "Country_or_Area=United States",
           "marker": {
            "color": "#EF553B",
            "size": [
             284.852391
            ],
            "sizemode": "area",
            "sizeref": 0.05687629546666667,
            "symbol": "circle"
           },
           "mode": "markers",
           "name": "Country_or_Area=United States",
           "showlegend": true,
           "type": "scatter",
           "x": [
            37148.44015
           ],
           "xaxis": "x",
           "y": [
            0.83
           ],
           "yaxis": "y"
          },
          {
           "hoverlabel": {
            "namelength": 0
           },
           "hovertemplate": "Country_or_Area=Brazil<br>Year=2001<br>GDP_Per_Capita(USD)=%{x}<br>Mortality_Rate(%)=%{y}<br>Population(mn)=%{marker.size}",
           "legendgroup": "Country_or_Area=Brazil",
           "marker": {
            "color": "#00cc96",
            "size": [
             177.75066999999999
            ],
            "sizemode": "area",
            "sizeref": 0.05687629546666667,
            "symbol": "circle"
           },
           "mode": "markers",
           "name": "Country_or_Area=Brazil",
           "showlegend": true,
           "type": "scatter",
           "x": [
            3154.681631
           ],
           "xaxis": "x",
           "y": [
            3.36
           ],
           "yaxis": "y"
          },
          {
           "hoverlabel": {
            "namelength": 0
           },
           "hovertemplate": "Country_or_Area=Zimbabwe<br>Year=2001<br>GDP_Per_Capita(USD)=%{x}<br>Mortality_Rate(%)=%{y}<br>Population(mn)=%{marker.size}",
           "legendgroup": "Country_or_Area=Zimbabwe",
           "marker": {
            "color": "#ab63fa",
            "size": [
             12.366164999999999
            ],
            "sizemode": "area",
            "sizeref": 0.05687629546666667,
            "symbol": "circle"
           },
           "mode": "markers",
           "name": "Country_or_Area=Zimbabwe",
           "showlegend": true,
           "type": "scatter",
           "x": [
            606.1297096
           ],
           "xaxis": "x",
           "y": [
            9.71
           ],
           "yaxis": "y"
          },
          {
           "hoverlabel": {
            "namelength": 0
           },
           "hovertemplate": "Country_or_Area=Namibia<br>Year=2001<br>GDP_Per_Capita(USD)=%{x}<br>Mortality_Rate(%)=%{y}<br>Population(mn)=%{marker.size}",
           "legendgroup": "Country_or_Area=Namibia",
           "marker": {
            "color": "#FFA15A",
            "size": [
             1.9335959999999999
            ],
            "sizemode": "area",
            "sizeref": 0.05687629546666667,
            "symbol": "circle"
           },
           "mode": "markers",
           "name": "Country_or_Area=Namibia",
           "showlegend": true,
           "type": "scatter",
           "x": [
            1797.9247899999998
           ],
           "xaxis": "x",
           "y": [
            7.52
           ],
           "yaxis": "y"
          },
          {
           "hoverlabel": {
            "namelength": 0
           },
           "hovertemplate": "Country_or_Area=Nigeria<br>Year=2001<br>GDP_Per_Capita(USD)=%{x}<br>Mortality_Rate(%)=%{y}<br>Population(mn)=%{marker.size}",
           "legendgroup": "Country_or_Area=Nigeria",
           "marker": {
            "color": "#19d3f3",
            "size": [
             125.463434
            ],
            "sizemode": "area",
            "sizeref": 0.05687629546666667,
            "symbol": "circle"
           },
           "mode": "markers",
           "name": "Country_or_Area=Nigeria",
           "showlegend": true,
           "type": "scatter",
           "x": [
            565.7151409
           ],
           "xaxis": "x",
           "y": [
            18.17
           ],
           "yaxis": "y"
          },
          {
           "hoverlabel": {
            "namelength": 0
           },
           "hovertemplate": "Country_or_Area=Thailand<br>Year=2001<br>GDP_Per_Capita(USD)=%{x}<br>Mortality_Rate(%)=%{y}<br>Population(mn)=%{marker.size}",
           "legendgroup": "Country_or_Area=Thailand",
           "marker": {
            "color": "#B6E880",
            "size": [
             63.543321999999996
            ],
            "sizemode": "area",
            "sizeref": 0.05687629546666667,
            "symbol": "circle"
           },
           "mode": "markers",
           "name": "Country_or_Area=Thailand",
           "showlegend": true,
           "type": "scatter",
           "x": [
            1893.145377
           ],
           "xaxis": "x",
           "y": [
            2.2
           ],
           "yaxis": "y"
          },
          {
           "hoverlabel": {
            "namelength": 0
           },
           "hovertemplate": "Country_or_Area=Mexico<br>Year=2001<br>GDP_Per_Capita(USD)=%{x}<br>Mortality_Rate(%)=%{y}<br>Population(mn)=%{marker.size}",
           "legendgroup": "Country_or_Area=Mexico",
           "marker": {
            "color": "#FF97FF",
            "size": [
             103.067068
            ],
            "sizemode": "area",
            "sizeref": 0.05687629546666667,
            "symbol": "circle"
           },
           "mode": "markers",
           "name": "Country_or_Area=Mexico",
           "showlegend": true,
           "type": "scatter",
           "x": [
            7341.849733
           ],
           "xaxis": "x",
           "y": [
            2.53
           ],
           "yaxis": "y"
          }
         ],
         "name": "2001"
        },
        {
         "data": [
          {
           "hoverlabel": {
            "namelength": 0
           },
           "hovertemplate": "Country_or_Area=Afghanistan<br>Year=2002<br>GDP_Per_Capita(USD)=%{x}<br>Mortality_Rate(%)=%{y}<br>Population(mn)=%{marker.size}",
           "legendgroup": "Country_or_Area=Afghanistan",
           "marker": {
            "color": "#636efa",
            "size": [
             21.979923
            ],
            "sizemode": "area",
            "sizeref": 0.05687629546666667,
            "symbol": "circle"
           },
           "mode": "markers",
           "name": "Country_or_Area=Afghanistan",
           "showlegend": true,
           "type": "scatter",
           "x": [
            194.95934430000003
           ],
           "xaxis": "x",
           "y": [
            12.22
           ],
           "yaxis": "y"
          },
          {
           "hoverlabel": {
            "namelength": 0
           },
           "hovertemplate": "Country_or_Area=United States<br>Year=2002<br>GDP_Per_Capita(USD)=%{x}<br>Mortality_Rate(%)=%{y}<br>Population(mn)=%{marker.size}",
           "legendgroup": "Country_or_Area=United States",
           "marker": {
            "color": "#EF553B",
            "size": [
             287.506847
            ],
            "sizemode": "area",
            "sizeref": 0.05687629546666667,
            "symbol": "circle"
           },
           "mode": "markers",
           "name": "Country_or_Area=United States",
           "showlegend": true,
           "type": "scatter",
           "x": [
            38038.808860000005
           ],
           "xaxis": "x",
           "y": [
            0.82
           ],
           "yaxis": "y"
          },
          {
           "hoverlabel": {
            "namelength": 0
           },
           "hovertemplate": "Country_or_Area=Brazil<br>Year=2002<br>GDP_Per_Capita(USD)=%{x}<br>Mortality_Rate(%)=%{y}<br>Population(mn)=%{marker.size}",
           "legendgroup": "Country_or_Area=Brazil",
           "marker": {
            "color": "#00cc96",
            "size": [
             180.151021
            ],
            "sizemode": "area",
            "sizeref": 0.05687629546666667,
            "symbol": "circle"
           },
           "mode": "markers",
           "name": "Country_or_Area=Brazil",
           "showlegend": true,
           "type": "scatter",
           "x": [
            2842.227202
           ],
           "xaxis": "x",
           "y": [
            3.15
           ],
           "yaxis": "y"
          },
          {
           "hoverlabel": {
            "namelength": 0
           },
           "hovertemplate": "Country_or_Area=Zimbabwe<br>Year=2002<br>GDP_Per_Capita(USD)=%{x}<br>Mortality_Rate(%)=%{y}<br>Population(mn)=%{marker.size}",
           "legendgroup": "Country_or_Area=Zimbabwe",
           "marker": {
            "color": "#ab63fa",
            "size": [
             12.500525
            ],
            "sizemode": "area",
            "sizeref": 0.05687629546666667,
            "symbol": "circle"
           },
           "mode": "markers",
           "name": "Country_or_Area=Zimbabwe",
           "showlegend": true,
           "type": "scatter",
           "x": [
            568.8881067000001
           ],
           "xaxis": "x",
           "y": [
            9.77
           ],
           "yaxis": "y"
          },
          {
           "hoverlabel": {
            "namelength": 0
           },
           "hovertemplate": "Country_or_Area=Namibia<br>Year=2002<br>GDP_Per_Capita(USD)=%{x}<br>Mortality_Rate(%)=%{y}<br>Population(mn)=%{marker.size}",
           "legendgroup": "Country_or_Area=Namibia",
           "marker": {
            "color": "#FFA15A",
            "size": [
             1.962147
            ],
            "sizemode": "area",
            "sizeref": 0.05687629546666667,
            "symbol": "circle"
           },
           "mode": "markers",
           "name": "Country_or_Area=Namibia",
           "showlegend": true,
           "type": "scatter",
           "x": [
            1669.424049
           ],
           "xaxis": "x",
           "y": [
            7.55
           ],
           "yaxis": "y"
          },
          {
           "hoverlabel": {
            "namelength": 0
           },
           "hovertemplate": "Country_or_Area=Nigeria<br>Year=2002<br>GDP_Per_Capita(USD)=%{x}<br>Mortality_Rate(%)=%{y}<br>Population(mn)=%{marker.size}",
           "legendgroup": "Country_or_Area=Nigeria",
           "marker": {
            "color": "#19d3f3",
            "size": [
             128.66671000000002
            ],
            "sizemode": "area",
            "sizeref": 0.05687629546666667,
            "symbol": "circle"
           },
           "mode": "markers",
           "name": "Country_or_Area=Nigeria",
           "showlegend": true,
           "type": "scatter",
           "x": [
            738.8349077
           ],
           "xaxis": "x",
           "y": [
            17.59
           ],
           "yaxis": "y"
          },
          {
           "hoverlabel": {
            "namelength": 0
           },
           "hovertemplate": "Country_or_Area=Thailand<br>Year=2002<br>GDP_Per_Capita(USD)=%{x}<br>Mortality_Rate(%)=%{y}<br>Population(mn)=%{marker.size}",
           "legendgroup": "Country_or_Area=Thailand",
           "marker": {
            "color": "#B6E880",
            "size": [
             64.073164
            ],
            "sizemode": "area",
            "sizeref": 0.05687629546666667,
            "symbol": "circle"
           },
           "mode": "markers",
           "name": "Country_or_Area=Thailand",
           "showlegend": true,
           "type": "scatter",
           "x": [
            2096.0554309999998
           ],
           "xaxis": "x",
           "y": [
            2.1
           ],
           "yaxis": "y"
          },
          {
           "hoverlabel": {
            "namelength": 0
           },
           "hovertemplate": "Country_or_Area=Mexico<br>Year=2002<br>GDP_Per_Capita(USD)=%{x}<br>Mortality_Rate(%)=%{y}<br>Population(mn)=%{marker.size}",
           "legendgroup": "Country_or_Area=Mexico",
           "marker": {
            "color": "#FF97FF",
            "size": [
             104.35560799999999
            ],
            "sizemode": "area",
            "sizeref": 0.05687629546666667,
            "symbol": "circle"
           },
           "mode": "markers",
           "name": "Country_or_Area=Mexico",
           "showlegend": true,
           "type": "scatter",
           "x": [
            7398.832947
           ],
           "xaxis": "x",
           "y": [
            2.39
           ],
           "yaxis": "y"
          }
         ],
         "name": "2002"
        },
        {
         "data": [
          {
           "hoverlabel": {
            "namelength": 0
           },
           "hovertemplate": "Country_or_Area=Afghanistan<br>Year=2003<br>GDP_Per_Capita(USD)=%{x}<br>Mortality_Rate(%)=%{y}<br>Population(mn)=%{marker.size}",
           "legendgroup": "Country_or_Area=Afghanistan",
           "marker": {
            "color": "#636efa",
            "size": [
             23.064851
            ],
            "sizemode": "area",
            "sizeref": 0.05687629546666667,
            "symbol": "circle"
           },
           "mode": "markers",
           "name": "Country_or_Area=Afghanistan",
           "showlegend": true,
           "type": "scatter",
           "x": [
            213.9857668
           ],
           "xaxis": "x",
           "y": [
            11.83
           ],
           "yaxis": "y"
          },
          {
           "hoverlabel": {
            "namelength": 0
           },
           "hovertemplate": "Country_or_Area=United States<br>Year=2003<br>GDP_Per_Capita(USD)=%{x}<br>Mortality_Rate(%)=%{y}<br>Population(mn)=%{marker.size}",
           "legendgroup": "Country_or_Area=United States",
           "marker": {
            "color": "#EF553B",
            "size": [
             290.027624
            ],
            "sizemode": "area",
            "sizeref": 0.05687629546666667,
            "symbol": "circle"
           },
           "mode": "markers",
           "name": "Country_or_Area=United States",
           "showlegend": true,
           "type": "scatter",
           "x": [
            39507.42982
           ],
           "xaxis": "x",
           "y": [
            0.81
           ],
           "yaxis": "y"
          },
          {
           "hoverlabel": {
            "namelength": 0
           },
           "hovertemplate": "Country_or_Area=Brazil<br>Year=2003<br>GDP_Per_Capita(USD)=%{x}<br>Mortality_Rate(%)=%{y}<br>Population(mn)=%{marker.size}",
           "legendgroup": "Country_or_Area=Brazil",
           "marker": {
            "color": "#00cc96",
            "size": [
             182.482149
            ],
            "sizemode": "area",
            "sizeref": 0.05687629546666667,
            "symbol": "circle"
           },
           "mode": "markers",
           "name": "Country_or_Area=Brazil",
           "showlegend": true,
           "type": "scatter",
           "x": [
            3062.8866980000003
           ],
           "xaxis": "x",
           "y": [
            2.96
           ],
           "yaxis": "y"
          },
          {
           "hoverlabel": {
            "namelength": 0
           },
           "hovertemplate": "Country_or_Area=Zimbabwe<br>Year=2003<br>GDP_Per_Capita(USD)=%{x}<br>Mortality_Rate(%)=%{y}<br>Population(mn)=%{marker.size}",
           "legendgroup": "Country_or_Area=Zimbabwe",
           "marker": {
            "color": "#ab63fa",
            "size": [
             12.633897
            ],
            "sizemode": "area",
            "sizeref": 0.05687629546666667,
            "symbol": "circle"
           },
           "mode": "markers",
           "name": "Country_or_Area=Zimbabwe",
           "showlegend": true,
           "type": "scatter",
           "x": [
            530.746768
           ],
           "xaxis": "x",
           "y": [
            9.82
           ],
           "yaxis": "y"
          },
          {
           "hoverlabel": {
            "namelength": 0
           },
           "hovertemplate": "Country_or_Area=Namibia<br>Year=2003<br>GDP_Per_Capita(USD)=%{x}<br>Mortality_Rate(%)=%{y}<br>Population(mn)=%{marker.size}",
           "legendgroup": "Country_or_Area=Namibia",
           "marker": {
            "color": "#FFA15A",
            "size": [
             1.986535
            ],
            "sizemode": "area",
            "sizeref": 0.05687629546666667,
            "symbol": "circle"
           },
           "mode": "markers",
           "name": "Country_or_Area=Namibia",
           "showlegend": true,
           "type": "scatter",
           "x": [
            2422.289439
           ],
           "xaxis": "x",
           "y": [
            7.53
           ],
           "yaxis": "y"
          },
          {
           "hoverlabel": {
            "namelength": 0
           },
           "hovertemplate": "Country_or_Area=Nigeria<br>Year=2003<br>GDP_Per_Capita(USD)=%{x}<br>Mortality_Rate(%)=%{y}<br>Population(mn)=%{marker.size}",
           "legendgroup": "Country_or_Area=Nigeria",
           "marker": {
            "color": "#19d3f3",
            "size": [
             131.972533
            ],
            "sizemode": "area",
            "sizeref": 0.05687629546666667,
            "symbol": "circle"
           },
           "mode": "markers",
           "name": "Country_or_Area=Nigeria",
           "showlegend": true,
           "type": "scatter",
           "x": [
            824.3733093
           ],
           "xaxis": "x",
           "y": [
            16.99
           ],
           "yaxis": "y"
          },
          {
           "hoverlabel": {
            "namelength": 0
           },
           "hovertemplate": "Country_or_Area=Thailand<br>Year=2003<br>GDP_Per_Capita(USD)=%{x}<br>Mortality_Rate(%)=%{y}<br>Population(mn)=%{marker.size}",
           "legendgroup": "Country_or_Area=Thailand",
           "marker": {
            "color": "#B6E880",
            "size": [
             64.554952
            ],
            "sizemode": "area",
            "sizeref": 0.05687629546666667,
            "symbol": "circle"
           },
           "mode": "markers",
           "name": "Country_or_Area=Thailand",
           "showlegend": true,
           "type": "scatter",
           "x": [
            2358.929682
           ],
           "xaxis": "x",
           "y": [
            2.01
           ],
           "yaxis": "y"
          },
          {
           "hoverlabel": {
            "namelength": 0
           },
           "hovertemplate": "Country_or_Area=Mexico<br>Year=2003<br>GDP_Per_Capita(USD)=%{x}<br>Mortality_Rate(%)=%{y}<br>Population(mn)=%{marker.size}",
           "legendgroup": "Country_or_Area=Mexico",
           "marker": {
            "color": "#FF97FF",
            "size": [
             105.64045300000001
            ],
            "sizemode": "area",
            "sizeref": 0.05687629546666667,
            "symbol": "circle"
           },
           "mode": "markers",
           "name": "Country_or_Area=Mexico",
           "showlegend": true,
           "type": "scatter",
           "x": [
            6903.936923
           ],
           "xaxis": "x",
           "y": [
            2.27
           ],
           "yaxis": "y"
          }
         ],
         "name": "2003"
        },
        {
         "data": [
          {
           "hoverlabel": {
            "namelength": 0
           },
           "hovertemplate": "Country_or_Area=Afghanistan<br>Year=2004<br>GDP_Per_Capita(USD)=%{x}<br>Mortality_Rate(%)=%{y}<br>Population(mn)=%{marker.size}",
           "legendgroup": "Country_or_Area=Afghanistan",
           "marker": {
            "color": "#636efa",
            "size": [
             24.118979
            ],
            "sizemode": "area",
            "sizeref": 0.05687629546666667,
            "symbol": "circle"
           },
           "mode": "markers",
           "name": "Country_or_Area=Afghanistan",
           "showlegend": true,
           "type": "scatter",
           "x": [
            231.6426452
           ],
           "xaxis": "x",
           "y": [
            11.44
           ],
           "yaxis": "y"
          },
          {
           "hoverlabel": {
            "namelength": 0
           },
           "hovertemplate": "Country_or_Area=United States<br>Year=2004<br>GDP_Per_Capita(USD)=%{x}<br>Mortality_Rate(%)=%{y}<br>Population(mn)=%{marker.size}",
           "legendgroup": "Country_or_Area=United States",
           "marker": {
            "color": "#EF553B",
            "size": [
             292.539324
            ],
            "sizemode": "area",
            "sizeref": 0.05687629546666667,
            "symbol": "circle"
           },
           "mode": "markers",
           "name": "Country_or_Area=United States",
           "showlegend": true,
           "type": "scatter",
           "x": [
            41750.72887
           ],
           "xaxis": "x",
           "y": [
            0.81
           ],
           "yaxis": "y"
          },
          {
           "hoverlabel": {
            "namelength": 0
           },
           "hovertemplate": "Country_or_Area=Brazil<br>Year=2004<br>GDP_Per_Capita(USD)=%{x}<br>Mortality_Rate(%)=%{y}<br>Population(mn)=%{marker.size}",
           "legendgroup": "Country_or_Area=Brazil",
           "marker": {
            "color": "#00cc96",
            "size": [
             184.738458
            ],
            "sizemode": "area",
            "sizeref": 0.05687629546666667,
            "symbol": "circle"
           },
           "mode": "markers",
           "name": "Country_or_Area=Brazil",
           "showlegend": true,
           "type": "scatter",
           "x": [
            3622.901962
           ],
           "xaxis": "x",
           "y": [
            2.78
           ],
           "yaxis": "y"
          },
          {
           "hoverlabel": {
            "namelength": 0
           },
           "hovertemplate": "Country_or_Area=Zimbabwe<br>Year=2004<br>GDP_Per_Capita(USD)=%{x}<br>Mortality_Rate(%)=%{y}<br>Population(mn)=%{marker.size}",
           "legendgroup": "Country_or_Area=Zimbabwe",
           "marker": {
            "color": "#ab63fa",
            "size": [
             12.777511
            ],
            "sizemode": "area",
            "sizeref": 0.05687629546666667,
            "symbol": "circle"
           },
           "mode": "markers",
           "name": "Country_or_Area=Zimbabwe",
           "showlegend": true,
           "type": "scatter",
           "x": [
            502.4139678
           ],
           "xaxis": "x",
           "y": [
            9.9
           ],
           "yaxis": "y"
          },
          {
           "hoverlabel": {
            "namelength": 0
           },
           "hovertemplate": "Country_or_Area=Namibia<br>Year=2004<br>GDP_Per_Capita(USD)=%{x}<br>Mortality_Rate(%)=%{y}<br>Population(mn)=%{marker.size}",
           "legendgroup": "Country_or_Area=Namibia",
           "marker": {
            "color": "#FFA15A",
            "size": [
             2.009228
            ],
            "sizemode": "area",
            "sizeref": 0.05687629546666667,
            "symbol": "circle"
           },
           "mode": "markers",
           "name": "Country_or_Area=Namibia",
           "showlegend": true,
           "type": "scatter",
           "x": [
            3225.342907
           ],
           "xaxis": "x",
           "y": [
            7.42
           ],
           "yaxis": "y"
          },
          {
           "hoverlabel": {
            "namelength": 0
           },
           "hovertemplate": "Country_or_Area=Nigeria<br>Year=2004<br>GDP_Per_Capita(USD)=%{x}<br>Mortality_Rate(%)=%{y}<br>Population(mn)=%{marker.size}",
           "legendgroup": "Country_or_Area=Nigeria",
           "marker": {
            "color": "#19d3f3",
            "size": [
             135.39361599999998
            ],
            "sizemode": "area",
            "sizeref": 0.05687629546666667,
            "symbol": "circle"
           },
           "mode": "markers",
           "name": "Country_or_Area=Nigeria",
           "showlegend": true,
           "type": "scatter",
           "x": [
            1043.333232
           ],
           "xaxis": "x",
           "y": [
            16.4
           ],
           "yaxis": "y"
          },
          {
           "hoverlabel": {
            "namelength": 0
           },
           "hovertemplate": "Country_or_Area=Thailand<br>Year=2004<br>GDP_Per_Capita(USD)=%{x}<br>Mortality_Rate(%)=%{y}<br>Population(mn)=%{marker.size}",
           "legendgroup": "Country_or_Area=Thailand",
           "marker": {
            "color": "#B6E880",
            "size": [
             65.00223100000001
            ],
            "sizemode": "area",
            "sizeref": 0.05687629546666667,
            "symbol": "circle"
           },
           "mode": "markers",
           "name": "Country_or_Area=Thailand",
           "showlegend": true,
           "type": "scatter",
           "x": [
            2659.8381219999997
           ],
           "xaxis": "x",
           "y": [
            1.91
           ],
           "yaxis": "y"
          },
          {
           "hoverlabel": {
            "namelength": 0
           },
           "hovertemplate": "Country_or_Area=Mexico<br>Year=2004<br>GDP_Per_Capita(USD)=%{x}<br>Mortality_Rate(%)=%{y}<br>Population(mn)=%{marker.size}",
           "legendgroup": "Country_or_Area=Mexico",
           "marker": {
            "color": "#FF97FF",
            "size": [
             106.99558300000001
            ],
            "sizemode": "area",
            "sizeref": 0.05687629546666667,
            "symbol": "circle"
           },
           "mode": "markers",
           "name": "Country_or_Area=Mexico",
           "showlegend": true,
           "type": "scatter",
           "x": [
            7310.983224
           ],
           "xaxis": "x",
           "y": [
            2.16
           ],
           "yaxis": "y"
          }
         ],
         "name": "2004"
        },
        {
         "data": [
          {
           "hoverlabel": {
            "namelength": 0
           },
           "hovertemplate": "Country_or_Area=Afghanistan<br>Year=2005<br>GDP_Per_Capita(USD)=%{x}<br>Mortality_Rate(%)=%{y}<br>Population(mn)=%{marker.size}",
           "legendgroup": "Country_or_Area=Afghanistan",
           "marker": {
            "color": "#636efa",
            "size": [
             25.070798
            ],
            "sizemode": "area",
            "sizeref": 0.05687629546666667,
            "symbol": "circle"
           },
           "mode": "markers",
           "name": "Country_or_Area=Afghanistan",
           "showlegend": true,
           "type": "scatter",
           "x": [
            264.12537119999996
           ],
           "xaxis": "x",
           "y": [
            11.03
           ],
           "yaxis": "y"
          },
          {
           "hoverlabel": {
            "namelength": 0
           },
           "hovertemplate": "Country_or_Area=United States<br>Year=2005<br>GDP_Per_Capita(USD)=%{x}<br>Mortality_Rate(%)=%{y}<br>Population(mn)=%{marker.size}",
           "legendgroup": "Country_or_Area=United States",
           "marker": {
            "color": "#EF553B",
            "size": [
             295.129501
            ],
            "sizemode": "area",
            "sizeref": 0.05687629546666667,
            "symbol": "circle"
           },
           "mode": "markers",
           "name": "Country_or_Area=United States",
           "showlegend": true,
           "type": "scatter",
           "x": [
            44172.59866
           ],
           "xaxis": "x",
           "y": [
            0.8
           ],
           "yaxis": "y"
          },
          {
           "hoverlabel": {
            "namelength": 0
           },
           "hovertemplate": "Country_or_Area=Brazil<br>Year=2005<br>GDP_Per_Capita(USD)=%{x}<br>Mortality_Rate(%)=%{y}<br>Population(mn)=%{marker.size}",
           "legendgroup": "Country_or_Area=Brazil",
           "marker": {
            "color": "#00cc96",
            "size": [
             186.917361
            ],
            "sizemode": "area",
            "sizeref": 0.05687629546666667,
            "symbol": "circle"
           },
           "mode": "markers",
           "name": "Country_or_Area=Brazil",
           "showlegend": true,
           "type": "scatter",
           "x": [
            4770.203377000001
           ],
           "xaxis": "x",
           "y": [
            2.61
           ],
           "yaxis": "y"
          },
          {
           "hoverlabel": {
            "namelength": 0
           },
           "hovertemplate": "Country_or_Area=Zimbabwe<br>Year=2005<br>GDP_Per_Capita(USD)=%{x}<br>Mortality_Rate(%)=%{y}<br>Population(mn)=%{marker.size}",
           "legendgroup": "Country_or_Area=Zimbabwe",
           "marker": {
            "color": "#ab63fa",
            "size": [
             12.940032
            ],
            "sizemode": "area",
            "sizeref": 0.05687629546666667,
            "symbol": "circle"
           },
           "mode": "markers",
           "name": "Country_or_Area=Zimbabwe",
           "showlegend": true,
           "type": "scatter",
           "x": [
            480.9029839
           ],
           "xaxis": "x",
           "y": [
            9.97
           ],
           "yaxis": "y"
          },
          {
           "hoverlabel": {
            "namelength": 0
           },
           "hovertemplate": "Country_or_Area=Namibia<br>Year=2005<br>GDP_Per_Capita(USD)=%{x}<br>Mortality_Rate(%)=%{y}<br>Population(mn)=%{marker.size}",
           "legendgroup": "Country_or_Area=Namibia",
           "marker": {
            "color": "#FFA15A",
            "size": [
             2.032196
            ],
            "sizemode": "area",
            "sizeref": 0.05687629546666667,
            "symbol": "circle"
           },
           "mode": "markers",
           "name": "Country_or_Area=Namibia",
           "showlegend": true,
           "type": "scatter",
           "x": [
            3504.268396
           ],
           "xaxis": "x",
           "y": [
            7.1
           ],
           "yaxis": "y"
          },
          {
           "hoverlabel": {
            "namelength": 0
           },
           "hovertemplate": "Country_or_Area=Nigeria<br>Year=2005<br>GDP_Per_Capita(USD)=%{x}<br>Mortality_Rate(%)=%{y}<br>Population(mn)=%{marker.size}",
           "legendgroup": "Country_or_Area=Nigeria",
           "marker": {
            "color": "#19d3f3",
            "size": [
             138.939478
            ],
            "sizemode": "area",
            "sizeref": 0.05687629546666667,
            "symbol": "circle"
           },
           "mode": "markers",
           "name": "Country_or_Area=Nigeria",
           "showlegend": true,
           "type": "scatter",
           "x": [
            1299.1412970000001
           ],
           "xaxis": "x",
           "y": [
            15.79
           ],
           "yaxis": "y"
          },
          {
           "hoverlabel": {
            "namelength": 0
           },
           "hovertemplate": "Country_or_Area=Thailand<br>Year=2005<br>GDP_Per_Capita(USD)=%{x}<br>Mortality_Rate(%)=%{y}<br>Population(mn)=%{marker.size}",
           "legendgroup": "Country_or_Area=Thailand",
           "marker": {
            "color": "#B6E880",
            "size": [
             65.42546999999999
            ],
            "sizemode": "area",
            "sizeref": 0.05687629546666667,
            "symbol": "circle"
           },
           "mode": "markers",
           "name": "Country_or_Area=Thailand",
           "showlegend": true,
           "type": "scatter",
           "x": [
            2893.649182
           ],
           "xaxis": "x",
           "y": [
            1.82
           ],
           "yaxis": "y"
          },
          {
           "hoverlabel": {
            "namelength": 0
           },
           "hovertemplate": "Country_or_Area=Mexico<br>Year=2005<br>GDP_Per_Capita(USD)=%{x}<br>Mortality_Rate(%)=%{y}<br>Population(mn)=%{marker.size}",
           "legendgroup": "Country_or_Area=Mexico",
           "marker": {
            "color": "#FF97FF",
            "size": [
             108.472228
            ],
            "sizemode": "area",
            "sizeref": 0.05687629546666667,
            "symbol": "circle"
           },
           "mode": "markers",
           "name": "Country_or_Area=Mexico",
           "showlegend": true,
           "type": "scatter",
           "x": [
            8089.415222
           ],
           "xaxis": "x",
           "y": [
            2.06
           ],
           "yaxis": "y"
          }
         ],
         "name": "2005"
        },
        {
         "data": [
          {
           "hoverlabel": {
            "namelength": 0
           },
           "hovertemplate": "Country_or_Area=Afghanistan<br>Year=2006<br>GDP_Per_Capita(USD)=%{x}<br>Mortality_Rate(%)=%{y}<br>Population(mn)=%{marker.size}",
           "legendgroup": "Country_or_Area=Afghanistan",
           "marker": {
            "color": "#636efa",
            "size": [
             25.89345
            ],
            "sizemode": "area",
            "sizeref": 0.05687629546666667,
            "symbol": "circle"
           },
           "mode": "markers",
           "name": "Country_or_Area=Afghanistan",
           "showlegend": true,
           "type": "scatter",
           "x": [
            290.1993235
           ],
           "xaxis": "x",
           "y": [
            10.63
           ],
           "yaxis": "y"
          },
          {
           "hoverlabel": {
            "namelength": 0
           },
           "hovertemplate": "Country_or_Area=United States<br>Year=2006<br>GDP_Per_Capita(USD)=%{x}<br>Mortality_Rate(%)=%{y}<br>Population(mn)=%{marker.size}",
           "legendgroup": "Country_or_Area=United States",
           "marker": {
            "color": "#EF553B",
            "size": [
             297.827356
            ],
            "sizemode": "area",
            "sizeref": 0.05687629546666667,
            "symbol": "circle"
           },
           "mode": "markers",
           "name": "Country_or_Area=United States",
           "showlegend": true,
           "type": "scatter",
           "x": [
            46384.62089
           ],
           "xaxis": "x",
           "y": [
            0.79
           ],
           "yaxis": "y"
          },
          {
           "hoverlabel": {
            "namelength": 0
           },
           "hovertemplate": "Country_or_Area=Brazil<br>Year=2006<br>GDP_Per_Capita(USD)=%{x}<br>Mortality_Rate(%)=%{y}<br>Population(mn)=%{marker.size}",
           "legendgroup": "Country_or_Area=Brazil",
           "marker": {
            "color": "#00cc96",
            "size": [
             189.012412
            ],
            "sizemode": "area",
            "sizeref": 0.05687629546666667,
            "symbol": "circle"
           },
           "mode": "markers",
           "name": "Country_or_Area=Brazil",
           "showlegend": true,
           "type": "scatter",
           "x": [
            5860.073947999999
           ],
           "xaxis": "x",
           "y": [
            2.45
           ],
           "yaxis": "y"
          },
          {
           "hoverlabel": {
            "namelength": 0
           },
           "hovertemplate": "Country_or_Area=Zimbabwe<br>Year=2006<br>GDP_Per_Capita(USD)=%{x}<br>Mortality_Rate(%)=%{y}<br>Population(mn)=%{marker.size}",
           "legendgroup": "Country_or_Area=Zimbabwe",
           "marker": {
            "color": "#ab63fa",
            "size": [
             13.124267000000001
            ],
            "sizemode": "area",
            "sizeref": 0.05687629546666667,
            "symbol": "circle"
           },
           "mode": "markers",
           "name": "Country_or_Area=Zimbabwe",
           "showlegend": true,
           "type": "scatter",
           "x": [
            539.6821146000001
           ],
           "xaxis": "x",
           "y": [
            10.02
           ],
           "yaxis": "y"
          },
          {
           "hoverlabel": {
            "namelength": 0
           },
           "hovertemplate": "Country_or_Area=Namibia<br>Year=2006<br>GDP_Per_Capita(USD)=%{x}<br>Mortality_Rate(%)=%{y}<br>Population(mn)=%{marker.size}",
           "legendgroup": "Country_or_Area=Namibia",
           "marker": {
            "color": "#FFA15A",
            "size": [
             2.055734
            ],
            "sizemode": "area",
            "sizeref": 0.05687629546666667,
            "symbol": "circle"
           },
           "mode": "markers",
           "name": "Country_or_Area=Namibia",
           "showlegend": true,
           "type": "scatter",
           "x": [
            3811.284308
           ],
           "xaxis": "x",
           "y": [
            6.7
           ],
           "yaxis": "y"
          },
          {
           "hoverlabel": {
            "namelength": 0
           },
           "hovertemplate": "Country_or_Area=Nigeria<br>Year=2006<br>GDP_Per_Capita(USD)=%{x}<br>Mortality_Rate(%)=%{y}<br>Population(mn)=%{marker.size}",
           "legendgroup": "Country_or_Area=Nigeria",
           "marker": {
            "color": "#19d3f3",
            "size": [
             142.614094
            ],
            "sizemode": "area",
            "sizeref": 0.05687629546666667,
            "symbol": "circle"
           },
           "mode": "markers",
           "name": "Country_or_Area=Nigeria",
           "showlegend": true,
           "type": "scatter",
           "x": [
            1639.808566
           ],
           "xaxis": "x",
           "y": [
            15.19
           ],
           "yaxis": "y"
          },
          {
           "hoverlabel": {
            "namelength": 0
           },
           "hovertemplate": "Country_or_Area=Thailand<br>Year=2006<br>GDP_Per_Capita(USD)=%{x}<br>Mortality_Rate(%)=%{y}<br>Population(mn)=%{marker.size}",
           "legendgroup": "Country_or_Area=Thailand",
           "marker": {
            "color": "#B6E880",
            "size": [
             65.824164
            ],
            "sizemode": "area",
            "sizeref": 0.05687629546666667,
            "symbol": "circle"
           },
           "mode": "markers",
           "name": "Country_or_Area=Thailand",
           "showlegend": true,
           "type": "scatter",
           "x": [
            3368.954068
           ],
           "xaxis": "x",
           "y": [
            1.74
           ],
           "yaxis": "y"
          },
          {
           "hoverlabel": {
            "namelength": 0
           },
           "hovertemplate": "Country_or_Area=Mexico<br>Year=2006<br>GDP_Per_Capita(USD)=%{x}<br>Mortality_Rate(%)=%{y}<br>Population(mn)=%{marker.size}",
           "legendgroup": "Country_or_Area=Mexico",
           "marker": {
            "color": "#FF97FF",
            "size": [
             110.092378
            ],
            "sizemode": "area",
            "sizeref": 0.05687629546666667,
            "symbol": "circle"
           },
           "mode": "markers",
           "name": "Country_or_Area=Mexico",
           "showlegend": true,
           "type": "scatter",
           "x": [
            8859.681484
           ],
           "xaxis": "x",
           "y": [
            1.98
           ],
           "yaxis": "y"
          }
         ],
         "name": "2006"
        },
        {
         "data": [
          {
           "hoverlabel": {
            "namelength": 0
           },
           "hovertemplate": "Country_or_Area=Afghanistan<br>Year=2007<br>GDP_Per_Capita(USD)=%{x}<br>Mortality_Rate(%)=%{y}<br>Population(mn)=%{marker.size}",
           "legendgroup": "Country_or_Area=Afghanistan",
           "marker": {
            "color": "#636efa",
            "size": [
             26.616791999999997
            ],
            "sizemode": "area",
            "sizeref": 0.05687629546666667,
            "symbol": "circle"
           },
           "mode": "markers",
           "name": "Country_or_Area=Afghanistan",
           "showlegend": true,
           "type": "scatter",
           "x": [
            389.98558639999993
           ],
           "xaxis": "x",
           "y": [
            10.22
           ],
           "yaxis": "y"
          },
          {
           "hoverlabel": {
            "namelength": 0
           },
           "hovertemplate": "Country_or_Area=United States<br>Year=2007<br>GDP_Per_Capita(USD)=%{x}<br>Mortality_Rate(%)=%{y}<br>Population(mn)=%{marker.size}",
           "legendgroup": "Country_or_Area=United States",
           "marker": {
            "color": "#EF553B",
            "size": [
             300.595175
            ],
            "sizemode": "area",
            "sizeref": 0.05687629546666667,
            "symbol": "circle"
           },
           "mode": "markers",
           "name": "Country_or_Area=United States",
           "showlegend": true,
           "type": "scatter",
           "x": [
            48077.484939999995
           ],
           "xaxis": "x",
           "y": [
            0.78
           ],
           "yaxis": "y"
          },
          {
           "hoverlabel": {
            "namelength": 0
           },
           "hovertemplate": "Country_or_Area=Brazil<br>Year=2007<br>GDP_Per_Capita(USD)=%{x}<br>Mortality_Rate(%)=%{y}<br>Population(mn)=%{marker.size}",
           "legendgroup": "Country_or_Area=Brazil",
           "marker": {
            "color": "#00cc96",
            "size": [
             191.02663700000002
            ],
            "sizemode": "area",
            "sizeref": 0.05687629546666667,
            "symbol": "circle"
           },
           "mode": "markers",
           "name": "Country_or_Area=Brazil",
           "showlegend": true,
           "type": "scatter",
           "x": [
            7313.714303
           ],
           "xaxis": "x",
           "y": [
            2.32
           ],
           "yaxis": "y"
          },
          {
           "hoverlabel": {
            "namelength": 0
           },
           "hovertemplate": "Country_or_Area=Zimbabwe<br>Year=2007<br>GDP_Per_Capita(USD)=%{x}<br>Mortality_Rate(%)=%{y}<br>Population(mn)=%{marker.size}",
           "legendgroup": "Country_or_Area=Zimbabwe",
           "marker": {
            "color": "#ab63fa",
            "size": [
             13.329908999999999
            ],
            "sizemode": "area",
            "sizeref": 0.05687629546666667,
            "symbol": "circle"
           },
           "mode": "markers",
           "name": "Country_or_Area=Zimbabwe",
           "showlegend": true,
           "type": "scatter",
           "x": [
            527.5914617999999
           ],
           "xaxis": "x",
           "y": [
            10
           ],
           "yaxis": "y"
          },
          {
           "hoverlabel": {
            "namelength": 0
           },
           "hovertemplate": "Country_or_Area=Namibia<br>Year=2007<br>GDP_Per_Capita(USD)=%{x}<br>Mortality_Rate(%)=%{y}<br>Population(mn)=%{marker.size}",
           "legendgroup": "Country_or_Area=Namibia",
           "marker": {
            "color": "#FFA15A",
            "size": [
             2.079915
            ],
            "sizemode": "area",
            "sizeref": 0.05687629546666667,
            "symbol": "circle"
           },
           "mode": "markers",
           "name": "Country_or_Area=Namibia",
           "showlegend": true,
           "type": "scatter",
           "x": [
            4202.531843
           ],
           "xaxis": "x",
           "y": [
            6.37
           ],
           "yaxis": "y"
          },
          {
           "hoverlabel": {
            "namelength": 0
           },
           "hovertemplate": "Country_or_Area=Nigeria<br>Year=2007<br>GDP_Per_Capita(USD)=%{x}<br>Mortality_Rate(%)=%{y}<br>Population(mn)=%{marker.size}",
           "legendgroup": "Country_or_Area=Nigeria",
           "marker": {
            "color": "#19d3f3",
            "size": [
             146.417024
            ],
            "sizemode": "area",
            "sizeref": 0.05687629546666667,
            "symbol": "circle"
           },
           "mode": "markers",
           "name": "Country_or_Area=Nigeria",
           "showlegend": true,
           "type": "scatter",
           "x": [
            1828.089882
           ],
           "xaxis": "x",
           "y": [
            14.6
           ],
           "yaxis": "y"
          },
          {
           "hoverlabel": {
            "namelength": 0
           },
           "hovertemplate": "Country_or_Area=Thailand<br>Year=2007<br>GDP_Per_Capita(USD)=%{x}<br>Mortality_Rate(%)=%{y}<br>Population(mn)=%{marker.size}",
           "legendgroup": "Country_or_Area=Thailand",
           "marker": {
            "color": "#B6E880",
            "size": [
             66.195615
            ],
            "sizemode": "area",
            "sizeref": 0.05687629546666667,
            "symbol": "circle"
           },
           "mode": "markers",
           "name": "Country_or_Area=Thailand",
           "showlegend": true,
           "type": "scatter",
           "x": [
            3972.2087090000005
           ],
           "xaxis": "x",
           "y": [
            1.67
           ],
           "yaxis": "y"
          },
          {
           "hoverlabel": {
            "namelength": 0
           },
           "hovertemplate": "Country_or_Area=Mexico<br>Year=2007<br>GDP_Per_Capita(USD)=%{x}<br>Mortality_Rate(%)=%{y}<br>Population(mn)=%{marker.size}",
           "legendgroup": "Country_or_Area=Mexico",
           "marker": {
            "color": "#FF97FF",
            "size": [
             111.83634599999999
            ],
            "sizemode": "area",
            "sizeref": 0.05687629546666667,
            "symbol": "circle"
           },
           "mode": "markers",
           "name": "Country_or_Area=Mexico",
           "showlegend": true,
           "type": "scatter",
           "x": [
            9412.835117
           ],
           "xaxis": "x",
           "y": [
            1.9
           ],
           "yaxis": "y"
          }
         ],
         "name": "2007"
        },
        {
         "data": [
          {
           "hoverlabel": {
            "namelength": 0
           },
           "hovertemplate": "Country_or_Area=Afghanistan<br>Year=2008<br>GDP_Per_Capita(USD)=%{x}<br>Mortality_Rate(%)=%{y}<br>Population(mn)=%{marker.size}",
           "legendgroup": "Country_or_Area=Afghanistan",
           "marker": {
            "color": "#636efa",
            "size": [
             27.294031
            ],
            "sizemode": "area",
            "sizeref": 0.05687629546666667,
            "symbol": "circle"
           },
           "mode": "markers",
           "name": "Country_or_Area=Afghanistan",
           "showlegend": true,
           "type": "scatter",
           "x": [
            394.53610089999995
           ],
           "xaxis": "x",
           "y": [
            9.82
           ],
           "yaxis": "y"
          },
          {
           "hoverlabel": {
            "namelength": 0
           },
           "hovertemplate": "Country_or_Area=United States<br>Year=2008<br>GDP_Per_Capita(USD)=%{x}<br>Mortality_Rate(%)=%{y}<br>Population(mn)=%{marker.size}",
           "legendgroup": "Country_or_Area=United States",
           "marker": {
            "color": "#EF553B",
            "size": [
             303.37406699999997
            ],
            "sizemode": "area",
            "sizeref": 0.05687629546666667,
            "symbol": "circle"
           },
           "mode": "markers",
           "name": "Country_or_Area=United States",
           "showlegend": true,
           "type": "scatter",
           "x": [
            48497.37206
           ],
           "xaxis": "x",
           "y": [
            0.76
           ],
           "yaxis": "y"
          },
          {
           "hoverlabel": {
            "namelength": 0
           },
           "hovertemplate": "Country_or_Area=Brazil<br>Year=2008<br>GDP_Per_Capita(USD)=%{x}<br>Mortality_Rate(%)=%{y}<br>Population(mn)=%{marker.size}",
           "legendgroup": "Country_or_Area=Brazil",
           "marker": {
            "color": "#00cc96",
            "size": [
             192.979029
            ],
            "sizemode": "area",
            "sizeref": 0.05687629546666667,
            "symbol": "circle"
           },
           "mode": "markers",
           "name": "Country_or_Area=Brazil",
           "showlegend": true,
           "type": "scatter",
           "x": [
            8787.770364
           ],
           "xaxis": "x",
           "y": [
            2.19
           ],
           "yaxis": "y"
          },
          {
           "hoverlabel": {
            "namelength": 0
           },
           "hovertemplate": "Country_or_Area=Zimbabwe<br>Year=2008<br>GDP_Per_Capita(USD)=%{x}<br>Mortality_Rate(%)=%{y}<br>Population(mn)=%{marker.size}",
           "legendgroup": "Country_or_Area=Zimbabwe",
           "marker": {
            "color": "#ab63fa",
            "size": [
             13.558469
            ],
            "sizemode": "area",
            "sizeref": 0.05687629546666667,
            "symbol": "circle"
           },
           "mode": "markers",
           "name": "Country_or_Area=Zimbabwe",
           "showlegend": true,
           "type": "scatter",
           "x": [
            475.7577497
           ],
           "xaxis": "x",
           "y": [
            9.8
           ],
           "yaxis": "y"
          },
          {
           "hoverlabel": {
            "namelength": 0
           },
           "hovertemplate": "Country_or_Area=Namibia<br>Year=2008<br>GDP_Per_Capita(USD)=%{x}<br>Mortality_Rate(%)=%{y}<br>Population(mn)=%{marker.size}",
           "legendgroup": "Country_or_Area=Namibia",
           "marker": {
            "color": "#FFA15A",
            "size": [
             2.106375
            ],
            "sizemode": "area",
            "sizeref": 0.05687629546666667,
            "symbol": "circle"
           },
           "mode": "markers",
           "name": "Country_or_Area=Namibia",
           "showlegend": true,
           "type": "scatter",
           "x": [
            4029.0536829999996
           ],
           "xaxis": "x",
           "y": [
            6.09
           ],
           "yaxis": "y"
          },
          {
           "hoverlabel": {
            "namelength": 0
           },
           "hovertemplate": "Country_or_Area=Nigeria<br>Year=2008<br>GDP_Per_Capita(USD)=%{x}<br>Mortality_Rate(%)=%{y}<br>Population(mn)=%{marker.size}",
           "legendgroup": "Country_or_Area=Nigeria",
           "marker": {
            "color": "#19d3f3",
            "size": [
             150.34739
            ],
            "sizemode": "area",
            "sizeref": 0.05687629546666667,
            "symbol": "circle"
           },
           "mode": "markers",
           "name": "Country_or_Area=Nigeria",
           "showlegend": true,
           "type": "scatter",
           "x": [
            2225.382886
           ],
           "xaxis": "x",
           "y": [
            14.03
           ],
           "yaxis": "y"
          },
          {
           "hoverlabel": {
            "namelength": 0
           },
           "hovertemplate": "Country_or_Area=Thailand<br>Year=2008<br>GDP_Per_Capita(USD)=%{x}<br>Mortality_Rate(%)=%{y}<br>Population(mn)=%{marker.size}",
           "legendgroup": "Country_or_Area=Thailand",
           "marker": {
            "color": "#B6E880",
            "size": [
             66.54576
            ],
            "sizemode": "area",
            "sizeref": 0.05687629546666667,
            "symbol": "circle"
           },
           "mode": "markers",
           "name": "Country_or_Area=Thailand",
           "showlegend": true,
           "type": "scatter",
           "x": [
            4378.687322
           ],
           "xaxis": "x",
           "y": [
            1.6
           ],
           "yaxis": "y"
          },
          {
           "hoverlabel": {
            "namelength": 0
           },
           "hovertemplate": "Country_or_Area=Mexico<br>Year=2008<br>GDP_Per_Capita(USD)=%{x}<br>Mortality_Rate(%)=%{y}<br>Population(mn)=%{marker.size}",
           "legendgroup": "Country_or_Area=Mexico",
           "marker": {
            "color": "#FF97FF",
            "size": [
             113.661809
            ],
            "sizemode": "area",
            "sizeref": 0.05687629546666667,
            "symbol": "circle"
           },
           "mode": "markers",
           "name": "Country_or_Area=Mexico",
           "showlegend": true,
           "type": "scatter",
           "x": [
            9765.702404000001
           ],
           "xaxis": "x",
           "y": [
            1.84
           ],
           "yaxis": "y"
          }
         ],
         "name": "2008"
        },
        {
         "data": [
          {
           "hoverlabel": {
            "namelength": 0
           },
           "hovertemplate": "Country_or_Area=Afghanistan<br>Year=2009<br>GDP_Per_Capita(USD)=%{x}<br>Mortality_Rate(%)=%{y}<br>Population(mn)=%{marker.size}",
           "legendgroup": "Country_or_Area=Afghanistan",
           "marker": {
            "color": "#636efa",
            "size": [
             28.004331
            ],
            "sizemode": "area",
            "sizeref": 0.05687629546666667,
            "symbol": "circle"
           },
           "mode": "markers",
           "name": "Country_or_Area=Afghanistan",
           "showlegend": true,
           "type": "scatter",
           "x": [
            448.95191789999996
           ],
           "xaxis": "x",
           "y": [
            9.41
           ],
           "yaxis": "y"
          },
          {
           "hoverlabel": {
            "namelength": 0
           },
           "hovertemplate": "Country_or_Area=United States<br>Year=2009<br>GDP_Per_Capita(USD)=%{x}<br>Mortality_Rate(%)=%{y}<br>Population(mn)=%{marker.size}",
           "legendgroup": "Country_or_Area=United States",
           "marker": {
            "color": "#EF553B",
            "size": [
             306.076362
            ],
            "sizemode": "area",
            "sizeref": 0.05687629546666667,
            "symbol": "circle"
           },
           "mode": "markers",
           "name": "Country_or_Area=United States",
           "showlegend": true,
           "type": "scatter",
           "x": [
            47206.95158
           ],
           "xaxis": "x",
           "y": [
            0.75
           ],
           "yaxis": "y"
          },
          {
           "hoverlabel": {
            "namelength": 0
           },
           "hovertemplate": "Country_or_Area=Brazil<br>Year=2009<br>GDP_Per_Capita(USD)=%{x}<br>Mortality_Rate(%)=%{y}<br>Population(mn)=%{marker.size}",
           "legendgroup": "Country_or_Area=Brazil",
           "marker": {
            "color": "#00cc96",
            "size": [
             194.895996
            ],
            "sizemode": "area",
            "sizeref": 0.05687629546666667,
            "symbol": "circle"
           },
           "mode": "markers",
           "name": "Country_or_Area=Brazil",
           "showlegend": true,
           "type": "scatter",
           "x": [
            8553.260859999999
           ],
           "xaxis": "x",
           "y": [
            2.08
           ],
           "yaxis": "y"
          },
          {
           "hoverlabel": {
            "namelength": 0
           },
           "hovertemplate": "Country_or_Area=Zimbabwe<br>Year=2009<br>GDP_Per_Capita(USD)=%{x}<br>Mortality_Rate(%)=%{y}<br>Population(mn)=%{marker.size}",
           "legendgroup": "Country_or_Area=Zimbabwe",
           "marker": {
            "color": "#ab63fa",
            "size": [
             13.810599
            ],
            "sizemode": "area",
            "sizeref": 0.05687629546666667,
            "symbol": "circle"
           },
           "mode": "markers",
           "name": "Country_or_Area=Zimbabwe",
           "showlegend": true,
           "type": "scatter",
           "x": [
            624.2722425
           ],
           "xaxis": "x",
           "y": [
            9.49
           ],
           "yaxis": "y"
          },
          {
           "hoverlabel": {
            "namelength": 0
           },
           "hovertemplate": "Country_or_Area=Namibia<br>Year=2009<br>GDP_Per_Capita(USD)=%{x}<br>Mortality_Rate(%)=%{y}<br>Population(mn)=%{marker.size}",
           "legendgroup": "Country_or_Area=Namibia",
           "marker": {
            "color": "#FFA15A",
            "size": [
             2.1370400000000003
            ],
            "sizemode": "area",
            "sizeref": 0.05687629546666667,
            "symbol": "circle"
           },
           "mode": "markers",
           "name": "Country_or_Area=Namibia",
           "showlegend": true,
           "type": "scatter",
           "x": [
            4153.5105539999995
           ],
           "xaxis": "x",
           "y": [
            5.86
           ],
           "yaxis": "y"
          },
          {
           "hoverlabel": {
            "namelength": 0
           },
           "hovertemplate": "Country_or_Area=Nigeria<br>Year=2009<br>GDP_Per_Capita(USD)=%{x}<br>Mortality_Rate(%)=%{y}<br>Population(mn)=%{marker.size}",
           "legendgroup": "Country_or_Area=Nigeria",
           "marker": {
            "color": "#19d3f3",
            "size": [
             154.402181
            ],
            "sizemode": "area",
            "sizeref": 0.05687629546666667,
            "symbol": "circle"
           },
           "mode": "markers",
           "name": "Country_or_Area=Nigeria",
           "showlegend": true,
           "type": "scatter",
           "x": [
            1765.10467
           ],
           "xaxis": "x",
           "y": [
            13.48
           ],
           "yaxis": "y"
          },
          {
           "hoverlabel": {
            "namelength": 0
           },
           "hovertemplate": "Country_or_Area=Thailand<br>Year=2009<br>GDP_Per_Capita(USD)=%{x}<br>Mortality_Rate(%)=%{y}<br>Population(mn)=%{marker.size}",
           "legendgroup": "Country_or_Area=Thailand",
           "marker": {
            "color": "#B6E880",
            "size": [
             66.881867
            ],
            "sizemode": "area",
            "sizeref": 0.05687629546666667,
            "symbol": "circle"
           },
           "mode": "markers",
           "name": "Country_or_Area=Thailand",
           "showlegend": true,
           "type": "scatter",
           "x": [
            4212.058081
           ],
           "xaxis": "x",
           "y": [
            1.54
           ],
           "yaxis": "y"
          },
          {
           "hoverlabel": {
            "namelength": 0
           },
           "hovertemplate": "Country_or_Area=Mexico<br>Year=2009<br>GDP_Per_Capita(USD)=%{x}<br>Mortality_Rate(%)=%{y}<br>Population(mn)=%{marker.size}",
           "legendgroup": "Country_or_Area=Mexico",
           "marker": {
            "color": "#FF97FF",
            "size": [
             115.505228
            ],
            "sizemode": "area",
            "sizeref": 0.05687629546666667,
            "symbol": "circle"
           },
           "mode": "markers",
           "name": "Country_or_Area=Mexico",
           "showlegend": true,
           "type": "scatter",
           "x": [
            7792.262145000001
           ],
           "xaxis": "x",
           "y": [
            1.78
           ],
           "yaxis": "y"
          }
         ],
         "name": "2009"
        },
        {
         "data": [
          {
           "hoverlabel": {
            "namelength": 0
           },
           "hovertemplate": "Country_or_Area=Afghanistan<br>Year=2010<br>GDP_Per_Capita(USD)=%{x}<br>Mortality_Rate(%)=%{y}<br>Population(mn)=%{marker.size}",
           "legendgroup": "Country_or_Area=Afghanistan",
           "marker": {
            "color": "#636efa",
            "size": [
             28.803167
            ],
            "sizemode": "area",
            "sizeref": 0.05687629546666667,
            "symbol": "circle"
           },
           "mode": "markers",
           "name": "Country_or_Area=Afghanistan",
           "showlegend": true,
           "type": "scatter",
           "x": [
            558.1997646000001
           ],
           "xaxis": "x",
           "y": [
            9.02
           ],
           "yaxis": "y"
          },
          {
           "hoverlabel": {
            "namelength": 0
           },
           "hovertemplate": "Country_or_Area=United States<br>Year=2010<br>GDP_Per_Capita(USD)=%{x}<br>Mortality_Rate(%)=%{y}<br>Population(mn)=%{marker.size}",
           "legendgroup": "Country_or_Area=United States",
           "marker": {
            "color": "#EF553B",
            "size": [
             308.641391
            ],
            "sizemode": "area",
            "sizeref": 0.05687629546666667,
            "symbol": "circle"
           },
           "mode": "markers",
           "name": "Country_or_Area=United States",
           "showlegend": true,
           "type": "scatter",
           "x": [
            48574.34044
           ],
           "xaxis": "x",
           "y": [
            0.73
           ],
           "yaxis": "y"
          },
          {
           "hoverlabel": {
            "namelength": 0
           },
           "hovertemplate": "Country_or_Area=Brazil<br>Year=2010<br>GDP_Per_Capita(USD)=%{x}<br>Mortality_Rate(%)=%{y}<br>Population(mn)=%{marker.size}",
           "legendgroup": "Country_or_Area=Brazil",
           "marker": {
            "color": "#00cc96",
            "size": [
             196.796269
            ],
            "sizemode": "area",
            "sizeref": 0.05687629546666667,
            "symbol": "circle"
           },
           "mode": "markers",
           "name": "Country_or_Area=Brazil",
           "showlegend": true,
           "type": "scatter",
           "x": [
            11223.98367
           ],
           "xaxis": "x",
           "y": [
            1.98
           ],
           "yaxis": "y"
          },
          {
           "hoverlabel": {
            "namelength": 0
           },
           "hovertemplate": "Country_or_Area=Zimbabwe<br>Year=2010<br>GDP_Per_Capita(USD)=%{x}<br>Mortality_Rate(%)=%{y}<br>Population(mn)=%{marker.size}",
           "legendgroup": "Country_or_Area=Zimbabwe",
           "marker": {
            "color": "#ab63fa",
            "size": [
             14.086317000000001
            ],
            "sizemode": "area",
            "sizeref": 0.05687629546666667,
            "symbol": "circle"
           },
           "mode": "markers",
           "name": "Country_or_Area=Zimbabwe",
           "showlegend": true,
           "type": "scatter",
           "x": [
            719.979517
           ],
           "xaxis": "x",
           "y": [
            8.99
           ],
           "yaxis": "y"
          },
          {
           "hoverlabel": {
            "namelength": 0
           },
           "hovertemplate": "Country_or_Area=Namibia<br>Year=2010<br>GDP_Per_Capita(USD)=%{x}<br>Mortality_Rate(%)=%{y}<br>Population(mn)=%{marker.size}",
           "legendgroup": "Country_or_Area=Namibia",
           "marker": {
            "color": "#FFA15A",
            "size": [
             2.1731700000000003
            ],
            "sizemode": "area",
            "sizeref": 0.05687629546666667,
            "symbol": "circle"
           },
           "mode": "markers",
           "name": "Country_or_Area=Namibia",
           "showlegend": true,
           "type": "scatter",
           "x": [
            5191.567506
           ],
           "xaxis": "x",
           "y": [
            5.6
           ],
           "yaxis": "y"
          },
          {
           "hoverlabel": {
            "namelength": 0
           },
           "hovertemplate": "Country_or_Area=Nigeria<br>Year=2010<br>GDP_Per_Capita(USD)=%{x}<br>Mortality_Rate(%)=%{y}<br>Population(mn)=%{marker.size}",
           "legendgroup": "Country_or_Area=Nigeria",
           "marker": {
            "color": "#19d3f3",
            "size": [
             158.578261
            ],
            "sizemode": "area",
            "sizeref": 0.05687629546666667,
            "symbol": "circle"
           },
           "mode": "markers",
           "name": "Country_or_Area=Nigeria",
           "showlegend": true,
           "type": "scatter",
           "x": [
            2327.320283
           ],
           "xaxis": "x",
           "y": [
            12.96
           ],
           "yaxis": "y"
          },
          {
           "hoverlabel": {
            "namelength": 0
           },
           "hovertemplate": "Country_or_Area=Thailand<br>Year=2010<br>GDP_Per_Capita(USD)=%{x}<br>Mortality_Rate(%)=%{y}<br>Population(mn)=%{marker.size}",
           "legendgroup": "Country_or_Area=Thailand",
           "marker": {
            "color": "#B6E880",
            "size": [
             67.20880799999999
            ],
            "sizemode": "area",
            "sizeref": 0.05687629546666667,
            "symbol": "circle"
           },
           "mode": "markers",
           "name": "Country_or_Area=Thailand",
           "showlegend": true,
           "type": "scatter",
           "x": [
            5075.301375999999
           ],
           "xaxis": "x",
           "y": [
            1.49
           ],
           "yaxis": "y"
          },
          {
           "hoverlabel": {
            "namelength": 0
           },
           "hovertemplate": "Country_or_Area=Mexico<br>Year=2010<br>GDP_Per_Capita(USD)=%{x}<br>Mortality_Rate(%)=%{y}<br>Population(mn)=%{marker.size}",
           "legendgroup": "Country_or_Area=Mexico",
           "marker": {
            "color": "#FF97FF",
            "size": [
             117.318941
            ],
            "sizemode": "area",
            "sizeref": 0.05687629546666667,
            "symbol": "circle"
           },
           "mode": "markers",
           "name": "Country_or_Area=Mexico",
           "showlegend": true,
           "type": "scatter",
           "x": [
            9016.451981
           ],
           "xaxis": "x",
           "y": [
            1.73
           ],
           "yaxis": "y"
          }
         ],
         "name": "2010"
        },
        {
         "data": [
          {
           "hoverlabel": {
            "namelength": 0
           },
           "hovertemplate": "Country_or_Area=Afghanistan<br>Year=2011<br>GDP_Per_Capita(USD)=%{x}<br>Mortality_Rate(%)=%{y}<br>Population(mn)=%{marker.size}",
           "legendgroup": "Country_or_Area=Afghanistan",
           "marker": {
            "color": "#636efa",
            "size": [
             29.708599
            ],
            "sizemode": "area",
            "sizeref": 0.05687629546666667,
            "symbol": "circle"
           },
           "mode": "markers",
           "name": "Country_or_Area=Afghanistan",
           "showlegend": true,
           "type": "scatter",
           "x": [
            645.2834634999999
           ],
           "xaxis": "x",
           "y": [
            8.64
           ],
           "yaxis": "y"
          },
          {
           "hoverlabel": {
            "namelength": 0
           },
           "hovertemplate": "Country_or_Area=United States<br>Year=2011<br>GDP_Per_Capita(USD)=%{x}<br>Mortality_Rate(%)=%{y}<br>Population(mn)=%{marker.size}",
           "legendgroup": "Country_or_Area=United States",
           "marker": {
            "color": "#EF553B",
            "size": [
             311.051373
            ],
            "sizemode": "area",
            "sizeref": 0.05687629546666667,
            "symbol": "circle"
           },
           "mode": "markers",
           "name": "Country_or_Area=United States",
           "showlegend": true,
           "type": "scatter",
           "x": [
            49967.89389
           ],
           "xaxis": "x",
           "y": [
            0.72
           ],
           "yaxis": "y"
          },
          {
           "hoverlabel": {
            "namelength": 0
           },
           "hovertemplate": "Country_or_Area=Brazil<br>Year=2011<br>GDP_Per_Capita(USD)=%{x}<br>Mortality_Rate(%)=%{y}<br>Population(mn)=%{marker.size}",
           "legendgroup": "Country_or_Area=Brazil",
           "marker": {
            "color": "#00cc96",
            "size": [
             198.68668799999998
            ],
            "sizemode": "area",
            "sizeref": 0.05687629546666667,
            "symbol": "circle"
           },
           "mode": "markers",
           "name": "Country_or_Area=Brazil",
           "showlegend": true,
           "type": "scatter",
           "x": [
            13167.24655
           ],
           "xaxis": "x",
           "y": [
            1.89
           ],
           "yaxis": "y"
          },
          {
           "hoverlabel": {
            "namelength": 0
           },
           "hovertemplate": "Country_or_Area=Zimbabwe<br>Year=2011<br>GDP_Per_Capita(USD)=%{x}<br>Mortality_Rate(%)=%{y}<br>Population(mn)=%{marker.size}",
           "legendgroup": "Country_or_Area=Zimbabwe",
           "marker": {
            "color": "#ab63fa",
            "size": [
             14.386648999999998
            ],
            "sizemode": "area",
            "sizeref": 0.05687629546666667,
            "symbol": "circle"
           },
           "mode": "markers",
           "name": "Country_or_Area=Zimbabwe",
           "showlegend": true,
           "type": "scatter",
           "x": [
            840.9498799
           ],
           "xaxis": "x",
           "y": [
            8.38
           ],
           "yaxis": "y"
          },
          {
           "hoverlabel": {
            "namelength": 0
           },
           "hovertemplate": "Country_or_Area=Namibia<br>Year=2011<br>GDP_Per_Capita(USD)=%{x}<br>Mortality_Rate(%)=%{y}<br>Population(mn)=%{marker.size}",
           "legendgroup": "Country_or_Area=Namibia",
           "marker": {
            "color": "#FFA15A",
            "size": [
             2.215621
            ],
            "sizemode": "area",
            "sizeref": 0.05687629546666667,
            "symbol": "circle"
           },
           "mode": "markers",
           "name": "Country_or_Area=Namibia",
           "showlegend": true,
           "type": "scatter",
           "x": [
            5600.946603
           ],
           "xaxis": "x",
           "y": [
            5.4
           ],
           "yaxis": "y"
          },
          {
           "hoverlabel": {
            "namelength": 0
           },
           "hovertemplate": "Country_or_Area=Nigeria<br>Year=2011<br>GDP_Per_Capita(USD)=%{x}<br>Mortality_Rate(%)=%{y}<br>Population(mn)=%{marker.size}",
           "legendgroup": "Country_or_Area=Nigeria",
           "marker": {
            "color": "#19d3f3",
            "size": [
             162.877076
            ],
            "sizemode": "area",
            "sizeref": 0.05687629546666667,
            "symbol": "circle"
           },
           "mode": "markers",
           "name": "Country_or_Area=Nigeria",
           "showlegend": true,
           "type": "scatter",
           "x": [
            2542.378883
           ],
           "xaxis": "x",
           "y": [
            12.46
           ],
           "yaxis": "y"
          },
          {
           "hoverlabel": {
            "namelength": 0
           },
           "hovertemplate": "Country_or_Area=Thailand<br>Year=2011<br>GDP_Per_Capita(USD)=%{x}<br>Mortality_Rate(%)=%{y}<br>Population(mn)=%{marker.size}",
           "legendgroup": "Country_or_Area=Thailand",
           "marker": {
            "color": "#B6E880",
            "size": [
             67.53013
            ],
            "sizemode": "area",
            "sizeref": 0.05687629546666667,
            "symbol": "circle"
           },
           "mode": "markers",
           "name": "Country_or_Area=Thailand",
           "showlegend": true,
           "type": "scatter",
           "x": [
            5491.153979
           ],
           "xaxis": "x",
           "y": [
            1.44
           ],
           "yaxis": "y"
          },
          {
           "hoverlabel": {
            "namelength": 0
           },
           "hovertemplate": "Country_or_Area=Mexico<br>Year=2011<br>GDP_Per_Capita(USD)=%{x}<br>Mortality_Rate(%)=%{y}<br>Population(mn)=%{marker.size}",
           "legendgroup": "Country_or_Area=Mexico",
           "marker": {
            "color": "#FF97FF",
            "size": [
             119.09001699999999
            ],
            "sizemode": "area",
            "sizeref": 0.05687629546666667,
            "symbol": "circle"
           },
           "mode": "markers",
           "name": "Country_or_Area=Mexico",
           "showlegend": true,
           "type": "scatter",
           "x": [
            9912.562414
           ],
           "xaxis": "x",
           "y": [
            1.68
           ],
           "yaxis": "y"
          }
         ],
         "name": "2011"
        },
        {
         "data": [
          {
           "hoverlabel": {
            "namelength": 0
           },
           "hovertemplate": "Country_or_Area=Afghanistan<br>Year=2012<br>GDP_Per_Capita(USD)=%{x}<br>Mortality_Rate(%)=%{y}<br>Population(mn)=%{marker.size}",
           "legendgroup": "Country_or_Area=Afghanistan",
           "marker": {
            "color": "#636efa",
            "size": [
             30.696958000000002
            ],
            "sizemode": "area",
            "sizeref": 0.05687629546666667,
            "symbol": "circle"
           },
           "mode": "markers",
           "name": "Country_or_Area=Afghanistan",
           "showlegend": true,
           "type": "scatter",
           "x": [
            694.8856184
           ],
           "xaxis": "x",
           "y": [
            8.28
           ],
           "yaxis": "y"
          },
          {
           "hoverlabel": {
            "namelength": 0
           },
           "hovertemplate": "Country_or_Area=United States<br>Year=2012<br>GDP_Per_Capita(USD)=%{x}<br>Mortality_Rate(%)=%{y}<br>Population(mn)=%{marker.size}",
           "legendgroup": "Country_or_Area=United States",
           "marker": {
            "color": "#EF553B",
            "size": [
             313.335423
            ],
            "sizemode": "area",
            "sizeref": 0.05687629546666667,
            "symbol": "circle"
           },
           "mode": "markers",
           "name": "Country_or_Area=United States",
           "showlegend": true,
           "type": "scatter",
           "x": [
            51692.230789999994
           ],
           "xaxis": "x",
           "y": [
            0.7
           ],
           "yaxis": "y"
          },
          {
           "hoverlabel": {
            "namelength": 0
           },
           "hovertemplate": "Country_or_Area=Brazil<br>Year=2012<br>GDP_Per_Capita(USD)=%{x}<br>Mortality_Rate(%)=%{y}<br>Population(mn)=%{marker.size}",
           "legendgroup": "Country_or_Area=Brazil",
           "marker": {
            "color": "#00cc96",
            "size": [
             200.56098300000002
            ],
            "sizemode": "area",
            "sizeref": 0.05687629546666667,
            "symbol": "circle"
           },
           "mode": "markers",
           "name": "Country_or_Area=Brazil",
           "showlegend": true,
           "type": "scatter",
           "x": [
            12291.6644
           ],
           "xaxis": "x",
           "y": [
            1.8
           ],
           "yaxis": "y"
          },
          {
           "hoverlabel": {
            "namelength": 0
           },
           "hovertemplate": "Country_or_Area=Zimbabwe<br>Year=2012<br>GDP_Per_Capita(USD)=%{x}<br>Mortality_Rate(%)=%{y}<br>Population(mn)=%{marker.size}",
           "legendgroup": "Country_or_Area=Zimbabwe",
           "marker": {
            "color": "#ab63fa",
            "size": [
             14.710826
            ],
            "sizemode": "area",
            "sizeref": 0.05687629546666667,
            "symbol": "circle"
           },
           "mode": "markers",
           "name": "Country_or_Area=Zimbabwe",
           "showlegend": true,
           "type": "scatter",
           "x": [
            968.1638714
           ],
           "xaxis": "x",
           "y": [
            7.6
           ],
           "yaxis": "y"
          },
          {
           "hoverlabel": {
            "namelength": 0
           },
           "hovertemplate": "Country_or_Area=Namibia<br>Year=2012<br>GDP_Per_Capita(USD)=%{x}<br>Mortality_Rate(%)=%{y}<br>Population(mn)=%{marker.size}",
           "legendgroup": "Country_or_Area=Namibia",
           "marker": {
            "color": "#FFA15A",
            "size": [
             2.263934
            ],
            "sizemode": "area",
            "sizeref": 0.05687629546666667,
            "symbol": "circle"
           },
           "mode": "markers",
           "name": "Country_or_Area=Namibia",
           "showlegend": true,
           "type": "scatter",
           "x": [
            5749.373331000001
           ],
           "xaxis": "x",
           "y": [
            5.34
           ],
           "yaxis": "y"
          },
          {
           "hoverlabel": {
            "namelength": 0
           },
           "hovertemplate": "Country_or_Area=Nigeria<br>Year=2012<br>GDP_Per_Capita(USD)=%{x}<br>Mortality_Rate(%)=%{y}<br>Population(mn)=%{marker.size}",
           "legendgroup": "Country_or_Area=Nigeria",
           "marker": {
            "color": "#19d3f3",
            "size": [
             167.29728400000002
            ],
            "sizemode": "area",
            "sizeref": 0.05687629546666667,
            "symbol": "circle"
           },
           "mode": "markers",
           "name": "Country_or_Area=Nigeria",
           "showlegend": true,
           "type": "scatter",
           "x": [
            2755.28509
           ],
           "xaxis": "x",
           "y": [
            12
           ],
           "yaxis": "y"
          },
          {
           "hoverlabel": {
            "namelength": 0
           },
           "hovertemplate": "Country_or_Area=Thailand<br>Year=2012<br>GDP_Per_Capita(USD)=%{x}<br>Mortality_Rate(%)=%{y}<br>Population(mn)=%{marker.size}",
           "legendgroup": "Country_or_Area=Thailand",
           "marker": {
            "color": "#B6E880",
            "size": [
             67.843979
            ],
            "sizemode": "area",
            "sizeref": 0.05687629546666667,
            "symbol": "circle"
           },
           "mode": "markers",
           "name": "Country_or_Area=Thailand",
           "showlegend": true,
           "type": "scatter",
           "x": [
            5859.889215
           ],
           "xaxis": "x",
           "y": [
            1.39
           ],
           "yaxis": "y"
          },
          {
           "hoverlabel": {
            "namelength": 0
           },
           "hovertemplate": "Country_or_Area=Mexico<br>Year=2012<br>GDP_Per_Capita(USD)=%{x}<br>Mortality_Rate(%)=%{y}<br>Population(mn)=%{marker.size}",
           "legendgroup": "Country_or_Area=Mexico",
           "marker": {
            "color": "#FF97FF",
            "size": [
             120.82830700000001
            ],
            "sizemode": "area",
            "sizeref": 0.05687629546666667,
            "symbol": "circle"
           },
           "mode": "markers",
           "name": "Country_or_Area=Mexico",
           "showlegend": true,
           "type": "scatter",
           "x": [
            9940.500012
           ],
           "xaxis": "x",
           "y": [
            1.63
           ],
           "yaxis": "y"
          }
         ],
         "name": "2012"
        },
        {
         "data": [
          {
           "hoverlabel": {
            "namelength": 0
           },
           "hovertemplate": "Country_or_Area=Afghanistan<br>Year=2013<br>GDP_Per_Capita(USD)=%{x}<br>Mortality_Rate(%)=%{y}<br>Population(mn)=%{marker.size}",
           "legendgroup": "Country_or_Area=Afghanistan",
           "marker": {
            "color": "#636efa",
            "size": [
             31.731688000000002
            ],
            "sizemode": "area",
            "sizeref": 0.05687629546666667,
            "symbol": "circle"
           },
           "mode": "markers",
           "name": "Country_or_Area=Afghanistan",
           "showlegend": true,
           "type": "scatter",
           "x": [
            681.0342147999999
           ],
           "xaxis": "x",
           "y": [
            7.93
           ],
           "yaxis": "y"
          },
          {
           "hoverlabel": {
            "namelength": 0
           },
           "hovertemplate": "Country_or_Area=United States<br>Year=2013<br>GDP_Per_Capita(USD)=%{x}<br>Mortality_Rate(%)=%{y}<br>Population(mn)=%{marker.size}",
           "legendgroup": "Country_or_Area=United States",
           "marker": {
            "color": "#EF553B",
            "size": [
             315.536676
            ],
            "sizemode": "area",
            "sizeref": 0.05687629546666667,
            "symbol": "circle"
           },
           "mode": "markers",
           "name": "Country_or_Area=United States",
           "showlegend": true,
           "type": "scatter",
           "x": [
            53194.61184
           ],
           "xaxis": "x",
           "y": [
            0.69
           ],
           "yaxis": "y"
          },
          {
           "hoverlabel": {
            "namelength": 0
           },
           "hovertemplate": "Country_or_Area=Brazil<br>Year=2013<br>GDP_Per_Capita(USD)=%{x}<br>Mortality_Rate(%)=%{y}<br>Population(mn)=%{marker.size}",
           "legendgroup": "Country_or_Area=Brazil",
           "marker": {
            "color": "#00cc96",
            "size": [
             202.408632
            ],
            "sizemode": "area",
            "sizeref": 0.05687629546666667,
            "symbol": "circle"
           },
           "mode": "markers",
           "name": "Country_or_Area=Brazil",
           "showlegend": true,
           "type": "scatter",
           "x": [
            12216.96594
           ],
           "xaxis": "x",
           "y": [
            1.72
           ],
           "yaxis": "y"
          },
          {
           "hoverlabel": {
            "namelength": 0
           },
           "hovertemplate": "Country_or_Area=Zimbabwe<br>Year=2013<br>GDP_Per_Capita(USD)=%{x}<br>Mortality_Rate(%)=%{y}<br>Population(mn)=%{marker.size}",
           "legendgroup": "Country_or_Area=Zimbabwe",
           "marker": {
            "color": "#ab63fa",
            "size": [
             15.054506
            ],
            "sizemode": "area",
            "sizeref": 0.05687629546666667,
            "symbol": "circle"
           },
           "mode": "markers",
           "name": "Country_or_Area=Zimbabwe",
           "showlegend": true,
           "type": "scatter",
           "x": [
            1026.388289
           ],
           "xaxis": "x",
           "y": [
            7
           ],
           "yaxis": "y"
          },
          {
           "hoverlabel": {
            "namelength": 0
           },
           "hovertemplate": "Country_or_Area=Namibia<br>Year=2013<br>GDP_Per_Capita(USD)=%{x}<br>Mortality_Rate(%)=%{y}<br>Population(mn)=%{marker.size}",
           "legendgroup": "Country_or_Area=Namibia",
           "marker": {
            "color": "#FFA15A",
            "size": [
             2.31652
            ],
            "sizemode": "area",
            "sizeref": 0.05687629546666667,
            "symbol": "circle"
           },
           "mode": "markers",
           "name": "Country_or_Area=Namibia",
           "showlegend": true,
           "type": "scatter",
           "x": [
            5490.05793
           ],
           "xaxis": "x",
           "y": [
            5.06
           ],
           "yaxis": "y"
          },
          {
           "hoverlabel": {
            "namelength": 0
           },
           "hovertemplate": "Country_or_Area=Nigeria<br>Year=2013<br>GDP_Per_Capita(USD)=%{x}<br>Mortality_Rate(%)=%{y}<br>Population(mn)=%{marker.size}",
           "legendgroup": "Country_or_Area=Nigeria",
           "marker": {
            "color": "#19d3f3",
            "size": [
             171.829303
            ],
            "sizemode": "area",
            "sizeref": 0.05687629546666667,
            "symbol": "circle"
           },
           "mode": "markers",
           "name": "Country_or_Area=Nigeria",
           "showlegend": true,
           "type": "scatter",
           "x": [
            2996.963827
           ],
           "xaxis": "x",
           "y": [
            11.56
           ],
           "yaxis": "y"
          },
          {
           "hoverlabel": {
            "namelength": 0
           },
           "hovertemplate": "Country_or_Area=Thailand<br>Year=2013<br>GDP_Per_Capita(USD)=%{x}<br>Mortality_Rate(%)=%{y}<br>Population(mn)=%{marker.size}",
           "legendgroup": "Country_or_Area=Thailand",
           "marker": {
            "color": "#B6E880",
            "size": [
             68.143065
            ],
            "sizemode": "area",
            "sizeref": 0.05687629546666667,
            "symbol": "circle"
           },
           "mode": "markers",
           "name": "Country_or_Area=Thailand",
           "showlegend": true,
           "type": "scatter",
           "x": [
            6168.401573
           ],
           "xaxis": "x",
           "y": [
            1.34
           ],
           "yaxis": "y"
          },
          {
           "hoverlabel": {
            "namelength": 0
           },
           "hovertemplate": "Country_or_Area=Mexico<br>Year=2013<br>GDP_Per_Capita(USD)=%{x}<br>Mortality_Rate(%)=%{y}<br>Population(mn)=%{marker.size}",
           "legendgroup": "Country_or_Area=Mexico",
           "marker": {
            "color": "#FF97FF",
            "size": [
             122.535969
            ],
            "sizemode": "area",
            "sizeref": 0.05687629546666667,
            "symbol": "circle"
           },
           "mode": "markers",
           "name": "Country_or_Area=Mexico",
           "showlegend": true,
           "type": "scatter",
           "x": [
            10400.569940000001
           ],
           "xaxis": "x",
           "y": [
            1.59
           ],
           "yaxis": "y"
          }
         ],
         "name": "2013"
        },
        {
         "data": [
          {
           "hoverlabel": {
            "namelength": 0
           },
           "hovertemplate": "Country_or_Area=Afghanistan<br>Year=2014<br>GDP_Per_Capita(USD)=%{x}<br>Mortality_Rate(%)=%{y}<br>Population(mn)=%{marker.size}",
           "legendgroup": "Country_or_Area=Afghanistan",
           "marker": {
            "color": "#636efa",
            "size": [
             32.75802
            ],
            "sizemode": "area",
            "sizeref": 0.05687629546666667,
            "symbol": "circle"
           },
           "mode": "markers",
           "name": "Country_or_Area=Afghanistan",
           "showlegend": true,
           "type": "scatter",
           "x": [
            651.1584256
           ],
           "xaxis": "x",
           "y": [
            7.61
           ],
           "yaxis": "y"
          },
          {
           "hoverlabel": {
            "namelength": 0
           },
           "hovertemplate": "Country_or_Area=United States<br>Year=2014<br>GDP_Per_Capita(USD)=%{x}<br>Mortality_Rate(%)=%{y}<br>Population(mn)=%{marker.size}",
           "legendgroup": "Country_or_Area=United States",
           "marker": {
            "color": "#EF553B",
            "size": [
             317.718779
            ],
            "sizemode": "area",
            "sizeref": 0.05687629546666667,
            "symbol": "circle"
           },
           "mode": "markers",
           "name": "Country_or_Area=United States",
           "showlegend": true,
           "type": "scatter",
           "x": [
            55148.6036
           ],
           "xaxis": "x",
           "y": [
            0.68
           ],
           "yaxis": "y"
          },
          {
           "hoverlabel": {
            "namelength": 0
           },
           "hovertemplate": "Country_or_Area=Brazil<br>Year=2014<br>GDP_Per_Capita(USD)=%{x}<br>Mortality_Rate(%)=%{y}<br>Population(mn)=%{marker.size}",
           "legendgroup": "Country_or_Area=Brazil",
           "marker": {
            "color": "#00cc96",
            "size": [
             204.213133
            ],
            "sizemode": "area",
            "sizeref": 0.05687629546666667,
            "symbol": "circle"
           },
           "mode": "markers",
           "name": "Country_or_Area=Brazil",
           "showlegend": true,
           "type": "scatter",
           "x": [
            12026.86492
           ],
           "xaxis": "x",
           "y": [
            1.64
           ],
           "yaxis": "y"
          },
          {
           "hoverlabel": {
            "namelength": 0
           },
           "hovertemplate": "Country_or_Area=Zimbabwe<br>Year=2014<br>GDP_Per_Capita(USD)=%{x}<br>Mortality_Rate(%)=%{y}<br>Population(mn)=%{marker.size}",
           "legendgroup": "Country_or_Area=Zimbabwe",
           "marker": {
            "color": "#ab63fa",
            "size": [
             15.411675
            ],
            "sizemode": "area",
            "sizeref": 0.05687629546666667,
            "symbol": "circle"
           },
           "mode": "markers",
           "name": "Country_or_Area=Zimbabwe",
           "showlegend": true,
           "type": "scatter",
           "x": [
            1031.104616
           ],
           "xaxis": "x",
           "y": [
            6.43
           ],
           "yaxis": "y"
          },
          {
           "hoverlabel": {
            "namelength": 0
           },
           "hovertemplate": "Country_or_Area=Namibia<br>Year=2014<br>GDP_Per_Capita(USD)=%{x}<br>Mortality_Rate(%)=%{y}<br>Population(mn)=%{marker.size}",
           "legendgroup": "Country_or_Area=Namibia",
           "marker": {
            "color": "#FFA15A",
            "size": [
             2.3709919999999998
            ],
            "sizemode": "area",
            "sizeref": 0.05687629546666667,
            "symbol": "circle"
           },
           "mode": "markers",
           "name": "Country_or_Area=Namibia",
           "showlegend": true,
           "type": "scatter",
           "x": [
            5392.734738
           ],
           "xaxis": "x",
           "y": [
            4.84
           ],
           "yaxis": "y"
          },
          {
           "hoverlabel": {
            "namelength": 0
           },
           "hovertemplate": "Country_or_Area=Nigeria<br>Year=2014<br>GDP_Per_Capita(USD)=%{x}<br>Mortality_Rate(%)=%{y}<br>Population(mn)=%{marker.size}",
           "legendgroup": "Country_or_Area=Nigeria",
           "marker": {
            "color": "#19d3f3",
            "size": [
             176.460502
            ],
            "sizemode": "area",
            "sizeref": 0.05687629546666667,
            "symbol": "circle"
           },
           "mode": "markers",
           "name": "Country_or_Area=Nigeria",
           "showlegend": true,
           "type": "scatter",
           "x": [
            3221.6772690000003
           ],
           "xaxis": "x",
           "y": [
            11.16
           ],
           "yaxis": "y"
          },
          {
           "hoverlabel": {
            "namelength": 0
           },
           "hovertemplate": "Country_or_Area=Somalia<br>Year=2014<br>GDP_Per_Capita(USD)=%{x}<br>Mortality_Rate(%)=%{y}<br>Population(mn)=%{marker.size}",
           "legendgroup": "Country_or_Area=Somalia",
           "marker": {
            "color": "#FF6692",
            "size": [
             13.513125
            ],
            "sizemode": "area",
            "sizeref": 0.05687629546666667,
            "symbol": "circle"
           },
           "mode": "markers",
           "name": "Country_or_Area=Somalia",
           "showlegend": true,
           "type": "scatter",
           "x": [
            122.1838627
           ],
           "xaxis": "x",
           "y": [
            14.07
           ],
           "yaxis": "y"
          },
          {
           "hoverlabel": {
            "namelength": 0
           },
           "hovertemplate": "Country_or_Area=Thailand<br>Year=2014<br>GDP_Per_Capita(USD)=%{x}<br>Mortality_Rate(%)=%{y}<br>Population(mn)=%{marker.size}",
           "legendgroup": "Country_or_Area=Thailand",
           "marker": {
            "color": "#B6E880",
            "size": [
             68.416772
            ],
            "sizemode": "area",
            "sizeref": 0.05687629546666667,
            "symbol": "circle"
           },
           "mode": "markers",
           "name": "Country_or_Area=Thailand",
           "showlegend": true,
           "type": "scatter",
           "x": [
            5953.787818
           ],
           "xaxis": "x",
           "y": [
            1.3
           ],
           "yaxis": "y"
          },
          {
           "hoverlabel": {
            "namelength": 0
           },
           "hovertemplate": "Country_or_Area=Mexico<br>Year=2014<br>GDP_Per_Capita(USD)=%{x}<br>Mortality_Rate(%)=%{y}<br>Population(mn)=%{marker.size}",
           "legendgroup": "Country_or_Area=Mexico",
           "marker": {
            "color": "#FF97FF",
            "size": [
             124.2216
            ],
            "sizemode": "area",
            "sizeref": 0.05687629546666667,
            "symbol": "circle"
           },
           "mode": "markers",
           "name": "Country_or_Area=Mexico",
           "showlegend": true,
           "type": "scatter",
           "x": [
            10582.45033
           ],
           "xaxis": "x",
           "y": [
            1.54
           ],
           "yaxis": "y"
          }
         ],
         "name": "2014"
        },
        {
         "data": [
          {
           "hoverlabel": {
            "namelength": 0
           },
           "hovertemplate": "Country_or_Area=Afghanistan<br>Year=2015<br>GDP_Per_Capita(USD)=%{x}<br>Mortality_Rate(%)=%{y}<br>Population(mn)=%{marker.size}",
           "legendgroup": "Country_or_Area=Afghanistan",
           "marker": {
            "color": "#636efa",
            "size": [
             33.736494
            ],
            "sizemode": "area",
            "sizeref": 0.05687629546666667,
            "symbol": "circle"
           },
           "mode": "markers",
           "name": "Country_or_Area=Afghanistan",
           "showlegend": true,
           "type": "scatter",
           "x": [
            610.8545447
           ],
           "xaxis": "x",
           "y": [
            7.32
           ],
           "yaxis": "y"
          },
          {
           "hoverlabel": {
            "namelength": 0
           },
           "hovertemplate": "Country_or_Area=United States<br>Year=2015<br>GDP_Per_Capita(USD)=%{x}<br>Mortality_Rate(%)=%{y}<br>Population(mn)=%{marker.size}",
           "legendgroup": "Country_or_Area=United States",
           "marker": {
            "color": "#EF553B",
            "size": [
             319.929162
            ],
            "sizemode": "area",
            "sizeref": 0.05687629546666667,
            "symbol": "circle"
           },
           "mode": "markers",
           "name": "Country_or_Area=United States",
           "showlegend": true,
           "type": "scatter",
           "x": [
            56947.90961
           ],
           "xaxis": "x",
           "y": [
            0.66
           ],
           "yaxis": "y"
          },
          {
           "hoverlabel": {
            "namelength": 0
           },
           "hovertemplate": "Country_or_Area=Brazil<br>Year=2015<br>GDP_Per_Capita(USD)=%{x}<br>Mortality_Rate(%)=%{y}<br>Population(mn)=%{marker.size}",
           "legendgroup": "Country_or_Area=Brazil",
           "marker": {
            "color": "#00cc96",
            "size": [
             205.962108
            ],
            "sizemode": "area",
            "sizeref": 0.05687629546666667,
            "symbol": "circle"
           },
           "mode": "markers",
           "name": "Country_or_Area=Brazil",
           "showlegend": true,
           "type": "scatter",
           "x": [
            8750.211469
           ],
           "xaxis": "x",
           "y": [
            1.57
           ],
           "yaxis": "y"
          },
          {
           "hoverlabel": {
            "namelength": 0
           },
           "hovertemplate": "Country_or_Area=Zimbabwe<br>Year=2015<br>GDP_Per_Capita(USD)=%{x}<br>Mortality_Rate(%)=%{y}<br>Population(mn)=%{marker.size}",
           "legendgroup": "Country_or_Area=Zimbabwe",
           "marker": {
            "color": "#ab63fa",
            "size": [
             15.777451000000001
            ],
            "sizemode": "area",
            "sizeref": 0.05687629546666667,
            "symbol": "circle"
           },
           "mode": "markers",
           "name": "Country_or_Area=Zimbabwe",
           "showlegend": true,
           "type": "scatter",
           "x": [
            1033.4158419999999
           ],
           "xaxis": "x",
           "y": [
            5.99
           ],
           "yaxis": "y"
          },
          {
           "hoverlabel": {
            "namelength": 0
           },
           "hovertemplate": "Country_or_Area=Namibia<br>Year=2015<br>GDP_Per_Capita(USD)=%{x}<br>Mortality_Rate(%)=%{y}<br>Population(mn)=%{marker.size}",
           "legendgroup": "Country_or_Area=Namibia",
           "marker": {
            "color": "#FFA15A",
            "size": [
             2.425561
            ],
            "sizemode": "area",
            "sizeref": 0.05687629546666667,
            "symbol": "circle"
           },
           "mode": "markers",
           "name": "Country_or_Area=Namibia",
           "showlegend": true,
           "type": "scatter",
           "x": [
            4805.755356000001
           ],
           "xaxis": "x",
           "y": [
            4.8
           ],
           "yaxis": "y"
          },
          {
           "hoverlabel": {
            "namelength": 0
           },
           "hovertemplate": "Country_or_Area=Nigeria<br>Year=2015<br>GDP_Per_Capita(USD)=%{x}<br>Mortality_Rate(%)=%{y}<br>Population(mn)=%{marker.size}",
           "legendgroup": "Country_or_Area=Nigeria",
           "marker": {
            "color": "#19d3f3",
            "size": [
             181.18174399999998
            ],
            "sizemode": "area",
            "sizeref": 0.05687629546666667,
            "symbol": "circle"
           },
           "mode": "markers",
           "name": "Country_or_Area=Nigeria",
           "showlegend": true,
           "type": "scatter",
           "x": [
            2729.759594
           ],
           "xaxis": "x",
           "y": [
            10.8
           ],
           "yaxis": "y"
          },
          {
           "hoverlabel": {
            "namelength": 0
           },
           "hovertemplate": "Country_or_Area=Somalia<br>Year=2015<br>GDP_Per_Capita(USD)=%{x}<br>Mortality_Rate(%)=%{y}<br>Population(mn)=%{marker.size}",
           "legendgroup": "Country_or_Area=Somalia",
           "marker": {
            "color": "#FF6692",
            "size": [
             13.908129
            ],
            "sizemode": "area",
            "sizeref": 0.05687629546666667,
            "symbol": "circle"
           },
           "mode": "markers",
           "name": "Country_or_Area=Somalia",
           "showlegend": true,
           "type": "scatter",
           "x": [
            104.599205
           ],
           "xaxis": "x",
           "y": [
            13.67
           ],
           "yaxis": "y"
          },
          {
           "hoverlabel": {
            "namelength": 0
           },
           "hovertemplate": "Country_or_Area=Thailand<br>Year=2015<br>GDP_Per_Capita(USD)=%{x}<br>Mortality_Rate(%)=%{y}<br>Population(mn)=%{marker.size}",
           "legendgroup": "Country_or_Area=Thailand",
           "marker": {
            "color": "#B6E880",
            "size": [
             68.6576
            ],
            "sizemode": "area",
            "sizeref": 0.05687629546666667,
            "symbol": "circle"
           },
           "mode": "markers",
           "name": "Country_or_Area=Thailand",
           "showlegend": true,
           "type": "scatter",
           "x": [
            5846.3917630000005
           ],
           "xaxis": "x",
           "y": [
            1.26
           ],
           "yaxis": "y"
          },
          {
           "hoverlabel": {
            "namelength": 0
           },
           "hovertemplate": "Country_or_Area=Mexico<br>Year=2015<br>GDP_Per_Capita(USD)=%{x}<br>Mortality_Rate(%)=%{y}<br>Population(mn)=%{marker.size}",
           "legendgroup": "Country_or_Area=Mexico",
           "marker": {
            "color": "#FF97FF",
            "size": [
             125.89094899999999
            ],
            "sizemode": "area",
            "sizeref": 0.05687629546666667,
            "symbol": "circle"
           },
           "mode": "markers",
           "name": "Country_or_Area=Mexico",
           "showlegend": true,
           "type": "scatter",
           "x": [
            9298.262434999999
           ],
           "xaxis": "x",
           "y": [
            1.5
           ],
           "yaxis": "y"
          }
         ],
         "name": "2015"
        }
       ],
       "layout": {
        "height": 600,
        "legend": {
         "itemsizing": "constant",
         "tracegroupgap": 0
        },
        "margin": {
         "t": 60
        },
        "sliders": [
         {
          "active": 0,
          "currentvalue": {
           "prefix": "Year="
          },
          "len": 0.9,
          "pad": {
           "b": 10,
           "t": 60
          },
          "steps": [
           {
            "args": [
             [
              "1990"
             ],
             {
              "frame": {
               "duration": 0,
               "redraw": false
              },
              "fromcurrent": true,
              "mode": "immediate",
              "transition": {
               "duration": 0,
               "easing": "linear"
              }
             }
            ],
            "label": "1990",
            "method": "animate"
           },
           {
            "args": [
             [
              "1991"
             ],
             {
              "frame": {
               "duration": 0,
               "redraw": false
              },
              "fromcurrent": true,
              "mode": "immediate",
              "transition": {
               "duration": 0,
               "easing": "linear"
              }
             }
            ],
            "label": "1991",
            "method": "animate"
           },
           {
            "args": [
             [
              "1992"
             ],
             {
              "frame": {
               "duration": 0,
               "redraw": false
              },
              "fromcurrent": true,
              "mode": "immediate",
              "transition": {
               "duration": 0,
               "easing": "linear"
              }
             }
            ],
            "label": "1992",
            "method": "animate"
           },
           {
            "args": [
             [
              "1993"
             ],
             {
              "frame": {
               "duration": 0,
               "redraw": false
              },
              "fromcurrent": true,
              "mode": "immediate",
              "transition": {
               "duration": 0,
               "easing": "linear"
              }
             }
            ],
            "label": "1993",
            "method": "animate"
           },
           {
            "args": [
             [
              "1994"
             ],
             {
              "frame": {
               "duration": 0,
               "redraw": false
              },
              "fromcurrent": true,
              "mode": "immediate",
              "transition": {
               "duration": 0,
               "easing": "linear"
              }
             }
            ],
            "label": "1994",
            "method": "animate"
           },
           {
            "args": [
             [
              "1995"
             ],
             {
              "frame": {
               "duration": 0,
               "redraw": false
              },
              "fromcurrent": true,
              "mode": "immediate",
              "transition": {
               "duration": 0,
               "easing": "linear"
              }
             }
            ],
            "label": "1995",
            "method": "animate"
           },
           {
            "args": [
             [
              "1996"
             ],
             {
              "frame": {
               "duration": 0,
               "redraw": false
              },
              "fromcurrent": true,
              "mode": "immediate",
              "transition": {
               "duration": 0,
               "easing": "linear"
              }
             }
            ],
            "label": "1996",
            "method": "animate"
           },
           {
            "args": [
             [
              "1997"
             ],
             {
              "frame": {
               "duration": 0,
               "redraw": false
              },
              "fromcurrent": true,
              "mode": "immediate",
              "transition": {
               "duration": 0,
               "easing": "linear"
              }
             }
            ],
            "label": "1997",
            "method": "animate"
           },
           {
            "args": [
             [
              "1998"
             ],
             {
              "frame": {
               "duration": 0,
               "redraw": false
              },
              "fromcurrent": true,
              "mode": "immediate",
              "transition": {
               "duration": 0,
               "easing": "linear"
              }
             }
            ],
            "label": "1998",
            "method": "animate"
           },
           {
            "args": [
             [
              "1999"
             ],
             {
              "frame": {
               "duration": 0,
               "redraw": false
              },
              "fromcurrent": true,
              "mode": "immediate",
              "transition": {
               "duration": 0,
               "easing": "linear"
              }
             }
            ],
            "label": "1999",
            "method": "animate"
           },
           {
            "args": [
             [
              "2000"
             ],
             {
              "frame": {
               "duration": 0,
               "redraw": false
              },
              "fromcurrent": true,
              "mode": "immediate",
              "transition": {
               "duration": 0,
               "easing": "linear"
              }
             }
            ],
            "label": "2000",
            "method": "animate"
           },
           {
            "args": [
             [
              "2001"
             ],
             {
              "frame": {
               "duration": 0,
               "redraw": false
              },
              "fromcurrent": true,
              "mode": "immediate",
              "transition": {
               "duration": 0,
               "easing": "linear"
              }
             }
            ],
            "label": "2001",
            "method": "animate"
           },
           {
            "args": [
             [
              "2002"
             ],
             {
              "frame": {
               "duration": 0,
               "redraw": false
              },
              "fromcurrent": true,
              "mode": "immediate",
              "transition": {
               "duration": 0,
               "easing": "linear"
              }
             }
            ],
            "label": "2002",
            "method": "animate"
           },
           {
            "args": [
             [
              "2003"
             ],
             {
              "frame": {
               "duration": 0,
               "redraw": false
              },
              "fromcurrent": true,
              "mode": "immediate",
              "transition": {
               "duration": 0,
               "easing": "linear"
              }
             }
            ],
            "label": "2003",
            "method": "animate"
           },
           {
            "args": [
             [
              "2004"
             ],
             {
              "frame": {
               "duration": 0,
               "redraw": false
              },
              "fromcurrent": true,
              "mode": "immediate",
              "transition": {
               "duration": 0,
               "easing": "linear"
              }
             }
            ],
            "label": "2004",
            "method": "animate"
           },
           {
            "args": [
             [
              "2005"
             ],
             {
              "frame": {
               "duration": 0,
               "redraw": false
              },
              "fromcurrent": true,
              "mode": "immediate",
              "transition": {
               "duration": 0,
               "easing": "linear"
              }
             }
            ],
            "label": "2005",
            "method": "animate"
           },
           {
            "args": [
             [
              "2006"
             ],
             {
              "frame": {
               "duration": 0,
               "redraw": false
              },
              "fromcurrent": true,
              "mode": "immediate",
              "transition": {
               "duration": 0,
               "easing": "linear"
              }
             }
            ],
            "label": "2006",
            "method": "animate"
           },
           {
            "args": [
             [
              "2007"
             ],
             {
              "frame": {
               "duration": 0,
               "redraw": false
              },
              "fromcurrent": true,
              "mode": "immediate",
              "transition": {
               "duration": 0,
               "easing": "linear"
              }
             }
            ],
            "label": "2007",
            "method": "animate"
           },
           {
            "args": [
             [
              "2008"
             ],
             {
              "frame": {
               "duration": 0,
               "redraw": false
              },
              "fromcurrent": true,
              "mode": "immediate",
              "transition": {
               "duration": 0,
               "easing": "linear"
              }
             }
            ],
            "label": "2008",
            "method": "animate"
           },
           {
            "args": [
             [
              "2009"
             ],
             {
              "frame": {
               "duration": 0,
               "redraw": false
              },
              "fromcurrent": true,
              "mode": "immediate",
              "transition": {
               "duration": 0,
               "easing": "linear"
              }
             }
            ],
            "label": "2009",
            "method": "animate"
           },
           {
            "args": [
             [
              "2010"
             ],
             {
              "frame": {
               "duration": 0,
               "redraw": false
              },
              "fromcurrent": true,
              "mode": "immediate",
              "transition": {
               "duration": 0,
               "easing": "linear"
              }
             }
            ],
            "label": "2010",
            "method": "animate"
           },
           {
            "args": [
             [
              "2011"
             ],
             {
              "frame": {
               "duration": 0,
               "redraw": false
              },
              "fromcurrent": true,
              "mode": "immediate",
              "transition": {
               "duration": 0,
               "easing": "linear"
              }
             }
            ],
            "label": "2011",
            "method": "animate"
           },
           {
            "args": [
             [
              "2012"
             ],
             {
              "frame": {
               "duration": 0,
               "redraw": false
              },
              "fromcurrent": true,
              "mode": "immediate",
              "transition": {
               "duration": 0,
               "easing": "linear"
              }
             }
            ],
            "label": "2012",
            "method": "animate"
           },
           {
            "args": [
             [
              "2013"
             ],
             {
              "frame": {
               "duration": 0,
               "redraw": false
              },
              "fromcurrent": true,
              "mode": "immediate",
              "transition": {
               "duration": 0,
               "easing": "linear"
              }
             }
            ],
            "label": "2013",
            "method": "animate"
           },
           {
            "args": [
             [
              "2014"
             ],
             {
              "frame": {
               "duration": 0,
               "redraw": false
              },
              "fromcurrent": true,
              "mode": "immediate",
              "transition": {
               "duration": 0,
               "easing": "linear"
              }
             }
            ],
            "label": "2014",
            "method": "animate"
           },
           {
            "args": [
             [
              "2015"
             ],
             {
              "frame": {
               "duration": 0,
               "redraw": false
              },
              "fromcurrent": true,
              "mode": "immediate",
              "transition": {
               "duration": 0,
               "easing": "linear"
              }
             }
            ],
            "label": "2015",
            "method": "animate"
           }
          ],
          "x": 0.1,
          "xanchor": "left",
          "y": 0,
          "yanchor": "top"
         }
        ],
        "template": {
         "data": {
          "bar": [
           {
            "error_x": {
             "color": "#2a3f5f"
            },
            "error_y": {
             "color": "#2a3f5f"
            },
            "marker": {
             "line": {
              "color": "#E5ECF6",
              "width": 0.5
             }
            },
            "type": "bar"
           }
          ],
          "barpolar": [
           {
            "marker": {
             "line": {
              "color": "#E5ECF6",
              "width": 0.5
             }
            },
            "type": "barpolar"
           }
          ],
          "carpet": [
           {
            "aaxis": {
             "endlinecolor": "#2a3f5f",
             "gridcolor": "white",
             "linecolor": "white",
             "minorgridcolor": "white",
             "startlinecolor": "#2a3f5f"
            },
            "baxis": {
             "endlinecolor": "#2a3f5f",
             "gridcolor": "white",
             "linecolor": "white",
             "minorgridcolor": "white",
             "startlinecolor": "#2a3f5f"
            },
            "type": "carpet"
           }
          ],
          "choropleth": [
           {
            "colorbar": {
             "outlinewidth": 0,
             "ticks": ""
            },
            "type": "choropleth"
           }
          ],
          "contour": [
           {
            "colorbar": {
             "outlinewidth": 0,
             "ticks": ""
            },
            "colorscale": [
             [
              0,
              "#0d0887"
             ],
             [
              0.1111111111111111,
              "#46039f"
             ],
             [
              0.2222222222222222,
              "#7201a8"
             ],
             [
              0.3333333333333333,
              "#9c179e"
             ],
             [
              0.4444444444444444,
              "#bd3786"
             ],
             [
              0.5555555555555556,
              "#d8576b"
             ],
             [
              0.6666666666666666,
              "#ed7953"
             ],
             [
              0.7777777777777778,
              "#fb9f3a"
             ],
             [
              0.8888888888888888,
              "#fdca26"
             ],
             [
              1,
              "#f0f921"
             ]
            ],
            "type": "contour"
           }
          ],
          "contourcarpet": [
           {
            "colorbar": {
             "outlinewidth": 0,
             "ticks": ""
            },
            "type": "contourcarpet"
           }
          ],
          "heatmap": [
           {
            "colorbar": {
             "outlinewidth": 0,
             "ticks": ""
            },
            "colorscale": [
             [
              0,
              "#0d0887"
             ],
             [
              0.1111111111111111,
              "#46039f"
             ],
             [
              0.2222222222222222,
              "#7201a8"
             ],
             [
              0.3333333333333333,
              "#9c179e"
             ],
             [
              0.4444444444444444,
              "#bd3786"
             ],
             [
              0.5555555555555556,
              "#d8576b"
             ],
             [
              0.6666666666666666,
              "#ed7953"
             ],
             [
              0.7777777777777778,
              "#fb9f3a"
             ],
             [
              0.8888888888888888,
              "#fdca26"
             ],
             [
              1,
              "#f0f921"
             ]
            ],
            "type": "heatmap"
           }
          ],
          "heatmapgl": [
           {
            "colorbar": {
             "outlinewidth": 0,
             "ticks": ""
            },
            "colorscale": [
             [
              0,
              "#0d0887"
             ],
             [
              0.1111111111111111,
              "#46039f"
             ],
             [
              0.2222222222222222,
              "#7201a8"
             ],
             [
              0.3333333333333333,
              "#9c179e"
             ],
             [
              0.4444444444444444,
              "#bd3786"
             ],
             [
              0.5555555555555556,
              "#d8576b"
             ],
             [
              0.6666666666666666,
              "#ed7953"
             ],
             [
              0.7777777777777778,
              "#fb9f3a"
             ],
             [
              0.8888888888888888,
              "#fdca26"
             ],
             [
              1,
              "#f0f921"
             ]
            ],
            "type": "heatmapgl"
           }
          ],
          "histogram": [
           {
            "marker": {
             "colorbar": {
              "outlinewidth": 0,
              "ticks": ""
             }
            },
            "type": "histogram"
           }
          ],
          "histogram2d": [
           {
            "colorbar": {
             "outlinewidth": 0,
             "ticks": ""
            },
            "colorscale": [
             [
              0,
              "#0d0887"
             ],
             [
              0.1111111111111111,
              "#46039f"
             ],
             [
              0.2222222222222222,
              "#7201a8"
             ],
             [
              0.3333333333333333,
              "#9c179e"
             ],
             [
              0.4444444444444444,
              "#bd3786"
             ],
             [
              0.5555555555555556,
              "#d8576b"
             ],
             [
              0.6666666666666666,
              "#ed7953"
             ],
             [
              0.7777777777777778,
              "#fb9f3a"
             ],
             [
              0.8888888888888888,
              "#fdca26"
             ],
             [
              1,
              "#f0f921"
             ]
            ],
            "type": "histogram2d"
           }
          ],
          "histogram2dcontour": [
           {
            "colorbar": {
             "outlinewidth": 0,
             "ticks": ""
            },
            "colorscale": [
             [
              0,
              "#0d0887"
             ],
             [
              0.1111111111111111,
              "#46039f"
             ],
             [
              0.2222222222222222,
              "#7201a8"
             ],
             [
              0.3333333333333333,
              "#9c179e"
             ],
             [
              0.4444444444444444,
              "#bd3786"
             ],
             [
              0.5555555555555556,
              "#d8576b"
             ],
             [
              0.6666666666666666,
              "#ed7953"
             ],
             [
              0.7777777777777778,
              "#fb9f3a"
             ],
             [
              0.8888888888888888,
              "#fdca26"
             ],
             [
              1,
              "#f0f921"
             ]
            ],
            "type": "histogram2dcontour"
           }
          ],
          "mesh3d": [
           {
            "colorbar": {
             "outlinewidth": 0,
             "ticks": ""
            },
            "type": "mesh3d"
           }
          ],
          "parcoords": [
           {
            "line": {
             "colorbar": {
              "outlinewidth": 0,
              "ticks": ""
             }
            },
            "type": "parcoords"
           }
          ],
          "scatter": [
           {
            "marker": {
             "colorbar": {
              "outlinewidth": 0,
              "ticks": ""
             }
            },
            "type": "scatter"
           }
          ],
          "scatter3d": [
           {
            "line": {
             "colorbar": {
              "outlinewidth": 0,
              "ticks": ""
             }
            },
            "marker": {
             "colorbar": {
              "outlinewidth": 0,
              "ticks": ""
             }
            },
            "type": "scatter3d"
           }
          ],
          "scattercarpet": [
           {
            "marker": {
             "colorbar": {
              "outlinewidth": 0,
              "ticks": ""
             }
            },
            "type": "scattercarpet"
           }
          ],
          "scattergeo": [
           {
            "marker": {
             "colorbar": {
              "outlinewidth": 0,
              "ticks": ""
             }
            },
            "type": "scattergeo"
           }
          ],
          "scattergl": [
           {
            "marker": {
             "colorbar": {
              "outlinewidth": 0,
              "ticks": ""
             }
            },
            "type": "scattergl"
           }
          ],
          "scattermapbox": [
           {
            "marker": {
             "colorbar": {
              "outlinewidth": 0,
              "ticks": ""
             }
            },
            "type": "scattermapbox"
           }
          ],
          "scatterpolar": [
           {
            "marker": {
             "colorbar": {
              "outlinewidth": 0,
              "ticks": ""
             }
            },
            "type": "scatterpolar"
           }
          ],
          "scatterpolargl": [
           {
            "marker": {
             "colorbar": {
              "outlinewidth": 0,
              "ticks": ""
             }
            },
            "type": "scatterpolargl"
           }
          ],
          "scatterternary": [
           {
            "marker": {
             "colorbar": {
              "outlinewidth": 0,
              "ticks": ""
             }
            },
            "type": "scatterternary"
           }
          ],
          "surface": [
           {
            "colorbar": {
             "outlinewidth": 0,
             "ticks": ""
            },
            "colorscale": [
             [
              0,
              "#0d0887"
             ],
             [
              0.1111111111111111,
              "#46039f"
             ],
             [
              0.2222222222222222,
              "#7201a8"
             ],
             [
              0.3333333333333333,
              "#9c179e"
             ],
             [
              0.4444444444444444,
              "#bd3786"
             ],
             [
              0.5555555555555556,
              "#d8576b"
             ],
             [
              0.6666666666666666,
              "#ed7953"
             ],
             [
              0.7777777777777778,
              "#fb9f3a"
             ],
             [
              0.8888888888888888,
              "#fdca26"
             ],
             [
              1,
              "#f0f921"
             ]
            ],
            "type": "surface"
           }
          ],
          "table": [
           {
            "cells": {
             "fill": {
              "color": "#EBF0F8"
             },
             "line": {
              "color": "white"
             }
            },
            "header": {
             "fill": {
              "color": "#C8D4E3"
             },
             "line": {
              "color": "white"
             }
            },
            "type": "table"
           }
          ]
         },
         "layout": {
          "annotationdefaults": {
           "arrowcolor": "#2a3f5f",
           "arrowhead": 0,
           "arrowwidth": 1
          },
          "colorscale": {
           "diverging": [
            [
             0,
             "#8e0152"
            ],
            [
             0.1,
             "#c51b7d"
            ],
            [
             0.2,
             "#de77ae"
            ],
            [
             0.3,
             "#f1b6da"
            ],
            [
             0.4,
             "#fde0ef"
            ],
            [
             0.5,
             "#f7f7f7"
            ],
            [
             0.6,
             "#e6f5d0"
            ],
            [
             0.7,
             "#b8e186"
            ],
            [
             0.8,
             "#7fbc41"
            ],
            [
             0.9,
             "#4d9221"
            ],
            [
             1,
             "#276419"
            ]
           ],
           "sequential": [
            [
             0,
             "#0d0887"
            ],
            [
             0.1111111111111111,
             "#46039f"
            ],
            [
             0.2222222222222222,
             "#7201a8"
            ],
            [
             0.3333333333333333,
             "#9c179e"
            ],
            [
             0.4444444444444444,
             "#bd3786"
            ],
            [
             0.5555555555555556,
             "#d8576b"
            ],
            [
             0.6666666666666666,
             "#ed7953"
            ],
            [
             0.7777777777777778,
             "#fb9f3a"
            ],
            [
             0.8888888888888888,
             "#fdca26"
            ],
            [
             1,
             "#f0f921"
            ]
           ],
           "sequentialminus": [
            [
             0,
             "#0d0887"
            ],
            [
             0.1111111111111111,
             "#46039f"
            ],
            [
             0.2222222222222222,
             "#7201a8"
            ],
            [
             0.3333333333333333,
             "#9c179e"
            ],
            [
             0.4444444444444444,
             "#bd3786"
            ],
            [
             0.5555555555555556,
             "#d8576b"
            ],
            [
             0.6666666666666666,
             "#ed7953"
            ],
            [
             0.7777777777777778,
             "#fb9f3a"
            ],
            [
             0.8888888888888888,
             "#fdca26"
            ],
            [
             1,
             "#f0f921"
            ]
           ]
          },
          "colorway": [
           "#636efa",
           "#EF553B",
           "#00cc96",
           "#ab63fa",
           "#FFA15A",
           "#19d3f3",
           "#FF6692",
           "#B6E880",
           "#FF97FF",
           "#FECB52"
          ],
          "font": {
           "color": "#2a3f5f"
          },
          "geo": {
           "bgcolor": "white",
           "lakecolor": "white",
           "landcolor": "#E5ECF6",
           "showlakes": true,
           "showland": true,
           "subunitcolor": "white"
          },
          "hoverlabel": {
           "align": "left"
          },
          "hovermode": "closest",
          "mapbox": {
           "style": "light"
          },
          "paper_bgcolor": "white",
          "plot_bgcolor": "#E5ECF6",
          "polar": {
           "angularaxis": {
            "gridcolor": "white",
            "linecolor": "white",
            "ticks": ""
           },
           "bgcolor": "#E5ECF6",
           "radialaxis": {
            "gridcolor": "white",
            "linecolor": "white",
            "ticks": ""
           }
          },
          "scene": {
           "xaxis": {
            "backgroundcolor": "#E5ECF6",
            "gridcolor": "white",
            "gridwidth": 2,
            "linecolor": "white",
            "showbackground": true,
            "ticks": "",
            "zerolinecolor": "white"
           },
           "yaxis": {
            "backgroundcolor": "#E5ECF6",
            "gridcolor": "white",
            "gridwidth": 2,
            "linecolor": "white",
            "showbackground": true,
            "ticks": "",
            "zerolinecolor": "white"
           },
           "zaxis": {
            "backgroundcolor": "#E5ECF6",
            "gridcolor": "white",
            "gridwidth": 2,
            "linecolor": "white",
            "showbackground": true,
            "ticks": "",
            "zerolinecolor": "white"
           }
          },
          "shapedefaults": {
           "line": {
            "color": "#2a3f5f"
           }
          },
          "ternary": {
           "aaxis": {
            "gridcolor": "white",
            "linecolor": "white",
            "ticks": ""
           },
           "baxis": {
            "gridcolor": "white",
            "linecolor": "white",
            "ticks": ""
           },
           "bgcolor": "#E5ECF6",
           "caxis": {
            "gridcolor": "white",
            "linecolor": "white",
            "ticks": ""
           }
          },
          "title": {
           "x": 0.05
          },
          "xaxis": {
           "automargin": true,
           "gridcolor": "white",
           "linecolor": "white",
           "ticks": "",
           "zerolinecolor": "white",
           "zerolinewidth": 2
          },
          "yaxis": {
           "automargin": true,
           "gridcolor": "white",
           "linecolor": "white",
           "ticks": "",
           "zerolinecolor": "white",
           "zerolinewidth": 2
          }
         }
        },
        "updatemenus": [
         {
          "buttons": [
           {
            "args": [
             null,
             {
              "frame": {
               "duration": 500,
               "redraw": false
              },
              "fromcurrent": true,
              "mode": "immediate",
              "transition": {
               "duration": 500,
               "easing": "linear"
              }
             }
            ],
            "label": "&#9654;",
            "method": "animate"
           },
           {
            "args": [
             [
              null
             ],
             {
              "frame": {
               "duration": 0,
               "redraw": false
              },
              "fromcurrent": true,
              "mode": "immediate",
              "transition": {
               "duration": 0,
               "easing": "linear"
              }
             }
            ],
            "label": "&#9724;",
            "method": "animate"
           }
          ],
          "direction": "left",
          "pad": {
           "r": 10,
           "t": 70
          },
          "showactive": false,
          "type": "buttons",
          "x": 0.1,
          "xanchor": "right",
          "y": 0,
          "yanchor": "top"
         }
        ],
        "xaxis": {
         "anchor": "y",
         "domain": [
          0,
          0.98
         ],
         "range": [
          1,
          5
         ],
         "title": {
          "text": "GDP_Per_Capita(USD)"
         },
         "type": "log"
        },
        "yaxis": {
         "anchor": "x",
         "domain": [
          0,
          1
         ],
         "range": [
          -9.34,
          31.29
         ],
         "title": {
          "text": "Mortality_Rate(%)"
         }
        }
       }
      },
      "text/html": [
       "<div>\n",
       "        \n",
       "        \n",
       "            <div id=\"00450cc2-d27f-4a1f-bd09-9499c4e15ab7\" class=\"plotly-graph-div\" style=\"height:600px; width:100%;\"></div>\n",
       "            <script type=\"text/javascript\">\n",
       "                require([\"plotly\"], function(Plotly) {\n",
       "                    window.PLOTLYENV=window.PLOTLYENV || {};\n",
       "                    \n",
       "                if (document.getElementById(\"00450cc2-d27f-4a1f-bd09-9499c4e15ab7\")) {\n",
       "                    Plotly.newPlot(\n",
       "                        '00450cc2-d27f-4a1f-bd09-9499c4e15ab7',\n",
       "                        [{\"hoverlabel\": {\"namelength\": 0}, \"hovertemplate\": \"Country_or_Area=Afghanistan<br>Year=1990<br>GDP_Per_Capita(USD)=%{x}<br>Mortality_Rate(%)=%{y}<br>Population(mn)=%{marker.size}\", \"legendgroup\": \"Country_or_Area=Afghanistan\", \"marker\": {\"color\": \"#636efa\", \"size\": [12.249114], \"sizemode\": \"area\", \"sizeref\": 0.05687629546666667, \"symbol\": \"circle\"}, \"mode\": \"markers\", \"name\": \"Country_or_Area=Afghanistan\", \"showlegend\": true, \"type\": \"scatter\", \"x\": [295.66220110000006], \"xaxis\": \"x\", \"y\": [17.73], \"yaxis\": \"y\"}, {\"hoverlabel\": {\"namelength\": 0}, \"hovertemplate\": \"Country_or_Area=United States<br>Year=1990<br>GDP_Per_Capita(USD)=%{x}<br>Mortality_Rate(%)=%{y}<br>Population(mn)=%{marker.size}\", \"legendgroup\": \"Country_or_Area=United States\", \"marker\": {\"color\": \"#EF553B\", \"size\": [252.52995], \"sizemode\": \"area\", \"sizeref\": 0.05687629546666667, \"symbol\": \"circle\"}, \"mode\": \"markers\", \"name\": \"Country_or_Area=United States\", \"showlegend\": true, \"type\": \"scatter\", \"x\": [23613.61098], \"xaxis\": \"x\", \"y\": [1.12], \"yaxis\": \"y\"}, {\"hoverlabel\": {\"namelength\": 0}, \"hovertemplate\": \"Country_or_Area=Brazil<br>Year=1990<br>GDP_Per_Capita(USD)=%{x}<br>Mortality_Rate(%)=%{y}<br>Population(mn)=%{marker.size}\", \"legendgroup\": \"Country_or_Area=Brazil\", \"marker\": {\"color\": \"#00cc96\", \"size\": [149.352145], \"sizemode\": \"area\", \"sizeref\": 0.05687629546666667, \"symbol\": \"circle\"}, \"mode\": \"markers\", \"name\": \"Country_or_Area=Brazil\", \"showlegend\": true, \"type\": \"scatter\", \"x\": [2724.413582], \"xaxis\": \"x\", \"y\": [6.42], \"yaxis\": \"y\"}, {\"hoverlabel\": {\"namelength\": 0}, \"hovertemplate\": \"Country_or_Area=Zimbabwe<br>Year=1990<br>GDP_Per_Capita(USD)=%{x}<br>Mortality_Rate(%)=%{y}<br>Population(mn)=%{marker.size}\", \"legendgroup\": \"Country_or_Area=Zimbabwe\", \"marker\": {\"color\": \"#ab63fa\", \"size\": [10.183113], \"sizemode\": \"area\", \"sizeref\": 0.05687629546666667, \"symbol\": \"circle\"}, \"mode\": \"markers\", \"name\": \"Country_or_Area=Zimbabwe\", \"showlegend\": true, \"type\": \"scatter\", \"x\": [1152.668564], \"xaxis\": \"x\", \"y\": [7.52], \"yaxis\": \"y\"}, {\"hoverlabel\": {\"namelength\": 0}, \"hovertemplate\": \"Country_or_Area=Namibia<br>Year=1990<br>GDP_Per_Capita(USD)=%{x}<br>Mortality_Rate(%)=%{y}<br>Population(mn)=%{marker.size}\", \"legendgroup\": \"Country_or_Area=Namibia\", \"marker\": {\"color\": \"#FFA15A\", \"size\": [1.414692], \"sizemode\": \"area\", \"sizeref\": 0.05687629546666667, \"symbol\": \"circle\"}, \"mode\": \"markers\", \"name\": \"Country_or_Area=Namibia\", \"showlegend\": true, \"type\": \"scatter\", \"x\": [1969.1509440000002], \"xaxis\": \"x\", \"y\": [7.13], \"yaxis\": \"y\"}, {\"hoverlabel\": {\"namelength\": 0}, \"hovertemplate\": \"Country_or_Area=Nigeria<br>Year=1990<br>GDP_Per_Capita(USD)=%{x}<br>Mortality_Rate(%)=%{y}<br>Population(mn)=%{marker.size}\", \"legendgroup\": \"Country_or_Area=Nigeria\", \"marker\": {\"color\": \"#19d3f3\", \"size\": [95.269988], \"sizemode\": \"area\", \"sizeref\": 0.05687629546666667, \"symbol\": \"circle\"}, \"mode\": \"markers\", \"name\": \"Country_or_Area=Nigeria\", \"showlegend\": true, \"type\": \"scatter\", \"x\": [717.2134194], \"xaxis\": \"x\", \"y\": [21.29], \"yaxis\": \"y\"}, {\"hoverlabel\": {\"namelength\": 0}, \"hovertemplate\": \"Country_or_Area=Thailand<br>Year=1990<br>GDP_Per_Capita(USD)=%{x}<br>Mortality_Rate(%)=%{y}<br>Population(mn)=%{marker.size}\", \"legendgroup\": \"Country_or_Area=Thailand\", \"marker\": {\"color\": \"#B6E880\", \"size\": [56.582820999999996], \"sizemode\": \"area\", \"sizeref\": 0.05687629546666667, \"symbol\": \"circle\"}, \"mode\": \"markers\", \"name\": \"Country_or_Area=Thailand\", \"showlegend\": true, \"type\": \"scatter\", \"x\": [1563.3846199999998], \"xaxis\": \"x\", \"y\": [3.78], \"yaxis\": \"y\"}, {\"hoverlabel\": {\"namelength\": 0}, \"hovertemplate\": \"Country_or_Area=Mexico<br>Year=1990<br>GDP_Per_Capita(USD)=%{x}<br>Mortality_Rate(%)=%{y}<br>Population(mn)=%{marker.size}\", \"legendgroup\": \"Country_or_Area=Mexico\", \"marker\": {\"color\": \"#FF97FF\", \"size\": [85.357874], \"sizemode\": \"area\", \"sizeref\": 0.05687629546666667, \"symbol\": \"circle\"}, \"mode\": \"markers\", \"name\": \"Country_or_Area=Mexico\", \"showlegend\": true, \"type\": \"scatter\", \"x\": [3513.9616100000003], \"xaxis\": \"x\", \"y\": [4.57], \"yaxis\": \"y\"}],\n",
       "                        {\"height\": 600, \"legend\": {\"itemsizing\": \"constant\", \"tracegroupgap\": 0}, \"margin\": {\"t\": 60}, \"sliders\": [{\"active\": 0, \"currentvalue\": {\"prefix\": \"Year=\"}, \"len\": 0.9, \"pad\": {\"b\": 10, \"t\": 60}, \"steps\": [{\"args\": [[\"1990\"], {\"frame\": {\"duration\": 0, \"redraw\": false}, \"fromcurrent\": true, \"mode\": \"immediate\", \"transition\": {\"duration\": 0, \"easing\": \"linear\"}}], \"label\": \"1990\", \"method\": \"animate\"}, {\"args\": [[\"1991\"], {\"frame\": {\"duration\": 0, \"redraw\": false}, \"fromcurrent\": true, \"mode\": \"immediate\", \"transition\": {\"duration\": 0, \"easing\": \"linear\"}}], \"label\": \"1991\", \"method\": \"animate\"}, {\"args\": [[\"1992\"], {\"frame\": {\"duration\": 0, \"redraw\": false}, \"fromcurrent\": true, \"mode\": \"immediate\", \"transition\": {\"duration\": 0, \"easing\": \"linear\"}}], \"label\": \"1992\", \"method\": \"animate\"}, {\"args\": [[\"1993\"], {\"frame\": {\"duration\": 0, \"redraw\": false}, \"fromcurrent\": true, \"mode\": \"immediate\", \"transition\": {\"duration\": 0, \"easing\": \"linear\"}}], \"label\": \"1993\", \"method\": \"animate\"}, {\"args\": [[\"1994\"], {\"frame\": {\"duration\": 0, \"redraw\": false}, \"fromcurrent\": true, \"mode\": \"immediate\", \"transition\": {\"duration\": 0, \"easing\": \"linear\"}}], \"label\": \"1994\", \"method\": \"animate\"}, {\"args\": [[\"1995\"], {\"frame\": {\"duration\": 0, \"redraw\": false}, \"fromcurrent\": true, \"mode\": \"immediate\", \"transition\": {\"duration\": 0, \"easing\": \"linear\"}}], \"label\": \"1995\", \"method\": \"animate\"}, {\"args\": [[\"1996\"], {\"frame\": {\"duration\": 0, \"redraw\": false}, \"fromcurrent\": true, \"mode\": \"immediate\", \"transition\": {\"duration\": 0, \"easing\": \"linear\"}}], \"label\": \"1996\", \"method\": \"animate\"}, {\"args\": [[\"1997\"], {\"frame\": {\"duration\": 0, \"redraw\": false}, \"fromcurrent\": true, \"mode\": \"immediate\", \"transition\": {\"duration\": 0, \"easing\": \"linear\"}}], \"label\": \"1997\", \"method\": \"animate\"}, {\"args\": [[\"1998\"], {\"frame\": {\"duration\": 0, \"redraw\": false}, \"fromcurrent\": true, \"mode\": \"immediate\", \"transition\": {\"duration\": 0, \"easing\": \"linear\"}}], \"label\": \"1998\", \"method\": \"animate\"}, {\"args\": [[\"1999\"], {\"frame\": {\"duration\": 0, \"redraw\": false}, \"fromcurrent\": true, \"mode\": \"immediate\", \"transition\": {\"duration\": 0, \"easing\": \"linear\"}}], \"label\": \"1999\", \"method\": \"animate\"}, {\"args\": [[\"2000\"], {\"frame\": {\"duration\": 0, \"redraw\": false}, \"fromcurrent\": true, \"mode\": \"immediate\", \"transition\": {\"duration\": 0, \"easing\": \"linear\"}}], \"label\": \"2000\", \"method\": \"animate\"}, {\"args\": [[\"2001\"], {\"frame\": {\"duration\": 0, \"redraw\": false}, \"fromcurrent\": true, \"mode\": \"immediate\", \"transition\": {\"duration\": 0, \"easing\": \"linear\"}}], \"label\": \"2001\", \"method\": \"animate\"}, {\"args\": [[\"2002\"], {\"frame\": {\"duration\": 0, \"redraw\": false}, \"fromcurrent\": true, \"mode\": \"immediate\", \"transition\": {\"duration\": 0, \"easing\": \"linear\"}}], \"label\": \"2002\", \"method\": \"animate\"}, {\"args\": [[\"2003\"], {\"frame\": {\"duration\": 0, \"redraw\": false}, \"fromcurrent\": true, \"mode\": \"immediate\", \"transition\": {\"duration\": 0, \"easing\": \"linear\"}}], \"label\": \"2003\", \"method\": \"animate\"}, {\"args\": [[\"2004\"], {\"frame\": {\"duration\": 0, \"redraw\": false}, \"fromcurrent\": true, \"mode\": \"immediate\", \"transition\": {\"duration\": 0, \"easing\": \"linear\"}}], \"label\": \"2004\", \"method\": \"animate\"}, {\"args\": [[\"2005\"], {\"frame\": {\"duration\": 0, \"redraw\": false}, \"fromcurrent\": true, \"mode\": \"immediate\", \"transition\": {\"duration\": 0, \"easing\": \"linear\"}}], \"label\": \"2005\", \"method\": \"animate\"}, {\"args\": [[\"2006\"], {\"frame\": {\"duration\": 0, \"redraw\": false}, \"fromcurrent\": true, \"mode\": \"immediate\", \"transition\": {\"duration\": 0, \"easing\": \"linear\"}}], \"label\": \"2006\", \"method\": \"animate\"}, {\"args\": [[\"2007\"], {\"frame\": {\"duration\": 0, \"redraw\": false}, \"fromcurrent\": true, \"mode\": \"immediate\", \"transition\": {\"duration\": 0, \"easing\": \"linear\"}}], \"label\": \"2007\", \"method\": \"animate\"}, {\"args\": [[\"2008\"], {\"frame\": {\"duration\": 0, \"redraw\": false}, \"fromcurrent\": true, \"mode\": \"immediate\", \"transition\": {\"duration\": 0, \"easing\": \"linear\"}}], \"label\": \"2008\", \"method\": \"animate\"}, {\"args\": [[\"2009\"], {\"frame\": {\"duration\": 0, \"redraw\": false}, \"fromcurrent\": true, \"mode\": \"immediate\", \"transition\": {\"duration\": 0, \"easing\": \"linear\"}}], \"label\": \"2009\", \"method\": \"animate\"}, {\"args\": [[\"2010\"], {\"frame\": {\"duration\": 0, \"redraw\": false}, \"fromcurrent\": true, \"mode\": \"immediate\", \"transition\": {\"duration\": 0, \"easing\": \"linear\"}}], \"label\": \"2010\", \"method\": \"animate\"}, {\"args\": [[\"2011\"], {\"frame\": {\"duration\": 0, \"redraw\": false}, \"fromcurrent\": true, \"mode\": \"immediate\", \"transition\": {\"duration\": 0, \"easing\": \"linear\"}}], \"label\": \"2011\", \"method\": \"animate\"}, {\"args\": [[\"2012\"], {\"frame\": {\"duration\": 0, \"redraw\": false}, \"fromcurrent\": true, \"mode\": \"immediate\", \"transition\": {\"duration\": 0, \"easing\": \"linear\"}}], \"label\": \"2012\", \"method\": \"animate\"}, {\"args\": [[\"2013\"], {\"frame\": {\"duration\": 0, \"redraw\": false}, \"fromcurrent\": true, \"mode\": \"immediate\", \"transition\": {\"duration\": 0, \"easing\": \"linear\"}}], \"label\": \"2013\", \"method\": \"animate\"}, {\"args\": [[\"2014\"], {\"frame\": {\"duration\": 0, \"redraw\": false}, \"fromcurrent\": true, \"mode\": \"immediate\", \"transition\": {\"duration\": 0, \"easing\": \"linear\"}}], \"label\": \"2014\", \"method\": \"animate\"}, {\"args\": [[\"2015\"], {\"frame\": {\"duration\": 0, \"redraw\": false}, \"fromcurrent\": true, \"mode\": \"immediate\", \"transition\": {\"duration\": 0, \"easing\": \"linear\"}}], \"label\": \"2015\", \"method\": \"animate\"}], \"x\": 0.1, \"xanchor\": \"left\", \"y\": 0, \"yanchor\": \"top\"}], \"template\": {\"data\": {\"bar\": [{\"error_x\": {\"color\": \"#2a3f5f\"}, \"error_y\": {\"color\": \"#2a3f5f\"}, \"marker\": {\"line\": {\"color\": \"#E5ECF6\", \"width\": 0.5}}, \"type\": \"bar\"}], \"barpolar\": [{\"marker\": {\"line\": {\"color\": \"#E5ECF6\", \"width\": 0.5}}, \"type\": \"barpolar\"}], \"carpet\": [{\"aaxis\": {\"endlinecolor\": \"#2a3f5f\", \"gridcolor\": \"white\", \"linecolor\": \"white\", \"minorgridcolor\": \"white\", \"startlinecolor\": \"#2a3f5f\"}, \"baxis\": {\"endlinecolor\": \"#2a3f5f\", \"gridcolor\": \"white\", \"linecolor\": \"white\", \"minorgridcolor\": \"white\", \"startlinecolor\": \"#2a3f5f\"}, \"type\": \"carpet\"}], \"choropleth\": [{\"colorbar\": {\"outlinewidth\": 0, \"ticks\": \"\"}, \"type\": \"choropleth\"}], \"contour\": [{\"colorbar\": {\"outlinewidth\": 0, \"ticks\": \"\"}, \"colorscale\": [[0.0, \"#0d0887\"], [0.1111111111111111, \"#46039f\"], [0.2222222222222222, \"#7201a8\"], [0.3333333333333333, \"#9c179e\"], [0.4444444444444444, \"#bd3786\"], [0.5555555555555556, \"#d8576b\"], [0.6666666666666666, \"#ed7953\"], [0.7777777777777778, \"#fb9f3a\"], [0.8888888888888888, \"#fdca26\"], [1.0, \"#f0f921\"]], \"type\": \"contour\"}], \"contourcarpet\": [{\"colorbar\": {\"outlinewidth\": 0, \"ticks\": \"\"}, \"type\": \"contourcarpet\"}], \"heatmap\": [{\"colorbar\": {\"outlinewidth\": 0, \"ticks\": \"\"}, \"colorscale\": [[0.0, \"#0d0887\"], [0.1111111111111111, \"#46039f\"], [0.2222222222222222, \"#7201a8\"], [0.3333333333333333, \"#9c179e\"], [0.4444444444444444, \"#bd3786\"], [0.5555555555555556, \"#d8576b\"], [0.6666666666666666, \"#ed7953\"], [0.7777777777777778, \"#fb9f3a\"], [0.8888888888888888, \"#fdca26\"], [1.0, \"#f0f921\"]], \"type\": \"heatmap\"}], \"heatmapgl\": [{\"colorbar\": {\"outlinewidth\": 0, \"ticks\": \"\"}, \"colorscale\": [[0.0, \"#0d0887\"], [0.1111111111111111, \"#46039f\"], [0.2222222222222222, \"#7201a8\"], [0.3333333333333333, \"#9c179e\"], [0.4444444444444444, \"#bd3786\"], [0.5555555555555556, \"#d8576b\"], [0.6666666666666666, \"#ed7953\"], [0.7777777777777778, \"#fb9f3a\"], [0.8888888888888888, \"#fdca26\"], [1.0, \"#f0f921\"]], \"type\": \"heatmapgl\"}], \"histogram\": [{\"marker\": {\"colorbar\": {\"outlinewidth\": 0, \"ticks\": \"\"}}, \"type\": \"histogram\"}], \"histogram2d\": [{\"colorbar\": {\"outlinewidth\": 0, \"ticks\": \"\"}, \"colorscale\": [[0.0, \"#0d0887\"], [0.1111111111111111, \"#46039f\"], [0.2222222222222222, \"#7201a8\"], [0.3333333333333333, \"#9c179e\"], [0.4444444444444444, \"#bd3786\"], [0.5555555555555556, \"#d8576b\"], [0.6666666666666666, \"#ed7953\"], [0.7777777777777778, \"#fb9f3a\"], [0.8888888888888888, \"#fdca26\"], [1.0, \"#f0f921\"]], \"type\": \"histogram2d\"}], \"histogram2dcontour\": [{\"colorbar\": {\"outlinewidth\": 0, \"ticks\": \"\"}, \"colorscale\": [[0.0, \"#0d0887\"], [0.1111111111111111, \"#46039f\"], [0.2222222222222222, \"#7201a8\"], [0.3333333333333333, \"#9c179e\"], [0.4444444444444444, \"#bd3786\"], [0.5555555555555556, \"#d8576b\"], [0.6666666666666666, \"#ed7953\"], [0.7777777777777778, \"#fb9f3a\"], [0.8888888888888888, \"#fdca26\"], [1.0, \"#f0f921\"]], \"type\": \"histogram2dcontour\"}], \"mesh3d\": [{\"colorbar\": {\"outlinewidth\": 0, \"ticks\": \"\"}, \"type\": \"mesh3d\"}], \"parcoords\": [{\"line\": {\"colorbar\": {\"outlinewidth\": 0, \"ticks\": \"\"}}, \"type\": \"parcoords\"}], \"scatter\": [{\"marker\": {\"colorbar\": {\"outlinewidth\": 0, \"ticks\": \"\"}}, \"type\": \"scatter\"}], \"scatter3d\": [{\"line\": {\"colorbar\": {\"outlinewidth\": 0, \"ticks\": \"\"}}, \"marker\": {\"colorbar\": {\"outlinewidth\": 0, \"ticks\": \"\"}}, \"type\": \"scatter3d\"}], \"scattercarpet\": [{\"marker\": {\"colorbar\": {\"outlinewidth\": 0, \"ticks\": \"\"}}, \"type\": \"scattercarpet\"}], \"scattergeo\": [{\"marker\": {\"colorbar\": {\"outlinewidth\": 0, \"ticks\": \"\"}}, \"type\": \"scattergeo\"}], \"scattergl\": [{\"marker\": {\"colorbar\": {\"outlinewidth\": 0, \"ticks\": \"\"}}, \"type\": \"scattergl\"}], \"scattermapbox\": [{\"marker\": {\"colorbar\": {\"outlinewidth\": 0, \"ticks\": \"\"}}, \"type\": \"scattermapbox\"}], \"scatterpolar\": [{\"marker\": {\"colorbar\": {\"outlinewidth\": 0, \"ticks\": \"\"}}, \"type\": \"scatterpolar\"}], \"scatterpolargl\": [{\"marker\": {\"colorbar\": {\"outlinewidth\": 0, \"ticks\": \"\"}}, \"type\": \"scatterpolargl\"}], \"scatterternary\": [{\"marker\": {\"colorbar\": {\"outlinewidth\": 0, \"ticks\": \"\"}}, \"type\": \"scatterternary\"}], \"surface\": [{\"colorbar\": {\"outlinewidth\": 0, \"ticks\": \"\"}, \"colorscale\": [[0.0, \"#0d0887\"], [0.1111111111111111, \"#46039f\"], [0.2222222222222222, \"#7201a8\"], [0.3333333333333333, \"#9c179e\"], [0.4444444444444444, \"#bd3786\"], [0.5555555555555556, \"#d8576b\"], [0.6666666666666666, \"#ed7953\"], [0.7777777777777778, \"#fb9f3a\"], [0.8888888888888888, \"#fdca26\"], [1.0, \"#f0f921\"]], \"type\": \"surface\"}], \"table\": [{\"cells\": {\"fill\": {\"color\": \"#EBF0F8\"}, \"line\": {\"color\": \"white\"}}, \"header\": {\"fill\": {\"color\": \"#C8D4E3\"}, \"line\": {\"color\": \"white\"}}, \"type\": \"table\"}]}, \"layout\": {\"annotationdefaults\": {\"arrowcolor\": \"#2a3f5f\", \"arrowhead\": 0, \"arrowwidth\": 1}, \"colorscale\": {\"diverging\": [[0, \"#8e0152\"], [0.1, \"#c51b7d\"], [0.2, \"#de77ae\"], [0.3, \"#f1b6da\"], [0.4, \"#fde0ef\"], [0.5, \"#f7f7f7\"], [0.6, \"#e6f5d0\"], [0.7, \"#b8e186\"], [0.8, \"#7fbc41\"], [0.9, \"#4d9221\"], [1, \"#276419\"]], \"sequential\": [[0.0, \"#0d0887\"], [0.1111111111111111, \"#46039f\"], [0.2222222222222222, \"#7201a8\"], [0.3333333333333333, \"#9c179e\"], [0.4444444444444444, \"#bd3786\"], [0.5555555555555556, \"#d8576b\"], [0.6666666666666666, \"#ed7953\"], [0.7777777777777778, \"#fb9f3a\"], [0.8888888888888888, \"#fdca26\"], [1.0, \"#f0f921\"]], \"sequentialminus\": [[0.0, \"#0d0887\"], [0.1111111111111111, \"#46039f\"], [0.2222222222222222, \"#7201a8\"], [0.3333333333333333, \"#9c179e\"], [0.4444444444444444, \"#bd3786\"], [0.5555555555555556, \"#d8576b\"], [0.6666666666666666, \"#ed7953\"], [0.7777777777777778, \"#fb9f3a\"], [0.8888888888888888, \"#fdca26\"], [1.0, \"#f0f921\"]]}, \"colorway\": [\"#636efa\", \"#EF553B\", \"#00cc96\", \"#ab63fa\", \"#FFA15A\", \"#19d3f3\", \"#FF6692\", \"#B6E880\", \"#FF97FF\", \"#FECB52\"], \"font\": {\"color\": \"#2a3f5f\"}, \"geo\": {\"bgcolor\": \"white\", \"lakecolor\": \"white\", \"landcolor\": \"#E5ECF6\", \"showlakes\": true, \"showland\": true, \"subunitcolor\": \"white\"}, \"hoverlabel\": {\"align\": \"left\"}, \"hovermode\": \"closest\", \"mapbox\": {\"style\": \"light\"}, \"paper_bgcolor\": \"white\", \"plot_bgcolor\": \"#E5ECF6\", \"polar\": {\"angularaxis\": {\"gridcolor\": \"white\", \"linecolor\": \"white\", \"ticks\": \"\"}, \"bgcolor\": \"#E5ECF6\", \"radialaxis\": {\"gridcolor\": \"white\", \"linecolor\": \"white\", \"ticks\": \"\"}}, \"scene\": {\"xaxis\": {\"backgroundcolor\": \"#E5ECF6\", \"gridcolor\": \"white\", \"gridwidth\": 2, \"linecolor\": \"white\", \"showbackground\": true, \"ticks\": \"\", \"zerolinecolor\": \"white\"}, \"yaxis\": {\"backgroundcolor\": \"#E5ECF6\", \"gridcolor\": \"white\", \"gridwidth\": 2, \"linecolor\": \"white\", \"showbackground\": true, \"ticks\": \"\", \"zerolinecolor\": \"white\"}, \"zaxis\": {\"backgroundcolor\": \"#E5ECF6\", \"gridcolor\": \"white\", \"gridwidth\": 2, \"linecolor\": \"white\", \"showbackground\": true, \"ticks\": \"\", \"zerolinecolor\": \"white\"}}, \"shapedefaults\": {\"line\": {\"color\": \"#2a3f5f\"}}, \"ternary\": {\"aaxis\": {\"gridcolor\": \"white\", \"linecolor\": \"white\", \"ticks\": \"\"}, \"baxis\": {\"gridcolor\": \"white\", \"linecolor\": \"white\", \"ticks\": \"\"}, \"bgcolor\": \"#E5ECF6\", \"caxis\": {\"gridcolor\": \"white\", \"linecolor\": \"white\", \"ticks\": \"\"}}, \"title\": {\"x\": 0.05}, \"xaxis\": {\"automargin\": true, \"gridcolor\": \"white\", \"linecolor\": \"white\", \"ticks\": \"\", \"zerolinecolor\": \"white\", \"zerolinewidth\": 2}, \"yaxis\": {\"automargin\": true, \"gridcolor\": \"white\", \"linecolor\": \"white\", \"ticks\": \"\", \"zerolinecolor\": \"white\", \"zerolinewidth\": 2}}}, \"updatemenus\": [{\"buttons\": [{\"args\": [null, {\"frame\": {\"duration\": 500, \"redraw\": false}, \"fromcurrent\": true, \"mode\": \"immediate\", \"transition\": {\"duration\": 500, \"easing\": \"linear\"}}], \"label\": \"&#9654;\", \"method\": \"animate\"}, {\"args\": [[null], {\"frame\": {\"duration\": 0, \"redraw\": false}, \"fromcurrent\": true, \"mode\": \"immediate\", \"transition\": {\"duration\": 0, \"easing\": \"linear\"}}], \"label\": \"&#9724;\", \"method\": \"animate\"}], \"direction\": \"left\", \"pad\": {\"r\": 10, \"t\": 70}, \"showactive\": false, \"type\": \"buttons\", \"x\": 0.1, \"xanchor\": \"right\", \"y\": 0, \"yanchor\": \"top\"}], \"xaxis\": {\"anchor\": \"y\", \"domain\": [0.0, 0.98], \"range\": [1.0, 5.0], \"title\": {\"text\": \"GDP_Per_Capita(USD)\"}, \"type\": \"log\"}, \"yaxis\": {\"anchor\": \"x\", \"domain\": [0.0, 1.0], \"range\": [-9.34, 31.29], \"title\": {\"text\": \"Mortality_Rate(%)\"}}},\n",
       "                        {\"responsive\": true}\n",
       "                    ).then(function(){\n",
       "                            Plotly.addFrames('00450cc2-d27f-4a1f-bd09-9499c4e15ab7', [{\"data\": [{\"hoverlabel\": {\"namelength\": 0}, \"hovertemplate\": \"Country_or_Area=Afghanistan<br>Year=1990<br>GDP_Per_Capita(USD)=%{x}<br>Mortality_Rate(%)=%{y}<br>Population(mn)=%{marker.size}\", \"legendgroup\": \"Country_or_Area=Afghanistan\", \"marker\": {\"color\": \"#636efa\", \"size\": [12.249114], \"sizemode\": \"area\", \"sizeref\": 0.05687629546666667, \"symbol\": \"circle\"}, \"mode\": \"markers\", \"name\": \"Country_or_Area=Afghanistan\", \"showlegend\": true, \"x\": [295.66220110000006], \"xaxis\": \"x\", \"y\": [17.73], \"yaxis\": \"y\", \"type\": \"scatter\"}, {\"hoverlabel\": {\"namelength\": 0}, \"hovertemplate\": \"Country_or_Area=United States<br>Year=1990<br>GDP_Per_Capita(USD)=%{x}<br>Mortality_Rate(%)=%{y}<br>Population(mn)=%{marker.size}\", \"legendgroup\": \"Country_or_Area=United States\", \"marker\": {\"color\": \"#EF553B\", \"size\": [252.52995], \"sizemode\": \"area\", \"sizeref\": 0.05687629546666667, \"symbol\": \"circle\"}, \"mode\": \"markers\", \"name\": \"Country_or_Area=United States\", \"showlegend\": true, \"x\": [23613.61098], \"xaxis\": \"x\", \"y\": [1.12], \"yaxis\": \"y\", \"type\": \"scatter\"}, {\"hoverlabel\": {\"namelength\": 0}, \"hovertemplate\": \"Country_or_Area=Brazil<br>Year=1990<br>GDP_Per_Capita(USD)=%{x}<br>Mortality_Rate(%)=%{y}<br>Population(mn)=%{marker.size}\", \"legendgroup\": \"Country_or_Area=Brazil\", \"marker\": {\"color\": \"#00cc96\", \"size\": [149.352145], \"sizemode\": \"area\", \"sizeref\": 0.05687629546666667, \"symbol\": \"circle\"}, \"mode\": \"markers\", \"name\": \"Country_or_Area=Brazil\", \"showlegend\": true, \"x\": [2724.413582], \"xaxis\": \"x\", \"y\": [6.42], \"yaxis\": \"y\", \"type\": \"scatter\"}, {\"hoverlabel\": {\"namelength\": 0}, \"hovertemplate\": \"Country_or_Area=Zimbabwe<br>Year=1990<br>GDP_Per_Capita(USD)=%{x}<br>Mortality_Rate(%)=%{y}<br>Population(mn)=%{marker.size}\", \"legendgroup\": \"Country_or_Area=Zimbabwe\", \"marker\": {\"color\": \"#ab63fa\", \"size\": [10.183113], \"sizemode\": \"area\", \"sizeref\": 0.05687629546666667, \"symbol\": \"circle\"}, \"mode\": \"markers\", \"name\": \"Country_or_Area=Zimbabwe\", \"showlegend\": true, \"x\": [1152.668564], \"xaxis\": \"x\", \"y\": [7.52], \"yaxis\": \"y\", \"type\": \"scatter\"}, {\"hoverlabel\": {\"namelength\": 0}, \"hovertemplate\": \"Country_or_Area=Namibia<br>Year=1990<br>GDP_Per_Capita(USD)=%{x}<br>Mortality_Rate(%)=%{y}<br>Population(mn)=%{marker.size}\", \"legendgroup\": \"Country_or_Area=Namibia\", \"marker\": {\"color\": \"#FFA15A\", \"size\": [1.414692], \"sizemode\": \"area\", \"sizeref\": 0.05687629546666667, \"symbol\": \"circle\"}, \"mode\": \"markers\", \"name\": \"Country_or_Area=Namibia\", \"showlegend\": true, \"x\": [1969.1509440000002], \"xaxis\": \"x\", \"y\": [7.13], \"yaxis\": \"y\", \"type\": \"scatter\"}, {\"hoverlabel\": {\"namelength\": 0}, \"hovertemplate\": \"Country_or_Area=Nigeria<br>Year=1990<br>GDP_Per_Capita(USD)=%{x}<br>Mortality_Rate(%)=%{y}<br>Population(mn)=%{marker.size}\", \"legendgroup\": \"Country_or_Area=Nigeria\", \"marker\": {\"color\": \"#19d3f3\", \"size\": [95.269988], \"sizemode\": \"area\", \"sizeref\": 0.05687629546666667, \"symbol\": \"circle\"}, \"mode\": \"markers\", \"name\": \"Country_or_Area=Nigeria\", \"showlegend\": true, \"x\": [717.2134194], \"xaxis\": \"x\", \"y\": [21.29], \"yaxis\": \"y\", \"type\": \"scatter\"}, {\"hoverlabel\": {\"namelength\": 0}, \"hovertemplate\": \"Country_or_Area=Thailand<br>Year=1990<br>GDP_Per_Capita(USD)=%{x}<br>Mortality_Rate(%)=%{y}<br>Population(mn)=%{marker.size}\", \"legendgroup\": \"Country_or_Area=Thailand\", \"marker\": {\"color\": \"#B6E880\", \"size\": [56.582820999999996], \"sizemode\": \"area\", \"sizeref\": 0.05687629546666667, \"symbol\": \"circle\"}, \"mode\": \"markers\", \"name\": \"Country_or_Area=Thailand\", \"showlegend\": true, \"x\": [1563.3846199999998], \"xaxis\": \"x\", \"y\": [3.78], \"yaxis\": \"y\", \"type\": \"scatter\"}, {\"hoverlabel\": {\"namelength\": 0}, \"hovertemplate\": \"Country_or_Area=Mexico<br>Year=1990<br>GDP_Per_Capita(USD)=%{x}<br>Mortality_Rate(%)=%{y}<br>Population(mn)=%{marker.size}\", \"legendgroup\": \"Country_or_Area=Mexico\", \"marker\": {\"color\": \"#FF97FF\", \"size\": [85.357874], \"sizemode\": \"area\", \"sizeref\": 0.05687629546666667, \"symbol\": \"circle\"}, \"mode\": \"markers\", \"name\": \"Country_or_Area=Mexico\", \"showlegend\": true, \"x\": [3513.9616100000003], \"xaxis\": \"x\", \"y\": [4.57], \"yaxis\": \"y\", \"type\": \"scatter\"}], \"name\": \"1990\"}, {\"data\": [{\"hoverlabel\": {\"namelength\": 0}, \"hovertemplate\": \"Country_or_Area=Afghanistan<br>Year=1991<br>GDP_Per_Capita(USD)=%{x}<br>Mortality_Rate(%)=%{y}<br>Population(mn)=%{marker.size}\", \"legendgroup\": \"Country_or_Area=Afghanistan\", \"marker\": {\"color\": \"#636efa\", \"size\": [12.993657], \"sizemode\": \"area\", \"sizeref\": 0.05687629546666667, \"symbol\": \"circle\"}, \"mode\": \"markers\", \"name\": \"Country_or_Area=Afghanistan\", \"showlegend\": true, \"x\": [257.0561933], \"xaxis\": \"x\", \"y\": [17.11], \"yaxis\": \"y\", \"type\": \"scatter\"}, {\"hoverlabel\": {\"namelength\": 0}, \"hovertemplate\": \"Country_or_Area=United States<br>Year=1991<br>GDP_Per_Capita(USD)=%{x}<br>Mortality_Rate(%)=%{y}<br>Population(mn)=%{marker.size}\", \"legendgroup\": \"Country_or_Area=United States\", \"marker\": {\"color\": \"#EF553B\", \"size\": [254.974819], \"sizemode\": \"area\", \"sizeref\": 0.05687629546666667, \"symbol\": \"circle\"}, \"mode\": \"markers\", \"name\": \"Country_or_Area=United States\", \"showlegend\": true, \"x\": [24151.91047], \"xaxis\": \"x\", \"y\": [1.09], \"yaxis\": \"y\", \"type\": \"scatter\"}, {\"hoverlabel\": {\"namelength\": 0}, \"hovertemplate\": \"Country_or_Area=Brazil<br>Year=1991<br>GDP_Per_Capita(USD)=%{x}<br>Mortality_Rate(%)=%{y}<br>Population(mn)=%{marker.size}\", \"legendgroup\": \"Country_or_Area=Brazil\", \"marker\": {\"color\": \"#00cc96\", \"size\": [151.976577], \"sizemode\": \"area\", \"sizeref\": 0.05687629546666667, \"symbol\": \"circle\"}, \"mode\": \"markers\", \"name\": \"Country_or_Area=Brazil\", \"showlegend\": true, \"x\": [2491.050544], \"xaxis\": \"x\", \"y\": [6.14], \"yaxis\": \"y\", \"type\": \"scatter\"}, {\"hoverlabel\": {\"namelength\": 0}, \"hovertemplate\": \"Country_or_Area=Zimbabwe<br>Year=1991<br>GDP_Per_Capita(USD)=%{x}<br>Mortality_Rate(%)=%{y}<br>Population(mn)=%{marker.size}\", \"legendgroup\": \"Country_or_Area=Zimbabwe\", \"marker\": {\"color\": \"#ab63fa\", \"size\": [10.443043], \"sizemode\": \"area\", \"sizeref\": 0.05687629546666667, \"symbol\": \"circle\"}, \"mode\": \"markers\", \"name\": \"Country_or_Area=Zimbabwe\", \"showlegend\": true, \"x\": [1048.74396], \"xaxis\": \"x\", \"y\": [7.74], \"yaxis\": \"y\", \"type\": \"scatter\"}, {\"hoverlabel\": {\"namelength\": 0}, \"hovertemplate\": \"Country_or_Area=Namibia<br>Year=1991<br>GDP_Per_Capita(USD)=%{x}<br>Mortality_Rate(%)=%{y}<br>Population(mn)=%{marker.size}\", \"legendgroup\": \"Country_or_Area=Namibia\", \"marker\": {\"color\": \"#FFA15A\", \"size\": [1.46574], \"sizemode\": \"area\", \"sizeref\": 0.05687629546666667, \"symbol\": \"circle\"}, \"mode\": \"markers\", \"name\": \"Country_or_Area=Namibia\", \"showlegend\": true, \"x\": [2041.7224170000002], \"xaxis\": \"x\", \"y\": [6.92], \"yaxis\": \"y\", \"type\": \"scatter\"}, {\"hoverlabel\": {\"namelength\": 0}, \"hovertemplate\": \"Country_or_Area=Nigeria<br>Year=1991<br>GDP_Per_Capita(USD)=%{x}<br>Mortality_Rate(%)=%{y}<br>Population(mn)=%{marker.size}\", \"legendgroup\": \"Country_or_Area=Nigeria\", \"marker\": {\"color\": \"#19d3f3\", \"size\": [97.726323], \"sizemode\": \"area\", \"sizeref\": 0.05687629546666667, \"symbol\": \"circle\"}, \"mode\": \"markers\", \"name\": \"Country_or_Area=Nigeria\", \"showlegend\": true, \"x\": [654.8880333], \"xaxis\": \"x\", \"y\": [21.25], \"yaxis\": \"y\", \"type\": \"scatter\"}, {\"hoverlabel\": {\"namelength\": 0}, \"hovertemplate\": \"Country_or_Area=Thailand<br>Year=1991<br>GDP_Per_Capita(USD)=%{x}<br>Mortality_Rate(%)=%{y}<br>Population(mn)=%{marker.size}\", \"legendgroup\": \"Country_or_Area=Thailand\", \"marker\": {\"color\": \"#B6E880\", \"size\": [57.258401], \"sizemode\": \"area\", \"sizeref\": 0.05687629546666667, \"symbol\": \"circle\"}, \"mode\": \"markers\", \"name\": \"Country_or_Area=Thailand\", \"showlegend\": true, \"x\": [1768.248527], \"xaxis\": \"x\", \"y\": [3.58], \"yaxis\": \"y\", \"type\": \"scatter\"}, {\"hoverlabel\": {\"namelength\": 0}, \"hovertemplate\": \"Country_or_Area=Mexico<br>Year=1991<br>GDP_Per_Capita(USD)=%{x}<br>Mortality_Rate(%)=%{y}<br>Population(mn)=%{marker.size}\", \"legendgroup\": \"Country_or_Area=Mexico\", \"marker\": {\"color\": \"#FF97FF\", \"size\": [87.071512], \"sizemode\": \"area\", \"sizeref\": 0.05687629546666667, \"symbol\": \"circle\"}, \"mode\": \"markers\", \"name\": \"Country_or_Area=Mexico\", \"showlegend\": true, \"x\": [4123.260843], \"xaxis\": \"x\", \"y\": [4.35], \"yaxis\": \"y\", \"type\": \"scatter\"}], \"name\": \"1991\"}, {\"data\": [{\"hoverlabel\": {\"namelength\": 0}, \"hovertemplate\": \"Country_or_Area=Afghanistan<br>Year=1992<br>GDP_Per_Capita(USD)=%{x}<br>Mortality_Rate(%)=%{y}<br>Population(mn)=%{marker.size}\", \"legendgroup\": \"Country_or_Area=Afghanistan\", \"marker\": {\"color\": \"#636efa\", \"size\": [13.981231], \"sizemode\": \"area\", \"sizeref\": 0.05687629546666667, \"symbol\": \"circle\"}, \"mode\": \"markers\", \"name\": \"Country_or_Area=Afghanistan\", \"showlegend\": true, \"x\": [248.5188898], \"xaxis\": \"x\", \"y\": [16.52], \"yaxis\": \"y\", \"type\": \"scatter\"}, {\"hoverlabel\": {\"namelength\": 0}, \"hovertemplate\": \"Country_or_Area=United States<br>Year=1992<br>GDP_Per_Capita(USD)=%{x}<br>Mortality_Rate(%)=%{y}<br>Population(mn)=%{marker.size}\", \"legendgroup\": \"Country_or_Area=United States\", \"marker\": {\"color\": \"#EF553B\", \"size\": [257.454273], \"sizemode\": \"area\", \"sizeref\": 0.05687629546666667, \"symbol\": \"circle\"}, \"mode\": \"markers\", \"name\": \"Country_or_Area=United States\", \"showlegend\": true, \"x\": [25326.15569], \"xaxis\": \"x\", \"y\": [1.05], \"yaxis\": \"y\", \"type\": \"scatter\"}, {\"hoverlabel\": {\"namelength\": 0}, \"hovertemplate\": \"Country_or_Area=Brazil<br>Year=1992<br>GDP_Per_Capita(USD)=%{x}<br>Mortality_Rate(%)=%{y}<br>Population(mn)=%{marker.size}\", \"legendgroup\": \"Country_or_Area=Brazil\", \"marker\": {\"color\": \"#00cc96\", \"size\": [154.564278], \"sizemode\": \"area\", \"sizeref\": 0.05687629546666667, \"symbol\": \"circle\"}, \"mode\": \"markers\", \"name\": \"Country_or_Area=Brazil\", \"showlegend\": true, \"x\": [2346.247849], \"xaxis\": \"x\", \"y\": [5.84], \"yaxis\": \"y\", \"type\": \"scatter\"}, {\"hoverlabel\": {\"namelength\": 0}, \"hovertemplate\": \"Country_or_Area=Zimbabwe<br>Year=1992<br>GDP_Per_Capita(USD)=%{x}<br>Mortality_Rate(%)=%{y}<br>Population(mn)=%{marker.size}\", \"legendgroup\": \"Country_or_Area=Zimbabwe\", \"marker\": {\"color\": \"#ab63fa\", \"size\": [10.682868], \"sizemode\": \"area\", \"sizeref\": 0.05687629546666667, \"symbol\": \"circle\"}, \"mode\": \"markers\", \"name\": \"Country_or_Area=Zimbabwe\", \"showlegend\": true, \"x\": [845.4156346000001], \"xaxis\": \"x\", \"y\": [8.02], \"yaxis\": \"y\", \"type\": \"scatter\"}, {\"hoverlabel\": {\"namelength\": 0}, \"hovertemplate\": \"Country_or_Area=Namibia<br>Year=1992<br>GDP_Per_Capita(USD)=%{x}<br>Mortality_Rate(%)=%{y}<br>Population(mn)=%{marker.size}\", \"legendgroup\": \"Country_or_Area=Namibia\", \"marker\": {\"color\": \"#FFA15A\", \"size\": [1.5137209999999999], \"sizemode\": \"area\", \"sizeref\": 0.05687629546666667, \"symbol\": \"circle\"}, \"mode\": \"markers\", \"name\": \"Country_or_Area=Namibia\", \"showlegend\": true, \"x\": [2262.448974], \"xaxis\": \"x\", \"y\": [6.77], \"yaxis\": \"y\", \"type\": \"scatter\"}, {\"hoverlabel\": {\"namelength\": 0}, \"hovertemplate\": \"Country_or_Area=Nigeria<br>Year=1992<br>GDP_Per_Capita(USD)=%{x}<br>Mortality_Rate(%)=%{y}<br>Population(mn)=%{marker.size}\", \"legendgroup\": \"Country_or_Area=Nigeria\", \"marker\": {\"color\": \"#19d3f3\", \"size\": [100.221563], \"sizemode\": \"area\", \"sizeref\": 0.05687629546666667, \"symbol\": \"circle\"}, \"mode\": \"markers\", \"name\": \"Country_or_Area=Nigeria\", \"showlegend\": true, \"x\": [579.5100708], \"xaxis\": \"x\", \"y\": [21.19], \"yaxis\": \"y\", \"type\": \"scatter\"}, {\"hoverlabel\": {\"namelength\": 0}, \"hovertemplate\": \"Country_or_Area=Thailand<br>Year=1992<br>GDP_Per_Capita(USD)=%{x}<br>Mortality_Rate(%)=%{y}<br>Population(mn)=%{marker.size}\", \"legendgroup\": \"Country_or_Area=Thailand\", \"marker\": {\"color\": \"#B6E880\", \"size\": [57.837878], \"sizemode\": \"area\", \"sizeref\": 0.05687629546666667, \"symbol\": \"circle\"}, \"mode\": \"markers\", \"name\": \"Country_or_Area=Thailand\", \"showlegend\": true, \"x\": [1998.305284], \"xaxis\": \"x\", \"y\": [3.4], \"yaxis\": \"y\", \"type\": \"scatter\"}, {\"hoverlabel\": {\"namelength\": 0}, \"hovertemplate\": \"Country_or_Area=Mexico<br>Year=1992<br>GDP_Per_Capita(USD)=%{x}<br>Mortality_Rate(%)=%{y}<br>Population(mn)=%{marker.size}\", \"legendgroup\": \"Country_or_Area=Mexico\", \"marker\": {\"color\": \"#FF97FF\", \"size\": [88.82831], \"sizemode\": \"area\", \"sizeref\": 0.05687629546666667, \"symbol\": \"circle\"}, \"mode\": \"markers\", \"name\": \"Country_or_Area=Mexico\", \"showlegend\": true, \"x\": [4673.561951], \"xaxis\": \"x\", \"y\": [4.14], \"yaxis\": \"y\", \"type\": \"scatter\"}], \"name\": \"1992\"}, {\"data\": [{\"hoverlabel\": {\"namelength\": 0}, \"hovertemplate\": \"Country_or_Area=Afghanistan<br>Year=1993<br>GDP_Per_Capita(USD)=%{x}<br>Mortality_Rate(%)=%{y}<br>Population(mn)=%{marker.size}\", \"legendgroup\": \"Country_or_Area=Afghanistan\", \"marker\": {\"color\": \"#636efa\", \"size\": [15.095099], \"sizemode\": \"area\", \"sizeref\": 0.05687629546666667, \"symbol\": \"circle\"}, \"mode\": \"markers\", \"name\": \"Country_or_Area=Afghanistan\", \"showlegend\": true, \"x\": [176.5076196], \"xaxis\": \"x\", \"y\": [15.96], \"yaxis\": \"y\", \"type\": \"scatter\"}, {\"hoverlabel\": {\"namelength\": 0}, \"hovertemplate\": \"Country_or_Area=United States<br>Year=1993<br>GDP_Per_Capita(USD)=%{x}<br>Mortality_Rate(%)=%{y}<br>Population(mn)=%{marker.size}\", \"legendgroup\": \"Country_or_Area=United States\", \"marker\": {\"color\": \"#EF553B\", \"size\": [260.02018599999997], \"sizemode\": \"area\", \"sizeref\": 0.05687629546666667, \"symbol\": \"circle\"}, \"mode\": \"markers\", \"name\": \"Country_or_Area=United States\", \"showlegend\": true, \"x\": [26377.02521], \"xaxis\": \"x\", \"y\": [1.01], \"yaxis\": \"y\", \"type\": \"scatter\"}, {\"hoverlabel\": {\"namelength\": 0}, \"hovertemplate\": \"Country_or_Area=Brazil<br>Year=1993<br>GDP_Per_Capita(USD)=%{x}<br>Mortality_Rate(%)=%{y}<br>Population(mn)=%{marker.size}\", \"legendgroup\": \"Country_or_Area=Brazil\", \"marker\": {\"color\": \"#00cc96\", \"size\": [157.13268200000002], \"sizemode\": \"area\", \"sizeref\": 0.05687629546666667, \"symbol\": \"circle\"}, \"mode\": \"markers\", \"name\": \"Country_or_Area=Brazil\", \"showlegend\": true, \"x\": [2589.757864], \"xaxis\": \"x\", \"y\": [5.53], \"yaxis\": \"y\", \"type\": \"scatter\"}, {\"hoverlabel\": {\"namelength\": 0}, \"hovertemplate\": \"Country_or_Area=Zimbabwe<br>Year=1993<br>GDP_Per_Capita(USD)=%{x}<br>Mortality_Rate(%)=%{y}<br>Population(mn)=%{marker.size}\", \"legendgroup\": \"Country_or_Area=Zimbabwe\", \"marker\": {\"color\": \"#ab63fa\", \"size\": [10.905756], \"sizemode\": \"area\", \"sizeref\": 0.05687629546666667, \"symbol\": \"circle\"}, \"mode\": \"markers\", \"name\": \"Country_or_Area=Zimbabwe\", \"showlegend\": true, \"x\": [804.4429431], \"xaxis\": \"x\", \"y\": [8.34], \"yaxis\": \"y\", \"type\": \"scatter\"}, {\"hoverlabel\": {\"namelength\": 0}, \"hovertemplate\": \"Country_or_Area=Namibia<br>Year=1993<br>GDP_Per_Capita(USD)=%{x}<br>Mortality_Rate(%)=%{y}<br>Population(mn)=%{marker.size}\", \"legendgroup\": \"Country_or_Area=Namibia\", \"marker\": {\"color\": \"#FFA15A\", \"size\": [1.559983], \"sizemode\": \"area\", \"sizeref\": 0.05687629546666667, \"symbol\": \"circle\"}, \"mode\": \"markers\", \"name\": \"Country_or_Area=Namibia\", \"showlegend\": true, \"x\": [2063.121808], \"xaxis\": \"x\", \"y\": [6.7], \"yaxis\": \"y\", \"type\": \"scatter\"}, {\"hoverlabel\": {\"namelength\": 0}, \"hovertemplate\": \"Country_or_Area=Nigeria<br>Year=1993<br>GDP_Per_Capita(USD)=%{x}<br>Mortality_Rate(%)=%{y}<br>Population(mn)=%{marker.size}\", \"legendgroup\": \"Country_or_Area=Nigeria\", \"marker\": {\"color\": \"#19d3f3\", \"size\": [102.761737], \"sizemode\": \"area\", \"sizeref\": 0.05687629546666667, \"symbol\": \"circle\"}, \"mode\": \"markers\", \"name\": \"Country_or_Area=Nigeria\", \"showlegend\": true, \"x\": [551.413497], \"xaxis\": \"x\", \"y\": [21.12], \"yaxis\": \"y\", \"type\": \"scatter\"}, {\"hoverlabel\": {\"namelength\": 0}, \"hovertemplate\": \"Country_or_Area=Thailand<br>Year=1993<br>GDP_Per_Capita(USD)=%{x}<br>Mortality_Rate(%)=%{y}<br>Population(mn)=%{marker.size}\", \"legendgroup\": \"Country_or_Area=Thailand\", \"marker\": {\"color\": \"#B6E880\", \"size\": [58.364891], \"sizemode\": \"area\", \"sizeref\": 0.05687629546666667, \"symbol\": \"circle\"}, \"mode\": \"markers\", \"name\": \"Country_or_Area=Thailand\", \"showlegend\": true, \"x\": [2208.344328], \"xaxis\": \"x\", \"y\": [3.22], \"yaxis\": \"y\", \"type\": \"scatter\"}, {\"hoverlabel\": {\"namelength\": 0}, \"hovertemplate\": \"Country_or_Area=Mexico<br>Year=1993<br>GDP_Per_Capita(USD)=%{x}<br>Mortality_Rate(%)=%{y}<br>Population(mn)=%{marker.size}\", \"legendgroup\": \"Country_or_Area=Mexico\", \"marker\": {\"color\": \"#FF97FF\", \"size\": [90.600453], \"sizemode\": \"area\", \"sizeref\": 0.05687629546666667, \"symbol\": \"circle\"}, \"mode\": \"markers\", \"name\": \"Country_or_Area=Mexico\", \"showlegend\": true, \"x\": [5526.8309420000005], \"xaxis\": \"x\", \"y\": [3.93], \"yaxis\": \"y\", \"type\": \"scatter\"}], \"name\": \"1993\"}, {\"data\": [{\"hoverlabel\": {\"namelength\": 0}, \"hovertemplate\": \"Country_or_Area=Afghanistan<br>Year=1994<br>GDP_Per_Capita(USD)=%{x}<br>Mortality_Rate(%)=%{y}<br>Population(mn)=%{marker.size}\", \"legendgroup\": \"Country_or_Area=Afghanistan\", \"marker\": {\"color\": \"#636efa\", \"size\": [16.172719], \"sizemode\": \"area\", \"sizeref\": 0.05687629546666667, \"symbol\": \"circle\"}, \"mode\": \"markers\", \"name\": \"Country_or_Area=Afghanistan\", \"showlegend\": true, \"x\": [130.7510506], \"xaxis\": \"x\", \"y\": [15.45], \"yaxis\": \"y\", \"type\": \"scatter\"}, {\"hoverlabel\": {\"namelength\": 0}, \"hovertemplate\": \"Country_or_Area=United States<br>Year=1994<br>GDP_Per_Capita(USD)=%{x}<br>Mortality_Rate(%)=%{y}<br>Population(mn)=%{marker.size}\", \"legendgroup\": \"Country_or_Area=United States\", \"marker\": {\"color\": \"#EF553B\", \"size\": [262.74156600000003], \"sizemode\": \"area\", \"sizeref\": 0.05687629546666667, \"symbol\": \"circle\"}, \"mode\": \"markers\", \"name\": \"Country_or_Area=United States\", \"showlegend\": true, \"x\": [27735.37553], \"xaxis\": \"x\", \"y\": [0.98], \"yaxis\": \"y\", \"type\": \"scatter\"}, {\"hoverlabel\": {\"namelength\": 0}, \"hovertemplate\": \"Country_or_Area=Brazil<br>Year=1994<br>GDP_Per_Capita(USD)=%{x}<br>Mortality_Rate(%)=%{y}<br>Population(mn)=%{marker.size}\", \"legendgroup\": \"Country_or_Area=Brazil\", \"marker\": {\"color\": \"#00cc96\", \"size\": [159.705123], \"sizemode\": \"area\", \"sizeref\": 0.05687629546666667, \"symbol\": \"circle\"}, \"mode\": \"markers\", \"name\": \"Country_or_Area=Brazil\", \"showlegend\": true, \"x\": [3634.788625], \"xaxis\": \"x\", \"y\": [5.22], \"yaxis\": \"y\", \"type\": \"scatter\"}, {\"hoverlabel\": {\"namelength\": 0}, \"hovertemplate\": \"Country_or_Area=Zimbabwe<br>Year=1994<br>GDP_Per_Capita(USD)=%{x}<br>Mortality_Rate(%)=%{y}<br>Population(mn)=%{marker.size}\", \"legendgroup\": \"Country_or_Area=Zimbabwe\", \"marker\": {\"color\": \"#ab63fa\", \"size\": [11.116947999999999], \"sizemode\": \"area\", \"sizeref\": 0.05687629546666667, \"symbol\": \"circle\"}, \"mode\": \"markers\", \"name\": \"Country_or_Area=Zimbabwe\", \"showlegend\": true, \"x\": [829.7268767], \"xaxis\": \"x\", \"y\": [8.68], \"yaxis\": \"y\", \"type\": \"scatter\"}, {\"hoverlabel\": {\"namelength\": 0}, \"hovertemplate\": \"Country_or_Area=Namibia<br>Year=1994<br>GDP_Per_Capita(USD)=%{x}<br>Mortality_Rate(%)=%{y}<br>Population(mn)=%{marker.size}\", \"legendgroup\": \"Country_or_Area=Namibia\", \"marker\": {\"color\": \"#FFA15A\", \"size\": [1.606718], \"sizemode\": \"area\", \"sizeref\": 0.05687629546666667, \"symbol\": \"circle\"}, \"mode\": \"markers\", \"name\": \"Country_or_Area=Namibia\", \"showlegend\": true, \"x\": [2263.401362], \"xaxis\": \"x\", \"y\": [6.7], \"yaxis\": \"y\", \"type\": \"scatter\"}, {\"hoverlabel\": {\"namelength\": 0}, \"hovertemplate\": \"Country_or_Area=Nigeria<br>Year=1994<br>GDP_Per_Capita(USD)=%{x}<br>Mortality_Rate(%)=%{y}<br>Population(mn)=%{marker.size}\", \"legendgroup\": \"Country_or_Area=Nigeria\", \"marker\": {\"color\": \"#19d3f3\", \"size\": [105.355783], \"sizemode\": \"area\", \"sizeref\": 0.05687629546666667, \"symbol\": \"circle\"}, \"mode\": \"markers\", \"name\": \"Country_or_Area=Nigeria\", \"showlegend\": true, \"x\": [446.7591039], \"xaxis\": \"x\", \"y\": [21.01], \"yaxis\": \"y\", \"type\": \"scatter\"}, {\"hoverlabel\": {\"namelength\": 0}, \"hovertemplate\": \"Country_or_Area=Thailand<br>Year=1994<br>GDP_Per_Capita(USD)=%{x}<br>Mortality_Rate(%)=%{y}<br>Population(mn)=%{marker.size}\", \"legendgroup\": \"Country_or_Area=Thailand\", \"marker\": {\"color\": \"#B6E880\", \"size\": [58.901666000000006], \"sizemode\": \"area\", \"sizeref\": 0.05687629546666667, \"symbol\": \"circle\"}, \"mode\": \"markers\", \"name\": \"Country_or_Area=Thailand\", \"showlegend\": true, \"x\": [2490.316311], \"xaxis\": \"x\", \"y\": [3.06], \"yaxis\": \"y\", \"type\": \"scatter\"}, {\"hoverlabel\": {\"namelength\": 0}, \"hovertemplate\": \"Country_or_Area=Mexico<br>Year=1994<br>GDP_Per_Capita(USD)=%{x}<br>Mortality_Rate(%)=%{y}<br>Population(mn)=%{marker.size}\", \"legendgroup\": \"Country_or_Area=Mexico\", \"marker\": {\"color\": \"#FF97FF\", \"size\": [92.349147], \"sizemode\": \"area\", \"sizeref\": 0.05687629546666667, \"symbol\": \"circle\"}, \"mode\": \"markers\", \"name\": \"Country_or_Area=Mexico\", \"showlegend\": true, \"x\": [5715.381775], \"xaxis\": \"x\", \"y\": [3.74], \"yaxis\": \"y\", \"type\": \"scatter\"}], \"name\": \"1994\"}, {\"data\": [{\"hoverlabel\": {\"namelength\": 0}, \"hovertemplate\": \"Country_or_Area=Afghanistan<br>Year=1995<br>GDP_Per_Capita(USD)=%{x}<br>Mortality_Rate(%)=%{y}<br>Population(mn)=%{marker.size}\", \"legendgroup\": \"Country_or_Area=Afghanistan\", \"marker\": {\"color\": \"#636efa\", \"size\": [17.099541000000002], \"sizemode\": \"area\", \"sizeref\": 0.05687629546666667, \"symbol\": \"circle\"}, \"mode\": \"markers\", \"name\": \"Country_or_Area=Afghanistan\", \"showlegend\": true, \"x\": [189.26239019999997], \"xaxis\": \"x\", \"y\": [14.96], \"yaxis\": \"y\", \"type\": \"scatter\"}, {\"hoverlabel\": {\"namelength\": 0}, \"hovertemplate\": \"Country_or_Area=United States<br>Year=1995<br>GDP_Per_Capita(USD)=%{x}<br>Mortality_Rate(%)=%{y}<br>Population(mn)=%{marker.size}\", \"legendgroup\": \"Country_or_Area=United States\", \"marker\": {\"color\": \"#EF553B\", \"size\": [265.65884900000003], \"sizemode\": \"area\", \"sizeref\": 0.05687629546666667, \"symbol\": \"circle\"}, \"mode\": \"markers\", \"name\": \"Country_or_Area=United States\", \"showlegend\": true, \"x\": [28757.743360000004], \"xaxis\": \"x\", \"y\": [0.95], \"yaxis\": \"y\", \"type\": \"scatter\"}, {\"hoverlabel\": {\"namelength\": 0}, \"hovertemplate\": \"Country_or_Area=Brazil<br>Year=1995<br>GDP_Per_Capita(USD)=%{x}<br>Mortality_Rate(%)=%{y}<br>Population(mn)=%{marker.size}\", \"legendgroup\": \"Country_or_Area=Brazil\", \"marker\": {\"color\": \"#00cc96\", \"size\": [162.296612], \"sizemode\": \"area\", \"sizeref\": 0.05687629546666667, \"symbol\": \"circle\"}, \"mode\": \"markers\", \"name\": \"Country_or_Area=Brazil\", \"showlegend\": true, \"x\": [4794.017645], \"xaxis\": \"x\", \"y\": [4.91], \"yaxis\": \"y\", \"type\": \"scatter\"}, {\"hoverlabel\": {\"namelength\": 0}, \"hovertemplate\": \"Country_or_Area=Zimbabwe<br>Year=1995<br>GDP_Per_Capita(USD)=%{x}<br>Mortality_Rate(%)=%{y}<br>Population(mn)=%{marker.size}\", \"legendgroup\": \"Country_or_Area=Zimbabwe\", \"marker\": {\"color\": \"#ab63fa\", \"size\": [11.320346], \"sizemode\": \"area\", \"sizeref\": 0.05687629546666667, \"symbol\": \"circle\"}, \"mode\": \"markers\", \"name\": \"Country_or_Area=Zimbabwe\", \"showlegend\": true, \"x\": [845.9514872999999], \"xaxis\": \"x\", \"y\": [9.01], \"yaxis\": \"y\", \"type\": \"scatter\"}, {\"hoverlabel\": {\"namelength\": 0}, \"hovertemplate\": \"Country_or_Area=Namibia<br>Year=1995<br>GDP_Per_Capita(USD)=%{x}<br>Mortality_Rate(%)=%{y}<br>Population(mn)=%{marker.size}\", \"legendgroup\": \"Country_or_Area=Namibia\", \"marker\": {\"color\": \"#FFA15A\", \"size\": [1.655359], \"sizemode\": \"area\", \"sizeref\": 0.05687629546666667, \"symbol\": \"circle\"}, \"mode\": \"markers\", \"name\": \"Country_or_Area=Namibia\", \"showlegend\": true, \"x\": [2381.655278], \"xaxis\": \"x\", \"y\": [6.77], \"yaxis\": \"y\", \"type\": \"scatter\"}, {\"hoverlabel\": {\"namelength\": 0}, \"hovertemplate\": \"Country_or_Area=Nigeria<br>Year=1995<br>GDP_Per_Capita(USD)=%{x}<br>Mortality_Rate(%)=%{y}<br>Population(mn)=%{marker.size}\", \"legendgroup\": \"Country_or_Area=Nigeria\", \"marker\": {\"color\": \"#19d3f3\", \"size\": [108.01146499999999], \"sizemode\": \"area\", \"sizeref\": 0.05687629546666667, \"symbol\": \"circle\"}, \"mode\": \"markers\", \"name\": \"Country_or_Area=Nigeria\", \"showlegend\": true, \"x\": [453.93328099999997], \"xaxis\": \"x\", \"y\": [20.83], \"yaxis\": \"y\", \"type\": \"scatter\"}, {\"hoverlabel\": {\"namelength\": 0}, \"hovertemplate\": \"Country_or_Area=Thailand<br>Year=1995<br>GDP_Per_Capita(USD)=%{x}<br>Mortality_Rate(%)=%{y}<br>Population(mn)=%{marker.size}\", \"legendgroup\": \"Country_or_Area=Thailand\", \"marker\": {\"color\": \"#B6E880\", \"size\": [59.49179], \"sizemode\": \"area\", \"sizeref\": 0.05687629546666667, \"symbol\": \"circle\"}, \"mode\": \"markers\", \"name\": \"Country_or_Area=Thailand\", \"showlegend\": true, \"x\": [2845.413088], \"xaxis\": \"x\", \"y\": [2.92], \"yaxis\": \"y\", \"type\": \"scatter\"}, {\"hoverlabel\": {\"namelength\": 0}, \"hovertemplate\": \"Country_or_Area=Mexico<br>Year=1995<br>GDP_Per_Capita(USD)=%{x}<br>Mortality_Rate(%)=%{y}<br>Population(mn)=%{marker.size}\", \"legendgroup\": \"Country_or_Area=Mexico\", \"marker\": {\"color\": \"#FF97FF\", \"size\": [94.045579], \"sizemode\": \"area\", \"sizeref\": 0.05687629546666667, \"symbol\": \"circle\"}, \"mode\": \"markers\", \"name\": \"Country_or_Area=Mexico\", \"showlegend\": true, \"x\": [3828.702112], \"xaxis\": \"x\", \"y\": [3.55], \"yaxis\": \"y\", \"type\": \"scatter\"}], \"name\": \"1995\"}, {\"data\": [{\"hoverlabel\": {\"namelength\": 0}, \"hovertemplate\": \"Country_or_Area=Afghanistan<br>Year=1996<br>GDP_Per_Capita(USD)=%{x}<br>Mortality_Rate(%)=%{y}<br>Population(mn)=%{marker.size}\", \"legendgroup\": \"Country_or_Area=Afghanistan\", \"marker\": {\"color\": \"#636efa\", \"size\": [17.822884], \"sizemode\": \"area\", \"sizeref\": 0.05687629546666667, \"symbol\": \"circle\"}, \"mode\": \"markers\", \"name\": \"Country_or_Area=Afghanistan\", \"showlegend\": true, \"x\": [175.30044019999997], \"xaxis\": \"x\", \"y\": [14.51], \"yaxis\": \"y\", \"type\": \"scatter\"}, {\"hoverlabel\": {\"namelength\": 0}, \"hovertemplate\": \"Country_or_Area=United States<br>Year=1996<br>GDP_Per_Capita(USD)=%{x}<br>Mortality_Rate(%)=%{y}<br>Population(mn)=%{marker.size}\", \"legendgroup\": \"Country_or_Area=United States\", \"marker\": {\"color\": \"#EF553B\", \"size\": [268.803424], \"sizemode\": \"area\", \"sizeref\": 0.05687629546666667, \"symbol\": \"circle\"}, \"mode\": \"markers\", \"name\": \"Country_or_Area=United States\", \"showlegend\": true, \"x\": [30033.553439999996], \"xaxis\": \"x\", \"y\": [0.92], \"yaxis\": \"y\", \"type\": \"scatter\"}, {\"hoverlabel\": {\"namelength\": 0}, \"hovertemplate\": \"Country_or_Area=Brazil<br>Year=1996<br>GDP_Per_Capita(USD)=%{x}<br>Mortality_Rate(%)=%{y}<br>Population(mn)=%{marker.size}\", \"legendgroup\": \"Country_or_Area=Brazil\", \"marker\": {\"color\": \"#00cc96\", \"size\": [164.913306], \"sizemode\": \"area\", \"sizeref\": 0.05687629546666667, \"symbol\": \"circle\"}, \"mode\": \"markers\", \"name\": \"Country_or_Area=Brazil\", \"showlegend\": true, \"x\": [5151.933065], \"xaxis\": \"x\", \"y\": [4.6], \"yaxis\": \"y\", \"type\": \"scatter\"}, {\"hoverlabel\": {\"namelength\": 0}, \"hovertemplate\": \"Country_or_Area=Zimbabwe<br>Year=1996<br>GDP_Per_Capita(USD)=%{x}<br>Mortality_Rate(%)=%{y}<br>Population(mn)=%{marker.size}\", \"legendgroup\": \"Country_or_Area=Zimbabwe\", \"marker\": {\"color\": \"#ab63fa\", \"size\": [11.518262], \"sizemode\": \"area\", \"sizeref\": 0.05687629546666667, \"symbol\": \"circle\"}, \"mode\": \"markers\", \"name\": \"Country_or_Area=Zimbabwe\", \"showlegend\": true, \"x\": [1012.011227], \"xaxis\": \"x\", \"y\": [9.28], \"yaxis\": \"y\", \"type\": \"scatter\"}, {\"hoverlabel\": {\"namelength\": 0}, \"hovertemplate\": \"Country_or_Area=Namibia<br>Year=1996<br>GDP_Per_Capita(USD)=%{x}<br>Mortality_Rate(%)=%{y}<br>Population(mn)=%{marker.size}\", \"legendgroup\": \"Country_or_Area=Namibia\", \"marker\": {\"color\": \"#FFA15A\", \"size\": [1.706489], \"sizemode\": \"area\", \"sizeref\": 0.05687629546666667, \"symbol\": \"circle\"}, \"mode\": \"markers\", \"name\": \"Country_or_Area=Namibia\", \"showlegend\": true, \"x\": [2311.9373530000003], \"xaxis\": \"x\", \"y\": [6.89], \"yaxis\": \"y\", \"type\": \"scatter\"}, {\"hoverlabel\": {\"namelength\": 0}, \"hovertemplate\": \"Country_or_Area=Nigeria<br>Year=1996<br>GDP_Per_Capita(USD)=%{x}<br>Mortality_Rate(%)=%{y}<br>Population(mn)=%{marker.size}\", \"legendgroup\": \"Country_or_Area=Nigeria\", \"marker\": {\"color\": \"#19d3f3\", \"size\": [110.732904], \"sizemode\": \"area\", \"sizeref\": 0.05687629546666667, \"symbol\": \"circle\"}, \"mode\": \"markers\", \"name\": \"Country_or_Area=Nigeria\", \"showlegend\": true, \"x\": [469.4904954], \"xaxis\": \"x\", \"y\": [20.57], \"yaxis\": \"y\", \"type\": \"scatter\"}, {\"hoverlabel\": {\"namelength\": 0}, \"hovertemplate\": \"Country_or_Area=Thailand<br>Year=1996<br>GDP_Per_Capita(USD)=%{x}<br>Mortality_Rate(%)=%{y}<br>Population(mn)=%{marker.size}\", \"legendgroup\": \"Country_or_Area=Thailand\", \"marker\": {\"color\": \"#B6E880\", \"size\": [60.151472], \"sizemode\": \"area\", \"sizeref\": 0.05687629546666667, \"symbol\": \"circle\"}, \"mode\": \"markers\", \"name\": \"Country_or_Area=Thailand\", \"showlegend\": true, \"x\": [3042.906047], \"xaxis\": \"x\", \"y\": [2.78], \"yaxis\": \"y\", \"type\": \"scatter\"}, {\"hoverlabel\": {\"namelength\": 0}, \"hovertemplate\": \"Country_or_Area=Mexico<br>Year=1996<br>GDP_Per_Capita(USD)=%{x}<br>Mortality_Rate(%)=%{y}<br>Population(mn)=%{marker.size}\", \"legendgroup\": \"Country_or_Area=Mexico\", \"marker\": {\"color\": \"#FF97FF\", \"size\": [95.68745200000001], \"sizemode\": \"area\", \"sizeref\": 0.05687629546666667, \"symbol\": \"circle\"}, \"mode\": \"markers\", \"name\": \"Country_or_Area=Mexico\", \"showlegend\": true, \"x\": [4294.951620000001], \"xaxis\": \"x\", \"y\": [3.37], \"yaxis\": \"y\", \"type\": \"scatter\"}], \"name\": \"1996\"}, {\"data\": [{\"hoverlabel\": {\"namelength\": 0}, \"hovertemplate\": \"Country_or_Area=Afghanistan<br>Year=1997<br>GDP_Per_Capita(USD)=%{x}<br>Mortality_Rate(%)=%{y}<br>Population(mn)=%{marker.size}\", \"legendgroup\": \"Country_or_Area=Afghanistan\", \"marker\": {\"color\": \"#636efa\", \"size\": [18.381605], \"sizemode\": \"area\", \"sizeref\": 0.05687629546666667, \"symbol\": \"circle\"}, \"mode\": \"markers\", \"name\": \"Country_or_Area=Afghanistan\", \"showlegend\": true, \"x\": [164.092893], \"xaxis\": \"x\", \"y\": [14.1], \"yaxis\": \"y\", \"type\": \"scatter\"}, {\"hoverlabel\": {\"namelength\": 0}, \"hovertemplate\": \"Country_or_Area=United States<br>Year=1997<br>GDP_Per_Capita(USD)=%{x}<br>Mortality_Rate(%)=%{y}<br>Population(mn)=%{marker.size}\", \"legendgroup\": \"Country_or_Area=United States\", \"marker\": {\"color\": \"#EF553B\", \"size\": [272.136551], \"sizemode\": \"area\", \"sizeref\": 0.05687629546666667, \"symbol\": \"circle\"}, \"mode\": \"markers\", \"name\": \"Country_or_Area=United States\", \"showlegend\": true, \"x\": [31519.29415], \"xaxis\": \"x\", \"y\": [0.89], \"yaxis\": \"y\", \"type\": \"scatter\"}, {\"hoverlabel\": {\"namelength\": 0}, \"hovertemplate\": \"Country_or_Area=Brazil<br>Year=1997<br>GDP_Per_Capita(USD)=%{x}<br>Mortality_Rate(%)=%{y}<br>Population(mn)=%{marker.size}\", \"legendgroup\": \"Country_or_Area=Brazil\", \"marker\": {\"color\": \"#00cc96\", \"size\": [167.545164], \"sizemode\": \"area\", \"sizeref\": 0.05687629546666667, \"symbol\": \"circle\"}, \"mode\": \"markers\", \"name\": \"Country_or_Area=Brazil\", \"showlegend\": true, \"x\": [5261.341686], \"xaxis\": \"x\", \"y\": [4.32], \"yaxis\": \"y\", \"type\": \"scatter\"}, {\"hoverlabel\": {\"namelength\": 0}, \"hovertemplate\": \"Country_or_Area=Zimbabwe<br>Year=1997<br>GDP_Per_Capita(USD)=%{x}<br>Mortality_Rate(%)=%{y}<br>Population(mn)=%{marker.size}\", \"legendgroup\": \"Country_or_Area=Zimbabwe\", \"marker\": {\"color\": \"#ab63fa\", \"size\": [11.709997], \"sizemode\": \"area\", \"sizeref\": 0.05687629546666667, \"symbol\": \"circle\"}, \"mode\": \"markers\", \"name\": \"Country_or_Area=Zimbabwe\", \"showlegend\": true, \"x\": [1024.1027390000002], \"xaxis\": \"x\", \"y\": [9.47], \"yaxis\": \"y\", \"type\": \"scatter\"}, {\"hoverlabel\": {\"namelength\": 0}, \"hovertemplate\": \"Country_or_Area=Namibia<br>Year=1997<br>GDP_Per_Capita(USD)=%{x}<br>Mortality_Rate(%)=%{y}<br>Population(mn)=%{marker.size}\", \"legendgroup\": \"Country_or_Area=Namibia\", \"marker\": {\"color\": \"#FFA15A\", \"size\": [1.758994], \"sizemode\": \"area\", \"sizeref\": 0.05687629546666667, \"symbol\": \"circle\"}, \"mode\": \"markers\", \"name\": \"Country_or_Area=Namibia\", \"showlegend\": true, \"x\": [2332.402982], \"xaxis\": \"x\", \"y\": [7.04], \"yaxis\": \"y\", \"type\": \"scatter\"}, {\"hoverlabel\": {\"namelength\": 0}, \"hovertemplate\": \"Country_or_Area=Nigeria<br>Year=1997<br>GDP_Per_Capita(USD)=%{x}<br>Mortality_Rate(%)=%{y}<br>Population(mn)=%{marker.size}\", \"legendgroup\": \"Country_or_Area=Nigeria\", \"marker\": {\"color\": \"#19d3f3\", \"size\": [113.522705], \"sizemode\": \"area\", \"sizeref\": 0.05687629546666667, \"symbol\": \"circle\"}, \"mode\": \"markers\", \"name\": \"Country_or_Area=Nigeria\", \"showlegend\": true, \"x\": [479.2522118], \"xaxis\": \"x\", \"y\": [20.21], \"yaxis\": \"y\", \"type\": \"scatter\"}, {\"hoverlabel\": {\"namelength\": 0}, \"hovertemplate\": \"Country_or_Area=Thailand<br>Year=1997<br>GDP_Per_Capita(USD)=%{x}<br>Mortality_Rate(%)=%{y}<br>Population(mn)=%{marker.size}\", \"legendgroup\": \"Country_or_Area=Thailand\", \"marker\": {\"color\": \"#B6E880\", \"size\": [60.86350600000001], \"sizemode\": \"area\", \"sizeref\": 0.05687629546666667, \"symbol\": \"circle\"}, \"mode\": \"markers\", \"name\": \"Country_or_Area=Thailand\", \"showlegend\": true, \"x\": [2467.490185], \"xaxis\": \"x\", \"y\": [2.65], \"yaxis\": \"y\", \"type\": \"scatter\"}, {\"hoverlabel\": {\"namelength\": 0}, \"hovertemplate\": \"Country_or_Area=Mexico<br>Year=1997<br>GDP_Per_Capita(USD)=%{x}<br>Mortality_Rate(%)=%{y}<br>Population(mn)=%{marker.size}\", \"legendgroup\": \"Country_or_Area=Mexico\", \"marker\": {\"color\": \"#FF97FF\", \"size\": [97.281739], \"sizemode\": \"area\", \"sizeref\": 0.05687629546666667, \"symbol\": \"circle\"}, \"mode\": \"markers\", \"name\": \"Country_or_Area=Mexico\", \"showlegend\": true, \"x\": [5143.987105], \"xaxis\": \"x\", \"y\": [3.19], \"yaxis\": \"y\", \"type\": \"scatter\"}], \"name\": \"1997\"}, {\"data\": [{\"hoverlabel\": {\"namelength\": 0}, \"hovertemplate\": \"Country_or_Area=Afghanistan<br>Year=1998<br>GDP_Per_Capita(USD)=%{x}<br>Mortality_Rate(%)=%{y}<br>Population(mn)=%{marker.size}\", \"legendgroup\": \"Country_or_Area=Afghanistan\", \"marker\": {\"color\": \"#636efa\", \"size\": [18.863999], \"sizemode\": \"area\", \"sizeref\": 0.05687629546666667, \"symbol\": \"circle\"}, \"mode\": \"markers\", \"name\": \"Country_or_Area=Afghanistan\", \"showlegend\": true, \"x\": [154.366], \"xaxis\": \"x\", \"y\": [13.71], \"yaxis\": \"y\", \"type\": \"scatter\"}, {\"hoverlabel\": {\"namelength\": 0}, \"hovertemplate\": \"Country_or_Area=United States<br>Year=1998<br>GDP_Per_Capita(USD)=%{x}<br>Mortality_Rate(%)=%{y}<br>Population(mn)=%{marker.size}\", \"legendgroup\": \"Country_or_Area=United States\", \"marker\": {\"color\": \"#EF553B\", \"size\": [275.542603], \"sizemode\": \"area\", \"sizeref\": 0.05687629546666667, \"symbol\": \"circle\"}, \"mode\": \"markers\", \"name\": \"Country_or_Area=United States\", \"showlegend\": true, \"x\": [32890.80128], \"xaxis\": \"x\", \"y\": [0.87], \"yaxis\": \"y\", \"type\": \"scatter\"}, {\"hoverlabel\": {\"namelength\": 0}, \"hovertemplate\": \"Country_or_Area=Brazil<br>Year=1998<br>GDP_Per_Capita(USD)=%{x}<br>Mortality_Rate(%)=%{y}<br>Population(mn)=%{marker.size}\", \"legendgroup\": \"Country_or_Area=Brazil\", \"marker\": {\"color\": \"#00cc96\", \"size\": [170.17064], \"sizemode\": \"area\", \"sizeref\": 0.05687629546666667, \"symbol\": \"circle\"}, \"mode\": \"markers\", \"name\": \"Country_or_Area=Brazil\", \"showlegend\": true, \"x\": [5017.40697], \"xaxis\": \"x\", \"y\": [4.06], \"yaxis\": \"y\", \"type\": \"scatter\"}, {\"hoverlabel\": {\"namelength\": 0}, \"hovertemplate\": \"Country_or_Area=Zimbabwe<br>Year=1998<br>GDP_Per_Capita(USD)=%{x}<br>Mortality_Rate(%)=%{y}<br>Population(mn)=%{marker.size}\", \"legendgroup\": \"Country_or_Area=Zimbabwe\", \"marker\": {\"color\": \"#ab63fa\", \"size\": [11.893272], \"sizemode\": \"area\", \"sizeref\": 0.05687629546666667, \"symbol\": \"circle\"}, \"mode\": \"markers\", \"name\": \"Country_or_Area=Zimbabwe\", \"showlegend\": true, \"x\": [706.397499], \"xaxis\": \"x\", \"y\": [9.59], \"yaxis\": \"y\", \"type\": \"scatter\"}, {\"hoverlabel\": {\"namelength\": 0}, \"hovertemplate\": \"Country_or_Area=Namibia<br>Year=1998<br>GDP_Per_Capita(USD)=%{x}<br>Mortality_Rate(%)=%{y}<br>Population(mn)=%{marker.size}\", \"legendgroup\": \"Country_or_Area=Namibia\", \"marker\": {\"color\": \"#FFA15A\", \"size\": [1.810566], \"sizemode\": \"area\", \"sizeref\": 0.05687629546666667, \"symbol\": \"circle\"}, \"mode\": \"markers\", \"name\": \"Country_or_Area=Namibia\", \"showlegend\": true, \"x\": [2113.4488309999997], \"xaxis\": \"x\", \"y\": [7.19], \"yaxis\": \"y\", \"type\": \"scatter\"}, {\"hoverlabel\": {\"namelength\": 0}, \"hovertemplate\": \"Country_or_Area=Nigeria<br>Year=1998<br>GDP_Per_Capita(USD)=%{x}<br>Mortality_Rate(%)=%{y}<br>Population(mn)=%{marker.size}\", \"legendgroup\": \"Country_or_Area=Nigeria\", \"marker\": {\"color\": \"#19d3f3\", \"size\": [116.38575], \"sizemode\": \"area\", \"sizeref\": 0.05687629546666667, \"symbol\": \"circle\"}, \"mode\": \"markers\", \"name\": \"Country_or_Area=Nigeria\", \"showlegend\": true, \"x\": [485.8395598], \"xaxis\": \"x\", \"y\": [19.77], \"yaxis\": \"y\", \"type\": \"scatter\"}, {\"hoverlabel\": {\"namelength\": 0}, \"hovertemplate\": \"Country_or_Area=Thailand<br>Year=1998<br>GDP_Per_Capita(USD)=%{x}<br>Mortality_Rate(%)=%{y}<br>Population(mn)=%{marker.size}\", \"legendgroup\": \"Country_or_Area=Thailand\", \"marker\": {\"color\": \"#B6E880\", \"size\": [61.597283], \"sizemode\": \"area\", \"sizeref\": 0.05687629546666667, \"symbol\": \"circle\"}, \"mode\": \"markers\", \"name\": \"Country_or_Area=Thailand\", \"showlegend\": true, \"x\": [1845.4667960000002], \"xaxis\": \"x\", \"y\": [2.53], \"yaxis\": \"y\", \"type\": \"scatter\"}, {\"hoverlabel\": {\"namelength\": 0}, \"hovertemplate\": \"Country_or_Area=Mexico<br>Year=1998<br>GDP_Per_Capita(USD)=%{x}<br>Mortality_Rate(%)=%{y}<br>Population(mn)=%{marker.size}\", \"legendgroup\": \"Country_or_Area=Mexico\", \"marker\": {\"color\": \"#FF97FF\", \"size\": [98.82145600000001], \"sizemode\": \"area\", \"sizeref\": 0.05687629546666667, \"symbol\": \"circle\"}, \"mode\": \"markers\", \"name\": \"Country_or_Area=Mexico\", \"showlegend\": true, \"x\": [5327.787554], \"xaxis\": \"x\", \"y\": [3.01], \"yaxis\": \"y\", \"type\": \"scatter\"}], \"name\": \"1998\"}, {\"data\": [{\"hoverlabel\": {\"namelength\": 0}, \"hovertemplate\": \"Country_or_Area=Afghanistan<br>Year=1999<br>GDP_Per_Capita(USD)=%{x}<br>Mortality_Rate(%)=%{y}<br>Population(mn)=%{marker.size}\", \"legendgroup\": \"Country_or_Area=Afghanistan\", \"marker\": {\"color\": \"#636efa\", \"size\": [19.403676], \"sizemode\": \"area\", \"sizeref\": 0.05687629546666667, \"symbol\": \"circle\"}, \"mode\": \"markers\", \"name\": \"Country_or_Area=Afghanistan\", \"showlegend\": true, \"x\": [140.17922040000002], \"xaxis\": \"x\", \"y\": [13.34], \"yaxis\": \"y\", \"type\": \"scatter\"}, {\"hoverlabel\": {\"namelength\": 0}, \"hovertemplate\": \"Country_or_Area=United States<br>Year=1999<br>GDP_Per_Capita(USD)=%{x}<br>Mortality_Rate(%)=%{y}<br>Population(mn)=%{marker.size}\", \"legendgroup\": \"Country_or_Area=United States\", \"marker\": {\"color\": \"#EF553B\", \"size\": [278.862277], \"sizemode\": \"area\", \"sizeref\": 0.05687629546666667, \"symbol\": \"circle\"}, \"mode\": \"markers\", \"name\": \"Country_or_Area=United States\", \"showlegend\": true, \"x\": [34535.55319], \"xaxis\": \"x\", \"y\": [0.86], \"yaxis\": \"y\", \"type\": \"scatter\"}, {\"hoverlabel\": {\"namelength\": 0}, \"hovertemplate\": \"Country_or_Area=Brazil<br>Year=1999<br>GDP_Per_Capita(USD)=%{x}<br>Mortality_Rate(%)=%{y}<br>Population(mn)=%{marker.size}\", \"legendgroup\": \"Country_or_Area=Brazil\", \"marker\": {\"color\": \"#00cc96\", \"size\": [172.759243], \"sizemode\": \"area\", \"sizeref\": 0.05687629546666667, \"symbol\": \"circle\"}, \"mode\": \"markers\", \"name\": \"Country_or_Area=Brazil\", \"showlegend\": true, \"x\": [3438.724179], \"xaxis\": \"x\", \"y\": [3.81], \"yaxis\": \"y\", \"type\": \"scatter\"}, {\"hoverlabel\": {\"namelength\": 0}, \"hovertemplate\": \"Country_or_Area=Zimbabwe<br>Year=1999<br>GDP_Per_Capita(USD)=%{x}<br>Mortality_Rate(%)=%{y}<br>Population(mn)=%{marker.size}\", \"legendgroup\": \"Country_or_Area=Zimbabwe\", \"marker\": {\"color\": \"#ab63fa\", \"size\": [12.064537], \"sizemode\": \"area\", \"sizeref\": 0.05687629546666667, \"symbol\": \"circle\"}, \"mode\": \"markers\", \"name\": \"Country_or_Area=Zimbabwe\", \"showlegend\": true, \"x\": [661.8820101], \"xaxis\": \"x\", \"y\": [9.64], \"yaxis\": \"y\", \"type\": \"scatter\"}, {\"hoverlabel\": {\"namelength\": 0}, \"hovertemplate\": \"Country_or_Area=Namibia<br>Year=1999<br>GDP_Per_Capita(USD)=%{x}<br>Mortality_Rate(%)=%{y}<br>Population(mn)=%{marker.size}\", \"legendgroup\": \"Country_or_Area=Namibia\", \"marker\": {\"color\": \"#FFA15A\", \"size\": [1.8580419999999997], \"sizemode\": \"area\", \"sizeref\": 0.05687629546666667, \"symbol\": \"circle\"}, \"mode\": \"markers\", \"name\": \"Country_or_Area=Namibia\", \"showlegend\": true, \"x\": [2055.370302], \"xaxis\": \"x\", \"y\": [7.34], \"yaxis\": \"y\", \"type\": \"scatter\"}, {\"hoverlabel\": {\"namelength\": 0}, \"hovertemplate\": \"Country_or_Area=Nigeria<br>Year=1999<br>GDP_Per_Capita(USD)=%{x}<br>Mortality_Rate(%)=%{y}<br>Population(mn)=%{marker.size}\", \"legendgroup\": \"Country_or_Area=Nigeria\", \"marker\": {\"color\": \"#19d3f3\", \"size\": [119.327073], \"sizemode\": \"area\", \"sizeref\": 0.05687629546666667, \"symbol\": \"circle\"}, \"mode\": \"markers\", \"name\": \"Country_or_Area=Nigeria\", \"showlegend\": true, \"x\": [483.3972478], \"xaxis\": \"x\", \"y\": [19.28], \"yaxis\": \"y\", \"type\": \"scatter\"}, {\"hoverlabel\": {\"namelength\": 0}, \"hovertemplate\": \"Country_or_Area=Thailand<br>Year=1999<br>GDP_Per_Capita(USD)=%{x}<br>Mortality_Rate(%)=%{y}<br>Population(mn)=%{marker.size}\", \"legendgroup\": \"Country_or_Area=Thailand\", \"marker\": {\"color\": \"#B6E880\", \"size\": [62.306651], \"sizemode\": \"area\", \"sizeref\": 0.05687629546666667, \"symbol\": \"circle\"}, \"mode\": \"markers\", \"name\": \"Country_or_Area=Thailand\", \"showlegend\": true, \"x\": [2032.994521], \"xaxis\": \"x\", \"y\": [2.42], \"yaxis\": \"y\", \"type\": \"scatter\"}, {\"hoverlabel\": {\"namelength\": 0}, \"hovertemplate\": \"Country_or_Area=Mexico<br>Year=1999<br>GDP_Per_Capita(USD)=%{x}<br>Mortality_Rate(%)=%{y}<br>Population(mn)=%{marker.size}\", \"legendgroup\": \"Country_or_Area=Mexico\", \"marker\": {\"color\": \"#FF97FF\", \"size\": [100.300579], \"sizemode\": \"area\", \"sizeref\": 0.05687629546666667, \"symbol\": \"circle\"}, \"mode\": \"markers\", \"name\": \"Country_or_Area=Mexico\", \"showlegend\": true, \"x\": [5984.342633], \"xaxis\": \"x\", \"y\": [2.84], \"yaxis\": \"y\", \"type\": \"scatter\"}], \"name\": \"1999\"}, {\"data\": [{\"hoverlabel\": {\"namelength\": 0}, \"hovertemplate\": \"Country_or_Area=Afghanistan<br>Year=2000<br>GDP_Per_Capita(USD)=%{x}<br>Mortality_Rate(%)=%{y}<br>Population(mn)=%{marker.size}\", \"legendgroup\": \"Country_or_Area=Afghanistan\", \"marker\": {\"color\": \"#636efa\", \"size\": [20.093756], \"sizemode\": \"area\", \"sizeref\": 0.05687629546666667, \"symbol\": \"circle\"}, \"mode\": \"markers\", \"name\": \"Country_or_Area=Afghanistan\", \"showlegend\": true, \"x\": [175.76949530000002], \"xaxis\": \"x\", \"y\": [12.97], \"yaxis\": \"y\", \"type\": \"scatter\"}, {\"hoverlabel\": {\"namelength\": 0}, \"hovertemplate\": \"Country_or_Area=United States<br>Year=2000<br>GDP_Per_Capita(USD)=%{x}<br>Mortality_Rate(%)=%{y}<br>Population(mn)=%{marker.size}\", \"legendgroup\": \"Country_or_Area=United States\", \"marker\": {\"color\": \"#EF553B\", \"size\": [281.982778], \"sizemode\": \"area\", \"sizeref\": 0.05687629546666667, \"symbol\": \"circle\"}, \"mode\": \"markers\", \"name\": \"Country_or_Area=United States\", \"showlegend\": true, \"x\": [36358.06085], \"xaxis\": \"x\", \"y\": [0.84], \"yaxis\": \"y\", \"type\": \"scatter\"}, {\"hoverlabel\": {\"namelength\": 0}, \"hovertemplate\": \"Country_or_Area=Brazil<br>Year=2000<br>GDP_Per_Capita(USD)=%{x}<br>Mortality_Rate(%)=%{y}<br>Population(mn)=%{marker.size}\", \"legendgroup\": \"Country_or_Area=Brazil\", \"marker\": {\"color\": \"#00cc96\", \"size\": [175.287587], \"sizemode\": \"area\", \"sizeref\": 0.05687629546666667, \"symbol\": \"circle\"}, \"mode\": \"markers\", \"name\": \"Country_or_Area=Brazil\", \"showlegend\": true, \"x\": [3721.655958], \"xaxis\": \"x\", \"y\": [3.58], \"yaxis\": \"y\", \"type\": \"scatter\"}, {\"hoverlabel\": {\"namelength\": 0}, \"hovertemplate\": \"Country_or_Area=Zimbabwe<br>Year=2000<br>GDP_Per_Capita(USD)=%{x}<br>Mortality_Rate(%)=%{y}<br>Population(mn)=%{marker.size}\", \"legendgroup\": \"Country_or_Area=Zimbabwe\", \"marker\": {\"color\": \"#ab63fa\", \"size\": [12.222251], \"sizemode\": \"area\", \"sizeref\": 0.05687629546666667, \"symbol\": \"circle\"}, \"mode\": \"markers\", \"name\": \"Country_or_Area=Zimbabwe\", \"showlegend\": true, \"x\": [617.6112731000001], \"xaxis\": \"x\", \"y\": [9.68], \"yaxis\": \"y\", \"type\": \"scatter\"}, {\"hoverlabel\": {\"namelength\": 0}, \"hovertemplate\": \"Country_or_Area=Namibia<br>Year=2000<br>GDP_Per_Capita(USD)=%{x}<br>Mortality_Rate(%)=%{y}<br>Population(mn)=%{marker.size}\", \"legendgroup\": \"Country_or_Area=Namibia\", \"marker\": {\"color\": \"#FFA15A\", \"size\": [1.899257], \"sizemode\": \"area\", \"sizeref\": 0.05687629546666667, \"symbol\": \"circle\"}, \"mode\": \"markers\", \"name\": \"Country_or_Area=Namibia\", \"showlegend\": true, \"x\": [2018.672593], \"xaxis\": \"x\", \"y\": [7.46], \"yaxis\": \"y\", \"type\": \"scatter\"}, {\"hoverlabel\": {\"namelength\": 0}, \"hovertemplate\": \"Country_or_Area=Nigeria<br>Year=2000<br>GDP_Per_Capita(USD)=%{x}<br>Mortality_Rate(%)=%{y}<br>Population(mn)=%{marker.size}\", \"legendgroup\": \"Country_or_Area=Nigeria\", \"marker\": {\"color\": \"#19d3f3\", \"size\": [122.35200900000001], \"sizemode\": \"area\", \"sizeref\": 0.05687629546666667, \"symbol\": \"circle\"}, \"mode\": \"markers\", \"name\": \"Country_or_Area=Nigeria\", \"showlegend\": true, \"x\": [609.6463326], \"xaxis\": \"x\", \"y\": [18.74], \"yaxis\": \"y\", \"type\": \"scatter\"}, {\"hoverlabel\": {\"namelength\": 0}, \"hovertemplate\": \"Country_or_Area=Thailand<br>Year=2000<br>GDP_Per_Capita(USD)=%{x}<br>Mortality_Rate(%)=%{y}<br>Population(mn)=%{marker.size}\", \"legendgroup\": \"Country_or_Area=Thailand\", \"marker\": {\"color\": \"#B6E880\", \"size\": [62.958020999999995], \"sizemode\": \"area\", \"sizeref\": 0.05687629546666667, \"symbol\": \"circle\"}, \"mode\": \"markers\", \"name\": \"Country_or_Area=Thailand\", \"showlegend\": true, \"x\": [2007.5646600000002], \"xaxis\": \"x\", \"y\": [2.31], \"yaxis\": \"y\", \"type\": \"scatter\"}, {\"hoverlabel\": {\"namelength\": 0}, \"hovertemplate\": \"Country_or_Area=Mexico<br>Year=2000<br>GDP_Per_Capita(USD)=%{x}<br>Mortality_Rate(%)=%{y}<br>Population(mn)=%{marker.size}\", \"legendgroup\": \"Country_or_Area=Mexico\", \"marker\": {\"color\": \"#FF97FF\", \"size\": [101.719673], \"sizemode\": \"area\", \"sizeref\": 0.05687629546666667, \"symbol\": \"circle\"}, \"mode\": \"markers\", \"name\": \"Country_or_Area=Mexico\", \"showlegend\": true, \"x\": [6959.419384000001], \"xaxis\": \"x\", \"y\": [2.68], \"yaxis\": \"y\", \"type\": \"scatter\"}], \"name\": \"2000\"}, {\"data\": [{\"hoverlabel\": {\"namelength\": 0}, \"hovertemplate\": \"Country_or_Area=Afghanistan<br>Year=2001<br>GDP_Per_Capita(USD)=%{x}<br>Mortality_Rate(%)=%{y}<br>Population(mn)=%{marker.size}\", \"legendgroup\": \"Country_or_Area=Afghanistan\", \"marker\": {\"color\": \"#636efa\", \"size\": [20.966463], \"sizemode\": \"area\", \"sizeref\": 0.05687629546666667, \"symbol\": \"circle\"}, \"mode\": \"markers\", \"name\": \"Country_or_Area=Afghanistan\", \"showlegend\": true, \"x\": [172.681737], \"xaxis\": \"x\", \"y\": [12.6], \"yaxis\": \"y\", \"type\": \"scatter\"}, {\"hoverlabel\": {\"namelength\": 0}, \"hovertemplate\": \"Country_or_Area=United States<br>Year=2001<br>GDP_Per_Capita(USD)=%{x}<br>Mortality_Rate(%)=%{y}<br>Population(mn)=%{marker.size}\", \"legendgroup\": \"Country_or_Area=United States\", \"marker\": {\"color\": \"#EF553B\", \"size\": [284.852391], \"sizemode\": \"area\", \"sizeref\": 0.05687629546666667, \"symbol\": \"circle\"}, \"mode\": \"markers\", \"name\": \"Country_or_Area=United States\", \"showlegend\": true, \"x\": [37148.44015], \"xaxis\": \"x\", \"y\": [0.83], \"yaxis\": \"y\", \"type\": \"scatter\"}, {\"hoverlabel\": {\"namelength\": 0}, \"hovertemplate\": \"Country_or_Area=Brazil<br>Year=2001<br>GDP_Per_Capita(USD)=%{x}<br>Mortality_Rate(%)=%{y}<br>Population(mn)=%{marker.size}\", \"legendgroup\": \"Country_or_Area=Brazil\", \"marker\": {\"color\": \"#00cc96\", \"size\": [177.75066999999999], \"sizemode\": \"area\", \"sizeref\": 0.05687629546666667, \"symbol\": \"circle\"}, \"mode\": \"markers\", \"name\": \"Country_or_Area=Brazil\", \"showlegend\": true, \"x\": [3154.681631], \"xaxis\": \"x\", \"y\": [3.36], \"yaxis\": \"y\", \"type\": \"scatter\"}, {\"hoverlabel\": {\"namelength\": 0}, \"hovertemplate\": \"Country_or_Area=Zimbabwe<br>Year=2001<br>GDP_Per_Capita(USD)=%{x}<br>Mortality_Rate(%)=%{y}<br>Population(mn)=%{marker.size}\", \"legendgroup\": \"Country_or_Area=Zimbabwe\", \"marker\": {\"color\": \"#ab63fa\", \"size\": [12.366164999999999], \"sizemode\": \"area\", \"sizeref\": 0.05687629546666667, \"symbol\": \"circle\"}, \"mode\": \"markers\", \"name\": \"Country_or_Area=Zimbabwe\", \"showlegend\": true, \"x\": [606.1297096], \"xaxis\": \"x\", \"y\": [9.71], \"yaxis\": \"y\", \"type\": \"scatter\"}, {\"hoverlabel\": {\"namelength\": 0}, \"hovertemplate\": \"Country_or_Area=Namibia<br>Year=2001<br>GDP_Per_Capita(USD)=%{x}<br>Mortality_Rate(%)=%{y}<br>Population(mn)=%{marker.size}\", \"legendgroup\": \"Country_or_Area=Namibia\", \"marker\": {\"color\": \"#FFA15A\", \"size\": [1.9335959999999999], \"sizemode\": \"area\", \"sizeref\": 0.05687629546666667, \"symbol\": \"circle\"}, \"mode\": \"markers\", \"name\": \"Country_or_Area=Namibia\", \"showlegend\": true, \"x\": [1797.9247899999998], \"xaxis\": \"x\", \"y\": [7.52], \"yaxis\": \"y\", \"type\": \"scatter\"}, {\"hoverlabel\": {\"namelength\": 0}, \"hovertemplate\": \"Country_or_Area=Nigeria<br>Year=2001<br>GDP_Per_Capita(USD)=%{x}<br>Mortality_Rate(%)=%{y}<br>Population(mn)=%{marker.size}\", \"legendgroup\": \"Country_or_Area=Nigeria\", \"marker\": {\"color\": \"#19d3f3\", \"size\": [125.463434], \"sizemode\": \"area\", \"sizeref\": 0.05687629546666667, \"symbol\": \"circle\"}, \"mode\": \"markers\", \"name\": \"Country_or_Area=Nigeria\", \"showlegend\": true, \"x\": [565.7151409], \"xaxis\": \"x\", \"y\": [18.17], \"yaxis\": \"y\", \"type\": \"scatter\"}, {\"hoverlabel\": {\"namelength\": 0}, \"hovertemplate\": \"Country_or_Area=Thailand<br>Year=2001<br>GDP_Per_Capita(USD)=%{x}<br>Mortality_Rate(%)=%{y}<br>Population(mn)=%{marker.size}\", \"legendgroup\": \"Country_or_Area=Thailand\", \"marker\": {\"color\": \"#B6E880\", \"size\": [63.543321999999996], \"sizemode\": \"area\", \"sizeref\": 0.05687629546666667, \"symbol\": \"circle\"}, \"mode\": \"markers\", \"name\": \"Country_or_Area=Thailand\", \"showlegend\": true, \"x\": [1893.145377], \"xaxis\": \"x\", \"y\": [2.2], \"yaxis\": \"y\", \"type\": \"scatter\"}, {\"hoverlabel\": {\"namelength\": 0}, \"hovertemplate\": \"Country_or_Area=Mexico<br>Year=2001<br>GDP_Per_Capita(USD)=%{x}<br>Mortality_Rate(%)=%{y}<br>Population(mn)=%{marker.size}\", \"legendgroup\": \"Country_or_Area=Mexico\", \"marker\": {\"color\": \"#FF97FF\", \"size\": [103.067068], \"sizemode\": \"area\", \"sizeref\": 0.05687629546666667, \"symbol\": \"circle\"}, \"mode\": \"markers\", \"name\": \"Country_or_Area=Mexico\", \"showlegend\": true, \"x\": [7341.849733], \"xaxis\": \"x\", \"y\": [2.53], \"yaxis\": \"y\", \"type\": \"scatter\"}], \"name\": \"2001\"}, {\"data\": [{\"hoverlabel\": {\"namelength\": 0}, \"hovertemplate\": \"Country_or_Area=Afghanistan<br>Year=2002<br>GDP_Per_Capita(USD)=%{x}<br>Mortality_Rate(%)=%{y}<br>Population(mn)=%{marker.size}\", \"legendgroup\": \"Country_or_Area=Afghanistan\", \"marker\": {\"color\": \"#636efa\", \"size\": [21.979923], \"sizemode\": \"area\", \"sizeref\": 0.05687629546666667, \"symbol\": \"circle\"}, \"mode\": \"markers\", \"name\": \"Country_or_Area=Afghanistan\", \"showlegend\": true, \"x\": [194.95934430000003], \"xaxis\": \"x\", \"y\": [12.22], \"yaxis\": \"y\", \"type\": \"scatter\"}, {\"hoverlabel\": {\"namelength\": 0}, \"hovertemplate\": \"Country_or_Area=United States<br>Year=2002<br>GDP_Per_Capita(USD)=%{x}<br>Mortality_Rate(%)=%{y}<br>Population(mn)=%{marker.size}\", \"legendgroup\": \"Country_or_Area=United States\", \"marker\": {\"color\": \"#EF553B\", \"size\": [287.506847], \"sizemode\": \"area\", \"sizeref\": 0.05687629546666667, \"symbol\": \"circle\"}, \"mode\": \"markers\", \"name\": \"Country_or_Area=United States\", \"showlegend\": true, \"x\": [38038.808860000005], \"xaxis\": \"x\", \"y\": [0.82], \"yaxis\": \"y\", \"type\": \"scatter\"}, {\"hoverlabel\": {\"namelength\": 0}, \"hovertemplate\": \"Country_or_Area=Brazil<br>Year=2002<br>GDP_Per_Capita(USD)=%{x}<br>Mortality_Rate(%)=%{y}<br>Population(mn)=%{marker.size}\", \"legendgroup\": \"Country_or_Area=Brazil\", \"marker\": {\"color\": \"#00cc96\", \"size\": [180.151021], \"sizemode\": \"area\", \"sizeref\": 0.05687629546666667, \"symbol\": \"circle\"}, \"mode\": \"markers\", \"name\": \"Country_or_Area=Brazil\", \"showlegend\": true, \"x\": [2842.227202], \"xaxis\": \"x\", \"y\": [3.15], \"yaxis\": \"y\", \"type\": \"scatter\"}, {\"hoverlabel\": {\"namelength\": 0}, \"hovertemplate\": \"Country_or_Area=Zimbabwe<br>Year=2002<br>GDP_Per_Capita(USD)=%{x}<br>Mortality_Rate(%)=%{y}<br>Population(mn)=%{marker.size}\", \"legendgroup\": \"Country_or_Area=Zimbabwe\", \"marker\": {\"color\": \"#ab63fa\", \"size\": [12.500525], \"sizemode\": \"area\", \"sizeref\": 0.05687629546666667, \"symbol\": \"circle\"}, \"mode\": \"markers\", \"name\": \"Country_or_Area=Zimbabwe\", \"showlegend\": true, \"x\": [568.8881067000001], \"xaxis\": \"x\", \"y\": [9.77], \"yaxis\": \"y\", \"type\": \"scatter\"}, {\"hoverlabel\": {\"namelength\": 0}, \"hovertemplate\": \"Country_or_Area=Namibia<br>Year=2002<br>GDP_Per_Capita(USD)=%{x}<br>Mortality_Rate(%)=%{y}<br>Population(mn)=%{marker.size}\", \"legendgroup\": \"Country_or_Area=Namibia\", \"marker\": {\"color\": \"#FFA15A\", \"size\": [1.962147], \"sizemode\": \"area\", \"sizeref\": 0.05687629546666667, \"symbol\": \"circle\"}, \"mode\": \"markers\", \"name\": \"Country_or_Area=Namibia\", \"showlegend\": true, \"x\": [1669.424049], \"xaxis\": \"x\", \"y\": [7.55], \"yaxis\": \"y\", \"type\": \"scatter\"}, {\"hoverlabel\": {\"namelength\": 0}, \"hovertemplate\": \"Country_or_Area=Nigeria<br>Year=2002<br>GDP_Per_Capita(USD)=%{x}<br>Mortality_Rate(%)=%{y}<br>Population(mn)=%{marker.size}\", \"legendgroup\": \"Country_or_Area=Nigeria\", \"marker\": {\"color\": \"#19d3f3\", \"size\": [128.66671000000002], \"sizemode\": \"area\", \"sizeref\": 0.05687629546666667, \"symbol\": \"circle\"}, \"mode\": \"markers\", \"name\": \"Country_or_Area=Nigeria\", \"showlegend\": true, \"x\": [738.8349077], \"xaxis\": \"x\", \"y\": [17.59], \"yaxis\": \"y\", \"type\": \"scatter\"}, {\"hoverlabel\": {\"namelength\": 0}, \"hovertemplate\": \"Country_or_Area=Thailand<br>Year=2002<br>GDP_Per_Capita(USD)=%{x}<br>Mortality_Rate(%)=%{y}<br>Population(mn)=%{marker.size}\", \"legendgroup\": \"Country_or_Area=Thailand\", \"marker\": {\"color\": \"#B6E880\", \"size\": [64.073164], \"sizemode\": \"area\", \"sizeref\": 0.05687629546666667, \"symbol\": \"circle\"}, \"mode\": \"markers\", \"name\": \"Country_or_Area=Thailand\", \"showlegend\": true, \"x\": [2096.0554309999998], \"xaxis\": \"x\", \"y\": [2.1], \"yaxis\": \"y\", \"type\": \"scatter\"}, {\"hoverlabel\": {\"namelength\": 0}, \"hovertemplate\": \"Country_or_Area=Mexico<br>Year=2002<br>GDP_Per_Capita(USD)=%{x}<br>Mortality_Rate(%)=%{y}<br>Population(mn)=%{marker.size}\", \"legendgroup\": \"Country_or_Area=Mexico\", \"marker\": {\"color\": \"#FF97FF\", \"size\": [104.35560799999999], \"sizemode\": \"area\", \"sizeref\": 0.05687629546666667, \"symbol\": \"circle\"}, \"mode\": \"markers\", \"name\": \"Country_or_Area=Mexico\", \"showlegend\": true, \"x\": [7398.832947], \"xaxis\": \"x\", \"y\": [2.39], \"yaxis\": \"y\", \"type\": \"scatter\"}], \"name\": \"2002\"}, {\"data\": [{\"hoverlabel\": {\"namelength\": 0}, \"hovertemplate\": \"Country_or_Area=Afghanistan<br>Year=2003<br>GDP_Per_Capita(USD)=%{x}<br>Mortality_Rate(%)=%{y}<br>Population(mn)=%{marker.size}\", \"legendgroup\": \"Country_or_Area=Afghanistan\", \"marker\": {\"color\": \"#636efa\", \"size\": [23.064851], \"sizemode\": \"area\", \"sizeref\": 0.05687629546666667, \"symbol\": \"circle\"}, \"mode\": \"markers\", \"name\": \"Country_or_Area=Afghanistan\", \"showlegend\": true, \"x\": [213.9857668], \"xaxis\": \"x\", \"y\": [11.83], \"yaxis\": \"y\", \"type\": \"scatter\"}, {\"hoverlabel\": {\"namelength\": 0}, \"hovertemplate\": \"Country_or_Area=United States<br>Year=2003<br>GDP_Per_Capita(USD)=%{x}<br>Mortality_Rate(%)=%{y}<br>Population(mn)=%{marker.size}\", \"legendgroup\": \"Country_or_Area=United States\", \"marker\": {\"color\": \"#EF553B\", \"size\": [290.027624], \"sizemode\": \"area\", \"sizeref\": 0.05687629546666667, \"symbol\": \"circle\"}, \"mode\": \"markers\", \"name\": \"Country_or_Area=United States\", \"showlegend\": true, \"x\": [39507.42982], \"xaxis\": \"x\", \"y\": [0.81], \"yaxis\": \"y\", \"type\": \"scatter\"}, {\"hoverlabel\": {\"namelength\": 0}, \"hovertemplate\": \"Country_or_Area=Brazil<br>Year=2003<br>GDP_Per_Capita(USD)=%{x}<br>Mortality_Rate(%)=%{y}<br>Population(mn)=%{marker.size}\", \"legendgroup\": \"Country_or_Area=Brazil\", \"marker\": {\"color\": \"#00cc96\", \"size\": [182.482149], \"sizemode\": \"area\", \"sizeref\": 0.05687629546666667, \"symbol\": \"circle\"}, \"mode\": \"markers\", \"name\": \"Country_or_Area=Brazil\", \"showlegend\": true, \"x\": [3062.8866980000003], \"xaxis\": \"x\", \"y\": [2.96], \"yaxis\": \"y\", \"type\": \"scatter\"}, {\"hoverlabel\": {\"namelength\": 0}, \"hovertemplate\": \"Country_or_Area=Zimbabwe<br>Year=2003<br>GDP_Per_Capita(USD)=%{x}<br>Mortality_Rate(%)=%{y}<br>Population(mn)=%{marker.size}\", \"legendgroup\": \"Country_or_Area=Zimbabwe\", \"marker\": {\"color\": \"#ab63fa\", \"size\": [12.633897], \"sizemode\": \"area\", \"sizeref\": 0.05687629546666667, \"symbol\": \"circle\"}, \"mode\": \"markers\", \"name\": \"Country_or_Area=Zimbabwe\", \"showlegend\": true, \"x\": [530.746768], \"xaxis\": \"x\", \"y\": [9.82], \"yaxis\": \"y\", \"type\": \"scatter\"}, {\"hoverlabel\": {\"namelength\": 0}, \"hovertemplate\": \"Country_or_Area=Namibia<br>Year=2003<br>GDP_Per_Capita(USD)=%{x}<br>Mortality_Rate(%)=%{y}<br>Population(mn)=%{marker.size}\", \"legendgroup\": \"Country_or_Area=Namibia\", \"marker\": {\"color\": \"#FFA15A\", \"size\": [1.986535], \"sizemode\": \"area\", \"sizeref\": 0.05687629546666667, \"symbol\": \"circle\"}, \"mode\": \"markers\", \"name\": \"Country_or_Area=Namibia\", \"showlegend\": true, \"x\": [2422.289439], \"xaxis\": \"x\", \"y\": [7.53], \"yaxis\": \"y\", \"type\": \"scatter\"}, {\"hoverlabel\": {\"namelength\": 0}, \"hovertemplate\": \"Country_or_Area=Nigeria<br>Year=2003<br>GDP_Per_Capita(USD)=%{x}<br>Mortality_Rate(%)=%{y}<br>Population(mn)=%{marker.size}\", \"legendgroup\": \"Country_or_Area=Nigeria\", \"marker\": {\"color\": \"#19d3f3\", \"size\": [131.972533], \"sizemode\": \"area\", \"sizeref\": 0.05687629546666667, \"symbol\": \"circle\"}, \"mode\": \"markers\", \"name\": \"Country_or_Area=Nigeria\", \"showlegend\": true, \"x\": [824.3733093], \"xaxis\": \"x\", \"y\": [16.99], \"yaxis\": \"y\", \"type\": \"scatter\"}, {\"hoverlabel\": {\"namelength\": 0}, \"hovertemplate\": \"Country_or_Area=Thailand<br>Year=2003<br>GDP_Per_Capita(USD)=%{x}<br>Mortality_Rate(%)=%{y}<br>Population(mn)=%{marker.size}\", \"legendgroup\": \"Country_or_Area=Thailand\", \"marker\": {\"color\": \"#B6E880\", \"size\": [64.554952], \"sizemode\": \"area\", \"sizeref\": 0.05687629546666667, \"symbol\": \"circle\"}, \"mode\": \"markers\", \"name\": \"Country_or_Area=Thailand\", \"showlegend\": true, \"x\": [2358.929682], \"xaxis\": \"x\", \"y\": [2.01], \"yaxis\": \"y\", \"type\": \"scatter\"}, {\"hoverlabel\": {\"namelength\": 0}, \"hovertemplate\": \"Country_or_Area=Mexico<br>Year=2003<br>GDP_Per_Capita(USD)=%{x}<br>Mortality_Rate(%)=%{y}<br>Population(mn)=%{marker.size}\", \"legendgroup\": \"Country_or_Area=Mexico\", \"marker\": {\"color\": \"#FF97FF\", \"size\": [105.64045300000001], \"sizemode\": \"area\", \"sizeref\": 0.05687629546666667, \"symbol\": \"circle\"}, \"mode\": \"markers\", \"name\": \"Country_or_Area=Mexico\", \"showlegend\": true, \"x\": [6903.936923], \"xaxis\": \"x\", \"y\": [2.27], \"yaxis\": \"y\", \"type\": \"scatter\"}], \"name\": \"2003\"}, {\"data\": [{\"hoverlabel\": {\"namelength\": 0}, \"hovertemplate\": \"Country_or_Area=Afghanistan<br>Year=2004<br>GDP_Per_Capita(USD)=%{x}<br>Mortality_Rate(%)=%{y}<br>Population(mn)=%{marker.size}\", \"legendgroup\": \"Country_or_Area=Afghanistan\", \"marker\": {\"color\": \"#636efa\", \"size\": [24.118979], \"sizemode\": \"area\", \"sizeref\": 0.05687629546666667, \"symbol\": \"circle\"}, \"mode\": \"markers\", \"name\": \"Country_or_Area=Afghanistan\", \"showlegend\": true, \"x\": [231.6426452], \"xaxis\": \"x\", \"y\": [11.44], \"yaxis\": \"y\", \"type\": \"scatter\"}, {\"hoverlabel\": {\"namelength\": 0}, \"hovertemplate\": \"Country_or_Area=United States<br>Year=2004<br>GDP_Per_Capita(USD)=%{x}<br>Mortality_Rate(%)=%{y}<br>Population(mn)=%{marker.size}\", \"legendgroup\": \"Country_or_Area=United States\", \"marker\": {\"color\": \"#EF553B\", \"size\": [292.539324], \"sizemode\": \"area\", \"sizeref\": 0.05687629546666667, \"symbol\": \"circle\"}, \"mode\": \"markers\", \"name\": \"Country_or_Area=United States\", \"showlegend\": true, \"x\": [41750.72887], \"xaxis\": \"x\", \"y\": [0.81], \"yaxis\": \"y\", \"type\": \"scatter\"}, {\"hoverlabel\": {\"namelength\": 0}, \"hovertemplate\": \"Country_or_Area=Brazil<br>Year=2004<br>GDP_Per_Capita(USD)=%{x}<br>Mortality_Rate(%)=%{y}<br>Population(mn)=%{marker.size}\", \"legendgroup\": \"Country_or_Area=Brazil\", \"marker\": {\"color\": \"#00cc96\", \"size\": [184.738458], \"sizemode\": \"area\", \"sizeref\": 0.05687629546666667, \"symbol\": \"circle\"}, \"mode\": \"markers\", \"name\": \"Country_or_Area=Brazil\", \"showlegend\": true, \"x\": [3622.901962], \"xaxis\": \"x\", \"y\": [2.78], \"yaxis\": \"y\", \"type\": \"scatter\"}, {\"hoverlabel\": {\"namelength\": 0}, \"hovertemplate\": \"Country_or_Area=Zimbabwe<br>Year=2004<br>GDP_Per_Capita(USD)=%{x}<br>Mortality_Rate(%)=%{y}<br>Population(mn)=%{marker.size}\", \"legendgroup\": \"Country_or_Area=Zimbabwe\", \"marker\": {\"color\": \"#ab63fa\", \"size\": [12.777511], \"sizemode\": \"area\", \"sizeref\": 0.05687629546666667, \"symbol\": \"circle\"}, \"mode\": \"markers\", \"name\": \"Country_or_Area=Zimbabwe\", \"showlegend\": true, \"x\": [502.4139678], \"xaxis\": \"x\", \"y\": [9.9], \"yaxis\": \"y\", \"type\": \"scatter\"}, {\"hoverlabel\": {\"namelength\": 0}, \"hovertemplate\": \"Country_or_Area=Namibia<br>Year=2004<br>GDP_Per_Capita(USD)=%{x}<br>Mortality_Rate(%)=%{y}<br>Population(mn)=%{marker.size}\", \"legendgroup\": \"Country_or_Area=Namibia\", \"marker\": {\"color\": \"#FFA15A\", \"size\": [2.009228], \"sizemode\": \"area\", \"sizeref\": 0.05687629546666667, \"symbol\": \"circle\"}, \"mode\": \"markers\", \"name\": \"Country_or_Area=Namibia\", \"showlegend\": true, \"x\": [3225.342907], \"xaxis\": \"x\", \"y\": [7.42], \"yaxis\": \"y\", \"type\": \"scatter\"}, {\"hoverlabel\": {\"namelength\": 0}, \"hovertemplate\": \"Country_or_Area=Nigeria<br>Year=2004<br>GDP_Per_Capita(USD)=%{x}<br>Mortality_Rate(%)=%{y}<br>Population(mn)=%{marker.size}\", \"legendgroup\": \"Country_or_Area=Nigeria\", \"marker\": {\"color\": \"#19d3f3\", \"size\": [135.39361599999998], \"sizemode\": \"area\", \"sizeref\": 0.05687629546666667, \"symbol\": \"circle\"}, \"mode\": \"markers\", \"name\": \"Country_or_Area=Nigeria\", \"showlegend\": true, \"x\": [1043.333232], \"xaxis\": \"x\", \"y\": [16.4], \"yaxis\": \"y\", \"type\": \"scatter\"}, {\"hoverlabel\": {\"namelength\": 0}, \"hovertemplate\": \"Country_or_Area=Thailand<br>Year=2004<br>GDP_Per_Capita(USD)=%{x}<br>Mortality_Rate(%)=%{y}<br>Population(mn)=%{marker.size}\", \"legendgroup\": \"Country_or_Area=Thailand\", \"marker\": {\"color\": \"#B6E880\", \"size\": [65.00223100000001], \"sizemode\": \"area\", \"sizeref\": 0.05687629546666667, \"symbol\": \"circle\"}, \"mode\": \"markers\", \"name\": \"Country_or_Area=Thailand\", \"showlegend\": true, \"x\": [2659.8381219999997], \"xaxis\": \"x\", \"y\": [1.91], \"yaxis\": \"y\", \"type\": \"scatter\"}, {\"hoverlabel\": {\"namelength\": 0}, \"hovertemplate\": \"Country_or_Area=Mexico<br>Year=2004<br>GDP_Per_Capita(USD)=%{x}<br>Mortality_Rate(%)=%{y}<br>Population(mn)=%{marker.size}\", \"legendgroup\": \"Country_or_Area=Mexico\", \"marker\": {\"color\": \"#FF97FF\", \"size\": [106.99558300000001], \"sizemode\": \"area\", \"sizeref\": 0.05687629546666667, \"symbol\": \"circle\"}, \"mode\": \"markers\", \"name\": \"Country_or_Area=Mexico\", \"showlegend\": true, \"x\": [7310.983224], \"xaxis\": \"x\", \"y\": [2.16], \"yaxis\": \"y\", \"type\": \"scatter\"}], \"name\": \"2004\"}, {\"data\": [{\"hoverlabel\": {\"namelength\": 0}, \"hovertemplate\": \"Country_or_Area=Afghanistan<br>Year=2005<br>GDP_Per_Capita(USD)=%{x}<br>Mortality_Rate(%)=%{y}<br>Population(mn)=%{marker.size}\", \"legendgroup\": \"Country_or_Area=Afghanistan\", \"marker\": {\"color\": \"#636efa\", \"size\": [25.070798], \"sizemode\": \"area\", \"sizeref\": 0.05687629546666667, \"symbol\": \"circle\"}, \"mode\": \"markers\", \"name\": \"Country_or_Area=Afghanistan\", \"showlegend\": true, \"x\": [264.12537119999996], \"xaxis\": \"x\", \"y\": [11.03], \"yaxis\": \"y\", \"type\": \"scatter\"}, {\"hoverlabel\": {\"namelength\": 0}, \"hovertemplate\": \"Country_or_Area=United States<br>Year=2005<br>GDP_Per_Capita(USD)=%{x}<br>Mortality_Rate(%)=%{y}<br>Population(mn)=%{marker.size}\", \"legendgroup\": \"Country_or_Area=United States\", \"marker\": {\"color\": \"#EF553B\", \"size\": [295.129501], \"sizemode\": \"area\", \"sizeref\": 0.05687629546666667, \"symbol\": \"circle\"}, \"mode\": \"markers\", \"name\": \"Country_or_Area=United States\", \"showlegend\": true, \"x\": [44172.59866], \"xaxis\": \"x\", \"y\": [0.8], \"yaxis\": \"y\", \"type\": \"scatter\"}, {\"hoverlabel\": {\"namelength\": 0}, \"hovertemplate\": \"Country_or_Area=Brazil<br>Year=2005<br>GDP_Per_Capita(USD)=%{x}<br>Mortality_Rate(%)=%{y}<br>Population(mn)=%{marker.size}\", \"legendgroup\": \"Country_or_Area=Brazil\", \"marker\": {\"color\": \"#00cc96\", \"size\": [186.917361], \"sizemode\": \"area\", \"sizeref\": 0.05687629546666667, \"symbol\": \"circle\"}, \"mode\": \"markers\", \"name\": \"Country_or_Area=Brazil\", \"showlegend\": true, \"x\": [4770.203377000001], \"xaxis\": \"x\", \"y\": [2.61], \"yaxis\": \"y\", \"type\": \"scatter\"}, {\"hoverlabel\": {\"namelength\": 0}, \"hovertemplate\": \"Country_or_Area=Zimbabwe<br>Year=2005<br>GDP_Per_Capita(USD)=%{x}<br>Mortality_Rate(%)=%{y}<br>Population(mn)=%{marker.size}\", \"legendgroup\": \"Country_or_Area=Zimbabwe\", \"marker\": {\"color\": \"#ab63fa\", \"size\": [12.940032], \"sizemode\": \"area\", \"sizeref\": 0.05687629546666667, \"symbol\": \"circle\"}, \"mode\": \"markers\", \"name\": \"Country_or_Area=Zimbabwe\", \"showlegend\": true, \"x\": [480.9029839], \"xaxis\": \"x\", \"y\": [9.97], \"yaxis\": \"y\", \"type\": \"scatter\"}, {\"hoverlabel\": {\"namelength\": 0}, \"hovertemplate\": \"Country_or_Area=Namibia<br>Year=2005<br>GDP_Per_Capita(USD)=%{x}<br>Mortality_Rate(%)=%{y}<br>Population(mn)=%{marker.size}\", \"legendgroup\": \"Country_or_Area=Namibia\", \"marker\": {\"color\": \"#FFA15A\", \"size\": [2.032196], \"sizemode\": \"area\", \"sizeref\": 0.05687629546666667, \"symbol\": \"circle\"}, \"mode\": \"markers\", \"name\": \"Country_or_Area=Namibia\", \"showlegend\": true, \"x\": [3504.268396], \"xaxis\": \"x\", \"y\": [7.1], \"yaxis\": \"y\", \"type\": \"scatter\"}, {\"hoverlabel\": {\"namelength\": 0}, \"hovertemplate\": \"Country_or_Area=Nigeria<br>Year=2005<br>GDP_Per_Capita(USD)=%{x}<br>Mortality_Rate(%)=%{y}<br>Population(mn)=%{marker.size}\", \"legendgroup\": \"Country_or_Area=Nigeria\", \"marker\": {\"color\": \"#19d3f3\", \"size\": [138.939478], \"sizemode\": \"area\", \"sizeref\": 0.05687629546666667, \"symbol\": \"circle\"}, \"mode\": \"markers\", \"name\": \"Country_or_Area=Nigeria\", \"showlegend\": true, \"x\": [1299.1412970000001], \"xaxis\": \"x\", \"y\": [15.79], \"yaxis\": \"y\", \"type\": \"scatter\"}, {\"hoverlabel\": {\"namelength\": 0}, \"hovertemplate\": \"Country_or_Area=Thailand<br>Year=2005<br>GDP_Per_Capita(USD)=%{x}<br>Mortality_Rate(%)=%{y}<br>Population(mn)=%{marker.size}\", \"legendgroup\": \"Country_or_Area=Thailand\", \"marker\": {\"color\": \"#B6E880\", \"size\": [65.42546999999999], \"sizemode\": \"area\", \"sizeref\": 0.05687629546666667, \"symbol\": \"circle\"}, \"mode\": \"markers\", \"name\": \"Country_or_Area=Thailand\", \"showlegend\": true, \"x\": [2893.649182], \"xaxis\": \"x\", \"y\": [1.82], \"yaxis\": \"y\", \"type\": \"scatter\"}, {\"hoverlabel\": {\"namelength\": 0}, \"hovertemplate\": \"Country_or_Area=Mexico<br>Year=2005<br>GDP_Per_Capita(USD)=%{x}<br>Mortality_Rate(%)=%{y}<br>Population(mn)=%{marker.size}\", \"legendgroup\": \"Country_or_Area=Mexico\", \"marker\": {\"color\": \"#FF97FF\", \"size\": [108.472228], \"sizemode\": \"area\", \"sizeref\": 0.05687629546666667, \"symbol\": \"circle\"}, \"mode\": \"markers\", \"name\": \"Country_or_Area=Mexico\", \"showlegend\": true, \"x\": [8089.415222], \"xaxis\": \"x\", \"y\": [2.06], \"yaxis\": \"y\", \"type\": \"scatter\"}], \"name\": \"2005\"}, {\"data\": [{\"hoverlabel\": {\"namelength\": 0}, \"hovertemplate\": \"Country_or_Area=Afghanistan<br>Year=2006<br>GDP_Per_Capita(USD)=%{x}<br>Mortality_Rate(%)=%{y}<br>Population(mn)=%{marker.size}\", \"legendgroup\": \"Country_or_Area=Afghanistan\", \"marker\": {\"color\": \"#636efa\", \"size\": [25.89345], \"sizemode\": \"area\", \"sizeref\": 0.05687629546666667, \"symbol\": \"circle\"}, \"mode\": \"markers\", \"name\": \"Country_or_Area=Afghanistan\", \"showlegend\": true, \"x\": [290.1993235], \"xaxis\": \"x\", \"y\": [10.63], \"yaxis\": \"y\", \"type\": \"scatter\"}, {\"hoverlabel\": {\"namelength\": 0}, \"hovertemplate\": \"Country_or_Area=United States<br>Year=2006<br>GDP_Per_Capita(USD)=%{x}<br>Mortality_Rate(%)=%{y}<br>Population(mn)=%{marker.size}\", \"legendgroup\": \"Country_or_Area=United States\", \"marker\": {\"color\": \"#EF553B\", \"size\": [297.827356], \"sizemode\": \"area\", \"sizeref\": 0.05687629546666667, \"symbol\": \"circle\"}, \"mode\": \"markers\", \"name\": \"Country_or_Area=United States\", \"showlegend\": true, \"x\": [46384.62089], \"xaxis\": \"x\", \"y\": [0.79], \"yaxis\": \"y\", \"type\": \"scatter\"}, {\"hoverlabel\": {\"namelength\": 0}, \"hovertemplate\": \"Country_or_Area=Brazil<br>Year=2006<br>GDP_Per_Capita(USD)=%{x}<br>Mortality_Rate(%)=%{y}<br>Population(mn)=%{marker.size}\", \"legendgroup\": \"Country_or_Area=Brazil\", \"marker\": {\"color\": \"#00cc96\", \"size\": [189.012412], \"sizemode\": \"area\", \"sizeref\": 0.05687629546666667, \"symbol\": \"circle\"}, \"mode\": \"markers\", \"name\": \"Country_or_Area=Brazil\", \"showlegend\": true, \"x\": [5860.073947999999], \"xaxis\": \"x\", \"y\": [2.45], \"yaxis\": \"y\", \"type\": \"scatter\"}, {\"hoverlabel\": {\"namelength\": 0}, \"hovertemplate\": \"Country_or_Area=Zimbabwe<br>Year=2006<br>GDP_Per_Capita(USD)=%{x}<br>Mortality_Rate(%)=%{y}<br>Population(mn)=%{marker.size}\", \"legendgroup\": \"Country_or_Area=Zimbabwe\", \"marker\": {\"color\": \"#ab63fa\", \"size\": [13.124267000000001], \"sizemode\": \"area\", \"sizeref\": 0.05687629546666667, \"symbol\": \"circle\"}, \"mode\": \"markers\", \"name\": \"Country_or_Area=Zimbabwe\", \"showlegend\": true, \"x\": [539.6821146000001], \"xaxis\": \"x\", \"y\": [10.02], \"yaxis\": \"y\", \"type\": \"scatter\"}, {\"hoverlabel\": {\"namelength\": 0}, \"hovertemplate\": \"Country_or_Area=Namibia<br>Year=2006<br>GDP_Per_Capita(USD)=%{x}<br>Mortality_Rate(%)=%{y}<br>Population(mn)=%{marker.size}\", \"legendgroup\": \"Country_or_Area=Namibia\", \"marker\": {\"color\": \"#FFA15A\", \"size\": [2.055734], \"sizemode\": \"area\", \"sizeref\": 0.05687629546666667, \"symbol\": \"circle\"}, \"mode\": \"markers\", \"name\": \"Country_or_Area=Namibia\", \"showlegend\": true, \"x\": [3811.284308], \"xaxis\": \"x\", \"y\": [6.7], \"yaxis\": \"y\", \"type\": \"scatter\"}, {\"hoverlabel\": {\"namelength\": 0}, \"hovertemplate\": \"Country_or_Area=Nigeria<br>Year=2006<br>GDP_Per_Capita(USD)=%{x}<br>Mortality_Rate(%)=%{y}<br>Population(mn)=%{marker.size}\", \"legendgroup\": \"Country_or_Area=Nigeria\", \"marker\": {\"color\": \"#19d3f3\", \"size\": [142.614094], \"sizemode\": \"area\", \"sizeref\": 0.05687629546666667, \"symbol\": \"circle\"}, \"mode\": \"markers\", \"name\": \"Country_or_Area=Nigeria\", \"showlegend\": true, \"x\": [1639.808566], \"xaxis\": \"x\", \"y\": [15.19], \"yaxis\": \"y\", \"type\": \"scatter\"}, {\"hoverlabel\": {\"namelength\": 0}, \"hovertemplate\": \"Country_or_Area=Thailand<br>Year=2006<br>GDP_Per_Capita(USD)=%{x}<br>Mortality_Rate(%)=%{y}<br>Population(mn)=%{marker.size}\", \"legendgroup\": \"Country_or_Area=Thailand\", \"marker\": {\"color\": \"#B6E880\", \"size\": [65.824164], \"sizemode\": \"area\", \"sizeref\": 0.05687629546666667, \"symbol\": \"circle\"}, \"mode\": \"markers\", \"name\": \"Country_or_Area=Thailand\", \"showlegend\": true, \"x\": [3368.954068], \"xaxis\": \"x\", \"y\": [1.74], \"yaxis\": \"y\", \"type\": \"scatter\"}, {\"hoverlabel\": {\"namelength\": 0}, \"hovertemplate\": \"Country_or_Area=Mexico<br>Year=2006<br>GDP_Per_Capita(USD)=%{x}<br>Mortality_Rate(%)=%{y}<br>Population(mn)=%{marker.size}\", \"legendgroup\": \"Country_or_Area=Mexico\", \"marker\": {\"color\": \"#FF97FF\", \"size\": [110.092378], \"sizemode\": \"area\", \"sizeref\": 0.05687629546666667, \"symbol\": \"circle\"}, \"mode\": \"markers\", \"name\": \"Country_or_Area=Mexico\", \"showlegend\": true, \"x\": [8859.681484], \"xaxis\": \"x\", \"y\": [1.98], \"yaxis\": \"y\", \"type\": \"scatter\"}], \"name\": \"2006\"}, {\"data\": [{\"hoverlabel\": {\"namelength\": 0}, \"hovertemplate\": \"Country_or_Area=Afghanistan<br>Year=2007<br>GDP_Per_Capita(USD)=%{x}<br>Mortality_Rate(%)=%{y}<br>Population(mn)=%{marker.size}\", \"legendgroup\": \"Country_or_Area=Afghanistan\", \"marker\": {\"color\": \"#636efa\", \"size\": [26.616791999999997], \"sizemode\": \"area\", \"sizeref\": 0.05687629546666667, \"symbol\": \"circle\"}, \"mode\": \"markers\", \"name\": \"Country_or_Area=Afghanistan\", \"showlegend\": true, \"x\": [389.98558639999993], \"xaxis\": \"x\", \"y\": [10.22], \"yaxis\": \"y\", \"type\": \"scatter\"}, {\"hoverlabel\": {\"namelength\": 0}, \"hovertemplate\": \"Country_or_Area=United States<br>Year=2007<br>GDP_Per_Capita(USD)=%{x}<br>Mortality_Rate(%)=%{y}<br>Population(mn)=%{marker.size}\", \"legendgroup\": \"Country_or_Area=United States\", \"marker\": {\"color\": \"#EF553B\", \"size\": [300.595175], \"sizemode\": \"area\", \"sizeref\": 0.05687629546666667, \"symbol\": \"circle\"}, \"mode\": \"markers\", \"name\": \"Country_or_Area=United States\", \"showlegend\": true, \"x\": [48077.484939999995], \"xaxis\": \"x\", \"y\": [0.78], \"yaxis\": \"y\", \"type\": \"scatter\"}, {\"hoverlabel\": {\"namelength\": 0}, \"hovertemplate\": \"Country_or_Area=Brazil<br>Year=2007<br>GDP_Per_Capita(USD)=%{x}<br>Mortality_Rate(%)=%{y}<br>Population(mn)=%{marker.size}\", \"legendgroup\": \"Country_or_Area=Brazil\", \"marker\": {\"color\": \"#00cc96\", \"size\": [191.02663700000002], \"sizemode\": \"area\", \"sizeref\": 0.05687629546666667, \"symbol\": \"circle\"}, \"mode\": \"markers\", \"name\": \"Country_or_Area=Brazil\", \"showlegend\": true, \"x\": [7313.714303], \"xaxis\": \"x\", \"y\": [2.32], \"yaxis\": \"y\", \"type\": \"scatter\"}, {\"hoverlabel\": {\"namelength\": 0}, \"hovertemplate\": \"Country_or_Area=Zimbabwe<br>Year=2007<br>GDP_Per_Capita(USD)=%{x}<br>Mortality_Rate(%)=%{y}<br>Population(mn)=%{marker.size}\", \"legendgroup\": \"Country_or_Area=Zimbabwe\", \"marker\": {\"color\": \"#ab63fa\", \"size\": [13.329908999999999], \"sizemode\": \"area\", \"sizeref\": 0.05687629546666667, \"symbol\": \"circle\"}, \"mode\": \"markers\", \"name\": \"Country_or_Area=Zimbabwe\", \"showlegend\": true, \"x\": [527.5914617999999], \"xaxis\": \"x\", \"y\": [10.0], \"yaxis\": \"y\", \"type\": \"scatter\"}, {\"hoverlabel\": {\"namelength\": 0}, \"hovertemplate\": \"Country_or_Area=Namibia<br>Year=2007<br>GDP_Per_Capita(USD)=%{x}<br>Mortality_Rate(%)=%{y}<br>Population(mn)=%{marker.size}\", \"legendgroup\": \"Country_or_Area=Namibia\", \"marker\": {\"color\": \"#FFA15A\", \"size\": [2.079915], \"sizemode\": \"area\", \"sizeref\": 0.05687629546666667, \"symbol\": \"circle\"}, \"mode\": \"markers\", \"name\": \"Country_or_Area=Namibia\", \"showlegend\": true, \"x\": [4202.531843], \"xaxis\": \"x\", \"y\": [6.37], \"yaxis\": \"y\", \"type\": \"scatter\"}, {\"hoverlabel\": {\"namelength\": 0}, \"hovertemplate\": \"Country_or_Area=Nigeria<br>Year=2007<br>GDP_Per_Capita(USD)=%{x}<br>Mortality_Rate(%)=%{y}<br>Population(mn)=%{marker.size}\", \"legendgroup\": \"Country_or_Area=Nigeria\", \"marker\": {\"color\": \"#19d3f3\", \"size\": [146.417024], \"sizemode\": \"area\", \"sizeref\": 0.05687629546666667, \"symbol\": \"circle\"}, \"mode\": \"markers\", \"name\": \"Country_or_Area=Nigeria\", \"showlegend\": true, \"x\": [1828.089882], \"xaxis\": \"x\", \"y\": [14.6], \"yaxis\": \"y\", \"type\": \"scatter\"}, {\"hoverlabel\": {\"namelength\": 0}, \"hovertemplate\": \"Country_or_Area=Thailand<br>Year=2007<br>GDP_Per_Capita(USD)=%{x}<br>Mortality_Rate(%)=%{y}<br>Population(mn)=%{marker.size}\", \"legendgroup\": \"Country_or_Area=Thailand\", \"marker\": {\"color\": \"#B6E880\", \"size\": [66.195615], \"sizemode\": \"area\", \"sizeref\": 0.05687629546666667, \"symbol\": \"circle\"}, \"mode\": \"markers\", \"name\": \"Country_or_Area=Thailand\", \"showlegend\": true, \"x\": [3972.2087090000005], \"xaxis\": \"x\", \"y\": [1.67], \"yaxis\": \"y\", \"type\": \"scatter\"}, {\"hoverlabel\": {\"namelength\": 0}, \"hovertemplate\": \"Country_or_Area=Mexico<br>Year=2007<br>GDP_Per_Capita(USD)=%{x}<br>Mortality_Rate(%)=%{y}<br>Population(mn)=%{marker.size}\", \"legendgroup\": \"Country_or_Area=Mexico\", \"marker\": {\"color\": \"#FF97FF\", \"size\": [111.83634599999999], \"sizemode\": \"area\", \"sizeref\": 0.05687629546666667, \"symbol\": \"circle\"}, \"mode\": \"markers\", \"name\": \"Country_or_Area=Mexico\", \"showlegend\": true, \"x\": [9412.835117], \"xaxis\": \"x\", \"y\": [1.9], \"yaxis\": \"y\", \"type\": \"scatter\"}], \"name\": \"2007\"}, {\"data\": [{\"hoverlabel\": {\"namelength\": 0}, \"hovertemplate\": \"Country_or_Area=Afghanistan<br>Year=2008<br>GDP_Per_Capita(USD)=%{x}<br>Mortality_Rate(%)=%{y}<br>Population(mn)=%{marker.size}\", \"legendgroup\": \"Country_or_Area=Afghanistan\", \"marker\": {\"color\": \"#636efa\", \"size\": [27.294031], \"sizemode\": \"area\", \"sizeref\": 0.05687629546666667, \"symbol\": \"circle\"}, \"mode\": \"markers\", \"name\": \"Country_or_Area=Afghanistan\", \"showlegend\": true, \"x\": [394.53610089999995], \"xaxis\": \"x\", \"y\": [9.82], \"yaxis\": \"y\", \"type\": \"scatter\"}, {\"hoverlabel\": {\"namelength\": 0}, \"hovertemplate\": \"Country_or_Area=United States<br>Year=2008<br>GDP_Per_Capita(USD)=%{x}<br>Mortality_Rate(%)=%{y}<br>Population(mn)=%{marker.size}\", \"legendgroup\": \"Country_or_Area=United States\", \"marker\": {\"color\": \"#EF553B\", \"size\": [303.37406699999997], \"sizemode\": \"area\", \"sizeref\": 0.05687629546666667, \"symbol\": \"circle\"}, \"mode\": \"markers\", \"name\": \"Country_or_Area=United States\", \"showlegend\": true, \"x\": [48497.37206], \"xaxis\": \"x\", \"y\": [0.76], \"yaxis\": \"y\", \"type\": \"scatter\"}, {\"hoverlabel\": {\"namelength\": 0}, \"hovertemplate\": \"Country_or_Area=Brazil<br>Year=2008<br>GDP_Per_Capita(USD)=%{x}<br>Mortality_Rate(%)=%{y}<br>Population(mn)=%{marker.size}\", \"legendgroup\": \"Country_or_Area=Brazil\", \"marker\": {\"color\": \"#00cc96\", \"size\": [192.979029], \"sizemode\": \"area\", \"sizeref\": 0.05687629546666667, \"symbol\": \"circle\"}, \"mode\": \"markers\", \"name\": \"Country_or_Area=Brazil\", \"showlegend\": true, \"x\": [8787.770364], \"xaxis\": \"x\", \"y\": [2.19], \"yaxis\": \"y\", \"type\": \"scatter\"}, {\"hoverlabel\": {\"namelength\": 0}, \"hovertemplate\": \"Country_or_Area=Zimbabwe<br>Year=2008<br>GDP_Per_Capita(USD)=%{x}<br>Mortality_Rate(%)=%{y}<br>Population(mn)=%{marker.size}\", \"legendgroup\": \"Country_or_Area=Zimbabwe\", \"marker\": {\"color\": \"#ab63fa\", \"size\": [13.558469], \"sizemode\": \"area\", \"sizeref\": 0.05687629546666667, \"symbol\": \"circle\"}, \"mode\": \"markers\", \"name\": \"Country_or_Area=Zimbabwe\", \"showlegend\": true, \"x\": [475.7577497], \"xaxis\": \"x\", \"y\": [9.8], \"yaxis\": \"y\", \"type\": \"scatter\"}, {\"hoverlabel\": {\"namelength\": 0}, \"hovertemplate\": \"Country_or_Area=Namibia<br>Year=2008<br>GDP_Per_Capita(USD)=%{x}<br>Mortality_Rate(%)=%{y}<br>Population(mn)=%{marker.size}\", \"legendgroup\": \"Country_or_Area=Namibia\", \"marker\": {\"color\": \"#FFA15A\", \"size\": [2.106375], \"sizemode\": \"area\", \"sizeref\": 0.05687629546666667, \"symbol\": \"circle\"}, \"mode\": \"markers\", \"name\": \"Country_or_Area=Namibia\", \"showlegend\": true, \"x\": [4029.0536829999996], \"xaxis\": \"x\", \"y\": [6.09], \"yaxis\": \"y\", \"type\": \"scatter\"}, {\"hoverlabel\": {\"namelength\": 0}, \"hovertemplate\": \"Country_or_Area=Nigeria<br>Year=2008<br>GDP_Per_Capita(USD)=%{x}<br>Mortality_Rate(%)=%{y}<br>Population(mn)=%{marker.size}\", \"legendgroup\": \"Country_or_Area=Nigeria\", \"marker\": {\"color\": \"#19d3f3\", \"size\": [150.34739], \"sizemode\": \"area\", \"sizeref\": 0.05687629546666667, \"symbol\": \"circle\"}, \"mode\": \"markers\", \"name\": \"Country_or_Area=Nigeria\", \"showlegend\": true, \"x\": [2225.382886], \"xaxis\": \"x\", \"y\": [14.03], \"yaxis\": \"y\", \"type\": \"scatter\"}, {\"hoverlabel\": {\"namelength\": 0}, \"hovertemplate\": \"Country_or_Area=Thailand<br>Year=2008<br>GDP_Per_Capita(USD)=%{x}<br>Mortality_Rate(%)=%{y}<br>Population(mn)=%{marker.size}\", \"legendgroup\": \"Country_or_Area=Thailand\", \"marker\": {\"color\": \"#B6E880\", \"size\": [66.54576], \"sizemode\": \"area\", \"sizeref\": 0.05687629546666667, \"symbol\": \"circle\"}, \"mode\": \"markers\", \"name\": \"Country_or_Area=Thailand\", \"showlegend\": true, \"x\": [4378.687322], \"xaxis\": \"x\", \"y\": [1.6], \"yaxis\": \"y\", \"type\": \"scatter\"}, {\"hoverlabel\": {\"namelength\": 0}, \"hovertemplate\": \"Country_or_Area=Mexico<br>Year=2008<br>GDP_Per_Capita(USD)=%{x}<br>Mortality_Rate(%)=%{y}<br>Population(mn)=%{marker.size}\", \"legendgroup\": \"Country_or_Area=Mexico\", \"marker\": {\"color\": \"#FF97FF\", \"size\": [113.661809], \"sizemode\": \"area\", \"sizeref\": 0.05687629546666667, \"symbol\": \"circle\"}, \"mode\": \"markers\", \"name\": \"Country_or_Area=Mexico\", \"showlegend\": true, \"x\": [9765.702404000001], \"xaxis\": \"x\", \"y\": [1.84], \"yaxis\": \"y\", \"type\": \"scatter\"}], \"name\": \"2008\"}, {\"data\": [{\"hoverlabel\": {\"namelength\": 0}, \"hovertemplate\": \"Country_or_Area=Afghanistan<br>Year=2009<br>GDP_Per_Capita(USD)=%{x}<br>Mortality_Rate(%)=%{y}<br>Population(mn)=%{marker.size}\", \"legendgroup\": \"Country_or_Area=Afghanistan\", \"marker\": {\"color\": \"#636efa\", \"size\": [28.004331], \"sizemode\": \"area\", \"sizeref\": 0.05687629546666667, \"symbol\": \"circle\"}, \"mode\": \"markers\", \"name\": \"Country_or_Area=Afghanistan\", \"showlegend\": true, \"x\": [448.95191789999996], \"xaxis\": \"x\", \"y\": [9.41], \"yaxis\": \"y\", \"type\": \"scatter\"}, {\"hoverlabel\": {\"namelength\": 0}, \"hovertemplate\": \"Country_or_Area=United States<br>Year=2009<br>GDP_Per_Capita(USD)=%{x}<br>Mortality_Rate(%)=%{y}<br>Population(mn)=%{marker.size}\", \"legendgroup\": \"Country_or_Area=United States\", \"marker\": {\"color\": \"#EF553B\", \"size\": [306.076362], \"sizemode\": \"area\", \"sizeref\": 0.05687629546666667, \"symbol\": \"circle\"}, \"mode\": \"markers\", \"name\": \"Country_or_Area=United States\", \"showlegend\": true, \"x\": [47206.95158], \"xaxis\": \"x\", \"y\": [0.75], \"yaxis\": \"y\", \"type\": \"scatter\"}, {\"hoverlabel\": {\"namelength\": 0}, \"hovertemplate\": \"Country_or_Area=Brazil<br>Year=2009<br>GDP_Per_Capita(USD)=%{x}<br>Mortality_Rate(%)=%{y}<br>Population(mn)=%{marker.size}\", \"legendgroup\": \"Country_or_Area=Brazil\", \"marker\": {\"color\": \"#00cc96\", \"size\": [194.895996], \"sizemode\": \"area\", \"sizeref\": 0.05687629546666667, \"symbol\": \"circle\"}, \"mode\": \"markers\", \"name\": \"Country_or_Area=Brazil\", \"showlegend\": true, \"x\": [8553.260859999999], \"xaxis\": \"x\", \"y\": [2.08], \"yaxis\": \"y\", \"type\": \"scatter\"}, {\"hoverlabel\": {\"namelength\": 0}, \"hovertemplate\": \"Country_or_Area=Zimbabwe<br>Year=2009<br>GDP_Per_Capita(USD)=%{x}<br>Mortality_Rate(%)=%{y}<br>Population(mn)=%{marker.size}\", \"legendgroup\": \"Country_or_Area=Zimbabwe\", \"marker\": {\"color\": \"#ab63fa\", \"size\": [13.810599], \"sizemode\": \"area\", \"sizeref\": 0.05687629546666667, \"symbol\": \"circle\"}, \"mode\": \"markers\", \"name\": \"Country_or_Area=Zimbabwe\", \"showlegend\": true, \"x\": [624.2722425], \"xaxis\": \"x\", \"y\": [9.49], \"yaxis\": \"y\", \"type\": \"scatter\"}, {\"hoverlabel\": {\"namelength\": 0}, \"hovertemplate\": \"Country_or_Area=Namibia<br>Year=2009<br>GDP_Per_Capita(USD)=%{x}<br>Mortality_Rate(%)=%{y}<br>Population(mn)=%{marker.size}\", \"legendgroup\": \"Country_or_Area=Namibia\", \"marker\": {\"color\": \"#FFA15A\", \"size\": [2.1370400000000003], \"sizemode\": \"area\", \"sizeref\": 0.05687629546666667, \"symbol\": \"circle\"}, \"mode\": \"markers\", \"name\": \"Country_or_Area=Namibia\", \"showlegend\": true, \"x\": [4153.5105539999995], \"xaxis\": \"x\", \"y\": [5.86], \"yaxis\": \"y\", \"type\": \"scatter\"}, {\"hoverlabel\": {\"namelength\": 0}, \"hovertemplate\": \"Country_or_Area=Nigeria<br>Year=2009<br>GDP_Per_Capita(USD)=%{x}<br>Mortality_Rate(%)=%{y}<br>Population(mn)=%{marker.size}\", \"legendgroup\": \"Country_or_Area=Nigeria\", \"marker\": {\"color\": \"#19d3f3\", \"size\": [154.402181], \"sizemode\": \"area\", \"sizeref\": 0.05687629546666667, \"symbol\": \"circle\"}, \"mode\": \"markers\", \"name\": \"Country_or_Area=Nigeria\", \"showlegend\": true, \"x\": [1765.10467], \"xaxis\": \"x\", \"y\": [13.48], \"yaxis\": \"y\", \"type\": \"scatter\"}, {\"hoverlabel\": {\"namelength\": 0}, \"hovertemplate\": \"Country_or_Area=Thailand<br>Year=2009<br>GDP_Per_Capita(USD)=%{x}<br>Mortality_Rate(%)=%{y}<br>Population(mn)=%{marker.size}\", \"legendgroup\": \"Country_or_Area=Thailand\", \"marker\": {\"color\": \"#B6E880\", \"size\": [66.881867], \"sizemode\": \"area\", \"sizeref\": 0.05687629546666667, \"symbol\": \"circle\"}, \"mode\": \"markers\", \"name\": \"Country_or_Area=Thailand\", \"showlegend\": true, \"x\": [4212.058081], \"xaxis\": \"x\", \"y\": [1.54], \"yaxis\": \"y\", \"type\": \"scatter\"}, {\"hoverlabel\": {\"namelength\": 0}, \"hovertemplate\": \"Country_or_Area=Mexico<br>Year=2009<br>GDP_Per_Capita(USD)=%{x}<br>Mortality_Rate(%)=%{y}<br>Population(mn)=%{marker.size}\", \"legendgroup\": \"Country_or_Area=Mexico\", \"marker\": {\"color\": \"#FF97FF\", \"size\": [115.505228], \"sizemode\": \"area\", \"sizeref\": 0.05687629546666667, \"symbol\": \"circle\"}, \"mode\": \"markers\", \"name\": \"Country_or_Area=Mexico\", \"showlegend\": true, \"x\": [7792.262145000001], \"xaxis\": \"x\", \"y\": [1.78], \"yaxis\": \"y\", \"type\": \"scatter\"}], \"name\": \"2009\"}, {\"data\": [{\"hoverlabel\": {\"namelength\": 0}, \"hovertemplate\": \"Country_or_Area=Afghanistan<br>Year=2010<br>GDP_Per_Capita(USD)=%{x}<br>Mortality_Rate(%)=%{y}<br>Population(mn)=%{marker.size}\", \"legendgroup\": \"Country_or_Area=Afghanistan\", \"marker\": {\"color\": \"#636efa\", \"size\": [28.803167], \"sizemode\": \"area\", \"sizeref\": 0.05687629546666667, \"symbol\": \"circle\"}, \"mode\": \"markers\", \"name\": \"Country_or_Area=Afghanistan\", \"showlegend\": true, \"x\": [558.1997646000001], \"xaxis\": \"x\", \"y\": [9.02], \"yaxis\": \"y\", \"type\": \"scatter\"}, {\"hoverlabel\": {\"namelength\": 0}, \"hovertemplate\": \"Country_or_Area=United States<br>Year=2010<br>GDP_Per_Capita(USD)=%{x}<br>Mortality_Rate(%)=%{y}<br>Population(mn)=%{marker.size}\", \"legendgroup\": \"Country_or_Area=United States\", \"marker\": {\"color\": \"#EF553B\", \"size\": [308.641391], \"sizemode\": \"area\", \"sizeref\": 0.05687629546666667, \"symbol\": \"circle\"}, \"mode\": \"markers\", \"name\": \"Country_or_Area=United States\", \"showlegend\": true, \"x\": [48574.34044], \"xaxis\": \"x\", \"y\": [0.73], \"yaxis\": \"y\", \"type\": \"scatter\"}, {\"hoverlabel\": {\"namelength\": 0}, \"hovertemplate\": \"Country_or_Area=Brazil<br>Year=2010<br>GDP_Per_Capita(USD)=%{x}<br>Mortality_Rate(%)=%{y}<br>Population(mn)=%{marker.size}\", \"legendgroup\": \"Country_or_Area=Brazil\", \"marker\": {\"color\": \"#00cc96\", \"size\": [196.796269], \"sizemode\": \"area\", \"sizeref\": 0.05687629546666667, \"symbol\": \"circle\"}, \"mode\": \"markers\", \"name\": \"Country_or_Area=Brazil\", \"showlegend\": true, \"x\": [11223.98367], \"xaxis\": \"x\", \"y\": [1.98], \"yaxis\": \"y\", \"type\": \"scatter\"}, {\"hoverlabel\": {\"namelength\": 0}, \"hovertemplate\": \"Country_or_Area=Zimbabwe<br>Year=2010<br>GDP_Per_Capita(USD)=%{x}<br>Mortality_Rate(%)=%{y}<br>Population(mn)=%{marker.size}\", \"legendgroup\": \"Country_or_Area=Zimbabwe\", \"marker\": {\"color\": \"#ab63fa\", \"size\": [14.086317000000001], \"sizemode\": \"area\", \"sizeref\": 0.05687629546666667, \"symbol\": \"circle\"}, \"mode\": \"markers\", \"name\": \"Country_or_Area=Zimbabwe\", \"showlegend\": true, \"x\": [719.979517], \"xaxis\": \"x\", \"y\": [8.99], \"yaxis\": \"y\", \"type\": \"scatter\"}, {\"hoverlabel\": {\"namelength\": 0}, \"hovertemplate\": \"Country_or_Area=Namibia<br>Year=2010<br>GDP_Per_Capita(USD)=%{x}<br>Mortality_Rate(%)=%{y}<br>Population(mn)=%{marker.size}\", \"legendgroup\": \"Country_or_Area=Namibia\", \"marker\": {\"color\": \"#FFA15A\", \"size\": [2.1731700000000003], \"sizemode\": \"area\", \"sizeref\": 0.05687629546666667, \"symbol\": \"circle\"}, \"mode\": \"markers\", \"name\": \"Country_or_Area=Namibia\", \"showlegend\": true, \"x\": [5191.567506], \"xaxis\": \"x\", \"y\": [5.6], \"yaxis\": \"y\", \"type\": \"scatter\"}, {\"hoverlabel\": {\"namelength\": 0}, \"hovertemplate\": \"Country_or_Area=Nigeria<br>Year=2010<br>GDP_Per_Capita(USD)=%{x}<br>Mortality_Rate(%)=%{y}<br>Population(mn)=%{marker.size}\", \"legendgroup\": \"Country_or_Area=Nigeria\", \"marker\": {\"color\": \"#19d3f3\", \"size\": [158.578261], \"sizemode\": \"area\", \"sizeref\": 0.05687629546666667, \"symbol\": \"circle\"}, \"mode\": \"markers\", \"name\": \"Country_or_Area=Nigeria\", \"showlegend\": true, \"x\": [2327.320283], \"xaxis\": \"x\", \"y\": [12.96], \"yaxis\": \"y\", \"type\": \"scatter\"}, {\"hoverlabel\": {\"namelength\": 0}, \"hovertemplate\": \"Country_or_Area=Thailand<br>Year=2010<br>GDP_Per_Capita(USD)=%{x}<br>Mortality_Rate(%)=%{y}<br>Population(mn)=%{marker.size}\", \"legendgroup\": \"Country_or_Area=Thailand\", \"marker\": {\"color\": \"#B6E880\", \"size\": [67.20880799999999], \"sizemode\": \"area\", \"sizeref\": 0.05687629546666667, \"symbol\": \"circle\"}, \"mode\": \"markers\", \"name\": \"Country_or_Area=Thailand\", \"showlegend\": true, \"x\": [5075.301375999999], \"xaxis\": \"x\", \"y\": [1.49], \"yaxis\": \"y\", \"type\": \"scatter\"}, {\"hoverlabel\": {\"namelength\": 0}, \"hovertemplate\": \"Country_or_Area=Mexico<br>Year=2010<br>GDP_Per_Capita(USD)=%{x}<br>Mortality_Rate(%)=%{y}<br>Population(mn)=%{marker.size}\", \"legendgroup\": \"Country_or_Area=Mexico\", \"marker\": {\"color\": \"#FF97FF\", \"size\": [117.318941], \"sizemode\": \"area\", \"sizeref\": 0.05687629546666667, \"symbol\": \"circle\"}, \"mode\": \"markers\", \"name\": \"Country_or_Area=Mexico\", \"showlegend\": true, \"x\": [9016.451981], \"xaxis\": \"x\", \"y\": [1.73], \"yaxis\": \"y\", \"type\": \"scatter\"}], \"name\": \"2010\"}, {\"data\": [{\"hoverlabel\": {\"namelength\": 0}, \"hovertemplate\": \"Country_or_Area=Afghanistan<br>Year=2011<br>GDP_Per_Capita(USD)=%{x}<br>Mortality_Rate(%)=%{y}<br>Population(mn)=%{marker.size}\", \"legendgroup\": \"Country_or_Area=Afghanistan\", \"marker\": {\"color\": \"#636efa\", \"size\": [29.708599], \"sizemode\": \"area\", \"sizeref\": 0.05687629546666667, \"symbol\": \"circle\"}, \"mode\": \"markers\", \"name\": \"Country_or_Area=Afghanistan\", \"showlegend\": true, \"x\": [645.2834634999999], \"xaxis\": \"x\", \"y\": [8.64], \"yaxis\": \"y\", \"type\": \"scatter\"}, {\"hoverlabel\": {\"namelength\": 0}, \"hovertemplate\": \"Country_or_Area=United States<br>Year=2011<br>GDP_Per_Capita(USD)=%{x}<br>Mortality_Rate(%)=%{y}<br>Population(mn)=%{marker.size}\", \"legendgroup\": \"Country_or_Area=United States\", \"marker\": {\"color\": \"#EF553B\", \"size\": [311.051373], \"sizemode\": \"area\", \"sizeref\": 0.05687629546666667, \"symbol\": \"circle\"}, \"mode\": \"markers\", \"name\": \"Country_or_Area=United States\", \"showlegend\": true, \"x\": [49967.89389], \"xaxis\": \"x\", \"y\": [0.72], \"yaxis\": \"y\", \"type\": \"scatter\"}, {\"hoverlabel\": {\"namelength\": 0}, \"hovertemplate\": \"Country_or_Area=Brazil<br>Year=2011<br>GDP_Per_Capita(USD)=%{x}<br>Mortality_Rate(%)=%{y}<br>Population(mn)=%{marker.size}\", \"legendgroup\": \"Country_or_Area=Brazil\", \"marker\": {\"color\": \"#00cc96\", \"size\": [198.68668799999998], \"sizemode\": \"area\", \"sizeref\": 0.05687629546666667, \"symbol\": \"circle\"}, \"mode\": \"markers\", \"name\": \"Country_or_Area=Brazil\", \"showlegend\": true, \"x\": [13167.24655], \"xaxis\": \"x\", \"y\": [1.89], \"yaxis\": \"y\", \"type\": \"scatter\"}, {\"hoverlabel\": {\"namelength\": 0}, \"hovertemplate\": \"Country_or_Area=Zimbabwe<br>Year=2011<br>GDP_Per_Capita(USD)=%{x}<br>Mortality_Rate(%)=%{y}<br>Population(mn)=%{marker.size}\", \"legendgroup\": \"Country_or_Area=Zimbabwe\", \"marker\": {\"color\": \"#ab63fa\", \"size\": [14.386648999999998], \"sizemode\": \"area\", \"sizeref\": 0.05687629546666667, \"symbol\": \"circle\"}, \"mode\": \"markers\", \"name\": \"Country_or_Area=Zimbabwe\", \"showlegend\": true, \"x\": [840.9498799], \"xaxis\": \"x\", \"y\": [8.38], \"yaxis\": \"y\", \"type\": \"scatter\"}, {\"hoverlabel\": {\"namelength\": 0}, \"hovertemplate\": \"Country_or_Area=Namibia<br>Year=2011<br>GDP_Per_Capita(USD)=%{x}<br>Mortality_Rate(%)=%{y}<br>Population(mn)=%{marker.size}\", \"legendgroup\": \"Country_or_Area=Namibia\", \"marker\": {\"color\": \"#FFA15A\", \"size\": [2.215621], \"sizemode\": \"area\", \"sizeref\": 0.05687629546666667, \"symbol\": \"circle\"}, \"mode\": \"markers\", \"name\": \"Country_or_Area=Namibia\", \"showlegend\": true, \"x\": [5600.946603], \"xaxis\": \"x\", \"y\": [5.4], \"yaxis\": \"y\", \"type\": \"scatter\"}, {\"hoverlabel\": {\"namelength\": 0}, \"hovertemplate\": \"Country_or_Area=Nigeria<br>Year=2011<br>GDP_Per_Capita(USD)=%{x}<br>Mortality_Rate(%)=%{y}<br>Population(mn)=%{marker.size}\", \"legendgroup\": \"Country_or_Area=Nigeria\", \"marker\": {\"color\": \"#19d3f3\", \"size\": [162.877076], \"sizemode\": \"area\", \"sizeref\": 0.05687629546666667, \"symbol\": \"circle\"}, \"mode\": \"markers\", \"name\": \"Country_or_Area=Nigeria\", \"showlegend\": true, \"x\": [2542.378883], \"xaxis\": \"x\", \"y\": [12.46], \"yaxis\": \"y\", \"type\": \"scatter\"}, {\"hoverlabel\": {\"namelength\": 0}, \"hovertemplate\": \"Country_or_Area=Thailand<br>Year=2011<br>GDP_Per_Capita(USD)=%{x}<br>Mortality_Rate(%)=%{y}<br>Population(mn)=%{marker.size}\", \"legendgroup\": \"Country_or_Area=Thailand\", \"marker\": {\"color\": \"#B6E880\", \"size\": [67.53013], \"sizemode\": \"area\", \"sizeref\": 0.05687629546666667, \"symbol\": \"circle\"}, \"mode\": \"markers\", \"name\": \"Country_or_Area=Thailand\", \"showlegend\": true, \"x\": [5491.153979], \"xaxis\": \"x\", \"y\": [1.44], \"yaxis\": \"y\", \"type\": \"scatter\"}, {\"hoverlabel\": {\"namelength\": 0}, \"hovertemplate\": \"Country_or_Area=Mexico<br>Year=2011<br>GDP_Per_Capita(USD)=%{x}<br>Mortality_Rate(%)=%{y}<br>Population(mn)=%{marker.size}\", \"legendgroup\": \"Country_or_Area=Mexico\", \"marker\": {\"color\": \"#FF97FF\", \"size\": [119.09001699999999], \"sizemode\": \"area\", \"sizeref\": 0.05687629546666667, \"symbol\": \"circle\"}, \"mode\": \"markers\", \"name\": \"Country_or_Area=Mexico\", \"showlegend\": true, \"x\": [9912.562414], \"xaxis\": \"x\", \"y\": [1.68], \"yaxis\": \"y\", \"type\": \"scatter\"}], \"name\": \"2011\"}, {\"data\": [{\"hoverlabel\": {\"namelength\": 0}, \"hovertemplate\": \"Country_or_Area=Afghanistan<br>Year=2012<br>GDP_Per_Capita(USD)=%{x}<br>Mortality_Rate(%)=%{y}<br>Population(mn)=%{marker.size}\", \"legendgroup\": \"Country_or_Area=Afghanistan\", \"marker\": {\"color\": \"#636efa\", \"size\": [30.696958000000002], \"sizemode\": \"area\", \"sizeref\": 0.05687629546666667, \"symbol\": \"circle\"}, \"mode\": \"markers\", \"name\": \"Country_or_Area=Afghanistan\", \"showlegend\": true, \"x\": [694.8856184], \"xaxis\": \"x\", \"y\": [8.28], \"yaxis\": \"y\", \"type\": \"scatter\"}, {\"hoverlabel\": {\"namelength\": 0}, \"hovertemplate\": \"Country_or_Area=United States<br>Year=2012<br>GDP_Per_Capita(USD)=%{x}<br>Mortality_Rate(%)=%{y}<br>Population(mn)=%{marker.size}\", \"legendgroup\": \"Country_or_Area=United States\", \"marker\": {\"color\": \"#EF553B\", \"size\": [313.335423], \"sizemode\": \"area\", \"sizeref\": 0.05687629546666667, \"symbol\": \"circle\"}, \"mode\": \"markers\", \"name\": \"Country_or_Area=United States\", \"showlegend\": true, \"x\": [51692.230789999994], \"xaxis\": \"x\", \"y\": [0.7], \"yaxis\": \"y\", \"type\": \"scatter\"}, {\"hoverlabel\": {\"namelength\": 0}, \"hovertemplate\": \"Country_or_Area=Brazil<br>Year=2012<br>GDP_Per_Capita(USD)=%{x}<br>Mortality_Rate(%)=%{y}<br>Population(mn)=%{marker.size}\", \"legendgroup\": \"Country_or_Area=Brazil\", \"marker\": {\"color\": \"#00cc96\", \"size\": [200.56098300000002], \"sizemode\": \"area\", \"sizeref\": 0.05687629546666667, \"symbol\": \"circle\"}, \"mode\": \"markers\", \"name\": \"Country_or_Area=Brazil\", \"showlegend\": true, \"x\": [12291.6644], \"xaxis\": \"x\", \"y\": [1.8], \"yaxis\": \"y\", \"type\": \"scatter\"}, {\"hoverlabel\": {\"namelength\": 0}, \"hovertemplate\": \"Country_or_Area=Zimbabwe<br>Year=2012<br>GDP_Per_Capita(USD)=%{x}<br>Mortality_Rate(%)=%{y}<br>Population(mn)=%{marker.size}\", \"legendgroup\": \"Country_or_Area=Zimbabwe\", \"marker\": {\"color\": \"#ab63fa\", \"size\": [14.710826], \"sizemode\": \"area\", \"sizeref\": 0.05687629546666667, \"symbol\": \"circle\"}, \"mode\": \"markers\", \"name\": \"Country_or_Area=Zimbabwe\", \"showlegend\": true, \"x\": [968.1638714], \"xaxis\": \"x\", \"y\": [7.6], \"yaxis\": \"y\", \"type\": \"scatter\"}, {\"hoverlabel\": {\"namelength\": 0}, \"hovertemplate\": \"Country_or_Area=Namibia<br>Year=2012<br>GDP_Per_Capita(USD)=%{x}<br>Mortality_Rate(%)=%{y}<br>Population(mn)=%{marker.size}\", \"legendgroup\": \"Country_or_Area=Namibia\", \"marker\": {\"color\": \"#FFA15A\", \"size\": [2.263934], \"sizemode\": \"area\", \"sizeref\": 0.05687629546666667, \"symbol\": \"circle\"}, \"mode\": \"markers\", \"name\": \"Country_or_Area=Namibia\", \"showlegend\": true, \"x\": [5749.373331000001], \"xaxis\": \"x\", \"y\": [5.34], \"yaxis\": \"y\", \"type\": \"scatter\"}, {\"hoverlabel\": {\"namelength\": 0}, \"hovertemplate\": \"Country_or_Area=Nigeria<br>Year=2012<br>GDP_Per_Capita(USD)=%{x}<br>Mortality_Rate(%)=%{y}<br>Population(mn)=%{marker.size}\", \"legendgroup\": \"Country_or_Area=Nigeria\", \"marker\": {\"color\": \"#19d3f3\", \"size\": [167.29728400000002], \"sizemode\": \"area\", \"sizeref\": 0.05687629546666667, \"symbol\": \"circle\"}, \"mode\": \"markers\", \"name\": \"Country_or_Area=Nigeria\", \"showlegend\": true, \"x\": [2755.28509], \"xaxis\": \"x\", \"y\": [12.0], \"yaxis\": \"y\", \"type\": \"scatter\"}, {\"hoverlabel\": {\"namelength\": 0}, \"hovertemplate\": \"Country_or_Area=Thailand<br>Year=2012<br>GDP_Per_Capita(USD)=%{x}<br>Mortality_Rate(%)=%{y}<br>Population(mn)=%{marker.size}\", \"legendgroup\": \"Country_or_Area=Thailand\", \"marker\": {\"color\": \"#B6E880\", \"size\": [67.843979], \"sizemode\": \"area\", \"sizeref\": 0.05687629546666667, \"symbol\": \"circle\"}, \"mode\": \"markers\", \"name\": \"Country_or_Area=Thailand\", \"showlegend\": true, \"x\": [5859.889215], \"xaxis\": \"x\", \"y\": [1.39], \"yaxis\": \"y\", \"type\": \"scatter\"}, {\"hoverlabel\": {\"namelength\": 0}, \"hovertemplate\": \"Country_or_Area=Mexico<br>Year=2012<br>GDP_Per_Capita(USD)=%{x}<br>Mortality_Rate(%)=%{y}<br>Population(mn)=%{marker.size}\", \"legendgroup\": \"Country_or_Area=Mexico\", \"marker\": {\"color\": \"#FF97FF\", \"size\": [120.82830700000001], \"sizemode\": \"area\", \"sizeref\": 0.05687629546666667, \"symbol\": \"circle\"}, \"mode\": \"markers\", \"name\": \"Country_or_Area=Mexico\", \"showlegend\": true, \"x\": [9940.500012], \"xaxis\": \"x\", \"y\": [1.63], \"yaxis\": \"y\", \"type\": \"scatter\"}], \"name\": \"2012\"}, {\"data\": [{\"hoverlabel\": {\"namelength\": 0}, \"hovertemplate\": \"Country_or_Area=Afghanistan<br>Year=2013<br>GDP_Per_Capita(USD)=%{x}<br>Mortality_Rate(%)=%{y}<br>Population(mn)=%{marker.size}\", \"legendgroup\": \"Country_or_Area=Afghanistan\", \"marker\": {\"color\": \"#636efa\", \"size\": [31.731688000000002], \"sizemode\": \"area\", \"sizeref\": 0.05687629546666667, \"symbol\": \"circle\"}, \"mode\": \"markers\", \"name\": \"Country_or_Area=Afghanistan\", \"showlegend\": true, \"x\": [681.0342147999999], \"xaxis\": \"x\", \"y\": [7.93], \"yaxis\": \"y\", \"type\": \"scatter\"}, {\"hoverlabel\": {\"namelength\": 0}, \"hovertemplate\": \"Country_or_Area=United States<br>Year=2013<br>GDP_Per_Capita(USD)=%{x}<br>Mortality_Rate(%)=%{y}<br>Population(mn)=%{marker.size}\", \"legendgroup\": \"Country_or_Area=United States\", \"marker\": {\"color\": \"#EF553B\", \"size\": [315.536676], \"sizemode\": \"area\", \"sizeref\": 0.05687629546666667, \"symbol\": \"circle\"}, \"mode\": \"markers\", \"name\": \"Country_or_Area=United States\", \"showlegend\": true, \"x\": [53194.61184], \"xaxis\": \"x\", \"y\": [0.69], \"yaxis\": \"y\", \"type\": \"scatter\"}, {\"hoverlabel\": {\"namelength\": 0}, \"hovertemplate\": \"Country_or_Area=Brazil<br>Year=2013<br>GDP_Per_Capita(USD)=%{x}<br>Mortality_Rate(%)=%{y}<br>Population(mn)=%{marker.size}\", \"legendgroup\": \"Country_or_Area=Brazil\", \"marker\": {\"color\": \"#00cc96\", \"size\": [202.408632], \"sizemode\": \"area\", \"sizeref\": 0.05687629546666667, \"symbol\": \"circle\"}, \"mode\": \"markers\", \"name\": \"Country_or_Area=Brazil\", \"showlegend\": true, \"x\": [12216.96594], \"xaxis\": \"x\", \"y\": [1.72], \"yaxis\": \"y\", \"type\": \"scatter\"}, {\"hoverlabel\": {\"namelength\": 0}, \"hovertemplate\": \"Country_or_Area=Zimbabwe<br>Year=2013<br>GDP_Per_Capita(USD)=%{x}<br>Mortality_Rate(%)=%{y}<br>Population(mn)=%{marker.size}\", \"legendgroup\": \"Country_or_Area=Zimbabwe\", \"marker\": {\"color\": \"#ab63fa\", \"size\": [15.054506], \"sizemode\": \"area\", \"sizeref\": 0.05687629546666667, \"symbol\": \"circle\"}, \"mode\": \"markers\", \"name\": \"Country_or_Area=Zimbabwe\", \"showlegend\": true, \"x\": [1026.388289], \"xaxis\": \"x\", \"y\": [7.0], \"yaxis\": \"y\", \"type\": \"scatter\"}, {\"hoverlabel\": {\"namelength\": 0}, \"hovertemplate\": \"Country_or_Area=Namibia<br>Year=2013<br>GDP_Per_Capita(USD)=%{x}<br>Mortality_Rate(%)=%{y}<br>Population(mn)=%{marker.size}\", \"legendgroup\": \"Country_or_Area=Namibia\", \"marker\": {\"color\": \"#FFA15A\", \"size\": [2.31652], \"sizemode\": \"area\", \"sizeref\": 0.05687629546666667, \"symbol\": \"circle\"}, \"mode\": \"markers\", \"name\": \"Country_or_Area=Namibia\", \"showlegend\": true, \"x\": [5490.05793], \"xaxis\": \"x\", \"y\": [5.06], \"yaxis\": \"y\", \"type\": \"scatter\"}, {\"hoverlabel\": {\"namelength\": 0}, \"hovertemplate\": \"Country_or_Area=Nigeria<br>Year=2013<br>GDP_Per_Capita(USD)=%{x}<br>Mortality_Rate(%)=%{y}<br>Population(mn)=%{marker.size}\", \"legendgroup\": \"Country_or_Area=Nigeria\", \"marker\": {\"color\": \"#19d3f3\", \"size\": [171.829303], \"sizemode\": \"area\", \"sizeref\": 0.05687629546666667, \"symbol\": \"circle\"}, \"mode\": \"markers\", \"name\": \"Country_or_Area=Nigeria\", \"showlegend\": true, \"x\": [2996.963827], \"xaxis\": \"x\", \"y\": [11.56], \"yaxis\": \"y\", \"type\": \"scatter\"}, {\"hoverlabel\": {\"namelength\": 0}, \"hovertemplate\": \"Country_or_Area=Thailand<br>Year=2013<br>GDP_Per_Capita(USD)=%{x}<br>Mortality_Rate(%)=%{y}<br>Population(mn)=%{marker.size}\", \"legendgroup\": \"Country_or_Area=Thailand\", \"marker\": {\"color\": \"#B6E880\", \"size\": [68.143065], \"sizemode\": \"area\", \"sizeref\": 0.05687629546666667, \"symbol\": \"circle\"}, \"mode\": \"markers\", \"name\": \"Country_or_Area=Thailand\", \"showlegend\": true, \"x\": [6168.401573], \"xaxis\": \"x\", \"y\": [1.34], \"yaxis\": \"y\", \"type\": \"scatter\"}, {\"hoverlabel\": {\"namelength\": 0}, \"hovertemplate\": \"Country_or_Area=Mexico<br>Year=2013<br>GDP_Per_Capita(USD)=%{x}<br>Mortality_Rate(%)=%{y}<br>Population(mn)=%{marker.size}\", \"legendgroup\": \"Country_or_Area=Mexico\", \"marker\": {\"color\": \"#FF97FF\", \"size\": [122.535969], \"sizemode\": \"area\", \"sizeref\": 0.05687629546666667, \"symbol\": \"circle\"}, \"mode\": \"markers\", \"name\": \"Country_or_Area=Mexico\", \"showlegend\": true, \"x\": [10400.569940000001], \"xaxis\": \"x\", \"y\": [1.59], \"yaxis\": \"y\", \"type\": \"scatter\"}], \"name\": \"2013\"}, {\"data\": [{\"hoverlabel\": {\"namelength\": 0}, \"hovertemplate\": \"Country_or_Area=Afghanistan<br>Year=2014<br>GDP_Per_Capita(USD)=%{x}<br>Mortality_Rate(%)=%{y}<br>Population(mn)=%{marker.size}\", \"legendgroup\": \"Country_or_Area=Afghanistan\", \"marker\": {\"color\": \"#636efa\", \"size\": [32.75802], \"sizemode\": \"area\", \"sizeref\": 0.05687629546666667, \"symbol\": \"circle\"}, \"mode\": \"markers\", \"name\": \"Country_or_Area=Afghanistan\", \"showlegend\": true, \"x\": [651.1584256], \"xaxis\": \"x\", \"y\": [7.61], \"yaxis\": \"y\", \"type\": \"scatter\"}, {\"hoverlabel\": {\"namelength\": 0}, \"hovertemplate\": \"Country_or_Area=United States<br>Year=2014<br>GDP_Per_Capita(USD)=%{x}<br>Mortality_Rate(%)=%{y}<br>Population(mn)=%{marker.size}\", \"legendgroup\": \"Country_or_Area=United States\", \"marker\": {\"color\": \"#EF553B\", \"size\": [317.718779], \"sizemode\": \"area\", \"sizeref\": 0.05687629546666667, \"symbol\": \"circle\"}, \"mode\": \"markers\", \"name\": \"Country_or_Area=United States\", \"showlegend\": true, \"x\": [55148.6036], \"xaxis\": \"x\", \"y\": [0.68], \"yaxis\": \"y\", \"type\": \"scatter\"}, {\"hoverlabel\": {\"namelength\": 0}, \"hovertemplate\": \"Country_or_Area=Brazil<br>Year=2014<br>GDP_Per_Capita(USD)=%{x}<br>Mortality_Rate(%)=%{y}<br>Population(mn)=%{marker.size}\", \"legendgroup\": \"Country_or_Area=Brazil\", \"marker\": {\"color\": \"#00cc96\", \"size\": [204.213133], \"sizemode\": \"area\", \"sizeref\": 0.05687629546666667, \"symbol\": \"circle\"}, \"mode\": \"markers\", \"name\": \"Country_or_Area=Brazil\", \"showlegend\": true, \"x\": [12026.86492], \"xaxis\": \"x\", \"y\": [1.64], \"yaxis\": \"y\", \"type\": \"scatter\"}, {\"hoverlabel\": {\"namelength\": 0}, \"hovertemplate\": \"Country_or_Area=Zimbabwe<br>Year=2014<br>GDP_Per_Capita(USD)=%{x}<br>Mortality_Rate(%)=%{y}<br>Population(mn)=%{marker.size}\", \"legendgroup\": \"Country_or_Area=Zimbabwe\", \"marker\": {\"color\": \"#ab63fa\", \"size\": [15.411675], \"sizemode\": \"area\", \"sizeref\": 0.05687629546666667, \"symbol\": \"circle\"}, \"mode\": \"markers\", \"name\": \"Country_or_Area=Zimbabwe\", \"showlegend\": true, \"x\": [1031.104616], \"xaxis\": \"x\", \"y\": [6.43], \"yaxis\": \"y\", \"type\": \"scatter\"}, {\"hoverlabel\": {\"namelength\": 0}, \"hovertemplate\": \"Country_or_Area=Namibia<br>Year=2014<br>GDP_Per_Capita(USD)=%{x}<br>Mortality_Rate(%)=%{y}<br>Population(mn)=%{marker.size}\", \"legendgroup\": \"Country_or_Area=Namibia\", \"marker\": {\"color\": \"#FFA15A\", \"size\": [2.3709919999999998], \"sizemode\": \"area\", \"sizeref\": 0.05687629546666667, \"symbol\": \"circle\"}, \"mode\": \"markers\", \"name\": \"Country_or_Area=Namibia\", \"showlegend\": true, \"x\": [5392.734738], \"xaxis\": \"x\", \"y\": [4.84], \"yaxis\": \"y\", \"type\": \"scatter\"}, {\"hoverlabel\": {\"namelength\": 0}, \"hovertemplate\": \"Country_or_Area=Nigeria<br>Year=2014<br>GDP_Per_Capita(USD)=%{x}<br>Mortality_Rate(%)=%{y}<br>Population(mn)=%{marker.size}\", \"legendgroup\": \"Country_or_Area=Nigeria\", \"marker\": {\"color\": \"#19d3f3\", \"size\": [176.460502], \"sizemode\": \"area\", \"sizeref\": 0.05687629546666667, \"symbol\": \"circle\"}, \"mode\": \"markers\", \"name\": \"Country_or_Area=Nigeria\", \"showlegend\": true, \"x\": [3221.6772690000003], \"xaxis\": \"x\", \"y\": [11.16], \"yaxis\": \"y\", \"type\": \"scatter\"}, {\"hoverlabel\": {\"namelength\": 0}, \"hovertemplate\": \"Country_or_Area=Somalia<br>Year=2014<br>GDP_Per_Capita(USD)=%{x}<br>Mortality_Rate(%)=%{y}<br>Population(mn)=%{marker.size}\", \"legendgroup\": \"Country_or_Area=Somalia\", \"marker\": {\"color\": \"#FF6692\", \"size\": [13.513125], \"sizemode\": \"area\", \"sizeref\": 0.05687629546666667, \"symbol\": \"circle\"}, \"mode\": \"markers\", \"name\": \"Country_or_Area=Somalia\", \"showlegend\": true, \"x\": [122.1838627], \"xaxis\": \"x\", \"y\": [14.07], \"yaxis\": \"y\", \"type\": \"scatter\"}, {\"hoverlabel\": {\"namelength\": 0}, \"hovertemplate\": \"Country_or_Area=Thailand<br>Year=2014<br>GDP_Per_Capita(USD)=%{x}<br>Mortality_Rate(%)=%{y}<br>Population(mn)=%{marker.size}\", \"legendgroup\": \"Country_or_Area=Thailand\", \"marker\": {\"color\": \"#B6E880\", \"size\": [68.416772], \"sizemode\": \"area\", \"sizeref\": 0.05687629546666667, \"symbol\": \"circle\"}, \"mode\": \"markers\", \"name\": \"Country_or_Area=Thailand\", \"showlegend\": true, \"x\": [5953.787818], \"xaxis\": \"x\", \"y\": [1.3], \"yaxis\": \"y\", \"type\": \"scatter\"}, {\"hoverlabel\": {\"namelength\": 0}, \"hovertemplate\": \"Country_or_Area=Mexico<br>Year=2014<br>GDP_Per_Capita(USD)=%{x}<br>Mortality_Rate(%)=%{y}<br>Population(mn)=%{marker.size}\", \"legendgroup\": \"Country_or_Area=Mexico\", \"marker\": {\"color\": \"#FF97FF\", \"size\": [124.2216], \"sizemode\": \"area\", \"sizeref\": 0.05687629546666667, \"symbol\": \"circle\"}, \"mode\": \"markers\", \"name\": \"Country_or_Area=Mexico\", \"showlegend\": true, \"x\": [10582.45033], \"xaxis\": \"x\", \"y\": [1.54], \"yaxis\": \"y\", \"type\": \"scatter\"}], \"name\": \"2014\"}, {\"data\": [{\"hoverlabel\": {\"namelength\": 0}, \"hovertemplate\": \"Country_or_Area=Afghanistan<br>Year=2015<br>GDP_Per_Capita(USD)=%{x}<br>Mortality_Rate(%)=%{y}<br>Population(mn)=%{marker.size}\", \"legendgroup\": \"Country_or_Area=Afghanistan\", \"marker\": {\"color\": \"#636efa\", \"size\": [33.736494], \"sizemode\": \"area\", \"sizeref\": 0.05687629546666667, \"symbol\": \"circle\"}, \"mode\": \"markers\", \"name\": \"Country_or_Area=Afghanistan\", \"showlegend\": true, \"x\": [610.8545447], \"xaxis\": \"x\", \"y\": [7.32], \"yaxis\": \"y\", \"type\": \"scatter\"}, {\"hoverlabel\": {\"namelength\": 0}, \"hovertemplate\": \"Country_or_Area=United States<br>Year=2015<br>GDP_Per_Capita(USD)=%{x}<br>Mortality_Rate(%)=%{y}<br>Population(mn)=%{marker.size}\", \"legendgroup\": \"Country_or_Area=United States\", \"marker\": {\"color\": \"#EF553B\", \"size\": [319.929162], \"sizemode\": \"area\", \"sizeref\": 0.05687629546666667, \"symbol\": \"circle\"}, \"mode\": \"markers\", \"name\": \"Country_or_Area=United States\", \"showlegend\": true, \"x\": [56947.90961], \"xaxis\": \"x\", \"y\": [0.66], \"yaxis\": \"y\", \"type\": \"scatter\"}, {\"hoverlabel\": {\"namelength\": 0}, \"hovertemplate\": \"Country_or_Area=Brazil<br>Year=2015<br>GDP_Per_Capita(USD)=%{x}<br>Mortality_Rate(%)=%{y}<br>Population(mn)=%{marker.size}\", \"legendgroup\": \"Country_or_Area=Brazil\", \"marker\": {\"color\": \"#00cc96\", \"size\": [205.962108], \"sizemode\": \"area\", \"sizeref\": 0.05687629546666667, \"symbol\": \"circle\"}, \"mode\": \"markers\", \"name\": \"Country_or_Area=Brazil\", \"showlegend\": true, \"x\": [8750.211469], \"xaxis\": \"x\", \"y\": [1.57], \"yaxis\": \"y\", \"type\": \"scatter\"}, {\"hoverlabel\": {\"namelength\": 0}, \"hovertemplate\": \"Country_or_Area=Zimbabwe<br>Year=2015<br>GDP_Per_Capita(USD)=%{x}<br>Mortality_Rate(%)=%{y}<br>Population(mn)=%{marker.size}\", \"legendgroup\": \"Country_or_Area=Zimbabwe\", \"marker\": {\"color\": \"#ab63fa\", \"size\": [15.777451000000001], \"sizemode\": \"area\", \"sizeref\": 0.05687629546666667, \"symbol\": \"circle\"}, \"mode\": \"markers\", \"name\": \"Country_or_Area=Zimbabwe\", \"showlegend\": true, \"x\": [1033.4158419999999], \"xaxis\": \"x\", \"y\": [5.99], \"yaxis\": \"y\", \"type\": \"scatter\"}, {\"hoverlabel\": {\"namelength\": 0}, \"hovertemplate\": \"Country_or_Area=Namibia<br>Year=2015<br>GDP_Per_Capita(USD)=%{x}<br>Mortality_Rate(%)=%{y}<br>Population(mn)=%{marker.size}\", \"legendgroup\": \"Country_or_Area=Namibia\", \"marker\": {\"color\": \"#FFA15A\", \"size\": [2.425561], \"sizemode\": \"area\", \"sizeref\": 0.05687629546666667, \"symbol\": \"circle\"}, \"mode\": \"markers\", \"name\": \"Country_or_Area=Namibia\", \"showlegend\": true, \"x\": [4805.755356000001], \"xaxis\": \"x\", \"y\": [4.8], \"yaxis\": \"y\", \"type\": \"scatter\"}, {\"hoverlabel\": {\"namelength\": 0}, \"hovertemplate\": \"Country_or_Area=Nigeria<br>Year=2015<br>GDP_Per_Capita(USD)=%{x}<br>Mortality_Rate(%)=%{y}<br>Population(mn)=%{marker.size}\", \"legendgroup\": \"Country_or_Area=Nigeria\", \"marker\": {\"color\": \"#19d3f3\", \"size\": [181.18174399999998], \"sizemode\": \"area\", \"sizeref\": 0.05687629546666667, \"symbol\": \"circle\"}, \"mode\": \"markers\", \"name\": \"Country_or_Area=Nigeria\", \"showlegend\": true, \"x\": [2729.759594], \"xaxis\": \"x\", \"y\": [10.8], \"yaxis\": \"y\", \"type\": \"scatter\"}, {\"hoverlabel\": {\"namelength\": 0}, \"hovertemplate\": \"Country_or_Area=Somalia<br>Year=2015<br>GDP_Per_Capita(USD)=%{x}<br>Mortality_Rate(%)=%{y}<br>Population(mn)=%{marker.size}\", \"legendgroup\": \"Country_or_Area=Somalia\", \"marker\": {\"color\": \"#FF6692\", \"size\": [13.908129], \"sizemode\": \"area\", \"sizeref\": 0.05687629546666667, \"symbol\": \"circle\"}, \"mode\": \"markers\", \"name\": \"Country_or_Area=Somalia\", \"showlegend\": true, \"x\": [104.599205], \"xaxis\": \"x\", \"y\": [13.67], \"yaxis\": \"y\", \"type\": \"scatter\"}, {\"hoverlabel\": {\"namelength\": 0}, \"hovertemplate\": \"Country_or_Area=Thailand<br>Year=2015<br>GDP_Per_Capita(USD)=%{x}<br>Mortality_Rate(%)=%{y}<br>Population(mn)=%{marker.size}\", \"legendgroup\": \"Country_or_Area=Thailand\", \"marker\": {\"color\": \"#B6E880\", \"size\": [68.6576], \"sizemode\": \"area\", \"sizeref\": 0.05687629546666667, \"symbol\": \"circle\"}, \"mode\": \"markers\", \"name\": \"Country_or_Area=Thailand\", \"showlegend\": true, \"x\": [5846.3917630000005], \"xaxis\": \"x\", \"y\": [1.26], \"yaxis\": \"y\", \"type\": \"scatter\"}, {\"hoverlabel\": {\"namelength\": 0}, \"hovertemplate\": \"Country_or_Area=Mexico<br>Year=2015<br>GDP_Per_Capita(USD)=%{x}<br>Mortality_Rate(%)=%{y}<br>Population(mn)=%{marker.size}\", \"legendgroup\": \"Country_or_Area=Mexico\", \"marker\": {\"color\": \"#FF97FF\", \"size\": [125.89094899999999], \"sizemode\": \"area\", \"sizeref\": 0.05687629546666667, \"symbol\": \"circle\"}, \"mode\": \"markers\", \"name\": \"Country_or_Area=Mexico\", \"showlegend\": true, \"x\": [9298.262434999999], \"xaxis\": \"x\", \"y\": [1.5], \"yaxis\": \"y\", \"type\": \"scatter\"}], \"name\": \"2015\"}]);\n",
       "                        }).then(function(){\n",
       "                            \n",
       "var gd = document.getElementById('00450cc2-d27f-4a1f-bd09-9499c4e15ab7');\n",
       "var x = new MutationObserver(function (mutations, observer) {{\n",
       "        var display = window.getComputedStyle(gd).display;\n",
       "        if (!display || display === 'none') {{\n",
       "            console.log([gd, 'removed!']);\n",
       "            Plotly.purge(gd);\n",
       "            observer.disconnect();\n",
       "        }}\n",
       "}});\n",
       "\n",
       "// Listen for the removal of the full notebook cells\n",
       "var notebookContainer = gd.closest('#notebook-container');\n",
       "if (notebookContainer) {{\n",
       "    x.observe(notebookContainer, {childList: true});\n",
       "}}\n",
       "\n",
       "// Listen for the clearing of the current output cell\n",
       "var outputEl = gd.closest('.output');\n",
       "if (outputEl) {{\n",
       "    x.observe(outputEl, {childList: true});\n",
       "}}\n",
       "\n",
       "                        })\n",
       "                };\n",
       "                });\n",
       "            </script>\n",
       "        </div>"
      ]
     },
     "metadata": {},
     "output_type": "display_data"
    }
   ],
   "source": [
    "import pyvizwizards\n",
    "\n",
    "mr_df = load_mr_data()\n",
    "\n",
    "funny_df = mr_data_selection(mr_df,['Afghanistan','United States','Brazil','Zimbabwe','Namibia','Nigeria','Somalia','Thailand','Mexico'],[1990,2015])\n",
    "\n",
    "make_mr_plot(funny_df)"
   ]
  }
 ],
 "metadata": {
  "kernelspec": {
   "display_name": "Python 3",
   "language": "python",
   "name": "python3"
  },
  "language_info": {
   "codemirror_mode": {
    "name": "ipython",
    "version": 3
   },
   "file_extension": ".py",
   "mimetype": "text/x-python",
   "name": "python",
   "nbconvert_exporter": "python",
   "pygments_lexer": "ipython3",
   "version": "3.7.3"
  }
 },
 "nbformat": 4,
 "nbformat_minor": 2
}
