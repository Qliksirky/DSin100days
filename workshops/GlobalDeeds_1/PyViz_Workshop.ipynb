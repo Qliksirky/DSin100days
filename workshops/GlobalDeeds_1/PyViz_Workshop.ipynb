{
 "cells": [
  {
   "cell_type": "code",
   "execution_count": 22,
   "metadata": {},
   "outputs": [
    {
     "data": {
      "text/html": [
       "<div>\n",
       "<style scoped>\n",
       "    .dataframe tbody tr th:only-of-type {\n",
       "        vertical-align: middle;\n",
       "    }\n",
       "\n",
       "    .dataframe tbody tr th {\n",
       "        vertical-align: top;\n",
       "    }\n",
       "\n",
       "    .dataframe thead th {\n",
       "        text-align: right;\n",
       "    }\n",
       "</style>\n",
       "<table border=\"1\" class=\"dataframe\">\n",
       "  <thead>\n",
       "    <tr style=\"text-align: right;\">\n",
       "      <th></th>\n",
       "      <th>Country_or_Area</th>\n",
       "      <th>Year</th>\n",
       "      <th>GDP_Per_Capita(USD)</th>\n",
       "      <th>Mortality_Rate(%)</th>\n",
       "      <th>Population(mn)</th>\n",
       "    </tr>\n",
       "  </thead>\n",
       "  <tbody>\n",
       "    <tr>\n",
       "      <th>0</th>\n",
       "      <td>Afghanistan</td>\n",
       "      <td>1970</td>\n",
       "      <td>157.187422</td>\n",
       "      <td>30.60</td>\n",
       "      <td>11.126123</td>\n",
       "    </tr>\n",
       "    <tr>\n",
       "      <th>1</th>\n",
       "      <td>Afghanistan</td>\n",
       "      <td>1971</td>\n",
       "      <td>160.372837</td>\n",
       "      <td>30.04</td>\n",
       "      <td>11.417825</td>\n",
       "    </tr>\n",
       "    <tr>\n",
       "      <th>2</th>\n",
       "      <td>Afghanistan</td>\n",
       "      <td>1972</td>\n",
       "      <td>136.117015</td>\n",
       "      <td>29.47</td>\n",
       "      <td>11.721940</td>\n",
       "    </tr>\n",
       "    <tr>\n",
       "      <th>3</th>\n",
       "      <td>Afghanistan</td>\n",
       "      <td>1973</td>\n",
       "      <td>144.110320</td>\n",
       "      <td>28.89</td>\n",
       "      <td>12.027822</td>\n",
       "    </tr>\n",
       "    <tr>\n",
       "      <th>4</th>\n",
       "      <td>Afghanistan</td>\n",
       "      <td>1974</td>\n",
       "      <td>174.942038</td>\n",
       "      <td>28.27</td>\n",
       "      <td>12.321541</td>\n",
       "    </tr>\n",
       "  </tbody>\n",
       "</table>\n",
       "</div>"
      ],
      "text/plain": [
       "  Country_or_Area  Year  GDP_Per_Capita(USD)  Mortality_Rate(%)  \\\n",
       "0     Afghanistan  1970           157.187422              30.60   \n",
       "1     Afghanistan  1971           160.372837              30.04   \n",
       "2     Afghanistan  1972           136.117015              29.47   \n",
       "3     Afghanistan  1973           144.110320              28.89   \n",
       "4     Afghanistan  1974           174.942038              28.27   \n",
       "\n",
       "   Population(mn)  \n",
       "0       11.126123  \n",
       "1       11.417825  \n",
       "2       11.721940  \n",
       "3       12.027822  \n",
       "4       12.321541  "
      ]
     },
     "execution_count": 22,
     "metadata": {},
     "output_type": "execute_result"
    }
   ],
   "source": [
    "def load_data():\n",
    "    import pandas as pd\n",
    "\n",
    "    gdp_df = pd.read_csv(\"MR_vs_GDP.csv\")\n",
    "    return gdp_df\n",
    "\n",
    "gdp_df = load_data()\n",
    "gdp_df.head()"
   ]
  },
  {
   "cell_type": "code",
   "execution_count": 23,
   "metadata": {},
   "outputs": [
    {
     "data": {
      "text/html": [
       "<div>\n",
       "<style scoped>\n",
       "    .dataframe tbody tr th:only-of-type {\n",
       "        vertical-align: middle;\n",
       "    }\n",
       "\n",
       "    .dataframe tbody tr th {\n",
       "        vertical-align: top;\n",
       "    }\n",
       "\n",
       "    .dataframe thead th {\n",
       "        text-align: right;\n",
       "    }\n",
       "</style>\n",
       "<table border=\"1\" class=\"dataframe\">\n",
       "  <thead>\n",
       "    <tr style=\"text-align: right;\">\n",
       "      <th></th>\n",
       "      <th>Country_or_Area</th>\n",
       "      <th>Year</th>\n",
       "      <th>GDP_Per_Capita(USD)</th>\n",
       "      <th>Mortality_Rate(%)</th>\n",
       "      <th>Population(mn)</th>\n",
       "    </tr>\n",
       "  </thead>\n",
       "  <tbody>\n",
       "    <tr>\n",
       "      <th>335</th>\n",
       "      <td>Mexico</td>\n",
       "      <td>2011</td>\n",
       "      <td>9912.562414</td>\n",
       "      <td>1.68</td>\n",
       "      <td>119.090017</td>\n",
       "    </tr>\n",
       "    <tr>\n",
       "      <th>336</th>\n",
       "      <td>Mexico</td>\n",
       "      <td>2012</td>\n",
       "      <td>9940.500012</td>\n",
       "      <td>1.63</td>\n",
       "      <td>120.828307</td>\n",
       "    </tr>\n",
       "    <tr>\n",
       "      <th>337</th>\n",
       "      <td>Mexico</td>\n",
       "      <td>2013</td>\n",
       "      <td>10400.569940</td>\n",
       "      <td>1.59</td>\n",
       "      <td>122.535969</td>\n",
       "    </tr>\n",
       "    <tr>\n",
       "      <th>338</th>\n",
       "      <td>Mexico</td>\n",
       "      <td>2014</td>\n",
       "      <td>10582.450330</td>\n",
       "      <td>1.54</td>\n",
       "      <td>124.221600</td>\n",
       "    </tr>\n",
       "    <tr>\n",
       "      <th>339</th>\n",
       "      <td>Mexico</td>\n",
       "      <td>2015</td>\n",
       "      <td>9298.262435</td>\n",
       "      <td>1.50</td>\n",
       "      <td>125.890949</td>\n",
       "    </tr>\n",
       "  </tbody>\n",
       "</table>\n",
       "</div>"
      ],
      "text/plain": [
       "    Country_or_Area  Year  GDP_Per_Capita(USD)  Mortality_Rate(%)  \\\n",
       "335          Mexico  2011          9912.562414               1.68   \n",
       "336          Mexico  2012          9940.500012               1.63   \n",
       "337          Mexico  2013         10400.569940               1.59   \n",
       "338          Mexico  2014         10582.450330               1.54   \n",
       "339          Mexico  2015          9298.262435               1.50   \n",
       "\n",
       "     Population(mn)  \n",
       "335      119.090017  \n",
       "336      120.828307  \n",
       "337      122.535969  \n",
       "338      124.221600  \n",
       "339      125.890949  "
      ]
     },
     "execution_count": 23,
     "metadata": {},
     "output_type": "execute_result"
    }
   ],
   "source": [
    "def data_selection(dframe, c_list, y_range):\n",
    "    dframe['comb'] = dframe['Country_or_Area']+dframe['Year'].astype('str')\n",
    "    dframe.head()\n",
    "    y_range = range(y_range[0],y_range[1]+1)\n",
    "    y_range = [str(x) for x in y_range]\n",
    "    temp_df = pd.DataFrame(columns=dframe.columns)\n",
    "    for i in c_list:\n",
    "        for j in y_range:\n",
    "            t=i+j\n",
    "            temp_df = temp_df.append(dframe[dframe['comb']==t],ignore_index=True)\n",
    "    temp_df = temp_df.drop(['comb'],axis=1)\n",
    "    \n",
    "    return temp_df\n",
    "\n",
    "my_df = data_selection(gdp_df,['Afghanistan','China','India','United States','United Kingdom','Brazil','Zimbabwe','Namibia','Nigeria','Somalia','Thailand','France','Germany','Mexico'],[1990,2015])\n",
    "my_df.tail()"
   ]
  },
  {
   "cell_type": "code",
   "execution_count": 25,
   "metadata": {},
   "outputs": [
    {
     "data": {
      "application/vnd.plotly.v1+json": {
       "config": {
        "plotlyServerURL": "https://plot.ly"
       },
       "data": [
        {
         "hoverlabel": {
          "namelength": 0
         },
         "hovertemplate": "Country_or_Area=Afghanistan<br>Year=1990<br>GDP_Per_Capita(USD)=%{x}<br>Mortality_Rate(%)=%{y}<br>Population(mn)=%{marker.size}",
         "legendgroup": "Country_or_Area=Afghanistan",
         "marker": {
          "color": "#636efa",
          "size": [
           12.249114
          ],
          "sizemode": "area",
          "sizeref": 0.2483606316444444,
          "symbol": "circle"
         },
         "mode": "markers",
         "name": "Country_or_Area=Afghanistan",
         "showlegend": true,
         "type": "scatter",
         "x": [
          295.66220110000006
         ],
         "xaxis": "x",
         "y": [
          17.73
         ],
         "yaxis": "y"
        },
        {
         "hoverlabel": {
          "namelength": 0
         },
         "hovertemplate": "Country_or_Area=China<br>Year=1990<br>GDP_Per_Capita(USD)=%{x}<br>Mortality_Rate(%)=%{y}<br>Population(mn)=%{marker.size}",
         "legendgroup": "Country_or_Area=China",
         "marker": {
          "color": "#EF553B",
          "size": [
           1172.4452
          ],
          "sizemode": "area",
          "sizeref": 0.2483606316444444,
          "symbol": "circle"
         },
         "mode": "markers",
         "name": "Country_or_Area=China",
         "showlegend": true,
         "type": "scatter",
         "x": [
          336.5323272
         ],
         "xaxis": "x",
         "y": [
          5.39
         ],
         "yaxis": "y"
        },
        {
         "hoverlabel": {
          "namelength": 0
         },
         "hovertemplate": "Country_or_Area=India<br>Year=1990<br>GDP_Per_Capita(USD)=%{x}<br>Mortality_Rate(%)=%{y}<br>Population(mn)=%{marker.size}",
         "legendgroup": "Country_or_Area=India",
         "marker": {
          "color": "#00cc96",
          "size": [
           870.1334800000001
          ],
          "sizemode": "area",
          "sizeref": 0.2483606316444444,
          "symbol": "circle"
         },
         "mode": "markers",
         "name": "Country_or_Area=India",
         "showlegend": true,
         "type": "scatter",
         "x": [
          369.0967673
         ],
         "xaxis": "x",
         "y": [
          12.59
         ],
         "yaxis": "y"
        },
        {
         "hoverlabel": {
          "namelength": 0
         },
         "hovertemplate": "Country_or_Area=United States<br>Year=1990<br>GDP_Per_Capita(USD)=%{x}<br>Mortality_Rate(%)=%{y}<br>Population(mn)=%{marker.size}",
         "legendgroup": "Country_or_Area=United States",
         "marker": {
          "color": "#ab63fa",
          "size": [
           252.52995
          ],
          "sizemode": "area",
          "sizeref": 0.2483606316444444,
          "symbol": "circle"
         },
         "mode": "markers",
         "name": "Country_or_Area=United States",
         "showlegend": true,
         "type": "scatter",
         "x": [
          23613.61098
         ],
         "xaxis": "x",
         "y": [
          1.12
         ],
         "yaxis": "y"
        },
        {
         "hoverlabel": {
          "namelength": 0
         },
         "hovertemplate": "Country_or_Area=United Kingdom<br>Year=1990<br>GDP_Per_Capita(USD)=%{x}<br>Mortality_Rate(%)=%{y}<br>Population(mn)=%{marker.size}",
         "legendgroup": "Country_or_Area=United Kingdom",
         "marker": {
          "color": "#FFA15A",
          "size": [
           57.183331
          ],
          "sizemode": "area",
          "sizeref": 0.2483606316444444,
          "symbol": "circle"
         },
         "mode": "markers",
         "name": "Country_or_Area=United Kingdom",
         "showlegend": true,
         "type": "scatter",
         "x": [
          19117.69901
         ],
         "xaxis": "x",
         "y": [
          0.93
         ],
         "yaxis": "y"
        },
        {
         "hoverlabel": {
          "namelength": 0
         },
         "hovertemplate": "Country_or_Area=Brazil<br>Year=1990<br>GDP_Per_Capita(USD)=%{x}<br>Mortality_Rate(%)=%{y}<br>Population(mn)=%{marker.size}",
         "legendgroup": "Country_or_Area=Brazil",
         "marker": {
          "color": "#19d3f3",
          "size": [
           149.352145
          ],
          "sizemode": "area",
          "sizeref": 0.2483606316444444,
          "symbol": "circle"
         },
         "mode": "markers",
         "name": "Country_or_Area=Brazil",
         "showlegend": true,
         "type": "scatter",
         "x": [
          2724.413582
         ],
         "xaxis": "x",
         "y": [
          6.42
         ],
         "yaxis": "y"
        },
        {
         "hoverlabel": {
          "namelength": 0
         },
         "hovertemplate": "Country_or_Area=Zimbabwe<br>Year=1990<br>GDP_Per_Capita(USD)=%{x}<br>Mortality_Rate(%)=%{y}<br>Population(mn)=%{marker.size}",
         "legendgroup": "Country_or_Area=Zimbabwe",
         "marker": {
          "color": "#FF6692",
          "size": [
           10.183113
          ],
          "sizemode": "area",
          "sizeref": 0.2483606316444444,
          "symbol": "circle"
         },
         "mode": "markers",
         "name": "Country_or_Area=Zimbabwe",
         "showlegend": true,
         "type": "scatter",
         "x": [
          1152.668564
         ],
         "xaxis": "x",
         "y": [
          7.52
         ],
         "yaxis": "y"
        },
        {
         "hoverlabel": {
          "namelength": 0
         },
         "hovertemplate": "Country_or_Area=Namibia<br>Year=1990<br>GDP_Per_Capita(USD)=%{x}<br>Mortality_Rate(%)=%{y}<br>Population(mn)=%{marker.size}",
         "legendgroup": "Country_or_Area=Namibia",
         "marker": {
          "color": "#B6E880",
          "size": [
           1.414692
          ],
          "sizemode": "area",
          "sizeref": 0.2483606316444444,
          "symbol": "circle"
         },
         "mode": "markers",
         "name": "Country_or_Area=Namibia",
         "showlegend": true,
         "type": "scatter",
         "x": [
          1969.1509440000002
         ],
         "xaxis": "x",
         "y": [
          7.13
         ],
         "yaxis": "y"
        },
        {
         "hoverlabel": {
          "namelength": 0
         },
         "hovertemplate": "Country_or_Area=Nigeria<br>Year=1990<br>GDP_Per_Capita(USD)=%{x}<br>Mortality_Rate(%)=%{y}<br>Population(mn)=%{marker.size}",
         "legendgroup": "Country_or_Area=Nigeria",
         "marker": {
          "color": "#FF97FF",
          "size": [
           95.269988
          ],
          "sizemode": "area",
          "sizeref": 0.2483606316444444,
          "symbol": "circle"
         },
         "mode": "markers",
         "name": "Country_or_Area=Nigeria",
         "showlegend": true,
         "type": "scatter",
         "x": [
          717.2134194
         ],
         "xaxis": "x",
         "y": [
          21.29
         ],
         "yaxis": "y"
        },
        {
         "hoverlabel": {
          "namelength": 0
         },
         "hovertemplate": "Country_or_Area=Thailand<br>Year=1990<br>GDP_Per_Capita(USD)=%{x}<br>Mortality_Rate(%)=%{y}<br>Population(mn)=%{marker.size}",
         "legendgroup": "Country_or_Area=Thailand",
         "marker": {
          "color": "#636efa",
          "size": [
           56.582820999999996
          ],
          "sizemode": "area",
          "sizeref": 0.2483606316444444,
          "symbol": "circle"
         },
         "mode": "markers",
         "name": "Country_or_Area=Thailand",
         "showlegend": true,
         "type": "scatter",
         "x": [
          1563.3846199999998
         ],
         "xaxis": "x",
         "y": [
          3.78
         ],
         "yaxis": "y"
        },
        {
         "hoverlabel": {
          "namelength": 0
         },
         "hovertemplate": "Country_or_Area=France<br>Year=1990<br>GDP_Per_Capita(USD)=%{x}<br>Mortality_Rate(%)=%{y}<br>Population(mn)=%{marker.size}",
         "legendgroup": "Country_or_Area=France",
         "marker": {
          "color": "#EF553B",
          "size": [
           56.960834999999996
          ],
          "sizemode": "area",
          "sizeref": 0.2483606316444444,
          "symbol": "circle"
         },
         "mode": "markers",
         "name": "Country_or_Area=France",
         "showlegend": true,
         "type": "scatter",
         "x": [
          21684.92367
         ],
         "xaxis": "x",
         "y": [
          0.9
         ],
         "yaxis": "y"
        },
        {
         "hoverlabel": {
          "namelength": 0
         },
         "hovertemplate": "Country_or_Area=Germany<br>Year=1990<br>GDP_Per_Capita(USD)=%{x}<br>Mortality_Rate(%)=%{y}<br>Population(mn)=%{marker.size}",
         "legendgroup": "Country_or_Area=Germany",
         "marker": {
          "color": "#00cc96",
          "size": [
           79.118326
          ],
          "sizemode": "area",
          "sizeref": 0.2483606316444444,
          "symbol": "circle"
         },
         "mode": "markers",
         "name": "Country_or_Area=Germany",
         "showlegend": true,
         "type": "scatter",
         "x": [
          22307.64755
         ],
         "xaxis": "x",
         "y": [
          0.85
         ],
         "yaxis": "y"
        },
        {
         "hoverlabel": {
          "namelength": 0
         },
         "hovertemplate": "Country_or_Area=Mexico<br>Year=1990<br>GDP_Per_Capita(USD)=%{x}<br>Mortality_Rate(%)=%{y}<br>Population(mn)=%{marker.size}",
         "legendgroup": "Country_or_Area=Mexico",
         "marker": {
          "color": "#ab63fa",
          "size": [
           85.357874
          ],
          "sizemode": "area",
          "sizeref": 0.2483606316444444,
          "symbol": "circle"
         },
         "mode": "markers",
         "name": "Country_or_Area=Mexico",
         "showlegend": true,
         "type": "scatter",
         "x": [
          3513.9616100000003
         ],
         "xaxis": "x",
         "y": [
          4.57
         ],
         "yaxis": "y"
        }
       ],
       "frames": [
        {
         "data": [
          {
           "hoverlabel": {
            "namelength": 0
           },
           "hovertemplate": "Country_or_Area=Afghanistan<br>Year=1990<br>GDP_Per_Capita(USD)=%{x}<br>Mortality_Rate(%)=%{y}<br>Population(mn)=%{marker.size}",
           "legendgroup": "Country_or_Area=Afghanistan",
           "marker": {
            "color": "#636efa",
            "size": [
             12.249114
            ],
            "sizemode": "area",
            "sizeref": 0.2483606316444444,
            "symbol": "circle"
           },
           "mode": "markers",
           "name": "Country_or_Area=Afghanistan",
           "showlegend": true,
           "type": "scatter",
           "x": [
            295.66220110000006
           ],
           "xaxis": "x",
           "y": [
            17.73
           ],
           "yaxis": "y"
          },
          {
           "hoverlabel": {
            "namelength": 0
           },
           "hovertemplate": "Country_or_Area=China<br>Year=1990<br>GDP_Per_Capita(USD)=%{x}<br>Mortality_Rate(%)=%{y}<br>Population(mn)=%{marker.size}",
           "legendgroup": "Country_or_Area=China",
           "marker": {
            "color": "#EF553B",
            "size": [
             1172.4452
            ],
            "sizemode": "area",
            "sizeref": 0.2483606316444444,
            "symbol": "circle"
           },
           "mode": "markers",
           "name": "Country_or_Area=China",
           "showlegend": true,
           "type": "scatter",
           "x": [
            336.5323272
           ],
           "xaxis": "x",
           "y": [
            5.39
           ],
           "yaxis": "y"
          },
          {
           "hoverlabel": {
            "namelength": 0
           },
           "hovertemplate": "Country_or_Area=India<br>Year=1990<br>GDP_Per_Capita(USD)=%{x}<br>Mortality_Rate(%)=%{y}<br>Population(mn)=%{marker.size}",
           "legendgroup": "Country_or_Area=India",
           "marker": {
            "color": "#00cc96",
            "size": [
             870.1334800000001
            ],
            "sizemode": "area",
            "sizeref": 0.2483606316444444,
            "symbol": "circle"
           },
           "mode": "markers",
           "name": "Country_or_Area=India",
           "showlegend": true,
           "type": "scatter",
           "x": [
            369.0967673
           ],
           "xaxis": "x",
           "y": [
            12.59
           ],
           "yaxis": "y"
          },
          {
           "hoverlabel": {
            "namelength": 0
           },
           "hovertemplate": "Country_or_Area=United States<br>Year=1990<br>GDP_Per_Capita(USD)=%{x}<br>Mortality_Rate(%)=%{y}<br>Population(mn)=%{marker.size}",
           "legendgroup": "Country_or_Area=United States",
           "marker": {
            "color": "#ab63fa",
            "size": [
             252.52995
            ],
            "sizemode": "area",
            "sizeref": 0.2483606316444444,
            "symbol": "circle"
           },
           "mode": "markers",
           "name": "Country_or_Area=United States",
           "showlegend": true,
           "type": "scatter",
           "x": [
            23613.61098
           ],
           "xaxis": "x",
           "y": [
            1.12
           ],
           "yaxis": "y"
          },
          {
           "hoverlabel": {
            "namelength": 0
           },
           "hovertemplate": "Country_or_Area=United Kingdom<br>Year=1990<br>GDP_Per_Capita(USD)=%{x}<br>Mortality_Rate(%)=%{y}<br>Population(mn)=%{marker.size}",
           "legendgroup": "Country_or_Area=United Kingdom",
           "marker": {
            "color": "#FFA15A",
            "size": [
             57.183331
            ],
            "sizemode": "area",
            "sizeref": 0.2483606316444444,
            "symbol": "circle"
           },
           "mode": "markers",
           "name": "Country_or_Area=United Kingdom",
           "showlegend": true,
           "type": "scatter",
           "x": [
            19117.69901
           ],
           "xaxis": "x",
           "y": [
            0.93
           ],
           "yaxis": "y"
          },
          {
           "hoverlabel": {
            "namelength": 0
           },
           "hovertemplate": "Country_or_Area=Brazil<br>Year=1990<br>GDP_Per_Capita(USD)=%{x}<br>Mortality_Rate(%)=%{y}<br>Population(mn)=%{marker.size}",
           "legendgroup": "Country_or_Area=Brazil",
           "marker": {
            "color": "#19d3f3",
            "size": [
             149.352145
            ],
            "sizemode": "area",
            "sizeref": 0.2483606316444444,
            "symbol": "circle"
           },
           "mode": "markers",
           "name": "Country_or_Area=Brazil",
           "showlegend": true,
           "type": "scatter",
           "x": [
            2724.413582
           ],
           "xaxis": "x",
           "y": [
            6.42
           ],
           "yaxis": "y"
          },
          {
           "hoverlabel": {
            "namelength": 0
           },
           "hovertemplate": "Country_or_Area=Zimbabwe<br>Year=1990<br>GDP_Per_Capita(USD)=%{x}<br>Mortality_Rate(%)=%{y}<br>Population(mn)=%{marker.size}",
           "legendgroup": "Country_or_Area=Zimbabwe",
           "marker": {
            "color": "#FF6692",
            "size": [
             10.183113
            ],
            "sizemode": "area",
            "sizeref": 0.2483606316444444,
            "symbol": "circle"
           },
           "mode": "markers",
           "name": "Country_or_Area=Zimbabwe",
           "showlegend": true,
           "type": "scatter",
           "x": [
            1152.668564
           ],
           "xaxis": "x",
           "y": [
            7.52
           ],
           "yaxis": "y"
          },
          {
           "hoverlabel": {
            "namelength": 0
           },
           "hovertemplate": "Country_or_Area=Namibia<br>Year=1990<br>GDP_Per_Capita(USD)=%{x}<br>Mortality_Rate(%)=%{y}<br>Population(mn)=%{marker.size}",
           "legendgroup": "Country_or_Area=Namibia",
           "marker": {
            "color": "#B6E880",
            "size": [
             1.414692
            ],
            "sizemode": "area",
            "sizeref": 0.2483606316444444,
            "symbol": "circle"
           },
           "mode": "markers",
           "name": "Country_or_Area=Namibia",
           "showlegend": true,
           "type": "scatter",
           "x": [
            1969.1509440000002
           ],
           "xaxis": "x",
           "y": [
            7.13
           ],
           "yaxis": "y"
          },
          {
           "hoverlabel": {
            "namelength": 0
           },
           "hovertemplate": "Country_or_Area=Nigeria<br>Year=1990<br>GDP_Per_Capita(USD)=%{x}<br>Mortality_Rate(%)=%{y}<br>Population(mn)=%{marker.size}",
           "legendgroup": "Country_or_Area=Nigeria",
           "marker": {
            "color": "#FF97FF",
            "size": [
             95.269988
            ],
            "sizemode": "area",
            "sizeref": 0.2483606316444444,
            "symbol": "circle"
           },
           "mode": "markers",
           "name": "Country_or_Area=Nigeria",
           "showlegend": true,
           "type": "scatter",
           "x": [
            717.2134194
           ],
           "xaxis": "x",
           "y": [
            21.29
           ],
           "yaxis": "y"
          },
          {
           "hoverlabel": {
            "namelength": 0
           },
           "hovertemplate": "Country_or_Area=Thailand<br>Year=1990<br>GDP_Per_Capita(USD)=%{x}<br>Mortality_Rate(%)=%{y}<br>Population(mn)=%{marker.size}",
           "legendgroup": "Country_or_Area=Thailand",
           "marker": {
            "color": "#636efa",
            "size": [
             56.582820999999996
            ],
            "sizemode": "area",
            "sizeref": 0.2483606316444444,
            "symbol": "circle"
           },
           "mode": "markers",
           "name": "Country_or_Area=Thailand",
           "showlegend": true,
           "type": "scatter",
           "x": [
            1563.3846199999998
           ],
           "xaxis": "x",
           "y": [
            3.78
           ],
           "yaxis": "y"
          },
          {
           "hoverlabel": {
            "namelength": 0
           },
           "hovertemplate": "Country_or_Area=France<br>Year=1990<br>GDP_Per_Capita(USD)=%{x}<br>Mortality_Rate(%)=%{y}<br>Population(mn)=%{marker.size}",
           "legendgroup": "Country_or_Area=France",
           "marker": {
            "color": "#EF553B",
            "size": [
             56.960834999999996
            ],
            "sizemode": "area",
            "sizeref": 0.2483606316444444,
            "symbol": "circle"
           },
           "mode": "markers",
           "name": "Country_or_Area=France",
           "showlegend": true,
           "type": "scatter",
           "x": [
            21684.92367
           ],
           "xaxis": "x",
           "y": [
            0.9
           ],
           "yaxis": "y"
          },
          {
           "hoverlabel": {
            "namelength": 0
           },
           "hovertemplate": "Country_or_Area=Germany<br>Year=1990<br>GDP_Per_Capita(USD)=%{x}<br>Mortality_Rate(%)=%{y}<br>Population(mn)=%{marker.size}",
           "legendgroup": "Country_or_Area=Germany",
           "marker": {
            "color": "#00cc96",
            "size": [
             79.118326
            ],
            "sizemode": "area",
            "sizeref": 0.2483606316444444,
            "symbol": "circle"
           },
           "mode": "markers",
           "name": "Country_or_Area=Germany",
           "showlegend": true,
           "type": "scatter",
           "x": [
            22307.64755
           ],
           "xaxis": "x",
           "y": [
            0.85
           ],
           "yaxis": "y"
          },
          {
           "hoverlabel": {
            "namelength": 0
           },
           "hovertemplate": "Country_or_Area=Mexico<br>Year=1990<br>GDP_Per_Capita(USD)=%{x}<br>Mortality_Rate(%)=%{y}<br>Population(mn)=%{marker.size}",
           "legendgroup": "Country_or_Area=Mexico",
           "marker": {
            "color": "#ab63fa",
            "size": [
             85.357874
            ],
            "sizemode": "area",
            "sizeref": 0.2483606316444444,
            "symbol": "circle"
           },
           "mode": "markers",
           "name": "Country_or_Area=Mexico",
           "showlegend": true,
           "type": "scatter",
           "x": [
            3513.9616100000003
           ],
           "xaxis": "x",
           "y": [
            4.57
           ],
           "yaxis": "y"
          }
         ],
         "name": "1990"
        },
        {
         "data": [
          {
           "hoverlabel": {
            "namelength": 0
           },
           "hovertemplate": "Country_or_Area=Afghanistan<br>Year=1991<br>GDP_Per_Capita(USD)=%{x}<br>Mortality_Rate(%)=%{y}<br>Population(mn)=%{marker.size}",
           "legendgroup": "Country_or_Area=Afghanistan",
           "marker": {
            "color": "#636efa",
            "size": [
             12.993657
            ],
            "sizemode": "area",
            "sizeref": 0.2483606316444444,
            "symbol": "circle"
           },
           "mode": "markers",
           "name": "Country_or_Area=Afghanistan",
           "showlegend": true,
           "type": "scatter",
           "x": [
            257.0561933
           ],
           "xaxis": "x",
           "y": [
            17.11
           ],
           "yaxis": "y"
          },
          {
           "hoverlabel": {
            "namelength": 0
           },
           "hovertemplate": "Country_or_Area=China<br>Year=1991<br>GDP_Per_Capita(USD)=%{x}<br>Mortality_Rate(%)=%{y}<br>Population(mn)=%{marker.size}",
           "legendgroup": "Country_or_Area=China",
           "marker": {
            "color": "#EF553B",
            "size": [
             1189.183522
            ],
            "sizemode": "area",
            "sizeref": 0.2483606316444444,
            "symbol": "circle"
           },
           "mode": "markers",
           "name": "Country_or_Area=China",
           "showlegend": true,
           "type": "scatter",
           "x": [
            347.61292119999996
           ],
           "xaxis": "x",
           "y": [
            5.33
           ],
           "yaxis": "y"
          },
          {
           "hoverlabel": {
            "namelength": 0
           },
           "hovertemplate": "Country_or_Area=India<br>Year=1991<br>GDP_Per_Capita(USD)=%{x}<br>Mortality_Rate(%)=%{y}<br>Population(mn)=%{marker.size}",
           "legendgroup": "Country_or_Area=India",
           "marker": {
            "color": "#00cc96",
            "size": [
             888.054875
            ],
            "sizemode": "area",
            "sizeref": 0.2483606316444444,
            "symbol": "circle"
           },
           "mode": "markers",
           "name": "Country_or_Area=India",
           "showlegend": true,
           "type": "scatter",
           "x": [
            320.5759213
           ],
           "xaxis": "x",
           "y": [
            12.24
           ],
           "yaxis": "y"
          },
          {
           "hoverlabel": {
            "namelength": 0
           },
           "hovertemplate": "Country_or_Area=United States<br>Year=1991<br>GDP_Per_Capita(USD)=%{x}<br>Mortality_Rate(%)=%{y}<br>Population(mn)=%{marker.size}",
           "legendgroup": "Country_or_Area=United States",
           "marker": {
            "color": "#ab63fa",
            "size": [
             254.974819
            ],
            "sizemode": "area",
            "sizeref": 0.2483606316444444,
            "symbol": "circle"
           },
           "mode": "markers",
           "name": "Country_or_Area=United States",
           "showlegend": true,
           "type": "scatter",
           "x": [
            24151.91047
           ],
           "xaxis": "x",
           "y": [
            1.09
           ],
           "yaxis": "y"
          },
          {
           "hoverlabel": {
            "namelength": 0
           },
           "hovertemplate": "Country_or_Area=United Kingdom<br>Year=1991<br>GDP_Per_Capita(USD)=%{x}<br>Mortality_Rate(%)=%{y}<br>Population(mn)=%{marker.size}",
           "legendgroup": "Country_or_Area=United Kingdom",
           "marker": {
            "color": "#FFA15A",
            "size": [
             57.339447
            ],
            "sizemode": "area",
            "sizeref": 0.2483606316444444,
            "symbol": "circle"
           },
           "mode": "markers",
           "name": "Country_or_Area=United Kingdom",
           "showlegend": true,
           "type": "scatter",
           "x": [
            19929.84471
           ],
           "xaxis": "x",
           "y": [
            0.87
           ],
           "yaxis": "y"
          },
          {
           "hoverlabel": {
            "namelength": 0
           },
           "hovertemplate": "Country_or_Area=Brazil<br>Year=1991<br>GDP_Per_Capita(USD)=%{x}<br>Mortality_Rate(%)=%{y}<br>Population(mn)=%{marker.size}",
           "legendgroup": "Country_or_Area=Brazil",
           "marker": {
            "color": "#19d3f3",
            "size": [
             151.976577
            ],
            "sizemode": "area",
            "sizeref": 0.2483606316444444,
            "symbol": "circle"
           },
           "mode": "markers",
           "name": "Country_or_Area=Brazil",
           "showlegend": true,
           "type": "scatter",
           "x": [
            2491.050544
           ],
           "xaxis": "x",
           "y": [
            6.14
           ],
           "yaxis": "y"
          },
          {
           "hoverlabel": {
            "namelength": 0
           },
           "hovertemplate": "Country_or_Area=Zimbabwe<br>Year=1991<br>GDP_Per_Capita(USD)=%{x}<br>Mortality_Rate(%)=%{y}<br>Population(mn)=%{marker.size}",
           "legendgroup": "Country_or_Area=Zimbabwe",
           "marker": {
            "color": "#FF6692",
            "size": [
             10.443043
            ],
            "sizemode": "area",
            "sizeref": 0.2483606316444444,
            "symbol": "circle"
           },
           "mode": "markers",
           "name": "Country_or_Area=Zimbabwe",
           "showlegend": true,
           "type": "scatter",
           "x": [
            1048.74396
           ],
           "xaxis": "x",
           "y": [
            7.74
           ],
           "yaxis": "y"
          },
          {
           "hoverlabel": {
            "namelength": 0
           },
           "hovertemplate": "Country_or_Area=Namibia<br>Year=1991<br>GDP_Per_Capita(USD)=%{x}<br>Mortality_Rate(%)=%{y}<br>Population(mn)=%{marker.size}",
           "legendgroup": "Country_or_Area=Namibia",
           "marker": {
            "color": "#B6E880",
            "size": [
             1.46574
            ],
            "sizemode": "area",
            "sizeref": 0.2483606316444444,
            "symbol": "circle"
           },
           "mode": "markers",
           "name": "Country_or_Area=Namibia",
           "showlegend": true,
           "type": "scatter",
           "x": [
            2041.7224170000002
           ],
           "xaxis": "x",
           "y": [
            6.92
           ],
           "yaxis": "y"
          },
          {
           "hoverlabel": {
            "namelength": 0
           },
           "hovertemplate": "Country_or_Area=Nigeria<br>Year=1991<br>GDP_Per_Capita(USD)=%{x}<br>Mortality_Rate(%)=%{y}<br>Population(mn)=%{marker.size}",
           "legendgroup": "Country_or_Area=Nigeria",
           "marker": {
            "color": "#FF97FF",
            "size": [
             97.726323
            ],
            "sizemode": "area",
            "sizeref": 0.2483606316444444,
            "symbol": "circle"
           },
           "mode": "markers",
           "name": "Country_or_Area=Nigeria",
           "showlegend": true,
           "type": "scatter",
           "x": [
            654.8880333
           ],
           "xaxis": "x",
           "y": [
            21.25
           ],
           "yaxis": "y"
          },
          {
           "hoverlabel": {
            "namelength": 0
           },
           "hovertemplate": "Country_or_Area=Thailand<br>Year=1991<br>GDP_Per_Capita(USD)=%{x}<br>Mortality_Rate(%)=%{y}<br>Population(mn)=%{marker.size}",
           "legendgroup": "Country_or_Area=Thailand",
           "marker": {
            "color": "#636efa",
            "size": [
             57.258401
            ],
            "sizemode": "area",
            "sizeref": 0.2483606316444444,
            "symbol": "circle"
           },
           "mode": "markers",
           "name": "Country_or_Area=Thailand",
           "showlegend": true,
           "type": "scatter",
           "x": [
            1768.248527
           ],
           "xaxis": "x",
           "y": [
            3.58
           ],
           "yaxis": "y"
          },
          {
           "hoverlabel": {
            "namelength": 0
           },
           "hovertemplate": "Country_or_Area=France<br>Year=1991<br>GDP_Per_Capita(USD)=%{x}<br>Mortality_Rate(%)=%{y}<br>Population(mn)=%{marker.size}",
           "legendgroup": "Country_or_Area=France",
           "marker": {
            "color": "#EF553B",
            "size": [
             57.237702
            ],
            "sizemode": "area",
            "sizeref": 0.2483606316444444,
            "symbol": "circle"
           },
           "mode": "markers",
           "name": "Country_or_Area=France",
           "showlegend": true,
           "type": "scatter",
           "x": [
            21573.74137
           ],
           "xaxis": "x",
           "y": [
            0.86
           ],
           "yaxis": "y"
          },
          {
           "hoverlabel": {
            "namelength": 0
           },
           "hovertemplate": "Country_or_Area=Germany<br>Year=1991<br>GDP_Per_Capita(USD)=%{x}<br>Mortality_Rate(%)=%{y}<br>Population(mn)=%{marker.size}",
           "legendgroup": "Country_or_Area=Germany",
           "marker": {
            "color": "#00cc96",
            "size": [
             79.564454
            ],
            "sizemode": "area",
            "sizeref": 0.2483606316444444,
            "symbol": "circle"
           },
           "mode": "markers",
           "name": "Country_or_Area=Germany",
           "showlegend": true,
           "type": "scatter",
           "x": [
            23400.54462
           ],
           "xaxis": "x",
           "y": [
            0.8
           ],
           "yaxis": "y"
          },
          {
           "hoverlabel": {
            "namelength": 0
           },
           "hovertemplate": "Country_or_Area=Mexico<br>Year=1991<br>GDP_Per_Capita(USD)=%{x}<br>Mortality_Rate(%)=%{y}<br>Population(mn)=%{marker.size}",
           "legendgroup": "Country_or_Area=Mexico",
           "marker": {
            "color": "#ab63fa",
            "size": [
             87.071512
            ],
            "sizemode": "area",
            "sizeref": 0.2483606316444444,
            "symbol": "circle"
           },
           "mode": "markers",
           "name": "Country_or_Area=Mexico",
           "showlegend": true,
           "type": "scatter",
           "x": [
            4123.260843
           ],
           "xaxis": "x",
           "y": [
            4.35
           ],
           "yaxis": "y"
          }
         ],
         "name": "1991"
        },
        {
         "data": [
          {
           "hoverlabel": {
            "namelength": 0
           },
           "hovertemplate": "Country_or_Area=Afghanistan<br>Year=1992<br>GDP_Per_Capita(USD)=%{x}<br>Mortality_Rate(%)=%{y}<br>Population(mn)=%{marker.size}",
           "legendgroup": "Country_or_Area=Afghanistan",
           "marker": {
            "color": "#636efa",
            "size": [
             13.981231
            ],
            "sizemode": "area",
            "sizeref": 0.2483606316444444,
            "symbol": "circle"
           },
           "mode": "markers",
           "name": "Country_or_Area=Afghanistan",
           "showlegend": true,
           "type": "scatter",
           "x": [
            248.5188898
           ],
           "xaxis": "x",
           "y": [
            16.52
           ],
           "yaxis": "y"
          },
          {
           "hoverlabel": {
            "namelength": 0
           },
           "hovertemplate": "Country_or_Area=China<br>Year=1992<br>GDP_Per_Capita(USD)=%{x}<br>Mortality_Rate(%)=%{y}<br>Population(mn)=%{marker.size}",
           "legendgroup": "Country_or_Area=China",
           "marker": {
            "color": "#EF553B",
            "size": [
             1204.003901
            ],
            "sizemode": "area",
            "sizeref": 0.2483606316444444,
            "symbol": "circle"
           },
           "mode": "markers",
           "name": "Country_or_Area=China",
           "showlegend": true,
           "type": "scatter",
           "x": [
            409.5810207
           ],
           "xaxis": "x",
           "y": [
            5.23
           ],
           "yaxis": "y"
          },
          {
           "hoverlabel": {
            "namelength": 0
           },
           "hovertemplate": "Country_or_Area=India<br>Year=1992<br>GDP_Per_Capita(USD)=%{x}<br>Mortality_Rate(%)=%{y}<br>Population(mn)=%{marker.size}",
           "legendgroup": "Country_or_Area=India",
           "marker": {
            "color": "#00cc96",
            "size": [
             906.021106
            ],
            "sizemode": "area",
            "sizeref": 0.2483606316444444,
            "symbol": "circle"
           },
           "mode": "markers",
           "name": "Country_or_Area=India",
           "showlegend": true,
           "type": "scatter",
           "x": [
            315.5564273
           ],
           "xaxis": "x",
           "y": [
            11.9
           ],
           "yaxis": "y"
          },
          {
           "hoverlabel": {
            "namelength": 0
           },
           "hovertemplate": "Country_or_Area=United States<br>Year=1992<br>GDP_Per_Capita(USD)=%{x}<br>Mortality_Rate(%)=%{y}<br>Population(mn)=%{marker.size}",
           "legendgroup": "Country_or_Area=United States",
           "marker": {
            "color": "#ab63fa",
            "size": [
             257.454273
            ],
            "sizemode": "area",
            "sizeref": 0.2483606316444444,
            "symbol": "circle"
           },
           "mode": "markers",
           "name": "Country_or_Area=United States",
           "showlegend": true,
           "type": "scatter",
           "x": [
            25326.15569
           ],
           "xaxis": "x",
           "y": [
            1.05
           ],
           "yaxis": "y"
          },
          {
           "hoverlabel": {
            "namelength": 0
           },
           "hovertemplate": "Country_or_Area=United Kingdom<br>Year=1992<br>GDP_Per_Capita(USD)=%{x}<br>Mortality_Rate(%)=%{y}<br>Population(mn)=%{marker.size}",
           "legendgroup": "Country_or_Area=United Kingdom",
           "marker": {
            "color": "#FFA15A",
            "size": [
             57.494538
            ],
            "sizemode": "area",
            "sizeref": 0.2483606316444444,
            "symbol": "circle"
           },
           "mode": "markers",
           "name": "Country_or_Area=United Kingdom",
           "showlegend": true,
           "type": "scatter",
           "x": [
            20518.697180000003
           ],
           "xaxis": "x",
           "y": [
            0.82
           ],
           "yaxis": "y"
          },
          {
           "hoverlabel": {
            "namelength": 0
           },
           "hovertemplate": "Country_or_Area=Brazil<br>Year=1992<br>GDP_Per_Capita(USD)=%{x}<br>Mortality_Rate(%)=%{y}<br>Population(mn)=%{marker.size}",
           "legendgroup": "Country_or_Area=Brazil",
           "marker": {
            "color": "#19d3f3",
            "size": [
             154.564278
            ],
            "sizemode": "area",
            "sizeref": 0.2483606316444444,
            "symbol": "circle"
           },
           "mode": "markers",
           "name": "Country_or_Area=Brazil",
           "showlegend": true,
           "type": "scatter",
           "x": [
            2346.247849
           ],
           "xaxis": "x",
           "y": [
            5.84
           ],
           "yaxis": "y"
          },
          {
           "hoverlabel": {
            "namelength": 0
           },
           "hovertemplate": "Country_or_Area=Zimbabwe<br>Year=1992<br>GDP_Per_Capita(USD)=%{x}<br>Mortality_Rate(%)=%{y}<br>Population(mn)=%{marker.size}",
           "legendgroup": "Country_or_Area=Zimbabwe",
           "marker": {
            "color": "#FF6692",
            "size": [
             10.682868
            ],
            "sizemode": "area",
            "sizeref": 0.2483606316444444,
            "symbol": "circle"
           },
           "mode": "markers",
           "name": "Country_or_Area=Zimbabwe",
           "showlegend": true,
           "type": "scatter",
           "x": [
            845.4156346000001
           ],
           "xaxis": "x",
           "y": [
            8.02
           ],
           "yaxis": "y"
          },
          {
           "hoverlabel": {
            "namelength": 0
           },
           "hovertemplate": "Country_or_Area=Namibia<br>Year=1992<br>GDP_Per_Capita(USD)=%{x}<br>Mortality_Rate(%)=%{y}<br>Population(mn)=%{marker.size}",
           "legendgroup": "Country_or_Area=Namibia",
           "marker": {
            "color": "#B6E880",
            "size": [
             1.5137209999999999
            ],
            "sizemode": "area",
            "sizeref": 0.2483606316444444,
            "symbol": "circle"
           },
           "mode": "markers",
           "name": "Country_or_Area=Namibia",
           "showlegend": true,
           "type": "scatter",
           "x": [
            2262.448974
           ],
           "xaxis": "x",
           "y": [
            6.77
           ],
           "yaxis": "y"
          },
          {
           "hoverlabel": {
            "namelength": 0
           },
           "hovertemplate": "Country_or_Area=Nigeria<br>Year=1992<br>GDP_Per_Capita(USD)=%{x}<br>Mortality_Rate(%)=%{y}<br>Population(mn)=%{marker.size}",
           "legendgroup": "Country_or_Area=Nigeria",
           "marker": {
            "color": "#FF97FF",
            "size": [
             100.221563
            ],
            "sizemode": "area",
            "sizeref": 0.2483606316444444,
            "symbol": "circle"
           },
           "mode": "markers",
           "name": "Country_or_Area=Nigeria",
           "showlegend": true,
           "type": "scatter",
           "x": [
            579.5100708
           ],
           "xaxis": "x",
           "y": [
            21.19
           ],
           "yaxis": "y"
          },
          {
           "hoverlabel": {
            "namelength": 0
           },
           "hovertemplate": "Country_or_Area=Thailand<br>Year=1992<br>GDP_Per_Capita(USD)=%{x}<br>Mortality_Rate(%)=%{y}<br>Population(mn)=%{marker.size}",
           "legendgroup": "Country_or_Area=Thailand",
           "marker": {
            "color": "#636efa",
            "size": [
             57.837878
            ],
            "sizemode": "area",
            "sizeref": 0.2483606316444444,
            "symbol": "circle"
           },
           "mode": "markers",
           "name": "Country_or_Area=Thailand",
           "showlegend": true,
           "type": "scatter",
           "x": [
            1998.305284
           ],
           "xaxis": "x",
           "y": [
            3.4
           ],
           "yaxis": "y"
          },
          {
           "hoverlabel": {
            "namelength": 0
           },
           "hovertemplate": "Country_or_Area=France<br>Year=1992<br>GDP_Per_Capita(USD)=%{x}<br>Mortality_Rate(%)=%{y}<br>Population(mn)=%{marker.size}",
           "legendgroup": "Country_or_Area=France",
           "marker": {
            "color": "#EF553B",
            "size": [
             57.496974
            ],
            "sizemode": "area",
            "sizeref": 0.2483606316444444,
            "symbol": "circle"
           },
           "mode": "markers",
           "name": "Country_or_Area=France",
           "showlegend": true,
           "type": "scatter",
           "x": [
            23704.800069999998
           ],
           "xaxis": "x",
           "y": [
            0.81
           ],
           "yaxis": "y"
          },
          {
           "hoverlabel": {
            "namelength": 0
           },
           "hovertemplate": "Country_or_Area=Germany<br>Year=1992<br>GDP_Per_Capita(USD)=%{x}<br>Mortality_Rate(%)=%{y}<br>Population(mn)=%{marker.size}",
           "legendgroup": "Country_or_Area=Germany",
           "marker": {
            "color": "#00cc96",
            "size": [
             80.046157
            ],
            "sizemode": "area",
            "sizeref": 0.2483606316444444,
            "symbol": "circle"
           },
           "mode": "markers",
           "name": "Country_or_Area=Germany",
           "showlegend": true,
           "type": "scatter",
           "x": [
            26525.19571
           ],
           "xaxis": "x",
           "y": [
            0.76
           ],
           "yaxis": "y"
          },
          {
           "hoverlabel": {
            "namelength": 0
           },
           "hovertemplate": "Country_or_Area=Mexico<br>Year=1992<br>GDP_Per_Capita(USD)=%{x}<br>Mortality_Rate(%)=%{y}<br>Population(mn)=%{marker.size}",
           "legendgroup": "Country_or_Area=Mexico",
           "marker": {
            "color": "#ab63fa",
            "size": [
             88.82831
            ],
            "sizemode": "area",
            "sizeref": 0.2483606316444444,
            "symbol": "circle"
           },
           "mode": "markers",
           "name": "Country_or_Area=Mexico",
           "showlegend": true,
           "type": "scatter",
           "x": [
            4673.561951
           ],
           "xaxis": "x",
           "y": [
            4.14
           ],
           "yaxis": "y"
          }
         ],
         "name": "1992"
        },
        {
         "data": [
          {
           "hoverlabel": {
            "namelength": 0
           },
           "hovertemplate": "Country_or_Area=Afghanistan<br>Year=1993<br>GDP_Per_Capita(USD)=%{x}<br>Mortality_Rate(%)=%{y}<br>Population(mn)=%{marker.size}",
           "legendgroup": "Country_or_Area=Afghanistan",
           "marker": {
            "color": "#636efa",
            "size": [
             15.095099
            ],
            "sizemode": "area",
            "sizeref": 0.2483606316444444,
            "symbol": "circle"
           },
           "mode": "markers",
           "name": "Country_or_Area=Afghanistan",
           "showlegend": true,
           "type": "scatter",
           "x": [
            176.5076196
           ],
           "xaxis": "x",
           "y": [
            15.96
           ],
           "yaxis": "y"
          },
          {
           "hoverlabel": {
            "namelength": 0
           },
           "hovertemplate": "Country_or_Area=China<br>Year=1993<br>GDP_Per_Capita(USD)=%{x}<br>Mortality_Rate(%)=%{y}<br>Population(mn)=%{marker.size}",
           "legendgroup": "Country_or_Area=China",
           "marker": {
            "color": "#EF553B",
            "size": [
             1217.129133
            ],
            "sizemode": "area",
            "sizeref": 0.2483606316444444,
            "symbol": "circle"
           },
           "mode": "markers",
           "name": "Country_or_Area=China",
           "showlegend": true,
           "type": "scatter",
           "x": [
            508.66903099999996
           ],
           "xaxis": "x",
           "y": [
            5.09
           ],
           "yaxis": "y"
          },
          {
           "hoverlabel": {
            "namelength": 0
           },
           "hovertemplate": "Country_or_Area=India<br>Year=1993<br>GDP_Per_Capita(USD)=%{x}<br>Mortality_Rate(%)=%{y}<br>Population(mn)=%{marker.size}",
           "legendgroup": "Country_or_Area=India",
           "marker": {
            "color": "#00cc96",
            "size": [
             924.057817
            ],
            "sizemode": "area",
            "sizeref": 0.2483606316444444,
            "symbol": "circle"
           },
           "mode": "markers",
           "name": "Country_or_Area=India",
           "showlegend": true,
           "type": "scatter",
           "x": [
            302.0278143
           ],
           "xaxis": "x",
           "y": [
            11.57
           ],
           "yaxis": "y"
          },
          {
           "hoverlabel": {
            "namelength": 0
           },
           "hovertemplate": "Country_or_Area=United States<br>Year=1993<br>GDP_Per_Capita(USD)=%{x}<br>Mortality_Rate(%)=%{y}<br>Population(mn)=%{marker.size}",
           "legendgroup": "Country_or_Area=United States",
           "marker": {
            "color": "#ab63fa",
            "size": [
             260.02018599999997
            ],
            "sizemode": "area",
            "sizeref": 0.2483606316444444,
            "symbol": "circle"
           },
           "mode": "markers",
           "name": "Country_or_Area=United States",
           "showlegend": true,
           "type": "scatter",
           "x": [
            26377.02521
           ],
           "xaxis": "x",
           "y": [
            1.01
           ],
           "yaxis": "y"
          },
          {
           "hoverlabel": {
            "namelength": 0
           },
           "hovertemplate": "Country_or_Area=United Kingdom<br>Year=1993<br>GDP_Per_Capita(USD)=%{x}<br>Mortality_Rate(%)=%{y}<br>Population(mn)=%{marker.size}",
           "legendgroup": "Country_or_Area=United Kingdom",
           "marker": {
            "color": "#FFA15A",
            "size": [
             57.650473
            ],
            "sizemode": "area",
            "sizeref": 0.2483606316444444,
            "symbol": "circle"
           },
           "mode": "markers",
           "name": "Country_or_Area=United Kingdom",
           "showlegend": true,
           "type": "scatter",
           "x": [
            18411.95446
           ],
           "xaxis": "x",
           "y": [
            0.77
           ],
           "yaxis": "y"
          },
          {
           "hoverlabel": {
            "namelength": 0
           },
           "hovertemplate": "Country_or_Area=Brazil<br>Year=1993<br>GDP_Per_Capita(USD)=%{x}<br>Mortality_Rate(%)=%{y}<br>Population(mn)=%{marker.size}",
           "legendgroup": "Country_or_Area=Brazil",
           "marker": {
            "color": "#19d3f3",
            "size": [
             157.13268200000002
            ],
            "sizemode": "area",
            "sizeref": 0.2483606316444444,
            "symbol": "circle"
           },
           "mode": "markers",
           "name": "Country_or_Area=Brazil",
           "showlegend": true,
           "type": "scatter",
           "x": [
            2589.757864
           ],
           "xaxis": "x",
           "y": [
            5.53
           ],
           "yaxis": "y"
          },
          {
           "hoverlabel": {
            "namelength": 0
           },
           "hovertemplate": "Country_or_Area=Zimbabwe<br>Year=1993<br>GDP_Per_Capita(USD)=%{x}<br>Mortality_Rate(%)=%{y}<br>Population(mn)=%{marker.size}",
           "legendgroup": "Country_or_Area=Zimbabwe",
           "marker": {
            "color": "#FF6692",
            "size": [
             10.905756
            ],
            "sizemode": "area",
            "sizeref": 0.2483606316444444,
            "symbol": "circle"
           },
           "mode": "markers",
           "name": "Country_or_Area=Zimbabwe",
           "showlegend": true,
           "type": "scatter",
           "x": [
            804.4429431
           ],
           "xaxis": "x",
           "y": [
            8.34
           ],
           "yaxis": "y"
          },
          {
           "hoverlabel": {
            "namelength": 0
           },
           "hovertemplate": "Country_or_Area=Namibia<br>Year=1993<br>GDP_Per_Capita(USD)=%{x}<br>Mortality_Rate(%)=%{y}<br>Population(mn)=%{marker.size}",
           "legendgroup": "Country_or_Area=Namibia",
           "marker": {
            "color": "#B6E880",
            "size": [
             1.559983
            ],
            "sizemode": "area",
            "sizeref": 0.2483606316444444,
            "symbol": "circle"
           },
           "mode": "markers",
           "name": "Country_or_Area=Namibia",
           "showlegend": true,
           "type": "scatter",
           "x": [
            2063.121808
           ],
           "xaxis": "x",
           "y": [
            6.7
           ],
           "yaxis": "y"
          },
          {
           "hoverlabel": {
            "namelength": 0
           },
           "hovertemplate": "Country_or_Area=Nigeria<br>Year=1993<br>GDP_Per_Capita(USD)=%{x}<br>Mortality_Rate(%)=%{y}<br>Population(mn)=%{marker.size}",
           "legendgroup": "Country_or_Area=Nigeria",
           "marker": {
            "color": "#FF97FF",
            "size": [
             102.761737
            ],
            "sizemode": "area",
            "sizeref": 0.2483606316444444,
            "symbol": "circle"
           },
           "mode": "markers",
           "name": "Country_or_Area=Nigeria",
           "showlegend": true,
           "type": "scatter",
           "x": [
            551.413497
           ],
           "xaxis": "x",
           "y": [
            21.12
           ],
           "yaxis": "y"
          },
          {
           "hoverlabel": {
            "namelength": 0
           },
           "hovertemplate": "Country_or_Area=Thailand<br>Year=1993<br>GDP_Per_Capita(USD)=%{x}<br>Mortality_Rate(%)=%{y}<br>Population(mn)=%{marker.size}",
           "legendgroup": "Country_or_Area=Thailand",
           "marker": {
            "color": "#636efa",
            "size": [
             58.364891
            ],
            "sizemode": "area",
            "sizeref": 0.2483606316444444,
            "symbol": "circle"
           },
           "mode": "markers",
           "name": "Country_or_Area=Thailand",
           "showlegend": true,
           "type": "scatter",
           "x": [
            2208.344328
           ],
           "xaxis": "x",
           "y": [
            3.22
           ],
           "yaxis": "y"
          },
          {
           "hoverlabel": {
            "namelength": 0
           },
           "hovertemplate": "Country_or_Area=France<br>Year=1993<br>GDP_Per_Capita(USD)=%{x}<br>Mortality_Rate(%)=%{y}<br>Population(mn)=%{marker.size}",
           "legendgroup": "Country_or_Area=France",
           "marker": {
            "color": "#EF553B",
            "size": [
             57.74482
            ],
            "sizemode": "area",
            "sizeref": 0.2483606316444444,
            "symbol": "circle"
           },
           "mode": "markers",
           "name": "Country_or_Area=France",
           "showlegend": true,
           "type": "scatter",
           "x": [
            22273.05588
           ],
           "xaxis": "x",
           "y": [
            0.75
           ],
           "yaxis": "y"
          },
          {
           "hoverlabel": {
            "namelength": 0
           },
           "hovertemplate": "Country_or_Area=Germany<br>Year=1993<br>GDP_Per_Capita(USD)=%{x}<br>Mortality_Rate(%)=%{y}<br>Population(mn)=%{marker.size}",
           "legendgroup": "Country_or_Area=Germany",
           "marker": {
            "color": "#00cc96",
            "size": [
             80.520088
            ],
            "sizemode": "area",
            "sizeref": 0.2483606316444444,
            "symbol": "circle"
           },
           "mode": "markers",
           "name": "Country_or_Area=Germany",
           "showlegend": true,
           "type": "scatter",
           "x": [
            25689.034369999998
           ],
           "xaxis": "x",
           "y": [
            0.72
           ],
           "yaxis": "y"
          },
          {
           "hoverlabel": {
            "namelength": 0
           },
           "hovertemplate": "Country_or_Area=Mexico<br>Year=1993<br>GDP_Per_Capita(USD)=%{x}<br>Mortality_Rate(%)=%{y}<br>Population(mn)=%{marker.size}",
           "legendgroup": "Country_or_Area=Mexico",
           "marker": {
            "color": "#ab63fa",
            "size": [
             90.600453
            ],
            "sizemode": "area",
            "sizeref": 0.2483606316444444,
            "symbol": "circle"
           },
           "mode": "markers",
           "name": "Country_or_Area=Mexico",
           "showlegend": true,
           "type": "scatter",
           "x": [
            5526.8309420000005
           ],
           "xaxis": "x",
           "y": [
            3.93
           ],
           "yaxis": "y"
          }
         ],
         "name": "1993"
        },
        {
         "data": [
          {
           "hoverlabel": {
            "namelength": 0
           },
           "hovertemplate": "Country_or_Area=Afghanistan<br>Year=1994<br>GDP_Per_Capita(USD)=%{x}<br>Mortality_Rate(%)=%{y}<br>Population(mn)=%{marker.size}",
           "legendgroup": "Country_or_Area=Afghanistan",
           "marker": {
            "color": "#636efa",
            "size": [
             16.172719
            ],
            "sizemode": "area",
            "sizeref": 0.2483606316444444,
            "symbol": "circle"
           },
           "mode": "markers",
           "name": "Country_or_Area=Afghanistan",
           "showlegend": true,
           "type": "scatter",
           "x": [
            130.7510506
           ],
           "xaxis": "x",
           "y": [
            15.45
           ],
           "yaxis": "y"
          },
          {
           "hoverlabel": {
            "namelength": 0
           },
           "hovertemplate": "Country_or_Area=China<br>Year=1994<br>GDP_Per_Capita(USD)=%{x}<br>Mortality_Rate(%)=%{y}<br>Population(mn)=%{marker.size}",
           "legendgroup": "Country_or_Area=China",
           "marker": {
            "color": "#EF553B",
            "size": [
             1228.9919320000001
            ],
            "sizemode": "area",
            "sizeref": 0.2483606316444444,
            "symbol": "circle"
           },
           "mode": "markers",
           "name": "Country_or_Area=China",
           "showlegend": true,
           "type": "scatter",
           "x": [
            459.1750669
           ],
           "xaxis": "x",
           "y": [
            4.93
           ],
           "yaxis": "y"
          },
          {
           "hoverlabel": {
            "namelength": 0
           },
           "hovertemplate": "Country_or_Area=India<br>Year=1994<br>GDP_Per_Capita(USD)=%{x}<br>Mortality_Rate(%)=%{y}<br>Population(mn)=%{marker.size}",
           "legendgroup": "Country_or_Area=India",
           "marker": {
            "color": "#00cc96",
            "size": [
             942.204249
            ],
            "sizemode": "area",
            "sizeref": 0.2483606316444444,
            "symbol": "circle"
           },
           "mode": "markers",
           "name": "Country_or_Area=India",
           "showlegend": true,
           "type": "scatter",
           "x": [
            339.34812769999996
           ],
           "xaxis": "x",
           "y": [
            11.25
           ],
           "yaxis": "y"
          },
          {
           "hoverlabel": {
            "namelength": 0
           },
           "hovertemplate": "Country_or_Area=United States<br>Year=1994<br>GDP_Per_Capita(USD)=%{x}<br>Mortality_Rate(%)=%{y}<br>Population(mn)=%{marker.size}",
           "legendgroup": "Country_or_Area=United States",
           "marker": {
            "color": "#ab63fa",
            "size": [
             262.74156600000003
            ],
            "sizemode": "area",
            "sizeref": 0.2483606316444444,
            "symbol": "circle"
           },
           "mode": "markers",
           "name": "Country_or_Area=United States",
           "showlegend": true,
           "type": "scatter",
           "x": [
            27735.37553
           ],
           "xaxis": "x",
           "y": [
            0.98
           ],
           "yaxis": "y"
          },
          {
           "hoverlabel": {
            "namelength": 0
           },
           "hovertemplate": "Country_or_Area=United Kingdom<br>Year=1994<br>GDP_Per_Capita(USD)=%{x}<br>Mortality_Rate(%)=%{y}<br>Population(mn)=%{marker.size}",
           "legendgroup": "Country_or_Area=United Kingdom",
           "marker": {
            "color": "#FFA15A",
            "size": [
             57.810770999999995
            ],
            "sizemode": "area",
            "sizeref": 0.2483606316444444,
            "symbol": "circle"
           },
           "mode": "markers",
           "name": "Country_or_Area=United Kingdom",
           "showlegend": true,
           "type": "scatter",
           "x": [
            19727.17698
           ],
           "xaxis": "x",
           "y": [
            0.74
           ],
           "yaxis": "y"
          },
          {
           "hoverlabel": {
            "namelength": 0
           },
           "hovertemplate": "Country_or_Area=Brazil<br>Year=1994<br>GDP_Per_Capita(USD)=%{x}<br>Mortality_Rate(%)=%{y}<br>Population(mn)=%{marker.size}",
           "legendgroup": "Country_or_Area=Brazil",
           "marker": {
            "color": "#19d3f3",
            "size": [
             159.705123
            ],
            "sizemode": "area",
            "sizeref": 0.2483606316444444,
            "symbol": "circle"
           },
           "mode": "markers",
           "name": "Country_or_Area=Brazil",
           "showlegend": true,
           "type": "scatter",
           "x": [
            3634.788625
           ],
           "xaxis": "x",
           "y": [
            5.22
           ],
           "yaxis": "y"
          },
          {
           "hoverlabel": {
            "namelength": 0
           },
           "hovertemplate": "Country_or_Area=Zimbabwe<br>Year=1994<br>GDP_Per_Capita(USD)=%{x}<br>Mortality_Rate(%)=%{y}<br>Population(mn)=%{marker.size}",
           "legendgroup": "Country_or_Area=Zimbabwe",
           "marker": {
            "color": "#FF6692",
            "size": [
             11.116947999999999
            ],
            "sizemode": "area",
            "sizeref": 0.2483606316444444,
            "symbol": "circle"
           },
           "mode": "markers",
           "name": "Country_or_Area=Zimbabwe",
           "showlegend": true,
           "type": "scatter",
           "x": [
            829.7268767
           ],
           "xaxis": "x",
           "y": [
            8.68
           ],
           "yaxis": "y"
          },
          {
           "hoverlabel": {
            "namelength": 0
           },
           "hovertemplate": "Country_or_Area=Namibia<br>Year=1994<br>GDP_Per_Capita(USD)=%{x}<br>Mortality_Rate(%)=%{y}<br>Population(mn)=%{marker.size}",
           "legendgroup": "Country_or_Area=Namibia",
           "marker": {
            "color": "#B6E880",
            "size": [
             1.606718
            ],
            "sizemode": "area",
            "sizeref": 0.2483606316444444,
            "symbol": "circle"
           },
           "mode": "markers",
           "name": "Country_or_Area=Namibia",
           "showlegend": true,
           "type": "scatter",
           "x": [
            2263.401362
           ],
           "xaxis": "x",
           "y": [
            6.7
           ],
           "yaxis": "y"
          },
          {
           "hoverlabel": {
            "namelength": 0
           },
           "hovertemplate": "Country_or_Area=Nigeria<br>Year=1994<br>GDP_Per_Capita(USD)=%{x}<br>Mortality_Rate(%)=%{y}<br>Population(mn)=%{marker.size}",
           "legendgroup": "Country_or_Area=Nigeria",
           "marker": {
            "color": "#FF97FF",
            "size": [
             105.355783
            ],
            "sizemode": "area",
            "sizeref": 0.2483606316444444,
            "symbol": "circle"
           },
           "mode": "markers",
           "name": "Country_or_Area=Nigeria",
           "showlegend": true,
           "type": "scatter",
           "x": [
            446.7591039
           ],
           "xaxis": "x",
           "y": [
            21.01
           ],
           "yaxis": "y"
          },
          {
           "hoverlabel": {
            "namelength": 0
           },
           "hovertemplate": "Country_or_Area=Thailand<br>Year=1994<br>GDP_Per_Capita(USD)=%{x}<br>Mortality_Rate(%)=%{y}<br>Population(mn)=%{marker.size}",
           "legendgroup": "Country_or_Area=Thailand",
           "marker": {
            "color": "#636efa",
            "size": [
             58.901666000000006
            ],
            "sizemode": "area",
            "sizeref": 0.2483606316444444,
            "symbol": "circle"
           },
           "mode": "markers",
           "name": "Country_or_Area=Thailand",
           "showlegend": true,
           "type": "scatter",
           "x": [
            2490.316311
           ],
           "xaxis": "x",
           "y": [
            3.06
           ],
           "yaxis": "y"
          },
          {
           "hoverlabel": {
            "namelength": 0
           },
           "hovertemplate": "Country_or_Area=France<br>Year=1994<br>GDP_Per_Capita(USD)=%{x}<br>Mortality_Rate(%)=%{y}<br>Population(mn)=%{marker.size}",
           "legendgroup": "Country_or_Area=France",
           "marker": {
            "color": "#EF553B",
            "size": [
             57.990660999999996
            ],
            "sizemode": "area",
            "sizeref": 0.2483606316444444,
            "symbol": "circle"
           },
           "mode": "markers",
           "name": "Country_or_Area=France",
           "showlegend": true,
           "type": "scatter",
           "x": [
            23362.37169
           ],
           "xaxis": "x",
           "y": [
            0.7
           ],
           "yaxis": "y"
          },
          {
           "hoverlabel": {
            "namelength": 0
           },
           "hovertemplate": "Country_or_Area=Germany<br>Year=1994<br>GDP_Per_Capita(USD)=%{x}<br>Mortality_Rate(%)=%{y}<br>Population(mn)=%{marker.size}",
           "legendgroup": "Country_or_Area=Germany",
           "marker": {
            "color": "#00cc96",
            "size": [
             80.93104100000001
            ],
            "sizemode": "area",
            "sizeref": 0.2483606316444444,
            "symbol": "circle"
           },
           "mode": "markers",
           "name": "Country_or_Area=Germany",
           "showlegend": true,
           "type": "scatter",
           "x": [
            27256.64801
           ],
           "xaxis": "x",
           "y": [
            0.68
           ],
           "yaxis": "y"
          },
          {
           "hoverlabel": {
            "namelength": 0
           },
           "hovertemplate": "Country_or_Area=Mexico<br>Year=1994<br>GDP_Per_Capita(USD)=%{x}<br>Mortality_Rate(%)=%{y}<br>Population(mn)=%{marker.size}",
           "legendgroup": "Country_or_Area=Mexico",
           "marker": {
            "color": "#ab63fa",
            "size": [
             92.349147
            ],
            "sizemode": "area",
            "sizeref": 0.2483606316444444,
            "symbol": "circle"
           },
           "mode": "markers",
           "name": "Country_or_Area=Mexico",
           "showlegend": true,
           "type": "scatter",
           "x": [
            5715.381775
           ],
           "xaxis": "x",
           "y": [
            3.74
           ],
           "yaxis": "y"
          }
         ],
         "name": "1994"
        },
        {
         "data": [
          {
           "hoverlabel": {
            "namelength": 0
           },
           "hovertemplate": "Country_or_Area=Afghanistan<br>Year=1995<br>GDP_Per_Capita(USD)=%{x}<br>Mortality_Rate(%)=%{y}<br>Population(mn)=%{marker.size}",
           "legendgroup": "Country_or_Area=Afghanistan",
           "marker": {
            "color": "#636efa",
            "size": [
             17.099541000000002
            ],
            "sizemode": "area",
            "sizeref": 0.2483606316444444,
            "symbol": "circle"
           },
           "mode": "markers",
           "name": "Country_or_Area=Afghanistan",
           "showlegend": true,
           "type": "scatter",
           "x": [
            189.26239019999997
           ],
           "xaxis": "x",
           "y": [
            14.96
           ],
           "yaxis": "y"
          },
          {
           "hoverlabel": {
            "namelength": 0
           },
           "hovertemplate": "Country_or_Area=China<br>Year=1995<br>GDP_Per_Capita(USD)=%{x}<br>Mortality_Rate(%)=%{y}<br>Population(mn)=%{marker.size}",
           "legendgroup": "Country_or_Area=China",
           "marker": {
            "color": "#EF553B",
            "size": [
             1239.9400039999998
            ],
            "sizemode": "area",
            "sizeref": 0.2483606316444444,
            "symbol": "circle"
           },
           "mode": "markers",
           "name": "Country_or_Area=China",
           "showlegend": true,
           "type": "scatter",
           "x": [
            592.3552472
           ],
           "xaxis": "x",
           "y": [
            4.75
           ],
           "yaxis": "y"
          },
          {
           "hoverlabel": {
            "namelength": 0
           },
           "hovertemplate": "Country_or_Area=India<br>Year=1995<br>GDP_Per_Capita(USD)=%{x}<br>Mortality_Rate(%)=%{y}<br>Population(mn)=%{marker.size}",
           "legendgroup": "Country_or_Area=India",
           "marker": {
            "color": "#00cc96",
            "size": [
             960.4827949999999
            ],
            "sizemode": "area",
            "sizeref": 0.2483606316444444,
            "symbol": "circle"
           },
           "mode": "markers",
           "name": "Country_or_Area=India",
           "showlegend": true,
           "type": "scatter",
           "x": [
            377.8065253
           ],
           "xaxis": "x",
           "y": [
            10.91
           ],
           "yaxis": "y"
          },
          {
           "hoverlabel": {
            "namelength": 0
           },
           "hovertemplate": "Country_or_Area=United States<br>Year=1995<br>GDP_Per_Capita(USD)=%{x}<br>Mortality_Rate(%)=%{y}<br>Population(mn)=%{marker.size}",
           "legendgroup": "Country_or_Area=United States",
           "marker": {
            "color": "#ab63fa",
            "size": [
             265.65884900000003
            ],
            "sizemode": "area",
            "sizeref": 0.2483606316444444,
            "symbol": "circle"
           },
           "mode": "markers",
           "name": "Country_or_Area=United States",
           "showlegend": true,
           "type": "scatter",
           "x": [
            28757.743360000004
           ],
           "xaxis": "x",
           "y": [
            0.95
           ],
           "yaxis": "y"
          },
          {
           "hoverlabel": {
            "namelength": 0
           },
           "hovertemplate": "Country_or_Area=United Kingdom<br>Year=1995<br>GDP_Per_Capita(USD)=%{x}<br>Mortality_Rate(%)=%{y}<br>Population(mn)=%{marker.size}",
           "legendgroup": "Country_or_Area=United Kingdom",
           "marker": {
            "color": "#FFA15A",
            "size": [
             57.978320999999994
            ],
            "sizemode": "area",
            "sizeref": 0.2483606316444444,
            "symbol": "circle"
           },
           "mode": "markers",
           "name": "Country_or_Area=United Kingdom",
           "showlegend": true,
           "type": "scatter",
           "x": [
            23041.88152
           ],
           "xaxis": "x",
           "y": [
            0.72
           ],
           "yaxis": "y"
          },
          {
           "hoverlabel": {
            "namelength": 0
           },
           "hovertemplate": "Country_or_Area=Brazil<br>Year=1995<br>GDP_Per_Capita(USD)=%{x}<br>Mortality_Rate(%)=%{y}<br>Population(mn)=%{marker.size}",
           "legendgroup": "Country_or_Area=Brazil",
           "marker": {
            "color": "#19d3f3",
            "size": [
             162.296612
            ],
            "sizemode": "area",
            "sizeref": 0.2483606316444444,
            "symbol": "circle"
           },
           "mode": "markers",
           "name": "Country_or_Area=Brazil",
           "showlegend": true,
           "type": "scatter",
           "x": [
            4794.017645
           ],
           "xaxis": "x",
           "y": [
            4.91
           ],
           "yaxis": "y"
          },
          {
           "hoverlabel": {
            "namelength": 0
           },
           "hovertemplate": "Country_or_Area=Zimbabwe<br>Year=1995<br>GDP_Per_Capita(USD)=%{x}<br>Mortality_Rate(%)=%{y}<br>Population(mn)=%{marker.size}",
           "legendgroup": "Country_or_Area=Zimbabwe",
           "marker": {
            "color": "#FF6692",
            "size": [
             11.320346
            ],
            "sizemode": "area",
            "sizeref": 0.2483606316444444,
            "symbol": "circle"
           },
           "mode": "markers",
           "name": "Country_or_Area=Zimbabwe",
           "showlegend": true,
           "type": "scatter",
           "x": [
            845.9514872999999
           ],
           "xaxis": "x",
           "y": [
            9.01
           ],
           "yaxis": "y"
          },
          {
           "hoverlabel": {
            "namelength": 0
           },
           "hovertemplate": "Country_or_Area=Namibia<br>Year=1995<br>GDP_Per_Capita(USD)=%{x}<br>Mortality_Rate(%)=%{y}<br>Population(mn)=%{marker.size}",
           "legendgroup": "Country_or_Area=Namibia",
           "marker": {
            "color": "#B6E880",
            "size": [
             1.655359
            ],
            "sizemode": "area",
            "sizeref": 0.2483606316444444,
            "symbol": "circle"
           },
           "mode": "markers",
           "name": "Country_or_Area=Namibia",
           "showlegend": true,
           "type": "scatter",
           "x": [
            2381.655278
           ],
           "xaxis": "x",
           "y": [
            6.77
           ],
           "yaxis": "y"
          },
          {
           "hoverlabel": {
            "namelength": 0
           },
           "hovertemplate": "Country_or_Area=Nigeria<br>Year=1995<br>GDP_Per_Capita(USD)=%{x}<br>Mortality_Rate(%)=%{y}<br>Population(mn)=%{marker.size}",
           "legendgroup": "Country_or_Area=Nigeria",
           "marker": {
            "color": "#FF97FF",
            "size": [
             108.01146499999999
            ],
            "sizemode": "area",
            "sizeref": 0.2483606316444444,
            "symbol": "circle"
           },
           "mode": "markers",
           "name": "Country_or_Area=Nigeria",
           "showlegend": true,
           "type": "scatter",
           "x": [
            453.93328099999997
           ],
           "xaxis": "x",
           "y": [
            20.83
           ],
           "yaxis": "y"
          },
          {
           "hoverlabel": {
            "namelength": 0
           },
           "hovertemplate": "Country_or_Area=Thailand<br>Year=1995<br>GDP_Per_Capita(USD)=%{x}<br>Mortality_Rate(%)=%{y}<br>Population(mn)=%{marker.size}",
           "legendgroup": "Country_or_Area=Thailand",
           "marker": {
            "color": "#636efa",
            "size": [
             59.49179
            ],
            "sizemode": "area",
            "sizeref": 0.2483606316444444,
            "symbol": "circle"
           },
           "mode": "markers",
           "name": "Country_or_Area=Thailand",
           "showlegend": true,
           "type": "scatter",
           "x": [
            2845.413088
           ],
           "xaxis": "x",
           "y": [
            2.92
           ],
           "yaxis": "y"
          },
          {
           "hoverlabel": {
            "namelength": 0
           },
           "hovertemplate": "Country_or_Area=France<br>Year=1995<br>GDP_Per_Capita(USD)=%{x}<br>Mortality_Rate(%)=%{y}<br>Population(mn)=%{marker.size}",
           "legendgroup": "Country_or_Area=France",
           "marker": {
            "color": "#EF553B",
            "size": [
             58.241791000000006
            ],
            "sizemode": "area",
            "sizeref": 0.2483606316444444,
            "symbol": "circle"
           },
           "mode": "markers",
           "name": "Country_or_Area=France",
           "showlegend": true,
           "type": "scatter",
           "x": [
            26706.61016
           ],
           "xaxis": "x",
           "y": [
            0.65
           ],
           "yaxis": "y"
          },
          {
           "hoverlabel": {
            "namelength": 0
           },
           "hovertemplate": "Country_or_Area=Germany<br>Year=1995<br>GDP_Per_Capita(USD)=%{x}<br>Mortality_Rate(%)=%{y}<br>Population(mn)=%{marker.size}",
           "legendgroup": "Country_or_Area=Germany",
           "marker": {
            "color": "#00cc96",
            "size": [
             81.240604
            ],
            "sizemode": "area",
            "sizeref": 0.2483606316444444,
            "symbol": "circle"
           },
           "mode": "markers",
           "name": "Country_or_Area=Germany",
           "showlegend": true,
           "type": "scatter",
           "x": [
            31898.4173
           ],
           "xaxis": "x",
           "y": [
            0.65
           ],
           "yaxis": "y"
          },
          {
           "hoverlabel": {
            "namelength": 0
           },
           "hovertemplate": "Country_or_Area=Mexico<br>Year=1995<br>GDP_Per_Capita(USD)=%{x}<br>Mortality_Rate(%)=%{y}<br>Population(mn)=%{marker.size}",
           "legendgroup": "Country_or_Area=Mexico",
           "marker": {
            "color": "#ab63fa",
            "size": [
             94.045579
            ],
            "sizemode": "area",
            "sizeref": 0.2483606316444444,
            "symbol": "circle"
           },
           "mode": "markers",
           "name": "Country_or_Area=Mexico",
           "showlegend": true,
           "type": "scatter",
           "x": [
            3828.702112
           ],
           "xaxis": "x",
           "y": [
            3.55
           ],
           "yaxis": "y"
          }
         ],
         "name": "1995"
        },
        {
         "data": [
          {
           "hoverlabel": {
            "namelength": 0
           },
           "hovertemplate": "Country_or_Area=Afghanistan<br>Year=1996<br>GDP_Per_Capita(USD)=%{x}<br>Mortality_Rate(%)=%{y}<br>Population(mn)=%{marker.size}",
           "legendgroup": "Country_or_Area=Afghanistan",
           "marker": {
            "color": "#636efa",
            "size": [
             17.822884
            ],
            "sizemode": "area",
            "sizeref": 0.2483606316444444,
            "symbol": "circle"
           },
           "mode": "markers",
           "name": "Country_or_Area=Afghanistan",
           "showlegend": true,
           "type": "scatter",
           "x": [
            175.30044019999997
           ],
           "xaxis": "x",
           "y": [
            14.51
           ],
           "yaxis": "y"
          },
          {
           "hoverlabel": {
            "namelength": 0
           },
           "hovertemplate": "Country_or_Area=China<br>Year=1996<br>GDP_Per_Capita(USD)=%{x}<br>Mortality_Rate(%)=%{y}<br>Population(mn)=%{marker.size}",
           "legendgroup": "Country_or_Area=China",
           "marker": {
            "color": "#EF553B",
            "size": [
             1249.981441
            ],
            "sizemode": "area",
            "sizeref": 0.2483606316444444,
            "symbol": "circle"
           },
           "mode": "markers",
           "name": "Country_or_Area=China",
           "showlegend": true,
           "type": "scatter",
           "x": [
            691.0094266
           ],
           "xaxis": "x",
           "y": [
            4.55
           ],
           "yaxis": "y"
          },
          {
           "hoverlabel": {
            "namelength": 0
           },
           "hovertemplate": "Country_or_Area=India<br>Year=1996<br>GDP_Per_Capita(USD)=%{x}<br>Mortality_Rate(%)=%{y}<br>Population(mn)=%{marker.size}",
           "legendgroup": "Country_or_Area=India",
           "marker": {
            "color": "#00cc96",
            "size": [
             978.8932169999999
            ],
            "sizemode": "area",
            "sizeref": 0.2483606316444444,
            "symbol": "circle"
           },
           "mode": "markers",
           "name": "Country_or_Area=India",
           "showlegend": true,
           "type": "scatter",
           "x": [
            390.70842200000004
           ],
           "xaxis": "x",
           "y": [
            10.57
           ],
           "yaxis": "y"
          },
          {
           "hoverlabel": {
            "namelength": 0
           },
           "hovertemplate": "Country_or_Area=United States<br>Year=1996<br>GDP_Per_Capita(USD)=%{x}<br>Mortality_Rate(%)=%{y}<br>Population(mn)=%{marker.size}",
           "legendgroup": "Country_or_Area=United States",
           "marker": {
            "color": "#ab63fa",
            "size": [
             268.803424
            ],
            "sizemode": "area",
            "sizeref": 0.2483606316444444,
            "symbol": "circle"
           },
           "mode": "markers",
           "name": "Country_or_Area=United States",
           "showlegend": true,
           "type": "scatter",
           "x": [
            30033.553439999996
           ],
           "xaxis": "x",
           "y": [
            0.92
           ],
           "yaxis": "y"
          },
          {
           "hoverlabel": {
            "namelength": 0
           },
           "hovertemplate": "Country_or_Area=United Kingdom<br>Year=1996<br>GDP_Per_Capita(USD)=%{x}<br>Mortality_Rate(%)=%{y}<br>Population(mn)=%{marker.size}",
           "legendgroup": "Country_or_Area=United Kingdom",
           "marker": {
            "color": "#FFA15A",
            "size": [
             58.156744999999994
            ],
            "sizemode": "area",
            "sizeref": 0.2483606316444444,
            "symbol": "circle"
           },
           "mode": "markers",
           "name": "Country_or_Area=United Kingdom",
           "showlegend": true,
           "type": "scatter",
           "x": [
            24236.26167
           ],
           "xaxis": "x",
           "y": [
            0.7
           ],
           "yaxis": "y"
          },
          {
           "hoverlabel": {
            "namelength": 0
           },
           "hovertemplate": "Country_or_Area=Brazil<br>Year=1996<br>GDP_Per_Capita(USD)=%{x}<br>Mortality_Rate(%)=%{y}<br>Population(mn)=%{marker.size}",
           "legendgroup": "Country_or_Area=Brazil",
           "marker": {
            "color": "#19d3f3",
            "size": [
             164.913306
            ],
            "sizemode": "area",
            "sizeref": 0.2483606316444444,
            "symbol": "circle"
           },
           "mode": "markers",
           "name": "Country_or_Area=Brazil",
           "showlegend": true,
           "type": "scatter",
           "x": [
            5151.933065
           ],
           "xaxis": "x",
           "y": [
            4.6
           ],
           "yaxis": "y"
          },
          {
           "hoverlabel": {
            "namelength": 0
           },
           "hovertemplate": "Country_or_Area=Zimbabwe<br>Year=1996<br>GDP_Per_Capita(USD)=%{x}<br>Mortality_Rate(%)=%{y}<br>Population(mn)=%{marker.size}",
           "legendgroup": "Country_or_Area=Zimbabwe",
           "marker": {
            "color": "#FF6692",
            "size": [
             11.518262
            ],
            "sizemode": "area",
            "sizeref": 0.2483606316444444,
            "symbol": "circle"
           },
           "mode": "markers",
           "name": "Country_or_Area=Zimbabwe",
           "showlegend": true,
           "type": "scatter",
           "x": [
            1012.011227
           ],
           "xaxis": "x",
           "y": [
            9.28
           ],
           "yaxis": "y"
          },
          {
           "hoverlabel": {
            "namelength": 0
           },
           "hovertemplate": "Country_or_Area=Namibia<br>Year=1996<br>GDP_Per_Capita(USD)=%{x}<br>Mortality_Rate(%)=%{y}<br>Population(mn)=%{marker.size}",
           "legendgroup": "Country_or_Area=Namibia",
           "marker": {
            "color": "#B6E880",
            "size": [
             1.706489
            ],
            "sizemode": "area",
            "sizeref": 0.2483606316444444,
            "symbol": "circle"
           },
           "mode": "markers",
           "name": "Country_or_Area=Namibia",
           "showlegend": true,
           "type": "scatter",
           "x": [
            2311.9373530000003
           ],
           "xaxis": "x",
           "y": [
            6.89
           ],
           "yaxis": "y"
          },
          {
           "hoverlabel": {
            "namelength": 0
           },
           "hovertemplate": "Country_or_Area=Nigeria<br>Year=1996<br>GDP_Per_Capita(USD)=%{x}<br>Mortality_Rate(%)=%{y}<br>Population(mn)=%{marker.size}",
           "legendgroup": "Country_or_Area=Nigeria",
           "marker": {
            "color": "#FF97FF",
            "size": [
             110.732904
            ],
            "sizemode": "area",
            "sizeref": 0.2483606316444444,
            "symbol": "circle"
           },
           "mode": "markers",
           "name": "Country_or_Area=Nigeria",
           "showlegend": true,
           "type": "scatter",
           "x": [
            469.4904954
           ],
           "xaxis": "x",
           "y": [
            20.57
           ],
           "yaxis": "y"
          },
          {
           "hoverlabel": {
            "namelength": 0
           },
           "hovertemplate": "Country_or_Area=Thailand<br>Year=1996<br>GDP_Per_Capita(USD)=%{x}<br>Mortality_Rate(%)=%{y}<br>Population(mn)=%{marker.size}",
           "legendgroup": "Country_or_Area=Thailand",
           "marker": {
            "color": "#636efa",
            "size": [
             60.151472
            ],
            "sizemode": "area",
            "sizeref": 0.2483606316444444,
            "symbol": "circle"
           },
           "mode": "markers",
           "name": "Country_or_Area=Thailand",
           "showlegend": true,
           "type": "scatter",
           "x": [
            3042.906047
           ],
           "xaxis": "x",
           "y": [
            2.78
           ],
           "yaxis": "y"
          },
          {
           "hoverlabel": {
            "namelength": 0
           },
           "hovertemplate": "Country_or_Area=France<br>Year=1996<br>GDP_Per_Capita(USD)=%{x}<br>Mortality_Rate(%)=%{y}<br>Population(mn)=%{marker.size}",
           "legendgroup": "Country_or_Area=France",
           "marker": {
            "color": "#EF553B",
            "size": [
             58.499689000000004
            ],
            "sizemode": "area",
            "sizeref": 0.2483606316444444,
            "symbol": "circle"
           },
           "mode": "markers",
           "name": "Country_or_Area=France",
           "showlegend": true,
           "type": "scatter",
           "x": [
            26658.0834
           ],
           "xaxis": "x",
           "y": [
            0.61
           ],
           "yaxis": "y"
          },
          {
           "hoverlabel": {
            "namelength": 0
           },
           "hovertemplate": "Country_or_Area=Germany<br>Year=1996<br>GDP_Per_Capita(USD)=%{x}<br>Mortality_Rate(%)=%{y}<br>Population(mn)=%{marker.size}",
           "legendgroup": "Country_or_Area=Germany",
           "marker": {
            "color": "#00cc96",
            "size": [
             81.426337
            ],
            "sizemode": "area",
            "sizeref": 0.2483606316444444,
            "symbol": "circle"
           },
           "mode": "markers",
           "name": "Country_or_Area=Germany",
           "showlegend": true,
           "type": "scatter",
           "x": [
            30748.45592
           ],
           "xaxis": "x",
           "y": [
            0.62
           ],
           "yaxis": "y"
          },
          {
           "hoverlabel": {
            "namelength": 0
           },
           "hovertemplate": "Country_or_Area=Mexico<br>Year=1996<br>GDP_Per_Capita(USD)=%{x}<br>Mortality_Rate(%)=%{y}<br>Population(mn)=%{marker.size}",
           "legendgroup": "Country_or_Area=Mexico",
           "marker": {
            "color": "#ab63fa",
            "size": [
             95.68745200000001
            ],
            "sizemode": "area",
            "sizeref": 0.2483606316444444,
            "symbol": "circle"
           },
           "mode": "markers",
           "name": "Country_or_Area=Mexico",
           "showlegend": true,
           "type": "scatter",
           "x": [
            4294.951620000001
           ],
           "xaxis": "x",
           "y": [
            3.37
           ],
           "yaxis": "y"
          }
         ],
         "name": "1996"
        },
        {
         "data": [
          {
           "hoverlabel": {
            "namelength": 0
           },
           "hovertemplate": "Country_or_Area=Afghanistan<br>Year=1997<br>GDP_Per_Capita(USD)=%{x}<br>Mortality_Rate(%)=%{y}<br>Population(mn)=%{marker.size}",
           "legendgroup": "Country_or_Area=Afghanistan",
           "marker": {
            "color": "#636efa",
            "size": [
             18.381605
            ],
            "sizemode": "area",
            "sizeref": 0.2483606316444444,
            "symbol": "circle"
           },
           "mode": "markers",
           "name": "Country_or_Area=Afghanistan",
           "showlegend": true,
           "type": "scatter",
           "x": [
            164.092893
           ],
           "xaxis": "x",
           "y": [
            14.1
           ],
           "yaxis": "y"
          },
          {
           "hoverlabel": {
            "namelength": 0
           },
           "hovertemplate": "Country_or_Area=China<br>Year=1997<br>GDP_Per_Capita(USD)=%{x}<br>Mortality_Rate(%)=%{y}<br>Population(mn)=%{marker.size}",
           "legendgroup": "Country_or_Area=China",
           "marker": {
            "color": "#EF553B",
            "size": [
             1259.066974
            ],
            "sizemode": "area",
            "sizeref": 0.2483606316444444,
            "symbol": "circle"
           },
           "mode": "markers",
           "name": "Country_or_Area=China",
           "showlegend": true,
           "type": "scatter",
           "x": [
            763.7413281
           ],
           "xaxis": "x",
           "y": [
            4.36
           ],
           "yaxis": "y"
          },
          {
           "hoverlabel": {
            "namelength": 0
           },
           "hovertemplate": "Country_or_Area=India<br>Year=1997<br>GDP_Per_Capita(USD)=%{x}<br>Mortality_Rate(%)=%{y}<br>Population(mn)=%{marker.size}",
           "legendgroup": "Country_or_Area=India",
           "marker": {
            "color": "#00cc96",
            "size": [
             997.405318
            ],
            "sizemode": "area",
            "sizeref": 0.2483606316444444,
            "symbol": "circle"
           },
           "mode": "markers",
           "name": "Country_or_Area=India",
           "showlegend": true,
           "type": "scatter",
           "x": [
            416.3700624
           ],
           "xaxis": "x",
           "y": [
            10.23
           ],
           "yaxis": "y"
          },
          {
           "hoverlabel": {
            "namelength": 0
           },
           "hovertemplate": "Country_or_Area=United States<br>Year=1997<br>GDP_Per_Capita(USD)=%{x}<br>Mortality_Rate(%)=%{y}<br>Population(mn)=%{marker.size}",
           "legendgroup": "Country_or_Area=United States",
           "marker": {
            "color": "#ab63fa",
            "size": [
             272.136551
            ],
            "sizemode": "area",
            "sizeref": 0.2483606316444444,
            "symbol": "circle"
           },
           "mode": "markers",
           "name": "Country_or_Area=United States",
           "showlegend": true,
           "type": "scatter",
           "x": [
            31519.29415
           ],
           "xaxis": "x",
           "y": [
            0.89
           ],
           "yaxis": "y"
          },
          {
           "hoverlabel": {
            "namelength": 0
           },
           "hovertemplate": "Country_or_Area=United Kingdom<br>Year=1997<br>GDP_Per_Capita(USD)=%{x}<br>Mortality_Rate(%)=%{y}<br>Population(mn)=%{marker.size}",
           "legendgroup": "Country_or_Area=United Kingdom",
           "marker": {
            "color": "#FFA15A",
            "size": [
             58.346672999999996
            ],
            "sizemode": "area",
            "sizeref": 0.2483606316444444,
            "symbol": "circle"
           },
           "mode": "markers",
           "name": "Country_or_Area=United Kingdom",
           "showlegend": true,
           "type": "scatter",
           "x": [
            26625.87571
           ],
           "xaxis": "x",
           "y": [
            0.69
           ],
           "yaxis": "y"
          },
          {
           "hoverlabel": {
            "namelength": 0
           },
           "hovertemplate": "Country_or_Area=Brazil<br>Year=1997<br>GDP_Per_Capita(USD)=%{x}<br>Mortality_Rate(%)=%{y}<br>Population(mn)=%{marker.size}",
           "legendgroup": "Country_or_Area=Brazil",
           "marker": {
            "color": "#19d3f3",
            "size": [
             167.545164
            ],
            "sizemode": "area",
            "sizeref": 0.2483606316444444,
            "symbol": "circle"
           },
           "mode": "markers",
           "name": "Country_or_Area=Brazil",
           "showlegend": true,
           "type": "scatter",
           "x": [
            5261.341686
           ],
           "xaxis": "x",
           "y": [
            4.32
           ],
           "yaxis": "y"
          },
          {
           "hoverlabel": {
            "namelength": 0
           },
           "hovertemplate": "Country_or_Area=Zimbabwe<br>Year=1997<br>GDP_Per_Capita(USD)=%{x}<br>Mortality_Rate(%)=%{y}<br>Population(mn)=%{marker.size}",
           "legendgroup": "Country_or_Area=Zimbabwe",
           "marker": {
            "color": "#FF6692",
            "size": [
             11.709997
            ],
            "sizemode": "area",
            "sizeref": 0.2483606316444444,
            "symbol": "circle"
           },
           "mode": "markers",
           "name": "Country_or_Area=Zimbabwe",
           "showlegend": true,
           "type": "scatter",
           "x": [
            1024.1027390000002
           ],
           "xaxis": "x",
           "y": [
            9.47
           ],
           "yaxis": "y"
          },
          {
           "hoverlabel": {
            "namelength": 0
           },
           "hovertemplate": "Country_or_Area=Namibia<br>Year=1997<br>GDP_Per_Capita(USD)=%{x}<br>Mortality_Rate(%)=%{y}<br>Population(mn)=%{marker.size}",
           "legendgroup": "Country_or_Area=Namibia",
           "marker": {
            "color": "#B6E880",
            "size": [
             1.758994
            ],
            "sizemode": "area",
            "sizeref": 0.2483606316444444,
            "symbol": "circle"
           },
           "mode": "markers",
           "name": "Country_or_Area=Namibia",
           "showlegend": true,
           "type": "scatter",
           "x": [
            2332.402982
           ],
           "xaxis": "x",
           "y": [
            7.04
           ],
           "yaxis": "y"
          },
          {
           "hoverlabel": {
            "namelength": 0
           },
           "hovertemplate": "Country_or_Area=Nigeria<br>Year=1997<br>GDP_Per_Capita(USD)=%{x}<br>Mortality_Rate(%)=%{y}<br>Population(mn)=%{marker.size}",
           "legendgroup": "Country_or_Area=Nigeria",
           "marker": {
            "color": "#FF97FF",
            "size": [
             113.522705
            ],
            "sizemode": "area",
            "sizeref": 0.2483606316444444,
            "symbol": "circle"
           },
           "mode": "markers",
           "name": "Country_or_Area=Nigeria",
           "showlegend": true,
           "type": "scatter",
           "x": [
            479.2522118
           ],
           "xaxis": "x",
           "y": [
            20.21
           ],
           "yaxis": "y"
          },
          {
           "hoverlabel": {
            "namelength": 0
           },
           "hovertemplate": "Country_or_Area=Thailand<br>Year=1997<br>GDP_Per_Capita(USD)=%{x}<br>Mortality_Rate(%)=%{y}<br>Population(mn)=%{marker.size}",
           "legendgroup": "Country_or_Area=Thailand",
           "marker": {
            "color": "#636efa",
            "size": [
             60.86350600000001
            ],
            "sizemode": "area",
            "sizeref": 0.2483606316444444,
            "symbol": "circle"
           },
           "mode": "markers",
           "name": "Country_or_Area=Thailand",
           "showlegend": true,
           "type": "scatter",
           "x": [
            2467.490185
           ],
           "xaxis": "x",
           "y": [
            2.65
           ],
           "yaxis": "y"
          },
          {
           "hoverlabel": {
            "namelength": 0
           },
           "hovertemplate": "Country_or_Area=France<br>Year=1997<br>GDP_Per_Capita(USD)=%{x}<br>Mortality_Rate(%)=%{y}<br>Population(mn)=%{marker.size}",
           "legendgroup": "Country_or_Area=France",
           "marker": {
            "color": "#EF553B",
            "size": [
             58.763394999999996
            ],
            "sizemode": "area",
            "sizeref": 0.2483606316444444,
            "symbol": "circle"
           },
           "mode": "markers",
           "name": "Country_or_Area=France",
           "showlegend": true,
           "type": "scatter",
           "x": [
            24002.66956
           ],
           "xaxis": "x",
           "y": [
            0.58
           ],
           "yaxis": "y"
          },
          {
           "hoverlabel": {
            "namelength": 0
           },
           "hovertemplate": "Country_or_Area=Germany<br>Year=1997<br>GDP_Per_Capita(USD)=%{x}<br>Mortality_Rate(%)=%{y}<br>Population(mn)=%{marker.size}",
           "legendgroup": "Country_or_Area=Germany",
           "marker": {
            "color": "#00cc96",
            "size": [
             81.499866
            ],
            "sizemode": "area",
            "sizeref": 0.2483606316444444,
            "symbol": "circle"
           },
           "mode": "markers",
           "name": "Country_or_Area=Germany",
           "showlegend": true,
           "type": "scatter",
           "x": [
            27222.961089999997
           ],
           "xaxis": "x",
           "y": [
            0.59
           ],
           "yaxis": "y"
          },
          {
           "hoverlabel": {
            "namelength": 0
           },
           "hovertemplate": "Country_or_Area=Mexico<br>Year=1997<br>GDP_Per_Capita(USD)=%{x}<br>Mortality_Rate(%)=%{y}<br>Population(mn)=%{marker.size}",
           "legendgroup": "Country_or_Area=Mexico",
           "marker": {
            "color": "#ab63fa",
            "size": [
             97.281739
            ],
            "sizemode": "area",
            "sizeref": 0.2483606316444444,
            "symbol": "circle"
           },
           "mode": "markers",
           "name": "Country_or_Area=Mexico",
           "showlegend": true,
           "type": "scatter",
           "x": [
            5143.987105
           ],
           "xaxis": "x",
           "y": [
            3.19
           ],
           "yaxis": "y"
          }
         ],
         "name": "1997"
        },
        {
         "data": [
          {
           "hoverlabel": {
            "namelength": 0
           },
           "hovertemplate": "Country_or_Area=Afghanistan<br>Year=1998<br>GDP_Per_Capita(USD)=%{x}<br>Mortality_Rate(%)=%{y}<br>Population(mn)=%{marker.size}",
           "legendgroup": "Country_or_Area=Afghanistan",
           "marker": {
            "color": "#636efa",
            "size": [
             18.863999
            ],
            "sizemode": "area",
            "sizeref": 0.2483606316444444,
            "symbol": "circle"
           },
           "mode": "markers",
           "name": "Country_or_Area=Afghanistan",
           "showlegend": true,
           "type": "scatter",
           "x": [
            154.366
           ],
           "xaxis": "x",
           "y": [
            13.71
           ],
           "yaxis": "y"
          },
          {
           "hoverlabel": {
            "namelength": 0
           },
           "hovertemplate": "Country_or_Area=China<br>Year=1998<br>GDP_Per_Capita(USD)=%{x}<br>Mortality_Rate(%)=%{y}<br>Population(mn)=%{marker.size}",
           "legendgroup": "Country_or_Area=China",
           "marker": {
            "color": "#EF553B",
            "size": [
             1267.441503
            ],
            "sizemode": "area",
            "sizeref": 0.2483606316444444,
            "symbol": "circle"
           },
           "mode": "markers",
           "name": "Country_or_Area=China",
           "showlegend": true,
           "type": "scatter",
           "x": [
            811.9196177
           ],
           "xaxis": "x",
           "y": [
            4.15
           ],
           "yaxis": "y"
          },
          {
           "hoverlabel": {
            "namelength": 0
           },
           "hovertemplate": "Country_or_Area=India<br>Year=1998<br>GDP_Per_Capita(USD)=%{x}<br>Mortality_Rate(%)=%{y}<br>Population(mn)=%{marker.size}",
           "legendgroup": "Country_or_Area=India",
           "marker": {
            "color": "#00cc96",
            "size": [
             1015.9740419999999
            ],
            "sizemode": "area",
            "sizeref": 0.2483606316444444,
            "symbol": "circle"
           },
           "mode": "markers",
           "name": "Country_or_Area=India",
           "showlegend": true,
           "type": "scatter",
           "x": [
            411.3731034
           ],
           "xaxis": "x",
           "y": [
            9.87
           ],
           "yaxis": "y"
          },
          {
           "hoverlabel": {
            "namelength": 0
           },
           "hovertemplate": "Country_or_Area=United States<br>Year=1998<br>GDP_Per_Capita(USD)=%{x}<br>Mortality_Rate(%)=%{y}<br>Population(mn)=%{marker.size}",
           "legendgroup": "Country_or_Area=United States",
           "marker": {
            "color": "#ab63fa",
            "size": [
             275.542603
            ],
            "sizemode": "area",
            "sizeref": 0.2483606316444444,
            "symbol": "circle"
           },
           "mode": "markers",
           "name": "Country_or_Area=United States",
           "showlegend": true,
           "type": "scatter",
           "x": [
            32890.80128
           ],
           "xaxis": "x",
           "y": [
            0.87
           ],
           "yaxis": "y"
          },
          {
           "hoverlabel": {
            "namelength": 0
           },
           "hovertemplate": "Country_or_Area=United Kingdom<br>Year=1998<br>GDP_Per_Capita(USD)=%{x}<br>Mortality_Rate(%)=%{y}<br>Population(mn)=%{marker.size}",
           "legendgroup": "Country_or_Area=United Kingdom",
           "marker": {
            "color": "#FFA15A",
            "size": [
             58.544938
            ],
            "sizemode": "area",
            "sizeref": 0.2483606316444444,
            "symbol": "circle"
           },
           "mode": "markers",
           "name": "Country_or_Area=United Kingdom",
           "showlegend": true,
           "type": "scatter",
           "x": [
            28040.03255
           ],
           "xaxis": "x",
           "y": [
            0.68
           ],
           "yaxis": "y"
          },
          {
           "hoverlabel": {
            "namelength": 0
           },
           "hovertemplate": "Country_or_Area=Brazil<br>Year=1998<br>GDP_Per_Capita(USD)=%{x}<br>Mortality_Rate(%)=%{y}<br>Population(mn)=%{marker.size}",
           "legendgroup": "Country_or_Area=Brazil",
           "marker": {
            "color": "#19d3f3",
            "size": [
             170.17064
            ],
            "sizemode": "area",
            "sizeref": 0.2483606316444444,
            "symbol": "circle"
           },
           "mode": "markers",
           "name": "Country_or_Area=Brazil",
           "showlegend": true,
           "type": "scatter",
           "x": [
            5017.40697
           ],
           "xaxis": "x",
           "y": [
            4.06
           ],
           "yaxis": "y"
          },
          {
           "hoverlabel": {
            "namelength": 0
           },
           "hovertemplate": "Country_or_Area=Zimbabwe<br>Year=1998<br>GDP_Per_Capita(USD)=%{x}<br>Mortality_Rate(%)=%{y}<br>Population(mn)=%{marker.size}",
           "legendgroup": "Country_or_Area=Zimbabwe",
           "marker": {
            "color": "#FF6692",
            "size": [
             11.893272
            ],
            "sizemode": "area",
            "sizeref": 0.2483606316444444,
            "symbol": "circle"
           },
           "mode": "markers",
           "name": "Country_or_Area=Zimbabwe",
           "showlegend": true,
           "type": "scatter",
           "x": [
            706.397499
           ],
           "xaxis": "x",
           "y": [
            9.59
           ],
           "yaxis": "y"
          },
          {
           "hoverlabel": {
            "namelength": 0
           },
           "hovertemplate": "Country_or_Area=Namibia<br>Year=1998<br>GDP_Per_Capita(USD)=%{x}<br>Mortality_Rate(%)=%{y}<br>Population(mn)=%{marker.size}",
           "legendgroup": "Country_or_Area=Namibia",
           "marker": {
            "color": "#B6E880",
            "size": [
             1.810566
            ],
            "sizemode": "area",
            "sizeref": 0.2483606316444444,
            "symbol": "circle"
           },
           "mode": "markers",
           "name": "Country_or_Area=Namibia",
           "showlegend": true,
           "type": "scatter",
           "x": [
            2113.4488309999997
           ],
           "xaxis": "x",
           "y": [
            7.19
           ],
           "yaxis": "y"
          },
          {
           "hoverlabel": {
            "namelength": 0
           },
           "hovertemplate": "Country_or_Area=Nigeria<br>Year=1998<br>GDP_Per_Capita(USD)=%{x}<br>Mortality_Rate(%)=%{y}<br>Population(mn)=%{marker.size}",
           "legendgroup": "Country_or_Area=Nigeria",
           "marker": {
            "color": "#FF97FF",
            "size": [
             116.38575
            ],
            "sizemode": "area",
            "sizeref": 0.2483606316444444,
            "symbol": "circle"
           },
           "mode": "markers",
           "name": "Country_or_Area=Nigeria",
           "showlegend": true,
           "type": "scatter",
           "x": [
            485.8395598
           ],
           "xaxis": "x",
           "y": [
            19.77
           ],
           "yaxis": "y"
          },
          {
           "hoverlabel": {
            "namelength": 0
           },
           "hovertemplate": "Country_or_Area=Thailand<br>Year=1998<br>GDP_Per_Capita(USD)=%{x}<br>Mortality_Rate(%)=%{y}<br>Population(mn)=%{marker.size}",
           "legendgroup": "Country_or_Area=Thailand",
           "marker": {
            "color": "#636efa",
            "size": [
             61.597283
            ],
            "sizemode": "area",
            "sizeref": 0.2483606316444444,
            "symbol": "circle"
           },
           "mode": "markers",
           "name": "Country_or_Area=Thailand",
           "showlegend": true,
           "type": "scatter",
           "x": [
            1845.4667960000002
           ],
           "xaxis": "x",
           "y": [
            2.53
           ],
           "yaxis": "y"
          },
          {
           "hoverlabel": {
            "namelength": 0
           },
           "hovertemplate": "Country_or_Area=France<br>Year=1998<br>GDP_Per_Capita(USD)=%{x}<br>Mortality_Rate(%)=%{y}<br>Population(mn)=%{marker.size}",
           "legendgroup": "Country_or_Area=France",
           "marker": {
            "color": "#EF553B",
            "size": [
             59.034921
            ],
            "sizemode": "area",
            "sizeref": 0.2483606316444444,
            "symbol": "circle"
           },
           "mode": "markers",
           "name": "Country_or_Area=France",
           "showlegend": true,
           "type": "scatter",
           "x": [
            24709.28083
           ],
           "xaxis": "x",
           "y": [
            0.56
           ],
           "yaxis": "y"
          },
          {
           "hoverlabel": {
            "namelength": 0
           },
           "hovertemplate": "Country_or_Area=Germany<br>Year=1998<br>GDP_Per_Capita(USD)=%{x}<br>Mortality_Rate(%)=%{y}<br>Population(mn)=%{marker.size}",
           "legendgroup": "Country_or_Area=Germany",
           "marker": {
            "color": "#00cc96",
            "size": [
             81.49923199999999
            ],
            "sizemode": "area",
            "sizeref": 0.2483606316444444,
            "symbol": "circle"
           },
           "mode": "markers",
           "name": "Country_or_Area=Germany",
           "showlegend": true,
           "type": "scatter",
           "x": [
            27524.38392
           ],
           "xaxis": "x",
           "y": [
            0.57
           ],
           "yaxis": "y"
          },
          {
           "hoverlabel": {
            "namelength": 0
           },
           "hovertemplate": "Country_or_Area=Mexico<br>Year=1998<br>GDP_Per_Capita(USD)=%{x}<br>Mortality_Rate(%)=%{y}<br>Population(mn)=%{marker.size}",
           "legendgroup": "Country_or_Area=Mexico",
           "marker": {
            "color": "#ab63fa",
            "size": [
             98.82145600000001
            ],
            "sizemode": "area",
            "sizeref": 0.2483606316444444,
            "symbol": "circle"
           },
           "mode": "markers",
           "name": "Country_or_Area=Mexico",
           "showlegend": true,
           "type": "scatter",
           "x": [
            5327.787554
           ],
           "xaxis": "x",
           "y": [
            3.01
           ],
           "yaxis": "y"
          }
         ],
         "name": "1998"
        },
        {
         "data": [
          {
           "hoverlabel": {
            "namelength": 0
           },
           "hovertemplate": "Country_or_Area=Afghanistan<br>Year=1999<br>GDP_Per_Capita(USD)=%{x}<br>Mortality_Rate(%)=%{y}<br>Population(mn)=%{marker.size}",
           "legendgroup": "Country_or_Area=Afghanistan",
           "marker": {
            "color": "#636efa",
            "size": [
             19.403676
            ],
            "sizemode": "area",
            "sizeref": 0.2483606316444444,
            "symbol": "circle"
           },
           "mode": "markers",
           "name": "Country_or_Area=Afghanistan",
           "showlegend": true,
           "type": "scatter",
           "x": [
            140.17922040000002
           ],
           "xaxis": "x",
           "y": [
            13.34
           ],
           "yaxis": "y"
          },
          {
           "hoverlabel": {
            "namelength": 0
           },
           "hovertemplate": "Country_or_Area=China<br>Year=1999<br>GDP_Per_Capita(USD)=%{x}<br>Mortality_Rate(%)=%{y}<br>Population(mn)=%{marker.size}",
           "legendgroup": "Country_or_Area=China",
           "marker": {
            "color": "#EF553B",
            "size": [
             1275.4066990000001
            ],
            "sizemode": "area",
            "sizeref": 0.2483606316444444,
            "symbol": "circle"
           },
           "mode": "markers",
           "name": "Country_or_Area=China",
           "showlegend": true,
           "type": "scatter",
           "x": [
            857.7688736
           ],
           "xaxis": "x",
           "y": [
            3.93
           ],
           "yaxis": "y"
          },
          {
           "hoverlabel": {
            "namelength": 0
           },
           "hovertemplate": "Country_or_Area=India<br>Year=1999<br>GDP_Per_Capita(USD)=%{x}<br>Mortality_Rate(%)=%{y}<br>Population(mn)=%{marker.size}",
           "legendgroup": "Country_or_Area=India",
           "marker": {
            "color": "#00cc96",
            "size": [
             1034.5392140000001
            ],
            "sizemode": "area",
            "sizeref": 0.2483606316444444,
            "symbol": "circle"
           },
           "mode": "markers",
           "name": "Country_or_Area=India",
           "showlegend": true,
           "type": "scatter",
           "x": [
            430.6880993
           ],
           "xaxis": "x",
           "y": [
            9.51
           ],
           "yaxis": "y"
          },
          {
           "hoverlabel": {
            "namelength": 0
           },
           "hovertemplate": "Country_or_Area=United States<br>Year=1999<br>GDP_Per_Capita(USD)=%{x}<br>Mortality_Rate(%)=%{y}<br>Population(mn)=%{marker.size}",
           "legendgroup": "Country_or_Area=United States",
           "marker": {
            "color": "#ab63fa",
            "size": [
             278.862277
            ],
            "sizemode": "area",
            "sizeref": 0.2483606316444444,
            "symbol": "circle"
           },
           "mode": "markers",
           "name": "Country_or_Area=United States",
           "showlegend": true,
           "type": "scatter",
           "x": [
            34535.55319
           ],
           "xaxis": "x",
           "y": [
            0.86
           ],
           "yaxis": "y"
          },
          {
           "hoverlabel": {
            "namelength": 0
           },
           "hovertemplate": "Country_or_Area=United Kingdom<br>Year=1999<br>GDP_Per_Capita(USD)=%{x}<br>Mortality_Rate(%)=%{y}<br>Population(mn)=%{marker.size}",
           "legendgroup": "Country_or_Area=United Kingdom",
           "marker": {
            "color": "#FFA15A",
            "size": [
             58.746728000000004
            ],
            "sizemode": "area",
            "sizeref": 0.2483606316444444,
            "symbol": "circle"
           },
           "mode": "markers",
           "name": "Country_or_Area=United Kingdom",
           "showlegend": true,
           "type": "scatter",
           "x": [
            28399.65813
           ],
           "xaxis": "x",
           "y": [
            0.67
           ],
           "yaxis": "y"
          },
          {
           "hoverlabel": {
            "namelength": 0
           },
           "hovertemplate": "Country_or_Area=Brazil<br>Year=1999<br>GDP_Per_Capita(USD)=%{x}<br>Mortality_Rate(%)=%{y}<br>Population(mn)=%{marker.size}",
           "legendgroup": "Country_or_Area=Brazil",
           "marker": {
            "color": "#19d3f3",
            "size": [
             172.759243
            ],
            "sizemode": "area",
            "sizeref": 0.2483606316444444,
            "symbol": "circle"
           },
           "mode": "markers",
           "name": "Country_or_Area=Brazil",
           "showlegend": true,
           "type": "scatter",
           "x": [
            3438.724179
           ],
           "xaxis": "x",
           "y": [
            3.81
           ],
           "yaxis": "y"
          },
          {
           "hoverlabel": {
            "namelength": 0
           },
           "hovertemplate": "Country_or_Area=Zimbabwe<br>Year=1999<br>GDP_Per_Capita(USD)=%{x}<br>Mortality_Rate(%)=%{y}<br>Population(mn)=%{marker.size}",
           "legendgroup": "Country_or_Area=Zimbabwe",
           "marker": {
            "color": "#FF6692",
            "size": [
             12.064537
            ],
            "sizemode": "area",
            "sizeref": 0.2483606316444444,
            "symbol": "circle"
           },
           "mode": "markers",
           "name": "Country_or_Area=Zimbabwe",
           "showlegend": true,
           "type": "scatter",
           "x": [
            661.8820101
           ],
           "xaxis": "x",
           "y": [
            9.64
           ],
           "yaxis": "y"
          },
          {
           "hoverlabel": {
            "namelength": 0
           },
           "hovertemplate": "Country_or_Area=Namibia<br>Year=1999<br>GDP_Per_Capita(USD)=%{x}<br>Mortality_Rate(%)=%{y}<br>Population(mn)=%{marker.size}",
           "legendgroup": "Country_or_Area=Namibia",
           "marker": {
            "color": "#B6E880",
            "size": [
             1.8580419999999997
            ],
            "sizemode": "area",
            "sizeref": 0.2483606316444444,
            "symbol": "circle"
           },
           "mode": "markers",
           "name": "Country_or_Area=Namibia",
           "showlegend": true,
           "type": "scatter",
           "x": [
            2055.370302
           ],
           "xaxis": "x",
           "y": [
            7.34
           ],
           "yaxis": "y"
          },
          {
           "hoverlabel": {
            "namelength": 0
           },
           "hovertemplate": "Country_or_Area=Nigeria<br>Year=1999<br>GDP_Per_Capita(USD)=%{x}<br>Mortality_Rate(%)=%{y}<br>Population(mn)=%{marker.size}",
           "legendgroup": "Country_or_Area=Nigeria",
           "marker": {
            "color": "#FF97FF",
            "size": [
             119.327073
            ],
            "sizemode": "area",
            "sizeref": 0.2483606316444444,
            "symbol": "circle"
           },
           "mode": "markers",
           "name": "Country_or_Area=Nigeria",
           "showlegend": true,
           "type": "scatter",
           "x": [
            483.3972478
           ],
           "xaxis": "x",
           "y": [
            19.28
           ],
           "yaxis": "y"
          },
          {
           "hoverlabel": {
            "namelength": 0
           },
           "hovertemplate": "Country_or_Area=Thailand<br>Year=1999<br>GDP_Per_Capita(USD)=%{x}<br>Mortality_Rate(%)=%{y}<br>Population(mn)=%{marker.size}",
           "legendgroup": "Country_or_Area=Thailand",
           "marker": {
            "color": "#636efa",
            "size": [
             62.306651
            ],
            "sizemode": "area",
            "sizeref": 0.2483606316444444,
            "symbol": "circle"
           },
           "mode": "markers",
           "name": "Country_or_Area=Thailand",
           "showlegend": true,
           "type": "scatter",
           "x": [
            2032.994521
           ],
           "xaxis": "x",
           "y": [
            2.42
           ],
           "yaxis": "y"
          },
          {
           "hoverlabel": {
            "namelength": 0
           },
           "hovertemplate": "Country_or_Area=France<br>Year=1999<br>GDP_Per_Capita(USD)=%{x}<br>Mortality_Rate(%)=%{y}<br>Population(mn)=%{marker.size}",
           "legendgroup": "Country_or_Area=France",
           "marker": {
            "color": "#EF553B",
            "size": [
             59.316106999999995
            ],
            "sizemode": "area",
            "sizeref": 0.2483606316444444,
            "symbol": "circle"
           },
           "mode": "markers",
           "name": "Country_or_Area=France",
           "showlegend": true,
           "type": "scatter",
           "x": [
            24410.33825
           ],
           "xaxis": "x",
           "y": [
            0.55
           ],
           "yaxis": "y"
          },
          {
           "hoverlabel": {
            "namelength": 0
           },
           "hovertemplate": "Country_or_Area=Germany<br>Year=1999<br>GDP_Per_Capita(USD)=%{x}<br>Mortality_Rate(%)=%{y}<br>Population(mn)=%{marker.size}",
           "legendgroup": "Country_or_Area=Germany",
           "marker": {
            "color": "#00cc96",
            "size": [
             81.481612
            ],
            "sizemode": "area",
            "sizeref": 0.2483606316444444,
            "symbol": "circle"
           },
           "mode": "markers",
           "name": "Country_or_Area=Germany",
           "showlegend": true,
           "type": "scatter",
           "x": [
            26998.64915
           ],
           "xaxis": "x",
           "y": [
            0.55
           ],
           "yaxis": "y"
          },
          {
           "hoverlabel": {
            "namelength": 0
           },
           "hovertemplate": "Country_or_Area=Mexico<br>Year=1999<br>GDP_Per_Capita(USD)=%{x}<br>Mortality_Rate(%)=%{y}<br>Population(mn)=%{marker.size}",
           "legendgroup": "Country_or_Area=Mexico",
           "marker": {
            "color": "#ab63fa",
            "size": [
             100.300579
            ],
            "sizemode": "area",
            "sizeref": 0.2483606316444444,
            "symbol": "circle"
           },
           "mode": "markers",
           "name": "Country_or_Area=Mexico",
           "showlegend": true,
           "type": "scatter",
           "x": [
            5984.342633
           ],
           "xaxis": "x",
           "y": [
            2.84
           ],
           "yaxis": "y"
          }
         ],
         "name": "1999"
        },
        {
         "data": [
          {
           "hoverlabel": {
            "namelength": 0
           },
           "hovertemplate": "Country_or_Area=Afghanistan<br>Year=2000<br>GDP_Per_Capita(USD)=%{x}<br>Mortality_Rate(%)=%{y}<br>Population(mn)=%{marker.size}",
           "legendgroup": "Country_or_Area=Afghanistan",
           "marker": {
            "color": "#636efa",
            "size": [
             20.093756
            ],
            "sizemode": "area",
            "sizeref": 0.2483606316444444,
            "symbol": "circle"
           },
           "mode": "markers",
           "name": "Country_or_Area=Afghanistan",
           "showlegend": true,
           "type": "scatter",
           "x": [
            175.76949530000002
           ],
           "xaxis": "x",
           "y": [
            12.97
           ],
           "yaxis": "y"
          },
          {
           "hoverlabel": {
            "namelength": 0
           },
           "hovertemplate": "Country_or_Area=China<br>Year=2000<br>GDP_Per_Capita(USD)=%{x}<br>Mortality_Rate(%)=%{y}<br>Population(mn)=%{marker.size}",
           "legendgroup": "Country_or_Area=China",
           "marker": {
            "color": "#EF553B",
            "size": [
             1283.19897
            ],
            "sizemode": "area",
            "sizeref": 0.2483606316444444,
            "symbol": "circle"
           },
           "mode": "markers",
           "name": "Country_or_Area=China",
           "showlegend": true,
           "type": "scatter",
           "x": [
            943.9932401000001
           ],
           "xaxis": "x",
           "y": [
            3.69
           ],
           "yaxis": "y"
          },
          {
           "hoverlabel": {
            "namelength": 0
           },
           "hovertemplate": "Country_or_Area=India<br>Year=2000<br>GDP_Per_Capita(USD)=%{x}<br>Mortality_Rate(%)=%{y}<br>Population(mn)=%{marker.size}",
           "legendgroup": "Country_or_Area=India",
           "marker": {
            "color": "#00cc96",
            "size": [
             1053.050912
            ],
            "sizemode": "area",
            "sizeref": 0.2483606316444444,
            "symbol": "circle"
           },
           "mode": "markers",
           "name": "Country_or_Area=India",
           "showlegend": true,
           "type": "scatter",
           "x": [
            436.565751
           ],
           "xaxis": "x",
           "y": [
            9.15
           ],
           "yaxis": "y"
          },
          {
           "hoverlabel": {
            "namelength": 0
           },
           "hovertemplate": "Country_or_Area=United States<br>Year=2000<br>GDP_Per_Capita(USD)=%{x}<br>Mortality_Rate(%)=%{y}<br>Population(mn)=%{marker.size}",
           "legendgroup": "Country_or_Area=United States",
           "marker": {
            "color": "#ab63fa",
            "size": [
             281.982778
            ],
            "sizemode": "area",
            "sizeref": 0.2483606316444444,
            "symbol": "circle"
           },
           "mode": "markers",
           "name": "Country_or_Area=United States",
           "showlegend": true,
           "type": "scatter",
           "x": [
            36358.06085
           ],
           "xaxis": "x",
           "y": [
            0.84
           ],
           "yaxis": "y"
          },
          {
           "hoverlabel": {
            "namelength": 0
           },
           "hovertemplate": "Country_or_Area=United Kingdom<br>Year=2000<br>GDP_Per_Capita(USD)=%{x}<br>Mortality_Rate(%)=%{y}<br>Population(mn)=%{marker.size}",
           "legendgroup": "Country_or_Area=United Kingdom",
           "marker": {
            "color": "#FFA15A",
            "size": [
             58.950848
            ],
            "sizemode": "area",
            "sizeref": 0.2483606316444444,
            "symbol": "circle"
           },
           "mode": "markers",
           "name": "Country_or_Area=United Kingdom",
           "showlegend": true,
           "type": "scatter",
           "x": [
            27958.751889999996
           ],
           "xaxis": "x",
           "y": [
            0.65
           ],
           "yaxis": "y"
          },
          {
           "hoverlabel": {
            "namelength": 0
           },
           "hovertemplate": "Country_or_Area=Brazil<br>Year=2000<br>GDP_Per_Capita(USD)=%{x}<br>Mortality_Rate(%)=%{y}<br>Population(mn)=%{marker.size}",
           "legendgroup": "Country_or_Area=Brazil",
           "marker": {
            "color": "#19d3f3",
            "size": [
             175.287587
            ],
            "sizemode": "area",
            "sizeref": 0.2483606316444444,
            "symbol": "circle"
           },
           "mode": "markers",
           "name": "Country_or_Area=Brazil",
           "showlegend": true,
           "type": "scatter",
           "x": [
            3721.655958
           ],
           "xaxis": "x",
           "y": [
            3.58
           ],
           "yaxis": "y"
          },
          {
           "hoverlabel": {
            "namelength": 0
           },
           "hovertemplate": "Country_or_Area=Zimbabwe<br>Year=2000<br>GDP_Per_Capita(USD)=%{x}<br>Mortality_Rate(%)=%{y}<br>Population(mn)=%{marker.size}",
           "legendgroup": "Country_or_Area=Zimbabwe",
           "marker": {
            "color": "#FF6692",
            "size": [
             12.222251
            ],
            "sizemode": "area",
            "sizeref": 0.2483606316444444,
            "symbol": "circle"
           },
           "mode": "markers",
           "name": "Country_or_Area=Zimbabwe",
           "showlegend": true,
           "type": "scatter",
           "x": [
            617.6112731000001
           ],
           "xaxis": "x",
           "y": [
            9.68
           ],
           "yaxis": "y"
          },
          {
           "hoverlabel": {
            "namelength": 0
           },
           "hovertemplate": "Country_or_Area=Namibia<br>Year=2000<br>GDP_Per_Capita(USD)=%{x}<br>Mortality_Rate(%)=%{y}<br>Population(mn)=%{marker.size}",
           "legendgroup": "Country_or_Area=Namibia",
           "marker": {
            "color": "#B6E880",
            "size": [
             1.899257
            ],
            "sizemode": "area",
            "sizeref": 0.2483606316444444,
            "symbol": "circle"
           },
           "mode": "markers",
           "name": "Country_or_Area=Namibia",
           "showlegend": true,
           "type": "scatter",
           "x": [
            2018.672593
           ],
           "xaxis": "x",
           "y": [
            7.46
           ],
           "yaxis": "y"
          },
          {
           "hoverlabel": {
            "namelength": 0
           },
           "hovertemplate": "Country_or_Area=Nigeria<br>Year=2000<br>GDP_Per_Capita(USD)=%{x}<br>Mortality_Rate(%)=%{y}<br>Population(mn)=%{marker.size}",
           "legendgroup": "Country_or_Area=Nigeria",
           "marker": {
            "color": "#FF97FF",
            "size": [
             122.35200900000001
            ],
            "sizemode": "area",
            "sizeref": 0.2483606316444444,
            "symbol": "circle"
           },
           "mode": "markers",
           "name": "Country_or_Area=Nigeria",
           "showlegend": true,
           "type": "scatter",
           "x": [
            609.6463326
           ],
           "xaxis": "x",
           "y": [
            18.74
           ],
           "yaxis": "y"
          },
          {
           "hoverlabel": {
            "namelength": 0
           },
           "hovertemplate": "Country_or_Area=Thailand<br>Year=2000<br>GDP_Per_Capita(USD)=%{x}<br>Mortality_Rate(%)=%{y}<br>Population(mn)=%{marker.size}",
           "legendgroup": "Country_or_Area=Thailand",
           "marker": {
            "color": "#636efa",
            "size": [
             62.958020999999995
            ],
            "sizemode": "area",
            "sizeref": 0.2483606316444444,
            "symbol": "circle"
           },
           "mode": "markers",
           "name": "Country_or_Area=Thailand",
           "showlegend": true,
           "type": "scatter",
           "x": [
            2007.5646600000002
           ],
           "xaxis": "x",
           "y": [
            2.31
           ],
           "yaxis": "y"
          },
          {
           "hoverlabel": {
            "namelength": 0
           },
           "hovertemplate": "Country_or_Area=France<br>Year=2000<br>GDP_Per_Capita(USD)=%{x}<br>Mortality_Rate(%)=%{y}<br>Population(mn)=%{marker.size}",
           "legendgroup": "Country_or_Area=France",
           "marker": {
            "color": "#EF553B",
            "size": [
             59.608201
            ],
            "sizemode": "area",
            "sizeref": 0.2483606316444444,
            "symbol": "circle"
           },
           "mode": "markers",
           "name": "Country_or_Area=France",
           "showlegend": true,
           "type": "scatter",
           "x": [
            22161.16205
           ],
           "xaxis": "x",
           "y": [
            0.54
           ],
           "yaxis": "y"
          },
          {
           "hoverlabel": {
            "namelength": 0
           },
           "hovertemplate": "Country_or_Area=Germany<br>Year=2000<br>GDP_Per_Capita(USD)=%{x}<br>Mortality_Rate(%)=%{y}<br>Population(mn)=%{marker.size}",
           "legendgroup": "Country_or_Area=Germany",
           "marker": {
            "color": "#00cc96",
            "size": [
             81.48775699999999
            ],
            "sizemode": "area",
            "sizeref": 0.2483606316444444,
            "symbol": "circle"
           },
           "mode": "markers",
           "name": "Country_or_Area=Germany",
           "showlegend": true,
           "type": "scatter",
           "x": [
            23929.39147
           ],
           "xaxis": "x",
           "y": [
            0.54
           ],
           "yaxis": "y"
          },
          {
           "hoverlabel": {
            "namelength": 0
           },
           "hovertemplate": "Country_or_Area=Mexico<br>Year=2000<br>GDP_Per_Capita(USD)=%{x}<br>Mortality_Rate(%)=%{y}<br>Population(mn)=%{marker.size}",
           "legendgroup": "Country_or_Area=Mexico",
           "marker": {
            "color": "#ab63fa",
            "size": [
             101.719673
            ],
            "sizemode": "area",
            "sizeref": 0.2483606316444444,
            "symbol": "circle"
           },
           "mode": "markers",
           "name": "Country_or_Area=Mexico",
           "showlegend": true,
           "type": "scatter",
           "x": [
            6959.419384000001
           ],
           "xaxis": "x",
           "y": [
            2.68
           ],
           "yaxis": "y"
          }
         ],
         "name": "2000"
        },
        {
         "data": [
          {
           "hoverlabel": {
            "namelength": 0
           },
           "hovertemplate": "Country_or_Area=Afghanistan<br>Year=2001<br>GDP_Per_Capita(USD)=%{x}<br>Mortality_Rate(%)=%{y}<br>Population(mn)=%{marker.size}",
           "legendgroup": "Country_or_Area=Afghanistan",
           "marker": {
            "color": "#636efa",
            "size": [
             20.966463
            ],
            "sizemode": "area",
            "sizeref": 0.2483606316444444,
            "symbol": "circle"
           },
           "mode": "markers",
           "name": "Country_or_Area=Afghanistan",
           "showlegend": true,
           "type": "scatter",
           "x": [
            172.681737
           ],
           "xaxis": "x",
           "y": [
            12.6
           ],
           "yaxis": "y"
          },
          {
           "hoverlabel": {
            "namelength": 0
           },
           "hovertemplate": "Country_or_Area=China<br>Year=2001<br>GDP_Per_Capita(USD)=%{x}<br>Mortality_Rate(%)=%{y}<br>Population(mn)=%{marker.size}",
           "legendgroup": "Country_or_Area=China",
           "marker": {
            "color": "#EF553B",
            "size": [
             1290.937649
            ],
            "sizemode": "area",
            "sizeref": 0.2483606316444444,
            "symbol": "circle"
           },
           "mode": "markers",
           "name": "Country_or_Area=China",
           "showlegend": true,
           "type": "scatter",
           "x": [
            1037.540865
           ],
           "xaxis": "x",
           "y": [
            3.43
           ],
           "yaxis": "y"
          },
          {
           "hoverlabel": {
            "namelength": 0
           },
           "hovertemplate": "Country_or_Area=India<br>Year=2001<br>GDP_Per_Capita(USD)=%{x}<br>Mortality_Rate(%)=%{y}<br>Population(mn)=%{marker.size}",
           "legendgroup": "Country_or_Area=India",
           "marker": {
            "color": "#00cc96",
            "size": [
             1071.477855
            ],
            "sizemode": "area",
            "sizeref": 0.2483606316444444,
            "symbol": "circle"
           },
           "mode": "markers",
           "name": "Country_or_Area=India",
           "showlegend": true,
           "type": "scatter",
           "x": [
            442.9809845
           ],
           "xaxis": "x",
           "y": [
            8.79
           ],
           "yaxis": "y"
          },
          {
           "hoverlabel": {
            "namelength": 0
           },
           "hovertemplate": "Country_or_Area=United States<br>Year=2001<br>GDP_Per_Capita(USD)=%{x}<br>Mortality_Rate(%)=%{y}<br>Population(mn)=%{marker.size}",
           "legendgroup": "Country_or_Area=United States",
           "marker": {
            "color": "#ab63fa",
            "size": [
             284.852391
            ],
            "sizemode": "area",
            "sizeref": 0.2483606316444444,
            "symbol": "circle"
           },
           "mode": "markers",
           "name": "Country_or_Area=United States",
           "showlegend": true,
           "type": "scatter",
           "x": [
            37148.44015
           ],
           "xaxis": "x",
           "y": [
            0.83
           ],
           "yaxis": "y"
          },
          {
           "hoverlabel": {
            "namelength": 0
           },
           "hovertemplate": "Country_or_Area=United Kingdom<br>Year=2001<br>GDP_Per_Capita(USD)=%{x}<br>Mortality_Rate(%)=%{y}<br>Population(mn)=%{marker.size}",
           "legendgroup": "Country_or_Area=United Kingdom",
           "marker": {
            "color": "#FFA15A",
            "size": [
             59.149343
            ],
            "sizemode": "area",
            "sizeref": 0.2483606316444444,
            "symbol": "circle"
           },
           "mode": "markers",
           "name": "Country_or_Area=United Kingdom",
           "showlegend": true,
           "type": "scatter",
           "x": [
            27488.131960000002
           ],
           "xaxis": "x",
           "y": [
            0.64
           ],
           "yaxis": "y"
          },
          {
           "hoverlabel": {
            "namelength": 0
           },
           "hovertemplate": "Country_or_Area=Brazil<br>Year=2001<br>GDP_Per_Capita(USD)=%{x}<br>Mortality_Rate(%)=%{y}<br>Population(mn)=%{marker.size}",
           "legendgroup": "Country_or_Area=Brazil",
           "marker": {
            "color": "#19d3f3",
            "size": [
             177.75066999999999
            ],
            "sizemode": "area",
            "sizeref": 0.2483606316444444,
            "symbol": "circle"
           },
           "mode": "markers",
           "name": "Country_or_Area=Brazil",
           "showlegend": true,
           "type": "scatter",
           "x": [
            3154.681631
           ],
           "xaxis": "x",
           "y": [
            3.36
           ],
           "yaxis": "y"
          },
          {
           "hoverlabel": {
            "namelength": 0
           },
           "hovertemplate": "Country_or_Area=Zimbabwe<br>Year=2001<br>GDP_Per_Capita(USD)=%{x}<br>Mortality_Rate(%)=%{y}<br>Population(mn)=%{marker.size}",
           "legendgroup": "Country_or_Area=Zimbabwe",
           "marker": {
            "color": "#FF6692",
            "size": [
             12.366164999999999
            ],
            "sizemode": "area",
            "sizeref": 0.2483606316444444,
            "symbol": "circle"
           },
           "mode": "markers",
           "name": "Country_or_Area=Zimbabwe",
           "showlegend": true,
           "type": "scatter",
           "x": [
            606.1297096
           ],
           "xaxis": "x",
           "y": [
            9.71
           ],
           "yaxis": "y"
          },
          {
           "hoverlabel": {
            "namelength": 0
           },
           "hovertemplate": "Country_or_Area=Namibia<br>Year=2001<br>GDP_Per_Capita(USD)=%{x}<br>Mortality_Rate(%)=%{y}<br>Population(mn)=%{marker.size}",
           "legendgroup": "Country_or_Area=Namibia",
           "marker": {
            "color": "#B6E880",
            "size": [
             1.9335959999999999
            ],
            "sizemode": "area",
            "sizeref": 0.2483606316444444,
            "symbol": "circle"
           },
           "mode": "markers",
           "name": "Country_or_Area=Namibia",
           "showlegend": true,
           "type": "scatter",
           "x": [
            1797.9247899999998
           ],
           "xaxis": "x",
           "y": [
            7.52
           ],
           "yaxis": "y"
          },
          {
           "hoverlabel": {
            "namelength": 0
           },
           "hovertemplate": "Country_or_Area=Nigeria<br>Year=2001<br>GDP_Per_Capita(USD)=%{x}<br>Mortality_Rate(%)=%{y}<br>Population(mn)=%{marker.size}",
           "legendgroup": "Country_or_Area=Nigeria",
           "marker": {
            "color": "#FF97FF",
            "size": [
             125.463434
            ],
            "sizemode": "area",
            "sizeref": 0.2483606316444444,
            "symbol": "circle"
           },
           "mode": "markers",
           "name": "Country_or_Area=Nigeria",
           "showlegend": true,
           "type": "scatter",
           "x": [
            565.7151409
           ],
           "xaxis": "x",
           "y": [
            18.17
           ],
           "yaxis": "y"
          },
          {
           "hoverlabel": {
            "namelength": 0
           },
           "hovertemplate": "Country_or_Area=Thailand<br>Year=2001<br>GDP_Per_Capita(USD)=%{x}<br>Mortality_Rate(%)=%{y}<br>Population(mn)=%{marker.size}",
           "legendgroup": "Country_or_Area=Thailand",
           "marker": {
            "color": "#636efa",
            "size": [
             63.543321999999996
            ],
            "sizemode": "area",
            "sizeref": 0.2483606316444444,
            "symbol": "circle"
           },
           "mode": "markers",
           "name": "Country_or_Area=Thailand",
           "showlegend": true,
           "type": "scatter",
           "x": [
            1893.145377
           ],
           "xaxis": "x",
           "y": [
            2.2
           ],
           "yaxis": "y"
          },
          {
           "hoverlabel": {
            "namelength": 0
           },
           "hovertemplate": "Country_or_Area=France<br>Year=2001<br>GDP_Per_Capita(USD)=%{x}<br>Mortality_Rate(%)=%{y}<br>Population(mn)=%{marker.size}",
           "legendgroup": "Country_or_Area=France",
           "marker": {
            "color": "#EF553B",
            "size": [
             59.911252000000005
            ],
            "sizemode": "area",
            "sizeref": 0.2483606316444444,
            "symbol": "circle"
           },
           "mode": "markers",
           "name": "Country_or_Area=France",
           "showlegend": true,
           "type": "scatter",
           "x": [
            22271.09764
           ],
           "xaxis": "x",
           "y": [
            0.52
           ],
           "yaxis": "y"
          },
          {
           "hoverlabel": {
            "namelength": 0
           },
           "hovertemplate": "Country_or_Area=Germany<br>Year=2001<br>GDP_Per_Capita(USD)=%{x}<br>Mortality_Rate(%)=%{y}<br>Population(mn)=%{marker.size}",
           "legendgroup": "Country_or_Area=Germany",
           "marker": {
            "color": "#00cc96",
            "size": [
             81.535848
            ],
            "sizemode": "area",
            "sizeref": 0.2483606316444444,
            "symbol": "circle"
           },
           "mode": "markers",
           "name": "Country_or_Area=Germany",
           "showlegend": true,
           "type": "scatter",
           "x": [
            23923.60369
           ],
           "xaxis": "x",
           "y": [
            0.52
           ],
           "yaxis": "y"
          },
          {
           "hoverlabel": {
            "namelength": 0
           },
           "hovertemplate": "Country_or_Area=Mexico<br>Year=2001<br>GDP_Per_Capita(USD)=%{x}<br>Mortality_Rate(%)=%{y}<br>Population(mn)=%{marker.size}",
           "legendgroup": "Country_or_Area=Mexico",
           "marker": {
            "color": "#ab63fa",
            "size": [
             103.067068
            ],
            "sizemode": "area",
            "sizeref": 0.2483606316444444,
            "symbol": "circle"
           },
           "mode": "markers",
           "name": "Country_or_Area=Mexico",
           "showlegend": true,
           "type": "scatter",
           "x": [
            7341.849733
           ],
           "xaxis": "x",
           "y": [
            2.53
           ],
           "yaxis": "y"
          }
         ],
         "name": "2001"
        },
        {
         "data": [
          {
           "hoverlabel": {
            "namelength": 0
           },
           "hovertemplate": "Country_or_Area=Afghanistan<br>Year=2002<br>GDP_Per_Capita(USD)=%{x}<br>Mortality_Rate(%)=%{y}<br>Population(mn)=%{marker.size}",
           "legendgroup": "Country_or_Area=Afghanistan",
           "marker": {
            "color": "#636efa",
            "size": [
             21.979923
            ],
            "sizemode": "area",
            "sizeref": 0.2483606316444444,
            "symbol": "circle"
           },
           "mode": "markers",
           "name": "Country_or_Area=Afghanistan",
           "showlegend": true,
           "type": "scatter",
           "x": [
            194.95934430000003
           ],
           "xaxis": "x",
           "y": [
            12.22
           ],
           "yaxis": "y"
          },
          {
           "hoverlabel": {
            "namelength": 0
           },
           "hovertemplate": "Country_or_Area=China<br>Year=2002<br>GDP_Per_Capita(USD)=%{x}<br>Mortality_Rate(%)=%{y}<br>Population(mn)=%{marker.size}",
           "legendgroup": "Country_or_Area=China",
           "marker": {
            "color": "#EF553B",
            "size": [
             1298.646577
            ],
            "sizemode": "area",
            "sizeref": 0.2483606316444444,
            "symbol": "circle"
           },
           "mode": "markers",
           "name": "Country_or_Area=China",
           "showlegend": true,
           "type": "scatter",
           "x": [
            1132.376809
           ],
           "xaxis": "x",
           "y": [
            3.16
           ],
           "yaxis": "y"
          },
          {
           "hoverlabel": {
            "namelength": 0
           },
           "hovertemplate": "Country_or_Area=India<br>Year=2002<br>GDP_Per_Capita(USD)=%{x}<br>Mortality_Rate(%)=%{y}<br>Population(mn)=%{marker.size}",
           "legendgroup": "Country_or_Area=India",
           "marker": {
            "color": "#00cc96",
            "size": [
             1089.807112
            ],
            "sizemode": "area",
            "sizeref": 0.2483606316444444,
            "symbol": "circle"
           },
           "mode": "markers",
           "name": "Country_or_Area=India",
           "showlegend": true,
           "type": "scatter",
           "x": [
            455.35034749999994
           ],
           "xaxis": "x",
           "y": [
            8.44
           ],
           "yaxis": "y"
          },
          {
           "hoverlabel": {
            "namelength": 0
           },
           "hovertemplate": "Country_or_Area=United States<br>Year=2002<br>GDP_Per_Capita(USD)=%{x}<br>Mortality_Rate(%)=%{y}<br>Population(mn)=%{marker.size}",
           "legendgroup": "Country_or_Area=United States",
           "marker": {
            "color": "#ab63fa",
            "size": [
             287.506847
            ],
            "sizemode": "area",
            "sizeref": 0.2483606316444444,
            "symbol": "circle"
           },
           "mode": "markers",
           "name": "Country_or_Area=United States",
           "showlegend": true,
           "type": "scatter",
           "x": [
            38038.808860000005
           ],
           "xaxis": "x",
           "y": [
            0.82
           ],
           "yaxis": "y"
          },
          {
           "hoverlabel": {
            "namelength": 0
           },
           "hovertemplate": "Country_or_Area=United Kingdom<br>Year=2002<br>GDP_Per_Capita(USD)=%{x}<br>Mortality_Rate(%)=%{y}<br>Population(mn)=%{marker.size}",
           "legendgroup": "Country_or_Area=United Kingdom",
           "marker": {
            "color": "#FFA15A",
            "size": [
             59.348953
            ],
            "sizemode": "area",
            "sizeref": 0.2483606316444444,
            "symbol": "circle"
           },
           "mode": "markers",
           "name": "Country_or_Area=United Kingdom",
           "showlegend": true,
           "type": "scatter",
           "x": [
            29873.375930000002
           ],
           "xaxis": "x",
           "y": [
            0.63
           ],
           "yaxis": "y"
          },
          {
           "hoverlabel": {
            "namelength": 0
           },
           "hovertemplate": "Country_or_Area=Brazil<br>Year=2002<br>GDP_Per_Capita(USD)=%{x}<br>Mortality_Rate(%)=%{y}<br>Population(mn)=%{marker.size}",
           "legendgroup": "Country_or_Area=Brazil",
           "marker": {
            "color": "#19d3f3",
            "size": [
             180.151021
            ],
            "sizemode": "area",
            "sizeref": 0.2483606316444444,
            "symbol": "circle"
           },
           "mode": "markers",
           "name": "Country_or_Area=Brazil",
           "showlegend": true,
           "type": "scatter",
           "x": [
            2842.227202
           ],
           "xaxis": "x",
           "y": [
            3.15
           ],
           "yaxis": "y"
          },
          {
           "hoverlabel": {
            "namelength": 0
           },
           "hovertemplate": "Country_or_Area=Zimbabwe<br>Year=2002<br>GDP_Per_Capita(USD)=%{x}<br>Mortality_Rate(%)=%{y}<br>Population(mn)=%{marker.size}",
           "legendgroup": "Country_or_Area=Zimbabwe",
           "marker": {
            "color": "#FF6692",
            "size": [
             12.500525
            ],
            "sizemode": "area",
            "sizeref": 0.2483606316444444,
            "symbol": "circle"
           },
           "mode": "markers",
           "name": "Country_or_Area=Zimbabwe",
           "showlegend": true,
           "type": "scatter",
           "x": [
            568.8881067000001
           ],
           "xaxis": "x",
           "y": [
            9.77
           ],
           "yaxis": "y"
          },
          {
           "hoverlabel": {
            "namelength": 0
           },
           "hovertemplate": "Country_or_Area=Namibia<br>Year=2002<br>GDP_Per_Capita(USD)=%{x}<br>Mortality_Rate(%)=%{y}<br>Population(mn)=%{marker.size}",
           "legendgroup": "Country_or_Area=Namibia",
           "marker": {
            "color": "#B6E880",
            "size": [
             1.962147
            ],
            "sizemode": "area",
            "sizeref": 0.2483606316444444,
            "symbol": "circle"
           },
           "mode": "markers",
           "name": "Country_or_Area=Namibia",
           "showlegend": true,
           "type": "scatter",
           "x": [
            1669.424049
           ],
           "xaxis": "x",
           "y": [
            7.55
           ],
           "yaxis": "y"
          },
          {
           "hoverlabel": {
            "namelength": 0
           },
           "hovertemplate": "Country_or_Area=Nigeria<br>Year=2002<br>GDP_Per_Capita(USD)=%{x}<br>Mortality_Rate(%)=%{y}<br>Population(mn)=%{marker.size}",
           "legendgroup": "Country_or_Area=Nigeria",
           "marker": {
            "color": "#FF97FF",
            "size": [
             128.66671000000002
            ],
            "sizemode": "area",
            "sizeref": 0.2483606316444444,
            "symbol": "circle"
           },
           "mode": "markers",
           "name": "Country_or_Area=Nigeria",
           "showlegend": true,
           "type": "scatter",
           "x": [
            738.8349077
           ],
           "xaxis": "x",
           "y": [
            17.59
           ],
           "yaxis": "y"
          },
          {
           "hoverlabel": {
            "namelength": 0
           },
           "hovertemplate": "Country_or_Area=Thailand<br>Year=2002<br>GDP_Per_Capita(USD)=%{x}<br>Mortality_Rate(%)=%{y}<br>Population(mn)=%{marker.size}",
           "legendgroup": "Country_or_Area=Thailand",
           "marker": {
            "color": "#636efa",
            "size": [
             64.073164
            ],
            "sizemode": "area",
            "sizeref": 0.2483606316444444,
            "symbol": "circle"
           },
           "mode": "markers",
           "name": "Country_or_Area=Thailand",
           "showlegend": true,
           "type": "scatter",
           "x": [
            2096.0554309999998
           ],
           "xaxis": "x",
           "y": [
            2.1
           ],
           "yaxis": "y"
          },
          {
           "hoverlabel": {
            "namelength": 0
           },
           "hovertemplate": "Country_or_Area=France<br>Year=2002<br>GDP_Per_Capita(USD)=%{x}<br>Mortality_Rate(%)=%{y}<br>Population(mn)=%{marker.size}",
           "legendgroup": "Country_or_Area=France",
           "marker": {
            "color": "#EF553B",
            "size": [
             60.225076
            ],
            "sizemode": "area",
            "sizeref": 0.2483606316444444,
            "symbol": "circle"
           },
           "mode": "markers",
           "name": "Country_or_Area=France",
           "showlegend": true,
           "type": "scatter",
           "x": [
            24044.59809
           ],
           "xaxis": "x",
           "y": [
            0.51
           ],
           "yaxis": "y"
          },
          {
           "hoverlabel": {
            "namelength": 0
           },
           "hovertemplate": "Country_or_Area=Germany<br>Year=2002<br>GDP_Per_Capita(USD)=%{x}<br>Mortality_Rate(%)=%{y}<br>Population(mn)=%{marker.size}",
           "legendgroup": "Country_or_Area=Germany",
           "marker": {
            "color": "#00cc96",
            "size": [
             81.611868
            ],
            "sizemode": "area",
            "sizeref": 0.2483606316444444,
            "symbol": "circle"
           },
           "mode": "markers",
           "name": "Country_or_Area=Germany",
           "showlegend": true,
           "type": "scatter",
           "x": [
            25477.06244
           ],
           "xaxis": "x",
           "y": [
            0.51
           ],
           "yaxis": "y"
          },
          {
           "hoverlabel": {
            "namelength": 0
           },
           "hovertemplate": "Country_or_Area=Mexico<br>Year=2002<br>GDP_Per_Capita(USD)=%{x}<br>Mortality_Rate(%)=%{y}<br>Population(mn)=%{marker.size}",
           "legendgroup": "Country_or_Area=Mexico",
           "marker": {
            "color": "#ab63fa",
            "size": [
             104.35560799999999
            ],
            "sizemode": "area",
            "sizeref": 0.2483606316444444,
            "symbol": "circle"
           },
           "mode": "markers",
           "name": "Country_or_Area=Mexico",
           "showlegend": true,
           "type": "scatter",
           "x": [
            7398.832947
           ],
           "xaxis": "x",
           "y": [
            2.39
           ],
           "yaxis": "y"
          }
         ],
         "name": "2002"
        },
        {
         "data": [
          {
           "hoverlabel": {
            "namelength": 0
           },
           "hovertemplate": "Country_or_Area=Afghanistan<br>Year=2003<br>GDP_Per_Capita(USD)=%{x}<br>Mortality_Rate(%)=%{y}<br>Population(mn)=%{marker.size}",
           "legendgroup": "Country_or_Area=Afghanistan",
           "marker": {
            "color": "#636efa",
            "size": [
             23.064851
            ],
            "sizemode": "area",
            "sizeref": 0.2483606316444444,
            "symbol": "circle"
           },
           "mode": "markers",
           "name": "Country_or_Area=Afghanistan",
           "showlegend": true,
           "type": "scatter",
           "x": [
            213.9857668
           ],
           "xaxis": "x",
           "y": [
            11.83
           ],
           "yaxis": "y"
          },
          {
           "hoverlabel": {
            "namelength": 0
           },
           "hovertemplate": "Country_or_Area=China<br>Year=2003<br>GDP_Per_Capita(USD)=%{x}<br>Mortality_Rate(%)=%{y}<br>Population(mn)=%{marker.size}",
           "legendgroup": "Country_or_Area=China",
           "marker": {
            "color": "#EF553B",
            "size": [
             1306.343911
            ],
            "sizemode": "area",
            "sizeref": 0.2483606316444444,
            "symbol": "circle"
           },
           "mode": "markers",
           "name": "Country_or_Area=China",
           "showlegend": true,
           "type": "scatter",
           "x": [
            1270.936524
           ],
           "xaxis": "x",
           "y": [
            2.89
           ],
           "yaxis": "y"
          },
          {
           "hoverlabel": {
            "namelength": 0
           },
           "hovertemplate": "Country_or_Area=India<br>Year=2003<br>GDP_Per_Capita(USD)=%{x}<br>Mortality_Rate(%)=%{y}<br>Population(mn)=%{marker.size}",
           "legendgroup": "Country_or_Area=India",
           "marker": {
            "color": "#00cc96",
            "size": [
             1108.027848
            ],
            "sizemode": "area",
            "sizeref": 0.2483606316444444,
            "symbol": "circle"
           },
           "mode": "markers",
           "name": "Country_or_Area=India",
           "showlegend": true,
           "type": "scatter",
           "x": [
            524.4824767
           ],
           "xaxis": "x",
           "y": [
            8.1
           ],
           "yaxis": "y"
          },
          {
           "hoverlabel": {
            "namelength": 0
           },
           "hovertemplate": "Country_or_Area=United States<br>Year=2003<br>GDP_Per_Capita(USD)=%{x}<br>Mortality_Rate(%)=%{y}<br>Population(mn)=%{marker.size}",
           "legendgroup": "Country_or_Area=United States",
           "marker": {
            "color": "#ab63fa",
            "size": [
             290.027624
            ],
            "sizemode": "area",
            "sizeref": 0.2483606316444444,
            "symbol": "circle"
           },
           "mode": "markers",
           "name": "Country_or_Area=United States",
           "showlegend": true,
           "type": "scatter",
           "x": [
            39507.42982
           ],
           "xaxis": "x",
           "y": [
            0.81
           ],
           "yaxis": "y"
          },
          {
           "hoverlabel": {
            "namelength": 0
           },
           "hovertemplate": "Country_or_Area=United Kingdom<br>Year=2003<br>GDP_Per_Capita(USD)=%{x}<br>Mortality_Rate(%)=%{y}<br>Population(mn)=%{marker.size}",
           "legendgroup": "Country_or_Area=United Kingdom",
           "marker": {
            "color": "#FFA15A",
            "size": [
             59.580222
            ],
            "sizemode": "area",
            "sizeref": 0.2483606316444444,
            "symbol": "circle"
           },
           "mode": "markers",
           "name": "Country_or_Area=United Kingdom",
           "showlegend": true,
           "type": "scatter",
           "x": [
            34305.404310000005
           ],
           "xaxis": "x",
           "y": [
            0.63
           ],
           "yaxis": "y"
          },
          {
           "hoverlabel": {
            "namelength": 0
           },
           "hovertemplate": "Country_or_Area=Brazil<br>Year=2003<br>GDP_Per_Capita(USD)=%{x}<br>Mortality_Rate(%)=%{y}<br>Population(mn)=%{marker.size}",
           "legendgroup": "Country_or_Area=Brazil",
           "marker": {
            "color": "#19d3f3",
            "size": [
             182.482149
            ],
            "sizemode": "area",
            "sizeref": 0.2483606316444444,
            "symbol": "circle"
           },
           "mode": "markers",
           "name": "Country_or_Area=Brazil",
           "showlegend": true,
           "type": "scatter",
           "x": [
            3062.8866980000003
           ],
           "xaxis": "x",
           "y": [
            2.96
           ],
           "yaxis": "y"
          },
          {
           "hoverlabel": {
            "namelength": 0
           },
           "hovertemplate": "Country_or_Area=Zimbabwe<br>Year=2003<br>GDP_Per_Capita(USD)=%{x}<br>Mortality_Rate(%)=%{y}<br>Population(mn)=%{marker.size}",
           "legendgroup": "Country_or_Area=Zimbabwe",
           "marker": {
            "color": "#FF6692",
            "size": [
             12.633897
            ],
            "sizemode": "area",
            "sizeref": 0.2483606316444444,
            "symbol": "circle"
           },
           "mode": "markers",
           "name": "Country_or_Area=Zimbabwe",
           "showlegend": true,
           "type": "scatter",
           "x": [
            530.746768
           ],
           "xaxis": "x",
           "y": [
            9.82
           ],
           "yaxis": "y"
          },
          {
           "hoverlabel": {
            "namelength": 0
           },
           "hovertemplate": "Country_or_Area=Namibia<br>Year=2003<br>GDP_Per_Capita(USD)=%{x}<br>Mortality_Rate(%)=%{y}<br>Population(mn)=%{marker.size}",
           "legendgroup": "Country_or_Area=Namibia",
           "marker": {
            "color": "#B6E880",
            "size": [
             1.986535
            ],
            "sizemode": "area",
            "sizeref": 0.2483606316444444,
            "symbol": "circle"
           },
           "mode": "markers",
           "name": "Country_or_Area=Namibia",
           "showlegend": true,
           "type": "scatter",
           "x": [
            2422.289439
           ],
           "xaxis": "x",
           "y": [
            7.53
           ],
           "yaxis": "y"
          },
          {
           "hoverlabel": {
            "namelength": 0
           },
           "hovertemplate": "Country_or_Area=Nigeria<br>Year=2003<br>GDP_Per_Capita(USD)=%{x}<br>Mortality_Rate(%)=%{y}<br>Population(mn)=%{marker.size}",
           "legendgroup": "Country_or_Area=Nigeria",
           "marker": {
            "color": "#FF97FF",
            "size": [
             131.972533
            ],
            "sizemode": "area",
            "sizeref": 0.2483606316444444,
            "symbol": "circle"
           },
           "mode": "markers",
           "name": "Country_or_Area=Nigeria",
           "showlegend": true,
           "type": "scatter",
           "x": [
            824.3733093
           ],
           "xaxis": "x",
           "y": [
            16.99
           ],
           "yaxis": "y"
          },
          {
           "hoverlabel": {
            "namelength": 0
           },
           "hovertemplate": "Country_or_Area=Thailand<br>Year=2003<br>GDP_Per_Capita(USD)=%{x}<br>Mortality_Rate(%)=%{y}<br>Population(mn)=%{marker.size}",
           "legendgroup": "Country_or_Area=Thailand",
           "marker": {
            "color": "#636efa",
            "size": [
             64.554952
            ],
            "sizemode": "area",
            "sizeref": 0.2483606316444444,
            "symbol": "circle"
           },
           "mode": "markers",
           "name": "Country_or_Area=Thailand",
           "showlegend": true,
           "type": "scatter",
           "x": [
            2358.929682
           ],
           "xaxis": "x",
           "y": [
            2.01
           ],
           "yaxis": "y"
          },
          {
           "hoverlabel": {
            "namelength": 0
           },
           "hovertemplate": "Country_or_Area=France<br>Year=2003<br>GDP_Per_Capita(USD)=%{x}<br>Mortality_Rate(%)=%{y}<br>Population(mn)=%{marker.size}",
           "legendgroup": "Country_or_Area=France",
           "marker": {
            "color": "#EF553B",
            "size": [
             60.550096999999994
            ],
            "sizemode": "area",
            "sizeref": 0.2483606316444444,
            "symbol": "circle"
           },
           "mode": "markers",
           "name": "Country_or_Area=France",
           "showlegend": true,
           "type": "scatter",
           "x": [
            29444.42804
           ],
           "xaxis": "x",
           "y": [
            0.49
           ],
           "yaxis": "y"
          },
          {
           "hoverlabel": {
            "namelength": 0
           },
           "hovertemplate": "Country_or_Area=Germany<br>Year=2003<br>GDP_Per_Capita(USD)=%{x}<br>Mortality_Rate(%)=%{y}<br>Population(mn)=%{marker.size}",
           "legendgroup": "Country_or_Area=Germany",
           "marker": {
            "color": "#00cc96",
            "size": [
             81.686495
            ],
            "sizemode": "area",
            "sizeref": 0.2483606316444444,
            "symbol": "circle"
           },
           "mode": "markers",
           "name": "Country_or_Area=Germany",
           "showlegend": true,
           "type": "scatter",
           "x": [
            30673.822030000003
           ],
           "xaxis": "x",
           "y": [
            0.5
           ],
           "yaxis": "y"
          },
          {
           "hoverlabel": {
            "namelength": 0
           },
           "hovertemplate": "Country_or_Area=Mexico<br>Year=2003<br>GDP_Per_Capita(USD)=%{x}<br>Mortality_Rate(%)=%{y}<br>Population(mn)=%{marker.size}",
           "legendgroup": "Country_or_Area=Mexico",
           "marker": {
            "color": "#ab63fa",
            "size": [
             105.64045300000001
            ],
            "sizemode": "area",
            "sizeref": 0.2483606316444444,
            "symbol": "circle"
           },
           "mode": "markers",
           "name": "Country_or_Area=Mexico",
           "showlegend": true,
           "type": "scatter",
           "x": [
            6903.936923
           ],
           "xaxis": "x",
           "y": [
            2.27
           ],
           "yaxis": "y"
          }
         ],
         "name": "2003"
        },
        {
         "data": [
          {
           "hoverlabel": {
            "namelength": 0
           },
           "hovertemplate": "Country_or_Area=Afghanistan<br>Year=2004<br>GDP_Per_Capita(USD)=%{x}<br>Mortality_Rate(%)=%{y}<br>Population(mn)=%{marker.size}",
           "legendgroup": "Country_or_Area=Afghanistan",
           "marker": {
            "color": "#636efa",
            "size": [
             24.118979
            ],
            "sizemode": "area",
            "sizeref": 0.2483606316444444,
            "symbol": "circle"
           },
           "mode": "markers",
           "name": "Country_or_Area=Afghanistan",
           "showlegend": true,
           "type": "scatter",
           "x": [
            231.6426452
           ],
           "xaxis": "x",
           "y": [
            11.44
           ],
           "yaxis": "y"
          },
          {
           "hoverlabel": {
            "namelength": 0
           },
           "hovertemplate": "Country_or_Area=China<br>Year=2004<br>GDP_Per_Capita(USD)=%{x}<br>Mortality_Rate(%)=%{y}<br>Population(mn)=%{marker.size}",
           "legendgroup": "Country_or_Area=China",
           "marker": {
            "color": "#EF553B",
            "size": [
             1314.007478
            ],
            "sizemode": "area",
            "sizeref": 0.2483606316444444,
            "symbol": "circle"
           },
           "mode": "markers",
           "name": "Country_or_Area=China",
           "showlegend": true,
           "type": "scatter",
           "x": [
            1488.079264
           ],
           "xaxis": "x",
           "y": [
            2.63
           ],
           "yaxis": "y"
          },
          {
           "hoverlabel": {
            "namelength": 0
           },
           "hovertemplate": "Country_or_Area=India<br>Year=2004<br>GDP_Per_Capita(USD)=%{x}<br>Mortality_Rate(%)=%{y}<br>Population(mn)=%{marker.size}",
           "legendgroup": "Country_or_Area=India",
           "marker": {
            "color": "#00cc96",
            "size": [
             1126.135777
            ],
            "sizemode": "area",
            "sizeref": 0.2483606316444444,
            "symbol": "circle"
           },
           "mode": "markers",
           "name": "Country_or_Area=India",
           "showlegend": true,
           "type": "scatter",
           "x": [
            624.3731640999999
           ],
           "xaxis": "x",
           "y": [
            7.77
           ],
           "yaxis": "y"
          },
          {
           "hoverlabel": {
            "namelength": 0
           },
           "hovertemplate": "Country_or_Area=United States<br>Year=2004<br>GDP_Per_Capita(USD)=%{x}<br>Mortality_Rate(%)=%{y}<br>Population(mn)=%{marker.size}",
           "legendgroup": "Country_or_Area=United States",
           "marker": {
            "color": "#ab63fa",
            "size": [
             292.539324
            ],
            "sizemode": "area",
            "sizeref": 0.2483606316444444,
            "symbol": "circle"
           },
           "mode": "markers",
           "name": "Country_or_Area=United States",
           "showlegend": true,
           "type": "scatter",
           "x": [
            41750.72887
           ],
           "xaxis": "x",
           "y": [
            0.81
           ],
           "yaxis": "y"
          },
          {
           "hoverlabel": {
            "namelength": 0
           },
           "hovertemplate": "Country_or_Area=United Kingdom<br>Year=2004<br>GDP_Per_Capita(USD)=%{x}<br>Mortality_Rate(%)=%{y}<br>Population(mn)=%{marker.size}",
           "legendgroup": "Country_or_Area=United Kingdom",
           "marker": {
            "color": "#FFA15A",
            "size": [
             59.884128000000004
            ],
            "sizemode": "area",
            "sizeref": 0.2483606316444444,
            "symbol": "circle"
           },
           "mode": "markers",
           "name": "Country_or_Area=United Kingdom",
           "showlegend": true,
           "type": "scatter",
           "x": [
            40139.21813
           ],
           "xaxis": "x",
           "y": [
            0.62
           ],
           "yaxis": "y"
          },
          {
           "hoverlabel": {
            "namelength": 0
           },
           "hovertemplate": "Country_or_Area=Brazil<br>Year=2004<br>GDP_Per_Capita(USD)=%{x}<br>Mortality_Rate(%)=%{y}<br>Population(mn)=%{marker.size}",
           "legendgroup": "Country_or_Area=Brazil",
           "marker": {
            "color": "#19d3f3",
            "size": [
             184.738458
            ],
            "sizemode": "area",
            "sizeref": 0.2483606316444444,
            "symbol": "circle"
           },
           "mode": "markers",
           "name": "Country_or_Area=Brazil",
           "showlegend": true,
           "type": "scatter",
           "x": [
            3622.901962
           ],
           "xaxis": "x",
           "y": [
            2.78
           ],
           "yaxis": "y"
          },
          {
           "hoverlabel": {
            "namelength": 0
           },
           "hovertemplate": "Country_or_Area=Zimbabwe<br>Year=2004<br>GDP_Per_Capita(USD)=%{x}<br>Mortality_Rate(%)=%{y}<br>Population(mn)=%{marker.size}",
           "legendgroup": "Country_or_Area=Zimbabwe",
           "marker": {
            "color": "#FF6692",
            "size": [
             12.777511
            ],
            "sizemode": "area",
            "sizeref": 0.2483606316444444,
            "symbol": "circle"
           },
           "mode": "markers",
           "name": "Country_or_Area=Zimbabwe",
           "showlegend": true,
           "type": "scatter",
           "x": [
            502.4139678
           ],
           "xaxis": "x",
           "y": [
            9.9
           ],
           "yaxis": "y"
          },
          {
           "hoverlabel": {
            "namelength": 0
           },
           "hovertemplate": "Country_or_Area=Namibia<br>Year=2004<br>GDP_Per_Capita(USD)=%{x}<br>Mortality_Rate(%)=%{y}<br>Population(mn)=%{marker.size}",
           "legendgroup": "Country_or_Area=Namibia",
           "marker": {
            "color": "#B6E880",
            "size": [
             2.009228
            ],
            "sizemode": "area",
            "sizeref": 0.2483606316444444,
            "symbol": "circle"
           },
           "mode": "markers",
           "name": "Country_or_Area=Namibia",
           "showlegend": true,
           "type": "scatter",
           "x": [
            3225.342907
           ],
           "xaxis": "x",
           "y": [
            7.42
           ],
           "yaxis": "y"
          },
          {
           "hoverlabel": {
            "namelength": 0
           },
           "hovertemplate": "Country_or_Area=Nigeria<br>Year=2004<br>GDP_Per_Capita(USD)=%{x}<br>Mortality_Rate(%)=%{y}<br>Population(mn)=%{marker.size}",
           "legendgroup": "Country_or_Area=Nigeria",
           "marker": {
            "color": "#FF97FF",
            "size": [
             135.39361599999998
            ],
            "sizemode": "area",
            "sizeref": 0.2483606316444444,
            "symbol": "circle"
           },
           "mode": "markers",
           "name": "Country_or_Area=Nigeria",
           "showlegend": true,
           "type": "scatter",
           "x": [
            1043.333232
           ],
           "xaxis": "x",
           "y": [
            16.4
           ],
           "yaxis": "y"
          },
          {
           "hoverlabel": {
            "namelength": 0
           },
           "hovertemplate": "Country_or_Area=Thailand<br>Year=2004<br>GDP_Per_Capita(USD)=%{x}<br>Mortality_Rate(%)=%{y}<br>Population(mn)=%{marker.size}",
           "legendgroup": "Country_or_Area=Thailand",
           "marker": {
            "color": "#636efa",
            "size": [
             65.00223100000001
            ],
            "sizemode": "area",
            "sizeref": 0.2483606316444444,
            "symbol": "circle"
           },
           "mode": "markers",
           "name": "Country_or_Area=Thailand",
           "showlegend": true,
           "type": "scatter",
           "x": [
            2659.8381219999997
           ],
           "xaxis": "x",
           "y": [
            1.91
           ],
           "yaxis": "y"
          },
          {
           "hoverlabel": {
            "namelength": 0
           },
           "hovertemplate": "Country_or_Area=France<br>Year=2004<br>GDP_Per_Capita(USD)=%{x}<br>Mortality_Rate(%)=%{y}<br>Population(mn)=%{marker.size}",
           "legendgroup": "Country_or_Area=France",
           "marker": {
            "color": "#EF553B",
            "size": [
             60.886607
            ],
            "sizemode": "area",
            "sizeref": 0.2483606316444444,
            "symbol": "circle"
           },
           "mode": "markers",
           "name": "Country_or_Area=France",
           "showlegend": true,
           "type": "scatter",
           "x": [
            33654.22671
           ],
           "xaxis": "x",
           "y": [
            0.47
           ],
           "yaxis": "y"
          },
          {
           "hoverlabel": {
            "namelength": 0
           },
           "hovertemplate": "Country_or_Area=Germany<br>Year=2004<br>GDP_Per_Capita(USD)=%{x}<br>Mortality_Rate(%)=%{y}<br>Population(mn)=%{marker.size}",
           "legendgroup": "Country_or_Area=Germany",
           "marker": {
            "color": "#00cc96",
            "size": [
             81.715659
            ],
            "sizemode": "area",
            "sizeref": 0.2483606316444444,
            "symbol": "circle"
           },
           "mode": "markers",
           "name": "Country_or_Area=Germany",
           "showlegend": true,
           "type": "scatter",
           "x": [
            34502.1707
           ],
           "xaxis": "x",
           "y": [
            0.49
           ],
           "yaxis": "y"
          },
          {
           "hoverlabel": {
            "namelength": 0
           },
           "hovertemplate": "Country_or_Area=Mexico<br>Year=2004<br>GDP_Per_Capita(USD)=%{x}<br>Mortality_Rate(%)=%{y}<br>Population(mn)=%{marker.size}",
           "legendgroup": "Country_or_Area=Mexico",
           "marker": {
            "color": "#ab63fa",
            "size": [
             106.99558300000001
            ],
            "sizemode": "area",
            "sizeref": 0.2483606316444444,
            "symbol": "circle"
           },
           "mode": "markers",
           "name": "Country_or_Area=Mexico",
           "showlegend": true,
           "type": "scatter",
           "x": [
            7310.983224
           ],
           "xaxis": "x",
           "y": [
            2.16
           ],
           "yaxis": "y"
          }
         ],
         "name": "2004"
        },
        {
         "data": [
          {
           "hoverlabel": {
            "namelength": 0
           },
           "hovertemplate": "Country_or_Area=Afghanistan<br>Year=2005<br>GDP_Per_Capita(USD)=%{x}<br>Mortality_Rate(%)=%{y}<br>Population(mn)=%{marker.size}",
           "legendgroup": "Country_or_Area=Afghanistan",
           "marker": {
            "color": "#636efa",
            "size": [
             25.070798
            ],
            "sizemode": "area",
            "sizeref": 0.2483606316444444,
            "symbol": "circle"
           },
           "mode": "markers",
           "name": "Country_or_Area=Afghanistan",
           "showlegend": true,
           "type": "scatter",
           "x": [
            264.12537119999996
           ],
           "xaxis": "x",
           "y": [
            11.03
           ],
           "yaxis": "y"
          },
          {
           "hoverlabel": {
            "namelength": 0
           },
           "hovertemplate": "Country_or_Area=China<br>Year=2005<br>GDP_Per_Capita(USD)=%{x}<br>Mortality_Rate(%)=%{y}<br>Population(mn)=%{marker.size}",
           "legendgroup": "Country_or_Area=China",
           "marker": {
            "color": "#EF553B",
            "size": [
             1321.62349
            ],
            "sizemode": "area",
            "sizeref": 0.2483606316444444,
            "symbol": "circle"
           },
           "mode": "markers",
           "name": "Country_or_Area=China",
           "showlegend": true,
           "type": "scatter",
           "x": [
            1729.660529
           ],
           "xaxis": "x",
           "y": [
            2.4
           ],
           "yaxis": "y"
          },
          {
           "hoverlabel": {
            "namelength": 0
           },
           "hovertemplate": "Country_or_Area=India<br>Year=2005<br>GDP_Per_Capita(USD)=%{x}<br>Mortality_Rate(%)=%{y}<br>Population(mn)=%{marker.size}",
           "legendgroup": "Country_or_Area=India",
           "marker": {
            "color": "#00cc96",
            "size": [
             1144.118674
            ],
            "sizemode": "area",
            "sizeref": 0.2483606316444444,
            "symbol": "circle"
           },
           "mode": "markers",
           "name": "Country_or_Area=India",
           "showlegend": true,
           "type": "scatter",
           "x": [
            719.8655146000001
           ],
           "xaxis": "x",
           "y": [
            7.44
           ],
           "yaxis": "y"
          },
          {
           "hoverlabel": {
            "namelength": 0
           },
           "hovertemplate": "Country_or_Area=United States<br>Year=2005<br>GDP_Per_Capita(USD)=%{x}<br>Mortality_Rate(%)=%{y}<br>Population(mn)=%{marker.size}",
           "legendgroup": "Country_or_Area=United States",
           "marker": {
            "color": "#ab63fa",
            "size": [
             295.129501
            ],
            "sizemode": "area",
            "sizeref": 0.2483606316444444,
            "symbol": "circle"
           },
           "mode": "markers",
           "name": "Country_or_Area=United States",
           "showlegend": true,
           "type": "scatter",
           "x": [
            44172.59866
           ],
           "xaxis": "x",
           "y": [
            0.8
           ],
           "yaxis": "y"
          },
          {
           "hoverlabel": {
            "namelength": 0
           },
           "hovertemplate": "Country_or_Area=United Kingdom<br>Year=2005<br>GDP_Per_Capita(USD)=%{x}<br>Mortality_Rate(%)=%{y}<br>Population(mn)=%{marker.size}",
           "legendgroup": "Country_or_Area=United Kingdom",
           "marker": {
            "color": "#FFA15A",
            "size": [
             60.286754
            ],
            "sizemode": "area",
            "sizeref": 0.2483606316444444,
            "symbol": "circle"
           },
           "mode": "markers",
           "name": "Country_or_Area=United Kingdom",
           "showlegend": true,
           "type": "scatter",
           "x": [
            41883.38132
           ],
           "xaxis": "x",
           "y": [
            0.6
           ],
           "yaxis": "y"
          },
          {
           "hoverlabel": {
            "namelength": 0
           },
           "hovertemplate": "Country_or_Area=Brazil<br>Year=2005<br>GDP_Per_Capita(USD)=%{x}<br>Mortality_Rate(%)=%{y}<br>Population(mn)=%{marker.size}",
           "legendgroup": "Country_or_Area=Brazil",
           "marker": {
            "color": "#19d3f3",
            "size": [
             186.917361
            ],
            "sizemode": "area",
            "sizeref": 0.2483606316444444,
            "symbol": "circle"
           },
           "mode": "markers",
           "name": "Country_or_Area=Brazil",
           "showlegend": true,
           "type": "scatter",
           "x": [
            4770.203377000001
           ],
           "xaxis": "x",
           "y": [
            2.61
           ],
           "yaxis": "y"
          },
          {
           "hoverlabel": {
            "namelength": 0
           },
           "hovertemplate": "Country_or_Area=Zimbabwe<br>Year=2005<br>GDP_Per_Capita(USD)=%{x}<br>Mortality_Rate(%)=%{y}<br>Population(mn)=%{marker.size}",
           "legendgroup": "Country_or_Area=Zimbabwe",
           "marker": {
            "color": "#FF6692",
            "size": [
             12.940032
            ],
            "sizemode": "area",
            "sizeref": 0.2483606316444444,
            "symbol": "circle"
           },
           "mode": "markers",
           "name": "Country_or_Area=Zimbabwe",
           "showlegend": true,
           "type": "scatter",
           "x": [
            480.9029839
           ],
           "xaxis": "x",
           "y": [
            9.97
           ],
           "yaxis": "y"
          },
          {
           "hoverlabel": {
            "namelength": 0
           },
           "hovertemplate": "Country_or_Area=Namibia<br>Year=2005<br>GDP_Per_Capita(USD)=%{x}<br>Mortality_Rate(%)=%{y}<br>Population(mn)=%{marker.size}",
           "legendgroup": "Country_or_Area=Namibia",
           "marker": {
            "color": "#B6E880",
            "size": [
             2.032196
            ],
            "sizemode": "area",
            "sizeref": 0.2483606316444444,
            "symbol": "circle"
           },
           "mode": "markers",
           "name": "Country_or_Area=Namibia",
           "showlegend": true,
           "type": "scatter",
           "x": [
            3504.268396
           ],
           "xaxis": "x",
           "y": [
            7.1
           ],
           "yaxis": "y"
          },
          {
           "hoverlabel": {
            "namelength": 0
           },
           "hovertemplate": "Country_or_Area=Nigeria<br>Year=2005<br>GDP_Per_Capita(USD)=%{x}<br>Mortality_Rate(%)=%{y}<br>Population(mn)=%{marker.size}",
           "legendgroup": "Country_or_Area=Nigeria",
           "marker": {
            "color": "#FF97FF",
            "size": [
             138.939478
            ],
            "sizemode": "area",
            "sizeref": 0.2483606316444444,
            "symbol": "circle"
           },
           "mode": "markers",
           "name": "Country_or_Area=Nigeria",
           "showlegend": true,
           "type": "scatter",
           "x": [
            1299.1412970000001
           ],
           "xaxis": "x",
           "y": [
            15.79
           ],
           "yaxis": "y"
          },
          {
           "hoverlabel": {
            "namelength": 0
           },
           "hovertemplate": "Country_or_Area=Thailand<br>Year=2005<br>GDP_Per_Capita(USD)=%{x}<br>Mortality_Rate(%)=%{y}<br>Population(mn)=%{marker.size}",
           "legendgroup": "Country_or_Area=Thailand",
           "marker": {
            "color": "#636efa",
            "size": [
             65.42546999999999
            ],
            "sizemode": "area",
            "sizeref": 0.2483606316444444,
            "symbol": "circle"
           },
           "mode": "markers",
           "name": "Country_or_Area=Thailand",
           "showlegend": true,
           "type": "scatter",
           "x": [
            2893.649182
           ],
           "xaxis": "x",
           "y": [
            1.82
           ],
           "yaxis": "y"
          },
          {
           "hoverlabel": {
            "namelength": 0
           },
           "hovertemplate": "Country_or_Area=France<br>Year=2005<br>GDP_Per_Capita(USD)=%{x}<br>Mortality_Rate(%)=%{y}<br>Population(mn)=%{marker.size}",
           "legendgroup": "Country_or_Area=France",
           "marker": {
            "color": "#EF553B",
            "size": [
             61.2339
            ],
            "sizemode": "area",
            "sizeref": 0.2483606316444444,
            "symbol": "circle"
           },
           "mode": "markers",
           "name": "Country_or_Area=France",
           "showlegend": true,
           "type": "scatter",
           "x": [
            34723.78016
           ],
           "xaxis": "x",
           "y": [
            0.46
           ],
           "yaxis": "y"
          },
          {
           "hoverlabel": {
            "namelength": 0
           },
           "hovertemplate": "Country_or_Area=Germany<br>Year=2005<br>GDP_Per_Capita(USD)=%{x}<br>Mortality_Rate(%)=%{y}<br>Population(mn)=%{marker.size}",
           "legendgroup": "Country_or_Area=Germany",
           "marker": {
            "color": "#00cc96",
            "size": [
             81.671234
            ],
            "sizemode": "area",
            "sizeref": 0.2483606316444444,
            "symbol": "circle"
           },
           "mode": "markers",
           "name": "Country_or_Area=Germany",
           "showlegend": true,
           "type": "scatter",
           "x": [
            35034.84597
           ],
           "xaxis": "x",
           "y": [
            0.47
           ],
           "yaxis": "y"
          },
          {
           "hoverlabel": {
            "namelength": 0
           },
           "hovertemplate": "Country_or_Area=Mexico<br>Year=2005<br>GDP_Per_Capita(USD)=%{x}<br>Mortality_Rate(%)=%{y}<br>Population(mn)=%{marker.size}",
           "legendgroup": "Country_or_Area=Mexico",
           "marker": {
            "color": "#ab63fa",
            "size": [
             108.472228
            ],
            "sizemode": "area",
            "sizeref": 0.2483606316444444,
            "symbol": "circle"
           },
           "mode": "markers",
           "name": "Country_or_Area=Mexico",
           "showlegend": true,
           "type": "scatter",
           "x": [
            8089.415222
           ],
           "xaxis": "x",
           "y": [
            2.06
           ],
           "yaxis": "y"
          }
         ],
         "name": "2005"
        },
        {
         "data": [
          {
           "hoverlabel": {
            "namelength": 0
           },
           "hovertemplate": "Country_or_Area=Afghanistan<br>Year=2006<br>GDP_Per_Capita(USD)=%{x}<br>Mortality_Rate(%)=%{y}<br>Population(mn)=%{marker.size}",
           "legendgroup": "Country_or_Area=Afghanistan",
           "marker": {
            "color": "#636efa",
            "size": [
             25.89345
            ],
            "sizemode": "area",
            "sizeref": 0.2483606316444444,
            "symbol": "circle"
           },
           "mode": "markers",
           "name": "Country_or_Area=Afghanistan",
           "showlegend": true,
           "type": "scatter",
           "x": [
            290.1993235
           ],
           "xaxis": "x",
           "y": [
            10.63
           ],
           "yaxis": "y"
          },
          {
           "hoverlabel": {
            "namelength": 0
           },
           "hovertemplate": "Country_or_Area=China<br>Year=2006<br>GDP_Per_Capita(USD)=%{x}<br>Mortality_Rate(%)=%{y}<br>Population(mn)=%{marker.size}",
           "legendgroup": "Country_or_Area=China",
           "marker": {
            "color": "#EF553B",
            "size": [
             1329.209094
            ],
            "sizemode": "area",
            "sizeref": 0.2483606316444444,
            "symbol": "circle"
           },
           "mode": "markers",
           "name": "Country_or_Area=China",
           "showlegend": true,
           "type": "scatter",
           "x": [
            2070.494495
           ],
           "xaxis": "x",
           "y": [
            2.19
           ],
           "yaxis": "y"
          },
          {
           "hoverlabel": {
            "namelength": 0
           },
           "hovertemplate": "Country_or_Area=India<br>Year=2006<br>GDP_Per_Capita(USD)=%{x}<br>Mortality_Rate(%)=%{y}<br>Population(mn)=%{marker.size}",
           "legendgroup": "Country_or_Area=India",
           "marker": {
            "color": "#00cc96",
            "size": [
             1161.977719
            ],
            "sizemode": "area",
            "sizeref": 0.2483606316444444,
            "symbol": "circle"
           },
           "mode": "markers",
           "name": "Country_or_Area=India",
           "showlegend": true,
           "type": "scatter",
           "x": [
            808.162155
           ],
           "xaxis": "x",
           "y": [
            7.12
           ],
           "yaxis": "y"
          },
          {
           "hoverlabel": {
            "namelength": 0
           },
           "hovertemplate": "Country_or_Area=United States<br>Year=2006<br>GDP_Per_Capita(USD)=%{x}<br>Mortality_Rate(%)=%{y}<br>Population(mn)=%{marker.size}",
           "legendgroup": "Country_or_Area=United States",
           "marker": {
            "color": "#ab63fa",
            "size": [
             297.827356
            ],
            "sizemode": "area",
            "sizeref": 0.2483606316444444,
            "symbol": "circle"
           },
           "mode": "markers",
           "name": "Country_or_Area=United States",
           "showlegend": true,
           "type": "scatter",
           "x": [
            46384.62089
           ],
           "xaxis": "x",
           "y": [
            0.79
           ],
           "yaxis": "y"
          },
          {
           "hoverlabel": {
            "namelength": 0
           },
           "hovertemplate": "Country_or_Area=United Kingdom<br>Year=2006<br>GDP_Per_Capita(USD)=%{x}<br>Mortality_Rate(%)=%{y}<br>Population(mn)=%{marker.size}",
           "legendgroup": "Country_or_Area=United Kingdom",
           "marker": {
            "color": "#FFA15A",
            "size": [
             60.802801
            ],
            "sizemode": "area",
            "sizeref": 0.2483606316444444,
            "symbol": "circle"
           },
           "mode": "markers",
           "name": "Country_or_Area=United Kingdom",
           "showlegend": true,
           "type": "scatter",
           "x": [
            44360.09392
           ],
           "xaxis": "x",
           "y": [
            0.59
           ],
           "yaxis": "y"
          },
          {
           "hoverlabel": {
            "namelength": 0
           },
           "hovertemplate": "Country_or_Area=Brazil<br>Year=2006<br>GDP_Per_Capita(USD)=%{x}<br>Mortality_Rate(%)=%{y}<br>Population(mn)=%{marker.size}",
           "legendgroup": "Country_or_Area=Brazil",
           "marker": {
            "color": "#19d3f3",
            "size": [
             189.012412
            ],
            "sizemode": "area",
            "sizeref": 0.2483606316444444,
            "symbol": "circle"
           },
           "mode": "markers",
           "name": "Country_or_Area=Brazil",
           "showlegend": true,
           "type": "scatter",
           "x": [
            5860.073947999999
           ],
           "xaxis": "x",
           "y": [
            2.45
           ],
           "yaxis": "y"
          },
          {
           "hoverlabel": {
            "namelength": 0
           },
           "hovertemplate": "Country_or_Area=Zimbabwe<br>Year=2006<br>GDP_Per_Capita(USD)=%{x}<br>Mortality_Rate(%)=%{y}<br>Population(mn)=%{marker.size}",
           "legendgroup": "Country_or_Area=Zimbabwe",
           "marker": {
            "color": "#FF6692",
            "size": [
             13.124267000000001
            ],
            "sizemode": "area",
            "sizeref": 0.2483606316444444,
            "symbol": "circle"
           },
           "mode": "markers",
           "name": "Country_or_Area=Zimbabwe",
           "showlegend": true,
           "type": "scatter",
           "x": [
            539.6821146000001
           ],
           "xaxis": "x",
           "y": [
            10.02
           ],
           "yaxis": "y"
          },
          {
           "hoverlabel": {
            "namelength": 0
           },
           "hovertemplate": "Country_or_Area=Namibia<br>Year=2006<br>GDP_Per_Capita(USD)=%{x}<br>Mortality_Rate(%)=%{y}<br>Population(mn)=%{marker.size}",
           "legendgroup": "Country_or_Area=Namibia",
           "marker": {
            "color": "#B6E880",
            "size": [
             2.055734
            ],
            "sizemode": "area",
            "sizeref": 0.2483606316444444,
            "symbol": "circle"
           },
           "mode": "markers",
           "name": "Country_or_Area=Namibia",
           "showlegend": true,
           "type": "scatter",
           "x": [
            3811.284308
           ],
           "xaxis": "x",
           "y": [
            6.7
           ],
           "yaxis": "y"
          },
          {
           "hoverlabel": {
            "namelength": 0
           },
           "hovertemplate": "Country_or_Area=Nigeria<br>Year=2006<br>GDP_Per_Capita(USD)=%{x}<br>Mortality_Rate(%)=%{y}<br>Population(mn)=%{marker.size}",
           "legendgroup": "Country_or_Area=Nigeria",
           "marker": {
            "color": "#FF97FF",
            "size": [
             142.614094
            ],
            "sizemode": "area",
            "sizeref": 0.2483606316444444,
            "symbol": "circle"
           },
           "mode": "markers",
           "name": "Country_or_Area=Nigeria",
           "showlegend": true,
           "type": "scatter",
           "x": [
            1639.808566
           ],
           "xaxis": "x",
           "y": [
            15.19
           ],
           "yaxis": "y"
          },
          {
           "hoverlabel": {
            "namelength": 0
           },
           "hovertemplate": "Country_or_Area=Thailand<br>Year=2006<br>GDP_Per_Capita(USD)=%{x}<br>Mortality_Rate(%)=%{y}<br>Population(mn)=%{marker.size}",
           "legendgroup": "Country_or_Area=Thailand",
           "marker": {
            "color": "#636efa",
            "size": [
             65.824164
            ],
            "sizemode": "area",
            "sizeref": 0.2483606316444444,
            "symbol": "circle"
           },
           "mode": "markers",
           "name": "Country_or_Area=Thailand",
           "showlegend": true,
           "type": "scatter",
           "x": [
            3368.954068
           ],
           "xaxis": "x",
           "y": [
            1.74
           ],
           "yaxis": "y"
          },
          {
           "hoverlabel": {
            "namelength": 0
           },
           "hovertemplate": "Country_or_Area=France<br>Year=2006<br>GDP_Per_Capita(USD)=%{x}<br>Mortality_Rate(%)=%{y}<br>Population(mn)=%{marker.size}",
           "legendgroup": "Country_or_Area=France",
           "marker": {
            "color": "#EF553B",
            "size": [
             61.592884
            ],
            "sizemode": "area",
            "sizeref": 0.2483606316444444,
            "symbol": "circle"
           },
           "mode": "markers",
           "name": "Country_or_Area=France",
           "showlegend": true,
           "type": "scatter",
           "x": [
            36437.99263
           ],
           "xaxis": "x",
           "y": [
            0.45
           ],
           "yaxis": "y"
          },
          {
           "hoverlabel": {
            "namelength": 0
           },
           "hovertemplate": "Country_or_Area=Germany<br>Year=2006<br>GDP_Per_Capita(USD)=%{x}<br>Mortality_Rate(%)=%{y}<br>Population(mn)=%{marker.size}",
           "legendgroup": "Country_or_Area=Germany",
           "marker": {
            "color": "#00cc96",
            "size": [
             81.540353
            ],
            "sizemode": "area",
            "sizeref": 0.2483606316444444,
            "symbol": "circle"
           },
           "mode": "markers",
           "name": "Country_or_Area=Germany",
           "showlegend": true,
           "type": "scatter",
           "x": [
            36819.71512
           ],
           "xaxis": "x",
           "y": [
            0.46
           ],
           "yaxis": "y"
          },
          {
           "hoverlabel": {
            "namelength": 0
           },
           "hovertemplate": "Country_or_Area=Mexico<br>Year=2006<br>GDP_Per_Capita(USD)=%{x}<br>Mortality_Rate(%)=%{y}<br>Population(mn)=%{marker.size}",
           "legendgroup": "Country_or_Area=Mexico",
           "marker": {
            "color": "#ab63fa",
            "size": [
             110.092378
            ],
            "sizemode": "area",
            "sizeref": 0.2483606316444444,
            "symbol": "circle"
           },
           "mode": "markers",
           "name": "Country_or_Area=Mexico",
           "showlegend": true,
           "type": "scatter",
           "x": [
            8859.681484
           ],
           "xaxis": "x",
           "y": [
            1.98
           ],
           "yaxis": "y"
          }
         ],
         "name": "2006"
        },
        {
         "data": [
          {
           "hoverlabel": {
            "namelength": 0
           },
           "hovertemplate": "Country_or_Area=Afghanistan<br>Year=2007<br>GDP_Per_Capita(USD)=%{x}<br>Mortality_Rate(%)=%{y}<br>Population(mn)=%{marker.size}",
           "legendgroup": "Country_or_Area=Afghanistan",
           "marker": {
            "color": "#636efa",
            "size": [
             26.616791999999997
            ],
            "sizemode": "area",
            "sizeref": 0.2483606316444444,
            "symbol": "circle"
           },
           "mode": "markers",
           "name": "Country_or_Area=Afghanistan",
           "showlegend": true,
           "type": "scatter",
           "x": [
            389.98558639999993
           ],
           "xaxis": "x",
           "y": [
            10.22
           ],
           "yaxis": "y"
          },
          {
           "hoverlabel": {
            "namelength": 0
           },
           "hovertemplate": "Country_or_Area=China<br>Year=2007<br>GDP_Per_Capita(USD)=%{x}<br>Mortality_Rate(%)=%{y}<br>Population(mn)=%{marker.size}",
           "legendgroup": "Country_or_Area=China",
           "marker": {
            "color": "#EF553B",
            "size": [
             1336.800506
            ],
            "sizemode": "area",
            "sizeref": 0.2483606316444444,
            "symbol": "circle"
           },
           "mode": "markers",
           "name": "Country_or_Area=China",
           "showlegend": true,
           "type": "scatter",
           "x": [
            2657.213918
           ],
           "xaxis": "x",
           "y": [
            2
           ],
           "yaxis": "y"
          },
          {
           "hoverlabel": {
            "namelength": 0
           },
           "hovertemplate": "Country_or_Area=India<br>Year=2007<br>GDP_Per_Capita(USD)=%{x}<br>Mortality_Rate(%)=%{y}<br>Population(mn)=%{marker.size}",
           "legendgroup": "Country_or_Area=India",
           "marker": {
            "color": "#00cc96",
            "size": [
             1179.681239
            ],
            "sizemode": "area",
            "sizeref": 0.2483606316444444,
            "symbol": "circle"
           },
           "mode": "markers",
           "name": "Country_or_Area=India",
           "showlegend": true,
           "type": "scatter",
           "x": [
            1004.275095
           ],
           "xaxis": "x",
           "y": [
            6.8
           ],
           "yaxis": "y"
          },
          {
           "hoverlabel": {
            "namelength": 0
           },
           "hovertemplate": "Country_or_Area=United States<br>Year=2007<br>GDP_Per_Capita(USD)=%{x}<br>Mortality_Rate(%)=%{y}<br>Population(mn)=%{marker.size}",
           "legendgroup": "Country_or_Area=United States",
           "marker": {
            "color": "#ab63fa",
            "size": [
             300.595175
            ],
            "sizemode": "area",
            "sizeref": 0.2483606316444444,
            "symbol": "circle"
           },
           "mode": "markers",
           "name": "Country_or_Area=United States",
           "showlegend": true,
           "type": "scatter",
           "x": [
            48077.484939999995
           ],
           "xaxis": "x",
           "y": [
            0.78
           ],
           "yaxis": "y"
          },
          {
           "hoverlabel": {
            "namelength": 0
           },
           "hovertemplate": "Country_or_Area=United Kingdom<br>Year=2007<br>GDP_Per_Capita(USD)=%{x}<br>Mortality_Rate(%)=%{y}<br>Population(mn)=%{marker.size}",
           "legendgroup": "Country_or_Area=United Kingdom",
           "marker": {
            "color": "#FFA15A",
            "size": [
             61.41466
            ],
            "sizemode": "area",
            "sizeref": 0.2483606316444444,
            "symbol": "circle"
           },
           "mode": "markers",
           "name": "Country_or_Area=United Kingdom",
           "showlegend": true,
           "type": "scatter",
           "x": [
            50220.785939999994
           ],
           "xaxis": "x",
           "y": [
            0.58
           ],
           "yaxis": "y"
          },
          {
           "hoverlabel": {
            "namelength": 0
           },
           "hovertemplate": "Country_or_Area=Brazil<br>Year=2007<br>GDP_Per_Capita(USD)=%{x}<br>Mortality_Rate(%)=%{y}<br>Population(mn)=%{marker.size}",
           "legendgroup": "Country_or_Area=Brazil",
           "marker": {
            "color": "#19d3f3",
            "size": [
             191.02663700000002
            ],
            "sizemode": "area",
            "sizeref": 0.2483606316444444,
            "symbol": "circle"
           },
           "mode": "markers",
           "name": "Country_or_Area=Brazil",
           "showlegend": true,
           "type": "scatter",
           "x": [
            7313.714303
           ],
           "xaxis": "x",
           "y": [
            2.32
           ],
           "yaxis": "y"
          },
          {
           "hoverlabel": {
            "namelength": 0
           },
           "hovertemplate": "Country_or_Area=Zimbabwe<br>Year=2007<br>GDP_Per_Capita(USD)=%{x}<br>Mortality_Rate(%)=%{y}<br>Population(mn)=%{marker.size}",
           "legendgroup": "Country_or_Area=Zimbabwe",
           "marker": {
            "color": "#FF6692",
            "size": [
             13.329908999999999
            ],
            "sizemode": "area",
            "sizeref": 0.2483606316444444,
            "symbol": "circle"
           },
           "mode": "markers",
           "name": "Country_or_Area=Zimbabwe",
           "showlegend": true,
           "type": "scatter",
           "x": [
            527.5914617999999
           ],
           "xaxis": "x",
           "y": [
            10
           ],
           "yaxis": "y"
          },
          {
           "hoverlabel": {
            "namelength": 0
           },
           "hovertemplate": "Country_or_Area=Namibia<br>Year=2007<br>GDP_Per_Capita(USD)=%{x}<br>Mortality_Rate(%)=%{y}<br>Population(mn)=%{marker.size}",
           "legendgroup": "Country_or_Area=Namibia",
           "marker": {
            "color": "#B6E880",
            "size": [
             2.079915
            ],
            "sizemode": "area",
            "sizeref": 0.2483606316444444,
            "symbol": "circle"
           },
           "mode": "markers",
           "name": "Country_or_Area=Namibia",
           "showlegend": true,
           "type": "scatter",
           "x": [
            4202.531843
           ],
           "xaxis": "x",
           "y": [
            6.37
           ],
           "yaxis": "y"
          },
          {
           "hoverlabel": {
            "namelength": 0
           },
           "hovertemplate": "Country_or_Area=Nigeria<br>Year=2007<br>GDP_Per_Capita(USD)=%{x}<br>Mortality_Rate(%)=%{y}<br>Population(mn)=%{marker.size}",
           "legendgroup": "Country_or_Area=Nigeria",
           "marker": {
            "color": "#FF97FF",
            "size": [
             146.417024
            ],
            "sizemode": "area",
            "sizeref": 0.2483606316444444,
            "symbol": "circle"
           },
           "mode": "markers",
           "name": "Country_or_Area=Nigeria",
           "showlegend": true,
           "type": "scatter",
           "x": [
            1828.089882
           ],
           "xaxis": "x",
           "y": [
            14.6
           ],
           "yaxis": "y"
          },
          {
           "hoverlabel": {
            "namelength": 0
           },
           "hovertemplate": "Country_or_Area=Thailand<br>Year=2007<br>GDP_Per_Capita(USD)=%{x}<br>Mortality_Rate(%)=%{y}<br>Population(mn)=%{marker.size}",
           "legendgroup": "Country_or_Area=Thailand",
           "marker": {
            "color": "#636efa",
            "size": [
             66.195615
            ],
            "sizemode": "area",
            "sizeref": 0.2483606316444444,
            "symbol": "circle"
           },
           "mode": "markers",
           "name": "Country_or_Area=Thailand",
           "showlegend": true,
           "type": "scatter",
           "x": [
            3972.2087090000005
           ],
           "xaxis": "x",
           "y": [
            1.67
           ],
           "yaxis": "y"
          },
          {
           "hoverlabel": {
            "namelength": 0
           },
           "hovertemplate": "Country_or_Area=France<br>Year=2007<br>GDP_Per_Capita(USD)=%{x}<br>Mortality_Rate(%)=%{y}<br>Population(mn)=%{marker.size}",
           "legendgroup": "Country_or_Area=France",
           "marker": {
            "color": "#EF553B",
            "size": [
             61.96095
            ],
            "sizemode": "area",
            "sizeref": 0.2483606316444444,
            "symbol": "circle"
           },
           "mode": "markers",
           "name": "Country_or_Area=France",
           "showlegend": true,
           "type": "scatter",
           "x": [
            41504.46875
           ],
           "xaxis": "x",
           "y": [
            0.44
           ],
           "yaxis": "y"
          },
          {
           "hoverlabel": {
            "namelength": 0
           },
           "hovertemplate": "Country_or_Area=Germany<br>Year=2007<br>GDP_Per_Capita(USD)=%{x}<br>Mortality_Rate(%)=%{y}<br>Population(mn)=%{marker.size}",
           "legendgroup": "Country_or_Area=Germany",
           "marker": {
            "color": "#00cc96",
            "size": [
             81.34445699999999
            ],
            "sizemode": "area",
            "sizeref": 0.2483606316444444,
            "symbol": "circle"
           },
           "mode": "markers",
           "name": "Country_or_Area=Germany",
           "showlegend": true,
           "type": "scatter",
           "x": [
            42286.55564
           ],
           "xaxis": "x",
           "y": [
            0.45
           ],
           "yaxis": "y"
          },
          {
           "hoverlabel": {
            "namelength": 0
           },
           "hovertemplate": "Country_or_Area=Mexico<br>Year=2007<br>GDP_Per_Capita(USD)=%{x}<br>Mortality_Rate(%)=%{y}<br>Population(mn)=%{marker.size}",
           "legendgroup": "Country_or_Area=Mexico",
           "marker": {
            "color": "#ab63fa",
            "size": [
             111.83634599999999
            ],
            "sizemode": "area",
            "sizeref": 0.2483606316444444,
            "symbol": "circle"
           },
           "mode": "markers",
           "name": "Country_or_Area=Mexico",
           "showlegend": true,
           "type": "scatter",
           "x": [
            9412.835117
           ],
           "xaxis": "x",
           "y": [
            1.9
           ],
           "yaxis": "y"
          }
         ],
         "name": "2007"
        },
        {
         "data": [
          {
           "hoverlabel": {
            "namelength": 0
           },
           "hovertemplate": "Country_or_Area=Afghanistan<br>Year=2008<br>GDP_Per_Capita(USD)=%{x}<br>Mortality_Rate(%)=%{y}<br>Population(mn)=%{marker.size}",
           "legendgroup": "Country_or_Area=Afghanistan",
           "marker": {
            "color": "#636efa",
            "size": [
             27.294031
            ],
            "sizemode": "area",
            "sizeref": 0.2483606316444444,
            "symbol": "circle"
           },
           "mode": "markers",
           "name": "Country_or_Area=Afghanistan",
           "showlegend": true,
           "type": "scatter",
           "x": [
            394.53610089999995
           ],
           "xaxis": "x",
           "y": [
            9.82
           ],
           "yaxis": "y"
          },
          {
           "hoverlabel": {
            "namelength": 0
           },
           "hovertemplate": "Country_or_Area=China<br>Year=2008<br>GDP_Per_Capita(USD)=%{x}<br>Mortality_Rate(%)=%{y}<br>Population(mn)=%{marker.size}",
           "legendgroup": "Country_or_Area=China",
           "marker": {
            "color": "#EF553B",
            "size": [
             1344.415227
            ],
            "sizemode": "area",
            "sizeref": 0.2483606316444444,
            "symbol": "circle"
           },
           "mode": "markers",
           "name": "Country_or_Area=China",
           "showlegend": true,
           "type": "scatter",
           "x": [
            3420.25034
           ],
           "xaxis": "x",
           "y": [
            1.84
           ],
           "yaxis": "y"
          },
          {
           "hoverlabel": {
            "namelength": 0
           },
           "hovertemplate": "Country_or_Area=India<br>Year=2008<br>GDP_Per_Capita(USD)=%{x}<br>Mortality_Rate(%)=%{y}<br>Population(mn)=%{marker.size}",
           "legendgroup": "Country_or_Area=India",
           "marker": {
            "color": "#00cc96",
            "size": [
             1197.146906
            ],
            "sizemode": "area",
            "sizeref": 0.2483606316444444,
            "symbol": "circle"
           },
           "mode": "markers",
           "name": "Country_or_Area=India",
           "showlegend": true,
           "type": "scatter",
           "x": [
            1058.742344
           ],
           "xaxis": "x",
           "y": [
            6.49
           ],
           "yaxis": "y"
          },
          {
           "hoverlabel": {
            "namelength": 0
           },
           "hovertemplate": "Country_or_Area=United States<br>Year=2008<br>GDP_Per_Capita(USD)=%{x}<br>Mortality_Rate(%)=%{y}<br>Population(mn)=%{marker.size}",
           "legendgroup": "Country_or_Area=United States",
           "marker": {
            "color": "#ab63fa",
            "size": [
             303.37406699999997
            ],
            "sizemode": "area",
            "sizeref": 0.2483606316444444,
            "symbol": "circle"
           },
           "mode": "markers",
           "name": "Country_or_Area=United States",
           "showlegend": true,
           "type": "scatter",
           "x": [
            48497.37206
           ],
           "xaxis": "x",
           "y": [
            0.76
           ],
           "yaxis": "y"
          },
          {
           "hoverlabel": {
            "namelength": 0
           },
           "hovertemplate": "Country_or_Area=United Kingdom<br>Year=2008<br>GDP_Per_Capita(USD)=%{x}<br>Mortality_Rate(%)=%{y}<br>Population(mn)=%{marker.size}",
           "legendgroup": "Country_or_Area=United Kingdom",
           "marker": {
            "color": "#FFA15A",
            "size": [
             62.076221
            ],
            "sizemode": "area",
            "sizeref": 0.2483606316444444,
            "symbol": "circle"
           },
           "mode": "markers",
           "name": "Country_or_Area=United Kingdom",
           "showlegend": true,
           "type": "scatter",
           "x": [
            46784.69302
           ],
           "xaxis": "x",
           "y": [
            0.56
           ],
           "yaxis": "y"
          },
          {
           "hoverlabel": {
            "namelength": 0
           },
           "hovertemplate": "Country_or_Area=Brazil<br>Year=2008<br>GDP_Per_Capita(USD)=%{x}<br>Mortality_Rate(%)=%{y}<br>Population(mn)=%{marker.size}",
           "legendgroup": "Country_or_Area=Brazil",
           "marker": {
            "color": "#19d3f3",
            "size": [
             192.979029
            ],
            "sizemode": "area",
            "sizeref": 0.2483606316444444,
            "symbol": "circle"
           },
           "mode": "markers",
           "name": "Country_or_Area=Brazil",
           "showlegend": true,
           "type": "scatter",
           "x": [
            8787.770364
           ],
           "xaxis": "x",
           "y": [
            2.19
           ],
           "yaxis": "y"
          },
          {
           "hoverlabel": {
            "namelength": 0
           },
           "hovertemplate": "Country_or_Area=Zimbabwe<br>Year=2008<br>GDP_Per_Capita(USD)=%{x}<br>Mortality_Rate(%)=%{y}<br>Population(mn)=%{marker.size}",
           "legendgroup": "Country_or_Area=Zimbabwe",
           "marker": {
            "color": "#FF6692",
            "size": [
             13.558469
            ],
            "sizemode": "area",
            "sizeref": 0.2483606316444444,
            "symbol": "circle"
           },
           "mode": "markers",
           "name": "Country_or_Area=Zimbabwe",
           "showlegend": true,
           "type": "scatter",
           "x": [
            475.7577497
           ],
           "xaxis": "x",
           "y": [
            9.8
           ],
           "yaxis": "y"
          },
          {
           "hoverlabel": {
            "namelength": 0
           },
           "hovertemplate": "Country_or_Area=Namibia<br>Year=2008<br>GDP_Per_Capita(USD)=%{x}<br>Mortality_Rate(%)=%{y}<br>Population(mn)=%{marker.size}",
           "legendgroup": "Country_or_Area=Namibia",
           "marker": {
            "color": "#B6E880",
            "size": [
             2.106375
            ],
            "sizemode": "area",
            "sizeref": 0.2483606316444444,
            "symbol": "circle"
           },
           "mode": "markers",
           "name": "Country_or_Area=Namibia",
           "showlegend": true,
           "type": "scatter",
           "x": [
            4029.0536829999996
           ],
           "xaxis": "x",
           "y": [
            6.09
           ],
           "yaxis": "y"
          },
          {
           "hoverlabel": {
            "namelength": 0
           },
           "hovertemplate": "Country_or_Area=Nigeria<br>Year=2008<br>GDP_Per_Capita(USD)=%{x}<br>Mortality_Rate(%)=%{y}<br>Population(mn)=%{marker.size}",
           "legendgroup": "Country_or_Area=Nigeria",
           "marker": {
            "color": "#FF97FF",
            "size": [
             150.34739
            ],
            "sizemode": "area",
            "sizeref": 0.2483606316444444,
            "symbol": "circle"
           },
           "mode": "markers",
           "name": "Country_or_Area=Nigeria",
           "showlegend": true,
           "type": "scatter",
           "x": [
            2225.382886
           ],
           "xaxis": "x",
           "y": [
            14.03
           ],
           "yaxis": "y"
          },
          {
           "hoverlabel": {
            "namelength": 0
           },
           "hovertemplate": "Country_or_Area=Thailand<br>Year=2008<br>GDP_Per_Capita(USD)=%{x}<br>Mortality_Rate(%)=%{y}<br>Population(mn)=%{marker.size}",
           "legendgroup": "Country_or_Area=Thailand",
           "marker": {
            "color": "#636efa",
            "size": [
             66.54576
            ],
            "sizemode": "area",
            "sizeref": 0.2483606316444444,
            "symbol": "circle"
           },
           "mode": "markers",
           "name": "Country_or_Area=Thailand",
           "showlegend": true,
           "type": "scatter",
           "x": [
            4378.687322
           ],
           "xaxis": "x",
           "y": [
            1.6
           ],
           "yaxis": "y"
          },
          {
           "hoverlabel": {
            "namelength": 0
           },
           "hovertemplate": "Country_or_Area=France<br>Year=2008<br>GDP_Per_Capita(USD)=%{x}<br>Mortality_Rate(%)=%{y}<br>Population(mn)=%{marker.size}",
           "legendgroup": "Country_or_Area=France",
           "marker": {
            "color": "#EF553B",
            "size": [
             62.329567000000004
            ],
            "sizemode": "area",
            "sizeref": 0.2483606316444444,
            "symbol": "circle"
           },
           "mode": "markers",
           "name": "Country_or_Area=France",
           "showlegend": true,
           "type": "scatter",
           "x": [
            45311.79102
           ],
           "xaxis": "x",
           "y": [
            0.43
           ],
           "yaxis": "y"
          },
          {
           "hoverlabel": {
            "namelength": 0
           },
           "hovertemplate": "Country_or_Area=Germany<br>Year=2008<br>GDP_Per_Capita(USD)=%{x}<br>Mortality_Rate(%)=%{y}<br>Population(mn)=%{marker.size}",
           "legendgroup": "Country_or_Area=Germany",
           "marker": {
            "color": "#00cc96",
            "size": [
             81.130944
            ],
            "sizemode": "area",
            "sizeref": 0.2483606316444444,
            "symbol": "circle"
           },
           "mode": "markers",
           "name": "Country_or_Area=Germany",
           "showlegend": true,
           "type": "scatter",
           "x": [
            46252.44603
           ],
           "xaxis": "x",
           "y": [
            0.44
           ],
           "yaxis": "y"
          },
          {
           "hoverlabel": {
            "namelength": 0
           },
           "hovertemplate": "Country_or_Area=Mexico<br>Year=2008<br>GDP_Per_Capita(USD)=%{x}<br>Mortality_Rate(%)=%{y}<br>Population(mn)=%{marker.size}",
           "legendgroup": "Country_or_Area=Mexico",
           "marker": {
            "color": "#ab63fa",
            "size": [
             113.661809
            ],
            "sizemode": "area",
            "sizeref": 0.2483606316444444,
            "symbol": "circle"
           },
           "mode": "markers",
           "name": "Country_or_Area=Mexico",
           "showlegend": true,
           "type": "scatter",
           "x": [
            9765.702404000001
           ],
           "xaxis": "x",
           "y": [
            1.84
           ],
           "yaxis": "y"
          }
         ],
         "name": "2008"
        },
        {
         "data": [
          {
           "hoverlabel": {
            "namelength": 0
           },
           "hovertemplate": "Country_or_Area=Afghanistan<br>Year=2009<br>GDP_Per_Capita(USD)=%{x}<br>Mortality_Rate(%)=%{y}<br>Population(mn)=%{marker.size}",
           "legendgroup": "Country_or_Area=Afghanistan",
           "marker": {
            "color": "#636efa",
            "size": [
             28.004331
            ],
            "sizemode": "area",
            "sizeref": 0.2483606316444444,
            "symbol": "circle"
           },
           "mode": "markers",
           "name": "Country_or_Area=Afghanistan",
           "showlegend": true,
           "type": "scatter",
           "x": [
            448.95191789999996
           ],
           "xaxis": "x",
           "y": [
            9.41
           ],
           "yaxis": "y"
          },
          {
           "hoverlabel": {
            "namelength": 0
           },
           "hovertemplate": "Country_or_Area=China<br>Year=2009<br>GDP_Per_Capita(USD)=%{x}<br>Mortality_Rate(%)=%{y}<br>Population(mn)=%{marker.size}",
           "legendgroup": "Country_or_Area=China",
           "marker": {
            "color": "#EF553B",
            "size": [
             1352.068091
            ],
            "sizemode": "area",
            "sizeref": 0.2483606316444444,
            "symbol": "circle"
           },
           "mode": "markers",
           "name": "Country_or_Area=China",
           "showlegend": true,
           "type": "scatter",
           "x": [
            3779.352581
           ],
           "xaxis": "x",
           "y": [
            1.7
           ],
           "yaxis": "y"
          },
          {
           "hoverlabel": {
            "namelength": 0
           },
           "hovertemplate": "Country_or_Area=India<br>Year=2009<br>GDP_Per_Capita(USD)=%{x}<br>Mortality_Rate(%)=%{y}<br>Population(mn)=%{marker.size}",
           "legendgroup": "Country_or_Area=India",
           "marker": {
            "color": "#00cc96",
            "size": [
             1214.270132
            ],
            "sizemode": "area",
            "sizeref": 0.2483606316444444,
            "symbol": "circle"
           },
           "mode": "markers",
           "name": "Country_or_Area=India",
           "showlegend": true,
           "type": "scatter",
           "x": [
            1083.144677
           ],
           "xaxis": "x",
           "y": [
            6.19
           ],
           "yaxis": "y"
          },
          {
           "hoverlabel": {
            "namelength": 0
           },
           "hovertemplate": "Country_or_Area=United States<br>Year=2009<br>GDP_Per_Capita(USD)=%{x}<br>Mortality_Rate(%)=%{y}<br>Population(mn)=%{marker.size}",
           "legendgroup": "Country_or_Area=United States",
           "marker": {
            "color": "#ab63fa",
            "size": [
             306.076362
            ],
            "sizemode": "area",
            "sizeref": 0.2483606316444444,
            "symbol": "circle"
           },
           "mode": "markers",
           "name": "Country_or_Area=United States",
           "showlegend": true,
           "type": "scatter",
           "x": [
            47206.95158
           ],
           "xaxis": "x",
           "y": [
            0.75
           ],
           "yaxis": "y"
          },
          {
           "hoverlabel": {
            "namelength": 0
           },
           "hovertemplate": "Country_or_Area=United Kingdom<br>Year=2009<br>GDP_Per_Capita(USD)=%{x}<br>Mortality_Rate(%)=%{y}<br>Population(mn)=%{marker.size}",
           "legendgroup": "Country_or_Area=United Kingdom",
           "marker": {
            "color": "#FFA15A",
            "size": [
             62.722606999999996
            ],
            "sizemode": "area",
            "sizeref": 0.2483606316444444,
            "symbol": "circle"
           },
           "mode": "markers",
           "name": "Country_or_Area=United Kingdom",
           "showlegend": true,
           "type": "scatter",
           "x": [
            38179.43866
           ],
           "xaxis": "x",
           "y": [
            0.54
           ],
           "yaxis": "y"
          },
          {
           "hoverlabel": {
            "namelength": 0
           },
           "hovertemplate": "Country_or_Area=Brazil<br>Year=2009<br>GDP_Per_Capita(USD)=%{x}<br>Mortality_Rate(%)=%{y}<br>Population(mn)=%{marker.size}",
           "legendgroup": "Country_or_Area=Brazil",
           "marker": {
            "color": "#19d3f3",
            "size": [
             194.895996
            ],
            "sizemode": "area",
            "sizeref": 0.2483606316444444,
            "symbol": "circle"
           },
           "mode": "markers",
           "name": "Country_or_Area=Brazil",
           "showlegend": true,
           "type": "scatter",
           "x": [
            8553.260859999999
           ],
           "xaxis": "x",
           "y": [
            2.08
           ],
           "yaxis": "y"
          },
          {
           "hoverlabel": {
            "namelength": 0
           },
           "hovertemplate": "Country_or_Area=Zimbabwe<br>Year=2009<br>GDP_Per_Capita(USD)=%{x}<br>Mortality_Rate(%)=%{y}<br>Population(mn)=%{marker.size}",
           "legendgroup": "Country_or_Area=Zimbabwe",
           "marker": {
            "color": "#FF6692",
            "size": [
             13.810599
            ],
            "sizemode": "area",
            "sizeref": 0.2483606316444444,
            "symbol": "circle"
           },
           "mode": "markers",
           "name": "Country_or_Area=Zimbabwe",
           "showlegend": true,
           "type": "scatter",
           "x": [
            624.2722425
           ],
           "xaxis": "x",
           "y": [
            9.49
           ],
           "yaxis": "y"
          },
          {
           "hoverlabel": {
            "namelength": 0
           },
           "hovertemplate": "Country_or_Area=Namibia<br>Year=2009<br>GDP_Per_Capita(USD)=%{x}<br>Mortality_Rate(%)=%{y}<br>Population(mn)=%{marker.size}",
           "legendgroup": "Country_or_Area=Namibia",
           "marker": {
            "color": "#B6E880",
            "size": [
             2.1370400000000003
            ],
            "sizemode": "area",
            "sizeref": 0.2483606316444444,
            "symbol": "circle"
           },
           "mode": "markers",
           "name": "Country_or_Area=Namibia",
           "showlegend": true,
           "type": "scatter",
           "x": [
            4153.5105539999995
           ],
           "xaxis": "x",
           "y": [
            5.86
           ],
           "yaxis": "y"
          },
          {
           "hoverlabel": {
            "namelength": 0
           },
           "hovertemplate": "Country_or_Area=Nigeria<br>Year=2009<br>GDP_Per_Capita(USD)=%{x}<br>Mortality_Rate(%)=%{y}<br>Population(mn)=%{marker.size}",
           "legendgroup": "Country_or_Area=Nigeria",
           "marker": {
            "color": "#FF97FF",
            "size": [
             154.402181
            ],
            "sizemode": "area",
            "sizeref": 0.2483606316444444,
            "symbol": "circle"
           },
           "mode": "markers",
           "name": "Country_or_Area=Nigeria",
           "showlegend": true,
           "type": "scatter",
           "x": [
            1765.10467
           ],
           "xaxis": "x",
           "y": [
            13.48
           ],
           "yaxis": "y"
          },
          {
           "hoverlabel": {
            "namelength": 0
           },
           "hovertemplate": "Country_or_Area=Thailand<br>Year=2009<br>GDP_Per_Capita(USD)=%{x}<br>Mortality_Rate(%)=%{y}<br>Population(mn)=%{marker.size}",
           "legendgroup": "Country_or_Area=Thailand",
           "marker": {
            "color": "#636efa",
            "size": [
             66.881867
            ],
            "sizemode": "area",
            "sizeref": 0.2483606316444444,
            "symbol": "circle"
           },
           "mode": "markers",
           "name": "Country_or_Area=Thailand",
           "showlegend": true,
           "type": "scatter",
           "x": [
            4212.058081
           ],
           "xaxis": "x",
           "y": [
            1.54
           ],
           "yaxis": "y"
          },
          {
           "hoverlabel": {
            "namelength": 0
           },
           "hovertemplate": "Country_or_Area=France<br>Year=2009<br>GDP_Per_Capita(USD)=%{x}<br>Mortality_Rate(%)=%{y}<br>Population(mn)=%{marker.size}",
           "legendgroup": "Country_or_Area=France",
           "marker": {
            "color": "#EF553B",
            "size": [
             62.687521
            ],
            "sizemode": "area",
            "sizeref": 0.2483606316444444,
            "symbol": "circle"
           },
           "mode": "markers",
           "name": "Country_or_Area=France",
           "showlegend": true,
           "type": "scatter",
           "x": [
            41521.45655
           ],
           "xaxis": "x",
           "y": [
            0.43
           ],
           "yaxis": "y"
          },
          {
           "hoverlabel": {
            "namelength": 0
           },
           "hovertemplate": "Country_or_Area=Germany<br>Year=2009<br>GDP_Per_Capita(USD)=%{x}<br>Mortality_Rate(%)=%{y}<br>Population(mn)=%{marker.size}",
           "legendgroup": "Country_or_Area=Germany",
           "marker": {
            "color": "#00cc96",
            "size": [
             80.965612
            ],
            "sizemode": "area",
            "sizeref": 0.2483606316444444,
            "symbol": "circle"
           },
           "mode": "markers",
           "name": "Country_or_Area=Germany",
           "showlegend": true,
           "type": "scatter",
           "x": [
            42212.972069999996
           ],
           "xaxis": "x",
           "y": [
            0.43
           ],
           "yaxis": "y"
          },
          {
           "hoverlabel": {
            "namelength": 0
           },
           "hovertemplate": "Country_or_Area=Mexico<br>Year=2009<br>GDP_Per_Capita(USD)=%{x}<br>Mortality_Rate(%)=%{y}<br>Population(mn)=%{marker.size}",
           "legendgroup": "Country_or_Area=Mexico",
           "marker": {
            "color": "#ab63fa",
            "size": [
             115.505228
            ],
            "sizemode": "area",
            "sizeref": 0.2483606316444444,
            "symbol": "circle"
           },
           "mode": "markers",
           "name": "Country_or_Area=Mexico",
           "showlegend": true,
           "type": "scatter",
           "x": [
            7792.262145000001
           ],
           "xaxis": "x",
           "y": [
            1.78
           ],
           "yaxis": "y"
          }
         ],
         "name": "2009"
        },
        {
         "data": [
          {
           "hoverlabel": {
            "namelength": 0
           },
           "hovertemplate": "Country_or_Area=Afghanistan<br>Year=2010<br>GDP_Per_Capita(USD)=%{x}<br>Mortality_Rate(%)=%{y}<br>Population(mn)=%{marker.size}",
           "legendgroup": "Country_or_Area=Afghanistan",
           "marker": {
            "color": "#636efa",
            "size": [
             28.803167
            ],
            "sizemode": "area",
            "sizeref": 0.2483606316444444,
            "symbol": "circle"
           },
           "mode": "markers",
           "name": "Country_or_Area=Afghanistan",
           "showlegend": true,
           "type": "scatter",
           "x": [
            558.1997646000001
           ],
           "xaxis": "x",
           "y": [
            9.02
           ],
           "yaxis": "y"
          },
          {
           "hoverlabel": {
            "namelength": 0
           },
           "hovertemplate": "Country_or_Area=China<br>Year=2010<br>GDP_Per_Capita(USD)=%{x}<br>Mortality_Rate(%)=%{y}<br>Population(mn)=%{marker.size}",
           "legendgroup": "Country_or_Area=China",
           "marker": {
            "color": "#EF553B",
            "size": [
             1359.7551019999999
            ],
            "sizemode": "area",
            "sizeref": 0.2483606316444444,
            "symbol": "circle"
           },
           "mode": "markers",
           "name": "Country_or_Area=China",
           "showlegend": true,
           "type": "scatter",
           "x": [
            4486.57869
           ],
           "xaxis": "x",
           "y": [
            1.57
           ],
           "yaxis": "y"
          },
          {
           "hoverlabel": {
            "namelength": 0
           },
           "hovertemplate": "Country_or_Area=India<br>Year=2010<br>GDP_Per_Capita(USD)=%{x}<br>Mortality_Rate(%)=%{y}<br>Population(mn)=%{marker.size}",
           "legendgroup": "Country_or_Area=India",
           "marker": {
            "color": "#00cc96",
            "size": [
             1230.980691
            ],
            "sizemode": "area",
            "sizeref": 0.2483606316444444,
            "symbol": "circle"
           },
           "mode": "markers",
           "name": "Country_or_Area=India",
           "showlegend": true,
           "type": "scatter",
           "x": [
            1356.3330310000001
           ],
           "xaxis": "x",
           "y": [
            5.88
           ],
           "yaxis": "y"
          },
          {
           "hoverlabel": {
            "namelength": 0
           },
           "hovertemplate": "Country_or_Area=United States<br>Year=2010<br>GDP_Per_Capita(USD)=%{x}<br>Mortality_Rate(%)=%{y}<br>Population(mn)=%{marker.size}",
           "legendgroup": "Country_or_Area=United States",
           "marker": {
            "color": "#ab63fa",
            "size": [
             308.641391
            ],
            "sizemode": "area",
            "sizeref": 0.2483606316444444,
            "symbol": "circle"
           },
           "mode": "markers",
           "name": "Country_or_Area=United States",
           "showlegend": true,
           "type": "scatter",
           "x": [
            48574.34044
           ],
           "xaxis": "x",
           "y": [
            0.73
           ],
           "yaxis": "y"
          },
          {
           "hoverlabel": {
            "namelength": 0
           },
           "hovertemplate": "Country_or_Area=United Kingdom<br>Year=2010<br>GDP_Per_Capita(USD)=%{x}<br>Mortality_Rate(%)=%{y}<br>Population(mn)=%{marker.size}",
           "legendgroup": "Country_or_Area=United Kingdom",
           "marker": {
            "color": "#FFA15A",
            "size": [
             63.30684300000001
            ],
            "sizemode": "area",
            "sizeref": 0.2483606316444444,
            "symbol": "circle"
           },
           "mode": "markers",
           "name": "Country_or_Area=United Kingdom",
           "showlegend": true,
           "type": "scatter",
           "x": [
            38746.20102
           ],
           "xaxis": "x",
           "y": [
            0.52
           ],
           "yaxis": "y"
          },
          {
           "hoverlabel": {
            "namelength": 0
           },
           "hovertemplate": "Country_or_Area=Brazil<br>Year=2010<br>GDP_Per_Capita(USD)=%{x}<br>Mortality_Rate(%)=%{y}<br>Population(mn)=%{marker.size}",
           "legendgroup": "Country_or_Area=Brazil",
           "marker": {
            "color": "#19d3f3",
            "size": [
             196.796269
            ],
            "sizemode": "area",
            "sizeref": 0.2483606316444444,
            "symbol": "circle"
           },
           "mode": "markers",
           "name": "Country_or_Area=Brazil",
           "showlegend": true,
           "type": "scatter",
           "x": [
            11223.98367
           ],
           "xaxis": "x",
           "y": [
            1.98
           ],
           "yaxis": "y"
          },
          {
           "hoverlabel": {
            "namelength": 0
           },
           "hovertemplate": "Country_or_Area=Zimbabwe<br>Year=2010<br>GDP_Per_Capita(USD)=%{x}<br>Mortality_Rate(%)=%{y}<br>Population(mn)=%{marker.size}",
           "legendgroup": "Country_or_Area=Zimbabwe",
           "marker": {
            "color": "#FF6692",
            "size": [
             14.086317000000001
            ],
            "sizemode": "area",
            "sizeref": 0.2483606316444444,
            "symbol": "circle"
           },
           "mode": "markers",
           "name": "Country_or_Area=Zimbabwe",
           "showlegend": true,
           "type": "scatter",
           "x": [
            719.979517
           ],
           "xaxis": "x",
           "y": [
            8.99
           ],
           "yaxis": "y"
          },
          {
           "hoverlabel": {
            "namelength": 0
           },
           "hovertemplate": "Country_or_Area=Namibia<br>Year=2010<br>GDP_Per_Capita(USD)=%{x}<br>Mortality_Rate(%)=%{y}<br>Population(mn)=%{marker.size}",
           "legendgroup": "Country_or_Area=Namibia",
           "marker": {
            "color": "#B6E880",
            "size": [
             2.1731700000000003
            ],
            "sizemode": "area",
            "sizeref": 0.2483606316444444,
            "symbol": "circle"
           },
           "mode": "markers",
           "name": "Country_or_Area=Namibia",
           "showlegend": true,
           "type": "scatter",
           "x": [
            5191.567506
           ],
           "xaxis": "x",
           "y": [
            5.6
           ],
           "yaxis": "y"
          },
          {
           "hoverlabel": {
            "namelength": 0
           },
           "hovertemplate": "Country_or_Area=Nigeria<br>Year=2010<br>GDP_Per_Capita(USD)=%{x}<br>Mortality_Rate(%)=%{y}<br>Population(mn)=%{marker.size}",
           "legendgroup": "Country_or_Area=Nigeria",
           "marker": {
            "color": "#FF97FF",
            "size": [
             158.578261
            ],
            "sizemode": "area",
            "sizeref": 0.2483606316444444,
            "symbol": "circle"
           },
           "mode": "markers",
           "name": "Country_or_Area=Nigeria",
           "showlegend": true,
           "type": "scatter",
           "x": [
            2327.320283
           ],
           "xaxis": "x",
           "y": [
            12.96
           ],
           "yaxis": "y"
          },
          {
           "hoverlabel": {
            "namelength": 0
           },
           "hovertemplate": "Country_or_Area=Thailand<br>Year=2010<br>GDP_Per_Capita(USD)=%{x}<br>Mortality_Rate(%)=%{y}<br>Population(mn)=%{marker.size}",
           "legendgroup": "Country_or_Area=Thailand",
           "marker": {
            "color": "#636efa",
            "size": [
             67.20880799999999
            ],
            "sizemode": "area",
            "sizeref": 0.2483606316444444,
            "symbol": "circle"
           },
           "mode": "markers",
           "name": "Country_or_Area=Thailand",
           "showlegend": true,
           "type": "scatter",
           "x": [
            5075.301375999999
           ],
           "xaxis": "x",
           "y": [
            1.49
           ],
           "yaxis": "y"
          },
          {
           "hoverlabel": {
            "namelength": 0
           },
           "hovertemplate": "Country_or_Area=France<br>Year=2010<br>GDP_Per_Capita(USD)=%{x}<br>Mortality_Rate(%)=%{y}<br>Population(mn)=%{marker.size}",
           "legendgroup": "Country_or_Area=France",
           "marker": {
            "color": "#EF553B",
            "size": [
             63.026740000000004
            ],
            "sizemode": "area",
            "sizeref": 0.2483606316444444,
            "symbol": "circle"
           },
           "mode": "markers",
           "name": "Country_or_Area=France",
           "showlegend": true,
           "type": "scatter",
           "x": [
            40564.55085
           ],
           "xaxis": "x",
           "y": [
            0.42
           ],
           "yaxis": "y"
          },
          {
           "hoverlabel": {
            "namelength": 0
           },
           "hovertemplate": "Country_or_Area=Germany<br>Year=2010<br>GDP_Per_Capita(USD)=%{x}<br>Mortality_Rate(%)=%{y}<br>Population(mn)=%{marker.size}",
           "legendgroup": "Country_or_Area=Germany",
           "marker": {
            "color": "#00cc96",
            "size": [
             80.894785
            ],
            "sizemode": "area",
            "sizeref": 0.2483606316444444,
            "symbol": "circle"
           },
           "mode": "markers",
           "name": "Country_or_Area=Germany",
           "showlegend": true,
           "type": "scatter",
           "x": [
            42241.22189
           ],
           "xaxis": "x",
           "y": [
            0.42
           ],
           "yaxis": "y"
          },
          {
           "hoverlabel": {
            "namelength": 0
           },
           "hovertemplate": "Country_or_Area=Mexico<br>Year=2010<br>GDP_Per_Capita(USD)=%{x}<br>Mortality_Rate(%)=%{y}<br>Population(mn)=%{marker.size}",
           "legendgroup": "Country_or_Area=Mexico",
           "marker": {
            "color": "#ab63fa",
            "size": [
             117.318941
            ],
            "sizemode": "area",
            "sizeref": 0.2483606316444444,
            "symbol": "circle"
           },
           "mode": "markers",
           "name": "Country_or_Area=Mexico",
           "showlegend": true,
           "type": "scatter",
           "x": [
            9016.451981
           ],
           "xaxis": "x",
           "y": [
            1.73
           ],
           "yaxis": "y"
          }
         ],
         "name": "2010"
        },
        {
         "data": [
          {
           "hoverlabel": {
            "namelength": 0
           },
           "hovertemplate": "Country_or_Area=Afghanistan<br>Year=2011<br>GDP_Per_Capita(USD)=%{x}<br>Mortality_Rate(%)=%{y}<br>Population(mn)=%{marker.size}",
           "legendgroup": "Country_or_Area=Afghanistan",
           "marker": {
            "color": "#636efa",
            "size": [
             29.708599
            ],
            "sizemode": "area",
            "sizeref": 0.2483606316444444,
            "symbol": "circle"
           },
           "mode": "markers",
           "name": "Country_or_Area=Afghanistan",
           "showlegend": true,
           "type": "scatter",
           "x": [
            645.2834634999999
           ],
           "xaxis": "x",
           "y": [
            8.64
           ],
           "yaxis": "y"
          },
          {
           "hoverlabel": {
            "namelength": 0
           },
           "hovertemplate": "Country_or_Area=China<br>Year=2011<br>GDP_Per_Capita(USD)=%{x}<br>Mortality_Rate(%)=%{y}<br>Population(mn)=%{marker.size}",
           "legendgroup": "Country_or_Area=China",
           "marker": {
            "color": "#EF553B",
            "size": [
             1367.480264
            ],
            "sizemode": "area",
            "sizeref": 0.2483606316444444,
            "symbol": "circle"
           },
           "mode": "markers",
           "name": "Country_or_Area=China",
           "showlegend": true,
           "type": "scatter",
           "x": [
            5537.629963
           ],
           "xaxis": "x",
           "y": [
            1.46
           ],
           "yaxis": "y"
          },
          {
           "hoverlabel": {
            "namelength": 0
           },
           "hovertemplate": "Country_or_Area=India<br>Year=2011<br>GDP_Per_Capita(USD)=%{x}<br>Mortality_Rate(%)=%{y}<br>Population(mn)=%{marker.size}",
           "legendgroup": "Country_or_Area=India",
           "marker": {
            "color": "#00cc96",
            "size": [
             1247.236029
            ],
            "sizemode": "area",
            "sizeref": 0.2483606316444444,
            "symbol": "circle"
           },
           "mode": "markers",
           "name": "Country_or_Area=India",
           "showlegend": true,
           "type": "scatter",
           "x": [
            1500.85306
           ],
           "xaxis": "x",
           "y": [
            5.59
           ],
           "yaxis": "y"
          },
          {
           "hoverlabel": {
            "namelength": 0
           },
           "hovertemplate": "Country_or_Area=United States<br>Year=2011<br>GDP_Per_Capita(USD)=%{x}<br>Mortality_Rate(%)=%{y}<br>Population(mn)=%{marker.size}",
           "legendgroup": "Country_or_Area=United States",
           "marker": {
            "color": "#ab63fa",
            "size": [
             311.051373
            ],
            "sizemode": "area",
            "sizeref": 0.2483606316444444,
            "symbol": "circle"
           },
           "mode": "markers",
           "name": "Country_or_Area=United States",
           "showlegend": true,
           "type": "scatter",
           "x": [
            49967.89389
           ],
           "xaxis": "x",
           "y": [
            0.72
           ],
           "yaxis": "y"
          },
          {
           "hoverlabel": {
            "namelength": 0
           },
           "hovertemplate": "Country_or_Area=United Kingdom<br>Year=2011<br>GDP_Per_Capita(USD)=%{x}<br>Mortality_Rate(%)=%{y}<br>Population(mn)=%{marker.size}",
           "legendgroup": "Country_or_Area=United Kingdom",
           "marker": {
            "color": "#FFA15A",
            "size": [
             63.811882
            ],
            "sizemode": "area",
            "sizeref": 0.2483606316444444,
            "symbol": "circle"
           },
           "mode": "markers",
           "name": "Country_or_Area=United Kingdom",
           "showlegend": true,
           "type": "scatter",
           "x": [
            41291.61546
           ],
           "xaxis": "x",
           "y": [
            0.5
           ],
           "yaxis": "y"
          },
          {
           "hoverlabel": {
            "namelength": 0
           },
           "hovertemplate": "Country_or_Area=Brazil<br>Year=2011<br>GDP_Per_Capita(USD)=%{x}<br>Mortality_Rate(%)=%{y}<br>Population(mn)=%{marker.size}",
           "legendgroup": "Country_or_Area=Brazil",
           "marker": {
            "color": "#19d3f3",
            "size": [
             198.68668799999998
            ],
            "sizemode": "area",
            "sizeref": 0.2483606316444444,
            "symbol": "circle"
           },
           "mode": "markers",
           "name": "Country_or_Area=Brazil",
           "showlegend": true,
           "type": "scatter",
           "x": [
            13167.24655
           ],
           "xaxis": "x",
           "y": [
            1.89
           ],
           "yaxis": "y"
          },
          {
           "hoverlabel": {
            "namelength": 0
           },
           "hovertemplate": "Country_or_Area=Zimbabwe<br>Year=2011<br>GDP_Per_Capita(USD)=%{x}<br>Mortality_Rate(%)=%{y}<br>Population(mn)=%{marker.size}",
           "legendgroup": "Country_or_Area=Zimbabwe",
           "marker": {
            "color": "#FF6692",
            "size": [
             14.386648999999998
            ],
            "sizemode": "area",
            "sizeref": 0.2483606316444444,
            "symbol": "circle"
           },
           "mode": "markers",
           "name": "Country_or_Area=Zimbabwe",
           "showlegend": true,
           "type": "scatter",
           "x": [
            840.9498799
           ],
           "xaxis": "x",
           "y": [
            8.38
           ],
           "yaxis": "y"
          },
          {
           "hoverlabel": {
            "namelength": 0
           },
           "hovertemplate": "Country_or_Area=Namibia<br>Year=2011<br>GDP_Per_Capita(USD)=%{x}<br>Mortality_Rate(%)=%{y}<br>Population(mn)=%{marker.size}",
           "legendgroup": "Country_or_Area=Namibia",
           "marker": {
            "color": "#B6E880",
            "size": [
             2.215621
            ],
            "sizemode": "area",
            "sizeref": 0.2483606316444444,
            "symbol": "circle"
           },
           "mode": "markers",
           "name": "Country_or_Area=Namibia",
           "showlegend": true,
           "type": "scatter",
           "x": [
            5600.946603
           ],
           "xaxis": "x",
           "y": [
            5.4
           ],
           "yaxis": "y"
          },
          {
           "hoverlabel": {
            "namelength": 0
           },
           "hovertemplate": "Country_or_Area=Nigeria<br>Year=2011<br>GDP_Per_Capita(USD)=%{x}<br>Mortality_Rate(%)=%{y}<br>Population(mn)=%{marker.size}",
           "legendgroup": "Country_or_Area=Nigeria",
           "marker": {
            "color": "#FF97FF",
            "size": [
             162.877076
            ],
            "sizemode": "area",
            "sizeref": 0.2483606316444444,
            "symbol": "circle"
           },
           "mode": "markers",
           "name": "Country_or_Area=Nigeria",
           "showlegend": true,
           "type": "scatter",
           "x": [
            2542.378883
           ],
           "xaxis": "x",
           "y": [
            12.46
           ],
           "yaxis": "y"
          },
          {
           "hoverlabel": {
            "namelength": 0
           },
           "hovertemplate": "Country_or_Area=Thailand<br>Year=2011<br>GDP_Per_Capita(USD)=%{x}<br>Mortality_Rate(%)=%{y}<br>Population(mn)=%{marker.size}",
           "legendgroup": "Country_or_Area=Thailand",
           "marker": {
            "color": "#636efa",
            "size": [
             67.53013
            ],
            "sizemode": "area",
            "sizeref": 0.2483606316444444,
            "symbol": "circle"
           },
           "mode": "markers",
           "name": "Country_or_Area=Thailand",
           "showlegend": true,
           "type": "scatter",
           "x": [
            5491.153979
           ],
           "xaxis": "x",
           "y": [
            1.44
           ],
           "yaxis": "y"
          },
          {
           "hoverlabel": {
            "namelength": 0
           },
           "hovertemplate": "Country_or_Area=France<br>Year=2011<br>GDP_Per_Capita(USD)=%{x}<br>Mortality_Rate(%)=%{y}<br>Population(mn)=%{marker.size}",
           "legendgroup": "Country_or_Area=France",
           "marker": {
            "color": "#EF553B",
            "size": [
             63.343577
            ],
            "sizemode": "area",
            "sizeref": 0.2483606316444444,
            "symbol": "circle"
           },
           "mode": "markers",
           "name": "Country_or_Area=France",
           "showlegend": true,
           "type": "scatter",
           "x": [
            43698.22068
           ],
           "xaxis": "x",
           "y": [
            0.42
           ],
           "yaxis": "y"
          },
          {
           "hoverlabel": {
            "namelength": 0
           },
           "hovertemplate": "Country_or_Area=Germany<br>Year=2011<br>GDP_Per_Capita(USD)=%{x}<br>Mortality_Rate(%)=%{y}<br>Population(mn)=%{marker.size}",
           "legendgroup": "Country_or_Area=Germany",
           "marker": {
            "color": "#00cc96",
            "size": [
             80.93398
            ],
            "sizemode": "area",
            "sizeref": 0.2483606316444444,
            "symbol": "circle"
           },
           "mode": "markers",
           "name": "Country_or_Area=Germany",
           "showlegend": true,
           "type": "scatter",
           "x": [
            46429.17945
           ],
           "xaxis": "x",
           "y": [
            0.41
           ],
           "yaxis": "y"
          },
          {
           "hoverlabel": {
            "namelength": 0
           },
           "hovertemplate": "Country_or_Area=Mexico<br>Year=2011<br>GDP_Per_Capita(USD)=%{x}<br>Mortality_Rate(%)=%{y}<br>Population(mn)=%{marker.size}",
           "legendgroup": "Country_or_Area=Mexico",
           "marker": {
            "color": "#ab63fa",
            "size": [
             119.09001699999999
            ],
            "sizemode": "area",
            "sizeref": 0.2483606316444444,
            "symbol": "circle"
           },
           "mode": "markers",
           "name": "Country_or_Area=Mexico",
           "showlegend": true,
           "type": "scatter",
           "x": [
            9912.562414
           ],
           "xaxis": "x",
           "y": [
            1.68
           ],
           "yaxis": "y"
          }
         ],
         "name": "2011"
        },
        {
         "data": [
          {
           "hoverlabel": {
            "namelength": 0
           },
           "hovertemplate": "Country_or_Area=Afghanistan<br>Year=2012<br>GDP_Per_Capita(USD)=%{x}<br>Mortality_Rate(%)=%{y}<br>Population(mn)=%{marker.size}",
           "legendgroup": "Country_or_Area=Afghanistan",
           "marker": {
            "color": "#636efa",
            "size": [
             30.696958000000002
            ],
            "sizemode": "area",
            "sizeref": 0.2483606316444444,
            "symbol": "circle"
           },
           "mode": "markers",
           "name": "Country_or_Area=Afghanistan",
           "showlegend": true,
           "type": "scatter",
           "x": [
            694.8856184
           ],
           "xaxis": "x",
           "y": [
            8.28
           ],
           "yaxis": "y"
          },
          {
           "hoverlabel": {
            "namelength": 0
           },
           "hovertemplate": "Country_or_Area=China<br>Year=2012<br>GDP_Per_Capita(USD)=%{x}<br>Mortality_Rate(%)=%{y}<br>Population(mn)=%{marker.size}",
           "legendgroup": "Country_or_Area=China",
           "marker": {
            "color": "#EF553B",
            "size": [
             1375.198619
            ],
            "sizemode": "area",
            "sizeref": 0.2483606316444444,
            "symbol": "circle"
           },
           "mode": "markers",
           "name": "Country_or_Area=China",
           "showlegend": true,
           "type": "scatter",
           "x": [
            6224.9207
           ],
           "xaxis": "x",
           "y": [
            1.35
           ],
           "yaxis": "y"
          },
          {
           "hoverlabel": {
            "namelength": 0
           },
           "hovertemplate": "Country_or_Area=India<br>Year=2012<br>GDP_Per_Capita(USD)=%{x}<br>Mortality_Rate(%)=%{y}<br>Population(mn)=%{marker.size}",
           "legendgroup": "Country_or_Area=India",
           "marker": {
            "color": "#00cc96",
            "size": [
             1263.065852
            ],
            "sizemode": "area",
            "sizeref": 0.2483606316444444,
            "symbol": "circle"
           },
           "mode": "markers",
           "name": "Country_or_Area=India",
           "showlegend": true,
           "type": "scatter",
           "x": [
            1473.301833
           ],
           "xaxis": "x",
           "y": [
            5.3
           ],
           "yaxis": "y"
          },
          {
           "hoverlabel": {
            "namelength": 0
           },
           "hovertemplate": "Country_or_Area=United States<br>Year=2012<br>GDP_Per_Capita(USD)=%{x}<br>Mortality_Rate(%)=%{y}<br>Population(mn)=%{marker.size}",
           "legendgroup": "Country_or_Area=United States",
           "marker": {
            "color": "#ab63fa",
            "size": [
             313.335423
            ],
            "sizemode": "area",
            "sizeref": 0.2483606316444444,
            "symbol": "circle"
           },
           "mode": "markers",
           "name": "Country_or_Area=United States",
           "showlegend": true,
           "type": "scatter",
           "x": [
            51692.230789999994
           ],
           "xaxis": "x",
           "y": [
            0.7
           ],
           "yaxis": "y"
          },
          {
           "hoverlabel": {
            "namelength": 0
           },
           "hovertemplate": "Country_or_Area=United Kingdom<br>Year=2012<br>GDP_Per_Capita(USD)=%{x}<br>Mortality_Rate(%)=%{y}<br>Population(mn)=%{marker.size}",
           "legendgroup": "Country_or_Area=United Kingdom",
           "marker": {
            "color": "#FFA15A",
            "size": [
             64.25033
            ],
            "sizemode": "area",
            "sizeref": 0.2483606316444444,
            "symbol": "circle"
           },
           "mode": "markers",
           "name": "Country_or_Area=United Kingdom",
           "showlegend": true,
           "type": "scatter",
           "x": [
            41659.01432
           ],
           "xaxis": "x",
           "y": [
            0.48
           ],
           "yaxis": "y"
          },
          {
           "hoverlabel": {
            "namelength": 0
           },
           "hovertemplate": "Country_or_Area=Brazil<br>Year=2012<br>GDP_Per_Capita(USD)=%{x}<br>Mortality_Rate(%)=%{y}<br>Population(mn)=%{marker.size}",
           "legendgroup": "Country_or_Area=Brazil",
           "marker": {
            "color": "#19d3f3",
            "size": [
             200.56098300000002
            ],
            "sizemode": "area",
            "sizeref": 0.2483606316444444,
            "symbol": "circle"
           },
           "mode": "markers",
           "name": "Country_or_Area=Brazil",
           "showlegend": true,
           "type": "scatter",
           "x": [
            12291.6644
           ],
           "xaxis": "x",
           "y": [
            1.8
           ],
           "yaxis": "y"
          },
          {
           "hoverlabel": {
            "namelength": 0
           },
           "hovertemplate": "Country_or_Area=Zimbabwe<br>Year=2012<br>GDP_Per_Capita(USD)=%{x}<br>Mortality_Rate(%)=%{y}<br>Population(mn)=%{marker.size}",
           "legendgroup": "Country_or_Area=Zimbabwe",
           "marker": {
            "color": "#FF6692",
            "size": [
             14.710826
            ],
            "sizemode": "area",
            "sizeref": 0.2483606316444444,
            "symbol": "circle"
           },
           "mode": "markers",
           "name": "Country_or_Area=Zimbabwe",
           "showlegend": true,
           "type": "scatter",
           "x": [
            968.1638714
           ],
           "xaxis": "x",
           "y": [
            7.6
           ],
           "yaxis": "y"
          },
          {
           "hoverlabel": {
            "namelength": 0
           },
           "hovertemplate": "Country_or_Area=Namibia<br>Year=2012<br>GDP_Per_Capita(USD)=%{x}<br>Mortality_Rate(%)=%{y}<br>Population(mn)=%{marker.size}",
           "legendgroup": "Country_or_Area=Namibia",
           "marker": {
            "color": "#B6E880",
            "size": [
             2.263934
            ],
            "sizemode": "area",
            "sizeref": 0.2483606316444444,
            "symbol": "circle"
           },
           "mode": "markers",
           "name": "Country_or_Area=Namibia",
           "showlegend": true,
           "type": "scatter",
           "x": [
            5749.373331000001
           ],
           "xaxis": "x",
           "y": [
            5.34
           ],
           "yaxis": "y"
          },
          {
           "hoverlabel": {
            "namelength": 0
           },
           "hovertemplate": "Country_or_Area=Nigeria<br>Year=2012<br>GDP_Per_Capita(USD)=%{x}<br>Mortality_Rate(%)=%{y}<br>Population(mn)=%{marker.size}",
           "legendgroup": "Country_or_Area=Nigeria",
           "marker": {
            "color": "#FF97FF",
            "size": [
             167.29728400000002
            ],
            "sizemode": "area",
            "sizeref": 0.2483606316444444,
            "symbol": "circle"
           },
           "mode": "markers",
           "name": "Country_or_Area=Nigeria",
           "showlegend": true,
           "type": "scatter",
           "x": [
            2755.28509
           ],
           "xaxis": "x",
           "y": [
            12
           ],
           "yaxis": "y"
          },
          {
           "hoverlabel": {
            "namelength": 0
           },
           "hovertemplate": "Country_or_Area=Thailand<br>Year=2012<br>GDP_Per_Capita(USD)=%{x}<br>Mortality_Rate(%)=%{y}<br>Population(mn)=%{marker.size}",
           "legendgroup": "Country_or_Area=Thailand",
           "marker": {
            "color": "#636efa",
            "size": [
             67.843979
            ],
            "sizemode": "area",
            "sizeref": 0.2483606316444444,
            "symbol": "circle"
           },
           "mode": "markers",
           "name": "Country_or_Area=Thailand",
           "showlegend": true,
           "type": "scatter",
           "x": [
            5859.889215
           ],
           "xaxis": "x",
           "y": [
            1.39
           ],
           "yaxis": "y"
          },
          {
           "hoverlabel": {
            "namelength": 0
           },
           "hovertemplate": "Country_or_Area=France<br>Year=2012<br>GDP_Per_Capita(USD)=%{x}<br>Mortality_Rate(%)=%{y}<br>Population(mn)=%{marker.size}",
           "legendgroup": "Country_or_Area=France",
           "marker": {
            "color": "#EF553B",
            "size": [
             63.639873
            ],
            "sizemode": "area",
            "sizeref": 0.2483606316444444,
            "symbol": "circle"
           },
           "mode": "markers",
           "name": "Country_or_Area=France",
           "showlegend": true,
           "type": "scatter",
           "x": [
            40790.63579
           ],
           "xaxis": "x",
           "y": [
            0.41
           ],
           "yaxis": "y"
          },
          {
           "hoverlabel": {
            "namelength": 0
           },
           "hovertemplate": "Country_or_Area=Germany<br>Year=2012<br>GDP_Per_Capita(USD)=%{x}<br>Mortality_Rate(%)=%{y}<br>Population(mn)=%{marker.size}",
           "legendgroup": "Country_or_Area=Germany",
           "marker": {
            "color": "#00cc96",
            "size": [
             81.06622800000001
            ],
            "sizemode": "area",
            "sizeref": 0.2483606316444444,
            "symbol": "circle"
           },
           "mode": "markers",
           "name": "Country_or_Area=Germany",
           "showlegend": true,
           "type": "scatter",
           "x": [
            43717.143339999995
           ],
           "xaxis": "x",
           "y": [
            0.4
           ],
           "yaxis": "y"
          },
          {
           "hoverlabel": {
            "namelength": 0
           },
           "hovertemplate": "Country_or_Area=Mexico<br>Year=2012<br>GDP_Per_Capita(USD)=%{x}<br>Mortality_Rate(%)=%{y}<br>Population(mn)=%{marker.size}",
           "legendgroup": "Country_or_Area=Mexico",
           "marker": {
            "color": "#ab63fa",
            "size": [
             120.82830700000001
            ],
            "sizemode": "area",
            "sizeref": 0.2483606316444444,
            "symbol": "circle"
           },
           "mode": "markers",
           "name": "Country_or_Area=Mexico",
           "showlegend": true,
           "type": "scatter",
           "x": [
            9940.500012
           ],
           "xaxis": "x",
           "y": [
            1.63
           ],
           "yaxis": "y"
          }
         ],
         "name": "2012"
        },
        {
         "data": [
          {
           "hoverlabel": {
            "namelength": 0
           },
           "hovertemplate": "Country_or_Area=Afghanistan<br>Year=2013<br>GDP_Per_Capita(USD)=%{x}<br>Mortality_Rate(%)=%{y}<br>Population(mn)=%{marker.size}",
           "legendgroup": "Country_or_Area=Afghanistan",
           "marker": {
            "color": "#636efa",
            "size": [
             31.731688000000002
            ],
            "sizemode": "area",
            "sizeref": 0.2483606316444444,
            "symbol": "circle"
           },
           "mode": "markers",
           "name": "Country_or_Area=Afghanistan",
           "showlegend": true,
           "type": "scatter",
           "x": [
            681.0342147999999
           ],
           "xaxis": "x",
           "y": [
            7.93
           ],
           "yaxis": "y"
          },
          {
           "hoverlabel": {
            "namelength": 0
           },
           "hovertemplate": "Country_or_Area=China<br>Year=2013<br>GDP_Per_Capita(USD)=%{x}<br>Mortality_Rate(%)=%{y}<br>Population(mn)=%{marker.size}",
           "legendgroup": "Country_or_Area=China",
           "marker": {
            "color": "#EF553B",
            "size": [
             1382.7932119999998
            ],
            "sizemode": "area",
            "sizeref": 0.2483606316444444,
            "symbol": "circle"
           },
           "mode": "markers",
           "name": "Country_or_Area=China",
           "showlegend": true,
           "type": "scatter",
           "x": [
            6947.741982
           ],
           "xaxis": "x",
           "y": [
            1.25
           ],
           "yaxis": "y"
          },
          {
           "hoverlabel": {
            "namelength": 0
           },
           "hovertemplate": "Country_or_Area=India<br>Year=2013<br>GDP_Per_Capita(USD)=%{x}<br>Mortality_Rate(%)=%{y}<br>Population(mn)=%{marker.size}",
           "legendgroup": "Country_or_Area=India",
           "marker": {
            "color": "#00cc96",
            "size": [
             1278.562207
            ],
            "sizemode": "area",
            "sizeref": 0.2483606316444444,
            "symbol": "circle"
           },
           "mode": "markers",
           "name": "Country_or_Area=India",
           "showlegend": true,
           "type": "scatter",
           "x": [
            1499.38242
           ],
           "xaxis": "x",
           "y": [
            5.03
           ],
           "yaxis": "y"
          },
          {
           "hoverlabel": {
            "namelength": 0
           },
           "hovertemplate": "Country_or_Area=United States<br>Year=2013<br>GDP_Per_Capita(USD)=%{x}<br>Mortality_Rate(%)=%{y}<br>Population(mn)=%{marker.size}",
           "legendgroup": "Country_or_Area=United States",
           "marker": {
            "color": "#ab63fa",
            "size": [
             315.536676
            ],
            "sizemode": "area",
            "sizeref": 0.2483606316444444,
            "symbol": "circle"
           },
           "mode": "markers",
           "name": "Country_or_Area=United States",
           "showlegend": true,
           "type": "scatter",
           "x": [
            53194.61184
           ],
           "xaxis": "x",
           "y": [
            0.69
           ],
           "yaxis": "y"
          },
          {
           "hoverlabel": {
            "namelength": 0
           },
           "hovertemplate": "Country_or_Area=United Kingdom<br>Year=2013<br>GDP_Per_Capita(USD)=%{x}<br>Mortality_Rate(%)=%{y}<br>Population(mn)=%{marker.size}",
           "legendgroup": "Country_or_Area=United Kingdom",
           "marker": {
            "color": "#FFA15A",
            "size": [
             64.64111
            ],
            "sizemode": "area",
            "sizeref": 0.2483606316444444,
            "symbol": "circle"
           },
           "mode": "markers",
           "name": "Country_or_Area=United Kingdom",
           "showlegend": true,
           "type": "scatter",
           "x": [
            42597.73747
           ],
           "xaxis": "x",
           "y": [
            0.46
           ],
           "yaxis": "y"
          },
          {
           "hoverlabel": {
            "namelength": 0
           },
           "hovertemplate": "Country_or_Area=Brazil<br>Year=2013<br>GDP_Per_Capita(USD)=%{x}<br>Mortality_Rate(%)=%{y}<br>Population(mn)=%{marker.size}",
           "legendgroup": "Country_or_Area=Brazil",
           "marker": {
            "color": "#19d3f3",
            "size": [
             202.408632
            ],
            "sizemode": "area",
            "sizeref": 0.2483606316444444,
            "symbol": "circle"
           },
           "mode": "markers",
           "name": "Country_or_Area=Brazil",
           "showlegend": true,
           "type": "scatter",
           "x": [
            12216.96594
           ],
           "xaxis": "x",
           "y": [
            1.72
           ],
           "yaxis": "y"
          },
          {
           "hoverlabel": {
            "namelength": 0
           },
           "hovertemplate": "Country_or_Area=Zimbabwe<br>Year=2013<br>GDP_Per_Capita(USD)=%{x}<br>Mortality_Rate(%)=%{y}<br>Population(mn)=%{marker.size}",
           "legendgroup": "Country_or_Area=Zimbabwe",
           "marker": {
            "color": "#FF6692",
            "size": [
             15.054506
            ],
            "sizemode": "area",
            "sizeref": 0.2483606316444444,
            "symbol": "circle"
           },
           "mode": "markers",
           "name": "Country_or_Area=Zimbabwe",
           "showlegend": true,
           "type": "scatter",
           "x": [
            1026.388289
           ],
           "xaxis": "x",
           "y": [
            7
           ],
           "yaxis": "y"
          },
          {
           "hoverlabel": {
            "namelength": 0
           },
           "hovertemplate": "Country_or_Area=Namibia<br>Year=2013<br>GDP_Per_Capita(USD)=%{x}<br>Mortality_Rate(%)=%{y}<br>Population(mn)=%{marker.size}",
           "legendgroup": "Country_or_Area=Namibia",
           "marker": {
            "color": "#B6E880",
            "size": [
             2.31652
            ],
            "sizemode": "area",
            "sizeref": 0.2483606316444444,
            "symbol": "circle"
           },
           "mode": "markers",
           "name": "Country_or_Area=Namibia",
           "showlegend": true,
           "type": "scatter",
           "x": [
            5490.05793
           ],
           "xaxis": "x",
           "y": [
            5.06
           ],
           "yaxis": "y"
          },
          {
           "hoverlabel": {
            "namelength": 0
           },
           "hovertemplate": "Country_or_Area=Nigeria<br>Year=2013<br>GDP_Per_Capita(USD)=%{x}<br>Mortality_Rate(%)=%{y}<br>Population(mn)=%{marker.size}",
           "legendgroup": "Country_or_Area=Nigeria",
           "marker": {
            "color": "#FF97FF",
            "size": [
             171.829303
            ],
            "sizemode": "area",
            "sizeref": 0.2483606316444444,
            "symbol": "circle"
           },
           "mode": "markers",
           "name": "Country_or_Area=Nigeria",
           "showlegend": true,
           "type": "scatter",
           "x": [
            2996.963827
           ],
           "xaxis": "x",
           "y": [
            11.56
           ],
           "yaxis": "y"
          },
          {
           "hoverlabel": {
            "namelength": 0
           },
           "hovertemplate": "Country_or_Area=Thailand<br>Year=2013<br>GDP_Per_Capita(USD)=%{x}<br>Mortality_Rate(%)=%{y}<br>Population(mn)=%{marker.size}",
           "legendgroup": "Country_or_Area=Thailand",
           "marker": {
            "color": "#636efa",
            "size": [
             68.143065
            ],
            "sizemode": "area",
            "sizeref": 0.2483606316444444,
            "symbol": "circle"
           },
           "mode": "markers",
           "name": "Country_or_Area=Thailand",
           "showlegend": true,
           "type": "scatter",
           "x": [
            6168.401573
           ],
           "xaxis": "x",
           "y": [
            1.34
           ],
           "yaxis": "y"
          },
          {
           "hoverlabel": {
            "namelength": 0
           },
           "hovertemplate": "Country_or_Area=France<br>Year=2013<br>GDP_Per_Capita(USD)=%{x}<br>Mortality_Rate(%)=%{y}<br>Population(mn)=%{marker.size}",
           "legendgroup": "Country_or_Area=France",
           "marker": {
            "color": "#EF553B",
            "size": [
             63.919917000000005
            ],
            "sizemode": "area",
            "sizeref": 0.2483606316444444,
            "symbol": "circle"
           },
           "mode": "markers",
           "name": "Country_or_Area=France",
           "showlegend": true,
           "type": "scatter",
           "x": [
            42532.43887
           ],
           "xaxis": "x",
           "y": [
            0.41
           ],
           "yaxis": "y"
          },
          {
           "hoverlabel": {
            "namelength": 0
           },
           "hovertemplate": "Country_or_Area=Germany<br>Year=2013<br>GDP_Per_Capita(USD)=%{x}<br>Mortality_Rate(%)=%{y}<br>Population(mn)=%{marker.size}",
           "legendgroup": "Country_or_Area=Germany",
           "marker": {
            "color": "#00cc96",
            "size": [
             81.265139
            ],
            "sizemode": "area",
            "sizeref": 0.2483606316444444,
            "symbol": "circle"
           },
           "mode": "markers",
           "name": "Country_or_Area=Germany",
           "showlegend": true,
           "type": "scatter",
           "x": [
            46176.17775
           ],
           "xaxis": "x",
           "y": [
            0.4
           ],
           "yaxis": "y"
          },
          {
           "hoverlabel": {
            "namelength": 0
           },
           "hovertemplate": "Country_or_Area=Mexico<br>Year=2013<br>GDP_Per_Capita(USD)=%{x}<br>Mortality_Rate(%)=%{y}<br>Population(mn)=%{marker.size}",
           "legendgroup": "Country_or_Area=Mexico",
           "marker": {
            "color": "#ab63fa",
            "size": [
             122.535969
            ],
            "sizemode": "area",
            "sizeref": 0.2483606316444444,
            "symbol": "circle"
           },
           "mode": "markers",
           "name": "Country_or_Area=Mexico",
           "showlegend": true,
           "type": "scatter",
           "x": [
            10400.569940000001
           ],
           "xaxis": "x",
           "y": [
            1.59
           ],
           "yaxis": "y"
          }
         ],
         "name": "2013"
        },
        {
         "data": [
          {
           "hoverlabel": {
            "namelength": 0
           },
           "hovertemplate": "Country_or_Area=Afghanistan<br>Year=2014<br>GDP_Per_Capita(USD)=%{x}<br>Mortality_Rate(%)=%{y}<br>Population(mn)=%{marker.size}",
           "legendgroup": "Country_or_Area=Afghanistan",
           "marker": {
            "color": "#636efa",
            "size": [
             32.75802
            ],
            "sizemode": "area",
            "sizeref": 0.2483606316444444,
            "symbol": "circle"
           },
           "mode": "markers",
           "name": "Country_or_Area=Afghanistan",
           "showlegend": true,
           "type": "scatter",
           "x": [
            651.1584256
           ],
           "xaxis": "x",
           "y": [
            7.61
           ],
           "yaxis": "y"
          },
          {
           "hoverlabel": {
            "namelength": 0
           },
           "hovertemplate": "Country_or_Area=China<br>Year=2014<br>GDP_Per_Capita(USD)=%{x}<br>Mortality_Rate(%)=%{y}<br>Population(mn)=%{marker.size}",
           "legendgroup": "Country_or_Area=China",
           "marker": {
            "color": "#EF553B",
            "size": [
             1390.110388
            ],
            "sizemode": "area",
            "sizeref": 0.2483606316444444,
            "symbol": "circle"
           },
           "mode": "markers",
           "name": "Country_or_Area=China",
           "showlegend": true,
           "type": "scatter",
           "x": [
            7540.635979000001
           ],
           "xaxis": "x",
           "y": [
            1.15
           ],
           "yaxis": "y"
          },
          {
           "hoverlabel": {
            "namelength": 0
           },
           "hovertemplate": "Country_or_Area=India<br>Year=2014<br>GDP_Per_Capita(USD)=%{x}<br>Mortality_Rate(%)=%{y}<br>Population(mn)=%{marker.size}",
           "legendgroup": "Country_or_Area=India",
           "marker": {
            "color": "#00cc96",
            "size": [
             1293.8592939999999
            ],
            "sizemode": "area",
            "sizeref": 0.2483606316444444,
            "symbol": "circle"
           },
           "mode": "markers",
           "name": "Country_or_Area=India",
           "showlegend": true,
           "type": "scatter",
           "x": [
            1578.950122
           ],
           "xaxis": "x",
           "y": [
            4.77
           ],
           "yaxis": "y"
          },
          {
           "hoverlabel": {
            "namelength": 0
           },
           "hovertemplate": "Country_or_Area=United States<br>Year=2014<br>GDP_Per_Capita(USD)=%{x}<br>Mortality_Rate(%)=%{y}<br>Population(mn)=%{marker.size}",
           "legendgroup": "Country_or_Area=United States",
           "marker": {
            "color": "#ab63fa",
            "size": [
             317.718779
            ],
            "sizemode": "area",
            "sizeref": 0.2483606316444444,
            "symbol": "circle"
           },
           "mode": "markers",
           "name": "Country_or_Area=United States",
           "showlegend": true,
           "type": "scatter",
           "x": [
            55148.6036
           ],
           "xaxis": "x",
           "y": [
            0.68
           ],
           "yaxis": "y"
          },
          {
           "hoverlabel": {
            "namelength": 0
           },
           "hovertemplate": "Country_or_Area=United Kingdom<br>Year=2014<br>GDP_Per_Capita(USD)=%{x}<br>Mortality_Rate(%)=%{y}<br>Population(mn)=%{marker.size}",
           "legendgroup": "Country_or_Area=United Kingdom",
           "marker": {
            "color": "#FFA15A",
            "size": [
             65.015686
            ],
            "sizemode": "area",
            "sizeref": 0.2483606316444444,
            "symbol": "circle"
           },
           "mode": "markers",
           "name": "Country_or_Area=United Kingdom",
           "showlegend": true,
           "type": "scatter",
           "x": [
            46676.88127
           ],
           "xaxis": "x",
           "y": [
            0.45
           ],
           "yaxis": "y"
          },
          {
           "hoverlabel": {
            "namelength": 0
           },
           "hovertemplate": "Country_or_Area=Brazil<br>Year=2014<br>GDP_Per_Capita(USD)=%{x}<br>Mortality_Rate(%)=%{y}<br>Population(mn)=%{marker.size}",
           "legendgroup": "Country_or_Area=Brazil",
           "marker": {
            "color": "#19d3f3",
            "size": [
             204.213133
            ],
            "sizemode": "area",
            "sizeref": 0.2483606316444444,
            "symbol": "circle"
           },
           "mode": "markers",
           "name": "Country_or_Area=Brazil",
           "showlegend": true,
           "type": "scatter",
           "x": [
            12026.86492
           ],
           "xaxis": "x",
           "y": [
            1.64
           ],
           "yaxis": "y"
          },
          {
           "hoverlabel": {
            "namelength": 0
           },
           "hovertemplate": "Country_or_Area=Zimbabwe<br>Year=2014<br>GDP_Per_Capita(USD)=%{x}<br>Mortality_Rate(%)=%{y}<br>Population(mn)=%{marker.size}",
           "legendgroup": "Country_or_Area=Zimbabwe",
           "marker": {
            "color": "#FF6692",
            "size": [
             15.411675
            ],
            "sizemode": "area",
            "sizeref": 0.2483606316444444,
            "symbol": "circle"
           },
           "mode": "markers",
           "name": "Country_or_Area=Zimbabwe",
           "showlegend": true,
           "type": "scatter",
           "x": [
            1031.104616
           ],
           "xaxis": "x",
           "y": [
            6.43
           ],
           "yaxis": "y"
          },
          {
           "hoverlabel": {
            "namelength": 0
           },
           "hovertemplate": "Country_or_Area=Namibia<br>Year=2014<br>GDP_Per_Capita(USD)=%{x}<br>Mortality_Rate(%)=%{y}<br>Population(mn)=%{marker.size}",
           "legendgroup": "Country_or_Area=Namibia",
           "marker": {
            "color": "#B6E880",
            "size": [
             2.3709919999999998
            ],
            "sizemode": "area",
            "sizeref": 0.2483606316444444,
            "symbol": "circle"
           },
           "mode": "markers",
           "name": "Country_or_Area=Namibia",
           "showlegend": true,
           "type": "scatter",
           "x": [
            5392.734738
           ],
           "xaxis": "x",
           "y": [
            4.84
           ],
           "yaxis": "y"
          },
          {
           "hoverlabel": {
            "namelength": 0
           },
           "hovertemplate": "Country_or_Area=Nigeria<br>Year=2014<br>GDP_Per_Capita(USD)=%{x}<br>Mortality_Rate(%)=%{y}<br>Population(mn)=%{marker.size}",
           "legendgroup": "Country_or_Area=Nigeria",
           "marker": {
            "color": "#FF97FF",
            "size": [
             176.460502
            ],
            "sizemode": "area",
            "sizeref": 0.2483606316444444,
            "symbol": "circle"
           },
           "mode": "markers",
           "name": "Country_or_Area=Nigeria",
           "showlegend": true,
           "type": "scatter",
           "x": [
            3221.6772690000003
           ],
           "xaxis": "x",
           "y": [
            11.16
           ],
           "yaxis": "y"
          },
          {
           "hoverlabel": {
            "namelength": 0
           },
           "hovertemplate": "Country_or_Area=Somalia<br>Year=2014<br>GDP_Per_Capita(USD)=%{x}<br>Mortality_Rate(%)=%{y}<br>Population(mn)=%{marker.size}",
           "legendgroup": "Country_or_Area=Somalia",
           "marker": {
            "color": "#FECB52",
            "size": [
             13.513125
            ],
            "sizemode": "area",
            "sizeref": 0.2483606316444444,
            "symbol": "circle"
           },
           "mode": "markers",
           "name": "Country_or_Area=Somalia",
           "showlegend": true,
           "type": "scatter",
           "x": [
            122.1838627
           ],
           "xaxis": "x",
           "y": [
            14.07
           ],
           "yaxis": "y"
          },
          {
           "hoverlabel": {
            "namelength": 0
           },
           "hovertemplate": "Country_or_Area=Thailand<br>Year=2014<br>GDP_Per_Capita(USD)=%{x}<br>Mortality_Rate(%)=%{y}<br>Population(mn)=%{marker.size}",
           "legendgroup": "Country_or_Area=Thailand",
           "marker": {
            "color": "#636efa",
            "size": [
             68.416772
            ],
            "sizemode": "area",
            "sizeref": 0.2483606316444444,
            "symbol": "circle"
           },
           "mode": "markers",
           "name": "Country_or_Area=Thailand",
           "showlegend": true,
           "type": "scatter",
           "x": [
            5953.787818
           ],
           "xaxis": "x",
           "y": [
            1.3
           ],
           "yaxis": "y"
          },
          {
           "hoverlabel": {
            "namelength": 0
           },
           "hovertemplate": "Country_or_Area=France<br>Year=2014<br>GDP_Per_Capita(USD)=%{x}<br>Mortality_Rate(%)=%{y}<br>Population(mn)=%{marker.size}",
           "legendgroup": "Country_or_Area=France",
           "marker": {
            "color": "#EF553B",
            "size": [
             64.190638
            ],
            "sizemode": "area",
            "sizeref": 0.2483606316444444,
            "symbol": "circle"
           },
           "mode": "markers",
           "name": "Country_or_Area=France",
           "showlegend": true,
           "type": "scatter",
           "x": [
            42966.69279
           ],
           "xaxis": "x",
           "y": [
            0.4
           ],
           "yaxis": "y"
          },
          {
           "hoverlabel": {
            "namelength": 0
           },
           "hovertemplate": "Country_or_Area=Germany<br>Year=2014<br>GDP_Per_Capita(USD)=%{x}<br>Mortality_Rate(%)=%{y}<br>Population(mn)=%{marker.size}",
           "legendgroup": "Country_or_Area=Germany",
           "marker": {
            "color": "#00cc96",
            "size": [
             81.48966
            ],
            "sizemode": "area",
            "sizeref": 0.2483606316444444,
            "symbol": "circle"
           },
           "mode": "markers",
           "name": "Country_or_Area=Germany",
           "showlegend": true,
           "type": "scatter",
           "x": [
            47843.204939999996
           ],
           "xaxis": "x",
           "y": [
            0.39
           ],
           "yaxis": "y"
          },
          {
           "hoverlabel": {
            "namelength": 0
           },
           "hovertemplate": "Country_or_Area=Mexico<br>Year=2014<br>GDP_Per_Capita(USD)=%{x}<br>Mortality_Rate(%)=%{y}<br>Population(mn)=%{marker.size}",
           "legendgroup": "Country_or_Area=Mexico",
           "marker": {
            "color": "#ab63fa",
            "size": [
             124.2216
            ],
            "sizemode": "area",
            "sizeref": 0.2483606316444444,
            "symbol": "circle"
           },
           "mode": "markers",
           "name": "Country_or_Area=Mexico",
           "showlegend": true,
           "type": "scatter",
           "x": [
            10582.45033
           ],
           "xaxis": "x",
           "y": [
            1.54
           ],
           "yaxis": "y"
          }
         ],
         "name": "2014"
        },
        {
         "data": [
          {
           "hoverlabel": {
            "namelength": 0
           },
           "hovertemplate": "Country_or_Area=Afghanistan<br>Year=2015<br>GDP_Per_Capita(USD)=%{x}<br>Mortality_Rate(%)=%{y}<br>Population(mn)=%{marker.size}",
           "legendgroup": "Country_or_Area=Afghanistan",
           "marker": {
            "color": "#636efa",
            "size": [
             33.736494
            ],
            "sizemode": "area",
            "sizeref": 0.2483606316444444,
            "symbol": "circle"
           },
           "mode": "markers",
           "name": "Country_or_Area=Afghanistan",
           "showlegend": true,
           "type": "scatter",
           "x": [
            610.8545447
           ],
           "xaxis": "x",
           "y": [
            7.32
           ],
           "yaxis": "y"
          },
          {
           "hoverlabel": {
            "namelength": 0
           },
           "hovertemplate": "Country_or_Area=China<br>Year=2015<br>GDP_Per_Capita(USD)=%{x}<br>Mortality_Rate(%)=%{y}<br>Population(mn)=%{marker.size}",
           "legendgroup": "Country_or_Area=China",
           "marker": {
            "color": "#EF553B",
            "size": [
             1397.0285529999999
            ],
            "sizemode": "area",
            "sizeref": 0.2483606316444444,
            "symbol": "circle"
           },
           "mode": "markers",
           "name": "Country_or_Area=China",
           "showlegend": true,
           "type": "scatter",
           "x": [
            7920.157751999999
           ],
           "xaxis": "x",
           "y": [
            1.07
           ],
           "yaxis": "y"
          },
          {
           "hoverlabel": {
            "namelength": 0
           },
           "hovertemplate": "Country_or_Area=India<br>Year=2015<br>GDP_Per_Capita(USD)=%{x}<br>Mortality_Rate(%)=%{y}<br>Population(mn)=%{marker.size}",
           "legendgroup": "Country_or_Area=India",
           "marker": {
            "color": "#00cc96",
            "size": [
             1309.0539800000001
            ],
            "sizemode": "area",
            "sizeref": 0.2483606316444444,
            "symbol": "circle"
           },
           "mode": "markers",
           "name": "Country_or_Area=India",
           "showlegend": true,
           "type": "scatter",
           "x": [
            1638.9981369999998
           ],
           "xaxis": "x",
           "y": [
            4.52
           ],
           "yaxis": "y"
          },
          {
           "hoverlabel": {
            "namelength": 0
           },
           "hovertemplate": "Country_or_Area=United States<br>Year=2015<br>GDP_Per_Capita(USD)=%{x}<br>Mortality_Rate(%)=%{y}<br>Population(mn)=%{marker.size}",
           "legendgroup": "Country_or_Area=United States",
           "marker": {
            "color": "#ab63fa",
            "size": [
             319.929162
            ],
            "sizemode": "area",
            "sizeref": 0.2483606316444444,
            "symbol": "circle"
           },
           "mode": "markers",
           "name": "Country_or_Area=United States",
           "showlegend": true,
           "type": "scatter",
           "x": [
            56947.90961
           ],
           "xaxis": "x",
           "y": [
            0.66
           ],
           "yaxis": "y"
          },
          {
           "hoverlabel": {
            "namelength": 0
           },
           "hovertemplate": "Country_or_Area=United Kingdom<br>Year=2015<br>GDP_Per_Capita(USD)=%{x}<br>Mortality_Rate(%)=%{y}<br>Population(mn)=%{marker.size}",
           "legendgroup": "Country_or_Area=United Kingdom",
           "marker": {
            "color": "#FFA15A",
            "size": [
             65.39708
            ],
            "sizemode": "area",
            "sizeref": 0.2483606316444444,
            "symbol": "circle"
           },
           "mode": "markers",
           "name": "Country_or_Area=United Kingdom",
           "showlegend": true,
           "type": "scatter",
           "x": [
            44289.75402
           ],
           "xaxis": "x",
           "y": [
            0.44
           ],
           "yaxis": "y"
          },
          {
           "hoverlabel": {
            "namelength": 0
           },
           "hovertemplate": "Country_or_Area=Brazil<br>Year=2015<br>GDP_Per_Capita(USD)=%{x}<br>Mortality_Rate(%)=%{y}<br>Population(mn)=%{marker.size}",
           "legendgroup": "Country_or_Area=Brazil",
           "marker": {
            "color": "#19d3f3",
            "size": [
             205.962108
            ],
            "sizemode": "area",
            "sizeref": 0.2483606316444444,
            "symbol": "circle"
           },
           "mode": "markers",
           "name": "Country_or_Area=Brazil",
           "showlegend": true,
           "type": "scatter",
           "x": [
            8750.211469
           ],
           "xaxis": "x",
           "y": [
            1.57
           ],
           "yaxis": "y"
          },
          {
           "hoverlabel": {
            "namelength": 0
           },
           "hovertemplate": "Country_or_Area=Zimbabwe<br>Year=2015<br>GDP_Per_Capita(USD)=%{x}<br>Mortality_Rate(%)=%{y}<br>Population(mn)=%{marker.size}",
           "legendgroup": "Country_or_Area=Zimbabwe",
           "marker": {
            "color": "#FF6692",
            "size": [
             15.777451000000001
            ],
            "sizemode": "area",
            "sizeref": 0.2483606316444444,
            "symbol": "circle"
           },
           "mode": "markers",
           "name": "Country_or_Area=Zimbabwe",
           "showlegend": true,
           "type": "scatter",
           "x": [
            1033.4158419999999
           ],
           "xaxis": "x",
           "y": [
            5.99
           ],
           "yaxis": "y"
          },
          {
           "hoverlabel": {
            "namelength": 0
           },
           "hovertemplate": "Country_or_Area=Namibia<br>Year=2015<br>GDP_Per_Capita(USD)=%{x}<br>Mortality_Rate(%)=%{y}<br>Population(mn)=%{marker.size}",
           "legendgroup": "Country_or_Area=Namibia",
           "marker": {
            "color": "#B6E880",
            "size": [
             2.425561
            ],
            "sizemode": "area",
            "sizeref": 0.2483606316444444,
            "symbol": "circle"
           },
           "mode": "markers",
           "name": "Country_or_Area=Namibia",
           "showlegend": true,
           "type": "scatter",
           "x": [
            4805.755356000001
           ],
           "xaxis": "x",
           "y": [
            4.8
           ],
           "yaxis": "y"
          },
          {
           "hoverlabel": {
            "namelength": 0
           },
           "hovertemplate": "Country_or_Area=Nigeria<br>Year=2015<br>GDP_Per_Capita(USD)=%{x}<br>Mortality_Rate(%)=%{y}<br>Population(mn)=%{marker.size}",
           "legendgroup": "Country_or_Area=Nigeria",
           "marker": {
            "color": "#FF97FF",
            "size": [
             181.18174399999998
            ],
            "sizemode": "area",
            "sizeref": 0.2483606316444444,
            "symbol": "circle"
           },
           "mode": "markers",
           "name": "Country_or_Area=Nigeria",
           "showlegend": true,
           "type": "scatter",
           "x": [
            2729.759594
           ],
           "xaxis": "x",
           "y": [
            10.8
           ],
           "yaxis": "y"
          },
          {
           "hoverlabel": {
            "namelength": 0
           },
           "hovertemplate": "Country_or_Area=Somalia<br>Year=2015<br>GDP_Per_Capita(USD)=%{x}<br>Mortality_Rate(%)=%{y}<br>Population(mn)=%{marker.size}",
           "legendgroup": "Country_or_Area=Somalia",
           "marker": {
            "color": "#FECB52",
            "size": [
             13.908129
            ],
            "sizemode": "area",
            "sizeref": 0.2483606316444444,
            "symbol": "circle"
           },
           "mode": "markers",
           "name": "Country_or_Area=Somalia",
           "showlegend": true,
           "type": "scatter",
           "x": [
            104.599205
           ],
           "xaxis": "x",
           "y": [
            13.67
           ],
           "yaxis": "y"
          },
          {
           "hoverlabel": {
            "namelength": 0
           },
           "hovertemplate": "Country_or_Area=Thailand<br>Year=2015<br>GDP_Per_Capita(USD)=%{x}<br>Mortality_Rate(%)=%{y}<br>Population(mn)=%{marker.size}",
           "legendgroup": "Country_or_Area=Thailand",
           "marker": {
            "color": "#636efa",
            "size": [
             68.6576
            ],
            "sizemode": "area",
            "sizeref": 0.2483606316444444,
            "symbol": "circle"
           },
           "mode": "markers",
           "name": "Country_or_Area=Thailand",
           "showlegend": true,
           "type": "scatter",
           "x": [
            5846.3917630000005
           ],
           "xaxis": "x",
           "y": [
            1.26
           ],
           "yaxis": "y"
          },
          {
           "hoverlabel": {
            "namelength": 0
           },
           "hovertemplate": "Country_or_Area=France<br>Year=2015<br>GDP_Per_Capita(USD)=%{x}<br>Mortality_Rate(%)=%{y}<br>Population(mn)=%{marker.size}",
           "legendgroup": "Country_or_Area=France",
           "marker": {
            "color": "#EF553B",
            "size": [
             64.457201
            ],
            "sizemode": "area",
            "sizeref": 0.2483606316444444,
            "symbol": "circle"
           },
           "mode": "markers",
           "name": "Country_or_Area=France",
           "showlegend": true,
           "type": "scatter",
           "x": [
            36573.73928
           ],
           "xaxis": "x",
           "y": [
            0.39
           ],
           "yaxis": "y"
          },
          {
           "hoverlabel": {
            "namelength": 0
           },
           "hovertemplate": "Country_or_Area=Germany<br>Year=2015<br>GDP_Per_Capita(USD)=%{x}<br>Mortality_Rate(%)=%{y}<br>Population(mn)=%{marker.size}",
           "legendgroup": "Country_or_Area=Germany",
           "marker": {
            "color": "#00cc96",
            "size": [
             81.707789
            ],
            "sizemode": "area",
            "sizeref": 0.2483606316444444,
            "symbol": "circle"
           },
           "mode": "markers",
           "name": "Country_or_Area=Germany",
           "showlegend": true,
           "type": "scatter",
           "x": [
            41383.929
           ],
           "xaxis": "x",
           "y": [
            0.39
           ],
           "yaxis": "y"
          },
          {
           "hoverlabel": {
            "namelength": 0
           },
           "hovertemplate": "Country_or_Area=Mexico<br>Year=2015<br>GDP_Per_Capita(USD)=%{x}<br>Mortality_Rate(%)=%{y}<br>Population(mn)=%{marker.size}",
           "legendgroup": "Country_or_Area=Mexico",
           "marker": {
            "color": "#ab63fa",
            "size": [
             125.89094899999999
            ],
            "sizemode": "area",
            "sizeref": 0.2483606316444444,
            "symbol": "circle"
           },
           "mode": "markers",
           "name": "Country_or_Area=Mexico",
           "showlegend": true,
           "type": "scatter",
           "x": [
            9298.262434999999
           ],
           "xaxis": "x",
           "y": [
            1.5
           ],
           "yaxis": "y"
          }
         ],
         "name": "2015"
        }
       ],
       "layout": {
        "height": 600,
        "legend": {
         "itemsizing": "constant",
         "tracegroupgap": 0
        },
        "margin": {
         "t": 60
        },
        "sliders": [
         {
          "active": 0,
          "currentvalue": {
           "prefix": "Year="
          },
          "len": 0.9,
          "pad": {
           "b": 10,
           "t": 60
          },
          "steps": [
           {
            "args": [
             [
              "1990"
             ],
             {
              "frame": {
               "duration": 0,
               "redraw": false
              },
              "fromcurrent": true,
              "mode": "immediate",
              "transition": {
               "duration": 0,
               "easing": "linear"
              }
             }
            ],
            "label": "1990",
            "method": "animate"
           },
           {
            "args": [
             [
              "1991"
             ],
             {
              "frame": {
               "duration": 0,
               "redraw": false
              },
              "fromcurrent": true,
              "mode": "immediate",
              "transition": {
               "duration": 0,
               "easing": "linear"
              }
             }
            ],
            "label": "1991",
            "method": "animate"
           },
           {
            "args": [
             [
              "1992"
             ],
             {
              "frame": {
               "duration": 0,
               "redraw": false
              },
              "fromcurrent": true,
              "mode": "immediate",
              "transition": {
               "duration": 0,
               "easing": "linear"
              }
             }
            ],
            "label": "1992",
            "method": "animate"
           },
           {
            "args": [
             [
              "1993"
             ],
             {
              "frame": {
               "duration": 0,
               "redraw": false
              },
              "fromcurrent": true,
              "mode": "immediate",
              "transition": {
               "duration": 0,
               "easing": "linear"
              }
             }
            ],
            "label": "1993",
            "method": "animate"
           },
           {
            "args": [
             [
              "1994"
             ],
             {
              "frame": {
               "duration": 0,
               "redraw": false
              },
              "fromcurrent": true,
              "mode": "immediate",
              "transition": {
               "duration": 0,
               "easing": "linear"
              }
             }
            ],
            "label": "1994",
            "method": "animate"
           },
           {
            "args": [
             [
              "1995"
             ],
             {
              "frame": {
               "duration": 0,
               "redraw": false
              },
              "fromcurrent": true,
              "mode": "immediate",
              "transition": {
               "duration": 0,
               "easing": "linear"
              }
             }
            ],
            "label": "1995",
            "method": "animate"
           },
           {
            "args": [
             [
              "1996"
             ],
             {
              "frame": {
               "duration": 0,
               "redraw": false
              },
              "fromcurrent": true,
              "mode": "immediate",
              "transition": {
               "duration": 0,
               "easing": "linear"
              }
             }
            ],
            "label": "1996",
            "method": "animate"
           },
           {
            "args": [
             [
              "1997"
             ],
             {
              "frame": {
               "duration": 0,
               "redraw": false
              },
              "fromcurrent": true,
              "mode": "immediate",
              "transition": {
               "duration": 0,
               "easing": "linear"
              }
             }
            ],
            "label": "1997",
            "method": "animate"
           },
           {
            "args": [
             [
              "1998"
             ],
             {
              "frame": {
               "duration": 0,
               "redraw": false
              },
              "fromcurrent": true,
              "mode": "immediate",
              "transition": {
               "duration": 0,
               "easing": "linear"
              }
             }
            ],
            "label": "1998",
            "method": "animate"
           },
           {
            "args": [
             [
              "1999"
             ],
             {
              "frame": {
               "duration": 0,
               "redraw": false
              },
              "fromcurrent": true,
              "mode": "immediate",
              "transition": {
               "duration": 0,
               "easing": "linear"
              }
             }
            ],
            "label": "1999",
            "method": "animate"
           },
           {
            "args": [
             [
              "2000"
             ],
             {
              "frame": {
               "duration": 0,
               "redraw": false
              },
              "fromcurrent": true,
              "mode": "immediate",
              "transition": {
               "duration": 0,
               "easing": "linear"
              }
             }
            ],
            "label": "2000",
            "method": "animate"
           },
           {
            "args": [
             [
              "2001"
             ],
             {
              "frame": {
               "duration": 0,
               "redraw": false
              },
              "fromcurrent": true,
              "mode": "immediate",
              "transition": {
               "duration": 0,
               "easing": "linear"
              }
             }
            ],
            "label": "2001",
            "method": "animate"
           },
           {
            "args": [
             [
              "2002"
             ],
             {
              "frame": {
               "duration": 0,
               "redraw": false
              },
              "fromcurrent": true,
              "mode": "immediate",
              "transition": {
               "duration": 0,
               "easing": "linear"
              }
             }
            ],
            "label": "2002",
            "method": "animate"
           },
           {
            "args": [
             [
              "2003"
             ],
             {
              "frame": {
               "duration": 0,
               "redraw": false
              },
              "fromcurrent": true,
              "mode": "immediate",
              "transition": {
               "duration": 0,
               "easing": "linear"
              }
             }
            ],
            "label": "2003",
            "method": "animate"
           },
           {
            "args": [
             [
              "2004"
             ],
             {
              "frame": {
               "duration": 0,
               "redraw": false
              },
              "fromcurrent": true,
              "mode": "immediate",
              "transition": {
               "duration": 0,
               "easing": "linear"
              }
             }
            ],
            "label": "2004",
            "method": "animate"
           },
           {
            "args": [
             [
              "2005"
             ],
             {
              "frame": {
               "duration": 0,
               "redraw": false
              },
              "fromcurrent": true,
              "mode": "immediate",
              "transition": {
               "duration": 0,
               "easing": "linear"
              }
             }
            ],
            "label": "2005",
            "method": "animate"
           },
           {
            "args": [
             [
              "2006"
             ],
             {
              "frame": {
               "duration": 0,
               "redraw": false
              },
              "fromcurrent": true,
              "mode": "immediate",
              "transition": {
               "duration": 0,
               "easing": "linear"
              }
             }
            ],
            "label": "2006",
            "method": "animate"
           },
           {
            "args": [
             [
              "2007"
             ],
             {
              "frame": {
               "duration": 0,
               "redraw": false
              },
              "fromcurrent": true,
              "mode": "immediate",
              "transition": {
               "duration": 0,
               "easing": "linear"
              }
             }
            ],
            "label": "2007",
            "method": "animate"
           },
           {
            "args": [
             [
              "2008"
             ],
             {
              "frame": {
               "duration": 0,
               "redraw": false
              },
              "fromcurrent": true,
              "mode": "immediate",
              "transition": {
               "duration": 0,
               "easing": "linear"
              }
             }
            ],
            "label": "2008",
            "method": "animate"
           },
           {
            "args": [
             [
              "2009"
             ],
             {
              "frame": {
               "duration": 0,
               "redraw": false
              },
              "fromcurrent": true,
              "mode": "immediate",
              "transition": {
               "duration": 0,
               "easing": "linear"
              }
             }
            ],
            "label": "2009",
            "method": "animate"
           },
           {
            "args": [
             [
              "2010"
             ],
             {
              "frame": {
               "duration": 0,
               "redraw": false
              },
              "fromcurrent": true,
              "mode": "immediate",
              "transition": {
               "duration": 0,
               "easing": "linear"
              }
             }
            ],
            "label": "2010",
            "method": "animate"
           },
           {
            "args": [
             [
              "2011"
             ],
             {
              "frame": {
               "duration": 0,
               "redraw": false
              },
              "fromcurrent": true,
              "mode": "immediate",
              "transition": {
               "duration": 0,
               "easing": "linear"
              }
             }
            ],
            "label": "2011",
            "method": "animate"
           },
           {
            "args": [
             [
              "2012"
             ],
             {
              "frame": {
               "duration": 0,
               "redraw": false
              },
              "fromcurrent": true,
              "mode": "immediate",
              "transition": {
               "duration": 0,
               "easing": "linear"
              }
             }
            ],
            "label": "2012",
            "method": "animate"
           },
           {
            "args": [
             [
              "2013"
             ],
             {
              "frame": {
               "duration": 0,
               "redraw": false
              },
              "fromcurrent": true,
              "mode": "immediate",
              "transition": {
               "duration": 0,
               "easing": "linear"
              }
             }
            ],
            "label": "2013",
            "method": "animate"
           },
           {
            "args": [
             [
              "2014"
             ],
             {
              "frame": {
               "duration": 0,
               "redraw": false
              },
              "fromcurrent": true,
              "mode": "immediate",
              "transition": {
               "duration": 0,
               "easing": "linear"
              }
             }
            ],
            "label": "2014",
            "method": "animate"
           },
           {
            "args": [
             [
              "2015"
             ],
             {
              "frame": {
               "duration": 0,
               "redraw": false
              },
              "fromcurrent": true,
              "mode": "immediate",
              "transition": {
               "duration": 0,
               "easing": "linear"
              }
             }
            ],
            "label": "2015",
            "method": "animate"
           }
          ],
          "x": 0.1,
          "xanchor": "left",
          "y": 0,
          "yanchor": "top"
         }
        ],
        "template": {
         "data": {
          "bar": [
           {
            "error_x": {
             "color": "#2a3f5f"
            },
            "error_y": {
             "color": "#2a3f5f"
            },
            "marker": {
             "line": {
              "color": "#E5ECF6",
              "width": 0.5
             }
            },
            "type": "bar"
           }
          ],
          "barpolar": [
           {
            "marker": {
             "line": {
              "color": "#E5ECF6",
              "width": 0.5
             }
            },
            "type": "barpolar"
           }
          ],
          "carpet": [
           {
            "aaxis": {
             "endlinecolor": "#2a3f5f",
             "gridcolor": "white",
             "linecolor": "white",
             "minorgridcolor": "white",
             "startlinecolor": "#2a3f5f"
            },
            "baxis": {
             "endlinecolor": "#2a3f5f",
             "gridcolor": "white",
             "linecolor": "white",
             "minorgridcolor": "white",
             "startlinecolor": "#2a3f5f"
            },
            "type": "carpet"
           }
          ],
          "choropleth": [
           {
            "colorbar": {
             "outlinewidth": 0,
             "ticks": ""
            },
            "type": "choropleth"
           }
          ],
          "contour": [
           {
            "colorbar": {
             "outlinewidth": 0,
             "ticks": ""
            },
            "colorscale": [
             [
              0,
              "#0d0887"
             ],
             [
              0.1111111111111111,
              "#46039f"
             ],
             [
              0.2222222222222222,
              "#7201a8"
             ],
             [
              0.3333333333333333,
              "#9c179e"
             ],
             [
              0.4444444444444444,
              "#bd3786"
             ],
             [
              0.5555555555555556,
              "#d8576b"
             ],
             [
              0.6666666666666666,
              "#ed7953"
             ],
             [
              0.7777777777777778,
              "#fb9f3a"
             ],
             [
              0.8888888888888888,
              "#fdca26"
             ],
             [
              1,
              "#f0f921"
             ]
            ],
            "type": "contour"
           }
          ],
          "contourcarpet": [
           {
            "colorbar": {
             "outlinewidth": 0,
             "ticks": ""
            },
            "type": "contourcarpet"
           }
          ],
          "heatmap": [
           {
            "colorbar": {
             "outlinewidth": 0,
             "ticks": ""
            },
            "colorscale": [
             [
              0,
              "#0d0887"
             ],
             [
              0.1111111111111111,
              "#46039f"
             ],
             [
              0.2222222222222222,
              "#7201a8"
             ],
             [
              0.3333333333333333,
              "#9c179e"
             ],
             [
              0.4444444444444444,
              "#bd3786"
             ],
             [
              0.5555555555555556,
              "#d8576b"
             ],
             [
              0.6666666666666666,
              "#ed7953"
             ],
             [
              0.7777777777777778,
              "#fb9f3a"
             ],
             [
              0.8888888888888888,
              "#fdca26"
             ],
             [
              1,
              "#f0f921"
             ]
            ],
            "type": "heatmap"
           }
          ],
          "heatmapgl": [
           {
            "colorbar": {
             "outlinewidth": 0,
             "ticks": ""
            },
            "colorscale": [
             [
              0,
              "#0d0887"
             ],
             [
              0.1111111111111111,
              "#46039f"
             ],
             [
              0.2222222222222222,
              "#7201a8"
             ],
             [
              0.3333333333333333,
              "#9c179e"
             ],
             [
              0.4444444444444444,
              "#bd3786"
             ],
             [
              0.5555555555555556,
              "#d8576b"
             ],
             [
              0.6666666666666666,
              "#ed7953"
             ],
             [
              0.7777777777777778,
              "#fb9f3a"
             ],
             [
              0.8888888888888888,
              "#fdca26"
             ],
             [
              1,
              "#f0f921"
             ]
            ],
            "type": "heatmapgl"
           }
          ],
          "histogram": [
           {
            "marker": {
             "colorbar": {
              "outlinewidth": 0,
              "ticks": ""
             }
            },
            "type": "histogram"
           }
          ],
          "histogram2d": [
           {
            "colorbar": {
             "outlinewidth": 0,
             "ticks": ""
            },
            "colorscale": [
             [
              0,
              "#0d0887"
             ],
             [
              0.1111111111111111,
              "#46039f"
             ],
             [
              0.2222222222222222,
              "#7201a8"
             ],
             [
              0.3333333333333333,
              "#9c179e"
             ],
             [
              0.4444444444444444,
              "#bd3786"
             ],
             [
              0.5555555555555556,
              "#d8576b"
             ],
             [
              0.6666666666666666,
              "#ed7953"
             ],
             [
              0.7777777777777778,
              "#fb9f3a"
             ],
             [
              0.8888888888888888,
              "#fdca26"
             ],
             [
              1,
              "#f0f921"
             ]
            ],
            "type": "histogram2d"
           }
          ],
          "histogram2dcontour": [
           {
            "colorbar": {
             "outlinewidth": 0,
             "ticks": ""
            },
            "colorscale": [
             [
              0,
              "#0d0887"
             ],
             [
              0.1111111111111111,
              "#46039f"
             ],
             [
              0.2222222222222222,
              "#7201a8"
             ],
             [
              0.3333333333333333,
              "#9c179e"
             ],
             [
              0.4444444444444444,
              "#bd3786"
             ],
             [
              0.5555555555555556,
              "#d8576b"
             ],
             [
              0.6666666666666666,
              "#ed7953"
             ],
             [
              0.7777777777777778,
              "#fb9f3a"
             ],
             [
              0.8888888888888888,
              "#fdca26"
             ],
             [
              1,
              "#f0f921"
             ]
            ],
            "type": "histogram2dcontour"
           }
          ],
          "mesh3d": [
           {
            "colorbar": {
             "outlinewidth": 0,
             "ticks": ""
            },
            "type": "mesh3d"
           }
          ],
          "parcoords": [
           {
            "line": {
             "colorbar": {
              "outlinewidth": 0,
              "ticks": ""
             }
            },
            "type": "parcoords"
           }
          ],
          "scatter": [
           {
            "marker": {
             "colorbar": {
              "outlinewidth": 0,
              "ticks": ""
             }
            },
            "type": "scatter"
           }
          ],
          "scatter3d": [
           {
            "line": {
             "colorbar": {
              "outlinewidth": 0,
              "ticks": ""
             }
            },
            "marker": {
             "colorbar": {
              "outlinewidth": 0,
              "ticks": ""
             }
            },
            "type": "scatter3d"
           }
          ],
          "scattercarpet": [
           {
            "marker": {
             "colorbar": {
              "outlinewidth": 0,
              "ticks": ""
             }
            },
            "type": "scattercarpet"
           }
          ],
          "scattergeo": [
           {
            "marker": {
             "colorbar": {
              "outlinewidth": 0,
              "ticks": ""
             }
            },
            "type": "scattergeo"
           }
          ],
          "scattergl": [
           {
            "marker": {
             "colorbar": {
              "outlinewidth": 0,
              "ticks": ""
             }
            },
            "type": "scattergl"
           }
          ],
          "scattermapbox": [
           {
            "marker": {
             "colorbar": {
              "outlinewidth": 0,
              "ticks": ""
             }
            },
            "type": "scattermapbox"
           }
          ],
          "scatterpolar": [
           {
            "marker": {
             "colorbar": {
              "outlinewidth": 0,
              "ticks": ""
             }
            },
            "type": "scatterpolar"
           }
          ],
          "scatterpolargl": [
           {
            "marker": {
             "colorbar": {
              "outlinewidth": 0,
              "ticks": ""
             }
            },
            "type": "scatterpolargl"
           }
          ],
          "scatterternary": [
           {
            "marker": {
             "colorbar": {
              "outlinewidth": 0,
              "ticks": ""
             }
            },
            "type": "scatterternary"
           }
          ],
          "surface": [
           {
            "colorbar": {
             "outlinewidth": 0,
             "ticks": ""
            },
            "colorscale": [
             [
              0,
              "#0d0887"
             ],
             [
              0.1111111111111111,
              "#46039f"
             ],
             [
              0.2222222222222222,
              "#7201a8"
             ],
             [
              0.3333333333333333,
              "#9c179e"
             ],
             [
              0.4444444444444444,
              "#bd3786"
             ],
             [
              0.5555555555555556,
              "#d8576b"
             ],
             [
              0.6666666666666666,
              "#ed7953"
             ],
             [
              0.7777777777777778,
              "#fb9f3a"
             ],
             [
              0.8888888888888888,
              "#fdca26"
             ],
             [
              1,
              "#f0f921"
             ]
            ],
            "type": "surface"
           }
          ],
          "table": [
           {
            "cells": {
             "fill": {
              "color": "#EBF0F8"
             },
             "line": {
              "color": "white"
             }
            },
            "header": {
             "fill": {
              "color": "#C8D4E3"
             },
             "line": {
              "color": "white"
             }
            },
            "type": "table"
           }
          ]
         },
         "layout": {
          "annotationdefaults": {
           "arrowcolor": "#2a3f5f",
           "arrowhead": 0,
           "arrowwidth": 1
          },
          "colorscale": {
           "diverging": [
            [
             0,
             "#8e0152"
            ],
            [
             0.1,
             "#c51b7d"
            ],
            [
             0.2,
             "#de77ae"
            ],
            [
             0.3,
             "#f1b6da"
            ],
            [
             0.4,
             "#fde0ef"
            ],
            [
             0.5,
             "#f7f7f7"
            ],
            [
             0.6,
             "#e6f5d0"
            ],
            [
             0.7,
             "#b8e186"
            ],
            [
             0.8,
             "#7fbc41"
            ],
            [
             0.9,
             "#4d9221"
            ],
            [
             1,
             "#276419"
            ]
           ],
           "sequential": [
            [
             0,
             "#0d0887"
            ],
            [
             0.1111111111111111,
             "#46039f"
            ],
            [
             0.2222222222222222,
             "#7201a8"
            ],
            [
             0.3333333333333333,
             "#9c179e"
            ],
            [
             0.4444444444444444,
             "#bd3786"
            ],
            [
             0.5555555555555556,
             "#d8576b"
            ],
            [
             0.6666666666666666,
             "#ed7953"
            ],
            [
             0.7777777777777778,
             "#fb9f3a"
            ],
            [
             0.8888888888888888,
             "#fdca26"
            ],
            [
             1,
             "#f0f921"
            ]
           ],
           "sequentialminus": [
            [
             0,
             "#0d0887"
            ],
            [
             0.1111111111111111,
             "#46039f"
            ],
            [
             0.2222222222222222,
             "#7201a8"
            ],
            [
             0.3333333333333333,
             "#9c179e"
            ],
            [
             0.4444444444444444,
             "#bd3786"
            ],
            [
             0.5555555555555556,
             "#d8576b"
            ],
            [
             0.6666666666666666,
             "#ed7953"
            ],
            [
             0.7777777777777778,
             "#fb9f3a"
            ],
            [
             0.8888888888888888,
             "#fdca26"
            ],
            [
             1,
             "#f0f921"
            ]
           ]
          },
          "colorway": [
           "#636efa",
           "#EF553B",
           "#00cc96",
           "#ab63fa",
           "#FFA15A",
           "#19d3f3",
           "#FF6692",
           "#B6E880",
           "#FF97FF",
           "#FECB52"
          ],
          "font": {
           "color": "#2a3f5f"
          },
          "geo": {
           "bgcolor": "white",
           "lakecolor": "white",
           "landcolor": "#E5ECF6",
           "showlakes": true,
           "showland": true,
           "subunitcolor": "white"
          },
          "hoverlabel": {
           "align": "left"
          },
          "hovermode": "closest",
          "mapbox": {
           "style": "light"
          },
          "paper_bgcolor": "white",
          "plot_bgcolor": "#E5ECF6",
          "polar": {
           "angularaxis": {
            "gridcolor": "white",
            "linecolor": "white",
            "ticks": ""
           },
           "bgcolor": "#E5ECF6",
           "radialaxis": {
            "gridcolor": "white",
            "linecolor": "white",
            "ticks": ""
           }
          },
          "scene": {
           "xaxis": {
            "backgroundcolor": "#E5ECF6",
            "gridcolor": "white",
            "gridwidth": 2,
            "linecolor": "white",
            "showbackground": true,
            "ticks": "",
            "zerolinecolor": "white"
           },
           "yaxis": {
            "backgroundcolor": "#E5ECF6",
            "gridcolor": "white",
            "gridwidth": 2,
            "linecolor": "white",
            "showbackground": true,
            "ticks": "",
            "zerolinecolor": "white"
           },
           "zaxis": {
            "backgroundcolor": "#E5ECF6",
            "gridcolor": "white",
            "gridwidth": 2,
            "linecolor": "white",
            "showbackground": true,
            "ticks": "",
            "zerolinecolor": "white"
           }
          },
          "shapedefaults": {
           "line": {
            "color": "#2a3f5f"
           }
          },
          "ternary": {
           "aaxis": {
            "gridcolor": "white",
            "linecolor": "white",
            "ticks": ""
           },
           "baxis": {
            "gridcolor": "white",
            "linecolor": "white",
            "ticks": ""
           },
           "bgcolor": "#E5ECF6",
           "caxis": {
            "gridcolor": "white",
            "linecolor": "white",
            "ticks": ""
           }
          },
          "title": {
           "x": 0.05
          },
          "xaxis": {
           "automargin": true,
           "gridcolor": "white",
           "linecolor": "white",
           "ticks": "",
           "zerolinecolor": "white",
           "zerolinewidth": 2
          },
          "yaxis": {
           "automargin": true,
           "gridcolor": "white",
           "linecolor": "white",
           "ticks": "",
           "zerolinecolor": "white",
           "zerolinewidth": 2
          }
         }
        },
        "updatemenus": [
         {
          "buttons": [
           {
            "args": [
             null,
             {
              "frame": {
               "duration": 500,
               "redraw": false
              },
              "fromcurrent": true,
              "mode": "immediate",
              "transition": {
               "duration": 500,
               "easing": "linear"
              }
             }
            ],
            "label": "&#9654;",
            "method": "animate"
           },
           {
            "args": [
             [
              null
             ],
             {
              "frame": {
               "duration": 0,
               "redraw": false
              },
              "fromcurrent": true,
              "mode": "immediate",
              "transition": {
               "duration": 0,
               "easing": "linear"
              }
             }
            ],
            "label": "&#9724;",
            "method": "animate"
           }
          ],
          "direction": "left",
          "pad": {
           "r": 10,
           "t": 70
          },
          "showactive": false,
          "type": "buttons",
          "x": 0.1,
          "xanchor": "right",
          "y": 0,
          "yanchor": "top"
         }
        ],
        "xaxis": {
         "anchor": "y",
         "domain": [
          0,
          0.98
         ],
         "range": [
          1,
          5
         ],
         "title": {
          "text": "GDP_Per_Capita(USD)"
         },
         "type": "log"
        },
        "yaxis": {
         "anchor": "x",
         "domain": [
          0,
          1
         ],
         "range": [
          -9.61,
          31.29
         ],
         "title": {
          "text": "Mortality_Rate(%)"
         }
        }
       }
      },
      "text/html": [
       "<div>\n",
       "        \n",
       "        \n",
       "            <div id=\"e3645883-9299-45ab-bad2-d640dd4664c2\" class=\"plotly-graph-div\" style=\"height:600px; width:100%;\"></div>\n",
       "            <script type=\"text/javascript\">\n",
       "                require([\"plotly\"], function(Plotly) {\n",
       "                    window.PLOTLYENV=window.PLOTLYENV || {};\n",
       "                    \n",
       "                if (document.getElementById(\"e3645883-9299-45ab-bad2-d640dd4664c2\")) {\n",
       "                    Plotly.newPlot(\n",
       "                        'e3645883-9299-45ab-bad2-d640dd4664c2',\n",
       "                        [{\"hoverlabel\": {\"namelength\": 0}, \"hovertemplate\": \"Country_or_Area=Afghanistan<br>Year=1990<br>GDP_Per_Capita(USD)=%{x}<br>Mortality_Rate(%)=%{y}<br>Population(mn)=%{marker.size}\", \"legendgroup\": \"Country_or_Area=Afghanistan\", \"marker\": {\"color\": \"#636efa\", \"size\": [12.249114], \"sizemode\": \"area\", \"sizeref\": 0.2483606316444444, \"symbol\": \"circle\"}, \"mode\": \"markers\", \"name\": \"Country_or_Area=Afghanistan\", \"showlegend\": true, \"type\": \"scatter\", \"x\": [295.66220110000006], \"xaxis\": \"x\", \"y\": [17.73], \"yaxis\": \"y\"}, {\"hoverlabel\": {\"namelength\": 0}, \"hovertemplate\": \"Country_or_Area=China<br>Year=1990<br>GDP_Per_Capita(USD)=%{x}<br>Mortality_Rate(%)=%{y}<br>Population(mn)=%{marker.size}\", \"legendgroup\": \"Country_or_Area=China\", \"marker\": {\"color\": \"#EF553B\", \"size\": [1172.4452], \"sizemode\": \"area\", \"sizeref\": 0.2483606316444444, \"symbol\": \"circle\"}, \"mode\": \"markers\", \"name\": \"Country_or_Area=China\", \"showlegend\": true, \"type\": \"scatter\", \"x\": [336.5323272], \"xaxis\": \"x\", \"y\": [5.39], \"yaxis\": \"y\"}, {\"hoverlabel\": {\"namelength\": 0}, \"hovertemplate\": \"Country_or_Area=India<br>Year=1990<br>GDP_Per_Capita(USD)=%{x}<br>Mortality_Rate(%)=%{y}<br>Population(mn)=%{marker.size}\", \"legendgroup\": \"Country_or_Area=India\", \"marker\": {\"color\": \"#00cc96\", \"size\": [870.1334800000001], \"sizemode\": \"area\", \"sizeref\": 0.2483606316444444, \"symbol\": \"circle\"}, \"mode\": \"markers\", \"name\": \"Country_or_Area=India\", \"showlegend\": true, \"type\": \"scatter\", \"x\": [369.0967673], \"xaxis\": \"x\", \"y\": [12.59], \"yaxis\": \"y\"}, {\"hoverlabel\": {\"namelength\": 0}, \"hovertemplate\": \"Country_or_Area=United States<br>Year=1990<br>GDP_Per_Capita(USD)=%{x}<br>Mortality_Rate(%)=%{y}<br>Population(mn)=%{marker.size}\", \"legendgroup\": \"Country_or_Area=United States\", \"marker\": {\"color\": \"#ab63fa\", \"size\": [252.52995], \"sizemode\": \"area\", \"sizeref\": 0.2483606316444444, \"symbol\": \"circle\"}, \"mode\": \"markers\", \"name\": \"Country_or_Area=United States\", \"showlegend\": true, \"type\": \"scatter\", \"x\": [23613.61098], \"xaxis\": \"x\", \"y\": [1.12], \"yaxis\": \"y\"}, {\"hoverlabel\": {\"namelength\": 0}, \"hovertemplate\": \"Country_or_Area=United Kingdom<br>Year=1990<br>GDP_Per_Capita(USD)=%{x}<br>Mortality_Rate(%)=%{y}<br>Population(mn)=%{marker.size}\", \"legendgroup\": \"Country_or_Area=United Kingdom\", \"marker\": {\"color\": \"#FFA15A\", \"size\": [57.183331], \"sizemode\": \"area\", \"sizeref\": 0.2483606316444444, \"symbol\": \"circle\"}, \"mode\": \"markers\", \"name\": \"Country_or_Area=United Kingdom\", \"showlegend\": true, \"type\": \"scatter\", \"x\": [19117.69901], \"xaxis\": \"x\", \"y\": [0.93], \"yaxis\": \"y\"}, {\"hoverlabel\": {\"namelength\": 0}, \"hovertemplate\": \"Country_or_Area=Brazil<br>Year=1990<br>GDP_Per_Capita(USD)=%{x}<br>Mortality_Rate(%)=%{y}<br>Population(mn)=%{marker.size}\", \"legendgroup\": \"Country_or_Area=Brazil\", \"marker\": {\"color\": \"#19d3f3\", \"size\": [149.352145], \"sizemode\": \"area\", \"sizeref\": 0.2483606316444444, \"symbol\": \"circle\"}, \"mode\": \"markers\", \"name\": \"Country_or_Area=Brazil\", \"showlegend\": true, \"type\": \"scatter\", \"x\": [2724.413582], \"xaxis\": \"x\", \"y\": [6.42], \"yaxis\": \"y\"}, {\"hoverlabel\": {\"namelength\": 0}, \"hovertemplate\": \"Country_or_Area=Zimbabwe<br>Year=1990<br>GDP_Per_Capita(USD)=%{x}<br>Mortality_Rate(%)=%{y}<br>Population(mn)=%{marker.size}\", \"legendgroup\": \"Country_or_Area=Zimbabwe\", \"marker\": {\"color\": \"#FF6692\", \"size\": [10.183113], \"sizemode\": \"area\", \"sizeref\": 0.2483606316444444, \"symbol\": \"circle\"}, \"mode\": \"markers\", \"name\": \"Country_or_Area=Zimbabwe\", \"showlegend\": true, \"type\": \"scatter\", \"x\": [1152.668564], \"xaxis\": \"x\", \"y\": [7.52], \"yaxis\": \"y\"}, {\"hoverlabel\": {\"namelength\": 0}, \"hovertemplate\": \"Country_or_Area=Namibia<br>Year=1990<br>GDP_Per_Capita(USD)=%{x}<br>Mortality_Rate(%)=%{y}<br>Population(mn)=%{marker.size}\", \"legendgroup\": \"Country_or_Area=Namibia\", \"marker\": {\"color\": \"#B6E880\", \"size\": [1.414692], \"sizemode\": \"area\", \"sizeref\": 0.2483606316444444, \"symbol\": \"circle\"}, \"mode\": \"markers\", \"name\": \"Country_or_Area=Namibia\", \"showlegend\": true, \"type\": \"scatter\", \"x\": [1969.1509440000002], \"xaxis\": \"x\", \"y\": [7.13], \"yaxis\": \"y\"}, {\"hoverlabel\": {\"namelength\": 0}, \"hovertemplate\": \"Country_or_Area=Nigeria<br>Year=1990<br>GDP_Per_Capita(USD)=%{x}<br>Mortality_Rate(%)=%{y}<br>Population(mn)=%{marker.size}\", \"legendgroup\": \"Country_or_Area=Nigeria\", \"marker\": {\"color\": \"#FF97FF\", \"size\": [95.269988], \"sizemode\": \"area\", \"sizeref\": 0.2483606316444444, \"symbol\": \"circle\"}, \"mode\": \"markers\", \"name\": \"Country_or_Area=Nigeria\", \"showlegend\": true, \"type\": \"scatter\", \"x\": [717.2134194], \"xaxis\": \"x\", \"y\": [21.29], \"yaxis\": \"y\"}, {\"hoverlabel\": {\"namelength\": 0}, \"hovertemplate\": \"Country_or_Area=Thailand<br>Year=1990<br>GDP_Per_Capita(USD)=%{x}<br>Mortality_Rate(%)=%{y}<br>Population(mn)=%{marker.size}\", \"legendgroup\": \"Country_or_Area=Thailand\", \"marker\": {\"color\": \"#636efa\", \"size\": [56.582820999999996], \"sizemode\": \"area\", \"sizeref\": 0.2483606316444444, \"symbol\": \"circle\"}, \"mode\": \"markers\", \"name\": \"Country_or_Area=Thailand\", \"showlegend\": true, \"type\": \"scatter\", \"x\": [1563.3846199999998], \"xaxis\": \"x\", \"y\": [3.78], \"yaxis\": \"y\"}, {\"hoverlabel\": {\"namelength\": 0}, \"hovertemplate\": \"Country_or_Area=France<br>Year=1990<br>GDP_Per_Capita(USD)=%{x}<br>Mortality_Rate(%)=%{y}<br>Population(mn)=%{marker.size}\", \"legendgroup\": \"Country_or_Area=France\", \"marker\": {\"color\": \"#EF553B\", \"size\": [56.960834999999996], \"sizemode\": \"area\", \"sizeref\": 0.2483606316444444, \"symbol\": \"circle\"}, \"mode\": \"markers\", \"name\": \"Country_or_Area=France\", \"showlegend\": true, \"type\": \"scatter\", \"x\": [21684.92367], \"xaxis\": \"x\", \"y\": [0.9], \"yaxis\": \"y\"}, {\"hoverlabel\": {\"namelength\": 0}, \"hovertemplate\": \"Country_or_Area=Germany<br>Year=1990<br>GDP_Per_Capita(USD)=%{x}<br>Mortality_Rate(%)=%{y}<br>Population(mn)=%{marker.size}\", \"legendgroup\": \"Country_or_Area=Germany\", \"marker\": {\"color\": \"#00cc96\", \"size\": [79.118326], \"sizemode\": \"area\", \"sizeref\": 0.2483606316444444, \"symbol\": \"circle\"}, \"mode\": \"markers\", \"name\": \"Country_or_Area=Germany\", \"showlegend\": true, \"type\": \"scatter\", \"x\": [22307.64755], \"xaxis\": \"x\", \"y\": [0.85], \"yaxis\": \"y\"}, {\"hoverlabel\": {\"namelength\": 0}, \"hovertemplate\": \"Country_or_Area=Mexico<br>Year=1990<br>GDP_Per_Capita(USD)=%{x}<br>Mortality_Rate(%)=%{y}<br>Population(mn)=%{marker.size}\", \"legendgroup\": \"Country_or_Area=Mexico\", \"marker\": {\"color\": \"#ab63fa\", \"size\": [85.357874], \"sizemode\": \"area\", \"sizeref\": 0.2483606316444444, \"symbol\": \"circle\"}, \"mode\": \"markers\", \"name\": \"Country_or_Area=Mexico\", \"showlegend\": true, \"type\": \"scatter\", \"x\": [3513.9616100000003], \"xaxis\": \"x\", \"y\": [4.57], \"yaxis\": \"y\"}],\n",
       "                        {\"height\": 600, \"legend\": {\"itemsizing\": \"constant\", \"tracegroupgap\": 0}, \"margin\": {\"t\": 60}, \"sliders\": [{\"active\": 0, \"currentvalue\": {\"prefix\": \"Year=\"}, \"len\": 0.9, \"pad\": {\"b\": 10, \"t\": 60}, \"steps\": [{\"args\": [[\"1990\"], {\"frame\": {\"duration\": 0, \"redraw\": false}, \"fromcurrent\": true, \"mode\": \"immediate\", \"transition\": {\"duration\": 0, \"easing\": \"linear\"}}], \"label\": \"1990\", \"method\": \"animate\"}, {\"args\": [[\"1991\"], {\"frame\": {\"duration\": 0, \"redraw\": false}, \"fromcurrent\": true, \"mode\": \"immediate\", \"transition\": {\"duration\": 0, \"easing\": \"linear\"}}], \"label\": \"1991\", \"method\": \"animate\"}, {\"args\": [[\"1992\"], {\"frame\": {\"duration\": 0, \"redraw\": false}, \"fromcurrent\": true, \"mode\": \"immediate\", \"transition\": {\"duration\": 0, \"easing\": \"linear\"}}], \"label\": \"1992\", \"method\": \"animate\"}, {\"args\": [[\"1993\"], {\"frame\": {\"duration\": 0, \"redraw\": false}, \"fromcurrent\": true, \"mode\": \"immediate\", \"transition\": {\"duration\": 0, \"easing\": \"linear\"}}], \"label\": \"1993\", \"method\": \"animate\"}, {\"args\": [[\"1994\"], {\"frame\": {\"duration\": 0, \"redraw\": false}, \"fromcurrent\": true, \"mode\": \"immediate\", \"transition\": {\"duration\": 0, \"easing\": \"linear\"}}], \"label\": \"1994\", \"method\": \"animate\"}, {\"args\": [[\"1995\"], {\"frame\": {\"duration\": 0, \"redraw\": false}, \"fromcurrent\": true, \"mode\": \"immediate\", \"transition\": {\"duration\": 0, \"easing\": \"linear\"}}], \"label\": \"1995\", \"method\": \"animate\"}, {\"args\": [[\"1996\"], {\"frame\": {\"duration\": 0, \"redraw\": false}, \"fromcurrent\": true, \"mode\": \"immediate\", \"transition\": {\"duration\": 0, \"easing\": \"linear\"}}], \"label\": \"1996\", \"method\": \"animate\"}, {\"args\": [[\"1997\"], {\"frame\": {\"duration\": 0, \"redraw\": false}, \"fromcurrent\": true, \"mode\": \"immediate\", \"transition\": {\"duration\": 0, \"easing\": \"linear\"}}], \"label\": \"1997\", \"method\": \"animate\"}, {\"args\": [[\"1998\"], {\"frame\": {\"duration\": 0, \"redraw\": false}, \"fromcurrent\": true, \"mode\": \"immediate\", \"transition\": {\"duration\": 0, \"easing\": \"linear\"}}], \"label\": \"1998\", \"method\": \"animate\"}, {\"args\": [[\"1999\"], {\"frame\": {\"duration\": 0, \"redraw\": false}, \"fromcurrent\": true, \"mode\": \"immediate\", \"transition\": {\"duration\": 0, \"easing\": \"linear\"}}], \"label\": \"1999\", \"method\": \"animate\"}, {\"args\": [[\"2000\"], {\"frame\": {\"duration\": 0, \"redraw\": false}, \"fromcurrent\": true, \"mode\": \"immediate\", \"transition\": {\"duration\": 0, \"easing\": \"linear\"}}], \"label\": \"2000\", \"method\": \"animate\"}, {\"args\": [[\"2001\"], {\"frame\": {\"duration\": 0, \"redraw\": false}, \"fromcurrent\": true, \"mode\": \"immediate\", \"transition\": {\"duration\": 0, \"easing\": \"linear\"}}], \"label\": \"2001\", \"method\": \"animate\"}, {\"args\": [[\"2002\"], {\"frame\": {\"duration\": 0, \"redraw\": false}, \"fromcurrent\": true, \"mode\": \"immediate\", \"transition\": {\"duration\": 0, \"easing\": \"linear\"}}], \"label\": \"2002\", \"method\": \"animate\"}, {\"args\": [[\"2003\"], {\"frame\": {\"duration\": 0, \"redraw\": false}, \"fromcurrent\": true, \"mode\": \"immediate\", \"transition\": {\"duration\": 0, \"easing\": \"linear\"}}], \"label\": \"2003\", \"method\": \"animate\"}, {\"args\": [[\"2004\"], {\"frame\": {\"duration\": 0, \"redraw\": false}, \"fromcurrent\": true, \"mode\": \"immediate\", \"transition\": {\"duration\": 0, \"easing\": \"linear\"}}], \"label\": \"2004\", \"method\": \"animate\"}, {\"args\": [[\"2005\"], {\"frame\": {\"duration\": 0, \"redraw\": false}, \"fromcurrent\": true, \"mode\": \"immediate\", \"transition\": {\"duration\": 0, \"easing\": \"linear\"}}], \"label\": \"2005\", \"method\": \"animate\"}, {\"args\": [[\"2006\"], {\"frame\": {\"duration\": 0, \"redraw\": false}, \"fromcurrent\": true, \"mode\": \"immediate\", \"transition\": {\"duration\": 0, \"easing\": \"linear\"}}], \"label\": \"2006\", \"method\": \"animate\"}, {\"args\": [[\"2007\"], {\"frame\": {\"duration\": 0, \"redraw\": false}, \"fromcurrent\": true, \"mode\": \"immediate\", \"transition\": {\"duration\": 0, \"easing\": \"linear\"}}], \"label\": \"2007\", \"method\": \"animate\"}, {\"args\": [[\"2008\"], {\"frame\": {\"duration\": 0, \"redraw\": false}, \"fromcurrent\": true, \"mode\": \"immediate\", \"transition\": {\"duration\": 0, \"easing\": \"linear\"}}], \"label\": \"2008\", \"method\": \"animate\"}, {\"args\": [[\"2009\"], {\"frame\": {\"duration\": 0, \"redraw\": false}, \"fromcurrent\": true, \"mode\": \"immediate\", \"transition\": {\"duration\": 0, \"easing\": \"linear\"}}], \"label\": \"2009\", \"method\": \"animate\"}, {\"args\": [[\"2010\"], {\"frame\": {\"duration\": 0, \"redraw\": false}, \"fromcurrent\": true, \"mode\": \"immediate\", \"transition\": {\"duration\": 0, \"easing\": \"linear\"}}], \"label\": \"2010\", \"method\": \"animate\"}, {\"args\": [[\"2011\"], {\"frame\": {\"duration\": 0, \"redraw\": false}, \"fromcurrent\": true, \"mode\": \"immediate\", \"transition\": {\"duration\": 0, \"easing\": \"linear\"}}], \"label\": \"2011\", \"method\": \"animate\"}, {\"args\": [[\"2012\"], {\"frame\": {\"duration\": 0, \"redraw\": false}, \"fromcurrent\": true, \"mode\": \"immediate\", \"transition\": {\"duration\": 0, \"easing\": \"linear\"}}], \"label\": \"2012\", \"method\": \"animate\"}, {\"args\": [[\"2013\"], {\"frame\": {\"duration\": 0, \"redraw\": false}, \"fromcurrent\": true, \"mode\": \"immediate\", \"transition\": {\"duration\": 0, \"easing\": \"linear\"}}], \"label\": \"2013\", \"method\": \"animate\"}, {\"args\": [[\"2014\"], {\"frame\": {\"duration\": 0, \"redraw\": false}, \"fromcurrent\": true, \"mode\": \"immediate\", \"transition\": {\"duration\": 0, \"easing\": \"linear\"}}], \"label\": \"2014\", \"method\": \"animate\"}, {\"args\": [[\"2015\"], {\"frame\": {\"duration\": 0, \"redraw\": false}, \"fromcurrent\": true, \"mode\": \"immediate\", \"transition\": {\"duration\": 0, \"easing\": \"linear\"}}], \"label\": \"2015\", \"method\": \"animate\"}], \"x\": 0.1, \"xanchor\": \"left\", \"y\": 0, \"yanchor\": \"top\"}], \"template\": {\"data\": {\"bar\": [{\"error_x\": {\"color\": \"#2a3f5f\"}, \"error_y\": {\"color\": \"#2a3f5f\"}, \"marker\": {\"line\": {\"color\": \"#E5ECF6\", \"width\": 0.5}}, \"type\": \"bar\"}], \"barpolar\": [{\"marker\": {\"line\": {\"color\": \"#E5ECF6\", \"width\": 0.5}}, \"type\": \"barpolar\"}], \"carpet\": [{\"aaxis\": {\"endlinecolor\": \"#2a3f5f\", \"gridcolor\": \"white\", \"linecolor\": \"white\", \"minorgridcolor\": \"white\", \"startlinecolor\": \"#2a3f5f\"}, \"baxis\": {\"endlinecolor\": \"#2a3f5f\", \"gridcolor\": \"white\", \"linecolor\": \"white\", \"minorgridcolor\": \"white\", \"startlinecolor\": \"#2a3f5f\"}, \"type\": \"carpet\"}], \"choropleth\": [{\"colorbar\": {\"outlinewidth\": 0, \"ticks\": \"\"}, \"type\": \"choropleth\"}], \"contour\": [{\"colorbar\": {\"outlinewidth\": 0, \"ticks\": \"\"}, \"colorscale\": [[0.0, \"#0d0887\"], [0.1111111111111111, \"#46039f\"], [0.2222222222222222, \"#7201a8\"], [0.3333333333333333, \"#9c179e\"], [0.4444444444444444, \"#bd3786\"], [0.5555555555555556, \"#d8576b\"], [0.6666666666666666, \"#ed7953\"], [0.7777777777777778, \"#fb9f3a\"], [0.8888888888888888, \"#fdca26\"], [1.0, \"#f0f921\"]], \"type\": \"contour\"}], \"contourcarpet\": [{\"colorbar\": {\"outlinewidth\": 0, \"ticks\": \"\"}, \"type\": \"contourcarpet\"}], \"heatmap\": [{\"colorbar\": {\"outlinewidth\": 0, \"ticks\": \"\"}, \"colorscale\": [[0.0, \"#0d0887\"], [0.1111111111111111, \"#46039f\"], [0.2222222222222222, \"#7201a8\"], [0.3333333333333333, \"#9c179e\"], [0.4444444444444444, \"#bd3786\"], [0.5555555555555556, \"#d8576b\"], [0.6666666666666666, \"#ed7953\"], [0.7777777777777778, \"#fb9f3a\"], [0.8888888888888888, \"#fdca26\"], [1.0, \"#f0f921\"]], \"type\": \"heatmap\"}], \"heatmapgl\": [{\"colorbar\": {\"outlinewidth\": 0, \"ticks\": \"\"}, \"colorscale\": [[0.0, \"#0d0887\"], [0.1111111111111111, \"#46039f\"], [0.2222222222222222, \"#7201a8\"], [0.3333333333333333, \"#9c179e\"], [0.4444444444444444, \"#bd3786\"], [0.5555555555555556, \"#d8576b\"], [0.6666666666666666, \"#ed7953\"], [0.7777777777777778, \"#fb9f3a\"], [0.8888888888888888, \"#fdca26\"], [1.0, \"#f0f921\"]], \"type\": \"heatmapgl\"}], \"histogram\": [{\"marker\": {\"colorbar\": {\"outlinewidth\": 0, \"ticks\": \"\"}}, \"type\": \"histogram\"}], \"histogram2d\": [{\"colorbar\": {\"outlinewidth\": 0, \"ticks\": \"\"}, \"colorscale\": [[0.0, \"#0d0887\"], [0.1111111111111111, \"#46039f\"], [0.2222222222222222, \"#7201a8\"], [0.3333333333333333, \"#9c179e\"], [0.4444444444444444, \"#bd3786\"], [0.5555555555555556, \"#d8576b\"], [0.6666666666666666, \"#ed7953\"], [0.7777777777777778, \"#fb9f3a\"], [0.8888888888888888, \"#fdca26\"], [1.0, \"#f0f921\"]], \"type\": \"histogram2d\"}], \"histogram2dcontour\": [{\"colorbar\": {\"outlinewidth\": 0, \"ticks\": \"\"}, \"colorscale\": [[0.0, \"#0d0887\"], [0.1111111111111111, \"#46039f\"], [0.2222222222222222, \"#7201a8\"], [0.3333333333333333, \"#9c179e\"], [0.4444444444444444, \"#bd3786\"], [0.5555555555555556, \"#d8576b\"], [0.6666666666666666, \"#ed7953\"], [0.7777777777777778, \"#fb9f3a\"], [0.8888888888888888, \"#fdca26\"], [1.0, \"#f0f921\"]], \"type\": \"histogram2dcontour\"}], \"mesh3d\": [{\"colorbar\": {\"outlinewidth\": 0, \"ticks\": \"\"}, \"type\": \"mesh3d\"}], \"parcoords\": [{\"line\": {\"colorbar\": {\"outlinewidth\": 0, \"ticks\": \"\"}}, \"type\": \"parcoords\"}], \"scatter\": [{\"marker\": {\"colorbar\": {\"outlinewidth\": 0, \"ticks\": \"\"}}, \"type\": \"scatter\"}], \"scatter3d\": [{\"line\": {\"colorbar\": {\"outlinewidth\": 0, \"ticks\": \"\"}}, \"marker\": {\"colorbar\": {\"outlinewidth\": 0, \"ticks\": \"\"}}, \"type\": \"scatter3d\"}], \"scattercarpet\": [{\"marker\": {\"colorbar\": {\"outlinewidth\": 0, \"ticks\": \"\"}}, \"type\": \"scattercarpet\"}], \"scattergeo\": [{\"marker\": {\"colorbar\": {\"outlinewidth\": 0, \"ticks\": \"\"}}, \"type\": \"scattergeo\"}], \"scattergl\": [{\"marker\": {\"colorbar\": {\"outlinewidth\": 0, \"ticks\": \"\"}}, \"type\": \"scattergl\"}], \"scattermapbox\": [{\"marker\": {\"colorbar\": {\"outlinewidth\": 0, \"ticks\": \"\"}}, \"type\": \"scattermapbox\"}], \"scatterpolar\": [{\"marker\": {\"colorbar\": {\"outlinewidth\": 0, \"ticks\": \"\"}}, \"type\": \"scatterpolar\"}], \"scatterpolargl\": [{\"marker\": {\"colorbar\": {\"outlinewidth\": 0, \"ticks\": \"\"}}, \"type\": \"scatterpolargl\"}], \"scatterternary\": [{\"marker\": {\"colorbar\": {\"outlinewidth\": 0, \"ticks\": \"\"}}, \"type\": \"scatterternary\"}], \"surface\": [{\"colorbar\": {\"outlinewidth\": 0, \"ticks\": \"\"}, \"colorscale\": [[0.0, \"#0d0887\"], [0.1111111111111111, \"#46039f\"], [0.2222222222222222, \"#7201a8\"], [0.3333333333333333, \"#9c179e\"], [0.4444444444444444, \"#bd3786\"], [0.5555555555555556, \"#d8576b\"], [0.6666666666666666, \"#ed7953\"], [0.7777777777777778, \"#fb9f3a\"], [0.8888888888888888, \"#fdca26\"], [1.0, \"#f0f921\"]], \"type\": \"surface\"}], \"table\": [{\"cells\": {\"fill\": {\"color\": \"#EBF0F8\"}, \"line\": {\"color\": \"white\"}}, \"header\": {\"fill\": {\"color\": \"#C8D4E3\"}, \"line\": {\"color\": \"white\"}}, \"type\": \"table\"}]}, \"layout\": {\"annotationdefaults\": {\"arrowcolor\": \"#2a3f5f\", \"arrowhead\": 0, \"arrowwidth\": 1}, \"colorscale\": {\"diverging\": [[0, \"#8e0152\"], [0.1, \"#c51b7d\"], [0.2, \"#de77ae\"], [0.3, \"#f1b6da\"], [0.4, \"#fde0ef\"], [0.5, \"#f7f7f7\"], [0.6, \"#e6f5d0\"], [0.7, \"#b8e186\"], [0.8, \"#7fbc41\"], [0.9, \"#4d9221\"], [1, \"#276419\"]], \"sequential\": [[0.0, \"#0d0887\"], [0.1111111111111111, \"#46039f\"], [0.2222222222222222, \"#7201a8\"], [0.3333333333333333, \"#9c179e\"], [0.4444444444444444, \"#bd3786\"], [0.5555555555555556, \"#d8576b\"], [0.6666666666666666, \"#ed7953\"], [0.7777777777777778, \"#fb9f3a\"], [0.8888888888888888, \"#fdca26\"], [1.0, \"#f0f921\"]], \"sequentialminus\": [[0.0, \"#0d0887\"], [0.1111111111111111, \"#46039f\"], [0.2222222222222222, \"#7201a8\"], [0.3333333333333333, \"#9c179e\"], [0.4444444444444444, \"#bd3786\"], [0.5555555555555556, \"#d8576b\"], [0.6666666666666666, \"#ed7953\"], [0.7777777777777778, \"#fb9f3a\"], [0.8888888888888888, \"#fdca26\"], [1.0, \"#f0f921\"]]}, \"colorway\": [\"#636efa\", \"#EF553B\", \"#00cc96\", \"#ab63fa\", \"#FFA15A\", \"#19d3f3\", \"#FF6692\", \"#B6E880\", \"#FF97FF\", \"#FECB52\"], \"font\": {\"color\": \"#2a3f5f\"}, \"geo\": {\"bgcolor\": \"white\", \"lakecolor\": \"white\", \"landcolor\": \"#E5ECF6\", \"showlakes\": true, \"showland\": true, \"subunitcolor\": \"white\"}, \"hoverlabel\": {\"align\": \"left\"}, \"hovermode\": \"closest\", \"mapbox\": {\"style\": \"light\"}, \"paper_bgcolor\": \"white\", \"plot_bgcolor\": \"#E5ECF6\", \"polar\": {\"angularaxis\": {\"gridcolor\": \"white\", \"linecolor\": \"white\", \"ticks\": \"\"}, \"bgcolor\": \"#E5ECF6\", \"radialaxis\": {\"gridcolor\": \"white\", \"linecolor\": \"white\", \"ticks\": \"\"}}, \"scene\": {\"xaxis\": {\"backgroundcolor\": \"#E5ECF6\", \"gridcolor\": \"white\", \"gridwidth\": 2, \"linecolor\": \"white\", \"showbackground\": true, \"ticks\": \"\", \"zerolinecolor\": \"white\"}, \"yaxis\": {\"backgroundcolor\": \"#E5ECF6\", \"gridcolor\": \"white\", \"gridwidth\": 2, \"linecolor\": \"white\", \"showbackground\": true, \"ticks\": \"\", \"zerolinecolor\": \"white\"}, \"zaxis\": {\"backgroundcolor\": \"#E5ECF6\", \"gridcolor\": \"white\", \"gridwidth\": 2, \"linecolor\": \"white\", \"showbackground\": true, \"ticks\": \"\", \"zerolinecolor\": \"white\"}}, \"shapedefaults\": {\"line\": {\"color\": \"#2a3f5f\"}}, \"ternary\": {\"aaxis\": {\"gridcolor\": \"white\", \"linecolor\": \"white\", \"ticks\": \"\"}, \"baxis\": {\"gridcolor\": \"white\", \"linecolor\": \"white\", \"ticks\": \"\"}, \"bgcolor\": \"#E5ECF6\", \"caxis\": {\"gridcolor\": \"white\", \"linecolor\": \"white\", \"ticks\": \"\"}}, \"title\": {\"x\": 0.05}, \"xaxis\": {\"automargin\": true, \"gridcolor\": \"white\", \"linecolor\": \"white\", \"ticks\": \"\", \"zerolinecolor\": \"white\", \"zerolinewidth\": 2}, \"yaxis\": {\"automargin\": true, \"gridcolor\": \"white\", \"linecolor\": \"white\", \"ticks\": \"\", \"zerolinecolor\": \"white\", \"zerolinewidth\": 2}}}, \"updatemenus\": [{\"buttons\": [{\"args\": [null, {\"frame\": {\"duration\": 500, \"redraw\": false}, \"fromcurrent\": true, \"mode\": \"immediate\", \"transition\": {\"duration\": 500, \"easing\": \"linear\"}}], \"label\": \"&#9654;\", \"method\": \"animate\"}, {\"args\": [[null], {\"frame\": {\"duration\": 0, \"redraw\": false}, \"fromcurrent\": true, \"mode\": \"immediate\", \"transition\": {\"duration\": 0, \"easing\": \"linear\"}}], \"label\": \"&#9724;\", \"method\": \"animate\"}], \"direction\": \"left\", \"pad\": {\"r\": 10, \"t\": 70}, \"showactive\": false, \"type\": \"buttons\", \"x\": 0.1, \"xanchor\": \"right\", \"y\": 0, \"yanchor\": \"top\"}], \"xaxis\": {\"anchor\": \"y\", \"domain\": [0.0, 0.98], \"range\": [1.0, 5.0], \"title\": {\"text\": \"GDP_Per_Capita(USD)\"}, \"type\": \"log\"}, \"yaxis\": {\"anchor\": \"x\", \"domain\": [0.0, 1.0], \"range\": [-9.61, 31.29], \"title\": {\"text\": \"Mortality_Rate(%)\"}}},\n",
       "                        {\"responsive\": true}\n",
       "                    ).then(function(){\n",
       "                            Plotly.addFrames('e3645883-9299-45ab-bad2-d640dd4664c2', [{\"data\": [{\"hoverlabel\": {\"namelength\": 0}, \"hovertemplate\": \"Country_or_Area=Afghanistan<br>Year=1990<br>GDP_Per_Capita(USD)=%{x}<br>Mortality_Rate(%)=%{y}<br>Population(mn)=%{marker.size}\", \"legendgroup\": \"Country_or_Area=Afghanistan\", \"marker\": {\"color\": \"#636efa\", \"size\": [12.249114], \"sizemode\": \"area\", \"sizeref\": 0.2483606316444444, \"symbol\": \"circle\"}, \"mode\": \"markers\", \"name\": \"Country_or_Area=Afghanistan\", \"showlegend\": true, \"x\": [295.66220110000006], \"xaxis\": \"x\", \"y\": [17.73], \"yaxis\": \"y\", \"type\": \"scatter\"}, {\"hoverlabel\": {\"namelength\": 0}, \"hovertemplate\": \"Country_or_Area=China<br>Year=1990<br>GDP_Per_Capita(USD)=%{x}<br>Mortality_Rate(%)=%{y}<br>Population(mn)=%{marker.size}\", \"legendgroup\": \"Country_or_Area=China\", \"marker\": {\"color\": \"#EF553B\", \"size\": [1172.4452], \"sizemode\": \"area\", \"sizeref\": 0.2483606316444444, \"symbol\": \"circle\"}, \"mode\": \"markers\", \"name\": \"Country_or_Area=China\", \"showlegend\": true, \"x\": [336.5323272], \"xaxis\": \"x\", \"y\": [5.39], \"yaxis\": \"y\", \"type\": \"scatter\"}, {\"hoverlabel\": {\"namelength\": 0}, \"hovertemplate\": \"Country_or_Area=India<br>Year=1990<br>GDP_Per_Capita(USD)=%{x}<br>Mortality_Rate(%)=%{y}<br>Population(mn)=%{marker.size}\", \"legendgroup\": \"Country_or_Area=India\", \"marker\": {\"color\": \"#00cc96\", \"size\": [870.1334800000001], \"sizemode\": \"area\", \"sizeref\": 0.2483606316444444, \"symbol\": \"circle\"}, \"mode\": \"markers\", \"name\": \"Country_or_Area=India\", \"showlegend\": true, \"x\": [369.0967673], \"xaxis\": \"x\", \"y\": [12.59], \"yaxis\": \"y\", \"type\": \"scatter\"}, {\"hoverlabel\": {\"namelength\": 0}, \"hovertemplate\": \"Country_or_Area=United States<br>Year=1990<br>GDP_Per_Capita(USD)=%{x}<br>Mortality_Rate(%)=%{y}<br>Population(mn)=%{marker.size}\", \"legendgroup\": \"Country_or_Area=United States\", \"marker\": {\"color\": \"#ab63fa\", \"size\": [252.52995], \"sizemode\": \"area\", \"sizeref\": 0.2483606316444444, \"symbol\": \"circle\"}, \"mode\": \"markers\", \"name\": \"Country_or_Area=United States\", \"showlegend\": true, \"x\": [23613.61098], \"xaxis\": \"x\", \"y\": [1.12], \"yaxis\": \"y\", \"type\": \"scatter\"}, {\"hoverlabel\": {\"namelength\": 0}, \"hovertemplate\": \"Country_or_Area=United Kingdom<br>Year=1990<br>GDP_Per_Capita(USD)=%{x}<br>Mortality_Rate(%)=%{y}<br>Population(mn)=%{marker.size}\", \"legendgroup\": \"Country_or_Area=United Kingdom\", \"marker\": {\"color\": \"#FFA15A\", \"size\": [57.183331], \"sizemode\": \"area\", \"sizeref\": 0.2483606316444444, \"symbol\": \"circle\"}, \"mode\": \"markers\", \"name\": \"Country_or_Area=United Kingdom\", \"showlegend\": true, \"x\": [19117.69901], \"xaxis\": \"x\", \"y\": [0.93], \"yaxis\": \"y\", \"type\": \"scatter\"}, {\"hoverlabel\": {\"namelength\": 0}, \"hovertemplate\": \"Country_or_Area=Brazil<br>Year=1990<br>GDP_Per_Capita(USD)=%{x}<br>Mortality_Rate(%)=%{y}<br>Population(mn)=%{marker.size}\", \"legendgroup\": \"Country_or_Area=Brazil\", \"marker\": {\"color\": \"#19d3f3\", \"size\": [149.352145], \"sizemode\": \"area\", \"sizeref\": 0.2483606316444444, \"symbol\": \"circle\"}, \"mode\": \"markers\", \"name\": \"Country_or_Area=Brazil\", \"showlegend\": true, \"x\": [2724.413582], \"xaxis\": \"x\", \"y\": [6.42], \"yaxis\": \"y\", \"type\": \"scatter\"}, {\"hoverlabel\": {\"namelength\": 0}, \"hovertemplate\": \"Country_or_Area=Zimbabwe<br>Year=1990<br>GDP_Per_Capita(USD)=%{x}<br>Mortality_Rate(%)=%{y}<br>Population(mn)=%{marker.size}\", \"legendgroup\": \"Country_or_Area=Zimbabwe\", \"marker\": {\"color\": \"#FF6692\", \"size\": [10.183113], \"sizemode\": \"area\", \"sizeref\": 0.2483606316444444, \"symbol\": \"circle\"}, \"mode\": \"markers\", \"name\": \"Country_or_Area=Zimbabwe\", \"showlegend\": true, \"x\": [1152.668564], \"xaxis\": \"x\", \"y\": [7.52], \"yaxis\": \"y\", \"type\": \"scatter\"}, {\"hoverlabel\": {\"namelength\": 0}, \"hovertemplate\": \"Country_or_Area=Namibia<br>Year=1990<br>GDP_Per_Capita(USD)=%{x}<br>Mortality_Rate(%)=%{y}<br>Population(mn)=%{marker.size}\", \"legendgroup\": \"Country_or_Area=Namibia\", \"marker\": {\"color\": \"#B6E880\", \"size\": [1.414692], \"sizemode\": \"area\", \"sizeref\": 0.2483606316444444, \"symbol\": \"circle\"}, \"mode\": \"markers\", \"name\": \"Country_or_Area=Namibia\", \"showlegend\": true, \"x\": [1969.1509440000002], \"xaxis\": \"x\", \"y\": [7.13], \"yaxis\": \"y\", \"type\": \"scatter\"}, {\"hoverlabel\": {\"namelength\": 0}, \"hovertemplate\": \"Country_or_Area=Nigeria<br>Year=1990<br>GDP_Per_Capita(USD)=%{x}<br>Mortality_Rate(%)=%{y}<br>Population(mn)=%{marker.size}\", \"legendgroup\": \"Country_or_Area=Nigeria\", \"marker\": {\"color\": \"#FF97FF\", \"size\": [95.269988], \"sizemode\": \"area\", \"sizeref\": 0.2483606316444444, \"symbol\": \"circle\"}, \"mode\": \"markers\", \"name\": \"Country_or_Area=Nigeria\", \"showlegend\": true, \"x\": [717.2134194], \"xaxis\": \"x\", \"y\": [21.29], \"yaxis\": \"y\", \"type\": \"scatter\"}, {\"hoverlabel\": {\"namelength\": 0}, \"hovertemplate\": \"Country_or_Area=Thailand<br>Year=1990<br>GDP_Per_Capita(USD)=%{x}<br>Mortality_Rate(%)=%{y}<br>Population(mn)=%{marker.size}\", \"legendgroup\": \"Country_or_Area=Thailand\", \"marker\": {\"color\": \"#636efa\", \"size\": [56.582820999999996], \"sizemode\": \"area\", \"sizeref\": 0.2483606316444444, \"symbol\": \"circle\"}, \"mode\": \"markers\", \"name\": \"Country_or_Area=Thailand\", \"showlegend\": true, \"x\": [1563.3846199999998], \"xaxis\": \"x\", \"y\": [3.78], \"yaxis\": \"y\", \"type\": \"scatter\"}, {\"hoverlabel\": {\"namelength\": 0}, \"hovertemplate\": \"Country_or_Area=France<br>Year=1990<br>GDP_Per_Capita(USD)=%{x}<br>Mortality_Rate(%)=%{y}<br>Population(mn)=%{marker.size}\", \"legendgroup\": \"Country_or_Area=France\", \"marker\": {\"color\": \"#EF553B\", \"size\": [56.960834999999996], \"sizemode\": \"area\", \"sizeref\": 0.2483606316444444, \"symbol\": \"circle\"}, \"mode\": \"markers\", \"name\": \"Country_or_Area=France\", \"showlegend\": true, \"x\": [21684.92367], \"xaxis\": \"x\", \"y\": [0.9], \"yaxis\": \"y\", \"type\": \"scatter\"}, {\"hoverlabel\": {\"namelength\": 0}, \"hovertemplate\": \"Country_or_Area=Germany<br>Year=1990<br>GDP_Per_Capita(USD)=%{x}<br>Mortality_Rate(%)=%{y}<br>Population(mn)=%{marker.size}\", \"legendgroup\": \"Country_or_Area=Germany\", \"marker\": {\"color\": \"#00cc96\", \"size\": [79.118326], \"sizemode\": \"area\", \"sizeref\": 0.2483606316444444, \"symbol\": \"circle\"}, \"mode\": \"markers\", \"name\": \"Country_or_Area=Germany\", \"showlegend\": true, \"x\": [22307.64755], \"xaxis\": \"x\", \"y\": [0.85], \"yaxis\": \"y\", \"type\": \"scatter\"}, {\"hoverlabel\": {\"namelength\": 0}, \"hovertemplate\": \"Country_or_Area=Mexico<br>Year=1990<br>GDP_Per_Capita(USD)=%{x}<br>Mortality_Rate(%)=%{y}<br>Population(mn)=%{marker.size}\", \"legendgroup\": \"Country_or_Area=Mexico\", \"marker\": {\"color\": \"#ab63fa\", \"size\": [85.357874], \"sizemode\": \"area\", \"sizeref\": 0.2483606316444444, \"symbol\": \"circle\"}, \"mode\": \"markers\", \"name\": \"Country_or_Area=Mexico\", \"showlegend\": true, \"x\": [3513.9616100000003], \"xaxis\": \"x\", \"y\": [4.57], \"yaxis\": \"y\", \"type\": \"scatter\"}], \"name\": \"1990\"}, {\"data\": [{\"hoverlabel\": {\"namelength\": 0}, \"hovertemplate\": \"Country_or_Area=Afghanistan<br>Year=1991<br>GDP_Per_Capita(USD)=%{x}<br>Mortality_Rate(%)=%{y}<br>Population(mn)=%{marker.size}\", \"legendgroup\": \"Country_or_Area=Afghanistan\", \"marker\": {\"color\": \"#636efa\", \"size\": [12.993657], \"sizemode\": \"area\", \"sizeref\": 0.2483606316444444, \"symbol\": \"circle\"}, \"mode\": \"markers\", \"name\": \"Country_or_Area=Afghanistan\", \"showlegend\": true, \"x\": [257.0561933], \"xaxis\": \"x\", \"y\": [17.11], \"yaxis\": \"y\", \"type\": \"scatter\"}, {\"hoverlabel\": {\"namelength\": 0}, \"hovertemplate\": \"Country_or_Area=China<br>Year=1991<br>GDP_Per_Capita(USD)=%{x}<br>Mortality_Rate(%)=%{y}<br>Population(mn)=%{marker.size}\", \"legendgroup\": \"Country_or_Area=China\", \"marker\": {\"color\": \"#EF553B\", \"size\": [1189.183522], \"sizemode\": \"area\", \"sizeref\": 0.2483606316444444, \"symbol\": \"circle\"}, \"mode\": \"markers\", \"name\": \"Country_or_Area=China\", \"showlegend\": true, \"x\": [347.61292119999996], \"xaxis\": \"x\", \"y\": [5.33], \"yaxis\": \"y\", \"type\": \"scatter\"}, {\"hoverlabel\": {\"namelength\": 0}, \"hovertemplate\": \"Country_or_Area=India<br>Year=1991<br>GDP_Per_Capita(USD)=%{x}<br>Mortality_Rate(%)=%{y}<br>Population(mn)=%{marker.size}\", \"legendgroup\": \"Country_or_Area=India\", \"marker\": {\"color\": \"#00cc96\", \"size\": [888.054875], \"sizemode\": \"area\", \"sizeref\": 0.2483606316444444, \"symbol\": \"circle\"}, \"mode\": \"markers\", \"name\": \"Country_or_Area=India\", \"showlegend\": true, \"x\": [320.5759213], \"xaxis\": \"x\", \"y\": [12.24], \"yaxis\": \"y\", \"type\": \"scatter\"}, {\"hoverlabel\": {\"namelength\": 0}, \"hovertemplate\": \"Country_or_Area=United States<br>Year=1991<br>GDP_Per_Capita(USD)=%{x}<br>Mortality_Rate(%)=%{y}<br>Population(mn)=%{marker.size}\", \"legendgroup\": \"Country_or_Area=United States\", \"marker\": {\"color\": \"#ab63fa\", \"size\": [254.974819], \"sizemode\": \"area\", \"sizeref\": 0.2483606316444444, \"symbol\": \"circle\"}, \"mode\": \"markers\", \"name\": \"Country_or_Area=United States\", \"showlegend\": true, \"x\": [24151.91047], \"xaxis\": \"x\", \"y\": [1.09], \"yaxis\": \"y\", \"type\": \"scatter\"}, {\"hoverlabel\": {\"namelength\": 0}, \"hovertemplate\": \"Country_or_Area=United Kingdom<br>Year=1991<br>GDP_Per_Capita(USD)=%{x}<br>Mortality_Rate(%)=%{y}<br>Population(mn)=%{marker.size}\", \"legendgroup\": \"Country_or_Area=United Kingdom\", \"marker\": {\"color\": \"#FFA15A\", \"size\": [57.339447], \"sizemode\": \"area\", \"sizeref\": 0.2483606316444444, \"symbol\": \"circle\"}, \"mode\": \"markers\", \"name\": \"Country_or_Area=United Kingdom\", \"showlegend\": true, \"x\": [19929.84471], \"xaxis\": \"x\", \"y\": [0.87], \"yaxis\": \"y\", \"type\": \"scatter\"}, {\"hoverlabel\": {\"namelength\": 0}, \"hovertemplate\": \"Country_or_Area=Brazil<br>Year=1991<br>GDP_Per_Capita(USD)=%{x}<br>Mortality_Rate(%)=%{y}<br>Population(mn)=%{marker.size}\", \"legendgroup\": \"Country_or_Area=Brazil\", \"marker\": {\"color\": \"#19d3f3\", \"size\": [151.976577], \"sizemode\": \"area\", \"sizeref\": 0.2483606316444444, \"symbol\": \"circle\"}, \"mode\": \"markers\", \"name\": \"Country_or_Area=Brazil\", \"showlegend\": true, \"x\": [2491.050544], \"xaxis\": \"x\", \"y\": [6.14], \"yaxis\": \"y\", \"type\": \"scatter\"}, {\"hoverlabel\": {\"namelength\": 0}, \"hovertemplate\": \"Country_or_Area=Zimbabwe<br>Year=1991<br>GDP_Per_Capita(USD)=%{x}<br>Mortality_Rate(%)=%{y}<br>Population(mn)=%{marker.size}\", \"legendgroup\": \"Country_or_Area=Zimbabwe\", \"marker\": {\"color\": \"#FF6692\", \"size\": [10.443043], \"sizemode\": \"area\", \"sizeref\": 0.2483606316444444, \"symbol\": \"circle\"}, \"mode\": \"markers\", \"name\": \"Country_or_Area=Zimbabwe\", \"showlegend\": true, \"x\": [1048.74396], \"xaxis\": \"x\", \"y\": [7.74], \"yaxis\": \"y\", \"type\": \"scatter\"}, {\"hoverlabel\": {\"namelength\": 0}, \"hovertemplate\": \"Country_or_Area=Namibia<br>Year=1991<br>GDP_Per_Capita(USD)=%{x}<br>Mortality_Rate(%)=%{y}<br>Population(mn)=%{marker.size}\", \"legendgroup\": \"Country_or_Area=Namibia\", \"marker\": {\"color\": \"#B6E880\", \"size\": [1.46574], \"sizemode\": \"area\", \"sizeref\": 0.2483606316444444, \"symbol\": \"circle\"}, \"mode\": \"markers\", \"name\": \"Country_or_Area=Namibia\", \"showlegend\": true, \"x\": [2041.7224170000002], \"xaxis\": \"x\", \"y\": [6.92], \"yaxis\": \"y\", \"type\": \"scatter\"}, {\"hoverlabel\": {\"namelength\": 0}, \"hovertemplate\": \"Country_or_Area=Nigeria<br>Year=1991<br>GDP_Per_Capita(USD)=%{x}<br>Mortality_Rate(%)=%{y}<br>Population(mn)=%{marker.size}\", \"legendgroup\": \"Country_or_Area=Nigeria\", \"marker\": {\"color\": \"#FF97FF\", \"size\": [97.726323], \"sizemode\": \"area\", \"sizeref\": 0.2483606316444444, \"symbol\": \"circle\"}, \"mode\": \"markers\", \"name\": \"Country_or_Area=Nigeria\", \"showlegend\": true, \"x\": [654.8880333], \"xaxis\": \"x\", \"y\": [21.25], \"yaxis\": \"y\", \"type\": \"scatter\"}, {\"hoverlabel\": {\"namelength\": 0}, \"hovertemplate\": \"Country_or_Area=Thailand<br>Year=1991<br>GDP_Per_Capita(USD)=%{x}<br>Mortality_Rate(%)=%{y}<br>Population(mn)=%{marker.size}\", \"legendgroup\": \"Country_or_Area=Thailand\", \"marker\": {\"color\": \"#636efa\", \"size\": [57.258401], \"sizemode\": \"area\", \"sizeref\": 0.2483606316444444, \"symbol\": \"circle\"}, \"mode\": \"markers\", \"name\": \"Country_or_Area=Thailand\", \"showlegend\": true, \"x\": [1768.248527], \"xaxis\": \"x\", \"y\": [3.58], \"yaxis\": \"y\", \"type\": \"scatter\"}, {\"hoverlabel\": {\"namelength\": 0}, \"hovertemplate\": \"Country_or_Area=France<br>Year=1991<br>GDP_Per_Capita(USD)=%{x}<br>Mortality_Rate(%)=%{y}<br>Population(mn)=%{marker.size}\", \"legendgroup\": \"Country_or_Area=France\", \"marker\": {\"color\": \"#EF553B\", \"size\": [57.237702], \"sizemode\": \"area\", \"sizeref\": 0.2483606316444444, \"symbol\": \"circle\"}, \"mode\": \"markers\", \"name\": \"Country_or_Area=France\", \"showlegend\": true, \"x\": [21573.74137], \"xaxis\": \"x\", \"y\": [0.86], \"yaxis\": \"y\", \"type\": \"scatter\"}, {\"hoverlabel\": {\"namelength\": 0}, \"hovertemplate\": \"Country_or_Area=Germany<br>Year=1991<br>GDP_Per_Capita(USD)=%{x}<br>Mortality_Rate(%)=%{y}<br>Population(mn)=%{marker.size}\", \"legendgroup\": \"Country_or_Area=Germany\", \"marker\": {\"color\": \"#00cc96\", \"size\": [79.564454], \"sizemode\": \"area\", \"sizeref\": 0.2483606316444444, \"symbol\": \"circle\"}, \"mode\": \"markers\", \"name\": \"Country_or_Area=Germany\", \"showlegend\": true, \"x\": [23400.54462], \"xaxis\": \"x\", \"y\": [0.8], \"yaxis\": \"y\", \"type\": \"scatter\"}, {\"hoverlabel\": {\"namelength\": 0}, \"hovertemplate\": \"Country_or_Area=Mexico<br>Year=1991<br>GDP_Per_Capita(USD)=%{x}<br>Mortality_Rate(%)=%{y}<br>Population(mn)=%{marker.size}\", \"legendgroup\": \"Country_or_Area=Mexico\", \"marker\": {\"color\": \"#ab63fa\", \"size\": [87.071512], \"sizemode\": \"area\", \"sizeref\": 0.2483606316444444, \"symbol\": \"circle\"}, \"mode\": \"markers\", \"name\": \"Country_or_Area=Mexico\", \"showlegend\": true, \"x\": [4123.260843], \"xaxis\": \"x\", \"y\": [4.35], \"yaxis\": \"y\", \"type\": \"scatter\"}], \"name\": \"1991\"}, {\"data\": [{\"hoverlabel\": {\"namelength\": 0}, \"hovertemplate\": \"Country_or_Area=Afghanistan<br>Year=1992<br>GDP_Per_Capita(USD)=%{x}<br>Mortality_Rate(%)=%{y}<br>Population(mn)=%{marker.size}\", \"legendgroup\": \"Country_or_Area=Afghanistan\", \"marker\": {\"color\": \"#636efa\", \"size\": [13.981231], \"sizemode\": \"area\", \"sizeref\": 0.2483606316444444, \"symbol\": \"circle\"}, \"mode\": \"markers\", \"name\": \"Country_or_Area=Afghanistan\", \"showlegend\": true, \"x\": [248.5188898], \"xaxis\": \"x\", \"y\": [16.52], \"yaxis\": \"y\", \"type\": \"scatter\"}, {\"hoverlabel\": {\"namelength\": 0}, \"hovertemplate\": \"Country_or_Area=China<br>Year=1992<br>GDP_Per_Capita(USD)=%{x}<br>Mortality_Rate(%)=%{y}<br>Population(mn)=%{marker.size}\", \"legendgroup\": \"Country_or_Area=China\", \"marker\": {\"color\": \"#EF553B\", \"size\": [1204.003901], \"sizemode\": \"area\", \"sizeref\": 0.2483606316444444, \"symbol\": \"circle\"}, \"mode\": \"markers\", \"name\": \"Country_or_Area=China\", \"showlegend\": true, \"x\": [409.5810207], \"xaxis\": \"x\", \"y\": [5.23], \"yaxis\": \"y\", \"type\": \"scatter\"}, {\"hoverlabel\": {\"namelength\": 0}, \"hovertemplate\": \"Country_or_Area=India<br>Year=1992<br>GDP_Per_Capita(USD)=%{x}<br>Mortality_Rate(%)=%{y}<br>Population(mn)=%{marker.size}\", \"legendgroup\": \"Country_or_Area=India\", \"marker\": {\"color\": \"#00cc96\", \"size\": [906.021106], \"sizemode\": \"area\", \"sizeref\": 0.2483606316444444, \"symbol\": \"circle\"}, \"mode\": \"markers\", \"name\": \"Country_or_Area=India\", \"showlegend\": true, \"x\": [315.5564273], \"xaxis\": \"x\", \"y\": [11.9], \"yaxis\": \"y\", \"type\": \"scatter\"}, {\"hoverlabel\": {\"namelength\": 0}, \"hovertemplate\": \"Country_or_Area=United States<br>Year=1992<br>GDP_Per_Capita(USD)=%{x}<br>Mortality_Rate(%)=%{y}<br>Population(mn)=%{marker.size}\", \"legendgroup\": \"Country_or_Area=United States\", \"marker\": {\"color\": \"#ab63fa\", \"size\": [257.454273], \"sizemode\": \"area\", \"sizeref\": 0.2483606316444444, \"symbol\": \"circle\"}, \"mode\": \"markers\", \"name\": \"Country_or_Area=United States\", \"showlegend\": true, \"x\": [25326.15569], \"xaxis\": \"x\", \"y\": [1.05], \"yaxis\": \"y\", \"type\": \"scatter\"}, {\"hoverlabel\": {\"namelength\": 0}, \"hovertemplate\": \"Country_or_Area=United Kingdom<br>Year=1992<br>GDP_Per_Capita(USD)=%{x}<br>Mortality_Rate(%)=%{y}<br>Population(mn)=%{marker.size}\", \"legendgroup\": \"Country_or_Area=United Kingdom\", \"marker\": {\"color\": \"#FFA15A\", \"size\": [57.494538], \"sizemode\": \"area\", \"sizeref\": 0.2483606316444444, \"symbol\": \"circle\"}, \"mode\": \"markers\", \"name\": \"Country_or_Area=United Kingdom\", \"showlegend\": true, \"x\": [20518.697180000003], \"xaxis\": \"x\", \"y\": [0.82], \"yaxis\": \"y\", \"type\": \"scatter\"}, {\"hoverlabel\": {\"namelength\": 0}, \"hovertemplate\": \"Country_or_Area=Brazil<br>Year=1992<br>GDP_Per_Capita(USD)=%{x}<br>Mortality_Rate(%)=%{y}<br>Population(mn)=%{marker.size}\", \"legendgroup\": \"Country_or_Area=Brazil\", \"marker\": {\"color\": \"#19d3f3\", \"size\": [154.564278], \"sizemode\": \"area\", \"sizeref\": 0.2483606316444444, \"symbol\": \"circle\"}, \"mode\": \"markers\", \"name\": \"Country_or_Area=Brazil\", \"showlegend\": true, \"x\": [2346.247849], \"xaxis\": \"x\", \"y\": [5.84], \"yaxis\": \"y\", \"type\": \"scatter\"}, {\"hoverlabel\": {\"namelength\": 0}, \"hovertemplate\": \"Country_or_Area=Zimbabwe<br>Year=1992<br>GDP_Per_Capita(USD)=%{x}<br>Mortality_Rate(%)=%{y}<br>Population(mn)=%{marker.size}\", \"legendgroup\": \"Country_or_Area=Zimbabwe\", \"marker\": {\"color\": \"#FF6692\", \"size\": [10.682868], \"sizemode\": \"area\", \"sizeref\": 0.2483606316444444, \"symbol\": \"circle\"}, \"mode\": \"markers\", \"name\": \"Country_or_Area=Zimbabwe\", \"showlegend\": true, \"x\": [845.4156346000001], \"xaxis\": \"x\", \"y\": [8.02], \"yaxis\": \"y\", \"type\": \"scatter\"}, {\"hoverlabel\": {\"namelength\": 0}, \"hovertemplate\": \"Country_or_Area=Namibia<br>Year=1992<br>GDP_Per_Capita(USD)=%{x}<br>Mortality_Rate(%)=%{y}<br>Population(mn)=%{marker.size}\", \"legendgroup\": \"Country_or_Area=Namibia\", \"marker\": {\"color\": \"#B6E880\", \"size\": [1.5137209999999999], \"sizemode\": \"area\", \"sizeref\": 0.2483606316444444, \"symbol\": \"circle\"}, \"mode\": \"markers\", \"name\": \"Country_or_Area=Namibia\", \"showlegend\": true, \"x\": [2262.448974], \"xaxis\": \"x\", \"y\": [6.77], \"yaxis\": \"y\", \"type\": \"scatter\"}, {\"hoverlabel\": {\"namelength\": 0}, \"hovertemplate\": \"Country_or_Area=Nigeria<br>Year=1992<br>GDP_Per_Capita(USD)=%{x}<br>Mortality_Rate(%)=%{y}<br>Population(mn)=%{marker.size}\", \"legendgroup\": \"Country_or_Area=Nigeria\", \"marker\": {\"color\": \"#FF97FF\", \"size\": [100.221563], \"sizemode\": \"area\", \"sizeref\": 0.2483606316444444, \"symbol\": \"circle\"}, \"mode\": \"markers\", \"name\": \"Country_or_Area=Nigeria\", \"showlegend\": true, \"x\": [579.5100708], \"xaxis\": \"x\", \"y\": [21.19], \"yaxis\": \"y\", \"type\": \"scatter\"}, {\"hoverlabel\": {\"namelength\": 0}, \"hovertemplate\": \"Country_or_Area=Thailand<br>Year=1992<br>GDP_Per_Capita(USD)=%{x}<br>Mortality_Rate(%)=%{y}<br>Population(mn)=%{marker.size}\", \"legendgroup\": \"Country_or_Area=Thailand\", \"marker\": {\"color\": \"#636efa\", \"size\": [57.837878], \"sizemode\": \"area\", \"sizeref\": 0.2483606316444444, \"symbol\": \"circle\"}, \"mode\": \"markers\", \"name\": \"Country_or_Area=Thailand\", \"showlegend\": true, \"x\": [1998.305284], \"xaxis\": \"x\", \"y\": [3.4], \"yaxis\": \"y\", \"type\": \"scatter\"}, {\"hoverlabel\": {\"namelength\": 0}, \"hovertemplate\": \"Country_or_Area=France<br>Year=1992<br>GDP_Per_Capita(USD)=%{x}<br>Mortality_Rate(%)=%{y}<br>Population(mn)=%{marker.size}\", \"legendgroup\": \"Country_or_Area=France\", \"marker\": {\"color\": \"#EF553B\", \"size\": [57.496974], \"sizemode\": \"area\", \"sizeref\": 0.2483606316444444, \"symbol\": \"circle\"}, \"mode\": \"markers\", \"name\": \"Country_or_Area=France\", \"showlegend\": true, \"x\": [23704.800069999998], \"xaxis\": \"x\", \"y\": [0.81], \"yaxis\": \"y\", \"type\": \"scatter\"}, {\"hoverlabel\": {\"namelength\": 0}, \"hovertemplate\": \"Country_or_Area=Germany<br>Year=1992<br>GDP_Per_Capita(USD)=%{x}<br>Mortality_Rate(%)=%{y}<br>Population(mn)=%{marker.size}\", \"legendgroup\": \"Country_or_Area=Germany\", \"marker\": {\"color\": \"#00cc96\", \"size\": [80.046157], \"sizemode\": \"area\", \"sizeref\": 0.2483606316444444, \"symbol\": \"circle\"}, \"mode\": \"markers\", \"name\": \"Country_or_Area=Germany\", \"showlegend\": true, \"x\": [26525.19571], \"xaxis\": \"x\", \"y\": [0.76], \"yaxis\": \"y\", \"type\": \"scatter\"}, {\"hoverlabel\": {\"namelength\": 0}, \"hovertemplate\": \"Country_or_Area=Mexico<br>Year=1992<br>GDP_Per_Capita(USD)=%{x}<br>Mortality_Rate(%)=%{y}<br>Population(mn)=%{marker.size}\", \"legendgroup\": \"Country_or_Area=Mexico\", \"marker\": {\"color\": \"#ab63fa\", \"size\": [88.82831], \"sizemode\": \"area\", \"sizeref\": 0.2483606316444444, \"symbol\": \"circle\"}, \"mode\": \"markers\", \"name\": \"Country_or_Area=Mexico\", \"showlegend\": true, \"x\": [4673.561951], \"xaxis\": \"x\", \"y\": [4.14], \"yaxis\": \"y\", \"type\": \"scatter\"}], \"name\": \"1992\"}, {\"data\": [{\"hoverlabel\": {\"namelength\": 0}, \"hovertemplate\": \"Country_or_Area=Afghanistan<br>Year=1993<br>GDP_Per_Capita(USD)=%{x}<br>Mortality_Rate(%)=%{y}<br>Population(mn)=%{marker.size}\", \"legendgroup\": \"Country_or_Area=Afghanistan\", \"marker\": {\"color\": \"#636efa\", \"size\": [15.095099], \"sizemode\": \"area\", \"sizeref\": 0.2483606316444444, \"symbol\": \"circle\"}, \"mode\": \"markers\", \"name\": \"Country_or_Area=Afghanistan\", \"showlegend\": true, \"x\": [176.5076196], \"xaxis\": \"x\", \"y\": [15.96], \"yaxis\": \"y\", \"type\": \"scatter\"}, {\"hoverlabel\": {\"namelength\": 0}, \"hovertemplate\": \"Country_or_Area=China<br>Year=1993<br>GDP_Per_Capita(USD)=%{x}<br>Mortality_Rate(%)=%{y}<br>Population(mn)=%{marker.size}\", \"legendgroup\": \"Country_or_Area=China\", \"marker\": {\"color\": \"#EF553B\", \"size\": [1217.129133], \"sizemode\": \"area\", \"sizeref\": 0.2483606316444444, \"symbol\": \"circle\"}, \"mode\": \"markers\", \"name\": \"Country_or_Area=China\", \"showlegend\": true, \"x\": [508.66903099999996], \"xaxis\": \"x\", \"y\": [5.09], \"yaxis\": \"y\", \"type\": \"scatter\"}, {\"hoverlabel\": {\"namelength\": 0}, \"hovertemplate\": \"Country_or_Area=India<br>Year=1993<br>GDP_Per_Capita(USD)=%{x}<br>Mortality_Rate(%)=%{y}<br>Population(mn)=%{marker.size}\", \"legendgroup\": \"Country_or_Area=India\", \"marker\": {\"color\": \"#00cc96\", \"size\": [924.057817], \"sizemode\": \"area\", \"sizeref\": 0.2483606316444444, \"symbol\": \"circle\"}, \"mode\": \"markers\", \"name\": \"Country_or_Area=India\", \"showlegend\": true, \"x\": [302.0278143], \"xaxis\": \"x\", \"y\": [11.57], \"yaxis\": \"y\", \"type\": \"scatter\"}, {\"hoverlabel\": {\"namelength\": 0}, \"hovertemplate\": \"Country_or_Area=United States<br>Year=1993<br>GDP_Per_Capita(USD)=%{x}<br>Mortality_Rate(%)=%{y}<br>Population(mn)=%{marker.size}\", \"legendgroup\": \"Country_or_Area=United States\", \"marker\": {\"color\": \"#ab63fa\", \"size\": [260.02018599999997], \"sizemode\": \"area\", \"sizeref\": 0.2483606316444444, \"symbol\": \"circle\"}, \"mode\": \"markers\", \"name\": \"Country_or_Area=United States\", \"showlegend\": true, \"x\": [26377.02521], \"xaxis\": \"x\", \"y\": [1.01], \"yaxis\": \"y\", \"type\": \"scatter\"}, {\"hoverlabel\": {\"namelength\": 0}, \"hovertemplate\": \"Country_or_Area=United Kingdom<br>Year=1993<br>GDP_Per_Capita(USD)=%{x}<br>Mortality_Rate(%)=%{y}<br>Population(mn)=%{marker.size}\", \"legendgroup\": \"Country_or_Area=United Kingdom\", \"marker\": {\"color\": \"#FFA15A\", \"size\": [57.650473], \"sizemode\": \"area\", \"sizeref\": 0.2483606316444444, \"symbol\": \"circle\"}, \"mode\": \"markers\", \"name\": \"Country_or_Area=United Kingdom\", \"showlegend\": true, \"x\": [18411.95446], \"xaxis\": \"x\", \"y\": [0.77], \"yaxis\": \"y\", \"type\": \"scatter\"}, {\"hoverlabel\": {\"namelength\": 0}, \"hovertemplate\": \"Country_or_Area=Brazil<br>Year=1993<br>GDP_Per_Capita(USD)=%{x}<br>Mortality_Rate(%)=%{y}<br>Population(mn)=%{marker.size}\", \"legendgroup\": \"Country_or_Area=Brazil\", \"marker\": {\"color\": \"#19d3f3\", \"size\": [157.13268200000002], \"sizemode\": \"area\", \"sizeref\": 0.2483606316444444, \"symbol\": \"circle\"}, \"mode\": \"markers\", \"name\": \"Country_or_Area=Brazil\", \"showlegend\": true, \"x\": [2589.757864], \"xaxis\": \"x\", \"y\": [5.53], \"yaxis\": \"y\", \"type\": \"scatter\"}, {\"hoverlabel\": {\"namelength\": 0}, \"hovertemplate\": \"Country_or_Area=Zimbabwe<br>Year=1993<br>GDP_Per_Capita(USD)=%{x}<br>Mortality_Rate(%)=%{y}<br>Population(mn)=%{marker.size}\", \"legendgroup\": \"Country_or_Area=Zimbabwe\", \"marker\": {\"color\": \"#FF6692\", \"size\": [10.905756], \"sizemode\": \"area\", \"sizeref\": 0.2483606316444444, \"symbol\": \"circle\"}, \"mode\": \"markers\", \"name\": \"Country_or_Area=Zimbabwe\", \"showlegend\": true, \"x\": [804.4429431], \"xaxis\": \"x\", \"y\": [8.34], \"yaxis\": \"y\", \"type\": \"scatter\"}, {\"hoverlabel\": {\"namelength\": 0}, \"hovertemplate\": \"Country_or_Area=Namibia<br>Year=1993<br>GDP_Per_Capita(USD)=%{x}<br>Mortality_Rate(%)=%{y}<br>Population(mn)=%{marker.size}\", \"legendgroup\": \"Country_or_Area=Namibia\", \"marker\": {\"color\": \"#B6E880\", \"size\": [1.559983], \"sizemode\": \"area\", \"sizeref\": 0.2483606316444444, \"symbol\": \"circle\"}, \"mode\": \"markers\", \"name\": \"Country_or_Area=Namibia\", \"showlegend\": true, \"x\": [2063.121808], \"xaxis\": \"x\", \"y\": [6.7], \"yaxis\": \"y\", \"type\": \"scatter\"}, {\"hoverlabel\": {\"namelength\": 0}, \"hovertemplate\": \"Country_or_Area=Nigeria<br>Year=1993<br>GDP_Per_Capita(USD)=%{x}<br>Mortality_Rate(%)=%{y}<br>Population(mn)=%{marker.size}\", \"legendgroup\": \"Country_or_Area=Nigeria\", \"marker\": {\"color\": \"#FF97FF\", \"size\": [102.761737], \"sizemode\": \"area\", \"sizeref\": 0.2483606316444444, \"symbol\": \"circle\"}, \"mode\": \"markers\", \"name\": \"Country_or_Area=Nigeria\", \"showlegend\": true, \"x\": [551.413497], \"xaxis\": \"x\", \"y\": [21.12], \"yaxis\": \"y\", \"type\": \"scatter\"}, {\"hoverlabel\": {\"namelength\": 0}, \"hovertemplate\": \"Country_or_Area=Thailand<br>Year=1993<br>GDP_Per_Capita(USD)=%{x}<br>Mortality_Rate(%)=%{y}<br>Population(mn)=%{marker.size}\", \"legendgroup\": \"Country_or_Area=Thailand\", \"marker\": {\"color\": \"#636efa\", \"size\": [58.364891], \"sizemode\": \"area\", \"sizeref\": 0.2483606316444444, \"symbol\": \"circle\"}, \"mode\": \"markers\", \"name\": \"Country_or_Area=Thailand\", \"showlegend\": true, \"x\": [2208.344328], \"xaxis\": \"x\", \"y\": [3.22], \"yaxis\": \"y\", \"type\": \"scatter\"}, {\"hoverlabel\": {\"namelength\": 0}, \"hovertemplate\": \"Country_or_Area=France<br>Year=1993<br>GDP_Per_Capita(USD)=%{x}<br>Mortality_Rate(%)=%{y}<br>Population(mn)=%{marker.size}\", \"legendgroup\": \"Country_or_Area=France\", \"marker\": {\"color\": \"#EF553B\", \"size\": [57.74482], \"sizemode\": \"area\", \"sizeref\": 0.2483606316444444, \"symbol\": \"circle\"}, \"mode\": \"markers\", \"name\": \"Country_or_Area=France\", \"showlegend\": true, \"x\": [22273.05588], \"xaxis\": \"x\", \"y\": [0.75], \"yaxis\": \"y\", \"type\": \"scatter\"}, {\"hoverlabel\": {\"namelength\": 0}, \"hovertemplate\": \"Country_or_Area=Germany<br>Year=1993<br>GDP_Per_Capita(USD)=%{x}<br>Mortality_Rate(%)=%{y}<br>Population(mn)=%{marker.size}\", \"legendgroup\": \"Country_or_Area=Germany\", \"marker\": {\"color\": \"#00cc96\", \"size\": [80.520088], \"sizemode\": \"area\", \"sizeref\": 0.2483606316444444, \"symbol\": \"circle\"}, \"mode\": \"markers\", \"name\": \"Country_or_Area=Germany\", \"showlegend\": true, \"x\": [25689.034369999998], \"xaxis\": \"x\", \"y\": [0.72], \"yaxis\": \"y\", \"type\": \"scatter\"}, {\"hoverlabel\": {\"namelength\": 0}, \"hovertemplate\": \"Country_or_Area=Mexico<br>Year=1993<br>GDP_Per_Capita(USD)=%{x}<br>Mortality_Rate(%)=%{y}<br>Population(mn)=%{marker.size}\", \"legendgroup\": \"Country_or_Area=Mexico\", \"marker\": {\"color\": \"#ab63fa\", \"size\": [90.600453], \"sizemode\": \"area\", \"sizeref\": 0.2483606316444444, \"symbol\": \"circle\"}, \"mode\": \"markers\", \"name\": \"Country_or_Area=Mexico\", \"showlegend\": true, \"x\": [5526.8309420000005], \"xaxis\": \"x\", \"y\": [3.93], \"yaxis\": \"y\", \"type\": \"scatter\"}], \"name\": \"1993\"}, {\"data\": [{\"hoverlabel\": {\"namelength\": 0}, \"hovertemplate\": \"Country_or_Area=Afghanistan<br>Year=1994<br>GDP_Per_Capita(USD)=%{x}<br>Mortality_Rate(%)=%{y}<br>Population(mn)=%{marker.size}\", \"legendgroup\": \"Country_or_Area=Afghanistan\", \"marker\": {\"color\": \"#636efa\", \"size\": [16.172719], \"sizemode\": \"area\", \"sizeref\": 0.2483606316444444, \"symbol\": \"circle\"}, \"mode\": \"markers\", \"name\": \"Country_or_Area=Afghanistan\", \"showlegend\": true, \"x\": [130.7510506], \"xaxis\": \"x\", \"y\": [15.45], \"yaxis\": \"y\", \"type\": \"scatter\"}, {\"hoverlabel\": {\"namelength\": 0}, \"hovertemplate\": \"Country_or_Area=China<br>Year=1994<br>GDP_Per_Capita(USD)=%{x}<br>Mortality_Rate(%)=%{y}<br>Population(mn)=%{marker.size}\", \"legendgroup\": \"Country_or_Area=China\", \"marker\": {\"color\": \"#EF553B\", \"size\": [1228.9919320000001], \"sizemode\": \"area\", \"sizeref\": 0.2483606316444444, \"symbol\": \"circle\"}, \"mode\": \"markers\", \"name\": \"Country_or_Area=China\", \"showlegend\": true, \"x\": [459.1750669], \"xaxis\": \"x\", \"y\": [4.93], \"yaxis\": \"y\", \"type\": \"scatter\"}, {\"hoverlabel\": {\"namelength\": 0}, \"hovertemplate\": \"Country_or_Area=India<br>Year=1994<br>GDP_Per_Capita(USD)=%{x}<br>Mortality_Rate(%)=%{y}<br>Population(mn)=%{marker.size}\", \"legendgroup\": \"Country_or_Area=India\", \"marker\": {\"color\": \"#00cc96\", \"size\": [942.204249], \"sizemode\": \"area\", \"sizeref\": 0.2483606316444444, \"symbol\": \"circle\"}, \"mode\": \"markers\", \"name\": \"Country_or_Area=India\", \"showlegend\": true, \"x\": [339.34812769999996], \"xaxis\": \"x\", \"y\": [11.25], \"yaxis\": \"y\", \"type\": \"scatter\"}, {\"hoverlabel\": {\"namelength\": 0}, \"hovertemplate\": \"Country_or_Area=United States<br>Year=1994<br>GDP_Per_Capita(USD)=%{x}<br>Mortality_Rate(%)=%{y}<br>Population(mn)=%{marker.size}\", \"legendgroup\": \"Country_or_Area=United States\", \"marker\": {\"color\": \"#ab63fa\", \"size\": [262.74156600000003], \"sizemode\": \"area\", \"sizeref\": 0.2483606316444444, \"symbol\": \"circle\"}, \"mode\": \"markers\", \"name\": \"Country_or_Area=United States\", \"showlegend\": true, \"x\": [27735.37553], \"xaxis\": \"x\", \"y\": [0.98], \"yaxis\": \"y\", \"type\": \"scatter\"}, {\"hoverlabel\": {\"namelength\": 0}, \"hovertemplate\": \"Country_or_Area=United Kingdom<br>Year=1994<br>GDP_Per_Capita(USD)=%{x}<br>Mortality_Rate(%)=%{y}<br>Population(mn)=%{marker.size}\", \"legendgroup\": \"Country_or_Area=United Kingdom\", \"marker\": {\"color\": \"#FFA15A\", \"size\": [57.810770999999995], \"sizemode\": \"area\", \"sizeref\": 0.2483606316444444, \"symbol\": \"circle\"}, \"mode\": \"markers\", \"name\": \"Country_or_Area=United Kingdom\", \"showlegend\": true, \"x\": [19727.17698], \"xaxis\": \"x\", \"y\": [0.74], \"yaxis\": \"y\", \"type\": \"scatter\"}, {\"hoverlabel\": {\"namelength\": 0}, \"hovertemplate\": \"Country_or_Area=Brazil<br>Year=1994<br>GDP_Per_Capita(USD)=%{x}<br>Mortality_Rate(%)=%{y}<br>Population(mn)=%{marker.size}\", \"legendgroup\": \"Country_or_Area=Brazil\", \"marker\": {\"color\": \"#19d3f3\", \"size\": [159.705123], \"sizemode\": \"area\", \"sizeref\": 0.2483606316444444, \"symbol\": \"circle\"}, \"mode\": \"markers\", \"name\": \"Country_or_Area=Brazil\", \"showlegend\": true, \"x\": [3634.788625], \"xaxis\": \"x\", \"y\": [5.22], \"yaxis\": \"y\", \"type\": \"scatter\"}, {\"hoverlabel\": {\"namelength\": 0}, \"hovertemplate\": \"Country_or_Area=Zimbabwe<br>Year=1994<br>GDP_Per_Capita(USD)=%{x}<br>Mortality_Rate(%)=%{y}<br>Population(mn)=%{marker.size}\", \"legendgroup\": \"Country_or_Area=Zimbabwe\", \"marker\": {\"color\": \"#FF6692\", \"size\": [11.116947999999999], \"sizemode\": \"area\", \"sizeref\": 0.2483606316444444, \"symbol\": \"circle\"}, \"mode\": \"markers\", \"name\": \"Country_or_Area=Zimbabwe\", \"showlegend\": true, \"x\": [829.7268767], \"xaxis\": \"x\", \"y\": [8.68], \"yaxis\": \"y\", \"type\": \"scatter\"}, {\"hoverlabel\": {\"namelength\": 0}, \"hovertemplate\": \"Country_or_Area=Namibia<br>Year=1994<br>GDP_Per_Capita(USD)=%{x}<br>Mortality_Rate(%)=%{y}<br>Population(mn)=%{marker.size}\", \"legendgroup\": \"Country_or_Area=Namibia\", \"marker\": {\"color\": \"#B6E880\", \"size\": [1.606718], \"sizemode\": \"area\", \"sizeref\": 0.2483606316444444, \"symbol\": \"circle\"}, \"mode\": \"markers\", \"name\": \"Country_or_Area=Namibia\", \"showlegend\": true, \"x\": [2263.401362], \"xaxis\": \"x\", \"y\": [6.7], \"yaxis\": \"y\", \"type\": \"scatter\"}, {\"hoverlabel\": {\"namelength\": 0}, \"hovertemplate\": \"Country_or_Area=Nigeria<br>Year=1994<br>GDP_Per_Capita(USD)=%{x}<br>Mortality_Rate(%)=%{y}<br>Population(mn)=%{marker.size}\", \"legendgroup\": \"Country_or_Area=Nigeria\", \"marker\": {\"color\": \"#FF97FF\", \"size\": [105.355783], \"sizemode\": \"area\", \"sizeref\": 0.2483606316444444, \"symbol\": \"circle\"}, \"mode\": \"markers\", \"name\": \"Country_or_Area=Nigeria\", \"showlegend\": true, \"x\": [446.7591039], \"xaxis\": \"x\", \"y\": [21.01], \"yaxis\": \"y\", \"type\": \"scatter\"}, {\"hoverlabel\": {\"namelength\": 0}, \"hovertemplate\": \"Country_or_Area=Thailand<br>Year=1994<br>GDP_Per_Capita(USD)=%{x}<br>Mortality_Rate(%)=%{y}<br>Population(mn)=%{marker.size}\", \"legendgroup\": \"Country_or_Area=Thailand\", \"marker\": {\"color\": \"#636efa\", \"size\": [58.901666000000006], \"sizemode\": \"area\", \"sizeref\": 0.2483606316444444, \"symbol\": \"circle\"}, \"mode\": \"markers\", \"name\": \"Country_or_Area=Thailand\", \"showlegend\": true, \"x\": [2490.316311], \"xaxis\": \"x\", \"y\": [3.06], \"yaxis\": \"y\", \"type\": \"scatter\"}, {\"hoverlabel\": {\"namelength\": 0}, \"hovertemplate\": \"Country_or_Area=France<br>Year=1994<br>GDP_Per_Capita(USD)=%{x}<br>Mortality_Rate(%)=%{y}<br>Population(mn)=%{marker.size}\", \"legendgroup\": \"Country_or_Area=France\", \"marker\": {\"color\": \"#EF553B\", \"size\": [57.990660999999996], \"sizemode\": \"area\", \"sizeref\": 0.2483606316444444, \"symbol\": \"circle\"}, \"mode\": \"markers\", \"name\": \"Country_or_Area=France\", \"showlegend\": true, \"x\": [23362.37169], \"xaxis\": \"x\", \"y\": [0.7], \"yaxis\": \"y\", \"type\": \"scatter\"}, {\"hoverlabel\": {\"namelength\": 0}, \"hovertemplate\": \"Country_or_Area=Germany<br>Year=1994<br>GDP_Per_Capita(USD)=%{x}<br>Mortality_Rate(%)=%{y}<br>Population(mn)=%{marker.size}\", \"legendgroup\": \"Country_or_Area=Germany\", \"marker\": {\"color\": \"#00cc96\", \"size\": [80.93104100000001], \"sizemode\": \"area\", \"sizeref\": 0.2483606316444444, \"symbol\": \"circle\"}, \"mode\": \"markers\", \"name\": \"Country_or_Area=Germany\", \"showlegend\": true, \"x\": [27256.64801], \"xaxis\": \"x\", \"y\": [0.68], \"yaxis\": \"y\", \"type\": \"scatter\"}, {\"hoverlabel\": {\"namelength\": 0}, \"hovertemplate\": \"Country_or_Area=Mexico<br>Year=1994<br>GDP_Per_Capita(USD)=%{x}<br>Mortality_Rate(%)=%{y}<br>Population(mn)=%{marker.size}\", \"legendgroup\": \"Country_or_Area=Mexico\", \"marker\": {\"color\": \"#ab63fa\", \"size\": [92.349147], \"sizemode\": \"area\", \"sizeref\": 0.2483606316444444, \"symbol\": \"circle\"}, \"mode\": \"markers\", \"name\": \"Country_or_Area=Mexico\", \"showlegend\": true, \"x\": [5715.381775], \"xaxis\": \"x\", \"y\": [3.74], \"yaxis\": \"y\", \"type\": \"scatter\"}], \"name\": \"1994\"}, {\"data\": [{\"hoverlabel\": {\"namelength\": 0}, \"hovertemplate\": \"Country_or_Area=Afghanistan<br>Year=1995<br>GDP_Per_Capita(USD)=%{x}<br>Mortality_Rate(%)=%{y}<br>Population(mn)=%{marker.size}\", \"legendgroup\": \"Country_or_Area=Afghanistan\", \"marker\": {\"color\": \"#636efa\", \"size\": [17.099541000000002], \"sizemode\": \"area\", \"sizeref\": 0.2483606316444444, \"symbol\": \"circle\"}, \"mode\": \"markers\", \"name\": \"Country_or_Area=Afghanistan\", \"showlegend\": true, \"x\": [189.26239019999997], \"xaxis\": \"x\", \"y\": [14.96], \"yaxis\": \"y\", \"type\": \"scatter\"}, {\"hoverlabel\": {\"namelength\": 0}, \"hovertemplate\": \"Country_or_Area=China<br>Year=1995<br>GDP_Per_Capita(USD)=%{x}<br>Mortality_Rate(%)=%{y}<br>Population(mn)=%{marker.size}\", \"legendgroup\": \"Country_or_Area=China\", \"marker\": {\"color\": \"#EF553B\", \"size\": [1239.9400039999998], \"sizemode\": \"area\", \"sizeref\": 0.2483606316444444, \"symbol\": \"circle\"}, \"mode\": \"markers\", \"name\": \"Country_or_Area=China\", \"showlegend\": true, \"x\": [592.3552472], \"xaxis\": \"x\", \"y\": [4.75], \"yaxis\": \"y\", \"type\": \"scatter\"}, {\"hoverlabel\": {\"namelength\": 0}, \"hovertemplate\": \"Country_or_Area=India<br>Year=1995<br>GDP_Per_Capita(USD)=%{x}<br>Mortality_Rate(%)=%{y}<br>Population(mn)=%{marker.size}\", \"legendgroup\": \"Country_or_Area=India\", \"marker\": {\"color\": \"#00cc96\", \"size\": [960.4827949999999], \"sizemode\": \"area\", \"sizeref\": 0.2483606316444444, \"symbol\": \"circle\"}, \"mode\": \"markers\", \"name\": \"Country_or_Area=India\", \"showlegend\": true, \"x\": [377.8065253], \"xaxis\": \"x\", \"y\": [10.91], \"yaxis\": \"y\", \"type\": \"scatter\"}, {\"hoverlabel\": {\"namelength\": 0}, \"hovertemplate\": \"Country_or_Area=United States<br>Year=1995<br>GDP_Per_Capita(USD)=%{x}<br>Mortality_Rate(%)=%{y}<br>Population(mn)=%{marker.size}\", \"legendgroup\": \"Country_or_Area=United States\", \"marker\": {\"color\": \"#ab63fa\", \"size\": [265.65884900000003], \"sizemode\": \"area\", \"sizeref\": 0.2483606316444444, \"symbol\": \"circle\"}, \"mode\": \"markers\", \"name\": \"Country_or_Area=United States\", \"showlegend\": true, \"x\": [28757.743360000004], \"xaxis\": \"x\", \"y\": [0.95], \"yaxis\": \"y\", \"type\": \"scatter\"}, {\"hoverlabel\": {\"namelength\": 0}, \"hovertemplate\": \"Country_or_Area=United Kingdom<br>Year=1995<br>GDP_Per_Capita(USD)=%{x}<br>Mortality_Rate(%)=%{y}<br>Population(mn)=%{marker.size}\", \"legendgroup\": \"Country_or_Area=United Kingdom\", \"marker\": {\"color\": \"#FFA15A\", \"size\": [57.978320999999994], \"sizemode\": \"area\", \"sizeref\": 0.2483606316444444, \"symbol\": \"circle\"}, \"mode\": \"markers\", \"name\": \"Country_or_Area=United Kingdom\", \"showlegend\": true, \"x\": [23041.88152], \"xaxis\": \"x\", \"y\": [0.72], \"yaxis\": \"y\", \"type\": \"scatter\"}, {\"hoverlabel\": {\"namelength\": 0}, \"hovertemplate\": \"Country_or_Area=Brazil<br>Year=1995<br>GDP_Per_Capita(USD)=%{x}<br>Mortality_Rate(%)=%{y}<br>Population(mn)=%{marker.size}\", \"legendgroup\": \"Country_or_Area=Brazil\", \"marker\": {\"color\": \"#19d3f3\", \"size\": [162.296612], \"sizemode\": \"area\", \"sizeref\": 0.2483606316444444, \"symbol\": \"circle\"}, \"mode\": \"markers\", \"name\": \"Country_or_Area=Brazil\", \"showlegend\": true, \"x\": [4794.017645], \"xaxis\": \"x\", \"y\": [4.91], \"yaxis\": \"y\", \"type\": \"scatter\"}, {\"hoverlabel\": {\"namelength\": 0}, \"hovertemplate\": \"Country_or_Area=Zimbabwe<br>Year=1995<br>GDP_Per_Capita(USD)=%{x}<br>Mortality_Rate(%)=%{y}<br>Population(mn)=%{marker.size}\", \"legendgroup\": \"Country_or_Area=Zimbabwe\", \"marker\": {\"color\": \"#FF6692\", \"size\": [11.320346], \"sizemode\": \"area\", \"sizeref\": 0.2483606316444444, \"symbol\": \"circle\"}, \"mode\": \"markers\", \"name\": \"Country_or_Area=Zimbabwe\", \"showlegend\": true, \"x\": [845.9514872999999], \"xaxis\": \"x\", \"y\": [9.01], \"yaxis\": \"y\", \"type\": \"scatter\"}, {\"hoverlabel\": {\"namelength\": 0}, \"hovertemplate\": \"Country_or_Area=Namibia<br>Year=1995<br>GDP_Per_Capita(USD)=%{x}<br>Mortality_Rate(%)=%{y}<br>Population(mn)=%{marker.size}\", \"legendgroup\": \"Country_or_Area=Namibia\", \"marker\": {\"color\": \"#B6E880\", \"size\": [1.655359], \"sizemode\": \"area\", \"sizeref\": 0.2483606316444444, \"symbol\": \"circle\"}, \"mode\": \"markers\", \"name\": \"Country_or_Area=Namibia\", \"showlegend\": true, \"x\": [2381.655278], \"xaxis\": \"x\", \"y\": [6.77], \"yaxis\": \"y\", \"type\": \"scatter\"}, {\"hoverlabel\": {\"namelength\": 0}, \"hovertemplate\": \"Country_or_Area=Nigeria<br>Year=1995<br>GDP_Per_Capita(USD)=%{x}<br>Mortality_Rate(%)=%{y}<br>Population(mn)=%{marker.size}\", \"legendgroup\": \"Country_or_Area=Nigeria\", \"marker\": {\"color\": \"#FF97FF\", \"size\": [108.01146499999999], \"sizemode\": \"area\", \"sizeref\": 0.2483606316444444, \"symbol\": \"circle\"}, \"mode\": \"markers\", \"name\": \"Country_or_Area=Nigeria\", \"showlegend\": true, \"x\": [453.93328099999997], \"xaxis\": \"x\", \"y\": [20.83], \"yaxis\": \"y\", \"type\": \"scatter\"}, {\"hoverlabel\": {\"namelength\": 0}, \"hovertemplate\": \"Country_or_Area=Thailand<br>Year=1995<br>GDP_Per_Capita(USD)=%{x}<br>Mortality_Rate(%)=%{y}<br>Population(mn)=%{marker.size}\", \"legendgroup\": \"Country_or_Area=Thailand\", \"marker\": {\"color\": \"#636efa\", \"size\": [59.49179], \"sizemode\": \"area\", \"sizeref\": 0.2483606316444444, \"symbol\": \"circle\"}, \"mode\": \"markers\", \"name\": \"Country_or_Area=Thailand\", \"showlegend\": true, \"x\": [2845.413088], \"xaxis\": \"x\", \"y\": [2.92], \"yaxis\": \"y\", \"type\": \"scatter\"}, {\"hoverlabel\": {\"namelength\": 0}, \"hovertemplate\": \"Country_or_Area=France<br>Year=1995<br>GDP_Per_Capita(USD)=%{x}<br>Mortality_Rate(%)=%{y}<br>Population(mn)=%{marker.size}\", \"legendgroup\": \"Country_or_Area=France\", \"marker\": {\"color\": \"#EF553B\", \"size\": [58.241791000000006], \"sizemode\": \"area\", \"sizeref\": 0.2483606316444444, \"symbol\": \"circle\"}, \"mode\": \"markers\", \"name\": \"Country_or_Area=France\", \"showlegend\": true, \"x\": [26706.61016], \"xaxis\": \"x\", \"y\": [0.65], \"yaxis\": \"y\", \"type\": \"scatter\"}, {\"hoverlabel\": {\"namelength\": 0}, \"hovertemplate\": \"Country_or_Area=Germany<br>Year=1995<br>GDP_Per_Capita(USD)=%{x}<br>Mortality_Rate(%)=%{y}<br>Population(mn)=%{marker.size}\", \"legendgroup\": \"Country_or_Area=Germany\", \"marker\": {\"color\": \"#00cc96\", \"size\": [81.240604], \"sizemode\": \"area\", \"sizeref\": 0.2483606316444444, \"symbol\": \"circle\"}, \"mode\": \"markers\", \"name\": \"Country_or_Area=Germany\", \"showlegend\": true, \"x\": [31898.4173], \"xaxis\": \"x\", \"y\": [0.65], \"yaxis\": \"y\", \"type\": \"scatter\"}, {\"hoverlabel\": {\"namelength\": 0}, \"hovertemplate\": \"Country_or_Area=Mexico<br>Year=1995<br>GDP_Per_Capita(USD)=%{x}<br>Mortality_Rate(%)=%{y}<br>Population(mn)=%{marker.size}\", \"legendgroup\": \"Country_or_Area=Mexico\", \"marker\": {\"color\": \"#ab63fa\", \"size\": [94.045579], \"sizemode\": \"area\", \"sizeref\": 0.2483606316444444, \"symbol\": \"circle\"}, \"mode\": \"markers\", \"name\": \"Country_or_Area=Mexico\", \"showlegend\": true, \"x\": [3828.702112], \"xaxis\": \"x\", \"y\": [3.55], \"yaxis\": \"y\", \"type\": \"scatter\"}], \"name\": \"1995\"}, {\"data\": [{\"hoverlabel\": {\"namelength\": 0}, \"hovertemplate\": \"Country_or_Area=Afghanistan<br>Year=1996<br>GDP_Per_Capita(USD)=%{x}<br>Mortality_Rate(%)=%{y}<br>Population(mn)=%{marker.size}\", \"legendgroup\": \"Country_or_Area=Afghanistan\", \"marker\": {\"color\": \"#636efa\", \"size\": [17.822884], \"sizemode\": \"area\", \"sizeref\": 0.2483606316444444, \"symbol\": \"circle\"}, \"mode\": \"markers\", \"name\": \"Country_or_Area=Afghanistan\", \"showlegend\": true, \"x\": [175.30044019999997], \"xaxis\": \"x\", \"y\": [14.51], \"yaxis\": \"y\", \"type\": \"scatter\"}, {\"hoverlabel\": {\"namelength\": 0}, \"hovertemplate\": \"Country_or_Area=China<br>Year=1996<br>GDP_Per_Capita(USD)=%{x}<br>Mortality_Rate(%)=%{y}<br>Population(mn)=%{marker.size}\", \"legendgroup\": \"Country_or_Area=China\", \"marker\": {\"color\": \"#EF553B\", \"size\": [1249.981441], \"sizemode\": \"area\", \"sizeref\": 0.2483606316444444, \"symbol\": \"circle\"}, \"mode\": \"markers\", \"name\": \"Country_or_Area=China\", \"showlegend\": true, \"x\": [691.0094266], \"xaxis\": \"x\", \"y\": [4.55], \"yaxis\": \"y\", \"type\": \"scatter\"}, {\"hoverlabel\": {\"namelength\": 0}, \"hovertemplate\": \"Country_or_Area=India<br>Year=1996<br>GDP_Per_Capita(USD)=%{x}<br>Mortality_Rate(%)=%{y}<br>Population(mn)=%{marker.size}\", \"legendgroup\": \"Country_or_Area=India\", \"marker\": {\"color\": \"#00cc96\", \"size\": [978.8932169999999], \"sizemode\": \"area\", \"sizeref\": 0.2483606316444444, \"symbol\": \"circle\"}, \"mode\": \"markers\", \"name\": \"Country_or_Area=India\", \"showlegend\": true, \"x\": [390.70842200000004], \"xaxis\": \"x\", \"y\": [10.57], \"yaxis\": \"y\", \"type\": \"scatter\"}, {\"hoverlabel\": {\"namelength\": 0}, \"hovertemplate\": \"Country_or_Area=United States<br>Year=1996<br>GDP_Per_Capita(USD)=%{x}<br>Mortality_Rate(%)=%{y}<br>Population(mn)=%{marker.size}\", \"legendgroup\": \"Country_or_Area=United States\", \"marker\": {\"color\": \"#ab63fa\", \"size\": [268.803424], \"sizemode\": \"area\", \"sizeref\": 0.2483606316444444, \"symbol\": \"circle\"}, \"mode\": \"markers\", \"name\": \"Country_or_Area=United States\", \"showlegend\": true, \"x\": [30033.553439999996], \"xaxis\": \"x\", \"y\": [0.92], \"yaxis\": \"y\", \"type\": \"scatter\"}, {\"hoverlabel\": {\"namelength\": 0}, \"hovertemplate\": \"Country_or_Area=United Kingdom<br>Year=1996<br>GDP_Per_Capita(USD)=%{x}<br>Mortality_Rate(%)=%{y}<br>Population(mn)=%{marker.size}\", \"legendgroup\": \"Country_or_Area=United Kingdom\", \"marker\": {\"color\": \"#FFA15A\", \"size\": [58.156744999999994], \"sizemode\": \"area\", \"sizeref\": 0.2483606316444444, \"symbol\": \"circle\"}, \"mode\": \"markers\", \"name\": \"Country_or_Area=United Kingdom\", \"showlegend\": true, \"x\": [24236.26167], \"xaxis\": \"x\", \"y\": [0.7], \"yaxis\": \"y\", \"type\": \"scatter\"}, {\"hoverlabel\": {\"namelength\": 0}, \"hovertemplate\": \"Country_or_Area=Brazil<br>Year=1996<br>GDP_Per_Capita(USD)=%{x}<br>Mortality_Rate(%)=%{y}<br>Population(mn)=%{marker.size}\", \"legendgroup\": \"Country_or_Area=Brazil\", \"marker\": {\"color\": \"#19d3f3\", \"size\": [164.913306], \"sizemode\": \"area\", \"sizeref\": 0.2483606316444444, \"symbol\": \"circle\"}, \"mode\": \"markers\", \"name\": \"Country_or_Area=Brazil\", \"showlegend\": true, \"x\": [5151.933065], \"xaxis\": \"x\", \"y\": [4.6], \"yaxis\": \"y\", \"type\": \"scatter\"}, {\"hoverlabel\": {\"namelength\": 0}, \"hovertemplate\": \"Country_or_Area=Zimbabwe<br>Year=1996<br>GDP_Per_Capita(USD)=%{x}<br>Mortality_Rate(%)=%{y}<br>Population(mn)=%{marker.size}\", \"legendgroup\": \"Country_or_Area=Zimbabwe\", \"marker\": {\"color\": \"#FF6692\", \"size\": [11.518262], \"sizemode\": \"area\", \"sizeref\": 0.2483606316444444, \"symbol\": \"circle\"}, \"mode\": \"markers\", \"name\": \"Country_or_Area=Zimbabwe\", \"showlegend\": true, \"x\": [1012.011227], \"xaxis\": \"x\", \"y\": [9.28], \"yaxis\": \"y\", \"type\": \"scatter\"}, {\"hoverlabel\": {\"namelength\": 0}, \"hovertemplate\": \"Country_or_Area=Namibia<br>Year=1996<br>GDP_Per_Capita(USD)=%{x}<br>Mortality_Rate(%)=%{y}<br>Population(mn)=%{marker.size}\", \"legendgroup\": \"Country_or_Area=Namibia\", \"marker\": {\"color\": \"#B6E880\", \"size\": [1.706489], \"sizemode\": \"area\", \"sizeref\": 0.2483606316444444, \"symbol\": \"circle\"}, \"mode\": \"markers\", \"name\": \"Country_or_Area=Namibia\", \"showlegend\": true, \"x\": [2311.9373530000003], \"xaxis\": \"x\", \"y\": [6.89], \"yaxis\": \"y\", \"type\": \"scatter\"}, {\"hoverlabel\": {\"namelength\": 0}, \"hovertemplate\": \"Country_or_Area=Nigeria<br>Year=1996<br>GDP_Per_Capita(USD)=%{x}<br>Mortality_Rate(%)=%{y}<br>Population(mn)=%{marker.size}\", \"legendgroup\": \"Country_or_Area=Nigeria\", \"marker\": {\"color\": \"#FF97FF\", \"size\": [110.732904], \"sizemode\": \"area\", \"sizeref\": 0.2483606316444444, \"symbol\": \"circle\"}, \"mode\": \"markers\", \"name\": \"Country_or_Area=Nigeria\", \"showlegend\": true, \"x\": [469.4904954], \"xaxis\": \"x\", \"y\": [20.57], \"yaxis\": \"y\", \"type\": \"scatter\"}, {\"hoverlabel\": {\"namelength\": 0}, \"hovertemplate\": \"Country_or_Area=Thailand<br>Year=1996<br>GDP_Per_Capita(USD)=%{x}<br>Mortality_Rate(%)=%{y}<br>Population(mn)=%{marker.size}\", \"legendgroup\": \"Country_or_Area=Thailand\", \"marker\": {\"color\": \"#636efa\", \"size\": [60.151472], \"sizemode\": \"area\", \"sizeref\": 0.2483606316444444, \"symbol\": \"circle\"}, \"mode\": \"markers\", \"name\": \"Country_or_Area=Thailand\", \"showlegend\": true, \"x\": [3042.906047], \"xaxis\": \"x\", \"y\": [2.78], \"yaxis\": \"y\", \"type\": \"scatter\"}, {\"hoverlabel\": {\"namelength\": 0}, \"hovertemplate\": \"Country_or_Area=France<br>Year=1996<br>GDP_Per_Capita(USD)=%{x}<br>Mortality_Rate(%)=%{y}<br>Population(mn)=%{marker.size}\", \"legendgroup\": \"Country_or_Area=France\", \"marker\": {\"color\": \"#EF553B\", \"size\": [58.499689000000004], \"sizemode\": \"area\", \"sizeref\": 0.2483606316444444, \"symbol\": \"circle\"}, \"mode\": \"markers\", \"name\": \"Country_or_Area=France\", \"showlegend\": true, \"x\": [26658.0834], \"xaxis\": \"x\", \"y\": [0.61], \"yaxis\": \"y\", \"type\": \"scatter\"}, {\"hoverlabel\": {\"namelength\": 0}, \"hovertemplate\": \"Country_or_Area=Germany<br>Year=1996<br>GDP_Per_Capita(USD)=%{x}<br>Mortality_Rate(%)=%{y}<br>Population(mn)=%{marker.size}\", \"legendgroup\": \"Country_or_Area=Germany\", \"marker\": {\"color\": \"#00cc96\", \"size\": [81.426337], \"sizemode\": \"area\", \"sizeref\": 0.2483606316444444, \"symbol\": \"circle\"}, \"mode\": \"markers\", \"name\": \"Country_or_Area=Germany\", \"showlegend\": true, \"x\": [30748.45592], \"xaxis\": \"x\", \"y\": [0.62], \"yaxis\": \"y\", \"type\": \"scatter\"}, {\"hoverlabel\": {\"namelength\": 0}, \"hovertemplate\": \"Country_or_Area=Mexico<br>Year=1996<br>GDP_Per_Capita(USD)=%{x}<br>Mortality_Rate(%)=%{y}<br>Population(mn)=%{marker.size}\", \"legendgroup\": \"Country_or_Area=Mexico\", \"marker\": {\"color\": \"#ab63fa\", \"size\": [95.68745200000001], \"sizemode\": \"area\", \"sizeref\": 0.2483606316444444, \"symbol\": \"circle\"}, \"mode\": \"markers\", \"name\": \"Country_or_Area=Mexico\", \"showlegend\": true, \"x\": [4294.951620000001], \"xaxis\": \"x\", \"y\": [3.37], \"yaxis\": \"y\", \"type\": \"scatter\"}], \"name\": \"1996\"}, {\"data\": [{\"hoverlabel\": {\"namelength\": 0}, \"hovertemplate\": \"Country_or_Area=Afghanistan<br>Year=1997<br>GDP_Per_Capita(USD)=%{x}<br>Mortality_Rate(%)=%{y}<br>Population(mn)=%{marker.size}\", \"legendgroup\": \"Country_or_Area=Afghanistan\", \"marker\": {\"color\": \"#636efa\", \"size\": [18.381605], \"sizemode\": \"area\", \"sizeref\": 0.2483606316444444, \"symbol\": \"circle\"}, \"mode\": \"markers\", \"name\": \"Country_or_Area=Afghanistan\", \"showlegend\": true, \"x\": [164.092893], \"xaxis\": \"x\", \"y\": [14.1], \"yaxis\": \"y\", \"type\": \"scatter\"}, {\"hoverlabel\": {\"namelength\": 0}, \"hovertemplate\": \"Country_or_Area=China<br>Year=1997<br>GDP_Per_Capita(USD)=%{x}<br>Mortality_Rate(%)=%{y}<br>Population(mn)=%{marker.size}\", \"legendgroup\": \"Country_or_Area=China\", \"marker\": {\"color\": \"#EF553B\", \"size\": [1259.066974], \"sizemode\": \"area\", \"sizeref\": 0.2483606316444444, \"symbol\": \"circle\"}, \"mode\": \"markers\", \"name\": \"Country_or_Area=China\", \"showlegend\": true, \"x\": [763.7413281], \"xaxis\": \"x\", \"y\": [4.36], \"yaxis\": \"y\", \"type\": \"scatter\"}, {\"hoverlabel\": {\"namelength\": 0}, \"hovertemplate\": \"Country_or_Area=India<br>Year=1997<br>GDP_Per_Capita(USD)=%{x}<br>Mortality_Rate(%)=%{y}<br>Population(mn)=%{marker.size}\", \"legendgroup\": \"Country_or_Area=India\", \"marker\": {\"color\": \"#00cc96\", \"size\": [997.405318], \"sizemode\": \"area\", \"sizeref\": 0.2483606316444444, \"symbol\": \"circle\"}, \"mode\": \"markers\", \"name\": \"Country_or_Area=India\", \"showlegend\": true, \"x\": [416.3700624], \"xaxis\": \"x\", \"y\": [10.23], \"yaxis\": \"y\", \"type\": \"scatter\"}, {\"hoverlabel\": {\"namelength\": 0}, \"hovertemplate\": \"Country_or_Area=United States<br>Year=1997<br>GDP_Per_Capita(USD)=%{x}<br>Mortality_Rate(%)=%{y}<br>Population(mn)=%{marker.size}\", \"legendgroup\": \"Country_or_Area=United States\", \"marker\": {\"color\": \"#ab63fa\", \"size\": [272.136551], \"sizemode\": \"area\", \"sizeref\": 0.2483606316444444, \"symbol\": \"circle\"}, \"mode\": \"markers\", \"name\": \"Country_or_Area=United States\", \"showlegend\": true, \"x\": [31519.29415], \"xaxis\": \"x\", \"y\": [0.89], \"yaxis\": \"y\", \"type\": \"scatter\"}, {\"hoverlabel\": {\"namelength\": 0}, \"hovertemplate\": \"Country_or_Area=United Kingdom<br>Year=1997<br>GDP_Per_Capita(USD)=%{x}<br>Mortality_Rate(%)=%{y}<br>Population(mn)=%{marker.size}\", \"legendgroup\": \"Country_or_Area=United Kingdom\", \"marker\": {\"color\": \"#FFA15A\", \"size\": [58.346672999999996], \"sizemode\": \"area\", \"sizeref\": 0.2483606316444444, \"symbol\": \"circle\"}, \"mode\": \"markers\", \"name\": \"Country_or_Area=United Kingdom\", \"showlegend\": true, \"x\": [26625.87571], \"xaxis\": \"x\", \"y\": [0.69], \"yaxis\": \"y\", \"type\": \"scatter\"}, {\"hoverlabel\": {\"namelength\": 0}, \"hovertemplate\": \"Country_or_Area=Brazil<br>Year=1997<br>GDP_Per_Capita(USD)=%{x}<br>Mortality_Rate(%)=%{y}<br>Population(mn)=%{marker.size}\", \"legendgroup\": \"Country_or_Area=Brazil\", \"marker\": {\"color\": \"#19d3f3\", \"size\": [167.545164], \"sizemode\": \"area\", \"sizeref\": 0.2483606316444444, \"symbol\": \"circle\"}, \"mode\": \"markers\", \"name\": \"Country_or_Area=Brazil\", \"showlegend\": true, \"x\": [5261.341686], \"xaxis\": \"x\", \"y\": [4.32], \"yaxis\": \"y\", \"type\": \"scatter\"}, {\"hoverlabel\": {\"namelength\": 0}, \"hovertemplate\": \"Country_or_Area=Zimbabwe<br>Year=1997<br>GDP_Per_Capita(USD)=%{x}<br>Mortality_Rate(%)=%{y}<br>Population(mn)=%{marker.size}\", \"legendgroup\": \"Country_or_Area=Zimbabwe\", \"marker\": {\"color\": \"#FF6692\", \"size\": [11.709997], \"sizemode\": \"area\", \"sizeref\": 0.2483606316444444, \"symbol\": \"circle\"}, \"mode\": \"markers\", \"name\": \"Country_or_Area=Zimbabwe\", \"showlegend\": true, \"x\": [1024.1027390000002], \"xaxis\": \"x\", \"y\": [9.47], \"yaxis\": \"y\", \"type\": \"scatter\"}, {\"hoverlabel\": {\"namelength\": 0}, \"hovertemplate\": \"Country_or_Area=Namibia<br>Year=1997<br>GDP_Per_Capita(USD)=%{x}<br>Mortality_Rate(%)=%{y}<br>Population(mn)=%{marker.size}\", \"legendgroup\": \"Country_or_Area=Namibia\", \"marker\": {\"color\": \"#B6E880\", \"size\": [1.758994], \"sizemode\": \"area\", \"sizeref\": 0.2483606316444444, \"symbol\": \"circle\"}, \"mode\": \"markers\", \"name\": \"Country_or_Area=Namibia\", \"showlegend\": true, \"x\": [2332.402982], \"xaxis\": \"x\", \"y\": [7.04], \"yaxis\": \"y\", \"type\": \"scatter\"}, {\"hoverlabel\": {\"namelength\": 0}, \"hovertemplate\": \"Country_or_Area=Nigeria<br>Year=1997<br>GDP_Per_Capita(USD)=%{x}<br>Mortality_Rate(%)=%{y}<br>Population(mn)=%{marker.size}\", \"legendgroup\": \"Country_or_Area=Nigeria\", \"marker\": {\"color\": \"#FF97FF\", \"size\": [113.522705], \"sizemode\": \"area\", \"sizeref\": 0.2483606316444444, \"symbol\": \"circle\"}, \"mode\": \"markers\", \"name\": \"Country_or_Area=Nigeria\", \"showlegend\": true, \"x\": [479.2522118], \"xaxis\": \"x\", \"y\": [20.21], \"yaxis\": \"y\", \"type\": \"scatter\"}, {\"hoverlabel\": {\"namelength\": 0}, \"hovertemplate\": \"Country_or_Area=Thailand<br>Year=1997<br>GDP_Per_Capita(USD)=%{x}<br>Mortality_Rate(%)=%{y}<br>Population(mn)=%{marker.size}\", \"legendgroup\": \"Country_or_Area=Thailand\", \"marker\": {\"color\": \"#636efa\", \"size\": [60.86350600000001], \"sizemode\": \"area\", \"sizeref\": 0.2483606316444444, \"symbol\": \"circle\"}, \"mode\": \"markers\", \"name\": \"Country_or_Area=Thailand\", \"showlegend\": true, \"x\": [2467.490185], \"xaxis\": \"x\", \"y\": [2.65], \"yaxis\": \"y\", \"type\": \"scatter\"}, {\"hoverlabel\": {\"namelength\": 0}, \"hovertemplate\": \"Country_or_Area=France<br>Year=1997<br>GDP_Per_Capita(USD)=%{x}<br>Mortality_Rate(%)=%{y}<br>Population(mn)=%{marker.size}\", \"legendgroup\": \"Country_or_Area=France\", \"marker\": {\"color\": \"#EF553B\", \"size\": [58.763394999999996], \"sizemode\": \"area\", \"sizeref\": 0.2483606316444444, \"symbol\": \"circle\"}, \"mode\": \"markers\", \"name\": \"Country_or_Area=France\", \"showlegend\": true, \"x\": [24002.66956], \"xaxis\": \"x\", \"y\": [0.58], \"yaxis\": \"y\", \"type\": \"scatter\"}, {\"hoverlabel\": {\"namelength\": 0}, \"hovertemplate\": \"Country_or_Area=Germany<br>Year=1997<br>GDP_Per_Capita(USD)=%{x}<br>Mortality_Rate(%)=%{y}<br>Population(mn)=%{marker.size}\", \"legendgroup\": \"Country_or_Area=Germany\", \"marker\": {\"color\": \"#00cc96\", \"size\": [81.499866], \"sizemode\": \"area\", \"sizeref\": 0.2483606316444444, \"symbol\": \"circle\"}, \"mode\": \"markers\", \"name\": \"Country_or_Area=Germany\", \"showlegend\": true, \"x\": [27222.961089999997], \"xaxis\": \"x\", \"y\": [0.59], \"yaxis\": \"y\", \"type\": \"scatter\"}, {\"hoverlabel\": {\"namelength\": 0}, \"hovertemplate\": \"Country_or_Area=Mexico<br>Year=1997<br>GDP_Per_Capita(USD)=%{x}<br>Mortality_Rate(%)=%{y}<br>Population(mn)=%{marker.size}\", \"legendgroup\": \"Country_or_Area=Mexico\", \"marker\": {\"color\": \"#ab63fa\", \"size\": [97.281739], \"sizemode\": \"area\", \"sizeref\": 0.2483606316444444, \"symbol\": \"circle\"}, \"mode\": \"markers\", \"name\": \"Country_or_Area=Mexico\", \"showlegend\": true, \"x\": [5143.987105], \"xaxis\": \"x\", \"y\": [3.19], \"yaxis\": \"y\", \"type\": \"scatter\"}], \"name\": \"1997\"}, {\"data\": [{\"hoverlabel\": {\"namelength\": 0}, \"hovertemplate\": \"Country_or_Area=Afghanistan<br>Year=1998<br>GDP_Per_Capita(USD)=%{x}<br>Mortality_Rate(%)=%{y}<br>Population(mn)=%{marker.size}\", \"legendgroup\": \"Country_or_Area=Afghanistan\", \"marker\": {\"color\": \"#636efa\", \"size\": [18.863999], \"sizemode\": \"area\", \"sizeref\": 0.2483606316444444, \"symbol\": \"circle\"}, \"mode\": \"markers\", \"name\": \"Country_or_Area=Afghanistan\", \"showlegend\": true, \"x\": [154.366], \"xaxis\": \"x\", \"y\": [13.71], \"yaxis\": \"y\", \"type\": \"scatter\"}, {\"hoverlabel\": {\"namelength\": 0}, \"hovertemplate\": \"Country_or_Area=China<br>Year=1998<br>GDP_Per_Capita(USD)=%{x}<br>Mortality_Rate(%)=%{y}<br>Population(mn)=%{marker.size}\", \"legendgroup\": \"Country_or_Area=China\", \"marker\": {\"color\": \"#EF553B\", \"size\": [1267.441503], \"sizemode\": \"area\", \"sizeref\": 0.2483606316444444, \"symbol\": \"circle\"}, \"mode\": \"markers\", \"name\": \"Country_or_Area=China\", \"showlegend\": true, \"x\": [811.9196177], \"xaxis\": \"x\", \"y\": [4.15], \"yaxis\": \"y\", \"type\": \"scatter\"}, {\"hoverlabel\": {\"namelength\": 0}, \"hovertemplate\": \"Country_or_Area=India<br>Year=1998<br>GDP_Per_Capita(USD)=%{x}<br>Mortality_Rate(%)=%{y}<br>Population(mn)=%{marker.size}\", \"legendgroup\": \"Country_or_Area=India\", \"marker\": {\"color\": \"#00cc96\", \"size\": [1015.9740419999999], \"sizemode\": \"area\", \"sizeref\": 0.2483606316444444, \"symbol\": \"circle\"}, \"mode\": \"markers\", \"name\": \"Country_or_Area=India\", \"showlegend\": true, \"x\": [411.3731034], \"xaxis\": \"x\", \"y\": [9.87], \"yaxis\": \"y\", \"type\": \"scatter\"}, {\"hoverlabel\": {\"namelength\": 0}, \"hovertemplate\": \"Country_or_Area=United States<br>Year=1998<br>GDP_Per_Capita(USD)=%{x}<br>Mortality_Rate(%)=%{y}<br>Population(mn)=%{marker.size}\", \"legendgroup\": \"Country_or_Area=United States\", \"marker\": {\"color\": \"#ab63fa\", \"size\": [275.542603], \"sizemode\": \"area\", \"sizeref\": 0.2483606316444444, \"symbol\": \"circle\"}, \"mode\": \"markers\", \"name\": \"Country_or_Area=United States\", \"showlegend\": true, \"x\": [32890.80128], \"xaxis\": \"x\", \"y\": [0.87], \"yaxis\": \"y\", \"type\": \"scatter\"}, {\"hoverlabel\": {\"namelength\": 0}, \"hovertemplate\": \"Country_or_Area=United Kingdom<br>Year=1998<br>GDP_Per_Capita(USD)=%{x}<br>Mortality_Rate(%)=%{y}<br>Population(mn)=%{marker.size}\", \"legendgroup\": \"Country_or_Area=United Kingdom\", \"marker\": {\"color\": \"#FFA15A\", \"size\": [58.544938], \"sizemode\": \"area\", \"sizeref\": 0.2483606316444444, \"symbol\": \"circle\"}, \"mode\": \"markers\", \"name\": \"Country_or_Area=United Kingdom\", \"showlegend\": true, \"x\": [28040.03255], \"xaxis\": \"x\", \"y\": [0.68], \"yaxis\": \"y\", \"type\": \"scatter\"}, {\"hoverlabel\": {\"namelength\": 0}, \"hovertemplate\": \"Country_or_Area=Brazil<br>Year=1998<br>GDP_Per_Capita(USD)=%{x}<br>Mortality_Rate(%)=%{y}<br>Population(mn)=%{marker.size}\", \"legendgroup\": \"Country_or_Area=Brazil\", \"marker\": {\"color\": \"#19d3f3\", \"size\": [170.17064], \"sizemode\": \"area\", \"sizeref\": 0.2483606316444444, \"symbol\": \"circle\"}, \"mode\": \"markers\", \"name\": \"Country_or_Area=Brazil\", \"showlegend\": true, \"x\": [5017.40697], \"xaxis\": \"x\", \"y\": [4.06], \"yaxis\": \"y\", \"type\": \"scatter\"}, {\"hoverlabel\": {\"namelength\": 0}, \"hovertemplate\": \"Country_or_Area=Zimbabwe<br>Year=1998<br>GDP_Per_Capita(USD)=%{x}<br>Mortality_Rate(%)=%{y}<br>Population(mn)=%{marker.size}\", \"legendgroup\": \"Country_or_Area=Zimbabwe\", \"marker\": {\"color\": \"#FF6692\", \"size\": [11.893272], \"sizemode\": \"area\", \"sizeref\": 0.2483606316444444, \"symbol\": \"circle\"}, \"mode\": \"markers\", \"name\": \"Country_or_Area=Zimbabwe\", \"showlegend\": true, \"x\": [706.397499], \"xaxis\": \"x\", \"y\": [9.59], \"yaxis\": \"y\", \"type\": \"scatter\"}, {\"hoverlabel\": {\"namelength\": 0}, \"hovertemplate\": \"Country_or_Area=Namibia<br>Year=1998<br>GDP_Per_Capita(USD)=%{x}<br>Mortality_Rate(%)=%{y}<br>Population(mn)=%{marker.size}\", \"legendgroup\": \"Country_or_Area=Namibia\", \"marker\": {\"color\": \"#B6E880\", \"size\": [1.810566], \"sizemode\": \"area\", \"sizeref\": 0.2483606316444444, \"symbol\": \"circle\"}, \"mode\": \"markers\", \"name\": \"Country_or_Area=Namibia\", \"showlegend\": true, \"x\": [2113.4488309999997], \"xaxis\": \"x\", \"y\": [7.19], \"yaxis\": \"y\", \"type\": \"scatter\"}, {\"hoverlabel\": {\"namelength\": 0}, \"hovertemplate\": \"Country_or_Area=Nigeria<br>Year=1998<br>GDP_Per_Capita(USD)=%{x}<br>Mortality_Rate(%)=%{y}<br>Population(mn)=%{marker.size}\", \"legendgroup\": \"Country_or_Area=Nigeria\", \"marker\": {\"color\": \"#FF97FF\", \"size\": [116.38575], \"sizemode\": \"area\", \"sizeref\": 0.2483606316444444, \"symbol\": \"circle\"}, \"mode\": \"markers\", \"name\": \"Country_or_Area=Nigeria\", \"showlegend\": true, \"x\": [485.8395598], \"xaxis\": \"x\", \"y\": [19.77], \"yaxis\": \"y\", \"type\": \"scatter\"}, {\"hoverlabel\": {\"namelength\": 0}, \"hovertemplate\": \"Country_or_Area=Thailand<br>Year=1998<br>GDP_Per_Capita(USD)=%{x}<br>Mortality_Rate(%)=%{y}<br>Population(mn)=%{marker.size}\", \"legendgroup\": \"Country_or_Area=Thailand\", \"marker\": {\"color\": \"#636efa\", \"size\": [61.597283], \"sizemode\": \"area\", \"sizeref\": 0.2483606316444444, \"symbol\": \"circle\"}, \"mode\": \"markers\", \"name\": \"Country_or_Area=Thailand\", \"showlegend\": true, \"x\": [1845.4667960000002], \"xaxis\": \"x\", \"y\": [2.53], \"yaxis\": \"y\", \"type\": \"scatter\"}, {\"hoverlabel\": {\"namelength\": 0}, \"hovertemplate\": \"Country_or_Area=France<br>Year=1998<br>GDP_Per_Capita(USD)=%{x}<br>Mortality_Rate(%)=%{y}<br>Population(mn)=%{marker.size}\", \"legendgroup\": \"Country_or_Area=France\", \"marker\": {\"color\": \"#EF553B\", \"size\": [59.034921], \"sizemode\": \"area\", \"sizeref\": 0.2483606316444444, \"symbol\": \"circle\"}, \"mode\": \"markers\", \"name\": \"Country_or_Area=France\", \"showlegend\": true, \"x\": [24709.28083], \"xaxis\": \"x\", \"y\": [0.56], \"yaxis\": \"y\", \"type\": \"scatter\"}, {\"hoverlabel\": {\"namelength\": 0}, \"hovertemplate\": \"Country_or_Area=Germany<br>Year=1998<br>GDP_Per_Capita(USD)=%{x}<br>Mortality_Rate(%)=%{y}<br>Population(mn)=%{marker.size}\", \"legendgroup\": \"Country_or_Area=Germany\", \"marker\": {\"color\": \"#00cc96\", \"size\": [81.49923199999999], \"sizemode\": \"area\", \"sizeref\": 0.2483606316444444, \"symbol\": \"circle\"}, \"mode\": \"markers\", \"name\": \"Country_or_Area=Germany\", \"showlegend\": true, \"x\": [27524.38392], \"xaxis\": \"x\", \"y\": [0.57], \"yaxis\": \"y\", \"type\": \"scatter\"}, {\"hoverlabel\": {\"namelength\": 0}, \"hovertemplate\": \"Country_or_Area=Mexico<br>Year=1998<br>GDP_Per_Capita(USD)=%{x}<br>Mortality_Rate(%)=%{y}<br>Population(mn)=%{marker.size}\", \"legendgroup\": \"Country_or_Area=Mexico\", \"marker\": {\"color\": \"#ab63fa\", \"size\": [98.82145600000001], \"sizemode\": \"area\", \"sizeref\": 0.2483606316444444, \"symbol\": \"circle\"}, \"mode\": \"markers\", \"name\": \"Country_or_Area=Mexico\", \"showlegend\": true, \"x\": [5327.787554], \"xaxis\": \"x\", \"y\": [3.01], \"yaxis\": \"y\", \"type\": \"scatter\"}], \"name\": \"1998\"}, {\"data\": [{\"hoverlabel\": {\"namelength\": 0}, \"hovertemplate\": \"Country_or_Area=Afghanistan<br>Year=1999<br>GDP_Per_Capita(USD)=%{x}<br>Mortality_Rate(%)=%{y}<br>Population(mn)=%{marker.size}\", \"legendgroup\": \"Country_or_Area=Afghanistan\", \"marker\": {\"color\": \"#636efa\", \"size\": [19.403676], \"sizemode\": \"area\", \"sizeref\": 0.2483606316444444, \"symbol\": \"circle\"}, \"mode\": \"markers\", \"name\": \"Country_or_Area=Afghanistan\", \"showlegend\": true, \"x\": [140.17922040000002], \"xaxis\": \"x\", \"y\": [13.34], \"yaxis\": \"y\", \"type\": \"scatter\"}, {\"hoverlabel\": {\"namelength\": 0}, \"hovertemplate\": \"Country_or_Area=China<br>Year=1999<br>GDP_Per_Capita(USD)=%{x}<br>Mortality_Rate(%)=%{y}<br>Population(mn)=%{marker.size}\", \"legendgroup\": \"Country_or_Area=China\", \"marker\": {\"color\": \"#EF553B\", \"size\": [1275.4066990000001], \"sizemode\": \"area\", \"sizeref\": 0.2483606316444444, \"symbol\": \"circle\"}, \"mode\": \"markers\", \"name\": \"Country_or_Area=China\", \"showlegend\": true, \"x\": [857.7688736], \"xaxis\": \"x\", \"y\": [3.93], \"yaxis\": \"y\", \"type\": \"scatter\"}, {\"hoverlabel\": {\"namelength\": 0}, \"hovertemplate\": \"Country_or_Area=India<br>Year=1999<br>GDP_Per_Capita(USD)=%{x}<br>Mortality_Rate(%)=%{y}<br>Population(mn)=%{marker.size}\", \"legendgroup\": \"Country_or_Area=India\", \"marker\": {\"color\": \"#00cc96\", \"size\": [1034.5392140000001], \"sizemode\": \"area\", \"sizeref\": 0.2483606316444444, \"symbol\": \"circle\"}, \"mode\": \"markers\", \"name\": \"Country_or_Area=India\", \"showlegend\": true, \"x\": [430.6880993], \"xaxis\": \"x\", \"y\": [9.51], \"yaxis\": \"y\", \"type\": \"scatter\"}, {\"hoverlabel\": {\"namelength\": 0}, \"hovertemplate\": \"Country_or_Area=United States<br>Year=1999<br>GDP_Per_Capita(USD)=%{x}<br>Mortality_Rate(%)=%{y}<br>Population(mn)=%{marker.size}\", \"legendgroup\": \"Country_or_Area=United States\", \"marker\": {\"color\": \"#ab63fa\", \"size\": [278.862277], \"sizemode\": \"area\", \"sizeref\": 0.2483606316444444, \"symbol\": \"circle\"}, \"mode\": \"markers\", \"name\": \"Country_or_Area=United States\", \"showlegend\": true, \"x\": [34535.55319], \"xaxis\": \"x\", \"y\": [0.86], \"yaxis\": \"y\", \"type\": \"scatter\"}, {\"hoverlabel\": {\"namelength\": 0}, \"hovertemplate\": \"Country_or_Area=United Kingdom<br>Year=1999<br>GDP_Per_Capita(USD)=%{x}<br>Mortality_Rate(%)=%{y}<br>Population(mn)=%{marker.size}\", \"legendgroup\": \"Country_or_Area=United Kingdom\", \"marker\": {\"color\": \"#FFA15A\", \"size\": [58.746728000000004], \"sizemode\": \"area\", \"sizeref\": 0.2483606316444444, \"symbol\": \"circle\"}, \"mode\": \"markers\", \"name\": \"Country_or_Area=United Kingdom\", \"showlegend\": true, \"x\": [28399.65813], \"xaxis\": \"x\", \"y\": [0.67], \"yaxis\": \"y\", \"type\": \"scatter\"}, {\"hoverlabel\": {\"namelength\": 0}, \"hovertemplate\": \"Country_or_Area=Brazil<br>Year=1999<br>GDP_Per_Capita(USD)=%{x}<br>Mortality_Rate(%)=%{y}<br>Population(mn)=%{marker.size}\", \"legendgroup\": \"Country_or_Area=Brazil\", \"marker\": {\"color\": \"#19d3f3\", \"size\": [172.759243], \"sizemode\": \"area\", \"sizeref\": 0.2483606316444444, \"symbol\": \"circle\"}, \"mode\": \"markers\", \"name\": \"Country_or_Area=Brazil\", \"showlegend\": true, \"x\": [3438.724179], \"xaxis\": \"x\", \"y\": [3.81], \"yaxis\": \"y\", \"type\": \"scatter\"}, {\"hoverlabel\": {\"namelength\": 0}, \"hovertemplate\": \"Country_or_Area=Zimbabwe<br>Year=1999<br>GDP_Per_Capita(USD)=%{x}<br>Mortality_Rate(%)=%{y}<br>Population(mn)=%{marker.size}\", \"legendgroup\": \"Country_or_Area=Zimbabwe\", \"marker\": {\"color\": \"#FF6692\", \"size\": [12.064537], \"sizemode\": \"area\", \"sizeref\": 0.2483606316444444, \"symbol\": \"circle\"}, \"mode\": \"markers\", \"name\": \"Country_or_Area=Zimbabwe\", \"showlegend\": true, \"x\": [661.8820101], \"xaxis\": \"x\", \"y\": [9.64], \"yaxis\": \"y\", \"type\": \"scatter\"}, {\"hoverlabel\": {\"namelength\": 0}, \"hovertemplate\": \"Country_or_Area=Namibia<br>Year=1999<br>GDP_Per_Capita(USD)=%{x}<br>Mortality_Rate(%)=%{y}<br>Population(mn)=%{marker.size}\", \"legendgroup\": \"Country_or_Area=Namibia\", \"marker\": {\"color\": \"#B6E880\", \"size\": [1.8580419999999997], \"sizemode\": \"area\", \"sizeref\": 0.2483606316444444, \"symbol\": \"circle\"}, \"mode\": \"markers\", \"name\": \"Country_or_Area=Namibia\", \"showlegend\": true, \"x\": [2055.370302], \"xaxis\": \"x\", \"y\": [7.34], \"yaxis\": \"y\", \"type\": \"scatter\"}, {\"hoverlabel\": {\"namelength\": 0}, \"hovertemplate\": \"Country_or_Area=Nigeria<br>Year=1999<br>GDP_Per_Capita(USD)=%{x}<br>Mortality_Rate(%)=%{y}<br>Population(mn)=%{marker.size}\", \"legendgroup\": \"Country_or_Area=Nigeria\", \"marker\": {\"color\": \"#FF97FF\", \"size\": [119.327073], \"sizemode\": \"area\", \"sizeref\": 0.2483606316444444, \"symbol\": \"circle\"}, \"mode\": \"markers\", \"name\": \"Country_or_Area=Nigeria\", \"showlegend\": true, \"x\": [483.3972478], \"xaxis\": \"x\", \"y\": [19.28], \"yaxis\": \"y\", \"type\": \"scatter\"}, {\"hoverlabel\": {\"namelength\": 0}, \"hovertemplate\": \"Country_or_Area=Thailand<br>Year=1999<br>GDP_Per_Capita(USD)=%{x}<br>Mortality_Rate(%)=%{y}<br>Population(mn)=%{marker.size}\", \"legendgroup\": \"Country_or_Area=Thailand\", \"marker\": {\"color\": \"#636efa\", \"size\": [62.306651], \"sizemode\": \"area\", \"sizeref\": 0.2483606316444444, \"symbol\": \"circle\"}, \"mode\": \"markers\", \"name\": \"Country_or_Area=Thailand\", \"showlegend\": true, \"x\": [2032.994521], \"xaxis\": \"x\", \"y\": [2.42], \"yaxis\": \"y\", \"type\": \"scatter\"}, {\"hoverlabel\": {\"namelength\": 0}, \"hovertemplate\": \"Country_or_Area=France<br>Year=1999<br>GDP_Per_Capita(USD)=%{x}<br>Mortality_Rate(%)=%{y}<br>Population(mn)=%{marker.size}\", \"legendgroup\": \"Country_or_Area=France\", \"marker\": {\"color\": \"#EF553B\", \"size\": [59.316106999999995], \"sizemode\": \"area\", \"sizeref\": 0.2483606316444444, \"symbol\": \"circle\"}, \"mode\": \"markers\", \"name\": \"Country_or_Area=France\", \"showlegend\": true, \"x\": [24410.33825], \"xaxis\": \"x\", \"y\": [0.55], \"yaxis\": \"y\", \"type\": \"scatter\"}, {\"hoverlabel\": {\"namelength\": 0}, \"hovertemplate\": \"Country_or_Area=Germany<br>Year=1999<br>GDP_Per_Capita(USD)=%{x}<br>Mortality_Rate(%)=%{y}<br>Population(mn)=%{marker.size}\", \"legendgroup\": \"Country_or_Area=Germany\", \"marker\": {\"color\": \"#00cc96\", \"size\": [81.481612], \"sizemode\": \"area\", \"sizeref\": 0.2483606316444444, \"symbol\": \"circle\"}, \"mode\": \"markers\", \"name\": \"Country_or_Area=Germany\", \"showlegend\": true, \"x\": [26998.64915], \"xaxis\": \"x\", \"y\": [0.55], \"yaxis\": \"y\", \"type\": \"scatter\"}, {\"hoverlabel\": {\"namelength\": 0}, \"hovertemplate\": \"Country_or_Area=Mexico<br>Year=1999<br>GDP_Per_Capita(USD)=%{x}<br>Mortality_Rate(%)=%{y}<br>Population(mn)=%{marker.size}\", \"legendgroup\": \"Country_or_Area=Mexico\", \"marker\": {\"color\": \"#ab63fa\", \"size\": [100.300579], \"sizemode\": \"area\", \"sizeref\": 0.2483606316444444, \"symbol\": \"circle\"}, \"mode\": \"markers\", \"name\": \"Country_or_Area=Mexico\", \"showlegend\": true, \"x\": [5984.342633], \"xaxis\": \"x\", \"y\": [2.84], \"yaxis\": \"y\", \"type\": \"scatter\"}], \"name\": \"1999\"}, {\"data\": [{\"hoverlabel\": {\"namelength\": 0}, \"hovertemplate\": \"Country_or_Area=Afghanistan<br>Year=2000<br>GDP_Per_Capita(USD)=%{x}<br>Mortality_Rate(%)=%{y}<br>Population(mn)=%{marker.size}\", \"legendgroup\": \"Country_or_Area=Afghanistan\", \"marker\": {\"color\": \"#636efa\", \"size\": [20.093756], \"sizemode\": \"area\", \"sizeref\": 0.2483606316444444, \"symbol\": \"circle\"}, \"mode\": \"markers\", \"name\": \"Country_or_Area=Afghanistan\", \"showlegend\": true, \"x\": [175.76949530000002], \"xaxis\": \"x\", \"y\": [12.97], \"yaxis\": \"y\", \"type\": \"scatter\"}, {\"hoverlabel\": {\"namelength\": 0}, \"hovertemplate\": \"Country_or_Area=China<br>Year=2000<br>GDP_Per_Capita(USD)=%{x}<br>Mortality_Rate(%)=%{y}<br>Population(mn)=%{marker.size}\", \"legendgroup\": \"Country_or_Area=China\", \"marker\": {\"color\": \"#EF553B\", \"size\": [1283.19897], \"sizemode\": \"area\", \"sizeref\": 0.2483606316444444, \"symbol\": \"circle\"}, \"mode\": \"markers\", \"name\": \"Country_or_Area=China\", \"showlegend\": true, \"x\": [943.9932401000001], \"xaxis\": \"x\", \"y\": [3.69], \"yaxis\": \"y\", \"type\": \"scatter\"}, {\"hoverlabel\": {\"namelength\": 0}, \"hovertemplate\": \"Country_or_Area=India<br>Year=2000<br>GDP_Per_Capita(USD)=%{x}<br>Mortality_Rate(%)=%{y}<br>Population(mn)=%{marker.size}\", \"legendgroup\": \"Country_or_Area=India\", \"marker\": {\"color\": \"#00cc96\", \"size\": [1053.050912], \"sizemode\": \"area\", \"sizeref\": 0.2483606316444444, \"symbol\": \"circle\"}, \"mode\": \"markers\", \"name\": \"Country_or_Area=India\", \"showlegend\": true, \"x\": [436.565751], \"xaxis\": \"x\", \"y\": [9.15], \"yaxis\": \"y\", \"type\": \"scatter\"}, {\"hoverlabel\": {\"namelength\": 0}, \"hovertemplate\": \"Country_or_Area=United States<br>Year=2000<br>GDP_Per_Capita(USD)=%{x}<br>Mortality_Rate(%)=%{y}<br>Population(mn)=%{marker.size}\", \"legendgroup\": \"Country_or_Area=United States\", \"marker\": {\"color\": \"#ab63fa\", \"size\": [281.982778], \"sizemode\": \"area\", \"sizeref\": 0.2483606316444444, \"symbol\": \"circle\"}, \"mode\": \"markers\", \"name\": \"Country_or_Area=United States\", \"showlegend\": true, \"x\": [36358.06085], \"xaxis\": \"x\", \"y\": [0.84], \"yaxis\": \"y\", \"type\": \"scatter\"}, {\"hoverlabel\": {\"namelength\": 0}, \"hovertemplate\": \"Country_or_Area=United Kingdom<br>Year=2000<br>GDP_Per_Capita(USD)=%{x}<br>Mortality_Rate(%)=%{y}<br>Population(mn)=%{marker.size}\", \"legendgroup\": \"Country_or_Area=United Kingdom\", \"marker\": {\"color\": \"#FFA15A\", \"size\": [58.950848], \"sizemode\": \"area\", \"sizeref\": 0.2483606316444444, \"symbol\": \"circle\"}, \"mode\": \"markers\", \"name\": \"Country_or_Area=United Kingdom\", \"showlegend\": true, \"x\": [27958.751889999996], \"xaxis\": \"x\", \"y\": [0.65], \"yaxis\": \"y\", \"type\": \"scatter\"}, {\"hoverlabel\": {\"namelength\": 0}, \"hovertemplate\": \"Country_or_Area=Brazil<br>Year=2000<br>GDP_Per_Capita(USD)=%{x}<br>Mortality_Rate(%)=%{y}<br>Population(mn)=%{marker.size}\", \"legendgroup\": \"Country_or_Area=Brazil\", \"marker\": {\"color\": \"#19d3f3\", \"size\": [175.287587], \"sizemode\": \"area\", \"sizeref\": 0.2483606316444444, \"symbol\": \"circle\"}, \"mode\": \"markers\", \"name\": \"Country_or_Area=Brazil\", \"showlegend\": true, \"x\": [3721.655958], \"xaxis\": \"x\", \"y\": [3.58], \"yaxis\": \"y\", \"type\": \"scatter\"}, {\"hoverlabel\": {\"namelength\": 0}, \"hovertemplate\": \"Country_or_Area=Zimbabwe<br>Year=2000<br>GDP_Per_Capita(USD)=%{x}<br>Mortality_Rate(%)=%{y}<br>Population(mn)=%{marker.size}\", \"legendgroup\": \"Country_or_Area=Zimbabwe\", \"marker\": {\"color\": \"#FF6692\", \"size\": [12.222251], \"sizemode\": \"area\", \"sizeref\": 0.2483606316444444, \"symbol\": \"circle\"}, \"mode\": \"markers\", \"name\": \"Country_or_Area=Zimbabwe\", \"showlegend\": true, \"x\": [617.6112731000001], \"xaxis\": \"x\", \"y\": [9.68], \"yaxis\": \"y\", \"type\": \"scatter\"}, {\"hoverlabel\": {\"namelength\": 0}, \"hovertemplate\": \"Country_or_Area=Namibia<br>Year=2000<br>GDP_Per_Capita(USD)=%{x}<br>Mortality_Rate(%)=%{y}<br>Population(mn)=%{marker.size}\", \"legendgroup\": \"Country_or_Area=Namibia\", \"marker\": {\"color\": \"#B6E880\", \"size\": [1.899257], \"sizemode\": \"area\", \"sizeref\": 0.2483606316444444, \"symbol\": \"circle\"}, \"mode\": \"markers\", \"name\": \"Country_or_Area=Namibia\", \"showlegend\": true, \"x\": [2018.672593], \"xaxis\": \"x\", \"y\": [7.46], \"yaxis\": \"y\", \"type\": \"scatter\"}, {\"hoverlabel\": {\"namelength\": 0}, \"hovertemplate\": \"Country_or_Area=Nigeria<br>Year=2000<br>GDP_Per_Capita(USD)=%{x}<br>Mortality_Rate(%)=%{y}<br>Population(mn)=%{marker.size}\", \"legendgroup\": \"Country_or_Area=Nigeria\", \"marker\": {\"color\": \"#FF97FF\", \"size\": [122.35200900000001], \"sizemode\": \"area\", \"sizeref\": 0.2483606316444444, \"symbol\": \"circle\"}, \"mode\": \"markers\", \"name\": \"Country_or_Area=Nigeria\", \"showlegend\": true, \"x\": [609.6463326], \"xaxis\": \"x\", \"y\": [18.74], \"yaxis\": \"y\", \"type\": \"scatter\"}, {\"hoverlabel\": {\"namelength\": 0}, \"hovertemplate\": \"Country_or_Area=Thailand<br>Year=2000<br>GDP_Per_Capita(USD)=%{x}<br>Mortality_Rate(%)=%{y}<br>Population(mn)=%{marker.size}\", \"legendgroup\": \"Country_or_Area=Thailand\", \"marker\": {\"color\": \"#636efa\", \"size\": [62.958020999999995], \"sizemode\": \"area\", \"sizeref\": 0.2483606316444444, \"symbol\": \"circle\"}, \"mode\": \"markers\", \"name\": \"Country_or_Area=Thailand\", \"showlegend\": true, \"x\": [2007.5646600000002], \"xaxis\": \"x\", \"y\": [2.31], \"yaxis\": \"y\", \"type\": \"scatter\"}, {\"hoverlabel\": {\"namelength\": 0}, \"hovertemplate\": \"Country_or_Area=France<br>Year=2000<br>GDP_Per_Capita(USD)=%{x}<br>Mortality_Rate(%)=%{y}<br>Population(mn)=%{marker.size}\", \"legendgroup\": \"Country_or_Area=France\", \"marker\": {\"color\": \"#EF553B\", \"size\": [59.608201], \"sizemode\": \"area\", \"sizeref\": 0.2483606316444444, \"symbol\": \"circle\"}, \"mode\": \"markers\", \"name\": \"Country_or_Area=France\", \"showlegend\": true, \"x\": [22161.16205], \"xaxis\": \"x\", \"y\": [0.54], \"yaxis\": \"y\", \"type\": \"scatter\"}, {\"hoverlabel\": {\"namelength\": 0}, \"hovertemplate\": \"Country_or_Area=Germany<br>Year=2000<br>GDP_Per_Capita(USD)=%{x}<br>Mortality_Rate(%)=%{y}<br>Population(mn)=%{marker.size}\", \"legendgroup\": \"Country_or_Area=Germany\", \"marker\": {\"color\": \"#00cc96\", \"size\": [81.48775699999999], \"sizemode\": \"area\", \"sizeref\": 0.2483606316444444, \"symbol\": \"circle\"}, \"mode\": \"markers\", \"name\": \"Country_or_Area=Germany\", \"showlegend\": true, \"x\": [23929.39147], \"xaxis\": \"x\", \"y\": [0.54], \"yaxis\": \"y\", \"type\": \"scatter\"}, {\"hoverlabel\": {\"namelength\": 0}, \"hovertemplate\": \"Country_or_Area=Mexico<br>Year=2000<br>GDP_Per_Capita(USD)=%{x}<br>Mortality_Rate(%)=%{y}<br>Population(mn)=%{marker.size}\", \"legendgroup\": \"Country_or_Area=Mexico\", \"marker\": {\"color\": \"#ab63fa\", \"size\": [101.719673], \"sizemode\": \"area\", \"sizeref\": 0.2483606316444444, \"symbol\": \"circle\"}, \"mode\": \"markers\", \"name\": \"Country_or_Area=Mexico\", \"showlegend\": true, \"x\": [6959.419384000001], \"xaxis\": \"x\", \"y\": [2.68], \"yaxis\": \"y\", \"type\": \"scatter\"}], \"name\": \"2000\"}, {\"data\": [{\"hoverlabel\": {\"namelength\": 0}, \"hovertemplate\": \"Country_or_Area=Afghanistan<br>Year=2001<br>GDP_Per_Capita(USD)=%{x}<br>Mortality_Rate(%)=%{y}<br>Population(mn)=%{marker.size}\", \"legendgroup\": \"Country_or_Area=Afghanistan\", \"marker\": {\"color\": \"#636efa\", \"size\": [20.966463], \"sizemode\": \"area\", \"sizeref\": 0.2483606316444444, \"symbol\": \"circle\"}, \"mode\": \"markers\", \"name\": \"Country_or_Area=Afghanistan\", \"showlegend\": true, \"x\": [172.681737], \"xaxis\": \"x\", \"y\": [12.6], \"yaxis\": \"y\", \"type\": \"scatter\"}, {\"hoverlabel\": {\"namelength\": 0}, \"hovertemplate\": \"Country_or_Area=China<br>Year=2001<br>GDP_Per_Capita(USD)=%{x}<br>Mortality_Rate(%)=%{y}<br>Population(mn)=%{marker.size}\", \"legendgroup\": \"Country_or_Area=China\", \"marker\": {\"color\": \"#EF553B\", \"size\": [1290.937649], \"sizemode\": \"area\", \"sizeref\": 0.2483606316444444, \"symbol\": \"circle\"}, \"mode\": \"markers\", \"name\": \"Country_or_Area=China\", \"showlegend\": true, \"x\": [1037.540865], \"xaxis\": \"x\", \"y\": [3.43], \"yaxis\": \"y\", \"type\": \"scatter\"}, {\"hoverlabel\": {\"namelength\": 0}, \"hovertemplate\": \"Country_or_Area=India<br>Year=2001<br>GDP_Per_Capita(USD)=%{x}<br>Mortality_Rate(%)=%{y}<br>Population(mn)=%{marker.size}\", \"legendgroup\": \"Country_or_Area=India\", \"marker\": {\"color\": \"#00cc96\", \"size\": [1071.477855], \"sizemode\": \"area\", \"sizeref\": 0.2483606316444444, \"symbol\": \"circle\"}, \"mode\": \"markers\", \"name\": \"Country_or_Area=India\", \"showlegend\": true, \"x\": [442.9809845], \"xaxis\": \"x\", \"y\": [8.79], \"yaxis\": \"y\", \"type\": \"scatter\"}, {\"hoverlabel\": {\"namelength\": 0}, \"hovertemplate\": \"Country_or_Area=United States<br>Year=2001<br>GDP_Per_Capita(USD)=%{x}<br>Mortality_Rate(%)=%{y}<br>Population(mn)=%{marker.size}\", \"legendgroup\": \"Country_or_Area=United States\", \"marker\": {\"color\": \"#ab63fa\", \"size\": [284.852391], \"sizemode\": \"area\", \"sizeref\": 0.2483606316444444, \"symbol\": \"circle\"}, \"mode\": \"markers\", \"name\": \"Country_or_Area=United States\", \"showlegend\": true, \"x\": [37148.44015], \"xaxis\": \"x\", \"y\": [0.83], \"yaxis\": \"y\", \"type\": \"scatter\"}, {\"hoverlabel\": {\"namelength\": 0}, \"hovertemplate\": \"Country_or_Area=United Kingdom<br>Year=2001<br>GDP_Per_Capita(USD)=%{x}<br>Mortality_Rate(%)=%{y}<br>Population(mn)=%{marker.size}\", \"legendgroup\": \"Country_or_Area=United Kingdom\", \"marker\": {\"color\": \"#FFA15A\", \"size\": [59.149343], \"sizemode\": \"area\", \"sizeref\": 0.2483606316444444, \"symbol\": \"circle\"}, \"mode\": \"markers\", \"name\": \"Country_or_Area=United Kingdom\", \"showlegend\": true, \"x\": [27488.131960000002], \"xaxis\": \"x\", \"y\": [0.64], \"yaxis\": \"y\", \"type\": \"scatter\"}, {\"hoverlabel\": {\"namelength\": 0}, \"hovertemplate\": \"Country_or_Area=Brazil<br>Year=2001<br>GDP_Per_Capita(USD)=%{x}<br>Mortality_Rate(%)=%{y}<br>Population(mn)=%{marker.size}\", \"legendgroup\": \"Country_or_Area=Brazil\", \"marker\": {\"color\": \"#19d3f3\", \"size\": [177.75066999999999], \"sizemode\": \"area\", \"sizeref\": 0.2483606316444444, \"symbol\": \"circle\"}, \"mode\": \"markers\", \"name\": \"Country_or_Area=Brazil\", \"showlegend\": true, \"x\": [3154.681631], \"xaxis\": \"x\", \"y\": [3.36], \"yaxis\": \"y\", \"type\": \"scatter\"}, {\"hoverlabel\": {\"namelength\": 0}, \"hovertemplate\": \"Country_or_Area=Zimbabwe<br>Year=2001<br>GDP_Per_Capita(USD)=%{x}<br>Mortality_Rate(%)=%{y}<br>Population(mn)=%{marker.size}\", \"legendgroup\": \"Country_or_Area=Zimbabwe\", \"marker\": {\"color\": \"#FF6692\", \"size\": [12.366164999999999], \"sizemode\": \"area\", \"sizeref\": 0.2483606316444444, \"symbol\": \"circle\"}, \"mode\": \"markers\", \"name\": \"Country_or_Area=Zimbabwe\", \"showlegend\": true, \"x\": [606.1297096], \"xaxis\": \"x\", \"y\": [9.71], \"yaxis\": \"y\", \"type\": \"scatter\"}, {\"hoverlabel\": {\"namelength\": 0}, \"hovertemplate\": \"Country_or_Area=Namibia<br>Year=2001<br>GDP_Per_Capita(USD)=%{x}<br>Mortality_Rate(%)=%{y}<br>Population(mn)=%{marker.size}\", \"legendgroup\": \"Country_or_Area=Namibia\", \"marker\": {\"color\": \"#B6E880\", \"size\": [1.9335959999999999], \"sizemode\": \"area\", \"sizeref\": 0.2483606316444444, \"symbol\": \"circle\"}, \"mode\": \"markers\", \"name\": \"Country_or_Area=Namibia\", \"showlegend\": true, \"x\": [1797.9247899999998], \"xaxis\": \"x\", \"y\": [7.52], \"yaxis\": \"y\", \"type\": \"scatter\"}, {\"hoverlabel\": {\"namelength\": 0}, \"hovertemplate\": \"Country_or_Area=Nigeria<br>Year=2001<br>GDP_Per_Capita(USD)=%{x}<br>Mortality_Rate(%)=%{y}<br>Population(mn)=%{marker.size}\", \"legendgroup\": \"Country_or_Area=Nigeria\", \"marker\": {\"color\": \"#FF97FF\", \"size\": [125.463434], \"sizemode\": \"area\", \"sizeref\": 0.2483606316444444, \"symbol\": \"circle\"}, \"mode\": \"markers\", \"name\": \"Country_or_Area=Nigeria\", \"showlegend\": true, \"x\": [565.7151409], \"xaxis\": \"x\", \"y\": [18.17], \"yaxis\": \"y\", \"type\": \"scatter\"}, {\"hoverlabel\": {\"namelength\": 0}, \"hovertemplate\": \"Country_or_Area=Thailand<br>Year=2001<br>GDP_Per_Capita(USD)=%{x}<br>Mortality_Rate(%)=%{y}<br>Population(mn)=%{marker.size}\", \"legendgroup\": \"Country_or_Area=Thailand\", \"marker\": {\"color\": \"#636efa\", \"size\": [63.543321999999996], \"sizemode\": \"area\", \"sizeref\": 0.2483606316444444, \"symbol\": \"circle\"}, \"mode\": \"markers\", \"name\": \"Country_or_Area=Thailand\", \"showlegend\": true, \"x\": [1893.145377], \"xaxis\": \"x\", \"y\": [2.2], \"yaxis\": \"y\", \"type\": \"scatter\"}, {\"hoverlabel\": {\"namelength\": 0}, \"hovertemplate\": \"Country_or_Area=France<br>Year=2001<br>GDP_Per_Capita(USD)=%{x}<br>Mortality_Rate(%)=%{y}<br>Population(mn)=%{marker.size}\", \"legendgroup\": \"Country_or_Area=France\", \"marker\": {\"color\": \"#EF553B\", \"size\": [59.911252000000005], \"sizemode\": \"area\", \"sizeref\": 0.2483606316444444, \"symbol\": \"circle\"}, \"mode\": \"markers\", \"name\": \"Country_or_Area=France\", \"showlegend\": true, \"x\": [22271.09764], \"xaxis\": \"x\", \"y\": [0.52], \"yaxis\": \"y\", \"type\": \"scatter\"}, {\"hoverlabel\": {\"namelength\": 0}, \"hovertemplate\": \"Country_or_Area=Germany<br>Year=2001<br>GDP_Per_Capita(USD)=%{x}<br>Mortality_Rate(%)=%{y}<br>Population(mn)=%{marker.size}\", \"legendgroup\": \"Country_or_Area=Germany\", \"marker\": {\"color\": \"#00cc96\", \"size\": [81.535848], \"sizemode\": \"area\", \"sizeref\": 0.2483606316444444, \"symbol\": \"circle\"}, \"mode\": \"markers\", \"name\": \"Country_or_Area=Germany\", \"showlegend\": true, \"x\": [23923.60369], \"xaxis\": \"x\", \"y\": [0.52], \"yaxis\": \"y\", \"type\": \"scatter\"}, {\"hoverlabel\": {\"namelength\": 0}, \"hovertemplate\": \"Country_or_Area=Mexico<br>Year=2001<br>GDP_Per_Capita(USD)=%{x}<br>Mortality_Rate(%)=%{y}<br>Population(mn)=%{marker.size}\", \"legendgroup\": \"Country_or_Area=Mexico\", \"marker\": {\"color\": \"#ab63fa\", \"size\": [103.067068], \"sizemode\": \"area\", \"sizeref\": 0.2483606316444444, \"symbol\": \"circle\"}, \"mode\": \"markers\", \"name\": \"Country_or_Area=Mexico\", \"showlegend\": true, \"x\": [7341.849733], \"xaxis\": \"x\", \"y\": [2.53], \"yaxis\": \"y\", \"type\": \"scatter\"}], \"name\": \"2001\"}, {\"data\": [{\"hoverlabel\": {\"namelength\": 0}, \"hovertemplate\": \"Country_or_Area=Afghanistan<br>Year=2002<br>GDP_Per_Capita(USD)=%{x}<br>Mortality_Rate(%)=%{y}<br>Population(mn)=%{marker.size}\", \"legendgroup\": \"Country_or_Area=Afghanistan\", \"marker\": {\"color\": \"#636efa\", \"size\": [21.979923], \"sizemode\": \"area\", \"sizeref\": 0.2483606316444444, \"symbol\": \"circle\"}, \"mode\": \"markers\", \"name\": \"Country_or_Area=Afghanistan\", \"showlegend\": true, \"x\": [194.95934430000003], \"xaxis\": \"x\", \"y\": [12.22], \"yaxis\": \"y\", \"type\": \"scatter\"}, {\"hoverlabel\": {\"namelength\": 0}, \"hovertemplate\": \"Country_or_Area=China<br>Year=2002<br>GDP_Per_Capita(USD)=%{x}<br>Mortality_Rate(%)=%{y}<br>Population(mn)=%{marker.size}\", \"legendgroup\": \"Country_or_Area=China\", \"marker\": {\"color\": \"#EF553B\", \"size\": [1298.646577], \"sizemode\": \"area\", \"sizeref\": 0.2483606316444444, \"symbol\": \"circle\"}, \"mode\": \"markers\", \"name\": \"Country_or_Area=China\", \"showlegend\": true, \"x\": [1132.376809], \"xaxis\": \"x\", \"y\": [3.16], \"yaxis\": \"y\", \"type\": \"scatter\"}, {\"hoverlabel\": {\"namelength\": 0}, \"hovertemplate\": \"Country_or_Area=India<br>Year=2002<br>GDP_Per_Capita(USD)=%{x}<br>Mortality_Rate(%)=%{y}<br>Population(mn)=%{marker.size}\", \"legendgroup\": \"Country_or_Area=India\", \"marker\": {\"color\": \"#00cc96\", \"size\": [1089.807112], \"sizemode\": \"area\", \"sizeref\": 0.2483606316444444, \"symbol\": \"circle\"}, \"mode\": \"markers\", \"name\": \"Country_or_Area=India\", \"showlegend\": true, \"x\": [455.35034749999994], \"xaxis\": \"x\", \"y\": [8.44], \"yaxis\": \"y\", \"type\": \"scatter\"}, {\"hoverlabel\": {\"namelength\": 0}, \"hovertemplate\": \"Country_or_Area=United States<br>Year=2002<br>GDP_Per_Capita(USD)=%{x}<br>Mortality_Rate(%)=%{y}<br>Population(mn)=%{marker.size}\", \"legendgroup\": \"Country_or_Area=United States\", \"marker\": {\"color\": \"#ab63fa\", \"size\": [287.506847], \"sizemode\": \"area\", \"sizeref\": 0.2483606316444444, \"symbol\": \"circle\"}, \"mode\": \"markers\", \"name\": \"Country_or_Area=United States\", \"showlegend\": true, \"x\": [38038.808860000005], \"xaxis\": \"x\", \"y\": [0.82], \"yaxis\": \"y\", \"type\": \"scatter\"}, {\"hoverlabel\": {\"namelength\": 0}, \"hovertemplate\": \"Country_or_Area=United Kingdom<br>Year=2002<br>GDP_Per_Capita(USD)=%{x}<br>Mortality_Rate(%)=%{y}<br>Population(mn)=%{marker.size}\", \"legendgroup\": \"Country_or_Area=United Kingdom\", \"marker\": {\"color\": \"#FFA15A\", \"size\": [59.348953], \"sizemode\": \"area\", \"sizeref\": 0.2483606316444444, \"symbol\": \"circle\"}, \"mode\": \"markers\", \"name\": \"Country_or_Area=United Kingdom\", \"showlegend\": true, \"x\": [29873.375930000002], \"xaxis\": \"x\", \"y\": [0.63], \"yaxis\": \"y\", \"type\": \"scatter\"}, {\"hoverlabel\": {\"namelength\": 0}, \"hovertemplate\": \"Country_or_Area=Brazil<br>Year=2002<br>GDP_Per_Capita(USD)=%{x}<br>Mortality_Rate(%)=%{y}<br>Population(mn)=%{marker.size}\", \"legendgroup\": \"Country_or_Area=Brazil\", \"marker\": {\"color\": \"#19d3f3\", \"size\": [180.151021], \"sizemode\": \"area\", \"sizeref\": 0.2483606316444444, \"symbol\": \"circle\"}, \"mode\": \"markers\", \"name\": \"Country_or_Area=Brazil\", \"showlegend\": true, \"x\": [2842.227202], \"xaxis\": \"x\", \"y\": [3.15], \"yaxis\": \"y\", \"type\": \"scatter\"}, {\"hoverlabel\": {\"namelength\": 0}, \"hovertemplate\": \"Country_or_Area=Zimbabwe<br>Year=2002<br>GDP_Per_Capita(USD)=%{x}<br>Mortality_Rate(%)=%{y}<br>Population(mn)=%{marker.size}\", \"legendgroup\": \"Country_or_Area=Zimbabwe\", \"marker\": {\"color\": \"#FF6692\", \"size\": [12.500525], \"sizemode\": \"area\", \"sizeref\": 0.2483606316444444, \"symbol\": \"circle\"}, \"mode\": \"markers\", \"name\": \"Country_or_Area=Zimbabwe\", \"showlegend\": true, \"x\": [568.8881067000001], \"xaxis\": \"x\", \"y\": [9.77], \"yaxis\": \"y\", \"type\": \"scatter\"}, {\"hoverlabel\": {\"namelength\": 0}, \"hovertemplate\": \"Country_or_Area=Namibia<br>Year=2002<br>GDP_Per_Capita(USD)=%{x}<br>Mortality_Rate(%)=%{y}<br>Population(mn)=%{marker.size}\", \"legendgroup\": \"Country_or_Area=Namibia\", \"marker\": {\"color\": \"#B6E880\", \"size\": [1.962147], \"sizemode\": \"area\", \"sizeref\": 0.2483606316444444, \"symbol\": \"circle\"}, \"mode\": \"markers\", \"name\": \"Country_or_Area=Namibia\", \"showlegend\": true, \"x\": [1669.424049], \"xaxis\": \"x\", \"y\": [7.55], \"yaxis\": \"y\", \"type\": \"scatter\"}, {\"hoverlabel\": {\"namelength\": 0}, \"hovertemplate\": \"Country_or_Area=Nigeria<br>Year=2002<br>GDP_Per_Capita(USD)=%{x}<br>Mortality_Rate(%)=%{y}<br>Population(mn)=%{marker.size}\", \"legendgroup\": \"Country_or_Area=Nigeria\", \"marker\": {\"color\": \"#FF97FF\", \"size\": [128.66671000000002], \"sizemode\": \"area\", \"sizeref\": 0.2483606316444444, \"symbol\": \"circle\"}, \"mode\": \"markers\", \"name\": \"Country_or_Area=Nigeria\", \"showlegend\": true, \"x\": [738.8349077], \"xaxis\": \"x\", \"y\": [17.59], \"yaxis\": \"y\", \"type\": \"scatter\"}, {\"hoverlabel\": {\"namelength\": 0}, \"hovertemplate\": \"Country_or_Area=Thailand<br>Year=2002<br>GDP_Per_Capita(USD)=%{x}<br>Mortality_Rate(%)=%{y}<br>Population(mn)=%{marker.size}\", \"legendgroup\": \"Country_or_Area=Thailand\", \"marker\": {\"color\": \"#636efa\", \"size\": [64.073164], \"sizemode\": \"area\", \"sizeref\": 0.2483606316444444, \"symbol\": \"circle\"}, \"mode\": \"markers\", \"name\": \"Country_or_Area=Thailand\", \"showlegend\": true, \"x\": [2096.0554309999998], \"xaxis\": \"x\", \"y\": [2.1], \"yaxis\": \"y\", \"type\": \"scatter\"}, {\"hoverlabel\": {\"namelength\": 0}, \"hovertemplate\": \"Country_or_Area=France<br>Year=2002<br>GDP_Per_Capita(USD)=%{x}<br>Mortality_Rate(%)=%{y}<br>Population(mn)=%{marker.size}\", \"legendgroup\": \"Country_or_Area=France\", \"marker\": {\"color\": \"#EF553B\", \"size\": [60.225076], \"sizemode\": \"area\", \"sizeref\": 0.2483606316444444, \"symbol\": \"circle\"}, \"mode\": \"markers\", \"name\": \"Country_or_Area=France\", \"showlegend\": true, \"x\": [24044.59809], \"xaxis\": \"x\", \"y\": [0.51], \"yaxis\": \"y\", \"type\": \"scatter\"}, {\"hoverlabel\": {\"namelength\": 0}, \"hovertemplate\": \"Country_or_Area=Germany<br>Year=2002<br>GDP_Per_Capita(USD)=%{x}<br>Mortality_Rate(%)=%{y}<br>Population(mn)=%{marker.size}\", \"legendgroup\": \"Country_or_Area=Germany\", \"marker\": {\"color\": \"#00cc96\", \"size\": [81.611868], \"sizemode\": \"area\", \"sizeref\": 0.2483606316444444, \"symbol\": \"circle\"}, \"mode\": \"markers\", \"name\": \"Country_or_Area=Germany\", \"showlegend\": true, \"x\": [25477.06244], \"xaxis\": \"x\", \"y\": [0.51], \"yaxis\": \"y\", \"type\": \"scatter\"}, {\"hoverlabel\": {\"namelength\": 0}, \"hovertemplate\": \"Country_or_Area=Mexico<br>Year=2002<br>GDP_Per_Capita(USD)=%{x}<br>Mortality_Rate(%)=%{y}<br>Population(mn)=%{marker.size}\", \"legendgroup\": \"Country_or_Area=Mexico\", \"marker\": {\"color\": \"#ab63fa\", \"size\": [104.35560799999999], \"sizemode\": \"area\", \"sizeref\": 0.2483606316444444, \"symbol\": \"circle\"}, \"mode\": \"markers\", \"name\": \"Country_or_Area=Mexico\", \"showlegend\": true, \"x\": [7398.832947], \"xaxis\": \"x\", \"y\": [2.39], \"yaxis\": \"y\", \"type\": \"scatter\"}], \"name\": \"2002\"}, {\"data\": [{\"hoverlabel\": {\"namelength\": 0}, \"hovertemplate\": \"Country_or_Area=Afghanistan<br>Year=2003<br>GDP_Per_Capita(USD)=%{x}<br>Mortality_Rate(%)=%{y}<br>Population(mn)=%{marker.size}\", \"legendgroup\": \"Country_or_Area=Afghanistan\", \"marker\": {\"color\": \"#636efa\", \"size\": [23.064851], \"sizemode\": \"area\", \"sizeref\": 0.2483606316444444, \"symbol\": \"circle\"}, \"mode\": \"markers\", \"name\": \"Country_or_Area=Afghanistan\", \"showlegend\": true, \"x\": [213.9857668], \"xaxis\": \"x\", \"y\": [11.83], \"yaxis\": \"y\", \"type\": \"scatter\"}, {\"hoverlabel\": {\"namelength\": 0}, \"hovertemplate\": \"Country_or_Area=China<br>Year=2003<br>GDP_Per_Capita(USD)=%{x}<br>Mortality_Rate(%)=%{y}<br>Population(mn)=%{marker.size}\", \"legendgroup\": \"Country_or_Area=China\", \"marker\": {\"color\": \"#EF553B\", \"size\": [1306.343911], \"sizemode\": \"area\", \"sizeref\": 0.2483606316444444, \"symbol\": \"circle\"}, \"mode\": \"markers\", \"name\": \"Country_or_Area=China\", \"showlegend\": true, \"x\": [1270.936524], \"xaxis\": \"x\", \"y\": [2.89], \"yaxis\": \"y\", \"type\": \"scatter\"}, {\"hoverlabel\": {\"namelength\": 0}, \"hovertemplate\": \"Country_or_Area=India<br>Year=2003<br>GDP_Per_Capita(USD)=%{x}<br>Mortality_Rate(%)=%{y}<br>Population(mn)=%{marker.size}\", \"legendgroup\": \"Country_or_Area=India\", \"marker\": {\"color\": \"#00cc96\", \"size\": [1108.027848], \"sizemode\": \"area\", \"sizeref\": 0.2483606316444444, \"symbol\": \"circle\"}, \"mode\": \"markers\", \"name\": \"Country_or_Area=India\", \"showlegend\": true, \"x\": [524.4824767], \"xaxis\": \"x\", \"y\": [8.1], \"yaxis\": \"y\", \"type\": \"scatter\"}, {\"hoverlabel\": {\"namelength\": 0}, \"hovertemplate\": \"Country_or_Area=United States<br>Year=2003<br>GDP_Per_Capita(USD)=%{x}<br>Mortality_Rate(%)=%{y}<br>Population(mn)=%{marker.size}\", \"legendgroup\": \"Country_or_Area=United States\", \"marker\": {\"color\": \"#ab63fa\", \"size\": [290.027624], \"sizemode\": \"area\", \"sizeref\": 0.2483606316444444, \"symbol\": \"circle\"}, \"mode\": \"markers\", \"name\": \"Country_or_Area=United States\", \"showlegend\": true, \"x\": [39507.42982], \"xaxis\": \"x\", \"y\": [0.81], \"yaxis\": \"y\", \"type\": \"scatter\"}, {\"hoverlabel\": {\"namelength\": 0}, \"hovertemplate\": \"Country_or_Area=United Kingdom<br>Year=2003<br>GDP_Per_Capita(USD)=%{x}<br>Mortality_Rate(%)=%{y}<br>Population(mn)=%{marker.size}\", \"legendgroup\": \"Country_or_Area=United Kingdom\", \"marker\": {\"color\": \"#FFA15A\", \"size\": [59.580222], \"sizemode\": \"area\", \"sizeref\": 0.2483606316444444, \"symbol\": \"circle\"}, \"mode\": \"markers\", \"name\": \"Country_or_Area=United Kingdom\", \"showlegend\": true, \"x\": [34305.404310000005], \"xaxis\": \"x\", \"y\": [0.63], \"yaxis\": \"y\", \"type\": \"scatter\"}, {\"hoverlabel\": {\"namelength\": 0}, \"hovertemplate\": \"Country_or_Area=Brazil<br>Year=2003<br>GDP_Per_Capita(USD)=%{x}<br>Mortality_Rate(%)=%{y}<br>Population(mn)=%{marker.size}\", \"legendgroup\": \"Country_or_Area=Brazil\", \"marker\": {\"color\": \"#19d3f3\", \"size\": [182.482149], \"sizemode\": \"area\", \"sizeref\": 0.2483606316444444, \"symbol\": \"circle\"}, \"mode\": \"markers\", \"name\": \"Country_or_Area=Brazil\", \"showlegend\": true, \"x\": [3062.8866980000003], \"xaxis\": \"x\", \"y\": [2.96], \"yaxis\": \"y\", \"type\": \"scatter\"}, {\"hoverlabel\": {\"namelength\": 0}, \"hovertemplate\": \"Country_or_Area=Zimbabwe<br>Year=2003<br>GDP_Per_Capita(USD)=%{x}<br>Mortality_Rate(%)=%{y}<br>Population(mn)=%{marker.size}\", \"legendgroup\": \"Country_or_Area=Zimbabwe\", \"marker\": {\"color\": \"#FF6692\", \"size\": [12.633897], \"sizemode\": \"area\", \"sizeref\": 0.2483606316444444, \"symbol\": \"circle\"}, \"mode\": \"markers\", \"name\": \"Country_or_Area=Zimbabwe\", \"showlegend\": true, \"x\": [530.746768], \"xaxis\": \"x\", \"y\": [9.82], \"yaxis\": \"y\", \"type\": \"scatter\"}, {\"hoverlabel\": {\"namelength\": 0}, \"hovertemplate\": \"Country_or_Area=Namibia<br>Year=2003<br>GDP_Per_Capita(USD)=%{x}<br>Mortality_Rate(%)=%{y}<br>Population(mn)=%{marker.size}\", \"legendgroup\": \"Country_or_Area=Namibia\", \"marker\": {\"color\": \"#B6E880\", \"size\": [1.986535], \"sizemode\": \"area\", \"sizeref\": 0.2483606316444444, \"symbol\": \"circle\"}, \"mode\": \"markers\", \"name\": \"Country_or_Area=Namibia\", \"showlegend\": true, \"x\": [2422.289439], \"xaxis\": \"x\", \"y\": [7.53], \"yaxis\": \"y\", \"type\": \"scatter\"}, {\"hoverlabel\": {\"namelength\": 0}, \"hovertemplate\": \"Country_or_Area=Nigeria<br>Year=2003<br>GDP_Per_Capita(USD)=%{x}<br>Mortality_Rate(%)=%{y}<br>Population(mn)=%{marker.size}\", \"legendgroup\": \"Country_or_Area=Nigeria\", \"marker\": {\"color\": \"#FF97FF\", \"size\": [131.972533], \"sizemode\": \"area\", \"sizeref\": 0.2483606316444444, \"symbol\": \"circle\"}, \"mode\": \"markers\", \"name\": \"Country_or_Area=Nigeria\", \"showlegend\": true, \"x\": [824.3733093], \"xaxis\": \"x\", \"y\": [16.99], \"yaxis\": \"y\", \"type\": \"scatter\"}, {\"hoverlabel\": {\"namelength\": 0}, \"hovertemplate\": \"Country_or_Area=Thailand<br>Year=2003<br>GDP_Per_Capita(USD)=%{x}<br>Mortality_Rate(%)=%{y}<br>Population(mn)=%{marker.size}\", \"legendgroup\": \"Country_or_Area=Thailand\", \"marker\": {\"color\": \"#636efa\", \"size\": [64.554952], \"sizemode\": \"area\", \"sizeref\": 0.2483606316444444, \"symbol\": \"circle\"}, \"mode\": \"markers\", \"name\": \"Country_or_Area=Thailand\", \"showlegend\": true, \"x\": [2358.929682], \"xaxis\": \"x\", \"y\": [2.01], \"yaxis\": \"y\", \"type\": \"scatter\"}, {\"hoverlabel\": {\"namelength\": 0}, \"hovertemplate\": \"Country_or_Area=France<br>Year=2003<br>GDP_Per_Capita(USD)=%{x}<br>Mortality_Rate(%)=%{y}<br>Population(mn)=%{marker.size}\", \"legendgroup\": \"Country_or_Area=France\", \"marker\": {\"color\": \"#EF553B\", \"size\": [60.550096999999994], \"sizemode\": \"area\", \"sizeref\": 0.2483606316444444, \"symbol\": \"circle\"}, \"mode\": \"markers\", \"name\": \"Country_or_Area=France\", \"showlegend\": true, \"x\": [29444.42804], \"xaxis\": \"x\", \"y\": [0.49], \"yaxis\": \"y\", \"type\": \"scatter\"}, {\"hoverlabel\": {\"namelength\": 0}, \"hovertemplate\": \"Country_or_Area=Germany<br>Year=2003<br>GDP_Per_Capita(USD)=%{x}<br>Mortality_Rate(%)=%{y}<br>Population(mn)=%{marker.size}\", \"legendgroup\": \"Country_or_Area=Germany\", \"marker\": {\"color\": \"#00cc96\", \"size\": [81.686495], \"sizemode\": \"area\", \"sizeref\": 0.2483606316444444, \"symbol\": \"circle\"}, \"mode\": \"markers\", \"name\": \"Country_or_Area=Germany\", \"showlegend\": true, \"x\": [30673.822030000003], \"xaxis\": \"x\", \"y\": [0.5], \"yaxis\": \"y\", \"type\": \"scatter\"}, {\"hoverlabel\": {\"namelength\": 0}, \"hovertemplate\": \"Country_or_Area=Mexico<br>Year=2003<br>GDP_Per_Capita(USD)=%{x}<br>Mortality_Rate(%)=%{y}<br>Population(mn)=%{marker.size}\", \"legendgroup\": \"Country_or_Area=Mexico\", \"marker\": {\"color\": \"#ab63fa\", \"size\": [105.64045300000001], \"sizemode\": \"area\", \"sizeref\": 0.2483606316444444, \"symbol\": \"circle\"}, \"mode\": \"markers\", \"name\": \"Country_or_Area=Mexico\", \"showlegend\": true, \"x\": [6903.936923], \"xaxis\": \"x\", \"y\": [2.27], \"yaxis\": \"y\", \"type\": \"scatter\"}], \"name\": \"2003\"}, {\"data\": [{\"hoverlabel\": {\"namelength\": 0}, \"hovertemplate\": \"Country_or_Area=Afghanistan<br>Year=2004<br>GDP_Per_Capita(USD)=%{x}<br>Mortality_Rate(%)=%{y}<br>Population(mn)=%{marker.size}\", \"legendgroup\": \"Country_or_Area=Afghanistan\", \"marker\": {\"color\": \"#636efa\", \"size\": [24.118979], \"sizemode\": \"area\", \"sizeref\": 0.2483606316444444, \"symbol\": \"circle\"}, \"mode\": \"markers\", \"name\": \"Country_or_Area=Afghanistan\", \"showlegend\": true, \"x\": [231.6426452], \"xaxis\": \"x\", \"y\": [11.44], \"yaxis\": \"y\", \"type\": \"scatter\"}, {\"hoverlabel\": {\"namelength\": 0}, \"hovertemplate\": \"Country_or_Area=China<br>Year=2004<br>GDP_Per_Capita(USD)=%{x}<br>Mortality_Rate(%)=%{y}<br>Population(mn)=%{marker.size}\", \"legendgroup\": \"Country_or_Area=China\", \"marker\": {\"color\": \"#EF553B\", \"size\": [1314.007478], \"sizemode\": \"area\", \"sizeref\": 0.2483606316444444, \"symbol\": \"circle\"}, \"mode\": \"markers\", \"name\": \"Country_or_Area=China\", \"showlegend\": true, \"x\": [1488.079264], \"xaxis\": \"x\", \"y\": [2.63], \"yaxis\": \"y\", \"type\": \"scatter\"}, {\"hoverlabel\": {\"namelength\": 0}, \"hovertemplate\": \"Country_or_Area=India<br>Year=2004<br>GDP_Per_Capita(USD)=%{x}<br>Mortality_Rate(%)=%{y}<br>Population(mn)=%{marker.size}\", \"legendgroup\": \"Country_or_Area=India\", \"marker\": {\"color\": \"#00cc96\", \"size\": [1126.135777], \"sizemode\": \"area\", \"sizeref\": 0.2483606316444444, \"symbol\": \"circle\"}, \"mode\": \"markers\", \"name\": \"Country_or_Area=India\", \"showlegend\": true, \"x\": [624.3731640999999], \"xaxis\": \"x\", \"y\": [7.77], \"yaxis\": \"y\", \"type\": \"scatter\"}, {\"hoverlabel\": {\"namelength\": 0}, \"hovertemplate\": \"Country_or_Area=United States<br>Year=2004<br>GDP_Per_Capita(USD)=%{x}<br>Mortality_Rate(%)=%{y}<br>Population(mn)=%{marker.size}\", \"legendgroup\": \"Country_or_Area=United States\", \"marker\": {\"color\": \"#ab63fa\", \"size\": [292.539324], \"sizemode\": \"area\", \"sizeref\": 0.2483606316444444, \"symbol\": \"circle\"}, \"mode\": \"markers\", \"name\": \"Country_or_Area=United States\", \"showlegend\": true, \"x\": [41750.72887], \"xaxis\": \"x\", \"y\": [0.81], \"yaxis\": \"y\", \"type\": \"scatter\"}, {\"hoverlabel\": {\"namelength\": 0}, \"hovertemplate\": \"Country_or_Area=United Kingdom<br>Year=2004<br>GDP_Per_Capita(USD)=%{x}<br>Mortality_Rate(%)=%{y}<br>Population(mn)=%{marker.size}\", \"legendgroup\": \"Country_or_Area=United Kingdom\", \"marker\": {\"color\": \"#FFA15A\", \"size\": [59.884128000000004], \"sizemode\": \"area\", \"sizeref\": 0.2483606316444444, \"symbol\": \"circle\"}, \"mode\": \"markers\", \"name\": \"Country_or_Area=United Kingdom\", \"showlegend\": true, \"x\": [40139.21813], \"xaxis\": \"x\", \"y\": [0.62], \"yaxis\": \"y\", \"type\": \"scatter\"}, {\"hoverlabel\": {\"namelength\": 0}, \"hovertemplate\": \"Country_or_Area=Brazil<br>Year=2004<br>GDP_Per_Capita(USD)=%{x}<br>Mortality_Rate(%)=%{y}<br>Population(mn)=%{marker.size}\", \"legendgroup\": \"Country_or_Area=Brazil\", \"marker\": {\"color\": \"#19d3f3\", \"size\": [184.738458], \"sizemode\": \"area\", \"sizeref\": 0.2483606316444444, \"symbol\": \"circle\"}, \"mode\": \"markers\", \"name\": \"Country_or_Area=Brazil\", \"showlegend\": true, \"x\": [3622.901962], \"xaxis\": \"x\", \"y\": [2.78], \"yaxis\": \"y\", \"type\": \"scatter\"}, {\"hoverlabel\": {\"namelength\": 0}, \"hovertemplate\": \"Country_or_Area=Zimbabwe<br>Year=2004<br>GDP_Per_Capita(USD)=%{x}<br>Mortality_Rate(%)=%{y}<br>Population(mn)=%{marker.size}\", \"legendgroup\": \"Country_or_Area=Zimbabwe\", \"marker\": {\"color\": \"#FF6692\", \"size\": [12.777511], \"sizemode\": \"area\", \"sizeref\": 0.2483606316444444, \"symbol\": \"circle\"}, \"mode\": \"markers\", \"name\": \"Country_or_Area=Zimbabwe\", \"showlegend\": true, \"x\": [502.4139678], \"xaxis\": \"x\", \"y\": [9.9], \"yaxis\": \"y\", \"type\": \"scatter\"}, {\"hoverlabel\": {\"namelength\": 0}, \"hovertemplate\": \"Country_or_Area=Namibia<br>Year=2004<br>GDP_Per_Capita(USD)=%{x}<br>Mortality_Rate(%)=%{y}<br>Population(mn)=%{marker.size}\", \"legendgroup\": \"Country_or_Area=Namibia\", \"marker\": {\"color\": \"#B6E880\", \"size\": [2.009228], \"sizemode\": \"area\", \"sizeref\": 0.2483606316444444, \"symbol\": \"circle\"}, \"mode\": \"markers\", \"name\": \"Country_or_Area=Namibia\", \"showlegend\": true, \"x\": [3225.342907], \"xaxis\": \"x\", \"y\": [7.42], \"yaxis\": \"y\", \"type\": \"scatter\"}, {\"hoverlabel\": {\"namelength\": 0}, \"hovertemplate\": \"Country_or_Area=Nigeria<br>Year=2004<br>GDP_Per_Capita(USD)=%{x}<br>Mortality_Rate(%)=%{y}<br>Population(mn)=%{marker.size}\", \"legendgroup\": \"Country_or_Area=Nigeria\", \"marker\": {\"color\": \"#FF97FF\", \"size\": [135.39361599999998], \"sizemode\": \"area\", \"sizeref\": 0.2483606316444444, \"symbol\": \"circle\"}, \"mode\": \"markers\", \"name\": \"Country_or_Area=Nigeria\", \"showlegend\": true, \"x\": [1043.333232], \"xaxis\": \"x\", \"y\": [16.4], \"yaxis\": \"y\", \"type\": \"scatter\"}, {\"hoverlabel\": {\"namelength\": 0}, \"hovertemplate\": \"Country_or_Area=Thailand<br>Year=2004<br>GDP_Per_Capita(USD)=%{x}<br>Mortality_Rate(%)=%{y}<br>Population(mn)=%{marker.size}\", \"legendgroup\": \"Country_or_Area=Thailand\", \"marker\": {\"color\": \"#636efa\", \"size\": [65.00223100000001], \"sizemode\": \"area\", \"sizeref\": 0.2483606316444444, \"symbol\": \"circle\"}, \"mode\": \"markers\", \"name\": \"Country_or_Area=Thailand\", \"showlegend\": true, \"x\": [2659.8381219999997], \"xaxis\": \"x\", \"y\": [1.91], \"yaxis\": \"y\", \"type\": \"scatter\"}, {\"hoverlabel\": {\"namelength\": 0}, \"hovertemplate\": \"Country_or_Area=France<br>Year=2004<br>GDP_Per_Capita(USD)=%{x}<br>Mortality_Rate(%)=%{y}<br>Population(mn)=%{marker.size}\", \"legendgroup\": \"Country_or_Area=France\", \"marker\": {\"color\": \"#EF553B\", \"size\": [60.886607], \"sizemode\": \"area\", \"sizeref\": 0.2483606316444444, \"symbol\": \"circle\"}, \"mode\": \"markers\", \"name\": \"Country_or_Area=France\", \"showlegend\": true, \"x\": [33654.22671], \"xaxis\": \"x\", \"y\": [0.47], \"yaxis\": \"y\", \"type\": \"scatter\"}, {\"hoverlabel\": {\"namelength\": 0}, \"hovertemplate\": \"Country_or_Area=Germany<br>Year=2004<br>GDP_Per_Capita(USD)=%{x}<br>Mortality_Rate(%)=%{y}<br>Population(mn)=%{marker.size}\", \"legendgroup\": \"Country_or_Area=Germany\", \"marker\": {\"color\": \"#00cc96\", \"size\": [81.715659], \"sizemode\": \"area\", \"sizeref\": 0.2483606316444444, \"symbol\": \"circle\"}, \"mode\": \"markers\", \"name\": \"Country_or_Area=Germany\", \"showlegend\": true, \"x\": [34502.1707], \"xaxis\": \"x\", \"y\": [0.49], \"yaxis\": \"y\", \"type\": \"scatter\"}, {\"hoverlabel\": {\"namelength\": 0}, \"hovertemplate\": \"Country_or_Area=Mexico<br>Year=2004<br>GDP_Per_Capita(USD)=%{x}<br>Mortality_Rate(%)=%{y}<br>Population(mn)=%{marker.size}\", \"legendgroup\": \"Country_or_Area=Mexico\", \"marker\": {\"color\": \"#ab63fa\", \"size\": [106.99558300000001], \"sizemode\": \"area\", \"sizeref\": 0.2483606316444444, \"symbol\": \"circle\"}, \"mode\": \"markers\", \"name\": \"Country_or_Area=Mexico\", \"showlegend\": true, \"x\": [7310.983224], \"xaxis\": \"x\", \"y\": [2.16], \"yaxis\": \"y\", \"type\": \"scatter\"}], \"name\": \"2004\"}, {\"data\": [{\"hoverlabel\": {\"namelength\": 0}, \"hovertemplate\": \"Country_or_Area=Afghanistan<br>Year=2005<br>GDP_Per_Capita(USD)=%{x}<br>Mortality_Rate(%)=%{y}<br>Population(mn)=%{marker.size}\", \"legendgroup\": \"Country_or_Area=Afghanistan\", \"marker\": {\"color\": \"#636efa\", \"size\": [25.070798], \"sizemode\": \"area\", \"sizeref\": 0.2483606316444444, \"symbol\": \"circle\"}, \"mode\": \"markers\", \"name\": \"Country_or_Area=Afghanistan\", \"showlegend\": true, \"x\": [264.12537119999996], \"xaxis\": \"x\", \"y\": [11.03], \"yaxis\": \"y\", \"type\": \"scatter\"}, {\"hoverlabel\": {\"namelength\": 0}, \"hovertemplate\": \"Country_or_Area=China<br>Year=2005<br>GDP_Per_Capita(USD)=%{x}<br>Mortality_Rate(%)=%{y}<br>Population(mn)=%{marker.size}\", \"legendgroup\": \"Country_or_Area=China\", \"marker\": {\"color\": \"#EF553B\", \"size\": [1321.62349], \"sizemode\": \"area\", \"sizeref\": 0.2483606316444444, \"symbol\": \"circle\"}, \"mode\": \"markers\", \"name\": \"Country_or_Area=China\", \"showlegend\": true, \"x\": [1729.660529], \"xaxis\": \"x\", \"y\": [2.4], \"yaxis\": \"y\", \"type\": \"scatter\"}, {\"hoverlabel\": {\"namelength\": 0}, \"hovertemplate\": \"Country_or_Area=India<br>Year=2005<br>GDP_Per_Capita(USD)=%{x}<br>Mortality_Rate(%)=%{y}<br>Population(mn)=%{marker.size}\", \"legendgroup\": \"Country_or_Area=India\", \"marker\": {\"color\": \"#00cc96\", \"size\": [1144.118674], \"sizemode\": \"area\", \"sizeref\": 0.2483606316444444, \"symbol\": \"circle\"}, \"mode\": \"markers\", \"name\": \"Country_or_Area=India\", \"showlegend\": true, \"x\": [719.8655146000001], \"xaxis\": \"x\", \"y\": [7.44], \"yaxis\": \"y\", \"type\": \"scatter\"}, {\"hoverlabel\": {\"namelength\": 0}, \"hovertemplate\": \"Country_or_Area=United States<br>Year=2005<br>GDP_Per_Capita(USD)=%{x}<br>Mortality_Rate(%)=%{y}<br>Population(mn)=%{marker.size}\", \"legendgroup\": \"Country_or_Area=United States\", \"marker\": {\"color\": \"#ab63fa\", \"size\": [295.129501], \"sizemode\": \"area\", \"sizeref\": 0.2483606316444444, \"symbol\": \"circle\"}, \"mode\": \"markers\", \"name\": \"Country_or_Area=United States\", \"showlegend\": true, \"x\": [44172.59866], \"xaxis\": \"x\", \"y\": [0.8], \"yaxis\": \"y\", \"type\": \"scatter\"}, {\"hoverlabel\": {\"namelength\": 0}, \"hovertemplate\": \"Country_or_Area=United Kingdom<br>Year=2005<br>GDP_Per_Capita(USD)=%{x}<br>Mortality_Rate(%)=%{y}<br>Population(mn)=%{marker.size}\", \"legendgroup\": \"Country_or_Area=United Kingdom\", \"marker\": {\"color\": \"#FFA15A\", \"size\": [60.286754], \"sizemode\": \"area\", \"sizeref\": 0.2483606316444444, \"symbol\": \"circle\"}, \"mode\": \"markers\", \"name\": \"Country_or_Area=United Kingdom\", \"showlegend\": true, \"x\": [41883.38132], \"xaxis\": \"x\", \"y\": [0.6], \"yaxis\": \"y\", \"type\": \"scatter\"}, {\"hoverlabel\": {\"namelength\": 0}, \"hovertemplate\": \"Country_or_Area=Brazil<br>Year=2005<br>GDP_Per_Capita(USD)=%{x}<br>Mortality_Rate(%)=%{y}<br>Population(mn)=%{marker.size}\", \"legendgroup\": \"Country_or_Area=Brazil\", \"marker\": {\"color\": \"#19d3f3\", \"size\": [186.917361], \"sizemode\": \"area\", \"sizeref\": 0.2483606316444444, \"symbol\": \"circle\"}, \"mode\": \"markers\", \"name\": \"Country_or_Area=Brazil\", \"showlegend\": true, \"x\": [4770.203377000001], \"xaxis\": \"x\", \"y\": [2.61], \"yaxis\": \"y\", \"type\": \"scatter\"}, {\"hoverlabel\": {\"namelength\": 0}, \"hovertemplate\": \"Country_or_Area=Zimbabwe<br>Year=2005<br>GDP_Per_Capita(USD)=%{x}<br>Mortality_Rate(%)=%{y}<br>Population(mn)=%{marker.size}\", \"legendgroup\": \"Country_or_Area=Zimbabwe\", \"marker\": {\"color\": \"#FF6692\", \"size\": [12.940032], \"sizemode\": \"area\", \"sizeref\": 0.2483606316444444, \"symbol\": \"circle\"}, \"mode\": \"markers\", \"name\": \"Country_or_Area=Zimbabwe\", \"showlegend\": true, \"x\": [480.9029839], \"xaxis\": \"x\", \"y\": [9.97], \"yaxis\": \"y\", \"type\": \"scatter\"}, {\"hoverlabel\": {\"namelength\": 0}, \"hovertemplate\": \"Country_or_Area=Namibia<br>Year=2005<br>GDP_Per_Capita(USD)=%{x}<br>Mortality_Rate(%)=%{y}<br>Population(mn)=%{marker.size}\", \"legendgroup\": \"Country_or_Area=Namibia\", \"marker\": {\"color\": \"#B6E880\", \"size\": [2.032196], \"sizemode\": \"area\", \"sizeref\": 0.2483606316444444, \"symbol\": \"circle\"}, \"mode\": \"markers\", \"name\": \"Country_or_Area=Namibia\", \"showlegend\": true, \"x\": [3504.268396], \"xaxis\": \"x\", \"y\": [7.1], \"yaxis\": \"y\", \"type\": \"scatter\"}, {\"hoverlabel\": {\"namelength\": 0}, \"hovertemplate\": \"Country_or_Area=Nigeria<br>Year=2005<br>GDP_Per_Capita(USD)=%{x}<br>Mortality_Rate(%)=%{y}<br>Population(mn)=%{marker.size}\", \"legendgroup\": \"Country_or_Area=Nigeria\", \"marker\": {\"color\": \"#FF97FF\", \"size\": [138.939478], \"sizemode\": \"area\", \"sizeref\": 0.2483606316444444, \"symbol\": \"circle\"}, \"mode\": \"markers\", \"name\": \"Country_or_Area=Nigeria\", \"showlegend\": true, \"x\": [1299.1412970000001], \"xaxis\": \"x\", \"y\": [15.79], \"yaxis\": \"y\", \"type\": \"scatter\"}, {\"hoverlabel\": {\"namelength\": 0}, \"hovertemplate\": \"Country_or_Area=Thailand<br>Year=2005<br>GDP_Per_Capita(USD)=%{x}<br>Mortality_Rate(%)=%{y}<br>Population(mn)=%{marker.size}\", \"legendgroup\": \"Country_or_Area=Thailand\", \"marker\": {\"color\": \"#636efa\", \"size\": [65.42546999999999], \"sizemode\": \"area\", \"sizeref\": 0.2483606316444444, \"symbol\": \"circle\"}, \"mode\": \"markers\", \"name\": \"Country_or_Area=Thailand\", \"showlegend\": true, \"x\": [2893.649182], \"xaxis\": \"x\", \"y\": [1.82], \"yaxis\": \"y\", \"type\": \"scatter\"}, {\"hoverlabel\": {\"namelength\": 0}, \"hovertemplate\": \"Country_or_Area=France<br>Year=2005<br>GDP_Per_Capita(USD)=%{x}<br>Mortality_Rate(%)=%{y}<br>Population(mn)=%{marker.size}\", \"legendgroup\": \"Country_or_Area=France\", \"marker\": {\"color\": \"#EF553B\", \"size\": [61.2339], \"sizemode\": \"area\", \"sizeref\": 0.2483606316444444, \"symbol\": \"circle\"}, \"mode\": \"markers\", \"name\": \"Country_or_Area=France\", \"showlegend\": true, \"x\": [34723.78016], \"xaxis\": \"x\", \"y\": [0.46], \"yaxis\": \"y\", \"type\": \"scatter\"}, {\"hoverlabel\": {\"namelength\": 0}, \"hovertemplate\": \"Country_or_Area=Germany<br>Year=2005<br>GDP_Per_Capita(USD)=%{x}<br>Mortality_Rate(%)=%{y}<br>Population(mn)=%{marker.size}\", \"legendgroup\": \"Country_or_Area=Germany\", \"marker\": {\"color\": \"#00cc96\", \"size\": [81.671234], \"sizemode\": \"area\", \"sizeref\": 0.2483606316444444, \"symbol\": \"circle\"}, \"mode\": \"markers\", \"name\": \"Country_or_Area=Germany\", \"showlegend\": true, \"x\": [35034.84597], \"xaxis\": \"x\", \"y\": [0.47], \"yaxis\": \"y\", \"type\": \"scatter\"}, {\"hoverlabel\": {\"namelength\": 0}, \"hovertemplate\": \"Country_or_Area=Mexico<br>Year=2005<br>GDP_Per_Capita(USD)=%{x}<br>Mortality_Rate(%)=%{y}<br>Population(mn)=%{marker.size}\", \"legendgroup\": \"Country_or_Area=Mexico\", \"marker\": {\"color\": \"#ab63fa\", \"size\": [108.472228], \"sizemode\": \"area\", \"sizeref\": 0.2483606316444444, \"symbol\": \"circle\"}, \"mode\": \"markers\", \"name\": \"Country_or_Area=Mexico\", \"showlegend\": true, \"x\": [8089.415222], \"xaxis\": \"x\", \"y\": [2.06], \"yaxis\": \"y\", \"type\": \"scatter\"}], \"name\": \"2005\"}, {\"data\": [{\"hoverlabel\": {\"namelength\": 0}, \"hovertemplate\": \"Country_or_Area=Afghanistan<br>Year=2006<br>GDP_Per_Capita(USD)=%{x}<br>Mortality_Rate(%)=%{y}<br>Population(mn)=%{marker.size}\", \"legendgroup\": \"Country_or_Area=Afghanistan\", \"marker\": {\"color\": \"#636efa\", \"size\": [25.89345], \"sizemode\": \"area\", \"sizeref\": 0.2483606316444444, \"symbol\": \"circle\"}, \"mode\": \"markers\", \"name\": \"Country_or_Area=Afghanistan\", \"showlegend\": true, \"x\": [290.1993235], \"xaxis\": \"x\", \"y\": [10.63], \"yaxis\": \"y\", \"type\": \"scatter\"}, {\"hoverlabel\": {\"namelength\": 0}, \"hovertemplate\": \"Country_or_Area=China<br>Year=2006<br>GDP_Per_Capita(USD)=%{x}<br>Mortality_Rate(%)=%{y}<br>Population(mn)=%{marker.size}\", \"legendgroup\": \"Country_or_Area=China\", \"marker\": {\"color\": \"#EF553B\", \"size\": [1329.209094], \"sizemode\": \"area\", \"sizeref\": 0.2483606316444444, \"symbol\": \"circle\"}, \"mode\": \"markers\", \"name\": \"Country_or_Area=China\", \"showlegend\": true, \"x\": [2070.494495], \"xaxis\": \"x\", \"y\": [2.19], \"yaxis\": \"y\", \"type\": \"scatter\"}, {\"hoverlabel\": {\"namelength\": 0}, \"hovertemplate\": \"Country_or_Area=India<br>Year=2006<br>GDP_Per_Capita(USD)=%{x}<br>Mortality_Rate(%)=%{y}<br>Population(mn)=%{marker.size}\", \"legendgroup\": \"Country_or_Area=India\", \"marker\": {\"color\": \"#00cc96\", \"size\": [1161.977719], \"sizemode\": \"area\", \"sizeref\": 0.2483606316444444, \"symbol\": \"circle\"}, \"mode\": \"markers\", \"name\": \"Country_or_Area=India\", \"showlegend\": true, \"x\": [808.162155], \"xaxis\": \"x\", \"y\": [7.12], \"yaxis\": \"y\", \"type\": \"scatter\"}, {\"hoverlabel\": {\"namelength\": 0}, \"hovertemplate\": \"Country_or_Area=United States<br>Year=2006<br>GDP_Per_Capita(USD)=%{x}<br>Mortality_Rate(%)=%{y}<br>Population(mn)=%{marker.size}\", \"legendgroup\": \"Country_or_Area=United States\", \"marker\": {\"color\": \"#ab63fa\", \"size\": [297.827356], \"sizemode\": \"area\", \"sizeref\": 0.2483606316444444, \"symbol\": \"circle\"}, \"mode\": \"markers\", \"name\": \"Country_or_Area=United States\", \"showlegend\": true, \"x\": [46384.62089], \"xaxis\": \"x\", \"y\": [0.79], \"yaxis\": \"y\", \"type\": \"scatter\"}, {\"hoverlabel\": {\"namelength\": 0}, \"hovertemplate\": \"Country_or_Area=United Kingdom<br>Year=2006<br>GDP_Per_Capita(USD)=%{x}<br>Mortality_Rate(%)=%{y}<br>Population(mn)=%{marker.size}\", \"legendgroup\": \"Country_or_Area=United Kingdom\", \"marker\": {\"color\": \"#FFA15A\", \"size\": [60.802801], \"sizemode\": \"area\", \"sizeref\": 0.2483606316444444, \"symbol\": \"circle\"}, \"mode\": \"markers\", \"name\": \"Country_or_Area=United Kingdom\", \"showlegend\": true, \"x\": [44360.09392], \"xaxis\": \"x\", \"y\": [0.59], \"yaxis\": \"y\", \"type\": \"scatter\"}, {\"hoverlabel\": {\"namelength\": 0}, \"hovertemplate\": \"Country_or_Area=Brazil<br>Year=2006<br>GDP_Per_Capita(USD)=%{x}<br>Mortality_Rate(%)=%{y}<br>Population(mn)=%{marker.size}\", \"legendgroup\": \"Country_or_Area=Brazil\", \"marker\": {\"color\": \"#19d3f3\", \"size\": [189.012412], \"sizemode\": \"area\", \"sizeref\": 0.2483606316444444, \"symbol\": \"circle\"}, \"mode\": \"markers\", \"name\": \"Country_or_Area=Brazil\", \"showlegend\": true, \"x\": [5860.073947999999], \"xaxis\": \"x\", \"y\": [2.45], \"yaxis\": \"y\", \"type\": \"scatter\"}, {\"hoverlabel\": {\"namelength\": 0}, \"hovertemplate\": \"Country_or_Area=Zimbabwe<br>Year=2006<br>GDP_Per_Capita(USD)=%{x}<br>Mortality_Rate(%)=%{y}<br>Population(mn)=%{marker.size}\", \"legendgroup\": \"Country_or_Area=Zimbabwe\", \"marker\": {\"color\": \"#FF6692\", \"size\": [13.124267000000001], \"sizemode\": \"area\", \"sizeref\": 0.2483606316444444, \"symbol\": \"circle\"}, \"mode\": \"markers\", \"name\": \"Country_or_Area=Zimbabwe\", \"showlegend\": true, \"x\": [539.6821146000001], \"xaxis\": \"x\", \"y\": [10.02], \"yaxis\": \"y\", \"type\": \"scatter\"}, {\"hoverlabel\": {\"namelength\": 0}, \"hovertemplate\": \"Country_or_Area=Namibia<br>Year=2006<br>GDP_Per_Capita(USD)=%{x}<br>Mortality_Rate(%)=%{y}<br>Population(mn)=%{marker.size}\", \"legendgroup\": \"Country_or_Area=Namibia\", \"marker\": {\"color\": \"#B6E880\", \"size\": [2.055734], \"sizemode\": \"area\", \"sizeref\": 0.2483606316444444, \"symbol\": \"circle\"}, \"mode\": \"markers\", \"name\": \"Country_or_Area=Namibia\", \"showlegend\": true, \"x\": [3811.284308], \"xaxis\": \"x\", \"y\": [6.7], \"yaxis\": \"y\", \"type\": \"scatter\"}, {\"hoverlabel\": {\"namelength\": 0}, \"hovertemplate\": \"Country_or_Area=Nigeria<br>Year=2006<br>GDP_Per_Capita(USD)=%{x}<br>Mortality_Rate(%)=%{y}<br>Population(mn)=%{marker.size}\", \"legendgroup\": \"Country_or_Area=Nigeria\", \"marker\": {\"color\": \"#FF97FF\", \"size\": [142.614094], \"sizemode\": \"area\", \"sizeref\": 0.2483606316444444, \"symbol\": \"circle\"}, \"mode\": \"markers\", \"name\": \"Country_or_Area=Nigeria\", \"showlegend\": true, \"x\": [1639.808566], \"xaxis\": \"x\", \"y\": [15.19], \"yaxis\": \"y\", \"type\": \"scatter\"}, {\"hoverlabel\": {\"namelength\": 0}, \"hovertemplate\": \"Country_or_Area=Thailand<br>Year=2006<br>GDP_Per_Capita(USD)=%{x}<br>Mortality_Rate(%)=%{y}<br>Population(mn)=%{marker.size}\", \"legendgroup\": \"Country_or_Area=Thailand\", \"marker\": {\"color\": \"#636efa\", \"size\": [65.824164], \"sizemode\": \"area\", \"sizeref\": 0.2483606316444444, \"symbol\": \"circle\"}, \"mode\": \"markers\", \"name\": \"Country_or_Area=Thailand\", \"showlegend\": true, \"x\": [3368.954068], \"xaxis\": \"x\", \"y\": [1.74], \"yaxis\": \"y\", \"type\": \"scatter\"}, {\"hoverlabel\": {\"namelength\": 0}, \"hovertemplate\": \"Country_or_Area=France<br>Year=2006<br>GDP_Per_Capita(USD)=%{x}<br>Mortality_Rate(%)=%{y}<br>Population(mn)=%{marker.size}\", \"legendgroup\": \"Country_or_Area=France\", \"marker\": {\"color\": \"#EF553B\", \"size\": [61.592884], \"sizemode\": \"area\", \"sizeref\": 0.2483606316444444, \"symbol\": \"circle\"}, \"mode\": \"markers\", \"name\": \"Country_or_Area=France\", \"showlegend\": true, \"x\": [36437.99263], \"xaxis\": \"x\", \"y\": [0.45], \"yaxis\": \"y\", \"type\": \"scatter\"}, {\"hoverlabel\": {\"namelength\": 0}, \"hovertemplate\": \"Country_or_Area=Germany<br>Year=2006<br>GDP_Per_Capita(USD)=%{x}<br>Mortality_Rate(%)=%{y}<br>Population(mn)=%{marker.size}\", \"legendgroup\": \"Country_or_Area=Germany\", \"marker\": {\"color\": \"#00cc96\", \"size\": [81.540353], \"sizemode\": \"area\", \"sizeref\": 0.2483606316444444, \"symbol\": \"circle\"}, \"mode\": \"markers\", \"name\": \"Country_or_Area=Germany\", \"showlegend\": true, \"x\": [36819.71512], \"xaxis\": \"x\", \"y\": [0.46], \"yaxis\": \"y\", \"type\": \"scatter\"}, {\"hoverlabel\": {\"namelength\": 0}, \"hovertemplate\": \"Country_or_Area=Mexico<br>Year=2006<br>GDP_Per_Capita(USD)=%{x}<br>Mortality_Rate(%)=%{y}<br>Population(mn)=%{marker.size}\", \"legendgroup\": \"Country_or_Area=Mexico\", \"marker\": {\"color\": \"#ab63fa\", \"size\": [110.092378], \"sizemode\": \"area\", \"sizeref\": 0.2483606316444444, \"symbol\": \"circle\"}, \"mode\": \"markers\", \"name\": \"Country_or_Area=Mexico\", \"showlegend\": true, \"x\": [8859.681484], \"xaxis\": \"x\", \"y\": [1.98], \"yaxis\": \"y\", \"type\": \"scatter\"}], \"name\": \"2006\"}, {\"data\": [{\"hoverlabel\": {\"namelength\": 0}, \"hovertemplate\": \"Country_or_Area=Afghanistan<br>Year=2007<br>GDP_Per_Capita(USD)=%{x}<br>Mortality_Rate(%)=%{y}<br>Population(mn)=%{marker.size}\", \"legendgroup\": \"Country_or_Area=Afghanistan\", \"marker\": {\"color\": \"#636efa\", \"size\": [26.616791999999997], \"sizemode\": \"area\", \"sizeref\": 0.2483606316444444, \"symbol\": \"circle\"}, \"mode\": \"markers\", \"name\": \"Country_or_Area=Afghanistan\", \"showlegend\": true, \"x\": [389.98558639999993], \"xaxis\": \"x\", \"y\": [10.22], \"yaxis\": \"y\", \"type\": \"scatter\"}, {\"hoverlabel\": {\"namelength\": 0}, \"hovertemplate\": \"Country_or_Area=China<br>Year=2007<br>GDP_Per_Capita(USD)=%{x}<br>Mortality_Rate(%)=%{y}<br>Population(mn)=%{marker.size}\", \"legendgroup\": \"Country_or_Area=China\", \"marker\": {\"color\": \"#EF553B\", \"size\": [1336.800506], \"sizemode\": \"area\", \"sizeref\": 0.2483606316444444, \"symbol\": \"circle\"}, \"mode\": \"markers\", \"name\": \"Country_or_Area=China\", \"showlegend\": true, \"x\": [2657.213918], \"xaxis\": \"x\", \"y\": [2.0], \"yaxis\": \"y\", \"type\": \"scatter\"}, {\"hoverlabel\": {\"namelength\": 0}, \"hovertemplate\": \"Country_or_Area=India<br>Year=2007<br>GDP_Per_Capita(USD)=%{x}<br>Mortality_Rate(%)=%{y}<br>Population(mn)=%{marker.size}\", \"legendgroup\": \"Country_or_Area=India\", \"marker\": {\"color\": \"#00cc96\", \"size\": [1179.681239], \"sizemode\": \"area\", \"sizeref\": 0.2483606316444444, \"symbol\": \"circle\"}, \"mode\": \"markers\", \"name\": \"Country_or_Area=India\", \"showlegend\": true, \"x\": [1004.275095], \"xaxis\": \"x\", \"y\": [6.8], \"yaxis\": \"y\", \"type\": \"scatter\"}, {\"hoverlabel\": {\"namelength\": 0}, \"hovertemplate\": \"Country_or_Area=United States<br>Year=2007<br>GDP_Per_Capita(USD)=%{x}<br>Mortality_Rate(%)=%{y}<br>Population(mn)=%{marker.size}\", \"legendgroup\": \"Country_or_Area=United States\", \"marker\": {\"color\": \"#ab63fa\", \"size\": [300.595175], \"sizemode\": \"area\", \"sizeref\": 0.2483606316444444, \"symbol\": \"circle\"}, \"mode\": \"markers\", \"name\": \"Country_or_Area=United States\", \"showlegend\": true, \"x\": [48077.484939999995], \"xaxis\": \"x\", \"y\": [0.78], \"yaxis\": \"y\", \"type\": \"scatter\"}, {\"hoverlabel\": {\"namelength\": 0}, \"hovertemplate\": \"Country_or_Area=United Kingdom<br>Year=2007<br>GDP_Per_Capita(USD)=%{x}<br>Mortality_Rate(%)=%{y}<br>Population(mn)=%{marker.size}\", \"legendgroup\": \"Country_or_Area=United Kingdom\", \"marker\": {\"color\": \"#FFA15A\", \"size\": [61.41466], \"sizemode\": \"area\", \"sizeref\": 0.2483606316444444, \"symbol\": \"circle\"}, \"mode\": \"markers\", \"name\": \"Country_or_Area=United Kingdom\", \"showlegend\": true, \"x\": [50220.785939999994], \"xaxis\": \"x\", \"y\": [0.58], \"yaxis\": \"y\", \"type\": \"scatter\"}, {\"hoverlabel\": {\"namelength\": 0}, \"hovertemplate\": \"Country_or_Area=Brazil<br>Year=2007<br>GDP_Per_Capita(USD)=%{x}<br>Mortality_Rate(%)=%{y}<br>Population(mn)=%{marker.size}\", \"legendgroup\": \"Country_or_Area=Brazil\", \"marker\": {\"color\": \"#19d3f3\", \"size\": [191.02663700000002], \"sizemode\": \"area\", \"sizeref\": 0.2483606316444444, \"symbol\": \"circle\"}, \"mode\": \"markers\", \"name\": \"Country_or_Area=Brazil\", \"showlegend\": true, \"x\": [7313.714303], \"xaxis\": \"x\", \"y\": [2.32], \"yaxis\": \"y\", \"type\": \"scatter\"}, {\"hoverlabel\": {\"namelength\": 0}, \"hovertemplate\": \"Country_or_Area=Zimbabwe<br>Year=2007<br>GDP_Per_Capita(USD)=%{x}<br>Mortality_Rate(%)=%{y}<br>Population(mn)=%{marker.size}\", \"legendgroup\": \"Country_or_Area=Zimbabwe\", \"marker\": {\"color\": \"#FF6692\", \"size\": [13.329908999999999], \"sizemode\": \"area\", \"sizeref\": 0.2483606316444444, \"symbol\": \"circle\"}, \"mode\": \"markers\", \"name\": \"Country_or_Area=Zimbabwe\", \"showlegend\": true, \"x\": [527.5914617999999], \"xaxis\": \"x\", \"y\": [10.0], \"yaxis\": \"y\", \"type\": \"scatter\"}, {\"hoverlabel\": {\"namelength\": 0}, \"hovertemplate\": \"Country_or_Area=Namibia<br>Year=2007<br>GDP_Per_Capita(USD)=%{x}<br>Mortality_Rate(%)=%{y}<br>Population(mn)=%{marker.size}\", \"legendgroup\": \"Country_or_Area=Namibia\", \"marker\": {\"color\": \"#B6E880\", \"size\": [2.079915], \"sizemode\": \"area\", \"sizeref\": 0.2483606316444444, \"symbol\": \"circle\"}, \"mode\": \"markers\", \"name\": \"Country_or_Area=Namibia\", \"showlegend\": true, \"x\": [4202.531843], \"xaxis\": \"x\", \"y\": [6.37], \"yaxis\": \"y\", \"type\": \"scatter\"}, {\"hoverlabel\": {\"namelength\": 0}, \"hovertemplate\": \"Country_or_Area=Nigeria<br>Year=2007<br>GDP_Per_Capita(USD)=%{x}<br>Mortality_Rate(%)=%{y}<br>Population(mn)=%{marker.size}\", \"legendgroup\": \"Country_or_Area=Nigeria\", \"marker\": {\"color\": \"#FF97FF\", \"size\": [146.417024], \"sizemode\": \"area\", \"sizeref\": 0.2483606316444444, \"symbol\": \"circle\"}, \"mode\": \"markers\", \"name\": \"Country_or_Area=Nigeria\", \"showlegend\": true, \"x\": [1828.089882], \"xaxis\": \"x\", \"y\": [14.6], \"yaxis\": \"y\", \"type\": \"scatter\"}, {\"hoverlabel\": {\"namelength\": 0}, \"hovertemplate\": \"Country_or_Area=Thailand<br>Year=2007<br>GDP_Per_Capita(USD)=%{x}<br>Mortality_Rate(%)=%{y}<br>Population(mn)=%{marker.size}\", \"legendgroup\": \"Country_or_Area=Thailand\", \"marker\": {\"color\": \"#636efa\", \"size\": [66.195615], \"sizemode\": \"area\", \"sizeref\": 0.2483606316444444, \"symbol\": \"circle\"}, \"mode\": \"markers\", \"name\": \"Country_or_Area=Thailand\", \"showlegend\": true, \"x\": [3972.2087090000005], \"xaxis\": \"x\", \"y\": [1.67], \"yaxis\": \"y\", \"type\": \"scatter\"}, {\"hoverlabel\": {\"namelength\": 0}, \"hovertemplate\": \"Country_or_Area=France<br>Year=2007<br>GDP_Per_Capita(USD)=%{x}<br>Mortality_Rate(%)=%{y}<br>Population(mn)=%{marker.size}\", \"legendgroup\": \"Country_or_Area=France\", \"marker\": {\"color\": \"#EF553B\", \"size\": [61.96095], \"sizemode\": \"area\", \"sizeref\": 0.2483606316444444, \"symbol\": \"circle\"}, \"mode\": \"markers\", \"name\": \"Country_or_Area=France\", \"showlegend\": true, \"x\": [41504.46875], \"xaxis\": \"x\", \"y\": [0.44], \"yaxis\": \"y\", \"type\": \"scatter\"}, {\"hoverlabel\": {\"namelength\": 0}, \"hovertemplate\": \"Country_or_Area=Germany<br>Year=2007<br>GDP_Per_Capita(USD)=%{x}<br>Mortality_Rate(%)=%{y}<br>Population(mn)=%{marker.size}\", \"legendgroup\": \"Country_or_Area=Germany\", \"marker\": {\"color\": \"#00cc96\", \"size\": [81.34445699999999], \"sizemode\": \"area\", \"sizeref\": 0.2483606316444444, \"symbol\": \"circle\"}, \"mode\": \"markers\", \"name\": \"Country_or_Area=Germany\", \"showlegend\": true, \"x\": [42286.55564], \"xaxis\": \"x\", \"y\": [0.45], \"yaxis\": \"y\", \"type\": \"scatter\"}, {\"hoverlabel\": {\"namelength\": 0}, \"hovertemplate\": \"Country_or_Area=Mexico<br>Year=2007<br>GDP_Per_Capita(USD)=%{x}<br>Mortality_Rate(%)=%{y}<br>Population(mn)=%{marker.size}\", \"legendgroup\": \"Country_or_Area=Mexico\", \"marker\": {\"color\": \"#ab63fa\", \"size\": [111.83634599999999], \"sizemode\": \"area\", \"sizeref\": 0.2483606316444444, \"symbol\": \"circle\"}, \"mode\": \"markers\", \"name\": \"Country_or_Area=Mexico\", \"showlegend\": true, \"x\": [9412.835117], \"xaxis\": \"x\", \"y\": [1.9], \"yaxis\": \"y\", \"type\": \"scatter\"}], \"name\": \"2007\"}, {\"data\": [{\"hoverlabel\": {\"namelength\": 0}, \"hovertemplate\": \"Country_or_Area=Afghanistan<br>Year=2008<br>GDP_Per_Capita(USD)=%{x}<br>Mortality_Rate(%)=%{y}<br>Population(mn)=%{marker.size}\", \"legendgroup\": \"Country_or_Area=Afghanistan\", \"marker\": {\"color\": \"#636efa\", \"size\": [27.294031], \"sizemode\": \"area\", \"sizeref\": 0.2483606316444444, \"symbol\": \"circle\"}, \"mode\": \"markers\", \"name\": \"Country_or_Area=Afghanistan\", \"showlegend\": true, \"x\": [394.53610089999995], \"xaxis\": \"x\", \"y\": [9.82], \"yaxis\": \"y\", \"type\": \"scatter\"}, {\"hoverlabel\": {\"namelength\": 0}, \"hovertemplate\": \"Country_or_Area=China<br>Year=2008<br>GDP_Per_Capita(USD)=%{x}<br>Mortality_Rate(%)=%{y}<br>Population(mn)=%{marker.size}\", \"legendgroup\": \"Country_or_Area=China\", \"marker\": {\"color\": \"#EF553B\", \"size\": [1344.415227], \"sizemode\": \"area\", \"sizeref\": 0.2483606316444444, \"symbol\": \"circle\"}, \"mode\": \"markers\", \"name\": \"Country_or_Area=China\", \"showlegend\": true, \"x\": [3420.25034], \"xaxis\": \"x\", \"y\": [1.84], \"yaxis\": \"y\", \"type\": \"scatter\"}, {\"hoverlabel\": {\"namelength\": 0}, \"hovertemplate\": \"Country_or_Area=India<br>Year=2008<br>GDP_Per_Capita(USD)=%{x}<br>Mortality_Rate(%)=%{y}<br>Population(mn)=%{marker.size}\", \"legendgroup\": \"Country_or_Area=India\", \"marker\": {\"color\": \"#00cc96\", \"size\": [1197.146906], \"sizemode\": \"area\", \"sizeref\": 0.2483606316444444, \"symbol\": \"circle\"}, \"mode\": \"markers\", \"name\": \"Country_or_Area=India\", \"showlegend\": true, \"x\": [1058.742344], \"xaxis\": \"x\", \"y\": [6.49], \"yaxis\": \"y\", \"type\": \"scatter\"}, {\"hoverlabel\": {\"namelength\": 0}, \"hovertemplate\": \"Country_or_Area=United States<br>Year=2008<br>GDP_Per_Capita(USD)=%{x}<br>Mortality_Rate(%)=%{y}<br>Population(mn)=%{marker.size}\", \"legendgroup\": \"Country_or_Area=United States\", \"marker\": {\"color\": \"#ab63fa\", \"size\": [303.37406699999997], \"sizemode\": \"area\", \"sizeref\": 0.2483606316444444, \"symbol\": \"circle\"}, \"mode\": \"markers\", \"name\": \"Country_or_Area=United States\", \"showlegend\": true, \"x\": [48497.37206], \"xaxis\": \"x\", \"y\": [0.76], \"yaxis\": \"y\", \"type\": \"scatter\"}, {\"hoverlabel\": {\"namelength\": 0}, \"hovertemplate\": \"Country_or_Area=United Kingdom<br>Year=2008<br>GDP_Per_Capita(USD)=%{x}<br>Mortality_Rate(%)=%{y}<br>Population(mn)=%{marker.size}\", \"legendgroup\": \"Country_or_Area=United Kingdom\", \"marker\": {\"color\": \"#FFA15A\", \"size\": [62.076221], \"sizemode\": \"area\", \"sizeref\": 0.2483606316444444, \"symbol\": \"circle\"}, \"mode\": \"markers\", \"name\": \"Country_or_Area=United Kingdom\", \"showlegend\": true, \"x\": [46784.69302], \"xaxis\": \"x\", \"y\": [0.56], \"yaxis\": \"y\", \"type\": \"scatter\"}, {\"hoverlabel\": {\"namelength\": 0}, \"hovertemplate\": \"Country_or_Area=Brazil<br>Year=2008<br>GDP_Per_Capita(USD)=%{x}<br>Mortality_Rate(%)=%{y}<br>Population(mn)=%{marker.size}\", \"legendgroup\": \"Country_or_Area=Brazil\", \"marker\": {\"color\": \"#19d3f3\", \"size\": [192.979029], \"sizemode\": \"area\", \"sizeref\": 0.2483606316444444, \"symbol\": \"circle\"}, \"mode\": \"markers\", \"name\": \"Country_or_Area=Brazil\", \"showlegend\": true, \"x\": [8787.770364], \"xaxis\": \"x\", \"y\": [2.19], \"yaxis\": \"y\", \"type\": \"scatter\"}, {\"hoverlabel\": {\"namelength\": 0}, \"hovertemplate\": \"Country_or_Area=Zimbabwe<br>Year=2008<br>GDP_Per_Capita(USD)=%{x}<br>Mortality_Rate(%)=%{y}<br>Population(mn)=%{marker.size}\", \"legendgroup\": \"Country_or_Area=Zimbabwe\", \"marker\": {\"color\": \"#FF6692\", \"size\": [13.558469], \"sizemode\": \"area\", \"sizeref\": 0.2483606316444444, \"symbol\": \"circle\"}, \"mode\": \"markers\", \"name\": \"Country_or_Area=Zimbabwe\", \"showlegend\": true, \"x\": [475.7577497], \"xaxis\": \"x\", \"y\": [9.8], \"yaxis\": \"y\", \"type\": \"scatter\"}, {\"hoverlabel\": {\"namelength\": 0}, \"hovertemplate\": \"Country_or_Area=Namibia<br>Year=2008<br>GDP_Per_Capita(USD)=%{x}<br>Mortality_Rate(%)=%{y}<br>Population(mn)=%{marker.size}\", \"legendgroup\": \"Country_or_Area=Namibia\", \"marker\": {\"color\": \"#B6E880\", \"size\": [2.106375], \"sizemode\": \"area\", \"sizeref\": 0.2483606316444444, \"symbol\": \"circle\"}, \"mode\": \"markers\", \"name\": \"Country_or_Area=Namibia\", \"showlegend\": true, \"x\": [4029.0536829999996], \"xaxis\": \"x\", \"y\": [6.09], \"yaxis\": \"y\", \"type\": \"scatter\"}, {\"hoverlabel\": {\"namelength\": 0}, \"hovertemplate\": \"Country_or_Area=Nigeria<br>Year=2008<br>GDP_Per_Capita(USD)=%{x}<br>Mortality_Rate(%)=%{y}<br>Population(mn)=%{marker.size}\", \"legendgroup\": \"Country_or_Area=Nigeria\", \"marker\": {\"color\": \"#FF97FF\", \"size\": [150.34739], \"sizemode\": \"area\", \"sizeref\": 0.2483606316444444, \"symbol\": \"circle\"}, \"mode\": \"markers\", \"name\": \"Country_or_Area=Nigeria\", \"showlegend\": true, \"x\": [2225.382886], \"xaxis\": \"x\", \"y\": [14.03], \"yaxis\": \"y\", \"type\": \"scatter\"}, {\"hoverlabel\": {\"namelength\": 0}, \"hovertemplate\": \"Country_or_Area=Thailand<br>Year=2008<br>GDP_Per_Capita(USD)=%{x}<br>Mortality_Rate(%)=%{y}<br>Population(mn)=%{marker.size}\", \"legendgroup\": \"Country_or_Area=Thailand\", \"marker\": {\"color\": \"#636efa\", \"size\": [66.54576], \"sizemode\": \"area\", \"sizeref\": 0.2483606316444444, \"symbol\": \"circle\"}, \"mode\": \"markers\", \"name\": \"Country_or_Area=Thailand\", \"showlegend\": true, \"x\": [4378.687322], \"xaxis\": \"x\", \"y\": [1.6], \"yaxis\": \"y\", \"type\": \"scatter\"}, {\"hoverlabel\": {\"namelength\": 0}, \"hovertemplate\": \"Country_or_Area=France<br>Year=2008<br>GDP_Per_Capita(USD)=%{x}<br>Mortality_Rate(%)=%{y}<br>Population(mn)=%{marker.size}\", \"legendgroup\": \"Country_or_Area=France\", \"marker\": {\"color\": \"#EF553B\", \"size\": [62.329567000000004], \"sizemode\": \"area\", \"sizeref\": 0.2483606316444444, \"symbol\": \"circle\"}, \"mode\": \"markers\", \"name\": \"Country_or_Area=France\", \"showlegend\": true, \"x\": [45311.79102], \"xaxis\": \"x\", \"y\": [0.43], \"yaxis\": \"y\", \"type\": \"scatter\"}, {\"hoverlabel\": {\"namelength\": 0}, \"hovertemplate\": \"Country_or_Area=Germany<br>Year=2008<br>GDP_Per_Capita(USD)=%{x}<br>Mortality_Rate(%)=%{y}<br>Population(mn)=%{marker.size}\", \"legendgroup\": \"Country_or_Area=Germany\", \"marker\": {\"color\": \"#00cc96\", \"size\": [81.130944], \"sizemode\": \"area\", \"sizeref\": 0.2483606316444444, \"symbol\": \"circle\"}, \"mode\": \"markers\", \"name\": \"Country_or_Area=Germany\", \"showlegend\": true, \"x\": [46252.44603], \"xaxis\": \"x\", \"y\": [0.44], \"yaxis\": \"y\", \"type\": \"scatter\"}, {\"hoverlabel\": {\"namelength\": 0}, \"hovertemplate\": \"Country_or_Area=Mexico<br>Year=2008<br>GDP_Per_Capita(USD)=%{x}<br>Mortality_Rate(%)=%{y}<br>Population(mn)=%{marker.size}\", \"legendgroup\": \"Country_or_Area=Mexico\", \"marker\": {\"color\": \"#ab63fa\", \"size\": [113.661809], \"sizemode\": \"area\", \"sizeref\": 0.2483606316444444, \"symbol\": \"circle\"}, \"mode\": \"markers\", \"name\": \"Country_or_Area=Mexico\", \"showlegend\": true, \"x\": [9765.702404000001], \"xaxis\": \"x\", \"y\": [1.84], \"yaxis\": \"y\", \"type\": \"scatter\"}], \"name\": \"2008\"}, {\"data\": [{\"hoverlabel\": {\"namelength\": 0}, \"hovertemplate\": \"Country_or_Area=Afghanistan<br>Year=2009<br>GDP_Per_Capita(USD)=%{x}<br>Mortality_Rate(%)=%{y}<br>Population(mn)=%{marker.size}\", \"legendgroup\": \"Country_or_Area=Afghanistan\", \"marker\": {\"color\": \"#636efa\", \"size\": [28.004331], \"sizemode\": \"area\", \"sizeref\": 0.2483606316444444, \"symbol\": \"circle\"}, \"mode\": \"markers\", \"name\": \"Country_or_Area=Afghanistan\", \"showlegend\": true, \"x\": [448.95191789999996], \"xaxis\": \"x\", \"y\": [9.41], \"yaxis\": \"y\", \"type\": \"scatter\"}, {\"hoverlabel\": {\"namelength\": 0}, \"hovertemplate\": \"Country_or_Area=China<br>Year=2009<br>GDP_Per_Capita(USD)=%{x}<br>Mortality_Rate(%)=%{y}<br>Population(mn)=%{marker.size}\", \"legendgroup\": \"Country_or_Area=China\", \"marker\": {\"color\": \"#EF553B\", \"size\": [1352.068091], \"sizemode\": \"area\", \"sizeref\": 0.2483606316444444, \"symbol\": \"circle\"}, \"mode\": \"markers\", \"name\": \"Country_or_Area=China\", \"showlegend\": true, \"x\": [3779.352581], \"xaxis\": \"x\", \"y\": [1.7], \"yaxis\": \"y\", \"type\": \"scatter\"}, {\"hoverlabel\": {\"namelength\": 0}, \"hovertemplate\": \"Country_or_Area=India<br>Year=2009<br>GDP_Per_Capita(USD)=%{x}<br>Mortality_Rate(%)=%{y}<br>Population(mn)=%{marker.size}\", \"legendgroup\": \"Country_or_Area=India\", \"marker\": {\"color\": \"#00cc96\", \"size\": [1214.270132], \"sizemode\": \"area\", \"sizeref\": 0.2483606316444444, \"symbol\": \"circle\"}, \"mode\": \"markers\", \"name\": \"Country_or_Area=India\", \"showlegend\": true, \"x\": [1083.144677], \"xaxis\": \"x\", \"y\": [6.19], \"yaxis\": \"y\", \"type\": \"scatter\"}, {\"hoverlabel\": {\"namelength\": 0}, \"hovertemplate\": \"Country_or_Area=United States<br>Year=2009<br>GDP_Per_Capita(USD)=%{x}<br>Mortality_Rate(%)=%{y}<br>Population(mn)=%{marker.size}\", \"legendgroup\": \"Country_or_Area=United States\", \"marker\": {\"color\": \"#ab63fa\", \"size\": [306.076362], \"sizemode\": \"area\", \"sizeref\": 0.2483606316444444, \"symbol\": \"circle\"}, \"mode\": \"markers\", \"name\": \"Country_or_Area=United States\", \"showlegend\": true, \"x\": [47206.95158], \"xaxis\": \"x\", \"y\": [0.75], \"yaxis\": \"y\", \"type\": \"scatter\"}, {\"hoverlabel\": {\"namelength\": 0}, \"hovertemplate\": \"Country_or_Area=United Kingdom<br>Year=2009<br>GDP_Per_Capita(USD)=%{x}<br>Mortality_Rate(%)=%{y}<br>Population(mn)=%{marker.size}\", \"legendgroup\": \"Country_or_Area=United Kingdom\", \"marker\": {\"color\": \"#FFA15A\", \"size\": [62.722606999999996], \"sizemode\": \"area\", \"sizeref\": 0.2483606316444444, \"symbol\": \"circle\"}, \"mode\": \"markers\", \"name\": \"Country_or_Area=United Kingdom\", \"showlegend\": true, \"x\": [38179.43866], \"xaxis\": \"x\", \"y\": [0.54], \"yaxis\": \"y\", \"type\": \"scatter\"}, {\"hoverlabel\": {\"namelength\": 0}, \"hovertemplate\": \"Country_or_Area=Brazil<br>Year=2009<br>GDP_Per_Capita(USD)=%{x}<br>Mortality_Rate(%)=%{y}<br>Population(mn)=%{marker.size}\", \"legendgroup\": \"Country_or_Area=Brazil\", \"marker\": {\"color\": \"#19d3f3\", \"size\": [194.895996], \"sizemode\": \"area\", \"sizeref\": 0.2483606316444444, \"symbol\": \"circle\"}, \"mode\": \"markers\", \"name\": \"Country_or_Area=Brazil\", \"showlegend\": true, \"x\": [8553.260859999999], \"xaxis\": \"x\", \"y\": [2.08], \"yaxis\": \"y\", \"type\": \"scatter\"}, {\"hoverlabel\": {\"namelength\": 0}, \"hovertemplate\": \"Country_or_Area=Zimbabwe<br>Year=2009<br>GDP_Per_Capita(USD)=%{x}<br>Mortality_Rate(%)=%{y}<br>Population(mn)=%{marker.size}\", \"legendgroup\": \"Country_or_Area=Zimbabwe\", \"marker\": {\"color\": \"#FF6692\", \"size\": [13.810599], \"sizemode\": \"area\", \"sizeref\": 0.2483606316444444, \"symbol\": \"circle\"}, \"mode\": \"markers\", \"name\": \"Country_or_Area=Zimbabwe\", \"showlegend\": true, \"x\": [624.2722425], \"xaxis\": \"x\", \"y\": [9.49], \"yaxis\": \"y\", \"type\": \"scatter\"}, {\"hoverlabel\": {\"namelength\": 0}, \"hovertemplate\": \"Country_or_Area=Namibia<br>Year=2009<br>GDP_Per_Capita(USD)=%{x}<br>Mortality_Rate(%)=%{y}<br>Population(mn)=%{marker.size}\", \"legendgroup\": \"Country_or_Area=Namibia\", \"marker\": {\"color\": \"#B6E880\", \"size\": [2.1370400000000003], \"sizemode\": \"area\", \"sizeref\": 0.2483606316444444, \"symbol\": \"circle\"}, \"mode\": \"markers\", \"name\": \"Country_or_Area=Namibia\", \"showlegend\": true, \"x\": [4153.5105539999995], \"xaxis\": \"x\", \"y\": [5.86], \"yaxis\": \"y\", \"type\": \"scatter\"}, {\"hoverlabel\": {\"namelength\": 0}, \"hovertemplate\": \"Country_or_Area=Nigeria<br>Year=2009<br>GDP_Per_Capita(USD)=%{x}<br>Mortality_Rate(%)=%{y}<br>Population(mn)=%{marker.size}\", \"legendgroup\": \"Country_or_Area=Nigeria\", \"marker\": {\"color\": \"#FF97FF\", \"size\": [154.402181], \"sizemode\": \"area\", \"sizeref\": 0.2483606316444444, \"symbol\": \"circle\"}, \"mode\": \"markers\", \"name\": \"Country_or_Area=Nigeria\", \"showlegend\": true, \"x\": [1765.10467], \"xaxis\": \"x\", \"y\": [13.48], \"yaxis\": \"y\", \"type\": \"scatter\"}, {\"hoverlabel\": {\"namelength\": 0}, \"hovertemplate\": \"Country_or_Area=Thailand<br>Year=2009<br>GDP_Per_Capita(USD)=%{x}<br>Mortality_Rate(%)=%{y}<br>Population(mn)=%{marker.size}\", \"legendgroup\": \"Country_or_Area=Thailand\", \"marker\": {\"color\": \"#636efa\", \"size\": [66.881867], \"sizemode\": \"area\", \"sizeref\": 0.2483606316444444, \"symbol\": \"circle\"}, \"mode\": \"markers\", \"name\": \"Country_or_Area=Thailand\", \"showlegend\": true, \"x\": [4212.058081], \"xaxis\": \"x\", \"y\": [1.54], \"yaxis\": \"y\", \"type\": \"scatter\"}, {\"hoverlabel\": {\"namelength\": 0}, \"hovertemplate\": \"Country_or_Area=France<br>Year=2009<br>GDP_Per_Capita(USD)=%{x}<br>Mortality_Rate(%)=%{y}<br>Population(mn)=%{marker.size}\", \"legendgroup\": \"Country_or_Area=France\", \"marker\": {\"color\": \"#EF553B\", \"size\": [62.687521], \"sizemode\": \"area\", \"sizeref\": 0.2483606316444444, \"symbol\": \"circle\"}, \"mode\": \"markers\", \"name\": \"Country_or_Area=France\", \"showlegend\": true, \"x\": [41521.45655], \"xaxis\": \"x\", \"y\": [0.43], \"yaxis\": \"y\", \"type\": \"scatter\"}, {\"hoverlabel\": {\"namelength\": 0}, \"hovertemplate\": \"Country_or_Area=Germany<br>Year=2009<br>GDP_Per_Capita(USD)=%{x}<br>Mortality_Rate(%)=%{y}<br>Population(mn)=%{marker.size}\", \"legendgroup\": \"Country_or_Area=Germany\", \"marker\": {\"color\": \"#00cc96\", \"size\": [80.965612], \"sizemode\": \"area\", \"sizeref\": 0.2483606316444444, \"symbol\": \"circle\"}, \"mode\": \"markers\", \"name\": \"Country_or_Area=Germany\", \"showlegend\": true, \"x\": [42212.972069999996], \"xaxis\": \"x\", \"y\": [0.43], \"yaxis\": \"y\", \"type\": \"scatter\"}, {\"hoverlabel\": {\"namelength\": 0}, \"hovertemplate\": \"Country_or_Area=Mexico<br>Year=2009<br>GDP_Per_Capita(USD)=%{x}<br>Mortality_Rate(%)=%{y}<br>Population(mn)=%{marker.size}\", \"legendgroup\": \"Country_or_Area=Mexico\", \"marker\": {\"color\": \"#ab63fa\", \"size\": [115.505228], \"sizemode\": \"area\", \"sizeref\": 0.2483606316444444, \"symbol\": \"circle\"}, \"mode\": \"markers\", \"name\": \"Country_or_Area=Mexico\", \"showlegend\": true, \"x\": [7792.262145000001], \"xaxis\": \"x\", \"y\": [1.78], \"yaxis\": \"y\", \"type\": \"scatter\"}], \"name\": \"2009\"}, {\"data\": [{\"hoverlabel\": {\"namelength\": 0}, \"hovertemplate\": \"Country_or_Area=Afghanistan<br>Year=2010<br>GDP_Per_Capita(USD)=%{x}<br>Mortality_Rate(%)=%{y}<br>Population(mn)=%{marker.size}\", \"legendgroup\": \"Country_or_Area=Afghanistan\", \"marker\": {\"color\": \"#636efa\", \"size\": [28.803167], \"sizemode\": \"area\", \"sizeref\": 0.2483606316444444, \"symbol\": \"circle\"}, \"mode\": \"markers\", \"name\": \"Country_or_Area=Afghanistan\", \"showlegend\": true, \"x\": [558.1997646000001], \"xaxis\": \"x\", \"y\": [9.02], \"yaxis\": \"y\", \"type\": \"scatter\"}, {\"hoverlabel\": {\"namelength\": 0}, \"hovertemplate\": \"Country_or_Area=China<br>Year=2010<br>GDP_Per_Capita(USD)=%{x}<br>Mortality_Rate(%)=%{y}<br>Population(mn)=%{marker.size}\", \"legendgroup\": \"Country_or_Area=China\", \"marker\": {\"color\": \"#EF553B\", \"size\": [1359.7551019999999], \"sizemode\": \"area\", \"sizeref\": 0.2483606316444444, \"symbol\": \"circle\"}, \"mode\": \"markers\", \"name\": \"Country_or_Area=China\", \"showlegend\": true, \"x\": [4486.57869], \"xaxis\": \"x\", \"y\": [1.57], \"yaxis\": \"y\", \"type\": \"scatter\"}, {\"hoverlabel\": {\"namelength\": 0}, \"hovertemplate\": \"Country_or_Area=India<br>Year=2010<br>GDP_Per_Capita(USD)=%{x}<br>Mortality_Rate(%)=%{y}<br>Population(mn)=%{marker.size}\", \"legendgroup\": \"Country_or_Area=India\", \"marker\": {\"color\": \"#00cc96\", \"size\": [1230.980691], \"sizemode\": \"area\", \"sizeref\": 0.2483606316444444, \"symbol\": \"circle\"}, \"mode\": \"markers\", \"name\": \"Country_or_Area=India\", \"showlegend\": true, \"x\": [1356.3330310000001], \"xaxis\": \"x\", \"y\": [5.88], \"yaxis\": \"y\", \"type\": \"scatter\"}, {\"hoverlabel\": {\"namelength\": 0}, \"hovertemplate\": \"Country_or_Area=United States<br>Year=2010<br>GDP_Per_Capita(USD)=%{x}<br>Mortality_Rate(%)=%{y}<br>Population(mn)=%{marker.size}\", \"legendgroup\": \"Country_or_Area=United States\", \"marker\": {\"color\": \"#ab63fa\", \"size\": [308.641391], \"sizemode\": \"area\", \"sizeref\": 0.2483606316444444, \"symbol\": \"circle\"}, \"mode\": \"markers\", \"name\": \"Country_or_Area=United States\", \"showlegend\": true, \"x\": [48574.34044], \"xaxis\": \"x\", \"y\": [0.73], \"yaxis\": \"y\", \"type\": \"scatter\"}, {\"hoverlabel\": {\"namelength\": 0}, \"hovertemplate\": \"Country_or_Area=United Kingdom<br>Year=2010<br>GDP_Per_Capita(USD)=%{x}<br>Mortality_Rate(%)=%{y}<br>Population(mn)=%{marker.size}\", \"legendgroup\": \"Country_or_Area=United Kingdom\", \"marker\": {\"color\": \"#FFA15A\", \"size\": [63.30684300000001], \"sizemode\": \"area\", \"sizeref\": 0.2483606316444444, \"symbol\": \"circle\"}, \"mode\": \"markers\", \"name\": \"Country_or_Area=United Kingdom\", \"showlegend\": true, \"x\": [38746.20102], \"xaxis\": \"x\", \"y\": [0.52], \"yaxis\": \"y\", \"type\": \"scatter\"}, {\"hoverlabel\": {\"namelength\": 0}, \"hovertemplate\": \"Country_or_Area=Brazil<br>Year=2010<br>GDP_Per_Capita(USD)=%{x}<br>Mortality_Rate(%)=%{y}<br>Population(mn)=%{marker.size}\", \"legendgroup\": \"Country_or_Area=Brazil\", \"marker\": {\"color\": \"#19d3f3\", \"size\": [196.796269], \"sizemode\": \"area\", \"sizeref\": 0.2483606316444444, \"symbol\": \"circle\"}, \"mode\": \"markers\", \"name\": \"Country_or_Area=Brazil\", \"showlegend\": true, \"x\": [11223.98367], \"xaxis\": \"x\", \"y\": [1.98], \"yaxis\": \"y\", \"type\": \"scatter\"}, {\"hoverlabel\": {\"namelength\": 0}, \"hovertemplate\": \"Country_or_Area=Zimbabwe<br>Year=2010<br>GDP_Per_Capita(USD)=%{x}<br>Mortality_Rate(%)=%{y}<br>Population(mn)=%{marker.size}\", \"legendgroup\": \"Country_or_Area=Zimbabwe\", \"marker\": {\"color\": \"#FF6692\", \"size\": [14.086317000000001], \"sizemode\": \"area\", \"sizeref\": 0.2483606316444444, \"symbol\": \"circle\"}, \"mode\": \"markers\", \"name\": \"Country_or_Area=Zimbabwe\", \"showlegend\": true, \"x\": [719.979517], \"xaxis\": \"x\", \"y\": [8.99], \"yaxis\": \"y\", \"type\": \"scatter\"}, {\"hoverlabel\": {\"namelength\": 0}, \"hovertemplate\": \"Country_or_Area=Namibia<br>Year=2010<br>GDP_Per_Capita(USD)=%{x}<br>Mortality_Rate(%)=%{y}<br>Population(mn)=%{marker.size}\", \"legendgroup\": \"Country_or_Area=Namibia\", \"marker\": {\"color\": \"#B6E880\", \"size\": [2.1731700000000003], \"sizemode\": \"area\", \"sizeref\": 0.2483606316444444, \"symbol\": \"circle\"}, \"mode\": \"markers\", \"name\": \"Country_or_Area=Namibia\", \"showlegend\": true, \"x\": [5191.567506], \"xaxis\": \"x\", \"y\": [5.6], \"yaxis\": \"y\", \"type\": \"scatter\"}, {\"hoverlabel\": {\"namelength\": 0}, \"hovertemplate\": \"Country_or_Area=Nigeria<br>Year=2010<br>GDP_Per_Capita(USD)=%{x}<br>Mortality_Rate(%)=%{y}<br>Population(mn)=%{marker.size}\", \"legendgroup\": \"Country_or_Area=Nigeria\", \"marker\": {\"color\": \"#FF97FF\", \"size\": [158.578261], \"sizemode\": \"area\", \"sizeref\": 0.2483606316444444, \"symbol\": \"circle\"}, \"mode\": \"markers\", \"name\": \"Country_or_Area=Nigeria\", \"showlegend\": true, \"x\": [2327.320283], \"xaxis\": \"x\", \"y\": [12.96], \"yaxis\": \"y\", \"type\": \"scatter\"}, {\"hoverlabel\": {\"namelength\": 0}, \"hovertemplate\": \"Country_or_Area=Thailand<br>Year=2010<br>GDP_Per_Capita(USD)=%{x}<br>Mortality_Rate(%)=%{y}<br>Population(mn)=%{marker.size}\", \"legendgroup\": \"Country_or_Area=Thailand\", \"marker\": {\"color\": \"#636efa\", \"size\": [67.20880799999999], \"sizemode\": \"area\", \"sizeref\": 0.2483606316444444, \"symbol\": \"circle\"}, \"mode\": \"markers\", \"name\": \"Country_or_Area=Thailand\", \"showlegend\": true, \"x\": [5075.301375999999], \"xaxis\": \"x\", \"y\": [1.49], \"yaxis\": \"y\", \"type\": \"scatter\"}, {\"hoverlabel\": {\"namelength\": 0}, \"hovertemplate\": \"Country_or_Area=France<br>Year=2010<br>GDP_Per_Capita(USD)=%{x}<br>Mortality_Rate(%)=%{y}<br>Population(mn)=%{marker.size}\", \"legendgroup\": \"Country_or_Area=France\", \"marker\": {\"color\": \"#EF553B\", \"size\": [63.026740000000004], \"sizemode\": \"area\", \"sizeref\": 0.2483606316444444, \"symbol\": \"circle\"}, \"mode\": \"markers\", \"name\": \"Country_or_Area=France\", \"showlegend\": true, \"x\": [40564.55085], \"xaxis\": \"x\", \"y\": [0.42], \"yaxis\": \"y\", \"type\": \"scatter\"}, {\"hoverlabel\": {\"namelength\": 0}, \"hovertemplate\": \"Country_or_Area=Germany<br>Year=2010<br>GDP_Per_Capita(USD)=%{x}<br>Mortality_Rate(%)=%{y}<br>Population(mn)=%{marker.size}\", \"legendgroup\": \"Country_or_Area=Germany\", \"marker\": {\"color\": \"#00cc96\", \"size\": [80.894785], \"sizemode\": \"area\", \"sizeref\": 0.2483606316444444, \"symbol\": \"circle\"}, \"mode\": \"markers\", \"name\": \"Country_or_Area=Germany\", \"showlegend\": true, \"x\": [42241.22189], \"xaxis\": \"x\", \"y\": [0.42], \"yaxis\": \"y\", \"type\": \"scatter\"}, {\"hoverlabel\": {\"namelength\": 0}, \"hovertemplate\": \"Country_or_Area=Mexico<br>Year=2010<br>GDP_Per_Capita(USD)=%{x}<br>Mortality_Rate(%)=%{y}<br>Population(mn)=%{marker.size}\", \"legendgroup\": \"Country_or_Area=Mexico\", \"marker\": {\"color\": \"#ab63fa\", \"size\": [117.318941], \"sizemode\": \"area\", \"sizeref\": 0.2483606316444444, \"symbol\": \"circle\"}, \"mode\": \"markers\", \"name\": \"Country_or_Area=Mexico\", \"showlegend\": true, \"x\": [9016.451981], \"xaxis\": \"x\", \"y\": [1.73], \"yaxis\": \"y\", \"type\": \"scatter\"}], \"name\": \"2010\"}, {\"data\": [{\"hoverlabel\": {\"namelength\": 0}, \"hovertemplate\": \"Country_or_Area=Afghanistan<br>Year=2011<br>GDP_Per_Capita(USD)=%{x}<br>Mortality_Rate(%)=%{y}<br>Population(mn)=%{marker.size}\", \"legendgroup\": \"Country_or_Area=Afghanistan\", \"marker\": {\"color\": \"#636efa\", \"size\": [29.708599], \"sizemode\": \"area\", \"sizeref\": 0.2483606316444444, \"symbol\": \"circle\"}, \"mode\": \"markers\", \"name\": \"Country_or_Area=Afghanistan\", \"showlegend\": true, \"x\": [645.2834634999999], \"xaxis\": \"x\", \"y\": [8.64], \"yaxis\": \"y\", \"type\": \"scatter\"}, {\"hoverlabel\": {\"namelength\": 0}, \"hovertemplate\": \"Country_or_Area=China<br>Year=2011<br>GDP_Per_Capita(USD)=%{x}<br>Mortality_Rate(%)=%{y}<br>Population(mn)=%{marker.size}\", \"legendgroup\": \"Country_or_Area=China\", \"marker\": {\"color\": \"#EF553B\", \"size\": [1367.480264], \"sizemode\": \"area\", \"sizeref\": 0.2483606316444444, \"symbol\": \"circle\"}, \"mode\": \"markers\", \"name\": \"Country_or_Area=China\", \"showlegend\": true, \"x\": [5537.629963], \"xaxis\": \"x\", \"y\": [1.46], \"yaxis\": \"y\", \"type\": \"scatter\"}, {\"hoverlabel\": {\"namelength\": 0}, \"hovertemplate\": \"Country_or_Area=India<br>Year=2011<br>GDP_Per_Capita(USD)=%{x}<br>Mortality_Rate(%)=%{y}<br>Population(mn)=%{marker.size}\", \"legendgroup\": \"Country_or_Area=India\", \"marker\": {\"color\": \"#00cc96\", \"size\": [1247.236029], \"sizemode\": \"area\", \"sizeref\": 0.2483606316444444, \"symbol\": \"circle\"}, \"mode\": \"markers\", \"name\": \"Country_or_Area=India\", \"showlegend\": true, \"x\": [1500.85306], \"xaxis\": \"x\", \"y\": [5.59], \"yaxis\": \"y\", \"type\": \"scatter\"}, {\"hoverlabel\": {\"namelength\": 0}, \"hovertemplate\": \"Country_or_Area=United States<br>Year=2011<br>GDP_Per_Capita(USD)=%{x}<br>Mortality_Rate(%)=%{y}<br>Population(mn)=%{marker.size}\", \"legendgroup\": \"Country_or_Area=United States\", \"marker\": {\"color\": \"#ab63fa\", \"size\": [311.051373], \"sizemode\": \"area\", \"sizeref\": 0.2483606316444444, \"symbol\": \"circle\"}, \"mode\": \"markers\", \"name\": \"Country_or_Area=United States\", \"showlegend\": true, \"x\": [49967.89389], \"xaxis\": \"x\", \"y\": [0.72], \"yaxis\": \"y\", \"type\": \"scatter\"}, {\"hoverlabel\": {\"namelength\": 0}, \"hovertemplate\": \"Country_or_Area=United Kingdom<br>Year=2011<br>GDP_Per_Capita(USD)=%{x}<br>Mortality_Rate(%)=%{y}<br>Population(mn)=%{marker.size}\", \"legendgroup\": \"Country_or_Area=United Kingdom\", \"marker\": {\"color\": \"#FFA15A\", \"size\": [63.811882], \"sizemode\": \"area\", \"sizeref\": 0.2483606316444444, \"symbol\": \"circle\"}, \"mode\": \"markers\", \"name\": \"Country_or_Area=United Kingdom\", \"showlegend\": true, \"x\": [41291.61546], \"xaxis\": \"x\", \"y\": [0.5], \"yaxis\": \"y\", \"type\": \"scatter\"}, {\"hoverlabel\": {\"namelength\": 0}, \"hovertemplate\": \"Country_or_Area=Brazil<br>Year=2011<br>GDP_Per_Capita(USD)=%{x}<br>Mortality_Rate(%)=%{y}<br>Population(mn)=%{marker.size}\", \"legendgroup\": \"Country_or_Area=Brazil\", \"marker\": {\"color\": \"#19d3f3\", \"size\": [198.68668799999998], \"sizemode\": \"area\", \"sizeref\": 0.2483606316444444, \"symbol\": \"circle\"}, \"mode\": \"markers\", \"name\": \"Country_or_Area=Brazil\", \"showlegend\": true, \"x\": [13167.24655], \"xaxis\": \"x\", \"y\": [1.89], \"yaxis\": \"y\", \"type\": \"scatter\"}, {\"hoverlabel\": {\"namelength\": 0}, \"hovertemplate\": \"Country_or_Area=Zimbabwe<br>Year=2011<br>GDP_Per_Capita(USD)=%{x}<br>Mortality_Rate(%)=%{y}<br>Population(mn)=%{marker.size}\", \"legendgroup\": \"Country_or_Area=Zimbabwe\", \"marker\": {\"color\": \"#FF6692\", \"size\": [14.386648999999998], \"sizemode\": \"area\", \"sizeref\": 0.2483606316444444, \"symbol\": \"circle\"}, \"mode\": \"markers\", \"name\": \"Country_or_Area=Zimbabwe\", \"showlegend\": true, \"x\": [840.9498799], \"xaxis\": \"x\", \"y\": [8.38], \"yaxis\": \"y\", \"type\": \"scatter\"}, {\"hoverlabel\": {\"namelength\": 0}, \"hovertemplate\": \"Country_or_Area=Namibia<br>Year=2011<br>GDP_Per_Capita(USD)=%{x}<br>Mortality_Rate(%)=%{y}<br>Population(mn)=%{marker.size}\", \"legendgroup\": \"Country_or_Area=Namibia\", \"marker\": {\"color\": \"#B6E880\", \"size\": [2.215621], \"sizemode\": \"area\", \"sizeref\": 0.2483606316444444, \"symbol\": \"circle\"}, \"mode\": \"markers\", \"name\": \"Country_or_Area=Namibia\", \"showlegend\": true, \"x\": [5600.946603], \"xaxis\": \"x\", \"y\": [5.4], \"yaxis\": \"y\", \"type\": \"scatter\"}, {\"hoverlabel\": {\"namelength\": 0}, \"hovertemplate\": \"Country_or_Area=Nigeria<br>Year=2011<br>GDP_Per_Capita(USD)=%{x}<br>Mortality_Rate(%)=%{y}<br>Population(mn)=%{marker.size}\", \"legendgroup\": \"Country_or_Area=Nigeria\", \"marker\": {\"color\": \"#FF97FF\", \"size\": [162.877076], \"sizemode\": \"area\", \"sizeref\": 0.2483606316444444, \"symbol\": \"circle\"}, \"mode\": \"markers\", \"name\": \"Country_or_Area=Nigeria\", \"showlegend\": true, \"x\": [2542.378883], \"xaxis\": \"x\", \"y\": [12.46], \"yaxis\": \"y\", \"type\": \"scatter\"}, {\"hoverlabel\": {\"namelength\": 0}, \"hovertemplate\": \"Country_or_Area=Thailand<br>Year=2011<br>GDP_Per_Capita(USD)=%{x}<br>Mortality_Rate(%)=%{y}<br>Population(mn)=%{marker.size}\", \"legendgroup\": \"Country_or_Area=Thailand\", \"marker\": {\"color\": \"#636efa\", \"size\": [67.53013], \"sizemode\": \"area\", \"sizeref\": 0.2483606316444444, \"symbol\": \"circle\"}, \"mode\": \"markers\", \"name\": \"Country_or_Area=Thailand\", \"showlegend\": true, \"x\": [5491.153979], \"xaxis\": \"x\", \"y\": [1.44], \"yaxis\": \"y\", \"type\": \"scatter\"}, {\"hoverlabel\": {\"namelength\": 0}, \"hovertemplate\": \"Country_or_Area=France<br>Year=2011<br>GDP_Per_Capita(USD)=%{x}<br>Mortality_Rate(%)=%{y}<br>Population(mn)=%{marker.size}\", \"legendgroup\": \"Country_or_Area=France\", \"marker\": {\"color\": \"#EF553B\", \"size\": [63.343577], \"sizemode\": \"area\", \"sizeref\": 0.2483606316444444, \"symbol\": \"circle\"}, \"mode\": \"markers\", \"name\": \"Country_or_Area=France\", \"showlegend\": true, \"x\": [43698.22068], \"xaxis\": \"x\", \"y\": [0.42], \"yaxis\": \"y\", \"type\": \"scatter\"}, {\"hoverlabel\": {\"namelength\": 0}, \"hovertemplate\": \"Country_or_Area=Germany<br>Year=2011<br>GDP_Per_Capita(USD)=%{x}<br>Mortality_Rate(%)=%{y}<br>Population(mn)=%{marker.size}\", \"legendgroup\": \"Country_or_Area=Germany\", \"marker\": {\"color\": \"#00cc96\", \"size\": [80.93398], \"sizemode\": \"area\", \"sizeref\": 0.2483606316444444, \"symbol\": \"circle\"}, \"mode\": \"markers\", \"name\": \"Country_or_Area=Germany\", \"showlegend\": true, \"x\": [46429.17945], \"xaxis\": \"x\", \"y\": [0.41], \"yaxis\": \"y\", \"type\": \"scatter\"}, {\"hoverlabel\": {\"namelength\": 0}, \"hovertemplate\": \"Country_or_Area=Mexico<br>Year=2011<br>GDP_Per_Capita(USD)=%{x}<br>Mortality_Rate(%)=%{y}<br>Population(mn)=%{marker.size}\", \"legendgroup\": \"Country_or_Area=Mexico\", \"marker\": {\"color\": \"#ab63fa\", \"size\": [119.09001699999999], \"sizemode\": \"area\", \"sizeref\": 0.2483606316444444, \"symbol\": \"circle\"}, \"mode\": \"markers\", \"name\": \"Country_or_Area=Mexico\", \"showlegend\": true, \"x\": [9912.562414], \"xaxis\": \"x\", \"y\": [1.68], \"yaxis\": \"y\", \"type\": \"scatter\"}], \"name\": \"2011\"}, {\"data\": [{\"hoverlabel\": {\"namelength\": 0}, \"hovertemplate\": \"Country_or_Area=Afghanistan<br>Year=2012<br>GDP_Per_Capita(USD)=%{x}<br>Mortality_Rate(%)=%{y}<br>Population(mn)=%{marker.size}\", \"legendgroup\": \"Country_or_Area=Afghanistan\", \"marker\": {\"color\": \"#636efa\", \"size\": [30.696958000000002], \"sizemode\": \"area\", \"sizeref\": 0.2483606316444444, \"symbol\": \"circle\"}, \"mode\": \"markers\", \"name\": \"Country_or_Area=Afghanistan\", \"showlegend\": true, \"x\": [694.8856184], \"xaxis\": \"x\", \"y\": [8.28], \"yaxis\": \"y\", \"type\": \"scatter\"}, {\"hoverlabel\": {\"namelength\": 0}, \"hovertemplate\": \"Country_or_Area=China<br>Year=2012<br>GDP_Per_Capita(USD)=%{x}<br>Mortality_Rate(%)=%{y}<br>Population(mn)=%{marker.size}\", \"legendgroup\": \"Country_or_Area=China\", \"marker\": {\"color\": \"#EF553B\", \"size\": [1375.198619], \"sizemode\": \"area\", \"sizeref\": 0.2483606316444444, \"symbol\": \"circle\"}, \"mode\": \"markers\", \"name\": \"Country_or_Area=China\", \"showlegend\": true, \"x\": [6224.9207], \"xaxis\": \"x\", \"y\": [1.35], \"yaxis\": \"y\", \"type\": \"scatter\"}, {\"hoverlabel\": {\"namelength\": 0}, \"hovertemplate\": \"Country_or_Area=India<br>Year=2012<br>GDP_Per_Capita(USD)=%{x}<br>Mortality_Rate(%)=%{y}<br>Population(mn)=%{marker.size}\", \"legendgroup\": \"Country_or_Area=India\", \"marker\": {\"color\": \"#00cc96\", \"size\": [1263.065852], \"sizemode\": \"area\", \"sizeref\": 0.2483606316444444, \"symbol\": \"circle\"}, \"mode\": \"markers\", \"name\": \"Country_or_Area=India\", \"showlegend\": true, \"x\": [1473.301833], \"xaxis\": \"x\", \"y\": [5.3], \"yaxis\": \"y\", \"type\": \"scatter\"}, {\"hoverlabel\": {\"namelength\": 0}, \"hovertemplate\": \"Country_or_Area=United States<br>Year=2012<br>GDP_Per_Capita(USD)=%{x}<br>Mortality_Rate(%)=%{y}<br>Population(mn)=%{marker.size}\", \"legendgroup\": \"Country_or_Area=United States\", \"marker\": {\"color\": \"#ab63fa\", \"size\": [313.335423], \"sizemode\": \"area\", \"sizeref\": 0.2483606316444444, \"symbol\": \"circle\"}, \"mode\": \"markers\", \"name\": \"Country_or_Area=United States\", \"showlegend\": true, \"x\": [51692.230789999994], \"xaxis\": \"x\", \"y\": [0.7], \"yaxis\": \"y\", \"type\": \"scatter\"}, {\"hoverlabel\": {\"namelength\": 0}, \"hovertemplate\": \"Country_or_Area=United Kingdom<br>Year=2012<br>GDP_Per_Capita(USD)=%{x}<br>Mortality_Rate(%)=%{y}<br>Population(mn)=%{marker.size}\", \"legendgroup\": \"Country_or_Area=United Kingdom\", \"marker\": {\"color\": \"#FFA15A\", \"size\": [64.25033], \"sizemode\": \"area\", \"sizeref\": 0.2483606316444444, \"symbol\": \"circle\"}, \"mode\": \"markers\", \"name\": \"Country_or_Area=United Kingdom\", \"showlegend\": true, \"x\": [41659.01432], \"xaxis\": \"x\", \"y\": [0.48], \"yaxis\": \"y\", \"type\": \"scatter\"}, {\"hoverlabel\": {\"namelength\": 0}, \"hovertemplate\": \"Country_or_Area=Brazil<br>Year=2012<br>GDP_Per_Capita(USD)=%{x}<br>Mortality_Rate(%)=%{y}<br>Population(mn)=%{marker.size}\", \"legendgroup\": \"Country_or_Area=Brazil\", \"marker\": {\"color\": \"#19d3f3\", \"size\": [200.56098300000002], \"sizemode\": \"area\", \"sizeref\": 0.2483606316444444, \"symbol\": \"circle\"}, \"mode\": \"markers\", \"name\": \"Country_or_Area=Brazil\", \"showlegend\": true, \"x\": [12291.6644], \"xaxis\": \"x\", \"y\": [1.8], \"yaxis\": \"y\", \"type\": \"scatter\"}, {\"hoverlabel\": {\"namelength\": 0}, \"hovertemplate\": \"Country_or_Area=Zimbabwe<br>Year=2012<br>GDP_Per_Capita(USD)=%{x}<br>Mortality_Rate(%)=%{y}<br>Population(mn)=%{marker.size}\", \"legendgroup\": \"Country_or_Area=Zimbabwe\", \"marker\": {\"color\": \"#FF6692\", \"size\": [14.710826], \"sizemode\": \"area\", \"sizeref\": 0.2483606316444444, \"symbol\": \"circle\"}, \"mode\": \"markers\", \"name\": \"Country_or_Area=Zimbabwe\", \"showlegend\": true, \"x\": [968.1638714], \"xaxis\": \"x\", \"y\": [7.6], \"yaxis\": \"y\", \"type\": \"scatter\"}, {\"hoverlabel\": {\"namelength\": 0}, \"hovertemplate\": \"Country_or_Area=Namibia<br>Year=2012<br>GDP_Per_Capita(USD)=%{x}<br>Mortality_Rate(%)=%{y}<br>Population(mn)=%{marker.size}\", \"legendgroup\": \"Country_or_Area=Namibia\", \"marker\": {\"color\": \"#B6E880\", \"size\": [2.263934], \"sizemode\": \"area\", \"sizeref\": 0.2483606316444444, \"symbol\": \"circle\"}, \"mode\": \"markers\", \"name\": \"Country_or_Area=Namibia\", \"showlegend\": true, \"x\": [5749.373331000001], \"xaxis\": \"x\", \"y\": [5.34], \"yaxis\": \"y\", \"type\": \"scatter\"}, {\"hoverlabel\": {\"namelength\": 0}, \"hovertemplate\": \"Country_or_Area=Nigeria<br>Year=2012<br>GDP_Per_Capita(USD)=%{x}<br>Mortality_Rate(%)=%{y}<br>Population(mn)=%{marker.size}\", \"legendgroup\": \"Country_or_Area=Nigeria\", \"marker\": {\"color\": \"#FF97FF\", \"size\": [167.29728400000002], \"sizemode\": \"area\", \"sizeref\": 0.2483606316444444, \"symbol\": \"circle\"}, \"mode\": \"markers\", \"name\": \"Country_or_Area=Nigeria\", \"showlegend\": true, \"x\": [2755.28509], \"xaxis\": \"x\", \"y\": [12.0], \"yaxis\": \"y\", \"type\": \"scatter\"}, {\"hoverlabel\": {\"namelength\": 0}, \"hovertemplate\": \"Country_or_Area=Thailand<br>Year=2012<br>GDP_Per_Capita(USD)=%{x}<br>Mortality_Rate(%)=%{y}<br>Population(mn)=%{marker.size}\", \"legendgroup\": \"Country_or_Area=Thailand\", \"marker\": {\"color\": \"#636efa\", \"size\": [67.843979], \"sizemode\": \"area\", \"sizeref\": 0.2483606316444444, \"symbol\": \"circle\"}, \"mode\": \"markers\", \"name\": \"Country_or_Area=Thailand\", \"showlegend\": true, \"x\": [5859.889215], \"xaxis\": \"x\", \"y\": [1.39], \"yaxis\": \"y\", \"type\": \"scatter\"}, {\"hoverlabel\": {\"namelength\": 0}, \"hovertemplate\": \"Country_or_Area=France<br>Year=2012<br>GDP_Per_Capita(USD)=%{x}<br>Mortality_Rate(%)=%{y}<br>Population(mn)=%{marker.size}\", \"legendgroup\": \"Country_or_Area=France\", \"marker\": {\"color\": \"#EF553B\", \"size\": [63.639873], \"sizemode\": \"area\", \"sizeref\": 0.2483606316444444, \"symbol\": \"circle\"}, \"mode\": \"markers\", \"name\": \"Country_or_Area=France\", \"showlegend\": true, \"x\": [40790.63579], \"xaxis\": \"x\", \"y\": [0.41], \"yaxis\": \"y\", \"type\": \"scatter\"}, {\"hoverlabel\": {\"namelength\": 0}, \"hovertemplate\": \"Country_or_Area=Germany<br>Year=2012<br>GDP_Per_Capita(USD)=%{x}<br>Mortality_Rate(%)=%{y}<br>Population(mn)=%{marker.size}\", \"legendgroup\": \"Country_or_Area=Germany\", \"marker\": {\"color\": \"#00cc96\", \"size\": [81.06622800000001], \"sizemode\": \"area\", \"sizeref\": 0.2483606316444444, \"symbol\": \"circle\"}, \"mode\": \"markers\", \"name\": \"Country_or_Area=Germany\", \"showlegend\": true, \"x\": [43717.143339999995], \"xaxis\": \"x\", \"y\": [0.4], \"yaxis\": \"y\", \"type\": \"scatter\"}, {\"hoverlabel\": {\"namelength\": 0}, \"hovertemplate\": \"Country_or_Area=Mexico<br>Year=2012<br>GDP_Per_Capita(USD)=%{x}<br>Mortality_Rate(%)=%{y}<br>Population(mn)=%{marker.size}\", \"legendgroup\": \"Country_or_Area=Mexico\", \"marker\": {\"color\": \"#ab63fa\", \"size\": [120.82830700000001], \"sizemode\": \"area\", \"sizeref\": 0.2483606316444444, \"symbol\": \"circle\"}, \"mode\": \"markers\", \"name\": \"Country_or_Area=Mexico\", \"showlegend\": true, \"x\": [9940.500012], \"xaxis\": \"x\", \"y\": [1.63], \"yaxis\": \"y\", \"type\": \"scatter\"}], \"name\": \"2012\"}, {\"data\": [{\"hoverlabel\": {\"namelength\": 0}, \"hovertemplate\": \"Country_or_Area=Afghanistan<br>Year=2013<br>GDP_Per_Capita(USD)=%{x}<br>Mortality_Rate(%)=%{y}<br>Population(mn)=%{marker.size}\", \"legendgroup\": \"Country_or_Area=Afghanistan\", \"marker\": {\"color\": \"#636efa\", \"size\": [31.731688000000002], \"sizemode\": \"area\", \"sizeref\": 0.2483606316444444, \"symbol\": \"circle\"}, \"mode\": \"markers\", \"name\": \"Country_or_Area=Afghanistan\", \"showlegend\": true, \"x\": [681.0342147999999], \"xaxis\": \"x\", \"y\": [7.93], \"yaxis\": \"y\", \"type\": \"scatter\"}, {\"hoverlabel\": {\"namelength\": 0}, \"hovertemplate\": \"Country_or_Area=China<br>Year=2013<br>GDP_Per_Capita(USD)=%{x}<br>Mortality_Rate(%)=%{y}<br>Population(mn)=%{marker.size}\", \"legendgroup\": \"Country_or_Area=China\", \"marker\": {\"color\": \"#EF553B\", \"size\": [1382.7932119999998], \"sizemode\": \"area\", \"sizeref\": 0.2483606316444444, \"symbol\": \"circle\"}, \"mode\": \"markers\", \"name\": \"Country_or_Area=China\", \"showlegend\": true, \"x\": [6947.741982], \"xaxis\": \"x\", \"y\": [1.25], \"yaxis\": \"y\", \"type\": \"scatter\"}, {\"hoverlabel\": {\"namelength\": 0}, \"hovertemplate\": \"Country_or_Area=India<br>Year=2013<br>GDP_Per_Capita(USD)=%{x}<br>Mortality_Rate(%)=%{y}<br>Population(mn)=%{marker.size}\", \"legendgroup\": \"Country_or_Area=India\", \"marker\": {\"color\": \"#00cc96\", \"size\": [1278.562207], \"sizemode\": \"area\", \"sizeref\": 0.2483606316444444, \"symbol\": \"circle\"}, \"mode\": \"markers\", \"name\": \"Country_or_Area=India\", \"showlegend\": true, \"x\": [1499.38242], \"xaxis\": \"x\", \"y\": [5.03], \"yaxis\": \"y\", \"type\": \"scatter\"}, {\"hoverlabel\": {\"namelength\": 0}, \"hovertemplate\": \"Country_or_Area=United States<br>Year=2013<br>GDP_Per_Capita(USD)=%{x}<br>Mortality_Rate(%)=%{y}<br>Population(mn)=%{marker.size}\", \"legendgroup\": \"Country_or_Area=United States\", \"marker\": {\"color\": \"#ab63fa\", \"size\": [315.536676], \"sizemode\": \"area\", \"sizeref\": 0.2483606316444444, \"symbol\": \"circle\"}, \"mode\": \"markers\", \"name\": \"Country_or_Area=United States\", \"showlegend\": true, \"x\": [53194.61184], \"xaxis\": \"x\", \"y\": [0.69], \"yaxis\": \"y\", \"type\": \"scatter\"}, {\"hoverlabel\": {\"namelength\": 0}, \"hovertemplate\": \"Country_or_Area=United Kingdom<br>Year=2013<br>GDP_Per_Capita(USD)=%{x}<br>Mortality_Rate(%)=%{y}<br>Population(mn)=%{marker.size}\", \"legendgroup\": \"Country_or_Area=United Kingdom\", \"marker\": {\"color\": \"#FFA15A\", \"size\": [64.64111], \"sizemode\": \"area\", \"sizeref\": 0.2483606316444444, \"symbol\": \"circle\"}, \"mode\": \"markers\", \"name\": \"Country_or_Area=United Kingdom\", \"showlegend\": true, \"x\": [42597.73747], \"xaxis\": \"x\", \"y\": [0.46], \"yaxis\": \"y\", \"type\": \"scatter\"}, {\"hoverlabel\": {\"namelength\": 0}, \"hovertemplate\": \"Country_or_Area=Brazil<br>Year=2013<br>GDP_Per_Capita(USD)=%{x}<br>Mortality_Rate(%)=%{y}<br>Population(mn)=%{marker.size}\", \"legendgroup\": \"Country_or_Area=Brazil\", \"marker\": {\"color\": \"#19d3f3\", \"size\": [202.408632], \"sizemode\": \"area\", \"sizeref\": 0.2483606316444444, \"symbol\": \"circle\"}, \"mode\": \"markers\", \"name\": \"Country_or_Area=Brazil\", \"showlegend\": true, \"x\": [12216.96594], \"xaxis\": \"x\", \"y\": [1.72], \"yaxis\": \"y\", \"type\": \"scatter\"}, {\"hoverlabel\": {\"namelength\": 0}, \"hovertemplate\": \"Country_or_Area=Zimbabwe<br>Year=2013<br>GDP_Per_Capita(USD)=%{x}<br>Mortality_Rate(%)=%{y}<br>Population(mn)=%{marker.size}\", \"legendgroup\": \"Country_or_Area=Zimbabwe\", \"marker\": {\"color\": \"#FF6692\", \"size\": [15.054506], \"sizemode\": \"area\", \"sizeref\": 0.2483606316444444, \"symbol\": \"circle\"}, \"mode\": \"markers\", \"name\": \"Country_or_Area=Zimbabwe\", \"showlegend\": true, \"x\": [1026.388289], \"xaxis\": \"x\", \"y\": [7.0], \"yaxis\": \"y\", \"type\": \"scatter\"}, {\"hoverlabel\": {\"namelength\": 0}, \"hovertemplate\": \"Country_or_Area=Namibia<br>Year=2013<br>GDP_Per_Capita(USD)=%{x}<br>Mortality_Rate(%)=%{y}<br>Population(mn)=%{marker.size}\", \"legendgroup\": \"Country_or_Area=Namibia\", \"marker\": {\"color\": \"#B6E880\", \"size\": [2.31652], \"sizemode\": \"area\", \"sizeref\": 0.2483606316444444, \"symbol\": \"circle\"}, \"mode\": \"markers\", \"name\": \"Country_or_Area=Namibia\", \"showlegend\": true, \"x\": [5490.05793], \"xaxis\": \"x\", \"y\": [5.06], \"yaxis\": \"y\", \"type\": \"scatter\"}, {\"hoverlabel\": {\"namelength\": 0}, \"hovertemplate\": \"Country_or_Area=Nigeria<br>Year=2013<br>GDP_Per_Capita(USD)=%{x}<br>Mortality_Rate(%)=%{y}<br>Population(mn)=%{marker.size}\", \"legendgroup\": \"Country_or_Area=Nigeria\", \"marker\": {\"color\": \"#FF97FF\", \"size\": [171.829303], \"sizemode\": \"area\", \"sizeref\": 0.2483606316444444, \"symbol\": \"circle\"}, \"mode\": \"markers\", \"name\": \"Country_or_Area=Nigeria\", \"showlegend\": true, \"x\": [2996.963827], \"xaxis\": \"x\", \"y\": [11.56], \"yaxis\": \"y\", \"type\": \"scatter\"}, {\"hoverlabel\": {\"namelength\": 0}, \"hovertemplate\": \"Country_or_Area=Thailand<br>Year=2013<br>GDP_Per_Capita(USD)=%{x}<br>Mortality_Rate(%)=%{y}<br>Population(mn)=%{marker.size}\", \"legendgroup\": \"Country_or_Area=Thailand\", \"marker\": {\"color\": \"#636efa\", \"size\": [68.143065], \"sizemode\": \"area\", \"sizeref\": 0.2483606316444444, \"symbol\": \"circle\"}, \"mode\": \"markers\", \"name\": \"Country_or_Area=Thailand\", \"showlegend\": true, \"x\": [6168.401573], \"xaxis\": \"x\", \"y\": [1.34], \"yaxis\": \"y\", \"type\": \"scatter\"}, {\"hoverlabel\": {\"namelength\": 0}, \"hovertemplate\": \"Country_or_Area=France<br>Year=2013<br>GDP_Per_Capita(USD)=%{x}<br>Mortality_Rate(%)=%{y}<br>Population(mn)=%{marker.size}\", \"legendgroup\": \"Country_or_Area=France\", \"marker\": {\"color\": \"#EF553B\", \"size\": [63.919917000000005], \"sizemode\": \"area\", \"sizeref\": 0.2483606316444444, \"symbol\": \"circle\"}, \"mode\": \"markers\", \"name\": \"Country_or_Area=France\", \"showlegend\": true, \"x\": [42532.43887], \"xaxis\": \"x\", \"y\": [0.41], \"yaxis\": \"y\", \"type\": \"scatter\"}, {\"hoverlabel\": {\"namelength\": 0}, \"hovertemplate\": \"Country_or_Area=Germany<br>Year=2013<br>GDP_Per_Capita(USD)=%{x}<br>Mortality_Rate(%)=%{y}<br>Population(mn)=%{marker.size}\", \"legendgroup\": \"Country_or_Area=Germany\", \"marker\": {\"color\": \"#00cc96\", \"size\": [81.265139], \"sizemode\": \"area\", \"sizeref\": 0.2483606316444444, \"symbol\": \"circle\"}, \"mode\": \"markers\", \"name\": \"Country_or_Area=Germany\", \"showlegend\": true, \"x\": [46176.17775], \"xaxis\": \"x\", \"y\": [0.4], \"yaxis\": \"y\", \"type\": \"scatter\"}, {\"hoverlabel\": {\"namelength\": 0}, \"hovertemplate\": \"Country_or_Area=Mexico<br>Year=2013<br>GDP_Per_Capita(USD)=%{x}<br>Mortality_Rate(%)=%{y}<br>Population(mn)=%{marker.size}\", \"legendgroup\": \"Country_or_Area=Mexico\", \"marker\": {\"color\": \"#ab63fa\", \"size\": [122.535969], \"sizemode\": \"area\", \"sizeref\": 0.2483606316444444, \"symbol\": \"circle\"}, \"mode\": \"markers\", \"name\": \"Country_or_Area=Mexico\", \"showlegend\": true, \"x\": [10400.569940000001], \"xaxis\": \"x\", \"y\": [1.59], \"yaxis\": \"y\", \"type\": \"scatter\"}], \"name\": \"2013\"}, {\"data\": [{\"hoverlabel\": {\"namelength\": 0}, \"hovertemplate\": \"Country_or_Area=Afghanistan<br>Year=2014<br>GDP_Per_Capita(USD)=%{x}<br>Mortality_Rate(%)=%{y}<br>Population(mn)=%{marker.size}\", \"legendgroup\": \"Country_or_Area=Afghanistan\", \"marker\": {\"color\": \"#636efa\", \"size\": [32.75802], \"sizemode\": \"area\", \"sizeref\": 0.2483606316444444, \"symbol\": \"circle\"}, \"mode\": \"markers\", \"name\": \"Country_or_Area=Afghanistan\", \"showlegend\": true, \"x\": [651.1584256], \"xaxis\": \"x\", \"y\": [7.61], \"yaxis\": \"y\", \"type\": \"scatter\"}, {\"hoverlabel\": {\"namelength\": 0}, \"hovertemplate\": \"Country_or_Area=China<br>Year=2014<br>GDP_Per_Capita(USD)=%{x}<br>Mortality_Rate(%)=%{y}<br>Population(mn)=%{marker.size}\", \"legendgroup\": \"Country_or_Area=China\", \"marker\": {\"color\": \"#EF553B\", \"size\": [1390.110388], \"sizemode\": \"area\", \"sizeref\": 0.2483606316444444, \"symbol\": \"circle\"}, \"mode\": \"markers\", \"name\": \"Country_or_Area=China\", \"showlegend\": true, \"x\": [7540.635979000001], \"xaxis\": \"x\", \"y\": [1.15], \"yaxis\": \"y\", \"type\": \"scatter\"}, {\"hoverlabel\": {\"namelength\": 0}, \"hovertemplate\": \"Country_or_Area=India<br>Year=2014<br>GDP_Per_Capita(USD)=%{x}<br>Mortality_Rate(%)=%{y}<br>Population(mn)=%{marker.size}\", \"legendgroup\": \"Country_or_Area=India\", \"marker\": {\"color\": \"#00cc96\", \"size\": [1293.8592939999999], \"sizemode\": \"area\", \"sizeref\": 0.2483606316444444, \"symbol\": \"circle\"}, \"mode\": \"markers\", \"name\": \"Country_or_Area=India\", \"showlegend\": true, \"x\": [1578.950122], \"xaxis\": \"x\", \"y\": [4.77], \"yaxis\": \"y\", \"type\": \"scatter\"}, {\"hoverlabel\": {\"namelength\": 0}, \"hovertemplate\": \"Country_or_Area=United States<br>Year=2014<br>GDP_Per_Capita(USD)=%{x}<br>Mortality_Rate(%)=%{y}<br>Population(mn)=%{marker.size}\", \"legendgroup\": \"Country_or_Area=United States\", \"marker\": {\"color\": \"#ab63fa\", \"size\": [317.718779], \"sizemode\": \"area\", \"sizeref\": 0.2483606316444444, \"symbol\": \"circle\"}, \"mode\": \"markers\", \"name\": \"Country_or_Area=United States\", \"showlegend\": true, \"x\": [55148.6036], \"xaxis\": \"x\", \"y\": [0.68], \"yaxis\": \"y\", \"type\": \"scatter\"}, {\"hoverlabel\": {\"namelength\": 0}, \"hovertemplate\": \"Country_or_Area=United Kingdom<br>Year=2014<br>GDP_Per_Capita(USD)=%{x}<br>Mortality_Rate(%)=%{y}<br>Population(mn)=%{marker.size}\", \"legendgroup\": \"Country_or_Area=United Kingdom\", \"marker\": {\"color\": \"#FFA15A\", \"size\": [65.015686], \"sizemode\": \"area\", \"sizeref\": 0.2483606316444444, \"symbol\": \"circle\"}, \"mode\": \"markers\", \"name\": \"Country_or_Area=United Kingdom\", \"showlegend\": true, \"x\": [46676.88127], \"xaxis\": \"x\", \"y\": [0.45], \"yaxis\": \"y\", \"type\": \"scatter\"}, {\"hoverlabel\": {\"namelength\": 0}, \"hovertemplate\": \"Country_or_Area=Brazil<br>Year=2014<br>GDP_Per_Capita(USD)=%{x}<br>Mortality_Rate(%)=%{y}<br>Population(mn)=%{marker.size}\", \"legendgroup\": \"Country_or_Area=Brazil\", \"marker\": {\"color\": \"#19d3f3\", \"size\": [204.213133], \"sizemode\": \"area\", \"sizeref\": 0.2483606316444444, \"symbol\": \"circle\"}, \"mode\": \"markers\", \"name\": \"Country_or_Area=Brazil\", \"showlegend\": true, \"x\": [12026.86492], \"xaxis\": \"x\", \"y\": [1.64], \"yaxis\": \"y\", \"type\": \"scatter\"}, {\"hoverlabel\": {\"namelength\": 0}, \"hovertemplate\": \"Country_or_Area=Zimbabwe<br>Year=2014<br>GDP_Per_Capita(USD)=%{x}<br>Mortality_Rate(%)=%{y}<br>Population(mn)=%{marker.size}\", \"legendgroup\": \"Country_or_Area=Zimbabwe\", \"marker\": {\"color\": \"#FF6692\", \"size\": [15.411675], \"sizemode\": \"area\", \"sizeref\": 0.2483606316444444, \"symbol\": \"circle\"}, \"mode\": \"markers\", \"name\": \"Country_or_Area=Zimbabwe\", \"showlegend\": true, \"x\": [1031.104616], \"xaxis\": \"x\", \"y\": [6.43], \"yaxis\": \"y\", \"type\": \"scatter\"}, {\"hoverlabel\": {\"namelength\": 0}, \"hovertemplate\": \"Country_or_Area=Namibia<br>Year=2014<br>GDP_Per_Capita(USD)=%{x}<br>Mortality_Rate(%)=%{y}<br>Population(mn)=%{marker.size}\", \"legendgroup\": \"Country_or_Area=Namibia\", \"marker\": {\"color\": \"#B6E880\", \"size\": [2.3709919999999998], \"sizemode\": \"area\", \"sizeref\": 0.2483606316444444, \"symbol\": \"circle\"}, \"mode\": \"markers\", \"name\": \"Country_or_Area=Namibia\", \"showlegend\": true, \"x\": [5392.734738], \"xaxis\": \"x\", \"y\": [4.84], \"yaxis\": \"y\", \"type\": \"scatter\"}, {\"hoverlabel\": {\"namelength\": 0}, \"hovertemplate\": \"Country_or_Area=Nigeria<br>Year=2014<br>GDP_Per_Capita(USD)=%{x}<br>Mortality_Rate(%)=%{y}<br>Population(mn)=%{marker.size}\", \"legendgroup\": \"Country_or_Area=Nigeria\", \"marker\": {\"color\": \"#FF97FF\", \"size\": [176.460502], \"sizemode\": \"area\", \"sizeref\": 0.2483606316444444, \"symbol\": \"circle\"}, \"mode\": \"markers\", \"name\": \"Country_or_Area=Nigeria\", \"showlegend\": true, \"x\": [3221.6772690000003], \"xaxis\": \"x\", \"y\": [11.16], \"yaxis\": \"y\", \"type\": \"scatter\"}, {\"hoverlabel\": {\"namelength\": 0}, \"hovertemplate\": \"Country_or_Area=Somalia<br>Year=2014<br>GDP_Per_Capita(USD)=%{x}<br>Mortality_Rate(%)=%{y}<br>Population(mn)=%{marker.size}\", \"legendgroup\": \"Country_or_Area=Somalia\", \"marker\": {\"color\": \"#FECB52\", \"size\": [13.513125], \"sizemode\": \"area\", \"sizeref\": 0.2483606316444444, \"symbol\": \"circle\"}, \"mode\": \"markers\", \"name\": \"Country_or_Area=Somalia\", \"showlegend\": true, \"x\": [122.1838627], \"xaxis\": \"x\", \"y\": [14.07], \"yaxis\": \"y\", \"type\": \"scatter\"}, {\"hoverlabel\": {\"namelength\": 0}, \"hovertemplate\": \"Country_or_Area=Thailand<br>Year=2014<br>GDP_Per_Capita(USD)=%{x}<br>Mortality_Rate(%)=%{y}<br>Population(mn)=%{marker.size}\", \"legendgroup\": \"Country_or_Area=Thailand\", \"marker\": {\"color\": \"#636efa\", \"size\": [68.416772], \"sizemode\": \"area\", \"sizeref\": 0.2483606316444444, \"symbol\": \"circle\"}, \"mode\": \"markers\", \"name\": \"Country_or_Area=Thailand\", \"showlegend\": true, \"x\": [5953.787818], \"xaxis\": \"x\", \"y\": [1.3], \"yaxis\": \"y\", \"type\": \"scatter\"}, {\"hoverlabel\": {\"namelength\": 0}, \"hovertemplate\": \"Country_or_Area=France<br>Year=2014<br>GDP_Per_Capita(USD)=%{x}<br>Mortality_Rate(%)=%{y}<br>Population(mn)=%{marker.size}\", \"legendgroup\": \"Country_or_Area=France\", \"marker\": {\"color\": \"#EF553B\", \"size\": [64.190638], \"sizemode\": \"area\", \"sizeref\": 0.2483606316444444, \"symbol\": \"circle\"}, \"mode\": \"markers\", \"name\": \"Country_or_Area=France\", \"showlegend\": true, \"x\": [42966.69279], \"xaxis\": \"x\", \"y\": [0.4], \"yaxis\": \"y\", \"type\": \"scatter\"}, {\"hoverlabel\": {\"namelength\": 0}, \"hovertemplate\": \"Country_or_Area=Germany<br>Year=2014<br>GDP_Per_Capita(USD)=%{x}<br>Mortality_Rate(%)=%{y}<br>Population(mn)=%{marker.size}\", \"legendgroup\": \"Country_or_Area=Germany\", \"marker\": {\"color\": \"#00cc96\", \"size\": [81.48966], \"sizemode\": \"area\", \"sizeref\": 0.2483606316444444, \"symbol\": \"circle\"}, \"mode\": \"markers\", \"name\": \"Country_or_Area=Germany\", \"showlegend\": true, \"x\": [47843.204939999996], \"xaxis\": \"x\", \"y\": [0.39], \"yaxis\": \"y\", \"type\": \"scatter\"}, {\"hoverlabel\": {\"namelength\": 0}, \"hovertemplate\": \"Country_or_Area=Mexico<br>Year=2014<br>GDP_Per_Capita(USD)=%{x}<br>Mortality_Rate(%)=%{y}<br>Population(mn)=%{marker.size}\", \"legendgroup\": \"Country_or_Area=Mexico\", \"marker\": {\"color\": \"#ab63fa\", \"size\": [124.2216], \"sizemode\": \"area\", \"sizeref\": 0.2483606316444444, \"symbol\": \"circle\"}, \"mode\": \"markers\", \"name\": \"Country_or_Area=Mexico\", \"showlegend\": true, \"x\": [10582.45033], \"xaxis\": \"x\", \"y\": [1.54], \"yaxis\": \"y\", \"type\": \"scatter\"}], \"name\": \"2014\"}, {\"data\": [{\"hoverlabel\": {\"namelength\": 0}, \"hovertemplate\": \"Country_or_Area=Afghanistan<br>Year=2015<br>GDP_Per_Capita(USD)=%{x}<br>Mortality_Rate(%)=%{y}<br>Population(mn)=%{marker.size}\", \"legendgroup\": \"Country_or_Area=Afghanistan\", \"marker\": {\"color\": \"#636efa\", \"size\": [33.736494], \"sizemode\": \"area\", \"sizeref\": 0.2483606316444444, \"symbol\": \"circle\"}, \"mode\": \"markers\", \"name\": \"Country_or_Area=Afghanistan\", \"showlegend\": true, \"x\": [610.8545447], \"xaxis\": \"x\", \"y\": [7.32], \"yaxis\": \"y\", \"type\": \"scatter\"}, {\"hoverlabel\": {\"namelength\": 0}, \"hovertemplate\": \"Country_or_Area=China<br>Year=2015<br>GDP_Per_Capita(USD)=%{x}<br>Mortality_Rate(%)=%{y}<br>Population(mn)=%{marker.size}\", \"legendgroup\": \"Country_or_Area=China\", \"marker\": {\"color\": \"#EF553B\", \"size\": [1397.0285529999999], \"sizemode\": \"area\", \"sizeref\": 0.2483606316444444, \"symbol\": \"circle\"}, \"mode\": \"markers\", \"name\": \"Country_or_Area=China\", \"showlegend\": true, \"x\": [7920.157751999999], \"xaxis\": \"x\", \"y\": [1.07], \"yaxis\": \"y\", \"type\": \"scatter\"}, {\"hoverlabel\": {\"namelength\": 0}, \"hovertemplate\": \"Country_or_Area=India<br>Year=2015<br>GDP_Per_Capita(USD)=%{x}<br>Mortality_Rate(%)=%{y}<br>Population(mn)=%{marker.size}\", \"legendgroup\": \"Country_or_Area=India\", \"marker\": {\"color\": \"#00cc96\", \"size\": [1309.0539800000001], \"sizemode\": \"area\", \"sizeref\": 0.2483606316444444, \"symbol\": \"circle\"}, \"mode\": \"markers\", \"name\": \"Country_or_Area=India\", \"showlegend\": true, \"x\": [1638.9981369999998], \"xaxis\": \"x\", \"y\": [4.52], \"yaxis\": \"y\", \"type\": \"scatter\"}, {\"hoverlabel\": {\"namelength\": 0}, \"hovertemplate\": \"Country_or_Area=United States<br>Year=2015<br>GDP_Per_Capita(USD)=%{x}<br>Mortality_Rate(%)=%{y}<br>Population(mn)=%{marker.size}\", \"legendgroup\": \"Country_or_Area=United States\", \"marker\": {\"color\": \"#ab63fa\", \"size\": [319.929162], \"sizemode\": \"area\", \"sizeref\": 0.2483606316444444, \"symbol\": \"circle\"}, \"mode\": \"markers\", \"name\": \"Country_or_Area=United States\", \"showlegend\": true, \"x\": [56947.90961], \"xaxis\": \"x\", \"y\": [0.66], \"yaxis\": \"y\", \"type\": \"scatter\"}, {\"hoverlabel\": {\"namelength\": 0}, \"hovertemplate\": \"Country_or_Area=United Kingdom<br>Year=2015<br>GDP_Per_Capita(USD)=%{x}<br>Mortality_Rate(%)=%{y}<br>Population(mn)=%{marker.size}\", \"legendgroup\": \"Country_or_Area=United Kingdom\", \"marker\": {\"color\": \"#FFA15A\", \"size\": [65.39708], \"sizemode\": \"area\", \"sizeref\": 0.2483606316444444, \"symbol\": \"circle\"}, \"mode\": \"markers\", \"name\": \"Country_or_Area=United Kingdom\", \"showlegend\": true, \"x\": [44289.75402], \"xaxis\": \"x\", \"y\": [0.44], \"yaxis\": \"y\", \"type\": \"scatter\"}, {\"hoverlabel\": {\"namelength\": 0}, \"hovertemplate\": \"Country_or_Area=Brazil<br>Year=2015<br>GDP_Per_Capita(USD)=%{x}<br>Mortality_Rate(%)=%{y}<br>Population(mn)=%{marker.size}\", \"legendgroup\": \"Country_or_Area=Brazil\", \"marker\": {\"color\": \"#19d3f3\", \"size\": [205.962108], \"sizemode\": \"area\", \"sizeref\": 0.2483606316444444, \"symbol\": \"circle\"}, \"mode\": \"markers\", \"name\": \"Country_or_Area=Brazil\", \"showlegend\": true, \"x\": [8750.211469], \"xaxis\": \"x\", \"y\": [1.57], \"yaxis\": \"y\", \"type\": \"scatter\"}, {\"hoverlabel\": {\"namelength\": 0}, \"hovertemplate\": \"Country_or_Area=Zimbabwe<br>Year=2015<br>GDP_Per_Capita(USD)=%{x}<br>Mortality_Rate(%)=%{y}<br>Population(mn)=%{marker.size}\", \"legendgroup\": \"Country_or_Area=Zimbabwe\", \"marker\": {\"color\": \"#FF6692\", \"size\": [15.777451000000001], \"sizemode\": \"area\", \"sizeref\": 0.2483606316444444, \"symbol\": \"circle\"}, \"mode\": \"markers\", \"name\": \"Country_or_Area=Zimbabwe\", \"showlegend\": true, \"x\": [1033.4158419999999], \"xaxis\": \"x\", \"y\": [5.99], \"yaxis\": \"y\", \"type\": \"scatter\"}, {\"hoverlabel\": {\"namelength\": 0}, \"hovertemplate\": \"Country_or_Area=Namibia<br>Year=2015<br>GDP_Per_Capita(USD)=%{x}<br>Mortality_Rate(%)=%{y}<br>Population(mn)=%{marker.size}\", \"legendgroup\": \"Country_or_Area=Namibia\", \"marker\": {\"color\": \"#B6E880\", \"size\": [2.425561], \"sizemode\": \"area\", \"sizeref\": 0.2483606316444444, \"symbol\": \"circle\"}, \"mode\": \"markers\", \"name\": \"Country_or_Area=Namibia\", \"showlegend\": true, \"x\": [4805.755356000001], \"xaxis\": \"x\", \"y\": [4.8], \"yaxis\": \"y\", \"type\": \"scatter\"}, {\"hoverlabel\": {\"namelength\": 0}, \"hovertemplate\": \"Country_or_Area=Nigeria<br>Year=2015<br>GDP_Per_Capita(USD)=%{x}<br>Mortality_Rate(%)=%{y}<br>Population(mn)=%{marker.size}\", \"legendgroup\": \"Country_or_Area=Nigeria\", \"marker\": {\"color\": \"#FF97FF\", \"size\": [181.18174399999998], \"sizemode\": \"area\", \"sizeref\": 0.2483606316444444, \"symbol\": \"circle\"}, \"mode\": \"markers\", \"name\": \"Country_or_Area=Nigeria\", \"showlegend\": true, \"x\": [2729.759594], \"xaxis\": \"x\", \"y\": [10.8], \"yaxis\": \"y\", \"type\": \"scatter\"}, {\"hoverlabel\": {\"namelength\": 0}, \"hovertemplate\": \"Country_or_Area=Somalia<br>Year=2015<br>GDP_Per_Capita(USD)=%{x}<br>Mortality_Rate(%)=%{y}<br>Population(mn)=%{marker.size}\", \"legendgroup\": \"Country_or_Area=Somalia\", \"marker\": {\"color\": \"#FECB52\", \"size\": [13.908129], \"sizemode\": \"area\", \"sizeref\": 0.2483606316444444, \"symbol\": \"circle\"}, \"mode\": \"markers\", \"name\": \"Country_or_Area=Somalia\", \"showlegend\": true, \"x\": [104.599205], \"xaxis\": \"x\", \"y\": [13.67], \"yaxis\": \"y\", \"type\": \"scatter\"}, {\"hoverlabel\": {\"namelength\": 0}, \"hovertemplate\": \"Country_or_Area=Thailand<br>Year=2015<br>GDP_Per_Capita(USD)=%{x}<br>Mortality_Rate(%)=%{y}<br>Population(mn)=%{marker.size}\", \"legendgroup\": \"Country_or_Area=Thailand\", \"marker\": {\"color\": \"#636efa\", \"size\": [68.6576], \"sizemode\": \"area\", \"sizeref\": 0.2483606316444444, \"symbol\": \"circle\"}, \"mode\": \"markers\", \"name\": \"Country_or_Area=Thailand\", \"showlegend\": true, \"x\": [5846.3917630000005], \"xaxis\": \"x\", \"y\": [1.26], \"yaxis\": \"y\", \"type\": \"scatter\"}, {\"hoverlabel\": {\"namelength\": 0}, \"hovertemplate\": \"Country_or_Area=France<br>Year=2015<br>GDP_Per_Capita(USD)=%{x}<br>Mortality_Rate(%)=%{y}<br>Population(mn)=%{marker.size}\", \"legendgroup\": \"Country_or_Area=France\", \"marker\": {\"color\": \"#EF553B\", \"size\": [64.457201], \"sizemode\": \"area\", \"sizeref\": 0.2483606316444444, \"symbol\": \"circle\"}, \"mode\": \"markers\", \"name\": \"Country_or_Area=France\", \"showlegend\": true, \"x\": [36573.73928], \"xaxis\": \"x\", \"y\": [0.39], \"yaxis\": \"y\", \"type\": \"scatter\"}, {\"hoverlabel\": {\"namelength\": 0}, \"hovertemplate\": \"Country_or_Area=Germany<br>Year=2015<br>GDP_Per_Capita(USD)=%{x}<br>Mortality_Rate(%)=%{y}<br>Population(mn)=%{marker.size}\", \"legendgroup\": \"Country_or_Area=Germany\", \"marker\": {\"color\": \"#00cc96\", \"size\": [81.707789], \"sizemode\": \"area\", \"sizeref\": 0.2483606316444444, \"symbol\": \"circle\"}, \"mode\": \"markers\", \"name\": \"Country_or_Area=Germany\", \"showlegend\": true, \"x\": [41383.929], \"xaxis\": \"x\", \"y\": [0.39], \"yaxis\": \"y\", \"type\": \"scatter\"}, {\"hoverlabel\": {\"namelength\": 0}, \"hovertemplate\": \"Country_or_Area=Mexico<br>Year=2015<br>GDP_Per_Capita(USD)=%{x}<br>Mortality_Rate(%)=%{y}<br>Population(mn)=%{marker.size}\", \"legendgroup\": \"Country_or_Area=Mexico\", \"marker\": {\"color\": \"#ab63fa\", \"size\": [125.89094899999999], \"sizemode\": \"area\", \"sizeref\": 0.2483606316444444, \"symbol\": \"circle\"}, \"mode\": \"markers\", \"name\": \"Country_or_Area=Mexico\", \"showlegend\": true, \"x\": [9298.262434999999], \"xaxis\": \"x\", \"y\": [1.5], \"yaxis\": \"y\", \"type\": \"scatter\"}], \"name\": \"2015\"}]);\n",
       "                        }).then(function(){\n",
       "                            \n",
       "var gd = document.getElementById('e3645883-9299-45ab-bad2-d640dd4664c2');\n",
       "var x = new MutationObserver(function (mutations, observer) {{\n",
       "        var display = window.getComputedStyle(gd).display;\n",
       "        if (!display || display === 'none') {{\n",
       "            console.log([gd, 'removed!']);\n",
       "            Plotly.purge(gd);\n",
       "            observer.disconnect();\n",
       "        }}\n",
       "}});\n",
       "\n",
       "// Listen for the removal of the full notebook cells\n",
       "var notebookContainer = gd.closest('#notebook-container');\n",
       "if (notebookContainer) {{\n",
       "    x.observe(notebookContainer, {childList: true});\n",
       "}}\n",
       "\n",
       "// Listen for the clearing of the current output cell\n",
       "var outputEl = gd.closest('.output');\n",
       "if (outputEl) {{\n",
       "    x.observe(outputEl, {childList: true});\n",
       "}}\n",
       "\n",
       "                        })\n",
       "                };\n",
       "                });\n",
       "            </script>\n",
       "        </div>"
      ]
     },
     "metadata": {},
     "output_type": "display_data"
    }
   ],
   "source": [
    "def make_plot(sliced_df):\n",
    "    import plotly.express as px\n",
    "    my_plot = px.scatter(sliced_df, x=\"GDP_Per_Capita(USD)\", y=\"Mortality_Rate(%)\",\n",
    "           animation_frame=\"Year\", size=\"Population(mn)\", color=\"Country_or_Area\",\n",
    "           log_x=True, range_x=[10,100000], size_max=75,\n",
    "           range_y=[sliced_df['Mortality_Rate(%)'].min()-10.0,sliced_df['Mortality_Rate(%)'].max()+10.0])\n",
    "    \n",
    "    return my_plot\n",
    "    \n",
    "make_plot(my_df)"
   ]
  }
 ],
 "metadata": {
  "kernelspec": {
   "display_name": "Python 3",
   "language": "python",
   "name": "python3"
  },
  "language_info": {
   "codemirror_mode": {
    "name": "ipython",
    "version": 3
   },
   "file_extension": ".py",
   "mimetype": "text/x-python",
   "name": "python",
   "nbconvert_exporter": "python",
   "pygments_lexer": "ipython3",
   "version": "3.6.5"
  }
 },
 "nbformat": 4,
 "nbformat_minor": 2
}
