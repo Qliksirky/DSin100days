{
 "cells": [
  {
   "cell_type": "markdown",
   "metadata": {},
   "source": [
    "The last notebook focused on introducing the perceptron algorithm. While the perceptron is impractical to use in practice, the core idea of the perceptron algorithm carried over to other neural network algorithms .\n",
    "\n",
    "This notebook introduces the idea of the multi-layered perceptron and shows how adding hidden layers to the percepton makes alogrithm better. This notebook is going to be broken down into following way- \n",
    "\n",
    "1) The need for a multi-layered perceptron\n",
    "2) Basic structure of a multi-layered perceptron\n",
    "3) Description of weights \n",
    "4) Components of a multi-layered perceptron\n",
    "\n",
    "Unlike the last notebook, this notebook will focus more on the intuition on the multi-layered perceptron (we shall refer to this as MLP) without any practical examples. We need to understand many piece of MLP before we can look at a good practical example and over the course of the next few notebooks we will go over those piece. \n",
    "\n",
    "## The need for a multi-layered perceptron\n",
    "\n",
    "The perceptron is an algorithm that takes each row of data from your dataset and performs a weighted sum on it and uses an activation function to assign a class for each row of the datset. One of the points discussed in the notebook on perceptron was that the perceptron is a linear classifier. The decision boundary that that it generates is a straight line that divdes the feature space into two regions \n",
    "<p>\n",
    "    <img src=\"perceptron_plus_boundary.jpg\" width=800 alt>\n",
    "    <b>Figure 1</b>\n",
    "</p>\n"
   ]
  },
  {
   "cell_type": "code",
   "execution_count": null,
   "metadata": {},
   "outputs": [],
   "source": []
  }
 ],
 "metadata": {
  "kernelspec": {
   "display_name": "Python 3",
   "language": "python",
   "name": "python3"
  },
  "language_info": {
   "codemirror_mode": {
    "name": "ipython",
    "version": 3
   },
   "file_extension": ".py",
   "mimetype": "text/x-python",
   "name": "python",
   "nbconvert_exporter": "python",
   "pygments_lexer": "ipython3",
   "version": "3.7.3"
  }
 },
 "nbformat": 4,
 "nbformat_minor": 2
}
