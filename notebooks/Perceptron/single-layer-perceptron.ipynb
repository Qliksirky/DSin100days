{
 "cells": [
  {
   "cell_type": "markdown",
   "metadata": {},
   "source": [
    "## Perceptron using sklearn \n"
   ]
  },
  {
   "cell_type": "code",
   "execution_count": 1,
   "metadata": {
    "ExecuteTime": {
     "end_time": "2019-12-17T19:52:25.001353Z",
     "start_time": "2019-12-17T19:52:24.558549Z"
    }
   },
   "outputs": [],
   "source": [
    "import numpy as np \n",
    "import matplotlib.pyplot as plt \n",
    "import sklearn.datasets as dts\n",
    "import sklearn.model_selection as ms \n",
    "import sklearn.linear_model as lm \n",
    "import sklearn.metrics as metrics\n"
   ]
  },
  {
   "cell_type": "code",
   "execution_count": 2,
   "metadata": {
    "ExecuteTime": {
     "end_time": "2019-12-17T19:52:25.027687Z",
     "start_time": "2019-12-17T19:52:25.002532Z"
    }
   },
   "outputs": [],
   "source": [
    "# generate classification dataset \n",
    "dataset = dts.make_classification(n_samples=1000, n_features=2,n_redundant=0,random_state=7)\n"
   ]
  },
  {
   "cell_type": "code",
   "execution_count": 3,
   "metadata": {
    "ExecuteTime": {
     "end_time": "2019-12-17T19:52:25.031048Z",
     "start_time": "2019-12-17T19:52:25.028944Z"
    }
   },
   "outputs": [],
   "source": [
    "# split into test train sets \n",
    "X = dataset[0]\n",
    "y = dataset[1]\n",
    "\n",
    "x_train, x_test, y_train, y_test = ms.train_test_split(X,y, test_size=0.20)"
   ]
  },
  {
   "cell_type": "code",
   "execution_count": 4,
   "metadata": {
    "ExecuteTime": {
     "end_time": "2019-12-17T19:52:25.139478Z",
     "start_time": "2019-12-17T19:52:25.032069Z"
    }
   },
   "outputs": [
    {
     "data": {
      "image/png": "[encoded data removed]",
      "text/plain": [
       "<Figure size 432x288 with 1 Axes>"
      ]
     },
     "metadata": {
      "needs_background": "light"
     },
     "output_type": "display_data"
    }
   ],
   "source": [
    "# seperate classes and plot them\n",
    "\n",
    "red_x = x_test[np.where(y_test ==1)[0]]\n",
    "blue_x = x_test[np.where(y_test ==0)[0]]\n",
    "\n",
    "plt.scatter(red_x[:,0], red_x[:,1], color=\"red\")\n",
    "plt.scatter(blue_x[:,0], blue_x[:,1], color=\"blue\")\n",
    "\n",
    "plt.show()"
   ]
  },
  {
   "cell_type": "code",
   "execution_count": 5,
   "metadata": {
    "ExecuteTime": {
     "end_time": "2019-12-17T19:52:25.145173Z",
     "start_time": "2019-12-17T19:52:25.140868Z"
    }
   },
   "outputs": [
    {
     "data": {
      "text/plain": [
       "Perceptron(alpha=0.0001, class_weight=None, early_stopping=False, eta0=1.0,\n",
       "           fit_intercept=True, max_iter=100, n_iter_no_change=5, n_jobs=None,\n",
       "           penalty=None, random_state=12, shuffle=False, tol=0.001,\n",
       "           validation_fraction=0.1, verbose=0, warm_start=False)"
      ]
     },
     "execution_count": 5,
     "metadata": {},
     "output_type": "execute_result"
    }
   ],
   "source": [
    "# fit perceptron algorithm to classification data\n",
    "\n",
    "perceptron = lm.Perceptron(max_iter=100, random_state=12, shuffle=False)\n",
    "perceptron.fit(x_train, y_train)\n"
   ]
  },
  {
   "cell_type": "code",
   "execution_count": 6,
   "metadata": {
    "ExecuteTime": {
     "end_time": "2019-12-17T19:52:25.155013Z",
     "start_time": "2019-12-17T19:52:25.146188Z"
    }
   },
   "outputs": [
    {
     "data": {
      "text/plain": [
       "0.895"
      ]
     },
     "execution_count": 6,
     "metadata": {},
     "output_type": "execute_result"
    }
   ],
   "source": [
    "# get predicition and accuracy \n",
    "y_pred = perceptron.predict(x_test)\n",
    "metrics.accuracy_score(y_pred, y_test)"
   ]
  },
  {
   "cell_type": "code",
   "execution_count": 7,
   "metadata": {
    "ExecuteTime": {
     "end_time": "2019-12-17T19:52:25.160682Z",
     "start_time": "2019-12-17T19:52:25.156155Z"
    }
   },
   "outputs": [],
   "source": [
    "# get decision boundary paramaters \n",
    "w = perceptron.coef_[0]\n",
    "slope = -(w[0]/w[1])\n",
    "intercept = -(1.0/w[1])\n"
   ]
  },
  {
   "cell_type": "code",
   "execution_count": 8,
   "metadata": {
    "ExecuteTime": {
     "end_time": "2019-12-17T19:52:25.269197Z",
     "start_time": "2019-12-17T19:52:25.162888Z"
    }
   },
   "outputs": [
    {
     "data": {
      "image/png": "[encoded data removed]",
      "text/plain": [
       "<Figure size 432x288 with 1 Axes>"
      ]
     },
     "metadata": {
      "needs_background": "light"
     },
     "output_type": "display_data"
    }
   ],
   "source": [
    "# scatter plot with decision boundary\n",
    "x_values = np.linspace(-5,5,1000)\n",
    "desc_boundary = slope*x_values+ intercept \n",
    "\n",
    "plt.scatter(red_x[:,0], red_x[:,1], color=\"red\")\n",
    "plt.scatter(blue_x[:,0], blue_x[:,1], color=\"blue\")\n",
    "plt.plot(x_values, desc_boundary)\n",
    "plt.xlim([-4,4])\n",
    "plt.ylim([-4,4])\n",
    "plt.show()"
   ]
  },
  {
   "cell_type": "markdown",
   "metadata": {},
   "source": [
    "## Manual coded perceptron \n"
   ]
  },
  {
   "cell_type": "code",
   "execution_count": 9,
   "metadata": {
    "ExecuteTime": {
     "end_time": "2019-12-17T19:52:25.630303Z",
     "start_time": "2019-12-17T19:52:25.270499Z"
    }
   },
   "outputs": [],
   "source": [
    "# rescale the targets for test and train sets \n",
    "y_train[y_train==0]= -1\n",
    "\n",
    "# intialization function \n",
    "np.random.seed(1)\n",
    "\n",
    "def initialize_weights(weights_shape):\n",
    "    np.random.seed(1)\n",
    "    if isinstance(weights_shape, int): \n",
    "        initial_weights = np.random.randn(weights_shape)\n",
    "    else:\n",
    "        shape_x = weights_shape[0]\n",
    "        shape_y = weights_shape[1]\n",
    "        initial_weights = np.random.randn(shape_x, shape_y)\n",
    "    \n",
    "    return initial_weights \n",
    "\n",
    "\n",
    "# first step is initalize weights \n",
    "weights = initialize_weights(2)\n",
    "\n",
    "def inference(weights, initial_x, bias)\n",
    "  check_output =  np.sum(weights*initial_x) + bias\n",
    "    # assign predicted label \n",
    "    if check_output >= 0: \n",
    "        pred_value = 1 \n",
    "    else: \n",
    "        pred_value = - 1 \n",
    "\n",
    "    return pred_value\n",
    "\n",
    "\n",
    "# second step run inference \n",
    "bias = 1.0 \n",
    "data_index = 0 \n",
    "\n",
    "epochs = 100\n",
    "for ep in range(0, epochs): \n",
    "\n",
    "    data_indicies =  np.random.choice(np.arange(0,x_train.shape[0]), x_train.shape[0])\n",
    "    for data_index in data_indicies : \n",
    "\n",
    "        initial_x = x_train[data_index]\n",
    "        \n",
    "        pred_value= inference(weights, initial_x, bias)\n",
    "\n",
    "        # update weights \n",
    "        if pred_value == y_train[data_index]: \n",
    "            pass\n",
    "        else: \n",
    "            loss_derivative =  y_train[data_index]*x_train[data_index]\n",
    "            weights = weights + loss_derivative\n",
    "\n",
    "    \n"
   ]
  },
  {
   "cell_type": "code",
   "execution_count": 10,
   "metadata": {
    "ExecuteTime": {
     "end_time": "2019-12-17T19:52:25.640176Z",
     "start_time": "2019-12-17T19:52:25.631388Z"
    }
   },
   "outputs": [
    {
     "data": {
      "text/plain": [
       "array([[2.63918024, 4.87697483]])"
      ]
     },
     "execution_count": 10,
     "metadata": {},
     "output_type": "execute_result"
    }
   ],
   "source": [
    "perceptron.coef_ "
   ]
  },
  {
   "cell_type": "code",
   "execution_count": 11,
   "metadata": {
    "ExecuteTime": {
     "end_time": "2019-12-17T19:52:25.646107Z",
     "start_time": "2019-12-17T19:52:25.641532Z"
    }
   },
   "outputs": [
    {
     "data": {
      "text/plain": [
       "array([1.40886114, 4.12784015])"
      ]
     },
     "execution_count": 11,
     "metadata": {},
     "output_type": "execute_result"
    }
   ],
   "source": [
    "weights"
   ]
  },
  {
   "cell_type": "code",
   "execution_count": 14,
   "metadata": {
    "ExecuteTime": {
     "end_time": "2019-12-17T19:54:55.750898Z",
     "start_time": "2019-12-17T19:54:55.748794Z"
    }
   },
   "outputs": [],
   "source": [
    "manual_slope = -(weights[0]/weights[1])\n",
    "manual_intercept = -(1.0/weights[1])\n"
   ]
  },
  {
   "cell_type": "code",
   "execution_count": 15,
   "metadata": {
    "ExecuteTime": {
     "end_time": "2019-12-17T19:54:57.319469Z",
     "start_time": "2019-12-17T19:54:57.219365Z"
    }
   },
   "outputs": [
    {
     "data": {
      "image/png": "[encoded data removed]",
      "text/plain": [
       "<Figure size 432x288 with 1 Axes>"
      ]
     },
     "metadata": {
      "needs_background": "light"
     },
     "output_type": "display_data"
    }
   ],
   "source": [
    "x_values = np.linspace(-5,5,1000)\n",
    "desc_boundary = manual_slope*x_values+ manual_intercept \n",
    "plt.figure()\n",
    "plt.scatter(red_x[:,0], red_x[:,1], color=\"red\")\n",
    "plt.scatter(blue_x[:,0], blue_x[:,1], color=\"blue\")\n",
    "plt.plot(x_values, desc_boundary)\n",
    "plt.xlim([-4,4])\n",
    "plt.ylim([-4,4])\n",
    "plt.show()"
   ]
  },
  {
   "cell_type": "code",
   "execution_count": null,
   "metadata": {},
   "outputs": [],
   "source": []
  }
 ],
 "metadata": {
  "kernelspec": {
   "display_name": "Python 3",
   "language": "python",
   "name": "python3"
  },
  "language_info": {
   "codemirror_mode": {
    "name": "ipython",
    "version": 3
   },
   "file_extension": ".py",
   "mimetype": "text/x-python",
   "name": "python",
   "nbconvert_exporter": "python",
   "pygments_lexer": "ipython3",
   "version": "3.7.3"
  },
  "latex_envs": {
   "LaTeX_envs_menu_present": true,
   "autoclose": false,
   "autocomplete": true,
   "bibliofile": "biblio.bib",
   "cite_by": "apalike",
   "current_citInitial": 1,
   "eqLabelWithNumbers": true,
   "eqNumInitial": 1,
   "hotkeys": {
    "equation": "Ctrl-E",
    "itemize": "Ctrl-I"
   },
   "labels_anchors": false,
   "latex_user_defs": false,
   "report_style_numbering": false,
   "user_envs_cfg": false
  },
  "toc": {
   "base_numbering": 1,
   "nav_menu": {},
   "number_sections": false,
   "sideBar": true,
   "skip_h1_title": false,
   "title_cell": "Table of Contents",
   "title_sidebar": "Contents",
   "toc_cell": false,
   "toc_position": {},
   "toc_section_display": true,
   "toc_window_display": false
  },
  "varInspector": {
   "cols": {
    "lenName": 16,
    "lenType": 16,
    "lenVar": 40
   },
   "kernels_config": {
    "python": {
     "delete_cmd_postfix": "",
     "delete_cmd_prefix": "del ",
     "library": "var_list.py",
     "varRefreshCmd": "print(var_dic_list())"
    },
    "r": {
     "delete_cmd_postfix": ") ",
     "delete_cmd_prefix": "rm(",
     "library": "var_list.r",
     "varRefreshCmd": "cat(var_dic_list()) "
    }
   },
   "types_to_exclude": [
    "module",
    "function",
    "builtin_function_or_method",
    "instance",
    "_Feature"
   ],
   "window_display": false
  }
 },
 "nbformat": 4,
 "nbformat_minor": 2
}
