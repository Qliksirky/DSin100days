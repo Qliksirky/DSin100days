{
 "cells": [
  {
   "cell_type": "markdown",
   "metadata": {},
   "source": [
    "## Perceptron using sklearn \n"
   ]
  },
  {
   "cell_type": "code",
   "execution_count": 55,
   "metadata": {
    "ExecuteTime": {
     "end_time": "2019-12-16T21:34:23.076395Z",
     "start_time": "2019-12-16T21:34:23.061363Z"
    }
   },
   "outputs": [],
   "source": [
    "import numpy as np \n",
    "import matplotlib.pyplot as plt \n",
    "import sklearn.datasets as dts\n",
    "import sklearn.model_selection as ms \n",
    "import sklearn.linear_model as lm \n",
    "import sklearn.metrics as metrics\n"
   ]
  },
  {
   "cell_type": "code",
   "execution_count": 47,
   "metadata": {
    "ExecuteTime": {
     "end_time": "2019-12-16T21:26:12.814818Z",
     "start_time": "2019-12-16T21:26:12.809408Z"
    }
   },
   "outputs": [],
   "source": [
    "# generate classification dataset \n",
    "dataset = dts.make_classification(n_samples=1000, n_features=2,n_redundant=0,random_state=7)\n"
   ]
  },
  {
   "cell_type": "code",
   "execution_count": 48,
   "metadata": {
    "ExecuteTime": {
     "end_time": "2019-12-16T21:26:13.347758Z",
     "start_time": "2019-12-16T21:26:13.338347Z"
    }
   },
   "outputs": [],
   "source": [
    "# split into test train sets \n",
    "X = dataset[0]\n",
    "y = dataset[1]\n",
    "\n",
    "x_train, x_test, y_train, y_test = ms.train_test_split(X,y, test_size=0.20)"
   ]
  },
  {
   "cell_type": "code",
   "execution_count": 52,
   "metadata": {
    "ExecuteTime": {
     "end_time": "2019-12-16T21:26:50.737754Z",
     "start_time": "2019-12-16T21:26:50.639028Z"
    }
   },
   "outputs": [
    {
     "data": {
      "image/png": "[encoded data removed]",
      "text/plain": [
       "<Figure size 432x288 with 1 Axes>"
      ]
     },
     "metadata": {
      "needs_background": "light"
     },
     "output_type": "display_data"
    }
   ],
   "source": [
    "# seperate classes and plot them\n",
    "\n",
    "red_x = x_test[np.where(y_test ==1)[0]]\n",
    "blue_x = x_test[np.where(y_test ==0)[0]]\n",
    "\n",
    "plt.scatter(red_x[:,0], red_x[:,1], color=\"red\")\n",
    "plt.scatter(blue_x[:,0], blue_x[:,1], color=\"blue\")\n",
    "\n",
    "plt.show()"
   ]
  },
  {
   "cell_type": "code",
   "execution_count": 59,
   "metadata": {
    "ExecuteTime": {
     "end_time": "2019-12-16T21:36:02.852071Z",
     "start_time": "2019-12-16T21:36:02.833477Z"
    }
   },
   "outputs": [
    {
     "data": {
      "text/plain": [
       "Perceptron(alpha=0.0001, class_weight=None, early_stopping=False, eta0=1.0,\n",
       "           fit_intercept=True, max_iter=100, n_iter_no_change=5, n_jobs=None,\n",
       "           penalty=None, random_state=0, shuffle=True, tol=0.001,\n",
       "           validation_fraction=0.1, verbose=0, warm_start=False)"
      ]
     },
     "execution_count": 59,
     "metadata": {},
     "output_type": "execute_result"
    }
   ],
   "source": [
    "# fit perceptron algorithm to classification data\n",
    "\n",
    "perceptron = lm.Perceptron(max_iter=100)\n",
    "perceptron.fit(x_train, y_train)\n"
   ]
  },
  {
   "cell_type": "code",
   "execution_count": 60,
   "metadata": {
    "ExecuteTime": {
     "end_time": "2019-12-16T21:36:22.965144Z",
     "start_time": "2019-12-16T21:36:22.961570Z"
    }
   },
   "outputs": [
    {
     "data": {
      "text/plain": [
       "0.94"
      ]
     },
     "execution_count": 60,
     "metadata": {},
     "output_type": "execute_result"
    }
   ],
   "source": [
    "# get predicition and accuracy \n",
    "y_pred = perceptron.predict(x_test)\n",
    "metrics.accuracy_score(y_pred, y_test)"
   ]
  },
  {
   "cell_type": "code",
   "execution_count": 77,
   "metadata": {
    "ExecuteTime": {
     "end_time": "2019-12-16T22:02:12.069431Z",
     "start_time": "2019-12-16T22:02:12.064938Z"
    }
   },
   "outputs": [],
   "source": [
    "# get decision boundary paramaters \n",
    "w = perceptron.coef_[0]\n",
    "slope = -(w[0]/w[1])\n",
    "intercept = -(1.0/w[1])\n"
   ]
  },
  {
   "cell_type": "code",
   "execution_count": 79,
   "metadata": {
    "ExecuteTime": {
     "end_time": "2019-12-16T22:04:36.041630Z",
     "start_time": "2019-12-16T22:04:35.937965Z"
    }
   },
   "outputs": [
    {
     "data": {
      "image/png": "[encoded data removed]",
      "text/plain": [
       "<Figure size 432x288 with 1 Axes>"
      ]
     },
     "metadata": {
      "needs_background": "light"
     },
     "output_type": "display_data"
    }
   ],
   "source": [
    "# scatter plot with decision boundary\n",
    "x_values = np.linspace(-5,5,1000)\n",
    "desc_boundary = slope*x_values+ intercept \n",
    "\n",
    "plt.scatter(red_x[:,0], red_x[:,1], color=\"red\")\n",
    "plt.scatter(blue_x[:,0], blue_x[:,1], color=\"blue\")\n",
    "plt.plot(x_values, desc_boundary)\n",
    "plt.xlim([-4,4])\n",
    "plt.ylim([-4,4])\n",
    "plt.show()"
   ]
  },
  {
   "cell_type": "markdown",
   "metadata": {},
   "source": [
    "## Manual coded perceptron \n"
   ]
  },
  {
   "cell_type": "code",
   "execution_count": null,
   "metadata": {},
   "outputs": [],
   "source": []
  }
 ],
 "metadata": {
  "kernelspec": {
   "display_name": "Python 3",
   "language": "python",
   "name": "python3"
  },
  "language_info": {
   "codemirror_mode": {
    "name": "ipython",
    "version": 3
   },
   "file_extension": ".py",
   "mimetype": "text/x-python",
   "name": "python",
   "nbconvert_exporter": "python",
   "pygments_lexer": "ipython3",
   "version": "3.7.3"
  },
  "latex_envs": {
   "LaTeX_envs_menu_present": true,
   "autoclose": false,
   "autocomplete": true,
   "bibliofile": "biblio.bib",
   "cite_by": "apalike",
   "current_citInitial": 1,
   "eqLabelWithNumbers": true,
   "eqNumInitial": 1,
   "hotkeys": {
    "equation": "Ctrl-E",
    "itemize": "Ctrl-I"
   },
   "labels_anchors": false,
   "latex_user_defs": false,
   "report_style_numbering": false,
   "user_envs_cfg": false
  },
  "toc": {
   "base_numbering": 1,
   "nav_menu": {},
   "number_sections": false,
   "sideBar": true,
   "skip_h1_title": false,
   "title_cell": "Table of Contents",
   "title_sidebar": "Contents",
   "toc_cell": false,
   "toc_position": {},
   "toc_section_display": true,
   "toc_window_display": false
  },
  "varInspector": {
   "cols": {
    "lenName": 16,
    "lenType": 16,
    "lenVar": 40
   },
   "kernels_config": {
    "python": {
     "delete_cmd_postfix": "",
     "delete_cmd_prefix": "del ",
     "library": "var_list.py",
     "varRefreshCmd": "print(var_dic_list())"
    },
    "r": {
     "delete_cmd_postfix": ") ",
     "delete_cmd_prefix": "rm(",
     "library": "var_list.r",
     "varRefreshCmd": "cat(var_dic_list()) "
    }
   },
   "types_to_exclude": [
    "module",
    "function",
    "builtin_function_or_method",
    "instance",
    "_Feature"
   ],
   "window_display": false
  }
 },
 "nbformat": 4,
 "nbformat_minor": 2
}
