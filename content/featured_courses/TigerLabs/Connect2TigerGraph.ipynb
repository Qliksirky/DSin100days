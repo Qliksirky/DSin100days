{
 "cells": [
  {
   "cell_type": "markdown",
   "metadata": {
    "colab_type": "text",
    "id": "hmoxbXjvC6fM"
   },
   "source": [
    "<p><img alt=\"TigerGraph logo\" height=\"45px\" src=\"https://blobscdn.gitbook.com/v0/b/gitbook-28427.appspot.com/o/spaces%2F-LHvjxIN4__6bA0T-QmU%2Favatar.png?generation=1532158270801864&amp;alt=media\" align=\"left\" hspace=\"10px\" vspace=\"0px\"></p>\n",
    "\n",
    "# Connect 2 TigerGraph\n",
    "----\n",
    "\n",
    "This notebook is designed to help you establish your first connection with a TigerGraph database. If this is your first time here and you haven't provisioned or built a TigerGraph database, I would suggest you use <a href=\"https://medium.com/@jon.herke/deploy-a-graph-database-in-3-steps-no-code-need-d903bd062dae\" target=\"_blank\">this blog</a> to help you get your first database built in a matter of minutes.\n",
    "\n",
    "**What you will have accomplished?**\n",
    "\n",
    "- You will have used pyTigerGraph a python package that interfaces with TigerGraph\n",
    "- You will have used a \"SECRET\" to generate a \"TOKEN\" to use in the plaground\n",
    "- You will have used your \"TOKEN\" to make a call to grab all built-in REST endpoints \n",
    "----\n"
   ]
  },
  {
   "cell_type": "markdown",
   "metadata": {
    "colab_type": "text",
    "id": "LoZgrWHMC9HD"
   },
   "source": [
    "## Setup Your Notebook\n",
    "\n",
    "Before we can get to the \"FUN\" stuff we must first do a few things to get our notebook setup. Those includes **installing & importing** a few tools that will be used. \n",
    "\n",
    "*A fun fact:* pyTigerGraph was written by a college student at the Unviersity of Minnesota. Show him some <a href=\"https://github.com/parkererickson/pyTigerGraph/tree/master/pyTigerGraph\" target=\"_blank\">Love</a>"
   ]
  },
  {
   "cell_type": "code",
   "execution_count": 0,
   "metadata": {
    "colab": {},
    "colab_type": "code",
    "id": "uOFa7MzDesi4"
   },
   "outputs": [],
   "source": [
    "!pip install pyTigerGraph"
   ]
  },
  {
   "cell_type": "code",
   "execution_count": 0,
   "metadata": {
    "colab": {},
    "colab_type": "code",
    "id": "GDV73ZM90Az5"
   },
   "outputs": [],
   "source": [
    "import pyTigerGraph as tg"
   ]
  },
  {
   "cell_type": "markdown",
   "metadata": {
    "colab_type": "text",
    "id": "a5ZBXEuc6_wk"
   },
   "source": [
    "## Grab a New Token\n",
    "\n",
    "TigerGraph has numerous <a href=\"https://docs.tigergraph.com/dev/restpp-api/built-in-endpoints\" target=\"_blank\">built-in REST endpoints</a> including the abilty to create TOKENS. For a complete list with the details or each of those endpoints I would suggest checking out the documentaion at <a href=\"https://docs.tigergraph.com/dev/restpp-api/built-in-endpoints\" target=\"_blank\">docs.tigergraph.com</a>\n",
    "\n",
    "**Step 1)** We will add the appropriate details about your graph as shown in the code below\n",
    "- IP Address: Your DNS without port should be placed between the quotes `ipAddress=\"https://graphml.i.tgcloud.io\"`\n",
    "- Graphname: Your graph name should be placed between the quotes `graphname=\"Recommender\"`\n",
    "- Secret: Your secret will be placed in between the quotes `graph.getToken(\"r5lm9gilolgjn6ppdb3ru9r6l05smqqv\", \"1000000\")`\n",
    "\n",
    "**Step 2)** Let's run that code block\n",
    "\n",
    "*If Successful you will see something like* `{'code': 'REST-0000', 'expiration': 1580904294, 'error': False, 'message': 'Generate new token successfully.', 'token': 'dv36b0lhod7t4k4i1r2qqbqhrpgemn7j'}`\n",
    "\n"
   ]
  },
  {
   "cell_type": "code",
   "execution_count": 0,
   "metadata": {
    "colab": {},
    "colab_type": "code",
    "id": "ET5bur0j6Yi4"
   },
   "outputs": [],
   "source": [
    "graph = tg.TigerGraphConnection(\n",
    "    ipAddress=\"https://jhsk.i.tgcloud/\", \n",
    "    graphname=\"MyGraph\")\n",
    "\n",
    "authToken = graph.getToken(\"sh0180gukis5iup6kksfogi1sot95ieu\", \"100000000000000000\")\n",
    "print(authToken)"
   ]
  },
  {
   "cell_type": "markdown",
   "metadata": {
    "colab_type": "text",
    "id": "Box3Obo0DEUj"
   },
   "source": [
    "## Call you First Endpoint\n",
    "\n",
    "Well, \"technically\" this isn't your first endpoint you will hit, but it will be the first endpoint you hit with your token. Essentially this will test the token by grabbing all REST endpoints.\n",
    "\n",
    "**Step 1)** We will add the appropriate details about your graph as shown in the code below\n",
    "\n",
    "- IP Address: Your DNS without port should be placed between the quotes `ipAddress=\"https://graphml.i.tgcloud.io\"`\n",
    "\n",
    "- graphname: Your graph name should be placed between the quotes `graphname=\"Recommender\"`\n",
    "\n",
    "- apiToken: Your secret will be placed in between the quotes `graph.getTokenapiToken=\"bekr9ls24mlh4kbkd7g28stq8vpj67vi\"`\n",
    "\n",
    "**Step 2)** Let's run that code block\n",
    "\n",
    "*If Successful you will see something like* `{'DELETE /graph/delete_by_type/vertices/{vertex_type}/': {'parameters': {'ack': {'default': 'all', 'max_count': 1`"
   ]
  },
  {
   "cell_type": "code",
   "execution_count": 0,
   "metadata": {
    "colab": {},
    "colab_type": "code",
    "id": "3AFAAdRl6rbJ"
   },
   "outputs": [],
   "source": [
    "graph = tg.TigerGraphConnection(\n",
    "    ipAddress=\"https://covid-19-tracker.i.tgcloud.io\", \n",
    "    graphname=\"MyGraph\", \n",
    "    apiToken=\"vmao8bh3gr70lq2j3snhrnb5brc74th7\")\n",
    "\n",
    "results = graph.getEndpoints()\n",
    "print(results)\n"
   ]
  },
  {
   "cell_type": "code",
   "execution_count": 0,
   "metadata": {
    "colab": {},
    "colab_type": "code",
    "id": "OTZ7mFu1-O1L"
   },
   "outputs": [],
   "source": [
    "graph = tg.TigerGraphConnection(\n",
    "    ipAddress=\"https://covid19.i.tgcloud.io\", \n",
    "    graphname=\"MyGraph\", \n",
    "    apiToken=\"o4ib762mnvh26ih9ua2lb23ojvsb7toi\")\n",
    "\n",
    "results = graph.getEndpoints()\n",
    "print(results)"
   ]
  },
  {
   "cell_type": "code",
   "execution_count": 0,
   "metadata": {
    "colab": {},
    "colab_type": "code",
    "id": "LiSLXcfU-gv0"
   },
   "outputs": [],
   "source": [
    "graph = tg.TigerGraphConnection(\n",
    "    ipAddress=\"https://covid19.i.tgcloud.io\", \n",
    "    graphname=\"MyGraph\", \n",
    "    apiToken=\"o4ib762mnvh26ih9ua2lb23ojvsb7toi\")\n",
    "\n",
    "results = graph.getVertices(\"Geo\")\n",
    "print (results)\n"
   ]
  }
 ],
 "metadata": {
  "colab": {
   "name": "Connect2TigerGraph.ipynb",
   "provenance": [],
   "toc_visible": true
  },
  "kernelspec": {
   "display_name": "Python 3",
   "language": "python",
   "name": "python3"
  },
  "language_info": {
   "codemirror_mode": {
    "name": "ipython",
    "version": 3
   },
   "file_extension": ".py",
   "mimetype": "text/x-python",
   "name": "python",
   "nbconvert_exporter": "python",
   "pygments_lexer": "ipython3",
   "version": "3.7.3"
  }
 },
 "nbformat": 4,
 "nbformat_minor": 1
}
