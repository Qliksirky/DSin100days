{
 "cells": [
  {
   "cell_type": "markdown",
   "metadata": {
    "colab_type": "text",
    "id": "aNUxboCOZAFc"
   },
   "source": [
    "<p><img alt=\"TigerGraph logo\" height=\"45px\" src=\"https://blobscdn.gitbook.com/v0/b/gitbook-28427.appspot.com/o/spaces%2F-LHvjxIN4__6bA0T-QmU%2Favatar.png?generation=1532158270801864&amp;alt=media\" align=\"left\" hspace=\"10px\" vspace=\"0px\"></p>\n",
    "\n",
    "# Welcome to the TigerLab!\n",
    "---\n",
    "The aim of this **colabatory** is to provide an **Open-Source Educational Space** with the intention of allowing Data Sceintist, Developers, Engineers, and Big Data enthusist to experiment with graph databases using all free tools.\n",
    "\n",
    "---\n",
    "\n",
    "><a href=\"https://docs.google.com/presentation/d/1bhj3g-sVgBV8PpdHvgb9ZV00OUfb29zKHTzv6qFWvXs/edit?usp=sharing\" target=\"_blank\">2020 Data Day Slides: Graph & ML</a>\n",
    "</br>\n",
    "\n",
    "## Table of Content:\n",
    "* Resources\n",
    "* ToolKit\n",
    "* TigerLab\n",
    "  * <a href=\"https://medium.com/@jon.herke/deploy-a-graph-database-in-3-steps-no-code-need-d903bd062dae\" target=\"_blank\">Lab 1 - Provision a Graph Playground</a>\n",
    "  * <a href=\"https://medium.com/@jon.herke/exploring-graphstudio-a-ui-for-tigergraph-ed0751a3ff49\" target=\"_blank\">Lab 2 - Getting Familiar with GraphStudio</a>\n",
    "  * <a href=\"https://refactored.ai/microcourse?path=content%2Ffeatured_courses%2FTigerLabs%2FConnect2TigerGraph.ipynb&lpath=null\" target=\"_blank\">Lab 2.5 - Create a Secret and Generate a Token</a>\n",
    "  * <a href=\"https://refactored.ai/microcourse?path=content%2Ffeatured_courses%2FTigerLabs%2FTigerGraph2TensorFlow.ipynb&lpath=null\" target=\"_blank\">Lab 3 - Create and Execute aTensorFlow Model using Graph Features</a>\n",
    "  * <a href=\"https://refactored.ai/microcourse?path=content%2Ffeatured_courses%2FTigerLabs%2Fcopy-of-moviepredictiongcn.ipynb&lpath=null\" target=\"_blank\">Lab 4 - Create and Execute a Graph Convolution Neural-Net</a>\n",
    "* Extra Credit - Algorithm Exploration\n",
    "\n",
    "</br>\n"
   ]
  },
  {
   "cell_type": "markdown",
   "metadata": {
    "colab_type": "text",
    "id": "evzO2GzOiesj"
   },
   "source": [
    "### Resources\n",
    "<a href=\"https://drive.google.com/drive/u/0/folders/1EuL9tTyk_gfk9J76GNhU-DdEaC5I16K2\" target=\"_blank\">TigerLab</a> google drive with all artifacts used in the TigerLab included.\n",
    "\n",
    "<a href=\"https://docs.tigergraph.com/\" target=\"_blank\">TigerDocs</a> comprehensive repository of all things TigerGraph. If you have a question this would be the recommended first place to go when searching for an answer.\n",
    "\n",
    "<a href=\"https://discord.gg/F2c9b9v\" target=\"_blank\">Community Chat</a> a place to talk and meet other graph developers.\n",
    "\n",
    "<a href=\"https://www.reddit.com/r/tigergraph/\" target=\"_blank\">Reddit Community</a> a place have discussions, post content you develop, or tools you build. \n",
    "\n",
    "</br>\n"
   ]
  },
  {
   "cell_type": "markdown",
   "metadata": {
    "colab_type": "text",
    "id": "jI6J3nrLivNu"
   },
   "source": [
    "\n",
    "### Tools List\n",
    "\n",
    "<a href=\"https://jupyter.org/\" target=\"_blank\"><b>Jupyter Notebook</b></a> is an open-source web application that allows you to create and share documents that contain live code, equations, visualizations and narrative text\n",
    "\n",
    "<a href=\"tgcloud.io\" target=\"_blank\"><b>TigerGraph Cloud</b></a> allows you to run TigerGraph without the hassle of running the operations. This is ran on top of AWS and has built-in monitoring using NetData. \n",
    "\n",
    "<a href=\"https://www.tensorflow.org/\" target=\"_blank\"><b>Tensorflow</b></a> is an end-to-end open source platform for machine learning. It has a comprehensive, flexible ecosystem of tools, libraries and community resources that lets researchers push the state-of-the-art in ML and developers easily build and deploy ML powered applications.\n",
    "\n",
    "<a href=\"https://www.tigergraph.com/\" target=\"_blank\"><b>pyTigerGraph</b></a> is Python package that abstracts the details of calling to a TigerGraph database. This allows you to setup your server details and get started using TigerGraph with Python in single line of code.\n",
    "\n",
    "<a href=\"https://www.dgl.ai/\" target=\"_blank\"><b>Deep Graph Library</b></a> (DGL) is a Python package built for easy implementation of graph neural network model family, on top of existing DL frameworks (e.g. PyTorch, MXNet, Gluon etc.)\n",
    "\n",
    "<a href=\"https://www.python.org/\" target=\"_blank\"><b>Python</b></a> is an interpreted, high-level, general-purpose programming language.\n",
    "\n",
    "----"
   ]
  },
  {
   "cell_type": "markdown",
   "metadata": {
    "colab_type": "text",
    "id": "hYkhFqtDXlg8"
   },
   "source": [
    "# Tiger Labs"
   ]
  },
  {
   "cell_type": "markdown",
   "metadata": {
    "colab_type": "text",
    "id": "VL4iTqVVX1v8"
   },
   "source": [
    "### Lab 1 - Provision a Graph Playground\n",
    "\n",
    "**What you will accomplish?**\n",
    "- You will gain familiarity with the TigerGraph Cloud portal\n",
    "- You will have learned to provision an graph instance\n",
    "- You will have a graph database instance to play with\n",
    "\n",
    "</br>\n",
    "\n",
    "**Ready to get Started?**\n",
    "\n",
    "For this lab we will be spinning up a graph using <a href=\"http://tgcloud.io\" target=\"_blank\">tgCloud.io</a> portal. If you're reading this right now and not in a workshop, it recommended you checkout this <a href=\"https://medium.com/@jon.herke/deploy-a-graph-database-in-3-steps-no-code-need-d903bd062dae\" target=\"_blank\">BLOG</a> that walks you through the steps of deploying a graph in minutes. Once you finish the blog come back here and move onto the next lab. \n",
    "\n",
    "</br>\n",
    "\n",
    "----"
   ]
  },
  {
   "cell_type": "markdown",
   "metadata": {
    "colab_type": "text",
    "id": "H6rH-hkBYDfH"
   },
   "source": [
    "### Lab 2 - Get Familiar with GraphStudio\n",
    "**What you will accomplish?**\n",
    "\n",
    "- You will have gained familiarty with GraphStudio a UI for graph\n",
    "  - Schema Loading\n",
    "  - Data Mapping\n",
    "  - Data Loading\n",
    "  - Graph Exploration\n",
    "  - Query Builder\n",
    "- You will have written, published and deployed a query that is exposed as a REST service\n",
    "- You will have created a SECRET which can be used to generate tokens\n",
    "\n",
    "</br>\n",
    "\n",
    "**Ready to get Started?**\n",
    "\n",
    "Let's get into exploring GraphStudio. If you're reading this and are not in a workshop, it's recomended you checkout this <a href=\"https://medium.com/@jon.herke/exploring-graphstudio-a-ui-for-tigergraph-ed0751a3ff49\" target=\"_blank\">BLOG</a> that provides a basic overview of GraphStudio. Once you finish the blog come back here and move onto the next lab. \n",
    "\n",
    "</br>\n",
    "\n",
    "----"
   ]
  },
  {
   "cell_type": "markdown",
   "metadata": {
    "colab_type": "text",
    "id": "cgf7JrPLYJab"
   },
   "source": [
    "### Lab 2.5 - Create a Secret and Generate a Token\n",
    "**What you will accomplished?**\n",
    "\n",
    "- You will have used pyTigerGraph a python package that interfaces with TigerGraph\n",
    "- You will have used a \"SECRET\" to generate a \"TOKEN\" to use in the plaground\n",
    "- You will have used your \"TOKEN\" to make a call to grab all built-in REST endpoints\n",
    "\n",
    "</br>\n",
    "\n",
    "**Ready to get Started?**\n",
    "\n",
    "Let's explore how to do a REST call to your TigerGraph instance. What you will want to do is clone this notebook <a href=\"https://refactored.ai/microcourse?path=content%2Ffeatured_courses%2FTigerLabs%2FConnect2TigerGraph.ipynb&lpath=null\" target=\"_blank\">connect2TigerGraph</a> by clicking \"File > \"Save to Drive\" and the follow along. Once you finish the notebook come back here and move onto the next lab. \n",
    "\n",
    "\n",
    "</br>\n",
    "\n",
    "----"
   ]
  },
  {
   "cell_type": "markdown",
   "metadata": {
    "colab_type": "text",
    "id": "kCzTIj3hYQff"
   },
   "source": [
    "### Lab 3 - Create and Execute a TensorFlow Model using Graph Features\n",
    "**What you will accomplish?**\n",
    "- You will have used pyTigerGraph a python package that interfaces with TigerGraph\n",
    "- You will have used Pandas to convert JSON into DataFrames\n",
    "- You will have structured your data for TensorFlow\n",
    "- You will have created a TensorFlow model\n",
    "- You will have tested your TensorFlow model\n",
    "\n",
    "**Ready to get Started?**\n",
    "\n",
    "Let's explore how to do a feature set extraction into a Juypter Notebook environment. To get started you will want to clone this notebook <a href=\"https://refactored.ai/microcourse?path=content%2Ffeatured_courses%2FTigerLabs%2FTigerGraph2TensorFlow.ipynb&lpath=null\" target=\"_blank\">TigerGraph2TensorFlow</a> by clicking \"File > \"Save to Drive\" and the follow along. Once you finish the notebook come back here and move onto the next lab.\n",
    "\n",
    "</br>\n",
    "\n",
    "----"
   ]
  },
  {
   "cell_type": "markdown",
   "metadata": {
    "colab_type": "text",
    "id": "FxSM4wBtYWgZ"
   },
   "source": [
    "### Lab 4 - Create and Execute a Graph Convolution Neural-Net (GCN)\n",
    "**What will you accomplish?**\n",
    "\n",
    "- You will have used pyTigerGraph a python package that interfaces with TigerGraph\n",
    "* You will have extracted a simple graph structure for input into a GCN\n",
    "* You will have used DGL to create a 2-layered GCN\n",
    "* You will have classified a user movie preference based off relationships in a graph\n",
    "\n",
    "**Ready to get Started?**\n",
    "\n",
    "Let's explore how to do a graph structure extraction into a Juypter Notebook environment and run it through a GCN. To get started you will want to clone this notebook <a href=\"https://refactored.ai/microcourse?path=content%2Ffeatured_courses%2FTigerLabs%2Fcopy-of-moviepredictiongcn.ipynb&lpath=null\" target=\"_blank\">MoviePredictionGCN</a> by clicking \"File > \"Save to Drive\" and the follow along. Once you finish the notebook come back here and move onto the next lab.\n",
    "\n",
    "\n",
    "</br>\n",
    "\n",
    "----"
   ]
  },
  {
   "cell_type": "markdown",
   "metadata": {
    "colab_type": "text",
    "id": "cAf1z-MLYrrT"
   },
   "source": [
    "### Extra Credit - Algorithm Exploration\n",
    "\n",
    "[TigerGraph Open Source Algorithm Library](https://github.com/tigergraph/gsql-graph-algorithms)\n",
    "\n",
    "[TigerGraph Algorithm Documentaion](https://docs.tigergraph.com/graph-algorithm-library)"
   ]
  }
 ],
 "metadata": {
  "colab": {
   "authorship_tag": "ABX9TyNEnBiRkpFQFEy3qZck1Pgd",
   "name": "TigerLab.ipynb",
   "provenance": [],
   "toc_visible": true
  },
  "kernelspec": {
   "display_name": "Python 3",
   "language": "python",
   "name": "python3"
  },
  "language_info": {
   "codemirror_mode": {
    "name": "ipython",
    "version": 3
   },
   "file_extension": ".py",
   "mimetype": "text/x-python",
   "name": "python",
   "nbconvert_exporter": "python",
   "pygments_lexer": "ipython3",
   "version": "3.7.3"
  }
 },
 "nbformat": 4,
 "nbformat_minor": 1
}
