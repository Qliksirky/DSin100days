{
 "cells": [
  {
   "cell_type": "markdown",
   "metadata": {
    "colab_type": "text",
    "id": "aNUxboCOZAFc"
   },
   "source": [
    "<p><img alt=\"TigerGraph logo\" height=\"45px\" src=\"https://blobscdn.gitbook.com/v0/b/gitbook-28427.appspot.com/o/spaces%2F-LHvjxIN4__6bA0T-QmU%2Favatar.png?generation=1532158270801864&amp;alt=media\" align=\"left\" hspace=\"10px\" vspace=\"0px\"></p>\n",
    "\n",
    "# TigerGraph 2 TensorFlow\n",
    "------\n",
    "Using Pandas + TensorFlow for User Rating Predictions\n",
    "## Introduction\n",
    "This notebook walks through a basic example of using <a href=\"https://www.tensorflow.org/tutorials\" target=\"_blank\">TensorFlow</a> with the output of a graph to run a prediction whether a User will like a movie. The data is collected from a TigerGraph database using a Python package <a href=\"https://github.com/parkererickson/pyTigerGraph\" target=\"_blank\">pyTigerGraph</a>. Data collected is via a REST call on a user built query. The output from the call is coming to the notebook in a JSON format. Using <a href=\"https://pypi.org/project/pandas\" target=\"_blank\">Pandas</a> we transform that data into a dataframe. After transforming the data we get the data ready fror consumption for a basic model with 2 layers. The very last step we do a data prediction on some movies the user hasn't rated.\n"
   ]
  },
  {
   "cell_type": "markdown",
   "metadata": {
    "colab_type": "text",
    "id": "hmoxbXjvC6fM"
   },
   "source": [
    "## Install Queries on TigerGraph Server\n",
    "You need to create and install one queries on the TigerGraph server named userRating\n",
    "\n",
    "```\n",
    "CREATE QUERY userData(VERTEX<USER> user) FOR GRAPH Recommender { \n",
    "  // Feature Extraction of User: movieID, movieTitle, userRating, term, termRating\n",
    "\t// Sample Param = 271\n",
    "\t\n",
    "  SumAccum<float> @rating;\n",
    "\tSetAccum<STRING> @genre;\n",
    "\t\n",
    "\tsrc = {user}; //From the User\n",
    "  \n",
    "\tS1 = SELECT tgt FROM src:s -(rate:e)-> MOVIE:tgt //Grab all the movies that they rated\n",
    "       ACCUM tgt.@rating += e.rating; //Also add a local varible of that users rating\n",
    "\t\n",
    "\tS2 = SELECT s FROM S1:s -(movie_term:e)-> TERM:tgt //From those movies grab the genre (term)\n",
    "\t     ACCUM s.@genre += tgt.term; //Add those as a local variable as set of genres \n",
    "\t\n",
    "  PRINT S2[S2.movie_id as movieID, S2.name as movieTitle, S2.@rating as userRating, S2.@genre as genre];\n",
    "}\n",
    "```"
   ]
  },
  {
   "cell_type": "markdown",
   "metadata": {
    "colab_type": "text",
    "id": "LoZgrWHMC9HD"
   },
   "source": [
    "\n",
    "## Setup Your Notebook"
   ]
  },
  {
   "cell_type": "markdown",
   "metadata": {
    "colab_type": "text",
    "id": "Z3S7GnBICUwl"
   },
   "source": [
    "#### Install Latest Version of Packages"
   ]
  },
  {
   "cell_type": "code",
   "execution_count": 1,
   "metadata": {
    "colab": {
     "base_uri": "https://localhost:8080/",
     "height": 969
    },
    "colab_type": "code",
    "executionInfo": {
     "elapsed": 19522,
     "status": "ok",
     "timestamp": 1582929868098,
     "user": {
      "displayName": "Jonathan Herke",
      "photoUrl": "https://lh3.googleusercontent.com/a-/AAuE7mCrCehKtac_iyX3H42F30Y892nc8I5UlpDDuAg4=s64",
      "userId": "16398260636956526583"
     },
     "user_tz": 360
    },
    "id": "uOFa7MzDesi4",
    "outputId": "c82178a3-8b83-4e8e-9bc8-0d0c429306ba"
   },
   "outputs": [
    {
     "name": "stdout",
     "output_type": "stream",
     "text": [
      "Collecting pyTigerGraph\n",
      "  Downloading https://files.pythonhosted.org/packages/59/d1/cc51f54b48d65e3fd6430ec4162b5a84be78cf9532fa8efdbd63773ed340/pyTigerGraph-0.0.4.6.tar.gz\n",
      "Collecting validators\n",
      "  Downloading https://files.pythonhosted.org/packages/4d/56/9b48c918ef118ea12b90f227c4498ed4703b418bdd8fb49479dfcbeae4ef/validators-0.14.2.tar.gz\n",
      "Requirement already satisfied: requests in /usr/local/lib/python3.6/dist-packages (from pyTigerGraph) (2.21.0)\n",
      "Requirement already satisfied: six>=1.4.0 in /usr/local/lib/python3.6/dist-packages (from validators->pyTigerGraph) (1.12.0)\n",
      "Requirement already satisfied: decorator>=3.4.0 in /usr/local/lib/python3.6/dist-packages (from validators->pyTigerGraph) (4.4.1)\n",
      "Requirement already satisfied: urllib3<1.25,>=1.21.1 in /usr/local/lib/python3.6/dist-packages (from requests->pyTigerGraph) (1.24.3)\n",
      "Requirement already satisfied: chardet<3.1.0,>=3.0.2 in /usr/local/lib/python3.6/dist-packages (from requests->pyTigerGraph) (3.0.4)\n",
      "Requirement already satisfied: idna<2.9,>=2.5 in /usr/local/lib/python3.6/dist-packages (from requests->pyTigerGraph) (2.8)\n",
      "Requirement already satisfied: certifi>=2017.4.17 in /usr/local/lib/python3.6/dist-packages (from requests->pyTigerGraph) (2019.11.28)\n",
      "Building wheels for collected packages: pyTigerGraph, validators\n",
      "  Building wheel for pyTigerGraph (setup.py) ... \u001b[?25l\u001b[?25hdone\n",
      "  Created wheel for pyTigerGraph: filename=pyTigerGraph-0.0.4.6-cp36-none-any.whl size=3410 sha256=2bdfefecd824b537078ad62c622aae8cf18ce6ed9e92763b01917a82d04084b8\n",
      "  Stored in directory: /root/.cache/pip/wheels/b6/3a/d3/24bb96c355fdda37c0bee211275b98a3cfc08b33432169ed26\n",
      "  Building wheel for validators (setup.py) ... \u001b[?25l\u001b[?25hdone\n",
      "  Created wheel for validators: filename=validators-0.14.2-cp36-none-any.whl size=17249 sha256=e47c14e0540019d31846c16cd9a9a5feeb3a112684cda4f9a1e36b0f202879f5\n",
      "  Stored in directory: /root/.cache/pip/wheels/46/e4/bb/0c8fc33769e30e0049771579b608e6a0d4a00db8a1a29e7ce7\n",
      "Successfully built pyTigerGraph validators\n",
      "Installing collected packages: validators, pyTigerGraph\n",
      "Successfully installed pyTigerGraph-0.0.4.6 validators-0.14.2\n",
      "Requirement already satisfied: pandas in /usr/local/lib/python3.6/dist-packages (0.25.3)\n",
      "Requirement already satisfied: python-dateutil>=2.6.1 in /usr/local/lib/python3.6/dist-packages (from pandas) (2.6.1)\n",
      "Requirement already satisfied: pytz>=2017.2 in /usr/local/lib/python3.6/dist-packages (from pandas) (2018.9)\n",
      "Requirement already satisfied: numpy>=1.13.3 in /usr/local/lib/python3.6/dist-packages (from pandas) (1.17.5)\n",
      "Requirement already satisfied: six>=1.5 in /usr/local/lib/python3.6/dist-packages (from python-dateutil>=2.6.1->pandas) (1.12.0)\n",
      "Collecting flat-table\n",
      "  Downloading https://files.pythonhosted.org/packages/fe/e8/5054b78b999d81acfec3606a2fcc131a341c8736a8da03e827fc823f308d/flat_table-1.1.0-py3-none-any.whl\n",
      "Requirement already satisfied: pandas in /usr/local/lib/python3.6/dist-packages (from flat-table) (0.25.3)\n",
      "Requirement already satisfied: pytz>=2017.2 in /usr/local/lib/python3.6/dist-packages (from pandas->flat-table) (2018.9)\n",
      "Requirement already satisfied: python-dateutil>=2.6.1 in /usr/local/lib/python3.6/dist-packages (from pandas->flat-table) (2.6.1)\n",
      "Requirement already satisfied: numpy>=1.13.3 in /usr/local/lib/python3.6/dist-packages (from pandas->flat-table) (1.17.5)\n",
      "Requirement already satisfied: six>=1.5 in /usr/local/lib/python3.6/dist-packages (from python-dateutil>=2.6.1->pandas->flat-table) (1.12.0)\n",
      "Installing collected packages: flat-table\n",
      "Successfully installed flat-table-1.1.0\n",
      "Requirement already satisfied: tensorflow in /usr/local/lib/python3.6/dist-packages (1.15.0)\n",
      "Requirement already satisfied: keras-applications>=1.0.8 in /usr/local/lib/python3.6/dist-packages (from tensorflow) (1.0.8)\n",
      "Requirement already satisfied: six>=1.10.0 in /usr/local/lib/python3.6/dist-packages (from tensorflow) (1.12.0)\n",
      "Requirement already satisfied: wheel>=0.26 in /usr/local/lib/python3.6/dist-packages (from tensorflow) (0.34.2)\n",
      "Requirement already satisfied: tensorflow-estimator==1.15.1 in /usr/local/lib/python3.6/dist-packages (from tensorflow) (1.15.1)\n",
      "Requirement already satisfied: astor>=0.6.0 in /usr/local/lib/python3.6/dist-packages (from tensorflow) (0.8.1)\n",
      "Requirement already satisfied: absl-py>=0.7.0 in /usr/local/lib/python3.6/dist-packages (from tensorflow) (0.9.0)\n",
      "Requirement already satisfied: gast==0.2.2 in /usr/local/lib/python3.6/dist-packages (from tensorflow) (0.2.2)\n",
      "Requirement already satisfied: wrapt>=1.11.1 in /usr/local/lib/python3.6/dist-packages (from tensorflow) (1.11.2)\n",
      "Requirement already satisfied: google-pasta>=0.1.6 in /usr/local/lib/python3.6/dist-packages (from tensorflow) (0.1.8)\n",
      "Requirement already satisfied: numpy<2.0,>=1.16.0 in /usr/local/lib/python3.6/dist-packages (from tensorflow) (1.17.5)\n",
      "Requirement already satisfied: grpcio>=1.8.6 in /usr/local/lib/python3.6/dist-packages (from tensorflow) (1.27.1)\n",
      "Requirement already satisfied: keras-preprocessing>=1.0.5 in /usr/local/lib/python3.6/dist-packages (from tensorflow) (1.1.0)\n",
      "Requirement already satisfied: termcolor>=1.1.0 in /usr/local/lib/python3.6/dist-packages (from tensorflow) (1.1.0)\n",
      "Requirement already satisfied: opt-einsum>=2.3.2 in /usr/local/lib/python3.6/dist-packages (from tensorflow) (3.1.0)\n",
      "Requirement already satisfied: tensorboard<1.16.0,>=1.15.0 in /usr/local/lib/python3.6/dist-packages (from tensorflow) (1.15.0)\n",
      "Requirement already satisfied: protobuf>=3.6.1 in /usr/local/lib/python3.6/dist-packages (from tensorflow) (3.10.0)\n",
      "Requirement already satisfied: h5py in /usr/local/lib/python3.6/dist-packages (from keras-applications>=1.0.8->tensorflow) (2.8.0)\n",
      "Requirement already satisfied: markdown>=2.6.8 in /usr/local/lib/python3.6/dist-packages (from tensorboard<1.16.0,>=1.15.0->tensorflow) (3.2.1)\n",
      "Requirement already satisfied: setuptools>=41.0.0 in /usr/local/lib/python3.6/dist-packages (from tensorboard<1.16.0,>=1.15.0->tensorflow) (45.1.0)\n",
      "Requirement already satisfied: werkzeug>=0.11.15 in /usr/local/lib/python3.6/dist-packages (from tensorboard<1.16.0,>=1.15.0->tensorflow) (1.0.0)\n"
     ]
    }
   ],
   "source": [
    "!pip install pyTigerGraph\n",
    "!pip install pandas\n",
    "!pip install flat-table\n",
    "!pip install tensorflow\n",
    "!pip install -q sklearn"
   ]
  },
  {
   "cell_type": "markdown",
   "metadata": {
    "colab_type": "text",
    "id": "i0g4oDwiCetk"
   },
   "source": [
    "#### Import Tools"
   ]
  },
  {
   "cell_type": "code",
   "execution_count": 2,
   "metadata": {
    "colab": {
     "base_uri": "https://localhost:8080/",
     "height": 63
    },
    "colab_type": "code",
    "executionInfo": {
     "elapsed": 2565,
     "status": "ok",
     "timestamp": 1582929874951,
     "user": {
      "displayName": "Jonathan Herke",
      "photoUrl": "https://lh3.googleusercontent.com/a-/AAuE7mCrCehKtac_iyX3H42F30Y892nc8I5UlpDDuAg4=s64",
      "userId": "16398260636956526583"
     },
     "user_tz": 360
    },
    "id": "GDV73ZM90Az5",
    "outputId": "2d272a86-9b2a-4b98-a894-78ccb8ffbb22"
   },
   "outputs": [
    {
     "data": {
      "text/html": [
       "<p style=\"color: red;\">\n",
       "The default version of TensorFlow in Colab will soon switch to TensorFlow 2.x.<br>\n",
       "We recommend you <a href=\"https://www.tensorflow.org/guide/migrate\" target=\"_blank\">upgrade</a> now \n",
       "or ensure your notebook will continue to use TensorFlow 1.x via the <code>%tensorflow_version 1.x</code> magic:\n",
       "<a href=\"https://colab.research.google.com/notebooks/tensorflow_version.ipynb\" target=\"_blank\">more info</a>.</p>\n"
      ],
      "text/plain": [
       "<IPython.core.display.HTML object>"
      ]
     },
     "metadata": {
      "tags": []
     },
     "output_type": "display_data"
    }
   ],
   "source": [
    "import pyTigerGraph as tg\n",
    "import pandas as pd\n",
    "import flat_table\n",
    "import tensorflow as tf\n",
    "\n",
    "from __future__ import absolute_import, division, print_function, unicode_literals\n",
    "from tensorflow import feature_column\n",
    "from tensorflow.keras import layers\n",
    "from sklearn.model_selection import train_test_split\n",
    "from sklearn.datasets import load_iris\n",
    "\n",
    "tf.enable_eager_execution()"
   ]
  },
  {
   "cell_type": "code",
   "execution_count": 4,
   "metadata": {
    "colab": {
     "base_uri": "https://localhost:8080/",
     "height": 54
    },
    "colab_type": "code",
    "executionInfo": {
     "elapsed": 770,
     "status": "ok",
     "timestamp": 1582929977061,
     "user": {
      "displayName": "Jonathan Herke",
      "photoUrl": "https://lh3.googleusercontent.com/a-/AAuE7mCrCehKtac_iyX3H42F30Y892nc8I5UlpDDuAg4=s64",
      "userId": "16398260636956526583"
     },
     "user_tz": 360
    },
    "id": "3AFAAdRl6rbJ",
    "outputId": "b57a26b3-b578-455b-e352-8380ba2064cc"
   },
   "outputs": [
    {
     "name": "stdout",
     "output_type": "stream",
     "text": [
      "{'DELETE /graph/delete_by_type/vertices/{vertex_type}/': {'parameters': {'ack': {'default': 'all', 'max_count': 1, 'min_count': 1, 'options': ['all', 'none'], 'type': 'STRING'}, 'permanent': {'default': 'false', 'max_count': 1, 'min_count': 1, 'type': 'BOOL'}, 'vertex_type': {'type': 'TYPENAME'}}}, 'DELETE /graph/edges/{source_vertex_type}/{source_vertex_id}/{edge_type}/{target_vertex_type}/{target_vertex_id}': {'parameters': {'edge_type': {'max_count': 1, 'min_count': 0, 'type': 'EDGETYPENAME'}, 'filter': {'max_count': 1, 'max_length': 2560, 'min_count': 0, 'type': 'STRING'}, 'limit': {'max_count': 1, 'min_count': 0, 'type': 'UINT64'}, 'not_wildcard': {'max_count': 1, 'min_count': 0, 'type': 'BOOL'}, 'permanent': {'default': 'false', 'max_count': 1, 'min_count': 1, 'type': 'BOOL'}, 'select': {'max_count': 1, 'max_length': 2560, 'min_count': 0, 'type': 'STRING'}, 'sort': {'max_count': 1, 'max_length': 2560, 'min_count': 0, 'type': 'STRING'}, 'source_vertex_id': {'id_type': '$source_vertex_type', 'is_id': True, 'max_count': 1, 'max_length': 256, 'min_count': 1, 'type': 'STRING'}, 'source_vertex_type': {'max_count': 1, 'min_count': 1, 'type': 'TYPENAME'}, 'target_vertex_id': {'id_type': '$target_vertex_type', 'is_id': True, 'max_count': 1, 'max_length': 256, 'min_count': 0, 'type': 'STRING'}, 'target_vertex_type': {'max_count': 1, 'min_count': 0, 'type': 'TYPENAME'}, 'timeout': {'default': '0', 'max_count': 1, 'min_count': 0, 'type': 'UINT32'}}}, 'DELETE /graph/vertices/{vertex_type}/{vertex_id}': {'parameters': {'filter': {'max_count': 1, 'max_length': 2560, 'min_count': 0, 'type': 'STRING'}, 'limit': {'max_count': 1, 'min_count': 0, 'type': 'UINT64'}, 'permanent': {'default': 'false', 'max_count': 1, 'min_count': 1, 'type': 'BOOL'}, 'sort': {'max_count': 1, 'max_length': 2560, 'min_count': 0, 'type': 'STRING'}, 'timeout': {'default': '0', 'max_count': 1, 'min_count': 0, 'type': 'UINT32'}, 'vertex_id': {'id_type': '$vertex_type', 'is_id': True, 'max_count': 1, 'max_length': 2560, 'min_count': 0, 'type': 'STRING'}, 'vertex_type': {'type': 'TYPENAME'}}}, 'DELETE /graph/{graph_name}/delete_by_type/vertices/{vertex_type}/': {'parameters': {'ack': {'default': 'all', 'max_count': 1, 'min_count': 1, 'options': ['all', 'none'], 'type': 'STRING'}, 'graph_name': {'default': '', 'max_count': 1, 'min_count': 0, 'type': 'STRING'}, 'permanent': {'default': 'false', 'max_count': 1, 'min_count': 1, 'type': 'BOOL'}, 'vertex_type': {'type': 'TYPENAME'}}}, 'DELETE /graph/{graph_name}/edges/{source_vertex_type}/{source_vertex_id}/{edge_type}/{target_vertex_type}/{target_vertex_id}': {'parameters': {'edge_type': {'max_count': 1, 'min_count': 0, 'type': 'EDGETYPENAME'}, 'filter': {'max_count': 1, 'max_length': 2560, 'min_count': 0, 'type': 'STRING'}, 'graph_name': {'default': '', 'max_count': 1, 'min_count': 0, 'type': 'STRING'}, 'limit': {'max_count': 1, 'min_count': 0, 'type': 'UINT64'}, 'not_wildcard': {'max_count': 1, 'min_count': 0, 'type': 'BOOL'}, 'permanent': {'default': 'false', 'max_count': 1, 'min_count': 1, 'type': 'BOOL'}, 'select': {'max_count': 1, 'max_length': 2560, 'min_count': 0, 'type': 'STRING'}, 'sort': {'max_count': 1, 'max_length': 2560, 'min_count': 0, 'type': 'STRING'}, 'source_vertex_id': {'id_type': '$source_vertex_type', 'is_id': True, 'max_count': 1, 'max_length': 256, 'min_count': 1, 'type': 'STRING'}, 'source_vertex_type': {'max_count': 1, 'min_count': 1, 'type': 'TYPENAME'}, 'target_vertex_id': {'id_type': '$target_vertex_type', 'is_id': True, 'max_count': 1, 'max_length': 256, 'min_count': 0, 'type': 'STRING'}, 'target_vertex_type': {'max_count': 1, 'min_count': 0, 'type': 'TYPENAME'}, 'timeout': {'default': '0', 'max_count': 1, 'min_count': 0, 'type': 'UINT32'}}}, 'DELETE /graph/{graph_name}/vertices/{vertex_type}/{vertex_id}': {'parameters': {'filter': {'max_count': 1, 'max_length': 2560, 'min_count': 0, 'type': 'STRING'}, 'graph_name': {'default': '', 'max_count': 1, 'min_count': 0, 'type': 'STRING'}, 'limit': {'max_count': 1, 'min_count': 0, 'type': 'UINT64'}, 'permanent': {'default': 'false', 'max_count': 1, 'min_count': 1, 'type': 'BOOL'}, 'sort': {'max_count': 1, 'max_length': 2560, 'min_count': 0, 'type': 'STRING'}, 'timeout': {'default': '0', 'max_count': 1, 'min_count': 0, 'type': 'UINT32'}, 'vertex_id': {'id_type': '$vertex_type', 'is_id': True, 'max_count': 1, 'max_length': 2560, 'min_count': 0, 'type': 'STRING'}, 'vertex_type': {'type': 'TYPENAME'}}}, 'GET /abortquery/{graph_name}': {'parameters': {'graph_name': {'default': '', 'max_count': 1, 'min_count': 0, 'type': 'STRING'}, 'requestid': {'min_count': 0, 'type': 'STRING'}}}, 'GET /allpaths/{graph_name}': {'parameters': {'graph_name': {'default': '', 'max_count': 1, 'min_count': 0, 'type': 'STRING'}}}, 'GET /echo/{graph_name}': {'parameters': {'graph_name': {'default': '', 'max_count': 1, 'min_count': 0, 'type': 'STRING'}, 'sleep': {'default': '0', 'type': 'INT32'}}}, 'GET /endpoints/{graph_name}': {'parameters': {'builtin': {'default': 'false', 'max_count': 1, 'min_count': 0, 'type': 'BOOL'}, 'dynamic': {'default': 'false', 'max_count': 1, 'min_count': 0, 'type': 'BOOL'}, 'graph_name': {'default': '', 'max_count': 1, 'min_count': 0, 'type': 'STRING'}, 'static': {'default': 'false', 'max_count': 1, 'min_count': 0, 'type': 'BOOL'}}}, 'GET /graph/edges/{source_vertex_type}/{source_vertex_id}/{edge_type}/{target_vertex_type}/{target_vertex_id}': {'parameters': {'count_only': {'default': 'false', 'max_count': 1, 'min_count': 0, 'type': 'BOOL'}, 'edge_type': {'max_count': 1, 'min_count': 0, 'type': 'EDGETYPENAME'}, 'filter': {'max_count': 1, 'max_length': 2560, 'min_count': 0, 'type': 'STRING'}, 'limit': {'max_count': 1, 'min_count': 0, 'type': 'UINT64'}, 'not_wildcard': {'max_count': 1, 'min_count': 0, 'type': 'BOOL'}, 'select': {'max_count': 1, 'max_length': 2560, 'min_count': 0, 'type': 'STRING'}, 'sort': {'max_count': 1, 'max_length': 2560, 'min_count': 0, 'type': 'STRING'}, 'source_vertex_id': {'id_type': '$source_vertex_type', 'is_id': True, 'max_count': 1, 'max_length': 256, 'min_count': 1, 'type': 'STRING'}, 'source_vertex_type': {'max_count': 1, 'min_count': 1, 'type': 'TYPENAME'}, 'target_vertex_id': {'id_type': '$target_vertex_type', 'is_id': True, 'max_count': 1, 'max_length': 256, 'min_count': 0, 'type': 'STRING'}, 'target_vertex_type': {'max_count': 1, 'min_count': 0, 'type': 'TYPENAME'}, 'timeout': {'default': '0', 'max_count': 1, 'min_count': 0, 'type': 'UINT32'}}}, 'GET /graph/vertices/{vertex_type}/{vertex_id}': {'parameters': {'count_only': {'default': 'false', 'max_count': 1, 'min_count': 0, 'type': 'BOOL'}, 'filter': {'max_count': 1, 'max_length': 2560, 'min_count': 0, 'type': 'STRING'}, 'limit': {'max_count': 1, 'min_count': 0, 'type': 'UINT64'}, 'select': {'max_count': 1, 'max_length': 2560, 'min_count': 0, 'type': 'STRING'}, 'sort': {'max_count': 1, 'max_length': 2560, 'min_count': 0, 'type': 'STRING'}, 'timeout': {'default': '0', 'max_count': 1, 'min_count': 0, 'type': 'UINT32'}, 'vertex_id': {'id_type': '$vertex_type', 'is_id': True, 'max_count': 1, 'max_length': 2560, 'min_count': 0, 'type': 'STRING'}, 'vertex_type': {'type': 'TYPENAME'}}}, 'GET /graph/{graph_name}/edges/{source_vertex_type}/{source_vertex_id}/{edge_type}/{target_vertex_type}/{target_vertex_id}': {'parameters': {'count_only': {'default': 'false', 'max_count': 1, 'min_count': 0, 'type': 'BOOL'}, 'edge_type': {'max_count': 1, 'min_count': 0, 'type': 'EDGETYPENAME'}, 'filter': {'max_count': 1, 'max_length': 2560, 'min_count': 0, 'type': 'STRING'}, 'graph_name': {'default': '', 'max_count': 1, 'min_count': 0, 'type': 'STRING'}, 'limit': {'max_count': 1, 'min_count': 0, 'type': 'UINT64'}, 'not_wildcard': {'max_count': 1, 'min_count': 0, 'type': 'BOOL'}, 'select': {'max_count': 1, 'max_length': 2560, 'min_count': 0, 'type': 'STRING'}, 'sort': {'max_count': 1, 'max_length': 2560, 'min_count': 0, 'type': 'STRING'}, 'source_vertex_id': {'id_type': '$source_vertex_type', 'is_id': True, 'max_count': 1, 'max_length': 256, 'min_count': 1, 'type': 'STRING'}, 'source_vertex_type': {'max_count': 1, 'min_count': 1, 'type': 'TYPENAME'}, 'target_vertex_id': {'id_type': '$target_vertex_type', 'is_id': True, 'max_count': 1, 'max_length': 256, 'min_count': 0, 'type': 'STRING'}, 'target_vertex_type': {'max_count': 1, 'min_count': 0, 'type': 'TYPENAME'}, 'timeout': {'default': '0', 'max_count': 1, 'min_count': 0, 'type': 'UINT32'}}}, 'GET /graph/{graph_name}/vertices/{vertex_type}/{vertex_id}': {'parameters': {'count_only': {'default': 'false', 'max_count': 1, 'min_count': 0, 'type': 'BOOL'}, 'filter': {'max_count': 1, 'max_length': 2560, 'min_count': 0, 'type': 'STRING'}, 'graph_name': {'default': '', 'max_count': 1, 'min_count': 0, 'type': 'STRING'}, 'limit': {'max_count': 1, 'min_count': 0, 'type': 'UINT64'}, 'select': {'max_count': 1, 'max_length': 2560, 'min_count': 0, 'type': 'STRING'}, 'sort': {'max_count': 1, 'max_length': 2560, 'min_count': 0, 'type': 'STRING'}, 'timeout': {'default': '0', 'max_count': 1, 'min_count': 0, 'type': 'UINT32'}, 'vertex_id': {'id_type': '$vertex_type', 'is_id': True, 'max_count': 1, 'max_length': 2560, 'min_count': 0, 'type': 'STRING'}, 'vertex_type': {'type': 'TYPENAME'}}}, 'GET /query/Recommender/TFIDF': {'action': 'query', 'alternative_endpoint': '/query/TFIDF', 'function': 'queryDispatcher', 'graph_name': 'Recommender', 'libudf': 'libudf_Recommender', 'parameters': {'query': {'default': 'TFIDF', 'type': 'STRING'}}, 'payload': [{'rule': 'AS_QUERY_STRING'}], 'summary': 'This is query entrance', 'target': 'GPE'}, 'GET /query/Recommender/TFIDF_normalization': {'action': 'query', 'alternative_endpoint': '/query/TFIDF_normalization', 'function': 'queryDispatcher', 'graph_name': 'Recommender', 'libudf': 'libudf_Recommender', 'parameters': {'query': {'default': 'TFIDF_normalization', 'type': 'STRING'}}, 'payload': [{'rule': 'AS_QUERY_STRING'}], 'summary': 'This is query entrance', 'target': 'GPE'}, 'GET /query/Recommender/countMovie': {'action': 'query', 'alternative_endpoint': '/query/countMovie', 'function': 'queryDispatcher', 'graph_name': 'Recommender', 'libudf': 'libudf_Recommender', 'parameters': {'query': {'default': 'countMovie', 'type': 'STRING'}}, 'payload': [{'rule': 'AS_QUERY_STRING'}], 'summary': 'This is query entrance', 'target': 'GPE'}, 'GET /query/Recommender/edgeTest': {'action': 'query', 'alternative_endpoint': '/query/edgeTest', 'function': 'queryDispatcher', 'graph_name': 'Recommender', 'libudf': 'libudf_Recommender', 'parameters': {'query': {'default': 'edgeTest', 'type': 'STRING'}, 'user': {'id_type': 'USER', 'is_id': 'true', 'min_count': 0, 'type': 'STRING'}}, 'payload': [{'rule': 'AS_QUERY_STRING'}], 'summary': 'This is query entrance', 'target': 'GPE'}, 'GET /query/Recommender/initialization': {'action': 'query', 'alternative_endpoint': '/query/initialization', 'function': 'queryDispatcher', 'graph_name': 'Recommender', 'libudf': 'libudf_Recommender', 'parameters': {'num_latent_factors': {'min_count': 0, 'type': 'INT64'}, 'query': {'default': 'initialization', 'type': 'STRING'}}, 'payload': [{'rule': 'AS_QUERY_STRING'}], 'summary': 'This is query entrance', 'target': 'GPE'}, 'GET /query/Recommender/initialization_hybrid': {'action': 'query', 'alternative_endpoint': '/query/initialization_hybrid', 'function': 'queryDispatcher', 'graph_name': 'Recommender', 'libudf': 'libudf_Recommender', 'parameters': {'num_latent_factors': {'min_count': 0, 'type': 'INT64'}, 'query': {'default': 'initialization_hybrid', 'type': 'STRING'}}, 'payload': [{'rule': 'AS_QUERY_STRING'}], 'summary': 'This is query entrance', 'target': 'GPE'}, 'GET /query/Recommender/movieLinks': {'action': 'query', 'alternative_endpoint': '/query/movieLinks', 'function': 'queryDispatcher', 'graph_name': 'Recommender', 'libudf': 'libudf_Recommender', 'parameters': {'query': {'default': 'movieLinks', 'type': 'STRING'}}, 'payload': [{'rule': 'AS_QUERY_STRING'}], 'summary': 'This is query entrance', 'target': 'GPE'}, 'GET /query/Recommender/normalizeRating': {'action': 'query', 'alternative_endpoint': '/query/normalizeRating', 'function': 'queryDispatcher', 'graph_name': 'Recommender', 'libudf': 'libudf_Recommender', 'parameters': {'query': {'default': 'normalizeRating', 'type': 'STRING'}}, 'payload': [{'rule': 'AS_QUERY_STRING'}], 'summary': 'This is query entrance', 'target': 'GPE'}, 'GET /query/Recommender/recommend': {'action': 'query', 'alternative_endpoint': '/query/recommend', 'function': 'queryDispatcher', 'graph_name': 'Recommender', 'libudf': 'libudf_Recommender', 'parameters': {'query': {'default': 'recommend', 'type': 'STRING'}, 'source': {'id_type': 'USER', 'is_id': 'true', 'min_count': 0, 'type': 'STRING'}}, 'payload': [{'rule': 'AS_QUERY_STRING'}], 'summary': 'This is query entrance', 'target': 'GPE'}, 'GET /query/Recommender/splitData': {'action': 'query', 'alternative_endpoint': '/query/splitData', 'function': 'queryDispatcher', 'graph_name': 'Recommender', 'libudf': 'libudf_Recommender', 'parameters': {'query': {'default': 'splitData', 'type': 'STRING'}, 'testingDataFraction': {'min_count': 0, 'type': 'DOUBLE'}}, 'payload': [{'rule': 'AS_QUERY_STRING'}], 'summary': 'This is query entrance', 'target': 'GPE'}, 'GET /query/Recommender/test': {'action': 'query', 'alternative_endpoint': '/query/test', 'function': 'queryDispatcher', 'graph_name': 'Recommender', 'libudf': 'libudf_Recommender', 'parameters': {'query': {'default': 'test', 'type': 'STRING'}, 'user': {'id_type': 'USER', 'is_id': 'true', 'min_count': 0, 'type': 'STRING'}}, 'payload': [{'rule': 'AS_QUERY_STRING'}], 'summary': 'This is query entrance', 'target': 'GPE'}, 'GET /query/Recommender/training': {'action': 'query', 'alternative_endpoint': '/query/training', 'function': 'queryDispatcher', 'graph_name': 'Recommender', 'libudf': 'libudf_Recommender', 'parameters': {'Iter': {'min_count': 0, 'type': 'INT64'}, 'alpha': {'min_count': 0, 'type': 'DOUBLE'}, 'query': {'default': 'training', 'type': 'STRING'}}, 'payload': [{'rule': 'AS_QUERY_STRING'}], 'summary': 'This is query entrance', 'target': 'GPE'}, 'GET /query/Recommender/training_biasModel': {'action': 'query', 'alternative_endpoint': '/query/training_biasModel', 'function': 'queryDispatcher', 'graph_name': 'Recommender', 'libudf': 'libudf_Recommender', 'parameters': {'Iter': {'min_count': 0, 'type': 'INT64'}, 'alpha': {'min_count': 0, 'type': 'DOUBLE'}, 'lambda': {'min_count': 0, 'type': 'DOUBLE'}, 'num_latent_factors': {'min_count': 0, 'type': 'INT64'}, 'query': {'default': 'training_biasModel', 'type': 'STRING'}}, 'payload': [{'rule': 'AS_QUERY_STRING'}], 'summary': 'This is query entrance', 'target': 'GPE'}, 'GET /query/Recommender/training_hybridModel': {'action': 'query', 'alternative_endpoint': '/query/training_hybridModel', 'function': 'queryDispatcher', 'graph_name': 'Recommender', 'libudf': 'libudf_Recommender', 'parameters': {'Iter': {'min_count': 0, 'type': 'INT64'}, 'alpha': {'min_count': 0, 'type': 'DOUBLE'}, 'lambda': {'min_count': 0, 'type': 'DOUBLE'}, 'num_latent_factors': {'min_count': 0, 'type': 'INT64'}, 'query': {'default': 'training_hybridModel', 'type': 'STRING'}}, 'payload': [{'rule': 'AS_QUERY_STRING'}], 'summary': 'This is query entrance', 'target': 'GPE'}, 'GET /query/Recommender/training_miniBatch': {'action': 'query', 'alternative_endpoint': '/query/training_miniBatch', 'function': 'queryDispatcher', 'graph_name': 'Recommender', 'libudf': 'libudf_Recommender', 'parameters': {'Iter': {'min_count': 0, 'type': 'INT64'}, 'alpha': {'min_count': 0, 'type': 'DOUBLE'}, 'num_latent_factors': {'min_count': 0, 'type': 'INT64'}, 'query': {'default': 'training_miniBatch', 'type': 'STRING'}}, 'payload': [{'rule': 'AS_QUERY_STRING'}], 'summary': 'This is query entrance', 'target': 'GPE'}, 'GET /query/Recommender/training_validation': {'action': 'query', 'alternative_endpoint': '/query/training_validation', 'function': 'queryDispatcher', 'graph_name': 'Recommender', 'libudf': 'libudf_Recommender', 'parameters': {'Iter': {'min_count': 0, 'type': 'INT64'}, 'alpha': {'min_count': 0, 'type': 'DOUBLE'}, 'lambda': {'min_count': 0, 'type': 'DOUBLE'}, 'num_latent_factors': {'min_count': 0, 'type': 'INT64'}, 'query': {'default': 'training_validation', 'type': 'STRING'}}, 'payload': [{'rule': 'AS_QUERY_STRING'}], 'summary': 'This is query entrance', 'target': 'GPE'}, 'GET /query/Recommender/userData': {'action': 'query', 'alternative_endpoint': '/query/userData', 'function': 'queryDispatcher', 'graph_name': 'Recommender', 'libudf': 'libudf_Recommender', 'parameters': {'query': {'default': 'userData', 'type': 'STRING'}, 'user': {'id_type': 'USER', 'is_id': 'true', 'min_count': 0, 'type': 'STRING'}}, 'payload': [{'rule': 'AS_QUERY_STRING'}], 'summary': 'This is query entrance', 'target': 'GPE'}, 'GET /query/Recommender/userRatings': {'action': 'query', 'alternative_endpoint': '/query/userRatings', 'function': 'queryDispatcher', 'graph_name': 'Recommender', 'libudf': 'libudf_Recommender', 'parameters': {'query': {'default': 'userRatings', 'type': 'STRING'}, 'user': {'id_type': 'USER', 'is_id': 'true', 'min_count': 0, 'type': 'STRING'}}, 'payload': [{'rule': 'AS_QUERY_STRING'}], 'summary': 'This is query entrance', 'target': 'GPE'}, 'GET /query/Recommender/user_profile': {'action': 'query', 'alternative_endpoint': '/query/user_profile', 'function': 'queryDispatcher', 'graph_name': 'Recommender', 'libudf': 'libudf_Recommender', 'parameters': {'query': {'default': 'user_profile', 'type': 'STRING'}}, 'payload': [{'rule': 'AS_QUERY_STRING'}], 'summary': 'This is query entrance', 'target': 'GPE'}, 'GET /query/Recommender/user_profile_normalization': {'action': 'query', 'alternative_endpoint': '/query/user_profile_normalization', 'function': 'queryDispatcher', 'graph_name': 'Recommender', 'libudf': 'libudf_Recommender', 'parameters': {'query': {'default': 'user_profile_normalization', 'type': 'STRING'}}, 'payload': [{'rule': 'AS_QUERY_STRING'}], 'summary': 'This is query entrance', 'target': 'GPE'}, 'GET /query/Recommender/validation_TFIDF': {'action': 'query', 'alternative_endpoint': '/query/validation_TFIDF', 'function': 'queryDispatcher', 'graph_name': 'Recommender', 'libudf': 'libudf_Recommender', 'parameters': {'query': {'default': 'validation_TFIDF', 'type': 'STRING'}}, 'payload': [{'rule': 'AS_QUERY_STRING'}], 'summary': 'This is query entrance', 'target': 'GPE'}, 'GET /query/Recommender/validation_TFIDF_sub': {'action': 'query', 'alternative_endpoint': '/query/validation_TFIDF_sub', 'function': 'queryDispatcher', 'graph_name': 'Recommender', 'libudf': 'libudf_Recommender', 'parameters': {'movie': {'id_type': 'MOVIE', 'is_id': 'true', 'min_count': 0, 'type': 'STRING'}, 'query': {'default': 'validation_TFIDF_sub', 'type': 'STRING'}}, 'payload': [{'rule': 'AS_QUERY_STRING'}], 'summary': 'This is query entrance', 'target': 'GPE'}, 'GET /query/TFIDF': {'action': 'query', 'alternative_endpoint': '/query/TFIDF', 'function': 'queryDispatcher', 'graph_name': 'Recommender', 'libudf': 'libudf_Recommender', 'parameters': {'query': {'default': 'TFIDF', 'type': 'STRING'}}, 'payload': [{'rule': 'AS_QUERY_STRING'}], 'summary': 'This is query entrance', 'target': 'GPE'}, 'GET /query/TFIDF_normalization': {'action': 'query', 'alternative_endpoint': '/query/TFIDF_normalization', 'function': 'queryDispatcher', 'graph_name': 'Recommender', 'libudf': 'libudf_Recommender', 'parameters': {'query': {'default': 'TFIDF_normalization', 'type': 'STRING'}}, 'payload': [{'rule': 'AS_QUERY_STRING'}], 'summary': 'This is query entrance', 'target': 'GPE'}, 'GET /query/countMovie': {'action': 'query', 'alternative_endpoint': '/query/countMovie', 'function': 'queryDispatcher', 'graph_name': 'Recommender', 'libudf': 'libudf_Recommender', 'parameters': {'query': {'default': 'countMovie', 'type': 'STRING'}}, 'payload': [{'rule': 'AS_QUERY_STRING'}], 'summary': 'This is query entrance', 'target': 'GPE'}, 'GET /query/edgeTest': {'action': 'query', 'alternative_endpoint': '/query/edgeTest', 'function': 'queryDispatcher', 'graph_name': 'Recommender', 'libudf': 'libudf_Recommender', 'parameters': {'query': {'default': 'edgeTest', 'type': 'STRING'}, 'user': {'id_type': 'USER', 'is_id': 'true', 'min_count': 0, 'type': 'STRING'}}, 'payload': [{'rule': 'AS_QUERY_STRING'}], 'summary': 'This is query entrance', 'target': 'GPE'}, 'GET /query/initialization': {'action': 'query', 'alternative_endpoint': '/query/initialization', 'function': 'queryDispatcher', 'graph_name': 'Recommender', 'libudf': 'libudf_Recommender', 'parameters': {'num_latent_factors': {'min_count': 0, 'type': 'INT64'}, 'query': {'default': 'initialization', 'type': 'STRING'}}, 'payload': [{'rule': 'AS_QUERY_STRING'}], 'summary': 'This is query entrance', 'target': 'GPE'}, 'GET /query/initialization_hybrid': {'action': 'query', 'alternative_endpoint': '/query/initialization_hybrid', 'function': 'queryDispatcher', 'graph_name': 'Recommender', 'libudf': 'libudf_Recommender', 'parameters': {'num_latent_factors': {'min_count': 0, 'type': 'INT64'}, 'query': {'default': 'initialization_hybrid', 'type': 'STRING'}}, 'payload': [{'rule': 'AS_QUERY_STRING'}], 'summary': 'This is query entrance', 'target': 'GPE'}, 'GET /query/movieLinks': {'action': 'query', 'alternative_endpoint': '/query/movieLinks', 'function': 'queryDispatcher', 'graph_name': 'Recommender', 'libudf': 'libudf_Recommender', 'parameters': {'query': {'default': 'movieLinks', 'type': 'STRING'}}, 'payload': [{'rule': 'AS_QUERY_STRING'}], 'summary': 'This is query entrance', 'target': 'GPE'}, 'GET /query/normalizeRating': {'action': 'query', 'alternative_endpoint': '/query/normalizeRating', 'function': 'queryDispatcher', 'graph_name': 'Recommender', 'libudf': 'libudf_Recommender', 'parameters': {'query': {'default': 'normalizeRating', 'type': 'STRING'}}, 'payload': [{'rule': 'AS_QUERY_STRING'}], 'summary': 'This is query entrance', 'target': 'GPE'}, 'GET /query/recommend': {'action': 'query', 'alternative_endpoint': '/query/recommend', 'function': 'queryDispatcher', 'graph_name': 'Recommender', 'libudf': 'libudf_Recommender', 'parameters': {'query': {'default': 'recommend', 'type': 'STRING'}, 'source': {'id_type': 'USER', 'is_id': 'true', 'min_count': 0, 'type': 'STRING'}}, 'payload': [{'rule': 'AS_QUERY_STRING'}], 'summary': 'This is query entrance', 'target': 'GPE'}, 'GET /query/splitData': {'action': 'query', 'alternative_endpoint': '/query/splitData', 'function': 'queryDispatcher', 'graph_name': 'Recommender', 'libudf': 'libudf_Recommender', 'parameters': {'query': {'default': 'splitData', 'type': 'STRING'}, 'testingDataFraction': {'min_count': 0, 'type': 'DOUBLE'}}, 'payload': [{'rule': 'AS_QUERY_STRING'}], 'summary': 'This is query entrance', 'target': 'GPE'}, 'GET /query/test': {'action': 'query', 'alternative_endpoint': '/query/test', 'function': 'queryDispatcher', 'graph_name': 'Recommender', 'libudf': 'libudf_Recommender', 'parameters': {'query': {'default': 'test', 'type': 'STRING'}, 'user': {'id_type': 'USER', 'is_id': 'true', 'min_count': 0, 'type': 'STRING'}}, 'payload': [{'rule': 'AS_QUERY_STRING'}], 'summary': 'This is query entrance', 'target': 'GPE'}, 'GET /query/training': {'action': 'query', 'alternative_endpoint': '/query/training', 'function': 'queryDispatcher', 'graph_name': 'Recommender', 'libudf': 'libudf_Recommender', 'parameters': {'Iter': {'min_count': 0, 'type': 'INT64'}, 'alpha': {'min_count': 0, 'type': 'DOUBLE'}, 'query': {'default': 'training', 'type': 'STRING'}}, 'payload': [{'rule': 'AS_QUERY_STRING'}], 'summary': 'This is query entrance', 'target': 'GPE'}, 'GET /query/training_biasModel': {'action': 'query', 'alternative_endpoint': '/query/training_biasModel', 'function': 'queryDispatcher', 'graph_name': 'Recommender', 'libudf': 'libudf_Recommender', 'parameters': {'Iter': {'min_count': 0, 'type': 'INT64'}, 'alpha': {'min_count': 0, 'type': 'DOUBLE'}, 'lambda': {'min_count': 0, 'type': 'DOUBLE'}, 'num_latent_factors': {'min_count': 0, 'type': 'INT64'}, 'query': {'default': 'training_biasModel', 'type': 'STRING'}}, 'payload': [{'rule': 'AS_QUERY_STRING'}], 'summary': 'This is query entrance', 'target': 'GPE'}, 'GET /query/training_hybridModel': {'action': 'query', 'alternative_endpoint': '/query/training_hybridModel', 'function': 'queryDispatcher', 'graph_name': 'Recommender', 'libudf': 'libudf_Recommender', 'parameters': {'Iter': {'min_count': 0, 'type': 'INT64'}, 'alpha': {'min_count': 0, 'type': 'DOUBLE'}, 'lambda': {'min_count': 0, 'type': 'DOUBLE'}, 'num_latent_factors': {'min_count': 0, 'type': 'INT64'}, 'query': {'default': 'training_hybridModel', 'type': 'STRING'}}, 'payload': [{'rule': 'AS_QUERY_STRING'}], 'summary': 'This is query entrance', 'target': 'GPE'}, 'GET /query/training_miniBatch': {'action': 'query', 'alternative_endpoint': '/query/training_miniBatch', 'function': 'queryDispatcher', 'graph_name': 'Recommender', 'libudf': 'libudf_Recommender', 'parameters': {'Iter': {'min_count': 0, 'type': 'INT64'}, 'alpha': {'min_count': 0, 'type': 'DOUBLE'}, 'num_latent_factors': {'min_count': 0, 'type': 'INT64'}, 'query': {'default': 'training_miniBatch', 'type': 'STRING'}}, 'payload': [{'rule': 'AS_QUERY_STRING'}], 'summary': 'This is query entrance', 'target': 'GPE'}, 'GET /query/training_validation': {'action': 'query', 'alternative_endpoint': '/query/training_validation', 'function': 'queryDispatcher', 'graph_name': 'Recommender', 'libudf': 'libudf_Recommender', 'parameters': {'Iter': {'min_count': 0, 'type': 'INT64'}, 'alpha': {'min_count': 0, 'type': 'DOUBLE'}, 'lambda': {'min_count': 0, 'type': 'DOUBLE'}, 'num_latent_factors': {'min_count': 0, 'type': 'INT64'}, 'query': {'default': 'training_validation', 'type': 'STRING'}}, 'payload': [{'rule': 'AS_QUERY_STRING'}], 'summary': 'This is query entrance', 'target': 'GPE'}, 'GET /query/userData': {'action': 'query', 'alternative_endpoint': '/query/userData', 'function': 'queryDispatcher', 'graph_name': 'Recommender', 'libudf': 'libudf_Recommender', 'parameters': {'query': {'default': 'userData', 'type': 'STRING'}, 'user': {'id_type': 'USER', 'is_id': 'true', 'min_count': 0, 'type': 'STRING'}}, 'payload': [{'rule': 'AS_QUERY_STRING'}], 'summary': 'This is query entrance', 'target': 'GPE'}, 'GET /query/userRatings': {'action': 'query', 'alternative_endpoint': '/query/userRatings', 'function': 'queryDispatcher', 'graph_name': 'Recommender', 'libudf': 'libudf_Recommender', 'parameters': {'query': {'default': 'userRatings', 'type': 'STRING'}, 'user': {'id_type': 'USER', 'is_id': 'true', 'min_count': 0, 'type': 'STRING'}}, 'payload': [{'rule': 'AS_QUERY_STRING'}], 'summary': 'This is query entrance', 'target': 'GPE'}, 'GET /query/user_profile': {'action': 'query', 'alternative_endpoint': '/query/user_profile', 'function': 'queryDispatcher', 'graph_name': 'Recommender', 'libudf': 'libudf_Recommender', 'parameters': {'query': {'default': 'user_profile', 'type': 'STRING'}}, 'payload': [{'rule': 'AS_QUERY_STRING'}], 'summary': 'This is query entrance', 'target': 'GPE'}, 'GET /query/user_profile_normalization': {'action': 'query', 'alternative_endpoint': '/query/user_profile_normalization', 'function': 'queryDispatcher', 'graph_name': 'Recommender', 'libudf': 'libudf_Recommender', 'parameters': {'query': {'default': 'user_profile_normalization', 'type': 'STRING'}}, 'payload': [{'rule': 'AS_QUERY_STRING'}], 'summary': 'This is query entrance', 'target': 'GPE'}, 'GET /query/validation_TFIDF': {'action': 'query', 'alternative_endpoint': '/query/validation_TFIDF', 'function': 'queryDispatcher', 'graph_name': 'Recommender', 'libudf': 'libudf_Recommender', 'parameters': {'query': {'default': 'validation_TFIDF', 'type': 'STRING'}}, 'payload': [{'rule': 'AS_QUERY_STRING'}], 'summary': 'This is query entrance', 'target': 'GPE'}, 'GET /query/validation_TFIDF_sub': {'action': 'query', 'alternative_endpoint': '/query/validation_TFIDF_sub', 'function': 'queryDispatcher', 'graph_name': 'Recommender', 'libudf': 'libudf_Recommender', 'parameters': {'movie': {'id_type': 'MOVIE', 'is_id': 'true', 'min_count': 0, 'type': 'STRING'}, 'query': {'default': 'validation_TFIDF_sub', 'type': 'STRING'}}, 'payload': [{'rule': 'AS_QUERY_STRING'}], 'summary': 'This is query entrance', 'target': 'GPE'}, 'GET /rebuildnow/{graph_name}': {'parameters': {'graph_name': {'default': '', 'max_count': 1, 'min_count': 0, 'type': 'STRING'}, 'path': {'default': '/tmp/rebuildnow', 'max_count': 1, 'min_count': 0, 'type': 'STRING'}, 'segid': {'min_count': 0, 'type': 'UINT32'}, 'threadnum': {'default': '0', 'max_count': 1, 'min_count': 0, 'type': 'UINT32'}, 'vertextype': {'max_count': 1, 'min_count': 0, 'type': 'TYPENAME'}}}, 'GET /shortestpath/{graph_name}': {'parameters': {'graph_name': {'default': '', 'max_count': 1, 'min_count': 0, 'type': 'STRING'}}}, 'GET /showlicenseinfo/{graph_name}': {'parameters': {'graph_name': {'default': '', 'max_count': 1, 'min_count': 0, 'type': 'STRING'}}}, 'GET /showprocesslist/{graph_name}': {'parameters': {'graph_name': {'default': '', 'max_count': 1, 'min_count': 0, 'type': 'STRING'}}}, 'GET /statistics/{graph_name}': {'parameters': {'graph_name': {'default': '', 'max_count': 1, 'min_count': 0, 'type': 'STRING'}, 'seconds': {'default': '10', 'type': 'UINT32'}, 'segments': {'default': '10', 'max': '100', 'min': '1', 'type': 'UINT32'}}}, 'GET /version/{graph_name}': {'parameters': {'graph_name': {'default': '', 'max_count': 1, 'min_count': 0, 'type': 'STRING'}}}, 'POST /abortquery/{graph_name}': {'parameters': {'graph_name': {'default': '', 'max_count': 1, 'min_count': 0, 'type': 'STRING'}, 'requestid': {'min_count': 0, 'type': 'STRING'}}}, 'POST /allpaths/{graph_name}': {'parameters': {'graph_name': {'default': '', 'max_count': 1, 'min_count': 0, 'type': 'STRING'}}}, 'POST /builtins/{graph_name}': {'parameters': {'graph_name': {'default': '', 'max_count': 1, 'min_count': 0, 'type': 'STRING'}, 'realtime': {'default': 'false', 'max_count': 1, 'min_count': 0, 'type': 'BOOL'}}}, 'POST /ddl/{graph_name}': {'parameters': {'ack': {'default': 'all', 'max_count': 1, 'min_count': 1, 'options': ['all', 'none'], 'type': 'STRING'}, 'concise': {'default': 'false', 'max_count': 1, 'min_count': 1, 'type': 'BOOL'}, 'eol': {'default': '\\n', 'max_count': 1, 'max_length': 4, 'min_count': 0, 'min_length': 1, 'type': 'STRING'}, 'filename': {'default': '__GSQL_FILENAME__', 'max_count': 1, 'min_count': 0, 'type': 'STRING'}, 'graph_name': {'default': '', 'max_count': 1, 'min_count': 0, 'type': 'STRING'}, 'sep': {'default': ',', 'max_count': 1, 'max_length': 4, 'min_count': 0, 'min_length': 1, 'type': 'STRING'}, 'tag': {'max_count': 1, 'min_count': 1, 'type': 'STRING'}, 'timeout': {'default': '0', 'max_count': 1, 'min_count': 0, 'type': 'UINT32'}}}, 'POST /echo/{graph_name}': {'parameters': {'graph_name': {'default': '', 'max_count': 1, 'min_count': 0, 'type': 'STRING'}, 'sleep': {'default': '0', 'type': 'INT32'}}}, 'POST /graph/{graph_name}': {'parameters': {'ack': {'default': 'all', 'max_count': 1, 'min_count': 1, 'options': ['all', 'none'], 'type': 'STRING'}, 'graph_name': {'default': '', 'max_count': 1, 'min_count': 0, 'type': 'STRING'}, 'new_vertex_only': {'default': 'false', 'max_count': 1, 'min_count': 0, 'type': 'BOOL'}, 'vertex_must_exist': {'default': 'false', 'max_count': 1, 'min_count': 0, 'type': 'BOOL'}}}, 'POST /rebuildnow/{graph_name}': {'parameters': {'graph_name': {'default': '', 'max_count': 1, 'min_count': 0, 'type': 'STRING'}, 'path': {'default': '/tmp/rebuildnow', 'max_count': 1, 'min_count': 0, 'type': 'STRING'}, 'segid': {'min_count': 0, 'type': 'UINT32'}, 'threadnum': {'default': '0', 'max_count': 1, 'min_count': 0, 'type': 'UINT32'}, 'vertextype': {'max_count': 1, 'min_count': 0, 'type': 'TYPENAME'}}}, 'POST /restpploader/{graph_name}': {'parameters': {'abort': {'max_count': 1, 'min_count': 0, 'type': 'BOOL'}, 'checkstatus': {'max_count': 1, 'min_count': 0, 'type': 'BOOL'}, 'graph_name': {'default': '', 'max_count': 1, 'min_count': 0, 'type': 'STRING'}, 'resume': {'max_count': 1, 'min_count': 0, 'type': 'BOOL'}, 'showsummary': {'max_count': 1, 'min_count': 0, 'type': 'BOOL'}}}, 'POST /shortestpath/{graph_name}': {'parameters': {'graph_name': {'default': '', 'max_count': 1, 'min_count': 0, 'type': 'STRING'}}}, 'POST /showprocesslist/{graph_name}': {'parameters': {'graph_name': {'default': '', 'max_count': 1, 'min_count': 0, 'type': 'STRING'}}}}\n"
     ]
    }
   ],
   "source": [
    "graph = tg.TigerGraphConnection(\n",
    "    ipAddress=\"https://graphml.i.tgcloud.io\", \n",
    "    graphname=\"Recommender\", \n",
    "    apiToken=\"k794knbbp8uam2gqgghqusohe5on44gs\")\n",
    "\n",
    "results = graph.getEndpoints()\n",
    "print(results)\n"
   ]
  },
  {
   "cell_type": "markdown",
   "metadata": {
    "colab_type": "text",
    "id": "MYXFeYeuDKwB"
   },
   "source": [
    "## Data Manipulation using Pandas"
   ]
  },
  {
   "cell_type": "markdown",
   "metadata": {
    "colab_type": "text",
    "id": "R7H1fjC_CrvO"
   },
   "source": [
    "#### Grab Data From REST endpoint"
   ]
  },
  {
   "cell_type": "code",
   "execution_count": 5,
   "metadata": {
    "colab": {
     "base_uri": "https://localhost:8080/",
     "height": 54
    },
    "colab_type": "code",
    "executionInfo": {
     "elapsed": 651,
     "status": "ok",
     "timestamp": 1582929986265,
     "user": {
      "displayName": "Jonathan Herke",
      "photoUrl": "https://lh3.googleusercontent.com/a-/AAuE7mCrCehKtac_iyX3H42F30Y892nc8I5UlpDDuAg4=s64",
      "userId": "16398260636956526583"
     },
     "user_tz": 360
    },
    "id": "m0--2IP-Wsto",
    "outputId": "2ae8c73a-4228-4cba-d778-a1e618c64a3a"
   },
   "outputs": [
    {
     "name": "stdout",
     "output_type": "stream",
     "text": [
      "{'version': {'edition': 'enterprise', 'api': 'v2', 'schema': 0}, 'error': False, 'message': '', 'results': [{'S2': [{'v_id': '566', 'v_type': 'MOVIE', 'attributes': {'movieID': '566', 'movieTitle': 'Clear and Present Danger (1994)', 'userRating': 0.39344, 'genre': ['Thriller', 'Action', 'Adventure']}}, {'v_id': '568', 'v_type': 'MOVIE', 'attributes': {'movieID': '568', 'movieTitle': 'Speed (1994)', 'userRating': 0.36875, 'genre': ['Thriller', 'Action', 'Romance']}}, {'v_id': '840', 'v_type': 'MOVIE', 'attributes': {'movieID': '840', 'movieTitle': 'Last Man Standing (1996)', 'userRating': -1.61538, 'genre': ['Western', 'Drama', 'Action']}}, {'v_id': '1034', 'v_type': 'MOVIE', 'attributes': {'movieID': '1034', 'movieTitle': 'Quest, The (1996)', 'userRating': 0.84615, 'genre': ['Action', 'Adventure']}}, {'v_id': '79', 'v_type': 'MOVIE', 'attributes': {'movieID': '79', 'movieTitle': 'Fugitive, The (1993)', 'userRating': 0.96537, 'genre': ['Thriller', 'Action']}}, {'v_id': '53', 'v_type': 'MOVIE', 'attributes': {'movieID': '53', 'movieTitle': 'Natural Born Killers (1994)', 'userRating': -1.76744, 'genre': ['Thriller', 'Action']}}, {'v_id': '546', 'v_type': 'MOVIE', 'attributes': {'movieID': '546', 'movieTitle': 'Broken Arrow (1996)', 'userRating': -1.01622, 'genre': ['Thriller', 'Action']}}, {'v_id': '576', 'v_type': 'MOVIE', 'attributes': {'movieID': '576', 'movieTitle': 'Cliffhanger (1993)', 'userRating': -1.95714, 'genre': ['Action', 'Crime', 'Adventure']}}, {'v_id': '27', 'v_type': 'MOVIE', 'attributes': {'movieID': '27', 'movieTitle': 'Bad Boys (1995)', 'userRating': -2.10526, 'genre': ['Action']}}, {'v_id': '17', 'v_type': 'MOVIE', 'attributes': {'movieID': '17', 'movieTitle': 'From Dusk Till Dawn (1996)', 'userRating': -0.14063, 'genre': ['Thriller', 'Horror', 'Action', 'Comedy', 'Crime']}}, {'v_id': '233', 'v_type': 'MOVIE', 'attributes': {'movieID': '233', 'movieTitle': 'Under Siege (1992)', 'userRating': 0.71264, 'genre': ['Action']}}, {'v_id': '22', 'v_type': 'MOVIE', 'attributes': {'movieID': '22', 'movieTitle': 'Braveheart (1995)', 'userRating': 0.86538, 'genre': ['War', 'Action', 'Drama']}}, {'v_id': '118', 'v_type': 'MOVIE', 'attributes': {'movieID': '118', 'movieTitle': 'Twister (1996)', 'userRating': 0.77033, 'genre': ['Thriller', 'Action', 'Adventure']}}, {'v_id': '96', 'v_type': 'MOVIE', 'attributes': {'movieID': '96', 'movieTitle': 'Terminator 2: Judgment Day (1991)', 'userRating': 0.06635, 'genre': ['Thriller', 'Sci-Fi', 'Action']}}, {'v_id': '68', 'v_type': 'MOVIE', 'attributes': {'movieID': '68', 'movieTitle': 'Crow, The (1994)', 'userRating': -0.35556, 'genre': ['Thriller', 'Action', 'Romance']}}, {'v_id': '195', 'v_type': 'MOVIE', 'attributes': {'movieID': '195', 'movieTitle': 'Terminator, The (1984)', 'userRating': 1.03883, 'genre': ['Thriller', 'Sci-Fi', 'Action']}}, {'v_id': '562', 'v_type': 'MOVIE', 'attributes': {'movieID': '562', 'movieTitle': 'Quick and the Dead, The (1995)', 'userRating': -0.25, 'genre': ['Western', 'Action', 'Adventure']}}, {'v_id': '172', 'v_type': 'MOVIE', 'attributes': {'movieID': '172', 'movieTitle': 'Empire Strikes Back, The (1980)', 'userRating': -3.24016, 'genre': ['War', 'Action', 'Sci-Fi', 'Romance', 'Drama', 'Adventure']}}, {'v_id': '231', 'v_type': 'MOVIE', 'attributes': {'movieID': '231', 'movieTitle': 'Batman Returns (1992)', 'userRating': 2.21053, 'genre': ['Action', 'Comedy', 'Crime', 'Adventure']}}, {'v_id': '550', 'v_type': 'MOVIE', 'attributes': {'movieID': '550', 'movieTitle': 'Die Hard: With a Vengeance (1995)', 'userRating': -2.17347, 'genre': ['Thriller', 'Action']}}, {'v_id': '363', 'v_type': 'MOVIE', 'attributes': {'movieID': '363', 'movieTitle': 'Sudden Death (1995)', 'userRating': -1.5, 'genre': ['Action']}}, {'v_id': '82', 'v_type': 'MOVIE', 'attributes': {'movieID': '82', 'movieTitle': 'Jurassic Park (1993)', 'userRating': 1.23295, 'genre': ['Sci-Fi', 'Action', 'Adventure']}}, {'v_id': '586', 'v_type': 'MOVIE', 'attributes': {'movieID': '586', 'movieTitle': 'Terminal Velocity (1994)', 'userRating': -0.54545, 'genre': ['Action']}}, {'v_id': '174', 'v_type': 'MOVIE', 'attributes': {'movieID': '174', 'movieTitle': 'Raiders of the Lost Ark (1981)', 'userRating': -1.29568, 'genre': ['Action', 'Adventure']}}, {'v_id': '720', 'v_type': 'MOVIE', 'attributes': {'movieID': '720', 'movieTitle': 'First Knight (1995)', 'userRating': 0.07692, 'genre': ['Action', 'Romance', 'Drama', 'Adventure']}}, {'v_id': '472', 'v_type': 'MOVIE', 'attributes': {'movieID': '472', 'movieTitle': 'Dragonheart (1996)', 'userRating': -0.15702, 'genre': ['Fantasy', 'Action', 'Adventure']}}, {'v_id': '210', 'v_type': 'MOVIE', 'attributes': {'movieID': '210', 'movieTitle': 'Indiana Jones and the Last Crusade (1989)', 'userRating': 0.02679, 'genre': ['Action', 'Adventure']}}, {'v_id': '827', 'v_type': 'MOVIE', 'attributes': {'movieID': '827', 'movieTitle': 'Daylight (1996)', 'userRating': -0.71111, 'genre': ['Thriller', 'Action', 'Adventure']}}, {'v_id': '11', 'v_type': 'MOVIE', 'attributes': {'movieID': '11', 'movieTitle': 'Seven (Se7en) (1995)', 'userRating': 0.1375, 'genre': ['Thriller', 'Crime']}}, {'v_id': '1303', 'v_type': 'MOVIE', 'attributes': {'movieID': '1303', 'movieTitle': 'Getaway, The (1994)', 'userRating': 0.09091, 'genre': ['Action']}}, {'v_id': '405', 'v_type': 'MOVIE', 'attributes': {'movieID': '405', 'movieTitle': 'Mission: Impossible (1996)', 'userRating': -0.31765, 'genre': ['Mystery', 'Action', 'Adventure']}}, {'v_id': '281', 'v_type': 'MOVIE', 'attributes': {'movieID': '281', 'movieTitle': 'River Wild, The (1994)', 'userRating': -1.14563, 'genre': ['Thriller', 'Action']}}, {'v_id': '373', 'v_type': 'MOVIE', 'attributes': {'movieID': '373', 'movieTitle': 'Judge Dredd (1995)', 'userRating': -0.80769, 'genre': ['Sci-Fi', 'Action', 'Adventure']}}, {'v_id': '385', 'v_type': 'MOVIE', 'attributes': {'movieID': '385', 'movieTitle': 'True Lies (1994)', 'userRating': -1.59155, 'genre': ['Action', 'Romance', 'Comedy', 'Adventure']}}, {'v_id': '7', 'v_type': 'MOVIE', 'attributes': {'movieID': '7', 'movieTitle': 'Twelve Monkeys (1995)', 'userRating': 0.16846, 'genre': ['Sci-Fi', 'Drama']}}, {'v_id': '182', 'v_type': 'MOVIE', 'attributes': {'movieID': '182', 'movieTitle': 'GoodFellas (1990)', 'userRating': -1.95541, 'genre': ['Drama', 'Crime']}}, {'v_id': '222', 'v_type': 'MOVIE', 'attributes': {'movieID': '222', 'movieTitle': 'Star Trek: First Contact (1996)', 'userRating': 1.38247, 'genre': ['Sci-Fi', 'Action', 'Adventure']}}, {'v_id': '779', 'v_type': 'MOVIE', 'attributes': {'movieID': '779', 'movieTitle': 'Drop Zone (1994)', 'userRating': -1.53846, 'genre': ['Action']}}, {'v_id': '1222', 'v_type': 'MOVIE', 'attributes': {'movieID': '1222', 'movieTitle': 'Judgment Night (1993)', 'userRating': -1.33333, 'genre': ['Action']}}, {'v_id': '1228', 'v_type': 'MOVIE', 'attributes': {'movieID': '1228', 'movieTitle': 'Under Siege 2: Dark Territory (1995)', 'userRating': -0.46875, 'genre': ['Action']}}, {'v_id': '597', 'v_type': 'MOVIE', 'attributes': {'movieID': '597', 'movieTitle': 'Eraser (1996)', 'userRating': 0.85926, 'genre': ['Thriller', 'Action']}}, {'v_id': '144', 'v_type': 'MOVIE', 'attributes': {'movieID': '144', 'movieTitle': 'Die Hard (1988)', 'userRating': 0.06936, 'genre': ['Thriller', 'Action']}}, {'v_id': '185', 'v_type': 'MOVIE', 'attributes': {'movieID': '185', 'movieTitle': 'Psycho (1960)', 'userRating': -1.1018, 'genre': ['Thriller', 'Horror', 'Romance']}}, {'v_id': '761', 'v_type': 'MOVIE', 'attributes': {'movieID': '761', 'movieTitle': 'Nick of Time (1995)', 'userRating': 0.81818, 'genre': ['Thriller', 'Action']}}, {'v_id': '226', 'v_type': 'MOVIE', 'attributes': {'movieID': '226', 'movieTitle': 'Die Hard 2 (1990)', 'userRating': -2.39091, 'genre': ['Thriller', 'Action']}}, {'v_id': '541', 'v_type': 'MOVIE', 'attributes': {'movieID': '541', 'movieTitle': 'Mortal Kombat (1995)', 'userRating': 0.12821, 'genre': ['Action', 'Adventure']}}, {'v_id': '398', 'v_type': 'MOVIE', 'attributes': {'movieID': '398', 'movieTitle': 'Super Mario Bros. (1993)', 'userRating': -1.22222, 'genre': [\"Children's\", 'Sci-Fi', 'Action', 'Adventure']}}, {'v_id': '403', 'v_type': 'MOVIE', 'attributes': {'movieID': '403', 'movieTitle': 'Batman (1989)', 'userRating': 1.61765, 'genre': ['Action', 'Drama', 'Crime', 'Adventure']}}, {'v_id': '183', 'v_type': 'MOVIE', 'attributes': {'movieID': '183', 'movieTitle': 'Alien (1979)', 'userRating': -1.04608, 'genre': ['Thriller', 'Sci-Fi', 'Horror', 'Action']}}, {'v_id': '147', 'v_type': 'MOVIE', 'attributes': {'movieID': '147', 'movieTitle': 'Long Kiss Goodnight, The (1996)', 'userRating': -0.43411, 'genre': ['Thriller', 'Action']}}, {'v_id': '679', 'v_type': 'MOVIE', 'attributes': {'movieID': '679', 'movieTitle': 'Conan the Barbarian (1981)', 'userRating': 2, 'genre': ['Action', 'Adventure']}}, {'v_id': '540', 'v_type': 'MOVIE', 'attributes': {'movieID': '540', 'movieTitle': 'Money Train (1995)', 'userRating': -1.5625, 'genre': ['Action']}}, {'v_id': '29', 'v_type': 'MOVIE', 'attributes': {'movieID': '29', 'movieTitle': 'Batman Forever (1995)', 'userRating': -0.72368, 'genre': ['Action', 'Comedy', 'Crime', 'Adventure']}}, {'v_id': '33', 'v_type': 'MOVIE', 'attributes': {'movieID': '33', 'movieTitle': 'Desperado (1995)', 'userRating': 0.61765, 'genre': ['Thriller', 'Action', 'Romance']}}, {'v_id': '121', 'v_type': 'MOVIE', 'attributes': {'movieID': '121', 'movieTitle': 'Independence Day (ID4) (1996)', 'userRating': -2.52098, 'genre': ['War', 'Action', 'Sci-Fi']}}, {'v_id': '665', 'v_type': 'MOVIE', 'attributes': {'movieID': '665', 'movieTitle': 'Alien 3 (1992)', 'userRating': 1.16418, 'genre': ['Thriller', 'Sci-Fi', 'Horror', 'Action']}}, {'v_id': '38', 'v_type': 'MOVIE', 'attributes': {'movieID': '38', 'movieTitle': 'Net, The (1995)', 'userRating': -0.02439, 'genre': ['Thriller', 'Sci-Fi']}}, {'v_id': '578', 'v_type': 'MOVIE', 'attributes': {'movieID': '578', 'movieTitle': 'Demolition Man (1993)', 'userRating': 1.68333, 'genre': ['Sci-Fi', 'Action']}}, {'v_id': '810', 'v_type': 'MOVIE', 'attributes': {'movieID': '810', 'movieTitle': 'Shadow, The (1994)', 'userRating': 0.14286, 'genre': ['Action']}}, {'v_id': '50', 'v_type': 'MOVIE', 'attributes': {'movieID': '50', 'movieTitle': 'Star Wars (1977)', 'userRating': -3.36408, 'genre': ['War', 'Action', 'Sci-Fi', 'Romance', 'Adventure']}}, {'v_id': '56', 'v_type': 'MOVIE', 'attributes': {'movieID': '56', 'movieTitle': 'Pulp Fiction (1994)', 'userRating': 0.91241, 'genre': ['Drama', 'Crime']}}, {'v_id': '258', 'v_type': 'MOVIE', 'attributes': {'movieID': '258', 'movieTitle': 'Contact (1997)', 'userRating': -2.7932, 'genre': ['Sci-Fi', 'Drama']}}, {'v_id': '176', 'v_type': 'MOVIE', 'attributes': {'movieID': '176', 'movieTitle': 'Aliens (1986)', 'userRating': 0.06404, 'genre': ['Thriller', 'War', 'Action', 'Sci-Fi']}}, {'v_id': '2', 'v_type': 'MOVIE', 'attributes': {'movieID': '2', 'movieTitle': 'GoldenEye (1995)', 'userRating': -0.18085, 'genre': ['Thriller', 'Action', 'Adventure']}}, {'v_id': '797', 'v_type': 'MOVIE', 'attributes': {'movieID': '797', 'movieTitle': 'Timecop (1994)', 'userRating': 1.13043, 'genre': ['Sci-Fi', 'Action']}}, {'v_id': '62', 'v_type': 'MOVIE', 'attributes': {'movieID': '62', 'movieTitle': 'Stargate (1994)', 'userRating': -1.1954, 'genre': ['Sci-Fi', 'Action', 'Adventure']}}, {'v_id': '808', 'v_type': 'MOVIE', 'attributes': {'movieID': '808', 'movieTitle': 'Program, The (1993)', 'userRating': -0.7, 'genre': ['Action', 'Drama']}}, {'v_id': '685', 'v_type': 'MOVIE', 'attributes': {'movieID': '685', 'movieTitle': 'Executive Decision (1996)', 'userRating': 1.64545, 'genre': ['Thriller', 'Action']}}, {'v_id': '554', 'v_type': 'MOVIE', 'attributes': {'movieID': '554', 'movieTitle': 'Waterworld (1995)', 'userRating': 0.1831, 'genre': ['Action', 'Adventure']}}, {'v_id': '117', 'v_type': 'MOVIE', 'attributes': {'movieID': '117', 'movieTitle': 'Rock, The (1996)', 'userRating': 0.39063, 'genre': ['Thriller', 'Action', 'Adventure']}}, {'v_id': '684', 'v_type': 'MOVIE', 'attributes': {'movieID': '684', 'movieTitle': 'In the Line of Fire (1993)', 'userRating': 1.20325, 'genre': ['Thriller', 'Action']}}, {'v_id': '825', 'v_type': 'MOVIE', 'attributes': {'movieID': '825', 'movieTitle': 'Arrival, The (1996)', 'userRating': 0.03448, 'genre': ['Thriller', 'Sci-Fi', 'Action']}}, {'v_id': '636', 'v_type': 'MOVIE', 'attributes': {'movieID': '636', 'movieTitle': 'Escape from New York (1981)', 'userRating': -1.27273, 'genre': ['Thriller', 'Sci-Fi', 'Action', 'Adventure']}}, {'v_id': '181', 'v_type': 'MOVIE', 'attributes': {'movieID': '181', 'movieTitle': 'Return of the Jedi (1983)', 'userRating': -2.99725, 'genre': ['War', 'Action', 'Sci-Fi', 'Romance', 'Adventure']}}, {'v_id': '300', 'v_type': 'MOVIE', 'attributes': {'movieID': '300', 'movieTitle': 'Air Force One (1997)', 'userRating': 0.39322, 'genre': ['Thriller', 'Action']}}, {'v_id': '391', 'v_type': 'MOVIE', 'attributes': {'movieID': '391', 'movieTitle': 'Last Action Hero (1993)', 'userRating': 1.26829, 'genre': ['Action', 'Comedy']}}]}]}\n"
     ]
    }
   ],
   "source": [
    "preInstalledResult = graph.runInstalledQuery(\"userData\", {\"user\":\"217\"})\n",
    "parsR = (preInstalledResult)\n",
    "\n",
    "print (parsR) # full return of REST call\n",
    "\n"
   ]
  },
  {
   "cell_type": "markdown",
   "metadata": {
    "colab_type": "text",
    "id": "dKUVHAbGxNe5"
   },
   "source": [
    "#### Put JSON Data into Data Frame"
   ]
  },
  {
   "cell_type": "code",
   "execution_count": 6,
   "metadata": {
    "colab": {
     "base_uri": "https://localhost:8080/",
     "height": 419
    },
    "colab_type": "code",
    "executionInfo": {
     "elapsed": 280,
     "status": "ok",
     "timestamp": 1582930023746,
     "user": {
      "displayName": "Jonathan Herke",
      "photoUrl": "https://lh3.googleusercontent.com/a-/AAuE7mCrCehKtac_iyX3H42F30Y892nc8I5UlpDDuAg4=s64",
      "userId": "16398260636956526583"
     },
     "user_tz": 360
    },
    "id": "T6fIC9SPmiC7",
    "outputId": "c395a11b-dd24-497e-b60d-6a3b0018342d"
   },
   "outputs": [
    {
     "data": {
      "text/html": [
       "<div>\n",
       "<style scoped>\n",
       "    .dataframe tbody tr th:only-of-type {\n",
       "        vertical-align: middle;\n",
       "    }\n",
       "\n",
       "    .dataframe tbody tr th {\n",
       "        vertical-align: top;\n",
       "    }\n",
       "\n",
       "    .dataframe thead th {\n",
       "        text-align: right;\n",
       "    }\n",
       "</style>\n",
       "<table border=\"1\" class=\"dataframe\">\n",
       "  <thead>\n",
       "    <tr style=\"text-align: right;\">\n",
       "      <th></th>\n",
       "      <th>v_id</th>\n",
       "      <th>v_type</th>\n",
       "      <th>attributes</th>\n",
       "    </tr>\n",
       "  </thead>\n",
       "  <tbody>\n",
       "    <tr>\n",
       "      <th>0</th>\n",
       "      <td>566</td>\n",
       "      <td>MOVIE</td>\n",
       "      <td>{'movieID': '566', 'movieTitle': 'Clear and Pr...</td>\n",
       "    </tr>\n",
       "    <tr>\n",
       "      <th>1</th>\n",
       "      <td>568</td>\n",
       "      <td>MOVIE</td>\n",
       "      <td>{'movieID': '568', 'movieTitle': 'Speed (1994)...</td>\n",
       "    </tr>\n",
       "    <tr>\n",
       "      <th>2</th>\n",
       "      <td>840</td>\n",
       "      <td>MOVIE</td>\n",
       "      <td>{'movieID': '840', 'movieTitle': 'Last Man Sta...</td>\n",
       "    </tr>\n",
       "    <tr>\n",
       "      <th>3</th>\n",
       "      <td>1034</td>\n",
       "      <td>MOVIE</td>\n",
       "      <td>{'movieID': '1034', 'movieTitle': 'Quest, The ...</td>\n",
       "    </tr>\n",
       "    <tr>\n",
       "      <th>4</th>\n",
       "      <td>79</td>\n",
       "      <td>MOVIE</td>\n",
       "      <td>{'movieID': '79', 'movieTitle': 'Fugitive, The...</td>\n",
       "    </tr>\n",
       "    <tr>\n",
       "      <th>...</th>\n",
       "      <td>...</td>\n",
       "      <td>...</td>\n",
       "      <td>...</td>\n",
       "    </tr>\n",
       "    <tr>\n",
       "      <th>71</th>\n",
       "      <td>825</td>\n",
       "      <td>MOVIE</td>\n",
       "      <td>{'movieID': '825', 'movieTitle': 'Arrival, The...</td>\n",
       "    </tr>\n",
       "    <tr>\n",
       "      <th>72</th>\n",
       "      <td>636</td>\n",
       "      <td>MOVIE</td>\n",
       "      <td>{'movieID': '636', 'movieTitle': 'Escape from ...</td>\n",
       "    </tr>\n",
       "    <tr>\n",
       "      <th>73</th>\n",
       "      <td>181</td>\n",
       "      <td>MOVIE</td>\n",
       "      <td>{'movieID': '181', 'movieTitle': 'Return of th...</td>\n",
       "    </tr>\n",
       "    <tr>\n",
       "      <th>74</th>\n",
       "      <td>300</td>\n",
       "      <td>MOVIE</td>\n",
       "      <td>{'movieID': '300', 'movieTitle': 'Air Force On...</td>\n",
       "    </tr>\n",
       "    <tr>\n",
       "      <th>75</th>\n",
       "      <td>391</td>\n",
       "      <td>MOVIE</td>\n",
       "      <td>{'movieID': '391', 'movieTitle': 'Last Action ...</td>\n",
       "    </tr>\n",
       "  </tbody>\n",
       "</table>\n",
       "<p>76 rows × 3 columns</p>\n",
       "</div>"
      ],
      "text/plain": [
       "    v_id v_type                                         attributes\n",
       "0    566  MOVIE  {'movieID': '566', 'movieTitle': 'Clear and Pr...\n",
       "1    568  MOVIE  {'movieID': '568', 'movieTitle': 'Speed (1994)...\n",
       "2    840  MOVIE  {'movieID': '840', 'movieTitle': 'Last Man Sta...\n",
       "3   1034  MOVIE  {'movieID': '1034', 'movieTitle': 'Quest, The ...\n",
       "4     79  MOVIE  {'movieID': '79', 'movieTitle': 'Fugitive, The...\n",
       "..   ...    ...                                                ...\n",
       "71   825  MOVIE  {'movieID': '825', 'movieTitle': 'Arrival, The...\n",
       "72   636  MOVIE  {'movieID': '636', 'movieTitle': 'Escape from ...\n",
       "73   181  MOVIE  {'movieID': '181', 'movieTitle': 'Return of th...\n",
       "74   300  MOVIE  {'movieID': '300', 'movieTitle': 'Air Force On...\n",
       "75   391  MOVIE  {'movieID': '391', 'movieTitle': 'Last Action ...\n",
       "\n",
       "[76 rows x 3 columns]"
      ]
     },
     "execution_count": 6,
     "metadata": {
      "tags": []
     },
     "output_type": "execute_result"
    }
   ],
   "source": [
    "# Convert JSON to dataframe\n",
    "df = pd.DataFrame(parsR[\"results\"][0][\"S2\"]) # Grab only the data we are returning\n",
    "\n",
    "df"
   ]
  },
  {
   "cell_type": "code",
   "execution_count": 7,
   "metadata": {
    "colab": {
     "base_uri": "https://localhost:8080/",
     "height": 419
    },
    "colab_type": "code",
    "executionInfo": {
     "elapsed": 372,
     "status": "ok",
     "timestamp": 1582930040471,
     "user": {
      "displayName": "Jonathan Herke",
      "photoUrl": "https://lh3.googleusercontent.com/a-/AAuE7mCrCehKtac_iyX3H42F30Y892nc8I5UlpDDuAg4=s64",
      "userId": "16398260636956526583"
     },
     "user_tz": 360
    },
    "id": "H4VSuQtomtVt",
    "outputId": "94bb890d-7af8-48c0-9c9a-fd2db3b94489"
   },
   "outputs": [
    {
     "data": {
      "text/html": [
       "<div>\n",
       "<style scoped>\n",
       "    .dataframe tbody tr th:only-of-type {\n",
       "        vertical-align: middle;\n",
       "    }\n",
       "\n",
       "    .dataframe tbody tr th {\n",
       "        vertical-align: top;\n",
       "    }\n",
       "\n",
       "    .dataframe thead th {\n",
       "        text-align: right;\n",
       "    }\n",
       "</style>\n",
       "<table border=\"1\" class=\"dataframe\">\n",
       "  <thead>\n",
       "    <tr style=\"text-align: right;\">\n",
       "      <th></th>\n",
       "      <th>index</th>\n",
       "      <th>v_id</th>\n",
       "      <th>v_type</th>\n",
       "      <th>attributes.genre</th>\n",
       "      <th>attributes.userRating</th>\n",
       "      <th>attributes.movieTitle</th>\n",
       "      <th>attributes.movieID</th>\n",
       "    </tr>\n",
       "  </thead>\n",
       "  <tbody>\n",
       "    <tr>\n",
       "      <th>0</th>\n",
       "      <td>0</td>\n",
       "      <td>566</td>\n",
       "      <td>MOVIE</td>\n",
       "      <td>Thriller</td>\n",
       "      <td>0.39344</td>\n",
       "      <td>Clear and Present Danger (1994)</td>\n",
       "      <td>566</td>\n",
       "    </tr>\n",
       "    <tr>\n",
       "      <th>1</th>\n",
       "      <td>0</td>\n",
       "      <td>566</td>\n",
       "      <td>MOVIE</td>\n",
       "      <td>Action</td>\n",
       "      <td>0.39344</td>\n",
       "      <td>Clear and Present Danger (1994)</td>\n",
       "      <td>566</td>\n",
       "    </tr>\n",
       "    <tr>\n",
       "      <th>2</th>\n",
       "      <td>0</td>\n",
       "      <td>566</td>\n",
       "      <td>MOVIE</td>\n",
       "      <td>Adventure</td>\n",
       "      <td>0.39344</td>\n",
       "      <td>Clear and Present Danger (1994)</td>\n",
       "      <td>566</td>\n",
       "    </tr>\n",
       "    <tr>\n",
       "      <th>3</th>\n",
       "      <td>1</td>\n",
       "      <td>568</td>\n",
       "      <td>MOVIE</td>\n",
       "      <td>Thriller</td>\n",
       "      <td>0.36875</td>\n",
       "      <td>Speed (1994)</td>\n",
       "      <td>568</td>\n",
       "    </tr>\n",
       "    <tr>\n",
       "      <th>4</th>\n",
       "      <td>1</td>\n",
       "      <td>568</td>\n",
       "      <td>MOVIE</td>\n",
       "      <td>Action</td>\n",
       "      <td>0.36875</td>\n",
       "      <td>Speed (1994)</td>\n",
       "      <td>568</td>\n",
       "    </tr>\n",
       "    <tr>\n",
       "      <th>...</th>\n",
       "      <td>...</td>\n",
       "      <td>...</td>\n",
       "      <td>...</td>\n",
       "      <td>...</td>\n",
       "      <td>...</td>\n",
       "      <td>...</td>\n",
       "      <td>...</td>\n",
       "    </tr>\n",
       "    <tr>\n",
       "      <th>193</th>\n",
       "      <td>73</td>\n",
       "      <td>181</td>\n",
       "      <td>MOVIE</td>\n",
       "      <td>Adventure</td>\n",
       "      <td>-2.99725</td>\n",
       "      <td>Return of the Jedi (1983)</td>\n",
       "      <td>181</td>\n",
       "    </tr>\n",
       "    <tr>\n",
       "      <th>194</th>\n",
       "      <td>74</td>\n",
       "      <td>300</td>\n",
       "      <td>MOVIE</td>\n",
       "      <td>Thriller</td>\n",
       "      <td>0.39322</td>\n",
       "      <td>Air Force One (1997)</td>\n",
       "      <td>300</td>\n",
       "    </tr>\n",
       "    <tr>\n",
       "      <th>195</th>\n",
       "      <td>74</td>\n",
       "      <td>300</td>\n",
       "      <td>MOVIE</td>\n",
       "      <td>Action</td>\n",
       "      <td>0.39322</td>\n",
       "      <td>Air Force One (1997)</td>\n",
       "      <td>300</td>\n",
       "    </tr>\n",
       "    <tr>\n",
       "      <th>196</th>\n",
       "      <td>75</td>\n",
       "      <td>391</td>\n",
       "      <td>MOVIE</td>\n",
       "      <td>Action</td>\n",
       "      <td>1.26829</td>\n",
       "      <td>Last Action Hero (1993)</td>\n",
       "      <td>391</td>\n",
       "    </tr>\n",
       "    <tr>\n",
       "      <th>197</th>\n",
       "      <td>75</td>\n",
       "      <td>391</td>\n",
       "      <td>MOVIE</td>\n",
       "      <td>Comedy</td>\n",
       "      <td>1.26829</td>\n",
       "      <td>Last Action Hero (1993)</td>\n",
       "      <td>391</td>\n",
       "    </tr>\n",
       "  </tbody>\n",
       "</table>\n",
       "<p>198 rows × 7 columns</p>\n",
       "</div>"
      ],
      "text/plain": [
       "     index v_id  ...            attributes.movieTitle attributes.movieID\n",
       "0        0  566  ...  Clear and Present Danger (1994)                566\n",
       "1        0  566  ...  Clear and Present Danger (1994)                566\n",
       "2        0  566  ...  Clear and Present Danger (1994)                566\n",
       "3        1  568  ...                     Speed (1994)                568\n",
       "4        1  568  ...                     Speed (1994)                568\n",
       "..     ...  ...  ...                              ...                ...\n",
       "193     73  181  ...        Return of the Jedi (1983)                181\n",
       "194     74  300  ...             Air Force One (1997)                300\n",
       "195     74  300  ...             Air Force One (1997)                300\n",
       "196     75  391  ...          Last Action Hero (1993)                391\n",
       "197     75  391  ...          Last Action Hero (1993)                391\n",
       "\n",
       "[198 rows x 7 columns]"
      ]
     },
     "execution_count": 7,
     "metadata": {
      "tags": []
     },
     "output_type": "execute_result"
    }
   ],
   "source": [
    "# Normalize Data  \n",
    "df_t1 = flat_table.normalize(df)\n",
    "df_t1 # Output DataFrame"
   ]
  },
  {
   "cell_type": "markdown",
   "metadata": {
    "colab_type": "text",
    "id": "se-zfowOxYmU"
   },
   "source": [
    "### Prepping Data for TensorFlow"
   ]
  },
  {
   "cell_type": "code",
   "execution_count": 8,
   "metadata": {
    "colab": {
     "base_uri": "https://localhost:8080/",
     "height": 419
    },
    "colab_type": "code",
    "executionInfo": {
     "elapsed": 288,
     "status": "ok",
     "timestamp": 1582930049859,
     "user": {
      "displayName": "Jonathan Herke",
      "photoUrl": "https://lh3.googleusercontent.com/a-/AAuE7mCrCehKtac_iyX3H42F30Y892nc8I5UlpDDuAg4=s64",
      "userId": "16398260636956526583"
     },
     "user_tz": 360
    },
    "id": "543TZ0jnmzDJ",
    "outputId": "23a79b0f-ad09-4860-e1f7-3abe615e1a11"
   },
   "outputs": [
    {
     "data": {
      "text/html": [
       "<div>\n",
       "<style scoped>\n",
       "    .dataframe tbody tr th:only-of-type {\n",
       "        vertical-align: middle;\n",
       "    }\n",
       "\n",
       "    .dataframe tbody tr th {\n",
       "        vertical-align: top;\n",
       "    }\n",
       "\n",
       "    .dataframe thead th {\n",
       "        text-align: right;\n",
       "    }\n",
       "</style>\n",
       "<table border=\"1\" class=\"dataframe\">\n",
       "  <thead>\n",
       "    <tr style=\"text-align: right;\">\n",
       "      <th></th>\n",
       "      <th>index</th>\n",
       "      <th>ID</th>\n",
       "      <th>Type</th>\n",
       "      <th>genre</th>\n",
       "      <th>userRating</th>\n",
       "      <th>movieTitle</th>\n",
       "      <th>movieID</th>\n",
       "    </tr>\n",
       "  </thead>\n",
       "  <tbody>\n",
       "    <tr>\n",
       "      <th>0</th>\n",
       "      <td>0</td>\n",
       "      <td>566</td>\n",
       "      <td>MOVIE</td>\n",
       "      <td>Thriller</td>\n",
       "      <td>0.39344</td>\n",
       "      <td>Clear and Present Danger (1994)</td>\n",
       "      <td>566</td>\n",
       "    </tr>\n",
       "    <tr>\n",
       "      <th>1</th>\n",
       "      <td>0</td>\n",
       "      <td>566</td>\n",
       "      <td>MOVIE</td>\n",
       "      <td>Action</td>\n",
       "      <td>0.39344</td>\n",
       "      <td>Clear and Present Danger (1994)</td>\n",
       "      <td>566</td>\n",
       "    </tr>\n",
       "    <tr>\n",
       "      <th>2</th>\n",
       "      <td>0</td>\n",
       "      <td>566</td>\n",
       "      <td>MOVIE</td>\n",
       "      <td>Adventure</td>\n",
       "      <td>0.39344</td>\n",
       "      <td>Clear and Present Danger (1994)</td>\n",
       "      <td>566</td>\n",
       "    </tr>\n",
       "    <tr>\n",
       "      <th>3</th>\n",
       "      <td>1</td>\n",
       "      <td>568</td>\n",
       "      <td>MOVIE</td>\n",
       "      <td>Thriller</td>\n",
       "      <td>0.36875</td>\n",
       "      <td>Speed (1994)</td>\n",
       "      <td>568</td>\n",
       "    </tr>\n",
       "    <tr>\n",
       "      <th>4</th>\n",
       "      <td>1</td>\n",
       "      <td>568</td>\n",
       "      <td>MOVIE</td>\n",
       "      <td>Action</td>\n",
       "      <td>0.36875</td>\n",
       "      <td>Speed (1994)</td>\n",
       "      <td>568</td>\n",
       "    </tr>\n",
       "    <tr>\n",
       "      <th>...</th>\n",
       "      <td>...</td>\n",
       "      <td>...</td>\n",
       "      <td>...</td>\n",
       "      <td>...</td>\n",
       "      <td>...</td>\n",
       "      <td>...</td>\n",
       "      <td>...</td>\n",
       "    </tr>\n",
       "    <tr>\n",
       "      <th>193</th>\n",
       "      <td>73</td>\n",
       "      <td>181</td>\n",
       "      <td>MOVIE</td>\n",
       "      <td>Adventure</td>\n",
       "      <td>-2.99725</td>\n",
       "      <td>Return of the Jedi (1983)</td>\n",
       "      <td>181</td>\n",
       "    </tr>\n",
       "    <tr>\n",
       "      <th>194</th>\n",
       "      <td>74</td>\n",
       "      <td>300</td>\n",
       "      <td>MOVIE</td>\n",
       "      <td>Thriller</td>\n",
       "      <td>0.39322</td>\n",
       "      <td>Air Force One (1997)</td>\n",
       "      <td>300</td>\n",
       "    </tr>\n",
       "    <tr>\n",
       "      <th>195</th>\n",
       "      <td>74</td>\n",
       "      <td>300</td>\n",
       "      <td>MOVIE</td>\n",
       "      <td>Action</td>\n",
       "      <td>0.39322</td>\n",
       "      <td>Air Force One (1997)</td>\n",
       "      <td>300</td>\n",
       "    </tr>\n",
       "    <tr>\n",
       "      <th>196</th>\n",
       "      <td>75</td>\n",
       "      <td>391</td>\n",
       "      <td>MOVIE</td>\n",
       "      <td>Action</td>\n",
       "      <td>1.26829</td>\n",
       "      <td>Last Action Hero (1993)</td>\n",
       "      <td>391</td>\n",
       "    </tr>\n",
       "    <tr>\n",
       "      <th>197</th>\n",
       "      <td>75</td>\n",
       "      <td>391</td>\n",
       "      <td>MOVIE</td>\n",
       "      <td>Comedy</td>\n",
       "      <td>1.26829</td>\n",
       "      <td>Last Action Hero (1993)</td>\n",
       "      <td>391</td>\n",
       "    </tr>\n",
       "  </tbody>\n",
       "</table>\n",
       "<p>198 rows × 7 columns</p>\n",
       "</div>"
      ],
      "text/plain": [
       "     index   ID   Type  ... userRating                       movieTitle movieID\n",
       "0        0  566  MOVIE  ...    0.39344  Clear and Present Danger (1994)     566\n",
       "1        0  566  MOVIE  ...    0.39344  Clear and Present Danger (1994)     566\n",
       "2        0  566  MOVIE  ...    0.39344  Clear and Present Danger (1994)     566\n",
       "3        1  568  MOVIE  ...    0.36875                     Speed (1994)     568\n",
       "4        1  568  MOVIE  ...    0.36875                     Speed (1994)     568\n",
       "..     ...  ...    ...  ...        ...                              ...     ...\n",
       "193     73  181  MOVIE  ...   -2.99725        Return of the Jedi (1983)     181\n",
       "194     74  300  MOVIE  ...    0.39322             Air Force One (1997)     300\n",
       "195     74  300  MOVIE  ...    0.39322             Air Force One (1997)     300\n",
       "196     75  391  MOVIE  ...    1.26829          Last Action Hero (1993)     391\n",
       "197     75  391  MOVIE  ...    1.26829          Last Action Hero (1993)     391\n",
       "\n",
       "[198 rows x 7 columns]"
      ]
     },
     "execution_count": 8,
     "metadata": {
      "tags": []
     },
     "output_type": "execute_result"
    }
   ],
   "source": [
    "# Rename Columns\n",
    "df_t2 = df_t1.rename(columns={\n",
    "    'v_id':'ID',\n",
    "    'v_type':'Type',\n",
    "    'attributes.movieID':'movieID',\n",
    "    'attributes.movieTitle':'movieTitle',\n",
    "    'attributes.userRating':'userRating',\n",
    "    'attributes.genre':'genre'\n",
    "    })\n",
    "\n",
    "df_t2 # Output DataFrame"
   ]
  },
  {
   "cell_type": "code",
   "execution_count": 9,
   "metadata": {
    "colab": {
     "base_uri": "https://localhost:8080/",
     "height": 450
    },
    "colab_type": "code",
    "executionInfo": {
     "elapsed": 338,
     "status": "ok",
     "timestamp": 1582930051812,
     "user": {
      "displayName": "Jonathan Herke",
      "photoUrl": "https://lh3.googleusercontent.com/a-/AAuE7mCrCehKtac_iyX3H42F30Y892nc8I5UlpDDuAg4=s64",
      "userId": "16398260636956526583"
     },
     "user_tz": 360
    },
    "id": "heIK16FfRh0u",
    "outputId": "142197bc-b14e-41ec-f516-155e17554480"
   },
   "outputs": [
    {
     "data": {
      "text/html": [
       "<div>\n",
       "<style scoped>\n",
       "    .dataframe tbody tr th:only-of-type {\n",
       "        vertical-align: middle;\n",
       "    }\n",
       "\n",
       "    .dataframe tbody tr th {\n",
       "        vertical-align: top;\n",
       "    }\n",
       "\n",
       "    .dataframe thead th {\n",
       "        text-align: right;\n",
       "    }\n",
       "</style>\n",
       "<table border=\"1\" class=\"dataframe\">\n",
       "  <thead>\n",
       "    <tr style=\"text-align: right;\">\n",
       "      <th>genre</th>\n",
       "      <th>Action</th>\n",
       "      <th>Adventure</th>\n",
       "      <th>Childrens</th>\n",
       "      <th>Comedy</th>\n",
       "      <th>Crime</th>\n",
       "      <th>Drama</th>\n",
       "      <th>Fantasy</th>\n",
       "      <th>Horror</th>\n",
       "      <th>Mystery</th>\n",
       "      <th>Romance</th>\n",
       "      <th>Sci-Fi</th>\n",
       "      <th>Thriller</th>\n",
       "      <th>War</th>\n",
       "      <th>Western</th>\n",
       "    </tr>\n",
       "    <tr>\n",
       "      <th>movieID</th>\n",
       "      <th></th>\n",
       "      <th></th>\n",
       "      <th></th>\n",
       "      <th></th>\n",
       "      <th></th>\n",
       "      <th></th>\n",
       "      <th></th>\n",
       "      <th></th>\n",
       "      <th></th>\n",
       "      <th></th>\n",
       "      <th></th>\n",
       "      <th></th>\n",
       "      <th></th>\n",
       "      <th></th>\n",
       "    </tr>\n",
       "  </thead>\n",
       "  <tbody>\n",
       "    <tr>\n",
       "      <th>1034</th>\n",
       "      <td>0.84615</td>\n",
       "      <td>0.84615</td>\n",
       "      <td>0.0</td>\n",
       "      <td>0.0</td>\n",
       "      <td>0.0000</td>\n",
       "      <td>0.00000</td>\n",
       "      <td>0.0</td>\n",
       "      <td>0.0</td>\n",
       "      <td>0.0</td>\n",
       "      <td>0.0</td>\n",
       "      <td>0.00000</td>\n",
       "      <td>0.00000</td>\n",
       "      <td>0.00000</td>\n",
       "      <td>0.00000</td>\n",
       "    </tr>\n",
       "    <tr>\n",
       "      <th>11</th>\n",
       "      <td>0.00000</td>\n",
       "      <td>0.00000</td>\n",
       "      <td>0.0</td>\n",
       "      <td>0.0</td>\n",
       "      <td>0.1375</td>\n",
       "      <td>0.00000</td>\n",
       "      <td>0.0</td>\n",
       "      <td>0.0</td>\n",
       "      <td>0.0</td>\n",
       "      <td>0.0</td>\n",
       "      <td>0.00000</td>\n",
       "      <td>0.13750</td>\n",
       "      <td>0.00000</td>\n",
       "      <td>0.00000</td>\n",
       "    </tr>\n",
       "    <tr>\n",
       "      <th>117</th>\n",
       "      <td>0.39063</td>\n",
       "      <td>0.39063</td>\n",
       "      <td>0.0</td>\n",
       "      <td>0.0</td>\n",
       "      <td>0.0000</td>\n",
       "      <td>0.00000</td>\n",
       "      <td>0.0</td>\n",
       "      <td>0.0</td>\n",
       "      <td>0.0</td>\n",
       "      <td>0.0</td>\n",
       "      <td>0.00000</td>\n",
       "      <td>0.39063</td>\n",
       "      <td>0.00000</td>\n",
       "      <td>0.00000</td>\n",
       "    </tr>\n",
       "    <tr>\n",
       "      <th>118</th>\n",
       "      <td>0.77033</td>\n",
       "      <td>0.77033</td>\n",
       "      <td>0.0</td>\n",
       "      <td>0.0</td>\n",
       "      <td>0.0000</td>\n",
       "      <td>0.00000</td>\n",
       "      <td>0.0</td>\n",
       "      <td>0.0</td>\n",
       "      <td>0.0</td>\n",
       "      <td>0.0</td>\n",
       "      <td>0.00000</td>\n",
       "      <td>0.77033</td>\n",
       "      <td>0.00000</td>\n",
       "      <td>0.00000</td>\n",
       "    </tr>\n",
       "    <tr>\n",
       "      <th>121</th>\n",
       "      <td>-2.52098</td>\n",
       "      <td>0.00000</td>\n",
       "      <td>0.0</td>\n",
       "      <td>0.0</td>\n",
       "      <td>0.0000</td>\n",
       "      <td>0.00000</td>\n",
       "      <td>0.0</td>\n",
       "      <td>0.0</td>\n",
       "      <td>0.0</td>\n",
       "      <td>0.0</td>\n",
       "      <td>-2.52098</td>\n",
       "      <td>0.00000</td>\n",
       "      <td>-2.52098</td>\n",
       "      <td>0.00000</td>\n",
       "    </tr>\n",
       "    <tr>\n",
       "      <th>...</th>\n",
       "      <td>...</td>\n",
       "      <td>...</td>\n",
       "      <td>...</td>\n",
       "      <td>...</td>\n",
       "      <td>...</td>\n",
       "      <td>...</td>\n",
       "      <td>...</td>\n",
       "      <td>...</td>\n",
       "      <td>...</td>\n",
       "      <td>...</td>\n",
       "      <td>...</td>\n",
       "      <td>...</td>\n",
       "      <td>...</td>\n",
       "      <td>...</td>\n",
       "    </tr>\n",
       "    <tr>\n",
       "      <th>82</th>\n",
       "      <td>1.23295</td>\n",
       "      <td>1.23295</td>\n",
       "      <td>0.0</td>\n",
       "      <td>0.0</td>\n",
       "      <td>0.0000</td>\n",
       "      <td>0.00000</td>\n",
       "      <td>0.0</td>\n",
       "      <td>0.0</td>\n",
       "      <td>0.0</td>\n",
       "      <td>0.0</td>\n",
       "      <td>1.23295</td>\n",
       "      <td>0.00000</td>\n",
       "      <td>0.00000</td>\n",
       "      <td>0.00000</td>\n",
       "    </tr>\n",
       "    <tr>\n",
       "      <th>825</th>\n",
       "      <td>0.03448</td>\n",
       "      <td>0.00000</td>\n",
       "      <td>0.0</td>\n",
       "      <td>0.0</td>\n",
       "      <td>0.0000</td>\n",
       "      <td>0.00000</td>\n",
       "      <td>0.0</td>\n",
       "      <td>0.0</td>\n",
       "      <td>0.0</td>\n",
       "      <td>0.0</td>\n",
       "      <td>0.03448</td>\n",
       "      <td>0.03448</td>\n",
       "      <td>0.00000</td>\n",
       "      <td>0.00000</td>\n",
       "    </tr>\n",
       "    <tr>\n",
       "      <th>827</th>\n",
       "      <td>-0.71111</td>\n",
       "      <td>-0.71111</td>\n",
       "      <td>0.0</td>\n",
       "      <td>0.0</td>\n",
       "      <td>0.0000</td>\n",
       "      <td>0.00000</td>\n",
       "      <td>0.0</td>\n",
       "      <td>0.0</td>\n",
       "      <td>0.0</td>\n",
       "      <td>0.0</td>\n",
       "      <td>0.00000</td>\n",
       "      <td>-0.71111</td>\n",
       "      <td>0.00000</td>\n",
       "      <td>0.00000</td>\n",
       "    </tr>\n",
       "    <tr>\n",
       "      <th>840</th>\n",
       "      <td>-1.61538</td>\n",
       "      <td>0.00000</td>\n",
       "      <td>0.0</td>\n",
       "      <td>0.0</td>\n",
       "      <td>0.0000</td>\n",
       "      <td>-1.61538</td>\n",
       "      <td>0.0</td>\n",
       "      <td>0.0</td>\n",
       "      <td>0.0</td>\n",
       "      <td>0.0</td>\n",
       "      <td>0.00000</td>\n",
       "      <td>0.00000</td>\n",
       "      <td>0.00000</td>\n",
       "      <td>-1.61538</td>\n",
       "    </tr>\n",
       "    <tr>\n",
       "      <th>96</th>\n",
       "      <td>0.06635</td>\n",
       "      <td>0.00000</td>\n",
       "      <td>0.0</td>\n",
       "      <td>0.0</td>\n",
       "      <td>0.0000</td>\n",
       "      <td>0.00000</td>\n",
       "      <td>0.0</td>\n",
       "      <td>0.0</td>\n",
       "      <td>0.0</td>\n",
       "      <td>0.0</td>\n",
       "      <td>0.06635</td>\n",
       "      <td>0.06635</td>\n",
       "      <td>0.00000</td>\n",
       "      <td>0.00000</td>\n",
       "    </tr>\n",
       "  </tbody>\n",
       "</table>\n",
       "<p>76 rows × 14 columns</p>\n",
       "</div>"
      ],
      "text/plain": [
       "genre     Action  Adventure  Childrens  ...  Thriller      War  Western\n",
       "movieID                                 ...                            \n",
       "1034     0.84615    0.84615        0.0  ...   0.00000  0.00000  0.00000\n",
       "11       0.00000    0.00000        0.0  ...   0.13750  0.00000  0.00000\n",
       "117      0.39063    0.39063        0.0  ...   0.39063  0.00000  0.00000\n",
       "118      0.77033    0.77033        0.0  ...   0.77033  0.00000  0.00000\n",
       "121     -2.52098    0.00000        0.0  ...   0.00000 -2.52098  0.00000\n",
       "...          ...        ...        ...  ...       ...      ...      ...\n",
       "82       1.23295    1.23295        0.0  ...   0.00000  0.00000  0.00000\n",
       "825      0.03448    0.00000        0.0  ...   0.03448  0.00000  0.00000\n",
       "827     -0.71111   -0.71111        0.0  ...  -0.71111  0.00000  0.00000\n",
       "840     -1.61538    0.00000        0.0  ...   0.00000  0.00000 -1.61538\n",
       "96       0.06635    0.00000        0.0  ...   0.06635  0.00000  0.00000\n",
       "\n",
       "[76 rows x 14 columns]"
      ]
     },
     "execution_count": 9,
     "metadata": {
      "tags": []
     },
     "output_type": "execute_result"
    }
   ],
   "source": [
    "df_t3 = df_t2.pivot(index='movieID', columns='genre', values='userRating')\n",
    "df_t3 = df_t3.fillna(0)\n",
    "df_t3 = df_t3.rename(columns={\n",
    "    'Children\\'s':'Childrens'\n",
    "    })\n",
    "df_t3 # Output DataFrame"
   ]
  },
  {
   "cell_type": "code",
   "execution_count": 10,
   "metadata": {
    "colab": {
     "base_uri": "https://localhost:8080/",
     "height": 487
    },
    "colab_type": "code",
    "executionInfo": {
     "elapsed": 291,
     "status": "ok",
     "timestamp": 1582930053384,
     "user": {
      "displayName": "Jonathan Herke",
      "photoUrl": "https://lh3.googleusercontent.com/a-/AAuE7mCrCehKtac_iyX3H42F30Y892nc8I5UlpDDuAg4=s64",
      "userId": "16398260636956526583"
     },
     "user_tz": 360
    },
    "id": "SgUGvmk3S5Sm",
    "outputId": "56c6847f-3dac-4213-c392-e4d4de8d8f4d"
   },
   "outputs": [
    {
     "data": {
      "text/html": [
       "<div>\n",
       "<style scoped>\n",
       "    .dataframe tbody tr th:only-of-type {\n",
       "        vertical-align: middle;\n",
       "    }\n",
       "\n",
       "    .dataframe tbody tr th {\n",
       "        vertical-align: top;\n",
       "    }\n",
       "\n",
       "    .dataframe thead th {\n",
       "        text-align: right;\n",
       "    }\n",
       "</style>\n",
       "<table border=\"1\" class=\"dataframe\">\n",
       "  <thead>\n",
       "    <tr style=\"text-align: right;\">\n",
       "      <th></th>\n",
       "      <th>index</th>\n",
       "      <th>ID</th>\n",
       "      <th>Type</th>\n",
       "      <th>userRating</th>\n",
       "      <th>movieTitle</th>\n",
       "      <th>movieID</th>\n",
       "      <th>Action</th>\n",
       "      <th>Adventure</th>\n",
       "      <th>Childrens</th>\n",
       "      <th>Comedy</th>\n",
       "      <th>Crime</th>\n",
       "      <th>Drama</th>\n",
       "      <th>Fantasy</th>\n",
       "      <th>Horror</th>\n",
       "      <th>Mystery</th>\n",
       "      <th>Romance</th>\n",
       "      <th>Sci-Fi</th>\n",
       "      <th>Thriller</th>\n",
       "      <th>War</th>\n",
       "      <th>Western</th>\n",
       "    </tr>\n",
       "  </thead>\n",
       "  <tbody>\n",
       "    <tr>\n",
       "      <th>0</th>\n",
       "      <td>0</td>\n",
       "      <td>566</td>\n",
       "      <td>MOVIE</td>\n",
       "      <td>0.39344</td>\n",
       "      <td>Clear and Present Danger (1994)</td>\n",
       "      <td>566</td>\n",
       "      <td>0.39344</td>\n",
       "      <td>0.39344</td>\n",
       "      <td>0.0</td>\n",
       "      <td>0.00000</td>\n",
       "      <td>0.0</td>\n",
       "      <td>0.00000</td>\n",
       "      <td>0.0</td>\n",
       "      <td>0.0</td>\n",
       "      <td>0.0</td>\n",
       "      <td>0.00000</td>\n",
       "      <td>0.00000</td>\n",
       "      <td>0.39344</td>\n",
       "      <td>0.00000</td>\n",
       "      <td>0.00000</td>\n",
       "    </tr>\n",
       "    <tr>\n",
       "      <th>3</th>\n",
       "      <td>1</td>\n",
       "      <td>568</td>\n",
       "      <td>MOVIE</td>\n",
       "      <td>0.36875</td>\n",
       "      <td>Speed (1994)</td>\n",
       "      <td>568</td>\n",
       "      <td>0.36875</td>\n",
       "      <td>0.00000</td>\n",
       "      <td>0.0</td>\n",
       "      <td>0.00000</td>\n",
       "      <td>0.0</td>\n",
       "      <td>0.00000</td>\n",
       "      <td>0.0</td>\n",
       "      <td>0.0</td>\n",
       "      <td>0.0</td>\n",
       "      <td>0.36875</td>\n",
       "      <td>0.00000</td>\n",
       "      <td>0.36875</td>\n",
       "      <td>0.00000</td>\n",
       "      <td>0.00000</td>\n",
       "    </tr>\n",
       "    <tr>\n",
       "      <th>6</th>\n",
       "      <td>2</td>\n",
       "      <td>840</td>\n",
       "      <td>MOVIE</td>\n",
       "      <td>-1.61538</td>\n",
       "      <td>Last Man Standing (1996)</td>\n",
       "      <td>840</td>\n",
       "      <td>-1.61538</td>\n",
       "      <td>0.00000</td>\n",
       "      <td>0.0</td>\n",
       "      <td>0.00000</td>\n",
       "      <td>0.0</td>\n",
       "      <td>-1.61538</td>\n",
       "      <td>0.0</td>\n",
       "      <td>0.0</td>\n",
       "      <td>0.0</td>\n",
       "      <td>0.00000</td>\n",
       "      <td>0.00000</td>\n",
       "      <td>0.00000</td>\n",
       "      <td>0.00000</td>\n",
       "      <td>-1.61538</td>\n",
       "    </tr>\n",
       "    <tr>\n",
       "      <th>9</th>\n",
       "      <td>3</td>\n",
       "      <td>1034</td>\n",
       "      <td>MOVIE</td>\n",
       "      <td>0.84615</td>\n",
       "      <td>Quest, The (1996)</td>\n",
       "      <td>1034</td>\n",
       "      <td>0.84615</td>\n",
       "      <td>0.84615</td>\n",
       "      <td>0.0</td>\n",
       "      <td>0.00000</td>\n",
       "      <td>0.0</td>\n",
       "      <td>0.00000</td>\n",
       "      <td>0.0</td>\n",
       "      <td>0.0</td>\n",
       "      <td>0.0</td>\n",
       "      <td>0.00000</td>\n",
       "      <td>0.00000</td>\n",
       "      <td>0.00000</td>\n",
       "      <td>0.00000</td>\n",
       "      <td>0.00000</td>\n",
       "    </tr>\n",
       "    <tr>\n",
       "      <th>11</th>\n",
       "      <td>4</td>\n",
       "      <td>79</td>\n",
       "      <td>MOVIE</td>\n",
       "      <td>0.96537</td>\n",
       "      <td>Fugitive, The (1993)</td>\n",
       "      <td>79</td>\n",
       "      <td>0.96537</td>\n",
       "      <td>0.00000</td>\n",
       "      <td>0.0</td>\n",
       "      <td>0.00000</td>\n",
       "      <td>0.0</td>\n",
       "      <td>0.00000</td>\n",
       "      <td>0.0</td>\n",
       "      <td>0.0</td>\n",
       "      <td>0.0</td>\n",
       "      <td>0.00000</td>\n",
       "      <td>0.00000</td>\n",
       "      <td>0.96537</td>\n",
       "      <td>0.00000</td>\n",
       "      <td>0.00000</td>\n",
       "    </tr>\n",
       "    <tr>\n",
       "      <th>...</th>\n",
       "      <td>...</td>\n",
       "      <td>...</td>\n",
       "      <td>...</td>\n",
       "      <td>...</td>\n",
       "      <td>...</td>\n",
       "      <td>...</td>\n",
       "      <td>...</td>\n",
       "      <td>...</td>\n",
       "      <td>...</td>\n",
       "      <td>...</td>\n",
       "      <td>...</td>\n",
       "      <td>...</td>\n",
       "      <td>...</td>\n",
       "      <td>...</td>\n",
       "      <td>...</td>\n",
       "      <td>...</td>\n",
       "      <td>...</td>\n",
       "      <td>...</td>\n",
       "      <td>...</td>\n",
       "      <td>...</td>\n",
       "    </tr>\n",
       "    <tr>\n",
       "      <th>182</th>\n",
       "      <td>71</td>\n",
       "      <td>825</td>\n",
       "      <td>MOVIE</td>\n",
       "      <td>0.03448</td>\n",
       "      <td>Arrival, The (1996)</td>\n",
       "      <td>825</td>\n",
       "      <td>0.03448</td>\n",
       "      <td>0.00000</td>\n",
       "      <td>0.0</td>\n",
       "      <td>0.00000</td>\n",
       "      <td>0.0</td>\n",
       "      <td>0.00000</td>\n",
       "      <td>0.0</td>\n",
       "      <td>0.0</td>\n",
       "      <td>0.0</td>\n",
       "      <td>0.00000</td>\n",
       "      <td>0.03448</td>\n",
       "      <td>0.03448</td>\n",
       "      <td>0.00000</td>\n",
       "      <td>0.00000</td>\n",
       "    </tr>\n",
       "    <tr>\n",
       "      <th>185</th>\n",
       "      <td>72</td>\n",
       "      <td>636</td>\n",
       "      <td>MOVIE</td>\n",
       "      <td>-1.27273</td>\n",
       "      <td>Escape from New York (1981)</td>\n",
       "      <td>636</td>\n",
       "      <td>-1.27273</td>\n",
       "      <td>-1.27273</td>\n",
       "      <td>0.0</td>\n",
       "      <td>0.00000</td>\n",
       "      <td>0.0</td>\n",
       "      <td>0.00000</td>\n",
       "      <td>0.0</td>\n",
       "      <td>0.0</td>\n",
       "      <td>0.0</td>\n",
       "      <td>0.00000</td>\n",
       "      <td>-1.27273</td>\n",
       "      <td>-1.27273</td>\n",
       "      <td>0.00000</td>\n",
       "      <td>0.00000</td>\n",
       "    </tr>\n",
       "    <tr>\n",
       "      <th>189</th>\n",
       "      <td>73</td>\n",
       "      <td>181</td>\n",
       "      <td>MOVIE</td>\n",
       "      <td>-2.99725</td>\n",
       "      <td>Return of the Jedi (1983)</td>\n",
       "      <td>181</td>\n",
       "      <td>-2.99725</td>\n",
       "      <td>-2.99725</td>\n",
       "      <td>0.0</td>\n",
       "      <td>0.00000</td>\n",
       "      <td>0.0</td>\n",
       "      <td>0.00000</td>\n",
       "      <td>0.0</td>\n",
       "      <td>0.0</td>\n",
       "      <td>0.0</td>\n",
       "      <td>-2.99725</td>\n",
       "      <td>-2.99725</td>\n",
       "      <td>0.00000</td>\n",
       "      <td>-2.99725</td>\n",
       "      <td>0.00000</td>\n",
       "    </tr>\n",
       "    <tr>\n",
       "      <th>194</th>\n",
       "      <td>74</td>\n",
       "      <td>300</td>\n",
       "      <td>MOVIE</td>\n",
       "      <td>0.39322</td>\n",
       "      <td>Air Force One (1997)</td>\n",
       "      <td>300</td>\n",
       "      <td>0.39322</td>\n",
       "      <td>0.00000</td>\n",
       "      <td>0.0</td>\n",
       "      <td>0.00000</td>\n",
       "      <td>0.0</td>\n",
       "      <td>0.00000</td>\n",
       "      <td>0.0</td>\n",
       "      <td>0.0</td>\n",
       "      <td>0.0</td>\n",
       "      <td>0.00000</td>\n",
       "      <td>0.00000</td>\n",
       "      <td>0.39322</td>\n",
       "      <td>0.00000</td>\n",
       "      <td>0.00000</td>\n",
       "    </tr>\n",
       "    <tr>\n",
       "      <th>196</th>\n",
       "      <td>75</td>\n",
       "      <td>391</td>\n",
       "      <td>MOVIE</td>\n",
       "      <td>1.26829</td>\n",
       "      <td>Last Action Hero (1993)</td>\n",
       "      <td>391</td>\n",
       "      <td>1.26829</td>\n",
       "      <td>0.00000</td>\n",
       "      <td>0.0</td>\n",
       "      <td>1.26829</td>\n",
       "      <td>0.0</td>\n",
       "      <td>0.00000</td>\n",
       "      <td>0.0</td>\n",
       "      <td>0.0</td>\n",
       "      <td>0.0</td>\n",
       "      <td>0.00000</td>\n",
       "      <td>0.00000</td>\n",
       "      <td>0.00000</td>\n",
       "      <td>0.00000</td>\n",
       "      <td>0.00000</td>\n",
       "    </tr>\n",
       "  </tbody>\n",
       "</table>\n",
       "<p>76 rows × 20 columns</p>\n",
       "</div>"
      ],
      "text/plain": [
       "     index    ID   Type  userRating  ...   Sci-Fi Thriller      War  Western\n",
       "0        0   566  MOVIE     0.39344  ...  0.00000  0.39344  0.00000  0.00000\n",
       "3        1   568  MOVIE     0.36875  ...  0.00000  0.36875  0.00000  0.00000\n",
       "6        2   840  MOVIE    -1.61538  ...  0.00000  0.00000  0.00000 -1.61538\n",
       "9        3  1034  MOVIE     0.84615  ...  0.00000  0.00000  0.00000  0.00000\n",
       "11       4    79  MOVIE     0.96537  ...  0.00000  0.96537  0.00000  0.00000\n",
       "..     ...   ...    ...         ...  ...      ...      ...      ...      ...\n",
       "182     71   825  MOVIE     0.03448  ...  0.03448  0.03448  0.00000  0.00000\n",
       "185     72   636  MOVIE    -1.27273  ... -1.27273 -1.27273  0.00000  0.00000\n",
       "189     73   181  MOVIE    -2.99725  ... -2.99725  0.00000 -2.99725  0.00000\n",
       "194     74   300  MOVIE     0.39322  ...  0.00000  0.39322  0.00000  0.00000\n",
       "196     75   391  MOVIE     1.26829  ...  0.00000  0.00000  0.00000  0.00000\n",
       "\n",
       "[76 rows x 20 columns]"
      ]
     },
     "execution_count": 10,
     "metadata": {
      "tags": []
     },
     "output_type": "execute_result"
    }
   ],
   "source": [
    "#Putting dataframes together\n",
    "df_t4 = pd.merge(df_t2, df_t3, how='outer', on=['movieID'])\n",
    "df_t5 = df_t4.drop(columns=['genre'])\n",
    "\n",
    "df_t6 = df_t5.drop_duplicates(subset =\"movieID\")\n",
    "df_t6 # Output DataFrame"
   ]
  },
  {
   "cell_type": "markdown",
   "metadata": {
    "colab_type": "text",
    "id": "egJMDQUUxrvM"
   },
   "source": [
    "## Setup TensorFlow"
   ]
  },
  {
   "cell_type": "markdown",
   "metadata": {
    "colab_type": "text",
    "id": "bQoXq0JAx8DY"
   },
   "source": [
    "### Grab Features and Targets"
   ]
  },
  {
   "cell_type": "code",
   "execution_count": 0,
   "metadata": {
    "colab": {},
    "colab_type": "code",
    "id": "sV1Ml3qgYP4q"
   },
   "outputs": [],
   "source": [
    "# Features to grab\n",
    "features = ['Action', 'Adventure', 'Childrens', 'Comedy', 'Crime', 'Drama', 'Fantasy', 'Horror', 'Mystery', 'Romance', 'Sci-Fi', 'Thriller', 'War', 'Western']"
   ]
  },
  {
   "cell_type": "code",
   "execution_count": 0,
   "metadata": {
    "colab": {},
    "colab_type": "code",
    "id": "F3-LywdiZJ07"
   },
   "outputs": [],
   "source": [
    "# Setting up your data for TensorFlow\n",
    "dataset = (\n",
    "    tf.data.Dataset.from_tensor_slices(\n",
    "        (\n",
    "            tf.cast(df_t6[features].values, tf.float32),\n",
    "            tf.cast(df_t6['userRating'].values, tf.int32)\n",
    "        )\n",
    "    )\n",
    ")"
   ]
  },
  {
   "cell_type": "markdown",
   "metadata": {
    "colab_type": "text",
    "id": "6b-W-Gb8x23i"
   },
   "source": [
    "### Data Set Check\n"
   ]
  },
  {
   "cell_type": "code",
   "execution_count": 14,
   "metadata": {
    "colab": {
     "base_uri": "https://localhost:8080/",
     "height": 187
    },
    "colab_type": "code",
    "executionInfo": {
     "elapsed": 347,
     "status": "ok",
     "timestamp": 1582930060715,
     "user": {
      "displayName": "Jonathan Herke",
      "photoUrl": "https://lh3.googleusercontent.com/a-/AAuE7mCrCehKtac_iyX3H42F30Y892nc8I5UlpDDuAg4=s64",
      "userId": "16398260636956526583"
     },
     "user_tz": 360
    },
    "id": "MzdbtTe8aqNl",
    "outputId": "29486272-bfd8-42f4-c0bf-2cccdd07ae23"
   },
   "outputs": [
    {
     "name": "stdout",
     "output_type": "stream",
     "text": [
      "Features: [0.39344 0.39344 0.      0.      0.      0.      0.      0.      0.\n",
      " 0.      0.      0.39344 0.      0.     ], Target: 0\n",
      "Features: [0.36875 0.      0.      0.      0.      0.      0.      0.      0.\n",
      " 0.36875 0.      0.36875 0.      0.     ], Target: 0\n",
      "Features: [-1.61538  0.       0.       0.       0.      -1.61538  0.       0.\n",
      "  0.       0.       0.       0.       0.      -1.61538], Target: -1\n",
      "Features: [0.84615 0.84615 0.      0.      0.      0.      0.      0.      0.\n",
      " 0.      0.      0.      0.      0.     ], Target: 0\n",
      "Features: [0.96537 0.      0.      0.      0.      0.      0.      0.      0.\n",
      " 0.      0.      0.96537 0.      0.     ], Target: 0\n"
     ]
    }
   ],
   "source": [
    "# Checking Data\n",
    "for feat, targ in dataset.take(5):\n",
    "    print('Features: {}, Target: {}'.format(feat, targ))"
   ]
  },
  {
   "cell_type": "code",
   "execution_count": 15,
   "metadata": {
    "colab": {
     "base_uri": "https://localhost:8080/",
     "height": 255
    },
    "colab_type": "code",
    "executionInfo": {
     "elapsed": 319,
     "status": "ok",
     "timestamp": 1582930062867,
     "user": {
      "displayName": "Jonathan Herke",
      "photoUrl": "https://lh3.googleusercontent.com/a-/AAuE7mCrCehKtac_iyX3H42F30Y892nc8I5UlpDDuAg4=s64",
      "userId": "16398260636956526583"
     },
     "user_tz": 360
    },
    "id": "3ETqntSgy1uu",
    "outputId": "af966baa-d6ed-431c-e283-9e197208fd1a"
   },
   "outputs": [
    {
     "data": {
      "text/plain": [
       "<tf.Tensor: id=23, shape=(76,), dtype=float64, numpy=\n",
       "array([ 0.39344,  0.36875, -1.61538,  0.84615,  0.96537, -1.76744,\n",
       "       -1.01622, -1.95714, -2.10526, -0.14063,  0.71264,  0.86538,\n",
       "        0.77033,  0.06635, -0.35556,  1.03883, -0.25   , -3.24016,\n",
       "        2.21053, -2.17347, -1.5    ,  1.23295, -0.54545, -1.29568,\n",
       "        0.07692, -0.15702,  0.02679, -0.71111,  0.1375 ,  0.09091,\n",
       "       -0.31765, -1.14563, -0.80769, -1.59155,  0.16846, -1.95541,\n",
       "        1.38247, -1.53846, -1.33333, -0.46875,  0.85926,  0.06936,\n",
       "       -1.1018 ,  0.81818, -2.39091,  0.12821, -1.22222,  1.61765,\n",
       "       -1.04608, -0.43411,  2.     , -1.5625 , -0.72368,  0.61765,\n",
       "       -2.52098,  1.16418, -0.02439,  1.68333,  0.14286, -3.36408,\n",
       "        0.91241, -2.7932 ,  0.06404, -0.18085,  1.13043, -1.1954 ,\n",
       "       -0.7    ,  1.64545,  0.1831 ,  0.39063,  1.20325,  0.03448,\n",
       "       -1.27273, -2.99725,  0.39322,  1.26829])>"
      ]
     },
     "execution_count": 15,
     "metadata": {
      "tags": []
     },
     "output_type": "execute_result"
    }
   ],
   "source": [
    "# Checking Data\n",
    "tf.constant(df_t6['userRating'])"
   ]
  },
  {
   "cell_type": "markdown",
   "metadata": {
    "colab_type": "text",
    "id": "u45fC9poyT7m"
   },
   "source": [
    "### Get Train and Test Data Set "
   ]
  },
  {
   "cell_type": "code",
   "execution_count": 16,
   "metadata": {
    "colab": {
     "base_uri": "https://localhost:8080/",
     "height": 34
    },
    "colab_type": "code",
    "executionInfo": {
     "elapsed": 318,
     "status": "ok",
     "timestamp": 1582930064721,
     "user": {
      "displayName": "Jonathan Herke",
      "photoUrl": "https://lh3.googleusercontent.com/a-/AAuE7mCrCehKtac_iyX3H42F30Y892nc8I5UlpDDuAg4=s64",
      "userId": "16398260636956526583"
     },
     "user_tz": 360
    },
    "id": "CrfAKQv7y8sF",
    "outputId": "e515bc2f-159b-4936-ee8e-28dcd128ab7e"
   },
   "outputs": [
    {
     "name": "stdout",
     "output_type": "stream",
     "text": [
      "60\n"
     ]
    }
   ],
   "source": [
    "# Prep datasets, one for model creation, other for model validation\n",
    "dataset = dataset.shuffle(len(df_t6)).batch(1)\n",
    "train_dataset = dataset.take(int(len(df_t6)*.8))\n",
    "test_dataset = dataset.skip(int(len(df_t6)*.8))\n",
    "print(len(list(train_dataset)))"
   ]
  },
  {
   "cell_type": "markdown",
   "metadata": {
    "colab_type": "text",
    "id": "W1wbrz84yeak"
   },
   "source": [
    "### Setup Model Parameters"
   ]
  },
  {
   "cell_type": "code",
   "execution_count": 0,
   "metadata": {
    "colab": {},
    "colab_type": "code",
    "id": "fbTp3GybzDGZ"
   },
   "outputs": [],
   "source": [
    "# Setting up layers sizes, and defining which optimizer to use\n",
    "def get_compiled_model():\n",
    "  model = tf.keras.Sequential([\n",
    "    tf.keras.layers.Dense(10, activation='relu'), #layer 1\n",
    "    tf.keras.layers.Dense(20, activation='relu'), #layer 2\n",
    "    tf.keras.layers.Dense(1, activation='sigmoid') #out\n",
    "  ])\n",
    "\n",
    "  model.compile(optimizer='adam', \n",
    "                loss='binary_crossentropy',\n",
    "                metrics=['accuracy'])\n",
    "  return model"
   ]
  },
  {
   "cell_type": "markdown",
   "metadata": {
    "colab_type": "text",
    "id": "Kc3_ta_Eys2R"
   },
   "source": [
    "## Train and Test Your Model"
   ]
  },
  {
   "cell_type": "code",
   "execution_count": 18,
   "metadata": {
    "colab": {
     "base_uri": "https://localhost:8080/",
     "height": 785
    },
    "colab_type": "code",
    "executionInfo": {
     "elapsed": 5927,
     "status": "ok",
     "timestamp": 1582930077309,
     "user": {
      "displayName": "Jonathan Herke",
      "photoUrl": "https://lh3.googleusercontent.com/a-/AAuE7mCrCehKtac_iyX3H42F30Y892nc8I5UlpDDuAg4=s64",
      "userId": "16398260636956526583"
     },
     "user_tz": 360
    },
    "id": "MWWN9iPLzHpr",
    "outputId": "c13576f5-886a-4c35-efa4-d74dd2dd822b"
   },
   "outputs": [
    {
     "name": "stdout",
     "output_type": "stream",
     "text": [
      "Epoch 1/20\n",
      "WARNING:tensorflow:From /usr/local/lib/python3.6/dist-packages/tensorflow_core/python/ops/nn_impl.py:183: where (from tensorflow.python.ops.array_ops) is deprecated and will be removed in a future version.\n",
      "Instructions for updating:\n",
      "Use tf.where in 2.0, which has the same broadcast rule as np.where\n",
      "60/60 [==============================] - 3s 46ms/step - loss: 0.5640 - acc: 0.4833\n",
      "Epoch 2/20\n",
      "60/60 [==============================] - 0s 2ms/step - loss: 0.2232 - acc: 0.4833\n",
      "Epoch 3/20\n",
      "60/60 [==============================] - 0s 2ms/step - loss: -0.2073 - acc: 0.4833\n",
      "Epoch 4/20\n",
      "60/60 [==============================] - 0s 2ms/step - loss: -0.7681 - acc: 0.4833\n",
      "Epoch 5/20\n",
      "60/60 [==============================] - 0s 2ms/step - loss: -1.4322 - acc: 0.4833\n",
      "Epoch 6/20\n",
      "60/60 [==============================] - 0s 5ms/step - loss: -2.2980 - acc: 0.4833\n",
      "Epoch 7/20\n",
      "60/60 [==============================] - 0s 2ms/step - loss: -3.4660 - acc: 0.4833\n",
      "Epoch 8/20\n",
      "60/60 [==============================] - 0s 2ms/step - loss: -5.0503 - acc: 0.4833\n",
      "Epoch 9/20\n",
      "60/60 [==============================] - 0s 2ms/step - loss: -7.0865 - acc: 0.5000\n",
      "Epoch 10/20\n",
      "60/60 [==============================] - 0s 2ms/step - loss: -9.6232 - acc: 0.5167\n",
      "Epoch 11/20\n",
      "60/60 [==============================] - 0s 3ms/step - loss: -12.8160 - acc: 0.5500\n",
      "Epoch 12/20\n",
      "60/60 [==============================] - 0s 2ms/step - loss: -16.9085 - acc: 0.5500\n",
      "Epoch 13/20\n",
      "60/60 [==============================] - 0s 2ms/step - loss: -22.5504 - acc: 0.5500\n",
      "Epoch 14/20\n",
      "60/60 [==============================] - 0s 2ms/step - loss: -30.3500 - acc: 0.5667\n",
      "Epoch 15/20\n",
      "60/60 [==============================] - 0s 3ms/step - loss: -40.7970 - acc: 0.5667\n",
      "Epoch 16/20\n",
      "60/60 [==============================] - 0s 3ms/step - loss: -53.9144 - acc: 0.5667\n",
      "Epoch 17/20\n",
      "60/60 [==============================] - 0s 2ms/step - loss: -69.7517 - acc: 0.5667\n",
      "Epoch 18/20\n",
      "60/60 [==============================] - 0s 2ms/step - loss: -88.5435 - acc: 0.6000\n",
      "Epoch 19/20\n",
      "60/60 [==============================] - 0s 2ms/step - loss: -110.4189 - acc: 0.6000\n",
      "Epoch 20/20\n",
      "60/60 [==============================] - 0s 2ms/step - loss: -135.3023 - acc: 0.6000\n"
     ]
    },
    {
     "data": {
      "text/plain": [
       "<tensorflow.python.keras.callbacks.History at 0x7fcf10a01b38>"
      ]
     },
     "execution_count": 18,
     "metadata": {
      "tags": []
     },
     "output_type": "execute_result"
    }
   ],
   "source": [
    "# Training Data\n",
    "model = get_compiled_model()\n",
    "model.fit(train_dataset, epochs=20)"
   ]
  },
  {
   "cell_type": "code",
   "execution_count": 19,
   "metadata": {
    "colab": {
     "base_uri": "https://localhost:8080/",
     "height": 34
    },
    "colab_type": "code",
    "executionInfo": {
     "elapsed": 356,
     "status": "ok",
     "timestamp": 1582930079986,
     "user": {
      "displayName": "Jonathan Herke",
      "photoUrl": "https://lh3.googleusercontent.com/a-/AAuE7mCrCehKtac_iyX3H42F30Y892nc8I5UlpDDuAg4=s64",
      "userId": "16398260636956526583"
     },
     "user_tz": 360
    },
    "id": "UYQIx_QTC30_",
    "outputId": "679aba1e-7847-4b67-8d7c-2abc519646b9"
   },
   "outputs": [
    {
     "name": "stdout",
     "output_type": "stream",
     "text": [
      "16/16 [==============================] - 0s 6ms/step - loss: -24.8355 - acc: 0.7500\n"
     ]
    }
   ],
   "source": [
    "# Testing Data\n",
    "results = model.evaluate(test_dataset)"
   ]
  }
 ],
 "metadata": {
  "colab": {
   "name": "TigerGraph2TensorFlow.ipynb",
   "provenance": [
    {
     "file_id": "1sYv3Jvc6KYsqC4D-Rxkvjh4iPnrp4rg7",
     "timestamp": 1579733986976
    }
   ]
  },
  "kernelspec": {
   "display_name": "Python 3",
   "language": "python",
   "name": "python3"
  },
  "language_info": {
   "codemirror_mode": {
    "name": "ipython",
    "version": 3
   },
   "file_extension": ".py",
   "mimetype": "text/x-python",
   "name": "python",
   "nbconvert_exporter": "python",
   "pygments_lexer": "ipython3",
   "version": "3.7.3"
  }
 },
 "nbformat": 4,
 "nbformat_minor": 1
}
