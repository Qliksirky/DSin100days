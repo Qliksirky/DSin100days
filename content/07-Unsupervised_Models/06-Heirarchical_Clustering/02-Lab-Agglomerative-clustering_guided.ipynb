{
 "cells": [
  {
   "cell_type": "markdown",
   "metadata": {},
   "source": [
    "## 02-Lab - Agglomerative Clustering\n",
    "\n",
    "This is the dataset of wheat seeds for various varieties.\n",
    "The dataset contains 209 randomly selected instances of wheat seed information.\n",
    "\n",
    "Here is the descrition of the fields.\n",
    "\n",
    "1. area A, \n",
    "2. perimeter P, \n",
    "3. compactness $C = 4*pi*A/P^2$, \n",
    "4. length of kernel, \n",
    "5. width of kernel, \n",
    "6. asymmetry coefficient \n",
    "7. length of kernel groove. \n",
    "All of these parameters were real-valued continuous.\n",
    "\n",
    "You are required to prepare the data, use sklearn's Agglomerative clustering to group them according to the variety, find appropriate number of clusters and finally add labels to the data.\n",
    "\n",
    "In part 2 generate a dendrogram and plot the distance vs number of clusters in plotly express. Conclude by comparing the cluster labels from Sklearn's and  scipy's Agglomerative clustering algorithm. \n"
   ]
  },
  {
   "cell_type": "code",
   "execution_count": null,
   "metadata": {
    "ExecuteTime": {
     "end_time": "2020-05-13T21:06:51.328226Z",
     "start_time": "2020-05-13T21:06:50.549742Z"
    }
   },
   "outputs": [],
   "source": [
    "# Use Agglomerative clustering\n",
    "\n",
    "import pandas as pd\n",
    "import numpy as np \n",
    "\n",
    "columns = ['area', 'perimeter', 'compactness', 'length_kernel', 'width_kernel','asymmetry', 'length_groove','class']\n",
    "seeds = pd.read_csv('https://raw.githubusercontent.com/colaberry/DSin100days/master/data/seeds_dataset.csv', names=columns ).dropna()\n"
   ]
  },
  {
   "cell_type": "code",
   "execution_count": null,
   "metadata": {
    "ExecuteTime": {
     "end_time": "2020-05-13T21:06:51.383446Z",
     "start_time": "2020-05-13T21:06:51.333192Z"
    }
   },
   "outputs": [],
   "source": [
    "seeds"
   ]
  },
  {
   "cell_type": "markdown",
   "metadata": {},
   "source": [
    "## Part 1: Using Sklearn\n",
    "\n",
    "First we are going to investigate Agglomerative Clustering using Sklearn. Sklearn has a simple functionality where you specific the number of cluster and it provides you the answers in a simple way.\n"
   ]
  },
  {
   "cell_type": "code",
   "execution_count": null,
   "metadata": {
    "ExecuteTime": {
     "end_time": "2020-05-13T21:06:51.549850Z",
     "start_time": "2020-05-13T21:06:51.384668Z"
    }
   },
   "outputs": [],
   "source": [
    "from sklearn.model_selection import train_test_split\n",
    "X = # You need to drop the class column the generate the training set \n",
    "y = # One of the columns from seeds dataset forms the labels\n",
    "\n",
    "X_train, X_test, y_train, y_test = train_test_split(X, y, train_size=0.10, random_state=2)\n",
    "\n",
    "shape_train = # Get the shape of the training data \n",
    "print(\"Shape of the training set is {}\".format(shape_train))\n",
    "\n",
    "\n",
    "\n",
    "#####DO NOT Modify Below####\n",
    "def get_answer_1():\n",
    "    #set the 1st answer varible in return statement\n",
    "    return shape_train\n",
    "\n",
    "\n",
    "############################"
   ]
  },
  {
   "cell_type": "markdown",
   "metadata": {},
   "source": [
    "Shape of the training set is (21, 7)"
   ]
  },
  {
   "cell_type": "code",
   "execution_count": null,
   "metadata": {
    "ExecuteTime": {
     "end_time": "2020-05-13T21:06:54.964550Z",
     "start_time": "2020-05-13T21:06:51.550919Z"
    }
   },
   "outputs": [],
   "source": [
    "import seaborn as sns\n",
    "sns.pairplot(X_train)"
   ]
  },
  {
   "cell_type": "code",
   "execution_count": null,
   "metadata": {
    "ExecuteTime": {
     "end_time": "2020-05-13T21:06:55.558592Z",
     "start_time": "2020-05-13T21:06:54.965508Z"
    }
   },
   "outputs": [],
   "source": [
    "import plotly_express as px \n",
    "fig1 = px.scatter(X_train,\n",
    "                  x='length_kernel',\n",
    "                  y='width_kernel',\n",
    "                  title=\"Width Kernel vs length Kernel (Unclustered)\")\n",
    "fig1.show()"
   ]
  },
  {
   "cell_type": "markdown",
   "metadata": {},
   "source": [
    "<img src=\"../../../images/agg_clustering_1.png\">"
   ]
  },
  {
   "cell_type": "code",
   "execution_count": null,
   "metadata": {
    "ExecuteTime": {
     "end_time": "2020-05-13T21:06:55.750383Z",
     "start_time": "2020-05-13T21:06:55.559472Z"
    }
   },
   "outputs": [],
   "source": [
    "from sklearn.cluster import AgglomerativeClustering \n",
    "X_train_reduced = # There are only two columns need for clustering, the width_kernel and the length_kernel\n",
    "\n",
    "agc = AgglomerativeClustering(n_clusters=3)\n",
    "clusters = agc.fit_predict(X_train_reduced)\n",
    "\n",
    "X_output = X_train_reduced.copy()\n",
    "\n",
    "X_output['pred_class'] = clusters.astype(str)\n",
    "fig2 = px.scatter(X_output,\n",
    "                  x='length_kernel', \n",
    "                  y='width_kernel',\n",
    "                  color='pred_class',\n",
    "                  title=\"Width Kernel vs length Kernel (Agg Clustered)\")\n",
    "fig2.show()"
   ]
  },
  {
   "cell_type": "markdown",
   "metadata": {},
   "source": [
    " <img src=\"../../../images/agg_clustered_2.png\"> "
   ]
  },
  {
   "cell_type": "markdown",
   "metadata": {
    "ExecuteTime": {
     "end_time": "2020-05-13T19:30:43.206375Z",
     "start_time": "2020-05-13T19:30:43.194211Z"
    }
   },
   "source": [
    "## Part 2: Clusters vs distance \n",
    "In this part we are going to go a little more depth into Agglomerative clustering. We want to take the same example as above and plot the number of clusters as a function of distance. We will use the Scipy version of Agglomerative clustering. "
   ]
  },
  {
   "cell_type": "code",
   "execution_count": null,
   "metadata": {
    "ExecuteTime": {
     "end_time": "2020-05-13T21:06:55.914596Z",
     "start_time": "2020-05-13T21:06:55.751210Z"
    }
   },
   "outputs": [],
   "source": [
    "from scipy.cluster.hierarchy import dendrogram, linkage,  fcluster\n",
    "import matplotlib.pyplot as plt\n",
    "\n",
    "clust_dist = # Use linkage to calcuate the cluster distance, make sure you set average euclidean distance\n",
    "\n",
    "plt.figure(figsize=(20,10))\n",
    "plt.rcParams.update({'font.size': 20})\n",
    "plt.xlabel(\"Clusters\")\n",
    "plt.ylabel(\"Euclidean distance\")\n",
    "\n",
    "dendrogram(\n",
    "clust_dist,\n",
    "leaf_rotation=90., # rotates the x axis labels\n",
    "leaf_font_size=20., # font size for the x axis labels  \n",
    ")\n",
    "\n",
    "plt.title(\"Dendrogram: Distance vs Clusters \")\n",
    "plt.show()\n"
   ]
  },
  {
   "cell_type": "markdown",
   "metadata": {},
   "source": [
    "<img src=\"../../../images/dendrogram_agg.png\">\n"
   ]
  },
  {
   "cell_type": "code",
   "execution_count": null,
   "metadata": {
    "ExecuteTime": {
     "end_time": "2020-05-13T21:06:55.933084Z",
     "start_time": "2020-05-13T21:06:55.916113Z"
    }
   },
   "outputs": [],
   "source": [
    "t = np.linspace(0, 1,200)\n",
    "num_clusters = []\n",
    "all_labels = []\n",
    "for x in t: \n",
    "    ## Loop over distance and get the labels\n",
    "    ## Save the labels in all_labels. \n",
    "    ## Get the total number of unique labels using numpy \n",
    "    ## store these unique labels in n_clusters. \n",
    "    ## 3 to 4 lines of code\n",
    "    num_clusters.append(n_clusters)\n",
    "\n",
    "max_clusters = # get the max number of clusters\n",
    "min_clusters = # get the min number of clusters \n",
    "print(\"maximum and minimum number of clusters are {} and {}\".format(max_clusters, min_clusters))"
   ]
  },
  {
   "cell_type": "code",
   "execution_count": null,
   "metadata": {
    "ExecuteTime": {
     "end_time": "2020-05-13T21:06:56.096420Z",
     "start_time": "2020-05-13T21:06:55.934114Z"
    }
   },
   "outputs": [],
   "source": [
    "clus_df  = # Create a data frame where the data is t and num_clusters. Remember to assign it column names  \n",
    "fig = px.line(clus_df, x='distance', y='clusters')\n",
    "fig.show()"
   ]
  },
  {
   "cell_type": "markdown",
   "metadata": {},
   "source": [
    "<img src=\"../../../images/clusters_distance_agg.png\"> "
   ]
  },
  {
   "cell_type": "markdown",
   "metadata": {},
   "source": [
    "In Part 1 we clustered the data into 3 clusters. So let us check if we acquired the same clusters from sklearn as we did with sklearn"
   ]
  },
  {
   "cell_type": "code",
   "execution_count": null,
   "metadata": {
    "ExecuteTime": {
     "end_time": "2020-05-13T21:06:56.099439Z",
     "start_time": "2020-05-13T21:06:56.097405Z"
    }
   },
   "outputs": [],
   "source": [
    "# the distance at which we first see three clusters is given \n",
    "distance_three_clusters = # get the value from the plot\n",
    "print(\"distance where we first see three clusters {}\".format(distance_three_clusters))"
   ]
  },
  {
   "cell_type": "code",
   "execution_count": null,
   "metadata": {
    "ExecuteTime": {
     "end_time": "2020-05-13T21:06:56.105449Z",
     "start_time": "2020-05-13T21:06:56.100278Z"
    }
   },
   "outputs": [],
   "source": [
    "indx_three_clusters = # Get index of num_clusters where number of clusters is 3 \n",
    "three_clusters_labels = # Get labels from all_labels where the index is indx_three_clusters\n",
    "print(\"labels acquired from scipy are {}\".format(three_clusters_labels))"
   ]
  },
  {
   "cell_type": "markdown",
   "metadata": {},
   "source": [
    "labels acquired from scipy are [3 1 3 3 2 1 3 1 2 1 3 1 1 2 3 3 3 2 3 2 1]"
   ]
  },
  {
   "cell_type": "code",
   "execution_count": null,
   "metadata": {
    "ExecuteTime": {
     "end_time": "2020-05-13T21:06:56.111266Z",
     "start_time": "2020-05-13T21:06:56.106223Z"
    }
   },
   "outputs": [],
   "source": [
    "print(\"labels acquired from sklearn are {}\".format(clusters))"
   ]
  },
  {
   "cell_type": "markdown",
   "metadata": {},
   "source": [
    "labels acquired from sklearn are [3 1 3 3 2 1 3 1 2 1 3 1 1 2 3 3 3 2 3 2 1]"
   ]
  },
  {
   "cell_type": "markdown",
   "metadata": {
    "ExecuteTime": {
     "end_time": "2020-05-13T20:15:09.965689Z",
     "start_time": "2020-05-13T20:15:09.956570Z"
    }
   },
   "source": [
    "Remember that ```python clusters``` is the output of sklearn agglomerative clustering. Comparing ```python clusters``` and ```python three_cluster_labels``` we see that cluster 0 is the same as cluster 3 in ```python three_clusters_labels```. We replace is 0 with 3 in ```python clusters``` and compare both. "
   ]
  },
  {
   "cell_type": "code",
   "execution_count": null,
   "metadata": {
    "ExecuteTime": {
     "end_time": "2020-05-13T21:06:56.116672Z",
     "start_time": "2020-05-13T21:06:56.111952Z"
    }
   },
   "outputs": [],
   "source": [
    "clusters[np.asanyarray(clusters) == 0] = 3\n",
    "# compare clusters \n",
    "check_true = # check if clusters and three_clusters_labels have the same element\n",
    "print(\"All the elements of three cluster labels and clusters are the same: {}\".format(check_true))\n"
   ]
  },
  {
   "cell_type": "markdown",
   "metadata": {},
   "source": [
    "All the elements of three cluster labels and clusters are the same: True\n"
   ]
  }
 ],
 "metadata": {
  "kernelspec": {
   "display_name": "Python 3",
   "language": "python",
   "name": "python3"
  },
  "language_info": {
   "codemirror_mode": {
    "name": "ipython",
    "version": 3
   },
   "file_extension": ".py",
   "mimetype": "text/x-python",
   "name": "python",
   "nbconvert_exporter": "python",
   "pygments_lexer": "ipython3",
   "version": "3.7.3"
  },
  "latex_envs": {
   "LaTeX_envs_menu_present": true,
   "autoclose": false,
   "autocomplete": true,
   "bibliofile": "biblio.bib",
   "cite_by": "apalike",
   "current_citInitial": 1,
   "eqLabelWithNumbers": true,
   "eqNumInitial": 1,
   "hotkeys": {
    "equation": "Ctrl-E",
    "itemize": "Ctrl-I"
   },
   "labels_anchors": false,
   "latex_user_defs": false,
   "report_style_numbering": false,
   "user_envs_cfg": false
  },
  "toc": {
   "base_numbering": 1,
   "nav_menu": {},
   "number_sections": false,
   "sideBar": true,
   "skip_h1_title": false,
   "title_cell": "Table of Contents",
   "title_sidebar": "Contents",
   "toc_cell": false,
   "toc_position": {},
   "toc_section_display": true,
   "toc_window_display": false
  },
  "varInspector": {
   "cols": {
    "lenName": 16,
    "lenType": 16,
    "lenVar": 40
   },
   "kernels_config": {
    "python": {
     "delete_cmd_postfix": "",
     "delete_cmd_prefix": "del ",
     "library": "var_list.py",
     "varRefreshCmd": "print(var_dic_list())"
    },
    "r": {
     "delete_cmd_postfix": ") ",
     "delete_cmd_prefix": "rm(",
     "library": "var_list.r",
     "varRefreshCmd": "cat(var_dic_list()) "
    }
   },
   "types_to_exclude": [
    "module",
    "function",
    "builtin_function_or_method",
    "instance",
    "_Feature"
   ],
   "window_display": false
  }
 },
 "nbformat": 4,
 "nbformat_minor": 4
}
