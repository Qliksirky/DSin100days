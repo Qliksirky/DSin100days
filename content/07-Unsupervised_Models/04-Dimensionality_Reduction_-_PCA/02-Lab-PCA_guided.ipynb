{
 "cells": [
  {
   "cell_type": "markdown",
   "metadata": {},
   "source": [
    "## 02-Lab - PCA\n",
    "\n",
    "In this lab, you will load the  digits dataset from sklearn.dataset and perform PCA on the dataset.\n",
    "The goal is to reduce the number of features and retain the information with minimal loss from the dataset.\n",
    "\n",
    "As part of this, you would perform Standardise the data and perform PCA using sklearn. \n"
   ]
  },
  {
   "cell_type": "code",
   "execution_count": null,
   "metadata": {
    "ExecuteTime": {
     "end_time": "2020-05-12T22:49:19.095940Z",
     "start_time": "2020-05-12T22:49:18.694800Z"
    }
   },
   "outputs": [],
   "source": [
    "# Importing digits dataset\n",
    "from sklearn import datasets\n",
    "from sklearn.preprocessing import StandardScaler\n",
    "from sklearn.decomposition import PCA as sklearnPCA\n",
    "import pandas as pd\n",
    "import numpy as np \n",
    "\n",
    "digits = datasets.load_digits()\n",
    "\n",
    "standardized_data = StandardScaler().fit_transform(digits['data'])\n",
    "digits_df = pd.DataFrame(data=standardized_data)\n",
    "digits_df.head()\n",
    "# Write your code below to perform Principal Component Analysis (PCA) to reduce the dimensionality"
   ]
  },
  {
   "cell_type": "code",
   "execution_count": null,
   "metadata": {
    "ExecuteTime": {
     "end_time": "2020-05-12T22:49:19.161801Z",
     "start_time": "2020-05-12T22:49:19.097052Z"
    }
   },
   "outputs": [],
   "source": [
    "# carry out pca with 2 components and a random state of 12. Perform fit transform\n",
    "# to get transfomred_vectors \n",
    "# 1 line of code \n",
    "transformed_vectors = # perform fit transform\n",
    "labels = digits['target']\n",
    "transformed_data_shape = transformed_vectors.shape\n",
    "print(\"Shape of transformed data is {}\".format(transformed_data_shape))"
   ]
  },
  {
   "cell_type": "markdown",
   "metadata": {},
   "source": [
    "Shape of transformed data is (1797, 2)"
   ]
  },
  {
   "cell_type": "code",
   "execution_count": null,
   "metadata": {
    "ExecuteTime": {
     "end_time": "2020-05-12T22:49:20.151256Z",
     "start_time": "2020-05-12T22:49:19.163159Z"
    }
   },
   "outputs": [],
   "source": [
    "import matplotlib.pyplot as plt\n",
    "from matplotlib.colors import ListedColormap\n",
    "import plotly_express as px \n",
    "\n",
    "colors = {0:'red', 1:'green',2:'blue', 3:'black', 4:'orange', 5:'pink', 6:'purple',7:'yellow', 8:'brown', 9:'olive'}\n",
    "\n",
    "str_labels = # convert labels to strings, make sure it str_labels is a list\n",
    "# data for pca_df should be a list where pca1 and pca2 are columns of transoformed vectors\n",
    "# and the list st_labels \n",
    "pca_df = pd.DataFrame(data= '####', \n",
    "                      index=['pca1', 'pca2', 'labels']).T\n",
    "\n",
    "# plotly figure\n",
    "fig  = px.scatter(pca_df, x='pca1',\n",
    "           y='pca2',\n",
    "           hover_data=['labels'],\n",
    "           color='labels',\n",
    "           color_discrete_sequence=colors\n",
    "           )\n",
    "fig.update_traces( showlegend = True)\n",
    "fig.show()\n"
   ]
  },
  {
   "cell_type": "markdown",
   "metadata": {},
   "source": [
    "<img src=\"../../../images/pca1vspca2.png\">"
   ]
  },
  {
   "cell_type": "markdown",
   "metadata": {},
   "source": [
    "Let us take just two examples. 0 and 7. "
   ]
  },
  {
   "cell_type": "code",
   "execution_count": null,
   "metadata": {
    "ExecuteTime": {
     "end_time": "2020-05-12T22:49:20.157137Z",
     "start_time": "2020-05-12T22:49:20.153216Z"
    }
   },
   "outputs": [],
   "source": [
    "np_labels = # convert labels not str_labels to numpy array\n",
    "select_indices = # we need to select only labels where label = 0 or 9\n",
    "selected_examples = # select only rows of data that have select indices from digits_df\n",
    "selected_labels = np_labels[select_indices]\n",
    "unique_selected_labels = np.unique(selected_labels) \n",
    "print(\"selected_labels are {}\".format(unique_selected_labels))\n"
   ]
  },
  {
   "cell_type": "markdown",
   "metadata": {},
   "source": [
    "selected_labels are [0 9]"
   ]
  },
  {
   "cell_type": "code",
   "execution_count": null,
   "metadata": {
    "ExecuteTime": {
     "end_time": "2020-05-12T22:49:20.423835Z",
     "start_time": "2020-05-12T22:49:20.157956Z"
    }
   },
   "outputs": [],
   "source": [
    "pca = sklearnPCA(n_components=2, random_state=12 )\n",
    "transformed_vectors = pca.fit_transform(selected_examples)\n",
    "colors = {0:'red', 1:'olive'}\n",
    "\n",
    "str_labels = [str(x) for x in selected_labels]\n",
    "# similar to pca_df, we need to generate a list that consists of pca1\n",
    "# pca2 and and str_labels which we will feed into the variable 'data'\n",
    "pca_df_reduced = pd.DataFrame(data= '####', \n",
    "                      index=['pca1', 'pca2', 'labels']).T\n",
    "\n",
    "\n",
    "# plotly figure, refer to the figure for pca_df and enter the arguments \n",
    "fig  = px.scatter('#####')\n",
    "fig.update_traces( showlegend = True)\n",
    "fig.show()\n"
   ]
  },
  {
   "cell_type": "markdown",
   "metadata": {},
   "source": [
    "<img src=\"../../../images/pca09.png\">"
   ]
  },
  {
   "cell_type": "markdown",
   "metadata": {
    "ExecuteTime": {
     "end_time": "2020-05-11T21:22:34.463981Z",
     "start_time": "2020-05-11T21:22:34.461854Z"
    }
   },
   "source": [
    "Let us look at which dimensions explain the variation the best. We can get the explained variances term from the model itself. It tells us how each pca dimension contributes to the variance. "
   ]
  },
  {
   "cell_type": "markdown",
   "metadata": {},
   "source": [
    "## Part 2 : The cumulative explained variance plot \n",
    "Let us now look at plotting how much variations is explained by the various pca dimensions. We shall plot the explained variance vs the number of components. The maximum number of components is the number of dimensions of the data. There are 64 features i.e 64 dimensions to the data. Each pixel is the equivalent to a dimension since each pixel can take a value between 0 and 255 and is its value is independent of its neighbors. As an aside, while the value of each pixel is independent of it's neighbor, there will be a strong correlation between a pixel's value and it's neighborhood values. If a pixel is surrounded by black pixels, there is a non-trivial probability that it will be black or vice versa. \n",
    "\n",
    "Coming back to the topic. Let us plot the cumulative explained variance plot. "
   ]
  },
  {
   "cell_type": "code",
   "execution_count": null,
   "metadata": {
    "ExecuteTime": {
     "end_time": "2020-05-12T22:49:20.716349Z",
     "start_time": "2020-05-12T22:49:20.424726Z"
    }
   },
   "outputs": [],
   "source": [
    "pca = sklearnPCA(n_components=64, random_state=12 )\n",
    "transformed_vectors = pca.fit_transform(selected_examples)\n",
    "\n",
    "explained_variance_ratios = # get explained variance ratios from the pca model\n",
    "cumulative_sum = # numpy has a tool that can do calcuate the cumulative sum. This should be an array \n",
    "n_components = # you can use np.arange to get the number of components. Remember, you need 64 components\n",
    "\n",
    "stacked_data = # you need to vertically stack the cumsum values and number of components and transpose them \n",
    "cumsum_df = pd.DataFrame(data=stacked_data , columns=[\"variance\", \"n_components\"])\n",
    "px.line(cumsum_df, x=\"n_components\", y=\"variance\", title='Cumulative sum of variance' )"
   ]
  },
  {
   "cell_type": "markdown",
   "metadata": {},
   "source": [
    "<img src=\"../../../images/cumsum_variance.png\">\n"
   ]
  },
  {
   "cell_type": "code",
   "execution_count": null,
   "metadata": {
    "ExecuteTime": {
     "end_time": "2020-05-12T22:49:20.719654Z",
     "start_time": "2020-05-12T22:49:20.717174Z"
    }
   },
   "outputs": [],
   "source": [
    "# take the second value in the cumsum dataframe and multiply it by 100\n",
    "print(\"The first two components explain {} of the variance\".format(\"####\"))"
   ]
  },
  {
   "cell_type": "markdown",
   "metadata": {},
   "source": [
    "The first two components explain 39.05304261475776 of the variance"
   ]
  },
  {
   "cell_type": "code",
   "execution_count": null,
   "metadata": {
    "ExecuteTime": {
     "end_time": "2020-05-12T22:49:20.728387Z",
     "start_time": "2020-05-12T22:49:20.720972Z"
    }
   },
   "outputs": [],
   "source": [
    "# same as above but for the 10 th value \n",
    "print(\"The first 10 components explain {} of the variance\".format(\"####\"))"
   ]
  },
  {
   "cell_type": "markdown",
   "metadata": {},
   "source": [
    "The first 10 components explain 75.1555985864632 of the variance"
   ]
  },
  {
   "cell_type": "code",
   "execution_count": null,
   "metadata": {
    "ExecuteTime": {
     "end_time": "2020-05-12T22:49:20.734032Z",
     "start_time": "2020-05-12T22:49:20.729395Z"
    }
   },
   "outputs": [],
   "source": [
    "\n",
    "print(\"From the plot 90% of the variance is explained by a minimum of {} components\".format(21))"
   ]
  },
  {
   "cell_type": "markdown",
   "metadata": {},
   "source": [
    "From the plot  90% of the variance is explained by a minimum of 21 components"
   ]
  }
 ],
 "metadata": {
  "kernelspec": {
   "display_name": "Python 3",
   "language": "python",
   "name": "python3"
  },
  "language_info": {
   "codemirror_mode": {
    "name": "ipython",
    "version": 3
   },
   "file_extension": ".py",
   "mimetype": "text/x-python",
   "name": "python",
   "nbconvert_exporter": "python",
   "pygments_lexer": "ipython3",
   "version": "3.7.3"
  },
  "latex_envs": {
   "LaTeX_envs_menu_present": true,
   "autoclose": false,
   "autocomplete": true,
   "bibliofile": "biblio.bib",
   "cite_by": "apalike",
   "current_citInitial": 1,
   "eqLabelWithNumbers": true,
   "eqNumInitial": 1,
   "hotkeys": {
    "equation": "Ctrl-E",
    "itemize": "Ctrl-I"
   },
   "labels_anchors": false,
   "latex_user_defs": false,
   "report_style_numbering": false,
   "user_envs_cfg": false
  },
  "toc": {
   "base_numbering": 1,
   "nav_menu": {},
   "number_sections": false,
   "sideBar": true,
   "skip_h1_title": false,
   "title_cell": "Table of Contents",
   "title_sidebar": "Contents",
   "toc_cell": false,
   "toc_position": {},
   "toc_section_display": true,
   "toc_window_display": false
  },
  "varInspector": {
   "cols": {
    "lenName": 16,
    "lenType": 16,
    "lenVar": 40
   },
   "kernels_config": {
    "python": {
     "delete_cmd_postfix": "",
     "delete_cmd_prefix": "del ",
     "library": "var_list.py",
     "varRefreshCmd": "print(var_dic_list())"
    },
    "r": {
     "delete_cmd_postfix": ") ",
     "delete_cmd_prefix": "rm(",
     "library": "var_list.r",
     "varRefreshCmd": "cat(var_dic_list()) "
    }
   },
   "types_to_exclude": [
    "module",
    "function",
    "builtin_function_or_method",
    "instance",
    "_Feature"
   ],
   "window_display": false
  }
 },
 "nbformat": 4,
 "nbformat_minor": 2
}
