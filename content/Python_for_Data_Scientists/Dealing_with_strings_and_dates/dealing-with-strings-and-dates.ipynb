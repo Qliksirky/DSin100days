{
 "cells": [
  {
   "cell_type": "markdown",
   "metadata": {
    "tags": [
     "content",
     "l6",
     "s6"
    ]
   },
   "source": [
    "# Dealing with Strings and Dates\n",
    "\n",
    "## Strings\n",
    "\n",
    "Strings in python are easy to work with. Here are the commonly used string operations:\n",
    "\n",
    "### Concatenation:\n",
    "\n",
    "To concatenate two strings, \"chair\" and \"table\", you can use:\n",
    "\n",
    "furniture = \"chair\" + \", table\"\n",
    "\n",
    "### Other operations:\n",
    "\n",
    ".lower(), .upper() to lower & upper case the strings\n",
    "\n",
    "Ref: https://docs.python.org/3/library/string.html\n",
    "\n",
    "### Regular Expressions:\n",
    "\n",
    "You can use 're' package to work with regular expressions. For example the following code can be used to find the position of the string\n",
    "\n",
    "```\n",
    "import re -- Importing re library\n",
    "mangoes = re.search(\"Mango\", \"This is a Mango\") -- Searching for the first occurance of string Mango\n",
    "mangoes.group(0)\n",
    "print (mangoes)\n",
    "<_sre.SRE_Match object; span=(10, 15), match='Mango'> -- Printing the search results with 10 as the starting index of Mango and 15 as the ending index of the mango in the input string\n",
    "```\n",
    "\n",
    "will contain the matches.\n",
    "\n",
    "\n",
    "Ref: https://docs.python.org/3/library/re.html\n",
    "\n",
    "### Exercise\n",
    "\n",
    "* a) Given two strings a = \"hello! How are you?\" and b = \"how can I help you? \", concatenate them into a new string c. Print c\n",
    "* b) Use regular expressions to search for 'hel' in string c and assign it to variable hel_strings"
   ]
  },
  {
   "cell_type": "code",
   "execution_count": 1,
   "metadata": {
    "tags": [
     "ce",
     "l6",
     "s6"
    ]
   },
   "outputs": [
    {
     "name": "stdout",
     "output_type": "stream",
     "text": [
      "hello! How are you? how can I help you?\n"
     ]
    }
   ],
   "source": [
    "a = \"hello! How are you? \"\n",
    "b = \"how can I help you?\"\n",
    "c = a + b\n",
    "print (c)\n",
    "\n",
    "# regular expression"
   ]
  },
  {
   "cell_type": "code",
   "execution_count": 2,
   "metadata": {
    "collapsed": true,
    "tags": [
     "l6",
     "s6",
     "hint"
    ]
   },
   "outputs": [],
   "source": [
    "# After successful execution of this exercise, we encourage you to try to find the index of second 'hel' for fun and practice."
   ]
  },
  {
   "cell_type": "code",
   "execution_count": 3,
   "metadata": {
    "tags": [
     "l6",
     "s6",
     "ans"
    ]
   },
   "outputs": [
    {
     "name": "stdout",
     "output_type": "stream",
     "text": [
      "hel\n"
     ]
    }
   ],
   "source": [
    "import re\n",
    "hel_strings = re.search(\"hel\", c)\n",
    "print(hel_strings.group(0))"
   ]
  },
  {
   "cell_type": "code",
   "execution_count": 4,
   "metadata": {
    "tags": [
     "hid",
     "s6",
     "l6"
    ]
   },
   "outputs": [],
   "source": [
    "ref_tmp_var = False\n",
    "\n",
    "# ref_assert_var\n",
    "\n",
    "try:\n",
    "    if(hel_strings.group(0) == \"hel\"):\n",
    "        ref_assert_var = True\n",
    "        ref_tmp_var = True\n",
    "    else:\n",
    "        ref_assert_var = False\n",
    "        print('Please follow the instructions given and use the same variables provided in the instructions.')\n",
    "except Exception:\n",
    "    print('Please follow the instructions given and use the same variables provided in the instructions.')\n",
    "\n",
    "assert ref_tmp_var"
   ]
  }
 ],
 "metadata": {
  "anaconda-cloud": {},
  "executed_sections": [],
  "kernelspec": {
   "display_name": "Python 3",
   "language": "python",
   "name": "python3"
  },
  "language_info": {
   "codemirror_mode": {
    "name": "ipython",
    "version": 3
   },
   "file_extension": ".py",
   "mimetype": "text/x-python",
   "name": "python",
   "nbconvert_exporter": "python",
   "pygments_lexer": "ipython3",
   "version": "3.6.1"
  }
 },
 "nbformat": 4,
 "nbformat_minor": 2
}
