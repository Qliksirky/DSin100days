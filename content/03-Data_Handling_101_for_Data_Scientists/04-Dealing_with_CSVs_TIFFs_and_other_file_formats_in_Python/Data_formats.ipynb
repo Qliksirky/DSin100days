{
 "cells": [
  {
   "cell_type": "markdown",
   "metadata": {},
   "source": [
    "# Importing data from various sources\n",
    "\n",
    "<br>\n",
    "As a Data Scientist, you'll surely work with a lot of data! This data can be from one or more sources of any type, say databases or excel sheets or csv or json. In this lesson we shall see how to import data from the following sources:\n",
    "* Text files\n",
    "* Excel sheets\n",
    "* CSV\n",
    "* XML & HTML\n",
    "* JSON\n",
    "* TIFF\n",
    "* Data Sources from the web\n",
    "\n",
    "<img src=\"../../../images/data_handling-data_formats.PNG\" width=\"500\">\n",
    "\n",
    "<br>\n",
    "## 1. Text files:\n",
    "\n",
    "Text files are very easy for computer to read. Text files contain data with  no structured relationships between records; they contain only basic formatting and have small fixed number of fields. While reading a text file, you need to specify the access mode of a file through the *mode* argument. This might be ** *r* **, ** *w* ** or ** *a* ** for **read**, **write** and  **append** respectively. Let's say I have a text file *sample.txt* which has the following data: <br><br>\n",
    "*\n",
    "Welcome to Colaberry!<br>\n",
    "You are currently in \"DS in 100 days\" course<br>\n",
    "Hope you have a good learning experience.<br>\n",
    "*\n",
    "\n",
    "If we want to input this data from the text file:\n",
    "\n",
    "``` python\n",
    "text_file = open(\"sample.txt\", \"r\")\n",
    "lines = text_file.read()\n",
    "print(lines)\n",
    "\n",
    ">>>\n",
    "Welcome to Colaberry!\n",
    "You are currently in 'DS in 100 days' course\n",
    "Hope you have a good learning experience.\n",
    "```\n",
    "\n",
    "### Exercise\n",
    "\n",
    "Now open a new text file and type in the following in seperate lines as given: <br><br>\n",
    "*\n",
    "I have enrolled in \"DS in 100 days\" course <br>\n",
    "I am liking the course contents! <br>\n",
    "It's helping me learn Data Science in a easy way... <br>\n",
    "*<br>\n",
    "Save your text file as **my_sample.txt**. Now open this file, read your data and print it."
   ]
  },
  {
   "cell_type": "code",
   "execution_count": null,
   "metadata": {},
   "outputs": [],
   "source": [
    "#write your code here"
   ]
  },
  {
   "cell_type": "markdown",
   "metadata": {
    "hide_input": true
   },
   "source": [
    "### Solution"
   ]
  },
  {
   "cell_type": "markdown",
   "metadata": {},
   "source": [
    "## 2. Excel sheets:\n",
    "\n",
    "Microsoft Excel is a quick way for business analysts to provide data for engineers to enrich reporting. Excel files are a huge part of any business operation and it becomes imperative that you learn exactly how to import these into python for data analysis. Python's ** *pandas* ** library has a function called **ExcelFile()** which converts data from your excel file into a pandas *dataframe*.\n",
    "\n",
    "``` python\n",
    "import pandas as pd\n",
    "\n",
    "excel_file = pd.ExcelFile(\"myfile.xls\") \n",
    "print(excel_file.sheet_names) # printing out all the sheet names in the excel file\n",
    "df = excel_file.parse('sheet1') # extracting data from the first sheet as a dataframe\n",
    "df.head()\n",
    "```\n",
    "\n",
    "### Exercise\n",
    "\n",
    "Now open an excel file in the following location **\"../../../data/sample_excel.xls\"**. Print the sheet names as well as the sheet contents. "
   ]
  },
  {
   "cell_type": "code",
   "execution_count": 1,
   "metadata": {},
   "outputs": [],
   "source": [
    "#write your code below\n"
   ]
  },
  {
   "cell_type": "markdown",
   "metadata": {
    "hide_input": true
   },
   "source": [
    "### Solution\n",
    "\n",
    "```python\n",
    "import pandas as pd\n",
    "\n",
    "excel_file = pd.ExcelFile(\"../data/sample_excel.xls\") \n",
    "print(excel_file.sheet_names) # printing out all the sheet names in the excel file\n",
    "df = excel_file.parse('sheet1') # extracting data from the first sheet as a dataframe\n",
    "df.head()\n",
    "```"
   ]
  },
  {
   "cell_type": "markdown",
   "metadata": {},
   "source": [
    "## 3. CSV\n",
    "\n",
    "CSV (Comma Separated Values) files usually contain mixed data types and are used to transfer large database between programs. There are multiple ways to import csv into Python. The first method we’ll look at uses the **csv** module, a powerful and versatile module available in the core python install. It has **reader()** function which reads in the data as rows, then we can print each row. The second and by far the best method, is to import it as a dataframe using the pandas **read_csv()** funtion in python. \n",
    "\n",
    "* **Method 1:**\n",
    "\n",
    "Using the CSV module\n",
    "\n",
    "```python\n",
    "import csv\n",
    "\n",
    "csv_file = csv.reader(open(\"myfile.csv\"))\n",
    "for row in csv_file:\n",
    "    print(row)\n",
    "```\n",
    "\n",
    "* **Method 2:**\n",
    "\n",
    "Using the pandas module\n",
    "\n",
    "```python\n",
    "import pandas as pd\n",
    "\n",
    "df = pd.read_csv(\"myfile.csv\")\n",
    "df.head()\n",
    "```\n",
    "\n",
    "### Exercise\n",
    "\n",
    "Now open a csv file in the following location **\"../data/NBA.csv\"** and use pandas to import the data into Python. After importing, use *head()* function to print the rows in your dataframe."
   ]
  },
  {
   "cell_type": "code",
   "execution_count": 2,
   "metadata": {},
   "outputs": [],
   "source": [
    "#write your code below"
   ]
  },
  {
   "cell_type": "markdown",
   "metadata": {
    "hide_input": true
   },
   "source": [
    "### Solution\n",
    "\n",
    "```python\n",
    "df = pd.read_csv(\"../data/NBA.csv\")\n",
    "df.head()\n",
    "```"
   ]
  },
  {
   "cell_type": "markdown",
   "metadata": {},
   "source": [
    "## 4. XML & HTML\n",
    "\n",
    "### 4.1 XML\n",
    "\n",
    "Another common format to exchange data is XML. XML is used to structure data so that it can be stored and transported. Unfortunately, Pandas package does not have an inbuilt function to import data from XML, so we need to use standard XML package and then convert the data to Pandas DataFrames. Let's see how to do this..\n",
    "\n",
    "* First let's import data from a xml source\n",
    "\n",
    "``` python\n",
    "import requests\n",
    "\n",
    "plant_catalog_url = \"https://www.w3schools.com/xml/plant_catalog.xml\"\n",
    "xml_data = requests.get(plant_catalog_url).content\n",
    "```\n",
    "\n",
    "* Second let's see a function that converts XML to a dataframe\n",
    "\n",
    "``` python\n",
    "import xml.etree.ElementTree as ET\n",
    "import pandas as pd\n",
    "\n",
    "class convert_XML2DataFrame:\n",
    "\n",
    "    def __init__(self, xml_data):\n",
    "        self.root = ET.XML(xml_data)\n",
    "\n",
    "    def parse_root(self, root):\n",
    "        return [self.parse_element(child) for child in iter(root)]\n",
    "\n",
    "    def parse_element(self, element, parsed=None):\n",
    "        if parsed is None:\n",
    "            parsed = dict()\n",
    "        for key in element.keys():\n",
    "            parsed[key] = element.attrib.get(key)\n",
    "        if element.text:\n",
    "            parsed[element.tag] = element.text\n",
    "        for child in list(element):\n",
    "            self.parse_element(child, parsed)\n",
    "        return parsed\n",
    "\n",
    "    def process(self):\n",
    "        structured_data = self.parse_root(self.root)\n",
    "        return pd.DataFrame(structured_data)\n",
    "\n",
    "conversion = convert_XML2DataFrame(xml_data)\n",
    "xml_df = conversion.process()\n",
    "xml_df.head()\n",
    "```\n",
    "<br>\n",
    "### 4.2 HTML\n",
    "\n",
    "As a Data Scientist, sometimes you might have to search the web for some raw data needed for a project. Unfortunately the data is inside a web page and you don't want to waste time in coming up with a crappy script to scrape the data.. Luckily there's a simple way to do this in Python. The Pandas library has a built-in method called **read_html()**, to scrape tabular data from html pages.\n",
    "\n",
    "``` python\n",
    "import pandas as pd\n",
    "\n",
    "tables = pd.read_html(\"myfile.html\") # Scraping tabular data out of html file\n",
    "df = tables[0] # Transforming tables to dataframe, here I am using the first table scraped\n",
    "df.head()\n",
    "```\n",
    "\n",
    "### Exercise\n",
    "\n",
    "Now open a html file in the following location **\"../../../data/sample_html.html\"** and use pandas to import the data into Python. After importing, use *head()* function to print the rows in your dataframe."
   ]
  },
  {
   "cell_type": "code",
   "execution_count": 4,
   "metadata": {},
   "outputs": [],
   "source": [
    "#write your code below"
   ]
  },
  {
   "cell_type": "markdown",
   "metadata": {
    "hide_input": true
   },
   "source": [
    "### Solution\n",
    "\n",
    "```python\n",
    "import pandas as pd\n",
    "\n",
    "tables = pd.read_html(\"../../../data/sample_html.html\")\n",
    "df = tables[0]\n",
    "df\n",
    "```"
   ]
  },
  {
   "cell_type": "markdown",
   "metadata": {},
   "source": [
    "## 5. JSON\n",
    "\n",
    "Javascript Object Notation (JSON), similar to XML, is another common way for exchange of structured information over a network and sharing information across platforms. It is basically text with *dict* structure, i.e it stores data as ** *key:value pairs* **. The structure can be simple to complex. There are mutiple ways to do this.\n",
    "\n",
    "* **Method 1:**\n",
    "\n",
    "Python pandas can easliy read JSON files using the **read_json()** function. \n",
    "\n",
    "``` python\n",
    "import pandas as pd\n",
    "\n",
    "df = pd.read_json(\"myfile.json\")\n",
    "df.head()\n",
    "```\n",
    "\n",
    "* **Method 2:**\n",
    "\n",
    "There is also an alternate way of doing this. You can first read the data using **json** module, and then transform it into a dataframe.\n",
    "\n",
    "``` python\n",
    "import json\n",
    "with open('myfile.json', 'r') as f:\n",
    "    data = json.load(f)\n",
    "\n",
    "df = pd.DataFrame({'value': data})\n",
    "df.head()\n",
    "```\n",
    "\n",
    "### Exercise\n",
    "\n",
    "Now open a json file in the following location **\"../../../data/Customer.json\"** and use pandas to import the data into Python. After importing, use *head()* function to print the rows in your dataframe."
   ]
  },
  {
   "cell_type": "code",
   "execution_count": 6,
   "metadata": {},
   "outputs": [],
   "source": [
    "#write your code below"
   ]
  },
  {
   "cell_type": "markdown",
   "metadata": {
    "hide_input": true
   },
   "source": [
    "### Solution\n",
    "\n",
    "```python\n",
    "import pandas as pd\n",
    "\n",
    "df = pd.read_json(\"../../../data/Customer.json\")\n",
    "df.head()\n",
    "```"
   ]
  },
  {
   "cell_type": "markdown",
   "metadata": {},
   "source": [
    "## 6. TIFF\n",
    "\n",
    "TIFF (Tagged Image File Format) is a kind of image format like JPEG, PNG, Bitmap and GIF. However the advantage of TIFF over other formats is that it has unparalleled image quality and file security. It is a loss-less format and it is also difficult to alter making it ideal for protecting information and archiving. Python has an imaging library called **PIL**, that can process images. \n",
    "\n",
    "* First, let's see how to use this library to import images..\n",
    "\n",
    "``` python\n",
    "from PIL import Image\n",
    "\n",
    "im = Image.open('myfile.tif')\n",
    "im.show()\n",
    "```\n",
    "**Note:** The *.show()* function opens image in your systems's default image viewer.\n",
    "\n",
    "* Next, let's convert this image to a numpy array for processing, it's as simple as:\n",
    "\n",
    "``` python\n",
    "import numpy as np\n",
    "\n",
    "imarray = np.array(im)\n",
    "imarray\n",
    "```\n",
    "This converts your image into numpy array values, which can be used for manipulating the image.\n",
    "\n",
    "### Exercise\n",
    "\n",
    "Now open a tiff file in the following location **\"../../../images/data_handling-sample_tiff.tiff\"** and use pil to import the data into Python. After importing, convert the image into numpy array values and print the array."
   ]
  },
  {
   "cell_type": "code",
   "execution_count": 8,
   "metadata": {},
   "outputs": [],
   "source": [
    "#write your code below"
   ]
  },
  {
   "cell_type": "markdown",
   "metadata": {
    "hide_input": true
   },
   "source": [
    "### Solution\n",
    "\n",
    "```python\n",
    "from PIL import Image\n",
    "\n",
    "im = Image.open('../../../images/data_handling-sample_tiff.tif')\n",
    "im.show()\n",
    "\n",
    "\n",
    "import numpy as np\n",
    "\n",
    "imarray = np.array(im)\n",
    "imarray\n",
    "```"
   ]
  },
  {
   "cell_type": "markdown",
   "metadata": {},
   "source": [
    "## 7. Data Sources from the web\n",
    "\n",
    "Sometimes the data we want to use is not readily available, we will have to find it from web sources. These can be **url links** to csv, html, json or other files. Interestingly the functions in pandas support data sources from url links by default. You need to choose the appropriate function for that corresponding data source. Let's see some examples:\n",
    "\n",
    "* **Reading csv file from web**\n",
    "``` python\n",
    "pd.read_csv('https://archive.ics.uci.edu/ml/machine-learning-databases/iris/iris.data')\n",
    "```\n",
    "\n",
    "* **Reading html file from web**\n",
    "``` python\n",
    "tables = pd.read_html(\"https://www.fantasypros.com/nfl/reports/leaders/qb.php?year=2015\")\n",
    "df = tables[0]\n",
    "df.head()\n",
    "```\n",
    "\n",
    "* **Reading json file from web**\n",
    "``` python\n",
    "df = pd.read_json('http://maps.googleapis.com/maps/api/geocode/json?address=google')\n",
    "df.head()\n",
    "```\n",
    "\n",
    "In short, web sources are treated the same way as actual files.\n",
    "\n",
    "### Exercise\n",
    "\n",
    "Now analyze and import data from the following webpage using Python. <br>\n",
    "https://people.sc.fsu.edu/~jburkardt/data/csv/snakes_count_1000.csv <br>\n",
    "After importing, use *head()* function to print the rows in your dataframe."
   ]
  },
  {
   "cell_type": "code",
   "execution_count": 9,
   "metadata": {},
   "outputs": [],
   "source": [
    "#write your code below"
   ]
  },
  {
   "cell_type": "markdown",
   "metadata": {
    "hide_input": true
   },
   "source": [
    "### Solution\n",
    "\n",
    "```python\n",
    "df = pd.read_csv('https://people.sc.fsu.edu/~jburkardt/data/csv/snakes_count_1000.csv')\n",
    "df.head()\n",
    "```"
   ]
  }
 ],
 "metadata": {
  "celltoolbar": "Edit Metadata",
  "kernelspec": {
   "display_name": "Python 3",
   "language": "python",
   "name": "python3"
  },
  "language_info": {
   "codemirror_mode": {
    "name": "ipython",
    "version": 3
   },
   "file_extension": ".py",
   "mimetype": "text/x-python",
   "name": "python",
   "nbconvert_exporter": "python",
   "pygments_lexer": "ipython3",
   "version": "3.6.5"
  }
 },
 "nbformat": 4,
 "nbformat_minor": 2
}
