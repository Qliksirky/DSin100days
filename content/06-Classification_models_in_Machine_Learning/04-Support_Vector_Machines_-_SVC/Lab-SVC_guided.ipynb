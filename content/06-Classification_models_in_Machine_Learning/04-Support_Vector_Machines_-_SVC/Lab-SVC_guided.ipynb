{
 "cells": [
  {
   "cell_type": "markdown",
   "metadata": {},
   "source": [
    "## Lab - Support Vector Machines\n",
    "\n",
    "In this lab, you will work with loan default dataset and use Support Vector Machines (SVC) to predict default.\n",
    "The dataset contains information about income, balance and default for various people along with their student status.\n",
    "Your task is to fit a Support Vactor Machines model (from sklearn) , and predict default status of individuals given the data sample.\n",
    "You are required to perform pre-processing train-test split,GridSearchCV to find the best parameters and create the model.\n",
    "Also try different kernels as well as hyper-parameters to find the best fit.\n",
    "\n",
    "Data is availabe in : https://raw.githubusercontent.com/colaberry/DSin100days/master/data/default.csv"
   ]
  },
  {
   "cell_type": "code",
   "execution_count": null,
   "metadata": {
    "ExecuteTime": {
     "end_time": "2020-05-04T19:23:57.101825Z",
     "start_time": "2020-05-04T19:23:56.611812Z"
    }
   },
   "outputs": [],
   "source": [
    "# Importing pandas\n",
    "import pandas as pd\n",
    "\n",
    "default = pd.read_csv('https://raw.githubusercontent.com/colaberry/DSin100days/master/data/default.csv', na_values='?').dropna()\n",
    "default.info()\n",
    "default.head()\n"
   ]
  },
  {
   "cell_type": "code",
   "execution_count": null,
   "metadata": {
    "ExecuteTime": {
     "end_time": "2020-05-04T19:23:57.105915Z",
     "start_time": "2020-05-04T19:23:57.102931Z"
    }
   },
   "outputs": [],
   "source": [
    "data_set = default[[\"balance\",\"income\", \"default2\"]]"
   ]
  },
  {
   "cell_type": "code",
   "execution_count": null,
   "metadata": {
    "ExecuteTime": {
     "end_time": "2020-05-04T19:23:57.277768Z",
     "start_time": "2020-05-04T19:23:57.107123Z"
    }
   },
   "outputs": [],
   "source": [
    "from sklearn.model_selection import train_test_split \n",
    "from sklearn.svm import LinearSVC\n",
    "from sklearn.svm import SVC\n",
    "from sklearn.metrics import accuracy_score\n",
    "\n",
    "X = data_set[['balance','income']]\n",
    "y = data_set['default2'].values\n",
    "X_train, X_test, y_train, y_test = train_test_split(X, y, test_size=0.10, random_state=1)\n"
   ]
  },
  {
   "cell_type": "code",
   "execution_count": null,
   "metadata": {
    "ExecuteTime": {
     "end_time": "2020-05-04T19:23:57.414412Z",
     "start_time": "2020-05-04T19:23:57.278866Z"
    }
   },
   "outputs": [],
   "source": [
    "l_svc = # create an svc classifier instance  \n",
    "l_svc.fit(X_train, y_train)\n",
    "\n",
    "# run predict on the test dataset and get y_pred \n",
    "accuracy = # Calcuate the accuracy score \n",
    "print(\"accuracy of the model is {}\".format('####'))"
   ]
  },
  {
   "cell_type": "markdown",
   "metadata": {},
   "source": [
    "accuracy of the model is 0.967"
   ]
  }
 ],
 "metadata": {
  "kernelspec": {
   "display_name": "Python 3",
   "language": "python",
   "name": "python3"
  },
  "language_info": {
   "codemirror_mode": {
    "name": "ipython",
    "version": 3
   },
   "file_extension": ".py",
   "mimetype": "text/x-python",
   "name": "python",
   "nbconvert_exporter": "python",
   "pygments_lexer": "ipython3",
   "version": "3.7.3"
  },
  "latex_envs": {
   "LaTeX_envs_menu_present": true,
   "autoclose": false,
   "autocomplete": true,
   "bibliofile": "biblio.bib",
   "cite_by": "apalike",
   "current_citInitial": 1,
   "eqLabelWithNumbers": true,
   "eqNumInitial": 1,
   "hotkeys": {
    "equation": "Ctrl-E",
    "itemize": "Ctrl-I"
   },
   "labels_anchors": false,
   "latex_user_defs": false,
   "report_style_numbering": false,
   "user_envs_cfg": false
  },
  "toc": {
   "base_numbering": 1,
   "nav_menu": {},
   "number_sections": false,
   "sideBar": true,
   "skip_h1_title": false,
   "title_cell": "Table of Contents",
   "title_sidebar": "Contents",
   "toc_cell": false,
   "toc_position": {},
   "toc_section_display": true,
   "toc_window_display": false
  },
  "varInspector": {
   "cols": {
    "lenName": 16,
    "lenType": 16,
    "lenVar": 40
   },
   "kernels_config": {
    "python": {
     "delete_cmd_postfix": "",
     "delete_cmd_prefix": "del ",
     "library": "var_list.py",
     "varRefreshCmd": "print(var_dic_list())"
    },
    "r": {
     "delete_cmd_postfix": ") ",
     "delete_cmd_prefix": "rm(",
     "library": "var_list.r",
     "varRefreshCmd": "cat(var_dic_list()) "
    }
   },
   "types_to_exclude": [
    "module",
    "function",
    "builtin_function_or_method",
    "instance",
    "_Feature"
   ],
   "window_display": false
  }
 },
 "nbformat": 4,
 "nbformat_minor": 2
}
