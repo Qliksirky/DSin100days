{
 "cells": [
  {
   "cell_type": "markdown",
   "metadata": {},
   "source": [
    "## Lab - Decision Trees\n",
    "\n",
    "This is a multi part lab. In the first part, you will train a simple decision tree on a dataset. Next you will plot the decision boundary of the classifier and third you will output a decision tree diagram. \n",
    "\n",
    "You will use the Heart dataset to predict whether the patient has AHD or not.\n",
    "The dataset contains information about various patient with heart conditions including their age, sex and other medical parameters.\n",
    "Your task is to fit a DecisionTree model , and predict the value for AHD (yes or no) for the given data sample.\n",
    "You will pick only two parameters - Max heart rate and age to predict AHD. \n",
    "Data is availabe in : https://raw.githubusercontent.com/colaberry/DSin100days/master/data/Heart.csv\n",
    "\n",
    "\"Some of the data in this lab are taken from \"An Introduction to Statistical Learning, with applications in R\"  (Springer, 2013) from the authors: G. James, D. Witten,  T. Hastie and R. Tibshirani \" "
   ]
  },
  {
   "cell_type": "code",
   "execution_count": 2,
   "metadata": {
    "ExecuteTime": {
     "end_time": "2020-05-04T22:05:20.308543Z",
     "start_time": "2020-05-04T22:05:19.949718Z"
    }
   },
   "outputs": [
    {
     "name": "stdout",
     "output_type": "stream",
     "text": [
      "<class 'pandas.core.frame.DataFrame'>\n",
      "Int64Index: 297 entries, 0 to 301\n",
      "Data columns (total 15 columns):\n",
      "Unnamed: 0    297 non-null int64\n",
      "Age           297 non-null int64\n",
      "Sex           297 non-null int64\n",
      "ChestPain     297 non-null object\n",
      "RestBP        297 non-null int64\n",
      "Chol          297 non-null int64\n",
      "Fbs           297 non-null int64\n",
      "RestECG       297 non-null int64\n",
      "MaxHR         297 non-null int64\n",
      "ExAng         297 non-null int64\n",
      "Oldpeak       297 non-null float64\n",
      "Slope         297 non-null int64\n",
      "Ca            297 non-null float64\n",
      "Thal          297 non-null object\n",
      "AHD           297 non-null object\n",
      "dtypes: float64(2), int64(10), object(3)\n",
      "memory usage: 37.1+ KB\n"
     ]
    },
    {
     "data": {
      "text/html": [
       "<div>\n",
       "<style scoped>\n",
       "    .dataframe tbody tr th:only-of-type {\n",
       "        vertical-align: middle;\n",
       "    }\n",
       "\n",
       "    .dataframe tbody tr th {\n",
       "        vertical-align: top;\n",
       "    }\n",
       "\n",
       "    .dataframe thead th {\n",
       "        text-align: right;\n",
       "    }\n",
       "</style>\n",
       "<table border=\"1\" class=\"dataframe\">\n",
       "  <thead>\n",
       "    <tr style=\"text-align: right;\">\n",
       "      <th></th>\n",
       "      <th>Unnamed: 0</th>\n",
       "      <th>Age</th>\n",
       "      <th>Sex</th>\n",
       "      <th>ChestPain</th>\n",
       "      <th>RestBP</th>\n",
       "      <th>Chol</th>\n",
       "      <th>Fbs</th>\n",
       "      <th>RestECG</th>\n",
       "      <th>MaxHR</th>\n",
       "      <th>ExAng</th>\n",
       "      <th>Oldpeak</th>\n",
       "      <th>Slope</th>\n",
       "      <th>Ca</th>\n",
       "      <th>Thal</th>\n",
       "      <th>AHD</th>\n",
       "    </tr>\n",
       "  </thead>\n",
       "  <tbody>\n",
       "    <tr>\n",
       "      <th>0</th>\n",
       "      <td>1</td>\n",
       "      <td>63</td>\n",
       "      <td>1</td>\n",
       "      <td>typical</td>\n",
       "      <td>145</td>\n",
       "      <td>233</td>\n",
       "      <td>1</td>\n",
       "      <td>2</td>\n",
       "      <td>150</td>\n",
       "      <td>0</td>\n",
       "      <td>2.3</td>\n",
       "      <td>3</td>\n",
       "      <td>0.0</td>\n",
       "      <td>fixed</td>\n",
       "      <td>No</td>\n",
       "    </tr>\n",
       "    <tr>\n",
       "      <th>1</th>\n",
       "      <td>2</td>\n",
       "      <td>67</td>\n",
       "      <td>1</td>\n",
       "      <td>asymptomatic</td>\n",
       "      <td>160</td>\n",
       "      <td>286</td>\n",
       "      <td>0</td>\n",
       "      <td>2</td>\n",
       "      <td>108</td>\n",
       "      <td>1</td>\n",
       "      <td>1.5</td>\n",
       "      <td>2</td>\n",
       "      <td>3.0</td>\n",
       "      <td>normal</td>\n",
       "      <td>Yes</td>\n",
       "    </tr>\n",
       "    <tr>\n",
       "      <th>2</th>\n",
       "      <td>3</td>\n",
       "      <td>67</td>\n",
       "      <td>1</td>\n",
       "      <td>asymptomatic</td>\n",
       "      <td>120</td>\n",
       "      <td>229</td>\n",
       "      <td>0</td>\n",
       "      <td>2</td>\n",
       "      <td>129</td>\n",
       "      <td>1</td>\n",
       "      <td>2.6</td>\n",
       "      <td>2</td>\n",
       "      <td>2.0</td>\n",
       "      <td>reversable</td>\n",
       "      <td>Yes</td>\n",
       "    </tr>\n",
       "    <tr>\n",
       "      <th>3</th>\n",
       "      <td>4</td>\n",
       "      <td>37</td>\n",
       "      <td>1</td>\n",
       "      <td>nonanginal</td>\n",
       "      <td>130</td>\n",
       "      <td>250</td>\n",
       "      <td>0</td>\n",
       "      <td>0</td>\n",
       "      <td>187</td>\n",
       "      <td>0</td>\n",
       "      <td>3.5</td>\n",
       "      <td>3</td>\n",
       "      <td>0.0</td>\n",
       "      <td>normal</td>\n",
       "      <td>No</td>\n",
       "    </tr>\n",
       "    <tr>\n",
       "      <th>4</th>\n",
       "      <td>5</td>\n",
       "      <td>41</td>\n",
       "      <td>0</td>\n",
       "      <td>nontypical</td>\n",
       "      <td>130</td>\n",
       "      <td>204</td>\n",
       "      <td>0</td>\n",
       "      <td>2</td>\n",
       "      <td>172</td>\n",
       "      <td>0</td>\n",
       "      <td>1.4</td>\n",
       "      <td>1</td>\n",
       "      <td>0.0</td>\n",
       "      <td>normal</td>\n",
       "      <td>No</td>\n",
       "    </tr>\n",
       "  </tbody>\n",
       "</table>\n",
       "</div>"
      ],
      "text/plain": [
       "   Unnamed: 0  Age  Sex     ChestPain  RestBP  Chol  Fbs  RestECG  MaxHR  \\\n",
       "0           1   63    1       typical     145   233    1        2    150   \n",
       "1           2   67    1  asymptomatic     160   286    0        2    108   \n",
       "2           3   67    1  asymptomatic     120   229    0        2    129   \n",
       "3           4   37    1    nonanginal     130   250    0        0    187   \n",
       "4           5   41    0    nontypical     130   204    0        2    172   \n",
       "\n",
       "   ExAng  Oldpeak  Slope   Ca        Thal  AHD  \n",
       "0      0      2.3      3  0.0       fixed   No  \n",
       "1      1      1.5      2  3.0      normal  Yes  \n",
       "2      1      2.6      2  2.0  reversable  Yes  \n",
       "3      0      3.5      3  0.0      normal   No  \n",
       "4      0      1.4      1  0.0      normal   No  "
      ]
     },
     "execution_count": 2,
     "metadata": {},
     "output_type": "execute_result"
    }
   ],
   "source": [
    "# Importing pandas\n",
    "import pandas as pd\n",
    "import numpy as np \n",
    "heart = pd.read_csv('https://raw.githubusercontent.com/colaberry/DSin100days/master/data/Heart.csv', na_values='?').dropna()\n",
    "heart.info()\n",
    "heart.head()\n"
   ]
  },
  {
   "cell_type": "markdown",
   "metadata": {},
   "source": [
    "## Part 1: training the Classifier\n",
    "Start by training the decision tree classifier. This is similar to what we did in the main section. "
   ]
  },
  {
   "cell_type": "code",
   "execution_count": 3,
   "metadata": {
    "ExecuteTime": {
     "end_time": "2020-05-04T22:05:20.311683Z",
     "start_time": "2020-05-04T22:05:20.309506Z"
    }
   },
   "outputs": [],
   "source": [
    "# get dataset  \n",
    "data_set = heart[[\"Age\",\"MaxHR\",\"AHD\"]]"
   ]
  },
  {
   "cell_type": "code",
   "execution_count": 5,
   "metadata": {
    "ExecuteTime": {
     "end_time": "2020-05-04T22:05:20.321740Z",
     "start_time": "2020-05-04T22:05:20.312717Z"
    }
   },
   "outputs": [
    {
     "ename": "SyntaxError",
     "evalue": "invalid syntax (<ipython-input-5-cfe1b3c75b39>, line 6)",
     "output_type": "error",
     "traceback": [
      "\u001b[0;36m  File \u001b[0;32m\"<ipython-input-5-cfe1b3c75b39>\"\u001b[0;36m, line \u001b[0;32m6\u001b[0m\n\u001b[0;31m    labels = # use Label encoder to fit transform the AHD column data\u001b[0m\n\u001b[0m                                                                     ^\u001b[0m\n\u001b[0;31mSyntaxError\u001b[0m\u001b[0;31m:\u001b[0m invalid syntax\n"
     ]
    }
   ],
   "source": [
    "import matplotlib.pyplot as plt\n",
    "from matplotlib.colors import ListedColormap \n",
    "from sklearn.preprocessing import LabelEncoder\n",
    "\n",
    "\n",
    "labels = # use Label encoder to fit transform the AHD column data\n",
    "colors = ['yellow','black']\n",
    "cmap= ListedColormap(colors)\n",
    "plt.figure(figsize=(10,10))\n",
    "plt.xlabel('Age', fontsize=15)\n",
    "plt.ylabel('MaxHR', fontsize=15)\n",
    "# plot age vs maxhr \n",
    "plt.scatter(data_set['Age'].values, data_set['MaxHR'].values, c=labels, cmap=cmap )\n"
   ]
  },
  {
   "cell_type": "markdown",
   "metadata": {
    "ExecuteTime": {
     "end_time": "2020-05-04T21:19:13.196545Z",
     "start_time": "2020-05-04T21:19:13.194329Z"
    }
   },
   "source": [
    "<img src=\"../../../images/age_vs_hr.png\">"
   ]
  },
  {
   "cell_type": "code",
   "execution_count": null,
   "metadata": {
    "ExecuteTime": {
     "end_time": "2020-05-04T22:05:20.324640Z",
     "start_time": "2020-05-04T22:05:19.965Z"
    }
   },
   "outputs": [],
   "source": [
    "from sklearn import tree, metrics\n",
    "from sklearn.model_selection import train_test_split \n",
    "\n",
    "X = # age and maxhr form the features for our dataset\n",
    "y = # the target is the AHD value but in a label encoder form \n",
    "X_train, X_test, y_train, y_test = train_test_split(X, y, test_size=0.10, random_state=1)\n",
    "print(\"y value min and max are : {},{}\".format('####')) # print the min and max of the target "
   ]
  },
  {
   "cell_type": "markdown",
   "metadata": {},
   "source": [
    "y min and max are :0,1"
   ]
  },
  {
   "cell_type": "code",
   "execution_count": null,
   "metadata": {
    "ExecuteTime": {
     "end_time": "2020-05-04T22:05:20.325075Z",
     "start_time": "2020-05-04T22:05:19.972Z"
    }
   },
   "outputs": [],
   "source": [
    "tr_clf = # get an instance of DecisionTreeClassifier by setting a max_depth of 2 and a random state of 12 \n",
    "\n",
    "# train the decision tree and get predicitons on the test set. Following this, calcuate the accuracy.\n",
    "# at most 2 to 3 lines of code. Make sure that acc is a seperate variable. You will be using the \n",
    "# accuracy score as the metric\n",
    "\n",
    "print(\"accuracy of the classifier on the test set {}\".format(acc))"
   ]
  },
  {
   "cell_type": "markdown",
   "metadata": {
    "ExecuteTime": {
     "end_time": "2020-05-04T21:11:21.486778Z",
     "start_time": "2020-05-04T21:11:21.478657Z"
    }
   },
   "source": [
    "accuracy of the classifier on the test set 0.7333333333333333\n"
   ]
  },
  {
   "cell_type": "markdown",
   "metadata": {},
   "source": [
    "## Part 2: Plotting the decision surface\n",
    "This part can be a tricky. The goal of this section is to plot the decision surface. To this do this you need to use the meshgrid function. We have written a simple function that converts 1d array points and converts them to 2d array so that you can use them to visualize. \n",
    "\n",
    "The idea is the generate 2d points using the function ```python to_3d(x,y,plot_step)``` then use then run prediction on these 2d points and plot them as a contour graph. This is done using the function ```python plot_contour(xx,yy,Z)``` Note that Z must be the same size as xx and yy for this to work. This is essentially a 3d plot since you have x and y dimensions as the variables and Z as the predicted the value. We are converting the Z dimension to a label and plotting it as a color map rather than projecting it into the 3rd dimension. \n",
    "\n",
    "These sort of plots help visualizes the regions which region each class represents. "
   ]
  },
  {
   "cell_type": "code",
   "execution_count": null,
   "metadata": {
    "ExecuteTime": {
     "end_time": "2020-05-04T22:05:20.325598Z",
     "start_time": "2020-05-04T22:05:19.988Z"
    }
   },
   "outputs": [],
   "source": [
    "\n",
    "def to_3d(x,y,plot_step=0.01): \n",
    "   \n",
    "\n",
    "    x_min, x_max = x[:, 0].min() - 1, x[:, 0].max() + 1\n",
    "    y_min, y_max = x[:, 1].min() - 1, x[:, 1].max() + 1\n",
    "    xx, yy = np.meshgrid(np.arange(x_min, x_max, plot_step),\n",
    "                         np.arange(y_min, y_max, plot_step))\n",
    "    return xx, yy \n",
    "\n",
    "def plot_contour(xx,yy,Z): \n",
    "    plt.tight_layout(h_pad=0.5, w_pad=0.5, pad=2.5)\n",
    "    cs = plt.contourf(xx, yy, Z, cmap=plt.cm.RdYlBu)\n",
    "    return cs\n"
   ]
  },
  {
   "cell_type": "code",
   "execution_count": null,
   "metadata": {
    "ExecuteTime": {
     "end_time": "2020-05-04T22:05:20.326085Z",
     "start_time": "2020-05-04T22:05:19.989Z"
    }
   },
   "outputs": [],
   "source": [
    "\n",
    "xx, yy = to_3d(X,y)\n",
    "\n",
    "Z = tr_clf.predict(np.c_[xx.ravel(), yy.ravel()])\n",
    "Z = # reshape Z to the same shape as xx\n",
    "\n",
    "plt.figure(figsize=(10,10))\n",
    "cmap= ListedColormap(colors)\n",
    "_ = plot_contour(xx,yy, Z)\n",
    "# you will need to add a line of code that plots the scatter plot for age vs maxhr.\n",
    "# this is so that you can compare the regions of decision vs the ground truth data\n",
    "plt.show()"
   ]
  },
  {
   "cell_type": "markdown",
   "metadata": {
    "ExecuteTime": {
     "end_time": "2020-05-04T21:34:58.610866Z",
     "start_time": "2020-05-04T21:34:58.608101Z"
    }
   },
   "source": [
    "<img src=\"../../../images/label_map_dt.png\">"
   ]
  },
  {
   "cell_type": "code",
   "execution_count": null,
   "metadata": {
    "ExecuteTime": {
     "end_time": "2020-05-04T22:05:20.326624Z",
     "start_time": "2020-05-04T22:05:19.996Z"
    }
   },
   "outputs": [],
   "source": [
    "print(\"Z should be {}\".format(Z.shape))"
   ]
  },
  {
   "cell_type": "markdown",
   "metadata": {},
   "source": [
    "Z should be (13300, 5000)\n"
   ]
  },
  {
   "cell_type": "code",
   "execution_count": null,
   "metadata": {
    "ExecuteTime": {
     "end_time": "2020-05-04T22:05:20.327127Z",
     "start_time": "2020-05-04T22:05:20.004Z"
    }
   },
   "outputs": [],
   "source": [
    "def visualize_tree(sktree, features, classes, impurity = False, label = 'all', proportion = True):\n",
    "    dot_data=StringIO()\n",
    "    tree.export_graphviz(sktree\n",
    "                         , feature_names=features\n",
    "                         , class_names=classes\n",
    "                         , filled=True\n",
    "                         , rounded=True\n",
    "                         , impurity = impurity\n",
    "                         , label = label\n",
    "                         , special_characters=True\n",
    "                         , proportion = proportion\n",
    "                         , out_file=dot_data)\n",
    "    graph = pydotplus.graph_from_dot_data(dot_data.getvalue())\n",
    "    #  graph.write_pdf(\"tree.pdf\") # Save to your current folder\n",
    "    return(Image(graph.create_png()))\n"
   ]
  },
  {
   "cell_type": "markdown",
   "metadata": {},
   "source": [
    "## Part 3: Visual the decision tree"
   ]
  },
  {
   "cell_type": "code",
   "execution_count": null,
   "metadata": {
    "ExecuteTime": {
     "end_time": "2020-05-04T22:05:20.327702Z",
     "start_time": "2020-05-04T22:05:20.005Z"
    }
   },
   "outputs": [],
   "source": [
    "from sklearn.externals.six import StringIO\n",
    "import pydotplus\n",
    "from IPython.display import Image\n",
    "\n",
    "classes = [\"Age\",\"MaxHR\"]\n",
    "features = # looking at the examples from the decision tree notebook. What should be the features? \n",
    "visualize_tree(tr_clf, features, classes)"
   ]
  },
  {
   "cell_type": "markdown",
   "metadata": {},
   "source": [
    "<img src=\"../../../images/dt_diagram.png\">"
   ]
  },
  {
   "cell_type": "code",
   "execution_count": null,
   "metadata": {},
   "outputs": [],
   "source": []
  }
 ],
 "metadata": {
  "kernelspec": {
   "display_name": "Python 3",
   "language": "python",
   "name": "python3"
  },
  "language_info": {
   "codemirror_mode": {
    "name": "ipython",
    "version": 3
   },
   "file_extension": ".py",
   "mimetype": "text/x-python",
   "name": "python",
   "nbconvert_exporter": "python",
   "pygments_lexer": "ipython3",
   "version": "3.7.3"
  },
  "latex_envs": {
   "LaTeX_envs_menu_present": true,
   "autoclose": false,
   "autocomplete": true,
   "bibliofile": "biblio.bib",
   "cite_by": "apalike",
   "current_citInitial": 1,
   "eqLabelWithNumbers": true,
   "eqNumInitial": 1,
   "hotkeys": {
    "equation": "Ctrl-E",
    "itemize": "Ctrl-I"
   },
   "labels_anchors": false,
   "latex_user_defs": false,
   "report_style_numbering": false,
   "user_envs_cfg": false
  },
  "toc": {
   "base_numbering": 1,
   "nav_menu": {},
   "number_sections": false,
   "sideBar": true,
   "skip_h1_title": false,
   "title_cell": "Table of Contents",
   "title_sidebar": "Contents",
   "toc_cell": false,
   "toc_position": {},
   "toc_section_display": true,
   "toc_window_display": false
  },
  "varInspector": {
   "cols": {
    "lenName": 16,
    "lenType": 16,
    "lenVar": 40
   },
   "kernels_config": {
    "python": {
     "delete_cmd_postfix": "",
     "delete_cmd_prefix": "del ",
     "library": "var_list.py",
     "varRefreshCmd": "print(var_dic_list())"
    },
    "r": {
     "delete_cmd_postfix": ") ",
     "delete_cmd_prefix": "rm(",
     "library": "var_list.r",
     "varRefreshCmd": "cat(var_dic_list()) "
    }
   },
   "types_to_exclude": [
    "module",
    "function",
    "builtin_function_or_method",
    "instance",
    "_Feature"
   ],
   "window_display": false
  }
 },
 "nbformat": 4,
 "nbformat_minor": 4
}
