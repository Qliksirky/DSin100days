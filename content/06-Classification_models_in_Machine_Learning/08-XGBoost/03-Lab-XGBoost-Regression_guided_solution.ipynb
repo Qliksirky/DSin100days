{
 "cells": [
  {
   "cell_type": "markdown",
   "metadata": {},
   "source": [
    "## 03-Lab - XGBoost Regression\n",
    "\n",
    "In this lab, you need to work with Students data and grades as labels for Portugese students. Your task is to fit an XGBoost Regressor, and predict the grades (G3) based on suitable input variables. You are required to do the data manipulation (converting text to numeric), train-test splits, etc to create the model.\n",
    "\n",
    "This lab has 3 parts. In part 1 you will convert categorical featues to dummy features, In part 2 you will train a XGBoost regressor and compare it to a svr. In the final part, you will find the optimal parameters for the XGBoost random forest regressor and compare the results \n",
    "\n",
    "Data is availabe in : https://raw.githubusercontent.com/colaberry/DSin100days/master/data/student-por.csv\n",
    "\n",
    "Description is available here : https://archive.ics.uci.edu/ml/datasets/Student+Performance#\n"
   ]
  },
  {
   "cell_type": "code",
   "execution_count": 1,
   "metadata": {
    "ExecuteTime": {
     "end_time": "2020-05-06T02:25:30.205938Z",
     "start_time": "2020-05-06T02:25:29.721447Z"
    }
   },
   "outputs": [
    {
     "data": {
      "text/html": [
       "<div>\n",
       "<style scoped>\n",
       "    .dataframe tbody tr th:only-of-type {\n",
       "        vertical-align: middle;\n",
       "    }\n",
       "\n",
       "    .dataframe tbody tr th {\n",
       "        vertical-align: top;\n",
       "    }\n",
       "\n",
       "    .dataframe thead th {\n",
       "        text-align: right;\n",
       "    }\n",
       "</style>\n",
       "<table border=\"1\" class=\"dataframe\">\n",
       "  <thead>\n",
       "    <tr style=\"text-align: right;\">\n",
       "      <th></th>\n",
       "      <th>school</th>\n",
       "      <th>sex</th>\n",
       "      <th>age</th>\n",
       "      <th>address</th>\n",
       "      <th>famsize</th>\n",
       "      <th>Pstatus</th>\n",
       "      <th>Medu</th>\n",
       "      <th>Fedu</th>\n",
       "      <th>Mjob</th>\n",
       "      <th>Fjob</th>\n",
       "      <th>...</th>\n",
       "      <th>famrel</th>\n",
       "      <th>freetime</th>\n",
       "      <th>goout</th>\n",
       "      <th>Dalc</th>\n",
       "      <th>Walc</th>\n",
       "      <th>health</th>\n",
       "      <th>absences</th>\n",
       "      <th>G1</th>\n",
       "      <th>G2</th>\n",
       "      <th>G3</th>\n",
       "    </tr>\n",
       "  </thead>\n",
       "  <tbody>\n",
       "    <tr>\n",
       "      <th>0</th>\n",
       "      <td>GP</td>\n",
       "      <td>F</td>\n",
       "      <td>18</td>\n",
       "      <td>U</td>\n",
       "      <td>GT3</td>\n",
       "      <td>A</td>\n",
       "      <td>4</td>\n",
       "      <td>4</td>\n",
       "      <td>at_home</td>\n",
       "      <td>teacher</td>\n",
       "      <td>...</td>\n",
       "      <td>4</td>\n",
       "      <td>3</td>\n",
       "      <td>4</td>\n",
       "      <td>1</td>\n",
       "      <td>1</td>\n",
       "      <td>3</td>\n",
       "      <td>4</td>\n",
       "      <td>0</td>\n",
       "      <td>11</td>\n",
       "      <td>11</td>\n",
       "    </tr>\n",
       "    <tr>\n",
       "      <th>1</th>\n",
       "      <td>GP</td>\n",
       "      <td>F</td>\n",
       "      <td>17</td>\n",
       "      <td>U</td>\n",
       "      <td>GT3</td>\n",
       "      <td>T</td>\n",
       "      <td>1</td>\n",
       "      <td>1</td>\n",
       "      <td>at_home</td>\n",
       "      <td>other</td>\n",
       "      <td>...</td>\n",
       "      <td>5</td>\n",
       "      <td>3</td>\n",
       "      <td>3</td>\n",
       "      <td>1</td>\n",
       "      <td>1</td>\n",
       "      <td>3</td>\n",
       "      <td>2</td>\n",
       "      <td>9</td>\n",
       "      <td>11</td>\n",
       "      <td>11</td>\n",
       "    </tr>\n",
       "    <tr>\n",
       "      <th>2</th>\n",
       "      <td>GP</td>\n",
       "      <td>F</td>\n",
       "      <td>15</td>\n",
       "      <td>U</td>\n",
       "      <td>LE3</td>\n",
       "      <td>T</td>\n",
       "      <td>1</td>\n",
       "      <td>1</td>\n",
       "      <td>at_home</td>\n",
       "      <td>other</td>\n",
       "      <td>...</td>\n",
       "      <td>4</td>\n",
       "      <td>3</td>\n",
       "      <td>2</td>\n",
       "      <td>2</td>\n",
       "      <td>3</td>\n",
       "      <td>3</td>\n",
       "      <td>6</td>\n",
       "      <td>12</td>\n",
       "      <td>13</td>\n",
       "      <td>12</td>\n",
       "    </tr>\n",
       "    <tr>\n",
       "      <th>3</th>\n",
       "      <td>GP</td>\n",
       "      <td>F</td>\n",
       "      <td>15</td>\n",
       "      <td>U</td>\n",
       "      <td>GT3</td>\n",
       "      <td>T</td>\n",
       "      <td>4</td>\n",
       "      <td>2</td>\n",
       "      <td>health</td>\n",
       "      <td>services</td>\n",
       "      <td>...</td>\n",
       "      <td>3</td>\n",
       "      <td>2</td>\n",
       "      <td>2</td>\n",
       "      <td>1</td>\n",
       "      <td>1</td>\n",
       "      <td>5</td>\n",
       "      <td>0</td>\n",
       "      <td>14</td>\n",
       "      <td>14</td>\n",
       "      <td>14</td>\n",
       "    </tr>\n",
       "    <tr>\n",
       "      <th>4</th>\n",
       "      <td>GP</td>\n",
       "      <td>F</td>\n",
       "      <td>16</td>\n",
       "      <td>U</td>\n",
       "      <td>GT3</td>\n",
       "      <td>T</td>\n",
       "      <td>3</td>\n",
       "      <td>3</td>\n",
       "      <td>other</td>\n",
       "      <td>other</td>\n",
       "      <td>...</td>\n",
       "      <td>4</td>\n",
       "      <td>3</td>\n",
       "      <td>2</td>\n",
       "      <td>1</td>\n",
       "      <td>2</td>\n",
       "      <td>5</td>\n",
       "      <td>0</td>\n",
       "      <td>11</td>\n",
       "      <td>13</td>\n",
       "      <td>13</td>\n",
       "    </tr>\n",
       "  </tbody>\n",
       "</table>\n",
       "<p>5 rows × 33 columns</p>\n",
       "</div>"
      ],
      "text/plain": [
       "  school sex  age address famsize Pstatus  Medu  Fedu     Mjob      Fjob  ...  \\\n",
       "0     GP   F   18       U     GT3       A     4     4  at_home   teacher  ...   \n",
       "1     GP   F   17       U     GT3       T     1     1  at_home     other  ...   \n",
       "2     GP   F   15       U     LE3       T     1     1  at_home     other  ...   \n",
       "3     GP   F   15       U     GT3       T     4     2   health  services  ...   \n",
       "4     GP   F   16       U     GT3       T     3     3    other     other  ...   \n",
       "\n",
       "  famrel freetime  goout  Dalc  Walc health absences  G1  G2  G3  \n",
       "0      4        3      4     1     1      3        4   0  11  11  \n",
       "1      5        3      3     1     1      3        2   9  11  11  \n",
       "2      4        3      2     2     3      3        6  12  13  12  \n",
       "3      3        2      2     1     1      5        0  14  14  14  \n",
       "4      4        3      2     1     2      5        0  11  13  13  \n",
       "\n",
       "[5 rows x 33 columns]"
      ]
     },
     "execution_count": 1,
     "metadata": {},
     "output_type": "execute_result"
    }
   ],
   "source": [
    "# Import the library\n",
    "import pandas as pd\n",
    "\n",
    "students_por_url = \"https://raw.githubusercontent.com/colaberry/DSin100days/master/data/student-por.csv\"\n",
    "students = pd.read_csv(students_por_url,sep=';')\n",
    "students.head()\n",
    "\n",
    "#Write your code here or in other code cells down"
   ]
  },
  {
   "cell_type": "markdown",
   "metadata": {},
   "source": [
    "## Part 1: Converting categorical features to dummy features"
   ]
  },
  {
   "cell_type": "code",
   "execution_count": 2,
   "metadata": {
    "ExecuteTime": {
     "end_time": "2020-05-06T02:25:30.369537Z",
     "start_time": "2020-05-06T02:25:30.206905Z"
    }
   },
   "outputs": [
    {
     "name": "stdout",
     "output_type": "stream",
     "text": [
      "columns in the new dataset are ['traveltime', 'studytime', 'G3', 'age', 'G1', 'G2', 'tt_dummy_0', 'tt_dummy_1', 'tt_dummy_2', 'tt_dummy_3', 'st_dummy_0', 'st_dummy_1', 'st_dummy_2', 'st_dummy_3']\n",
      "\n",
      "shape of the dataset is (649, 12)\n"
     ]
    }
   ],
   "source": [
    "\n",
    "from sklearn.preprocessing import OneHotEncoder, LabelEncoder\n",
    "from sklearn.pipeline import Pipeline\n",
    "\n",
    "data_set = students[['traveltime','studytime','G3', 'age', 'G1', 'G2']]\n",
    "encoder = OneHotEncoder()\n",
    "\n",
    "\n",
    "tt_dummy_data = encoder.fit_transform(data_set['traveltime'].values.reshape(-1,1)).toarray()\n",
    "column_names= ['tt_dummy_'+str(x) for x in range(0,tt_dummy_data.shape[1])]\n",
    "t_dummy = pd.DataFrame(data=tt_dummy_data, columns=column_names) \n",
    "data_set = pd.concat([data_set,t_dummy], axis=1)\n",
    "\n",
    "\n",
    "st_dummy_data = encoder.fit_transform(data_set['studytime'].values.reshape(-1,1)).toarray()\n",
    "column_names= ['st_dummy_'+str(x) for x in range(0,st_dummy_data.shape[1])]\n",
    "s_dummy = pd.DataFrame(data=st_dummy_data, columns=column_names) \n",
    "data_set = pd.concat([data_set,s_dummy], axis=1)\n",
    "\n",
    "data_set_copy = data_set.copy()\n",
    "data_set_copy = data_set_copy.drop(columns=['traveltime','studytime'])\n",
    "\n",
    "columns_list = list(data_set.columns)\n",
    "data_set_copy_shape = data_set_copy.shape\n",
    "print(\"columns in the new dataset are {}\\n\".format(columns_list))\n",
    "print(\"shape of the dataset is {}\".format(data_set_copy_shape))\n"
   ]
  },
  {
   "cell_type": "markdown",
   "metadata": {},
   "source": [
    "columns in the new dataset are ['traveltime', 'studytime', 'G3', 'age', 'G1', 'G2', 'tt_dummy_0', 'tt_dummy_1', 'tt_dummy_2', 'tt_dummy_3', 'st_dummy_0', 'st_dummy_1', 'st_dummy_2', 'st_dummy_3']\n",
    "\n",
    "shape of the dataset is (649, 12)"
   ]
  },
  {
   "cell_type": "code",
   "execution_count": 3,
   "metadata": {
    "ExecuteTime": {
     "end_time": "2020-05-06T02:25:30.380886Z",
     "start_time": "2020-05-06T02:25:30.370592Z"
    }
   },
   "outputs": [
    {
     "name": "stdout",
     "output_type": "stream",
     "text": [
      "training data shape (584, 11)\n"
     ]
    }
   ],
   "source": [
    "from sklearn.model_selection import train_test_split \n",
    "y = data_set_copy[\"G3\"]\n",
    "X = data_set_copy.drop(columns=[\"G3\"]).values\n",
    "\n",
    "X_train, X_test, y_train, y_test = train_test_split(X, y, test_size=0.10, random_state=1)\n",
    "\n",
    "training_shape = X_train.shape\n",
    "print(\"training data shape {}\".format(training_shape))"
   ]
  },
  {
   "cell_type": "markdown",
   "metadata": {
    "ExecuteTime": {
     "end_time": "2020-05-06T01:41:34.363764Z",
     "start_time": "2020-05-06T01:41:34.353475Z"
    }
   },
   "source": [
    "training data shape (584, 11)"
   ]
  },
  {
   "cell_type": "markdown",
   "metadata": {},
   "source": [
    "training data shape (584, 11)"
   ]
  },
  {
   "cell_type": "markdown",
   "metadata": {},
   "source": [
    "## Part 2: Training a XGBoost Random forest regressor and comparing it to SVR"
   ]
  },
  {
   "cell_type": "code",
   "execution_count": 4,
   "metadata": {
    "ExecuteTime": {
     "end_time": "2020-05-06T02:25:30.906288Z",
     "start_time": "2020-05-06T02:25:30.381992Z"
    }
   },
   "outputs": [
    {
     "name": "stdout",
     "output_type": "stream",
     "text": [
      "Mean squared error from training Xgboost Random forest algorithm is 2.1229926369583767\n"
     ]
    }
   ],
   "source": [
    "from xgboost import XGBRFRegressor\n",
    "from sklearn.metrics import mean_squared_error\n",
    "\n",
    "xrf_reg = XGBRFRegressor(n_estimators=500, max_depth=500, random_state=5)\n",
    "xrf_pred = xrf_reg.fit(X_train, y_train).predict(X_test)\n",
    "mse_xrf = mean_squared_error(xrf_pred, y_test)\n",
    "print(\"Mean squared error from training Xgboost Random forest algorithm is {}\".format(mse_xrf))"
   ]
  },
  {
   "cell_type": "markdown",
   "metadata": {},
   "source": [
    "Mean squared error from training Xgboost Random forest algorithm is 2.197034125041056"
   ]
  },
  {
   "cell_type": "code",
   "execution_count": 5,
   "metadata": {
    "ExecuteTime": {
     "end_time": "2020-05-06T02:25:30.943719Z",
     "start_time": "2020-05-06T02:25:30.907704Z"
    }
   },
   "outputs": [
    {
     "name": "stdout",
     "output_type": "stream",
     "text": [
      "Mean squared error from training support vector regressor algorithm is 2.438191127137287\n"
     ]
    }
   ],
   "source": [
    "from sklearn.svm import SVR\n",
    "\n",
    "svr = SVR(kernel='rbf')\n",
    "svr_pred = svr.fit(X_train, y_train).predict(X_test)\n",
    "mse_svr = mean_squared_error(svr_pred, y_test)\n",
    "print(\"Mean squared error from training support vector regressor algorithm is {}\".format(mse_svr))"
   ]
  },
  {
   "cell_type": "markdown",
   "metadata": {
    "ExecuteTime": {
     "end_time": "2020-05-06T01:42:30.632489Z",
     "start_time": "2020-05-06T01:42:30.622825Z"
    }
   },
   "source": [
    "Mean squared error from training support vector regressor algorithm is 2.438191127137287\n"
   ]
  },
  {
   "cell_type": "markdown",
   "metadata": {},
   "source": [
    "Note: These are unoptimized algorithms, as you will see below, when we optimize the RandomForest regressor we will see better results. The same applies to the support vector regressor. "
   ]
  },
  {
   "cell_type": "markdown",
   "metadata": {},
   "source": [
    "## Part 3: Find optimal parameters for XGboost Random Forest regressor"
   ]
  },
  {
   "cell_type": "code",
   "execution_count": 6,
   "metadata": {
    "ExecuteTime": {
     "end_time": "2020-05-06T02:25:37.237867Z",
     "start_time": "2020-05-06T02:25:30.944873Z"
    }
   },
   "outputs": [
    {
     "name": "stdout",
     "output_type": "stream",
     "text": [
      "length of mse_estimators 20\n"
     ]
    }
   ],
   "source": [
    "# Running the xgboost regressor over multiple depth sizes and estimators\n",
    "\n",
    "## number of estimators \n",
    "estimators_range = [x for x in range(0,1000,50)]\n",
    "estimators_range[0]= 1 \n",
    "mse_estimators = {}\n",
    "for x in estimators_range: \n",
    "    xrf_reg = XGBRFRegressor(n_estimators=x, max_depth=100, random_state=12)\n",
    "    xrf_pred = xrf_reg.fit(X_train, y_train).predict(X_test)\n",
    "    mse_val = mean_squared_error(xrf_pred, y_test)\n",
    "    mse_estimators[x] = mse_val\n",
    "    \n",
    "print(\"length of mse_estimators {}\".format(len(mse_estimators)))"
   ]
  },
  {
   "cell_type": "markdown",
   "metadata": {
    "ExecuteTime": {
     "end_time": "2020-05-06T01:45:28.769935Z",
     "start_time": "2020-05-06T01:45:28.767520Z"
    }
   },
   "source": [
    "length of mse_estimators 20"
   ]
  },
  {
   "cell_type": "code",
   "execution_count": 7,
   "metadata": {
    "ExecuteTime": {
     "end_time": "2020-05-06T02:25:37.243552Z",
     "start_time": "2020-05-06T02:25:37.239150Z"
    }
   },
   "outputs": [
    {
     "name": "stdout",
     "output_type": "stream",
     "text": [
      "The optimal number of trees for training this dataset is 1\n"
     ]
    }
   ],
   "source": [
    "def key_from_value(dt, value): \n",
    "    key_index = list(dt.values()).index(value)\n",
    "    return list(dt.keys())[key_index]\n",
    "\n",
    "min_mse = min(mse_estimators.values())\n",
    "\n",
    "# getting the key from a value\n",
    "# this function will give you the first key with the lowest value\n",
    "# note that there can be many keys with the lowest values. \n",
    "# we just care about the first value \n",
    "lowest_estimator = key_from_value(mse_estimators, min_mse)\n",
    "print(\"The optimal number of trees for training this dataset is {}\".format(lowest_estimator))"
   ]
  },
  {
   "cell_type": "markdown",
   "metadata": {},
   "source": [
    "The optimal number of trees for training this dataset is 700"
   ]
  },
  {
   "cell_type": "code",
   "execution_count": 8,
   "metadata": {
    "ExecuteTime": {
     "end_time": "2020-05-06T02:25:37.527224Z",
     "start_time": "2020-05-06T02:25:37.245296Z"
    }
   },
   "outputs": [
    {
     "data": {
      "text/plain": [
       "[<matplotlib.lines.Line2D at 0x7f44c4b08208>]"
      ]
     },
     "execution_count": 8,
     "metadata": {},
     "output_type": "execute_result"
    },
    {
     "data": {
      "image/png": "[encoded data removed]",
      "text/plain": [
       "<Figure size 1080x360 with 1 Axes>"
      ]
     },
     "metadata": {
      "needs_background": "light"
     },
     "output_type": "display_data"
    }
   ],
   "source": [
    "import matplotlib.pyplot as plt \n",
    "plt.figure(figsize=(15,5))\n",
    "plt.xlabel(\"number of estimators\")\n",
    "plt.ylabel(\"MSE\")\n",
    "\n",
    "plt.plot(estimators_range, mse_estimators.values())"
   ]
  },
  {
   "cell_type": "code",
   "execution_count": 9,
   "metadata": {
    "ExecuteTime": {
     "end_time": "2020-05-06T02:25:37.611360Z",
     "start_time": "2020-05-06T02:25:37.528356Z"
    }
   },
   "outputs": [
    {
     "name": "stdout",
     "output_type": "stream",
     "text": [
      "length of mse_depth 20\n"
     ]
    }
   ],
   "source": [
    "# depth size estimation \n",
    "depth_range = [x for x in range(0,100,5)]\n",
    "depth_range[0] = 1\n",
    "mse_depth = {}\n",
    "for x in depth_range: \n",
    "    xrf_reg = XGBRFRegressor(n_estimators=lowest_estimator, max_depth=x, random_state=12)\n",
    "    xrf_pred = xrf_reg.fit(X_train, y_train).predict(X_test)\n",
    "    mse_val = mean_squared_error(xrf_pred, y_test)\n",
    "    mse_depth[x] = mse_val \n",
    "    \n",
    "print(\"length of mse_depth {}\".format(len(mse_depth)))"
   ]
  },
  {
   "cell_type": "markdown",
   "metadata": {},
   "source": [
    "length of mse_depth 20\n"
   ]
  },
  {
   "cell_type": "code",
   "execution_count": 10,
   "metadata": {
    "ExecuteTime": {
     "end_time": "2020-05-06T02:25:37.614857Z",
     "start_time": "2020-05-06T02:25:37.612391Z"
    }
   },
   "outputs": [
    {
     "name": "stdout",
     "output_type": "stream",
     "text": [
      "The optimal depth for a tree while training this dataset is 5\n"
     ]
    }
   ],
   "source": [
    "min_mse = min(mse_depth.values())\n",
    "lowest_depth = key_from_value(mse_depth, min_mse)\n",
    "print(\"The optimal depth for a tree while training this dataset is {}\".format(lowest_depth))"
   ]
  },
  {
   "cell_type": "markdown",
   "metadata": {
    "ExecuteTime": {
     "end_time": "2020-05-06T01:50:16.167929Z",
     "start_time": "2020-05-06T01:50:16.149479Z"
    }
   },
   "source": [
    "The optimal depth for a tree while training this dataset is 5"
   ]
  },
  {
   "cell_type": "code",
   "execution_count": 11,
   "metadata": {
    "ExecuteTime": {
     "end_time": "2020-05-06T02:25:37.626608Z",
     "start_time": "2020-05-06T02:25:37.615826Z"
    }
   },
   "outputs": [
    {
     "name": "stdout",
     "output_type": "stream",
     "text": [
      "Mean squared error from optimizing both parameters is 1.7299424126497522 vs 2.1229926369583767 \n"
     ]
    }
   ],
   "source": [
    "# training with optimal parameters\n",
    "\n",
    "xrf_reg = XGBRFRegressor(n_estimators=lowest_estimator, max_depth=lowest_depth, random_state=12)\n",
    "xrf_pred = xrf_reg.fit(X_train, y_train).predict(X_test)\n",
    "mse_optimized_xrf = mean_squared_error(xrf_pred, y_test)\n",
    "print(\"Mean squared error from optimizing both parameters is {} vs {} \".format(mse_optimized_xrf,mse_xrf))"
   ]
  },
  {
   "cell_type": "markdown",
   "metadata": {},
   "source": [
    "Mean squared error from optimizing both parameters is 1.8466487319574376 vs 2.1689669326031864 \n"
   ]
  }
 ],
 "metadata": {
  "kernelspec": {
   "display_name": "Python 3",
   "language": "python",
   "name": "python3"
  },
  "language_info": {
   "codemirror_mode": {
    "name": "ipython",
    "version": 3
   },
   "file_extension": ".py",
   "mimetype": "text/x-python",
   "name": "python",
   "nbconvert_exporter": "python",
   "pygments_lexer": "ipython3",
   "version": "3.7.3"
  },
  "latex_envs": {
   "LaTeX_envs_menu_present": true,
   "autoclose": false,
   "autocomplete": true,
   "bibliofile": "biblio.bib",
   "cite_by": "apalike",
   "current_citInitial": 1,
   "eqLabelWithNumbers": true,
   "eqNumInitial": 1,
   "hotkeys": {
    "equation": "Ctrl-E",
    "itemize": "Ctrl-I"
   },
   "labels_anchors": false,
   "latex_user_defs": false,
   "report_style_numbering": false,
   "user_envs_cfg": false
  },
  "toc": {
   "base_numbering": 1,
   "nav_menu": {},
   "number_sections": false,
   "sideBar": true,
   "skip_h1_title": false,
   "title_cell": "Table of Contents",
   "title_sidebar": "Contents",
   "toc_cell": false,
   "toc_position": {},
   "toc_section_display": true,
   "toc_window_display": false
  },
  "varInspector": {
   "cols": {
    "lenName": 16,
    "lenType": 16,
    "lenVar": 40
   },
   "kernels_config": {
    "python": {
     "delete_cmd_postfix": "",
     "delete_cmd_prefix": "del ",
     "library": "var_list.py",
     "varRefreshCmd": "print(var_dic_list())"
    },
    "r": {
     "delete_cmd_postfix": ") ",
     "delete_cmd_prefix": "rm(",
     "library": "var_list.r",
     "varRefreshCmd": "cat(var_dic_list()) "
    }
   },
   "types_to_exclude": [
    "module",
    "function",
    "builtin_function_or_method",
    "instance",
    "_Feature"
   ],
   "window_display": false
  }
 },
 "nbformat": 4,
 "nbformat_minor": 2
}
