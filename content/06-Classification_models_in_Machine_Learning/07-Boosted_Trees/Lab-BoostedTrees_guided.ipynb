{
 "cells": [
  {
   "cell_type": "markdown",
   "metadata": {},
   "source": [
    "## Lab - Boosted Trees\n",
    "\n",
    "In this lab, you will work with the Heart dataset to predict whether the patient has AHD or not.\n",
    "The dataset contains information about various patient with heart conditions including their age, sex and other medical parameters.\n",
    "Your task is to fit a **BoostedTree** model from sklearn library , and predict the value for AHD (yes or no) for the given data sample.\n",
    "You are required to perform pre-processing train-test split,GridSearchCV to find the best parameters and create the model.\n",
    "Data is availabe in : https://raw.githubusercontent.com/colaberry/DSin100days/master/data/Heart.csv\n",
    "\n",
    "\"Some of the data in this lab are taken from \"An Introduction to Statistical Learning, with applications in R\"  (Springer, 2013) from the authors: G. James, D. Witten,  T. Hastie and R. Tibshirani \" "
   ]
  },
  {
   "cell_type": "code",
   "execution_count": null,
   "metadata": {
    "ExecuteTime": {
     "end_time": "2020-05-05T00:07:38.823705Z",
     "start_time": "2020-05-05T00:07:38.299675Z"
    }
   },
   "outputs": [],
   "source": [
    "# Importing pandas\n",
    "import pandas as pd\n",
    "\n",
    "heart = pd.read_csv('https://raw.githubusercontent.com/colaberry/DSin100days/master/data/Heart.csv', na_values='?').dropna()\n",
    "heart.info()\n",
    "heart.head()\n"
   ]
  },
  {
   "cell_type": "code",
   "execution_count": null,
   "metadata": {
    "ExecuteTime": {
     "end_time": "2020-05-05T00:07:38.826965Z",
     "start_time": "2020-05-05T00:07:38.824659Z"
    }
   },
   "outputs": [],
   "source": [
    "# get dataset  \n",
    "data_set = heart[[\"Age\",\"MaxHR\",\"AHD\"]]"
   ]
  },
  {
   "cell_type": "code",
   "execution_count": null,
   "metadata": {
    "ExecuteTime": {
     "end_time": "2020-05-05T00:07:39.235073Z",
     "start_time": "2020-05-05T00:07:38.828031Z"
    }
   },
   "outputs": [],
   "source": [
    "import matplotlib.pyplot as plt\n",
    "from matplotlib.colors import ListedColormap \n",
    "from sklearn.preprocessing import LabelEncoder\n",
    "\n",
    "\n",
    "labels = LabelEncoder().fit_transform(data_set[\"AHD\"].values) \n",
    "colors = ['yellow','black']\n",
    "cmap= ListedColormap(colors)\n",
    "plt.figure(figsize=(10,10))\n",
    "plt.xlabel('Age', fontsize=15)\n",
    "plt.ylabel('MaxHR', fontsize=15)\n",
    "plt.scatter(data_set['Age'].values, data_set['MaxHR'].values, c=labels, cmap=cmap )\n"
   ]
  },
  {
   "cell_type": "code",
   "execution_count": null,
   "metadata": {
    "ExecuteTime": {
     "end_time": "2020-05-05T00:07:39.261703Z",
     "start_time": "2020-05-05T00:07:39.236082Z"
    }
   },
   "outputs": [],
   "source": [
    "from sklearn import tree, metrics\n",
    "from sklearn.model_selection import train_test_split \n",
    "import numpy as np \n",
    "\n",
    "X = data_set[['Age','MaxHR']].values\n",
    "y = labels.copy()\n",
    "X_train, X_test, y_train, y_test = train_test_split(X, y, test_size=0.10, random_state=1)\n",
    "print(\"y value min and max are : {},{}\".format(min(y),max(y)))"
   ]
  },
  {
   "cell_type": "code",
   "execution_count": null,
   "metadata": {
    "ExecuteTime": {
     "end_time": "2020-05-05T00:07:39.331813Z",
     "start_time": "2020-05-05T00:07:39.263105Z"
    }
   },
   "outputs": [],
   "source": [
    "from sklearn.ensemble import GradientBoostingClassifier\n",
    "\n",
    "gb_clf = GradientBoostingClassifier(n_estimators=100, learning_rate=1.0,\n",
    "    max_depth=5, random_state=1).fit(X_train, y_train)\n",
    "\n",
    "# add 2 lines of code to get the accuracy and of the classifier\n",
    "\n",
    "print(\"Accuracy is {}\".format(acc))"
   ]
  },
  {
   "cell_type": "markdown",
   "metadata": {},
   "source": [
    "Accuracy is 0.6333333333333333"
   ]
  },
  {
   "cell_type": "markdown",
   "metadata": {},
   "source": [
    "In this part we are going to plot the learning rate vs accuracy score. We want to find the learning rate that gives us the highest accuracy and run predict based on that model. This is the equivalent of doing a single parameter search. Other parameters can be searched but the learning rate plays an important role for boosted trees. It is not present in Random Forests or decision trees hence our emphasis on it.\n"
   ]
  },
  {
   "cell_type": "code",
   "execution_count": null,
   "metadata": {
    "ExecuteTime": {
     "end_time": "2020-05-05T00:07:46.411999Z",
     "start_time": "2020-05-05T00:07:39.332727Z"
    }
   },
   "outputs": [],
   "source": [
    "learning_rates= np.arange(0.0001, 10, 0.1)\n",
    "scores = []\n",
    "\n",
    "# you will need to write a for loop that goes over each value of learning rate \n",
    "# calcuates the accuracy and appends it to the list scores. Approx 3 lines of code\n"
   ]
  },
  {
   "cell_type": "code",
   "execution_count": null,
   "metadata": {
    "ExecuteTime": {
     "end_time": "2020-05-05T00:07:46.511263Z",
     "start_time": "2020-05-05T00:07:46.413007Z"
    }
   },
   "outputs": [],
   "source": [
    "# plot a new figure using matplotlib. Plot learning rate vs accuracy, labels the axis\n",
    "# make the figure size (15,5). The figure should look exactly the same as below. \n",
    "# make the font size 15. 4 lines of code\n",
    "plt.show()"
   ]
  },
  {
   "cell_type": "markdown",
   "metadata": {},
   "source": [
    "<img src='../../../images/boosted_trees_lr_vs_acc.png'>"
   ]
  },
  {
   "cell_type": "code",
   "execution_count": null,
   "metadata": {
    "ExecuteTime": {
     "end_time": "2020-05-05T00:07:46.515928Z",
     "start_time": "2020-05-05T00:07:46.513207Z"
    }
   },
   "outputs": [],
   "source": [
    "max_score_index = np.argmax(scores)\n",
    "max_score = # get the maximum score from scores\n",
    "optimal_lr = # using the max_score_index, what is the optimal learning rate \n",
    "print(\"The maximum accuracy of {} can be acheived with a learning rate of {}\".format(round(max_score,2),round(optimal_lr,2)))"
   ]
  },
  {
   "cell_type": "markdown",
   "metadata": {},
   "source": [
    "The maximum accuracy of 0.73 can be acheived with a learning rate of 2.4\n"
   ]
  }
 ],
 "metadata": {
  "kernelspec": {
   "display_name": "Python 3",
   "language": "python",
   "name": "python3"
  },
  "language_info": {
   "codemirror_mode": {
    "name": "ipython",
    "version": 3
   },
   "file_extension": ".py",
   "mimetype": "text/x-python",
   "name": "python",
   "nbconvert_exporter": "python",
   "pygments_lexer": "ipython3",
   "version": "3.7.3"
  },
  "latex_envs": {
   "LaTeX_envs_menu_present": true,
   "autoclose": false,
   "autocomplete": true,
   "bibliofile": "biblio.bib",
   "cite_by": "apalike",
   "current_citInitial": 1,
   "eqLabelWithNumbers": true,
   "eqNumInitial": 1,
   "hotkeys": {
    "equation": "Ctrl-E",
    "itemize": "Ctrl-I"
   },
   "labels_anchors": false,
   "latex_user_defs": false,
   "report_style_numbering": false,
   "user_envs_cfg": false
  },
  "toc": {
   "base_numbering": 1,
   "nav_menu": {},
   "number_sections": false,
   "sideBar": true,
   "skip_h1_title": false,
   "title_cell": "Table of Contents",
   "title_sidebar": "Contents",
   "toc_cell": false,
   "toc_position": {},
   "toc_section_display": true,
   "toc_window_display": false
  },
  "varInspector": {
   "cols": {
    "lenName": 16,
    "lenType": 16,
    "lenVar": 40
   },
   "kernels_config": {
    "python": {
     "delete_cmd_postfix": "",
     "delete_cmd_prefix": "del ",
     "library": "var_list.py",
     "varRefreshCmd": "print(var_dic_list())"
    },
    "r": {
     "delete_cmd_postfix": ") ",
     "delete_cmd_prefix": "rm(",
     "library": "var_list.r",
     "varRefreshCmd": "cat(var_dic_list()) "
    }
   },
   "types_to_exclude": [
    "module",
    "function",
    "builtin_function_or_method",
    "instance",
    "_Feature"
   ],
   "window_display": false
  }
 },
 "nbformat": 4,
 "nbformat_minor": 2
}
