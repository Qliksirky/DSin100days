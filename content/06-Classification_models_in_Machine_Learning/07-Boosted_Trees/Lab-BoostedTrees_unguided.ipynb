{
 "cells": [
  {
   "cell_type": "markdown",
   "metadata": {},
   "source": [
    "## Lab - Boosted Trees\n",
    "\n",
    "In this lab, you will work with the Heart dataset to predict whether the patient has AHD or not.\n",
    "The dataset contains information about various patient with heart conditions including their age, sex and other medical parameters.\n",
    "Your task is to fit a **BoostedTree** model from sklearn library , and predict the value for AHD (yes or no) for the given data sample.\n",
    "You are required to perform pre-processing train-test split,GridSearchCV to find the best parameters and create the model.\n",
    "Data is availabe in : https://raw.githubusercontent.com/colaberry/DSin100days/master/data/Heart.csv\n",
    "\n",
    "\"Some of the data in this lab are taken from \"An Introduction to Statistical Learning, with applications in R\"  (Springer, 2013) from the authors: G. James, D. Witten,  T. Hastie and R. Tibshirani \" "
   ]
  },
  {
   "cell_type": "code",
   "execution_count": null,
   "metadata": {
    "ExecuteTime": {
     "end_time": "2020-05-05T00:07:38.823705Z",
     "start_time": "2020-05-05T00:07:38.299675Z"
    }
   },
   "outputs": [],
   "source": [
    "# Importing pandas\n",
    "import pandas as pd\n",
    "\n",
    "heart = pd.read_csv('https://raw.githubusercontent.com/colaberry/DSin100days/master/data/Heart.csv', na_values='?').dropna()\n",
    "heart.info()\n",
    "heart.head()\n"
   ]
  },
  {
   "cell_type": "code",
   "execution_count": null,
   "metadata": {
    "ExecuteTime": {
     "end_time": "2020-05-05T00:07:38.826965Z",
     "start_time": "2020-05-05T00:07:38.824659Z"
    }
   },
   "outputs": [],
   "source": [
    "# get dataset  \n",
    "data_set = heart[[\"Age\",\"MaxHR\",\"AHD\"]]"
   ]
  }
 ],
 "metadata": {
  "kernelspec": {
   "display_name": "Python 3",
   "language": "python",
   "name": "python3"
  },
  "language_info": {
   "codemirror_mode": {
    "name": "ipython",
    "version": 3
   },
   "file_extension": ".py",
   "mimetype": "text/x-python",
   "name": "python",
   "nbconvert_exporter": "python",
   "pygments_lexer": "ipython3",
   "version": "3.7.3"
  },
  "latex_envs": {
   "LaTeX_envs_menu_present": true,
   "autoclose": false,
   "autocomplete": true,
   "bibliofile": "biblio.bib",
   "cite_by": "apalike",
   "current_citInitial": 1,
   "eqLabelWithNumbers": true,
   "eqNumInitial": 1,
   "hotkeys": {
    "equation": "Ctrl-E",
    "itemize": "Ctrl-I"
   },
   "labels_anchors": false,
   "latex_user_defs": false,
   "report_style_numbering": false,
   "user_envs_cfg": false
  },
  "toc": {
   "base_numbering": 1,
   "nav_menu": {},
   "number_sections": false,
   "sideBar": true,
   "skip_h1_title": false,
   "title_cell": "Table of Contents",
   "title_sidebar": "Contents",
   "toc_cell": false,
   "toc_position": {},
   "toc_section_display": true,
   "toc_window_display": false
  },
  "varInspector": {
   "cols": {
    "lenName": 16,
    "lenType": 16,
    "lenVar": 40
   },
   "kernels_config": {
    "python": {
     "delete_cmd_postfix": "",
     "delete_cmd_prefix": "del ",
     "library": "var_list.py",
     "varRefreshCmd": "print(var_dic_list())"
    },
    "r": {
     "delete_cmd_postfix": ") ",
     "delete_cmd_prefix": "rm(",
     "library": "var_list.r",
     "varRefreshCmd": "cat(var_dic_list()) "
    }
   },
   "types_to_exclude": [
    "module",
    "function",
    "builtin_function_or_method",
    "instance",
    "_Feature"
   ],
   "window_display": false
  }
 },
 "nbformat": 4,
 "nbformat_minor": 2
}
