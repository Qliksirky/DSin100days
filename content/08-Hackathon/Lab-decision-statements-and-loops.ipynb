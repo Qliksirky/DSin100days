{
 "cells": [
  {
   "cell_type": "markdown",
   "metadata": {},
   "source": [
    "## Count Numbers \n",
    "Write a python program to loop through integers from 501 to 1500 (both inclusive) and then count the number of integers such that the integer is:\n",
    "1. Divisible by 2\n",
    "2. Divisible by 3\n",
    "3. Divisible by 5\n",
    "\n",
    "You can repeat the same number in two categories. For example 6 is divisible by both 2 and 3. Hence must be counted under both categories.\n",
    "\n",
    "Finally save them in variable total_divisible_by_2, total_divisible_by_3 and total_divisible_by_5 for counts of numbers divisble by 2,3 and 5 respectively.\n"
   ]
  },
  {
   "cell_type": "code",
   "execution_count": 10,
   "metadata": {},
   "outputs": [
    {
     "data": {
      "text/plain": [
       "201"
      ]
     },
     "execution_count": 10,
     "metadata": {},
     "output_type": "execute_result"
    }
   ],
   "source": [
    "# Assign the answers to the corresponding variables. The following methods \"get_answer_1\", \"get_answer_2\", etc... will be \n",
    "# used to evaluate your answers. To make sure you get the correct score, do not make changes to them.\n",
    "total_divisible_by_2 = total_divisible_by_3 = total_divisible_by_5 = 0\n",
    "\n",
    "# Write logic to solve the lab\n",
    "for n in range(500, 1501):\n",
    "    if n%2 == 0:\n",
    "        total_divisible_by_2 += 1\n",
    "    if n%3 == 0:\n",
    "        total_divisible_by_3 += 1\n",
    "    if n%5 == 0:\n",
    "        total_divisible_by_5 += 1\n",
    "# print('total_divisible_by_2 is:', total_divisible_by_2)\n",
    "# print('total_divisible_by_3 is:', total_divisible_by_3)\n",
    "# print('total_divisible_by_5 is:', total_divisible_by_5)\n",
    "\n",
    "\n",
    "\n",
    "\n",
    "\n",
    "\n",
    "#################################################################\n",
    "######If you need more code cells, insert above this cell########\n",
    "#######IMPORTANT:DO NOT Write any solution code below############\n",
    "#################################################################\n",
    "def get_answer_1():\n",
    "    #set the 1st answer varible in return statement\n",
    "    return total_divisible_by_2\n",
    "\n",
    "def get_answer_2():\n",
    "    #set the 2nd answer varible in return statement\n",
    "    return total_divisible_by_3\n",
    "\n",
    "def get_answer_3():\n",
    "    #set the 3rd answer varible in return statement\n",
    "    return total_divisible_by_5\n",
    "\n",
    "#################################################################\n"
   ]
  },
  {
   "cell_type": "code",
   "execution_count": 18,
   "metadata": {
    "tags": [
     "gradehelper"
    ]
   },
   "outputs": [
    {
     "data": {
      "application/javascript": [
       "var nb = IPython.notebook;\n",
       "var kernel = IPython.notebook.kernel;\n",
       "console.log(nb)\n",
       "var command = \"nb_name = '\" + nb.notebook_path  + \"'\";\n",
       "kernel.execute(command);\n",
       "//var command2 = \"user_id = '\" +/user\\/([^/]+)\\//.exec(Jupyter.notebook.base_url)[1] + \"'\"; \n",
       "var command2 = \"user_id = 'manirv'\"; \n",
       "kernel.execute(command2);"
      ],
      "text/plain": [
       "<IPython.core.display.Javascript object>"
      ]
     },
     "metadata": {},
     "output_type": "display_data"
    }
   ],
   "source": [
    "%%javascript\n",
    "var nb = IPython.notebook;\n",
    "var kernel = IPython.notebook.kernel;\n",
    "console.log(nb)\n",
    "var command = \"nb_name = '\" + nb.notebook_path  + \"'\";\n",
    "kernel.execute(command);\n",
    "//var command2 = \"user_id = '\" +/user\\/([^/]+)\\//.exec(Jupyter.notebook.base_url)[1] + \"'\"; \n",
    "var command2 = \"user_id = 'manirv'\"; \n",
    "kernel.execute(command2);\n"
   ]
  },
  {
   "cell_type": "code",
   "execution_count": 21,
   "metadata": {
    "tags": [
     "grade"
    ]
   },
   "outputs": [
    {
     "name": "stdout",
     "output_type": "stream",
     "text": [
      "{\"result\":{\"message\":[\"Good Job\"],\"result\":\"PASS\",\"score\":5}}\n",
      "\n"
     ]
    }
   ],
   "source": [
    "from rfgrade import gradelab as lab\n",
    "print(lab.grade_lab())"
   ]
  },
  {
   "cell_type": "code",
   "execution_count": 17,
   "metadata": {
    "tags": [
     "grade"
    ]
   },
   "outputs": [
    {
     "name": "stdout",
     "output_type": "stream",
     "text": [
      "{\n",
      "  \"result\": {\n",
      "    \"message\": [\n",
      "      \"Good Job\"\n",
      "    ], \n",
      "    \"result\": \"PASS\", \n",
      "    \"score\": 5\n",
      "  }\n",
      "}\n",
      "\n"
     ]
    }
   ],
   "source": [
    "import json\n",
    "import requests\n",
    "import os \n",
    "\n",
    "lab_name = os.path.basename(nb_name).split('.')[0]\n",
    "\n",
    "def grade_lab():\n",
    "    input_content_file = lab_name + '.ipynb'\n",
    "    parsed_json = ''\n",
    "    with open(input_content_file) as json_data:\n",
    "        parsed_json = json.load(json_data)\n",
    "\n",
    "    code_content = ''\n",
    "    cells = parsed_json['cells']\n",
    "    for cell in cells:\n",
    "        cell_type = cell['cell_type']\n",
    "\n",
    "        if 'metadata' not in cell:\n",
    "            # raise ValueError(\"No metadata found\")\n",
    "            code_cell = cell['source']\n",
    "            for code_line in code_cell:\n",
    "                code_content = code_content + '\\n' + code_line\n",
    "\n",
    "        if cell_type == 'code':\n",
    "            if cell['metadata'].get('tags') == None or cell['metadata'].get('tags')[0] not in ['grade', 'gradehelper']:\n",
    "\n",
    "                code_cell = cell['source']\n",
    "                for code_line in code_cell:\n",
    "                    code_content = code_content + '\\n' + code_line\n",
    "    result = send_lab_for_grading(user_id, lab_name,code_content)\n",
    "    return result\n",
    "\n",
    "\n",
    "def send_lab_for_grading(user_id, lab_name,lab_content):\n",
    "    # api-endpoint\n",
    "    URL = 'http://127.0.0.1:5000/rf/api/v1.0/lab'\n",
    "    #URL = \"https://labgradeapi.herokuapp.com/rf/api/v1.0/lab\"\n",
    "\n",
    "    # defining a params dict for the parameters to be sent to the API\n",
    "    data = {'code': lab_content, 'userid': user_id, 'labname': lab_name }\n",
    "\n",
    "    # sending get request and saving the response as response object\n",
    "    r = requests.post(url=URL, json=data)\n",
    "    return r.text\n",
    "print(grade_lab())"
   ]
  }
 ],
 "metadata": {
  "celltoolbar": "Tags",
  "kernelspec": {
   "display_name": "Python 3",
   "language": "python",
   "name": "python3"
  },
  "language_info": {
   "codemirror_mode": {
    "name": "ipython",
    "version": 3
   },
   "file_extension": ".py",
   "mimetype": "text/x-python",
   "name": "python",
   "nbconvert_exporter": "python",
   "pygments_lexer": "ipython3",
   "version": "3.6.8"
  }
 },
 "nbformat": 4,
 "nbformat_minor": 1
}
