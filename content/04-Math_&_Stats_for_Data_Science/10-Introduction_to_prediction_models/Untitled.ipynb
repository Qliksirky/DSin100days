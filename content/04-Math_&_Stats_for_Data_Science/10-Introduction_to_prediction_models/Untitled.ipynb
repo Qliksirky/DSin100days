{
 "cells": [
  {
   "cell_type": "code",
   "execution_count": 1,
   "metadata": {},
   "outputs": [
    {
     "name": "stderr",
     "output_type": "stream",
     "text": [
      "/anaconda3/lib/python3.6/site-packages/sklearn/ensemble/weight_boosting.py:29: DeprecationWarning: numpy.core.umath_tests is an internal NumPy module and should not be imported. It will be removed in a future NumPy release.\n",
      "  from numpy.core.umath_tests import inner1d\n"
     ]
    }
   ],
   "source": [
    "from sklearn.datasets import load_breast_cancer\n",
    "from sklearn.ensemble import RandomForestClassifier\n",
    "from sklearn.metrics import confusion_matrix\n",
    "from sklearn.model_selection import train_test_split\n",
    "import numpy as np\n",
    "import pandas as pd"
   ]
  },
  {
   "cell_type": "code",
   "execution_count": 2,
   "metadata": {},
   "outputs": [],
   "source": [
    "X = pd.DataFrame(load_breast_cancer()['data']).iloc[:, :2].values\n",
    "y = load_breast_cancer()['target']\n",
    "X_train, X_test, y_train, y_test = train_test_split(X, y, test_size=0.33, random_state=42)"
   ]
  },
  {
   "cell_type": "code",
   "execution_count": 3,
   "metadata": {},
   "outputs": [],
   "source": [
    "cls = RandomForestClassifier(n_estimators=90)"
   ]
  },
  {
   "cell_type": "code",
   "execution_count": 4,
   "metadata": {},
   "outputs": [],
   "source": [
    "cls = cls.fit(X_train,  y_train.reshape((-1,)))"
   ]
  },
  {
   "cell_type": "code",
   "execution_count": 5,
   "metadata": {},
   "outputs": [],
   "source": [
    "y_pred = cls.predict(X_test)\n",
    "mat = confusion_matrix(y_test, y_pred)"
   ]
  },
  {
   "cell_type": "code",
   "execution_count": 6,
   "metadata": {},
   "outputs": [
    {
     "data": {
      "text/plain": [
       "array([0, 1])"
      ]
     },
     "execution_count": 6,
     "metadata": {},
     "output_type": "execute_result"
    }
   ],
   "source": [
    "cls.classes_"
   ]
  },
  {
   "cell_type": "code",
   "execution_count": 10,
   "metadata": {},
   "outputs": [
    {
     "name": "stdout",
     "output_type": "stream",
     "text": [
      "[[0.02222222 0.97777778]\n",
      " [1.         0.        ]\n",
      " [0.76666667 0.23333333]\n",
      " [0.01111111 0.98888889]\n",
      " [0.         1.        ]\n",
      " [0.97777778 0.02222222]\n",
      " [1.         0.        ]\n",
      " [0.45555556 0.54444444]\n",
      " [0.02222222 0.97777778]\n",
      " [0.3        0.7       ]\n",
      " [0.38888889 0.61111111]\n",
      " [0.72222222 0.27777778]\n",
      " [0.43333333 0.56666667]\n",
      " [0.98888889 0.01111111]\n",
      " [0.06666667 0.93333333]\n",
      " [1.         0.        ]\n",
      " [0.02222222 0.97777778]\n",
      " [0.02222222 0.97777778]\n",
      " [0.         1.        ]\n",
      " [1.         0.        ]\n",
      " [0.05555556 0.94444444]\n",
      " [0.         1.        ]\n",
      " [0.97777778 0.02222222]\n",
      " [0.17777778 0.82222222]\n",
      " [0.04444444 0.95555556]\n",
      " [0.         1.        ]\n",
      " [0.         1.        ]\n",
      " [0.02222222 0.97777778]\n",
      " [0.27777778 0.72222222]\n",
      " [0.98888889 0.01111111]\n",
      " [0.15555556 0.84444444]\n",
      " [0.         1.        ]\n",
      " [0.         1.        ]\n",
      " [0.01111111 0.98888889]\n",
      " [0.         1.        ]\n",
      " [0.41111111 0.58888889]\n",
      " [1.         0.        ]\n",
      " [0.01111111 0.98888889]\n",
      " [1.         0.        ]\n",
      " [0.82222222 0.17777778]\n",
      " [0.         1.        ]\n",
      " [0.94444444 0.05555556]\n",
      " [0.         1.        ]\n",
      " [0.2        0.8       ]\n",
      " [0.03333333 0.96666667]\n",
      " [0.27777778 0.72222222]\n",
      " [0.         1.        ]\n",
      " [0.02222222 0.97777778]\n",
      " [0.01111111 0.98888889]\n",
      " [0.38888889 0.61111111]\n",
      " [0.97777778 0.02222222]\n",
      " [1.         0.        ]\n",
      " [0.61111111 0.38888889]\n",
      " [0.01111111 0.98888889]\n",
      " [0.         1.        ]\n",
      " [0.25555556 0.74444444]\n",
      " [0.         1.        ]\n",
      " [1.         0.        ]\n",
      " [0.24444444 0.75555556]\n",
      " [0.         1.        ]\n",
      " [0.         1.        ]\n",
      " [1.         0.        ]\n",
      " [1.         0.        ]\n",
      " [0.71111111 0.28888889]\n",
      " [0.01111111 0.98888889]\n",
      " [0.65555556 0.34444444]\n",
      " [1.         0.        ]\n",
      " [1.         0.        ]\n",
      " [0.28888889 0.71111111]\n",
      " [0.02222222 0.97777778]\n",
      " [0.28888889 0.71111111]\n",
      " [0.88888889 0.11111111]\n",
      " [0.27777778 0.72222222]\n",
      " [0.93333333 0.06666667]\n",
      " [0.01111111 0.98888889]\n",
      " [0.         1.        ]\n",
      " [0.42222222 0.57777778]\n",
      " [0.33333333 0.66666667]\n",
      " [0.         1.        ]\n",
      " [0.         1.        ]\n",
      " [0.98888889 0.01111111]\n",
      " [0.         1.        ]\n",
      " [0.77777778 0.22222222]\n",
      " [0.97777778 0.02222222]\n",
      " [0.96666667 0.03333333]\n",
      " [0.84444444 0.15555556]\n",
      " [0.56666667 0.43333333]\n",
      " [1.         0.        ]\n",
      " [0.16666667 0.83333333]\n",
      " [0.         1.        ]\n",
      " [0.22222222 0.77777778]\n",
      " [0.5        0.5       ]\n",
      " [0.5        0.5       ]\n",
      " [0.         1.        ]\n",
      " [0.03333333 0.96666667]\n",
      " [0.         1.        ]\n",
      " [0.98888889 0.01111111]\n",
      " [0.24444444 0.75555556]\n",
      " [0.         1.        ]\n",
      " [1.         0.        ]\n",
      " [0.98888889 0.01111111]\n",
      " [0.05555556 0.94444444]\n",
      " [0.68888889 0.31111111]\n",
      " [1.         0.        ]\n",
      " [0.04444444 0.95555556]\n",
      " [0.14444444 0.85555556]\n",
      " [0.4        0.6       ]\n",
      " [1.         0.        ]\n",
      " [0.02222222 0.97777778]\n",
      " [0.12222222 0.87777778]\n",
      " [0.95555556 0.04444444]\n",
      " [0.         1.        ]\n",
      " [0.57777778 0.42222222]\n",
      " [0.97777778 0.02222222]\n",
      " [0.         1.        ]\n",
      " [1.         0.        ]\n",
      " [0.         1.        ]\n",
      " [0.02222222 0.97777778]\n",
      " [0.         1.        ]\n",
      " [0.45555556 0.54444444]\n",
      " [0.7        0.3       ]\n",
      " [0.01111111 0.98888889]\n",
      " [0.         1.        ]\n",
      " [1.         0.        ]\n",
      " [0.55555556 0.44444444]\n",
      " [1.         0.        ]\n",
      " [0.25555556 0.74444444]\n",
      " [0.02222222 0.97777778]\n",
      " [0.23333333 0.76666667]\n",
      " [1.         0.        ]\n",
      " [0.38888889 0.61111111]\n",
      " [0.88888889 0.11111111]\n",
      " [0.2        0.8       ]\n",
      " [0.         1.        ]\n",
      " [0.22222222 0.77777778]\n",
      " [0.4        0.6       ]\n",
      " [0.27777778 0.72222222]\n",
      " [0.         1.        ]\n",
      " [0.02222222 0.97777778]\n",
      " [0.55555556 0.44444444]\n",
      " [0.07777778 0.92222222]\n",
      " [0.97777778 0.02222222]\n",
      " [0.         1.        ]\n",
      " [0.         1.        ]\n",
      " [0.37777778 0.62222222]\n",
      " [0.         1.        ]\n",
      " [0.98888889 0.01111111]\n",
      " [0.97777778 0.02222222]\n",
      " [0.98888889 0.01111111]\n",
      " [0.04444444 0.95555556]\n",
      " [0.73333333 0.26666667]\n",
      " [0.06666667 0.93333333]\n",
      " [0.02222222 0.97777778]\n",
      " [0.13333333 0.86666667]\n",
      " [0.06666667 0.93333333]\n",
      " [0.98888889 0.01111111]\n",
      " [0.98888889 0.01111111]\n",
      " [0.02222222 0.97777778]\n",
      " [0.34444444 0.65555556]\n",
      " [0.32222222 0.67777778]\n",
      " [0.         1.        ]\n",
      " [0.02222222 0.97777778]\n",
      " [0.01111111 0.98888889]\n",
      " [0.         1.        ]\n",
      " [0.86666667 0.13333333]\n",
      " [0.         1.        ]\n",
      " [0.03333333 0.96666667]\n",
      " [0.9        0.1       ]\n",
      " [0.02222222 0.97777778]\n",
      " [0.52222222 0.47777778]\n",
      " [0.         1.        ]\n",
      " [0.01111111 0.98888889]\n",
      " [0.02222222 0.97777778]\n",
      " [0.01111111 0.98888889]\n",
      " [0.         1.        ]\n",
      " [0.65555556 0.34444444]\n",
      " [1.         0.        ]\n",
      " [0.26666667 0.73333333]\n",
      " [0.33333333 0.66666667]\n",
      " [0.         1.        ]\n",
      " [0.32222222 0.67777778]\n",
      " [0.         1.        ]\n",
      " [0.         1.        ]\n",
      " [0.86666667 0.13333333]\n",
      " [1.         0.        ]\n",
      " [0.23333333 0.76666667]\n",
      " [0.78888889 0.21111111]\n",
      " [0.01111111 0.98888889]]\n"
     ]
    },
    {
     "data": {
      "image/png": "[encoded data removed]",
      "text/plain": [
       "<Figure size 432x288 with 1 Axes>"
      ]
     },
     "metadata": {},
     "output_type": "display_data"
    }
   ],
   "source": [
    "from sklearn.metrics import roc_curve\n",
    "from sklearn.metrics import auc\n",
    "import matplotlib.pyplot as plt\n",
    "\n",
    "cls.classes_\n",
    "print(cls.predict_proba(X_test))\n",
    "probs = cls.predict_proba(X_test)[:, 1]\n",
    "\n",
    "f_p_r, t_p_r, ths = roc_curve(y_test, probs)\n",
    "area = auc(f_p_r, t_p_r)\n",
    "\n",
    "plt.title('ROC (AUC) Score = {0:.2f}'.format(area)  )\n",
    "plt.plot(f_p_r, t_p_r)\n",
    "plt.plot([0,1], [0,1])\n",
    "plt.ylabel('True Positive Rate')\n",
    "plt.xlabel('False Positive Rate')\n",
    "plt.show()\n"
   ]
  },
  {
   "cell_type": "code",
   "execution_count": 14,
   "metadata": {},
   "outputs": [
    {
     "data": {
      "text/plain": [
       "array([0.97777778, 0.        , 0.23333333, 0.98888889, 1.        ,\n",
       "       0.02222222, 0.        , 0.54444444, 0.97777778, 0.7       ,\n",
       "       0.61111111, 0.27777778, 0.56666667, 0.01111111, 0.93333333,\n",
       "       0.        , 0.97777778, 0.97777778, 1.        , 0.        ,\n",
       "       0.94444444, 1.        , 0.02222222, 0.82222222, 0.95555556,\n",
       "       1.        , 1.        , 0.97777778, 0.72222222, 0.01111111,\n",
       "       0.84444444, 1.        , 1.        , 0.98888889, 1.        ,\n",
       "       0.58888889, 0.        , 0.98888889, 0.        , 0.17777778,\n",
       "       1.        , 0.05555556, 1.        , 0.8       , 0.96666667,\n",
       "       0.72222222, 1.        , 0.97777778, 0.98888889, 0.61111111,\n",
       "       0.02222222, 0.        , 0.38888889, 0.98888889, 1.        ,\n",
       "       0.74444444, 1.        , 0.        , 0.75555556, 1.        ,\n",
       "       1.        , 0.        , 0.        , 0.28888889, 0.98888889,\n",
       "       0.34444444, 0.        , 0.        , 0.71111111, 0.97777778,\n",
       "       0.71111111, 0.11111111, 0.72222222, 0.06666667, 0.98888889,\n",
       "       1.        , 0.57777778, 0.66666667, 1.        , 1.        ,\n",
       "       0.01111111, 1.        , 0.22222222, 0.02222222, 0.03333333,\n",
       "       0.15555556, 0.43333333, 0.        , 0.83333333, 1.        ,\n",
       "       0.77777778, 0.5       , 0.5       , 1.        , 0.96666667,\n",
       "       1.        , 0.01111111, 0.75555556, 1.        , 0.        ,\n",
       "       0.01111111, 0.94444444, 0.31111111, 0.        , 0.95555556,\n",
       "       0.85555556, 0.6       , 0.        , 0.97777778, 0.87777778,\n",
       "       0.04444444, 1.        , 0.42222222, 0.02222222, 1.        ,\n",
       "       0.        , 1.        , 0.97777778, 1.        , 0.54444444,\n",
       "       0.3       , 0.98888889, 1.        , 0.        , 0.44444444,\n",
       "       0.        , 0.74444444, 0.97777778, 0.76666667, 0.        ,\n",
       "       0.61111111, 0.11111111, 0.8       , 1.        , 0.77777778,\n",
       "       0.6       , 0.72222222, 1.        , 0.97777778, 0.44444444,\n",
       "       0.92222222, 0.02222222, 1.        , 1.        , 0.62222222,\n",
       "       1.        , 0.01111111, 0.02222222, 0.01111111, 0.95555556,\n",
       "       0.26666667, 0.93333333, 0.97777778, 0.86666667, 0.93333333,\n",
       "       0.01111111, 0.01111111, 0.97777778, 0.65555556, 0.67777778,\n",
       "       1.        , 0.97777778, 0.98888889, 1.        , 0.13333333,\n",
       "       1.        , 0.96666667, 0.1       , 0.97777778, 0.47777778,\n",
       "       1.        , 0.98888889, 0.97777778, 0.98888889, 1.        ,\n",
       "       0.34444444, 0.        , 0.73333333, 0.66666667, 1.        ,\n",
       "       0.67777778, 1.        , 1.        , 0.13333333, 0.        ,\n",
       "       0.76666667, 0.21111111, 0.98888889])"
      ]
     },
     "execution_count": 14,
     "metadata": {},
     "output_type": "execute_result"
    }
   ],
   "source": [
    "probs = cls.predict_proba(X_test)[:, 1]\n",
    "from sklearn.metrics import roc_curve\n",
    "from sklearn.metrics import auc\n",
    "probs"
   ]
  },
  {
   "cell_type": "code",
   "execution_count": 18,
   "metadata": {},
   "outputs": [],
   "source": [
    "f_p_r, t_p_r, ths = roc_curve(y_test, probs)\n",
    "area = auc(f_p_r, t_p_r)"
   ]
  },
  {
   "cell_type": "code",
   "execution_count": 19,
   "metadata": {},
   "outputs": [],
   "source": [
    "import matplotlib.pyplot as plt"
   ]
  },
  {
   "cell_type": "code",
   "execution_count": 21,
   "metadata": {},
   "outputs": [
    {
     "data": {
      "image/png": "[encoded data removed]",
      "text/plain": [
       "<Figure size 432x288 with 1 Axes>"
      ]
     },
     "metadata": {},
     "output_type": "display_data"
    }
   ],
   "source": [
    "plt.title('ROC (AUC) Score = {0:.2f}'.format(area)  )\n",
    "plt.plot(f_p_r, t_p_r)\n",
    "plt.plot([0,1], [0,1])\n",
    "plt.ylabel('True Positive Rate')\n",
    "plt.xlabel('False Positive Rate')\n",
    "plt.show()"
   ]
  },
  {
   "cell_type": "code",
   "execution_count": 15,
   "metadata": {},
   "outputs": [
    {
     "name": "stdout",
     "output_type": "stream",
     "text": [
      "Confusion Matrix\n",
      " [[ 56  11]\n",
      " [ 10 111]]\n"
     ]
    }
   ],
   "source": [
    "print('Confusion Matrix\\n',mat)"
   ]
  },
  {
   "cell_type": "code",
   "execution_count": 16,
   "metadata": {},
   "outputs": [],
   "source": [
    "np.random.seed(1)\n",
    "y_true = np.random.randint(2, size=20)\n",
    "y_pred = np.random.randint(2, size=20)"
   ]
  },
  {
   "cell_type": "code",
   "execution_count": 17,
   "metadata": {},
   "outputs": [
    {
     "data": {
      "text/plain": [
       "array([[6, 3],\n",
       "       [6, 5]], dtype=int64)"
      ]
     },
     "execution_count": 17,
     "metadata": {},
     "output_type": "execute_result"
    }
   ],
   "source": [
    "confusion_matrix(y_true=y_true, y_pred=y_pred)"
   ]
  },
  {
   "cell_type": "code",
   "execution_count": 1,
   "metadata": {},
   "outputs": [],
   "source": [
    "import numpy as np\n",
    "from sklearn.metrics import confusion_matrix\n",
    "np.random.seed(1)\n",
    "y_true = np.random.randint(2, size=20)\n",
    "y_pred = np.random.randint(2, size=20)\n",
    "mat = confusion_matrix(y_true=y_true, y_pred=y_pred)\n",
    "accuracy_score = (mat[0][0] + mat[1][1])/(mat[0][0] + mat[0][1] + mat[1][0] + mat[1][1])\n",
    "recall_score = mat[1][1]/(mat[0][0]+mat[1][1])\n",
    "precision_score = mat[1][1]/(mat[1][1]+mat[1][0])\n",
    "f1_score = (2* precision_score * recall_score)/( precision_score + recall_score )"
   ]
  },
  {
   "cell_type": "code",
   "execution_count": 10,
   "metadata": {},
   "outputs": [
    {
     "name": "stdout",
     "output_type": "stream",
     "text": [
      "Accuracy Score:  0.55\n",
      "Recall Score:    0.45\n",
      "Precision Score: 0.45\n",
      "F1 Score:        0.45\n"
     ]
    }
   ],
   "source": [
    "print('Accuracy Score:  {0:.2f}'.format(accuracy_score))\n",
    "print('Recall Score:    {0:.2f}'.format(recall_score))\n",
    "print('Precision Score: {0:.2f}'.format(precision_score))\n",
    "print('F1 Score:        {0:.2f}'.format(f1_score))"
   ]
  },
  {
   "cell_type": "code",
   "execution_count": 1,
   "metadata": {},
   "outputs": [],
   "source": [
    "import numpy as np"
   ]
  },
  {
   "cell_type": "code",
   "execution_count": 2,
   "metadata": {},
   "outputs": [],
   "source": [
    "cm = np.array([[5,10], [3,200]])"
   ]
  },
  {
   "cell_type": "code",
   "execution_count": 3,
   "metadata": {},
   "outputs": [
    {
     "data": {
      "text/plain": [
       "array([[  5,  10],\n",
       "       [  3, 200]])"
      ]
     },
     "execution_count": 3,
     "metadata": {},
     "output_type": "execute_result"
    }
   ],
   "source": [
    "cm"
   ]
  },
  {
   "cell_type": "code",
   "execution_count": 4,
   "metadata": {},
   "outputs": [
    {
     "data": {
      "text/plain": [
       "0.9403669724770642"
      ]
     },
     "execution_count": 4,
     "metadata": {},
     "output_type": "execute_result"
    }
   ],
   "source": [
    "(200+5)/(205+10+3)"
   ]
  },
  {
   "cell_type": "code",
   "execution_count": 5,
   "metadata": {},
   "outputs": [
    {
     "data": {
      "text/plain": [
       "0.975609756097561"
      ]
     },
     "execution_count": 5,
     "metadata": {},
     "output_type": "execute_result"
    }
   ],
   "source": [
    "200/205"
   ]
  },
  {
   "cell_type": "code",
   "execution_count": 8,
   "metadata": {},
   "outputs": [
    {
     "data": {
      "text/plain": [
       "(0.975609756097561, 0.9852216748768473)"
      ]
     },
     "execution_count": 8,
     "metadata": {},
     "output_type": "execute_result"
    }
   ],
   "source": [
    "r = (200)/(205)\n",
    "p = (200)/(203)\n",
    "r,p"
   ]
  },
  {
   "cell_type": "code",
   "execution_count": 9,
   "metadata": {},
   "outputs": [
    {
     "data": {
      "text/plain": [
       "0.9803921568627451"
      ]
     },
     "execution_count": 9,
     "metadata": {},
     "output_type": "execute_result"
    }
   ],
   "source": [
    "(2* p * r)/( p + r )"
   ]
  },
  {
   "cell_type": "code",
   "execution_count": null,
   "metadata": {},
   "outputs": [],
   "source": []
  }
 ],
 "metadata": {
  "kernelspec": {
   "display_name": "Python 3",
   "language": "python",
   "name": "python3"
  },
  "language_info": {
   "codemirror_mode": {
    "name": "ipython",
    "version": 3
   },
   "file_extension": ".py",
   "mimetype": "text/x-python",
   "name": "python",
   "nbconvert_exporter": "python",
   "pygments_lexer": "ipython3",
   "version": "3.6.8"
  }
 },
 "nbformat": 4,
 "nbformat_minor": 2
}
