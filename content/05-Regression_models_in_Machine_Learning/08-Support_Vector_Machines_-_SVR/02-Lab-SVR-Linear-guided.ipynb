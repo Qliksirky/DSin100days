{
 "cells": [
  {
   "cell_type": "markdown",
   "metadata": {},
   "source": [
    "## 02-Lab  - SVR- Linear Kernel\n",
    "\n",
    "Part 1: Linear SVR \n",
    "\n",
    "In this lab, you will work with Credit dataset - description provided below .\n",
    "The dataset contains information about credit information of few people and their other details.\n",
    "Your task is to fit a Support Vector Machine regression with Linear and compare it with Linear regression in terms of accuracy scores or MSE.\n",
    "You are required to use \"Rating\" as the target variable and do the data manipulation, use SVR  to create the model.\n",
    "\n",
    "\n",
    "\n",
    "Data is availabe in : https://raw.githubusercontent.com/colaberry/DSin100days/master/data/Credit.csv"
   ]
  },
  {
   "cell_type": "code",
   "execution_count": null,
   "metadata": {
    "ExecuteTime": {
     "end_time": "2020-05-04T16:01:11.690408Z",
     "start_time": "2020-05-04T16:01:11.180554Z"
    }
   },
   "outputs": [],
   "source": [
    "# Import the library\n",
    "import pandas as pd\n",
    "\n",
    "credit = pd.read_csv('https://raw.githubusercontent.com/colaberry/DSin100days/master/data/Credit.csv', na_values='?').dropna()\n",
    "credit.info()\n",
    "credit.head()\n"
   ]
  },
  {
   "cell_type": "code",
   "execution_count": null,
   "metadata": {
    "ExecuteTime": {
     "end_time": "2020-05-04T16:01:11.695142Z",
     "start_time": "2020-05-04T16:01:11.691392Z"
    }
   },
   "outputs": [],
   "source": [
    "# isolate the columns that we need to work on\n",
    "data_set = credit[[\"Rating\", \"Limit\"]]\n",
    "data_set_head = data_set.head()\n",
    "print(data_set_head)"
   ]
  },
  {
   "cell_type": "markdown",
   "metadata": {
    "ExecuteTime": {
     "end_time": "2020-05-04T13:54:31.905743Z",
     "start_time": "2020-05-04T13:54:31.898939Z"
    }
   },
   "source": [
    "The head of data_set should be\n",
    "\n",
    "|   | Rating | Limit |   |   |\n",
    "|---|--------|-------|---|---|\n",
    "| 0 | 283    | 3606  |   |   |\n",
    "| 1 | 483    | 6645  |   |   |\n",
    "| 2 | 514    | 7075  |   |   |\n",
    "| 3 | 681    | 9504  |   |   |\n",
    "| 4 | 357    | 4897  |   |   |"
   ]
  },
  {
   "cell_type": "code",
   "execution_count": null,
   "metadata": {
    "ExecuteTime": {
     "end_time": "2020-05-04T16:01:11.703455Z",
     "start_time": "2020-05-04T16:01:11.696093Z"
    }
   },
   "outputs": [],
   "source": [
    "# you can optionally plot the rating vs limit to check if it is linearly related. Scatter plots are recommended \n"
   ]
  },
  {
   "cell_type": "code",
   "execution_count": null,
   "metadata": {
    "ExecuteTime": {
     "end_time": "2020-05-04T16:01:11.867798Z",
     "start_time": "2020-05-04T16:01:11.704556Z"
    }
   },
   "outputs": [],
   "source": [
    "from sklearn.model_selection import train_test_split \n",
    "X = data_set[\"Rating\"].values\n",
    "y = data_set[\"Limit\"].values\n",
    "\n",
    "# we need to do test train split\n",
    "X_train, X_test, y_train, y_test = train_test_split(X, y, test_size=0.10, random_state=1)\n",
    "\n",
    "X_train_reshaped = # reshape to [N,1]\n",
    "X_test_reshaped = # reshape to [N,1]\n",
    "\n",
    "print(\"traning shape should be {}\".format('print X_train_reshaped shape'))"
   ]
  },
  {
   "cell_type": "markdown",
   "metadata": {
    "ExecuteTime": {
     "end_time": "2020-05-04T14:14:10.347972Z",
     "start_time": "2020-05-04T14:14:10.339856Z"
    }
   },
   "source": [
    "traning shape should be (320, 1)"
   ]
  },
  {
   "cell_type": "code",
   "execution_count": null,
   "metadata": {
    "ExecuteTime": {
     "end_time": "2020-05-04T16:01:14.075377Z",
     "start_time": "2020-05-04T16:01:11.868918Z"
    }
   },
   "outputs": [],
   "source": [
    "from sklearn.svm import SVR\n",
    "from sklearn.metrics import mean_squared_error\n",
    "\n",
    "# using the notebook run the linear svm. Use the same values of \n",
    "# C and epsilion as in the notebook. 2 lines of code\n",
    "\n",
    "mse_value = mean_squared_error(y_test.ravel(),y_pred.ravel())\n",
    "\n",
    "#print the mean square error value \n",
    "print(\"mean squared error value is {}\".format('####'))"
   ]
  },
  {
   "cell_type": "markdown",
   "metadata": {},
   "source": [
    "mean squared error value is 38646.79600760647"
   ]
  },
  {
   "cell_type": "code",
   "execution_count": null,
   "metadata": {},
   "outputs": [],
   "source": []
  }
 ],
 "metadata": {
  "kernelspec": {
   "display_name": "Python 3",
   "language": "python",
   "name": "python3"
  },
  "language_info": {
   "codemirror_mode": {
    "name": "ipython",
    "version": 3
   },
   "file_extension": ".py",
   "mimetype": "text/x-python",
   "name": "python",
   "nbconvert_exporter": "python",
   "pygments_lexer": "ipython3",
   "version": "3.7.3"
  },
  "latex_envs": {
   "LaTeX_envs_menu_present": true,
   "autoclose": false,
   "autocomplete": true,
   "bibliofile": "biblio.bib",
   "cite_by": "apalike",
   "current_citInitial": 1,
   "eqLabelWithNumbers": true,
   "eqNumInitial": 1,
   "hotkeys": {
    "equation": "Ctrl-E",
    "itemize": "Ctrl-I"
   },
   "labels_anchors": false,
   "latex_user_defs": false,
   "report_style_numbering": false,
   "user_envs_cfg": false
  },
  "toc": {
   "base_numbering": 1,
   "nav_menu": {},
   "number_sections": false,
   "sideBar": true,
   "skip_h1_title": false,
   "title_cell": "Table of Contents",
   "title_sidebar": "Contents",
   "toc_cell": false,
   "toc_position": {},
   "toc_section_display": true,
   "toc_window_display": false
  },
  "varInspector": {
   "cols": {
    "lenName": 16,
    "lenType": 16,
    "lenVar": 40
   },
   "kernels_config": {
    "python": {
     "delete_cmd_postfix": "",
     "delete_cmd_prefix": "del ",
     "library": "var_list.py",
     "varRefreshCmd": "print(var_dic_list())"
    },
    "r": {
     "delete_cmd_postfix": ") ",
     "delete_cmd_prefix": "rm(",
     "library": "var_list.r",
     "varRefreshCmd": "cat(var_dic_list()) "
    }
   },
   "types_to_exclude": [
    "module",
    "function",
    "builtin_function_or_method",
    "instance",
    "_Feature"
   ],
   "window_display": false
  }
 },
 "nbformat": 4,
 "nbformat_minor": 2
}
