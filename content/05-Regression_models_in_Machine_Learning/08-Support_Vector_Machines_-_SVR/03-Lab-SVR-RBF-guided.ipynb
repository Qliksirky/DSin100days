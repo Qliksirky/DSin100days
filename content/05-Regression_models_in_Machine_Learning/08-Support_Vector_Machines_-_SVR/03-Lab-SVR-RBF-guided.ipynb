{
 "cells": [
  {
   "cell_type": "markdown",
   "metadata": {},
   "source": [
    "## 03-Lab  - SVR- Radial basis \n",
    "In this lab, you will work with Auto dataset - description provided below .\n",
    "The dataset contains information about varoious cars/automobiles, the number of wheels, engine displacement along with their fuel efficiency.\n",
    "Your task is to fit a Support Vector Machine regression with a radial basis function kernal and compare it with Polynomial regression & in terms of accuracy scores and MSE.\n",
    "You are required to use \"mpg\" as the target variable, use SVR with rbf kernel to create the model.\n",
    "\n",
    "Data is availabe in : https://raw.githubusercontent.com/colaberry/DSin100days/master/data/Auto.csv"
   ]
  },
  {
   "cell_type": "code",
   "execution_count": 1,
   "metadata": {
    "ExecuteTime": {
     "end_time": "2020-05-04T15:57:24.391946Z",
     "start_time": "2020-05-04T15:57:24.115360Z"
    }
   },
   "outputs": [],
   "source": [
    "# Import the library\n",
    "import pandas as pd\n",
    "\n",
    "auto = pd.read_csv('https://raw.githubusercontent.com/colaberry/DSin100days/master/data/Auto.csv', na_values='?').dropna()\n"
   ]
  },
  {
   "cell_type": "code",
   "execution_count": 2,
   "metadata": {
    "ExecuteTime": {
     "end_time": "2020-05-04T15:57:24.413463Z",
     "start_time": "2020-05-04T15:57:24.397334Z"
    }
   },
   "outputs": [
    {
     "name": "stdout",
     "output_type": "stream",
     "text": [
      "    mpg  horsepower\n",
      "0  18.0       130.0\n",
      "1  15.0       165.0\n",
      "2  18.0       150.0\n",
      "3  16.0       150.0\n",
      "4  17.0       140.0\n"
     ]
    }
   ],
   "source": [
    "# select the mpg and horsepower columns and output the head\n",
    "data_set = auto[['####','####']]\n",
    "data_set_head = data_set.head()\n",
    "\n",
    "# head of data_set\n",
    "print(data_set.head())\n"
   ]
  },
  {
   "cell_type": "markdown",
   "metadata": {},
   "source": [
    "The head should be: \n",
    "\n",
    "| mpg | horsepower |   |   |   |\n",
    "|-----|------------|:-:|:-:|:-:|\n",
    "| 0   | 18.0       |   |   |   |\n",
    "| 1   | 15.0       |   |   |   |\n",
    "| 2   | 18.0       |   |   |   |\n",
    "| 3   | 16.0       |   |   |   |\n",
    "| 4   | 17.0       |   |   |   |"
   ]
  },
  {
   "cell_type": "code",
   "execution_count": 3,
   "metadata": {
    "ExecuteTime": {
     "end_time": "2020-05-04T15:57:24.587395Z",
     "start_time": "2020-05-04T15:57:24.416730Z"
    }
   },
   "outputs": [],
   "source": [
    "from sklearn.model_selection import train_test_split \n",
    "\n",
    "X = data_set['horsepower'].values\n",
    "y = data_set['mpg'].values\n",
    "\n",
    "X_train, X_test, y_train, y_test = train_test_split(X, y, test_size=0.30, random_state=1)\n",
    "\n",
    "X_train_reshaped = # reshape the training data array to [N,1]\n",
    "X_test_reshaped =  # reshaped the test data array to [N,1]"
   ]
  },
  {
   "cell_type": "code",
   "execution_count": 4,
   "metadata": {
    "ExecuteTime": {
     "end_time": "2020-05-04T15:57:24.603849Z",
     "start_time": "2020-05-04T15:57:24.588427Z"
    }
   },
   "outputs": [
    {
     "name": "stdout",
     "output_type": "stream",
     "text": [
      "mean squared error is 26.791504762064502 \n"
     ]
    }
   ],
   "source": [
    "from sklearn.svm import SVR\n",
    "from sklearn import metrics\n",
    "\n",
    "# we need to do test train split\n",
    "svr_rbf = SVR(kernel='rbf', C=100.0, gamma='auto', epsilon=0.1,\n",
    "               coef0=1)\n",
    "\n",
    "# In this line we run the fit command to fit the training data and run predict\n",
    "# on the testing dataset \n",
    "y_rbf = svr_rbf.fit(X_train_reshaped, y_train.ravel()).predict(X_test_reshaped)\n",
    "\n",
    "# calculate the mean squared error given y_test and y_rbf, not y_rbf here\n",
    "# is the predicted value. 1 line of code\n",
    "\n",
    "print(\"mean squared error is {} \".format('####'))"
   ]
  },
  {
   "cell_type": "markdown",
   "metadata": {},
   "source": [
    "In this part you will determine the value of C for which the mean squared error is the smallest"
   ]
  },
  {
   "cell_type": "code",
   "execution_count": 5,
   "metadata": {
    "ExecuteTime": {
     "end_time": "2020-05-04T15:57:24.695259Z",
     "start_time": "2020-05-04T15:57:24.605422Z"
    }
   },
   "outputs": [
    {
     "name": "stdout",
     "output_type": "stream",
     "text": [
      "mse is smallest for the C = 10\n"
     ]
    }
   ],
   "source": [
    "C = [x for x in range(1,20, 1)]\n",
    "C.append(1000)\n",
    "mse_values = {}\n",
    "\n",
    "for c in C: \n",
    "    # we need to do test train split\n",
    "    svr_rbf = SVR(kernel='rbf', C=c, gamma='auto', epsilon=0.1,\n",
    "                   coef0=1)\n",
    "\n",
    "    # In this line we run the fit command to fit the training data and run predict\n",
    "    # on the testing dataset \n",
    "    \n",
    "    # run the fit algorithm calcuate the mse_values, store these values\n",
    "    # in the mse_values dictionary. Note that you want to ensure that you can \n",
    "    # use the min value of mse to calculate the optimal value of c. 3 lines of code \n",
    "    \n",
    "\n",
    "#using the mse_values list determine the value of C \n",
    "# for which mse is a minimum\n",
    "min_key = # which key in mse_values will have the min value\n",
    "optimal_c = # from the min key get the optimal c value \n",
    "print(\"mse is optimal for the C = {}\".format(optimal_c))\n"
   ]
  },
  {
   "cell_type": "markdown",
   "metadata": {
    "ExecuteTime": {
     "end_time": "2020-05-04T15:27:55.252324Z",
     "start_time": "2020-05-04T15:27:55.243101Z"
    }
   },
   "source": [
    "mse is smallest for the C = 10"
   ]
  },
  {
   "cell_type": "code",
   "execution_count": 6,
   "metadata": {
    "ExecuteTime": {
     "end_time": "2020-05-04T15:57:24.730072Z",
     "start_time": "2020-05-04T15:57:24.696119Z"
    }
   },
   "outputs": [
    {
     "name": "stdout",
     "output_type": "stream",
     "text": [
      "mse is smallest for the e = 0.5\n"
     ]
    }
   ],
   "source": [
    "# using the smallest c value that we acquired, calcuate the smallest epsilon value. \n",
    "# we have a list of predefined values\n",
    "\n",
    "eps = [0.01, 0.1, 0.2, 0.5, 0.7, 1.0, 2.0 ,5.0, 10.0]\n",
    "mse_values = {}\n",
    "\n",
    "for e in eps: \n",
    "        # we need to do test train split\n",
    "        svr_rbf = SVR(kernel='rbf', C=smallest_c, gamma='auto', epsilon=e,\n",
    "                       coef0=1)\n",
    "\n",
    "        # In this line we run the fit command to fit the training data and run predict\n",
    "        # on the testing dataset \n",
    "        \n",
    "        # run the fit algorithm calcuate the mse_values, store these values\n",
    "        # in the mse_values dictionary. Note that you want to ensure that you can \n",
    "        # use the min value of mse to calculate the optimal value of c. 3 lines of code \n",
    "\n",
    "\n",
    "#using the mse_values list determine the value of epsilion \n",
    "# for which mse is a minimum\n",
    "min_key = # which key in mse_values will have the min value\n",
    "optimal_e = # from the min key get the optimal c value \n",
    "print(\"mse is smallest for the e = {}\".format(optimal_e))\n"
   ]
  },
  {
   "cell_type": "markdown",
   "metadata": {},
   "source": [
    "mse is smallest for the e = 0.5"
   ]
  },
  {
   "cell_type": "code",
   "execution_count": 7,
   "metadata": {
    "ExecuteTime": {
     "end_time": "2020-05-04T15:57:24.737498Z",
     "start_time": "2020-05-04T15:57:24.730857Z"
    }
   },
   "outputs": [
    {
     "name": "stdout",
     "output_type": "stream",
     "text": [
      "mean squared error is 26.331433952419548 \n"
     ]
    }
   ],
   "source": [
    "# putting it all together\n",
    "svr_rbf = SVR(kernel='rbf', C=smallest_c, gamma='auto', epsilon=smallest_e,\n",
    "               coef0=1)\n",
    "\n",
    "# In this line we run the fit command to fit the training data and run predict\n",
    "# on the testing dataset \n",
    "y_rbf = svr_rbf.fit(X_train_reshaped, y_train.ravel()).predict(X_test_reshaped)\n",
    "\n",
    "mse_value = # calcuate the mse_value, same as you did the first time \n",
    "print(\"mean squared error is {} \".format(mse_value))"
   ]
  },
  {
   "cell_type": "markdown",
   "metadata": {
    "ExecuteTime": {
     "end_time": "2020-05-04T15:30:58.521141Z",
     "start_time": "2020-05-04T15:30:58.499940Z"
    }
   },
   "source": [
    "mean squared error is 26.331433952419548 "
   ]
  },
  {
   "cell_type": "markdown",
   "metadata": {},
   "source": [
    "While the improvement in the mean square error value is minimal, this goes to show that there is a set of parameters for which the error is the smallest. "
   ]
  },
  {
   "cell_type": "code",
   "execution_count": null,
   "metadata": {},
   "outputs": [],
   "source": []
  }
 ],
 "metadata": {
  "kernelspec": {
   "display_name": "Python 3",
   "language": "python",
   "name": "python3"
  },
  "language_info": {
   "codemirror_mode": {
    "name": "ipython",
    "version": 3
   },
   "file_extension": ".py",
   "mimetype": "text/x-python",
   "name": "python",
   "nbconvert_exporter": "python",
   "pygments_lexer": "ipython3",
   "version": "3.7.3"
  },
  "latex_envs": {
   "LaTeX_envs_menu_present": true,
   "autoclose": false,
   "autocomplete": true,
   "bibliofile": "biblio.bib",
   "cite_by": "apalike",
   "current_citInitial": 1,
   "eqLabelWithNumbers": true,
   "eqNumInitial": 1,
   "hotkeys": {
    "equation": "Ctrl-E",
    "itemize": "Ctrl-I"
   },
   "labels_anchors": false,
   "latex_user_defs": false,
   "report_style_numbering": false,
   "user_envs_cfg": false
  },
  "toc": {
   "base_numbering": 1,
   "nav_menu": {},
   "number_sections": false,
   "sideBar": true,
   "skip_h1_title": false,
   "title_cell": "Table of Contents",
   "title_sidebar": "Contents",
   "toc_cell": false,
   "toc_position": {},
   "toc_section_display": true,
   "toc_window_display": false
  },
  "varInspector": {
   "cols": {
    "lenName": 16,
    "lenType": 16,
    "lenVar": 40
   },
   "kernels_config": {
    "python": {
     "delete_cmd_postfix": "",
     "delete_cmd_prefix": "del ",
     "library": "var_list.py",
     "varRefreshCmd": "print(var_dic_list())"
    },
    "r": {
     "delete_cmd_postfix": ") ",
     "delete_cmd_prefix": "rm(",
     "library": "var_list.r",
     "varRefreshCmd": "cat(var_dic_list()) "
    }
   },
   "types_to_exclude": [
    "module",
    "function",
    "builtin_function_or_method",
    "instance",
    "_Feature"
   ],
   "window_display": false
  }
 },
 "nbformat": 4,
 "nbformat_minor": 2
}
