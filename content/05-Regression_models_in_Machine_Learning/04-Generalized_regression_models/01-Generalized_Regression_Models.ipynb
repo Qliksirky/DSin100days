{
 "cells": [
  {
   "cell_type": "markdown",
   "metadata": {},
   "source": [
    "# Generalized Linear Models\n",
    "\n",
    "This section tries to present a general form of linear prediction models. This notebook is more theoretical in nature with a few implementable examples. The idea of a generalized model is that, it is the basic premise on which a prediction model is constructed. The prediction model can be utilized for regression (prediction of a continuous variable) or classification (prediction of a categorical variable). In this current module (the Regression Module) we will be learning about various regression models which are specialized version of the GLM used for regression. In the next module (the Classification Module) we will be learning about a few specialized versions of the GLM which would be used to predict categorical variables by classification.\n",
    "\n",
    "## The Linear Model and The Generalized Form\n",
    "\n",
    "The simple linear regression model has a couple of assumptions. \n",
    "\n",
    "* It assumes that the effect of predictors $x$ on the predicted variable $y$ is linear in nature.\n",
    "* It assumes that the values of $y$, given values of $x$, are normally distributed. i.e. $y$ is normally distributed.\n",
    "\n",
    "These two assumptions greatly restrict the results we can see from a prediction model. The generalized form of a linear regression model acheives a certain flexibility in modeling by not assuming the above two things - it doesn't assume that $y$ is normally distributed and it doesn't assume that the effect of $x$ on $y$ can be modeled only by a linear function.\n",
    "\n",
    "The generalized form of a regression model says that there are 3 basic components of a prediction model:\n",
    "\n",
    "* The random component: This specifies the distribution of $y|x$. (Read as y given x)\n",
    "* The systematic component: This specifies the combination of $x$ predictors in the model. i.e. say $\\beta_{0} + \\beta_{1}x + \\beta_{2}x^2 + ... \\beta_{n}x^n$\n",
    "* The link function: The function that links the random and systematic components, i.e. how does the response variable $y$ relate to the combination of predictors $x$.\n",
    "\n",
    "The link function can be linear, logarithmic, exponential, complimentary log-log etc. depending upon the assumed distribution for $y$ which can be Normal, Gamma, Invers-normal, Poisson etc.\n",
    "\n",
    "## Generalized Form vs Ordinary Least Squares\n",
    "\n",
    "The simple linear regression can be said to be a special case of the Generalized Regression Model. We use the Ordinary Least Square (OLS) method to calculate the line of best fit in a simple linear regression model. We do so by minimizing the 'cost function'. The 'cost function' defines how far apart is reality from the predicted/estimated values. \n",
    "\n",
    "In ordinary least squares method of estimation we calculate the value of the parameters by calculating the global/local minima. If the $y$ variable is not normally distributed, we would have to transform the response variable $y$ in order to apply OLS estimation. However, transformation would change the meaning of the variable and thereby affect interpretation.\n",
    "\n",
    "In a GLM, we do not have to transform the $y$ variable and the choice of the link function is separate from the choice of the random component $y$, hence we have more flexibility in modeling. We may choose from a wide range of link functions and also a wide range of regularization functions (penalization functions which affect parameters, you will learn about these in Regularized models).\n",
    "\n",
    "Also, the GLM is modeled by using the maximum likelihood estimation techniques. The parameters $\\beta_{0}, \\beta_{1}, \\beta_{2}, ... \\beta_{n}$ are estimated using MLE techniques like Fisher Scoring or Newton-Rhapson which are iterative in computation.\n",
    "\n",
    "## Implementation of a GLM in Python\n",
    "\n",
    "There are multiple ways to model a GLM to a given data in Python.\n",
    "\n",
    "1. Statsmodels GLM: The statsmodels library has a GLM function that can be used to fit a generalized model with a wide variety of link functions. Documentation Reference: https://www.statsmodels.org/stable/glm.html\n",
    "2. Pyglmnet: This is another python library that also has a wide range of regularization functions for the systematic component in the model and also wide range of options for the link function. Documentation Reference: http://glm-tools.github.io/pyglmnet/\n",
    "3. Machine Learning Approach: You can also custom code a GLM function and use Fisher Scoring technique to calculate parameters. Example: https://medium.com/coinmonks/visualizing-brain-imaging-data-fmri-with-python-3e1899d1e212\n",
    "\n",
    "In this section we will implement a GLM from statsmodel library on the data set we had earlier used in polynomial regression section.\n",
    "\n",
    "#### Exercise\n",
    "\n",
    "Run through the following code to implement the GLM.\n",
    "\n",
    "First run the below code to create the dataset."
   ]
  },
  {
   "cell_type": "code",
   "execution_count": 1,
   "metadata": {},
   "outputs": [],
   "source": [
    "# Importing numpy to generate data\n",
    "import numpy as np\n",
    "\n",
    "# Setting seed to recreate same random sampling\n",
    "np.random.seed(1111)\n",
    "\n",
    "# Sampling x from a normal distribution and deriving y from a polynomial function of x\n",
    "x = 0.73 - np.random.normal(0,1,100)\n",
    "y = 3.4 - 2.6*x + 4.7*(x**2) - 3.9*(x**3) + 6.1*(x**4) + np.random.normal(-8,12,100)"
   ]
  },
  {
   "cell_type": "markdown",
   "metadata": {
    "hide_input": true
   },
   "source": [
    "### Solution code\n",
    "\n",
    "```python\n",
    "# Just run above code\n",
    "```"
   ]
  },
  {
   "cell_type": "markdown",
   "metadata": {},
   "source": [
    "Now we can simply apply the GLM model by using the calling the GLM function and its associated fit(), predict(), summary() functions.\n",
    "\n",
    "We fit the model by simply importing the statsmodel.api library. GLM() function takes three main arguments -\n",
    "1. The random component - y\n",
    "2. The systematic component - x\n",
    "3. The family function - points to the distribution function of y\n",
    "\n",
    "The model automatically uses the best suited link function for the given family.\n",
    "\n",
    "Note: In the above given data, we can assume that the $y$, response variable, is normally distributed and proceed with our model."
   ]
  },
  {
   "cell_type": "code",
   "execution_count": 14,
   "metadata": {},
   "outputs": [],
   "source": [
    "import statsmodels.api as sm\n",
    "\n",
    "poly_glm = sm.GLM(y, x, family=sm.families.Gaussian())"
   ]
  },
  {
   "cell_type": "markdown",
   "metadata": {
    "hide_input": true
   },
   "source": [
    "### Solution code\n",
    "\n",
    "```python\n",
    "# Just run above code\n",
    "```"
   ]
  },
  {
   "cell_type": "markdown",
   "metadata": {},
   "source": [
    "We can now fit the model and take a look at the summary statistics. We use the fit() and summary() methods for this"
   ]
  },
  {
   "cell_type": "code",
   "execution_count": 15,
   "metadata": {},
   "outputs": [
    {
     "name": "stdout",
     "output_type": "stream",
     "text": [
      "                 Generalized Linear Model Regression Results                  \n",
      "==============================================================================\n",
      "Dep. Variable:                      y   No. Observations:                  100\n",
      "Model:                            GLM   Df Residuals:                       99\n",
      "Model Family:                Gaussian   Df Model:                            0\n",
      "Link Function:               identity   Scale:                          3262.1\n",
      "Method:                          IRLS   Log-Likelihood:                -545.90\n",
      "Date:                Mon, 29 Apr 2019   Deviance:                   3.2294e+05\n",
      "Time:                        21:13:14   Pearson chi2:                 3.23e+05\n",
      "No. Iterations:                     3   Covariance Type:             nonrobust\n",
      "==============================================================================\n",
      "                 coef    std err          z      P>|z|      [0.025      0.975]\n",
      "------------------------------------------------------------------------------\n",
      "x1            33.6009      4.609      7.290      0.000      24.567      42.635\n",
      "==============================================================================\n"
     ]
    }
   ],
   "source": [
    "poly_glm_res = poly_glm.fit()\n",
    "print(poly_glm_res.summary())"
   ]
  },
  {
   "cell_type": "markdown",
   "metadata": {
    "hide_input": true
   },
   "source": [
    "### Solution code\n",
    "\n",
    "```python\n",
    "# Just run above code\n",
    "```"
   ]
  },
  {
   "cell_type": "markdown",
   "metadata": {},
   "source": [
    "Now to predict the values, we use the predict() function."
   ]
  },
  {
   "cell_type": "code",
   "execution_count": 25,
   "metadata": {},
   "outputs": [],
   "source": [
    "y_pred = poly_glm_res.predict()"
   ]
  },
  {
   "cell_type": "markdown",
   "metadata": {
    "hide_input": true
   },
   "source": [
    "### Solution code\n",
    "\n",
    "```python\n",
    "# Just run above code\n",
    "```"
   ]
  },
  {
   "cell_type": "markdown",
   "metadata": {},
   "source": [
    "Let us plot the results obtained."
   ]
  },
  {
   "cell_type": "code",
   "execution_count": 29,
   "metadata": {},
   "outputs": [
    {
     "data": {
      "text/html": [
       "<script type=\"text/javascript\">window.PlotlyConfig = {MathJaxConfig: 'local'};</script><script type=\"text/javascript\">if (window.MathJax) {MathJax.Hub.Config({SVG: {font: \"STIX-Web\"}});}</script><script>requirejs.config({paths: { 'plotly': ['https://cdn.plot.ly/plotly-latest.min']},});if(!window._Plotly) {require(['plotly'],function(plotly) {window._Plotly=plotly;});}</script>"
      ],
      "text/vnd.plotly.v1+html": [
       "<script type=\"text/javascript\">window.PlotlyConfig = {MathJaxConfig: 'local'};</script><script type=\"text/javascript\">if (window.MathJax) {MathJax.Hub.Config({SVG: {font: \"STIX-Web\"}});}</script><script>requirejs.config({paths: { 'plotly': ['https://cdn.plot.ly/plotly-latest.min']},});if(!window._Plotly) {require(['plotly'],function(plotly) {window._Plotly=plotly;});}</script>"
      ]
     },
     "metadata": {},
     "output_type": "display_data"
    },
    {
     "data": {
      "text/html": [
       "\n",
       "    <div class=\"bk-root\">\n",
       "        <a href=\"https://bokeh.pydata.org\" target=\"_blank\" class=\"bk-logo bk-logo-small bk-logo-notebook\"></a>\n",
       "        <span id=\"8dc465c7-279d-4105-a19e-5a36066c9b8b\">Loading BokehJS ...</span>\n",
       "    </div>"
      ]
     },
     "metadata": {},
     "output_type": "display_data"
    },
    {
     "data": {
      "application/javascript": [
       "\n",
       "(function(root) {\n",
       "  function now() {\n",
       "    return new Date();\n",
       "  }\n",
       "\n",
       "  var force = true;\n",
       "\n",
       "  if (typeof (root._bokeh_onload_callbacks) === \"undefined\" || force === true) {\n",
       "    root._bokeh_onload_callbacks = [];\n",
       "    root._bokeh_is_loading = undefined;\n",
       "  }\n",
       "\n",
       "  var JS_MIME_TYPE = 'application/javascript';\n",
       "  var HTML_MIME_TYPE = 'text/html';\n",
       "  var EXEC_MIME_TYPE = 'application/vnd.bokehjs_exec.v0+json';\n",
       "  var CLASS_NAME = 'output_bokeh rendered_html';\n",
       "\n",
       "  /**\n",
       "   * Render data to the DOM node\n",
       "   */\n",
       "  function render(props, node) {\n",
       "    var script = document.createElement(\"script\");\n",
       "    node.appendChild(script);\n",
       "  }\n",
       "\n",
       "  /**\n",
       "   * Handle when an output is cleared or removed\n",
       "   */\n",
       "  function handleClearOutput(event, handle) {\n",
       "    var cell = handle.cell;\n",
       "\n",
       "    var id = cell.output_area._bokeh_element_id;\n",
       "    var server_id = cell.output_area._bokeh_server_id;\n",
       "    // Clean up Bokeh references\n",
       "    if (id !== undefined) {\n",
       "      Bokeh.index[id].model.document.clear();\n",
       "      delete Bokeh.index[id];\n",
       "    }\n",
       "\n",
       "    if (server_id !== undefined) {\n",
       "      // Clean up Bokeh references\n",
       "      var cmd = \"from bokeh.io.state import curstate; print(curstate().uuid_to_server['\" + server_id + \"'].get_sessions()[0].document.roots[0]._id)\";\n",
       "      cell.notebook.kernel.execute(cmd, {\n",
       "        iopub: {\n",
       "          output: function(msg) {\n",
       "            var element_id = msg.content.text.trim();\n",
       "            Bokeh.index[element_id].model.document.clear();\n",
       "            delete Bokeh.index[element_id];\n",
       "          }\n",
       "        }\n",
       "      });\n",
       "      // Destroy server and session\n",
       "      var cmd = \"import bokeh.io.notebook as ion; ion.destroy_server('\" + server_id + \"')\";\n",
       "      cell.notebook.kernel.execute(cmd);\n",
       "    }\n",
       "  }\n",
       "\n",
       "  /**\n",
       "   * Handle when a new output is added\n",
       "   */\n",
       "  function handleAddOutput(event, handle) {\n",
       "    var output_area = handle.output_area;\n",
       "    var output = handle.output;\n",
       "\n",
       "    // limit handleAddOutput to display_data with EXEC_MIME_TYPE content only\n",
       "    if ((output.output_type != \"display_data\") || (!output.data.hasOwnProperty(EXEC_MIME_TYPE))) {\n",
       "      return\n",
       "    }\n",
       "\n",
       "    var toinsert = output_area.element.find(\".\" + CLASS_NAME.split(' ')[0]);\n",
       "\n",
       "    if (output.metadata[EXEC_MIME_TYPE][\"id\"] !== undefined) {\n",
       "      toinsert[toinsert.length - 1].firstChild.textContent = output.data[JS_MIME_TYPE];\n",
       "      // store reference to embed id on output_area\n",
       "      output_area._bokeh_element_id = output.metadata[EXEC_MIME_TYPE][\"id\"];\n",
       "    }\n",
       "    if (output.metadata[EXEC_MIME_TYPE][\"server_id\"] !== undefined) {\n",
       "      var bk_div = document.createElement(\"div\");\n",
       "      bk_div.innerHTML = output.data[HTML_MIME_TYPE];\n",
       "      var script_attrs = bk_div.children[0].attributes;\n",
       "      for (var i = 0; i < script_attrs.length; i++) {\n",
       "        toinsert[toinsert.length - 1].firstChild.setAttribute(script_attrs[i].name, script_attrs[i].value);\n",
       "      }\n",
       "      // store reference to server id on output_area\n",
       "      output_area._bokeh_server_id = output.metadata[EXEC_MIME_TYPE][\"server_id\"];\n",
       "    }\n",
       "  }\n",
       "\n",
       "  function register_renderer(events, OutputArea) {\n",
       "\n",
       "    function append_mime(data, metadata, element) {\n",
       "      // create a DOM node to render to\n",
       "      var toinsert = this.create_output_subarea(\n",
       "        metadata,\n",
       "        CLASS_NAME,\n",
       "        EXEC_MIME_TYPE\n",
       "      );\n",
       "      this.keyboard_manager.register_events(toinsert);\n",
       "      // Render to node\n",
       "      var props = {data: data, metadata: metadata[EXEC_MIME_TYPE]};\n",
       "      render(props, toinsert[toinsert.length - 1]);\n",
       "      element.append(toinsert);\n",
       "      return toinsert\n",
       "    }\n",
       "\n",
       "    /* Handle when an output is cleared or removed */\n",
       "    events.on('clear_output.CodeCell', handleClearOutput);\n",
       "    events.on('delete.Cell', handleClearOutput);\n",
       "\n",
       "    /* Handle when a new output is added */\n",
       "    events.on('output_added.OutputArea', handleAddOutput);\n",
       "\n",
       "    /**\n",
       "     * Register the mime type and append_mime function with output_area\n",
       "     */\n",
       "    OutputArea.prototype.register_mime_type(EXEC_MIME_TYPE, append_mime, {\n",
       "      /* Is output safe? */\n",
       "      safe: true,\n",
       "      /* Index of renderer in `output_area.display_order` */\n",
       "      index: 0\n",
       "    });\n",
       "  }\n",
       "\n",
       "  // register the mime type if in Jupyter Notebook environment and previously unregistered\n",
       "  if (root.Jupyter !== undefined) {\n",
       "    var events = require('base/js/events');\n",
       "    var OutputArea = require('notebook/js/outputarea').OutputArea;\n",
       "\n",
       "    if (OutputArea.prototype.mime_types().indexOf(EXEC_MIME_TYPE) == -1) {\n",
       "      register_renderer(events, OutputArea);\n",
       "    }\n",
       "  }\n",
       "\n",
       "  \n",
       "  if (typeof (root._bokeh_timeout) === \"undefined\" || force === true) {\n",
       "    root._bokeh_timeout = Date.now() + 5000;\n",
       "    root._bokeh_failed_load = false;\n",
       "  }\n",
       "\n",
       "  var NB_LOAD_WARNING = {'data': {'text/html':\n",
       "     \"<div style='background-color: #fdd'>\\n\"+\n",
       "     \"<p>\\n\"+\n",
       "     \"BokehJS does not appear to have successfully loaded. If loading BokehJS from CDN, this \\n\"+\n",
       "     \"may be due to a slow or bad network connection. Possible fixes:\\n\"+\n",
       "     \"</p>\\n\"+\n",
       "     \"<ul>\\n\"+\n",
       "     \"<li>re-rerun `output_notebook()` to attempt to load from CDN again, or</li>\\n\"+\n",
       "     \"<li>use INLINE resources instead, as so:</li>\\n\"+\n",
       "     \"</ul>\\n\"+\n",
       "     \"<code>\\n\"+\n",
       "     \"from bokeh.resources import INLINE\\n\"+\n",
       "     \"output_notebook(resources=INLINE)\\n\"+\n",
       "     \"</code>\\n\"+\n",
       "     \"</div>\"}};\n",
       "\n",
       "  function display_loaded() {\n",
       "    var el = document.getElementById(\"8dc465c7-279d-4105-a19e-5a36066c9b8b\");\n",
       "    if (el != null) {\n",
       "      el.textContent = \"BokehJS is loading...\";\n",
       "    }\n",
       "    if (root.Bokeh !== undefined) {\n",
       "      if (el != null) {\n",
       "        el.textContent = \"BokehJS \" + root.Bokeh.version + \" successfully loaded.\";\n",
       "      }\n",
       "    } else if (Date.now() < root._bokeh_timeout) {\n",
       "      setTimeout(display_loaded, 100)\n",
       "    }\n",
       "  }\n",
       "\n",
       "\n",
       "  function run_callbacks() {\n",
       "    try {\n",
       "      root._bokeh_onload_callbacks.forEach(function(callback) { callback() });\n",
       "    }\n",
       "    finally {\n",
       "      delete root._bokeh_onload_callbacks\n",
       "    }\n",
       "    console.info(\"Bokeh: all callbacks have finished\");\n",
       "  }\n",
       "\n",
       "  function load_libs(js_urls, callback) {\n",
       "    root._bokeh_onload_callbacks.push(callback);\n",
       "    if (root._bokeh_is_loading > 0) {\n",
       "      console.log(\"Bokeh: BokehJS is being loaded, scheduling callback at\", now());\n",
       "      return null;\n",
       "    }\n",
       "    if (js_urls == null || js_urls.length === 0) {\n",
       "      run_callbacks();\n",
       "      return null;\n",
       "    }\n",
       "    console.log(\"Bokeh: BokehJS not loaded, scheduling load and callback at\", now());\n",
       "    root._bokeh_is_loading = js_urls.length;\n",
       "    for (var i = 0; i < js_urls.length; i++) {\n",
       "      var url = js_urls[i];\n",
       "      var s = document.createElement('script');\n",
       "      s.src = url;\n",
       "      s.async = false;\n",
       "      s.onreadystatechange = s.onload = function() {\n",
       "        root._bokeh_is_loading--;\n",
       "        if (root._bokeh_is_loading === 0) {\n",
       "          console.log(\"Bokeh: all BokehJS libraries loaded\");\n",
       "          run_callbacks()\n",
       "        }\n",
       "      };\n",
       "      s.onerror = function() {\n",
       "        console.warn(\"failed to load library \" + url);\n",
       "      };\n",
       "      console.log(\"Bokeh: injecting script tag for BokehJS library: \", url);\n",
       "      document.getElementsByTagName(\"head\")[0].appendChild(s);\n",
       "    }\n",
       "  };var element = document.getElementById(\"8dc465c7-279d-4105-a19e-5a36066c9b8b\");\n",
       "  if (element == null) {\n",
       "    console.log(\"Bokeh: ERROR: autoload.js configured with elementid '8dc465c7-279d-4105-a19e-5a36066c9b8b' but no matching script tag was found. \")\n",
       "    return false;\n",
       "  }\n",
       "\n",
       "  var js_urls = [\"https://cdn.pydata.org/bokeh/release/bokeh-0.12.16.min.js\", \"https://cdn.pydata.org/bokeh/release/bokeh-widgets-0.12.16.min.js\", \"https://cdn.pydata.org/bokeh/release/bokeh-tables-0.12.16.min.js\", \"https://cdn.pydata.org/bokeh/release/bokeh-gl-0.12.16.min.js\"];\n",
       "\n",
       "  var inline_js = [\n",
       "    function(Bokeh) {\n",
       "      Bokeh.set_log_level(\"info\");\n",
       "    },\n",
       "    \n",
       "    function(Bokeh) {\n",
       "      \n",
       "    },\n",
       "    function(Bokeh) {\n",
       "      console.log(\"Bokeh: injecting CSS: https://cdn.pydata.org/bokeh/release/bokeh-0.12.16.min.css\");\n",
       "      Bokeh.embed.inject_css(\"https://cdn.pydata.org/bokeh/release/bokeh-0.12.16.min.css\");\n",
       "      console.log(\"Bokeh: injecting CSS: https://cdn.pydata.org/bokeh/release/bokeh-widgets-0.12.16.min.css\");\n",
       "      Bokeh.embed.inject_css(\"https://cdn.pydata.org/bokeh/release/bokeh-widgets-0.12.16.min.css\");\n",
       "      console.log(\"Bokeh: injecting CSS: https://cdn.pydata.org/bokeh/release/bokeh-tables-0.12.16.min.css\");\n",
       "      Bokeh.embed.inject_css(\"https://cdn.pydata.org/bokeh/release/bokeh-tables-0.12.16.min.css\");\n",
       "    }\n",
       "  ];\n",
       "\n",
       "  function run_inline_js() {\n",
       "    \n",
       "    if ((root.Bokeh !== undefined) || (force === true)) {\n",
       "      for (var i = 0; i < inline_js.length; i++) {\n",
       "        inline_js[i].call(root, root.Bokeh);\n",
       "      }if (force === true) {\n",
       "        display_loaded();\n",
       "      }} else if (Date.now() < root._bokeh_timeout) {\n",
       "      setTimeout(run_inline_js, 100);\n",
       "    } else if (!root._bokeh_failed_load) {\n",
       "      console.log(\"Bokeh: BokehJS failed to load within specified timeout.\");\n",
       "      root._bokeh_failed_load = true;\n",
       "    } else if (force !== true) {\n",
       "      var cell = $(document.getElementById(\"8dc465c7-279d-4105-a19e-5a36066c9b8b\")).parents('.cell').data().cell;\n",
       "      cell.output_area.append_execute_result(NB_LOAD_WARNING)\n",
       "    }\n",
       "\n",
       "  }\n",
       "\n",
       "  if (root._bokeh_is_loading === 0) {\n",
       "    console.log(\"Bokeh: BokehJS loaded, going straight to plotting\");\n",
       "    run_inline_js();\n",
       "  } else {\n",
       "    load_libs(js_urls, function() {\n",
       "      console.log(\"Bokeh: BokehJS plotting callback run at\", now());\n",
       "      run_inline_js();\n",
       "    });\n",
       "  }\n",
       "}(window));"
      ],
      "application/vnd.bokehjs_load.v0+json": "\n(function(root) {\n  function now() {\n    return new Date();\n  }\n\n  var force = true;\n\n  if (typeof (root._bokeh_onload_callbacks) === \"undefined\" || force === true) {\n    root._bokeh_onload_callbacks = [];\n    root._bokeh_is_loading = undefined;\n  }\n\n  \n\n  \n  if (typeof (root._bokeh_timeout) === \"undefined\" || force === true) {\n    root._bokeh_timeout = Date.now() + 5000;\n    root._bokeh_failed_load = false;\n  }\n\n  var NB_LOAD_WARNING = {'data': {'text/html':\n     \"<div style='background-color: #fdd'>\\n\"+\n     \"<p>\\n\"+\n     \"BokehJS does not appear to have successfully loaded. If loading BokehJS from CDN, this \\n\"+\n     \"may be due to a slow or bad network connection. Possible fixes:\\n\"+\n     \"</p>\\n\"+\n     \"<ul>\\n\"+\n     \"<li>re-rerun `output_notebook()` to attempt to load from CDN again, or</li>\\n\"+\n     \"<li>use INLINE resources instead, as so:</li>\\n\"+\n     \"</ul>\\n\"+\n     \"<code>\\n\"+\n     \"from bokeh.resources import INLINE\\n\"+\n     \"output_notebook(resources=INLINE)\\n\"+\n     \"</code>\\n\"+\n     \"</div>\"}};\n\n  function display_loaded() {\n    var el = document.getElementById(\"8dc465c7-279d-4105-a19e-5a36066c9b8b\");\n    if (el != null) {\n      el.textContent = \"BokehJS is loading...\";\n    }\n    if (root.Bokeh !== undefined) {\n      if (el != null) {\n        el.textContent = \"BokehJS \" + root.Bokeh.version + \" successfully loaded.\";\n      }\n    } else if (Date.now() < root._bokeh_timeout) {\n      setTimeout(display_loaded, 100)\n    }\n  }\n\n\n  function run_callbacks() {\n    try {\n      root._bokeh_onload_callbacks.forEach(function(callback) { callback() });\n    }\n    finally {\n      delete root._bokeh_onload_callbacks\n    }\n    console.info(\"Bokeh: all callbacks have finished\");\n  }\n\n  function load_libs(js_urls, callback) {\n    root._bokeh_onload_callbacks.push(callback);\n    if (root._bokeh_is_loading > 0) {\n      console.log(\"Bokeh: BokehJS is being loaded, scheduling callback at\", now());\n      return null;\n    }\n    if (js_urls == null || js_urls.length === 0) {\n      run_callbacks();\n      return null;\n    }\n    console.log(\"Bokeh: BokehJS not loaded, scheduling load and callback at\", now());\n    root._bokeh_is_loading = js_urls.length;\n    for (var i = 0; i < js_urls.length; i++) {\n      var url = js_urls[i];\n      var s = document.createElement('script');\n      s.src = url;\n      s.async = false;\n      s.onreadystatechange = s.onload = function() {\n        root._bokeh_is_loading--;\n        if (root._bokeh_is_loading === 0) {\n          console.log(\"Bokeh: all BokehJS libraries loaded\");\n          run_callbacks()\n        }\n      };\n      s.onerror = function() {\n        console.warn(\"failed to load library \" + url);\n      };\n      console.log(\"Bokeh: injecting script tag for BokehJS library: \", url);\n      document.getElementsByTagName(\"head\")[0].appendChild(s);\n    }\n  };var element = document.getElementById(\"8dc465c7-279d-4105-a19e-5a36066c9b8b\");\n  if (element == null) {\n    console.log(\"Bokeh: ERROR: autoload.js configured with elementid '8dc465c7-279d-4105-a19e-5a36066c9b8b' but no matching script tag was found. \")\n    return false;\n  }\n\n  var js_urls = [\"https://cdn.pydata.org/bokeh/release/bokeh-0.12.16.min.js\", \"https://cdn.pydata.org/bokeh/release/bokeh-widgets-0.12.16.min.js\", \"https://cdn.pydata.org/bokeh/release/bokeh-tables-0.12.16.min.js\", \"https://cdn.pydata.org/bokeh/release/bokeh-gl-0.12.16.min.js\"];\n\n  var inline_js = [\n    function(Bokeh) {\n      Bokeh.set_log_level(\"info\");\n    },\n    \n    function(Bokeh) {\n      \n    },\n    function(Bokeh) {\n      console.log(\"Bokeh: injecting CSS: https://cdn.pydata.org/bokeh/release/bokeh-0.12.16.min.css\");\n      Bokeh.embed.inject_css(\"https://cdn.pydata.org/bokeh/release/bokeh-0.12.16.min.css\");\n      console.log(\"Bokeh: injecting CSS: https://cdn.pydata.org/bokeh/release/bokeh-widgets-0.12.16.min.css\");\n      Bokeh.embed.inject_css(\"https://cdn.pydata.org/bokeh/release/bokeh-widgets-0.12.16.min.css\");\n      console.log(\"Bokeh: injecting CSS: https://cdn.pydata.org/bokeh/release/bokeh-tables-0.12.16.min.css\");\n      Bokeh.embed.inject_css(\"https://cdn.pydata.org/bokeh/release/bokeh-tables-0.12.16.min.css\");\n    }\n  ];\n\n  function run_inline_js() {\n    \n    if ((root.Bokeh !== undefined) || (force === true)) {\n      for (var i = 0; i < inline_js.length; i++) {\n        inline_js[i].call(root, root.Bokeh);\n      }if (force === true) {\n        display_loaded();\n      }} else if (Date.now() < root._bokeh_timeout) {\n      setTimeout(run_inline_js, 100);\n    } else if (!root._bokeh_failed_load) {\n      console.log(\"Bokeh: BokehJS failed to load within specified timeout.\");\n      root._bokeh_failed_load = true;\n    } else if (force !== true) {\n      var cell = $(document.getElementById(\"8dc465c7-279d-4105-a19e-5a36066c9b8b\")).parents('.cell').data().cell;\n      cell.output_area.append_execute_result(NB_LOAD_WARNING)\n    }\n\n  }\n\n  if (root._bokeh_is_loading === 0) {\n    console.log(\"Bokeh: BokehJS loaded, going straight to plotting\");\n    run_inline_js();\n  } else {\n    load_libs(js_urls, function() {\n      console.log(\"Bokeh: BokehJS plotting callback run at\", now());\n      run_inline_js();\n    });\n  }\n}(window));"
     },
     "metadata": {},
     "output_type": "display_data"
    },
    {
     "data": {
      "text/html": [
       "\n",
       "<div class=\"bk-root\">\n",
       "    <div class=\"bk-plotdiv\" id=\"348ed38a-0a33-41de-9a2d-46cd980af3e8\"></div>\n",
       "</div>"
      ]
     },
     "metadata": {},
     "output_type": "display_data"
    },
    {
     "data": {
      "application/javascript": [
       "(function(root) {\n",
       "  function embed_document(root) {\n",
       "    \n",
       "  var docs_json = {\"00d1bed1-c0a6-4735-8525-258d5df07bc7\":{\"roots\":{\"references\":[{\"attributes\":{\"fill_alpha\":{\"value\":0.1},\"fill_color\":{\"value\":\"#1f77b4\"},\"line_alpha\":{\"value\":0.1},\"line_color\":{\"value\":\"#1f77b4\"},\"size\":{\"units\":\"screen\",\"value\":10},\"x\":{\"field\":\"x\"},\"y\":{\"field\":\"y\"}},\"id\":\"5ca19ea0-7733-4d89-818c-eea706303cf8\",\"type\":\"Circle\"},{\"attributes\":{\"data_source\":{\"id\":\"9c641fff-1717-480a-b9f4-8fb1f2f0c4d4\",\"type\":\"ColumnDataSource\"},\"glyph\":{\"id\":\"9e7405e9-260f-4f59-9f82-09a8e7d9b6ad\",\"type\":\"Circle\"},\"hover_glyph\":null,\"muted_glyph\":null,\"nonselection_glyph\":{\"id\":\"5ca19ea0-7733-4d89-818c-eea706303cf8\",\"type\":\"Circle\"},\"selection_glyph\":null,\"view\":{\"id\":\"36881d8b-bbad-41be-9b83-7f806986c730\",\"type\":\"CDSView\"}},\"id\":\"ca35aca9-31df-4c8f-af68-84a9d3ba3489\",\"type\":\"GlyphRenderer\"},{\"attributes\":{\"fill_alpha\":{\"value\":0.5},\"fill_color\":{\"value\":\"navy\"},\"line_alpha\":{\"value\":0.5},\"line_color\":{\"value\":\"navy\"},\"size\":{\"units\":\"screen\",\"value\":10},\"x\":{\"field\":\"x\"},\"y\":{\"field\":\"y\"}},\"id\":\"9e7405e9-260f-4f59-9f82-09a8e7d9b6ad\",\"type\":\"Circle\"},{\"attributes\":{},\"id\":\"8d5d95e4-7e83-4fb7-a795-4eb8c754cd0a\",\"type\":\"BasicTickFormatter\"},{\"attributes\":{\"bottom_units\":\"screen\",\"fill_alpha\":{\"value\":0.5},\"fill_color\":{\"value\":\"lightgrey\"},\"left_units\":\"screen\",\"level\":\"overlay\",\"line_alpha\":{\"value\":1.0},\"line_color\":{\"value\":\"black\"},\"line_dash\":[4,4],\"line_width\":{\"value\":2},\"plot\":null,\"render_mode\":\"css\",\"right_units\":\"screen\",\"top_units\":\"screen\"},\"id\":\"fef8ac47-9ac6-4226-b3ea-5f04062259d1\",\"type\":\"BoxAnnotation\"},{\"attributes\":{},\"id\":\"567b9b34-3053-4837-986e-3226225914e8\",\"type\":\"PanTool\"},{\"attributes\":{\"source\":{\"id\":\"9c641fff-1717-480a-b9f4-8fb1f2f0c4d4\",\"type\":\"ColumnDataSource\"}},\"id\":\"36881d8b-bbad-41be-9b83-7f806986c730\",\"type\":\"CDSView\"},{\"attributes\":{},\"id\":\"bd601aa4-04c0-4cf5-bdbc-986e6d8c80e2\",\"type\":\"WheelZoomTool\"},{\"attributes\":{\"overlay\":{\"id\":\"fef8ac47-9ac6-4226-b3ea-5f04062259d1\",\"type\":\"BoxAnnotation\"}},\"id\":\"9a409ad1-ef83-4ae7-908d-9434b445f1fd\",\"type\":\"BoxZoomTool\"},{\"attributes\":{},\"id\":\"08f26c97-8dc2-40ab-8e91-3c39c60e29b7\",\"type\":\"SaveTool\"},{\"attributes\":{},\"id\":\"562350e4-1552-4dd5-ad7c-a324845aaa47\",\"type\":\"ResetTool\"},{\"attributes\":{},\"id\":\"66ce552e-e60c-4dff-a23e-5784b3583f2e\",\"type\":\"HelpTool\"},{\"attributes\":{\"line_color\":\"red\",\"line_width\":2,\"x\":{\"field\":\"x\"},\"y\":{\"field\":\"y\"}},\"id\":\"46d3fdcf-2065-4313-b98d-c504e9334beb\",\"type\":\"Line\"},{\"attributes\":{\"plot\":null,\"text\":\"\"},\"id\":\"8aa275f4-5b27-4674-870d-ba7dfa786e89\",\"type\":\"Title\"},{\"attributes\":{\"line_alpha\":0.1,\"line_color\":\"#1f77b4\",\"line_width\":2,\"x\":{\"field\":\"x\"},\"y\":{\"field\":\"y\"}},\"id\":\"a49a9a44-35ee-43de-9fa7-27ca43b7046f\",\"type\":\"Line\"},{\"attributes\":{\"source\":{\"id\":\"5ddc0b9b-0bdd-471d-ba35-b73768ff5fda\",\"type\":\"ColumnDataSource\"}},\"id\":\"60af0fba-ad25-4707-a55c-2edf6387dae7\",\"type\":\"CDSView\"},{\"attributes\":{\"data_source\":{\"id\":\"5ddc0b9b-0bdd-471d-ba35-b73768ff5fda\",\"type\":\"ColumnDataSource\"},\"glyph\":{\"id\":\"46d3fdcf-2065-4313-b98d-c504e9334beb\",\"type\":\"Line\"},\"hover_glyph\":null,\"muted_glyph\":null,\"nonselection_glyph\":{\"id\":\"a49a9a44-35ee-43de-9fa7-27ca43b7046f\",\"type\":\"Line\"},\"selection_glyph\":null,\"view\":{\"id\":\"60af0fba-ad25-4707-a55c-2edf6387dae7\",\"type\":\"CDSView\"}},\"id\":\"e5e3a185-d32e-40a7-b5ec-d790ff617a60\",\"type\":\"GlyphRenderer\"},{\"attributes\":{},\"id\":\"76b07a28-2341-43f5-b0c6-eaa985b28a83\",\"type\":\"BasicTickFormatter\"},{\"attributes\":{},\"id\":\"3ed631a2-f2e1-4b7c-a903-bede9219f1b4\",\"type\":\"Selection\"},{\"attributes\":{},\"id\":\"546501ab-a02b-42c1-9cf3-03c832bbd73f\",\"type\":\"UnionRenderers\"},{\"attributes\":{\"callback\":null},\"id\":\"3c72709e-d892-4664-834c-adde96c00829\",\"type\":\"DataRange1d\"},{\"attributes\":{\"active_drag\":\"auto\",\"active_inspect\":\"auto\",\"active_scroll\":\"auto\",\"active_tap\":\"auto\",\"tools\":[{\"id\":\"567b9b34-3053-4837-986e-3226225914e8\",\"type\":\"PanTool\"},{\"id\":\"bd601aa4-04c0-4cf5-bdbc-986e6d8c80e2\",\"type\":\"WheelZoomTool\"},{\"id\":\"9a409ad1-ef83-4ae7-908d-9434b445f1fd\",\"type\":\"BoxZoomTool\"},{\"id\":\"08f26c97-8dc2-40ab-8e91-3c39c60e29b7\",\"type\":\"SaveTool\"},{\"id\":\"562350e4-1552-4dd5-ad7c-a324845aaa47\",\"type\":\"ResetTool\"},{\"id\":\"66ce552e-e60c-4dff-a23e-5784b3583f2e\",\"type\":\"HelpTool\"}]},\"id\":\"87008123-f85d-4511-916f-e138e249d620\",\"type\":\"Toolbar\"},{\"attributes\":{},\"id\":\"ef3df4d0-021a-447a-954c-532ab0efb87d\",\"type\":\"Selection\"},{\"attributes\":{\"callback\":null,\"data\":{\"x\":[-1.2605662218904048,-1.0840121773437708,-1.012930873474014,-0.948828880029418,-0.9384287097355473,-0.728514352626253,-0.6089042014477566,-0.5560594344758636,-0.5343819817700612,-0.5219316503257716,-0.46261270908232355,-0.42082164594404525,-0.4126675560216728,-0.35996778978232635,-0.31052819838128776,-0.26813728292888295,-0.26756559557944615,-0.24374250102200423,-0.22477047545811846,-0.1615874823045057,-0.10643960022610655,-0.0804721416071823,-0.07196088356699426,-0.0573404574461831,-0.05071708201618441,-0.019242551119214024,0.003346289720965845,0.005497933392855647,0.059281038760717775,0.08360115891304609,0.12978670898302258,0.23100867063643443,0.2786299861512563,0.2938895944404066,0.3026109805506152,0.41269428632531,0.4246707165089652,0.4553341374616388,0.49792990841013074,0.5246406422485149,0.57052017736178,0.5849798256283026,0.596743170221278,0.6195977079866114,0.6285715512864689,0.6637472144791379,0.6686407207961783,0.6952525553316404,0.6983578593615755,0.7119897057411491,0.716114753097608,0.7200102717541547,0.7439651314272478,0.756655947561932,0.7737294388260891,0.7852434263066964,0.7882959822481216,0.8183450891053033,0.8787879526681417,0.9014181412158901,0.9219139938977067,0.9368932081549288,0.9499174016120926,0.9761648006929814,0.9836466385627747,1.0095499240572139,1.0211815757084481,1.0448348411077433,1.054162718642824,1.0690199696002014,1.0793319155460064,1.0943535748625828,1.1120008177753564,1.1582047601065077,1.1583569654366621,1.2839619542664877,1.323138881786523,1.3339962507886063,1.349724515344551,1.4081307443575395,1.4184880730500344,1.44068114532575,1.457611798471548,1.4609513023488239,1.463933254568947,1.4722786297156079,1.4992931947835508,1.5111045617107801,1.5639348100522885,1.6507151796302728,1.6956619226909395,1.7140329754784296,1.725391281057692,1.7527595250254995,1.7537633500229157,1.9090871676474963,2.1881025033762875,2.2203808796297886,2.2760054800706317,2.713987519391882],\"y\":[{\"__ndarray__\":\"9N8HroNKTkA=\",\"dtype\":\"float64\",\"shape\":[1]},{\"__ndarray__\":\"ECawYBwhR0A=\",\"dtype\":\"float64\",\"shape\":[1]},{\"__ndarray__\":\"o5/fJeS9M8A=\",\"dtype\":\"float64\",\"shape\":[1]},{\"__ndarray__\":\"YaiHq8txRkA=\",\"dtype\":\"float64\",\"shape\":[1]},{\"__ndarray__\":\"ByY+dbrSKsA=\",\"dtype\":\"float64\",\"shape\":[1]},{\"__ndarray__\":\"2bGKew6oSUA=\",\"dtype\":\"float64\",\"shape\":[1]},{\"__ndarray__\":\"FIXMmoSnS0A=\",\"dtype\":\"float64\",\"shape\":[1]},{\"__ndarray__\":\"xPEyIzYLP8A=\",\"dtype\":\"float64\",\"shape\":[1]},{\"__ndarray__\":\"tlW6a6cBWkA=\",\"dtype\":\"float64\",\"shape\":[1]},{\"__ndarray__\":\"a6YPM/9UJ0A=\",\"dtype\":\"float64\",\"shape\":[1]},{\"__ndarray__\":\"c8Z5IXUNUUA=\",\"dtype\":\"float64\",\"shape\":[1]},{\"__ndarray__\":\"fvthfo9yUMA=\",\"dtype\":\"float64\",\"shape\":[1]},{\"__ndarray__\":\"AQxeQwuoVkA=\",\"dtype\":\"float64\",\"shape\":[1]},{\"__ndarray__\":\"GtNx0ORvUkA=\",\"dtype\":\"float64\",\"shape\":[1]},{\"__ndarray__\":\"oz+y/YrLRkA=\",\"dtype\":\"float64\",\"shape\":[1]},{\"__ndarray__\":\"vhrvnu1gRUA=\",\"dtype\":\"float64\",\"shape\":[1]},{\"__ndarray__\":\"Nb/pO9C1RUA=\",\"dtype\":\"float64\",\"shape\":[1]},{\"__ndarray__\":\"mxNmnN4tOUA=\",\"dtype\":\"float64\",\"shape\":[1]},{\"__ndarray__\":\"i77g7k03F0A=\",\"dtype\":\"float64\",\"shape\":[1]},{\"__ndarray__\":\"E+55g8MrRUA=\",\"dtype\":\"float64\",\"shape\":[1]},{\"__ndarray__\":\"1E5IVxgJTEA=\",\"dtype\":\"float64\",\"shape\":[1]},{\"__ndarray__\":\"c7ZTFSKvDUA=\",\"dtype\":\"float64\",\"shape\":[1]},{\"__ndarray__\":\"f0ukosXUU0A=\",\"dtype\":\"float64\",\"shape\":[1]},{\"__ndarray__\":\"V7vuc0RCBEA=\",\"dtype\":\"float64\",\"shape\":[1]},{\"__ndarray__\":\"gK1KJc/yAEA=\",\"dtype\":\"float64\",\"shape\":[1]},{\"__ndarray__\":\"UtNwD2WTQkA=\",\"dtype\":\"float64\",\"shape\":[1]},{\"__ndarray__\":\"WxyHG/XERUA=\",\"dtype\":\"float64\",\"shape\":[1]},{\"__ndarray__\":\"Yos5emxkR0A=\",\"dtype\":\"float64\",\"shape\":[1]},{\"__ndarray__\":\"dmU+BCg1SkA=\",\"dtype\":\"float64\",\"shape\":[1]},{\"__ndarray__\":\"V8nhLhe1McA=\",\"dtype\":\"float64\",\"shape\":[1]},{\"__ndarray__\":\"iNBKdo3eM0A=\",\"dtype\":\"float64\",\"shape\":[1]},{\"__ndarray__\":\"2/TUXFqDLkA=\",\"dtype\":\"float64\",\"shape\":[1]},{\"__ndarray__\":\"bHSyxdlVREA=\",\"dtype\":\"float64\",\"shape\":[1]},{\"__ndarray__\":\"VRu63JpsIUA=\",\"dtype\":\"float64\",\"shape\":[1]},{\"__ndarray__\":\"bmC9jW1lPEA=\",\"dtype\":\"float64\",\"shape\":[1]},{\"__ndarray__\":\"+oCKwhtHOUA=\",\"dtype\":\"float64\",\"shape\":[1]},{\"__ndarray__\":\"j7X0MCTAMkA=\",\"dtype\":\"float64\",\"shape\":[1]},{\"__ndarray__\":\"rB9krQL7PMA=\",\"dtype\":\"float64\",\"shape\":[1]},{\"__ndarray__\":\"Gbv3a7zaMUA=\",\"dtype\":\"float64\",\"shape\":[1]},{\"__ndarray__\":\"722PLN8aQ0A=\",\"dtype\":\"float64\",\"shape\":[1]},{\"__ndarray__\":\"EQgo1IehSEA=\",\"dtype\":\"float64\",\"shape\":[1]},{\"__ndarray__\":\"BmCgzS5VOUA=\",\"dtype\":\"float64\",\"shape\":[1]},{\"__ndarray__\":\"5kNCdh+hMsA=\",\"dtype\":\"float64\",\"shape\":[1]},{\"__ndarray__\":\"dghLTUxBCcA=\",\"dtype\":\"float64\",\"shape\":[1]},{\"__ndarray__\":\"+tXXmZcuAMA=\",\"dtype\":\"float64\",\"shape\":[1]},{\"__ndarray__\":\"+6OKqB1vLEA=\",\"dtype\":\"float64\",\"shape\":[1]},{\"__ndarray__\":\"jwvGG8hwMUA=\",\"dtype\":\"float64\",\"shape\":[1]},{\"__ndarray__\":\"I5NeoAgiU0A=\",\"dtype\":\"float64\",\"shape\":[1]},{\"__ndarray__\":\"KMVRQGEbMEA=\",\"dtype\":\"float64\",\"shape\":[1]},{\"__ndarray__\":\"4230CzVlQEA=\",\"dtype\":\"float64\",\"shape\":[1]},{\"__ndarray__\":\"f75cqHpoSEA=\",\"dtype\":\"float64\",\"shape\":[1]},{\"__ndarray__\":\"O3REL3nXQkA=\",\"dtype\":\"float64\",\"shape\":[1]},{\"__ndarray__\":\"VbEr8BrPNcA=\",\"dtype\":\"float64\",\"shape\":[1]},{\"__ndarray__\":\"x1SSE6i12r8=\",\"dtype\":\"float64\",\"shape\":[1]},{\"__ndarray__\":\"vtwHFhfvOcA=\",\"dtype\":\"float64\",\"shape\":[1]},{\"__ndarray__\":\"5i79sYhwO0A=\",\"dtype\":\"float64\",\"shape\":[1]},{\"__ndarray__\":\"3uVyVdOMO0A=\",\"dtype\":\"float64\",\"shape\":[1]},{\"__ndarray__\":\"kGSnTV+9OEA=\",\"dtype\":\"float64\",\"shape\":[1]},{\"__ndarray__\":\"TOJioFJfP0A=\",\"dtype\":\"float64\",\"shape\":[1]},{\"__ndarray__\":\"jN5k1TzoHUA=\",\"dtype\":\"float64\",\"shape\":[1]},{\"__ndarray__\":\"8gDPowAhTkA=\",\"dtype\":\"float64\",\"shape\":[1]},{\"__ndarray__\":\"63cGH3B1S0A=\",\"dtype\":\"float64\",\"shape\":[1]},{\"__ndarray__\":\"itEBboglMEA=\",\"dtype\":\"float64\",\"shape\":[1]},{\"__ndarray__\":\"vkBS+UuyR0A=\",\"dtype\":\"float64\",\"shape\":[1]},{\"__ndarray__\":\"yFVVmSSPHEA=\",\"dtype\":\"float64\",\"shape\":[1]},{\"__ndarray__\":\"TeN5PYDFQ0A=\",\"dtype\":\"float64\",\"shape\":[1]},{\"__ndarray__\":\"kWgkZ9czMEA=\",\"dtype\":\"float64\",\"shape\":[1]},{\"__ndarray__\":\"1+txtQ2ATEA=\",\"dtype\":\"float64\",\"shape\":[1]},{\"__ndarray__\":\"g+ojp+/LLkA=\",\"dtype\":\"float64\",\"shape\":[1]},{\"__ndarray__\":\"bzHKavokFUA=\",\"dtype\":\"float64\",\"shape\":[1]},{\"__ndarray__\":\"NnEmY/liS0A=\",\"dtype\":\"float64\",\"shape\":[1]},{\"__ndarray__\":\"jDm8HgSvSUA=\",\"dtype\":\"float64\",\"shape\":[1]},{\"__ndarray__\":\"Uta5l4YeMkA=\",\"dtype\":\"float64\",\"shape\":[1]},{\"__ndarray__\":\"333jH+GPU0A=\",\"dtype\":\"float64\",\"shape\":[1]},{\"__ndarray__\":\"+jYD9sDHFMA=\",\"dtype\":\"float64\",\"shape\":[1]},{\"__ndarray__\":\"/ZTAzq39F8A=\",\"dtype\":\"float64\",\"shape\":[1]},{\"__ndarray__\":\"g/2FfGEDOUA=\",\"dtype\":\"float64\",\"shape\":[1]},{\"__ndarray__\":\"YftwX5Lr5L8=\",\"dtype\":\"float64\",\"shape\":[1]},{\"__ndarray__\":\"NuT0yr+8SEA=\",\"dtype\":\"float64\",\"shape\":[1]},{\"__ndarray__\":\"rDn6QjX0QkA=\",\"dtype\":\"float64\",\"shape\":[1]},{\"__ndarray__\":\"XTKnLAjRIcA=\",\"dtype\":\"float64\",\"shape\":[1]},{\"__ndarray__\":\"2bQoY7z1UUA=\",\"dtype\":\"float64\",\"shape\":[1]},{\"__ndarray__\":\"b/5mQOr4SkA=\",\"dtype\":\"float64\",\"shape\":[1]},{\"__ndarray__\":\"DTy5Vsd8KMA=\",\"dtype\":\"float64\",\"shape\":[1]},{\"__ndarray__\":\"kfo86sw1JUA=\",\"dtype\":\"float64\",\"shape\":[1]},{\"__ndarray__\":\"OL6/pcHSPEA=\",\"dtype\":\"float64\",\"shape\":[1]},{\"__ndarray__\":\"dWJzRig4NcA=\",\"dtype\":\"float64\",\"shape\":[1]},{\"__ndarray__\":\"PTgrmoVP8D8=\",\"dtype\":\"float64\",\"shape\":[1]},{\"__ndarray__\":\"Az9IOTjoN0A=\",\"dtype\":\"float64\",\"shape\":[1]},{\"__ndarray__\":\"8m78P3owSUA=\",\"dtype\":\"float64\",\"shape\":[1]},{\"__ndarray__\":\"AbH/RCb2SkA=\",\"dtype\":\"float64\",\"shape\":[1]},{\"__ndarray__\":\"BHJGO7JWVUA=\",\"dtype\":\"float64\",\"shape\":[1]},{\"__ndarray__\":\"qKKwKhqXMMA=\",\"dtype\":\"float64\",\"shape\":[1]},{\"__ndarray__\":\"H7TCSk3rSUA=\",\"dtype\":\"float64\",\"shape\":[1]},{\"__ndarray__\":\"fhWk65u4RUA=\",\"dtype\":\"float64\",\"shape\":[1]},{\"__ndarray__\":\"mkaxtz1oU0A=\",\"dtype\":\"float64\",\"shape\":[1]},{\"__ndarray__\":\"crnNgOReT0A=\",\"dtype\":\"float64\",\"shape\":[1]},{\"__ndarray__\":\"J7RnPhxNKkA=\",\"dtype\":\"float64\",\"shape\":[1]},{\"__ndarray__\":\"t7k53HRXMsA=\",\"dtype\":\"float64\",\"shape\":[1]},{\"__ndarray__\":\"4N3iEQYFS0A=\",\"dtype\":\"float64\",\"shape\":[1]}]},\"selected\":{\"id\":\"3ed631a2-f2e1-4b7c-a903-bede9219f1b4\",\"type\":\"Selection\"},\"selection_policy\":{\"id\":\"1148ec95-66b8-4b70-96cb-3dc44877642e\",\"type\":\"UnionRenderers\"}},\"id\":\"5ddc0b9b-0bdd-471d-ba35-b73768ff5fda\",\"type\":\"ColumnDataSource\"},{\"attributes\":{\"below\":[{\"id\":\"5b6c4972-b266-4d9f-b316-d8fff37d75c8\",\"type\":\"LinearAxis\"}],\"left\":[{\"id\":\"c44bf6fa-c4cc-4dba-91cc-2865fe934404\",\"type\":\"LinearAxis\"}],\"plot_height\":400,\"plot_width\":800,\"renderers\":[{\"id\":\"5b6c4972-b266-4d9f-b316-d8fff37d75c8\",\"type\":\"LinearAxis\"},{\"id\":\"52ea98de-0a63-4105-a354-ef302e4f6d72\",\"type\":\"Grid\"},{\"id\":\"c44bf6fa-c4cc-4dba-91cc-2865fe934404\",\"type\":\"LinearAxis\"},{\"id\":\"656c7f91-a51b-45c0-b0e0-92ac5465aa73\",\"type\":\"Grid\"},{\"id\":\"fef8ac47-9ac6-4226-b3ea-5f04062259d1\",\"type\":\"BoxAnnotation\"},{\"id\":\"ca35aca9-31df-4c8f-af68-84a9d3ba3489\",\"type\":\"GlyphRenderer\"},{\"id\":\"e5e3a185-d32e-40a7-b5ec-d790ff617a60\",\"type\":\"GlyphRenderer\"}],\"title\":{\"id\":\"8aa275f4-5b27-4674-870d-ba7dfa786e89\",\"type\":\"Title\"},\"toolbar\":{\"id\":\"87008123-f85d-4511-916f-e138e249d620\",\"type\":\"Toolbar\"},\"x_range\":{\"id\":\"3c72709e-d892-4664-834c-adde96c00829\",\"type\":\"DataRange1d\"},\"x_scale\":{\"id\":\"0daa8c58-43d9-4b09-9111-6d566b6fd007\",\"type\":\"LinearScale\"},\"y_range\":{\"id\":\"86a99f4c-48ce-43eb-aa05-8faa5b511d5f\",\"type\":\"DataRange1d\"},\"y_scale\":{\"id\":\"9d4225b4-484e-4467-af78-fedacac463ac\",\"type\":\"LinearScale\"}},\"id\":\"cea155a4-2aa2-483e-985d-0af241a57ebe\",\"subtype\":\"Figure\",\"type\":\"Plot\"},{\"attributes\":{},\"id\":\"1148ec95-66b8-4b70-96cb-3dc44877642e\",\"type\":\"UnionRenderers\"},{\"attributes\":{\"dimension\":1,\"plot\":{\"id\":\"cea155a4-2aa2-483e-985d-0af241a57ebe\",\"subtype\":\"Figure\",\"type\":\"Plot\"},\"ticker\":{\"id\":\"cf7888ea-ef9c-45d7-98af-1a19fbfd30dc\",\"type\":\"BasicTicker\"}},\"id\":\"656c7f91-a51b-45c0-b0e0-92ac5465aa73\",\"type\":\"Grid\"},{\"attributes\":{\"callback\":null},\"id\":\"86a99f4c-48ce-43eb-aa05-8faa5b511d5f\",\"type\":\"DataRange1d\"},{\"attributes\":{},\"id\":\"0daa8c58-43d9-4b09-9111-6d566b6fd007\",\"type\":\"LinearScale\"},{\"attributes\":{},\"id\":\"9d4225b4-484e-4467-af78-fedacac463ac\",\"type\":\"LinearScale\"},{\"attributes\":{\"callback\":null,\"data\":{\"x\":{\"__ndarray__\":\"ID4OVnKb3b+VYpd8Ryv0v3gV/xVCHeQ/iFKsFj+2BUBMvHY9ZMLoP0OWfJwnuOI//uq8LrGRzT9AdwS9pLfwP/QlZPyei/4/yIKa6Qcf7D+yg3NJgj/mPzn7PvtSCuc/XDAKeQ5g9z+Amf6+UbSTv+Bu+CmgP7u/U2i+RkVs9z8QX2vcGv33PxcFm/aPzuc/4FM34Zb3qb+lZL4Vzi3bP3x4mWhHxcy/gCXwerpbrb9UaLotuWXuP7wjIqqx39O/QCJxgNKZtL+lY/UMV8MBQD7J7IrxRPE/z8pbkk0L/D8kbfgL5q7Ev4BxcLPiZrU/GrAcAaqz4L/E91/Maj3lPwAgrrAbi/Q/pkjmVP1P579jcs/2vTzvP5H9kjmBZeU/0h94GrSH9j9LQ++Hs0HiP/yu86kkfOO/0ReN3RLV0T/ruxO62d3wP+zuTi4ladq/dFxzXEI1AkDFRqOIhjboPwQiPqWbB+6/eiRBRykp0b/UplMJdI73Pxt+sMZRgO0/jNYbdwf77T9WXfhRVGn6PwB/Q52taWs/i4MTLNvJ4D+W+uFzDFj1P+GZ25TyWOY/LCRP4zOb+z9lZjBNFs/SP5jmp6KeyOY/X5VRCuIv6j9GL8u/YFL3PwTUsem97tq/I1xs0rYg6T/YckRL9DLPvxBtFa2TK/U/FoQiJx1Y8b9Gxeg9qBnhv3zORNPZnMA/viUW+nst+D+POsC7eJj1P1ubScsxJN0/aVSPkr7T4z+A7OJBAIV2P0wGOHL6XdM/JntwZW4h+z+ony5XtgnXv8hAJ2LOXO6/Srrk5HiC8T+o3+oA9zTwv4JR7oMIeu8/QgLkgeAF+T83Xep+uDnpP+cg733CVvA/zoaXXsHK8T9ImLYnPcvhv40UONIdJ/A/TJiXfGnq5j9cQbiMILL2P+Op67YBiPI/6zQyrAcN9z+oxgYihRjjP1zZwEuVado/8PGCSQdssr+uQgOvtBrxP1oao3LLH9G/MGOR22rY7D92IF/XrWz7PxAZgJUVWq4/KJgUaBXe3z8FYKLiO4EBQOpOOlChiPI/ZFmUKGoP/D8=\",\"dtype\":\"float64\",\"shape\":[100]},\"y\":{\"__ndarray__\":\"wGE/ttxaDMA9cXLJv/lGQJT1yIFo7OA/v+tc+nrkckCK5InlKSUVQDCFr4dPyiXA4Kn/qVlssj9eihrg+80QwFcUCY456k9ATCwWyZkVM8AsAGS+tWUnwAuoi4oXpTVAIjvIIwnnMkCHJsivxloEQEVgBpXMQAvAzn6FdYXmJ8AMOzM+LQc5QKCNLrK4X+k/tkq7rYjfHsCyoAb+ZKoowJzCtYurPv2/iXX2DXinPcAdD/xevEUwQME2IGVGXCtA9z3EMC3CBMA6aDL/uipeQCBxI4JujNY/Sj+k2ZTTQkAAwHyI6LBhv1hlsn+/KijARHJv4iZEM8Bon+5cxwcrwIJB9pkTXx1ArvokyGeHMEAH4bwF7GIwQJg8lR+exi3AViaOLDqDLEAg+NjnVkoUwOIKK4W+rDFAfwQ0YjLGJECCu+52ZaQWwLs3O1p/iC7Abwnn3qsNYkBmjElPgMUiwLRO/UKIVxJAwcJLmKydM0B0c7i30h5BQBimYwYRezFAbDs9KMlPA8C/+NP5p8g6QDktgkgEbQjAdh5I6kVtGUA0rGi//ckfQIGCXvwCVyzA231IwU1nSUDs5qPQxtkfQCgmrbfKDCHAFObdtkJqCcBW8gepun0gQEIh+WDmiAhAX5lqQ/yKIcA8B4lzf+rzP8zFmKfR2yvAUl+Vob/2OkDwuz3in6j1P6TwABnhZShAsBdYAg3WQECT2f8gNYIwQJE31rqr6ynA4Jjzf97xHkBrwbHkGjUMwEiUiRyFTiDAQoTxifxKQUDJCuM1KoU3wIBbphg2t+0/hAzde8s/EcDW9UA7JdhEQFl0UxHPzhfAHHGkonJgQED1zGD2YBkzwBAlcLWuhwhAEEkRIwLsF0CwSwkGEuNAQGGcofbKajlAMm0Wga6AB8CeCwdpyfg1QLBLWjmWHwrAgGnzGNKV/b/YQPJ6UGLlv4Z7Nkpq6BnAonLhnVN6LEDq9/Kzt60lQP4hwOac1yPAuCWyIPSePcDhTgUPMbVDQESb71we4gnACfu5ySjiFUC1TEVKe5RaQNpaLnX4EzZAkudSxlECQ0A=\",\"dtype\":\"float64\",\"shape\":[100]}},\"selected\":{\"id\":\"ef3df4d0-021a-447a-954c-532ab0efb87d\",\"type\":\"Selection\"},\"selection_policy\":{\"id\":\"546501ab-a02b-42c1-9cf3-03c832bbd73f\",\"type\":\"UnionRenderers\"}},\"id\":\"9c641fff-1717-480a-b9f4-8fb1f2f0c4d4\",\"type\":\"ColumnDataSource\"},{\"attributes\":{\"plot\":{\"id\":\"cea155a4-2aa2-483e-985d-0af241a57ebe\",\"subtype\":\"Figure\",\"type\":\"Plot\"},\"ticker\":{\"id\":\"255fa81e-d63e-4169-b1db-b80948bd8d01\",\"type\":\"BasicTicker\"}},\"id\":\"52ea98de-0a63-4105-a354-ef302e4f6d72\",\"type\":\"Grid\"},{\"attributes\":{\"formatter\":{\"id\":\"8d5d95e4-7e83-4fb7-a795-4eb8c754cd0a\",\"type\":\"BasicTickFormatter\"},\"plot\":{\"id\":\"cea155a4-2aa2-483e-985d-0af241a57ebe\",\"subtype\":\"Figure\",\"type\":\"Plot\"},\"ticker\":{\"id\":\"255fa81e-d63e-4169-b1db-b80948bd8d01\",\"type\":\"BasicTicker\"}},\"id\":\"5b6c4972-b266-4d9f-b316-d8fff37d75c8\",\"type\":\"LinearAxis\"},{\"attributes\":{},\"id\":\"255fa81e-d63e-4169-b1db-b80948bd8d01\",\"type\":\"BasicTicker\"},{\"attributes\":{\"formatter\":{\"id\":\"76b07a28-2341-43f5-b0c6-eaa985b28a83\",\"type\":\"BasicTickFormatter\"},\"plot\":{\"id\":\"cea155a4-2aa2-483e-985d-0af241a57ebe\",\"subtype\":\"Figure\",\"type\":\"Plot\"},\"ticker\":{\"id\":\"cf7888ea-ef9c-45d7-98af-1a19fbfd30dc\",\"type\":\"BasicTicker\"}},\"id\":\"c44bf6fa-c4cc-4dba-91cc-2865fe934404\",\"type\":\"LinearAxis\"},{\"attributes\":{},\"id\":\"cf7888ea-ef9c-45d7-98af-1a19fbfd30dc\",\"type\":\"BasicTicker\"}],\"root_ids\":[\"cea155a4-2aa2-483e-985d-0af241a57ebe\"]},\"title\":\"Bokeh Application\",\"version\":\"0.12.16\"}};\n",
       "  var render_items = [{\"docid\":\"00d1bed1-c0a6-4735-8525-258d5df07bc7\",\"elementid\":\"348ed38a-0a33-41de-9a2d-46cd980af3e8\",\"modelid\":\"cea155a4-2aa2-483e-985d-0af241a57ebe\"}];\n",
       "  root.Bokeh.embed.embed_items_notebook(docs_json, render_items);\n",
       "\n",
       "  }\n",
       "  if (root.Bokeh !== undefined) {\n",
       "    embed_document(root);\n",
       "  } else {\n",
       "    var attempts = 0;\n",
       "    var timer = setInterval(function(root) {\n",
       "      if (root.Bokeh !== undefined) {\n",
       "        embed_document(root);\n",
       "        clearInterval(timer);\n",
       "      }\n",
       "      attempts++;\n",
       "      if (attempts > 100) {\n",
       "        console.log(\"Bokeh: ERROR: Unable to run BokehJS code because BokehJS library is missing\")\n",
       "        clearInterval(timer);\n",
       "      }\n",
       "    }, 10, root)\n",
       "  }\n",
       "})(window);"
      ],
      "application/vnd.bokehjs_exec.v0+json": ""
     },
     "metadata": {
      "application/vnd.bokehjs_exec.v0+json": {
       "id": "cea155a4-2aa2-483e-985d-0af241a57ebe"
      }
     },
     "output_type": "display_data"
    }
   ],
   "source": [
    "# Importing Bokeh modules\n",
    "from bokeh.plotting import figure, show\n",
    "from bokeh.io import show, output_notebook\n",
    "from bokeh import plotting as pl\n",
    "from bokeh.models import HoverTool\n",
    " \n",
    "from plotly.offline import download_plotlyjs, init_notebook_mode, plot, iplot\n",
    "from plotly import graph_objs as go\n",
    "init_notebook_mode(connected=True)\n",
    "\n",
    "output_notebook()\n",
    "\n",
    "# Recreating data so as to allow experimentation with varying degree values\n",
    "\n",
    "x = 0.73 - np.random.normal(0,1,100)\n",
    "y = 3.4 - 2.6*x + 4.7*(x**2) - 3.9*(x**3) + 6.1*(x**4) + np.random.normal(-8,12,100)\n",
    "\n",
    "# Converting 1 dimensional arrays, x and y, into 2-D arrays\n",
    "x_2d = x[:, np.newaxis]\n",
    "y_2dpred = y_pred[:, np.newaxis]\n",
    "\n",
    "import operator\n",
    "\n",
    "# sort the values of x and y_pred before line plot\n",
    "sort_axis = operator.itemgetter(0)\n",
    "sorted_zip = sorted(zip(x_2d,y_2dpred), key=sort_axis)\n",
    "x_2d, y_2dpred = zip(*sorted_zip)\n",
    "\n",
    "x_2d = tuple(np.array(list(x_2d)).reshape(-1))\n",
    "\n",
    "p = figure(plot_width=800, plot_height=400)\n",
    "p.circle(x,y, size=10, color=\"navy\", alpha=0.5)\n",
    "p.line(x_2d,y_2dpred,line_width=2,color=\"red\")\n",
    "show(p)"
   ]
  },
  {
   "cell_type": "markdown",
   "metadata": {
    "hide_input": true
   },
   "source": [
    "### Solution code\n",
    "\n",
    "```python\n",
    "# Just run above code\n",
    "```"
   ]
  },
  {
   "cell_type": "markdown",
   "metadata": {},
   "source": [
    "The predicted values in this scenario have a lot of variance, which shows that in this specific case polynomial regression may have a better fit. GLMs are best applied to data where response variable is not normally distributed.\n",
    "\n",
    "Variations in GLMs are also used and are effective when there are multiple predictors."
   ]
  },
  {
   "cell_type": "code",
   "execution_count": null,
   "metadata": {},
   "outputs": [],
   "source": [
    "# End of notebook"
   ]
  },
  {
   "cell_type": "markdown",
   "metadata": {
    "hide_input": true
   },
   "source": [
    "### Solution code\n",
    "\n",
    "```python\n",
    "# End of notebook\n",
    "```"
   ]
  }
 ],
 "metadata": {
  "celltoolbar": "Edit Metadata",
  "kernelspec": {
   "display_name": "Python 3",
   "language": "python",
   "name": "python3"
  },
  "language_info": {
   "codemirror_mode": {
    "name": "ipython",
    "version": 3
   },
   "file_extension": ".py",
   "mimetype": "text/x-python",
   "name": "python",
   "nbconvert_exporter": "python",
   "pygments_lexer": "ipython3",
   "version": "3.6.5"
  }
 },
 "nbformat": 4,
 "nbformat_minor": 2
}
