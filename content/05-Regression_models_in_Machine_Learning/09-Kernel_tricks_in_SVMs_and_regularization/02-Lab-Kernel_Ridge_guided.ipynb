{
 "cells": [
  {
   "cell_type": "markdown",
   "metadata": {},
   "source": [
    "## 03-Lab  - Kernel Ridge Regression \n",
    "\n",
    "In this lab, you will look at how use to Kernel Ridge regressor and compare it with SVR. You will find that SVR performs better for smaller datasets. We will use the Auto dataset from SVR with the same columns. \n",
    "\n",
    "Data is availabe in : https://raw.githubusercontent.com/colaberry/DSin100days/master/data/Auto.csv"
   ]
  },
  {
   "cell_type": "code",
   "execution_count": null,
   "metadata": {
    "ExecuteTime": {
     "end_time": "2020-05-04T17:30:30.441196Z",
     "start_time": "2020-05-04T17:30:29.898104Z"
    }
   },
   "outputs": [],
   "source": [
    "# Import the library\n",
    "import pandas as pd\n",
    "\n",
    "auto = pd.read_csv('https://raw.githubusercontent.com/colaberry/DSin100days/master/data/Auto.csv', na_values='?').dropna()\n",
    "auto.info()\n",
    "auto.head()\n",
    "\n",
    "# Write your code here or in other code cells down"
   ]
  },
  {
   "cell_type": "code",
   "execution_count": null,
   "metadata": {
    "ExecuteTime": {
     "end_time": "2020-05-04T17:30:30.446256Z",
     "start_time": "2020-05-04T17:30:30.442258Z"
    }
   },
   "outputs": [],
   "source": [
    "# select the mpg and horsepower columns and output the head\n",
    "data_set = auto[['mpg','horsepower']]\n",
    "data_set_head = data_set.head()\n",
    "\n",
    "# head of data_set\n",
    "print(data_set.head())"
   ]
  },
  {
   "cell_type": "code",
   "execution_count": null,
   "metadata": {
    "ExecuteTime": {
     "end_time": "2020-05-04T17:30:30.609031Z",
     "start_time": "2020-05-04T17:30:30.447178Z"
    }
   },
   "outputs": [],
   "source": [
    "from sklearn.model_selection import train_test_split \n",
    "from time import time \n",
    "X = data_set['horsepower'].values\n",
    "y = data_set['mpg'].values\n",
    "\n",
    "X_train, X_test, y_train, y_test = train_test_split(X, y, test_size=0.10, random_state=1)\n",
    "\n",
    "X_train_reshaped = X_train.reshape(X_train.shape[0],1)\n",
    "X_test_reshaped = X_test.reshape(X_test.shape[0],1)"
   ]
  },
  {
   "cell_type": "code",
   "execution_count": null,
   "metadata": {
    "ExecuteTime": {
     "end_time": "2020-05-04T17:34:36.387618Z",
     "start_time": "2020-05-04T17:34:36.359976Z"
    }
   },
   "outputs": [],
   "source": [
    "from sklearn import metrics\n",
    "from sklearn.kernel_ridge import KernelRidge\n",
    "from sklearn.svm import SVR\n",
    "\n",
    "start_time = time()\n",
    "# train a krr model. Enter additional parameters C =100, epsilon = 0.1.\n",
    "# gamma = 1.0. Make sure to chose a rbf kernel. 1 line of code \n",
    "krr.fit(X_train_reshaped, y_train.ravel()) \n",
    "end_time =time()- start_time\n",
    "print(\"it took {} s to run kernel ridge regressor\".format(end_time))"
   ]
  },
  {
   "cell_type": "code",
   "execution_count": null,
   "metadata": {
    "ExecuteTime": {
     "end_time": "2020-05-04T17:30:30.653283Z",
     "start_time": "2020-05-04T17:30:30.650040Z"
    }
   },
   "outputs": [],
   "source": [
    "y_kr = # run inference based on trained krr model\n",
    "\n",
    "mse_value = metrics.mean_squared_error(y_test, y_kr)\n",
    "print(\"mean squared error is {} \".format(mse_value))"
   ]
  },
  {
   "cell_type": "markdown",
   "metadata": {},
   "source": [
    "mean squared error is 47.4558581357165 "
   ]
  },
  {
   "cell_type": "code",
   "execution_count": null,
   "metadata": {
    "ExecuteTime": {
     "end_time": "2020-05-04T17:30:30.666530Z",
     "start_time": "2020-05-04T17:30:30.654350Z"
    }
   },
   "outputs": [],
   "source": [
    "# enter the appropriate kernel to calcuate the rbf\n",
    "start_time = time()\n",
    "svr_rbf = # train a SVR model with C=100, epsilion = 0.1 and gamma =1.0 \n",
    "\n",
    "# In this line we run the fit command to fit the training data and run predict\n",
    "# on the testing dataset \n",
    "y_rbf = svr_rbf.fit(X_train_reshaped, y_train.ravel()).predict(X_test_reshaped)\n",
    "end_time =time()- start_time\n",
    "print(\"it took {} s to run SVR\".format(end_time) )"
   ]
  },
  {
   "cell_type": "code",
   "execution_count": null,
   "metadata": {
    "ExecuteTime": {
     "end_time": "2020-05-04T17:30:30.670390Z",
     "start_time": "2020-05-04T17:30:30.667655Z"
    }
   },
   "outputs": [],
   "source": [
    "\n",
    "mse_value = metrics.mean_squared_error(y_test, y_rbf)\n",
    "print(\"mean squared error is {} \".format(mse_value))"
   ]
  },
  {
   "cell_type": "markdown",
   "metadata": {},
   "source": [
    "mean squared error is 20.093945130400964 "
   ]
  },
  {
   "cell_type": "markdown",
   "metadata": {},
   "source": [
    "You will find that Kernel Ridge Regressor(KRR) out put higher MSE value than SVR. This is because the loss function for both algorithms are different. \n",
    "\n",
    "The real place where KRR shines is when you have medium sized dataset. In medium sized datasets. KRR will train faster but the inference speed of KRR will be slower than SVR.\n",
    "\n"
   ]
  }
 ],
 "metadata": {
  "kernelspec": {
   "display_name": "Python 3",
   "language": "python",
   "name": "python3"
  },
  "language_info": {
   "codemirror_mode": {
    "name": "ipython",
    "version": 3
   },
   "file_extension": ".py",
   "mimetype": "text/x-python",
   "name": "python",
   "nbconvert_exporter": "python",
   "pygments_lexer": "ipython3",
   "version": "3.7.3"
  },
  "latex_envs": {
   "LaTeX_envs_menu_present": true,
   "autoclose": false,
   "autocomplete": true,
   "bibliofile": "biblio.bib",
   "cite_by": "apalike",
   "current_citInitial": 1,
   "eqLabelWithNumbers": true,
   "eqNumInitial": 1,
   "hotkeys": {
    "equation": "Ctrl-E",
    "itemize": "Ctrl-I"
   },
   "labels_anchors": false,
   "latex_user_defs": false,
   "report_style_numbering": false,
   "user_envs_cfg": false
  },
  "toc": {
   "base_numbering": 1,
   "nav_menu": {},
   "number_sections": false,
   "sideBar": true,
   "skip_h1_title": false,
   "title_cell": "Table of Contents",
   "title_sidebar": "Contents",
   "toc_cell": false,
   "toc_position": {},
   "toc_section_display": true,
   "toc_window_display": false
  },
  "varInspector": {
   "cols": {
    "lenName": 16,
    "lenType": 16,
    "lenVar": 40
   },
   "kernels_config": {
    "python": {
     "delete_cmd_postfix": "",
     "delete_cmd_prefix": "del ",
     "library": "var_list.py",
     "varRefreshCmd": "print(var_dic_list())"
    },
    "r": {
     "delete_cmd_postfix": ") ",
     "delete_cmd_prefix": "rm(",
     "library": "var_list.r",
     "varRefreshCmd": "cat(var_dic_list()) "
    }
   },
   "types_to_exclude": [
    "module",
    "function",
    "builtin_function_or_method",
    "instance",
    "_Feature"
   ],
   "window_display": false
  }
 },
 "nbformat": 4,
 "nbformat_minor": 2
}
