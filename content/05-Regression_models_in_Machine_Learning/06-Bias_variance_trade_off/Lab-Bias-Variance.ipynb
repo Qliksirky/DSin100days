{
 "cells": [
  {
   "cell_type": "markdown",
   "metadata": {},
   "source": [
    "## 02-Lab  - Bias Variance Trade-Off\n",
    "\n",
    "In this lab, you will work with Auto dataset which we had seen in Polynomial Regression .\n",
    "The dataset contains information about varoious cars/automobiles, the number of wheels, engine displacement along with their fuel efficiency.\n",
    "Your task is to take \"mpg\" as the target variable and fit Polynomial Regressions of various degrees to find the test and train MSE.\n",
    "Plot the train and test MSEs for high bias, high variance and finally a balanced bias-variance trade off.\n",
    "\n",
    "Data is availabe in : https://raw.githubusercontent.com/colaberry/DSin100days/master/data/Auto.csv"
   ]
  },
  {
   "cell_type": "code",
   "execution_count": null,
   "metadata": {
    "ExecuteTime": {
     "end_time": "2020-04-28T18:54:49.341611Z",
     "start_time": "2020-04-28T18:54:49.007231Z"
    }
   },
   "outputs": [],
   "source": [
    "# Import the library\n",
    "import pandas as pd\n",
    "\n",
    "auto = pd.read_csv('https://raw.githubusercontent.com/colaberry/DSin100days/master/data/Auto.csv', na_values='?').dropna()\n",
    "auto.info()\n",
    "\n"
   ]
  },
  {
   "cell_type": "code",
   "execution_count": null,
   "metadata": {
    "ExecuteTime": {
     "end_time": "2020-04-28T18:54:49.385131Z",
     "start_time": "2020-04-28T18:54:49.342855Z"
    }
   },
   "outputs": [],
   "source": [
    "auto.head()\n"
   ]
  },
  {
   "cell_type": "markdown",
   "metadata": {},
   "source": [
    "There are three cases that we want to generate - \n",
    "\n",
    "1) High bias <br>\n",
    "2) Trade off <br>\n",
    "3) High variance <br>\n",
    "\n",
    "To generate the high bias case, the model complexity has to be low. This can be done through picking a small number of parameters for a given model. We will use polynomial regression for this. "
   ]
  },
  {
   "cell_type": "code",
   "execution_count": null,
   "metadata": {
    "ExecuteTime": {
     "end_time": "2020-04-28T18:54:49.391074Z",
     "start_time": "2020-04-28T18:54:49.386481Z"
    }
   },
   "outputs": [],
   "source": [
    "# select the mpg and horsepower columns and output the head\n",
    "data_set = auto[['####', '####' ]]\n",
    "\n",
    "# head of data_set\n",
    "print('####')"
   ]
  },
  {
   "cell_type": "markdown",
   "metadata": {},
   "source": [
    "### High bias case \n",
    "We will first run polynomial regression with number of parameter = 1 "
   ]
  },
  {
   "cell_type": "code",
   "execution_count": null,
   "metadata": {
    "ExecuteTime": {
     "end_time": "2020-04-28T18:54:49.586376Z",
     "start_time": "2020-04-28T18:54:49.391975Z"
    }
   },
   "outputs": [],
   "source": [
    "import numpy as np\n",
    "from sklearn.pipeline import Pipeline\n",
    "from sklearn.preprocessing import PolynomialFeatures\n",
    "from sklearn.linear_model import LinearRegression\n",
    "from sklearn.model_selection import  train_test_split\n",
    "from sklearn import metrics\n",
    "\n",
    "# number of degrees in a polynomial \n",
    "degrees =  1 \n",
    "\n",
    "X = '####'\n",
    "y = '####'\n",
    "# we need to do test train split\n",
    "X_train, X_test, y_train, y_test = train_test_split(X, y, test_size=0.20, random_state=1)\n",
    "\n",
    "polynomial_features = PolynomialFeatures(degree= '####',\n",
    "                                             include_bias=True)\n",
    "linear_regression = LinearRegression()\n",
    "\n",
    "# set up the pipeline that combines getting polynomial features + linear regression \n",
    "# at most 3 lines of code here \n",
    "\n",
    "# get y prediction from running the pred test \n",
    "ypred = pipeline.predict('####')\n",
    "\n",
    "# print the mean square error. \n",
    "#Use the metrics from sklearn to get the mean square error\n",
    "print(\"mean squared error is {} \".format('####'))"
   ]
  },
  {
   "cell_type": "markdown",
   "metadata": {
    "ExecuteTime": {
     "end_time": "2020-04-28T18:28:10.329378Z",
     "start_time": "2020-04-28T18:28:10.314228Z"
    }
   },
   "source": [
    "mean squared error is 28.66013202298902 "
   ]
  },
  {
   "cell_type": "code",
   "execution_count": null,
   "metadata": {
    "ExecuteTime": {
     "end_time": "2020-04-28T19:03:47.157472Z",
     "start_time": "2020-04-28T19:03:47.154994Z"
    }
   },
   "outputs": [],
   "source": [
    "## output scatter plot that compares the test y values and \n",
    "#the predicted y values \n",
    "\n",
    "## 2 lines of code\n",
    "plt.show()"
   ]
  },
  {
   "cell_type": "markdown",
   "metadata": {
    "ExecuteTime": {
     "end_time": "2020-04-28T18:48:43.400835Z",
     "start_time": "2020-04-28T18:48:43.260410Z"
    }
   },
   "source": [
    "<img src=\"../../../images/lab_bias.png\"> \n"
   ]
  },
  {
   "cell_type": "markdown",
   "metadata": {},
   "source": [
    "### Trade off"
   ]
  },
  {
   "cell_type": "code",
   "execution_count": null,
   "metadata": {
    "ExecuteTime": {
     "end_time": "2020-04-28T18:54:49.842385Z",
     "start_time": "2020-04-28T18:54:49.836130Z"
    }
   },
   "outputs": [],
   "source": [
    "# number of degrees in a polynomial \n",
    "degrees_toff =  4 \n",
    "\n",
    "X = '####'\n",
    "y = '####'\n",
    "# we need to do test train split\n",
    "X_train, X_test, y_train, y_test = train_test_split(X, y, test_size=0.20, random_state=1)\n",
    "\n",
    "# same as above get polynomial features and set up linear regression.\n",
    "#2 to 3 lines of code\n",
    "\n",
    "# set up the pipeline that combines getting polynomial features + linear regression \n",
    "# at most 3 lines of code here \n",
    "\n",
    "# get y prediction from running the pred test \n",
    "ypred = pipeline.predict('####')\n",
    "\n",
    "# print the mean square error. \n",
    "#Use the metrics from sklearn to get the mean square error\n",
    "print(\"mean squared error is {} \".format('####'))"
   ]
  },
  {
   "cell_type": "markdown",
   "metadata": {},
   "source": [
    "mean squared error is 21.263314043420245 "
   ]
  },
  {
   "cell_type": "code",
   "execution_count": null,
   "metadata": {
    "ExecuteTime": {
     "end_time": "2020-04-28T18:54:49.959272Z",
     "start_time": "2020-04-28T18:54:49.843309Z"
    }
   },
   "outputs": [],
   "source": [
    "## output scatter plot that compares the test y values and \n",
    "#the predicted y values \n",
    "\n",
    "## 2 lines of code\n",
    "plt.show()"
   ]
  },
  {
   "cell_type": "markdown",
   "metadata": {
    "ExecuteTime": {
     "end_time": "2020-04-28T18:49:24.258241Z",
     "start_time": "2020-04-28T18:49:24.122292Z"
    }
   },
   "source": [
    "<img src=\"../../../images/lab_trade_off.png\"> \n"
   ]
  },
  {
   "cell_type": "markdown",
   "metadata": {},
   "source": [
    "### High variance"
   ]
  },
  {
   "cell_type": "code",
   "execution_count": null,
   "metadata": {
    "ExecuteTime": {
     "end_time": "2020-04-28T18:54:49.968690Z",
     "start_time": "2020-04-28T18:54:49.960913Z"
    }
   },
   "outputs": [],
   "source": [
    "# number of degrees in a polynomial \n",
    "degrees_toff =  ### how many degrees to get the output value ?\n",
    "\n",
    "X = '####'\n",
    "y = '####'\n",
    "# we need to do test train split\n",
    "X_train, X_test, y_train, y_test = train_test_split(X, y, test_size=0.20, random_state=1)\n",
    "\n",
    "# same as above get polynomial features and set up linear regression.\n",
    "#2 to 3 lines of code\n",
    "\n",
    "# set up the pipeline that combines getting polynomial features + linear regression \n",
    "# at most 3 lines of code here \n",
    "\n",
    "# get y prediction from running the pred test \n",
    "ypred = pipeline.predict('####')\n",
    "\n",
    "# print the mean square error. \n",
    "#Use the metrics from sklearn to get the mean square error\n",
    "print(\"mean squared error is {} \".format('####'))"
   ]
  },
  {
   "cell_type": "markdown",
   "metadata": {},
   "source": [
    "mean squared error is 40.273482791583525 "
   ]
  },
  {
   "cell_type": "code",
   "execution_count": null,
   "metadata": {
    "ExecuteTime": {
     "end_time": "2020-04-28T18:54:50.071564Z",
     "start_time": "2020-04-28T18:54:49.970353Z"
    }
   },
   "outputs": [],
   "source": [
    "## output scatter plot that compares the test y values and \n",
    "#the predicted y values \n",
    "\n",
    "## 2 lines of code\n",
    "plt.show()"
   ]
  },
  {
   "cell_type": "markdown",
   "metadata": {},
   "source": [
    "\n",
    "<img src=\"../../../images/lab_variance.png\"> \n"
   ]
  },
  {
   "cell_type": "code",
   "execution_count": null,
   "metadata": {},
   "outputs": [],
   "source": []
  }
 ],
 "metadata": {
  "kernelspec": {
   "display_name": "Python 3",
   "language": "python",
   "name": "python3"
  },
  "language_info": {
   "codemirror_mode": {
    "name": "ipython",
    "version": 3
   },
   "file_extension": ".py",
   "mimetype": "text/x-python",
   "name": "python",
   "nbconvert_exporter": "python",
   "pygments_lexer": "ipython3",
   "version": "3.7.3"
  },
  "latex_envs": {
   "LaTeX_envs_menu_present": true,
   "autoclose": false,
   "autocomplete": true,
   "bibliofile": "biblio.bib",
   "cite_by": "apalike",
   "current_citInitial": 1,
   "eqLabelWithNumbers": true,
   "eqNumInitial": 1,
   "hotkeys": {
    "equation": "Ctrl-E",
    "itemize": "Ctrl-I"
   },
   "labels_anchors": false,
   "latex_user_defs": false,
   "report_style_numbering": false,
   "user_envs_cfg": false
  },
  "toc": {
   "base_numbering": 1,
   "nav_menu": {},
   "number_sections": false,
   "sideBar": true,
   "skip_h1_title": false,
   "title_cell": "Table of Contents",
   "title_sidebar": "Contents",
   "toc_cell": false,
   "toc_position": {},
   "toc_section_display": true,
   "toc_window_display": false
  },
  "varInspector": {
   "cols": {
    "lenName": 16,
    "lenType": 16,
    "lenVar": 40
   },
   "kernels_config": {
    "python": {
     "delete_cmd_postfix": "",
     "delete_cmd_prefix": "del ",
     "library": "var_list.py",
     "varRefreshCmd": "print(var_dic_list())"
    },
    "r": {
     "delete_cmd_postfix": ") ",
     "delete_cmd_prefix": "rm(",
     "library": "var_list.r",
     "varRefreshCmd": "cat(var_dic_list()) "
    }
   },
   "types_to_exclude": [
    "module",
    "function",
    "builtin_function_or_method",
    "instance",
    "_Feature"
   ],
   "window_display": false
  }
 },
 "nbformat": 4,
 "nbformat_minor": 2
}
