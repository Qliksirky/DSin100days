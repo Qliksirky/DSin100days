{
 "cells": [
  {
   "cell_type": "markdown",
   "metadata": {},
   "source": [
    "# Lab - Probability\n",
    "\n",
    "Write down the probability mass functions for each of below given scenarios:\n",
    "\n",
    "1. Rolling a fair die to get a number among the six numbers {1,2,3,4,5,6}\n",
    "2. Rolling an unfair die to get a number among the six numbers {1,2,3,4,5,6}. Note that due to uneven weight distribution, the faces of the die having 3 and 5, each have a 50% higher chance of showing up as compared to other numbers which have equal probability\n",
    "3. Tossing a fair coin to get a Heads or Tail\n",
    "4. Tossing an unfair coin to get a Heads or a Tail. There is a 63% higher chance of a Heads showing up\n",
    "5. Weight of nails (in grams, accuracy up to 3 decimal places) produced by an automated machinery. Average weight of the nails is 10 g. The machinery has a tolerance of up to $\\pm\\ 225\\ mg$\n",
    "\n",
    "Make sure you use plotly express to plot these plots"
   ]
  },
  {
   "cell_type": "code",
   "execution_count": null,
   "metadata": {
    "ExecuteTime": {
     "end_time": "2020-05-21T18:14:02.019019Z",
     "start_time": "2020-05-21T18:14:01.623830Z"
    }
   },
   "outputs": [],
   "source": [
    "import random \n",
    "import pandas as pd \n",
    "import numpy as np \n",
    "import plotly_express as px \n",
    "\n",
    "random.seed(1)\n",
    "\n",
    "\n",
    "num_repeats = 0\n",
    "store_throws = []\n",
    "repeat = True \n",
    "max_repeats = 10000 \n",
    "count_dict = # you need to initalize a dictionary with keys as dice rolls values as inital counts\n",
    "while repeat: \n",
    "    \n",
    "    throw_value = # use random.randint to get values between 1 and 6\n",
    "    count_dict[throw_value] += 1 \n",
    "    # Write 2 lines of code to break out of while loop. \n",
    "    # The while loop should break wehn num_repeats reaches max_repeats \n",
    "    \n",
    "    num_repeats += 1 \n",
    "    # Append store values to store_throws\n"
   ]
  },
  {
   "cell_type": "markdown",
   "metadata": {},
   "source": [
    "## Solution for problem 1: Rolling a fair die"
   ]
  },
  {
   "cell_type": "code",
   "execution_count": null,
   "metadata": {
    "ExecuteTime": {
     "end_time": "2020-05-21T18:14:02.431083Z",
     "start_time": "2020-05-21T18:14:02.020002Z"
    }
   },
   "outputs": [],
   "source": [
    "# This is \n",
    "\n",
    "counts_data = # Get a dataframe from the dictionary  count_dict. In the same like do reset_index()\n",
    "               # reset index converts the index to a column\n",
    "counts_data = counts_data.rename(columns={0:'counts'})\n",
    "px.bar(counts_data, x='index', y='counts' )\n"
   ]
  },
  {
   "cell_type": "markdown",
   "metadata": {},
   "source": [
    "<img src=\"../../../images/dice_uniform.png\"/>"
   ]
  },
  {
   "cell_type": "code",
   "execution_count": null,
   "metadata": {
    "ExecuteTime": {
     "end_time": "2020-05-21T18:14:02.435300Z",
     "start_time": "2020-05-21T18:14:02.432206Z"
    }
   },
   "outputs": [],
   "source": [
    "print(\"counts data is {}\".format( counts_data))"
   ]
  },
  {
   "cell_type": "markdown",
   "metadata": {},
   "source": [
    "   index  counts\n",
    "0      1    1624 <br>\n",
    "1      2    1699 <br>\n",
    "2      3    1650 <br>\n",
    "3      4    1686 <br>\n",
    "4      5    1716 <br>\n",
    "5      6    1627 <br>"
   ]
  },
  {
   "cell_type": "markdown",
   "metadata": {},
   "source": [
    "## Solution for problem 2: Rolling an unfair die"
   ]
  },
  {
   "cell_type": "code",
   "execution_count": null,
   "metadata": {
    "ExecuteTime": {
     "end_time": "2020-05-21T18:14:02.651448Z",
     "start_time": "2020-05-21T18:14:02.436189Z"
    }
   },
   "outputs": [],
   "source": [
    "np.random.seed(10)\n",
    "\n",
    "# Unfair dice rolls. We will use numpy \n",
    "values = list(count_dict.keys())\n",
    "probs = ## You will need to calculate probs. This requires you to write down an algebric equation \n",
    "        ## we have 4 numbers with probability x  and 2 numbers with probablity y. All these numbers sum to 1\n",
    "        ## to solve for x and y. Except we know that y = 2x since we are told that probability of 3 or 5 is \n",
    "        ## 50% higher \n",
    "        \n",
    "all_throws = np.random.choice(values,size=[max_repeats], p=probs)\n",
    "throws_df = pd.DataFrame(data=all_throws)[0].value_counts()\n",
    "throws_df_plot = throws_df.to_frame(name=\"counts\").reset_index()\n",
    "\n",
    "px.bar(throws_df_plot,x='index', y='counts' )"
   ]
  },
  {
   "cell_type": "markdown",
   "metadata": {},
   "source": [
    "<img src=\"../../../images/dice_unfair.png\"/>"
   ]
  },
  {
   "cell_type": "code",
   "execution_count": null,
   "metadata": {
    "ExecuteTime": {
     "end_time": "2020-05-21T18:14:02.654597Z",
     "start_time": "2020-05-21T18:14:02.652304Z"
    }
   },
   "outputs": [],
   "source": [
    "print(\"counts data is {}\".format(throws_df))"
   ]
  },
  {
   "cell_type": "markdown",
   "metadata": {},
   "source": [
    "counts data is 5    2505 <br>\n",
    "3    2483 <br>\n",
    "1    1350 <br>\n",
    "2    1258 <br>\n",
    "4    1226 <br>\n",
    "6    1178 <br>\n",
    "Name: 0, dtype: int64"
   ]
  },
  {
   "cell_type": "markdown",
   "metadata": {},
   "source": [
    "## Solution for problem 3: Rolling a fair coin"
   ]
  },
  {
   "cell_type": "code",
   "execution_count": null,
   "metadata": {
    "ExecuteTime": {
     "end_time": "2020-05-21T18:14:02.818328Z",
     "start_time": "2020-05-21T18:14:02.655377Z"
    }
   },
   "outputs": [],
   "source": [
    "# tossing a fair coin \n",
    "np.random.seed(10)\n",
    "values = ['heads', 'tails']\n",
    "probs = [0.5, 0.5]\n",
    "all_throws = ## Similar to the last excercise, use np.random.choice to get all throws\n",
    "throws_df = pd.DataFrame(data=all_throws)[0].value_counts()\n",
    "throws_df_plot = throws_df.to_frame(name=\"counts\").reset_index()\n",
    "\n",
    "px.bar(throws_df_plot,x='index', y='counts' )\n"
   ]
  },
  {
   "cell_type": "markdown",
   "metadata": {},
   "source": [
    "<body><img src=\"../../../images/coin_fair.png\"/>"
   ]
  },
  {
   "cell_type": "code",
   "execution_count": null,
   "metadata": {
    "ExecuteTime": {
     "end_time": "2020-05-21T18:14:02.821417Z",
     "start_time": "2020-05-21T18:14:02.819182Z"
    }
   },
   "outputs": [],
   "source": [
    "print(\"counts data is {}\".format(throws_df))"
   ]
  },
  {
   "cell_type": "markdown",
   "metadata": {},
   "source": [
    "counts data is heads    5091 <br>\n",
    "tails    4909 <br>\n",
    "Name: 0, dtype: int64"
   ]
  },
  {
   "cell_type": "markdown",
   "metadata": {},
   "source": [
    "## Solution for problem 4: Rolling an unfair coin"
   ]
  },
  {
   "cell_type": "code",
   "execution_count": null,
   "metadata": {
    "ExecuteTime": {
     "end_time": "2020-05-21T18:14:03.032462Z",
     "start_time": "2020-05-21T18:14:02.822693Z"
    }
   },
   "outputs": [],
   "source": [
    "# tossing an unfair coin \n",
    "values = ['#####']\n",
    "probs = ['######']\n",
    "all_throws = np.random.choice(values,size=[max_repeats], p=probs)\n",
    "throws_df = pd.DataFrame(data=all_throws)[0].value_counts()\n",
    "throws_df_plot = # you need to convert throws df to a dataframe \n",
    "\n",
    "px.bar(throws_df_plot,x='index', y='counts' )\n"
   ]
  },
  {
   "cell_type": "markdown",
   "metadata": {
    "ExecuteTime": {
     "end_time": "2020-05-21T18:01:29.489999Z",
     "start_time": "2020-05-21T18:01:29.486500Z"
    }
   },
   "source": [
    "<img src=\"../../../images/coin_unfair.png\"/>"
   ]
  },
  {
   "cell_type": "code",
   "execution_count": null,
   "metadata": {
    "ExecuteTime": {
     "end_time": "2020-05-21T18:14:03.035812Z",
     "start_time": "2020-05-21T18:14:03.033595Z"
    }
   },
   "outputs": [],
   "source": [
    "print(\"counts data is {}\".format(throws_df))"
   ]
  },
  {
   "cell_type": "markdown",
   "metadata": {},
   "source": [
    "counts data is tails    6316 <br>\n",
    "heads    3684 <br>\n",
    "Name: 0, dtype: int64"
   ]
  },
  {
   "cell_type": "markdown",
   "metadata": {},
   "source": [
    "## Solution for problem 5: Distribution of weights"
   ]
  },
  {
   "cell_type": "code",
   "execution_count": null,
   "metadata": {
    "ExecuteTime": {
     "end_time": "2020-05-21T18:14:03.248193Z",
     "start_time": "2020-05-21T18:14:03.036562Z"
    }
   },
   "outputs": [],
   "source": [
    "# Weight of the nails means this a continuous variable. \n",
    "# We can assume that the tolerance is a standard deviation for the weight\n",
    "mean_w = 10.0  \n",
    "std_w = 225.0/1000.0 \n",
    "\n",
    "np.random.seed(10)\n",
    "\n",
    "weight_values = # you need to sample from a normal distribution. Look to numpy for this. \n",
    "weights_df = pd.DataFrame(data=weight_values, columns=['weights'])\n",
    "\n",
    "px.histogram(weights_df, x='weights', nbins=20)"
   ]
  },
  {
   "cell_type": "markdown",
   "metadata": {
    "ExecuteTime": {
     "end_time": "2020-05-21T17:36:57.826490Z",
     "start_time": "2020-05-21T17:36:57.816779Z"
    }
   },
   "source": [
    "<html><body><img src=\"../../../images/weight_dist.png\"/></body></html>"
   ]
  },
  {
   "cell_type": "code",
   "execution_count": null,
   "metadata": {},
   "outputs": [],
   "source": []
  }
 ],
 "metadata": {
  "kernelspec": {
   "display_name": "Python 3",
   "language": "python",
   "name": "python3"
  },
  "language_info": {
   "codemirror_mode": {
    "name": "ipython",
    "version": 3
   },
   "file_extension": ".py",
   "mimetype": "text/x-python",
   "name": "python",
   "nbconvert_exporter": "python",
   "pygments_lexer": "ipython3",
   "version": "3.7.3"
  },
  "latex_envs": {
   "LaTeX_envs_menu_present": true,
   "autoclose": false,
   "autocomplete": true,
   "bibliofile": "biblio.bib",
   "cite_by": "apalike",
   "current_citInitial": 1,
   "eqLabelWithNumbers": true,
   "eqNumInitial": 1,
   "hotkeys": {
    "equation": "Ctrl-E",
    "itemize": "Ctrl-I"
   },
   "labels_anchors": false,
   "latex_user_defs": false,
   "report_style_numbering": false,
   "user_envs_cfg": false
  },
  "toc": {
   "base_numbering": 1,
   "nav_menu": {},
   "number_sections": false,
   "sideBar": true,
   "skip_h1_title": false,
   "title_cell": "Table of Contents",
   "title_sidebar": "Contents",
   "toc_cell": false,
   "toc_position": {},
   "toc_section_display": true,
   "toc_window_display": false
  },
  "varInspector": {
   "cols": {
    "lenName": 16,
    "lenType": 16,
    "lenVar": 40
   },
   "kernels_config": {
    "python": {
     "delete_cmd_postfix": "",
     "delete_cmd_prefix": "del ",
     "library": "var_list.py",
     "varRefreshCmd": "print(var_dic_list())"
    },
    "r": {
     "delete_cmd_postfix": ") ",
     "delete_cmd_prefix": "rm(",
     "library": "var_list.r",
     "varRefreshCmd": "cat(var_dic_list()) "
    }
   },
   "types_to_exclude": [
    "module",
    "function",
    "builtin_function_or_method",
    "instance",
    "_Feature"
   ],
   "window_display": false
  }
 },
 "nbformat": 4,
 "nbformat_minor": 2
}
