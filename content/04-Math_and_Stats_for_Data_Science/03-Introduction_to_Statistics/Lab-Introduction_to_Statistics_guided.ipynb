{
 "cells": [
  {
   "cell_type": "markdown",
   "metadata": {},
   "source": [
    "## Lab - Introduction_to_Statistics\n",
    "* Given the following BostonHousing dataset, generate 6 samples which contain 50 people for each of them.\n",
    "* Calculate the mean of each sample's 'AGE'.\n",
    "* Consider the whole dataset's 'AGE' as the population, calculate the mean of an sample of 10 people, as well as the mean of the full population. Are they the same or different, why?\n",
    "* Suppose we don't have the whole BostonHousing dataset, but only have one sample with 50 people. Calculate the standard error of the population for house 'AGE'. (Use the formula in class notes \"01-Introduction to Statistics\" to calculate standard error)"
   ]
  },
  {
   "cell_type": "code",
   "execution_count": null,
   "metadata": {
    "ExecuteTime": {
     "end_time": "2020-05-21T21:40:57.045488Z",
     "start_time": "2020-05-21T21:40:56.657007Z"
    }
   },
   "outputs": [],
   "source": [
    "from sklearn import datasets\n",
    "import pandas as pd\n",
    "import numpy as np \n",
    "\n",
    "boston = datasets.load_boston()\n",
    "boston_df = pd.DataFrame(data=boston.data, columns=boston.feature_names)\n",
    "boston_df.head()\n",
    "\n",
    "# write your code below\n"
   ]
  },
  {
   "cell_type": "markdown",
   "metadata": {},
   "source": [
    "## Solution to part 1 and 2 "
   ]
  },
  {
   "cell_type": "code",
   "execution_count": null,
   "metadata": {
    "ExecuteTime": {
     "end_time": "2020-05-21T21:40:57.050650Z",
     "start_time": "2020-05-21T21:40:57.046455Z"
    }
   },
   "outputs": [],
   "source": [
    "# first step is to get the age column from the dataset\n",
    "import random \n",
    "random.seed(1)\n",
    "\n",
    "age_data = boston_df[\"AGE\"].values\n",
    "list_age = list(age_data)\n",
    "\n",
    "num_ppl_per_sample = 50 \n",
    "num_sample = 6\n",
    "\n",
    "samples = ## Use a list comprehension and random.sample to get a list of samples \n",
    "len_samples = ## Calculate the len of each sample\n",
    "means = # using numpy mean to get the \n",
    "\n",
    "print(\"Sample size for each sample is {}\".format(len_samples))\n",
    "print(\"Means of samples are {}\".format(means))"
   ]
  },
  {
   "cell_type": "markdown",
   "metadata": {},
   "source": [
    "Means of samples are [64.466, 70.646, 67.342, 72.86, 71.53399999999999, 66.104]\n"
   ]
  },
  {
   "cell_type": "markdown",
   "metadata": {},
   "source": [
    "## Solution to part 3"
   ]
  },
  {
   "cell_type": "code",
   "execution_count": null,
   "metadata": {
    "ExecuteTime": {
     "end_time": "2020-05-21T21:40:57.059525Z",
     "start_time": "2020-05-21T21:40:57.051727Z"
    }
   },
   "outputs": [],
   "source": [
    "# second part.Sample of 10 people \n",
    "random.seed(1)\n",
    "sample_ten = # Using random sample again, sample 10 data points from list_age\n",
    "\n",
    "# all mean \n",
    "full_mean = # get the mean of age data\n",
    "\n",
    "# sample 10 \n",
    "mean_sample_ten = # converting sample_ten to array calcuate the mean \n",
    "\n",
    "\n",
    "print(\"The population mean is {} \\nThe sample mean is {} \".format(full_mean, mean_sample_ten))"
   ]
  },
  {
   "cell_type": "markdown",
   "metadata": {},
   "source": [
    "The population mean is 68.57490118577076 <br>\n",
    "The sample mean is 68.92999999999999 "
   ]
  },
  {
   "cell_type": "markdown",
   "metadata": {},
   "source": [
    "## Solution to part 4\n",
    "\n",
    "Note that the sample standard error is different from the population standard error. You need to keep in mind that sample standard error has a factor of $ \\sqrt{n-1}$ not $ \\sqrt{n}$ as we did for population standard error. "
   ]
  },
  {
   "cell_type": "code",
   "execution_count": null,
   "metadata": {
    "ExecuteTime": {
     "end_time": "2020-05-21T21:40:57.065335Z",
     "start_time": "2020-05-21T21:40:57.060481Z"
    }
   },
   "outputs": [],
   "source": [
    "# standard error calculation\n",
    "denominator = ## Denominator of the standard error \n",
    "\n",
    "standard_error = ## Divide the standard deviation by the denominator to get the standard error \n",
    "\n",
    "print(\"The sample standard error is {}\".format(standard_error))\n"
   ]
  },
  {
   "cell_type": "markdown",
   "metadata": {},
   "source": [
    "The sample standard error is 1.2513695252583041"
   ]
  },
  {
   "cell_type": "code",
   "execution_count": null,
   "metadata": {},
   "outputs": [],
   "source": []
  }
 ],
 "metadata": {
  "kernelspec": {
   "display_name": "Python 3",
   "language": "python",
   "name": "python3"
  },
  "language_info": {
   "codemirror_mode": {
    "name": "ipython",
    "version": 3
   },
   "file_extension": ".py",
   "mimetype": "text/x-python",
   "name": "python",
   "nbconvert_exporter": "python",
   "pygments_lexer": "ipython3",
   "version": "3.7.3"
  },
  "latex_envs": {
   "LaTeX_envs_menu_present": true,
   "autoclose": false,
   "autocomplete": true,
   "bibliofile": "biblio.bib",
   "cite_by": "apalike",
   "current_citInitial": 1,
   "eqLabelWithNumbers": true,
   "eqNumInitial": 1,
   "hotkeys": {
    "equation": "Ctrl-E",
    "itemize": "Ctrl-I"
   },
   "labels_anchors": false,
   "latex_user_defs": false,
   "report_style_numbering": false,
   "user_envs_cfg": false
  },
  "toc": {
   "base_numbering": 1,
   "nav_menu": {},
   "number_sections": false,
   "sideBar": true,
   "skip_h1_title": false,
   "title_cell": "Table of Contents",
   "title_sidebar": "Contents",
   "toc_cell": false,
   "toc_position": {},
   "toc_section_display": true,
   "toc_window_display": false
  },
  "varInspector": {
   "cols": {
    "lenName": 16,
    "lenType": 16,
    "lenVar": 40
   },
   "kernels_config": {
    "python": {
     "delete_cmd_postfix": "",
     "delete_cmd_prefix": "del ",
     "library": "var_list.py",
     "varRefreshCmd": "print(var_dic_list())"
    },
    "r": {
     "delete_cmd_postfix": ") ",
     "delete_cmd_prefix": "rm(",
     "library": "var_list.r",
     "varRefreshCmd": "cat(var_dic_list()) "
    }
   },
   "types_to_exclude": [
    "module",
    "function",
    "builtin_function_or_method",
    "instance",
    "_Feature"
   ],
   "window_display": false
  }
 },
 "nbformat": 4,
 "nbformat_minor": 2
}
