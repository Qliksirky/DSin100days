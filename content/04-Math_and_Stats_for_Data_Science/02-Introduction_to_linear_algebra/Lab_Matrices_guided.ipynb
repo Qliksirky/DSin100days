{
 "cells": [
  {
   "cell_type": "markdown",
   "metadata": {},
   "source": [
    "## Lab - Matrices\n",
    "\n",
    "Create the following matrices...\n",
    "\n",
    "$A = \\left[\\begin{array}{cc}10 & 95 & 8 \\\\ 95 & 20 & 9 \\\\ 8 & 9 & 30\\end{array}\\right]$\n",
    "\n",
    "$B = \\left[\\begin{array}{cc}5 & 8 & 3 & 6\\\\ 95 & 20 & 9 & 3\\\\ 8 & 9 & 30 & 3\\\\ 8 & 9 & 30 & 3\\end{array}\\right]$\n",
    "\n",
    "$C = \\left[\\begin{array}{cc}0 & 6 & 250 \\\\ -6 & 0 & 86.3 \\\\ -250 & -86.3 & 0\\end{array}\\right]$\n",
    "\n",
    "...calculate...\n",
    "\n",
    "1. Transpose of A,B and C\n",
    "2. Inverse of A, B and C\n",
    "\n",
    "...answer the following...\n",
    "\n",
    "* What type of matrices are A, B and C\n",
    "\n",
    "...and perform the below given operations\n",
    "\n",
    "1. Add A and B. Is the additive result a special type of matrix? If yes, then what type of matrix is it?\n",
    "2. Multiply A and C. Is the product a special type of matrix? If yes, then what type of matrix is it?"
   ]
  },
  {
   "cell_type": "code",
   "execution_count": null,
   "metadata": {
    "ExecuteTime": {
     "end_time": "2020-05-19T21:28:20.113254Z",
     "start_time": "2020-05-19T21:28:20.047859Z"
    }
   },
   "outputs": [],
   "source": [
    "import numpy as np \n",
    "A = np.array([[10, 95, 8], [95, 20, 9], [8, 9, 30]])\n",
    "B  = np.array([[5, 8, 3, 6], [ 95, 20, 9, 3], [ 8, 9, 30, 3], [8, 9, 30, 3]])\n",
    "C = np.array([[0, 6, 250 ], [-6, 0, 86.3], [-250, -86.3, 0]])\n",
    "\n",
    "type_A = ## Get type of matrix A \n",
    "type_B = ## Get type of matrix B\n",
    "type_C = ## Get type of matrix C\n",
    "\n",
    "print(\" A, B and C are matrices of type {}, {}, {}\".format(type_A, type_B, type_C))"
   ]
  },
  {
   "cell_type": "markdown",
   "metadata": {},
   "source": [
    " A, B and C are matrices of type <class 'numpy.ndarray'>, <class 'numpy.ndarray'>, <class 'numpy.ndarray'>"
   ]
  },
  {
   "cell_type": "code",
   "execution_count": null,
   "metadata": {
    "ExecuteTime": {
     "end_time": "2020-05-19T21:28:20.119817Z",
     "start_time": "2020-05-19T21:28:20.114707Z"
    }
   },
   "outputs": [],
   "source": [
    "# transpose of the matrices\n",
    "A_T = ## Get transpose of matrix A\n",
    "B_T = ## Get transpose of matrix B\n",
    "C_T = ## Get transpose of matrix C\n",
    "print(\"A transpose is  \\n {}\".format(A_T)) \n",
    "print(\"B transpose is \\n {}\".format(B_T)) \n",
    "print(\"C transpose is \\n {}\".format(C_T)) \n"
   ]
  },
  {
   "cell_type": "markdown",
   "metadata": {},
   "source": [
    "A transpose is  \n",
    " [[10 95  8] <br>\n",
    " [95 20  9] <br>\n",
    " [ 8  9 30]] <br>\n",
    "B transpose is <br>\n",
    " [[ 5 95  8  8] <br>\n",
    " [ 8 20  9  9] <br>\n",
    " [ 3  9 30 30] <br>\n",
    " [ 6  3  3  3]] <br>\n",
    "C transpose is <br>\n",
    " [[   0.    -6.  -250. ] <br>\n",
    " [   6.     0.   -86.3] <br>\n",
    " [ 250.    86.3    0. ]] <br>"
   ]
  },
  {
   "cell_type": "markdown",
   "metadata": {},
   "source": [
    "Let us check each matrix for three things - Is it Symmetric, Skew Symmetric, Singular \n",
    "Remember - \n",
    "* Symmetric  is $A^T = A$ \n",
    "* Skew Symmetric is  $A^T = -A$\n",
    "* Singular  is $ \\text{det}(A) = 0$\n"
   ]
  },
  {
   "cell_type": "markdown",
   "metadata": {},
   "source": [
    "At this point, we already have the transposed values so its easy to check if all the matrices are Symmetric, Skew Symmetric or Singular. Since we have three matrices and we need to do the same thing on all three matrices, we are going to write a function to solve this problem. \n"
   ]
  },
  {
   "cell_type": "code",
   "execution_count": null,
   "metadata": {
    "ExecuteTime": {
     "end_time": "2020-05-19T21:28:20.129574Z",
     "start_time": "2020-05-19T21:28:20.121288Z"
    }
   },
   "outputs": [],
   "source": [
    "# Starting with matrix A \n",
    "def check_matrices(mat): \n",
    "    mat_T = np.transpose(mat)\n",
    "    \n",
    "   \n",
    "    sym_check = ## Check if mat and mat_T are array equal\n",
    "    sksym_check = ## Check if minus mat and mat_T are array equal\n",
    "    singular_check = ## Using the numpy linear algebra package, calcuate the determinant\n",
    "    \n",
    "    ## Write a dict called results wehre you store the answers based on the keys \n",
    "    ## symmetric, ske_skymmetric and singular  \n",
    "    return results \n",
    "\n",
    "\n",
    "results_A  = check_matrices(A)\n",
    "results_B = check_matrices(B)\n",
    "results_C = check_matrices(C)\n",
    "\n",
    "print(\"Results from check matrices for A: \\n {}\".format(results_A))\n",
    "print(\"Results from check matrices for B: \\n {}\".format(results_B))\n",
    "print(\"Results from check matrices for C: \\n {}\".format(results_C))\n",
    "\n",
    "# Are A, B and C singular? \n",
    "singular_A = \"Non singular\"\n",
    "singular_B = \"Singular\"\n",
    "singular_C = \"Singular\"\n",
    "\n",
    "print(\"A is {}, B is {}, C is {}\".format(singular_A, singular_B, singular_C))"
   ]
  },
  {
   "cell_type": "markdown",
   "metadata": {},
   "source": [
    "Results from check matrices for A:  <br>\n",
    " {'symmetric': True, 'skew_symmetric': False, 'singular': -253159.99999999977}<br>\n",
    "Results from check matrices for B: <br>\n",
    " {'symmetric': False, 'skew_symmetric': False, 'singular': 0.0} <br>\n",
    "Results from check matrices for C:  <br>\n",
    " {'symmetric': False, 'skew_symmetric': True, 'singular': 6.827871601444718e-12} <br>\n",
    "A is Non singular, B is Singular, C is Singular <br>"
   ]
  },
  {
   "cell_type": "code",
   "execution_count": null,
   "metadata": {
    "ExecuteTime": {
     "end_time": "2020-05-19T21:28:20.167407Z",
     "start_time": "2020-05-19T21:28:20.130939Z"
    }
   },
   "outputs": [],
   "source": [
    "# Add matrices A and B \n",
    "print(\"result of A + B is {}\".format('####'))\n"
   ]
  },
  {
   "cell_type": "code",
   "execution_count": null,
   "metadata": {
    "ExecuteTime": {
     "end_time": "2020-05-19T21:28:20.168404Z",
     "start_time": "2020-05-19T21:28:20.106Z"
    }
   },
   "outputs": [],
   "source": [
    "matmul_AC  = # matrix multiply matrices A and C using numpy \n",
    "print(\"matrix multiplication of A and C is : \\n {}\".format(matmul_AC))\n"
   ]
  },
  {
   "cell_type": "markdown",
   "metadata": {
    "ExecuteTime": {
     "end_time": "2020-05-19T21:06:50.709821Z",
     "start_time": "2020-05-19T21:06:50.706455Z"
    }
   },
   "source": [
    "[[-2570.   -630.4 10698.5] <br>\n",
    " [-2370.   -206.7 25476. ] <br>\n",
    " [-7554.  -2541.   2776.7]] <br>\n",
    " "
   ]
  },
  {
   "cell_type": "code",
   "execution_count": null,
   "metadata": {},
   "outputs": [],
   "source": []
  }
 ],
 "metadata": {
  "kernelspec": {
   "display_name": "Python 3",
   "language": "python",
   "name": "python3"
  },
  "language_info": {
   "codemirror_mode": {
    "name": "ipython",
    "version": 3
   },
   "file_extension": ".py",
   "mimetype": "text/x-python",
   "name": "python",
   "nbconvert_exporter": "python",
   "pygments_lexer": "ipython3",
   "version": "3.7.3"
  },
  "latex_envs": {
   "LaTeX_envs_menu_present": true,
   "autoclose": false,
   "autocomplete": true,
   "bibliofile": "biblio.bib",
   "cite_by": "apalike",
   "current_citInitial": 1,
   "eqLabelWithNumbers": true,
   "eqNumInitial": 1,
   "hotkeys": {
    "equation": "Ctrl-E",
    "itemize": "Ctrl-I"
   },
   "labels_anchors": false,
   "latex_user_defs": false,
   "report_style_numbering": false,
   "user_envs_cfg": false
  },
  "toc": {
   "base_numbering": 1,
   "nav_menu": {},
   "number_sections": false,
   "sideBar": true,
   "skip_h1_title": false,
   "title_cell": "Table of Contents",
   "title_sidebar": "Contents",
   "toc_cell": false,
   "toc_position": {},
   "toc_section_display": true,
   "toc_window_display": false
  },
  "varInspector": {
   "cols": {
    "lenName": 16,
    "lenType": 16,
    "lenVar": 40
   },
   "kernels_config": {
    "python": {
     "delete_cmd_postfix": "",
     "delete_cmd_prefix": "del ",
     "library": "var_list.py",
     "varRefreshCmd": "print(var_dic_list())"
    },
    "r": {
     "delete_cmd_postfix": ") ",
     "delete_cmd_prefix": "rm(",
     "library": "var_list.r",
     "varRefreshCmd": "cat(var_dic_list()) "
    }
   },
   "types_to_exclude": [
    "module",
    "function",
    "builtin_function_or_method",
    "instance",
    "_Feature"
   ],
   "window_display": false
  }
 },
 "nbformat": 4,
 "nbformat_minor": 2
}
