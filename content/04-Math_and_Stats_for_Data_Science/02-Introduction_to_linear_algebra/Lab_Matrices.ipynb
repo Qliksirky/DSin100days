{
 "cells": [
  {
   "cell_type": "markdown",
   "metadata": {},
   "source": [
    "## Lab - Matrices\n",
    "\n",
    "Create the following matrices...\n",
    "\n",
    "$A = \\left[\\begin{array}{cc}10 & 95 & 8 \\\\ 95 & 20 & 9 \\\\ 8 & 9 & 30\\end{array}\\right]$\n",
    "\n",
    "$B = \\left[\\begin{array}{cc}5 & 8 & 3 & 6\\\\ 95 & 20 & 9 & 3\\\\ 8 & 9 & 30 & 3\\\\ 8 & 9 & 30 & 3\\end{array}\\right]$\n",
    "\n",
    "$C = \\left[\\begin{array}{cc}0 & 6 & 250 \\\\ -6 & 0 & 86.3 \\\\ -250 & -86.3 & 0\\end{array}\\right]$\n",
    "\n",
    "...calculate...\n",
    "\n",
    "1. Transpose of A,B and C\n",
    "2. Inverse of A, B and C\n",
    "\n",
    "...answer the following...\n",
    "\n",
    "* What type of matrices are A, B and C\n",
    "\n",
    "...and perform the below given operations\n",
    "\n",
    "1. Add A and B. Is the additive result a special type of matrix? If yes, then what type of matrix is it?\n",
    "2. Multiply A and B. Is the product a special type of matrix? If yes, then what type of matrix is it?"
   ]
  },
  {
   "cell_type": "code",
   "execution_count": null,
   "metadata": {
    "ExecuteTime": {
     "end_time": "2020-05-19T20:22:09.307542Z",
     "start_time": "2020-05-19T20:22:09.268959Z"
    }
   },
   "outputs": [],
   "source": []
  },
  {
   "cell_type": "code",
   "execution_count": null,
   "metadata": {},
   "outputs": [],
   "source": []
  }
 ],
 "metadata": {
  "kernelspec": {
   "display_name": "Python 3",
   "language": "python",
   "name": "python3"
  },
  "language_info": {
   "codemirror_mode": {
    "name": "ipython",
    "version": 3
   },
   "file_extension": ".py",
   "mimetype": "text/x-python",
   "name": "python",
   "nbconvert_exporter": "python",
   "pygments_lexer": "ipython3",
   "version": "3.7.3"
  },
  "latex_envs": {
   "LaTeX_envs_menu_present": true,
   "autoclose": false,
   "autocomplete": true,
   "bibliofile": "biblio.bib",
   "cite_by": "apalike",
   "current_citInitial": 1,
   "eqLabelWithNumbers": true,
   "eqNumInitial": 1,
   "hotkeys": {
    "equation": "Ctrl-E",
    "itemize": "Ctrl-I"
   },
   "labels_anchors": false,
   "latex_user_defs": false,
   "report_style_numbering": false,
   "user_envs_cfg": false
  },
  "toc": {
   "base_numbering": 1,
   "nav_menu": {},
   "number_sections": false,
   "sideBar": true,
   "skip_h1_title": false,
   "title_cell": "Table of Contents",
   "title_sidebar": "Contents",
   "toc_cell": false,
   "toc_position": {},
   "toc_section_display": true,
   "toc_window_display": false
  },
  "varInspector": {
   "cols": {
    "lenName": 16,
    "lenType": 16,
    "lenVar": 40
   },
   "kernels_config": {
    "python": {
     "delete_cmd_postfix": "",
     "delete_cmd_prefix": "del ",
     "library": "var_list.py",
     "varRefreshCmd": "print(var_dic_list())"
    },
    "r": {
     "delete_cmd_postfix": ") ",
     "delete_cmd_prefix": "rm(",
     "library": "var_list.r",
     "varRefreshCmd": "cat(var_dic_list()) "
    }
   },
   "types_to_exclude": [
    "module",
    "function",
    "builtin_function_or_method",
    "instance",
    "_Feature"
   ],
   "window_display": false
  }
 },
 "nbformat": 4,
 "nbformat_minor": 2
}
