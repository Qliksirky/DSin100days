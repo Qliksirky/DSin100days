{
 "cells": [
  {
   "cell_type": "markdown",
   "metadata": {},
   "source": [
    "# Lab- Introduction to Prediction Models \n",
    "In this lab we will learn how to calcuate regression metrics by hand and compare their result to what we get from sklearn as well. \n",
    "This will be a good exercise in helping us understand how regression metrics are calucated.\n",
    "\n",
    "So the order of things will be: \n",
    "1) Build a regression model for randomly generated data <br>\n",
    "2) Calculate the following metrics by hand- MAE, MSE, $\\text{R}^2$ <br> \n",
    "3) Calculate the same set of metrics using sklearn and compare \n"
   ]
  },
  {
   "cell_type": "code",
   "execution_count": 52,
   "metadata": {},
   "outputs": [],
   "source": [
    "import numpy as np\n",
    "from matplotlib import pyplot as plt\n",
    "from sklearn import linear_model, datasets, metrics\n",
    "\n",
    "\n",
    "n_points = 10000\n",
    "n_outliers = 50\n",
    "\n",
    "\n",
    "x, y = datasets.make_regression(n_samples=n_points,\n",
    "                                      n_features=1,\n",
    "                                      n_informative=1,\n",
    "                                      noise=2,\n",
    "                                      random_state=0)\n"
   ]
  },
  {
   "cell_type": "code",
   "execution_count": 22,
   "metadata": {},
   "outputs": [],
   "source": [
    "lr = linear_model.LinearRegression()\n",
    "lr.fit(x,y)\n",
    "predictions = lr.predict(x)\n",
    "slope = lr.coef_\n",
    "intercept = lr.intercept_"
   ]
  },
  {
   "cell_type": "code",
   "execution_count": 25,
   "metadata": {},
   "outputs": [
    {
     "data": {
      "image/png": "[encoded data removed]",
      "text/plain": [
       "<Figure size 432x288 with 1 Axes>"
      ]
     },
     "metadata": {
      "needs_background": "light"
     },
     "output_type": "display_data"
    }
   ],
   "source": [
    "model_x = np.arange(-5,5,0.1 )\n",
    "model_line = (slope*model_x) + intercept\n",
    "plt.scatter(x,y)\n",
    "plt.plot(model_x, model_line, c=\"red\")\n",
    "plt.show()"
   ]
  },
  {
   "cell_type": "markdown",
   "metadata": {},
   "source": [
    "## Part 1: Manually Calcuating metrics\n"
   ]
  },
  {
   "cell_type": "code",
   "execution_count": 29,
   "metadata": {},
   "outputs": [
    {
     "name": "stdout",
     "output_type": "stream",
     "text": [
      "MAE value is 1.5939893211912775\n"
     ]
    }
   ],
   "source": [
    "# MAE: Mean absolute error \n",
    "\n",
    "inside_term = np.abs(predictions-y)\n",
    "MAE = np.mean(inside_term)\n",
    "print(\"MAE value is {}\".format(MAE))"
   ]
  },
  {
   "cell_type": "markdown",
   "metadata": {},
   "source": [
    "MAE value is 1.5939893211912775"
   ]
  },
  {
   "cell_type": "code",
   "execution_count": 31,
   "metadata": {},
   "outputs": [
    {
     "name": "stdout",
     "output_type": "stream",
     "text": [
      "MSE value is 4.005266767887255\n"
     ]
    }
   ],
   "source": [
    "# Mean squared error \n",
    "\n",
    "inside_term =  np.power((predictions-y), 2) \n",
    "MSE = np.mean(inside_term)\n",
    "print(\"MSE value is {}\".format(MSE))"
   ]
  },
  {
   "cell_type": "markdown",
   "metadata": {},
   "source": [
    "MSE value is 4.005266767887255"
   ]
  },
  {
   "cell_type": "code",
   "execution_count": 47,
   "metadata": {},
   "outputs": [
    {
     "name": "stdout",
     "output_type": "stream",
     "text": [
      "R2  value is 0.954960377684678\n"
     ]
    }
   ],
   "source": [
    "# R^2 metric \n",
    "\n",
    "denominator = np.sum(np.power(predictions - np.mean(predictions),2))\n",
    "numerator = np.sum(np.power(predictions-y,2))\n",
    "R2 = 1 - (numerator/denominator)\n",
    "print(\"R2  value is {}\".format(R2))"
   ]
  },
  {
   "cell_type": "markdown",
   "metadata": {},
   "source": [
    "R2  value is 0.954960377684678"
   ]
  },
  {
   "cell_type": "markdown",
   "metadata": {},
   "source": [
    "# Part 2: Comparing with Sklearn's results\n"
   ]
  },
  {
   "cell_type": "code",
   "execution_count": 45,
   "metadata": {},
   "outputs": [
    {
     "name": "stdout",
     "output_type": "stream",
     "text": [
      "MAE manual vs MAE using Sklearn- \n",
      "MAE manual: 1.5939893211912775 \n",
      "MAE sklearn: 1.5939893211912775\n"
     ]
    }
   ],
   "source": [
    "# MSE \n",
    "MAE_sk = metrics.mean_absolute_error(predictions, y)\n",
    "print(\"MAE manual vs MAE using Sklearn- \\nMAE manual: {} \\nMAE sklearn: {}\".format(MAE, MAE_sk))"
   ]
  },
  {
   "cell_type": "markdown",
   "metadata": {},
   "source": [
    "MAE manual vs MAE using Sklearn-  <br>\n",
    "MAE manual: 1.5939893211912775 <br>\n",
    "MAE sklearn: 1.5939893211912775 <br>"
   ]
  },
  {
   "cell_type": "code",
   "execution_count": 46,
   "metadata": {},
   "outputs": [
    {
     "name": "stdout",
     "output_type": "stream",
     "text": [
      "MSE manual vs MSE using Sklearn- \n",
      "MSE manual: 4.005266767887255 \n",
      "MSE sklearn: 4.005266767887255\n"
     ]
    }
   ],
   "source": [
    "# MSE \n",
    "MSE_sk = metrics.mean_squared_error(predictions, y)\n",
    "print(\"MSE manual vs MSE using Sklearn- \\nMSE manual: {} \\nMSE sklearn: {}\".format(MSE, MSE_sk))"
   ]
  },
  {
   "cell_type": "code",
   "execution_count": 49,
   "metadata": {},
   "outputs": [
    {
     "name": "stdout",
     "output_type": "stream",
     "text": [
      "R2 manual vs R2 using Sklearn- \n",
      "R2 manual: 0.954960377684678 \n",
      "R2 sklearn: 0.954960377684678\n"
     ]
    }
   ],
   "source": [
    "# R2\n",
    "R2_sk = metrics.r2_score(predictions, y)\n",
    "print(\"R2 manual vs R2 using Sklearn- \\nR2 manual: {} \\nR2 sklearn: {}\".format(R2, R2_sk))"
   ]
  },
  {
   "cell_type": "markdown",
   "metadata": {},
   "source": [
    "# Part 3: Introducing error\n"
   ]
  },
  {
   "cell_type": "code",
   "execution_count": 55,
   "metadata": {},
   "outputs": [],
   "source": [
    "displace_index = [10, 1000, 8888]\n",
    "displacement = [30, -100, 50]\n",
    "displaced_y = y.copy()\n",
    "displaced_y[displace_index] = y[displace_index] + displacement\n"
   ]
  },
  {
   "cell_type": "code",
   "execution_count": 58,
   "metadata": {},
   "outputs": [],
   "source": [
    "lr.fit(x, displaced_y)\n",
    "displaced_preds = lr.predict(x)\n",
    "displaced_slope = lr.coef_\n",
    "displaced_intercept = lr.intercept_\n"
   ]
  },
  {
   "cell_type": "code",
   "execution_count": 60,
   "metadata": {},
   "outputs": [
    {
     "data": {
      "image/png": "[encoded data removed]",
      "text/plain": [
       "<Figure size 432x288 with 1 Axes>"
      ]
     },
     "metadata": {
      "needs_background": "light"
     },
     "output_type": "display_data"
    }
   ],
   "source": [
    "model_x = np.arange(-5,5,0.1 )\n",
    "model_line = (slope*model_x) + intercept\n",
    "displaced_model = (displaced_slope*model_x) +  displaced_intercept\n",
    "plt.scatter(x,displaced_y)\n",
    "plt.plot(model_x, model_line, c=\"red\")\n",
    "plt.plot(model_x, displaced_model, c=\"green\")\n",
    "plt.show()"
   ]
  },
  {
   "cell_type": "code",
   "execution_count": 62,
   "metadata": {},
   "outputs": [],
   "source": [
    "dis_mae = metrics.mean_absolute_error(displaced_preds, y)"
   ]
  },
  {
   "cell_type": "code",
   "execution_count": 67,
   "metadata": {},
   "outputs": [
    {
     "data": {
      "text/plain": [
       "0.0038914126313758643"
      ]
     },
     "execution_count": 67,
     "metadata": {},
     "output_type": "execute_result"
    }
   ],
   "source": [
    "((dis_mae-MAE)/MAE)*100\n"
   ]
  },
  {
   "cell_type": "code",
   "execution_count": 71,
   "metadata": {},
   "outputs": [
    {
     "data": {
      "text/plain": [
       "0.00035557901042923204"
      ]
     },
     "execution_count": 71,
     "metadata": {},
     "output_type": "execute_result"
    }
   ],
   "source": [
    "dis_mse = metrics.mean_squared_error(displaced_preds, y)\n",
    "((dis_mse-MSE)/MSE)*100\n"
   ]
  },
  {
   "cell_type": "code",
   "execution_count": 70,
   "metadata": {},
   "outputs": [
    {
     "data": {
      "text/plain": [
       "0.0031827990213488468"
      ]
     },
     "execution_count": 70,
     "metadata": {},
     "output_type": "execute_result"
    }
   ],
   "source": [
    "dis_R2 = metrics.r2_score(displaced_preds, y)\n",
    "((dis_R2-R2)/R2)*100"
   ]
  },
  {
   "cell_type": "code",
   "execution_count": null,
   "metadata": {},
   "outputs": [],
   "source": []
  }
 ],
 "metadata": {
  "kernelspec": {
   "display_name": "Python 3",
   "language": "python",
   "name": "python3"
  },
  "language_info": {
   "codemirror_mode": {
    "name": "ipython",
    "version": 3
   },
   "file_extension": ".py",
   "mimetype": "text/x-python",
   "name": "python",
   "nbconvert_exporter": "python",
   "pygments_lexer": "ipython3",
   "version": "3.7.6"
  }
 },
 "nbformat": 4,
 "nbformat_minor": 4
}
