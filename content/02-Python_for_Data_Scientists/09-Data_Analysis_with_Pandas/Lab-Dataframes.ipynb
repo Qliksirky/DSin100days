{
 "cells": [
  {
   "cell_type": "markdown",
   "metadata": {},
   "source": [
    "# Lab : Pandas and Dataframes \n",
    "\n",
    "Pandas is the bread and butter for a Data Analyst or data scientists. We use pandas to load and transform data. Typically pandas is used to perform all the the exploratory data analysis. \n",
    "\n",
    "In this lab we will be working on two datasets. \n",
    "\n",
    "Part I: We will use the Iris Dataset, in part 2 we will use the grad student dataset, in part 3 we will use the titanic dataset. \n",
    "\n",
    "Lets start with the Iris dataset. "
   ]
  },
  {
   "cell_type": "code",
   "execution_count": 33,
   "metadata": {},
   "outputs": [],
   "source": [
    "import pandas as pd\n",
    "from sklearn.datasets import load_iris\n",
    "import random\n",
    "import numpy as np\n",
    "\n",
    "# IRIS DATASET \n",
    "iris_dataset = load_iris()\n",
    "target = list(iris_dataset.target) \n",
    "dataset = list(iris_dataset.data)\n",
    "target_names = list(iris_dataset.target_names)\n",
    "feature_names = iris_dataset.feature_names\n",
    "\n",
    "\n",
    "# HEART DATASET \n",
    "heart_loc = \"../../../data/heart.csv\"\n"
   ]
  },
  {
   "cell_type": "code",
   "execution_count": 2,
   "metadata": {},
   "outputs": [
    {
     "name": "stdout",
     "output_type": "stream",
     "text": [
      "The head of the iris dataset is \n",
      "   sepal length (cm)  sepal width (cm)  petal length (cm)  petal width (cm)\n",
      "0                5.1               3.5                1.4               0.2\n",
      "1                4.9               3.0                1.4               0.2\n",
      "2                4.7               3.2                1.3               0.2\n",
      "3                4.6               3.1                1.5               0.2\n",
      "4                5.0               3.6                1.4               0.2\n"
     ]
    }
   ],
   "source": [
    "# Using the variable dataset make a dataframe. Remember when \n",
    "# when you have a list you need to do df = pd.DataFrame(data=list, columns=column_names)\n",
    "# where column_names is a list \n",
    "iris_df = pd.DataFrame(data=dataset, columns=feature_names)\n",
    "\n",
    "# Store the head of the iris_df, by deafualt the head stores 5 rows of data \n",
    "iris_head = iris_df.head()\n",
    "\n",
    "# You should get the exact values as show below \n",
    "print(\"The head of the iris dataset is \\n{}\".format(iris_head))"
   ]
  },
  {
   "cell_type": "markdown",
   "metadata": {},
   "source": [
    "The head of the iris dataset is <br>\n",
    "   sepal length (cm)  sepal width (cm)  petal length (cm)  petal width (cm) <br>\n",
    "0                5.1               3.5                1.4               0.2 <br>\n",
    "1                4.9               3.0                1.4               0.2 <br>\n",
    "2                4.7               3.2                1.3               0.2 <br>\n",
    "3                4.6               3.1                1.5               0.2 <br>\n",
    "4                5.0               3.6                1.4               0.2 <br>\n"
   ]
  },
  {
   "cell_type": "code",
   "execution_count": 3,
   "metadata": {},
   "outputs": [
    {
     "name": "stdout",
     "output_type": "stream",
     "text": [
      "Head of target dataframe is : \n",
      "    target\n",
      "0       0\n",
      "1       0\n",
      "2       0\n",
      "3       0\n",
      "4       0\n"
     ]
    }
   ],
   "source": [
    "# Next create a dataframe for the variable target. This is similar to what you did above\n",
    "target_df = pd.DataFrame(data=target, columns=['target'])\n",
    "\n",
    "print(\"Head of target dataframe is : \\n {}\".format(target_df.head()))"
   ]
  },
  {
   "cell_type": "markdown",
   "metadata": {},
   "source": [
    "Head of target dataframe is : <br>\n",
    "    target <br>\n",
    "0       0 <br>\n",
    "1       0 <br>\n",
    "2       0 <br>\n",
    "3       0 <br>\n",
    "4       0 <br>"
   ]
  },
  {
   "cell_type": "markdown",
   "metadata": {},
   "source": [
    "Next we want to combine both the dataframes ```iris_df``` and ```target_df```. There are multiple ways of doing this in pandas. We will use the concat function here. You can read about it [here](https://pandas.pydata.org/pandas-docs/stable/reference/api/pandas.concat.html)"
   ]
  },
  {
   "cell_type": "code",
   "execution_count": 4,
   "metadata": {},
   "outputs": [
    {
     "name": "stdout",
     "output_type": "stream",
     "text": [
      "Shape of the iris combine dataframe : (150, 5)\n"
     ]
    }
   ],
   "source": [
    "# Use the concat function combine iris_df and target_df. Make sure you check \n",
    "# the axis along which you are combining the dataframes \n",
    "iris_combined_df = pd.concat([iris_df, target_df], axis=1) \n",
    "\n",
    "print(\"Shape of the iris combine dataframe : {}\".format(iris_combined_df.shape))"
   ]
  },
  {
   "cell_type": "markdown",
   "metadata": {},
   "source": [
    "Shape of the iris combine dataframe : (150, 5)\n"
   ]
  },
  {
   "cell_type": "code",
   "execution_count": 5,
   "metadata": {},
   "outputs": [
    {
     "name": "stdout",
     "output_type": "stream",
     "text": [
      "Third row values : \n",
      "sepal length (cm)    4.7\n",
      "sepal width (cm)     3.2\n",
      "petal length (cm)    1.3\n",
      "petal width (cm)     0.2\n",
      "target               0.0\n",
      "Name: 2, dtype: float64\n"
     ]
    }
   ],
   "source": [
    "# Next print the values in the 3rd row of the iris_combined_df \n",
    "third_row = iris_combined_df.iloc[2,:]\n",
    "\n",
    "print(\"Third row values : \\n{}\".format(third_row))"
   ]
  },
  {
   "cell_type": "markdown",
   "metadata": {},
   "source": [
    "Third row values : <br>\n",
    "sepal length (cm)    4.7 <br>\n",
    "sepal width (cm)     3.2 <br>\n",
    "petal length (cm)    1.3 <br>\n",
    "petal width (cm)     0.2 <br>\n",
    "target               0.0 <br>\n",
    "Name: 2, dtype: float64 <br>\n"
   ]
  },
  {
   "cell_type": "code",
   "execution_count": 6,
   "metadata": {},
   "outputs": [
    {
     "name": "stdout",
     "output_type": "stream",
     "text": [
      "Print the head of the third column is : \n",
      "0    1.4\n",
      "1    1.4\n",
      "2    1.3\n",
      "3    1.5\n",
      "4    1.4\n",
      "Name: petal length (cm), dtype: float64\n"
     ]
    }
   ],
   "source": [
    "# Suppose we want the third column in the dataset. Using iloc can you get the third column\n",
    "third_column = iris_combined_df.iloc[:,2]\n",
    "print(\"Print the head of the third column is : \\n{}\".format(third_column.head()))"
   ]
  },
  {
   "cell_type": "markdown",
   "metadata": {},
   "source": [
    "Print the head of the third column is : <br>\n",
    "0    1.4 <br>\n",
    "1    1.4 <br>\n",
    "2    1.3 <br>\n",
    "3    1.5 <br>\n",
    "4    1.4 <br>\n",
    "Name: petal length (cm), dtype: float64 <br>"
   ]
  },
  {
   "cell_type": "markdown",
   "metadata": {},
   "source": [
    "Now suppose you want to change a single value in the dataframe i.e the value in a single cell of the dataframe. How would you do that? "
   ]
  },
  {
   "cell_type": "code",
   "execution_count": 7,
   "metadata": {},
   "outputs": [
    {
     "name": "stdout",
     "output_type": "stream",
     "text": [
      "Print the third row of iris dataset : \n",
      "sepal length (cm)       4.6\n",
      "sepal width (cm)        3.1\n",
      "petal length (cm)       1.5\n",
      "petal width (cm)        0.2\n",
      "target               setosa\n",
      "Name: 3, dtype: object\n"
     ]
    }
   ],
   "source": [
    "# Change the value of target in the 3rd row in the iris_combined_df from 0 to setosa \n",
    "iris_combined_df.loc[3,'target'] = 'setosa'\n",
    "\n",
    "print(\"Print the third row of iris dataset : \\n{}\".format(iris_combined_df.iloc[3,:]))"
   ]
  },
  {
   "cell_type": "markdown",
   "metadata": {},
   "source": [
    "Print the third row of iris dataset : <br>\n",
    "sepal length (cm)       4.6 <br>\n",
    "sepal width (cm)        3.1 <br>\n",
    "petal length (cm)       1.5 <br>\n",
    "petal width (cm)        0.2 <br>\n",
    "target               setosa <br>\n",
    "Name: 3, dtype: object <br>\n"
   ]
  },
  {
   "cell_type": "markdown",
   "metadata": {},
   "source": [
    "Next up, let see how we can apply an operation the entire row or an entire column of a dataframe.  The next part is a bit on the challenging side since you will have to use a lambda function to modify the column. Our first task is that we have to convert all the values in the target column to names. All the values in target are either 0 1, or 2 save the third row which we changed to 'setosa'. Hence we now have a column which contains integer values 0,1,2 and string 'setosa' \n",
    "\n",
    "To get around this, we will use the apply function to the target column. Take a look at it (here)[https://pandas.pydata.org/pandas-docs/stable/reference/api/pandas.DataFrame.apply.html]. Remember, we are applying this only to the target column not the rest of them. The argument of the apply function will be a lambda function like this: \n",
    "\n",
    "lambda x: use names_dict[x] if  string of x is a digit, if not return x\n",
    "\n",
    "Now, you will add this lambda function as an argument into apply. You can use isdigit() to check if the string is a number."
   ]
  },
  {
   "cell_type": "code",
   "execution_count": 8,
   "metadata": {},
   "outputs": [
    {
     "name": "stdout",
     "output_type": "stream",
     "text": [
      "Head of the target column : \n",
      "0    setosa\n",
      "1    setosa\n",
      "2    setosa\n",
      "3    setosa\n",
      "4    setosa\n",
      "Name: target, dtype: object\n"
     ]
    }
   ],
   "source": [
    "names_dict = {0: target_names[0], 1:target_names[1], 2: target_names[2]}\n",
    "\n",
    "# Convert all the values in the target column to names.\n",
    "# you can use the names in target_names for this purpose\n",
    "iris_combined_df['target'] = iris_combined_df['target'].apply(lambda x: names_dict[x] if str(x).isdigit() else x)\n",
    "\n",
    "print(\"Head of the target column : \\n{}\".format(iris_combined_df['target'].head()))"
   ]
  },
  {
   "cell_type": "markdown",
   "metadata": {},
   "source": [
    "Head of the target column : <br> \n",
    "0    setosa  <br> \n",
    "1    setosa  <br> \n",
    "2    setosa  <br> \n",
    "3    setosa  <br> \n",
    "4    setosa  <br> \n",
    "Name: target, dtype: object  <br> \n"
   ]
  },
  {
   "cell_type": "markdown",
   "metadata": {},
   "source": [
    "The method above may not be the most elegant way of doing this. You may find other ways that are better or eaiser. Next lets looks at applying an operation to the entire row. \n",
    "\n",
    "Suppose we want to take the square of all the elements in the first row. How would you do it? "
   ]
  },
  {
   "cell_type": "code",
   "execution_count": 31,
   "metadata": {},
   "outputs": [
    {
     "name": "stdout",
     "output_type": "stream",
     "text": [
      "Squared values of the first row are : \n",
      "sepal length (cm)    26.01\n",
      "sepal width (cm)     12.25\n",
      "petal length (cm)     1.96\n",
      "petal width (cm)      0.04\n",
      "Name: 0, dtype: float64\n"
     ]
    }
   ],
   "source": [
    "iris_copy  = iris_combined_df.copy()\n",
    "\n",
    "# Use iris copy and square the values of the first row\n",
    "# In order to do this you need to use iloc to select\n",
    "# the first row and 4 columns. To this you need to apply \n",
    "# a lambda function that will square the values\n",
    "squared_values = iris_copy.iloc[0, 0:4].apply(lambda x : x*x)\n",
    "\n",
    "print(\"Squared values of the first row are : \\n{}\".format(squared_values))"
   ]
  },
  {
   "cell_type": "markdown",
   "metadata": {},
   "source": [
    "Squared values of the first row are : <br> \n",
    "sepal length (cm)    26.01 <br>\n",
    "sepal width (cm)     12.25 <br>\n",
    "petal length (cm)     1.96 <br>\n",
    "petal width (cm)      0.04 <br>\n",
    "Name: 0, dtype: float64 <br>"
   ]
  },
  {
   "cell_type": "markdown",
   "metadata": {},
   "source": [
    "## Part 2  \n",
    "Next up we will be using the heart dataset. Details on the dataset can be found [here](https://archive.ics.uci.edu/ml/datasets/heart+disease). The goal of the dataset is to predict the if a person has heart disease or not, to this end there are 13 features that can be used for this purpose. These features are a mix of continuous and categorical. Here we will explore the data using pandas\n",
    "\n",
    "Lets first start by import the data"
   ]
  },
  {
   "cell_type": "code",
   "execution_count": 35,
   "metadata": {},
   "outputs": [
    {
     "name": "stdout",
     "output_type": "stream",
     "text": [
      "Head of the heart dataset: \n",
      "   Unnamed: 0  Age  Sex     ChestPain  RestBP  Chol  Fbs  RestECG  MaxHR  \\\n",
      "0           1   63    1       typical     145   233    1        2    150   \n",
      "1           2   67    1  asymptomatic     160   286    0        2    108   \n",
      "2           3   67    1  asymptomatic     120   229    0        2    129   \n",
      "3           4   37    1    nonanginal     130   250    0        0    187   \n",
      "4           5   41    0    nontypical     130   204    0        2    172   \n",
      "\n",
      "   ExAng  Oldpeak  Slope   Ca        Thal  AHD  \n",
      "0      0      2.3      3  0.0       fixed   No  \n",
      "1      1      1.5      2  3.0      normal  Yes  \n",
      "2      1      2.6      2  2.0  reversable  Yes  \n",
      "3      0      3.5      3  0.0      normal   No  \n",
      "4      0      1.4      1  0.0      normal   No  \n"
     ]
    }
   ],
   "source": [
    "# Import the heart dataset by reading the csv file. the variable heart_loc contains path to the file\n",
    "heart_df = pd.read_csv(heart_loc)\n",
    "\n",
    "heart_head = heart_df.head()\n",
    "\n",
    "print(\"Head of the heart dataset: \\n{}\".format(heart_head))"
   ]
  },
  {
   "cell_type": "markdown",
   "metadata": {},
   "source": [
    "Head of the heart dataset: <br>\n",
    "   Unnamed: 0  Age  Sex     ChestPain  RestBP  Chol  Fbs  RestECG  MaxHR  \\ <br>\n",
    "0           1   63    1       typical     145   233    1        2    150   <br>\n",
    "1           2   67    1  asymptomatic     160   286    0        2    108   <br>\n",
    "2           3   67    1  asymptomatic     120   229    0        2    129   <br>\n",
    "3           4   37    1    nonanginal     130   250    0        0    187   <br>\n",
    "4           5   41    0    nontypical     130   204    0        2    172   <br>\n",
    "\n",
    "   ExAng  Oldpeak  Slope   Ca        Thal  AHD  <br>\n",
    "0      0      2.3      3  0.0       fixed   No  <br>\n",
    "1      1      1.5      2  3.0      normal  Yes  <br>\n",
    "2      1      2.6      2  2.0  reversable  Yes  <br>\n",
    "3      0      3.5      3  0.0      normal   No  <br>\n",
    "4      0      1.4      1  0.0      normal   No <br>"
   ]
  },
  {
   "cell_type": "markdown",
   "metadata": {},
   "source": [
    "When you are dealing with a categorical variable it is a good idea to a count of how many rows of data you have for each category. You can easily do this by using the [```value_counts```](https://pandas.pydata.org/pandas-docs/stable/reference/api/pandas.Series.value_counts.html)(click it to go to page) function in pandas. You apply value counts to a single column from the dataset. "
   ]
  },
  {
   "cell_type": "code",
   "execution_count": 38,
   "metadata": {},
   "outputs": [
    {
     "name": "stdout",
     "output_type": "stream",
     "text": [
      "Value counts of Chest Pain varaible : \n",
      "asymptomatic    144\n",
      "nonanginal       86\n",
      "nontypical       50\n",
      "typical          23\n",
      "Name: ChestPain, dtype: int64\n"
     ]
    }
   ],
   "source": [
    "# Use the value counts to get the number of rows in checkPain column of the hearts dataset. \n",
    "ChestPain_counts = heart_df['ChestPain'].value_counts()\n",
    "\n",
    "print(\"Value counts of Chest Pain variable : \\n{}\".format(ChestPain_counts))"
   ]
  },
  {
   "cell_type": "markdown",
   "metadata": {},
   "source": [
    "Value counts of Chest Pain variable : <br>\n",
    "asymptomatic    144 <br>\n",
    "nonanginal       86 <br>\n",
    "nontypical       50 <br>\n",
    "typical          23 <br>\n",
    "Name: ChestPain, dtype: int64 <br>"
   ]
  },
  {
   "cell_type": "code",
   "execution_count": 40,
   "metadata": {},
   "outputs": [
    {
     "name": "stdout",
     "output_type": "stream",
     "text": [
      "List of categories in the Categorical variable ChestPain : \n",
      "['asymptomatic', 'nonanginal', 'nontypical', 'typical']\n"
     ]
    }
   ],
   "source": [
    "# Suppose we want just the different categories and not the values how can we extra them? \n",
    "# Hint: You can get the index of ChestPain_counts and convert it to a list\n",
    "chestpain_categories = list(ChestPain_counts.index) \n",
    "\n",
    "print(\"List of categories in the Categorical variable ChestPain : \\n{}\".format(chestpain_categories))"
   ]
  },
  {
   "cell_type": "markdown",
   "metadata": {},
   "source": [
    "List of categories in the Categorical variable ChestPain : \n",
    "['asymptomatic', 'nonanginal', 'nontypical', 'typical']\n"
   ]
  },
  {
   "cell_type": "code",
   "execution_count": 41,
   "metadata": {},
   "outputs": [
    {
     "data": {
      "text/plain": [
       "{'asymptomatic': 144, 'nonanginal': 86, 'nontypical': 50, 'typical': 23}"
      ]
     },
     "execution_count": 41,
     "metadata": {},
     "output_type": "execute_result"
    }
   ],
   "source": [
    "# There may be situations that you may want to convert "
   ]
  },
  {
   "cell_type": "markdown",
   "metadata": {},
   "source": [
    "## Simplify the Grad Students Dataset\n",
    "\n",
    "Given a dataset about Graduate Students and their college majors and other statistics about the number of graduates, number employed etc, write python code to extract the following infromation from the dataset and write to a output file - \"grad_simplified.csv\". Use pandas library (Dataframe) for this purpose.\n",
    "\n",
    "The criteria for output extraction is:\n",
    "\n",
    "1. Only include the columns: Major_Code, Major, Major_Category, Grad_employes and Grad_unemployed\n",
    "2. Only include the Majors that have either 'ENGINEERING', 'TECHNOLOGIES' or 'SCIENCE' (case insensitive) in its major  field.\n",
    "3. Exclude any Major_category that has 'Social Science' or 'Arts' in the name of Major_category.\n",
    "\n",
    "\n"
   ]
  },
  {
   "cell_type": "code",
   "execution_count": 9,
   "metadata": {},
   "outputs": [],
   "source": [
    "# Import the library\n",
    "import pandas as pd\n",
    "\n",
    "grad_url = \"https://raw.githubusercontent.com/colaberry/538data/master/college-majors/grad-students.csv\"\n",
    "grad_students = pd.read_csv(grad_url)\n",
    "\n",
    "#Write your code here or in other code cells down"
   ]
  },
  {
   "cell_type": "code",
   "execution_count": 10,
   "metadata": {},
   "outputs": [
    {
     "data": {
      "text/html": [
       "<div>\n",
       "<style scoped>\n",
       "    .dataframe tbody tr th:only-of-type {\n",
       "        vertical-align: middle;\n",
       "    }\n",
       "\n",
       "    .dataframe tbody tr th {\n",
       "        vertical-align: top;\n",
       "    }\n",
       "\n",
       "    .dataframe thead th {\n",
       "        text-align: right;\n",
       "    }\n",
       "</style>\n",
       "<table border=\"1\" class=\"dataframe\">\n",
       "  <thead>\n",
       "    <tr style=\"text-align: right;\">\n",
       "      <th></th>\n",
       "      <th>Major_code</th>\n",
       "      <th>Major</th>\n",
       "      <th>Major_category</th>\n",
       "      <th>Grad_total</th>\n",
       "      <th>Grad_sample_size</th>\n",
       "      <th>Grad_employed</th>\n",
       "      <th>Grad_full_time_year_round</th>\n",
       "      <th>Grad_unemployed</th>\n",
       "      <th>Grad_unemployment_rate</th>\n",
       "      <th>Grad_median</th>\n",
       "      <th>...</th>\n",
       "      <th>Nongrad_total</th>\n",
       "      <th>Nongrad_employed</th>\n",
       "      <th>Nongrad_full_time_year_round</th>\n",
       "      <th>Nongrad_unemployed</th>\n",
       "      <th>Nongrad_unemployment_rate</th>\n",
       "      <th>Nongrad_median</th>\n",
       "      <th>Nongrad_P25</th>\n",
       "      <th>Nongrad_P75</th>\n",
       "      <th>Grad_share</th>\n",
       "      <th>Grad_premium</th>\n",
       "    </tr>\n",
       "  </thead>\n",
       "  <tbody>\n",
       "    <tr>\n",
       "      <th>0</th>\n",
       "      <td>5601</td>\n",
       "      <td>CONSTRUCTION SERVICES</td>\n",
       "      <td>Industrial Arts &amp; Consumer Services</td>\n",
       "      <td>9173</td>\n",
       "      <td>200</td>\n",
       "      <td>7098</td>\n",
       "      <td>6511</td>\n",
       "      <td>681</td>\n",
       "      <td>0.087543</td>\n",
       "      <td>75000.0</td>\n",
       "      <td>...</td>\n",
       "      <td>86062</td>\n",
       "      <td>73607</td>\n",
       "      <td>62435</td>\n",
       "      <td>3928</td>\n",
       "      <td>0.050661</td>\n",
       "      <td>65000.0</td>\n",
       "      <td>47000</td>\n",
       "      <td>98000.0</td>\n",
       "      <td>0.096320</td>\n",
       "      <td>0.153846</td>\n",
       "    </tr>\n",
       "    <tr>\n",
       "      <th>1</th>\n",
       "      <td>6004</td>\n",
       "      <td>COMMERCIAL ART AND GRAPHIC DESIGN</td>\n",
       "      <td>Arts</td>\n",
       "      <td>53864</td>\n",
       "      <td>882</td>\n",
       "      <td>40492</td>\n",
       "      <td>29553</td>\n",
       "      <td>2482</td>\n",
       "      <td>0.057756</td>\n",
       "      <td>60000.0</td>\n",
       "      <td>...</td>\n",
       "      <td>461977</td>\n",
       "      <td>347166</td>\n",
       "      <td>250596</td>\n",
       "      <td>25484</td>\n",
       "      <td>0.068386</td>\n",
       "      <td>48000.0</td>\n",
       "      <td>34000</td>\n",
       "      <td>71000.0</td>\n",
       "      <td>0.104420</td>\n",
       "      <td>0.250000</td>\n",
       "    </tr>\n",
       "    <tr>\n",
       "      <th>2</th>\n",
       "      <td>6211</td>\n",
       "      <td>HOSPITALITY MANAGEMENT</td>\n",
       "      <td>Business</td>\n",
       "      <td>24417</td>\n",
       "      <td>437</td>\n",
       "      <td>18368</td>\n",
       "      <td>14784</td>\n",
       "      <td>1465</td>\n",
       "      <td>0.073867</td>\n",
       "      <td>65000.0</td>\n",
       "      <td>...</td>\n",
       "      <td>179335</td>\n",
       "      <td>145597</td>\n",
       "      <td>113579</td>\n",
       "      <td>7409</td>\n",
       "      <td>0.048423</td>\n",
       "      <td>50000.0</td>\n",
       "      <td>35000</td>\n",
       "      <td>75000.0</td>\n",
       "      <td>0.119837</td>\n",
       "      <td>0.300000</td>\n",
       "    </tr>\n",
       "    <tr>\n",
       "      <th>3</th>\n",
       "      <td>2201</td>\n",
       "      <td>COSMETOLOGY SERVICES AND CULINARY ARTS</td>\n",
       "      <td>Industrial Arts &amp; Consumer Services</td>\n",
       "      <td>5411</td>\n",
       "      <td>72</td>\n",
       "      <td>3590</td>\n",
       "      <td>2701</td>\n",
       "      <td>316</td>\n",
       "      <td>0.080901</td>\n",
       "      <td>47000.0</td>\n",
       "      <td>...</td>\n",
       "      <td>37575</td>\n",
       "      <td>29738</td>\n",
       "      <td>23249</td>\n",
       "      <td>1661</td>\n",
       "      <td>0.052900</td>\n",
       "      <td>41600.0</td>\n",
       "      <td>29000</td>\n",
       "      <td>60000.0</td>\n",
       "      <td>0.125878</td>\n",
       "      <td>0.129808</td>\n",
       "    </tr>\n",
       "    <tr>\n",
       "      <th>4</th>\n",
       "      <td>2001</td>\n",
       "      <td>COMMUNICATION TECHNOLOGIES</td>\n",
       "      <td>Computers &amp; Mathematics</td>\n",
       "      <td>9109</td>\n",
       "      <td>171</td>\n",
       "      <td>7512</td>\n",
       "      <td>5622</td>\n",
       "      <td>466</td>\n",
       "      <td>0.058411</td>\n",
       "      <td>57000.0</td>\n",
       "      <td>...</td>\n",
       "      <td>53819</td>\n",
       "      <td>43163</td>\n",
       "      <td>34231</td>\n",
       "      <td>3389</td>\n",
       "      <td>0.072800</td>\n",
       "      <td>52000.0</td>\n",
       "      <td>36000</td>\n",
       "      <td>78000.0</td>\n",
       "      <td>0.144753</td>\n",
       "      <td>0.096154</td>\n",
       "    </tr>\n",
       "    <tr>\n",
       "      <th>...</th>\n",
       "      <td>...</td>\n",
       "      <td>...</td>\n",
       "      <td>...</td>\n",
       "      <td>...</td>\n",
       "      <td>...</td>\n",
       "      <td>...</td>\n",
       "      <td>...</td>\n",
       "      <td>...</td>\n",
       "      <td>...</td>\n",
       "      <td>...</td>\n",
       "      <td>...</td>\n",
       "      <td>...</td>\n",
       "      <td>...</td>\n",
       "      <td>...</td>\n",
       "      <td>...</td>\n",
       "      <td>...</td>\n",
       "      <td>...</td>\n",
       "      <td>...</td>\n",
       "      <td>...</td>\n",
       "      <td>...</td>\n",
       "      <td>...</td>\n",
       "    </tr>\n",
       "    <tr>\n",
       "      <th>168</th>\n",
       "      <td>5203</td>\n",
       "      <td>COUNSELING PSYCHOLOGY</td>\n",
       "      <td>Psychology &amp; Social Work</td>\n",
       "      <td>51812</td>\n",
       "      <td>724</td>\n",
       "      <td>38468</td>\n",
       "      <td>28808</td>\n",
       "      <td>1420</td>\n",
       "      <td>0.035600</td>\n",
       "      <td>50000.0</td>\n",
       "      <td>...</td>\n",
       "      <td>16781</td>\n",
       "      <td>12377</td>\n",
       "      <td>8502</td>\n",
       "      <td>835</td>\n",
       "      <td>0.063200</td>\n",
       "      <td>40000.0</td>\n",
       "      <td>25000</td>\n",
       "      <td>50000.0</td>\n",
       "      <td>0.755354</td>\n",
       "      <td>0.250000</td>\n",
       "    </tr>\n",
       "    <tr>\n",
       "      <th>169</th>\n",
       "      <td>5202</td>\n",
       "      <td>CLINICAL PSYCHOLOGY</td>\n",
       "      <td>Psychology &amp; Social Work</td>\n",
       "      <td>22716</td>\n",
       "      <td>355</td>\n",
       "      <td>16612</td>\n",
       "      <td>12022</td>\n",
       "      <td>782</td>\n",
       "      <td>0.044958</td>\n",
       "      <td>70000.0</td>\n",
       "      <td>...</td>\n",
       "      <td>6519</td>\n",
       "      <td>4368</td>\n",
       "      <td>3033</td>\n",
       "      <td>357</td>\n",
       "      <td>0.075556</td>\n",
       "      <td>46000.0</td>\n",
       "      <td>30000</td>\n",
       "      <td>70000.0</td>\n",
       "      <td>0.777014</td>\n",
       "      <td>0.521739</td>\n",
       "    </tr>\n",
       "    <tr>\n",
       "      <th>170</th>\n",
       "      <td>6106</td>\n",
       "      <td>HEALTH AND MEDICAL PREPARATORY PROGRAMS</td>\n",
       "      <td>Health</td>\n",
       "      <td>114971</td>\n",
       "      <td>1766</td>\n",
       "      <td>78132</td>\n",
       "      <td>58825</td>\n",
       "      <td>1732</td>\n",
       "      <td>0.021687</td>\n",
       "      <td>135000.0</td>\n",
       "      <td>...</td>\n",
       "      <td>26320</td>\n",
       "      <td>16221</td>\n",
       "      <td>12185</td>\n",
       "      <td>1012</td>\n",
       "      <td>0.058725</td>\n",
       "      <td>51000.0</td>\n",
       "      <td>35000</td>\n",
       "      <td>87000.0</td>\n",
       "      <td>0.813718</td>\n",
       "      <td>1.647059</td>\n",
       "    </tr>\n",
       "    <tr>\n",
       "      <th>171</th>\n",
       "      <td>2303</td>\n",
       "      <td>SCHOOL STUDENT COUNSELING</td>\n",
       "      <td>Education</td>\n",
       "      <td>19841</td>\n",
       "      <td>260</td>\n",
       "      <td>11313</td>\n",
       "      <td>8130</td>\n",
       "      <td>613</td>\n",
       "      <td>0.051400</td>\n",
       "      <td>56000.0</td>\n",
       "      <td>...</td>\n",
       "      <td>2232</td>\n",
       "      <td>1328</td>\n",
       "      <td>980</td>\n",
       "      <td>169</td>\n",
       "      <td>0.112892</td>\n",
       "      <td>42000.0</td>\n",
       "      <td>27000</td>\n",
       "      <td>51000.0</td>\n",
       "      <td>0.898881</td>\n",
       "      <td>0.333333</td>\n",
       "    </tr>\n",
       "    <tr>\n",
       "      <th>172</th>\n",
       "      <td>2301</td>\n",
       "      <td>EDUCATIONAL ADMINISTRATION AND SUPERVISION</td>\n",
       "      <td>Education</td>\n",
       "      <td>54159</td>\n",
       "      <td>841</td>\n",
       "      <td>34142</td>\n",
       "      <td>26850</td>\n",
       "      <td>582</td>\n",
       "      <td>0.016761</td>\n",
       "      <td>65000.0</td>\n",
       "      <td>...</td>\n",
       "      <td>4003</td>\n",
       "      <td>3079</td>\n",
       "      <td>2434</td>\n",
       "      <td>0</td>\n",
       "      <td>0.000000</td>\n",
       "      <td>58000.0</td>\n",
       "      <td>45000</td>\n",
       "      <td>79000.0</td>\n",
       "      <td>0.931175</td>\n",
       "      <td>0.120690</td>\n",
       "    </tr>\n",
       "  </tbody>\n",
       "</table>\n",
       "<p>173 rows × 22 columns</p>\n",
       "</div>"
      ],
      "text/plain": [
       "     Major_code                                       Major  \\\n",
       "0          5601                       CONSTRUCTION SERVICES   \n",
       "1          6004           COMMERCIAL ART AND GRAPHIC DESIGN   \n",
       "2          6211                      HOSPITALITY MANAGEMENT   \n",
       "3          2201      COSMETOLOGY SERVICES AND CULINARY ARTS   \n",
       "4          2001                  COMMUNICATION TECHNOLOGIES   \n",
       "..          ...                                         ...   \n",
       "168        5203                       COUNSELING PSYCHOLOGY   \n",
       "169        5202                         CLINICAL PSYCHOLOGY   \n",
       "170        6106     HEALTH AND MEDICAL PREPARATORY PROGRAMS   \n",
       "171        2303                   SCHOOL STUDENT COUNSELING   \n",
       "172        2301  EDUCATIONAL ADMINISTRATION AND SUPERVISION   \n",
       "\n",
       "                          Major_category  Grad_total  Grad_sample_size  \\\n",
       "0    Industrial Arts & Consumer Services        9173               200   \n",
       "1                                   Arts       53864               882   \n",
       "2                               Business       24417               437   \n",
       "3    Industrial Arts & Consumer Services        5411                72   \n",
       "4                Computers & Mathematics        9109               171   \n",
       "..                                   ...         ...               ...   \n",
       "168             Psychology & Social Work       51812               724   \n",
       "169             Psychology & Social Work       22716               355   \n",
       "170                               Health      114971              1766   \n",
       "171                            Education       19841               260   \n",
       "172                            Education       54159               841   \n",
       "\n",
       "     Grad_employed  Grad_full_time_year_round  Grad_unemployed  \\\n",
       "0             7098                       6511              681   \n",
       "1            40492                      29553             2482   \n",
       "2            18368                      14784             1465   \n",
       "3             3590                       2701              316   \n",
       "4             7512                       5622              466   \n",
       "..             ...                        ...              ...   \n",
       "168          38468                      28808             1420   \n",
       "169          16612                      12022              782   \n",
       "170          78132                      58825             1732   \n",
       "171          11313                       8130              613   \n",
       "172          34142                      26850              582   \n",
       "\n",
       "     Grad_unemployment_rate  Grad_median  ...  Nongrad_total  \\\n",
       "0                  0.087543      75000.0  ...          86062   \n",
       "1                  0.057756      60000.0  ...         461977   \n",
       "2                  0.073867      65000.0  ...         179335   \n",
       "3                  0.080901      47000.0  ...          37575   \n",
       "4                  0.058411      57000.0  ...          53819   \n",
       "..                      ...          ...  ...            ...   \n",
       "168                0.035600      50000.0  ...          16781   \n",
       "169                0.044958      70000.0  ...           6519   \n",
       "170                0.021687     135000.0  ...          26320   \n",
       "171                0.051400      56000.0  ...           2232   \n",
       "172                0.016761      65000.0  ...           4003   \n",
       "\n",
       "     Nongrad_employed  Nongrad_full_time_year_round  Nongrad_unemployed  \\\n",
       "0               73607                         62435                3928   \n",
       "1              347166                        250596               25484   \n",
       "2              145597                        113579                7409   \n",
       "3               29738                         23249                1661   \n",
       "4               43163                         34231                3389   \n",
       "..                ...                           ...                 ...   \n",
       "168             12377                          8502                 835   \n",
       "169              4368                          3033                 357   \n",
       "170             16221                         12185                1012   \n",
       "171              1328                           980                 169   \n",
       "172              3079                          2434                   0   \n",
       "\n",
       "     Nongrad_unemployment_rate  Nongrad_median  Nongrad_P25  Nongrad_P75  \\\n",
       "0                     0.050661         65000.0        47000      98000.0   \n",
       "1                     0.068386         48000.0        34000      71000.0   \n",
       "2                     0.048423         50000.0        35000      75000.0   \n",
       "3                     0.052900         41600.0        29000      60000.0   \n",
       "4                     0.072800         52000.0        36000      78000.0   \n",
       "..                         ...             ...          ...          ...   \n",
       "168                   0.063200         40000.0        25000      50000.0   \n",
       "169                   0.075556         46000.0        30000      70000.0   \n",
       "170                   0.058725         51000.0        35000      87000.0   \n",
       "171                   0.112892         42000.0        27000      51000.0   \n",
       "172                   0.000000         58000.0        45000      79000.0   \n",
       "\n",
       "     Grad_share  Grad_premium  \n",
       "0      0.096320      0.153846  \n",
       "1      0.104420      0.250000  \n",
       "2      0.119837      0.300000  \n",
       "3      0.125878      0.129808  \n",
       "4      0.144753      0.096154  \n",
       "..          ...           ...  \n",
       "168    0.755354      0.250000  \n",
       "169    0.777014      0.521739  \n",
       "170    0.813718      1.647059  \n",
       "171    0.898881      0.333333  \n",
       "172    0.931175      0.120690  \n",
       "\n",
       "[173 rows x 22 columns]"
      ]
     },
     "execution_count": 10,
     "metadata": {},
     "output_type": "execute_result"
    }
   ],
   "source": [
    "\n",
    "grad_students"
   ]
  },
  {
   "cell_type": "code",
   "execution_count": null,
   "metadata": {},
   "outputs": [],
   "source": []
  }
 ],
 "metadata": {
  "kernelspec": {
   "display_name": "Python 3",
   "language": "python",
   "name": "python3"
  },
  "language_info": {
   "codemirror_mode": {
    "name": "ipython",
    "version": 3
   },
   "file_extension": ".py",
   "mimetype": "text/x-python",
   "name": "python",
   "nbconvert_exporter": "python",
   "pygments_lexer": "ipython3",
   "version": "3.7.6"
  }
 },
 "nbformat": 4,
 "nbformat_minor": 4
}
