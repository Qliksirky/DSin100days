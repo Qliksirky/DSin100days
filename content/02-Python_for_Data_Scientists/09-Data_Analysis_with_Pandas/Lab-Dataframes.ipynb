{
 "cells": [
  {
   "cell_type": "markdown",
   "metadata": {},
   "source": [
    "# Lab : Pandas and Dataframes \n",
    "\n",
    "Pandas is the bread and butter for a Data Analyst or data scientists. We use pandas to load and transform data. Typically pandas is used to perform all the the exploratory data analysis. \n",
    "\n",
    "In this lab we will be working on multiple datasets. \n",
    "\n",
    "Part I: We will use the Iris Dataset, in part 2 we will use the grad student dataset, in part 3 we will use the titanic dataset. \n",
    "\n",
    "Lets start with the Iris dataset. "
   ]
  },
  {
   "cell_type": "code",
   "execution_count": 1,
   "metadata": {},
   "outputs": [],
   "source": [
    "import pandas as pd\n",
    "from sklearn.datasets import load_iris\n",
    "import random\n",
    "import numpy as np\n",
    "\n",
    "\n",
    "iris_dataset = load_iris()\n",
    "target = list(iris_dataset.target) \n",
    "dataset = list(iris_dataset.data)\n",
    "target_names = list(iris_dataset.target_names)\n",
    "feature_names = iris_dataset.feature_names\n"
   ]
  },
  {
   "cell_type": "code",
   "execution_count": 2,
   "metadata": {},
   "outputs": [
    {
     "name": "stdout",
     "output_type": "stream",
     "text": [
      "The head of the iris dataset is \n",
      "   sepal length (cm)  sepal width (cm)  petal length (cm)  petal width (cm)\n",
      "0                5.1               3.5                1.4               0.2\n",
      "1                4.9               3.0                1.4               0.2\n",
      "2                4.7               3.2                1.3               0.2\n",
      "3                4.6               3.1                1.5               0.2\n",
      "4                5.0               3.6                1.4               0.2\n"
     ]
    }
   ],
   "source": [
    "# Using the variable dataset make a dataframe. Remember when \n",
    "# when you have a list you need to do df = pd.DataFrame(data=list, columns=column_names)\n",
    "# where column_names is a list \n",
    "iris_df = pd.DataFrame(data=dataset, columns=feature_names)\n",
    "\n",
    "# Store the head of the iris_df, by deafualt the head stores 5 rows of data \n",
    "iris_head = iris_df.head()\n",
    "\n",
    "# You should get the exact values as show below \n",
    "print(\"The head of the iris dataset is \\n{}\".format(iris_head))"
   ]
  },
  {
   "cell_type": "markdown",
   "metadata": {},
   "source": [
    "The head of the iris dataset is <br>\n",
    "   sepal length (cm)  sepal width (cm)  petal length (cm)  petal width (cm) <br>\n",
    "0                5.1               3.5                1.4               0.2 <br>\n",
    "1                4.9               3.0                1.4               0.2 <br>\n",
    "2                4.7               3.2                1.3               0.2 <br>\n",
    "3                4.6               3.1                1.5               0.2 <br>\n",
    "4                5.0               3.6                1.4               0.2 <br>\n"
   ]
  },
  {
   "cell_type": "code",
   "execution_count": 3,
   "metadata": {},
   "outputs": [
    {
     "name": "stdout",
     "output_type": "stream",
     "text": [
      "Head of target dataframe is : \n",
      "    target\n",
      "0       0\n",
      "1       0\n",
      "2       0\n",
      "3       0\n",
      "4       0\n"
     ]
    }
   ],
   "source": [
    "# Next create a dataframe for the variable target. This is similar to what you did above\n",
    "target_df = pd.DataFrame(data=target, columns=['target'])\n",
    "\n",
    "print(\"Head of target dataframe is : \\n {}\".format(target_df.head()))"
   ]
  },
  {
   "cell_type": "markdown",
   "metadata": {},
   "source": [
    "Head of target dataframe is : <br>\n",
    "    target <br>\n",
    "0       0 <br>\n",
    "1       0 <br>\n",
    "2       0 <br>\n",
    "3       0 <br>\n",
    "4       0 <br>"
   ]
  },
  {
   "cell_type": "markdown",
   "metadata": {},
   "source": [
    "Next we want to combine both the dataframes ```iris_df``` and ```target_df```. There are multiple ways of doing this in pandas. We will use the concat function here. You can read about it [here](https://pandas.pydata.org/pandas-docs/stable/reference/api/pandas.concat.html)"
   ]
  },
  {
   "cell_type": "code",
   "execution_count": 4,
   "metadata": {},
   "outputs": [
    {
     "name": "stdout",
     "output_type": "stream",
     "text": [
      "Shape of the iris combine dataframe : (150, 5)\n"
     ]
    }
   ],
   "source": [
    "# Use the concat function combine iris_df and target_df. Make sure you check \n",
    "# the axis along which you are combining the dataframes \n",
    "iris_combined_df = pd.concat([iris_df, target_df], axis=1) \n",
    "\n",
    "print(\"Shape of the iris combine dataframe : {}\".format(iris_combined_df.shape))"
   ]
  },
  {
   "cell_type": "markdown",
   "metadata": {},
   "source": [
    "Shape of the iris combine dataframe : (150, 5)\n"
   ]
  },
  {
   "cell_type": "code",
   "execution_count": 5,
   "metadata": {},
   "outputs": [
    {
     "name": "stdout",
     "output_type": "stream",
     "text": [
      "Third row values : \n",
      "sepal length (cm)    4.7\n",
      "sepal width (cm)     3.2\n",
      "petal length (cm)    1.3\n",
      "petal width (cm)     0.2\n",
      "target               0.0\n",
      "Name: 2, dtype: float64\n"
     ]
    }
   ],
   "source": [
    "# Next print the values in the 3rd row of the iris_combined_df \n",
    "third_row = iris_combined_df.iloc[2,:]\n",
    "\n",
    "print(\"Third row values : \\n{}\".format(third_row))"
   ]
  },
  {
   "cell_type": "markdown",
   "metadata": {},
   "source": [
    "Third row values : <br>\n",
    "sepal length (cm)    4.7 <br>\n",
    "sepal width (cm)     3.2 <br>\n",
    "petal length (cm)    1.3 <br>\n",
    "petal width (cm)     0.2 <br>\n",
    "target               0.0 <br>\n",
    "Name: 2, dtype: float64 <br>\n"
   ]
  },
  {
   "cell_type": "code",
   "execution_count": 6,
   "metadata": {},
   "outputs": [
    {
     "name": "stdout",
     "output_type": "stream",
     "text": [
      "Print the head of the third column is : \n",
      "0    1.4\n",
      "1    1.4\n",
      "2    1.3\n",
      "3    1.5\n",
      "4    1.4\n",
      "Name: petal length (cm), dtype: float64\n"
     ]
    }
   ],
   "source": [
    "# Suppose we want the third column in the dataset. Using iloc can you get the third column\n",
    "third_column = iris_combined_df.iloc[:,2]\n",
    "print(\"Print the head of the third column is : \\n{}\".format(third_column.head()))"
   ]
  },
  {
   "cell_type": "markdown",
   "metadata": {},
   "source": [
    "Print the head of the third column is : <br>\n",
    "0    1.4 <br>\n",
    "1    1.4 <br>\n",
    "2    1.3 <br>\n",
    "3    1.5 <br>\n",
    "4    1.4 <br>\n",
    "Name: petal length (cm), dtype: float64 <br>"
   ]
  },
  {
   "cell_type": "markdown",
   "metadata": {},
   "source": [
    "Now suppose you want to change a single value in the dataframe i.e the value in a single cell of the dataframe. How would you do that? "
   ]
  },
  {
   "cell_type": "code",
   "execution_count": 7,
   "metadata": {},
   "outputs": [
    {
     "name": "stdout",
     "output_type": "stream",
     "text": [
      "Print the third row of iris dataset : \n",
      "sepal length (cm)       4.6\n",
      "sepal width (cm)        3.1\n",
      "petal length (cm)       1.5\n",
      "petal width (cm)        0.2\n",
      "target               setosa\n",
      "Name: 3, dtype: object\n"
     ]
    }
   ],
   "source": [
    "# Change the value of target in the 3rd row in the iris_combined_df from 0 to setosa \n",
    "iris_combined_df.loc[3,'target'] = 'setosa'\n",
    "\n",
    "print(\"Print the third row of iris dataset : \\n{}\".format(iris_combined_df.iloc[3,:]))"
   ]
  },
  {
   "cell_type": "markdown",
   "metadata": {},
   "source": [
    "Print the third row of iris dataset : <br>\n",
    "sepal length (cm)       4.6 <br>\n",
    "sepal width (cm)        3.1 <br>\n",
    "petal length (cm)       1.5 <br>\n",
    "petal width (cm)        0.2 <br>\n",
    "target               setosa <br>\n",
    "Name: 3, dtype: object <br>\n"
   ]
  },
  {
   "cell_type": "markdown",
   "metadata": {},
   "source": [
    "Next up, let see how we can apply an operation the entire row or an entire column of a dataframe.  The next part is a bit on the challenging side since you will have to use a lambda function to modify the column. Our first task is that we have to convert all the values in the target column to names. All the values in target are either 0 1, or 2 save the third row which we changed to 'setosa'. Hence we now have a column which contains integer values 0,1,2 and string 'setosa' \n",
    "\n",
    "To get around this, we will use the apply function to the target column. Take a look at it (here)[https://pandas.pydata.org/pandas-docs/stable/reference/api/pandas.DataFrame.apply.html]. Remember, we are applying this only to the target column not the rest of them. The argument of the apply function will be a lambda function like this: \n",
    "\n",
    "lambda x: use names_dict[x] if  string of x is a digit, if not return x\n",
    "\n",
    "Now, you will add this lambda function as an argument into apply. You can use isdigit() to check if the string is a number."
   ]
  },
  {
   "cell_type": "code",
   "execution_count": 14,
   "metadata": {},
   "outputs": [
    {
     "name": "stdout",
     "output_type": "stream",
     "text": [
      "Head of the target column : \n",
      "0    setosa\n",
      "1    setosa\n",
      "2    setosa\n",
      "3    setosa\n",
      "4    setosa\n",
      "Name: target, dtype: object\n"
     ]
    }
   ],
   "source": [
    "names_dict = {0: target_names[0], 1:target_names[1], 2: target_names[2]}\n",
    "\n",
    "# Convert all the values in the target column to names.\n",
    "# you can use the names in target_names for this purpose\n",
    "iris_combined_df['target'] = iris_combined_df['target'].apply(lambda x: names_dict[x] if str(x).isdigit() else x)\n",
    "\n",
    "print(\"Head of the target column : \\n{}\".format(iris_combined_df['target'].head()))"
   ]
  },
  {
   "cell_type": "markdown",
   "metadata": {},
   "source": [
    "Head of the target column : <br> \n",
    "0    setosa  <br> \n",
    "1    setosa  <br> \n",
    "2    setosa  <br> \n",
    "3    setosa  <br> \n",
    "4    setosa  <br> \n",
    "Name: target, dtype: object  <br> \n"
   ]
  },
  {
   "cell_type": "code",
   "execution_count": null,
   "metadata": {},
   "outputs": [],
   "source": []
  },
  {
   "cell_type": "markdown",
   "metadata": {},
   "source": [
    "## Simplify the Grad Students Dataset\n",
    "\n",
    "Given a dataset about Graduate Students and their college majors and other statistics about the number of graduates, number employed etc, write python code to extract the following infromation from the dataset and write to a output file - \"grad_simplified.csv\". Use pandas library (Dataframe) for this purpose.\n",
    "\n",
    "The criteria for output extraction is:\n",
    "\n",
    "1. Only include the columns: Major_Code, Major, Major_Category, Grad_employes and Grad_unemployed\n",
    "2. Only include the Majors that have either 'ENGINEERING', 'TECHNOLOGIES' or 'SCIENCE' (case insensitive) in its major  field.\n",
    "3. Exclude any Major_category that has 'Social Science' or 'Arts' in the name of Major_category.\n",
    "\n",
    "\n"
   ]
  },
  {
   "cell_type": "code",
   "execution_count": null,
   "metadata": {},
   "outputs": [],
   "source": [
    "# Import the library\n",
    "import pandas as pd\n",
    "\n",
    "grad_url = \"https://raw.githubusercontent.com/colaberry/538data/master/college-majors/grad-students.csv\"\n",
    "grad_students = pd.read_csv(grad_url)\n",
    "\n",
    "#Write your code here or in other code cells down"
   ]
  },
  {
   "cell_type": "code",
   "execution_count": null,
   "metadata": {},
   "outputs": [],
   "source": [
    "\n",
    "grad_students"
   ]
  },
  {
   "cell_type": "code",
   "execution_count": null,
   "metadata": {},
   "outputs": [],
   "source": []
  }
 ],
 "metadata": {
  "kernelspec": {
   "display_name": "Python 3",
   "language": "python",
   "name": "python3"
  },
  "language_info": {
   "codemirror_mode": {
    "name": "ipython",
    "version": 3
   },
   "file_extension": ".py",
   "mimetype": "text/x-python",
   "name": "python",
   "nbconvert_exporter": "python",
   "pygments_lexer": "ipython3",
   "version": "3.7.6"
  }
 },
 "nbformat": 4,
 "nbformat_minor": 4
}
