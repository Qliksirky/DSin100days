{
 "cells": [
  {
   "cell_type": "markdown",
   "metadata": {},
   "source": [
    "# Lab: Libraries and Functions\n",
    "Functions are an essential part of Python. They allow us to efficiently reuse code. In this lab we will use the Iris dataset to write functions to perform calcuations on the dataset. \n",
    "\n",
    "Our first task will be to write a function that calculates the mean of values in a column of the dataset. Lets first get the mean of the first column of the dataset. \n"
   ]
  },
  {
   "cell_type": "code",
   "execution_count": 2,
   "metadata": {},
   "outputs": [],
   "source": [
    "from sklearn.datasets import load_iris\n",
    "import random\n",
    "iris_dataset = load_iris()\n",
    "target = list(iris_dataset.target) \n",
    "dataset = list(iris_dataset.data)\n",
    "target_names = list(iris_dataset.target_names)\n",
    "\n",
    "random.seed(1)\n",
    "indx_list = [i for i in range(len(target))]\n",
    "random.shuffle(indx_list)\n"
   ]
  },
  {
   "cell_type": "code",
   "execution_count": 7,
   "metadata": {},
   "outputs": [
    {
     "name": "stdout",
     "output_type": "stream",
     "text": [
      "Length of column : 150\n",
      "Mean of the first column values: 5.843333333333335\n"
     ]
    }
   ],
   "source": [
    "# First, get a single column of data from the variable dataset\n",
    "# The first column in the dataset is the 0 th element of all the rows in \n",
    "# dataset. We will loop over all the rows and store only the 0 th row \n",
    "\n",
    "# Initilize a list to store the column values\n",
    "dataset_column = []\n",
    "\n",
    "# Write a for loop to loop over each row of the list dataset. Remember \n",
    "# the for loop should not be over the index of dataset but over dataset variable\n",
    "for row in dataset: \n",
    "    dataset_column.append(row[0])\n",
    "\n",
    "# Length of column\n",
    "column_length = len(dataset_column)\n",
    "\n",
    "# Calculate the sum of the column. Use sum(column) rather than a for loop\n",
    "sum_column = sum(dataset_column)\n",
    "\n",
    "# Calculate the mean using sum_col and col_length\n",
    "mean_column = sum_column/column_length\n",
    "\n",
    "print(\"Length of column : {}\".format(column_length))\n",
    "print(\"Mean of the first column values: {}\".format(mean_column))\n"
   ]
  },
  {
   "cell_type": "markdown",
   "metadata": {},
   "source": [
    "If we want to calcuate the mean for the rest of the columns, we would have to rewrite the code above. We can easily do this by writing a new function that can be reused to calculate the mean of any columns in the dataset. \n"
   ]
  },
  {
   "cell_type": "code",
   "execution_count": 19,
   "metadata": {},
   "outputs": [
    {
     "data": {
      "text/plain": [
       "'Dataset has only 3 columns'"
      ]
     },
     "execution_count": 19,
     "metadata": {},
     "output_type": "execute_result"
    }
   ],
   "source": [
    "# We will write a function for calculate the mean \n",
    "\n",
    "def get_mean(col_number): \n",
    "    \n",
    "    if col_number > 3: \n",
    "        mean_col = \"Dataset has only 3 columns\"\n",
    "        return mean_col\n",
    "    \n",
    "    col = []\n",
    "    for row in dataset: \n",
    "        col.append(row[col_number])\n",
    "    sum_col = sum(col)\n",
    "    len_col = len(col)\n",
    "    mean_col = sum_col/len_col\n",
    "    \n",
    "   \n",
    "    return mean_col\n",
    "\n",
    "\n",
    "col_number = 4\n",
    "get_mean(col_number)\n",
    "    \n",
    "    "
   ]
  },
  {
   "cell_type": "code",
   "execution_count": null,
   "metadata": {},
   "outputs": [],
   "source": []
  },
  {
   "cell_type": "code",
   "execution_count": null,
   "metadata": {},
   "outputs": [],
   "source": []
  },
  {
   "cell_type": "markdown",
   "metadata": {},
   "source": [
    "### Print Prime Numbers \n",
    "Write a python function that takes an integer and checks for prime number. If the input is prime number then print the result. For example if the input number is 3, then print \"The number 10 is prime\". If not print \"The number 10 is not prime\". Then create a range X form 1 to 100(both inclusive) and for each number in X call the function. \n",
    "Use magic command to print the time taken to execute the full program.\n",
    "\n",
    "Hint: Refer to https://ipython.readthedocs.io/en/stable/interactive/magics.html"
   ]
  },
  {
   "cell_type": "code",
   "execution_count": null,
   "metadata": {
    "collapsed": true,
    "jupyter": {
     "outputs_hidden": true
    }
   },
   "outputs": [],
   "source": [
    "\n"
   ]
  }
 ],
 "metadata": {
  "kernelspec": {
   "display_name": "Python 3",
   "language": "python",
   "name": "python3"
  },
  "language_info": {
   "codemirror_mode": {
    "name": "ipython",
    "version": 3
   },
   "file_extension": ".py",
   "mimetype": "text/x-python",
   "name": "python",
   "nbconvert_exporter": "python",
   "pygments_lexer": "ipython3",
   "version": "3.7.6"
  }
 },
 "nbformat": 4,
 "nbformat_minor": 4
}
