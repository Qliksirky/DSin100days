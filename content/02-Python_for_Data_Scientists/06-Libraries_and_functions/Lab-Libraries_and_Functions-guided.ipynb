{
 "cells": [
  {
   "cell_type": "markdown",
   "metadata": {},
   "source": [
    "# Lab: Libraries and Functions\n",
    "Functions are an essential part of Python. They allow us to efficiently reuse code. In this lab we will use the Iris dataset to write functions to perform calcuations on the dataset. \n",
    "\n",
    "Our first task will be to write a function that calculates the mean of values in a column of the dataset. Lets first get the mean of the first column of the dataset. \n"
   ]
  },
  {
   "cell_type": "code",
   "execution_count": 59,
   "metadata": {},
   "outputs": [],
   "source": [
    "from sklearn.datasets import load_iris\n",
    "import random\n",
    "iris_dataset = load_iris()\n",
    "target = list(iris_dataset.target) \n",
    "dataset = list(iris_dataset.data)\n",
    "target_names = list(iris_dataset.target_names)\n",
    "\n",
    "random.seed(1)\n",
    "indx_list = [i for i in range(len(target))]\n",
    "random.shuffle(indx_list)\n",
    "\n",
    "dataset_col = [list(x) for x in dataset]\n",
    "randomized_target = [target[x] for x in indx_list]\n"
   ]
  },
  {
   "cell_type": "code",
   "execution_count": 3,
   "metadata": {},
   "outputs": [
    {
     "name": "stdout",
     "output_type": "stream",
     "text": [
      "Length of column : 150\n",
      "Mean of the first column values: 5.843333333333335\n"
     ]
    }
   ],
   "source": [
    "# First, get a single column of data from the variable dataset\n",
    "# The first column in the dataset is the 0 th element of all the rows in \n",
    "# dataset. We will loop over all the rows and store only the 0 th row \n",
    "\n",
    "# Initilize a list to store the column values\n",
    "dataset_column = []\n",
    "\n",
    "# Write a for loop to loop over each row of the list dataset. Remember \n",
    "# the for loop should not be over the index of dataset but over dataset variable\n",
    "for row in dataset: \n",
    "    dataset_column.append(row[0])\n",
    "\n",
    "# Length of column\n",
    "column_length = \"####\"\n",
    "\n",
    "# Calculate the sum of the column. Use sum(column) rather than a for loop\n",
    "sum_column = \"####\"\n",
    "\n",
    "# Calculate the mean using sum_col and col_length\n",
    "mean_column = \"####\"\n",
    "\n",
    "print(\"Length of column : {}\".format(column_length))\n",
    "print(\"Mean of the first column values: {}\".format(mean_column))\n"
   ]
  },
  {
   "cell_type": "markdown",
   "metadata": {},
   "source": [
    "If we want to calcuate the mean for the rest of the columns, we would have to rewrite the code above. We can easily do this by writing a new function that can be reused to calculate the mean of any columns in the dataset. \n"
   ]
  },
  {
   "cell_type": "code",
   "execution_count": 68,
   "metadata": {},
   "outputs": [
    {
     "name": "stdout",
     "output_type": "stream",
     "text": [
      "1st Column value : 5.84\n",
      "2st Column value : 3.06\n",
      "5st Column value : Dataset has only 3 columns\n"
     ]
    }
   ],
   "source": [
    "# We will write a function for calculate the mean value of a given column \n",
    "\n",
    "# Our function will take the column number as input\n",
    "def get_mean(col_number): \n",
    "    \n",
    "    # If the number of columns is greater than 3 we want to\n",
    "    # exit the function by returning a string message saying\n",
    "    # Dataset has only 3 columns. Use a if statement to check \n",
    "    # the column number and return mean_col within if condition\n",
    "    if \"####\": \n",
    "       \"####\"\n",
    "        \"####\"\n",
    "    \n",
    "    # Initalize col \n",
    "    col = \"####\"\n",
    "    \n",
    "    # Finish the for loop. The for loop appends the n_th element\n",
    "    # of the row to col. the n_th element is given by the column number\n",
    "    # for example if we want the 2nd column we have append row[2] to col\n",
    "    for row in dataset: \n",
    "       \"####\"\n",
    "    \n",
    "    # Get the sum of col\n",
    "    sum_col = \"####\"\n",
    "    # Get the length of col\n",
    "    len_col = \"####\"\n",
    "    \n",
    "    # Get mean value of col\n",
    "    mean_col = \"####\"\n",
    "    \n",
    "    # Return mean value of col\n",
    "    return mean_col\n",
    "\n",
    "\n",
    "col_number_1 = 0 \n",
    "col_mean_val_1 = \"####\"\n",
    "\n",
    "col_number_2 = 1\n",
    "col_mean_val_2 = get_mean(col_number_2)\n",
    "\n",
    "col_number_5 = 5\n",
    "col_mean_val_5 = get_mean(col_number_5)\n",
    "\n",
    "print(\"1st Column value : {:.2f}\".format(col_mean_val_1))\n",
    "print(\"2st Column value : {:.2f}\".format(col_mean_val_2))\n",
    "print(\"5st Column value : {}\".format(col_mean_val_5))"
   ]
  },
  {
   "cell_type": "code",
   "execution_count": 52,
   "metadata": {},
   "outputs": [
    {
     "name": "stdout",
     "output_type": "stream",
     "text": [
      "Length of mean map and mean filter : 150, 53\n"
     ]
    }
   ],
   "source": [
    "# Suppose we wanted to calculate the max value of each row in dataset\n",
    "# we can use map and lambda function for this purpose\n",
    "\n",
    "# Create a list that contains the max value of each row in dataset\n",
    "# you can use map(lambda function, list) to map the labmda function \n",
    "# to each element of the list, in this case the list is dataset\n",
    "max_list = \"####\"\n",
    "\n",
    "# Next lets look at the difference between map and filter\n",
    "# Write lambda function using map that calculates the mean \n",
    "# of each row and checks if its less than or equal to 3\n",
    "mean_map = \"####\"\n",
    "\n",
    "# Do the same as above with filter \n",
    "mean_filter = \"####\"\n",
    "\n",
    "len_map = \"####\"\n",
    "len_filter = \"####\"\n",
    "\n",
    "print(\"Length of mean map and mean filter : {}, {}\".format(len_map, len_filter))"
   ]
  },
  {
   "cell_type": "markdown",
   "metadata": {},
   "source": [
    "You will find that the size of mean map and filter is different. This is because mean map will output a boolean for each row stating if the condition mean <= 3 is True or False. Whereas filter will output the entire row where the condition holds. \n",
    "\n",
    "Now lets write a function that gets the index of all that elements that contain a certain flower class. This is where we will use the enumerate function in a for loop"
   ]
  },
  {
   "cell_type": "code",
   "execution_count": 69,
   "metadata": {},
   "outputs": [
    {
     "name": "stdout",
     "output_type": "stream",
     "text": [
      "The indicies for class setosa in randomized target are : [0, 1, 4, 8, 10, 13, 16, 21, 22, 33, 41, 45, 46, 48, 49, 50, 53, 55, 56, 64, 65, 68, 69, 71, 72, 75, 77, 83, 84, 90, 91, 95, 96, 100, 101, 107, 108, 113, 118, 120, 123, 126, 127, 130, 134, 137, 139, 145, 147, 149] \n"
     ]
    }
   ],
   "source": [
    "flower_class = 0 \n",
    "flower_name = target_names[flower_class]\n",
    "\n",
    "\n",
    "# We write a function get_indices that takes a single input\n",
    "# flcass. The input flcass is either 0,1 or 2. \n",
    "def get_indices(fclass):\n",
    "    \n",
    "    # Initalize the list store_indx\n",
    "    store_indx =\" ####\"\n",
    "    \n",
    "    # Use the enumerate function, enumerate gives two outputs\n",
    "    # index and value. Index is the index of the list you we are\n",
    "    # iterating over and value is the value of the list at the \n",
    "    # index. \n",
    "    for \"####\": \n",
    "        # We want check if value is the same as fclass then \n",
    "        # store index in store_indx\n",
    "        if \"####\": \n",
    "            \"####\"\n",
    "    return store_indx\n",
    "\n",
    "# Run the function get_indices the variable flower_class\n",
    "class_index = \"####\"\n",
    "\n",
    "print(\"The indicies for class {} in randomized target are : {} \".format(flower_name, class_index))"
   ]
  },
  {
   "cell_type": "markdown",
   "metadata": {},
   "source": [
    "The indicies for class setosa in randomized target are : [0, 1, 4, 8, 10, 13, 16, 21, 22, 33, 41, 45, 46, 48, 49, 50, 53, 55, 56, 64, 65, 68, 69, 71, 72, 75, 77, 83, 84, 90, 91, 95, 96, 100, 101, 107, 108, 113, 118, 120, 123, 126, 127, 130, 134, 137, 139, 145, 147, 149] "
   ]
  },
  {
   "cell_type": "code",
   "execution_count": null,
   "metadata": {
    "tags": [
     "grade"
    ]
   },
   "outputs": [],
   "source": [
    "from IPython.display import Javascript\n",
    "display(Javascript(\"\"\"var nb = IPython.notebook;\n",
    "var kernel = IPython.notebook.kernel;\n",
    "console.log(nb)\n",
    "var command = \"nb_name = '\" + nb.notebook_path  + \"'\";\n",
    "kernel.execute(command);\n",
    "var command2 = \"user_id = '\" +/user\\/([^/]+)\\//.exec(Jupyter.notebook.base_url)[1] + \"'\"; \n",
    "\n",
    "kernel.execute(command2);\"\"\"))\n",
    "\n",
    "import requests\n",
    "from time import gmtime, strftime\n",
    "from IPython.display import clear_output\n",
    "\n",
    "user_ns = tuple(get_ipython().user_ns.items())\n",
    "user_id = ''\n",
    "lab_name = ''\n",
    "import os\n",
    "\n",
    "def display_result(result, res_code):\n",
    "    from IPython.display import display, HTML\n",
    "    js = \"<style>p.res {background-color: lightblue;} p.pas {color: green;text-align: center;font-size: 150%;} p.fail {color: red;text-align: center;font-size: 150%;}  p.wait {color: blue;text-align: center;font-size: 150%;} p.center {text-align: center;font-size: 200%;}</style>\"\n",
    "    if res_code == 'PASS':\n",
    "        #js = js + \"<script>$('#notebook-container').after('<p id=lastidp class=pas>%s</p>')</script>\"   % result\n",
    "        js = js + \"<script>$('#lastidp').replaceWith('<p id=lastidp class=pas>%s</p>')</script>)\"   % result\n",
    "    elif res_code == 'FAIL':\n",
    "        js = js + \"<script>$('#lastidp').replaceWith('<p id=lastidp class=fail>%s</p>')</script>\"   % result\n",
    "    else:\n",
    "        js = js + \"\"\"<script>\n",
    "        if($('#lastidp').length){\n",
    "        $('#lastidp').replaceWith('<p id=lastidp class=wait>%s</p>')\n",
    "        }else{\n",
    "        $('#notebook-container').after('<p id=lastidp class=wait>%s</p>')\n",
    "        }\n",
    "        </script>\n",
    "        \"\"\"   % (result,result)\n",
    "    display(HTML(js))\n",
    "\n",
    "display_result('','WAIT')\n",
    "    \n",
    "# if value_type == int:\n",
    "for name, value in user_ns:\n",
    "    if name == 'user_id':\n",
    "        user_id = value\n",
    "    if name == 'nb_name':\n",
    "        lab_name = value\n",
    "        lab_name = os.path.basename(lab_name).split('.')[0]\n",
    "\n",
    "input_content_file = lab_name + '.ipynb'\n",
    "\n",
    "import random\n",
    "n = random.randint(1001,3001)\n",
    "f = {'file': ( 'rnd' +  str(n) + '_' + input_content_file, open(input_content_file,'rb'))}\n",
    "d = {'user': user_id}\n",
    "r = requests.post('http://autograde.refactored.ai/uploader', data=d, files=f)\n",
    "#r = requests.post('http://localhost:5000/uploader', data=d, files=f)\n",
    "tm = strftime(\"%Y-%m-%d %H:%M:%S\", gmtime())\n",
    "msg = r.json()['result']['message'][0]\n",
    "res = r.json()['result']['result']\n",
    "answerid = r.json()['answerid']\n",
    "result = tm + ' - ' + msg + '    Answerid is : ' + str(answerid) \n",
    "#score = r.json()['result']['score']\n",
    "#result = tm + ' - ' + msg + '    Your result is : ' + res + '     And the score is : ' + str(score)\n",
    "#print(result)\n",
    "display_result(result,'WAIT')\n",
    "\n",
    "import time\n",
    "count = 0\n",
    "while True:\n",
    "    #r = requests.get('http://localhost:5000/get_result?answer_id=' + str(answerid))\n",
    "    r = requests.get('http://autograde.refactored.ai/get_result?answer_id=' + str(answerid))\n",
    "    res = r.json()['result']['result']\n",
    "    if res != 'WAIT':\n",
    "        tm = strftime(\"%Y-%m-%d %H:%M:%S\", gmtime())\n",
    "        msg = r.json()['result']['message'][0]\n",
    "        res = r.json()['result']['result']\n",
    "        score = r.json()['result']['score']\n",
    "        result = tm + ' - ' + msg + ',    Your result is : ' + res + '    And your score is : ' + str(score) \n",
    "        clear_output(wait=True)\n",
    "        break\n",
    "    else:\n",
    "        if(count ==0):\n",
    "            print('Waiting for your score......')\n",
    "        count = count + 1\n",
    "        time.sleep(10)\n",
    "        if(count > 10):\n",
    "            result = 'Error occurred during evaluation. Please resubmit.'\n",
    "            break\n",
    "\n",
    "display_result(result,res)\n"
   ]
  }
 ],
 "metadata": {
  "celltoolbar": "Tags",
  "kernelspec": {
   "display_name": "Python 3",
   "language": "python",
   "name": "python3"
  },
  "language_info": {
   "codemirror_mode": {
    "name": "ipython",
    "version": 3
   },
   "file_extension": ".py",
   "mimetype": "text/x-python",
   "name": "python",
   "nbconvert_exporter": "python",
   "pygments_lexer": "ipython3",
   "version": "3.7.4"
  }
 },
 "nbformat": 4,
 "nbformat_minor": 4
}
