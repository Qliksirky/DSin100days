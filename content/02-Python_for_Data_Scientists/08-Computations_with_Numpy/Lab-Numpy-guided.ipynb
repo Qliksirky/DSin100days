{
 "cells": [
  {
   "cell_type": "markdown",
   "metadata": {},
   "source": [
    "# Lab: Numpy\n",
    "Numpy is one of the most important python libraries. The vectorized operations that numpy performs makes it efficent for numerical calculation.\n"
   ]
  },
  {
   "cell_type": "code",
   "execution_count": 1,
   "metadata": {},
   "outputs": [],
   "source": [
    "from sklearn.datasets import load_iris\n",
    "import random\n",
    "import numpy as np\n",
    "\n",
    "iris_dataset = load_iris()\n",
    "target = list(iris_dataset.target) \n",
    "dataset = list(iris_dataset.data)\n",
    "target_names = list(iris_dataset.target_names)\n",
    "\n",
    "\n",
    "random.seed(1)\n",
    "indx_array = np.arange(0,len(target))\n",
    "np.random.shuffle(indx_array)\n",
    "\n",
    "np_target = np.array(target)\n",
    "randomized_target = np_target[indx_array]\n"
   ]
  },
  {
   "cell_type": "markdown",
   "metadata": {},
   "source": [
    "Many of the operations we performed in the previous labs can be easily performed using numpy. Take for example mean."
   ]
  },
  {
   "cell_type": "code",
   "execution_count": 2,
   "metadata": {},
   "outputs": [],
   "source": [
    "# Convert dataset to an array\n",
    "dataset_np = \"####\"\n",
    "\n",
    "# Slice the dataset array to find the first column \n",
    "first_col = \"####\"\n",
    "\n",
    "# Calculate the mean of the first column \n",
    "mean_first_col = \"####\"\n",
    "\n",
    "# Calculate the mean of all the columns by setting axis=0 in np.mean\n",
    "mean_all_cols = \"####\"\n",
    "\n",
    "# Calcuate the mean of all the rows by setting axis=1 in np.mean\n",
    "mean_all_rows = \"####\"\n",
    "\n",
    "# Get the shape of mean_all_rows \n",
    "mean_rows_shape =\"####\"\n",
    "\n",
    "# There are many situations where you may have to add an extra dimension \n",
    "# to a numpy array, you can do this by using np.newaxis. You can add \n",
    "# new axis like this  array = array[:, np.newaxis]\n",
    "mean_all_rows = \"####\"\n",
    "new_rows_shape = \"####\"\n",
    "\n",
    "print(\"Shape of array representing mean value dataset: {}, {}\".format(mean_rows_shape, new_rows_shape))"
   ]
  },
  {
   "cell_type": "markdown",
   "metadata": {},
   "source": [
    "Shape of array representing mean value dataset: (150,), (150, 1)\n"
   ]
  },
  {
   "cell_type": "code",
   "execution_count": 3,
   "metadata": {},
   "outputs": [],
   "source": [
    "# Find the max and min in each row and column.\n",
    "row_max = \"####\"\n",
    "row_min = \"####\"\n",
    "\n",
    "col_max = np.max(dataset_np, axis=0)\n",
    "col_min = np.min(dataset_np, axis=0)\n"
   ]
  },
  {
   "cell_type": "markdown",
   "metadata": {},
   "source": [
    "There are many times where you may need to randomly choose rows from a dataset. You can do this by using ```np.random.choice``` check out the numpy documentation [here](https://docs.scipy.org/doc//numpy-1.10.4/reference/generated/numpy.random.choice.html). Use this function to do the exercise below"
   ]
  },
  {
   "cell_type": "code",
   "execution_count": 4,
   "metadata": {},
   "outputs": [
    {
     "name": "stdout",
     "output_type": "stream",
     "text": [
      "5 randomly sampled rows : \n",
      " [[4.9 3.6 1.4 0.1]\n",
      " [6.7 3.1 5.6 2.4]\n",
      " [6.3 2.5 4.9 1.5]\n",
      " [6.4 3.1 5.5 1.8]\n",
      " [6.3 2.8 5.1 1.5]]\n"
     ]
    }
   ],
   "source": [
    "# Randomly sample 5 rows from dataset_np \n",
    "np.random.seed(1)\n",
    "\n",
    "# Start by choosing 5 indices. Use np.random.choice for this. \n",
    "# the syntax will be similar to np.random.choice(number of indicies, sample size).\n",
    "# You can get the number of indices from the shape of dataset_loc\n",
    "indicies = \"####\"\n",
    "\n",
    "# Slice dataset_np with the indicies to get rows \n",
    "rows = \"####\"\n",
    "\n",
    "print(\"5 randomly sampled rows : \\n {}\".format(rows))"
   ]
  },
  {
   "cell_type": "markdown",
   "metadata": {},
   "source": [
    "5 randomly sampled rows : <br>\n",
    " [[4.9 3.6 1.4 0.1] <br>\n",
    " [6.7 3.1 5.6 2.4] <br>\n",
    " [6.3 2.5 4.9 1.5] <br>\n",
    " [6.4 3.1 5.5 1.8] <br>\n",
    " [6.3 2.8 5.1 1.5]] <br>"
   ]
  },
  {
   "cell_type": "markdown",
   "metadata": {},
   "source": [
    "Next we are going to build a min-max scaler. The min-max scaler is a function that you can find in sklearn but we will build it using numpy. The min-max scaler reduces the values in dataset to between 0 and 1. This is useful since many machine learning algorithms work between if values lie between 0 and 1. \n",
    "\n",
    "Min-max scaling is done in the following way: <br>\n",
    "\n",
    "$\\text{Scaled data}= \\dfrac{\\text{Column Data} - \\text{Min(Column data)} }{\\text{Max(Column data)}- \\text{Min(Column data)} }$ \n",
    "\n",
    "Since our dataset has multiple columms, we would have to find the min and max for each column. In the above exercise we discussed how to do that so apply that below to build the min max scaler. "
   ]
  },
  {
   "cell_type": "code",
   "execution_count": 6,
   "metadata": {},
   "outputs": [
    {
     "name": "stdout",
     "output_type": "stream",
     "text": [
      "First 5 rows of scaled datset : \n",
      "[[0.22222222 0.625      0.06779661 0.04166667]\n",
      " [0.16666667 0.41666667 0.06779661 0.04166667]\n",
      " [0.11111111 0.5        0.05084746 0.04166667]\n",
      " [0.08333333 0.45833333 0.08474576 0.04166667]\n",
      " [0.19444444 0.66666667 0.06779661 0.04166667]]\n"
     ]
    }
   ],
   "source": [
    "# Find the max of all the columns of dataset_np\n",
    "max_dataset = \"####\"\n",
    "\n",
    "# Find the min of the all the columns of dataset_np\n",
    "min_dataset = \"####\"\n",
    "\n",
    "# Apply the formula showed above. We use dataset_np instead of column data\n",
    "dataset_scaled = \"####\"\n",
    "print(\"First 5 rows of scaled datset : \\n{}\".format(dataset_scaled[0:5,:]))"
   ]
  },
  {
   "cell_type": "markdown",
   "metadata": {},
   "source": [
    "First 5 rows of scaled datset :  <br>\n",
    "[[0.22222222 0.625      0.06779661 0.04166667] <br>\n",
    " [0.16666667 0.41666667 0.06779661 0.04166667]<br>\n",
    " [0.11111111 0.5        0.05084746 0.04166667] <br>\n",
    " [0.08333333 0.45833333 0.08474576 0.04166667]<br>\n",
    " [0.19444444 0.66666667 0.06779661 0.04166667]]<br>\n"
   ]
  },
  {
   "cell_type": "code",
   "execution_count": null,
   "metadata": {
    "tags": [
     "grade"
    ]
   },
   "outputs": [],
   "source": [
    "from IPython.display import Javascript\n",
    "display(Javascript(\"\"\"var nb = IPython.notebook;\n",
    "var kernel = IPython.notebook.kernel;\n",
    "console.log(nb)\n",
    "var command = \"nb_name = '\" + nb.notebook_path  + \"'\";\n",
    "kernel.execute(command);\n",
    "var command2 = \"user_id = '\" +/user\\/([^/]+)\\//.exec(Jupyter.notebook.base_url)[1] + \"'\"; \n",
    "\n",
    "kernel.execute(command2);\"\"\"))\n",
    "\n",
    "import requests\n",
    "from time import gmtime, strftime\n",
    "from IPython.display import clear_output\n",
    "\n",
    "user_ns = tuple(get_ipython().user_ns.items())\n",
    "user_id = ''\n",
    "lab_name = ''\n",
    "import os\n",
    "\n",
    "def display_result(result, res_code):\n",
    "    from IPython.display import display, HTML\n",
    "    js = \"<style>p.res {background-color: lightblue;} p.pas {color: green;text-align: center;font-size: 150%;} p.fail {color: red;text-align: center;font-size: 150%;}  p.wait {color: blue;text-align: center;font-size: 150%;} p.center {text-align: center;font-size: 200%;}</style>\"\n",
    "    if res_code == 'PASS':\n",
    "        #js = js + \"<script>$('#notebook-container').after('<p id=lastidp class=pas>%s</p>')</script>\"   % result\n",
    "        js = js + \"<script>$('#lastidp').replaceWith('<p id=lastidp class=pas>%s</p>')</script>)\"   % result\n",
    "    elif res_code == 'FAIL':\n",
    "        js = js + \"<script>$('#lastidp').replaceWith('<p id=lastidp class=fail>%s</p>')</script>\"   % result\n",
    "    else:\n",
    "        js = js + \"\"\"<script>\n",
    "        if($('#lastidp').length){\n",
    "        $('#lastidp').replaceWith('<p id=lastidp class=wait>%s</p>')\n",
    "        }else{\n",
    "        $('#notebook-container').after('<p id=lastidp class=wait>%s</p>')\n",
    "        }\n",
    "        </script>\n",
    "        \"\"\"   % (result,result)\n",
    "    display(HTML(js))\n",
    "\n",
    "display_result('','WAIT')\n",
    "    \n",
    "# if value_type == int:\n",
    "for name, value in user_ns:\n",
    "    if name == 'user_id':\n",
    "        user_id = value\n",
    "    if name == 'nb_name':\n",
    "        lab_name = value\n",
    "        lab_name = os.path.basename(lab_name).split('.')[0]\n",
    "\n",
    "input_content_file = lab_name + '.ipynb'\n",
    "\n",
    "import random\n",
    "n = random.randint(1001,3001)\n",
    "f = {'file': ( 'rnd' +  str(n) + '_' + input_content_file, open(input_content_file,'rb'))}\n",
    "d = {'user': user_id}\n",
    "r = requests.post('http://autograde.refactored.ai/uploader', data=d, files=f)\n",
    "#r = requests.post('http://localhost:5000/uploader', data=d, files=f)\n",
    "tm = strftime(\"%Y-%m-%d %H:%M:%S\", gmtime())\n",
    "msg = r.json()['result']['message'][0]\n",
    "res = r.json()['result']['result']\n",
    "answerid = r.json()['answerid']\n",
    "result = tm + ' - ' + msg + '    Answerid is : ' + str(answerid) \n",
    "#score = r.json()['result']['score']\n",
    "#result = tm + ' - ' + msg + '    Your result is : ' + res + '     And the score is : ' + str(score)\n",
    "#print(result)\n",
    "display_result(result,'WAIT')\n",
    "\n",
    "import time\n",
    "count = 0\n",
    "while True:\n",
    "    #r = requests.get('http://localhost:5000/get_result?answer_id=' + str(answerid))\n",
    "    r = requests.get('http://autograde.refactored.ai/get_result?answer_id=' + str(answerid))\n",
    "    res = r.json()['result']['result']\n",
    "    if res != 'WAIT':\n",
    "        tm = strftime(\"%Y-%m-%d %H:%M:%S\", gmtime())\n",
    "        msg = r.json()['result']['message'][0]\n",
    "        res = r.json()['result']['result']\n",
    "        score = r.json()['result']['score']\n",
    "        result = tm + ' - ' + msg + ',    Your result is : ' + res + '    And your score is : ' + str(score) \n",
    "        clear_output(wait=True)\n",
    "        break\n",
    "    else:\n",
    "        if(count ==0):\n",
    "            print('Waiting for your score......')\n",
    "        count = count + 1\n",
    "        time.sleep(10)\n",
    "        if(count > 10):\n",
    "            result = 'Error occurred during evaluation. Please resubmit.'\n",
    "            break\n",
    "\n",
    "display_result(result,res)\n"
   ]
  }
 ],
 "metadata": {
  "celltoolbar": "Tags",
  "kernelspec": {
   "display_name": "Python 3",
   "language": "python",
   "name": "python3"
  },
  "language_info": {
   "codemirror_mode": {
    "name": "ipython",
    "version": 3
   },
   "file_extension": ".py",
   "mimetype": "text/x-python",
   "name": "python",
   "nbconvert_exporter": "python",
   "pygments_lexer": "ipython3",
   "version": "3.7.4"
  }
 },
 "nbformat": 4,
 "nbformat_minor": 4
}
