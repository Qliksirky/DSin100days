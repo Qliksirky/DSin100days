{
 "cells": [
  {
   "cell_type": "markdown",
   "metadata": {},
   "source": [
    "# Lab: Numpy\n",
    "Numpy is one of the most important python libraries. The vectorized operations that numpy performs makes it efficent for numerical calculation.\n"
   ]
  },
  {
   "cell_type": "code",
   "execution_count": 4,
   "metadata": {},
   "outputs": [],
   "source": [
    "from sklearn.datasets import load_iris\n",
    "import random\n",
    "import numpy as np\n",
    "\n",
    "iris_dataset = load_iris()\n",
    "target = list(iris_dataset.target) \n",
    "dataset = list(iris_dataset.data)\n",
    "target_names = list(iris_dataset.target_names)\n",
    "\n",
    "\n",
    "random.seed(1)\n",
    "indx_array = np.arange(0,len(target))\n",
    "np.random.shuffle(indx_array)\n",
    "\n",
    "np_target = np.array(target)\n",
    "randomized_target = np_target[indx_array]\n"
   ]
  },
  {
   "cell_type": "markdown",
   "metadata": {},
   "source": [
    "Many of the operations we performed in the previous labs can be easily performed using numpy. Take for example mean."
   ]
  },
  {
   "cell_type": "code",
   "execution_count": 5,
   "metadata": {},
   "outputs": [],
   "source": [
    "# Convert dataset to an array\n",
    "dataset_np = np.array(dataset)\n",
    "\n",
    "# Slice the dataset array to find the first column \n",
    "first_col = dataset_np[:,0]\n",
    "\n",
    "# Calculate the mean of the first column \n",
    "mean_first_col = np.mean(first_col)\n",
    "\n",
    "# Calculate the mean of all the columns by setting axis=0 in np.mean\n",
    "mean_all_cols = np.mean(dataset_np, axis=0)\n",
    "\n",
    "# Calcuate the mean of all the rows by setting axis=1 in np.mean\n",
    "mean_all_rows = np.mean(dataset_np, axis=1)\n",
    "\n",
    "# Get the shape of mean_all_rows \n",
    "mean_rows_shape = mean_all_rows.shape\n",
    "\n",
    "# There are many situations where you may have to add an extra dimension \n",
    "# to a numpy array, you can do this by using np.newaxis. You can add \n",
    "# new axis like this  array = array[:, np.newaxis]\n",
    "mean_all_rows = mean_all_rows[:, np.newaxis]\n",
    "new_rows_shape = mean_all_rows.shape\n",
    "\n"
   ]
  },
  {
   "cell_type": "code",
   "execution_count": 12,
   "metadata": {},
   "outputs": [],
   "source": [
    "# Find the max and min in each row and column.\n",
    "row_max = np.max(dataset_np, axis=1)\n",
    "row_min = np.min(dataset_np, axis=1)\n",
    "\n",
    "col_max = np.max(dataset_np, axis=0)\n",
    "col_min = np.min(dataset_np, axis=0)\n"
   ]
  },
  {
   "cell_type": "markdown",
   "metadata": {},
   "source": [
    "There are many times where you may need to randomly choose rows from a dataset. You can do this by using ```np.random.choice``` check out the numpy documentation [here](https://docs.scipy.org/doc//numpy-1.10.4/reference/generated/numpy.random.choice.html). Use this function to do the exercise below"
   ]
  },
  {
   "cell_type": "code",
   "execution_count": 18,
   "metadata": {},
   "outputs": [
    {
     "data": {
      "text/plain": [
       "array([[4.9, 3.6, 1.4, 0.1],\n",
       "       [6.7, 3.1, 5.6, 2.4],\n",
       "       [6.3, 2.5, 4.9, 1.5],\n",
       "       [6.4, 3.1, 5.5, 1.8],\n",
       "       [6.3, 2.8, 5.1, 1.5]])"
      ]
     },
     "execution_count": 18,
     "metadata": {},
     "output_type": "execute_result"
    }
   ],
   "source": [
    "# Randomly sample 5 rows from dataset_np \n",
    "np.random.seed(1)\n",
    "\n",
    "# Start by choosing 5 indices. Use np.random.choice for this. \n",
    "# the syntax will be similar to np.random.choice(number of indicies, sample size).\n",
    "# You can get the number of indices from the shape of dataset_loc\n",
    "indicies = np.random.choice(dataset_np.shape[0], 5)\n",
    "\n",
    "# Slice dataset_np with the indicies to get rows \n",
    "rows = dataset_np[indicies, :]\n",
    "rows\n"
   ]
  },
  {
   "cell_type": "markdown",
   "metadata": {},
   "source": [
    "## Numpy Lab 1 \n",
    "\n",
    "Write a python program that creates two arrays with the following description:\n",
    "\n",
    "1. Array 'a' - is a 3*3 array and has numbers from 10 to 46 with equal space between.\n",
    "2. Array 'b' is a 3*2 array and has number 60 to 180 with equal space between each element.\n",
    "3. Create a new array 'c' and assign it with the result of multiplication of Arrays - a *  b\n",
    "\n",
    "Hint: Refer to numpy documentation at  https://docs.scipy.org/doc/numpy/user/quickstart.html"
   ]
  },
  {
   "cell_type": "code",
   "execution_count": null,
   "metadata": {
    "collapsed": true,
    "jupyter": {
     "outputs_hidden": true
    }
   },
   "outputs": [],
   "source": []
  }
 ],
 "metadata": {
  "kernelspec": {
   "display_name": "Python 3",
   "language": "python",
   "name": "python3"
  },
  "language_info": {
   "codemirror_mode": {
    "name": "ipython",
    "version": 3
   },
   "file_extension": ".py",
   "mimetype": "text/x-python",
   "name": "python",
   "nbconvert_exporter": "python",
   "pygments_lexer": "ipython3",
   "version": "3.7.6"
  }
 },
 "nbformat": 4,
 "nbformat_minor": 4
}
