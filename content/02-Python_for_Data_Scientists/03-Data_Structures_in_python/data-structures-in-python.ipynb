{
 "cells": [
  {
   "cell_type": "markdown",
   "metadata": {},
   "source": [
    "# Data Structure in Python\n",
    "\n",
    "## Data types\n",
    "\n",
    "Python supports many data types. Some of them are common among other programming languages and some of them are native to Python.\n",
    "The list of data types is given in the picture below, and we discuss all the data types in detail, throughout this notebook.\n",
    "\n",
    "<img src=\"../../../images/python_data_structures.png\" style=\"width: 650px;\">\n",
    "\n",
    "### Initializing Variables\n",
    "\n",
    "Python variables do not need declaration or specification of data type. For example,\n",
    "\n",
    "```python\n",
    "a = 5\n",
    "b = 5.0\n",
    "c = \"string\"\n",
    "```\n",
    "are all correct assignments.\n",
    "\n",
    "The same value can be assigned to multiple variables in a sequence as shown below unlike many other languages which allow single variable assignment.\n",
    "\n",
    "```python\n",
    "a = b = c = 5\n",
    "```\n",
    "\n",
    "<b>Let us begin coding with our first exercise.</b>\n",
    "\n",
    "\n",
    "### Exercise\n",
    "\n",
    "Initialize and print \n",
    "* a) an integer variable (x) with value 4\n",
    "* b) a floating point variable (y) with value 6.78\n",
    "* c) a string variable (z) with value 'Hello'\n",
    "* d) re-assign all three variables with a string 'I love python' and print all three variables.\n",
    "\n",
    "The objective of this task is to show the ease of re-assigning a variable in python. The variable does not need to be typecasted and python automatically assigns the data type to the variable based on the value it is assigned. (i.e., If x='Hello', then 'x' is automatically identified by python as a string variable. If 'x' is re-assigned a value of 12.6, say x=12.6, then 'x' is automatically identified as a float)"
   ]
  },
  {
   "cell_type": "code",
   "execution_count": 8,
   "metadata": {
    "collapsed": true
   },
   "outputs": [],
   "source": [
    "# Initialize the variables\n",
    "# Please make sure you use the variables x,y,z only to do your exercise and pass the exercise. If you use other variables, you might not get right results."
   ]
  },
  {
   "cell_type": "markdown",
   "metadata": {
    "collapsed": true,
    "hide_input": true
   },
   "source": [
    "## Solution\n",
    "\n",
    "```python\n",
    "x = 4\n",
    "y = 6.78\n",
    "z = 'Hello'\n",
    "\n",
    "print (x, y, z)\n",
    "\n",
    "# Re-assigning all three variables\n",
    "x = y = z = 'I love python'\n",
    "print (x, y, z)\n",
    "\n",
    "```"
   ]
  },
  {
   "cell_type": "markdown",
   "metadata": {
    "ExecuteTime": {
     "end_time": "2018-08-22T13:59:05.839094Z",
     "start_time": "2018-08-22T13:59:05.833108Z"
    }
   },
   "source": [
    "### Format specifiers in Python\n",
    "\n",
    "When you want to put a placeholder for a variable and pass the value to the function separately, we can use something called format specifier. This is typically a set of symbols which tell the function about the format in which the value being passed is to be printed. Format specifiers for various types of data types in Python are similar to other programming languages:\n",
    "\n",
    "* %d for integer\n",
    "* %f for float\n",
    "* %s for string\n",
    "* %r for raw object using 'repr' method\n",
    "* %x for hex code\n",
    "\n",
    "We can use the format specifiers as placeholders in a print statement, and pass the value of a specific variable using the '%' operator. Multiple variables/values can also be passed by enclosing all variables in paranthesis and separating them by commas.\n",
    "\n",
    "An example:\n",
    "\n",
    "```python\n",
    "a = 10\n",
    "b = 5\n",
    "\n",
    "print(\"I want to print %d and %d in the same sentence\"%(a,b))\n",
    "\n",
    ">>> I want to print 10 and 5 in the same sentence\n",
    "```\n",
    "\n",
    "Another example:\n",
    "\n",
    "```python\n",
    "a = 10.264725\n",
    "b = \"a string type\"\n",
    "\n",
    "print(\"I want to print %f and %s in the same sentence\"%(a,b))\n",
    "\n",
    ">>> I want to print 10.264725 and a string type in the same sentence\n",
    "```\n",
    "Alternative to the '%' operator, we have the format() function which can also be used.\n",
    "\n",
    "```python\n",
    "a = 10\n",
    "b = 5\n",
    "\n",
    "print(\"I want to print {:d} and {:d} in the same sentence\".format(a,b))\n",
    "\n",
    ">>> I want to print 10 and 5 in the same sentence\n",
    "```\n",
    "\n",
    "```python\n",
    "a = 10.264725\n",
    "b = \"a string type\"\n",
    "\n",
    "print(\"I want to print {:f} and {:s} in the same sentence\".format(a,b))\n",
    "\n",
    ">>> I want to print 10.264725 and a string type in the same sentence\n",
    "```\n",
    "\n",
    "#### Rounding off a float and adding preceeding zeroes\n",
    "\n",
    "In the above example, where we had a float value, we may want to restrict the number of decimals and print a rounded value. On the other hand we may want to add a preceeding zero to the number, in case the value a here is a single observation in a larger pool of numbers which have 3 digits before the decimal.\n",
    "We can add preceeding zeroes and round off float values by specifying the type of formatting for a float, after the '%' symbol and before the 'f' symbol of the format specifier.\n",
    "* Use a period symbol ('.') to denote the decimal in the float value\n",
    "* For preceeding zeroes, add total desired length of the number (including decimal point), in digits, before the period symbol. And before this number, add a '0' to denote that all preceeding blank spaces need to be filled with zeroes.\n",
    "* For rounding off decimals, add the number up to which you want decimals, right after the period symbol and before the 'f' symbol\n",
    "\n",
    "<img src=\"../../../images/format_specifiers.png\">\n",
    "\n",
    "A few examples:\n",
    "```python\n",
    "a = 10.264725 \n",
    "\n",
    "print('''Variations of a floating point:\n",
    "1. {:.2f}\n",
    "2. {:.3f}\n",
    "3. {:4.4f}\n",
    "4. {:04.4f}\n",
    "5. {:8.4f}\n",
    "6. {:08.4f}\n",
    "7. {:010.4f}'''.format(a,a,a,a,a,a,a))\n",
    "\n",
    ">>> Variations of a floating point:\n",
    ">>> 1. 10.26\n",
    ">>> 2. 10.265\n",
    ">>> 3. 10.2647\n",
    ">>> 4. 10.2647\n",
    ">>> 5.  10.2647\n",
    ">>> 6. 010.2647\n",
    ">>> 7. 00010.2647\n",
    "```\n",
    "\n",
    "<b>Important note:</b> In above example '{:4.4f}' and '{04.4f}' give the same output, where we cannot see any padding (neither blanks nor zeroes). This is because the length that we specified for the string is 4, whereas we have also asked for 4 digits after the decimal point. So the digits after decimal take precedence and these 4 digits are added first.\n",
    "Then the whole number is generated - the characteristic (digits before decimal) and the mantissa (digits after the decimal). After this the control checks to add padding. It now finds that the condition for length of number we have specified is 4, and the length of number is already more than 4, hence it does not add any padding blanks or zeroes.\n",
    "\n",
    "For more details on formatting refer to: https://pyformat.info/\n",
    "\n",
    "#### Exercise\n",
    "\n",
    "Given variables - \n",
    "* a = 5\n",
    "* b = 134.264262\n",
    "* c = \"Hello! How are you?\"\n",
    "\n",
    "Print the following using appropriate format specifiers\n",
    "* the integer and a floating point equivalent of a\n",
    "* the value of b, upto one decimal place and padded with two preceeding zeroes\n",
    "* the string c, truncated up to first 10 characters"
   ]
  },
  {
   "cell_type": "code",
   "execution_count": null,
   "metadata": {
    "collapsed": true
   },
   "outputs": [],
   "source": []
  },
  {
   "cell_type": "markdown",
   "metadata": {
    "ExecuteTime": {
     "end_time": "2018-08-23T02:34:43.881328Z",
     "start_time": "2018-08-23T02:34:43.875342Z"
    },
    "hide_input": true
   },
   "source": [
    "## Solution\n",
    "\n",
    "```python\n",
    "a = 5\n",
    "b = 134.264262\n",
    "c = \"Hello! How are you?\"\n",
    "\n",
    "print('''The answers are:\n",
    "1. {:d} and {:f}\n",
    "2. {:07.1f}\n",
    "3. {:.10s}'''.format(a,a,b,c))\n",
    "```"
   ]
  },
  {
   "cell_type": "markdown",
   "metadata": {},
   "source": [
    "## Variable Operators\n",
    "\n",
    "Operators are the constructs which can manipulate the value of operands/variables.\n",
    "\n",
    "### Arithmetic Operators\n",
    "\n",
    "The standard arithmetic operators in Python are:\n",
    "\n",
    "* \\+ for addition - Adds the values of two variables\n",
    "* \\- for subtraction - Subtracts the value of right hand side variable from left hand side variable\n",
    "* \\* for multiplication - Multiplies the values of two variables with each other\n",
    "* / for division - Divides the value of left hand side variable (called Dividend) with the value of right hand side variable (called Divisor) and returns 'Quotient'\n",
    "* \\*\\* for exponentials - Exponential, multiplies the number on the left hand side with itself, the number of times equal to the the right hand side value\n",
    "* % for modulus - Modulus, similar to division operator, but returns the remainder of the division, rather than the quotient\n",
    "\n",
    "A few examples to understand output of each arithmetic operator:\n",
    "\n",
    "```python\n",
    "# Importing numpy library to create n-dimensional arrays for matrix multiplication. We will learn more about this later\n",
    "import numpy as np\n",
    "\n",
    "# Creating simple variables\n",
    "a = 10\n",
    "b = 5\n",
    "\n",
    "# Creating arrays for matrix multiplication\n",
    "c = np.array([[1,2,3],[4,5,6]])\n",
    "d = np.array([[1,0,0],[0,1,0],[0,0,1]]) # This is identity matrix. We will learn about this in Math module\n",
    "\n",
    "# Simple operations\n",
    "sum_ab = a + b\n",
    "diff_ab = a - b\n",
    "prod_ab = a*b\n",
    "div_ab = a/b\n",
    "rem_ab = a%b\n",
    "exp_ab = a**b\n",
    "\n",
    "# Matrix multiplication\n",
    "mat_mul = c@d\n",
    "\n",
    "print('''The sum of a and b is: %.2f\n",
    "The difference of a and b is: %.2f\n",
    "The product of a and b is: %.2f\n",
    "The quotient of a divided by b is: %.2f\n",
    "The remainder of a divided by b is: %.2f\n",
    "The exponential of a to the power of b is: %.2f\n",
    "The matrix product of a and b is:'''%(sum_ab,diff_ab,prod_ab,div_ab,rem_ab,exp_ab),mat_mul)\n",
    "\n",
    "# Output\n",
    ">>> The sum of a and b is: 15.00\n",
    ">>> The difference of a and b is: 5.00\n",
    ">>> The product of a and b is: 50.00\n",
    ">>> The quotient of a divided by b is: 2.00\n",
    ">>> The remainder of a divided by b is: 0.00\n",
    ">>> The exponential of a to the power of b is: 100000.00\n",
    ">>> The matrix product of a and b is: [[1 2 3]\n",
    ">>> [4 5 6]]\n",
    "```\n",
    "\n",
    "As the name suggests, the arithmetic operators generally support numeric value operations with the exception of '+', which works as concatenation in case of string values. Table of supported data structures:\n",
    "<img src=\"../../../images/arith_support.png\">\n",
    "\n",
    "### Relational/Comparison Operators\n",
    "\n",
    "The comparison operators are similar to most other programming languages with the commonly known symbols:\n",
    "* \\> for greater than\n",
    "* < for less than\n",
    "* = for assignment\n",
    "* == for equal to\n",
    "* \\>= for greater than or equal to\n",
    "* <= for less than or equal to\n",
    "* != for not equal to\n",
    "\n",
    "The relational/comparison operators are generally used to compare numeric values (integer and float). Though output may be generated while using character data types, it is often unexpected and irrational.\n",
    "\n",
    "The operators return a boolean value 'True' or 'False', which can also be presented numerically as 1 for True and 0 for False.\n",
    "\n",
    "An example:\n",
    "```python\n",
    "# Creating simple variables\n",
    "a = 10\n",
    "b = 5\n",
    "\n",
    "# Simple operations\n",
    "greater_ab = a>b\n",
    "lesser_ab = a<b\n",
    "gr_or_eq_ab = a>=b\n",
    "le_or_eq_ab = a<=b\n",
    "eq_to_ab = a==b\n",
    "not_eq_to_ab = a!=b\n",
    "\n",
    "print('''Is a greater than b: %r\n",
    "Is a less than b: %r\n",
    "Is a greater than or equal to b: %r\n",
    "Is a less than or equal to b: %r\n",
    "Is a equal to b: %r\n",
    "Is a not equal to b: %r'''%(greater_ab,lesser_ab,gr_or_eq_ab,le_or_eq_ab,eq_to_ab,not_eq_to_ab))\n",
    "\n",
    "#Output\n",
    ">>> Is a greater than b: True\n",
    ">>> Is a less than b: False\n",
    ">>> Is a greater than or equal to b: True\n",
    ">>> Is a less than or equal to b: False\n",
    ">>> Is a equal to b: False\n",
    ">>> Is a not equal to b: True\n",
    "```\n",
    "\n",
    "Another example:\n",
    "\n",
    "```Python\n",
    "# Comparing 2 values:\n",
    "\n",
    "a = 5 \n",
    "b = 15\n",
    "\n",
    "cond_1 = a > b\n",
    "print('Is a smaller than b: {}'.format(cond_1))\n",
    "\n",
    "cond_2 = a == b\n",
    "print('Are a and b equal: {}'.format(cond_2))\n",
    "\n",
    "cond_3 = a < b\n",
    "print('Is a greater than b: {}'.format(cond_3))\n",
    "\n",
    "cond_4 = a != b\n",
    "print('Are a and b unequal: {}'.format(cond_4))\n",
    "\n",
    "# Output\n",
    ">>> Is a smaller than b: False\n",
    ">>> Are a and b equal: False\n",
    ">>> Is a greater than b: True\n",
    ">>> Are a and b unequal: True\n",
    "```\n",
    "\n",
    "### Exercise\n",
    "\n",
    "Given a=34 and b=57, verify the following conditions:\n",
    "* Is the total of a and b equal to b?\n",
    "* Is the total of a and b greater than a?\n",
    "* Is the total of a and 23 less than or equal to b?\n",
    "* Is the total of a and 23 equal to a?\n",
    "* Is the product of a and 18, divided by 18 is not equal to a itself?"
   ]
  },
  {
   "cell_type": "code",
   "execution_count": 55,
   "metadata": {
    "ExecuteTime": {
     "end_time": "2018-08-22T13:28:54.627647Z",
     "start_time": "2018-08-22T13:28:54.617694Z"
    }
   },
   "outputs": [
    {
     "name": "stdout",
     "output_type": "stream",
     "text": [
      "Is a greater than b: True\n",
      "Is a less than b: False\n",
      "Is a greater than or equal to b: True\n",
      "Is a less than or equal to b: False\n",
      "Is a equal to b: False\n",
      "Is a not equal to b: True\n"
     ]
    }
   ],
   "source": []
  },
  {
   "cell_type": "markdown",
   "metadata": {
    "hide_input": true
   },
   "source": [
    "### Solution code\n",
    "\n",
    "```python\n",
    "\n",
    "a = 34\n",
    "b = 57\n",
    "\n",
    "ans = a + b\n",
    "cond_1 = ans == b\n",
    "cond_2 = ans > a \n",
    "\n",
    "ans = a + 23\n",
    "cond_3 = ans <= b\n",
    "cond_4 = ans == a\n",
    "\n",
    "ans = a * 18\n",
    "cond_5 = (ans/18) != a\n",
    "\n",
    "print('cond_1: {}'.format(cond_1))\n",
    "print('cond_2: {}'.format(cond_2))\n",
    "print('cond_3: {}'.format(cond_3))\n",
    "print('cond_4: {}'.format(cond_4))\n",
    "print('cond_5: {}'.format(cond_5))\n",
    "\n",
    "\n",
    "```"
   ]
  },
  {
   "cell_type": "markdown",
   "metadata": {},
   "source": [
    "### Membership Operator (in)\n",
    "\n",
    "Python’s membership operators test for membership in a sequence, such as strings, lists, or tuples.\n",
    "\n",
    "For the code 'x in y', if x is a subset of y, then the result is True:\n",
    "\n",
    "```python\n",
    "# list\n",
    "a = [1,2.35,\"Hello\",\"cat\",114]\n",
    "\n",
    "# \"\\n\" creates a new line while printing\n",
    "print(\" Is 15 in list a?\", 15 in a, \"\\n\", \"Is 'cat' in list a?\", 'cat' in a, \"\\n\", \"Is 'dog' in list a?\", 'dog' in a, \"\\n\", \"Is 'H' in the word 'Hello'?\", 'H' in 'Hello', \"\\n\", \"Is 'd' in the word 'cat'?\", 'd' in 'cat')\n",
    "\n",
    "# Output\n",
    ">>> Is 15 in list a? False \n",
    ">>> Is 'cat' in list a? True \n",
    ">>> Is 'dog' in list a? False \n",
    ">>> Is 'H' in the word 'Hello'? True \n",
    ">>> Is 'd' in the word 'cat'? False\n",
    "```\n",
    "\n",
    "The 'in' operator is frequently used as a iterator which runs through every element of a list, tuple or string, while using decision statements or loops. We will see more usage of 'in' when we learn about loops and decision statements.\n",
    "\n",
    "### Identity Operators (is) and the id() function\n",
    "\n",
    "In order to check the memory location of a variable in Python, we use the id() function. When we pass a variable as an argument to the id() function, it returns a integer which represents the memory location of the given variable.\n",
    "Identity operators compare the memory locations of two python objects and returns True if they point to the same location. 'is' is such an operator.\n",
    "\n",
    "Two objects can contain the same value but can be different objects, stored at different memory locations. Here is an example which illustrates the 'is' operator:\n",
    "\n",
    "```python\n",
    "# Example 1\n",
    "a = 5\n",
    "b = 5\n",
    "c = 5.0\n",
    "\n",
    "print(\"Location of a:\", id(a), \"; Location of b:\", id(b), \"; Is a same as b?\", a is b)\n",
    "print(\"Location of a:\", id(a), \"; Location of c:\", id(c), \"; Is a same as c?\", a is c)\n",
    "print(\"Is a equal to b?\", a==b, \"\\n\", \"Is a equal to c?\", a==c)\n",
    "\n",
    "# Output\n",
    ">>> Location of a: 10919552 ; Location of b: 10919552 ; Is a same as b? True\n",
    ">>> Location of a: 10919552 ; Location of c: 140045356024168 ; Is a same as c? False\n",
    ">>> Is a equal to b? True\n",
    ">>> Is a equal to c? True\n",
    "\n",
    "# Example 2\n",
    "a = 'This '\n",
    "b = a + 'is a python tutorial'\n",
    "c = 'This is a python tutorial'\n",
    "\n",
    "b == c\n",
    ">>> True\n",
    "b is c\n",
    ">>> False\n",
    "```\n",
    "\n",
    "<b>Note:</b> In above example we can see that when we initialized two variables 'a' and 'b' within the same block with the same value, they were both pointing to the same location. Python saves memory in this way, by referring to the same object, when values are same, instead of creating a new object. When some operations are performed on 'a' and 'b' they take up different values and that is when the memory location they reference would change based on which value they would be taking.\n",
    "\n",
    "```python\n",
    "# Example 3\n",
    "a = 5\n",
    "b = 5\n",
    "c = 5\n",
    "\n",
    "# Before operating on a,b and c\n",
    "print(\"Location of a:\", id(a), \"; Location of b:\", id(b), \"; Is a same as b?\", a is b)\n",
    "print(\"Location of a:\", id(a), \"; Location of c:\", id(c), \"; Is a same as c?\", a is c)\n",
    "\n",
    "# Manipulating a,b and c\n",
    "a = 2*a\n",
    "b = 2*b\n",
    "c = 3*c\n",
    "\n",
    "# After operating on a,b and c\n",
    "print(\"Location of a:\", id(a), \"; Location of b:\", id(b), \"; Is a same as b?\", a is b)\n",
    "print(\"Location of a:\", id(a), \"; Location of c:\", id(c), \"; Is a same as c?\", a is c)\n",
    "\n",
    "# Output\n",
    ">>> Location of a: 10919552 ; Location of b: 10919552 ; Is a same as b? True\n",
    ">>> Location of a: 10919552 ; Location of c: 10919552 ; Is a same as c? True\n",
    ">>> Location of a: 10919712 ; Location of b: 10919712 ; Is a same as b? True\n",
    ">>> Location of a: 10919712 ; Location of c: 10919872 ; Is a same as c? False\n",
    "```\n",
    "\n",
    "For more on operators, refer to: https://docs.python.org/3/library/operator.html\n",
    "\n",
    "#### Exercise\n",
    "\n",
    "Given two variables - a=\"Hello\" and b=\"Hello\"\n",
    "* Check if a is in b, i.e., is 'a' a subset of 'b'\n",
    "* Check if a is equal to b. Also check if a is same as b, using the 'is' operator\n",
    "* Verify above result by comparing the memory locations of a and b using the id() function"
   ]
  },
  {
   "cell_type": "code",
   "execution_count": null,
   "metadata": {
    "collapsed": true
   },
   "outputs": [],
   "source": []
  },
  {
   "cell_type": "markdown",
   "metadata": {},
   "source": [
    "### Solution\n",
    "\n",
    "```python\n",
    "a = \"Hello\"\n",
    "b = \"Hello\"\n",
    "\n",
    "print(\"Is a in b?\", a in b, \"\\n\", \"Is a equal to b?\", a==b, \"\\n\", \"Is a same as b?\", a is b)\n",
    "print(\"Location of a:\", id(a), \"; Location of b:\", id(b), \"; Do a and b have same location?\", id(a)==id(b))\n",
    "```"
   ]
  },
  {
   "cell_type": "markdown",
   "metadata": {
    "tags": [
     "l2",
     "content",
     "s2"
    ]
   },
   "source": [
    "## Python Lists\n",
    "\n",
    "Python lists are equivalent to arrays. For example:\n",
    "\n",
    "fruits = [\"Mango\", \"Banana\", \"Apple\", \"Orange\"]\n",
    "\n",
    "Python lists can have multiple types of objects. For example:\n",
    "\n",
    "mixed_list = [\"Apple\", 3, 25.68, \"This is a mixed list\"]\n",
    "\n",
    "### Exercise\n",
    "\n",
    "Create a list vegetables with Tomato, Spinach, Asparagus, Lettuce and Jalapenos as the elements and print the list out"
   ]
  },
  {
   "cell_type": "code",
   "execution_count": 12,
   "metadata": {
    "collapsed": true,
    "tags": [
     "l2",
     "ce",
     "s2"
    ]
   },
   "outputs": [],
   "source": [
    "# Create a list of vegetables\n",
    "# Use 'vegetables' as the variable name of the list.\n"
   ]
  },
  {
   "cell_type": "markdown",
   "metadata": {
    "collapsed": true,
    "hide_input": true,
    "tags": [
     "l2",
     "s2",
     "hint"
    ]
   },
   "source": [
    "## Solution\n",
    "\n",
    "```python\n",
    "\n",
    "vegetables = [\"Tomato\", \"Spinach\", \"Asparagus\", \"Lettuce\", \"Jalapenos\"]\n",
    "print (vegetables)\n",
    "\n",
    "```"
   ]
  },
  {
   "cell_type": "markdown",
   "metadata": {
    "tags": [
     "l3",
     "s3",
     "content"
    ]
   },
   "source": [
    "## Indexing in a list\n",
    "\n",
    "You can access the objects with the indices:\n",
    "\n",
    "To access the first object:\n",
    "\n",
    "```\n",
    ">> fruits[0]\n",
    "'Mango'\n",
    "```\n",
    "\n",
    "To access the last object, esp when the length of the list is large, a useful index method is to use negative index that refers to objects from the end of the list:\n",
    "\n",
    "```\n",
    ">> fruits[-1]\n",
    "'Orange'\n",
    "```\n",
    "\n",
    "The flexibility of python is that it can contain various objects of different types unlike many other languages:\n",
    "\n",
    "```\n",
    "collection = [\"cost\", 100, \"Apples\", 5.0]\n",
    "```\n",
    "\n",
    "Ref: https://docs.python.org/3/tutorial/datastructures.html\n",
    "\n",
    "<img src=\"https://s3.amazonaws.com/rfv2/list.png\" style=\"width: 170px;\">\n",
    "\n",
    "### Exercise\n",
    "\n",
    "* Retrieve the third element in the vegetables list created before and assign it to variable, veg_2\n",
    "* Retrieve the last element using the negative index and assign it to the varible veg_1\n",
    "* Print out veg_1 and veg_2 variables"
   ]
  },
  {
   "cell_type": "code",
   "execution_count": 16,
   "metadata": {
    "collapsed": true,
    "tags": [
     "l3",
     "s3",
     "ce"
    ]
   },
   "outputs": [],
   "source": [
    "# Use the indexing to retrieve the variables You don't have to re-initialize the variable 'vegetables' here, as it is already initialized by you in the previous exercise and available in memory for you to reuse through out this lesson.\n",
    "# Index of a list starts with 0"
   ]
  },
  {
   "cell_type": "markdown",
   "metadata": {
    "collapsed": true,
    "hide_input": true,
    "tags": [
     "l3",
     "s3",
     "hint"
    ]
   },
   "source": [
    "## Solution\n",
    "\n",
    "```python\n",
    "\n",
    "veg_2 = vegetables[2]\n",
    "veg_1 = vegetables[-1]\n",
    "print (veg_2, veg_1)\n",
    "\n",
    "```"
   ]
  },
  {
   "cell_type": "markdown",
   "metadata": {},
   "source": [
    "## Useful indexing tricks\n",
    "\n",
    "Inexing in Python is really advanced and helps retrieve elements of a list in more than just the traditional way. We have seen some simple indexing above. In this section we will have a look at some advanced indexing which would help retrieve elements satisfying some simple conditions.\n",
    "\n",
    "### The colon and string reversal using indexing\n",
    "\n",
    "In most programming languages a string is a list/array of characters. So the string reversal operations are the same (or similar) to array or list reversal.\n",
    "\n",
    "The colon plays an important part in indexing in Python.\n",
    "* Using a single colon to separate two indices: The number on the left side of the colon is the lower index (generally inclusive) and the number on the right side of the colon is the upper index (generally exclusive). This notation retrieves all elements of the list starting from the lower index up to the upper index.\n",
    "* Using two colons to separate two indices and an iterator: A second colon can be used to separate the upper index with an iterator. The iterator is a number which determines the increment the index will take while traversing the list/array. By default this number is '1', so the index increases one place at a time, i.e., next index = previous index + increment.\n",
    "\n",
    "```python\n",
    "# Single colon example\n",
    "\n",
    "a = [1,2,3,4,5,6,8,10] # Defining the list\n",
    "a[2:6] # 2 is lower index and 6 is upper index\n",
    "\n",
    ">>> [3, 4, 5, 6] # Output\n",
    "\n",
    "# Double colon example\n",
    "\n",
    "a = [1,2,3,4,5,6,8,10] # Defining the list\n",
    "a[2:6:2] # 2 is lower index and 6 is upper index and 2 is iterator/increment in index\n",
    "\n",
    ">>> [3, 5] # Output\n",
    "\n",
    "# Another double colon example\n",
    "\n",
    "a = [1,2,3,4,5,6,8,10] # Defining the list\n",
    "a[::2] # 0 is lower index and len(a)-1 is upper index and 2 is iterator/increment in index\n",
    "\n",
    ">>> [1, 3, 5, 8] # Output\n",
    "\n",
    "# Yet another example\n",
    "\n",
    "a = [1,2,3,4,5,6,8,10] # Defining the list\n",
    "a[1::2] # 1 is lower index and len(a)-1 is upper index and 2 is iterator/increment in index\n",
    "\n",
    ">>> [2, 4, 6, 10] # Output\n",
    "```\n",
    "\n",
    "Now, what would happen if the iterator were to be set to a negative number, say -1. The list would be traversed and elements retrieved in a reverse order. This is how we can actually perform a list/string reversal.\n",
    "\n",
    "```python\n",
    "# List reversal example\n",
    "\n",
    "a = [1,2,3,4,5,6,8,10] # Defining the list\n",
    "a[::-1] # 0 is lower index and len(a)-1 is upper index and -1 is iterator/increment in index; Traverse list in reverse order\n",
    "\n",
    ">>> [10, 8, 6, 5, 4, 3, 2, 1] # Output\n",
    "```\n",
    "\n",
    "#### Exercise\n",
    "\n",
    "Given two lists: a = [36,21,6,23,77,14,7,24,4,13] and b = [48,14,1,3,63,23,24,53,21,59]\n",
    "* Starting from the first element of list a, retrieve every third element of the list. Print the result.\n",
    "* Starting from the first element of list b, select every alternate element of the list, in reverse order. Print the result.\n",
    "* Retrieve every alternate number, starting from first element from list a and every alternate element, starting from second element from list b, subtract elements of list b from list a and print both the lists."
   ]
  },
  {
   "cell_type": "code",
   "execution_count": null,
   "metadata": {
    "ExecuteTime": {
     "end_time": "2018-08-21T15:27:04.689739Z",
     "start_time": "2018-08-21T15:27:04.599973Z"
    },
    "collapsed": true
   },
   "outputs": [],
   "source": []
  },
  {
   "cell_type": "markdown",
   "metadata": {},
   "source": [
    "### Solution code\n",
    "\n",
    "```python\n",
    "a = [36,21,6,23,77,14,7,24,4,13]\n",
    "print(a[::3])\n",
    "\n",
    "b = [48,14,1,3,63,23,24,53,21,59]\n",
    "print(b[::-2])\n",
    "\n",
    "\n",
    "print(a[::2],\"\\n\",b[1::2])\n",
    "```"
   ]
  },
  {
   "cell_type": "markdown",
   "metadata": {
    "tags": [
     "l4",
     "s4",
     "content"
    ]
   },
   "source": [
    "## List As Stack\n",
    "\n",
    "<img src=\"https://s3.amazonaws.com/rfv2/stack.png\" style=\"width: 350px;\">\n",
    "A list in python can be used as a stack and is flexible to support stack operations such as push and pop.\n",
    "\n",
    "#### Push\n",
    "\n",
    "Use the .append() command to push objects to a list.\n",
    "\n",
    "#### Pop\n",
    "\n",
    "Use the .pop() command to pop objects from a list.\n",
    "\n",
    "### Exercise\n",
    "\n",
    "* Use Stack operations on the vegetables list to first pop Jalapenos off the list, and then add Celery. Print the new list out.\n",
    "\n"
   ]
  },
  {
   "cell_type": "code",
   "execution_count": 20,
   "metadata": {
    "collapsed": true,
    "tags": [
     "l4",
     "s4",
     "ce"
    ]
   },
   "outputs": [],
   "source": [
    "vegetables = [\"Tomato\", \"Spinach\", \"Asparagus\", \"Lettuce\", \"Jalapenos\"]\n",
    "\n",
    "# We recommend re-initializing variable 'vegetables' with Tomano, Spinach, Asparagus, Lettuce and Jalapenos at the beginning of this exercise. When you run the code push and pop operations change the data in the vegetables list. If you do not initialize the variable vegetables, when you execute the same code multiple times, you might get different results as the new code gets executed on changed list.\n",
    "# Re-initialize the vegetables list by going back to the previous exercise and running it again or create a new vegetables list with in this exercise.\n",
    "# Do this re-inializing step first, before each time you run the pop operation.\n",
    "# pop jalapenos, push celery and print\n"
   ]
  },
  {
   "cell_type": "markdown",
   "metadata": {
    "collapsed": true,
    "hide_input": true,
    "tags": [
     "s4",
     "l4",
     "hint"
    ]
   },
   "source": [
    "## Solution\n",
    "\n",
    "```python\n",
    "\n",
    "vegetables.pop(-1)\n",
    "vegetables.append(\"Celery\")\n",
    "vegetables\n",
    "\n",
    "```"
   ]
  },
  {
   "cell_type": "markdown",
   "metadata": {
    "tags": [
     "l5",
     "content",
     "s5"
    ]
   },
   "source": [
    "## List As Queue\n",
    "\n",
    "A queue is a data structure similar to real-life queue systems. A queue follows FIFO process, i.e. First-in-First-out, for insertion and deletion of elements. For example, lets assume one end of a queue to be front and the other to be rear end. When the first element is inserted in this queue, because it is the only element present, it faces both front and rear end. But when the second element is inserted, this element faces the front end and the first element takes the rear end. From then on, every element that gets added faces the front end and the first element remains at the rear end, till its deleted. After its deletion, the second element takes rear end.\n",
    "\n",
    "Python lists can be used as queues as well. The collections module contains a function called 'deque'. It converts any list variable into a 'double-ended queue'. Once the variable is converted into a double ended queue, elements can be added using the 'append' operation and deleted using the 'pop' operation in the FIFO (First-In-First-Out) order. The insertion of an element or the enqueue(append) operation is illustrated in the diagram below:\n",
    "\n",
    "<img src=\"https://s3.amazonaws.com/rfv2/enqueue.png\" style=\"width: 350px;\">\n",
    "\n",
    "Below given example code shows 'pop' operation on a list.\n",
    "\n",
    "from collections import deque\n",
    "\n",
    "fruit_queue = deque([\"Apples\", \"Oranges\", \"Mango\"])\n",
    "fruit_queue.append(\"Banana\")        \n",
    "fruit_queue.popleft()  \n",
    "\n",
    "The output of the block of code given above is:\n",
    "'Apples'. The 'popleft' operation works by removing the first inserted element first (FIFO - First In, First Out) as shown below;\n",
    "\n",
    "<img src=\"../../../images/deque.png\" style=\"width: 350px;\">\n",
    "\n",
    "### Exercise\n",
    "\n",
    "Convert the vegetables list into a queue with the name 'vegetables_queue' and pop the leftmost element. Print the remaining queue."
   ]
  },
  {
   "cell_type": "code",
   "execution_count": 24,
   "metadata": {
    "collapsed": true,
    "tags": [
     "l5",
     "ce",
     "s5"
    ]
   },
   "outputs": [],
   "source": [
    "from collections import deque\n",
    "vegetables = [\"Tomato\", \"Spinach\", \"Asparagus\", \"Lettuce\", \"Jalapenos\"]\n",
    "vegetables.pop(-1)\n",
    "vegetables.append(\"Celery\")\n",
    "# Read the code examples given in 'List as queue' lesson and apply the same\n",
    "#enter your code here"
   ]
  },
  {
   "cell_type": "markdown",
   "metadata": {
    "collapsed": true,
    "hide_input": true,
    "tags": [
     "l5",
     "s5",
     "hint"
    ]
   },
   "source": [
    "\n",
    "## Solution\n",
    "\n",
    "```python\n",
    "\n",
    "vegetables_queue = deque(vegetables)\n",
    "vegetables_queue.popleft()\n",
    "print(vegetables_queue)\n",
    "\n",
    "```"
   ]
  },
  {
   "cell_type": "markdown",
   "metadata": {},
   "source": [
    "### Tuples\n",
    "\n",
    "A tuple is a sequence of immutable sequential objects, i.e., Once they are declared, they cannot be edited or changed. Tuples <b>use parentheses</b> for declaration and access unlike lists and cannot be changed. It is an ordered sequence and used for objects such as coordinates that contain latitude, longitude. They can also be used to denote any data which you would want to be read only.\n",
    "\n",
    "Example: \n",
    "\n",
    "```python\n",
    "loc = (30.456, 50.436)\n",
    "atup = (12,35,123,\"hello\")\n",
    "\n",
    "# printing the tuple and confirming the data type of variable as tuple\n",
    "print(atup,type(atup))\n",
    "\n",
    "# Checking whether hello is present in the tuple and retrieving 3rd element of the tuple\n",
    "print('hello' in atup, atup[2])\n",
    "\n",
    "# Output\n",
    ">>> (12, 35, 123, 'hello') <class 'tuple'>\n",
    ">>> True 123\n",
    "```\n",
    "\n",
    "#### Packing and Unpacking a tuple\n",
    "\n",
    "Tuples can be accessed using the indices, just like a list, array or string.\n",
    "\n",
    "```python\n",
    "atup = (12,35,123,\"hello\")\n",
    "print(atup[2],atup[:2])\n",
    "\n",
    "# Output\n",
    ">>> 123 (12, 35)\n",
    "```\n",
    "However, using indices we cannot access specific objects unless we know their position in the tuple.\n",
    "\n",
    "One of the main uses of tuples is when we are entering records of values pertaining to a certain sequence of keys, i.e., Lets say we have a table of data with name, address, email id as three columns.\n",
    "* The column names are the keys and each row, pertaining to a specific individual/entity is a set of values.\n",
    "* Assume that we are expected to provide read access to this data but not allow manipulation of the same.\n",
    "* Each record/row can then be defined as a tuple.\n",
    "\n",
    "Now packing a tuple is where in we define a tuple out of a sepcific set of values. For example:\n",
    "```python\n",
    "# This is called packing a tuple\n",
    "Person_1 = (\"John Doe\", \"john.doe@gmail.com\", \"31 Chandler Street, Phoenix, Arizona 02411\")\n",
    "```\n",
    "\n",
    "Unpacking a tuple is where in we define the raw structure (referred here as first tuple) of a tuple, which contains labels (keys or variable names) and assign a tuple (containing values, this is referred to here as the second tuple) to it. The values from the second tuple get attached to the labels in the first tuple. An example:\n",
    "```python\n",
    "# This is called unpacking a tuple\n",
    "(name, email, address) = Person_1\n",
    "\n",
    "print(\"The name of the person is {:s} and their email id is {:s}\".format(name,email))\n",
    "\n",
    "# Output\n",
    ">>> The name of the person is John Doe and their email id is john.doe@gmail.com\n",
    "```\n",
    "#### Adding an element to a tuple\n",
    "\n",
    "Though the existing contents of the tuple are immutable, we can add additional objects to a tuple and create a new tuple, or even add two tuples to create a new one. The following are examples to show how to add additional objects to a tuple and also how to add two tuples to create a new one.\n",
    "\n",
    "```python\n",
    "loc = (30.456, 50.436)\n",
    "atup = (12,35,123,\"hello\")\n",
    "\n",
    "# adding two tuples\n",
    "loc = loc + atup\n",
    "# adding a new object to atup\n",
    "atup = atup + (\"I can add an object\",)\n",
    "\n",
    "# printing the new tuples\n",
    "print(loc,type(loc),\"\\n\",atup,type(atup))\n",
    "\n",
    "# Output\n",
    ">>> (30.456, 50.436, 12, 35, 123, 'hello') <class 'tuple'>\n",
    ">>> (12, 35, 123, 'hello', 'I can add an object') <class 'tuple'>\n",
    "```\n",
    "Ref: https://docs.python.org/3/c-api/tuple.html\n",
    "\n",
    "#### Exercise\n",
    "\n",
    "Create a tuple with the following objects:\n",
    "* Your name\n",
    "* Your email id\n",
    "* Your mailing address\n",
    "\n",
    "Once the tuple is initialized, add your phone number to the tuple. You may use string type for all objects.\n",
    "* Print the tuple and also the type (using type()) to confirm that the object is indeed a tuple"
   ]
  },
  {
   "cell_type": "code",
   "execution_count": null,
   "metadata": {
    "ExecuteTime": {
     "end_time": "2018-08-23T17:51:24.893225Z",
     "start_time": "2018-08-23T17:51:24.888239Z"
    }
   },
   "outputs": [],
   "source": []
  },
  {
   "cell_type": "markdown",
   "metadata": {
    "hide_input": true
   },
   "source": [
    "### Solution code\n",
    "\n",
    "```python\n",
    "# Sample example solution\n",
    "\n",
    "bio_data = (\"John Doe\", \"john.doe@gmail.com\", \"31 Chandler Street, Phoenix, Arizona 02411\")\n",
    "\n",
    "# adding phone number\n",
    "bio_data = bio_data + (\"602-123-4567\",)\n",
    "\n",
    "# printing the new tuples\n",
    "print(bio_data,type(bio_data))\n",
    "```"
   ]
  },
  {
   "cell_type": "markdown",
   "metadata": {},
   "source": [
    "### Sets\n",
    "\n",
    "A set is an unordered <b>collection of unique objects</b>. Sets are collection types and very useful for Mathematicians, Statisticians and Data Scientists. It is equivalent to the mathematical definition of sets. Sets in python are defined using the function 'set()'. Any list, or array type can also be recast into a set, using the set() function.\n",
    "\n",
    "Note that when a list containing multiple occurrences of a specific element is passed to a set() function, the resulting set contains only unique elements (single occurrence) and not all occurrences.\n",
    "\n",
    "```python\n",
    "# Example 1\n",
    "even_number_set = set([0, 2, 4, 6])\n",
    "\n",
    "# Example 2\n",
    "list_A = [25,1,2,3,\"Hello\",2,4,3,2,4,7,\"Hello\"]\n",
    "\n",
    "print(even_number_set, \"\\n\", set(list_A))\n",
    "\n",
    "# Output\n",
    ">>> {0, 2, 4, 6}\n",
    ">>> {'Hello', 1, 2, 3, 4, 7, 25}\n",
    "```\n",
    "\n",
    "Note that by definition a set is an <b>'unordered'</b> collection of objects. In the above output, the set form of list_A is printed in a sorted order. However, that is merely the output of the set() function and that is not how the elements in the set itself are organized. The set does not support indexing as the elements/objects are not stored in any specific order.\n",
    "\n",
    "<b>Using sets to reduce the search space:</b>\n",
    "One way we can use sets is if we would like to check the existence of a certain object in a very large collection of frequently repeating objects. We may create a set, which has only unique elements and thereby reduces the list size drastically. Then the decreased range is easier to iterate through and find the existence of the current object using the 'in' membership operator.\n",
    "\n",
    "Ref: https://docs.python.org/3/c-api/set.html\n",
    "\n",
    "### Exercise\n",
    "\n",
    "Convert the list given below into a set:\n",
    "* a = [0.00000001,0.0000001,0.0000001,0.00000001,0.00000001,0.00000001,0.0000001,0.0000001,0.0000001,0.000001,0.00000001,0.0000001,0.00000001,0.00000000001,0.000000001,0.00000001,0.0000000001,0.000000001,0.00000000001,0.0000000000001,0.000000001,0.0000000000001,0.0000000001,0.0000000001,0.00000001,0.00000001,0.00000001,0.000000001,0.000000001,0.000000001,0.00000000000001,0.0000000000001]\n",
    "\n",
    "* Print the lengths of both the list and the set in order to understand the maximum number of comparisons needed to search for an object within the list vs within the set"
   ]
  },
  {
   "cell_type": "code",
   "execution_count": 10,
   "metadata": {
    "ExecuteTime": {
     "end_time": "2018-08-23T21:29:44.093882Z",
     "start_time": "2018-08-23T21:29:44.087475Z"
    }
   },
   "outputs": [
    {
     "name": "stdout",
     "output_type": "stream",
     "text": [
      "The list is [1e-08, 1e-07, 1e-07, 1e-08, 1e-08, 1e-08, 1e-07, 1e-07, 1e-07, 1e-06, 1e-08, 1e-07, 1e-08, 1e-11, 1e-09, 1e-08, 1e-10, 1e-09, 1e-11, 1e-13, 1e-09, 1e-13, 1e-10, 1e-10, 1e-08, 1e-08, 1e-08, 1e-09, 1e-09, 1e-09, 1e-14, 1e-13]\n",
      "The length of list is: 32\n",
      "The set is {1e-09, 1e-08, 1e-10, 1e-14, 1e-13, 1e-07, 1e-06, 1e-11}\n",
      "The length of set is: 8\n"
     ]
    }
   ],
   "source": [
    "# data\n",
    "a = [0.00000001,0.0000001,0.0000001,0.00000001,0.00000001,0.00000001,0.0000001,0.0000001,0.0000001,0.000001,0.00000001,0.0000001,0.00000001,0.00000000001,0.000000001,0.00000001,0.0000000001,0.000000001,0.00000000001,0.0000000000001,0.000000001,0.0000000000001,0.0000000001,0.0000000001,0.00000001,0.00000001,0.00000001,0.000000001,0.000000001,0.000000001,0.00000000000001,0.0000000000001]"
   ]
  },
  {
   "cell_type": "markdown",
   "metadata": {
    "hide_input": true
   },
   "source": [
    "### Solution code\n",
    "\n",
    "```python\n",
    "# data\n",
    "a = [0.00000001,0.0000001,0.0000001,0.00000001,0.00000001,0.00000001,0.0000001,0.0000001,0.0000001,0.000001,0.00000001,0.0000001,0.00000001,0.00000000001,0.000000001,0.00000001,0.0000000001,0.000000001,0.00000000001,0.0000000000001,0.000000001,0.0000000000001,0.0000000001,0.0000000001,0.00000001,0.00000001,0.00000001,0.000000001,0.000000001,0.000000001,0.00000000000001,0.0000000000001]\n",
    "\n",
    "# Printing the list vs set\n",
    "print('''The list is {}\n",
    "The length of list is: {:d}\n",
    "The set is {}\n",
    "The length of set is: {:d}'''.format(a,len(a),set(a),len(set(a))))\n",
    "```"
   ]
  },
  {
   "cell_type": "markdown",
   "metadata": {},
   "source": [
    "### Dictionary\n",
    "\n",
    "Dictionaries are hash maps containing key-value pairs. \n",
    "* Keys are unique identifiers which are similar to an index used to identify a specific value or set of values\n",
    "* Values are said to be the observed attributes associated with a specific key\n",
    "* Keys are unique whereas values need not be unique, i.e., two keys can have same value, but two keys can't be the same\n",
    "* Values are accessed via the keys\n",
    "\n",
    "Keys can be numbers or strings\n",
    "\n",
    "Example: A dictionary of city to state:\n",
    "```python\n",
    "location_dict = {'Boston': 'MA', 'Chicago': 'IL', 'New York': 'NY'}\n",
    "```\n",
    "\n",
    "Ref: https://docs.python.org/3/c-api/dict.html\n",
    "\n",
    "### Exercise\n",
    "\n",
    "Build a location map that contains latitude and longitude of the following cities.\n",
    "\n",
    "Boston: 42.318365, -71.086692<br>Chicago: 41.797568, -87.620958<br>New York: 40.685526, -73.887406<br><br>\n",
    "Assign it to the variable location_map \n",
    "\n",
    "Print out the variable location_map"
   ]
  },
  {
   "cell_type": "code",
   "execution_count": 13,
   "metadata": {
    "ExecuteTime": {
     "end_time": "2018-08-23T12:29:53.018407Z",
     "start_time": "2018-08-23T12:29:53.011458Z"
    }
   },
   "outputs": [
    {
     "name": "stdout",
     "output_type": "stream",
     "text": [
      "{0, 2, 4, 6} \n",
      " {'Hello', 1, 2, 3, 4, 7, 25}\n"
     ]
    }
   ],
   "source": [
    "# Example 1\n",
    "even_number_set = set([0, 2, 4, 6])\n",
    "\n",
    "# Example 2\n",
    "list_A = [25,1,2,3,\"Hello\",2,4,3,2,4,7,\"Hello\"]\n",
    "\n",
    "print(even_number_set, \"\\n\", set(list_A))"
   ]
  },
  {
   "cell_type": "code",
   "execution_count": 16,
   "metadata": {
    "ExecuteTime": {
     "end_time": "2018-08-23T12:31:32.812379Z",
     "start_time": "2018-08-23T12:31:32.803417Z"
    }
   },
   "outputs": [
    {
     "ename": "TypeError",
     "evalue": "'set' object does not support indexing",
     "output_type": "error",
     "traceback": [
      "\u001b[1;31m---------------------------------------------------------------------------\u001b[0m",
      "\u001b[1;31mTypeError\u001b[0m                                 Traceback (most recent call last)",
      "\u001b[1;32m<ipython-input-16-171a139d7736>\u001b[0m in \u001b[0;36m<module>\u001b[1;34m()\u001b[0m\n\u001b[0;32m      1\u001b[0m \u001b[0mset_A\u001b[0m \u001b[1;33m=\u001b[0m \u001b[0mset\u001b[0m\u001b[1;33m(\u001b[0m\u001b[0mlist_A\u001b[0m\u001b[1;33m)\u001b[0m\u001b[1;33m\u001b[0m\u001b[0m\n\u001b[0;32m      2\u001b[0m \u001b[1;33m\u001b[0m\u001b[0m\n\u001b[1;32m----> 3\u001b[1;33m \u001b[0mset_A\u001b[0m\u001b[1;33m[\u001b[0m\u001b[1;36m3\u001b[0m\u001b[1;33m]\u001b[0m\u001b[1;33m\u001b[0m\u001b[0m\n\u001b[0m",
      "\u001b[1;31mTypeError\u001b[0m: 'set' object does not support indexing"
     ]
    }
   ],
   "source": []
  },
  {
   "cell_type": "code",
   "execution_count": 28,
   "metadata": {
    "collapsed": true
   },
   "outputs": [],
   "source": [
    "location_map = {}\n",
    "#Hint: Use dictionary and tuples."
   ]
  },
  {
   "cell_type": "markdown",
   "metadata": {
    "hide_input": true
   },
   "source": [
    "\n",
    "## Solution\n",
    "\n",
    "```python\n",
    "\n",
    "location_map = {'Boston': (42.318365, -71.086692),\n",
    "                'Chicago': (41.797568, -87.620958), \n",
    "                'New York': (40.685526, -73.887406)}\n",
    "print(location_map)\n",
    "\n",
    "```"
   ]
  },
  {
   "cell_type": "markdown",
   "metadata": {},
   "source": [
    "### Nested Lists\n",
    "\n",
    "In real-world data processing you may often need to write programs to store tabular data, such as a set of rows and columns. You may also have the need to create a list where each element of the list is in turn a list. This structure is called a list of lists or simply a nested list. A nested list could have multiple levels.  \n",
    "A simple list of lists, where all elements are homogenous (same data type) in nature is similar to a two-dimensional array. In Python any table can be represented as a list of lists or nested list. \n",
    "\n",
    "An example code on creation of a list of lists, is given below:\n",
    "```\n",
    "list_of_lists = [[1, 2, 3], [4, 5, 6]]\n",
    "print(list_of_lists[0])\n",
    "print(list_of_lists[1])\n",
    "```\n",
    "\n",
    "Ref: https://docs.python.org/3.6/tutorial/datastructures.html#nested-list-comprehensions\n",
    "\n",
    "#### Exercise\n",
    "\n",
    "Given a list of lists matrix = [[1, 5, 9], [2, 6, 10], [3, 7, 11], [4, 8, 12]], write a python program to transpose the input matrix and set the result in a variable transposed."
   ]
  },
  {
   "cell_type": "code",
   "execution_count": 31,
   "metadata": {},
   "outputs": [
    {
     "name": "stdout",
     "output_type": "stream",
     "text": [
      "[[1, 2, 3, 4], [5, 6, 7, 8], [9, 10, 11, 12]]\n"
     ]
    }
   ],
   "source": [
    "matrix = [[1, 5, 9], [2, 6, 10], [3, 7, 11], [4, 8, 12]]\n",
    "\n",
    "\n"
   ]
  },
  {
   "cell_type": "markdown",
   "metadata": {
    "hide_input": true
   },
   "source": [
    "\n",
    "## Solution\n",
    "\n",
    "```python\n",
    "\n",
    "transposed = []\n",
    "for i in range(3):\n",
    "    transposed_row = []\n",
    "    for row in matrix:\n",
    "        transposed_row.append(row[i])\n",
    "    transposed.append(transposed_row)\n",
    "\n",
    "print(transposed)\n",
    "\n",
    "```"
   ]
  },
  {
   "cell_type": "markdown",
   "metadata": {},
   "source": [
    "## Nested Dictionaries\n",
    "\n",
    "In Python, a nested dictionary is a dictionary inside a dictionary. It's a collection of dictionaries into one single dictionary.\n",
    "\n",
    "In the below tomato 'lotsnone\n",
    ",''\n",
    "```python\n",
    "fruits_and_veggies = { 'fruits': {'apple': 1,'oranges': 3, 'grapes': 'lots'},\n",
    "                'vegetables': {'tomato': 10,'potatoes': 'none', 'banana' : 'Not a veggie'}}\n",
    "\n",
    "```\n",
    "\n",
    "### Exercise\n",
    "\n",
    "In the fruits_and_veggies dictionary, add another dictionary called 'juices' with the following item '{'pineappleJuice' : 10}'"
   ]
  },
  {
   "cell_type": "code",
   "execution_count": 1,
   "metadata": {
    "collapsed": true
   },
   "outputs": [],
   "source": [
    "fruits_and_veggies = { 'fruits': {'apple': 1,'oranges': 3, 'grapes': 'lots'},\n",
    "                'vegetables': {'tomato': 10,'potatoes': 'none', 'banana' : 'Not a veggie'}}\n"
   ]
  },
  {
   "cell_type": "markdown",
   "metadata": {
    "hide_input": true
   },
   "source": [
    "## Solution\n",
    "\n",
    "```python\n",
    "\n",
    "fruits_and_veggies['juices'] = {'pineappleJuice' : 10}\n",
    "fruits_and_veggies\n",
    "\n",
    "```"
   ]
  }
 ],
 "metadata": {
  "anaconda-cloud": {},
  "celltoolbar": "Edit Metadata",
  "executed_sections": [],
  "kernelspec": {
   "display_name": "Python 3",
   "language": "python",
   "name": "python3"
  },
  "language_info": {
   "codemirror_mode": {
    "name": "ipython",
    "version": 3
   },
   "file_extension": ".py",
   "mimetype": "text/x-python",
   "name": "python",
   "nbconvert_exporter": "python",
   "pygments_lexer": "ipython3",
   "version": "3.6.1"
  }
 },
 "nbformat": 4,
 "nbformat_minor": 2
}
