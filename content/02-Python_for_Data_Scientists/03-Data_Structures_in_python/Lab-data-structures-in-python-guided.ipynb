{
 "cells": [
  {
   "cell_type": "markdown",
   "metadata": {},
   "source": [
    "# Lab: Data Structures in Python\n",
    "Welcome to your first major lab on refactored! In this lab we will work through excercise to test and solify your understanding of data structures in python. There are multiple excercise with multiple data types. \n",
    "\n"
   ]
  },
  {
   "cell_type": "code",
   "execution_count": 1,
   "metadata": {},
   "outputs": [],
   "source": [
    "from sklearn.datasets import load_iris\n",
    "\n",
    "iris_dataset = load_iris()\n",
    "target = list(iris_dataset.target) \n",
    "dataset = list(iris_dataset.data)\n",
    "target_names = list(iris_dataset.target_names)\n"
   ]
  },
  {
   "cell_type": "markdown",
   "metadata": {},
   "source": [
    "We will be using the Iris Dataset for this assigment.  To read more about the Iris Dataset go here (https://archive.ics.uci.edu/ml/datasets/iris). The Iris dataset is a very popular machine learning dataset. It is typically used to benchmark Machine Learning algorithms, almost like a scale to measure what is the effectiveness of an algorithm. For today's lab, we will be exploring the data types within the dataset and storing the data in different ways. \n",
    "\n",
    "A data set typically contains features. Which are used to predict a target. The target is what we are trying to predict. Above, we have loaded the target data into a variable called ```target```. The features data into the variable ``` dataset```. In the Iris dataset, the goal is to predict three differnt types of flowers, the names of the flowers are given in the variable ```target_names```\n",
    "\n"
   ]
  },
  {
   "cell_type": "code",
   "execution_count": 2,
   "metadata": {},
   "outputs": [
    {
     "name": "stdout",
     "output_type": "stream",
     "text": [
      "Type of each variable is \n",
      "<class 'list'> \n",
      "<class 'list'> \n",
      "<class 'list'>\n"
     ]
    }
   ],
   "source": [
    "# First we want to test the data types of the \n",
    "# three variables we have mentioned above \n",
    "\n",
    "type_target = type(\"####\")\n",
    "type_dataset = \"####\"\n",
    "type_target_names = \"####\"\n",
    "\n",
    "print(\"Type of each variable is \\n{} \\n{} \\n{}\".format(type_target, type_dataset, type_target_names))\n"
   ]
  },
  {
   "cell_type": "markdown",
   "metadata": {},
   "source": [
    "Type of each variable is <br>\n",
    "<class 'list'> <br> \n",
    "<class 'list'> <br>\n",
    "<class 'list'> <br>\n",
    "\n"
   ]
  },
  {
   "cell_type": "code",
   "execution_count": 3,
   "metadata": {},
   "outputs": [
    {
     "name": "stdout",
     "output_type": "stream",
     "text": [
      "Type of each variable is \n",
      "<class 'numpy.int32'> \n",
      "<class 'numpy.ndarray'> \n",
      "<class 'numpy.str_'>\n"
     ]
    }
   ],
   "source": [
    "# Next lets check what is the type of a single element of each list\n",
    "\n",
    "type_target = type(target[\"####\"])\n",
    "type_dataset = \"####\"\n",
    "type_target_names = \"####\"\n",
    "\n",
    "print(\"Type of each variable is \\n{} \\n{} \\n{}\".format(type_target, type_dataset, type_target_names))\n"
   ]
  },
  {
   "cell_type": "markdown",
   "metadata": {},
   "source": [
    "Type of each variable is <br>\n",
    "<class 'numpy.int64'> <br>\n",
    "<class 'numpy.ndarray'> <br>\n",
    "<class 'numpy.str_'> <br>"
   ]
  },
  {
   "cell_type": "markdown",
   "metadata": {},
   "source": [
    "If we print the values of target, we will find that it consists of 0s, 1s and 2s. The integers 0s, 1s and 2s are integer labels that represent each type of flower in the iris dataset. The corresponding name of the the flower is given by the ```target_names``` variable. Hence we can write a dictionary to hold this relationship"
   ]
  },
  {
   "cell_type": "code",
   "execution_count": 4,
   "metadata": {},
   "outputs": [
    {
     "name": "stdout",
     "output_type": "stream",
     "text": [
      "List of keys for int_to_name: [0, 1, 2]\n",
      "List of keys for name_to_int: ['setosa', 'versicolor', 'virginica']\n",
      "Name of second flower: versicolor\n"
     ]
    }
   ],
   "source": [
    "# Write a dictionary that maps the values 0, 1 and 2 to the names in the variable target_names. \n",
    "# The order is 0 corresponds to target_names[0], 1 corresponds to target_names[1] and 2 corresponds to target_names[2]\n",
    "int_to_name  = \"####\"\n",
    "\n",
    "# Now build the oppose, where the keys of the dict are the target names and the integer labels are values\n",
    "name_to_int = \"####\"\n",
    "\n",
    "# int to name keys\n",
    "int_name_keys = list(\"####\")\n",
    "\n",
    "# name to int keys\n",
    "name_int_keys = list(\"####\")\n",
    "\n",
    "# Test: Flower name in the second index\n",
    "second_flower = \"####\"\n",
    "\n",
    "print(\"List of keys for int_to_name: {}\".format(int_name_keys))\n",
    "print(\"List of keys for name_to_int: {}\".format(name_int_keys))\n",
    "print(\"Name of second flower: {}\".format(second_flower))\n"
   ]
  },
  {
   "cell_type": "markdown",
   "metadata": {},
   "source": [
    "List of keys for int_to_name: [0, 1, 2] <br>\n",
    "List of keys for name_to_int: ['setosa', 'versicolor', 'virginica']<br>\n",
    "Name of second flower: versicolor<br>"
   ]
  },
  {
   "cell_type": "code",
   "execution_count": 5,
   "metadata": {},
   "outputs": [
    {
     "name": "stdout",
     "output_type": "stream",
     "text": [
      "The 11 th row the dataset has the values: [5.4 3.7 1.5 0.2]\n"
     ]
    }
   ],
   "source": [
    "# Next lets take a look at a row of the dataset. Select the 11 th row of the dataset\n",
    "single_row = \"####\"\n",
    "\n",
    "# We have selected the 11th row of the dataset. Print the values \n",
    "print(\"The 11 th row the dataset has the values: {}\".format(single_row))"
   ]
  },
  {
   "cell_type": "markdown",
   "metadata": {},
   "source": [
    "The 11 th row the dataset has the values: [5.4 3.7 1.5 0.2]\n"
   ]
  },
  {
   "cell_type": "markdown",
   "metadata": {},
   "source": [
    "Each element of the list ```dataset``` is a numpy array. We will convert those to a list for you."
   ]
  },
  {
   "cell_type": "code",
   "execution_count": 6,
   "metadata": {},
   "outputs": [
    {
     "name": "stdout",
     "output_type": "stream",
     "text": [
      "The first element of the 10th row has the value: 4.9\n"
     ]
    }
   ],
   "source": [
    "# Converting a list of numpy arrays to a list lists\n",
    "dataset_list = [list(x) for x in dataset] \n",
    "\n",
    "# Get the first value of the 10th list and print it.\n",
    "# Remember that dataset_list is a of list\n",
    "element_val = \"####\"\n",
    "print(\"The first element of the 10th row has the value: {}\".format(element_val))"
   ]
  },
  {
   "cell_type": "markdown",
   "metadata": {},
   "source": [
    "The first element of the 10th row has the value: 4.9"
   ]
  },
  {
   "cell_type": "markdown",
   "metadata": {},
   "source": [
    "Next we want to convert all the integer labels in target to flower names. Lets start by doing this for a single element. "
   ]
  },
  {
   "cell_type": "code",
   "execution_count": 7,
   "metadata": {},
   "outputs": [
    {
     "name": "stdout",
     "output_type": "stream",
     "text": [
      "Elements 8 through 10 are [0, 'setosa', 0]\n"
     ]
    }
   ],
   "source": [
    "target_new = target.copy()\n",
    "# Convert the 10th element in the list to a string and print elements from 8 to 10 of the list target\n",
    "target_new[9] = \"####\"\n",
    "\n",
    "# Print elements 8 through 10 from the list target. \n",
    "# Note for the 10th element you need to add +1 the last index. \n",
    "print(\"Elements 8 through 10 are {}\".format(target_new[8:11]))"
   ]
  },
  {
   "cell_type": "markdown",
   "metadata": {},
   "source": [
    "Elements 8 through 11 are [0, 'setosa', 0]"
   ]
  },
  {
   "cell_type": "code",
   "execution_count": 8,
   "metadata": {},
   "outputs": [
    {
     "name": "stdout",
     "output_type": "stream",
     "text": [
      "The combined list is: [4.9, 3.1, 1.5, 0.1, 'setosa']\n"
     ]
    }
   ],
   "source": [
    "# Now we want to combine 9th element of list target with the 9th element of the dataset. \n",
    "# Basically we are going to be adding two list\n",
    "\n",
    "# Store the value of the 9th row of target_new as a list\n",
    "single_target_element = \"####\"\n",
    "\n",
    "# Store the 9 th row of list dataset_list\n",
    "single_row_dataset = \"####\"\n",
    "\n",
    "# Combine both the lists above to get combined list. \n",
    "combined_list  = \"####\"\n",
    "\n",
    "print(\"The combined list is: {}\".format(combined_list))"
   ]
  },
  {
   "cell_type": "markdown",
   "metadata": {},
   "source": [
    "The combined list is: [4.9, 3.1, 1.5, 0.1, 'setosa']"
   ]
  },
  {
   "cell_type": "markdown",
   "metadata": {},
   "source": [
    "Suppose we want to remove one the elements list ```combined_list```. How will we do it? "
   ]
  },
  {
   "cell_type": "code",
   "execution_count": 1,
   "metadata": {},
   "outputs": [
    {
     "ename": "NameError",
     "evalue": "name 'combined_list' is not defined",
     "output_type": "error",
     "traceback": [
      "\u001b[1;31m---------------------------------------------------------------------------\u001b[0m",
      "\u001b[1;31mNameError\u001b[0m                                 Traceback (most recent call last)",
      "\u001b[1;32m<ipython-input-1-8e0c058ead5f>\u001b[0m in \u001b[0;36m<module>\u001b[1;34m\u001b[0m\n\u001b[0;32m      2\u001b[0m \u001b[1;33m\u001b[0m\u001b[0m\n\u001b[0;32m      3\u001b[0m \u001b[1;31m# Create a new copy of combined_list\u001b[0m\u001b[1;33m\u001b[0m\u001b[1;33m\u001b[0m\u001b[1;33m\u001b[0m\u001b[0m\n\u001b[1;32m----> 4\u001b[1;33m \u001b[0mcombined_list_new\u001b[0m \u001b[1;33m=\u001b[0m \u001b[0mcombined_list\u001b[0m\u001b[1;33m.\u001b[0m\u001b[0mcopy\u001b[0m\u001b[1;33m(\u001b[0m\u001b[1;33m)\u001b[0m\u001b[1;33m\u001b[0m\u001b[1;33m\u001b[0m\u001b[0m\n\u001b[0m\u001b[0;32m      5\u001b[0m \u001b[1;33m\u001b[0m\u001b[0m\n\u001b[0;32m      6\u001b[0m \u001b[1;31m# You can use pop to remove a element from the list by index. By default pop just removes the element of a list.\u001b[0m\u001b[1;33m\u001b[0m\u001b[1;33m\u001b[0m\u001b[1;33m\u001b[0m\u001b[0m\n",
      "\u001b[1;31mNameError\u001b[0m: name 'combined_list' is not defined"
     ]
    }
   ],
   "source": [
    "# Remove the 2nd element from the list combined_list. Make sure that you create a copy of it before removing it\n",
    "\n",
    "# Create a new copy of combined_list \n",
    "combined_list_new = combined_list.copy()\n",
    "\n",
    "# You can use pop to remove a element from the list by index. By default pop just removes the element of a list.\n",
    "\"####\"\n",
    "\n",
    "print(\"The new combined list is: {}\".format(combined_list_new))"
   ]
  },
  {
   "cell_type": "markdown",
   "metadata": {},
   "source": [
    "The new combined list is: [4.9, 1.5, 0.1, 'setosa']\n"
   ]
  },
  {
   "cell_type": "code",
   "execution_count": 10,
   "metadata": {},
   "outputs": [
    {
     "name": "stdout",
     "output_type": "stream",
     "text": [
      "The reversed list is : ['setosa', 0.1, 1.5, 4.9]\n"
     ]
    }
   ],
   "source": [
    "# Suppose I want reverse the new combined_list. How would be do it?\n",
    "# Hint- It is possible to do it in 1 line, we just have select everything using : \n",
    "# and use :-1 for reverse\n",
    "reversed_combined_list = \"####\"\n",
    "print(\"The reversed list is : {}\".format(reversed_combined_list))"
   ]
  },
  {
   "cell_type": "markdown",
   "metadata": {},
   "source": [
    "The reversed list is : ['setosa', 0.1, 1.5, 4.9]"
   ]
  },
  {
   "cell_type": "code",
   "execution_count": 16,
   "metadata": {},
   "outputs": [
    {
     "name": "stdout",
     "output_type": "stream",
     "text": [
      "Length of target set is : 3\n"
     ]
    }
   ],
   "source": [
    "# Suppose we convert the variable target to set \n",
    "target_set = \"####\"\n",
    "\n",
    "# Get the length of target set \n",
    "len_target_set = \"####\"\n",
    "print(\"Length of target set is : {}\".format(len_target_set))"
   ]
  },
  {
   "cell_type": "markdown",
   "metadata": {},
   "source": [
    "As you can see, by converting a list to a set we have elimanated duplicate values. A set will not store duplicated values. \n",
    "\n"
   ]
  }
 ],
 "metadata": {
  "kernelspec": {
   "display_name": "Python 3",
   "language": "python",
   "name": "python3"
  },
  "language_info": {
   "codemirror_mode": {
    "name": "ipython",
    "version": 3
   },
   "file_extension": ".py",
   "mimetype": "text/x-python",
   "name": "python",
   "nbconvert_exporter": "python",
   "pygments_lexer": "ipython3",
   "version": "3.7.6"
  }
 },
 "nbformat": 4,
 "nbformat_minor": 4
}
