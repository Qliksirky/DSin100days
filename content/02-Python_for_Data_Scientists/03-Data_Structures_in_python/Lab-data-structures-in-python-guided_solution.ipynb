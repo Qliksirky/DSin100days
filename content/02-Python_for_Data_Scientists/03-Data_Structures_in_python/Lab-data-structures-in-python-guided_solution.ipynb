{
 "cells": [
  {
   "cell_type": "markdown",
   "metadata": {},
   "source": [
    "# Lab: Data Structures in Python\n",
    "Welcome to your first major lab on refactored! In this lab we will work through excercise to test and solify your understanding of data structures in python. There are multiple excercise with multiple data types. \n",
    "\n"
   ]
  },
  {
   "cell_type": "code",
   "execution_count": 1,
   "metadata": {},
   "outputs": [],
   "source": [
    "from sklearn.datasets import load_iris\n",
    "\n",
    "iris_dataset = load_iris()\n",
    "target = list(iris_dataset.target) \n",
    "dataset = list(iris_dataset.data)\n",
    "target_names = list(iris_dataset.target_names)\n"
   ]
  },
  {
   "cell_type": "markdown",
   "metadata": {},
   "source": [
    "We will be using the Iris Dataset for this assigment.  To read more about the Iris Dataset go here (https://archive.ics.uci.edu/ml/datasets/iris). The Iris dataset is a very popular machine learning dataset. It is typically used to benchmark Machine Learning algorithms, almost like a scale to measure what is the effectiveness of an algorithm. For today's lab, we will be exploring the data types within the dataset and storing the data in different ways. \n",
    "\n",
    "A data set typically contains features. Which are used to predict a target. The target is what we are trying to predict. Above, we have loaded the target data into a variable called ```target```. The features data into the variable ``` dataset```. In the Iris dataset, the goal is to predict three differnt types of flowers, the names of the flowers are given in the variable ```target_names```\n",
    "\n"
   ]
  },
  {
   "cell_type": "code",
   "execution_count": 2,
   "metadata": {},
   "outputs": [
    {
     "name": "stdout",
     "output_type": "stream",
     "text": [
      "Type of each variable is \n",
      "<class 'list'> \n",
      "<class 'list'> \n",
      "<class 'list'>\n"
     ]
    }
   ],
   "source": [
    "# First we want to test the data types of the \n",
    "# three variables we have mentioned above \n",
    "\n",
    "type_target = type(target)\n",
    "type_dataset = type(dataset)\n",
    "type_target_names = type(target_names) \n",
    "\n",
    "print(\"Type of each variable is \\n{} \\n{} \\n{}\".format(type_target, type_dataset, type_target_names))\n"
   ]
  },
  {
   "cell_type": "markdown",
   "metadata": {},
   "source": [
    "Type of each variable is <br>\n",
    "<class 'list'> <br> \n",
    "<class 'list'> <br>\n",
    "<class 'list'> <br>\n",
    "\n"
   ]
  },
  {
   "cell_type": "code",
   "execution_count": 3,
   "metadata": {},
   "outputs": [
    {
     "name": "stdout",
     "output_type": "stream",
     "text": [
      "Type of each variable is \n",
      "<class 'numpy.int64'> \n",
      "<class 'numpy.ndarray'> \n",
      "<class 'numpy.str_'>\n"
     ]
    }
   ],
   "source": [
    "# Next lets check what is the type of a single element of each list\n",
    "\n",
    "type_target = type(target[0])\n",
    "type_dataset = type(dataset[0])\n",
    "type_target_names = type(target_names[0]) \n",
    "\n",
    "print(\"Type of each variable is \\n{} \\n{} \\n{}\".format(type_target, type_dataset, type_target_names))\n"
   ]
  },
  {
   "cell_type": "markdown",
   "metadata": {},
   "source": [
    "Type of each variable is <br>\n",
    "<class 'numpy.int64'> <br>\n",
    "<class 'numpy.ndarray'> <br>\n",
    "<class 'numpy.str_'> <br>"
   ]
  },
  {
   "cell_type": "markdown",
   "metadata": {},
   "source": [
    "If we print the values of target, we will find that it consists of 0s, 1s and 2s. The integers 0s, 1s and 2s are integer labels that represent each type of flower in the iris dataset. The corresponding name of the the flower is given by the ```target_names``` variable. Hence we can write a dictionary to hold this relationship"
   ]
  },
  {
   "cell_type": "code",
   "execution_count": 4,
   "metadata": {},
   "outputs": [
    {
     "name": "stdout",
     "output_type": "stream",
     "text": [
      "List of keys for int_to_name: [0, 1, 2]\n",
      "List of keys for name_to_int: ['setosa', 'versicolor', 'virginica']\n",
      "Name of second flower: versicolor\n"
     ]
    }
   ],
   "source": [
    "# Write a dictionary that maps the values 0, 1 and 2 to the names in the variable target_names. \n",
    "# The order is 0 corresponds to target_names[0], 1 corresponds to target_names[1] and 2 corresponds to target_names[2]\n",
    "\n",
    "int_to_name  = {0:target_names[0], 1:target_names[1], 2:target_names[2]}\n",
    "\n",
    "# Now build the oppose, where the keys of the dict are the target names and the integer labels are values\n",
    "name_to_int = {target_names[0]:0, target_names[1]:1, target_names[2]:2}\n",
    "\n",
    "# int to name keys\n",
    "int_name_keys = list(int_to_name.keys())\n",
    "\n",
    "# name to int keys\n",
    "name_int_keys = list(name_to_int.keys())\n",
    "\n",
    "# Test: Flower name in the second index\n",
    "second_flower = int_to_name[1]\n",
    "\n",
    "print(\"List of keys for int_to_name: {}\".format(int_name_keys))\n",
    "print(\"List of keys for name_to_int: {}\".format(name_int_keys))\n",
    "print(\"Name of second flower: {}\".format(second_flower))\n"
   ]
  },
  {
   "cell_type": "markdown",
   "metadata": {},
   "source": [
    "List of keys for int_to_name: [0, 1, 2] <br>\n",
    "List of keys for name_to_int: ['setosa', 'versicolor', 'virginica']<br>\n",
    "Name of second flower: versicolor<br>"
   ]
  },
  {
   "cell_type": "code",
   "execution_count": 5,
   "metadata": {},
   "outputs": [
    {
     "name": "stdout",
     "output_type": "stream",
     "text": [
      "The 11 th row the dataset has the values: [5.4 3.7 1.5 0.2]\n"
     ]
    }
   ],
   "source": [
    "# Next lets take a look at a row of the dataset. Select the 11 th row of the dataset\n",
    "single_row = dataset[10]\n",
    "\n",
    "# We have selected the 11th row of the dataset. Print the values \n",
    "print(\"The 11 th row the dataset has the values: {}\".format(single_row))"
   ]
  },
  {
   "cell_type": "markdown",
   "metadata": {},
   "source": [
    "The 11 th row the dataset has the values: [5.4 3.7 1.5 0.2]\n"
   ]
  },
  {
   "cell_type": "markdown",
   "metadata": {},
   "source": [
    "Each element of the list ```dataset``` is a numpy array. We will convert those to a list for you."
   ]
  },
  {
   "cell_type": "code",
   "execution_count": 36,
   "metadata": {},
   "outputs": [
    {
     "name": "stdout",
     "output_type": "stream",
     "text": [
      "The first element of the 10th row has the value: 4.9\n"
     ]
    }
   ],
   "source": [
    "# Converting a list of numpy arrays to a list lists\n",
    "dataset_list = [list(x) for x in dataset] \n",
    "\n",
    "# Get the first value of the 10th list and print it.\n",
    "# Remember that dataset_list is a of list\n",
    "element_val = dataset_list[9][0]\n",
    "print(\"The first element of the 10th row has the value: {}\".format(element_val))"
   ]
  },
  {
   "cell_type": "markdown",
   "metadata": {},
   "source": [
    "The first element of the 10th row has the value: 4.9"
   ]
  },
  {
   "cell_type": "markdown",
   "metadata": {},
   "source": [
    "Next we want to convert all the integer labels in target to flower names. Lets start by doing this for a single element. "
   ]
  },
  {
   "cell_type": "code",
   "execution_count": 7,
   "metadata": {},
   "outputs": [
    {
     "name": "stdout",
     "output_type": "stream",
     "text": [
      "Elements 8 through 10 are [0, 'setosa', 0]\n"
     ]
    }
   ],
   "source": [
    "target_new = target.copy()\n",
    "# Convert the 10th element in the list to a string and print elements from 8 to 10 of the list target\n",
    "target_new[9] = int_to_name[target[9]]\n",
    "\n",
    "# Print elements 8 through 10 from the list target. \n",
    "# Note for the 10th element you need to add +1 the last index. \n",
    "print(\"Elements 8 through 10 are {}\".format(target_new[8:11]))"
   ]
  },
  {
   "cell_type": "markdown",
   "metadata": {},
   "source": [
    "Elements 8 through 11 are [0, 'setosa', 0]"
   ]
  },
  {
   "cell_type": "code",
   "execution_count": 12,
   "metadata": {},
   "outputs": [
    {
     "name": "stdout",
     "output_type": "stream",
     "text": [
      "The combined list is: [4.9, 3.1, 1.5, 0.1, 'setosa']\n"
     ]
    }
   ],
   "source": [
    "# Now we want to combine 9th element of list target with the 9th element of the dataset. \n",
    "# Basically we are going to be adding two list\n",
    "\n",
    "# Store the value of the 9th row of target_new as a list\n",
    "single_target_element = [target_new[9]]\n",
    "\n",
    "# Store the 9 th row of list dataset_list\n",
    "single_row_dataset = dataset_list[9]\n",
    "\n",
    "# Combine both the lists above to get combined list. \n",
    "combined_list  = single_row_dataset + single_target_element\n",
    "\n",
    "print(\"The combined list is: {}\".format(combined_list))"
   ]
  },
  {
   "cell_type": "markdown",
   "metadata": {},
   "source": [
    "The combined list is: [4.9, 3.1, 1.5, 0.1, 'setosa']"
   ]
  },
  {
   "cell_type": "markdown",
   "metadata": {},
   "source": [
    "Suppose we want to remove one the elements list ```combined_list```. How will we do it? "
   ]
  },
  {
   "cell_type": "code",
   "execution_count": 14,
   "metadata": {},
   "outputs": [
    {
     "name": "stdout",
     "output_type": "stream",
     "text": [
      "The new combined list is: [4.9, 1.5, 0.1, 'setosa']\n"
     ]
    }
   ],
   "source": [
    "# Remove the 2nd element from the list combined_list. Make sure that you create a copy of it before removing it\n",
    "\n",
    "# Create a new copy of combined_list \n",
    "combined_list_new = combined_list.copy()\n",
    "\n",
    "# You can use pop to remove a element from the list by index. By default pop just removes the element of a list.\n",
    "combined_list_new.pop(1)\n",
    "\n",
    "print(\"The new combined list is: {}\".format(combined_list_new))"
   ]
  },
  {
   "cell_type": "code",
   "execution_count": 33,
   "metadata": {},
   "outputs": [
    {
     "name": "stdout",
     "output_type": "stream",
     "text": [
      "The reversed list is : ['setosa', 0.1, 1.5, 4.9]\n"
     ]
    }
   ],
   "source": [
    "# Suppose I want reverse the new combined_list. How would be do it?\n",
    "# Hint- It is possible to do it in 1 line, we just have select everything using : \n",
    "# and use :-1 for reverse\n",
    "reversed_combined_list = combined_list_new[::-1]\n",
    "print(\"The reversed list is : {}\".format(reversed_combined_list))"
   ]
  },
  {
   "cell_type": "markdown",
   "metadata": {},
   "source": [
    "The reversed list is : ['setosa', 0.1, 1.5, 4.9]"
   ]
  },
  {
   "cell_type": "code",
   "execution_count": 35,
   "metadata": {},
   "outputs": [
    {
     "data": {
      "text/plain": [
       "[[5.1, 3.5, 1.4, 0.2],\n",
       " [4.9, 3.0, 1.4, 0.2],\n",
       " [4.7, 3.2, 1.3, 0.2],\n",
       " [4.6, 3.1, 1.5, 0.2],\n",
       " [5.0, 3.6, 1.4, 0.2],\n",
       " [5.4, 3.9, 1.7, 0.4],\n",
       " [4.6, 3.4, 1.4, 0.3],\n",
       " [5.0, 3.4, 1.5, 0.2],\n",
       " [4.4, 2.9, 1.4, 0.2],\n",
       " [4.9, 3.1, 1.5, 0.1],\n",
       " [5.4, 3.7, 1.5, 0.2],\n",
       " [4.8, 3.4, 1.6, 0.2],\n",
       " [4.8, 3.0, 1.4, 0.1],\n",
       " [4.3, 3.0, 1.1, 0.1],\n",
       " [5.8, 4.0, 1.2, 0.2],\n",
       " [5.7, 4.4, 1.5, 0.4],\n",
       " [5.4, 3.9, 1.3, 0.4],\n",
       " [5.1, 3.5, 1.4, 0.3],\n",
       " [5.7, 3.8, 1.7, 0.3],\n",
       " [5.1, 3.8, 1.5, 0.3],\n",
       " [5.4, 3.4, 1.7, 0.2],\n",
       " [5.1, 3.7, 1.5, 0.4],\n",
       " [4.6, 3.6, 1.0, 0.2],\n",
       " [5.1, 3.3, 1.7, 0.5],\n",
       " [4.8, 3.4, 1.9, 0.2],\n",
       " [5.0, 3.0, 1.6, 0.2],\n",
       " [5.0, 3.4, 1.6, 0.4],\n",
       " [5.2, 3.5, 1.5, 0.2],\n",
       " [5.2, 3.4, 1.4, 0.2],\n",
       " [4.7, 3.2, 1.6, 0.2],\n",
       " [4.8, 3.1, 1.6, 0.2],\n",
       " [5.4, 3.4, 1.5, 0.4],\n",
       " [5.2, 4.1, 1.5, 0.1],\n",
       " [5.5, 4.2, 1.4, 0.2],\n",
       " [4.9, 3.1, 1.5, 0.2],\n",
       " [5.0, 3.2, 1.2, 0.2],\n",
       " [5.5, 3.5, 1.3, 0.2],\n",
       " [4.9, 3.6, 1.4, 0.1],\n",
       " [4.4, 3.0, 1.3, 0.2],\n",
       " [5.1, 3.4, 1.5, 0.2],\n",
       " [5.0, 3.5, 1.3, 0.3],\n",
       " [4.5, 2.3, 1.3, 0.3],\n",
       " [4.4, 3.2, 1.3, 0.2],\n",
       " [5.0, 3.5, 1.6, 0.6],\n",
       " [5.1, 3.8, 1.9, 0.4],\n",
       " [4.8, 3.0, 1.4, 0.3],\n",
       " [5.1, 3.8, 1.6, 0.2],\n",
       " [4.6, 3.2, 1.4, 0.2],\n",
       " [5.3, 3.7, 1.5, 0.2],\n",
       " [5.0, 3.3, 1.4, 0.2],\n",
       " [7.0, 3.2, 4.7, 1.4],\n",
       " [6.4, 3.2, 4.5, 1.5],\n",
       " [6.9, 3.1, 4.9, 1.5],\n",
       " [5.5, 2.3, 4.0, 1.3],\n",
       " [6.5, 2.8, 4.6, 1.5],\n",
       " [5.7, 2.8, 4.5, 1.3],\n",
       " [6.3, 3.3, 4.7, 1.6],\n",
       " [4.9, 2.4, 3.3, 1.0],\n",
       " [6.6, 2.9, 4.6, 1.3],\n",
       " [5.2, 2.7, 3.9, 1.4],\n",
       " [5.0, 2.0, 3.5, 1.0],\n",
       " [5.9, 3.0, 4.2, 1.5],\n",
       " [6.0, 2.2, 4.0, 1.0],\n",
       " [6.1, 2.9, 4.7, 1.4],\n",
       " [5.6, 2.9, 3.6, 1.3],\n",
       " [6.7, 3.1, 4.4, 1.4],\n",
       " [5.6, 3.0, 4.5, 1.5],\n",
       " [5.8, 2.7, 4.1, 1.0],\n",
       " [6.2, 2.2, 4.5, 1.5],\n",
       " [5.6, 2.5, 3.9, 1.1],\n",
       " [5.9, 3.2, 4.8, 1.8],\n",
       " [6.1, 2.8, 4.0, 1.3],\n",
       " [6.3, 2.5, 4.9, 1.5],\n",
       " [6.1, 2.8, 4.7, 1.2],\n",
       " [6.4, 2.9, 4.3, 1.3],\n",
       " [6.6, 3.0, 4.4, 1.4],\n",
       " [6.8, 2.8, 4.8, 1.4],\n",
       " [6.7, 3.0, 5.0, 1.7],\n",
       " [6.0, 2.9, 4.5, 1.5],\n",
       " [5.7, 2.6, 3.5, 1.0],\n",
       " [5.5, 2.4, 3.8, 1.1],\n",
       " [5.5, 2.4, 3.7, 1.0],\n",
       " [5.8, 2.7, 3.9, 1.2],\n",
       " [6.0, 2.7, 5.1, 1.6],\n",
       " [5.4, 3.0, 4.5, 1.5],\n",
       " [6.0, 3.4, 4.5, 1.6],\n",
       " [6.7, 3.1, 4.7, 1.5],\n",
       " [6.3, 2.3, 4.4, 1.3],\n",
       " [5.6, 3.0, 4.1, 1.3],\n",
       " [5.5, 2.5, 4.0, 1.3],\n",
       " [5.5, 2.6, 4.4, 1.2],\n",
       " [6.1, 3.0, 4.6, 1.4],\n",
       " [5.8, 2.6, 4.0, 1.2],\n",
       " [5.0, 2.3, 3.3, 1.0],\n",
       " [5.6, 2.7, 4.2, 1.3],\n",
       " [5.7, 3.0, 4.2, 1.2],\n",
       " [5.7, 2.9, 4.2, 1.3],\n",
       " [6.2, 2.9, 4.3, 1.3],\n",
       " [5.1, 2.5, 3.0, 1.1],\n",
       " [5.7, 2.8, 4.1, 1.3],\n",
       " [6.3, 3.3, 6.0, 2.5],\n",
       " [5.8, 2.7, 5.1, 1.9],\n",
       " [7.1, 3.0, 5.9, 2.1],\n",
       " [6.3, 2.9, 5.6, 1.8],\n",
       " [6.5, 3.0, 5.8, 2.2],\n",
       " [7.6, 3.0, 6.6, 2.1],\n",
       " [4.9, 2.5, 4.5, 1.7],\n",
       " [7.3, 2.9, 6.3, 1.8],\n",
       " [6.7, 2.5, 5.8, 1.8],\n",
       " [7.2, 3.6, 6.1, 2.5],\n",
       " [6.5, 3.2, 5.1, 2.0],\n",
       " [6.4, 2.7, 5.3, 1.9],\n",
       " [6.8, 3.0, 5.5, 2.1],\n",
       " [5.7, 2.5, 5.0, 2.0],\n",
       " [5.8, 2.8, 5.1, 2.4],\n",
       " [6.4, 3.2, 5.3, 2.3],\n",
       " [6.5, 3.0, 5.5, 1.8],\n",
       " [7.7, 3.8, 6.7, 2.2],\n",
       " [7.7, 2.6, 6.9, 2.3],\n",
       " [6.0, 2.2, 5.0, 1.5],\n",
       " [6.9, 3.2, 5.7, 2.3],\n",
       " [5.6, 2.8, 4.9, 2.0],\n",
       " [7.7, 2.8, 6.7, 2.0],\n",
       " [6.3, 2.7, 4.9, 1.8],\n",
       " [6.7, 3.3, 5.7, 2.1],\n",
       " [7.2, 3.2, 6.0, 1.8],\n",
       " [6.2, 2.8, 4.8, 1.8],\n",
       " [6.1, 3.0, 4.9, 1.8],\n",
       " [6.4, 2.8, 5.6, 2.1],\n",
       " [7.2, 3.0, 5.8, 1.6],\n",
       " [7.4, 2.8, 6.1, 1.9],\n",
       " [7.9, 3.8, 6.4, 2.0],\n",
       " [6.4, 2.8, 5.6, 2.2],\n",
       " [6.3, 2.8, 5.1, 1.5],\n",
       " [6.1, 2.6, 5.6, 1.4],\n",
       " [7.7, 3.0, 6.1, 2.3],\n",
       " [6.3, 3.4, 5.6, 2.4],\n",
       " [6.4, 3.1, 5.5, 1.8],\n",
       " [6.0, 3.0, 4.8, 1.8],\n",
       " [6.9, 3.1, 5.4, 2.1],\n",
       " [6.7, 3.1, 5.6, 2.4],\n",
       " [6.9, 3.1, 5.1, 2.3],\n",
       " [5.8, 2.7, 5.1, 1.9],\n",
       " [6.8, 3.2, 5.9, 2.3],\n",
       " [6.7, 3.3, 5.7, 2.5],\n",
       " [6.7, 3.0, 5.2, 2.3],\n",
       " [6.3, 2.5, 5.0, 1.9],\n",
       " [6.5, 3.0, 5.2, 2.0],\n",
       " [6.2, 3.4, 5.4, 2.3],\n",
       " [5.9, 3.0, 5.1, 1.8],\n",
       " 0,\n",
       " 0,\n",
       " 0,\n",
       " 0,\n",
       " 0,\n",
       " 0,\n",
       " 0,\n",
       " 0,\n",
       " 0,\n",
       " 0,\n",
       " 0,\n",
       " 0,\n",
       " 0,\n",
       " 0,\n",
       " 0,\n",
       " 0,\n",
       " 0,\n",
       " 0,\n",
       " 0,\n",
       " 0,\n",
       " 0,\n",
       " 0,\n",
       " 0,\n",
       " 0,\n",
       " 0,\n",
       " 0,\n",
       " 0,\n",
       " 0,\n",
       " 0,\n",
       " 0,\n",
       " 0,\n",
       " 0,\n",
       " 0,\n",
       " 0,\n",
       " 0,\n",
       " 0,\n",
       " 0,\n",
       " 0,\n",
       " 0,\n",
       " 0,\n",
       " 0,\n",
       " 0,\n",
       " 0,\n",
       " 0,\n",
       " 0,\n",
       " 0,\n",
       " 0,\n",
       " 0,\n",
       " 0,\n",
       " 0,\n",
       " 1,\n",
       " 1,\n",
       " 1,\n",
       " 1,\n",
       " 1,\n",
       " 1,\n",
       " 1,\n",
       " 1,\n",
       " 1,\n",
       " 1,\n",
       " 1,\n",
       " 1,\n",
       " 1,\n",
       " 1,\n",
       " 1,\n",
       " 1,\n",
       " 1,\n",
       " 1,\n",
       " 1,\n",
       " 1,\n",
       " 1,\n",
       " 1,\n",
       " 1,\n",
       " 1,\n",
       " 1,\n",
       " 1,\n",
       " 1,\n",
       " 1,\n",
       " 1,\n",
       " 1,\n",
       " 1,\n",
       " 1,\n",
       " 1,\n",
       " 1,\n",
       " 1,\n",
       " 1,\n",
       " 1,\n",
       " 1,\n",
       " 1,\n",
       " 1,\n",
       " 1,\n",
       " 1,\n",
       " 1,\n",
       " 1,\n",
       " 1,\n",
       " 1,\n",
       " 1,\n",
       " 1,\n",
       " 1,\n",
       " 1,\n",
       " 2,\n",
       " 2,\n",
       " 2,\n",
       " 2,\n",
       " 2,\n",
       " 2,\n",
       " 2,\n",
       " 2,\n",
       " 2,\n",
       " 2,\n",
       " 2,\n",
       " 2,\n",
       " 2,\n",
       " 2,\n",
       " 2,\n",
       " 2,\n",
       " 2,\n",
       " 2,\n",
       " 2,\n",
       " 2,\n",
       " 2,\n",
       " 2,\n",
       " 2,\n",
       " 2,\n",
       " 2,\n",
       " 2,\n",
       " 2,\n",
       " 2,\n",
       " 2,\n",
       " 2,\n",
       " 2,\n",
       " 2,\n",
       " 2,\n",
       " 2,\n",
       " 2,\n",
       " 2,\n",
       " 2,\n",
       " 2,\n",
       " 2,\n",
       " 2,\n",
       " 2,\n",
       " 2,\n",
       " 2,\n",
       " 2,\n",
       " 2,\n",
       " 2,\n",
       " 2,\n",
       " 2,\n",
       " 2,\n",
       " 2]"
      ]
     },
     "execution_count": 35,
     "metadata": {},
     "output_type": "execute_result"
    }
   ],
   "source": [
    "\n"
   ]
  },
  {
   "cell_type": "code",
   "execution_count": null,
   "metadata": {},
   "outputs": [],
   "source": []
  },
  {
   "cell_type": "code",
   "execution_count": null,
   "metadata": {},
   "outputs": [],
   "source": []
  },
  {
   "cell_type": "code",
   "execution_count": null,
   "metadata": {},
   "outputs": [],
   "source": []
  },
  {
   "cell_type": "markdown",
   "metadata": {},
   "source": [
    "\n",
    "## Grocery List\n",
    "\n",
    "Given a grocery list with the items and quantity, for 3 friends Alice, Bob and Charlie. You are also provided a price list for all the items. Write a python program to calculate the total bill amount for Alice, Bob, and Charlie and save it in a dictionary object.\n",
    "\n",
    "Input Example: grocery_list = {\"Alice\" : {\"Apples\": 10 , \"Bananas\" : 5}}\n",
    "\n",
    "price_list = {\"Apples\" : 1.00, \"Bananas\" : 0.50}\n",
    "\n",
    "Output Example:\n",
    "bills = {\"Alice\" : 12.50}"
   ]
  },
  {
   "cell_type": "code",
   "execution_count": 9,
   "metadata": {},
   "outputs": [],
   "source": [
    "#Data \n",
    "grocery_list = {\"Alice\" : {\"Apples\": 3 , \"Bananas\" : 2, \"Potatoes\": 20 , \"Tomatoes\" : 20} , \"Bob\" : {\"Apples\": 15 , \"Bananas\" : 8, \"Potatoes\": 6 }, \"Charlie\" : {\"Apples\": 20 , \"Bananas\" : 12, \"Tomatoes\" : 18}}\n",
    "price_list = {\"Apples\" : 1.00, \"Bananas\" : 0.50 , \"Potatoes\": 2.00 , \"Tomatoes\" : 5.50}\n"
   ]
  }
 ],
 "metadata": {
  "kernelspec": {
   "display_name": "Python 3",
   "language": "python",
   "name": "python3"
  },
  "language_info": {
   "codemirror_mode": {
    "name": "ipython",
    "version": 3
   },
   "file_extension": ".py",
   "mimetype": "text/x-python",
   "name": "python",
   "nbconvert_exporter": "python",
   "pygments_lexer": "ipython3",
   "version": "3.7.3"
  }
 },
 "nbformat": 4,
 "nbformat_minor": 4
}
