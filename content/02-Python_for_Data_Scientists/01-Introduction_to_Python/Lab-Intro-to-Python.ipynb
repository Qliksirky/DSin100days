{
 "cells": [
  {
   "cell_type": "markdown",
   "metadata": {
    "tags": [
     "content",
     "s1",
     "l1"
    ]
   },
   "source": [
    "### Lab : Install Python and Create a Notebook\n",
    "\n",
    "* Install Python on you local system. (You can do a standalone installation, but Anaconda distribution is highly recommended)\n",
    "* Run Command Prompt/Terminal or Anaconda Prompt.\n",
    "* Verify the installation of Python by printing out the version of Python installed.\n",
    "* Re-execute the simple \"Hello World!\" print statement through terminal."
   ]
  },
  {
   "cell_type": "code",
   "execution_count": null,
   "metadata": {
    "collapsed": true,
    "tags": [
     "ce",
     "s1",
     "l1"
    ]
   },
   "outputs": [],
   "source": []
  },
  {
   "cell_type": "markdown",
   "metadata": {
    "tags": [
     "hint",
     "s1",
     "l1"
    ]
   },
   "source": []
  },
  {
   "cell_type": "code",
   "execution_count": null,
   "metadata": {
    "collapsed": true,
    "tags": [
     "ans",
     "s1",
     "l1"
    ]
   },
   "outputs": [],
   "source": []
  },
  {
   "cell_type": "code",
   "execution_count": null,
   "metadata": {
    "collapsed": true,
    "tags": [
     "hid",
     "s1",
     "l1"
    ]
   },
   "outputs": [],
   "source": []
  }
 ],
 "metadata": {
  "celltoolbar": "Tags",
  "kernelspec": {
   "display_name": "Python 3",
   "language": "python",
   "name": "python3"
  },
  "language_info": {
   "codemirror_mode": {
    "name": "ipython",
    "version": 3
   },
   "file_extension": ".py",
   "mimetype": "text/x-python",
   "name": "python",
   "nbconvert_exporter": "python",
   "pygments_lexer": "ipython3",
   "version": "3.6.6"
  }
 },
 "nbformat": 4,
 "nbformat_minor": 2
}
