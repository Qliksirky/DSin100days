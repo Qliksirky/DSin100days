{
 "cells": [
  {
   "cell_type": "markdown",
   "metadata": {},
   "source": [
    "# Lab: Decision Statements and Loops\n",
    "In this lab you will work on problems using loops and decision statements. We are going to be using the Iris dataset that was introduced in the Data Structures in Python lesson."
   ]
  },
  {
   "cell_type": "code",
   "execution_count": 1,
   "metadata": {},
   "outputs": [],
   "source": [
    "from sklearn.datasets import load_iris\n",
    "import random\n",
    "iris_dataset = load_iris()\n",
    "target = list(iris_dataset.target) \n",
    "dataset = list(iris_dataset.data)\n",
    "target_names = list(iris_dataset.target_names)\n",
    "\n",
    "random.seed(1)\n",
    "indx_list = [i for i in range(len(target))]\n",
    "random.shuffle(indx_list)\n"
   ]
  },
  {
   "cell_type": "markdown",
   "metadata": {},
   "source": [
    "We will be exploring the iris dataset again and looking at some of the operations we can perform on the dataset. For loops especially are really useful for things of list comprehensions. We will give a couple of examples of that. So lets get started.\n"
   ]
  },
  {
   "cell_type": "code",
   "execution_count": 2,
   "metadata": {},
   "outputs": [
    {
     "name": "stdout",
     "output_type": "stream",
     "text": [
      "The type of a single row in a dataset : <class 'numpy.ndarray'>\n",
      "Type of new row : <class 'list'>\n"
     ]
    }
   ],
   "source": [
    "# Convert the dataset variable to a list of lists\n",
    "\n",
    "# First, get the type of a single element of dataset\n",
    "dataset_row_type = \"####\"\n",
    "\n",
    "print(\"The type of a single row in a dataset : {}\".format(dataset_row_type))\n",
    "\n",
    "# Since the row is type ndarray convert it to a list of lists\n",
    "# note you want to do this within a list hence it will have \n",
    "# the format  list_new = [list(x) for x in old_list] where\n",
    "# old_list is our list of ndarrays\n",
    "dataset_list = [\"####\"]\n",
    "\n",
    "# Find the type of the new row. This is just \n",
    "# to confirm that we have done the correc operation \n",
    "new_row_type =  \"####\"\n",
    "print(\"Type of new row : {}\".format(new_row_type))\n",
    "\n",
    "\n"
   ]
  },
  {
   "cell_type": "markdown",
   "metadata": {},
   "source": [
    "The type of a single row in a dataset : <class 'numpy.ndarray'> <br>\n",
    "Type of new row : <class 'list'>"
   ]
  },
  {
   "cell_type": "markdown",
   "metadata": {},
   "source": [
    "In the Data structures with Python lab, we assigned the flower name to a single element of the target variable. Now that you know how to use a for loop you can do so for all the elements of target. Rather than a dictionary, we will use an if statement here. We will seperate out the first class and create a new list with just the names of the first class. \n",
    "\n",
    "For this part are going to use the variable ```indx_list``` to loop over ```target```. We have randomized the index for ```target``` and your job is store the result only if the target is 1. \n",
    "\n",
    "Following this we will try to extract a single column of the dataset using a for loop"
   ]
  },
  {
   "cell_type": "code",
   "execution_count": 3,
   "metadata": {},
   "outputs": [
    {
     "name": "stdout",
     "output_type": "stream",
     "text": [
      "Name of the class selected versicolor, length of target_named 50\n"
     ]
    }
   ],
   "source": [
    "# We first initialize an empty list which will stored the named labels\n",
    "target_named  = \"####\"\n",
    "\n",
    "# Next we loop over all the elements of the target. To do this, we will be looping\n",
    "# over indx_list, you will have to write a if statement that stores the flower class\n",
    "# in target_named only if target is equal to 1.\n",
    "for indx in \"####\": \n",
    "    if \"####\":\n",
    "        flower_class = \"####\"\n",
    "        \"####\" # append flower class to target named\n",
    "\n",
    "len_target_named = \"####\"\n",
    "target_named = target_named[0]        \n",
    "print(\"Name of the class selected {}, length of target_named {}\".format(target_named, len_target_named))"
   ]
  },
  {
   "cell_type": "markdown",
   "metadata": {},
   "source": [
    "Name of the class selected versicolor, length of target_named 50"
   ]
  },
  {
   "cell_type": "code",
   "execution_count": 4,
   "metadata": {},
   "outputs": [
    {
     "name": "stdout",
     "output_type": "stream",
     "text": [
      "Length of column : 150\n",
      "Dataset's first column values: [5.1, 4.9, 4.7, 4.6, 5.0, 5.4, 4.6, 5.0, 4.4, 4.9, 5.4, 4.8, 4.8, 4.3, 5.8, 5.7, 5.4, 5.1, 5.7, 5.1, 5.4, 5.1, 4.6, 5.1, 4.8, 5.0, 5.0, 5.2, 5.2, 4.7, 4.8, 5.4, 5.2, 5.5, 4.9, 5.0, 5.5, 4.9, 4.4, 5.1, 5.0, 4.5, 4.4, 5.0, 5.1, 4.8, 5.1, 4.6, 5.3, 5.0, 7.0, 6.4, 6.9, 5.5, 6.5, 5.7, 6.3, 4.9, 6.6, 5.2, 5.0, 5.9, 6.0, 6.1, 5.6, 6.7, 5.6, 5.8, 6.2, 5.6, 5.9, 6.1, 6.3, 6.1, 6.4, 6.6, 6.8, 6.7, 6.0, 5.7, 5.5, 5.5, 5.8, 6.0, 5.4, 6.0, 6.7, 6.3, 5.6, 5.5, 5.5, 6.1, 5.8, 5.0, 5.6, 5.7, 5.7, 6.2, 5.1, 5.7, 6.3, 5.8, 7.1, 6.3, 6.5, 7.6, 4.9, 7.3, 6.7, 7.2, 6.5, 6.4, 6.8, 5.7, 5.8, 6.4, 6.5, 7.7, 7.7, 6.0, 6.9, 5.6, 7.7, 6.3, 6.7, 7.2, 6.2, 6.1, 6.4, 7.2, 7.4, 7.9, 6.4, 6.3, 6.1, 7.7, 6.3, 6.4, 6.0, 6.9, 6.7, 6.9, 5.8, 6.8, 6.7, 6.7, 6.3, 6.5, 6.2, 5.9]\n"
     ]
    }
   ],
   "source": [
    "# Next we will try to get a single column of data from the variable dataset\n",
    "# The first column in the dataset is the 0 th element of all the rows in \n",
    "# dataset. We will loop over all the rows and store only the 0 th row \n",
    "\n",
    "# Initilize a list to store the column values\n",
    "dataset_col = \"####\"\n",
    "\n",
    "# Write a for loop to loop over each row of the list dataset. Remember \n",
    "# the for loop should not be over the index of dataset but over dataset variable\n",
    "for row in \"####\": \n",
    "    \"####\" # append the 0th element of the row to dataset_col\n",
    "\n",
    "# Length of column\n",
    "col_length = \"####\"\n",
    "\n",
    "\n",
    "print(\"Length of column : {}\".format(col_length))\n",
    "print(\"Dataset's first column values: {}\".format(dataset_col))"
   ]
  },
  {
   "cell_type": "markdown",
   "metadata": {},
   "source": [
    "Length of column : 150 <br>\n",
    "Dataset's first column values: [5.1, 4.9, 4.7, 4.6, 5.0, 5.4, 4.6, 5.0, 4.4, 4.9, 5.4, 4.8, 4.8, 4.3, 5.8, 5.7, 5.4, 5.1, 5.7, 5.1, 5.4, 5.1, 4.6, 5.1, 4.8, 5.0, 5.0, 5.2, 5.2, 4.7, 4.8, 5.4, 5.2, 5.5, 4.9, 5.0, 5.5, 4.9, 4.4, 5.1, 5.0, 4.5, 4.4, 5.0, 5.1, 4.8, 5.1, 4.6, 5.3, 5.0, 7.0, 6.4, 6.9, 5.5, 6.5, 5.7, 6.3, 4.9, 6.6, 5.2, 5.0, 5.9, 6.0, 6.1, 5.6, 6.7, 5.6, 5.8, 6.2, 5.6, 5.9, 6.1, 6.3, 6.1, 6.4, 6.6, 6.8, 6.7, 6.0, 5.7, 5.5, 5.5, 5.8, 6.0, 5.4, 6.0, 6.7, 6.3, 5.6, 5.5, 5.5, 6.1, 5.8, 5.0, 5.6, 5.7, 5.7, 6.2, 5.1, 5.7, 6.3, 5.8, 7.1, 6.3, 6.5, 7.6, 4.9, 7.3, 6.7, 7.2, 6.5, 6.4, 6.8, 5.7, 5.8, 6.4, 6.5, 7.7, 7.7, 6.0, 6.9, 5.6, 7.7, 6.3, 6.7, 7.2, 6.2, 6.1, 6.4, 7.2, 7.4, 7.9, 6.4, 6.3, 6.1, 7.7, 6.3, 6.4, 6.0, 6.9, 6.7, 6.9, 5.8, 6.8, 6.7, 6.7, 6.3, 6.5, 6.2, 5.9]"
   ]
  },
  {
   "cell_type": "code",
   "execution_count": 5,
   "metadata": {},
   "outputs": [
    {
     "name": "stdout",
     "output_type": "stream",
     "text": [
      "The mean value of the first column is : 5.843333333333335\n"
     ]
    }
   ],
   "source": [
    "# Next we are going to calcuate the mean of the values in the first row\n",
    "# this operation would be easier do if we had a numpy array but this is \n",
    "# a good excercise for working with for loops\n",
    "\n",
    "# Initalize the sum to 0\n",
    "sum_col = \"####\"\n",
    "\n",
    "# To get the mean, first we need the sum of all the values in a list\n",
    "# use a for loop to calcuate the sum. Again, remember you dont need\n",
    "# to loop over the index you can loop over each element of the list\n",
    "# add each value in dataset_col to sum_col\n",
    "for val in \"####\": \n",
    "   \"####\" # add value to sum_col \n",
    "\n",
    "# Calculate the mean of dataset_col by dividing the sum with column length\n",
    "mean_col = \"####\"\n",
    "\n",
    "print(\"The mean value of the first column is : {}\".format(mean_col))"
   ]
  },
  {
   "cell_type": "markdown",
   "metadata": {},
   "source": [
    "The mean value of the first column is : 5.843333333333335\n"
   ]
  },
  {
   "cell_type": "markdown",
   "metadata": {},
   "source": [
    "You should keep in mind that we could have summed the list dataset_col in a alternate way using ```sum(dataset_col)```. That is easier to write than the for loop that you wrote above and ideally you should use that. We made you sum using the for loop just to get you comfortable with the syntax. \n",
    "\n",
    "Next up, we will seperate all values in the first column using the mean. "
   ]
  },
  {
   "cell_type": "code",
   "execution_count": 7,
   "metadata": {},
   "outputs": [
    {
     "name": "stdout",
     "output_type": "stream",
     "text": [
      "Length of less than mean and more than mean lists : 80, 70\n"
     ]
    }
   ],
   "source": [
    "# First let us initialize two empty lists to store values less than or greater than the mean\n",
    "less_than_mean = []\n",
    "more_than_mean = []\n",
    "\n",
    "# Write a for loop where you loop over dataset_col value and write an if statement that stores\n",
    "# values less than or equal to the mean in less_than_mean list and more than the mean in more_than_mean list\n",
    "\n",
    "for val in dataset_col: \n",
    "    \n",
    "    if \"####\": \n",
    "        less_than_mean.append(val)\n",
    "    else: \n",
    "        more_than_mean.append(val)\n",
    "        \n",
    "        \n",
    "# Get length of less_than_mean and more_than_mean lists\n",
    "len_less = \"####\"\n",
    "len_more = \"####\"\n",
    "\n",
    "\n",
    "print(\"Length of less than mean and more than mean lists : {}, {}\".format(len_less, len_more))"
   ]
  },
  {
   "cell_type": "markdown",
   "metadata": {},
   "source": [
    "Length of less than mean and more than mean lists : 80, 70"
   ]
  },
  {
   "cell_type": "markdown",
   "metadata": {},
   "source": [
    "The above result makes sense since the length of ```datase_col``` is 150. Hence the 80 and 70 add upto 150. \n",
    "While for loops are very useful in python, for numerical calcuations its better to use numpy. Numpy does vectorized calcuations which can be used to circumvent a for loop making the whole calcuation faster. \n",
    "\n",
    "Lastly, you can implement the same thing as above using a while loop rather than a for loop. However, while loops are best used when a specific condition is to be met. We will see usecases of other conditional statements in subsequent labs."
   ]
  }
 ],
 "metadata": {
  "kernelspec": {
   "display_name": "Python 3",
   "language": "python",
   "name": "python3"
  },
  "language_info": {
   "codemirror_mode": {
    "name": "ipython",
    "version": 3
   },
   "file_extension": ".py",
   "mimetype": "text/x-python",
   "name": "python",
   "nbconvert_exporter": "python",
   "pygments_lexer": "ipython3",
   "version": "3.7.3"
  }
 },
 "nbformat": 4,
 "nbformat_minor": 4
}
