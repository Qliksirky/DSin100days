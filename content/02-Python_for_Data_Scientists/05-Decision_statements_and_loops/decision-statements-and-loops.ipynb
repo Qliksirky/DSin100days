{
 "cells": [
  {
   "cell_type": "markdown",
   "metadata": {
    "tags": [
     "s1",
     "content",
     "l1"
    ]
   },
   "source": [
    "# Operators , Decision statements and Loops in Python\n",
    "\n",
    "As a continuation of the previous lessons, here we introduce operators, decision statements and loops.\n",
    "\n",
    "## Operators\n",
    "\n",
    "Operators are the constructs which can manipulate the value of operands.\n",
    "\n",
    "### Arithmetic Operators\n",
    "\n",
    "The standard operators are +, -, *, **, /, % for addition, subtraction, multiplication, exponentials, division and modulus respectively.\n",
    "\n",
    "### Example:\n",
    "\n",
    "```\n",
    "var_a = 10\n",
    "var_b = 5\n",
    "var_sum = var_a + var_b\n",
    "```\n",
    "\n",
    "### Relational/Comparison Operators\n",
    "\n",
    "The comparison operators are similar to any other language with the commonly known symbols >, <, =, ==, >=, <= denoting, greater than, less than, assignment, equal to, greater than or equal to and less than or equal to respectively. \n",
    "\n",
    "### Example:\n",
    "\n",
    "To compare equality of the two variables, var_a and var_b and assign the result (True or False) to variable, var_c:\n",
    "\n",
    "```\n",
    "var_c = var_a == var_b\n",
    "```\n",
    "\n",
    "### Exercise\n",
    "\n",
    "Try out the above example by assigning ```var_a```, a value of 5 and ```var_b```, a value of 10. Store the comparaed result in var_c and print it out."
   ]
  },
  {
   "cell_type": "code",
   "execution_count": 2,
   "metadata": {
    "collapsed": true,
    "tags": [
     "s1",
     "ce",
     "l1"
    ]
   },
   "outputs": [],
   "source": [
    "var_a = 5\n",
    "var_b = 10\n",
    "\n",
    "# Assign result of comparison of above variables to var_c"
   ]
  },
  {
   "cell_type": "code",
   "execution_count": 3,
   "metadata": {
    "tags": [
     "s1",
     "l1",
     "ans",
     "test"
    ],
	"hide_input": true
   },
   "outputs": [
    {
     "name": "stdout",
     "output_type": "stream",
     "text": [
      "False\n"
     ]
    }
   ],
   "source": [
    "var_c = var_a == var_b\n",
    "print (var_c)"
   ]
  },
  {
   "cell_type": "markdown",
   "metadata": {
    "tags": [
     "l2",
     "content",
     "s2"
    ]
   },
   "source": [
    "### Membership Operator (in)\n",
    "\n",
    "Python’s membership operators test for membership in a sequence, such as strings, lists, or tuples. If x is a subset of y, then the result is True:\n",
    "\n",
    "```\n",
    ">>> if var_a in [1, 2, 3, 4, 5, 6]:\n",
    "...   print(\"True\")\n",
    "True\n",
    "```\n",
    "\n",
    "### Identity Operators (is)\n",
    "\n",
    "Identity operators compare the memory locations of two python objects and returns True if they point to the same location.\n",
    "\n",
    "Two objects can contain the same value but can be different objects. Here is an example which illustrates the 'is' operator:\n",
    "\n",
    "```\n",
    "a = 'This '\n",
    "b = a + 'is a python tutorial'\n",
    "c = 'This is a python tutorial'\n",
    "\n",
    ">> b == c\n",
    "True\n",
    ">> b is c\n",
    "False\n",
    "```\n",
    "\n",
    "Ref: https://docs.python.org/3/library/operator.html\n",
    "\n",
    "### Loops\n",
    "\n",
    "The two commonly used loops are the While loop and the For loop.\n",
    "\n",
    "#### While Loop\n",
    "\n",
    "Note that Python works with indentation and no braces are necessary. The next line of code following the loops or conditions or function blocks should have an indentation of two spaces or four spaces.\n",
    "\n",
    "Syntax: \n",
    "\n",
    "```\n",
    "While :\n",
    "  statements\n",
    "Example:\n",
    "i = 1\n",
    "while i < 5:\n",
    "  i += 1\n",
    "```\n",
    "\n",
    "#### For Loop\n",
    "\n",
    "Syntax:\n",
    "\n",
    "range(1, 10) -- generates a list of numbers from 1 to 10\n",
    "\n",
    "for i in range(1, 10):\n",
    "\n",
    "   statements\n",
    "\n",
    "Ref: https://docs.python.org/3/tutorial/controlflow.html\n",
    "\n",
    "### Exercise\n",
    "\n",
    "Compute the square of each number in X and assign it to a list y\n",
    "print y."
   ]
  },
  {
   "cell_type": "code",
   "execution_count": 7,
   "metadata": {
    "collapsed": true,
    "tags": [
     "l2",
     "ce",
     "s2"
    ]
   },
   "outputs": [],
   "source": [
    "x = range(1, 10)\n",
    "y = []"
   ]
  },
  {
   "cell_type": "code",
   "execution_count": 8,
   "metadata": {
    "collapsed": true,
    "tags": [
     "l2",
     "s2",
     "hint"
    ]
   },
   "outputs": [],
   "source": [
    "# To compute power of a variable, use **"
   ]
  },
  {
   "cell_type": "code",
   "execution_count": 9,
   "metadata": {
    "tags": [
     "l2",
     "s2",
     "ans"
    ]
   },
   "outputs": [
    {
     "name": "stdout",
     "output_type": "stream",
     "text": [
      "[1, 4, 9, 16, 25, 36, 49, 64, 81]\n"
     ]
    }
   ],
   "source": [
    "for i in x:\n",
    "    y.append(i**2)\n",
    "\n",
    "print(y)"
   ]
  },
  {
   "cell_type": "code",
   "execution_count": 10,
   "metadata": {
    "collapsed": true,
    "tags": [
     "l2",
     "hid",
     "s2"
    ]
   },
   "outputs": [],
   "source": [
    "ref_tmp_var = False\n",
    "\n",
    "try:\n",
    "    import numpy as np\n",
    "\n",
    "    if np.all(y == [1, 4, 9, 16, 25, 36, 49, 64, 81]):\n",
    "        ref_assert_var = True\n",
    "        ref_tmp_var = True\n",
    "    else:\n",
    "        ref_assert_var = False\n",
    "        print('Please follow the instructions given and use the same variables provided in the instructions.')\n",
    "except Exception:\n",
    "    print('Please follow the instructions given and use the same variables provided in the instructions.')\n",
    "\n",
    "assert ref_tmp_var"
   ]
  },
  {
   "cell_type": "markdown",
   "metadata": {
    "tags": [
     "l3",
     "s3",
     "content"
    ]
   },
   "source": [
    "## Decision Making\n",
    "\n",
    "Decision Making is to execute a set of statements based on the validation of a condition. The decision making in Python involves an 'if' condition that is written as:\n",
    "\n",
    "Syntax:\n",
    "\n",
    "\n",
    "if condition:\n",
    "\n",
    "  statements\n",
    "\n",
    "Ref: https://docs.python.org/3/tutorial/controlflow.html\n",
    "\n",
    "#### Exercise\n",
    "\n",
    "Push even numbers in [0, 10] to the list variable even_numbers\n",
    "\n",
    "print even_numbers"
   ]
  },
  {
   "cell_type": "code",
   "execution_count": 11,
   "metadata": {
    "collapsed": true,
    "tags": [
     "l3",
     "s3",
     "ce"
    ]
   },
   "outputs": [],
   "source": [
    "even_numbers = []\n",
    "x = range(0, 10)"
   ]
  },
  {
   "cell_type": "markdown",
   "metadata": {
    "tags": [
     "l3",
     "s3",
     "hint"
    ]
   },
   "source": [
    "Hint: Use the if condition in a for loop"
   ]
  },
  {
   "cell_type": "code",
   "execution_count": 12,
   "metadata": {
    "tags": [
     "l3",
     "s3",
     "ans"
    ]
   },
   "outputs": [
    {
     "name": "stdout",
     "output_type": "stream",
     "text": [
      "[0, 2, 4, 6, 8]\n"
     ]
    }
   ],
   "source": [
    "for i in x:\n",
    "    if (i%2) == 0:\n",
    "        even_numbers.append(i)\n",
    "print(even_numbers)"
   ]
  },
  {
   "cell_type": "code",
   "execution_count": 13,
   "metadata": {
    "collapsed": true,
    "tags": [
     "l3",
     "s3",
     "hid"
    ]
   },
   "outputs": [],
   "source": [
    "ref_tmp_var = False\n",
    "\n",
    "try:\n",
    "    import numpy as np\n",
    "\n",
    "    even_numbers_ = []\n",
    "\n",
    "    for i in x:\n",
    "        if (i%2) == 0:\n",
    "            even_numbers_.append(i)\n",
    "\n",
    "    if np.all(even_numbers == even_numbers_):  \n",
    "        ref_assert_var = True\n",
    "        ref_tmp_var = True\n",
    "    else:\n",
    "        ref_assert_var = False\n",
    "        print('Please follow the instructions given and use the same variables provided in the instructions.')\n",
    "except Exception:\n",
    "    print('Please follow the instructions given and use the same variables provided in the instructions.')    \n",
    "\n",
    "assert ref_tmp_var"
   ]
  },
  {
   "cell_type": "markdown",
   "metadata": {},
   "source": [
    "## If-elif-else\n",
    "\n",
    "An advanced approach to decision making will be to have multiple conditions checked. Here we use an 'if...elif...else' construct that is written as:\n",
    "\n",
    "Syntax:\n",
    "\n",
    "\n",
    "if condition:\n",
    "\n",
    "  statement(s)\n",
    "elif:\n",
    "  statement(s)\n",
    ".\n",
    ".\n",
    ".\n",
    "elif\n",
    "  statement(s)\n",
    "\n",
    "\n",
    "Ref: https://docs.python.org/3/reference/compound_stmts.html#if\n",
    "\n",
    "#### Exercise\n",
    "\n",
    "In a range of numbers [0, 10] add numbers to the lists divisible_by_2, divisible_by_3, divisible_by_5 when a given number is divisible by 2,3 or 5 (lowest divisor) respectively.\n"
   ]
  },
  {
   "cell_type": "code",
   "execution_count": 14,
   "metadata": {},
   "outputs": [
    {
     "name": "stdout",
     "output_type": "stream",
     "text": [
      "1 is not divisible by any of the numbers 2,3 or 5\n",
      "2 is divisible by 2\n",
      "3 is divisible by 3\n",
      "4 is divisible by 2\n",
      "5 is divisible by 5\n",
      "6 is divisible by 2\n",
      "7 is not divisible by any of the numbers 2,3 or 5\n",
      "8 is divisible by 2\n",
      "9 is divisible by 3\n"
     ]
    }
   ],
   "source": [
    "x = range(1, 10)\n",
    "for i in x:\n",
    "    if (i%2) == 0:\n",
    "        print(\"{} is divisible by 2\".format(i))\n",
    "    elif(i%3) == 0:\n",
    "        print(\"{} is divisible by 3\".format(i))\n",
    "    elif(i%5) == 0:\n",
    "        print(\"{} is divisible by 5\".format(i))\n",
    "    else:\n",
    "        print(\"{} is not divisible by any of the numbers 2,3 or 5\".format(i))\n"
   ]
  }
 ],
 "metadata": {
  "celltoolbar": "Tags",
  "executed_sections": [],
  "kernelspec": {
   "display_name": "Python 3",
   "language": "python",
   "name": "python3"
  },
  "language_info": {
   "codemirror_mode": {
    "name": "ipython",
    "version": 3
   },
   "file_extension": ".py",
   "mimetype": "text/x-python",
   "name": "python",
   "nbconvert_exporter": "python",
   "pygments_lexer": "ipython3",
   "version": "3.6.1"
  },
  "rf_version": 1
 },
 "nbformat": 4,
 "nbformat_minor": 2
}
