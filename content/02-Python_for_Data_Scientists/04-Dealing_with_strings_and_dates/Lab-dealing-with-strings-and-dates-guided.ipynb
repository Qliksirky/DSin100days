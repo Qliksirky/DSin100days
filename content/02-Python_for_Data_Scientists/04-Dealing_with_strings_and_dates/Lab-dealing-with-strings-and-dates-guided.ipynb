{
 "cells": [
  {
   "cell_type": "markdown",
   "metadata": {},
   "source": [
    "# Lab: Dealing with Strings and dates\n",
    "In this lab we will look at excercies that involve manipulating strings and dates. \n"
   ]
  },
  {
   "cell_type": "code",
   "execution_count": 1,
   "metadata": {},
   "outputs": [],
   "source": [
    "from datetime import date\n",
    "from datetime import datetime\n",
    "from datetime import timedelta"
   ]
  },
  {
   "cell_type": "markdown",
   "metadata": {},
   "source": [
    "## Part I \n",
    "Manipulating strings in python. You are give a collection of strings, you will need to manipulate them to get the correct solution. \n"
   ]
  },
  {
   "cell_type": "code",
   "execution_count": 2,
   "metadata": {},
   "outputs": [],
   "source": [
    "string1 = \"hello my name is feent; i like dogs\"\n",
    "string2 = \"feent is 20 years old\""
   ]
  },
  {
   "cell_type": "code",
   "execution_count": 3,
   "metadata": {},
   "outputs": [
    {
     "name": "stdout",
     "output_type": "stream",
     "text": [
      "The final sentence reads : Hello my name is Feent. I like dogs\n"
     ]
    }
   ],
   "source": [
    "# In string1 you need to replace the semi colon with a full stop\n",
    "string1_new = \"####\"\n",
    "\n",
    "# Next split split the string and capitalize h in \"hello\"\n",
    "# and i in the second sentence.\n",
    "\n",
    "# First split string1_new\n",
    "string1_list = \"####\"\n",
    "\n",
    "# This part is tricky. You need to add two parts here. \n",
    "# In the first part, select 'h' from the first string\n",
    "# in string1_list and using upper to change the letter's case,\n",
    "# second part requires selecting rest of the word without \n",
    "# first letter\n",
    "string1_list[0] = \"####\"\n",
    "\n",
    "# Next we caplitalize feent. The procedure is the same as above\n",
    "string1_list[4] = \"####\"\n",
    "\n",
    "# Next we caplitalize i. The procedure is the same as obove\n",
    "string1_list[5] = \"####\"\n",
    "\n",
    "string1_sentence = \" \".join(string1_list)\n",
    "print(\"The final sentence reads : {}\".format(string1_sentence))\n",
    "\n",
    "\n"
   ]
  },
  {
   "cell_type": "markdown",
   "metadata": {},
   "source": [
    "The final sentence reads : Hello my name is Feent. I like dogs\n"
   ]
  },
  {
   "cell_type": "code",
   "execution_count": 4,
   "metadata": {},
   "outputs": [
    {
     "name": "stdout",
     "output_type": "stream",
     "text": [
      "Check string should be: False\n",
      "Check string should be: True\n"
     ]
    }
   ],
   "source": [
    "# Next lets take string2. Split the string and \n",
    "# use isalpha is to show that \"20\" is not a string\n",
    "\n",
    "# Split string2\n",
    "string2_list = \"####\"\n",
    "\n",
    "# Check the element of the list which represents\n",
    "# the number 20 to see if it is a word\n",
    "check_string = \"####\"\n",
    "\n",
    "# An alternative to this is to use the isdigit property of string\n",
    "# Check if the string \"20\" from the list string2_list is a digit\n",
    "check_number =\"####\"\n",
    "\n",
    "print(\"Check string should be: {}\".format(check_string))\n",
    "print(\"Check string should be: {}\".format(check_number))"
   ]
  },
  {
   "cell_type": "markdown",
   "metadata": {},
   "source": [
    "Check string should be: False <br>\n",
    "Check string should be: True"
   ]
  },
  {
   "cell_type": "markdown",
   "metadata": {},
   "source": [
    "## Part 2 \n",
    "Dealing with dates and strings combined\n"
   ]
  },
  {
   "cell_type": "code",
   "execution_count": 5,
   "metadata": {},
   "outputs": [
    {
     "name": "stdout",
     "output_type": "stream",
     "text": [
      "The extracted date from the string3 is :20/12/2009\n"
     ]
    }
   ],
   "source": [
    "string3 = \"I am going to the concert on 20/12/2009\"\n",
    "\n",
    "# Your task is to first extract the date from the string above\n",
    "# Get the date from the string above. Rather than counting\n",
    "# From 0 to end of string, start from end of string and count\n",
    "# backwards to extract the string. DO NOT SPLIT THE STRING \n",
    "# AND CHOOSE THE LAST ELEMENT\n",
    "\n",
    "date_val = \"####\"\n",
    "print(\"The extracted date from the string3 is :{}\".format(date_val))"
   ]
  },
  {
   "cell_type": "markdown",
   "metadata": {},
   "source": [
    "The extracted date from the string3 is :20/12/2009\n"
   ]
  },
  {
   "cell_type": "code",
   "execution_count": 6,
   "metadata": {},
   "outputs": [
    {
     "name": "stdout",
     "output_type": "stream",
     "text": [
      "Type of date_val : <class 'str'>\n",
      "The date broken down by day month and year is : {'day': 20, 'month': 12, 'year': 2009}\n"
     ]
    }
   ],
   "source": [
    "# The variable date_val is a string type object. Convert it to datetime\n",
    "print(\"Type of date_val : {}\".format(type(date_val)))\n",
    "\n",
    "# Convert to date time object\n",
    "string_to_datetime = \"####\"\n",
    "\n",
    "# Create a dictionary where the keys are day, month and year\n",
    "# and the values for day, month and year are extracted \n",
    "# from string_to_datetime\n",
    "date_dict = \"####\"\n",
    "\n",
    "print(\"The date broken down by day month and year is : {}\".format(date_dict))"
   ]
  },
  {
   "cell_type": "markdown",
   "metadata": {},
   "source": [
    "The date broken down by day month and year is : {'day': 20, 'month': 12, 'year': 2009}\n",
    "\n"
   ]
  },
  {
   "cell_type": "code",
   "execution_count": 10,
   "metadata": {},
   "outputs": [
    {
     "name": "stdout",
     "output_type": "stream",
     "text": [
      "The new date dictionary is {'day': 10, 'month': 12, 'year': 2009}\n"
     ]
    }
   ],
   "source": [
    "string4 = \"I have to start preparing for the trip 10 days in advance\"\n",
    "\n",
    "# First split the string\n",
    "string4_list = \"####\"\n",
    "\n",
    "# Next choose the element that contians the number of days\n",
    "num_days = \"####\"\n",
    "\n",
    "# Convert num_days to int. You can just use int(variable) to \n",
    "# convert to int\n",
    "days_int = \"####\"\n",
    "\n",
    "# Next we are going to generate a timedelta object. \n",
    "# Use timedelta and set the number of days to days_int\n",
    "timedelta_days = \"####\"\n",
    "\n",
    "# Next subtract the timedelta_days from the date we extracted\n",
    "# above. Remember we converted the string to date\n",
    "new_date = \"####\"\n",
    "\n",
    "# Write a dictionary called date_dict2 similar to date_dict\n",
    "date_dict2 = \"####\"\n",
    "\n",
    "print(\"The new date dictionary is {}\".format(date_dict2))"
   ]
  },
  {
   "cell_type": "markdown",
   "metadata": {},
   "source": [
    "The new date dictionary is {'day': 10, 'month': 12, 'year': 2009}"
   ]
  },
  {
   "cell_type": "code",
<<<<<<< HEAD
   "execution_count": 8,
   "metadata": {
    "tags": [
     "gradehelper"
    ]
   },
   "outputs": [
    {
     "data": {
      "application/javascript": [
       "var nb = IPython.notebook;\n",
       "var kernel = IPython.notebook.kernel;\n",
       "console.log(nb)\n",
       "var command = \"nb_name = '\" + nb.notebook_path  + \"'\";\n",
       "kernel.execute(command);\n",
       "var command2 = \"user_id = '\" +/user\\/([^/]+)\\//.exec(Jupyter.notebook.base_url)[1] + \"'\"; \n",
       "kernel.execute(command2);\n"
      ],
      "text/plain": [
       "<IPython.core.display.Javascript object>"
      ]
     },
     "metadata": {},
     "output_type": "display_data"
    }
   ],
   "source": [
    "%%javascript\n",
    "var nb = IPython.notebook;\n",
    "var kernel = IPython.notebook.kernel;\n",
    "console.log(nb)\n",
    "var command = \"nb_name = '\" + nb.notebook_path  + \"'\";\n",
    "kernel.execute(command);\n",
    "var command2 = \"user_id = '\" +/user\\/([^/]+)\\//.exec(Jupyter.notebook.base_url)[1] + \"'\"; \n",
    "kernel.execute(command2);\n"
   ]
  },
  {
   "cell_type": "code",
=======
>>>>>>> bacb6a83ff53e81eaedcfb2f20d3e816eb853ef9
   "execution_count": 9,
   "metadata": {
    "tags": [
     "grade"
    ]
   },
   "outputs": [
    {
     "ename": "ModuleNotFoundError",
     "evalue": "No module named 'rfgrade'",
     "output_type": "error",
     "traceback": [
      "\u001b[1;31m---------------------------------------------------------------------------\u001b[0m",
      "\u001b[1;31mModuleNotFoundError\u001b[0m                       Traceback (most recent call last)",
      "\u001b[1;32m<ipython-input-9-684c0bfa29c4>\u001b[0m in \u001b[0;36m<module>\u001b[1;34m\u001b[0m\n\u001b[1;32m----> 1\u001b[1;33m \u001b[1;32mfrom\u001b[0m \u001b[0mrfgrade\u001b[0m \u001b[1;32mimport\u001b[0m \u001b[0mgradelab\u001b[0m \u001b[1;32mas\u001b[0m \u001b[0mlab\u001b[0m\u001b[1;33m\u001b[0m\u001b[1;33m\u001b[0m\u001b[0m\n\u001b[0m\u001b[0;32m      2\u001b[0m \u001b[0mprint\u001b[0m\u001b[1;33m(\u001b[0m\u001b[0mlab\u001b[0m\u001b[1;33m.\u001b[0m\u001b[0mgrade_lab\u001b[0m\u001b[1;33m(\u001b[0m\u001b[1;33m)\u001b[0m\u001b[1;33m)\u001b[0m\u001b[1;33m\u001b[0m\u001b[1;33m\u001b[0m\u001b[0m\n",
      "\u001b[1;31mModuleNotFoundError\u001b[0m: No module named 'rfgrade'"
     ]
    }
   ],
   "source": [
<<<<<<< HEAD
    "from rfgrade import gradelab as lab\n",
    "print(lab.grade_lab())"
=======
    "from IPython.display import Javascript\n",
    "display(Javascript(\"\"\"var nb = IPython.notebook;\n",
    "var kernel = IPython.notebook.kernel;\n",
    "console.log(nb)\n",
    "var command = \"nb_name = '\" + nb.notebook_path  + \"'\";\n",
    "kernel.execute(command);\n",
    "var command2 = \"user_id = '\" +/user\\/([^/]+)\\//.exec(Jupyter.notebook.base_url)[1] + \"'\"; \n",
    "\n",
    "kernel.execute(command2);\"\"\"))\n",
    "\n",
    "import requests\n",
    "from time import gmtime, strftime\n",
    "from IPython.display import clear_output\n",
    "\n",
    "user_ns = tuple(get_ipython().user_ns.items())\n",
    "user_id = ''\n",
    "lab_name = ''\n",
    "import os\n",
    "\n",
    "def display_result(result, res_code):\n",
    "    from IPython.display import display, HTML\n",
    "    js = \"<style>p.res {background-color: lightblue;} p.pas {color: green;text-align: center;font-size: 150%;} p.fail {color: red;text-align: center;font-size: 150%;}  p.wait {color: blue;text-align: center;font-size: 150%;} p.center {text-align: center;font-size: 200%;}</style>\"\n",
    "    if res_code == 'PASS':\n",
    "        #js = js + \"<script>$('#notebook-container').after('<p id=lastidp class=pas>%s</p>')</script>\"   % result\n",
    "        js = js + \"<script>$('#lastidp').replaceWith('<p id=lastidp class=pas>%s</p>')</script>)\"   % result\n",
    "    elif res_code == 'FAIL':\n",
    "        js = js + \"<script>$('#lastidp').replaceWith('<p id=lastidp class=fail>%s</p>')</script>\"   % result\n",
    "    else:\n",
    "        js = js + \"\"\"<script>\n",
    "        if($('#lastidp').length){\n",
    "        $('#lastidp').replaceWith('<p id=lastidp class=wait>%s</p>')\n",
    "        }else{\n",
    "        $('#notebook-container').after('<p id=lastidp class=wait>%s</p>')\n",
    "        }\n",
    "        </script>\n",
    "        \"\"\"   % (result,result)\n",
    "    display(HTML(js))\n",
    "\n",
    "display_result('','WAIT')\n",
    "    \n",
    "# if value_type == int:\n",
    "for name, value in user_ns:\n",
    "    if name == 'user_id':\n",
    "        user_id = value\n",
    "    if name == 'nb_name':\n",
    "        lab_name = value\n",
    "        lab_name = os.path.basename(lab_name).split('.')[0]\n",
    "\n",
    "input_content_file = lab_name + '.ipynb'\n",
    "\n",
    "f = {'file': open(input_content_file,'rb')}\n",
    "d = {'user': user_id}\n",
    "r = requests.post('http://autograde.refactored.ai/uploader', data=d, files=f)\n",
    "#r = requests.post('http://localhost:5000/uploader', data=d, files=f)\n",
    "tm = strftime(\"%Y-%m-%d %H:%M:%S\", gmtime())\n",
    "msg = r.json()['result']['message'][0]\n",
    "res = r.json()['result']['result']\n",
    "answerid = r.json()['answerid']\n",
    "result = tm + ' - ' + msg + '    Answerid is : ' + str(answerid) \n",
    "#score = r.json()['result']['score']\n",
    "#result = tm + ' - ' + msg + '    Your result is : ' + res + '     And the score is : ' + str(score)\n",
    "#print(result)\n",
    "display_result(result,'WAIT')\n",
    "\n",
    "import time\n",
    "count = 0\n",
    "while True:\n",
    "    #r = requests.get('http://localhost:5000/get_result?answer_id=' + str(answerid))\n",
    "    r = requests.get('http://autograde.refactored.ai/get_result?answer_id=' + str(answerid))\n",
    "    res = r.json()['result']['result']\n",
    "    if res != 'WAIT':\n",
    "        tm = strftime(\"%Y-%m-%d %H:%M:%S\", gmtime())\n",
    "        msg = r.json()['result']['message'][0]\n",
    "        res = r.json()['result']['result']\n",
    "        score = r.json()['result']['score']\n",
    "        result = tm + ' - ' + msg + ',    Your result is : ' + res + '    And your score is : ' + str(score) \n",
    "        clear_output(wait=True)\n",
    "        break\n",
    "    else:\n",
    "        if(count ==0):\n",
    "            print('Waiting for your score......')\n",
    "        count = count + 1\n",
    "        time.sleep(10)\n",
    "        if(count > 10):\n",
    "            result = 'Error occurred during evaluation. Please resubmit.'\n",
    "            break\n",
    "\n",
    "display_result(result,res)"
>>>>>>> bacb6a83ff53e81eaedcfb2f20d3e816eb853ef9
   ]
  }
 ],
 "metadata": {
  "celltoolbar": "Tags",
  "kernelspec": {
   "display_name": "Python 3",
   "language": "python",
   "name": "python3"
  },
  "language_info": {
   "codemirror_mode": {
    "name": "ipython",
    "version": 3
   },
   "file_extension": ".py",
   "mimetype": "text/x-python",
   "name": "python",
   "nbconvert_exporter": "python",
   "pygments_lexer": "ipython3",
<<<<<<< HEAD
   "version": "3.7.3"
=======
   "version": "3.7.4"
>>>>>>> bacb6a83ff53e81eaedcfb2f20d3e816eb853ef9
  }
 },
 "nbformat": 4,
 "nbformat_minor": 4
}
