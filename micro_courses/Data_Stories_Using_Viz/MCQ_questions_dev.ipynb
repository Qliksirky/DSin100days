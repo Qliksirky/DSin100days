{
 "cells": [
  {
   "cell_type": "code",
   "execution_count": 1,
   "metadata": {
    "ExecuteTime": {
     "end_time": "2020-03-29T01:36:09.156721Z",
     "start_time": "2020-03-29T01:36:08.229181Z"
    }
   },
   "outputs": [],
   "source": [
    "import numpy\n",
    "import ipywidgets as widgets \n",
    "from ipywidgets import interact, interactive_output, interactive \n",
    "import yaml "
   ]
  },
  {
   "cell_type": "code",
   "execution_count": 2,
   "metadata": {
    "ExecuteTime": {
     "end_time": "2020-03-29T01:36:09.187677Z",
     "start_time": "2020-03-29T01:36:09.159607Z"
    }
   },
   "outputs": [
    {
     "name": "stdout",
     "output_type": "stream",
     "text": [
      "{'q1': {'question': 'What are the three components of a data story?', 'options': {'a': 'Questions, Answers, Visualizations', 'b': 'EDA, Modelling and Visualizations', 'c': 'Questions, Data, and Visualizations'}, 'question_type': '0', 'answer': 'Questions, Data, and Visualizations'}, 'q2': {'question': 'what pandas command would you use to view the first 10 entries in a dataframe?', 'options': {'a': 'my_dataframe.tail()', 'b': 'my_dataframe.head(10)', 'c': 'my_dataframe.head(20)'}, 'question_type': '0', 'answer': 'my_dataframe.head(10)'}, 'q3': {'question': 'How much did Europe contribute to the World GDP in the 2007?', 'options': {'a': '33.4%', 'b': '25.5%', 'c': '35.6%', 'd': '1.0%'}, 'question_type': '0', 'answer': '33.4%'}, 'q4': {'question': 'What was the life expectancy of Swiss person in the year 1962 according to the animated plot. Pausing the animated plot may help?', 'options': {'a': '71.32 years', 'b': '69.45 years', 'c': '44.50 years'}, 'question_type': '0', 'answer': '71.32 years'}, 'q5': {'question': 'what are some important points to remember when visualizing data?\"', 'options': {'a': 'Stories are extremely effective when told using appropriate data and intuitive visualizations.', 'b': 'Modelling the data first is a nessecary to build proper visualizations', 'c': 'Choosing the right visualization and selecting and filtering the right data for the visualization, are both crucial.', 'd': 'visualizations should use lots of colors to make an impact'}, 'question_type': '1', 'answer': ['Stories are extremely effective when told using appropriate data and intuitive visualizations.', 'Choosing the right visualization and selecting and filtering the right data for the visualization, are both crucial.']}}\n"
     ]
    }
   ],
   "source": [
    "with open('dataviz_lab.yml') as file:\n",
    "    # The FullLoader parameter handles the conversion from YAML\n",
    "    # scalar values to Python the dictionary format\n",
    "    lab_dict = yaml.load(file, Loader=yaml.FullLoader)\n",
    "\n",
    "    print(lab_dict)\n"
   ]
  },
  {
   "cell_type": "code",
   "execution_count": null,
   "metadata": {
    "ExecuteTime": {
     "end_time": "2020-03-27T21:53:16.565528Z",
     "start_time": "2020-03-27T21:53:16.551524Z"
    }
   },
   "outputs": [],
   "source": []
  },
  {
   "cell_type": "code",
   "execution_count": 3,
   "metadata": {
    "ExecuteTime": {
     "end_time": "2020-03-29T01:36:09.374470Z",
     "start_time": "2020-03-29T01:36:09.190604Z"
    }
   },
   "outputs": [],
   "source": [
    "\n",
    "def qtype1(options, qnum): \n",
    "    check_dict = {}\n",
    "\n",
    "    for x in options.keys():\n",
    "            key_name = str(qnum)+\"_\"+str(x)\n",
    "            check_dict[key_name] = widgets.Checkbox(value=False,\n",
    "                                             description=options[x],\n",
    "                                             disabled=False,\n",
    "                                             indent=False)    \n",
    "    return check_dict\n",
    "\n",
    "def qtype2(single_options, qnum2):\n",
    "    output_widget = {}\n",
    "    key_name = str(qnum2)+\"_0\"\n",
    "    output_widget[key_name] = widgets.RadioButtons(\n",
    "                                    options=list(single_options.values()),\n",
    "                                #    value='pineapple', # Defaults to 'pineapple'\n",
    "                                   layout={'width': 'max-content'}, # If the items' names are long\n",
    "                                    description= \" \",\n",
    "                                    disabled=False\n",
    "                                )\n",
    "\n",
    "    return output_widget\n",
    "\n",
    "        \n",
    "def options_widgets(options, qnum, qtype): \n",
    "    \n",
    "    all_ouput_widgets = {}\n",
    "    if qtype == 0: \n",
    "        output_widget = qtype2(options, qnum)\n",
    "        all_ouput_widgets.update(output_widget)\n",
    "    elif qtype ==1: \n",
    "        output_widgets = qtype1(options, qnum)\n",
    "        all_ouput_widgets.update(output_widgets)\n",
    "    return all_ouput_widgets\n",
    "\n",
    "\n",
    "def question_widget(question, select_crit): \n",
    "    question_string = \"{}  ({})\".format(question, select_crit)\n",
    "    question_put = f\"<b><font size='2'>{question_string}</b>\"\n",
    "    return widgets.HTML(value= question_put)\n",
    "\n",
    "qkeys = list(lab_dict.keys())\n",
    "\n",
    "\n",
    "\n",
    "all_widgets = []\n",
    "new_widgets = {}\n",
    "all_answers = []\n",
    "for x in range(0, len(lab_dict)): \n",
    "        \n",
    "        single_question = lab_dict[qkeys[x]]\n",
    "        \n",
    "        question = single_question[\"question\"]\n",
    "        options = single_question[\"options\"]\n",
    "        qtype = int(single_question[\"question_type\"])\n",
    "        all_answers.append(single_question[\"answer\"])\n",
    "        opt_widgets = options_widgets(options, x, qtype)\n",
    "        old_widgets = opt_widgets\n",
    "        new_widgets.update(old_widgets)\n",
    "        \n",
    "        \n",
    "        qwidget = question_widget(question, qtype)\n",
    "        all_widgets.append(qwidget)\n",
    "        \n",
    "        list_widgets = list(old_widgets.values())\n",
    "        for x in list_widgets: \n",
    "            all_widgets.append(x)\n",
    "        \n",
    "\n",
    "# adding submit button \n",
    "submit_button = widgets.Button(description=\"Submit\")\n",
    "all_widgets.append(submit_button)\n"
   ]
  },
  {
   "cell_type": "code",
   "execution_count": 4,
   "metadata": {
    "ExecuteTime": {
     "end_time": "2020-03-29T01:36:09.405980Z",
     "start_time": "2020-03-29T01:36:09.380468Z"
    }
   },
   "outputs": [
    {
     "data": {
      "text/plain": [
       "['Questions, Data, and Visualizations',\n",
       " 'my_dataframe.head(10)',\n",
       " '33.4%',\n",
       " '71.32 years',\n",
       " ['Stories are extremely effective when told using appropriate data and intuitive visualizations.',\n",
       "  'Choosing the right visualization and selecting and filtering the right data for the visualization, are both crucial.']]"
      ]
     },
     "execution_count": 4,
     "metadata": {},
     "output_type": "execute_result"
    }
   ],
   "source": [
    "all_answers"
   ]
  },
  {
   "cell_type": "code",
   "execution_count": 5,
   "metadata": {
    "ExecuteTime": {
     "end_time": "2020-03-29T01:36:09.497985Z",
     "start_time": "2020-03-29T01:36:09.413471Z"
    },
    "run_control": {
     "marked": false
    }
   },
   "outputs": [
    {
     "data": {
      "application/vnd.jupyter.widget-view+json": {
       "model_id": "8bdc2c9f2a7f43adafd8cdd206aa31b6",
       "version_major": 2,
       "version_minor": 0
      },
      "text/plain": [
       "VBox(children=(HTML(value=\"<b><font size='2'>What are the three components of a data story?  (0)</b>\"), RadioB…"
      ]
     },
     "metadata": {},
     "output_type": "display_data"
    },
    {
     "data": {
      "application/vnd.jupyter.widget-view+json": {
       "model_id": "a6c1685a32ef41b0b59d72fe93c8979d",
       "version_major": 2,
       "version_minor": 0
      },
      "text/plain": [
       "Output()"
      ]
     },
     "metadata": {},
     "output_type": "display_data"
    }
   ],
   "source": [
    "\n",
    "\n",
    "ui = widgets.VBox(all_widgets)\n",
    "\n",
    "\n",
    "def f(**kwargs):\n",
    "\n",
    "    return None\n",
    "\n",
    "output = widgets.interactive_output(f, new_widgets)\n",
    "display(ui, output)\n",
    "\n",
    "store_data = []\n",
    "\n",
    "def on_button_clicked(b):\n",
    "    \n",
    "    with output:\n",
    "        store_data.clear()\n",
    "        for key in new_widgets: \n",
    "            \n",
    "            key_split = key.split(\"_\")\n",
    "            if key_split[1] == \"0\": \n",
    "                answer_value = key_split[0] +\"_\"+str(new_widgets[key].index) \n",
    "                store_data.append(new_widgets[key].value)\n",
    "\n",
    "            if key_split[1].isalpha():\n",
    "                store_data.append(new_widgets[key].description)\n",
    "        print(store_data)\n",
    "\n",
    "submit_button.on_click(on_button_clicked)\n",
    "\n"
   ]
  },
  {
   "cell_type": "code",
   "execution_count": 18,
   "metadata": {
    "ExecuteTime": {
     "end_time": "2020-03-29T01:39:18.683740Z",
     "start_time": "2020-03-29T01:39:18.667620Z"
    }
   },
   "outputs": [],
   "source": [
    "# get output from the widgets \n",
    "indicies = []\n",
    "store_data = []\n",
    "for key in new_widgets:             \n",
    "    key_split = key.split(\"_\")\n",
    "    if key_split[1] == \"0\": \n",
    "        answer_value = key_split[0] +\"_\"+str(new_widgets[key].index) \n",
    "        store_data.append(new_widgets[key].value)\n",
    "    \n",
    "    if new_widgets[key].value is True: \n",
    "        store_data.append(new_widgets[key].description)\n",
    "        \n",
    "        \n",
    "answer_array = store_data \n"
   ]
  },
  {
   "cell_type": "code",
   "execution_count": 19,
   "metadata": {
    "ExecuteTime": {
     "end_time": "2020-03-29T01:39:29.496756Z",
     "start_time": "2020-03-29T01:39:29.486066Z"
    }
   },
   "outputs": [
    {
     "data": {
      "text/plain": [
       "['Questions, Answers, Visualizations',\n",
       " 'my_dataframe.tail()',\n",
       " '33.4%',\n",
       " '71.32 years',\n",
       " 'Stories are extremely effective when told using appropriate data and intuitive visualizations.']"
      ]
     },
     "execution_count": 19,
     "metadata": {},
     "output_type": "execute_result"
    }
   ],
   "source": [
    "answer_array"
   ]
  },
  {
   "cell_type": "code",
   "execution_count": 25,
   "metadata": {
    "ExecuteTime": {
     "end_time": "2020-03-29T01:42:29.956885Z",
     "start_time": "2020-03-29T01:42:29.941332Z"
    }
   },
   "outputs": [],
   "source": [
    "all_answers_flattened = []\n",
    "for x in all_answers:\n",
    "    if type(x) is list: \n",
    "        for y in x: \n",
    "            all_answers_flattened.append(y)\n",
    "    else: \n",
    "        all_answers_flattened.append(x)\n",
    "    "
   ]
  },
  {
   "cell_type": "code",
   "execution_count": 27,
   "metadata": {
    "ExecuteTime": {
     "end_time": "2020-03-29T01:42:54.464985Z",
     "start_time": "2020-03-29T01:42:54.442667Z"
    }
   },
   "outputs": [
    {
     "data": {
      "text/plain": [
       "['Questions, Data, and Visualizations',\n",
       " 'my_dataframe.head(10)',\n",
       " '33.4%',\n",
       " '71.32 years',\n",
       " 'Stories are extremely effective when told using appropriate data and intuitive visualizations.',\n",
       " 'Choosing the right visualization and selecting and filtering the right data for the visualization, are both crucial.']"
      ]
     },
     "execution_count": 27,
     "metadata": {},
     "output_type": "execute_result"
    }
   ],
   "source": []
  },
  {
   "cell_type": "code",
   "execution_count": null,
   "metadata": {
    "ExecuteTime": {
     "end_time": "2020-03-27T17:30:44.452390Z",
     "start_time": "2020-03-27T17:30:44.424382Z"
    }
   },
   "outputs": [],
   "source": []
  },
  {
   "cell_type": "code",
   "execution_count": null,
   "metadata": {},
   "outputs": [],
   "source": []
  }
 ],
 "metadata": {
  "kernelspec": {
   "display_name": "Python 3",
   "language": "python",
   "name": "python3"
  },
  "language_info": {
   "codemirror_mode": {
    "name": "ipython",
    "version": 3
   },
   "file_extension": ".py",
   "mimetype": "text/x-python",
   "name": "python",
   "nbconvert_exporter": "python",
   "pygments_lexer": "ipython3",
   "version": "3.7.6"
  },
  "latex_envs": {
   "LaTeX_envs_menu_present": true,
   "autoclose": true,
   "autocomplete": true,
   "bibliofile": "biblio.bib",
   "cite_by": "apalike",
   "current_citInitial": 1,
   "eqLabelWithNumbers": true,
   "eqNumInitial": 1,
   "hotkeys": {
    "equation": "Ctrl-E",
    "itemize": "Ctrl-I"
   },
   "labels_anchors": false,
   "latex_user_defs": false,
   "report_style_numbering": true,
   "user_envs_cfg": false
  },
  "toc": {
   "base_numbering": 1,
   "nav_menu": {},
   "number_sections": true,
   "sideBar": true,
   "skip_h1_title": false,
   "title_cell": "Table of Contents",
   "title_sidebar": "Contents",
   "toc_cell": false,
   "toc_position": {},
   "toc_section_display": true,
   "toc_window_display": false
  },
  "varInspector": {
   "cols": {
    "lenName": 16,
    "lenType": 16,
    "lenVar": 40
   },
   "kernels_config": {
    "python": {
     "delete_cmd_postfix": "",
     "delete_cmd_prefix": "del ",
     "library": "var_list.py",
     "varRefreshCmd": "print(var_dic_list())"
    },
    "r": {
     "delete_cmd_postfix": ") ",
     "delete_cmd_prefix": "rm(",
     "library": "var_list.r",
     "varRefreshCmd": "cat(var_dic_list()) "
    }
   },
   "types_to_exclude": [
    "module",
    "function",
    "builtin_function_or_method",
    "instance",
    "_Feature"
   ],
   "window_display": false
  }
 },
 "nbformat": 4,
 "nbformat_minor": 4
}
