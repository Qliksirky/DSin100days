{
 "cells": [
  {
   "cell_type": "code",
   "execution_count": 1,
   "metadata": {
    "ExecuteTime": {
     "end_time": "2020-03-29T10:03:01.804505Z",
     "start_time": "2020-03-29T10:03:01.383719Z"
    }
   },
   "outputs": [],
   "source": [
    "import numpy\n",
    "import ipywidgets as widgets \n",
    "from ipywidgets import interact, interactive_output, interactive \n",
    "import yaml "
   ]
  },
  {
   "cell_type": "code",
   "execution_count": 2,
   "metadata": {
    "ExecuteTime": {
     "end_time": "2020-03-29T10:03:01.834437Z",
     "start_time": "2020-03-29T10:03:01.807523Z"
    }
   },
   "outputs": [
    {
     "name": "stdout",
     "output_type": "stream",
     "text": [
      "{'q0': {'question': 'What are the three components of a data story?', 'options': {'a': 'Questions, Answers, Visualizations', 'b': 'EDA, Modelling and Visualizations', 'c': 'Questions, Data, and Visualizations'}, 'question_type': '0', 'answer': 'Questions, Data, and Visualizations'}, 'q1': {'question': 'what pandas command would you use to view the first 10 entries in a dataframe?', 'options': {'a': 'my_dataframe.tail()', 'b': 'my_dataframe.head(10)', 'c': 'my_dataframe.head(20)'}, 'question_type': '0', 'answer': 'my_dataframe.head(10)'}, 'q2': {'question': 'How much did Europe contribute to the World GDP in the 2007?', 'options': {'a': '33.4%', 'b': '25.5%', 'c': '35.6%', 'd': '1.0%'}, 'question_type': '0', 'answer': '25.5%'}, 'q3': {'question': 'What was the life expectancy of Swiss person in the year 1962 according to the animated plot. Pausing the animated plot may help?', 'options': {'a': '71.32 years', 'b': '69.45 years', 'c': '44.50 years'}, 'question_type': '0', 'answer': '71.32 years'}, 'q4': {'question': 'what are some important points to remember when visualizing data?\"', 'options': {'a': 'Stories are extremely effective when told using appropriate data and intuitive visualizations.', 'b': 'Modelling the data first is a nessecary to build proper visualizations', 'c': 'Choosing the right visualization and selecting and filtering the right data for the visualization, are both crucial.', 'd': 'visualizations should use lots of colors to make an impact'}, 'question_type': '1', 'answer': ['Stories are extremely effective when told using appropriate data and intuitive visualizations.', 'Choosing the right visualization and selecting and filtering the right data for the visualization, are both crucial.', 'visualizations should use lots of colors to make an impact']}, 'q5': {'question': 'what are some important points to remember when visualizing data?\"', 'options': {'a': 'Stories are extremely effective when told using appropriate data and intuitive visualizations.', 'b': 'Modelling the data first is a nessecary to build proper visualizations', 'c': 'Choosing the right visualization and selecting and filtering the right data for the visualization, are both crucial.', 'd': 'visualizations should use lots of colors to make an impact'}, 'question_type': '1', 'answer': ['Stories are extremely effective when told using appropriate data and intuitive visualizations.']}}\n"
     ]
    }
   ],
   "source": [
    "    \n",
    "with open('dataviz_lab.yml') as file:\n",
    "    # The FullLoader parameter handles the conversion from YAML\n",
    "    # scalar values to Python the dictionary format\n",
    "    lab_dict = yaml.load(file, Loader=yaml.FullLoader)\n",
    "\n",
    "    print(lab_dict)\n",
    "    "
   ]
  },
  {
   "cell_type": "code",
   "execution_count": null,
   "metadata": {
    "ExecuteTime": {
     "end_time": "2020-03-27T21:53:16.565528Z",
     "start_time": "2020-03-27T21:53:16.551524Z"
    }
   },
   "outputs": [],
   "source": []
  },
  {
   "cell_type": "code",
   "execution_count": 3,
   "metadata": {
    "ExecuteTime": {
     "end_time": "2020-03-29T10:03:01.985827Z",
     "start_time": "2020-03-29T10:03:01.836635Z"
    }
   },
   "outputs": [],
   "source": [
    "\n",
    "def qtype1(options, qnum): \n",
    "    check_dict = {}\n",
    "\n",
    "    for x in options.keys():\n",
    "            key_name = str(qnum)+\"_\"+str(x)\n",
    "            check_dict[key_name] = widgets.Checkbox(value=False,\n",
    "                                             description=options[x],\n",
    "                                             disabled=False,\n",
    "                                             indent=False)    \n",
    "    return check_dict\n",
    "\n",
    "def qtype2(single_options, qnum2):\n",
    "    output_widget = {}\n",
    "    key_name = str(qnum2)+\"_0\"\n",
    "    output_widget[key_name] = widgets.RadioButtons(\n",
    "                                    options=list(single_options.values()),\n",
    "                                #    value='pineapple', # Defaults to 'pineapple'\n",
    "                                   layout={'width': 'max-content'}, # If the items' names are long\n",
    "                                    description= \" \",\n",
    "                                    disabled=False\n",
    "                                )\n",
    "\n",
    "    return output_widget\n",
    "\n",
    "        \n",
    "def options_widgets(options, qnum, qtype): \n",
    "    \n",
    "    all_ouput_widgets = {}\n",
    "    if qtype == 0: \n",
    "        output_widget = qtype2(options, qnum)\n",
    "        all_ouput_widgets.update(output_widget)\n",
    "    elif qtype ==1: \n",
    "        output_widgets = qtype1(options, qnum)\n",
    "        all_ouput_widgets.update(output_widgets)\n",
    "    return all_ouput_widgets\n",
    "\n",
    "\n",
    "def question_widget(question, select_crit): \n",
    "    question_string = \"{}  ({})\".format(question, select_crit)\n",
    "    question_put = f\"<b><font size='2'>{question_string}</b>\"\n",
    "    return widgets.HTML(value= question_put)\n",
    "\n",
    "qkeys = list(lab_dict.keys())\n",
    "\n",
    "\n",
    "\n",
    "all_widgets = []\n",
    "new_widgets = {}\n",
    "all_answers = {}\n",
    "for x in range(0, len(lab_dict)): \n",
    "        \n",
    "        single_question = lab_dict[qkeys[x]]\n",
    "        \n",
    "        question = single_question[\"question\"]\n",
    "        options = single_question[\"options\"]\n",
    "        qtype = int(single_question[\"question_type\"])\n",
    "        all_answers[x] = single_question[\"answer\"]\n",
    "        opt_widgets = options_widgets(options, x, qtype)\n",
    "        old_widgets = opt_widgets\n",
    "        new_widgets.update(old_widgets)\n",
    "        \n",
    "        \n",
    "        qwidget = question_widget(question, qtype)\n",
    "        all_widgets.append(qwidget)\n",
    "        \n",
    "        list_widgets = list(old_widgets.values())\n",
    "        for x in list_widgets: \n",
    "            all_widgets.append(x)\n",
    "        \n",
    "\n",
    "# adding submit button \n",
    "submit_button = widgets.Button(description=\"Submit\")\n",
    "all_widgets.append(submit_button)\n"
   ]
  },
  {
   "cell_type": "code",
   "execution_count": 4,
   "metadata": {
    "ExecuteTime": {
     "end_time": "2020-03-29T10:03:02.016821Z",
     "start_time": "2020-03-29T10:03:01.990259Z"
    }
   },
   "outputs": [
    {
     "data": {
      "text/plain": [
       "{0: 'Questions, Data, and Visualizations',\n",
       " 1: 'my_dataframe.head(10)',\n",
       " 2: '25.5%',\n",
       " 3: '71.32 years',\n",
       " 4: ['Stories are extremely effective when told using appropriate data and intuitive visualizations.',\n",
       "  'Choosing the right visualization and selecting and filtering the right data for the visualization, are both crucial.',\n",
       "  'visualizations should use lots of colors to make an impact'],\n",
       " 5: ['Stories are extremely effective when told using appropriate data and intuitive visualizations.']}"
      ]
     },
     "execution_count": 4,
     "metadata": {},
     "output_type": "execute_result"
    }
   ],
   "source": [
    "all_answers"
   ]
  },
  {
   "cell_type": "code",
   "execution_count": 5,
   "metadata": {
    "ExecuteTime": {
     "end_time": "2020-03-29T10:03:02.045533Z",
     "start_time": "2020-03-29T10:03:02.020256Z"
    }
   },
   "outputs": [],
   "source": [
    "def store_answers(all_answers, new_widgets): \n",
    "    # get output from the widgets \n",
    "    \n",
    "    store_data = {}\n",
    "    type_to_value = {list: [], float: 0.0, int: 0, str: 0}\n",
    "\n",
    "    # initalize store data\n",
    "    for qnum in all_answers.keys(): \n",
    "        ans_type = type(all_answers[qnum])\n",
    "        store_data[qnum] = type_to_value[ans_type]\n",
    "\n",
    "    for key in new_widgets:             \n",
    "        key_split = key.split(\"_\")\n",
    "        q_number = int(key_split[0])\n",
    "\n",
    "        if key_split[1] == \"0\": \n",
    "            answer_value = key_split[0] +\"_\"+str(new_widgets[key].index) \n",
    "            store_data[q_number] = new_widgets[key].value\n",
    "\n",
    "\n",
    "        if new_widgets[key].value is True: \n",
    "\n",
    "            answered = new_widgets[key].description\n",
    "            temp = store_data[q_number].copy()\n",
    "            temp.append(answered)\n",
    "            store_data[q_number] = temp \n",
    "\n",
    "    return store_data\n",
    "\n",
    "def grade_answers(store_data, all_answers ):\n",
    "    questions_answered = []\n",
    "    score_assigned = {}\n",
    "    type_to_value = {list: [], float: 0.0, int: 0, str: 0}\n",
    "\n",
    "    # initalize score_assigned \n",
    "    for qnum in all_answers.keys(): \n",
    "        ans_type = type(all_answers[qnum])\n",
    "        score_assigned[qnum] = type_to_value[ans_type]\n",
    "\n",
    "    for q_num in all_answers.keys(): \n",
    "        if q_num in list(store_data.keys()): \n",
    "            questions_answered.append(q_num)\n",
    "\n",
    "            # based on type of question do the appropriate comparison\n",
    "\n",
    "            # type 0 is just single answer mcq \n",
    "            qkey = \"q\"+str(q_num)\n",
    "            if lab_dict[qkey][\"question_type\"] == \"0\": \n",
    "                if store_data[q_num] == all_answers[q_num]: \n",
    "                        score_assigned[q_num] = 1.0\n",
    "                else: \n",
    "                        score_assigned[q_num] = -0.25\n",
    "\n",
    "            # type 1 which mean has multiple answers\n",
    "            if lab_dict[qkey][\"question_type\"] == \"1\": \n",
    "                \n",
    "                # if answer is in all_answers then give a score of 1\n",
    "                # else score of -0.25\n",
    "                for ans in all_answers[q_num]: \n",
    "                        if ans in score_assigned[q_num]: \n",
    "                            temp = score_assigned[q_num].copy()\n",
    "                            temp.append(1.0)\n",
    "                            score_assigned[q_num] = temp \n",
    "                        else: \n",
    "                            temp = score_assigned[q_num].copy()\n",
    "                            temp.append(-0.25)\n",
    "                            score_assigned[q_num] = temp \n",
    "\n",
    "             \n",
    "\n",
    "    return score_assigned"
   ]
  },
  {
   "cell_type": "code",
   "execution_count": 6,
   "metadata": {
    "ExecuteTime": {
     "end_time": "2020-03-29T10:03:02.102200Z",
     "start_time": "2020-03-29T10:03:02.047837Z"
    },
    "run_control": {
     "marked": false
    }
   },
   "outputs": [
    {
     "data": {
      "application/vnd.jupyter.widget-view+json": {
       "model_id": "4cfc216570d14b23ab8b02893e91d799",
       "version_major": 2,
       "version_minor": 0
      },
      "text/plain": [
       "VBox(children=(HTML(value=\"<b><font size='2'>What are the three components of a data story?  (0)</b>\"), RadioB…"
      ]
     },
     "metadata": {},
     "output_type": "display_data"
    },
    {
     "data": {
      "application/vnd.jupyter.widget-view+json": {
       "model_id": "3ce46331763e4e00aef3aae9a11aaf18",
       "version_major": 2,
       "version_minor": 0
      },
      "text/plain": [
       "Output()"
      ]
     },
     "metadata": {},
     "output_type": "display_data"
    }
   ],
   "source": [
    "\n",
    "\n",
    "ui = widgets.VBox(all_widgets)\n",
    "\n",
    "\n",
    "def f(**kwargs):\n",
    "\n",
    "    return None\n",
    "\n",
    "output = widgets.interactive_output(f, new_widgets)\n",
    "display(ui, output)\n",
    "\n",
    "\n",
    "indicies = []\n",
    "store_data = {}\n",
    "questions_answered = []\n",
    "score_assigned = {}\n",
    "def on_button_clicked(b):\n",
    "    \n",
    "    with output:\n",
    "        store_data = store_answers(all_answers, new_widgets)\n",
    "        score_assigned = grade_answers(store_data, all_answers)\n",
    "        \n",
    "    #         # get answers and store them based on question number\n",
    "#        # get output from the widgets \n",
    "      \n",
    "#         type_to_value = {list: [], float: 0.0, int: 0.0, str: 0.0}\n",
    "\n",
    "#         # initalize store data\n",
    "#         for qnum in all_answers.keys(): \n",
    "#             ans_type = type(all_answers[qnum])\n",
    "#             store_data[qnum] = type_to_value[ans_type]\n",
    "\n",
    "#         for key in new_widgets:             \n",
    "#             key_split = key.split(\"_\")\n",
    "#             q_number = int(key_split[0])\n",
    "\n",
    "#             if key_split[1] == \"0\": \n",
    "#                 answer_value = key_split[0] +\"_\"+str(new_widgets[key].index) \n",
    "#                 store_data[q_number] = new_widgets[key].value\n",
    "\n",
    "\n",
    "#             if new_widgets[key].value is True: \n",
    "\n",
    "#                     answered = new_widgets[key].description\n",
    "#                     store_data[q_number].append(answered)\n",
    "\n",
    "#         # grading \n",
    "       \n",
    "        \n",
    "\n",
    "\n",
    "#         # initalize score_assigned \n",
    "#         for qnum in all_answers.keys(): \n",
    "#             ans_type = type(all_answers[qnum])\n",
    "#             score_assigned[qnum] = type_to_value[ans_type]\n",
    "\n",
    "#         for q_num in all_answers.keys(): \n",
    "#             if q_num in list(store_data.keys()): \n",
    "#                 questions_answered.append(q_num)\n",
    "\n",
    "#                 # based on type of question do the appropriate comparison\n",
    "\n",
    "#                 # type 0 is just single answer mcq \n",
    "#                 qkey = \"q\"+str(q_num)\n",
    "                \n",
    "#                 if lab_dict[qkey][\"question_type\"] == \"0\": \n",
    "#                     if store_data[q_num] == all_answers[q_num]: \n",
    "#                             score_assigned[q_num] = 1.0\n",
    "#                     else: \n",
    "#                             score_assigned[q_num] = -0.25\n",
    "\n",
    "#                 # type 1 which mean has multiple answers\n",
    "#                 if lab_dict[qkey][\"question_type\"] == \"1\": \n",
    "                   \n",
    "#                     # if answer is in all_answers then give a score of 1\n",
    "#                     # else score of -0.25\n",
    "#                     for ans in store_data[q_num]: \n",
    "#                         print(ans)\n",
    "#                         if ans in all_answers[q_num]: \n",
    "#                             score_assigned[q_num].append(1.0)\n",
    "#                         else: \n",
    "#                             score_assigned[q_num].append(-0.25)\n",
    "                        \n",
    "\n",
    "\n",
    "\n",
    "                \n",
    "        print(\"your Scores:\", score_assigned)\n",
    "submit_button.on_click(on_button_clicked)\n",
    "\n"
   ]
  },
  {
   "cell_type": "markdown",
   "metadata": {},
   "source": [
    "## Grading Module\n"
   ]
  },
  {
   "cell_type": "markdown",
   "metadata": {},
   "source": [
    "### Dict with student answers with question number as key\n"
   ]
  },
  {
   "cell_type": "code",
   "execution_count": 7,
   "metadata": {
    "ExecuteTime": {
     "end_time": "2020-03-29T10:03:02.132635Z",
     "start_time": "2020-03-29T10:03:02.104173Z"
    },
    "run_control": {
     "marked": false
    }
   },
   "outputs": [],
   "source": [
    "def store_answers(all_answers, new_widgets): \n",
    "#     get output from the widgets \n",
    "\n",
    "    store_data = {}\n",
    "    type_to_value = {list: [], float: 0.0, int: 0, str: 0}\n",
    "\n",
    "    # initalize store data\n",
    "    for qnum in all_answers.keys(): \n",
    "        ans_type = type(all_answers[qnum])\n",
    "        store_data.setdefault(qnum, type_to_value[ans_type])\n",
    "\n",
    "    for key in new_widgets:             \n",
    "        key_split = key.split(\"_\")\n",
    "        q_number = int(key_split[0])\n",
    "\n",
    "        if key_split[1] == \"0\": \n",
    "            answer_value = key_split[0] +\"_\"+str(new_widgets[key].index) \n",
    "            store_data[q_number] = new_widgets[key].value\n",
    "\n",
    "        if new_widgets[key].value is True: \n",
    "\n",
    "            answered = new_widgets[key].description\n",
    "            temp = store_data[q_number].copy()\n",
    "            temp.append(answered)\n",
    "            store_data[q_number] = temp \n",
    "\n",
    "      \n",
    "    return store_data\n",
    "\n",
    "store_data = store_answers(all_answers, new_widgets)"
   ]
  },
  {
   "cell_type": "code",
   "execution_count": 8,
   "metadata": {
    "ExecuteTime": {
     "end_time": "2020-03-29T10:03:02.148910Z",
     "start_time": "2020-03-29T10:03:02.136286Z"
    }
   },
   "outputs": [
    {
     "data": {
      "text/plain": [
       "{0: 'Questions, Answers, Visualizations',\n",
       " 1: 'my_dataframe.tail()',\n",
       " 2: '33.4%',\n",
       " 3: '71.32 years',\n",
       " 4: [],\n",
       " 5: []}"
      ]
     },
     "execution_count": 8,
     "metadata": {},
     "output_type": "execute_result"
    }
   ],
   "source": [
    "store_data"
   ]
  },
  {
   "cell_type": "code",
   "execution_count": null,
   "metadata": {
    "ExecuteTime": {
     "end_time": "2020-03-29T09:34:26.268624Z",
     "start_time": "2020-03-29T09:34:26.141053Z"
    }
   },
   "outputs": [],
   "source": []
  },
  {
   "cell_type": "markdown",
   "metadata": {},
   "source": [
    "\n"
   ]
  },
  {
   "cell_type": "markdown",
   "metadata": {},
   "source": [
    "### Dict of answer key"
   ]
  },
  {
   "cell_type": "code",
   "execution_count": 9,
   "metadata": {
    "ExecuteTime": {
     "end_time": "2020-03-29T10:03:02.164508Z",
     "start_time": "2020-03-29T10:03:02.152920Z"
    }
   },
   "outputs": [
    {
     "data": {
      "text/plain": [
       "{0: 'Questions, Data, and Visualizations',\n",
       " 1: 'my_dataframe.head(10)',\n",
       " 2: '25.5%',\n",
       " 3: '71.32 years',\n",
       " 4: ['Stories are extremely effective when told using appropriate data and intuitive visualizations.',\n",
       "  'Choosing the right visualization and selecting and filtering the right data for the visualization, are both crucial.',\n",
       "  'visualizations should use lots of colors to make an impact'],\n",
       " 5: ['Stories are extremely effective when told using appropriate data and intuitive visualizations.']}"
      ]
     },
     "execution_count": 9,
     "metadata": {},
     "output_type": "execute_result"
    }
   ],
   "source": [
    "all_answers"
   ]
  },
  {
   "cell_type": "markdown",
   "metadata": {},
   "source": [
    "### comparing both answer key and student answers \n"
   ]
  },
  {
   "cell_type": "code",
   "execution_count": 10,
   "metadata": {
    "ExecuteTime": {
     "end_time": "2020-03-29T10:03:02.194247Z",
     "start_time": "2020-03-29T10:03:02.168420Z"
    }
   },
   "outputs": [],
   "source": [
    "def grade_answers(store_data, all_answers ):\n",
    "    questions_answered = []\n",
    "    score_assigned = {}\n",
    "    type_to_value = {list: [], float: 0.0, int: 0, str: 0}\n",
    "\n",
    "    # initalize score_assigned \n",
    "    for qnum in all_answers.keys(): \n",
    "            ans_type = type(all_answers[qnum])\n",
    "            score_assigned.setdefault(qnum, type_to_value[ans_type])\n",
    "    \n",
    "    for q_num in all_answers.keys(): \n",
    "        if q_num in list(store_data.keys()): \n",
    "            questions_answered.append(q_num)\n",
    "\n",
    "            # based on type of question do the appropriate comparison\n",
    "\n",
    "            # type 0 is just single answer mcq \n",
    "            qkey = \"q\"+str(q_num)\n",
    "            if lab_dict[qkey][\"question_type\"] == \"0\": \n",
    "                if store_data[q_num] == all_answers[q_num]: \n",
    "                        score_assigned[q_num] = 1.0\n",
    "                else: \n",
    "                        score_assigned[q_num] = -0.25\n",
    "\n",
    "            # type 1 which mean has multiple answers\n",
    "            if lab_dict[qkey][\"question_type\"] == \"1\": \n",
    "               \n",
    "                # if answer is in all_answers then give a score of 1\n",
    "                # else score of -0.25\n",
    "                for ans in all_answers[q_num]: \n",
    "                    if ans in store_data[q_num]: \n",
    "                        temp = score_assigned[q_num].copy()\n",
    "                        temp.append(1.0)\n",
    "                        score_assigned[q_num] = temp \n",
    "                    else: \n",
    "                        temp = score_assigned[q_num].copy()\n",
    "                        temp.append(-0.25)\n",
    "                        score_assigned[q_num] = temp \n",
    "                \n",
    "             \n",
    "                    \n",
    "    return score_assigned\n",
    "\n",
    "\n",
    "score_assigned = grade_answers(store_data, all_answers)\n",
    "        "
   ]
  },
  {
   "cell_type": "code",
   "execution_count": 11,
   "metadata": {
    "ExecuteTime": {
     "end_time": "2020-03-29T10:03:02.210148Z",
     "start_time": "2020-03-29T10:03:02.199330Z"
    }
   },
   "outputs": [
    {
     "data": {
      "text/plain": [
       "{0: -0.25, 1: -0.25, 2: -0.25, 3: 1.0, 4: [-0.25, -0.25, -0.25], 5: [-0.25]}"
      ]
     },
     "execution_count": 11,
     "metadata": {},
     "output_type": "execute_result"
    }
   ],
   "source": [
    "score_assigned"
   ]
  },
  {
   "cell_type": "markdown",
   "metadata": {},
   "source": [
    "### Calculate final score "
   ]
  },
  {
   "cell_type": "code",
   "execution_count": 12,
   "metadata": {
    "ExecuteTime": {
     "end_time": "2020-03-29T10:03:02.238772Z",
     "start_time": "2020-03-29T10:03:02.216729Z"
    }
   },
   "outputs": [
    {
     "name": "stdout",
     "output_type": "stream",
     "text": [
      "-0.25\n"
     ]
    }
   ],
   "source": [
    "score_calcuated = 0 \n",
    "for key in score_assigned.keys(): \n",
    "    if type(score_assigned[key]) is float: \n",
    "        score_calcuated += score_assigned[key]\n",
    "    if type(score_assigned[key]) is list: \n",
    "        score_calcuated += sum(score_assigned[key])/len(all_answers[key])\n",
    "        \n",
    "print(score_calcuated)\n"
   ]
  },
  {
   "cell_type": "markdown",
   "metadata": {},
   "source": []
  },
  {
   "cell_type": "code",
   "execution_count": 13,
   "metadata": {
    "ExecuteTime": {
     "end_time": "2020-03-29T10:03:02.309876Z",
     "start_time": "2020-03-29T10:03:02.299144Z"
    }
   },
   "outputs": [
    {
     "data": {
      "text/plain": [
       "1"
      ]
     },
     "execution_count": 13,
     "metadata": {},
     "output_type": "execute_result"
    }
   ],
   "source": [
    "len(all_answers[key])"
   ]
  },
  {
   "cell_type": "code",
   "execution_count": 14,
   "metadata": {
    "ExecuteTime": {
     "end_time": "2020-03-29T10:03:02.338534Z",
     "start_time": "2020-03-29T10:03:02.320507Z"
    },
    "run_control": {
     "marked": false
    }
   },
   "outputs": [],
   "source": [
    "# grading module. Flattening answers \n",
    "\n",
    "all_answers_flattened = []\n",
    "for x in all_answers:\n",
    "    if type(x) is list: \n",
    "        for y in x: \n",
    "            all_answers_flattened.append(y)\n",
    "    else: \n",
    "        all_answers_flattened.append(x)\n",
    "    "
   ]
  },
  {
   "cell_type": "code",
   "execution_count": null,
   "metadata": {
    "ExecuteTime": {
     "end_time": "2020-03-29T09:34:26.284520Z",
     "start_time": "2020-03-29T09:34:26.096Z"
    }
   },
   "outputs": [],
   "source": []
  },
  {
   "cell_type": "code",
   "execution_count": 15,
   "metadata": {
    "ExecuteTime": {
     "end_time": "2020-03-29T10:03:02.380435Z",
     "start_time": "2020-03-29T10:03:02.353729Z"
    }
   },
   "outputs": [],
   "source": [
    "qkeys = list(new_widgets.keys())\n",
    "qcount =  [int(x.split(\"_\")[0]) for x in qkeys ]\n",
    "\n",
    "unique_list = []\n",
    "results_dict = {}\n",
    "\n",
    "for counter, x in enumerate(qcount): \n",
    "    if x not in unique_list: \n",
    "        results_dict[x] = qkeys[counter].split(\"_\")[1]\n",
    "        unique_list.append(x)\n",
    "       \n",
    "    else: \n",
    "        if type(results_dict[x]) is not list: \n",
    "            results_dict[x] = [results_dict[x]]\n",
    "            results_dict[x].append(qkeys[counter].split(\"_\")[1])\n",
    "        else: \n",
    "            results_dict[x].append(qkeys[counter].split(\"_\")[1])\n",
    "        "
   ]
  },
  {
   "cell_type": "code",
   "execution_count": null,
   "metadata": {
    "ExecuteTime": {
     "end_time": "2020-03-29T03:34:01.445048Z",
     "start_time": "2020-03-29T03:34:01.426845Z"
    }
   },
   "outputs": [],
   "source": []
  },
  {
   "cell_type": "code",
   "execution_count": null,
   "metadata": {
    "ExecuteTime": {
     "end_time": "2020-03-29T02:44:23.569320Z",
     "start_time": "2020-03-29T02:44:23.560598Z"
    }
   },
   "outputs": [],
   "source": []
  },
  {
   "cell_type": "code",
   "execution_count": null,
   "metadata": {},
   "outputs": [],
   "source": []
  }
 ],
 "metadata": {
  "kernelspec": {
   "display_name": "Python 3",
   "language": "python",
   "name": "python3"
  },
  "language_info": {
   "codemirror_mode": {
    "name": "ipython",
    "version": 3
   },
   "file_extension": ".py",
   "mimetype": "text/x-python",
   "name": "python",
   "nbconvert_exporter": "python",
   "pygments_lexer": "ipython3",
   "version": "3.7.6"
  },
  "latex_envs": {
   "LaTeX_envs_menu_present": true,
   "autoclose": true,
   "autocomplete": true,
   "bibliofile": "biblio.bib",
   "cite_by": "apalike",
   "current_citInitial": 1,
   "eqLabelWithNumbers": true,
   "eqNumInitial": 1,
   "hotkeys": {
    "equation": "Ctrl-E",
    "itemize": "Ctrl-I"
   },
   "labels_anchors": false,
   "latex_user_defs": false,
   "report_style_numbering": true,
   "user_envs_cfg": false
  },
  "toc": {
   "base_numbering": 1,
   "nav_menu": {},
   "number_sections": true,
   "sideBar": true,
   "skip_h1_title": false,
   "title_cell": "Table of Contents",
   "title_sidebar": "Contents",
   "toc_cell": false,
   "toc_position": {},
   "toc_section_display": true,
   "toc_window_display": false
  },
  "varInspector": {
   "cols": {
    "lenName": 16,
    "lenType": 16,
    "lenVar": 40
   },
   "kernels_config": {
    "python": {
     "delete_cmd_postfix": "",
     "delete_cmd_prefix": "del ",
     "library": "var_list.py",
     "varRefreshCmd": "print(var_dic_list())"
    },
    "r": {
     "delete_cmd_postfix": ") ",
     "delete_cmd_prefix": "rm(",
     "library": "var_list.r",
     "varRefreshCmd": "cat(var_dic_list()) "
    }
   },
   "types_to_exclude": [
    "module",
    "function",
    "builtin_function_or_method",
    "instance",
    "_Feature"
   ],
   "window_display": false
  }
 },
 "nbformat": 4,
 "nbformat_minor": 4
}
